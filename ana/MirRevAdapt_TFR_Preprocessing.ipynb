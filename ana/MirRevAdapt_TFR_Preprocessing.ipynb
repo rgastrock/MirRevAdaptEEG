{
 "cells": [
  {
   "cell_type": "code",
   "execution_count": null,
   "id": "507decf5",
   "metadata": {},
   "outputs": [],
   "source": [
    "#clear all\n",
    "%reset -f\n",
    "\n",
    "#import packages\n",
    "import numpy as np\n",
    "import sys\n",
    "import os\n",
    "import pandas as pd\n",
    "import mne\n",
    "import matplotlib\n",
    "from sklearn.utils import resample\n",
    "from mne_icalabel import label_components\n",
    "\n",
    "root = 'F:/Documents/Science/MirRevAdaptEEG'\n",
    "participants = list(range(0,32))\n",
    "#specify which erp we are analyzing\n",
    "erps = 'lrp'\n",
    "\n",
    "#pop up plots as separate window & interactive\n",
    "%matplotlib qt\n",
    "matplotlib.pyplot.close('all')"
   ]
  },
  {
   "cell_type": "code",
   "execution_count": null,
   "id": "2ee08c0b",
   "metadata": {},
   "outputs": [],
   "source": [
    "#setting up path/ directory\n",
    "#access specific file for specific participant\n",
    "def load_data_array(pp_num, root_dir, erp_path):\n",
    "\n",
    "    root_directory = root_dir\n",
    "    data_directory = os.path.join(root_directory, 'data/eeg/')\n",
    "    id_directory = os.path.join(data_directory, 'p%03d/' % pp_num)\n",
    "    pp_directory = os.path.join(id_directory, erp_path)\n",
    "    filename = os.path.join(pp_directory, 'mra_p%03d_run0-epo.fif' % pp_num)\n",
    "\n",
    "    epochs = mne.read_epochs(filename)\n",
    "    ndat = epochs.get_data()\n",
    "\n",
    "    return ndat, pp_directory"
   ]
  },
  {
   "cell_type": "code",
   "execution_count": null,
   "id": "ecd4841a",
   "metadata": {},
   "outputs": [],
   "source": [
    "#set up parameters for time-frequency morlet convolution\n",
    "def set_tfr_params(l_freq = 6, h_freq = 35, num_freq = 50, cycle = 6, samp_rate = 200):\n",
    "    freqs = np.logspace(*np.log10([l_freq, h_freq]), num = num_freq)\n",
    "    n_cycles = cycle\n",
    "    sfreq = samp_rate\n",
    "    \n",
    "    return freqs, n_cycles, sfreq"
   ]
  },
  {
   "cell_type": "code",
   "execution_count": null,
   "id": "f6361f4e",
   "metadata": {},
   "outputs": [],
   "source": [
    "#save tfr'd data\n",
    "def output_tfr_array(pp_num, data, ppdir, output):\n",
    "    # Save the cleaned data :)\n",
    "    out_fname = os.path.join(ppdir, 'p%03d_%s_tfr_array' % (pp_num, output))\n",
    "    np.save(out_fname, data, allow_pickle = False)"
   ]
  },
  {
   "cell_type": "code",
   "execution_count": null,
   "id": "4a05e239",
   "metadata": {},
   "outputs": [],
   "source": [
    "#create array (.npy files) separately for power and phase of tfr'd data, such that each participant will have two files\n",
    "# repeat for other time-locked event (coded as erps) interested in: LRP, FRN\n",
    "for pp in participants:\n",
    "    data, ppdir = load_data_array(pp_num = pp, root_dir = root, erp_path = erps)\n",
    "    freqs, n_cycles, sfreq = set_tfr_params()\n",
    "    outputtypes = ['power', 'phase']\n",
    "\n",
    "    for otype in range(0, len(outputtypes)):\n",
    "        tf_dat = mne.time_frequency.tfr_array_morlet(\n",
    "            data,\n",
    "            sfreq=sfreq,\n",
    "            freqs=freqs,\n",
    "            n_cycles=n_cycles,\n",
    "            use_fft=False,\n",
    "            decim=1,\n",
    "            n_jobs=None,\n",
    "            output = outputtypes[otype]\n",
    "        )\n",
    "    \n",
    "        output_tfr_array(pp, tf_dat, ppdir, output = outputtypes[otype])\n"
   ]
  },
  {
   "cell_type": "code",
   "execution_count": null,
   "id": "e7c7413a",
   "metadata": {},
   "outputs": [],
   "source": [
    "#out_fname = os.path.join(ppdir, 'p%03d_%s_tfr_array.npy' % (pp, 'phase'))\n",
    "#ab = np.load(out_fname)"
   ]
  }
 ],
 "metadata": {
  "kernelspec": {
   "display_name": "Python [conda env:mne]",
   "language": "python",
   "name": "conda-env-mne-py"
  },
  "language_info": {
   "codemirror_mode": {
    "name": "ipython",
    "version": 3
   },
   "file_extension": ".py",
   "mimetype": "text/x-python",
   "name": "python",
   "nbconvert_exporter": "python",
   "pygments_lexer": "ipython3",
   "version": "3.10.6"
  }
 },
 "nbformat": 4,
 "nbformat_minor": 5
}
