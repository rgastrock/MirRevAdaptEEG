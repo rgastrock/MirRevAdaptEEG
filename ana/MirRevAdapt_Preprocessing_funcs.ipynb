{
 "cells": [
  {
   "cell_type": "code",
   "execution_count": 1,
   "id": "017ff958",
   "metadata": {},
   "outputs": [],
   "source": [
    "#clear all\n",
    "%reset -f\n",
    "\n",
    "#import packages\n",
    "import numpy as np\n",
    "import time\n",
    "import sys\n",
    "import os\n",
    "import pandas as pd\n",
    "import mne\n",
    "import matplotlib\n",
    "from datetime import datetime\n",
    "from mne_icalabel import label_components\n",
    "\n",
    "#pop up plots as separate window & interactive\n",
    "%matplotlib qt\n",
    "matplotlib.pyplot.close('all')\n",
    "\n",
    "root = 'F:/Documents/Science/MirRevAdaptEEG'\n",
    "\n",
    "# Set the events\n",
    "event_dict = {\n",
    "        #trial triggers        \n",
    "        \"trial_onset\": 16138,\n",
    "        \"target_onset\": 16139,\n",
    "        \"go_target_onset\": 16140,\n",
    "        \"reach_onset\": 16141,\n",
    "        \"reach_end_feedback_onset\": 16142, #reach end is when step moves to 5, which is also onset for feedback\n",
    "        \"feedback_home\": 16143,\n",
    "        \"fixation_onset\": 16144,\n",
    "        #task triggers\n",
    "        \"task_rest\": 16148,\n",
    "        \"task_aligned\": 16149,\n",
    "        \"task_random0\": 16150,\n",
    "        \"task_rotation\": 16151,\n",
    "        \"task_washout0\": 16152,\n",
    "        \"task_random1\": 16153,\n",
    "        \"task_mirror\": 16154,\n",
    "        \"task_washout1\": 16155,\n",
    "        \"task_end\": 16156,\n",
    "        #target locations based on participant condition (only get 12 of below)\n",
    "        \"target_q1_hor_near\": 16158,\n",
    "        \"target_q1_hor_mid\": 16159,\n",
    "        \"target_q1_hor_far\": 16160,\n",
    "        \"target_q3_hor_near\": 16161,\n",
    "        \"target_q3_hor_mid\": 16162,\n",
    "        \"target_q3_hor_far\": 16163,\n",
    "        \"target_q1_ver_near\": 16164,\n",
    "        \"target_q1_ver_mid\": 16165,\n",
    "        \"target_q1_ver_far\": 16166,\n",
    "        \"target_q3_ver_near\": 16167,\n",
    "        \"target_q3_ver_mid\": 16168,\n",
    "        \"target_q3_ver_far\": 16169,\n",
    "\n",
    "        \"target_q2_hor_near\": 16178,\n",
    "        \"target_q2_hor_mid\": 16179,\n",
    "        \"target_q2_hor_far\": 16180,\n",
    "        \"target_q4_hor_near\": 16181,\n",
    "        \"target_q4_hor_mid\": 16182,\n",
    "        \"target_q4_hor_far\": 16183,\n",
    "        \"target_q2_ver_near\": 16184,\n",
    "        \"target_q2_ver_mid\": 16185,\n",
    "        \"target_q2_ver_far\": 16186,\n",
    "        \"target_q4_ver_near\": 16187,\n",
    "        \"target_q4_ver_mid\": 16188,\n",
    "        \"target_q4_ver_far\": 16189,\n",
    "\n",
    "        #extra target info triggers come up in recording\n",
    "        \"targetinfo_1\": 16175,\n",
    "        \"targetinfo_2\": 16190,\n",
    "        \"targetinfo_3\": 16191\n",
    "}"
   ]
  },
  {
   "cell_type": "code",
   "execution_count": 2,
   "id": "2ee08c0b",
   "metadata": {},
   "outputs": [],
   "source": [
    "#setting up path/ directory\n",
    "\n",
    "#access specific file for specific participant\n",
    "def load_bdf(pp_num, root_dir):\n",
    "\n",
    "    root_directory = root_dir\n",
    "    data_directory = os.path.join(root_directory, 'data/eeg/')\n",
    "    pp_directory = os.path.join(data_directory, 'p%03d/' % pp_num)\n",
    "    filename = os.path.join(pp_directory, 'mra_p%03d_run0.bdf' % pp_num)\n",
    "\n",
    "    data = mne.io.read_raw_bdf(filename, preload = True, exclude = ['EXG3', 'EXG4', 'EXG5', 'EXG6', 'EXG7', 'EXG8'])\n",
    "    return data, pp_directory"
   ]
  },
  {
   "cell_type": "code",
   "execution_count": 3,
   "id": "d0f8a158",
   "metadata": {},
   "outputs": [],
   "source": [
    "def set_reference(pp_num, root_dir):\n",
    "    \n",
    "    data, pp_directory = load_bdf(pp_num, root_dir)\n",
    "    \n",
    "    #use mastoids as reference\n",
    "    data_ref = mne.io.Raw.set_eeg_reference(data, ref_channels = ['EXG1', 'EXG2'])\n",
    "\n",
    "    #drop reference electrodes from further analyses\n",
    "    data_ref.drop_channels(['EXG1', 'EXG2'])\n",
    "\n",
    "    #set montage\n",
    "    data_ref.set_montage('standard_1020')\n",
    "    \n",
    "    return data_ref"
   ]
  },
  {
   "cell_type": "code",
   "execution_count": 4,
   "id": "691d5562",
   "metadata": {},
   "outputs": [],
   "source": [
    "#set filter parameters\n",
    "\n",
    "def apply_filter(pp_num, root_dir, hcutoff, lcutoff, linefr):\n",
    "    \n",
    "    data = set_reference(pp_num, root_dir)\n",
    "    \n",
    "    line_freqs = linefr\n",
    "\n",
    "    #highpass at 0.1 removes slow wave drift\n",
    "    data_filt = data.filter(l_freq = hcutoff, h_freq= lcutoff)\n",
    "    data_filt = data_filt.notch_filter(line_freqs, filter_length='auto', phase='zero')\n",
    "\n",
    "    # plot density to see after filtering\n",
    "    # raw_filt.compute_psd(fmax=250).plot()\n",
    "    \n",
    "    return data_filt"
   ]
  },
  {
   "cell_type": "code",
   "execution_count": null,
   "id": "c2e7635f",
   "metadata": {},
   "outputs": [],
   "source": [
    "# # Epoch using target information (same as trial start)\n",
    "# # First epoch using event_dict. This will create an Epoch around all triggers in event_dict.\n",
    "# def get_epochs(data):\n",
    "\n",
    "#     targetinfo = [\"target_q1_hor_near\",\"target_q1_hor_mid\",\"target_q1_hor_far\",\"target_q3_hor_near\",\"target_q3_hor_mid\",\"target_q3_hor_far\",\"target_q1_ver_near\",\"target_q1_ver_mid\",\"target_q1_ver_far\",\"target_q3_ver_near\",\"target_q3_ver_mid\",\"target_q3_ver_far\",\"target_q2_hor_near\",\"target_q2_hor_mid\",\"target_q2_hor_far\",\"target_q4_hor_near\",\"target_q4_hor_mid\",\"target_q4_hor_far\",\"target_q2_ver_near\",\"target_q2_ver_mid\",\"target_q2_ver_far\",\"target_q4_ver_near\",\"target_q4_ver_mid\",\"target_q4_ver_far\",\"targetinfo_1\",\"targetinfo_2\",\"targetinfo_3\"]\n",
    "#     event_values = [event_dict[i] for i in targetinfo]\n",
    "#     epochs = mne.Epochs(data, events, event_id = event_values, on_missing = 'ignore', baseline = None, tmin=-2.5, tmax=10, preload = True)\n",
    "#     return epochs"
   ]
  },
  {
   "cell_type": "code",
   "execution_count": 5,
   "id": "b435d513",
   "metadata": {},
   "outputs": [],
   "source": [
    "# Epoch using feedback onset\n",
    "# First epoch using event_dict. This will create an Epoch around all triggers in event_dict.\n",
    "def get_epochs(pp_num, root_dir, hpass, lpass, linefreqs, trigger):\n",
    "    \n",
    "    data = apply_filter(pp_num, root_dir, hpass, lpass, linefreqs)\n",
    "    \n",
    "    events = mne.find_events(data, initial_event=False)\n",
    "    \n",
    "    #marker = [\"target_q1_hor_near\",\"target_q1_hor_mid\",\"target_q1_hor_far\",\"target_q3_hor_near\",\"target_q3_hor_mid\",\"target_q3_hor_far\",\"target_q1_ver_near\",\"target_q1_ver_mid\",\"target_q1_ver_far\",\"target_q3_ver_near\",\"target_q3_ver_mid\",\"target_q3_ver_far\",\"target_q2_hor_near\",\"target_q2_hor_mid\",\"target_q2_hor_far\",\"target_q4_hor_near\",\"target_q4_hor_mid\",\"target_q4_hor_far\",\"target_q2_ver_near\",\"target_q2_ver_mid\",\"target_q2_ver_far\",\"target_q4_ver_near\",\"target_q4_ver_mid\",\"target_q4_ver_far\",\"targetinfo_1\",\"targetinfo_2\",\"targetinfo_3\"]\n",
    "    marker = [trigger]\n",
    "    event_values = [event_dict[i] for i in marker]\n",
    "    \n",
    "    epochs = mne.Epochs(data, events, event_id = event_values, on_missing = 'ignore', baseline = None, tmin=-1.5, tmax=1.5, preload = True)\n",
    "    return epochs"
   ]
  },
  {
   "cell_type": "code",
   "execution_count": 6,
   "id": "10ee3718",
   "metadata": {},
   "outputs": [],
   "source": [
    "def fit_ICA(data, plot = False):\n",
    "    # Plot is true or false\n",
    "    # set up and fit the ICA\n",
    "    \n",
    "    ica = mne.preprocessing.ICA(random_state=97, max_iter=1000, method = 'infomax', fit_params=dict(extended=True))\n",
    "    ica.fit(data)\n",
    "    \n",
    "    #ICLabel to get automatic labels for components\n",
    "    iclabel = label_components(data, ica, method='iclabel')\n",
    "    \n",
    "    if plot == True:\n",
    "        ica.plot_sources(data, show_scrollbars=True, start = 0, stop = 1)\n",
    "    \n",
    "    return ica, iclabel"
   ]
  },
  {
   "cell_type": "code",
   "execution_count": 7,
   "id": "4f50c152",
   "metadata": {},
   "outputs": [],
   "source": [
    "def apply_ICA(threshold, iclabel, data_to_apply, ica, plot = False):\n",
    "\n",
    "    # Convert ICLabel results to data frame\n",
    "    IC_df = pd.DataFrame(data=iclabel)\n",
    "    # Get indices for ICs to remove\n",
    "    IC_exclude_idx = IC_df[(IC_df.y_pred_proba>threshold)&(IC_df.labels!='other')&(IC_df.labels!='brain')].index.values\n",
    "\n",
    "    # Mark the selected ICs for exclusion\n",
    "    ica.exclude = IC_exclude_idx\n",
    "    \n",
    "    # Apply the ICA solution to the original data (filtered at 0.1Hz) and save the solution to examine later.\n",
    "    ica.apply(data_to_apply)\n",
    "    \n",
    "    if plot == True:\n",
    "    # Plot the ICA-excluded Epoched data\n",
    "        data_to_fit.plot(events = events, n_epochs = 1, event_id = event_dict, event_color = 'red')\n",
    "    \n",
    "    return data_to_apply, IC_df"
   ]
  },
  {
   "cell_type": "code",
   "execution_count": 8,
   "id": "2b61011d",
   "metadata": {},
   "outputs": [],
   "source": [
    "def save_ICA(pp_num, IC_df, ica, ppdir, potential):\n",
    "    patherp = os.path.join(ppdir, potential)\n",
    "    is_exist = os.path.exists(patherp)\n",
    "    if not is_exist:\n",
    "        os.makedirs(patherp)\n",
    "    \n",
    "    # Save the ICA results \n",
    "    ica_filename = os.path.join(patherp, 'mra_p%03d_run0-ica.fif' % pp_num)\n",
    "    ica.save(ica_filename, overwrite = True)\n",
    "\n",
    "    # Save the iclabel output\n",
    "    df_filename = os.path.join(patherp, 'mra_p%03d_run0_IClabel.csv' % pp_num)\n",
    "    IC_df.to_csv(df_filename)\n",
    "\n",
    "# Uncomment if you want to read ica data back in.\n",
    "# read_ica = mne.preprocessing.read_ica(ica_filename)"
   ]
  },
  {
   "cell_type": "code",
   "execution_count": 9,
   "id": "513618a5",
   "metadata": {},
   "outputs": [],
   "source": [
    "def downsample(data_epoch, freq):\n",
    "\n",
    "    epochs_ds = data_epoch.resample(sfreq=freq)\n",
    "    #epochs_ds\n",
    "\n",
    "    #epochs_ds.plot(events=events, event_color='red')\n",
    "    #epochs_ds.compute_psd(fmax=50).plot()\n",
    "    \n",
    "    return epochs_ds"
   ]
  },
  {
   "cell_type": "code",
   "execution_count": 10,
   "id": "58acfb48",
   "metadata": {},
   "outputs": [],
   "source": [
    "def output_epochs(pp_num, data, ppdir, potential):\n",
    "    patherp = os.path.join(ppdir, potential)\n",
    "    is_exist = os.path.exists(patherp)\n",
    "    if not is_exist:\n",
    "        os.makedirs(patherp)\n",
    "    # Save the cleaned data :)\n",
    "    out_fname = os.path.join(patherp, 'mra_p%03d_run0-epo.fif' % pp_num)\n",
    "    data.save(out_fname, overwrite = True)"
   ]
  },
  {
   "cell_type": "code",
   "execution_count": 11,
   "id": "f54a8cb7",
   "metadata": {},
   "outputs": [],
   "source": [
    "def prepro_data(pp = range(0,32), linefreqs = (60, 120, 180, 240), hpass = 0.1, hpassICA = 1, lpass = 100, trigger = \"reach_onset\", potential = \"ern\", exc_prob = .8, dsfreq = 100):\n",
    "\n",
    "    for pp_idx in pp:\n",
    "        raw, pp_directory = load_bdf(pp_idx, root)\n",
    "        epoch_data = get_epochs(pp_idx, root, hpass, lpass, linefreqs, trigger)\n",
    "        epoch_ICA = get_epochs(pp_idx, root, hpassICA, lpass, linefreqs, trigger)\n",
    "    \n",
    "        ica_dat, labels = fit_ICA(epoch_ICA)\n",
    "        epochs, IC_export = apply_ICA(exc_prob, labels, epoch_data, ica_dat)\n",
    "        save_ICA(pp_idx, IC_export, ica_dat, pp_directory, potential)\n",
    "        epochs_ds = downsample(epochs, dsfreq)\n",
    "        output_epochs(pp_idx, epochs_ds, pp_directory, potential)\n",
    "        \n",
    "        #take note of time when one participant finishes\n",
    "        now = datetime.now()\n",
    "        timestamp_format = \"%Y-%m-%d %H-%M\"\n",
    "        timestamp_str = now.strftime(timestamp_format)\n",
    "        \n",
    "        patherp = os.path.join(pp_directory, potential)\n",
    "        with open( os.path.join(patherp, 'mra_p%03d_run0-time.txt' % pp_idx), \"w\") as file:\n",
    "            file.write(timestamp_str)\n",
    "    "
   ]
  },
  {
   "cell_type": "code",
   "execution_count": 12,
   "id": "cc653479",
   "metadata": {},
   "outputs": [
    {
     "name": "stdout",
     "output_type": "stream",
     "text": [
      "Extracting EDF parameters from F:\\Documents\\Science\\MirRevAdaptEEG\\data\\eeg\\p000\\mra_p000_run0.bdf...\n",
      "BDF file detected\n",
      "Setting channel info structure...\n",
      "Creating raw.info structure...\n",
      "Reading 0 ... 1561087  =      0.000 ...  3048.998 secs...\n",
      "Extracting EDF parameters from F:\\Documents\\Science\\MirRevAdaptEEG\\data\\eeg\\p000\\mra_p000_run0.bdf...\n",
      "BDF file detected\n",
      "Setting channel info structure...\n",
      "Creating raw.info structure...\n",
      "Reading 0 ... 1561087  =      0.000 ...  3048.998 secs...\n",
      "EEG channel type selected for re-referencing\n",
      "Applying a custom ('EEG',) reference.\n",
      "Filtering raw data in 1 contiguous segment\n",
      "Setting up band-pass filter from 0.1 - 1e+02 Hz\n",
      "\n",
      "FIR filter parameters\n",
      "---------------------\n",
      "Designing a one-pass, zero-phase, non-causal bandpass filter:\n",
      "- Windowed time-domain design (firwin) method\n",
      "- Hamming window with 0.0194 passband ripple and 53 dB stopband attenuation\n",
      "- Lower passband edge: 0.10\n",
      "- Lower transition bandwidth: 0.10 Hz (-6 dB cutoff frequency: 0.05 Hz)\n",
      "- Upper passband edge: 100.00 Hz\n",
      "- Upper transition bandwidth: 25.00 Hz (-6 dB cutoff frequency: 112.50 Hz)\n",
      "- Filter length: 16897 samples (33.002 sec)\n",
      "\n"
     ]
    },
    {
     "name": "stderr",
     "output_type": "stream",
     "text": [
      "[Parallel(n_jobs=1)]: Using backend SequentialBackend with 1 concurrent workers.\n",
      "[Parallel(n_jobs=1)]: Done   1 out of   1 | elapsed:    0.0s remaining:    0.0s\n",
      "[Parallel(n_jobs=1)]: Done   2 out of   2 | elapsed:    0.0s remaining:    0.0s\n",
      "[Parallel(n_jobs=1)]: Done   3 out of   3 | elapsed:    0.1s remaining:    0.0s\n",
      "[Parallel(n_jobs=1)]: Done   4 out of   4 | elapsed:    0.1s remaining:    0.0s\n"
     ]
    },
    {
     "name": "stdout",
     "output_type": "stream",
     "text": [
      "Setting up band-stop filter\n",
      "\n",
      "FIR filter parameters\n",
      "---------------------\n",
      "Designing a one-pass, zero-phase, non-causal bandstop filter:\n",
      "- Windowed time-domain design (firwin) method\n",
      "- Hamming window with 0.0194 passband ripple and 53 dB stopband attenuation\n",
      "- Lower transition bandwidth: 0.50 Hz\n",
      "- Upper transition bandwidth: 0.50 Hz\n",
      "- Filter length: 3381 samples (6.604 sec)\n",
      "\n"
     ]
    },
    {
     "name": "stderr",
     "output_type": "stream",
     "text": [
      "[Parallel(n_jobs=1)]: Done  64 out of  64 | elapsed:    3.4s finished\n",
      "[Parallel(n_jobs=1)]: Using backend SequentialBackend with 1 concurrent workers.\n",
      "[Parallel(n_jobs=1)]: Done   1 out of   1 | elapsed:    0.0s remaining:    0.0s\n",
      "[Parallel(n_jobs=1)]: Done   2 out of   2 | elapsed:    0.0s remaining:    0.0s\n",
      "[Parallel(n_jobs=1)]: Done   3 out of   3 | elapsed:    0.0s remaining:    0.0s\n",
      "[Parallel(n_jobs=1)]: Done   4 out of   4 | elapsed:    0.1s remaining:    0.0s\n"
     ]
    },
    {
     "name": "stdout",
     "output_type": "stream",
     "text": [
      "Trigger channel has a non-zero initial value of 81664 (consider using initial_event=True to detect this event)\n",
      "3000 events found\n",
      "Event IDs: [16138 16139 16140 16141 16142 16143 16144 16148 16149 16150 16151 16152\n",
      " 16153 16154 16155 16156 16158 16159 16160 16161 16162 16163 16164 16165\n",
      " 16166 16167 16168 16169 81664]\n",
      "Not setting metadata\n"
     ]
    },
    {
     "name": "stderr",
     "output_type": "stream",
     "text": [
      "[Parallel(n_jobs=1)]: Done  64 out of  64 | elapsed:    2.8s finished\n"
     ]
    },
    {
     "name": "stdout",
     "output_type": "stream",
     "text": [
      "420 matching events found\n",
      "No baseline correction applied\n",
      "0 projection items activated\n",
      "Using data from preloaded Raw for 420 events and 1537 original time points ...\n",
      "0 bad epochs dropped\n",
      "Extracting EDF parameters from F:\\Documents\\Science\\MirRevAdaptEEG\\data\\eeg\\p000\\mra_p000_run0.bdf...\n",
      "BDF file detected\n",
      "Setting channel info structure...\n",
      "Creating raw.info structure...\n",
      "Reading 0 ... 1561087  =      0.000 ...  3048.998 secs...\n",
      "EEG channel type selected for re-referencing\n",
      "Applying a custom ('EEG',) reference.\n",
      "Filtering raw data in 1 contiguous segment\n",
      "Setting up band-pass filter from 1 - 1e+02 Hz\n",
      "\n",
      "FIR filter parameters\n",
      "---------------------\n",
      "Designing a one-pass, zero-phase, non-causal bandpass filter:\n",
      "- Windowed time-domain design (firwin) method\n",
      "- Hamming window with 0.0194 passband ripple and 53 dB stopband attenuation\n",
      "- Lower passband edge: 1.00\n",
      "- Lower transition bandwidth: 1.00 Hz (-6 dB cutoff frequency: 0.50 Hz)\n",
      "- Upper passband edge: 100.00 Hz\n",
      "- Upper transition bandwidth: 25.00 Hz (-6 dB cutoff frequency: 112.50 Hz)\n",
      "- Filter length: 1691 samples (3.303 sec)\n",
      "\n"
     ]
    },
    {
     "name": "stderr",
     "output_type": "stream",
     "text": [
      "[Parallel(n_jobs=1)]: Using backend SequentialBackend with 1 concurrent workers.\n",
      "[Parallel(n_jobs=1)]: Done   1 out of   1 | elapsed:    0.0s remaining:    0.0s\n",
      "[Parallel(n_jobs=1)]: Done   2 out of   2 | elapsed:    0.0s remaining:    0.0s\n",
      "[Parallel(n_jobs=1)]: Done   3 out of   3 | elapsed:    0.0s remaining:    0.0s\n",
      "[Parallel(n_jobs=1)]: Done   4 out of   4 | elapsed:    0.1s remaining:    0.0s\n"
     ]
    },
    {
     "name": "stdout",
     "output_type": "stream",
     "text": [
      "Setting up band-stop filter\n",
      "\n",
      "FIR filter parameters\n",
      "---------------------\n",
      "Designing a one-pass, zero-phase, non-causal bandstop filter:\n",
      "- Windowed time-domain design (firwin) method\n",
      "- Hamming window with 0.0194 passband ripple and 53 dB stopband attenuation\n",
      "- Lower transition bandwidth: 0.50 Hz\n",
      "- Upper transition bandwidth: 0.50 Hz\n",
      "- Filter length: 3381 samples (6.604 sec)\n",
      "\n"
     ]
    },
    {
     "name": "stderr",
     "output_type": "stream",
     "text": [
      "[Parallel(n_jobs=1)]: Done  64 out of  64 | elapsed:    2.8s finished\n",
      "[Parallel(n_jobs=1)]: Using backend SequentialBackend with 1 concurrent workers.\n",
      "[Parallel(n_jobs=1)]: Done   1 out of   1 | elapsed:    0.0s remaining:    0.0s\n",
      "[Parallel(n_jobs=1)]: Done   2 out of   2 | elapsed:    0.0s remaining:    0.0s\n",
      "[Parallel(n_jobs=1)]: Done   3 out of   3 | elapsed:    0.0s remaining:    0.0s\n",
      "[Parallel(n_jobs=1)]: Done   4 out of   4 | elapsed:    0.1s remaining:    0.0s\n"
     ]
    },
    {
     "name": "stdout",
     "output_type": "stream",
     "text": [
      "Trigger channel has a non-zero initial value of 81664 (consider using initial_event=True to detect this event)\n",
      "3000 events found\n",
      "Event IDs: [16138 16139 16140 16141 16142 16143 16144 16148 16149 16150 16151 16152\n",
      " 16153 16154 16155 16156 16158 16159 16160 16161 16162 16163 16164 16165\n",
      " 16166 16167 16168 16169 81664]\n",
      "Not setting metadata\n"
     ]
    },
    {
     "name": "stderr",
     "output_type": "stream",
     "text": [
      "[Parallel(n_jobs=1)]: Done  64 out of  64 | elapsed:    3.3s finished\n"
     ]
    },
    {
     "name": "stdout",
     "output_type": "stream",
     "text": [
      "420 matching events found\n",
      "No baseline correction applied\n",
      "0 projection items activated\n",
      "Using data from preloaded Raw for 420 events and 1537 original time points ...\n",
      "0 bad epochs dropped\n",
      "Fitting ICA to data using 64 channels (please be patient, this may take a while)\n",
      "Selecting by non-zero PCA components: 64 components\n",
      "Computing Extended Infomax ICA\n",
      "Fitting ICA took 49.7s.\n",
      "Applying ICA to Epochs instance\n",
      "    Transforming to ICA space (64 components)\n",
      "    Zeroing out 6 ICA components\n",
      "    Projecting back using 64 PCA components\n",
      "Writing ICA solution to F:\\Documents\\Science\\MirRevAdaptEEG\\data\\eeg\\p000\\lrp\\mra_p000_run0-ica.fif...\n"
     ]
    }
   ],
   "source": [
    "prepro_data()"
   ]
  }
 ],
 "metadata": {
  "kernelspec": {
   "display_name": "Python [conda env:mne]",
   "language": "python",
   "name": "conda-env-mne-py"
  },
  "language_info": {
   "codemirror_mode": {
    "name": "ipython",
    "version": 3
   },
   "file_extension": ".py",
   "mimetype": "text/x-python",
   "name": "python",
   "nbconvert_exporter": "python",
   "pygments_lexer": "ipython3",
   "version": "3.10.6"
  }
 },
 "nbformat": 4,
 "nbformat_minor": 5
}
