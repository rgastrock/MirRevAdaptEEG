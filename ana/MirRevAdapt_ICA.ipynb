{
 "cells": [
  {
   "cell_type": "code",
   "execution_count": 29,
   "id": "507decf5",
   "metadata": {},
   "outputs": [],
   "source": [
    "#clear all\n",
    "%reset -f\n",
    "\n",
    "#import packages\n",
    "import numpy as np\n",
    "import sys\n",
    "import os\n",
    "import pandas as pd\n",
    "import mne\n",
    "import matplotlib\n",
    "from sklearn.utils import resample\n",
    "from mne_icalabel import label_components\n",
    "\n",
    "root = 'F:/Documents/Science/MirRevAdaptEEG'\n",
    "participants = list(range(30,31))\n",
    "#specify which erp we are analyzing\n",
    "erps = 'frn'\n",
    "\n",
    "#pop up plots as separate window & interactive\n",
    "%matplotlib qt\n",
    "matplotlib.pyplot.close('all')"
   ]
  },
  {
   "cell_type": "code",
   "execution_count": 30,
   "id": "2ee08c0b",
   "metadata": {},
   "outputs": [],
   "source": [
    "#setting up path/ directory\n",
    "#access specific file for specific participant\n",
    "def load_epochs(pp_num, root_dir, erp_path):\n",
    "\n",
    "    root_directory = root_dir\n",
    "    data_directory = os.path.join(root_directory, 'data/eeg/')\n",
    "    id_directory = os.path.join(data_directory, 'p%03d/' % pp_num)\n",
    "    pp_directory = os.path.join(id_directory, erp_path)\n",
    "    filename = os.path.join(pp_directory, 'mra_p%03d_run0-epo.fif' % pp_num)\n",
    "\n",
    "    epochs = mne.read_epochs(filename)\n",
    "\n",
    "    return epochs, pp_directory"
   ]
  },
  {
   "cell_type": "code",
   "execution_count": null,
   "id": "1971a729",
   "metadata": {},
   "outputs": [],
   "source": [
    "l_cutoff = 40\n",
    "all_epochs = []\n",
    "for pp in participants:\n",
    "    data, ppdir = load_epochs(pp, root_dir = root, erp_path = erps)\n",
    "    data = data.filter(l_freq= None, h_freq=l_cutoff)\n",
    "    all_epochs.append(data)\n",
    "    \n",
    "ndata = mne.concatenate_epochs(all_epochs)\n",
    "ndata\n",
    "ica = mne.preprocessing.ICA(n_components=15, method=\"fastica\", max_iter=\"auto\").fit(ndata)\n",
    "   \n",
    "\n"
   ]
  },
  {
   "cell_type": "code",
   "execution_count": null,
   "id": "f51fc3a1",
   "metadata": {
    "scrolled": true
   },
   "outputs": [],
   "source": [
    "ica.plot_properties(data)"
   ]
  },
  {
   "cell_type": "code",
   "execution_count": 4,
   "id": "9fdd2886",
   "metadata": {},
   "outputs": [
    {
     "data": {
      "text/plain": [
       "[<MNEFigure size 975x731 with 15 Axes>]"
      ]
     },
     "execution_count": 4,
     "metadata": {},
     "output_type": "execute_result"
    }
   ],
   "source": [
    "ica.plot_components()"
   ]
  },
  {
   "cell_type": "code",
   "execution_count": 32,
   "id": "e8ab330c",
   "metadata": {},
   "outputs": [
    {
     "name": "stdout",
     "output_type": "stream",
     "text": [
      "Fraction of variance explained by all components: {'eeg': 0.9670897924025955}\n",
      "Fraction of variance explained by component 0: {'eeg': 0.1735996453344968}\n",
      "Fraction of variance explained by component 1: {'eeg': 0.1628483410543904}\n",
      "Fraction of variance explained by component 2: {'eeg': 0.16685423913120023}\n",
      "Fraction of variance explained by component 3: {'eeg': 0.1013262672943428}\n",
      "Fraction of variance explained by component 4: {'eeg': 0.056654373540265146}\n"
     ]
    }
   ],
   "source": [
    "explained_var_ratio = ica.get_explained_variance_ratio(data, ch_type=\"eeg\")\n",
    "print(f\"Fraction of variance explained by all components: \" f\"{explained_var_ratio}\")\n",
    "explained_var_ratio = ica.get_explained_variance_ratio(data, components=[0], ch_type=\"eeg\")\n",
    "print(f\"Fraction of variance explained by component 0: \" f\"{explained_var_ratio}\")\n",
    "explained_var_ratio = ica.get_explained_variance_ratio(data, components=[1], ch_type=\"eeg\")\n",
    "print(f\"Fraction of variance explained by component 1: \" f\"{explained_var_ratio}\")\n",
    "explained_var_ratio = ica.get_explained_variance_ratio(data, components=[2], ch_type=\"eeg\")\n",
    "print(f\"Fraction of variance explained by component 2: \" f\"{explained_var_ratio}\")\n",
    "explained_var_ratio = ica.get_explained_variance_ratio(data, components=[3], ch_type=\"eeg\")\n",
    "print(f\"Fraction of variance explained by component 3: \" f\"{explained_var_ratio}\")\n",
    "explained_var_ratio = ica.get_explained_variance_ratio(data, components=[4], ch_type=\"eeg\")\n",
    "print(f\"Fraction of variance explained by component 4: \" f\"{explained_var_ratio}\")"
   ]
  },
  {
   "cell_type": "code",
   "execution_count": 31,
   "id": "ed53add0",
   "metadata": {},
   "outputs": [
    {
     "name": "stdout",
     "output_type": "stream",
     "text": [
      "Reading F:\\Documents\\Science\\MirRevAdaptEEG\\data\\eeg\\p030\\frn\\mra_p030_run0-epo.fif ...\n",
      "    Found the data of interest:\n",
      "        t =   -2000.00 ...    1995.00 ms\n",
      "        0 CTF compensation matrices available\n",
      "Not setting metadata\n",
      "420 matching events found\n",
      "No baseline correction applied\n",
      "0 projection items activated\n",
      "Setting up low-pass filter at 40 Hz\n",
      "\n",
      "FIR filter parameters\n",
      "---------------------\n",
      "Designing a one-pass, zero-phase, non-causal lowpass filter:\n",
      "- Windowed time-domain design (firwin) method\n",
      "- Hamming window with 0.0194 passband ripple and 53 dB stopband attenuation\n",
      "- Upper passband edge: 40.00 Hz\n",
      "- Upper transition bandwidth: 10.00 Hz (-6 dB cutoff frequency: 45.00 Hz)\n",
      "- Filter length: 67 samples (0.335 sec)\n",
      "\n"
     ]
    },
    {
     "name": "stderr",
     "output_type": "stream",
     "text": [
      "[Parallel(n_jobs=1)]: Using backend SequentialBackend with 1 concurrent workers.\n",
      "[Parallel(n_jobs=1)]: Done   1 out of   1 | elapsed:    0.0s remaining:    0.0s\n",
      "[Parallel(n_jobs=1)]: Done   2 out of   2 | elapsed:    0.0s remaining:    0.0s\n",
      "[Parallel(n_jobs=1)]: Done   3 out of   3 | elapsed:    0.0s remaining:    0.0s\n",
      "[Parallel(n_jobs=1)]: Done   4 out of   4 | elapsed:    0.0s remaining:    0.0s\n"
     ]
    },
    {
     "name": "stdout",
     "output_type": "stream",
     "text": [
      "Fitting ICA to data using 64 channels (please be patient, this may take a while)\n"
     ]
    },
    {
     "name": "stderr",
     "output_type": "stream",
     "text": [
      "[Parallel(n_jobs=1)]: Done 26880 out of 26880 | elapsed:    4.2s finished\n"
     ]
    },
    {
     "name": "stdout",
     "output_type": "stream",
     "text": [
      "Selecting by number: 15 components\n",
      "Fitting ICA took 6.1s.\n",
      "    Using multitaper spectrum estimation with 7 DPSS windows\n",
      "Not setting metadata\n",
      "420 matching events found\n",
      "No baseline correction applied\n",
      "0 projection items activated\n",
      "Not setting metadata\n",
      "420 matching events found\n",
      "No baseline correction applied\n",
      "0 projection items activated\n",
      "Not setting metadata\n",
      "420 matching events found\n",
      "No baseline correction applied\n",
      "0 projection items activated\n",
      "Not setting metadata\n",
      "420 matching events found\n",
      "No baseline correction applied\n",
      "0 projection items activated\n",
      "Not setting metadata\n",
      "420 matching events found\n",
      "No baseline correction applied\n",
      "0 projection items activated\n"
     ]
    }
   ],
   "source": [
    "# plot ICAs for each participant\n",
    "l_cutoff = 40\n",
    "\n",
    "for pp in participants:\n",
    "    data, ppdir = load_epochs(pp, root_dir = root, erp_path = erps)\n",
    "    data = data.filter(l_freq= None, h_freq=l_cutoff)\n",
    "    ica = mne.preprocessing.ICA(n_components=15, method=\"fastica\", max_iter=\"auto\").fit(data)\n",
    "    ica.plot_properties(data)"
   ]
  }
 ],
 "metadata": {
  "kernelspec": {
   "display_name": "Python [conda env:mne]",
   "language": "python",
   "name": "conda-env-mne-py"
  },
  "language_info": {
   "codemirror_mode": {
    "name": "ipython",
    "version": 3
   },
   "file_extension": ".py",
   "mimetype": "text/x-python",
   "name": "python",
   "nbconvert_exporter": "python",
   "pygments_lexer": "ipython3",
   "version": "3.10.6"
  }
 },
 "nbformat": 4,
 "nbformat_minor": 5
}
