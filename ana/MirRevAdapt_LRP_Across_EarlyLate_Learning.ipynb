{
 "cells": [
  {
   "cell_type": "code",
   "execution_count": 1,
   "id": "507decf5",
   "metadata": {},
   "outputs": [],
   "source": [
    "#clear all\n",
    "%reset -f\n",
    "\n",
    "#import packages\n",
    "import numpy as np\n",
    "import sys\n",
    "import os\n",
    "import pandas as pd\n",
    "import mne\n",
    "import matplotlib\n",
    "from sklearn.utils import resample\n",
    "from mne_icalabel import label_components\n",
    "\n",
    "root = 'F:/Documents/Science/MirRevAdaptEEG'\n",
    "participants = list(range(0,32))\n",
    "#specify which erp we are analyzing\n",
    "erps = 'lrp'\n",
    "\n",
    "#pop up plots as separate window & interactive\n",
    "%matplotlib qt\n",
    "matplotlib.pyplot.close('all')"
   ]
  },
  {
   "cell_type": "code",
   "execution_count": 2,
   "id": "2ee08c0b",
   "metadata": {},
   "outputs": [],
   "source": [
    "#setting up path/ directory\n",
    "#access specific file for specific participant\n",
    "def load_epochs(pp_num, root_dir, erp_path):\n",
    "\n",
    "    root_directory = root_dir\n",
    "    data_directory = os.path.join(root_directory, 'data/eeg/')\n",
    "    id_directory = os.path.join(data_directory, 'p%03d/' % pp_num)\n",
    "    pp_directory = os.path.join(id_directory, erp_path)\n",
    "    filename = os.path.join(pp_directory, 'mra_p%03d_run0-epo.fif' % pp_num)\n",
    "\n",
    "    epochs = mne.read_epochs(filename)\n",
    "    #baseline for each trial\n",
    "    if erp_path == 'frn':\n",
    "        epochs = epochs.apply_baseline(baseline = (-1.5, -1.2))\n",
    "    elif erp_path == 'lrp':\n",
    "        epochs = epochs.apply_baseline(baseline = (-1.3, -1.0))\n",
    "\n",
    "    return epochs, pp_directory"
   ]
  },
  {
   "cell_type": "code",
   "execution_count": 3,
   "id": "73cf1ed9",
   "metadata": {},
   "outputs": [],
   "source": [
    "def direction_index(task, direction, pp):\n",
    "    if task == 'aln':\n",
    "        df = pd.read_csv(r'F:\\Documents\\Science\\MirRevAdaptEEG\\data\\aln_MovementWorkspace_direction.csv')\n",
    "    elif task == 'rdmrot':\n",
    "        df = pd.read_csv(r'F:\\Documents\\Science\\MirRevAdaptEEG\\data\\rdmrot_MovementWorkspace_direction.csv')\n",
    "    elif task == 'rdmmir':\n",
    "        df = pd.read_csv(r'F:\\Documents\\Science\\MirRevAdaptEEG\\data\\rdmmir_MovementWorkspace_direction.csv')\n",
    "    elif task == 'rot':\n",
    "        df = pd.read_csv(r'F:\\Documents\\Science\\MirRevAdaptEEG\\data\\rot_MovementWorkspace_direction.csv')\n",
    "    elif task == 'mir':\n",
    "        df = pd.read_csv(r'F:\\Documents\\Science\\MirRevAdaptEEG\\data\\mir_MovementWorkspace_direction.csv')\n",
    "    \n",
    "    ppdata = list(df.iloc[:,pp+1])\n",
    "\n",
    "    index = [i for i,v in enumerate(ppdata) if direction == v]\n",
    "\n",
    "    numtrials = len(index)\n",
    "    \n",
    "    return index, numtrials"
   ]
  },
  {
   "cell_type": "code",
   "execution_count": 4,
   "id": "aa120188",
   "metadata": {},
   "outputs": [],
   "source": [
    "def trial_list_rdm(task, pp, index):\n",
    "    df = pd.read_csv(r'F:\\Documents\\Science\\MirRevAdaptEEG\\data\\eeg\\p%03d\\%s\\mra_p%03d_tasktrigindex.csv' % (pp, erps, pp))\n",
    "    \n",
    "    #even pp numbers would experience rotation first (need random before this)\n",
    "    #need to also take into account missing triggers from previous tasks\n",
    "    if pp % 2 == 0:\n",
    "        if task == 'rdmrot':\n",
    "            #get trial after first task (trial 48 to 95, 234 to 281)\n",
    "            tasksdf = df[0:96]\n",
    "            subtasksdf = tasksdf.loc[tasksdf['tasktrig'] == 16150]\n",
    "            triallist = []\n",
    "            for i in index:\n",
    "                ndat = subtasksdf.loc[subtasksdf['trialno'] == i]\n",
    "                nint = int(ndat['trigidx'])\n",
    "                if nint == 1:\n",
    "                    trial = int(ndat['ctrial'])\n",
    "                    triallist.append(trial)\n",
    "                    \n",
    "        elif task == 'rdmmir':\n",
    "            #get trial after first task (trial 48 to 95)\n",
    "            tasksdf = df[0:282]\n",
    "            subtasksdf = tasksdf.loc[tasksdf['tasktrig'] == 16153]\n",
    "            triallist = []\n",
    "            for i in index:\n",
    "                ndat = subtasksdf.loc[subtasksdf['trialno'] == i]\n",
    "                nint = int(ndat['trigidx'])\n",
    "                if nint == 1:\n",
    "                    trial = int(ndat['ctrial'])\n",
    "                    triallist.append(trial)\n",
    "            \n",
    "    elif pp % 2 == 1:   \n",
    "        if task == 'rdmrot':\n",
    "            #get trial after first five tasks (trial 234 to 281)\n",
    "            tasksdf = df[0:282]\n",
    "            subtasksdf = tasksdf.loc[tasksdf['tasktrig'] == 16153]\n",
    "            triallist = []\n",
    "            for i in index:\n",
    "                ndat = subtasksdf.loc[subtasksdf['trialno'] == i]\n",
    "                nint = int(ndat['trigidx'])\n",
    "                if nint == 1:\n",
    "                    trial = int(ndat['ctrial'])\n",
    "                    triallist.append(trial)\n",
    "            \n",
    "        elif task == 'rdmmir':\n",
    "            #get trial after first task (trial 48 to 95)\n",
    "            tasksdf = df[0:96]\n",
    "            subtasksdf = tasksdf.loc[tasksdf['tasktrig'] == 16150]\n",
    "            triallist = []\n",
    "            for i in index:\n",
    "                ndat = subtasksdf.loc[subtasksdf['trialno'] == i]\n",
    "                nint = int(ndat['trigidx'])\n",
    "                if nint == 1:\n",
    "                    trial = int(ndat['ctrial'])\n",
    "                    triallist.append(trial)\n",
    "\n",
    "    \n",
    "    return(triallist)"
   ]
  },
  {
   "cell_type": "code",
   "execution_count": 5,
   "id": "b7237112",
   "metadata": {},
   "outputs": [],
   "source": [
    "#get matching trials from eeg data, where we account for missing triggers\n",
    "def epoch_trials(task, pp, epochs, index):\n",
    "\n",
    "    df = pd.read_csv(r'F:\\Documents\\Science\\MirRevAdaptEEG\\data\\eeg\\p%03d\\%s\\mra_p%03d_tasktrigindex.csv' % (pp, erps, pp))\n",
    "    \n",
    "    if task == 'aln':\n",
    "        #get trial numbers where tasktrig is 16149 and trigidx is 1\n",
    "        tasksdf = df[0:48]\n",
    "        subtasksdf = tasksdf.loc[tasksdf['tasktrig'] == 16149]\n",
    "        triallist = []\n",
    "        for i in index:\n",
    "            ndat = subtasksdf.loc[subtasksdf['trialno'] == i]\n",
    "            nint = int(ndat['trigidx'])\n",
    "            if nint == 1:\n",
    "                trial = int(ndat['ctrial'])\n",
    "                triallist.append(trial)\n",
    "\n",
    "        epochs = epochs[triallist]\n",
    "    \n",
    "    #for the other tasks, the order depends on their pp number\n",
    "    #even pp numbers would experience rotation first (need random before this)\n",
    "    #need to also take into account missing triggers from previous tasks\n",
    "    if pp % 2 == 0:\n",
    "        if task == 'rot':\n",
    "            #rot trials are after first two tasks (trial 96 to 185)\n",
    "            tasksdf = df[0:186]\n",
    "            subtasksdf = tasksdf.loc[tasksdf['tasktrig'] == 16151]\n",
    "            triallist = []\n",
    "            for i in index:\n",
    "                ndat = subtasksdf.loc[subtasksdf['trialno'] == i]\n",
    "                nint = int(ndat['trigidx'])\n",
    "                if nint == 1:\n",
    "                    trial = int(ndat['ctrial'])\n",
    "                    triallist.append(trial)\n",
    "\n",
    "            epochs = epochs[triallist]\n",
    "      \n",
    "        elif task == 'mir':\n",
    "            #get trial after first task (trial 282 to 371)\n",
    "            tasksdf = df[0:372]\n",
    "            subtasksdf = tasksdf.loc[tasksdf['tasktrig'] == 16154]\n",
    "            triallist = []\n",
    "            for i in index:\n",
    "                ndat = subtasksdf.loc[subtasksdf['trialno'] == i]\n",
    "                nint = int(ndat['trigidx'])\n",
    "                if nint == 1:\n",
    "                    trial = int(ndat['ctrial'])\n",
    "                    triallist.append(trial)\n",
    "\n",
    "            epochs = epochs[triallist]\n",
    "            \n",
    "    elif pp % 2 == 1:\n",
    "        if task == 'rot':\n",
    "            #get trial after first five tasks (trial 282 to 371)\n",
    "            tasksdf = df[0:372]\n",
    "            subtasksdf = tasksdf.loc[tasksdf['tasktrig'] == 16151]\n",
    "            triallist = []\n",
    "            for i in index:\n",
    "                ndat = subtasksdf.loc[subtasksdf['trialno'] == i]\n",
    "                nint = int(ndat['trigidx'])\n",
    "                if nint == 1:\n",
    "                    trial = int(ndat['ctrial'])\n",
    "                    triallist.append(trial)\n",
    "\n",
    "            epochs = epochs[triallist]\n",
    "\n",
    "        elif task == 'mir':\n",
    "            #get trial after first five tasks (trial 96 to 185)\n",
    "            tasksdf = df[0:186]\n",
    "            subtasksdf = tasksdf.loc[tasksdf['tasktrig'] == 16154]\n",
    "            triallist = []\n",
    "            for i in index:\n",
    "                ndat = subtasksdf.loc[subtasksdf['trialno'] == i]\n",
    "                nint = int(ndat['trigidx'])\n",
    "                if nint == 1:\n",
    "                    trial = int(ndat['ctrial'])\n",
    "                    triallist.append(trial)\n",
    "\n",
    "            epochs = epochs[triallist]\n",
    "    \n",
    "    return(epochs)"
   ]
  },
  {
   "cell_type": "code",
   "execution_count": 6,
   "id": "f6361f4e",
   "metadata": {},
   "outputs": [],
   "source": [
    "#save epochs\n",
    "def output_condition_epochs(pp_num, data, ppdir, condname, task, training):\n",
    "    # Save the cleaned data :)\n",
    "    out_fname = os.path.join(ppdir, 'p%03d_EarlyLate_%s_%s_block%s-epo.fif' % (pp_num, condname, task, training))\n",
    "    data.save(out_fname, overwrite = True)"
   ]
  },
  {
   "cell_type": "code",
   "execution_count": 7,
   "id": "ace354b8",
   "metadata": {},
   "outputs": [],
   "source": [
    "#save as an evoked object\n",
    "def output_condition_evoked(pp_num, data, ppdir, condname, task, training):\n",
    "    evoked = data.average()\n",
    "    out_fname = os.path.join(ppdir, 'p%03d_EarlyLate_%s_%s_block%s-ave.fif' % (pp_num, condname, task, training))\n",
    "    evoked.save(out_fname, overwrite = True)"
   ]
  },
  {
   "cell_type": "code",
   "execution_count": 8,
   "id": "a164b297",
   "metadata": {},
   "outputs": [
    {
     "name": "stdout",
     "output_type": "stream",
     "text": [
      "Reading F:\\Documents\\Science\\MirRevAdaptEEG\\data\\eeg\\p000\\lrp\\mra_p000_run0-epo.fif ...\n",
      "    Found the data of interest:\n",
      "        t =   -2000.00 ...    1995.00 ms\n",
      "        0 CTF compensation matrices available\n",
      "Not setting metadata\n",
      "420 matching events found\n",
      "No baseline correction applied\n",
      "0 projection items activated\n",
      "Applying baseline correction (mode: mean)\n",
      "Overwriting existing file.\n",
      "Setting up low-pass filter at 30 Hz\n",
      "\n",
      "FIR filter parameters\n",
      "---------------------\n",
      "Designing a one-pass, zero-phase, non-causal lowpass filter:\n",
      "- Windowed time-domain design (firwin) method\n",
      "- Hamming window with 0.0194 passband ripple and 53 dB stopband attenuation\n",
      "- Upper passband edge: 30.00 Hz\n",
      "- Upper transition bandwidth: 7.50 Hz (-6 dB cutoff frequency: 33.75 Hz)\n",
      "- Filter length: 89 samples (0.445 sec)\n",
      "\n"
     ]
    },
    {
     "name": "stderr",
     "output_type": "stream",
     "text": [
      "[Parallel(n_jobs=1)]: Using backend SequentialBackend with 1 concurrent workers.\n",
      "[Parallel(n_jobs=1)]: Done   1 out of   1 | elapsed:    0.0s remaining:    0.0s\n",
      "[Parallel(n_jobs=1)]: Done   2 out of   2 | elapsed:    0.0s remaining:    0.0s\n",
      "[Parallel(n_jobs=1)]: Done   3 out of   3 | elapsed:    0.0s remaining:    0.0s\n",
      "[Parallel(n_jobs=1)]: Done   4 out of   4 | elapsed:    0.0s remaining:    0.0s\n"
     ]
    },
    {
     "name": "stdout",
     "output_type": "stream",
     "text": [
      "Overwriting existing file.\n",
      "Overwriting existing file.\n",
      "Setting up low-pass filter at 30 Hz\n",
      "\n",
      "FIR filter parameters\n",
      "---------------------\n",
      "Designing a one-pass, zero-phase, non-causal lowpass filter:\n",
      "- Windowed time-domain design (firwin) method\n",
      "- Hamming window with 0.0194 passband ripple and 53 dB stopband attenuation\n",
      "- Upper passband edge: 30.00 Hz\n",
      "- Upper transition bandwidth: 7.50 Hz (-6 dB cutoff frequency: 33.75 Hz)\n",
      "- Filter length: 89 samples (0.445 sec)\n",
      "\n"
     ]
    },
    {
     "name": "stderr",
     "output_type": "stream",
     "text": [
      "[Parallel(n_jobs=1)]: Done 768 out of 768 | elapsed:    0.2s finished\n",
      "[Parallel(n_jobs=1)]: Using backend SequentialBackend with 1 concurrent workers.\n",
      "[Parallel(n_jobs=1)]: Done   1 out of   1 | elapsed:    0.0s remaining:    0.0s\n",
      "[Parallel(n_jobs=1)]: Done   2 out of   2 | elapsed:    0.0s remaining:    0.0s\n",
      "[Parallel(n_jobs=1)]: Done   3 out of   3 | elapsed:    0.0s remaining:    0.0s\n",
      "[Parallel(n_jobs=1)]: Done   4 out of   4 | elapsed:    0.0s remaining:    0.0s\n"
     ]
    },
    {
     "name": "stdout",
     "output_type": "stream",
     "text": [
      "Overwriting existing file.\n",
      "Reading F:\\Documents\\Science\\MirRevAdaptEEG\\data\\eeg\\p001\\lrp\\mra_p001_run0-epo.fif ...\n",
      "    Found the data of interest:\n",
      "        t =   -2000.00 ...    1995.00 ms\n",
      "        0 CTF compensation matrices available\n"
     ]
    },
    {
     "name": "stderr",
     "output_type": "stream",
     "text": [
      "[Parallel(n_jobs=1)]: Done 768 out of 768 | elapsed:    0.2s finished\n"
     ]
    },
    {
     "name": "stdout",
     "output_type": "stream",
     "text": [
      "Not setting metadata\n",
      "420 matching events found\n",
      "No baseline correction applied\n",
      "0 projection items activated\n",
      "Applying baseline correction (mode: mean)\n",
      "Overwriting existing file.\n",
      "Setting up low-pass filter at 30 Hz\n",
      "\n",
      "FIR filter parameters\n",
      "---------------------\n",
      "Designing a one-pass, zero-phase, non-causal lowpass filter:\n",
      "- Windowed time-domain design (firwin) method\n",
      "- Hamming window with 0.0194 passband ripple and 53 dB stopband attenuation\n",
      "- Upper passband edge: 30.00 Hz\n",
      "- Upper transition bandwidth: 7.50 Hz (-6 dB cutoff frequency: 33.75 Hz)\n",
      "- Filter length: 89 samples (0.445 sec)\n",
      "\n"
     ]
    },
    {
     "name": "stderr",
     "output_type": "stream",
     "text": [
      "[Parallel(n_jobs=1)]: Using backend SequentialBackend with 1 concurrent workers.\n",
      "[Parallel(n_jobs=1)]: Done   1 out of   1 | elapsed:    0.0s remaining:    0.0s\n",
      "[Parallel(n_jobs=1)]: Done   2 out of   2 | elapsed:    0.0s remaining:    0.0s\n",
      "[Parallel(n_jobs=1)]: Done   3 out of   3 | elapsed:    0.0s remaining:    0.0s\n",
      "[Parallel(n_jobs=1)]: Done   4 out of   4 | elapsed:    0.0s remaining:    0.0s\n"
     ]
    },
    {
     "name": "stdout",
     "output_type": "stream",
     "text": [
      "Overwriting existing file.\n",
      "Overwriting existing file.\n",
      "Setting up low-pass filter at 30 Hz\n",
      "\n",
      "FIR filter parameters\n",
      "---------------------\n",
      "Designing a one-pass, zero-phase, non-causal lowpass filter:\n",
      "- Windowed time-domain design (firwin) method\n",
      "- Hamming window with 0.0194 passband ripple and 53 dB stopband attenuation\n",
      "- Upper passband edge: 30.00 Hz\n",
      "- Upper transition bandwidth: 7.50 Hz (-6 dB cutoff frequency: 33.75 Hz)\n",
      "- Filter length: 89 samples (0.445 sec)\n",
      "\n"
     ]
    },
    {
     "name": "stderr",
     "output_type": "stream",
     "text": [
      "[Parallel(n_jobs=1)]: Done 768 out of 768 | elapsed:    0.2s finished\n",
      "[Parallel(n_jobs=1)]: Using backend SequentialBackend with 1 concurrent workers.\n",
      "[Parallel(n_jobs=1)]: Done   1 out of   1 | elapsed:    0.0s remaining:    0.0s\n",
      "[Parallel(n_jobs=1)]: Done   2 out of   2 | elapsed:    0.0s remaining:    0.0s\n",
      "[Parallel(n_jobs=1)]: Done   3 out of   3 | elapsed:    0.0s remaining:    0.0s\n",
      "[Parallel(n_jobs=1)]: Done   4 out of   4 | elapsed:    0.0s remaining:    0.0s\n"
     ]
    },
    {
     "name": "stdout",
     "output_type": "stream",
     "text": [
      "Overwriting existing file.\n",
      "Reading F:\\Documents\\Science\\MirRevAdaptEEG\\data\\eeg\\p002\\lrp\\mra_p002_run0-epo.fif ...\n",
      "    Found the data of interest:\n",
      "        t =   -2000.00 ...    1995.00 ms\n",
      "        0 CTF compensation matrices available\n"
     ]
    },
    {
     "name": "stderr",
     "output_type": "stream",
     "text": [
      "[Parallel(n_jobs=1)]: Done 768 out of 768 | elapsed:    0.2s finished\n"
     ]
    },
    {
     "name": "stdout",
     "output_type": "stream",
     "text": [
      "Not setting metadata\n",
      "419 matching events found\n",
      "No baseline correction applied\n",
      "0 projection items activated\n",
      "Applying baseline correction (mode: mean)\n",
      "Overwriting existing file.\n",
      "Setting up low-pass filter at 30 Hz\n",
      "\n",
      "FIR filter parameters\n",
      "---------------------\n",
      "Designing a one-pass, zero-phase, non-causal lowpass filter:\n",
      "- Windowed time-domain design (firwin) method\n",
      "- Hamming window with 0.0194 passband ripple and 53 dB stopband attenuation\n",
      "- Upper passband edge: 30.00 Hz\n",
      "- Upper transition bandwidth: 7.50 Hz (-6 dB cutoff frequency: 33.75 Hz)\n",
      "- Filter length: 89 samples (0.445 sec)\n",
      "\n"
     ]
    },
    {
     "name": "stderr",
     "output_type": "stream",
     "text": [
      "[Parallel(n_jobs=1)]: Using backend SequentialBackend with 1 concurrent workers.\n",
      "[Parallel(n_jobs=1)]: Done   1 out of   1 | elapsed:    0.0s remaining:    0.0s\n",
      "[Parallel(n_jobs=1)]: Done   2 out of   2 | elapsed:    0.0s remaining:    0.0s\n",
      "[Parallel(n_jobs=1)]: Done   3 out of   3 | elapsed:    0.0s remaining:    0.0s\n",
      "[Parallel(n_jobs=1)]: Done   4 out of   4 | elapsed:    0.0s remaining:    0.0s\n"
     ]
    },
    {
     "name": "stdout",
     "output_type": "stream",
     "text": [
      "Overwriting existing file.\n",
      "Overwriting existing file.\n",
      "Setting up low-pass filter at 30 Hz\n",
      "\n",
      "FIR filter parameters\n",
      "---------------------\n",
      "Designing a one-pass, zero-phase, non-causal lowpass filter:\n",
      "- Windowed time-domain design (firwin) method\n",
      "- Hamming window with 0.0194 passband ripple and 53 dB stopband attenuation\n",
      "- Upper passband edge: 30.00 Hz\n",
      "- Upper transition bandwidth: 7.50 Hz (-6 dB cutoff frequency: 33.75 Hz)\n",
      "- Filter length: 89 samples (0.445 sec)\n",
      "\n"
     ]
    },
    {
     "name": "stderr",
     "output_type": "stream",
     "text": [
      "[Parallel(n_jobs=1)]: Done 768 out of 768 | elapsed:    0.2s finished\n",
      "[Parallel(n_jobs=1)]: Using backend SequentialBackend with 1 concurrent workers.\n",
      "[Parallel(n_jobs=1)]: Done   1 out of   1 | elapsed:    0.0s remaining:    0.0s\n",
      "[Parallel(n_jobs=1)]: Done   2 out of   2 | elapsed:    0.0s remaining:    0.0s\n",
      "[Parallel(n_jobs=1)]: Done   3 out of   3 | elapsed:    0.0s remaining:    0.0s\n",
      "[Parallel(n_jobs=1)]: Done   4 out of   4 | elapsed:    0.0s remaining:    0.0s\n"
     ]
    },
    {
     "name": "stdout",
     "output_type": "stream",
     "text": [
      "Overwriting existing file.\n",
      "Reading F:\\Documents\\Science\\MirRevAdaptEEG\\data\\eeg\\p003\\lrp\\mra_p003_run0-epo.fif ...\n",
      "    Found the data of interest:\n",
      "        t =   -2000.00 ...    1995.00 ms\n",
      "        0 CTF compensation matrices available\n"
     ]
    },
    {
     "name": "stderr",
     "output_type": "stream",
     "text": [
      "[Parallel(n_jobs=1)]: Done 768 out of 768 | elapsed:    0.2s finished\n"
     ]
    },
    {
     "name": "stdout",
     "output_type": "stream",
     "text": [
      "Not setting metadata\n",
      "418 matching events found\n",
      "No baseline correction applied\n",
      "0 projection items activated\n",
      "Applying baseline correction (mode: mean)\n",
      "Overwriting existing file.\n",
      "Setting up low-pass filter at 30 Hz\n",
      "\n",
      "FIR filter parameters\n",
      "---------------------\n",
      "Designing a one-pass, zero-phase, non-causal lowpass filter:\n",
      "- Windowed time-domain design (firwin) method\n",
      "- Hamming window with 0.0194 passband ripple and 53 dB stopband attenuation\n",
      "- Upper passband edge: 30.00 Hz\n",
      "- Upper transition bandwidth: 7.50 Hz (-6 dB cutoff frequency: 33.75 Hz)\n",
      "- Filter length: 89 samples (0.445 sec)\n",
      "\n"
     ]
    },
    {
     "name": "stderr",
     "output_type": "stream",
     "text": [
      "[Parallel(n_jobs=1)]: Using backend SequentialBackend with 1 concurrent workers.\n",
      "[Parallel(n_jobs=1)]: Done   1 out of   1 | elapsed:    0.0s remaining:    0.0s\n",
      "[Parallel(n_jobs=1)]: Done   2 out of   2 | elapsed:    0.0s remaining:    0.0s\n",
      "[Parallel(n_jobs=1)]: Done   3 out of   3 | elapsed:    0.0s remaining:    0.0s\n",
      "[Parallel(n_jobs=1)]: Done   4 out of   4 | elapsed:    0.0s remaining:    0.0s\n"
     ]
    },
    {
     "name": "stdout",
     "output_type": "stream",
     "text": [
      "Overwriting existing file.\n",
      "Overwriting existing file.\n",
      "Setting up low-pass filter at 30 Hz\n",
      "\n",
      "FIR filter parameters\n",
      "---------------------\n",
      "Designing a one-pass, zero-phase, non-causal lowpass filter:\n",
      "- Windowed time-domain design (firwin) method\n",
      "- Hamming window with 0.0194 passband ripple and 53 dB stopband attenuation\n",
      "- Upper passband edge: 30.00 Hz\n",
      "- Upper transition bandwidth: 7.50 Hz (-6 dB cutoff frequency: 33.75 Hz)\n",
      "- Filter length: 89 samples (0.445 sec)\n",
      "\n"
     ]
    },
    {
     "name": "stderr",
     "output_type": "stream",
     "text": [
      "[Parallel(n_jobs=1)]: Done 768 out of 768 | elapsed:    0.2s finished\n",
      "[Parallel(n_jobs=1)]: Using backend SequentialBackend with 1 concurrent workers.\n",
      "[Parallel(n_jobs=1)]: Done   1 out of   1 | elapsed:    0.0s remaining:    0.0s\n",
      "[Parallel(n_jobs=1)]: Done   2 out of   2 | elapsed:    0.0s remaining:    0.0s\n",
      "[Parallel(n_jobs=1)]: Done   3 out of   3 | elapsed:    0.0s remaining:    0.0s\n",
      "[Parallel(n_jobs=1)]: Done   4 out of   4 | elapsed:    0.0s remaining:    0.0s\n"
     ]
    },
    {
     "name": "stdout",
     "output_type": "stream",
     "text": [
      "Overwriting existing file.\n",
      "Reading F:\\Documents\\Science\\MirRevAdaptEEG\\data\\eeg\\p004\\lrp\\mra_p004_run0-epo.fif ...\n",
      "    Found the data of interest:\n",
      "        t =   -2000.00 ...    1995.00 ms\n",
      "        0 CTF compensation matrices available\n",
      "Not setting metadata\n"
     ]
    },
    {
     "name": "stderr",
     "output_type": "stream",
     "text": [
      "[Parallel(n_jobs=1)]: Done 768 out of 768 | elapsed:    0.2s finished\n"
     ]
    },
    {
     "name": "stdout",
     "output_type": "stream",
     "text": [
      "418 matching events found\n",
      "No baseline correction applied\n",
      "0 projection items activated\n",
      "Applying baseline correction (mode: mean)\n",
      "Overwriting existing file.\n",
      "Setting up low-pass filter at 30 Hz\n",
      "\n",
      "FIR filter parameters\n",
      "---------------------\n",
      "Designing a one-pass, zero-phase, non-causal lowpass filter:\n",
      "- Windowed time-domain design (firwin) method\n",
      "- Hamming window with 0.0194 passband ripple and 53 dB stopband attenuation\n",
      "- Upper passband edge: 30.00 Hz\n",
      "- Upper transition bandwidth: 7.50 Hz (-6 dB cutoff frequency: 33.75 Hz)\n",
      "- Filter length: 89 samples (0.445 sec)\n",
      "\n"
     ]
    },
    {
     "name": "stderr",
     "output_type": "stream",
     "text": [
      "[Parallel(n_jobs=1)]: Using backend SequentialBackend with 1 concurrent workers.\n",
      "[Parallel(n_jobs=1)]: Done   1 out of   1 | elapsed:    0.0s remaining:    0.0s\n",
      "[Parallel(n_jobs=1)]: Done   2 out of   2 | elapsed:    0.0s remaining:    0.0s\n",
      "[Parallel(n_jobs=1)]: Done   3 out of   3 | elapsed:    0.0s remaining:    0.0s\n",
      "[Parallel(n_jobs=1)]: Done   4 out of   4 | elapsed:    0.0s remaining:    0.0s\n"
     ]
    },
    {
     "name": "stdout",
     "output_type": "stream",
     "text": [
      "Overwriting existing file.\n",
      "Overwriting existing file.\n",
      "Setting up low-pass filter at 30 Hz\n",
      "\n",
      "FIR filter parameters\n",
      "---------------------\n",
      "Designing a one-pass, zero-phase, non-causal lowpass filter:\n",
      "- Windowed time-domain design (firwin) method\n",
      "- Hamming window with 0.0194 passband ripple and 53 dB stopband attenuation\n",
      "- Upper passband edge: 30.00 Hz\n",
      "- Upper transition bandwidth: 7.50 Hz (-6 dB cutoff frequency: 33.75 Hz)\n",
      "- Filter length: 89 samples (0.445 sec)\n",
      "\n"
     ]
    },
    {
     "name": "stderr",
     "output_type": "stream",
     "text": [
      "[Parallel(n_jobs=1)]: Done 768 out of 768 | elapsed:    0.2s finished\n",
      "[Parallel(n_jobs=1)]: Using backend SequentialBackend with 1 concurrent workers.\n",
      "[Parallel(n_jobs=1)]: Done   1 out of   1 | elapsed:    0.0s remaining:    0.0s\n",
      "[Parallel(n_jobs=1)]: Done   2 out of   2 | elapsed:    0.0s remaining:    0.0s\n",
      "[Parallel(n_jobs=1)]: Done   3 out of   3 | elapsed:    0.0s remaining:    0.0s\n",
      "[Parallel(n_jobs=1)]: Done   4 out of   4 | elapsed:    0.0s remaining:    0.0s\n"
     ]
    },
    {
     "name": "stdout",
     "output_type": "stream",
     "text": [
      "Overwriting existing file.\n",
      "Reading F:\\Documents\\Science\\MirRevAdaptEEG\\data\\eeg\\p005\\lrp\\mra_p005_run0-epo.fif ...\n",
      "    Found the data of interest:\n",
      "        t =   -2000.00 ...    1995.00 ms\n",
      "        0 CTF compensation matrices available\n",
      "Not setting metadata\n"
     ]
    },
    {
     "name": "stderr",
     "output_type": "stream",
     "text": [
      "[Parallel(n_jobs=1)]: Done 768 out of 768 | elapsed:    0.2s finished\n"
     ]
    },
    {
     "name": "stdout",
     "output_type": "stream",
     "text": [
      "419 matching events found\n",
      "No baseline correction applied\n",
      "0 projection items activated\n",
      "Applying baseline correction (mode: mean)\n",
      "Overwriting existing file.\n",
      "Setting up low-pass filter at 30 Hz\n",
      "\n",
      "FIR filter parameters\n",
      "---------------------\n",
      "Designing a one-pass, zero-phase, non-causal lowpass filter:\n",
      "- Windowed time-domain design (firwin) method\n",
      "- Hamming window with 0.0194 passband ripple and 53 dB stopband attenuation\n",
      "- Upper passband edge: 30.00 Hz\n",
      "- Upper transition bandwidth: 7.50 Hz (-6 dB cutoff frequency: 33.75 Hz)\n",
      "- Filter length: 89 samples (0.445 sec)\n",
      "\n"
     ]
    },
    {
     "name": "stderr",
     "output_type": "stream",
     "text": [
      "[Parallel(n_jobs=1)]: Using backend SequentialBackend with 1 concurrent workers.\n",
      "[Parallel(n_jobs=1)]: Done   1 out of   1 | elapsed:    0.0s remaining:    0.0s\n",
      "[Parallel(n_jobs=1)]: Done   2 out of   2 | elapsed:    0.0s remaining:    0.0s\n",
      "[Parallel(n_jobs=1)]: Done   3 out of   3 | elapsed:    0.0s remaining:    0.0s\n",
      "[Parallel(n_jobs=1)]: Done   4 out of   4 | elapsed:    0.0s remaining:    0.0s\n"
     ]
    },
    {
     "name": "stdout",
     "output_type": "stream",
     "text": [
      "Overwriting existing file.\n",
      "Overwriting existing file.\n",
      "Setting up low-pass filter at 30 Hz\n",
      "\n",
      "FIR filter parameters\n",
      "---------------------\n",
      "Designing a one-pass, zero-phase, non-causal lowpass filter:\n",
      "- Windowed time-domain design (firwin) method\n",
      "- Hamming window with 0.0194 passband ripple and 53 dB stopband attenuation\n",
      "- Upper passband edge: 30.00 Hz\n",
      "- Upper transition bandwidth: 7.50 Hz (-6 dB cutoff frequency: 33.75 Hz)\n",
      "- Filter length: 89 samples (0.445 sec)\n",
      "\n"
     ]
    },
    {
     "name": "stderr",
     "output_type": "stream",
     "text": [
      "[Parallel(n_jobs=1)]: Done 768 out of 768 | elapsed:    0.2s finished\n",
      "[Parallel(n_jobs=1)]: Using backend SequentialBackend with 1 concurrent workers.\n",
      "[Parallel(n_jobs=1)]: Done   1 out of   1 | elapsed:    0.0s remaining:    0.0s\n",
      "[Parallel(n_jobs=1)]: Done   2 out of   2 | elapsed:    0.0s remaining:    0.0s\n",
      "[Parallel(n_jobs=1)]: Done   3 out of   3 | elapsed:    0.0s remaining:    0.0s\n",
      "[Parallel(n_jobs=1)]: Done   4 out of   4 | elapsed:    0.0s remaining:    0.0s\n"
     ]
    },
    {
     "name": "stdout",
     "output_type": "stream",
     "text": [
      "Overwriting existing file.\n",
      "Reading F:\\Documents\\Science\\MirRevAdaptEEG\\data\\eeg\\p006\\lrp\\mra_p006_run0-epo.fif ...\n",
      "    Found the data of interest:\n",
      "        t =   -2000.00 ...    1995.00 ms\n",
      "        0 CTF compensation matrices available\n",
      "Not setting metadata\n"
     ]
    },
    {
     "name": "stderr",
     "output_type": "stream",
     "text": [
      "[Parallel(n_jobs=1)]: Done 768 out of 768 | elapsed:    0.2s finished\n"
     ]
    },
    {
     "name": "stdout",
     "output_type": "stream",
     "text": [
      "418 matching events found\n",
      "No baseline correction applied\n",
      "0 projection items activated\n",
      "Applying baseline correction (mode: mean)\n",
      "Overwriting existing file.\n",
      "Setting up low-pass filter at 30 Hz\n",
      "\n",
      "FIR filter parameters\n",
      "---------------------\n",
      "Designing a one-pass, zero-phase, non-causal lowpass filter:\n",
      "- Windowed time-domain design (firwin) method\n",
      "- Hamming window with 0.0194 passband ripple and 53 dB stopband attenuation\n",
      "- Upper passband edge: 30.00 Hz\n",
      "- Upper transition bandwidth: 7.50 Hz (-6 dB cutoff frequency: 33.75 Hz)\n",
      "- Filter length: 89 samples (0.445 sec)\n",
      "\n"
     ]
    },
    {
     "name": "stderr",
     "output_type": "stream",
     "text": [
      "[Parallel(n_jobs=1)]: Using backend SequentialBackend with 1 concurrent workers.\n",
      "[Parallel(n_jobs=1)]: Done   1 out of   1 | elapsed:    0.0s remaining:    0.0s\n",
      "[Parallel(n_jobs=1)]: Done   2 out of   2 | elapsed:    0.0s remaining:    0.0s\n",
      "[Parallel(n_jobs=1)]: Done   3 out of   3 | elapsed:    0.0s remaining:    0.0s\n",
      "[Parallel(n_jobs=1)]: Done   4 out of   4 | elapsed:    0.0s remaining:    0.0s\n"
     ]
    },
    {
     "name": "stdout",
     "output_type": "stream",
     "text": [
      "Overwriting existing file.\n",
      "Overwriting existing file.\n",
      "Setting up low-pass filter at 30 Hz\n",
      "\n",
      "FIR filter parameters\n",
      "---------------------\n",
      "Designing a one-pass, zero-phase, non-causal lowpass filter:\n",
      "- Windowed time-domain design (firwin) method\n",
      "- Hamming window with 0.0194 passband ripple and 53 dB stopband attenuation\n",
      "- Upper passband edge: 30.00 Hz\n",
      "- Upper transition bandwidth: 7.50 Hz (-6 dB cutoff frequency: 33.75 Hz)\n",
      "- Filter length: 89 samples (0.445 sec)\n",
      "\n"
     ]
    },
    {
     "name": "stderr",
     "output_type": "stream",
     "text": [
      "[Parallel(n_jobs=1)]: Done 768 out of 768 | elapsed:    0.2s finished\n",
      "[Parallel(n_jobs=1)]: Using backend SequentialBackend with 1 concurrent workers.\n",
      "[Parallel(n_jobs=1)]: Done   1 out of   1 | elapsed:    0.0s remaining:    0.0s\n",
      "[Parallel(n_jobs=1)]: Done   2 out of   2 | elapsed:    0.0s remaining:    0.0s\n",
      "[Parallel(n_jobs=1)]: Done   3 out of   3 | elapsed:    0.0s remaining:    0.0s\n",
      "[Parallel(n_jobs=1)]: Done   4 out of   4 | elapsed:    0.0s remaining:    0.0s\n"
     ]
    },
    {
     "name": "stdout",
     "output_type": "stream",
     "text": [
      "Overwriting existing file.\n",
      "Reading F:\\Documents\\Science\\MirRevAdaptEEG\\data\\eeg\\p007\\lrp\\mra_p007_run0-epo.fif ...\n",
      "    Found the data of interest:\n",
      "        t =   -2000.00 ...    1995.00 ms\n",
      "        0 CTF compensation matrices available\n",
      "Not setting metadata\n"
     ]
    },
    {
     "name": "stderr",
     "output_type": "stream",
     "text": [
      "[Parallel(n_jobs=1)]: Done 768 out of 768 | elapsed:    0.2s finished\n"
     ]
    },
    {
     "name": "stdout",
     "output_type": "stream",
     "text": [
      "420 matching events found\n",
      "No baseline correction applied\n",
      "0 projection items activated\n",
      "Applying baseline correction (mode: mean)\n",
      "Overwriting existing file.\n",
      "Setting up low-pass filter at 30 Hz\n",
      "\n",
      "FIR filter parameters\n",
      "---------------------\n",
      "Designing a one-pass, zero-phase, non-causal lowpass filter:\n",
      "- Windowed time-domain design (firwin) method\n",
      "- Hamming window with 0.0194 passband ripple and 53 dB stopband attenuation\n",
      "- Upper passband edge: 30.00 Hz\n",
      "- Upper transition bandwidth: 7.50 Hz (-6 dB cutoff frequency: 33.75 Hz)\n",
      "- Filter length: 89 samples (0.445 sec)\n",
      "\n"
     ]
    },
    {
     "name": "stderr",
     "output_type": "stream",
     "text": [
      "[Parallel(n_jobs=1)]: Using backend SequentialBackend with 1 concurrent workers.\n",
      "[Parallel(n_jobs=1)]: Done   1 out of   1 | elapsed:    0.0s remaining:    0.0s\n",
      "[Parallel(n_jobs=1)]: Done   2 out of   2 | elapsed:    0.0s remaining:    0.0s\n",
      "[Parallel(n_jobs=1)]: Done   3 out of   3 | elapsed:    0.0s remaining:    0.0s\n",
      "[Parallel(n_jobs=1)]: Done   4 out of   4 | elapsed:    0.0s remaining:    0.0s\n"
     ]
    },
    {
     "name": "stdout",
     "output_type": "stream",
     "text": [
      "Overwriting existing file.\n",
      "Overwriting existing file.\n",
      "Setting up low-pass filter at 30 Hz\n",
      "\n",
      "FIR filter parameters\n",
      "---------------------\n",
      "Designing a one-pass, zero-phase, non-causal lowpass filter:\n",
      "- Windowed time-domain design (firwin) method\n",
      "- Hamming window with 0.0194 passband ripple and 53 dB stopband attenuation\n",
      "- Upper passband edge: 30.00 Hz\n",
      "- Upper transition bandwidth: 7.50 Hz (-6 dB cutoff frequency: 33.75 Hz)\n",
      "- Filter length: 89 samples (0.445 sec)\n",
      "\n"
     ]
    },
    {
     "name": "stderr",
     "output_type": "stream",
     "text": [
      "[Parallel(n_jobs=1)]: Done 768 out of 768 | elapsed:    0.2s finished\n",
      "[Parallel(n_jobs=1)]: Using backend SequentialBackend with 1 concurrent workers.\n",
      "[Parallel(n_jobs=1)]: Done   1 out of   1 | elapsed:    0.0s remaining:    0.0s\n",
      "[Parallel(n_jobs=1)]: Done   2 out of   2 | elapsed:    0.0s remaining:    0.0s\n",
      "[Parallel(n_jobs=1)]: Done   3 out of   3 | elapsed:    0.0s remaining:    0.0s\n",
      "[Parallel(n_jobs=1)]: Done   4 out of   4 | elapsed:    0.0s remaining:    0.0s\n"
     ]
    },
    {
     "name": "stdout",
     "output_type": "stream",
     "text": [
      "Overwriting existing file.\n",
      "Reading F:\\Documents\\Science\\MirRevAdaptEEG\\data\\eeg\\p008\\lrp\\mra_p008_run0-epo.fif ...\n",
      "    Found the data of interest:\n",
      "        t =   -2000.00 ...    1995.00 ms\n",
      "        0 CTF compensation matrices available\n",
      "Not setting metadata\n"
     ]
    },
    {
     "name": "stderr",
     "output_type": "stream",
     "text": [
      "[Parallel(n_jobs=1)]: Done 768 out of 768 | elapsed:    0.2s finished\n"
     ]
    },
    {
     "name": "stdout",
     "output_type": "stream",
     "text": [
      "420 matching events found\n",
      "No baseline correction applied\n",
      "0 projection items activated\n",
      "Applying baseline correction (mode: mean)\n",
      "Overwriting existing file.\n",
      "Setting up low-pass filter at 30 Hz\n",
      "\n",
      "FIR filter parameters\n",
      "---------------------\n",
      "Designing a one-pass, zero-phase, non-causal lowpass filter:\n",
      "- Windowed time-domain design (firwin) method\n",
      "- Hamming window with 0.0194 passband ripple and 53 dB stopband attenuation\n",
      "- Upper passband edge: 30.00 Hz\n",
      "- Upper transition bandwidth: 7.50 Hz (-6 dB cutoff frequency: 33.75 Hz)\n",
      "- Filter length: 89 samples (0.445 sec)\n",
      "\n"
     ]
    },
    {
     "name": "stderr",
     "output_type": "stream",
     "text": [
      "[Parallel(n_jobs=1)]: Using backend SequentialBackend with 1 concurrent workers.\n",
      "[Parallel(n_jobs=1)]: Done   1 out of   1 | elapsed:    0.0s remaining:    0.0s\n",
      "[Parallel(n_jobs=1)]: Done   2 out of   2 | elapsed:    0.0s remaining:    0.0s\n",
      "[Parallel(n_jobs=1)]: Done   3 out of   3 | elapsed:    0.0s remaining:    0.0s\n",
      "[Parallel(n_jobs=1)]: Done   4 out of   4 | elapsed:    0.0s remaining:    0.0s\n"
     ]
    },
    {
     "name": "stdout",
     "output_type": "stream",
     "text": [
      "Overwriting existing file.\n",
      "Overwriting existing file.\n",
      "Setting up low-pass filter at 30 Hz\n",
      "\n",
      "FIR filter parameters\n",
      "---------------------\n",
      "Designing a one-pass, zero-phase, non-causal lowpass filter:\n",
      "- Windowed time-domain design (firwin) method\n",
      "- Hamming window with 0.0194 passband ripple and 53 dB stopband attenuation\n",
      "- Upper passband edge: 30.00 Hz\n",
      "- Upper transition bandwidth: 7.50 Hz (-6 dB cutoff frequency: 33.75 Hz)\n",
      "- Filter length: 89 samples (0.445 sec)\n",
      "\n"
     ]
    },
    {
     "name": "stderr",
     "output_type": "stream",
     "text": [
      "[Parallel(n_jobs=1)]: Done 768 out of 768 | elapsed:    0.2s finished\n",
      "[Parallel(n_jobs=1)]: Using backend SequentialBackend with 1 concurrent workers.\n",
      "[Parallel(n_jobs=1)]: Done   1 out of   1 | elapsed:    0.0s remaining:    0.0s\n",
      "[Parallel(n_jobs=1)]: Done   2 out of   2 | elapsed:    0.0s remaining:    0.0s\n",
      "[Parallel(n_jobs=1)]: Done   3 out of   3 | elapsed:    0.0s remaining:    0.0s\n",
      "[Parallel(n_jobs=1)]: Done   4 out of   4 | elapsed:    0.0s remaining:    0.0s\n"
     ]
    },
    {
     "name": "stdout",
     "output_type": "stream",
     "text": [
      "Overwriting existing file.\n",
      "Reading F:\\Documents\\Science\\MirRevAdaptEEG\\data\\eeg\\p009\\lrp\\mra_p009_run0-epo.fif ...\n",
      "    Found the data of interest:\n",
      "        t =   -2000.00 ...    1995.00 ms\n",
      "        0 CTF compensation matrices available\n",
      "Not setting metadata\n"
     ]
    },
    {
     "name": "stderr",
     "output_type": "stream",
     "text": [
      "[Parallel(n_jobs=1)]: Done 768 out of 768 | elapsed:    0.2s finished\n"
     ]
    },
    {
     "name": "stdout",
     "output_type": "stream",
     "text": [
      "419 matching events found\n",
      "No baseline correction applied\n",
      "0 projection items activated\n",
      "Applying baseline correction (mode: mean)\n",
      "Overwriting existing file.\n",
      "Setting up low-pass filter at 30 Hz\n",
      "\n",
      "FIR filter parameters\n",
      "---------------------\n",
      "Designing a one-pass, zero-phase, non-causal lowpass filter:\n",
      "- Windowed time-domain design (firwin) method\n",
      "- Hamming window with 0.0194 passband ripple and 53 dB stopband attenuation\n",
      "- Upper passband edge: 30.00 Hz\n",
      "- Upper transition bandwidth: 7.50 Hz (-6 dB cutoff frequency: 33.75 Hz)\n",
      "- Filter length: 89 samples (0.445 sec)\n",
      "\n"
     ]
    },
    {
     "name": "stderr",
     "output_type": "stream",
     "text": [
      "[Parallel(n_jobs=1)]: Using backend SequentialBackend with 1 concurrent workers.\n",
      "[Parallel(n_jobs=1)]: Done   1 out of   1 | elapsed:    0.0s remaining:    0.0s\n",
      "[Parallel(n_jobs=1)]: Done   2 out of   2 | elapsed:    0.0s remaining:    0.0s\n",
      "[Parallel(n_jobs=1)]: Done   3 out of   3 | elapsed:    0.0s remaining:    0.0s\n",
      "[Parallel(n_jobs=1)]: Done   4 out of   4 | elapsed:    0.0s remaining:    0.0s\n"
     ]
    },
    {
     "name": "stdout",
     "output_type": "stream",
     "text": [
      "Overwriting existing file.\n",
      "Overwriting existing file.\n",
      "Setting up low-pass filter at 30 Hz\n",
      "\n",
      "FIR filter parameters\n",
      "---------------------\n",
      "Designing a one-pass, zero-phase, non-causal lowpass filter:\n",
      "- Windowed time-domain design (firwin) method\n",
      "- Hamming window with 0.0194 passband ripple and 53 dB stopband attenuation\n",
      "- Upper passband edge: 30.00 Hz\n",
      "- Upper transition bandwidth: 7.50 Hz (-6 dB cutoff frequency: 33.75 Hz)\n",
      "- Filter length: 89 samples (0.445 sec)\n",
      "\n"
     ]
    },
    {
     "name": "stderr",
     "output_type": "stream",
     "text": [
      "[Parallel(n_jobs=1)]: Done 768 out of 768 | elapsed:    0.2s finished\n",
      "[Parallel(n_jobs=1)]: Using backend SequentialBackend with 1 concurrent workers.\n",
      "[Parallel(n_jobs=1)]: Done   1 out of   1 | elapsed:    0.0s remaining:    0.0s\n",
      "[Parallel(n_jobs=1)]: Done   2 out of   2 | elapsed:    0.0s remaining:    0.0s\n",
      "[Parallel(n_jobs=1)]: Done   3 out of   3 | elapsed:    0.0s remaining:    0.0s\n",
      "[Parallel(n_jobs=1)]: Done   4 out of   4 | elapsed:    0.0s remaining:    0.0s\n"
     ]
    },
    {
     "name": "stdout",
     "output_type": "stream",
     "text": [
      "Overwriting existing file.\n",
      "Reading F:\\Documents\\Science\\MirRevAdaptEEG\\data\\eeg\\p010\\lrp\\mra_p010_run0-epo.fif ...\n",
      "    Found the data of interest:\n",
      "        t =   -2000.00 ...    1995.00 ms\n",
      "        0 CTF compensation matrices available\n",
      "Not setting metadata\n"
     ]
    },
    {
     "name": "stderr",
     "output_type": "stream",
     "text": [
      "[Parallel(n_jobs=1)]: Done 768 out of 768 | elapsed:    0.2s finished\n"
     ]
    },
    {
     "name": "stdout",
     "output_type": "stream",
     "text": [
      "420 matching events found\n",
      "No baseline correction applied\n",
      "0 projection items activated\n",
      "Applying baseline correction (mode: mean)\n",
      "Overwriting existing file.\n",
      "Setting up low-pass filter at 30 Hz\n",
      "\n",
      "FIR filter parameters\n",
      "---------------------\n",
      "Designing a one-pass, zero-phase, non-causal lowpass filter:\n",
      "- Windowed time-domain design (firwin) method\n",
      "- Hamming window with 0.0194 passband ripple and 53 dB stopband attenuation\n",
      "- Upper passband edge: 30.00 Hz\n",
      "- Upper transition bandwidth: 7.50 Hz (-6 dB cutoff frequency: 33.75 Hz)\n",
      "- Filter length: 89 samples (0.445 sec)\n",
      "\n"
     ]
    },
    {
     "name": "stderr",
     "output_type": "stream",
     "text": [
      "[Parallel(n_jobs=1)]: Using backend SequentialBackend with 1 concurrent workers.\n",
      "[Parallel(n_jobs=1)]: Done   1 out of   1 | elapsed:    0.0s remaining:    0.0s\n",
      "[Parallel(n_jobs=1)]: Done   2 out of   2 | elapsed:    0.0s remaining:    0.0s\n",
      "[Parallel(n_jobs=1)]: Done   3 out of   3 | elapsed:    0.0s remaining:    0.0s\n",
      "[Parallel(n_jobs=1)]: Done   4 out of   4 | elapsed:    0.0s remaining:    0.0s\n"
     ]
    },
    {
     "name": "stdout",
     "output_type": "stream",
     "text": [
      "Overwriting existing file.\n",
      "Overwriting existing file.\n",
      "Setting up low-pass filter at 30 Hz\n",
      "\n",
      "FIR filter parameters\n",
      "---------------------\n",
      "Designing a one-pass, zero-phase, non-causal lowpass filter:\n",
      "- Windowed time-domain design (firwin) method\n",
      "- Hamming window with 0.0194 passband ripple and 53 dB stopband attenuation\n",
      "- Upper passband edge: 30.00 Hz\n",
      "- Upper transition bandwidth: 7.50 Hz (-6 dB cutoff frequency: 33.75 Hz)\n",
      "- Filter length: 89 samples (0.445 sec)\n",
      "\n"
     ]
    },
    {
     "name": "stderr",
     "output_type": "stream",
     "text": [
      "[Parallel(n_jobs=1)]: Done 768 out of 768 | elapsed:    0.2s finished\n",
      "[Parallel(n_jobs=1)]: Using backend SequentialBackend with 1 concurrent workers.\n",
      "[Parallel(n_jobs=1)]: Done   1 out of   1 | elapsed:    0.0s remaining:    0.0s\n",
      "[Parallel(n_jobs=1)]: Done   2 out of   2 | elapsed:    0.0s remaining:    0.0s\n",
      "[Parallel(n_jobs=1)]: Done   3 out of   3 | elapsed:    0.0s remaining:    0.0s\n",
      "[Parallel(n_jobs=1)]: Done   4 out of   4 | elapsed:    0.0s remaining:    0.0s\n"
     ]
    },
    {
     "name": "stdout",
     "output_type": "stream",
     "text": [
      "Overwriting existing file.\n",
      "Reading F:\\Documents\\Science\\MirRevAdaptEEG\\data\\eeg\\p011\\lrp\\mra_p011_run0-epo.fif ...\n",
      "    Found the data of interest:\n",
      "        t =   -2000.00 ...    1995.00 ms\n",
      "        0 CTF compensation matrices available\n",
      "Not setting metadata\n"
     ]
    },
    {
     "name": "stderr",
     "output_type": "stream",
     "text": [
      "[Parallel(n_jobs=1)]: Done 768 out of 768 | elapsed:    0.2s finished\n"
     ]
    },
    {
     "name": "stdout",
     "output_type": "stream",
     "text": [
      "419 matching events found\n",
      "No baseline correction applied\n",
      "0 projection items activated\n",
      "Applying baseline correction (mode: mean)\n",
      "Overwriting existing file.\n",
      "Setting up low-pass filter at 30 Hz\n",
      "\n",
      "FIR filter parameters\n",
      "---------------------\n",
      "Designing a one-pass, zero-phase, non-causal lowpass filter:\n",
      "- Windowed time-domain design (firwin) method\n",
      "- Hamming window with 0.0194 passband ripple and 53 dB stopband attenuation\n",
      "- Upper passband edge: 30.00 Hz\n",
      "- Upper transition bandwidth: 7.50 Hz (-6 dB cutoff frequency: 33.75 Hz)\n",
      "- Filter length: 89 samples (0.445 sec)\n",
      "\n"
     ]
    },
    {
     "name": "stderr",
     "output_type": "stream",
     "text": [
      "[Parallel(n_jobs=1)]: Using backend SequentialBackend with 1 concurrent workers.\n",
      "[Parallel(n_jobs=1)]: Done   1 out of   1 | elapsed:    0.0s remaining:    0.0s\n",
      "[Parallel(n_jobs=1)]: Done   2 out of   2 | elapsed:    0.0s remaining:    0.0s\n",
      "[Parallel(n_jobs=1)]: Done   3 out of   3 | elapsed:    0.0s remaining:    0.0s\n",
      "[Parallel(n_jobs=1)]: Done   4 out of   4 | elapsed:    0.0s remaining:    0.0s\n"
     ]
    },
    {
     "name": "stdout",
     "output_type": "stream",
     "text": [
      "Overwriting existing file.\n",
      "Overwriting existing file.\n",
      "Setting up low-pass filter at 30 Hz\n",
      "\n",
      "FIR filter parameters\n",
      "---------------------\n",
      "Designing a one-pass, zero-phase, non-causal lowpass filter:\n",
      "- Windowed time-domain design (firwin) method\n",
      "- Hamming window with 0.0194 passband ripple and 53 dB stopband attenuation\n",
      "- Upper passband edge: 30.00 Hz\n",
      "- Upper transition bandwidth: 7.50 Hz (-6 dB cutoff frequency: 33.75 Hz)\n",
      "- Filter length: 89 samples (0.445 sec)\n",
      "\n"
     ]
    },
    {
     "name": "stderr",
     "output_type": "stream",
     "text": [
      "[Parallel(n_jobs=1)]: Done 768 out of 768 | elapsed:    0.2s finished\n",
      "[Parallel(n_jobs=1)]: Using backend SequentialBackend with 1 concurrent workers.\n",
      "[Parallel(n_jobs=1)]: Done   1 out of   1 | elapsed:    0.0s remaining:    0.0s\n",
      "[Parallel(n_jobs=1)]: Done   2 out of   2 | elapsed:    0.0s remaining:    0.0s\n",
      "[Parallel(n_jobs=1)]: Done   3 out of   3 | elapsed:    0.0s remaining:    0.0s\n",
      "[Parallel(n_jobs=1)]: Done   4 out of   4 | elapsed:    0.0s remaining:    0.0s\n"
     ]
    },
    {
     "name": "stdout",
     "output_type": "stream",
     "text": [
      "Overwriting existing file.\n",
      "Reading F:\\Documents\\Science\\MirRevAdaptEEG\\data\\eeg\\p012\\lrp\\mra_p012_run0-epo.fif ...\n",
      "    Found the data of interest:\n",
      "        t =   -2000.00 ...    1995.00 ms\n",
      "        0 CTF compensation matrices available\n"
     ]
    },
    {
     "name": "stderr",
     "output_type": "stream",
     "text": [
      "[Parallel(n_jobs=1)]: Done 768 out of 768 | elapsed:    0.2s finished\n"
     ]
    },
    {
     "name": "stdout",
     "output_type": "stream",
     "text": [
      "Not setting metadata\n",
      "412 matching events found\n",
      "No baseline correction applied\n",
      "0 projection items activated\n",
      "Applying baseline correction (mode: mean)\n",
      "Overwriting existing file.\n",
      "Setting up low-pass filter at 30 Hz\n",
      "\n",
      "FIR filter parameters\n",
      "---------------------\n",
      "Designing a one-pass, zero-phase, non-causal lowpass filter:\n",
      "- Windowed time-domain design (firwin) method\n",
      "- Hamming window with 0.0194 passband ripple and 53 dB stopband attenuation\n",
      "- Upper passband edge: 30.00 Hz\n",
      "- Upper transition bandwidth: 7.50 Hz (-6 dB cutoff frequency: 33.75 Hz)\n",
      "- Filter length: 89 samples (0.445 sec)\n",
      "\n"
     ]
    },
    {
     "name": "stderr",
     "output_type": "stream",
     "text": [
      "[Parallel(n_jobs=1)]: Using backend SequentialBackend with 1 concurrent workers.\n",
      "[Parallel(n_jobs=1)]: Done   1 out of   1 | elapsed:    0.0s remaining:    0.0s\n",
      "[Parallel(n_jobs=1)]: Done   2 out of   2 | elapsed:    0.0s remaining:    0.0s\n",
      "[Parallel(n_jobs=1)]: Done   3 out of   3 | elapsed:    0.0s remaining:    0.0s\n",
      "[Parallel(n_jobs=1)]: Done   4 out of   4 | elapsed:    0.0s remaining:    0.0s\n"
     ]
    },
    {
     "name": "stdout",
     "output_type": "stream",
     "text": [
      "Overwriting existing file.\n",
      "Overwriting existing file.\n",
      "Setting up low-pass filter at 30 Hz\n",
      "\n",
      "FIR filter parameters\n",
      "---------------------\n",
      "Designing a one-pass, zero-phase, non-causal lowpass filter:\n",
      "- Windowed time-domain design (firwin) method\n",
      "- Hamming window with 0.0194 passband ripple and 53 dB stopband attenuation\n",
      "- Upper passband edge: 30.00 Hz\n",
      "- Upper transition bandwidth: 7.50 Hz (-6 dB cutoff frequency: 33.75 Hz)\n",
      "- Filter length: 89 samples (0.445 sec)\n",
      "\n"
     ]
    },
    {
     "name": "stderr",
     "output_type": "stream",
     "text": [
      "[Parallel(n_jobs=1)]: Done 768 out of 768 | elapsed:    0.2s finished\n",
      "[Parallel(n_jobs=1)]: Using backend SequentialBackend with 1 concurrent workers.\n",
      "[Parallel(n_jobs=1)]: Done   1 out of   1 | elapsed:    0.0s remaining:    0.0s\n",
      "[Parallel(n_jobs=1)]: Done   2 out of   2 | elapsed:    0.0s remaining:    0.0s\n",
      "[Parallel(n_jobs=1)]: Done   3 out of   3 | elapsed:    0.0s remaining:    0.0s\n",
      "[Parallel(n_jobs=1)]: Done   4 out of   4 | elapsed:    0.0s remaining:    0.0s\n"
     ]
    },
    {
     "name": "stdout",
     "output_type": "stream",
     "text": [
      "Overwriting existing file.\n",
      "Reading F:\\Documents\\Science\\MirRevAdaptEEG\\data\\eeg\\p013\\lrp\\mra_p013_run0-epo.fif ...\n",
      "    Found the data of interest:\n",
      "        t =   -2000.00 ...    1995.00 ms\n",
      "        0 CTF compensation matrices available\n",
      "Not setting metadata\n"
     ]
    },
    {
     "name": "stderr",
     "output_type": "stream",
     "text": [
      "[Parallel(n_jobs=1)]: Done 768 out of 768 | elapsed:    0.2s finished\n"
     ]
    },
    {
     "name": "stdout",
     "output_type": "stream",
     "text": [
      "416 matching events found\n",
      "No baseline correction applied\n",
      "0 projection items activated\n",
      "Applying baseline correction (mode: mean)\n",
      "Overwriting existing file.\n",
      "Setting up low-pass filter at 30 Hz\n",
      "\n",
      "FIR filter parameters\n",
      "---------------------\n",
      "Designing a one-pass, zero-phase, non-causal lowpass filter:\n",
      "- Windowed time-domain design (firwin) method\n",
      "- Hamming window with 0.0194 passband ripple and 53 dB stopband attenuation\n",
      "- Upper passband edge: 30.00 Hz\n",
      "- Upper transition bandwidth: 7.50 Hz (-6 dB cutoff frequency: 33.75 Hz)\n",
      "- Filter length: 89 samples (0.445 sec)\n",
      "\n"
     ]
    },
    {
     "name": "stderr",
     "output_type": "stream",
     "text": [
      "[Parallel(n_jobs=1)]: Using backend SequentialBackend with 1 concurrent workers.\n",
      "[Parallel(n_jobs=1)]: Done   1 out of   1 | elapsed:    0.0s remaining:    0.0s\n",
      "[Parallel(n_jobs=1)]: Done   2 out of   2 | elapsed:    0.0s remaining:    0.0s\n",
      "[Parallel(n_jobs=1)]: Done   3 out of   3 | elapsed:    0.0s remaining:    0.0s\n",
      "[Parallel(n_jobs=1)]: Done   4 out of   4 | elapsed:    0.0s remaining:    0.0s\n"
     ]
    },
    {
     "name": "stdout",
     "output_type": "stream",
     "text": [
      "Overwriting existing file.\n",
      "Overwriting existing file.\n",
      "Setting up low-pass filter at 30 Hz\n",
      "\n",
      "FIR filter parameters\n",
      "---------------------\n",
      "Designing a one-pass, zero-phase, non-causal lowpass filter:\n",
      "- Windowed time-domain design (firwin) method\n",
      "- Hamming window with 0.0194 passband ripple and 53 dB stopband attenuation\n",
      "- Upper passband edge: 30.00 Hz\n",
      "- Upper transition bandwidth: 7.50 Hz (-6 dB cutoff frequency: 33.75 Hz)\n",
      "- Filter length: 89 samples (0.445 sec)\n",
      "\n"
     ]
    },
    {
     "name": "stderr",
     "output_type": "stream",
     "text": [
      "[Parallel(n_jobs=1)]: Done 768 out of 768 | elapsed:    0.2s finished\n",
      "[Parallel(n_jobs=1)]: Using backend SequentialBackend with 1 concurrent workers.\n",
      "[Parallel(n_jobs=1)]: Done   1 out of   1 | elapsed:    0.0s remaining:    0.0s\n",
      "[Parallel(n_jobs=1)]: Done   2 out of   2 | elapsed:    0.0s remaining:    0.0s\n",
      "[Parallel(n_jobs=1)]: Done   3 out of   3 | elapsed:    0.0s remaining:    0.0s\n",
      "[Parallel(n_jobs=1)]: Done   4 out of   4 | elapsed:    0.0s remaining:    0.0s\n"
     ]
    },
    {
     "name": "stdout",
     "output_type": "stream",
     "text": [
      "Overwriting existing file.\n",
      "Reading F:\\Documents\\Science\\MirRevAdaptEEG\\data\\eeg\\p014\\lrp\\mra_p014_run0-epo.fif ...\n",
      "    Found the data of interest:\n",
      "        t =   -2000.00 ...    1995.00 ms\n",
      "        0 CTF compensation matrices available\n"
     ]
    },
    {
     "name": "stderr",
     "output_type": "stream",
     "text": [
      "[Parallel(n_jobs=1)]: Done 768 out of 768 | elapsed:    0.2s finished\n"
     ]
    },
    {
     "name": "stdout",
     "output_type": "stream",
     "text": [
      "Not setting metadata\n",
      "420 matching events found\n",
      "No baseline correction applied\n",
      "0 projection items activated\n",
      "Applying baseline correction (mode: mean)\n",
      "Overwriting existing file.\n",
      "Setting up low-pass filter at 30 Hz\n",
      "\n",
      "FIR filter parameters\n",
      "---------------------\n",
      "Designing a one-pass, zero-phase, non-causal lowpass filter:\n",
      "- Windowed time-domain design (firwin) method\n",
      "- Hamming window with 0.0194 passband ripple and 53 dB stopband attenuation\n",
      "- Upper passband edge: 30.00 Hz\n",
      "- Upper transition bandwidth: 7.50 Hz (-6 dB cutoff frequency: 33.75 Hz)\n",
      "- Filter length: 89 samples (0.445 sec)\n",
      "\n"
     ]
    },
    {
     "name": "stderr",
     "output_type": "stream",
     "text": [
      "[Parallel(n_jobs=1)]: Using backend SequentialBackend with 1 concurrent workers.\n",
      "[Parallel(n_jobs=1)]: Done   1 out of   1 | elapsed:    0.0s remaining:    0.0s\n",
      "[Parallel(n_jobs=1)]: Done   2 out of   2 | elapsed:    0.0s remaining:    0.0s\n",
      "[Parallel(n_jobs=1)]: Done   3 out of   3 | elapsed:    0.0s remaining:    0.0s\n",
      "[Parallel(n_jobs=1)]: Done   4 out of   4 | elapsed:    0.0s remaining:    0.0s\n"
     ]
    },
    {
     "name": "stdout",
     "output_type": "stream",
     "text": [
      "Overwriting existing file.\n",
      "Overwriting existing file.\n",
      "Setting up low-pass filter at 30 Hz\n",
      "\n",
      "FIR filter parameters\n",
      "---------------------\n",
      "Designing a one-pass, zero-phase, non-causal lowpass filter:\n",
      "- Windowed time-domain design (firwin) method\n",
      "- Hamming window with 0.0194 passband ripple and 53 dB stopband attenuation\n",
      "- Upper passband edge: 30.00 Hz\n",
      "- Upper transition bandwidth: 7.50 Hz (-6 dB cutoff frequency: 33.75 Hz)\n",
      "- Filter length: 89 samples (0.445 sec)\n",
      "\n"
     ]
    },
    {
     "name": "stderr",
     "output_type": "stream",
     "text": [
      "[Parallel(n_jobs=1)]: Done 768 out of 768 | elapsed:    0.2s finished\n",
      "[Parallel(n_jobs=1)]: Using backend SequentialBackend with 1 concurrent workers.\n",
      "[Parallel(n_jobs=1)]: Done   1 out of   1 | elapsed:    0.0s remaining:    0.0s\n",
      "[Parallel(n_jobs=1)]: Done   2 out of   2 | elapsed:    0.0s remaining:    0.0s\n",
      "[Parallel(n_jobs=1)]: Done   3 out of   3 | elapsed:    0.0s remaining:    0.0s\n",
      "[Parallel(n_jobs=1)]: Done   4 out of   4 | elapsed:    0.0s remaining:    0.0s\n"
     ]
    },
    {
     "name": "stdout",
     "output_type": "stream",
     "text": [
      "Overwriting existing file.\n",
      "Reading F:\\Documents\\Science\\MirRevAdaptEEG\\data\\eeg\\p015\\lrp\\mra_p015_run0-epo.fif ...\n",
      "    Found the data of interest:\n",
      "        t =   -2000.00 ...    1995.00 ms\n",
      "        0 CTF compensation matrices available\n",
      "Not setting metadata\n"
     ]
    },
    {
     "name": "stderr",
     "output_type": "stream",
     "text": [
      "[Parallel(n_jobs=1)]: Done 768 out of 768 | elapsed:    0.2s finished\n"
     ]
    },
    {
     "name": "stdout",
     "output_type": "stream",
     "text": [
      "420 matching events found\n",
      "No baseline correction applied\n",
      "0 projection items activated\n",
      "Applying baseline correction (mode: mean)\n",
      "Overwriting existing file.\n",
      "Setting up low-pass filter at 30 Hz\n",
      "\n",
      "FIR filter parameters\n",
      "---------------------\n",
      "Designing a one-pass, zero-phase, non-causal lowpass filter:\n",
      "- Windowed time-domain design (firwin) method\n",
      "- Hamming window with 0.0194 passband ripple and 53 dB stopband attenuation\n",
      "- Upper passband edge: 30.00 Hz\n",
      "- Upper transition bandwidth: 7.50 Hz (-6 dB cutoff frequency: 33.75 Hz)\n",
      "- Filter length: 89 samples (0.445 sec)\n",
      "\n"
     ]
    },
    {
     "name": "stderr",
     "output_type": "stream",
     "text": [
      "[Parallel(n_jobs=1)]: Using backend SequentialBackend with 1 concurrent workers.\n",
      "[Parallel(n_jobs=1)]: Done   1 out of   1 | elapsed:    0.0s remaining:    0.0s\n",
      "[Parallel(n_jobs=1)]: Done   2 out of   2 | elapsed:    0.0s remaining:    0.0s\n",
      "[Parallel(n_jobs=1)]: Done   3 out of   3 | elapsed:    0.0s remaining:    0.0s\n",
      "[Parallel(n_jobs=1)]: Done   4 out of   4 | elapsed:    0.0s remaining:    0.0s\n"
     ]
    },
    {
     "name": "stdout",
     "output_type": "stream",
     "text": [
      "Overwriting existing file.\n",
      "Overwriting existing file.\n",
      "Setting up low-pass filter at 30 Hz\n",
      "\n",
      "FIR filter parameters\n",
      "---------------------\n",
      "Designing a one-pass, zero-phase, non-causal lowpass filter:\n",
      "- Windowed time-domain design (firwin) method\n",
      "- Hamming window with 0.0194 passband ripple and 53 dB stopband attenuation\n",
      "- Upper passband edge: 30.00 Hz\n",
      "- Upper transition bandwidth: 7.50 Hz (-6 dB cutoff frequency: 33.75 Hz)\n",
      "- Filter length: 89 samples (0.445 sec)\n",
      "\n"
     ]
    },
    {
     "name": "stderr",
     "output_type": "stream",
     "text": [
      "[Parallel(n_jobs=1)]: Done 768 out of 768 | elapsed:    0.2s finished\n",
      "[Parallel(n_jobs=1)]: Using backend SequentialBackend with 1 concurrent workers.\n",
      "[Parallel(n_jobs=1)]: Done   1 out of   1 | elapsed:    0.0s remaining:    0.0s\n",
      "[Parallel(n_jobs=1)]: Done   2 out of   2 | elapsed:    0.0s remaining:    0.0s\n",
      "[Parallel(n_jobs=1)]: Done   3 out of   3 | elapsed:    0.0s remaining:    0.0s\n",
      "[Parallel(n_jobs=1)]: Done   4 out of   4 | elapsed:    0.0s remaining:    0.0s\n"
     ]
    },
    {
     "name": "stdout",
     "output_type": "stream",
     "text": [
      "Overwriting existing file.\n",
      "Reading F:\\Documents\\Science\\MirRevAdaptEEG\\data\\eeg\\p016\\lrp\\mra_p016_run0-epo.fif ...\n",
      "    Found the data of interest:\n",
      "        t =   -2000.00 ...    1995.00 ms\n",
      "        0 CTF compensation matrices available\n"
     ]
    },
    {
     "name": "stderr",
     "output_type": "stream",
     "text": [
      "[Parallel(n_jobs=1)]: Done 768 out of 768 | elapsed:    0.2s finished\n"
     ]
    },
    {
     "name": "stdout",
     "output_type": "stream",
     "text": [
      "Not setting metadata\n",
      "418 matching events found\n",
      "No baseline correction applied\n",
      "0 projection items activated\n",
      "Applying baseline correction (mode: mean)\n",
      "Overwriting existing file.\n",
      "Setting up low-pass filter at 30 Hz\n",
      "\n",
      "FIR filter parameters\n",
      "---------------------\n",
      "Designing a one-pass, zero-phase, non-causal lowpass filter:\n",
      "- Windowed time-domain design (firwin) method\n",
      "- Hamming window with 0.0194 passband ripple and 53 dB stopband attenuation\n",
      "- Upper passband edge: 30.00 Hz\n",
      "- Upper transition bandwidth: 7.50 Hz (-6 dB cutoff frequency: 33.75 Hz)\n",
      "- Filter length: 89 samples (0.445 sec)\n",
      "\n"
     ]
    },
    {
     "name": "stderr",
     "output_type": "stream",
     "text": [
      "[Parallel(n_jobs=1)]: Using backend SequentialBackend with 1 concurrent workers.\n",
      "[Parallel(n_jobs=1)]: Done   1 out of   1 | elapsed:    0.0s remaining:    0.0s\n",
      "[Parallel(n_jobs=1)]: Done   2 out of   2 | elapsed:    0.0s remaining:    0.0s\n",
      "[Parallel(n_jobs=1)]: Done   3 out of   3 | elapsed:    0.0s remaining:    0.0s\n",
      "[Parallel(n_jobs=1)]: Done   4 out of   4 | elapsed:    0.0s remaining:    0.0s\n"
     ]
    },
    {
     "name": "stdout",
     "output_type": "stream",
     "text": [
      "Overwriting existing file.\n",
      "Overwriting existing file.\n",
      "Setting up low-pass filter at 30 Hz\n",
      "\n",
      "FIR filter parameters\n",
      "---------------------\n",
      "Designing a one-pass, zero-phase, non-causal lowpass filter:\n",
      "- Windowed time-domain design (firwin) method\n",
      "- Hamming window with 0.0194 passband ripple and 53 dB stopband attenuation\n",
      "- Upper passband edge: 30.00 Hz\n",
      "- Upper transition bandwidth: 7.50 Hz (-6 dB cutoff frequency: 33.75 Hz)\n",
      "- Filter length: 89 samples (0.445 sec)\n",
      "\n"
     ]
    },
    {
     "name": "stderr",
     "output_type": "stream",
     "text": [
      "[Parallel(n_jobs=1)]: Done 768 out of 768 | elapsed:    0.2s finished\n",
      "[Parallel(n_jobs=1)]: Using backend SequentialBackend with 1 concurrent workers.\n",
      "[Parallel(n_jobs=1)]: Done   1 out of   1 | elapsed:    0.0s remaining:    0.0s\n",
      "[Parallel(n_jobs=1)]: Done   2 out of   2 | elapsed:    0.0s remaining:    0.0s\n",
      "[Parallel(n_jobs=1)]: Done   3 out of   3 | elapsed:    0.0s remaining:    0.0s\n",
      "[Parallel(n_jobs=1)]: Done   4 out of   4 | elapsed:    0.0s remaining:    0.0s\n"
     ]
    },
    {
     "name": "stdout",
     "output_type": "stream",
     "text": [
      "Overwriting existing file.\n",
      "Reading F:\\Documents\\Science\\MirRevAdaptEEG\\data\\eeg\\p017\\lrp\\mra_p017_run0-epo.fif ...\n",
      "    Found the data of interest:\n",
      "        t =   -2000.00 ...    1995.00 ms\n",
      "        0 CTF compensation matrices available\n",
      "Not setting metadata\n"
     ]
    },
    {
     "name": "stderr",
     "output_type": "stream",
     "text": [
      "[Parallel(n_jobs=1)]: Done 768 out of 768 | elapsed:    0.2s finished\n"
     ]
    },
    {
     "name": "stdout",
     "output_type": "stream",
     "text": [
      "418 matching events found\n",
      "No baseline correction applied\n",
      "0 projection items activated\n",
      "Applying baseline correction (mode: mean)\n",
      "Overwriting existing file.\n",
      "Setting up low-pass filter at 30 Hz\n",
      "\n",
      "FIR filter parameters\n",
      "---------------------\n",
      "Designing a one-pass, zero-phase, non-causal lowpass filter:\n",
      "- Windowed time-domain design (firwin) method\n",
      "- Hamming window with 0.0194 passband ripple and 53 dB stopband attenuation\n",
      "- Upper passband edge: 30.00 Hz\n",
      "- Upper transition bandwidth: 7.50 Hz (-6 dB cutoff frequency: 33.75 Hz)\n",
      "- Filter length: 89 samples (0.445 sec)\n",
      "\n"
     ]
    },
    {
     "name": "stderr",
     "output_type": "stream",
     "text": [
      "[Parallel(n_jobs=1)]: Using backend SequentialBackend with 1 concurrent workers.\n",
      "[Parallel(n_jobs=1)]: Done   1 out of   1 | elapsed:    0.0s remaining:    0.0s\n",
      "[Parallel(n_jobs=1)]: Done   2 out of   2 | elapsed:    0.0s remaining:    0.0s\n",
      "[Parallel(n_jobs=1)]: Done   3 out of   3 | elapsed:    0.0s remaining:    0.0s\n",
      "[Parallel(n_jobs=1)]: Done   4 out of   4 | elapsed:    0.0s remaining:    0.0s\n"
     ]
    },
    {
     "name": "stdout",
     "output_type": "stream",
     "text": [
      "Overwriting existing file.\n",
      "Overwriting existing file.\n",
      "Setting up low-pass filter at 30 Hz\n",
      "\n",
      "FIR filter parameters\n",
      "---------------------\n",
      "Designing a one-pass, zero-phase, non-causal lowpass filter:\n",
      "- Windowed time-domain design (firwin) method\n",
      "- Hamming window with 0.0194 passband ripple and 53 dB stopband attenuation\n",
      "- Upper passband edge: 30.00 Hz\n",
      "- Upper transition bandwidth: 7.50 Hz (-6 dB cutoff frequency: 33.75 Hz)\n",
      "- Filter length: 89 samples (0.445 sec)\n",
      "\n"
     ]
    },
    {
     "name": "stderr",
     "output_type": "stream",
     "text": [
      "[Parallel(n_jobs=1)]: Done 768 out of 768 | elapsed:    0.2s finished\n",
      "[Parallel(n_jobs=1)]: Using backend SequentialBackend with 1 concurrent workers.\n",
      "[Parallel(n_jobs=1)]: Done   1 out of   1 | elapsed:    0.0s remaining:    0.0s\n",
      "[Parallel(n_jobs=1)]: Done   2 out of   2 | elapsed:    0.0s remaining:    0.0s\n",
      "[Parallel(n_jobs=1)]: Done   3 out of   3 | elapsed:    0.0s remaining:    0.0s\n",
      "[Parallel(n_jobs=1)]: Done   4 out of   4 | elapsed:    0.0s remaining:    0.0s\n"
     ]
    },
    {
     "name": "stdout",
     "output_type": "stream",
     "text": [
      "Overwriting existing file.\n",
      "Reading F:\\Documents\\Science\\MirRevAdaptEEG\\data\\eeg\\p018\\lrp\\mra_p018_run0-epo.fif ...\n",
      "    Found the data of interest:\n",
      "        t =   -2000.00 ...    1995.00 ms\n",
      "        0 CTF compensation matrices available\n",
      "Not setting metadata\n"
     ]
    },
    {
     "name": "stderr",
     "output_type": "stream",
     "text": [
      "[Parallel(n_jobs=1)]: Done 768 out of 768 | elapsed:    0.2s finished\n"
     ]
    },
    {
     "name": "stdout",
     "output_type": "stream",
     "text": [
      "419 matching events found\n",
      "No baseline correction applied\n",
      "0 projection items activated\n",
      "Applying baseline correction (mode: mean)\n",
      "Overwriting existing file.\n",
      "Setting up low-pass filter at 30 Hz\n",
      "\n",
      "FIR filter parameters\n",
      "---------------------\n",
      "Designing a one-pass, zero-phase, non-causal lowpass filter:\n",
      "- Windowed time-domain design (firwin) method\n",
      "- Hamming window with 0.0194 passband ripple and 53 dB stopband attenuation\n",
      "- Upper passband edge: 30.00 Hz\n",
      "- Upper transition bandwidth: 7.50 Hz (-6 dB cutoff frequency: 33.75 Hz)\n",
      "- Filter length: 89 samples (0.445 sec)\n",
      "\n"
     ]
    },
    {
     "name": "stderr",
     "output_type": "stream",
     "text": [
      "[Parallel(n_jobs=1)]: Using backend SequentialBackend with 1 concurrent workers.\n",
      "[Parallel(n_jobs=1)]: Done   1 out of   1 | elapsed:    0.0s remaining:    0.0s\n",
      "[Parallel(n_jobs=1)]: Done   2 out of   2 | elapsed:    0.0s remaining:    0.0s\n",
      "[Parallel(n_jobs=1)]: Done   3 out of   3 | elapsed:    0.0s remaining:    0.0s\n",
      "[Parallel(n_jobs=1)]: Done   4 out of   4 | elapsed:    0.0s remaining:    0.0s\n"
     ]
    },
    {
     "name": "stdout",
     "output_type": "stream",
     "text": [
      "Overwriting existing file.\n",
      "Overwriting existing file.\n",
      "Setting up low-pass filter at 30 Hz\n",
      "\n",
      "FIR filter parameters\n",
      "---------------------\n",
      "Designing a one-pass, zero-phase, non-causal lowpass filter:\n",
      "- Windowed time-domain design (firwin) method\n",
      "- Hamming window with 0.0194 passband ripple and 53 dB stopband attenuation\n",
      "- Upper passband edge: 30.00 Hz\n",
      "- Upper transition bandwidth: 7.50 Hz (-6 dB cutoff frequency: 33.75 Hz)\n",
      "- Filter length: 89 samples (0.445 sec)\n",
      "\n"
     ]
    },
    {
     "name": "stderr",
     "output_type": "stream",
     "text": [
      "[Parallel(n_jobs=1)]: Done 768 out of 768 | elapsed:    0.2s finished\n",
      "[Parallel(n_jobs=1)]: Using backend SequentialBackend with 1 concurrent workers.\n",
      "[Parallel(n_jobs=1)]: Done   1 out of   1 | elapsed:    0.0s remaining:    0.0s\n",
      "[Parallel(n_jobs=1)]: Done   2 out of   2 | elapsed:    0.0s remaining:    0.0s\n",
      "[Parallel(n_jobs=1)]: Done   3 out of   3 | elapsed:    0.0s remaining:    0.0s\n",
      "[Parallel(n_jobs=1)]: Done   4 out of   4 | elapsed:    0.0s remaining:    0.0s\n"
     ]
    },
    {
     "name": "stdout",
     "output_type": "stream",
     "text": [
      "Overwriting existing file.\n",
      "Reading F:\\Documents\\Science\\MirRevAdaptEEG\\data\\eeg\\p019\\lrp\\mra_p019_run0-epo.fif ...\n",
      "    Found the data of interest:\n",
      "        t =   -2000.00 ...    1995.00 ms\n",
      "        0 CTF compensation matrices available\n",
      "Not setting metadata\n"
     ]
    },
    {
     "name": "stderr",
     "output_type": "stream",
     "text": [
      "[Parallel(n_jobs=1)]: Done 768 out of 768 | elapsed:    0.2s finished\n"
     ]
    },
    {
     "name": "stdout",
     "output_type": "stream",
     "text": [
      "419 matching events found\n",
      "No baseline correction applied\n",
      "0 projection items activated\n",
      "Applying baseline correction (mode: mean)\n",
      "Overwriting existing file.\n",
      "Setting up low-pass filter at 30 Hz\n",
      "\n",
      "FIR filter parameters\n",
      "---------------------\n",
      "Designing a one-pass, zero-phase, non-causal lowpass filter:\n",
      "- Windowed time-domain design (firwin) method\n",
      "- Hamming window with 0.0194 passband ripple and 53 dB stopband attenuation\n",
      "- Upper passband edge: 30.00 Hz\n",
      "- Upper transition bandwidth: 7.50 Hz (-6 dB cutoff frequency: 33.75 Hz)\n",
      "- Filter length: 89 samples (0.445 sec)\n",
      "\n"
     ]
    },
    {
     "name": "stderr",
     "output_type": "stream",
     "text": [
      "[Parallel(n_jobs=1)]: Using backend SequentialBackend with 1 concurrent workers.\n",
      "[Parallel(n_jobs=1)]: Done   1 out of   1 | elapsed:    0.0s remaining:    0.0s\n",
      "[Parallel(n_jobs=1)]: Done   2 out of   2 | elapsed:    0.0s remaining:    0.0s\n",
      "[Parallel(n_jobs=1)]: Done   3 out of   3 | elapsed:    0.0s remaining:    0.0s\n",
      "[Parallel(n_jobs=1)]: Done   4 out of   4 | elapsed:    0.0s remaining:    0.0s\n"
     ]
    },
    {
     "name": "stdout",
     "output_type": "stream",
     "text": [
      "Overwriting existing file.\n",
      "Overwriting existing file.\n",
      "Setting up low-pass filter at 30 Hz\n",
      "\n",
      "FIR filter parameters\n",
      "---------------------\n",
      "Designing a one-pass, zero-phase, non-causal lowpass filter:\n",
      "- Windowed time-domain design (firwin) method\n",
      "- Hamming window with 0.0194 passband ripple and 53 dB stopband attenuation\n",
      "- Upper passband edge: 30.00 Hz\n",
      "- Upper transition bandwidth: 7.50 Hz (-6 dB cutoff frequency: 33.75 Hz)\n",
      "- Filter length: 89 samples (0.445 sec)\n",
      "\n"
     ]
    },
    {
     "name": "stderr",
     "output_type": "stream",
     "text": [
      "[Parallel(n_jobs=1)]: Done 768 out of 768 | elapsed:    0.2s finished\n",
      "[Parallel(n_jobs=1)]: Using backend SequentialBackend with 1 concurrent workers.\n",
      "[Parallel(n_jobs=1)]: Done   1 out of   1 | elapsed:    0.0s remaining:    0.0s\n",
      "[Parallel(n_jobs=1)]: Done   2 out of   2 | elapsed:    0.0s remaining:    0.0s\n",
      "[Parallel(n_jobs=1)]: Done   3 out of   3 | elapsed:    0.0s remaining:    0.0s\n",
      "[Parallel(n_jobs=1)]: Done   4 out of   4 | elapsed:    0.0s remaining:    0.0s\n"
     ]
    },
    {
     "name": "stdout",
     "output_type": "stream",
     "text": [
      "Overwriting existing file.\n",
      "Reading F:\\Documents\\Science\\MirRevAdaptEEG\\data\\eeg\\p020\\lrp\\mra_p020_run0-epo.fif ...\n",
      "    Found the data of interest:\n",
      "        t =   -2000.00 ...    1995.00 ms\n",
      "        0 CTF compensation matrices available\n",
      "Not setting metadata\n"
     ]
    },
    {
     "name": "stderr",
     "output_type": "stream",
     "text": [
      "[Parallel(n_jobs=1)]: Done 768 out of 768 | elapsed:    0.2s finished\n"
     ]
    },
    {
     "name": "stdout",
     "output_type": "stream",
     "text": [
      "420 matching events found\n",
      "No baseline correction applied\n",
      "0 projection items activated\n",
      "Applying baseline correction (mode: mean)\n",
      "Overwriting existing file.\n",
      "Setting up low-pass filter at 30 Hz\n",
      "\n",
      "FIR filter parameters\n",
      "---------------------\n",
      "Designing a one-pass, zero-phase, non-causal lowpass filter:\n",
      "- Windowed time-domain design (firwin) method\n",
      "- Hamming window with 0.0194 passband ripple and 53 dB stopband attenuation\n",
      "- Upper passband edge: 30.00 Hz\n",
      "- Upper transition bandwidth: 7.50 Hz (-6 dB cutoff frequency: 33.75 Hz)\n",
      "- Filter length: 89 samples (0.445 sec)\n",
      "\n"
     ]
    },
    {
     "name": "stderr",
     "output_type": "stream",
     "text": [
      "[Parallel(n_jobs=1)]: Using backend SequentialBackend with 1 concurrent workers.\n",
      "[Parallel(n_jobs=1)]: Done   1 out of   1 | elapsed:    0.0s remaining:    0.0s\n",
      "[Parallel(n_jobs=1)]: Done   2 out of   2 | elapsed:    0.0s remaining:    0.0s\n",
      "[Parallel(n_jobs=1)]: Done   3 out of   3 | elapsed:    0.0s remaining:    0.0s\n",
      "[Parallel(n_jobs=1)]: Done   4 out of   4 | elapsed:    0.0s remaining:    0.0s\n"
     ]
    },
    {
     "name": "stdout",
     "output_type": "stream",
     "text": [
      "Overwriting existing file.\n",
      "Overwriting existing file.\n",
      "Setting up low-pass filter at 30 Hz\n",
      "\n",
      "FIR filter parameters\n",
      "---------------------\n",
      "Designing a one-pass, zero-phase, non-causal lowpass filter:\n",
      "- Windowed time-domain design (firwin) method\n",
      "- Hamming window with 0.0194 passband ripple and 53 dB stopband attenuation\n",
      "- Upper passband edge: 30.00 Hz\n",
      "- Upper transition bandwidth: 7.50 Hz (-6 dB cutoff frequency: 33.75 Hz)\n",
      "- Filter length: 89 samples (0.445 sec)\n",
      "\n"
     ]
    },
    {
     "name": "stderr",
     "output_type": "stream",
     "text": [
      "[Parallel(n_jobs=1)]: Done 768 out of 768 | elapsed:    0.2s finished\n",
      "[Parallel(n_jobs=1)]: Using backend SequentialBackend with 1 concurrent workers.\n",
      "[Parallel(n_jobs=1)]: Done   1 out of   1 | elapsed:    0.0s remaining:    0.0s\n",
      "[Parallel(n_jobs=1)]: Done   2 out of   2 | elapsed:    0.0s remaining:    0.0s\n",
      "[Parallel(n_jobs=1)]: Done   3 out of   3 | elapsed:    0.0s remaining:    0.0s\n",
      "[Parallel(n_jobs=1)]: Done   4 out of   4 | elapsed:    0.0s remaining:    0.0s\n"
     ]
    },
    {
     "name": "stdout",
     "output_type": "stream",
     "text": [
      "Overwriting existing file.\n",
      "Reading F:\\Documents\\Science\\MirRevAdaptEEG\\data\\eeg\\p021\\lrp\\mra_p021_run0-epo.fif ...\n",
      "    Found the data of interest:\n",
      "        t =   -2000.00 ...    1995.00 ms\n",
      "        0 CTF compensation matrices available\n",
      "Not setting metadata\n"
     ]
    },
    {
     "name": "stderr",
     "output_type": "stream",
     "text": [
      "[Parallel(n_jobs=1)]: Done 768 out of 768 | elapsed:    0.2s finished\n"
     ]
    },
    {
     "name": "stdout",
     "output_type": "stream",
     "text": [
      "419 matching events found\n",
      "No baseline correction applied\n",
      "0 projection items activated\n",
      "Applying baseline correction (mode: mean)\n",
      "Overwriting existing file.\n",
      "Setting up low-pass filter at 30 Hz\n",
      "\n",
      "FIR filter parameters\n",
      "---------------------\n",
      "Designing a one-pass, zero-phase, non-causal lowpass filter:\n",
      "- Windowed time-domain design (firwin) method\n",
      "- Hamming window with 0.0194 passband ripple and 53 dB stopband attenuation\n",
      "- Upper passband edge: 30.00 Hz\n",
      "- Upper transition bandwidth: 7.50 Hz (-6 dB cutoff frequency: 33.75 Hz)\n",
      "- Filter length: 89 samples (0.445 sec)\n",
      "\n"
     ]
    },
    {
     "name": "stderr",
     "output_type": "stream",
     "text": [
      "[Parallel(n_jobs=1)]: Using backend SequentialBackend with 1 concurrent workers.\n",
      "[Parallel(n_jobs=1)]: Done   1 out of   1 | elapsed:    0.0s remaining:    0.0s\n",
      "[Parallel(n_jobs=1)]: Done   2 out of   2 | elapsed:    0.0s remaining:    0.0s\n",
      "[Parallel(n_jobs=1)]: Done   3 out of   3 | elapsed:    0.0s remaining:    0.0s\n",
      "[Parallel(n_jobs=1)]: Done   4 out of   4 | elapsed:    0.0s remaining:    0.0s\n"
     ]
    },
    {
     "name": "stdout",
     "output_type": "stream",
     "text": [
      "Overwriting existing file.\n",
      "Overwriting existing file.\n",
      "Setting up low-pass filter at 30 Hz\n",
      "\n",
      "FIR filter parameters\n",
      "---------------------\n",
      "Designing a one-pass, zero-phase, non-causal lowpass filter:\n",
      "- Windowed time-domain design (firwin) method\n",
      "- Hamming window with 0.0194 passband ripple and 53 dB stopband attenuation\n",
      "- Upper passband edge: 30.00 Hz\n",
      "- Upper transition bandwidth: 7.50 Hz (-6 dB cutoff frequency: 33.75 Hz)\n",
      "- Filter length: 89 samples (0.445 sec)\n",
      "\n"
     ]
    },
    {
     "name": "stderr",
     "output_type": "stream",
     "text": [
      "[Parallel(n_jobs=1)]: Done 768 out of 768 | elapsed:    0.2s finished\n",
      "[Parallel(n_jobs=1)]: Using backend SequentialBackend with 1 concurrent workers.\n",
      "[Parallel(n_jobs=1)]: Done   1 out of   1 | elapsed:    0.0s remaining:    0.0s\n",
      "[Parallel(n_jobs=1)]: Done   2 out of   2 | elapsed:    0.0s remaining:    0.0s\n",
      "[Parallel(n_jobs=1)]: Done   3 out of   3 | elapsed:    0.0s remaining:    0.0s\n",
      "[Parallel(n_jobs=1)]: Done   4 out of   4 | elapsed:    0.0s remaining:    0.0s\n"
     ]
    },
    {
     "name": "stdout",
     "output_type": "stream",
     "text": [
      "Overwriting existing file.\n",
      "Reading F:\\Documents\\Science\\MirRevAdaptEEG\\data\\eeg\\p022\\lrp\\mra_p022_run0-epo.fif ...\n",
      "    Found the data of interest:\n",
      "        t =   -2000.00 ...    1995.00 ms\n",
      "        0 CTF compensation matrices available\n"
     ]
    },
    {
     "name": "stderr",
     "output_type": "stream",
     "text": [
      "[Parallel(n_jobs=1)]: Done 768 out of 768 | elapsed:    0.2s finished\n"
     ]
    },
    {
     "name": "stdout",
     "output_type": "stream",
     "text": [
      "Not setting metadata\n",
      "420 matching events found\n",
      "No baseline correction applied\n",
      "0 projection items activated\n",
      "Applying baseline correction (mode: mean)\n",
      "Overwriting existing file.\n",
      "Setting up low-pass filter at 30 Hz\n",
      "\n",
      "FIR filter parameters\n",
      "---------------------\n",
      "Designing a one-pass, zero-phase, non-causal lowpass filter:\n",
      "- Windowed time-domain design (firwin) method\n",
      "- Hamming window with 0.0194 passband ripple and 53 dB stopband attenuation\n",
      "- Upper passband edge: 30.00 Hz\n",
      "- Upper transition bandwidth: 7.50 Hz (-6 dB cutoff frequency: 33.75 Hz)\n",
      "- Filter length: 89 samples (0.445 sec)\n",
      "\n"
     ]
    },
    {
     "name": "stderr",
     "output_type": "stream",
     "text": [
      "[Parallel(n_jobs=1)]: Using backend SequentialBackend with 1 concurrent workers.\n",
      "[Parallel(n_jobs=1)]: Done   1 out of   1 | elapsed:    0.0s remaining:    0.0s\n",
      "[Parallel(n_jobs=1)]: Done   2 out of   2 | elapsed:    0.0s remaining:    0.0s\n",
      "[Parallel(n_jobs=1)]: Done   3 out of   3 | elapsed:    0.0s remaining:    0.0s\n",
      "[Parallel(n_jobs=1)]: Done   4 out of   4 | elapsed:    0.0s remaining:    0.0s\n"
     ]
    },
    {
     "name": "stdout",
     "output_type": "stream",
     "text": [
      "Overwriting existing file.\n",
      "Overwriting existing file.\n",
      "Setting up low-pass filter at 30 Hz\n",
      "\n",
      "FIR filter parameters\n",
      "---------------------\n",
      "Designing a one-pass, zero-phase, non-causal lowpass filter:\n",
      "- Windowed time-domain design (firwin) method\n",
      "- Hamming window with 0.0194 passband ripple and 53 dB stopband attenuation\n",
      "- Upper passband edge: 30.00 Hz\n",
      "- Upper transition bandwidth: 7.50 Hz (-6 dB cutoff frequency: 33.75 Hz)\n",
      "- Filter length: 89 samples (0.445 sec)\n",
      "\n"
     ]
    },
    {
     "name": "stderr",
     "output_type": "stream",
     "text": [
      "[Parallel(n_jobs=1)]: Done 768 out of 768 | elapsed:    0.2s finished\n",
      "[Parallel(n_jobs=1)]: Using backend SequentialBackend with 1 concurrent workers.\n",
      "[Parallel(n_jobs=1)]: Done   1 out of   1 | elapsed:    0.0s remaining:    0.0s\n",
      "[Parallel(n_jobs=1)]: Done   2 out of   2 | elapsed:    0.0s remaining:    0.0s\n",
      "[Parallel(n_jobs=1)]: Done   3 out of   3 | elapsed:    0.0s remaining:    0.0s\n",
      "[Parallel(n_jobs=1)]: Done   4 out of   4 | elapsed:    0.0s remaining:    0.0s\n"
     ]
    },
    {
     "name": "stdout",
     "output_type": "stream",
     "text": [
      "Overwriting existing file.\n",
      "Reading F:\\Documents\\Science\\MirRevAdaptEEG\\data\\eeg\\p023\\lrp\\mra_p023_run0-epo.fif ...\n",
      "    Found the data of interest:\n",
      "        t =   -2000.00 ...    1995.00 ms\n",
      "        0 CTF compensation matrices available\n"
     ]
    },
    {
     "name": "stderr",
     "output_type": "stream",
     "text": [
      "[Parallel(n_jobs=1)]: Done 768 out of 768 | elapsed:    0.2s finished\n"
     ]
    },
    {
     "name": "stdout",
     "output_type": "stream",
     "text": [
      "Not setting metadata\n",
      "420 matching events found\n",
      "No baseline correction applied\n",
      "0 projection items activated\n",
      "Applying baseline correction (mode: mean)\n",
      "Overwriting existing file.\n",
      "Setting up low-pass filter at 30 Hz\n",
      "\n",
      "FIR filter parameters\n",
      "---------------------\n",
      "Designing a one-pass, zero-phase, non-causal lowpass filter:\n",
      "- Windowed time-domain design (firwin) method\n",
      "- Hamming window with 0.0194 passband ripple and 53 dB stopband attenuation\n",
      "- Upper passband edge: 30.00 Hz\n",
      "- Upper transition bandwidth: 7.50 Hz (-6 dB cutoff frequency: 33.75 Hz)\n",
      "- Filter length: 89 samples (0.445 sec)\n",
      "\n"
     ]
    },
    {
     "name": "stderr",
     "output_type": "stream",
     "text": [
      "[Parallel(n_jobs=1)]: Using backend SequentialBackend with 1 concurrent workers.\n",
      "[Parallel(n_jobs=1)]: Done   1 out of   1 | elapsed:    0.0s remaining:    0.0s\n",
      "[Parallel(n_jobs=1)]: Done   2 out of   2 | elapsed:    0.0s remaining:    0.0s\n",
      "[Parallel(n_jobs=1)]: Done   3 out of   3 | elapsed:    0.0s remaining:    0.0s\n",
      "[Parallel(n_jobs=1)]: Done   4 out of   4 | elapsed:    0.0s remaining:    0.0s\n"
     ]
    },
    {
     "name": "stdout",
     "output_type": "stream",
     "text": [
      "Overwriting existing file.\n",
      "Overwriting existing file.\n",
      "Setting up low-pass filter at 30 Hz\n",
      "\n",
      "FIR filter parameters\n",
      "---------------------\n",
      "Designing a one-pass, zero-phase, non-causal lowpass filter:\n",
      "- Windowed time-domain design (firwin) method\n",
      "- Hamming window with 0.0194 passband ripple and 53 dB stopband attenuation\n",
      "- Upper passband edge: 30.00 Hz\n",
      "- Upper transition bandwidth: 7.50 Hz (-6 dB cutoff frequency: 33.75 Hz)\n",
      "- Filter length: 89 samples (0.445 sec)\n",
      "\n"
     ]
    },
    {
     "name": "stderr",
     "output_type": "stream",
     "text": [
      "[Parallel(n_jobs=1)]: Done 768 out of 768 | elapsed:    0.2s finished\n",
      "[Parallel(n_jobs=1)]: Using backend SequentialBackend with 1 concurrent workers.\n",
      "[Parallel(n_jobs=1)]: Done   1 out of   1 | elapsed:    0.0s remaining:    0.0s\n",
      "[Parallel(n_jobs=1)]: Done   2 out of   2 | elapsed:    0.0s remaining:    0.0s\n",
      "[Parallel(n_jobs=1)]: Done   3 out of   3 | elapsed:    0.0s remaining:    0.0s\n",
      "[Parallel(n_jobs=1)]: Done   4 out of   4 | elapsed:    0.0s remaining:    0.0s\n"
     ]
    },
    {
     "name": "stdout",
     "output_type": "stream",
     "text": [
      "Overwriting existing file.\n",
      "Reading F:\\Documents\\Science\\MirRevAdaptEEG\\data\\eeg\\p024\\lrp\\mra_p024_run0-epo.fif ...\n",
      "    Found the data of interest:\n",
      "        t =   -2000.00 ...    1995.00 ms\n",
      "        0 CTF compensation matrices available\n",
      "Not setting metadata\n"
     ]
    },
    {
     "name": "stderr",
     "output_type": "stream",
     "text": [
      "[Parallel(n_jobs=1)]: Done 768 out of 768 | elapsed:    0.2s finished\n"
     ]
    },
    {
     "name": "stdout",
     "output_type": "stream",
     "text": [
      "420 matching events found\n",
      "No baseline correction applied\n",
      "0 projection items activated\n",
      "Applying baseline correction (mode: mean)\n",
      "Overwriting existing file.\n",
      "Setting up low-pass filter at 30 Hz\n",
      "\n",
      "FIR filter parameters\n",
      "---------------------\n",
      "Designing a one-pass, zero-phase, non-causal lowpass filter:\n",
      "- Windowed time-domain design (firwin) method\n",
      "- Hamming window with 0.0194 passband ripple and 53 dB stopband attenuation\n",
      "- Upper passband edge: 30.00 Hz\n",
      "- Upper transition bandwidth: 7.50 Hz (-6 dB cutoff frequency: 33.75 Hz)\n",
      "- Filter length: 89 samples (0.445 sec)\n",
      "\n"
     ]
    },
    {
     "name": "stderr",
     "output_type": "stream",
     "text": [
      "[Parallel(n_jobs=1)]: Using backend SequentialBackend with 1 concurrent workers.\n",
      "[Parallel(n_jobs=1)]: Done   1 out of   1 | elapsed:    0.0s remaining:    0.0s\n",
      "[Parallel(n_jobs=1)]: Done   2 out of   2 | elapsed:    0.0s remaining:    0.0s\n",
      "[Parallel(n_jobs=1)]: Done   3 out of   3 | elapsed:    0.0s remaining:    0.0s\n",
      "[Parallel(n_jobs=1)]: Done   4 out of   4 | elapsed:    0.0s remaining:    0.0s\n"
     ]
    },
    {
     "name": "stdout",
     "output_type": "stream",
     "text": [
      "Overwriting existing file.\n",
      "Overwriting existing file.\n",
      "Setting up low-pass filter at 30 Hz\n",
      "\n",
      "FIR filter parameters\n",
      "---------------------\n",
      "Designing a one-pass, zero-phase, non-causal lowpass filter:\n",
      "- Windowed time-domain design (firwin) method\n",
      "- Hamming window with 0.0194 passband ripple and 53 dB stopband attenuation\n",
      "- Upper passband edge: 30.00 Hz\n",
      "- Upper transition bandwidth: 7.50 Hz (-6 dB cutoff frequency: 33.75 Hz)\n",
      "- Filter length: 89 samples (0.445 sec)\n",
      "\n"
     ]
    },
    {
     "name": "stderr",
     "output_type": "stream",
     "text": [
      "[Parallel(n_jobs=1)]: Done 768 out of 768 | elapsed:    0.2s finished\n",
      "[Parallel(n_jobs=1)]: Using backend SequentialBackend with 1 concurrent workers.\n",
      "[Parallel(n_jobs=1)]: Done   1 out of   1 | elapsed:    0.0s remaining:    0.0s\n",
      "[Parallel(n_jobs=1)]: Done   2 out of   2 | elapsed:    0.0s remaining:    0.0s\n",
      "[Parallel(n_jobs=1)]: Done   3 out of   3 | elapsed:    0.0s remaining:    0.0s\n",
      "[Parallel(n_jobs=1)]: Done   4 out of   4 | elapsed:    0.0s remaining:    0.0s\n"
     ]
    },
    {
     "name": "stdout",
     "output_type": "stream",
     "text": [
      "Overwriting existing file.\n",
      "Reading F:\\Documents\\Science\\MirRevAdaptEEG\\data\\eeg\\p025\\lrp\\mra_p025_run0-epo.fif ...\n",
      "    Found the data of interest:\n",
      "        t =   -2000.00 ...    1995.00 ms\n",
      "        0 CTF compensation matrices available\n",
      "Not setting metadata\n"
     ]
    },
    {
     "name": "stderr",
     "output_type": "stream",
     "text": [
      "[Parallel(n_jobs=1)]: Done 768 out of 768 | elapsed:    0.2s finished\n"
     ]
    },
    {
     "name": "stdout",
     "output_type": "stream",
     "text": [
      "420 matching events found\n",
      "No baseline correction applied\n",
      "0 projection items activated\n",
      "Applying baseline correction (mode: mean)\n",
      "Overwriting existing file.\n",
      "Setting up low-pass filter at 30 Hz\n",
      "\n",
      "FIR filter parameters\n",
      "---------------------\n",
      "Designing a one-pass, zero-phase, non-causal lowpass filter:\n",
      "- Windowed time-domain design (firwin) method\n",
      "- Hamming window with 0.0194 passband ripple and 53 dB stopband attenuation\n",
      "- Upper passband edge: 30.00 Hz\n",
      "- Upper transition bandwidth: 7.50 Hz (-6 dB cutoff frequency: 33.75 Hz)\n",
      "- Filter length: 89 samples (0.445 sec)\n",
      "\n"
     ]
    },
    {
     "name": "stderr",
     "output_type": "stream",
     "text": [
      "[Parallel(n_jobs=1)]: Using backend SequentialBackend with 1 concurrent workers.\n",
      "[Parallel(n_jobs=1)]: Done   1 out of   1 | elapsed:    0.0s remaining:    0.0s\n",
      "[Parallel(n_jobs=1)]: Done   2 out of   2 | elapsed:    0.0s remaining:    0.0s\n",
      "[Parallel(n_jobs=1)]: Done   3 out of   3 | elapsed:    0.0s remaining:    0.0s\n",
      "[Parallel(n_jobs=1)]: Done   4 out of   4 | elapsed:    0.0s remaining:    0.0s\n"
     ]
    },
    {
     "name": "stdout",
     "output_type": "stream",
     "text": [
      "Overwriting existing file.\n",
      "Overwriting existing file.\n",
      "Setting up low-pass filter at 30 Hz\n",
      "\n",
      "FIR filter parameters\n",
      "---------------------\n",
      "Designing a one-pass, zero-phase, non-causal lowpass filter:\n",
      "- Windowed time-domain design (firwin) method\n",
      "- Hamming window with 0.0194 passband ripple and 53 dB stopband attenuation\n",
      "- Upper passband edge: 30.00 Hz\n",
      "- Upper transition bandwidth: 7.50 Hz (-6 dB cutoff frequency: 33.75 Hz)\n",
      "- Filter length: 89 samples (0.445 sec)\n",
      "\n"
     ]
    },
    {
     "name": "stderr",
     "output_type": "stream",
     "text": [
      "[Parallel(n_jobs=1)]: Done 768 out of 768 | elapsed:    0.2s finished\n",
      "[Parallel(n_jobs=1)]: Using backend SequentialBackend with 1 concurrent workers.\n",
      "[Parallel(n_jobs=1)]: Done   1 out of   1 | elapsed:    0.0s remaining:    0.0s\n",
      "[Parallel(n_jobs=1)]: Done   2 out of   2 | elapsed:    0.0s remaining:    0.0s\n",
      "[Parallel(n_jobs=1)]: Done   3 out of   3 | elapsed:    0.0s remaining:    0.0s\n",
      "[Parallel(n_jobs=1)]: Done   4 out of   4 | elapsed:    0.0s remaining:    0.0s\n"
     ]
    },
    {
     "name": "stdout",
     "output_type": "stream",
     "text": [
      "Overwriting existing file.\n",
      "Reading F:\\Documents\\Science\\MirRevAdaptEEG\\data\\eeg\\p026\\lrp\\mra_p026_run0-epo.fif ...\n",
      "    Found the data of interest:\n",
      "        t =   -2000.00 ...    1995.00 ms\n",
      "        0 CTF compensation matrices available\n"
     ]
    },
    {
     "name": "stderr",
     "output_type": "stream",
     "text": [
      "[Parallel(n_jobs=1)]: Done 768 out of 768 | elapsed:    0.2s finished\n"
     ]
    },
    {
     "name": "stdout",
     "output_type": "stream",
     "text": [
      "Not setting metadata\n",
      "420 matching events found\n",
      "No baseline correction applied\n",
      "0 projection items activated\n",
      "Applying baseline correction (mode: mean)\n",
      "Overwriting existing file.\n",
      "Setting up low-pass filter at 30 Hz\n",
      "\n",
      "FIR filter parameters\n",
      "---------------------\n",
      "Designing a one-pass, zero-phase, non-causal lowpass filter:\n",
      "- Windowed time-domain design (firwin) method\n",
      "- Hamming window with 0.0194 passband ripple and 53 dB stopband attenuation\n",
      "- Upper passband edge: 30.00 Hz\n",
      "- Upper transition bandwidth: 7.50 Hz (-6 dB cutoff frequency: 33.75 Hz)\n",
      "- Filter length: 89 samples (0.445 sec)\n",
      "\n"
     ]
    },
    {
     "name": "stderr",
     "output_type": "stream",
     "text": [
      "[Parallel(n_jobs=1)]: Using backend SequentialBackend with 1 concurrent workers.\n",
      "[Parallel(n_jobs=1)]: Done   1 out of   1 | elapsed:    0.0s remaining:    0.0s\n",
      "[Parallel(n_jobs=1)]: Done   2 out of   2 | elapsed:    0.0s remaining:    0.0s\n",
      "[Parallel(n_jobs=1)]: Done   3 out of   3 | elapsed:    0.0s remaining:    0.0s\n",
      "[Parallel(n_jobs=1)]: Done   4 out of   4 | elapsed:    0.0s remaining:    0.0s\n"
     ]
    },
    {
     "name": "stdout",
     "output_type": "stream",
     "text": [
      "Overwriting existing file.\n",
      "Overwriting existing file.\n",
      "Setting up low-pass filter at 30 Hz\n",
      "\n",
      "FIR filter parameters\n",
      "---------------------\n",
      "Designing a one-pass, zero-phase, non-causal lowpass filter:\n",
      "- Windowed time-domain design (firwin) method\n",
      "- Hamming window with 0.0194 passband ripple and 53 dB stopband attenuation\n",
      "- Upper passband edge: 30.00 Hz\n",
      "- Upper transition bandwidth: 7.50 Hz (-6 dB cutoff frequency: 33.75 Hz)\n",
      "- Filter length: 89 samples (0.445 sec)\n",
      "\n"
     ]
    },
    {
     "name": "stderr",
     "output_type": "stream",
     "text": [
      "[Parallel(n_jobs=1)]: Done 768 out of 768 | elapsed:    0.2s finished\n",
      "[Parallel(n_jobs=1)]: Using backend SequentialBackend with 1 concurrent workers.\n",
      "[Parallel(n_jobs=1)]: Done   1 out of   1 | elapsed:    0.0s remaining:    0.0s\n",
      "[Parallel(n_jobs=1)]: Done   2 out of   2 | elapsed:    0.0s remaining:    0.0s\n",
      "[Parallel(n_jobs=1)]: Done   3 out of   3 | elapsed:    0.0s remaining:    0.0s\n",
      "[Parallel(n_jobs=1)]: Done   4 out of   4 | elapsed:    0.0s remaining:    0.0s\n"
     ]
    },
    {
     "name": "stdout",
     "output_type": "stream",
     "text": [
      "Overwriting existing file.\n",
      "Reading F:\\Documents\\Science\\MirRevAdaptEEG\\data\\eeg\\p027\\lrp\\mra_p027_run0-epo.fif ...\n",
      "    Found the data of interest:\n",
      "        t =   -2000.00 ...    1995.00 ms\n",
      "        0 CTF compensation matrices available\n"
     ]
    },
    {
     "name": "stderr",
     "output_type": "stream",
     "text": [
      "[Parallel(n_jobs=1)]: Done 768 out of 768 | elapsed:    0.2s finished\n"
     ]
    },
    {
     "name": "stdout",
     "output_type": "stream",
     "text": [
      "Not setting metadata\n",
      "419 matching events found\n",
      "No baseline correction applied\n",
      "0 projection items activated\n",
      "Applying baseline correction (mode: mean)\n",
      "Overwriting existing file.\n",
      "Setting up low-pass filter at 30 Hz\n",
      "\n",
      "FIR filter parameters\n",
      "---------------------\n",
      "Designing a one-pass, zero-phase, non-causal lowpass filter:\n",
      "- Windowed time-domain design (firwin) method\n",
      "- Hamming window with 0.0194 passband ripple and 53 dB stopband attenuation\n",
      "- Upper passband edge: 30.00 Hz\n",
      "- Upper transition bandwidth: 7.50 Hz (-6 dB cutoff frequency: 33.75 Hz)\n",
      "- Filter length: 89 samples (0.445 sec)\n",
      "\n"
     ]
    },
    {
     "name": "stderr",
     "output_type": "stream",
     "text": [
      "[Parallel(n_jobs=1)]: Using backend SequentialBackend with 1 concurrent workers.\n",
      "[Parallel(n_jobs=1)]: Done   1 out of   1 | elapsed:    0.0s remaining:    0.0s\n",
      "[Parallel(n_jobs=1)]: Done   2 out of   2 | elapsed:    0.0s remaining:    0.0s\n",
      "[Parallel(n_jobs=1)]: Done   3 out of   3 | elapsed:    0.0s remaining:    0.0s\n",
      "[Parallel(n_jobs=1)]: Done   4 out of   4 | elapsed:    0.0s remaining:    0.0s\n"
     ]
    },
    {
     "name": "stdout",
     "output_type": "stream",
     "text": [
      "Overwriting existing file.\n",
      "Overwriting existing file.\n",
      "Setting up low-pass filter at 30 Hz\n",
      "\n",
      "FIR filter parameters\n",
      "---------------------\n",
      "Designing a one-pass, zero-phase, non-causal lowpass filter:\n",
      "- Windowed time-domain design (firwin) method\n",
      "- Hamming window with 0.0194 passband ripple and 53 dB stopband attenuation\n",
      "- Upper passband edge: 30.00 Hz\n",
      "- Upper transition bandwidth: 7.50 Hz (-6 dB cutoff frequency: 33.75 Hz)\n",
      "- Filter length: 89 samples (0.445 sec)\n",
      "\n"
     ]
    },
    {
     "name": "stderr",
     "output_type": "stream",
     "text": [
      "[Parallel(n_jobs=1)]: Done 768 out of 768 | elapsed:    0.2s finished\n",
      "[Parallel(n_jobs=1)]: Using backend SequentialBackend with 1 concurrent workers.\n",
      "[Parallel(n_jobs=1)]: Done   1 out of   1 | elapsed:    0.0s remaining:    0.0s\n",
      "[Parallel(n_jobs=1)]: Done   2 out of   2 | elapsed:    0.0s remaining:    0.0s\n",
      "[Parallel(n_jobs=1)]: Done   3 out of   3 | elapsed:    0.0s remaining:    0.0s\n",
      "[Parallel(n_jobs=1)]: Done   4 out of   4 | elapsed:    0.0s remaining:    0.0s\n"
     ]
    },
    {
     "name": "stdout",
     "output_type": "stream",
     "text": [
      "Overwriting existing file.\n",
      "Reading F:\\Documents\\Science\\MirRevAdaptEEG\\data\\eeg\\p028\\lrp\\mra_p028_run0-epo.fif ...\n",
      "    Found the data of interest:\n",
      "        t =   -2000.00 ...    1995.00 ms\n",
      "        0 CTF compensation matrices available\n"
     ]
    },
    {
     "name": "stderr",
     "output_type": "stream",
     "text": [
      "[Parallel(n_jobs=1)]: Done 768 out of 768 | elapsed:    0.2s finished\n"
     ]
    },
    {
     "name": "stdout",
     "output_type": "stream",
     "text": [
      "Not setting metadata\n",
      "420 matching events found\n",
      "No baseline correction applied\n",
      "0 projection items activated\n",
      "Applying baseline correction (mode: mean)\n",
      "Overwriting existing file.\n",
      "Setting up low-pass filter at 30 Hz\n",
      "\n",
      "FIR filter parameters\n",
      "---------------------\n",
      "Designing a one-pass, zero-phase, non-causal lowpass filter:\n",
      "- Windowed time-domain design (firwin) method\n",
      "- Hamming window with 0.0194 passband ripple and 53 dB stopband attenuation\n",
      "- Upper passband edge: 30.00 Hz\n",
      "- Upper transition bandwidth: 7.50 Hz (-6 dB cutoff frequency: 33.75 Hz)\n",
      "- Filter length: 89 samples (0.445 sec)\n",
      "\n"
     ]
    },
    {
     "name": "stderr",
     "output_type": "stream",
     "text": [
      "[Parallel(n_jobs=1)]: Using backend SequentialBackend with 1 concurrent workers.\n",
      "[Parallel(n_jobs=1)]: Done   1 out of   1 | elapsed:    0.0s remaining:    0.0s\n",
      "[Parallel(n_jobs=1)]: Done   2 out of   2 | elapsed:    0.0s remaining:    0.0s\n",
      "[Parallel(n_jobs=1)]: Done   3 out of   3 | elapsed:    0.0s remaining:    0.0s\n",
      "[Parallel(n_jobs=1)]: Done   4 out of   4 | elapsed:    0.0s remaining:    0.0s\n"
     ]
    },
    {
     "name": "stdout",
     "output_type": "stream",
     "text": [
      "Overwriting existing file.\n",
      "Overwriting existing file.\n",
      "Setting up low-pass filter at 30 Hz\n",
      "\n",
      "FIR filter parameters\n",
      "---------------------\n",
      "Designing a one-pass, zero-phase, non-causal lowpass filter:\n",
      "- Windowed time-domain design (firwin) method\n",
      "- Hamming window with 0.0194 passband ripple and 53 dB stopband attenuation\n",
      "- Upper passband edge: 30.00 Hz\n",
      "- Upper transition bandwidth: 7.50 Hz (-6 dB cutoff frequency: 33.75 Hz)\n",
      "- Filter length: 89 samples (0.445 sec)\n",
      "\n"
     ]
    },
    {
     "name": "stderr",
     "output_type": "stream",
     "text": [
      "[Parallel(n_jobs=1)]: Done 768 out of 768 | elapsed:    0.2s finished\n",
      "[Parallel(n_jobs=1)]: Using backend SequentialBackend with 1 concurrent workers.\n",
      "[Parallel(n_jobs=1)]: Done   1 out of   1 | elapsed:    0.0s remaining:    0.0s\n",
      "[Parallel(n_jobs=1)]: Done   2 out of   2 | elapsed:    0.0s remaining:    0.0s\n",
      "[Parallel(n_jobs=1)]: Done   3 out of   3 | elapsed:    0.0s remaining:    0.0s\n",
      "[Parallel(n_jobs=1)]: Done   4 out of   4 | elapsed:    0.0s remaining:    0.0s\n"
     ]
    },
    {
     "name": "stdout",
     "output_type": "stream",
     "text": [
      "Overwriting existing file.\n",
      "Reading F:\\Documents\\Science\\MirRevAdaptEEG\\data\\eeg\\p029\\lrp\\mra_p029_run0-epo.fif ...\n",
      "    Found the data of interest:\n",
      "        t =   -2000.00 ...    1995.00 ms\n",
      "        0 CTF compensation matrices available\n",
      "Not setting metadata\n"
     ]
    },
    {
     "name": "stderr",
     "output_type": "stream",
     "text": [
      "[Parallel(n_jobs=1)]: Done 768 out of 768 | elapsed:    0.2s finished\n"
     ]
    },
    {
     "name": "stdout",
     "output_type": "stream",
     "text": [
      "420 matching events found\n",
      "No baseline correction applied\n",
      "0 projection items activated\n",
      "Applying baseline correction (mode: mean)\n",
      "Overwriting existing file.\n",
      "Setting up low-pass filter at 30 Hz\n",
      "\n",
      "FIR filter parameters\n",
      "---------------------\n",
      "Designing a one-pass, zero-phase, non-causal lowpass filter:\n",
      "- Windowed time-domain design (firwin) method\n",
      "- Hamming window with 0.0194 passband ripple and 53 dB stopband attenuation\n",
      "- Upper passband edge: 30.00 Hz\n",
      "- Upper transition bandwidth: 7.50 Hz (-6 dB cutoff frequency: 33.75 Hz)\n",
      "- Filter length: 89 samples (0.445 sec)\n",
      "\n"
     ]
    },
    {
     "name": "stderr",
     "output_type": "stream",
     "text": [
      "[Parallel(n_jobs=1)]: Using backend SequentialBackend with 1 concurrent workers.\n",
      "[Parallel(n_jobs=1)]: Done   1 out of   1 | elapsed:    0.0s remaining:    0.0s\n",
      "[Parallel(n_jobs=1)]: Done   2 out of   2 | elapsed:    0.0s remaining:    0.0s\n",
      "[Parallel(n_jobs=1)]: Done   3 out of   3 | elapsed:    0.0s remaining:    0.0s\n",
      "[Parallel(n_jobs=1)]: Done   4 out of   4 | elapsed:    0.0s remaining:    0.0s\n"
     ]
    },
    {
     "name": "stdout",
     "output_type": "stream",
     "text": [
      "Overwriting existing file.\n",
      "Overwriting existing file.\n",
      "Setting up low-pass filter at 30 Hz\n",
      "\n",
      "FIR filter parameters\n",
      "---------------------\n",
      "Designing a one-pass, zero-phase, non-causal lowpass filter:\n",
      "- Windowed time-domain design (firwin) method\n",
      "- Hamming window with 0.0194 passband ripple and 53 dB stopband attenuation\n",
      "- Upper passband edge: 30.00 Hz\n",
      "- Upper transition bandwidth: 7.50 Hz (-6 dB cutoff frequency: 33.75 Hz)\n",
      "- Filter length: 89 samples (0.445 sec)\n",
      "\n"
     ]
    },
    {
     "name": "stderr",
     "output_type": "stream",
     "text": [
      "[Parallel(n_jobs=1)]: Done 768 out of 768 | elapsed:    0.2s finished\n",
      "[Parallel(n_jobs=1)]: Using backend SequentialBackend with 1 concurrent workers.\n",
      "[Parallel(n_jobs=1)]: Done   1 out of   1 | elapsed:    0.0s remaining:    0.0s\n",
      "[Parallel(n_jobs=1)]: Done   2 out of   2 | elapsed:    0.0s remaining:    0.0s\n",
      "[Parallel(n_jobs=1)]: Done   3 out of   3 | elapsed:    0.0s remaining:    0.0s\n",
      "[Parallel(n_jobs=1)]: Done   4 out of   4 | elapsed:    0.0s remaining:    0.0s\n"
     ]
    },
    {
     "name": "stdout",
     "output_type": "stream",
     "text": [
      "Overwriting existing file.\n",
      "Reading F:\\Documents\\Science\\MirRevAdaptEEG\\data\\eeg\\p030\\lrp\\mra_p030_run0-epo.fif ...\n",
      "    Found the data of interest:\n",
      "        t =   -2000.00 ...    1995.00 ms\n",
      "        0 CTF compensation matrices available\n"
     ]
    },
    {
     "name": "stderr",
     "output_type": "stream",
     "text": [
      "[Parallel(n_jobs=1)]: Done 768 out of 768 | elapsed:    0.2s finished\n"
     ]
    },
    {
     "name": "stdout",
     "output_type": "stream",
     "text": [
      "Not setting metadata\n",
      "420 matching events found\n",
      "No baseline correction applied\n",
      "0 projection items activated\n",
      "Applying baseline correction (mode: mean)\n",
      "Overwriting existing file.\n",
      "Setting up low-pass filter at 30 Hz\n",
      "\n",
      "FIR filter parameters\n",
      "---------------------\n",
      "Designing a one-pass, zero-phase, non-causal lowpass filter:\n",
      "- Windowed time-domain design (firwin) method\n",
      "- Hamming window with 0.0194 passband ripple and 53 dB stopband attenuation\n",
      "- Upper passband edge: 30.00 Hz\n",
      "- Upper transition bandwidth: 7.50 Hz (-6 dB cutoff frequency: 33.75 Hz)\n",
      "- Filter length: 89 samples (0.445 sec)\n",
      "\n"
     ]
    },
    {
     "name": "stderr",
     "output_type": "stream",
     "text": [
      "[Parallel(n_jobs=1)]: Using backend SequentialBackend with 1 concurrent workers.\n",
      "[Parallel(n_jobs=1)]: Done   1 out of   1 | elapsed:    0.0s remaining:    0.0s\n",
      "[Parallel(n_jobs=1)]: Done   2 out of   2 | elapsed:    0.0s remaining:    0.0s\n",
      "[Parallel(n_jobs=1)]: Done   3 out of   3 | elapsed:    0.0s remaining:    0.0s\n",
      "[Parallel(n_jobs=1)]: Done   4 out of   4 | elapsed:    0.0s remaining:    0.0s\n"
     ]
    },
    {
     "name": "stdout",
     "output_type": "stream",
     "text": [
      "Overwriting existing file.\n",
      "Overwriting existing file.\n",
      "Setting up low-pass filter at 30 Hz\n",
      "\n",
      "FIR filter parameters\n",
      "---------------------\n",
      "Designing a one-pass, zero-phase, non-causal lowpass filter:\n",
      "- Windowed time-domain design (firwin) method\n",
      "- Hamming window with 0.0194 passband ripple and 53 dB stopband attenuation\n",
      "- Upper passband edge: 30.00 Hz\n",
      "- Upper transition bandwidth: 7.50 Hz (-6 dB cutoff frequency: 33.75 Hz)\n",
      "- Filter length: 89 samples (0.445 sec)\n",
      "\n"
     ]
    },
    {
     "name": "stderr",
     "output_type": "stream",
     "text": [
      "[Parallel(n_jobs=1)]: Done 768 out of 768 | elapsed:    0.2s finished\n",
      "[Parallel(n_jobs=1)]: Using backend SequentialBackend with 1 concurrent workers.\n",
      "[Parallel(n_jobs=1)]: Done   1 out of   1 | elapsed:    0.0s remaining:    0.0s\n",
      "[Parallel(n_jobs=1)]: Done   2 out of   2 | elapsed:    0.0s remaining:    0.0s\n",
      "[Parallel(n_jobs=1)]: Done   3 out of   3 | elapsed:    0.0s remaining:    0.0s\n",
      "[Parallel(n_jobs=1)]: Done   4 out of   4 | elapsed:    0.0s remaining:    0.0s\n"
     ]
    },
    {
     "name": "stdout",
     "output_type": "stream",
     "text": [
      "Overwriting existing file.\n",
      "Reading F:\\Documents\\Science\\MirRevAdaptEEG\\data\\eeg\\p031\\lrp\\mra_p031_run0-epo.fif ...\n",
      "    Found the data of interest:\n",
      "        t =   -2000.00 ...    1995.00 ms\n",
      "        0 CTF compensation matrices available\n",
      "Not setting metadata\n",
      "420 matching events found\n",
      "No baseline correction applied\n"
     ]
    },
    {
     "name": "stderr",
     "output_type": "stream",
     "text": [
      "[Parallel(n_jobs=1)]: Done 768 out of 768 | elapsed:    0.2s finished\n"
     ]
    },
    {
     "name": "stdout",
     "output_type": "stream",
     "text": [
      "0 projection items activated\n",
      "Applying baseline correction (mode: mean)\n",
      "Overwriting existing file.\n",
      "Setting up low-pass filter at 30 Hz\n",
      "\n",
      "FIR filter parameters\n",
      "---------------------\n",
      "Designing a one-pass, zero-phase, non-causal lowpass filter:\n",
      "- Windowed time-domain design (firwin) method\n",
      "- Hamming window with 0.0194 passband ripple and 53 dB stopband attenuation\n",
      "- Upper passband edge: 30.00 Hz\n",
      "- Upper transition bandwidth: 7.50 Hz (-6 dB cutoff frequency: 33.75 Hz)\n",
      "- Filter length: 89 samples (0.445 sec)\n",
      "\n"
     ]
    },
    {
     "name": "stderr",
     "output_type": "stream",
     "text": [
      "[Parallel(n_jobs=1)]: Using backend SequentialBackend with 1 concurrent workers.\n",
      "[Parallel(n_jobs=1)]: Done   1 out of   1 | elapsed:    0.0s remaining:    0.0s\n",
      "[Parallel(n_jobs=1)]: Done   2 out of   2 | elapsed:    0.0s remaining:    0.0s\n",
      "[Parallel(n_jobs=1)]: Done   3 out of   3 | elapsed:    0.0s remaining:    0.0s\n",
      "[Parallel(n_jobs=1)]: Done   4 out of   4 | elapsed:    0.0s remaining:    0.0s\n"
     ]
    },
    {
     "name": "stdout",
     "output_type": "stream",
     "text": [
      "Overwriting existing file.\n",
      "Overwriting existing file.\n",
      "Setting up low-pass filter at 30 Hz\n",
      "\n",
      "FIR filter parameters\n",
      "---------------------\n",
      "Designing a one-pass, zero-phase, non-causal lowpass filter:\n",
      "- Windowed time-domain design (firwin) method\n",
      "- Hamming window with 0.0194 passband ripple and 53 dB stopband attenuation\n",
      "- Upper passband edge: 30.00 Hz\n",
      "- Upper transition bandwidth: 7.50 Hz (-6 dB cutoff frequency: 33.75 Hz)\n",
      "- Filter length: 89 samples (0.445 sec)\n",
      "\n"
     ]
    },
    {
     "name": "stderr",
     "output_type": "stream",
     "text": [
      "[Parallel(n_jobs=1)]: Done 768 out of 768 | elapsed:    0.2s finished\n",
      "[Parallel(n_jobs=1)]: Using backend SequentialBackend with 1 concurrent workers.\n",
      "[Parallel(n_jobs=1)]: Done   1 out of   1 | elapsed:    0.0s remaining:    0.0s\n",
      "[Parallel(n_jobs=1)]: Done   2 out of   2 | elapsed:    0.0s remaining:    0.0s\n",
      "[Parallel(n_jobs=1)]: Done   3 out of   3 | elapsed:    0.0s remaining:    0.0s\n",
      "[Parallel(n_jobs=1)]: Done   4 out of   4 | elapsed:    0.0s remaining:    0.0s\n"
     ]
    },
    {
     "name": "stdout",
     "output_type": "stream",
     "text": [
      "Overwriting existing file.\n",
      "Reading F:\\Documents\\Science\\MirRevAdaptEEG\\data\\eeg\\p000\\lrp\\mra_p000_run0-epo.fif ...\n",
      "    Found the data of interest:\n",
      "        t =   -2000.00 ...    1995.00 ms\n",
      "        0 CTF compensation matrices available\n"
     ]
    },
    {
     "name": "stderr",
     "output_type": "stream",
     "text": [
      "[Parallel(n_jobs=1)]: Done 768 out of 768 | elapsed:    0.2s finished\n"
     ]
    },
    {
     "name": "stdout",
     "output_type": "stream",
     "text": [
      "Not setting metadata\n",
      "420 matching events found\n",
      "No baseline correction applied\n",
      "0 projection items activated\n",
      "Applying baseline correction (mode: mean)\n",
      "Overwriting existing file.\n",
      "Setting up low-pass filter at 30 Hz\n",
      "\n",
      "FIR filter parameters\n",
      "---------------------\n",
      "Designing a one-pass, zero-phase, non-causal lowpass filter:\n",
      "- Windowed time-domain design (firwin) method\n",
      "- Hamming window with 0.0194 passband ripple and 53 dB stopband attenuation\n",
      "- Upper passband edge: 30.00 Hz\n",
      "- Upper transition bandwidth: 7.50 Hz (-6 dB cutoff frequency: 33.75 Hz)\n",
      "- Filter length: 89 samples (0.445 sec)\n",
      "\n"
     ]
    },
    {
     "name": "stderr",
     "output_type": "stream",
     "text": [
      "[Parallel(n_jobs=1)]: Using backend SequentialBackend with 1 concurrent workers.\n",
      "[Parallel(n_jobs=1)]: Done   1 out of   1 | elapsed:    0.0s remaining:    0.0s\n",
      "[Parallel(n_jobs=1)]: Done   2 out of   2 | elapsed:    0.0s remaining:    0.0s\n",
      "[Parallel(n_jobs=1)]: Done   3 out of   3 | elapsed:    0.0s remaining:    0.0s\n",
      "[Parallel(n_jobs=1)]: Done   4 out of   4 | elapsed:    0.0s remaining:    0.0s\n"
     ]
    },
    {
     "name": "stdout",
     "output_type": "stream",
     "text": [
      "Overwriting existing file.\n",
      "Overwriting existing file.\n",
      "Setting up low-pass filter at 30 Hz\n",
      "\n",
      "FIR filter parameters\n",
      "---------------------\n",
      "Designing a one-pass, zero-phase, non-causal lowpass filter:\n",
      "- Windowed time-domain design (firwin) method\n",
      "- Hamming window with 0.0194 passband ripple and 53 dB stopband attenuation\n",
      "- Upper passband edge: 30.00 Hz\n",
      "- Upper transition bandwidth: 7.50 Hz (-6 dB cutoff frequency: 33.75 Hz)\n",
      "- Filter length: 89 samples (0.445 sec)\n",
      "\n"
     ]
    },
    {
     "name": "stderr",
     "output_type": "stream",
     "text": [
      "[Parallel(n_jobs=1)]: Done 768 out of 768 | elapsed:    0.2s finished\n",
      "[Parallel(n_jobs=1)]: Using backend SequentialBackend with 1 concurrent workers.\n",
      "[Parallel(n_jobs=1)]: Done   1 out of   1 | elapsed:    0.0s remaining:    0.0s\n",
      "[Parallel(n_jobs=1)]: Done   2 out of   2 | elapsed:    0.0s remaining:    0.0s\n",
      "[Parallel(n_jobs=1)]: Done   3 out of   3 | elapsed:    0.0s remaining:    0.0s\n",
      "[Parallel(n_jobs=1)]: Done   4 out of   4 | elapsed:    0.0s remaining:    0.0s\n"
     ]
    },
    {
     "name": "stdout",
     "output_type": "stream",
     "text": [
      "Overwriting existing file.\n",
      "Reading F:\\Documents\\Science\\MirRevAdaptEEG\\data\\eeg\\p001\\lrp\\mra_p001_run0-epo.fif ...\n",
      "    Found the data of interest:\n",
      "        t =   -2000.00 ...    1995.00 ms\n",
      "        0 CTF compensation matrices available\n",
      "Not setting metadata\n"
     ]
    },
    {
     "name": "stderr",
     "output_type": "stream",
     "text": [
      "[Parallel(n_jobs=1)]: Done 768 out of 768 | elapsed:    0.2s finished\n"
     ]
    },
    {
     "name": "stdout",
     "output_type": "stream",
     "text": [
      "420 matching events found\n",
      "No baseline correction applied\n",
      "0 projection items activated\n",
      "Applying baseline correction (mode: mean)\n",
      "Overwriting existing file.\n",
      "Setting up low-pass filter at 30 Hz\n",
      "\n",
      "FIR filter parameters\n",
      "---------------------\n",
      "Designing a one-pass, zero-phase, non-causal lowpass filter:\n",
      "- Windowed time-domain design (firwin) method\n",
      "- Hamming window with 0.0194 passband ripple and 53 dB stopband attenuation\n",
      "- Upper passband edge: 30.00 Hz\n",
      "- Upper transition bandwidth: 7.50 Hz (-6 dB cutoff frequency: 33.75 Hz)\n",
      "- Filter length: 89 samples (0.445 sec)\n",
      "\n"
     ]
    },
    {
     "name": "stderr",
     "output_type": "stream",
     "text": [
      "[Parallel(n_jobs=1)]: Using backend SequentialBackend with 1 concurrent workers.\n",
      "[Parallel(n_jobs=1)]: Done   1 out of   1 | elapsed:    0.0s remaining:    0.0s\n",
      "[Parallel(n_jobs=1)]: Done   2 out of   2 | elapsed:    0.0s remaining:    0.0s\n",
      "[Parallel(n_jobs=1)]: Done   3 out of   3 | elapsed:    0.0s remaining:    0.0s\n",
      "[Parallel(n_jobs=1)]: Done   4 out of   4 | elapsed:    0.0s remaining:    0.0s\n"
     ]
    },
    {
     "name": "stdout",
     "output_type": "stream",
     "text": [
      "Overwriting existing file.\n",
      "Overwriting existing file.\n",
      "Setting up low-pass filter at 30 Hz\n",
      "\n",
      "FIR filter parameters\n",
      "---------------------\n",
      "Designing a one-pass, zero-phase, non-causal lowpass filter:\n",
      "- Windowed time-domain design (firwin) method\n",
      "- Hamming window with 0.0194 passband ripple and 53 dB stopband attenuation\n",
      "- Upper passband edge: 30.00 Hz\n",
      "- Upper transition bandwidth: 7.50 Hz (-6 dB cutoff frequency: 33.75 Hz)\n",
      "- Filter length: 89 samples (0.445 sec)\n",
      "\n"
     ]
    },
    {
     "name": "stderr",
     "output_type": "stream",
     "text": [
      "[Parallel(n_jobs=1)]: Done 768 out of 768 | elapsed:    0.2s finished\n",
      "[Parallel(n_jobs=1)]: Using backend SequentialBackend with 1 concurrent workers.\n",
      "[Parallel(n_jobs=1)]: Done   1 out of   1 | elapsed:    0.0s remaining:    0.0s\n",
      "[Parallel(n_jobs=1)]: Done   2 out of   2 | elapsed:    0.0s remaining:    0.0s\n",
      "[Parallel(n_jobs=1)]: Done   3 out of   3 | elapsed:    0.0s remaining:    0.0s\n",
      "[Parallel(n_jobs=1)]: Done   4 out of   4 | elapsed:    0.0s remaining:    0.0s\n"
     ]
    },
    {
     "name": "stdout",
     "output_type": "stream",
     "text": [
      "Overwriting existing file.\n",
      "Reading F:\\Documents\\Science\\MirRevAdaptEEG\\data\\eeg\\p002\\lrp\\mra_p002_run0-epo.fif ...\n",
      "    Found the data of interest:\n",
      "        t =   -2000.00 ...    1995.00 ms\n",
      "        0 CTF compensation matrices available\n"
     ]
    },
    {
     "name": "stderr",
     "output_type": "stream",
     "text": [
      "[Parallel(n_jobs=1)]: Done 768 out of 768 | elapsed:    0.2s finished\n"
     ]
    },
    {
     "name": "stdout",
     "output_type": "stream",
     "text": [
      "Not setting metadata\n",
      "419 matching events found\n",
      "No baseline correction applied\n",
      "0 projection items activated\n",
      "Applying baseline correction (mode: mean)\n",
      "Overwriting existing file.\n",
      "Setting up low-pass filter at 30 Hz\n",
      "\n",
      "FIR filter parameters\n",
      "---------------------\n",
      "Designing a one-pass, zero-phase, non-causal lowpass filter:\n",
      "- Windowed time-domain design (firwin) method\n",
      "- Hamming window with 0.0194 passband ripple and 53 dB stopband attenuation\n",
      "- Upper passband edge: 30.00 Hz\n",
      "- Upper transition bandwidth: 7.50 Hz (-6 dB cutoff frequency: 33.75 Hz)\n",
      "- Filter length: 89 samples (0.445 sec)\n",
      "\n"
     ]
    },
    {
     "name": "stderr",
     "output_type": "stream",
     "text": [
      "[Parallel(n_jobs=1)]: Using backend SequentialBackend with 1 concurrent workers.\n",
      "[Parallel(n_jobs=1)]: Done   1 out of   1 | elapsed:    0.0s remaining:    0.0s\n",
      "[Parallel(n_jobs=1)]: Done   2 out of   2 | elapsed:    0.0s remaining:    0.0s\n",
      "[Parallel(n_jobs=1)]: Done   3 out of   3 | elapsed:    0.0s remaining:    0.0s\n",
      "[Parallel(n_jobs=1)]: Done   4 out of   4 | elapsed:    0.0s remaining:    0.0s\n"
     ]
    },
    {
     "name": "stdout",
     "output_type": "stream",
     "text": [
      "Overwriting existing file.\n",
      "Overwriting existing file.\n",
      "Setting up low-pass filter at 30 Hz\n",
      "\n",
      "FIR filter parameters\n",
      "---------------------\n",
      "Designing a one-pass, zero-phase, non-causal lowpass filter:\n",
      "- Windowed time-domain design (firwin) method\n",
      "- Hamming window with 0.0194 passband ripple and 53 dB stopband attenuation\n",
      "- Upper passband edge: 30.00 Hz\n",
      "- Upper transition bandwidth: 7.50 Hz (-6 dB cutoff frequency: 33.75 Hz)\n",
      "- Filter length: 89 samples (0.445 sec)\n",
      "\n"
     ]
    },
    {
     "name": "stderr",
     "output_type": "stream",
     "text": [
      "[Parallel(n_jobs=1)]: Done 768 out of 768 | elapsed:    0.2s finished\n",
      "[Parallel(n_jobs=1)]: Using backend SequentialBackend with 1 concurrent workers.\n",
      "[Parallel(n_jobs=1)]: Done   1 out of   1 | elapsed:    0.0s remaining:    0.0s\n",
      "[Parallel(n_jobs=1)]: Done   2 out of   2 | elapsed:    0.0s remaining:    0.0s\n",
      "[Parallel(n_jobs=1)]: Done   3 out of   3 | elapsed:    0.0s remaining:    0.0s\n",
      "[Parallel(n_jobs=1)]: Done   4 out of   4 | elapsed:    0.0s remaining:    0.0s\n"
     ]
    },
    {
     "name": "stdout",
     "output_type": "stream",
     "text": [
      "Overwriting existing file.\n",
      "Reading F:\\Documents\\Science\\MirRevAdaptEEG\\data\\eeg\\p003\\lrp\\mra_p003_run0-epo.fif ...\n",
      "    Found the data of interest:\n",
      "        t =   -2000.00 ...    1995.00 ms\n",
      "        0 CTF compensation matrices available\n",
      "Not setting metadata\n"
     ]
    },
    {
     "name": "stderr",
     "output_type": "stream",
     "text": [
      "[Parallel(n_jobs=1)]: Done 768 out of 768 | elapsed:    0.2s finished\n"
     ]
    },
    {
     "name": "stdout",
     "output_type": "stream",
     "text": [
      "418 matching events found\n",
      "No baseline correction applied\n",
      "0 projection items activated\n",
      "Applying baseline correction (mode: mean)\n",
      "Overwriting existing file.\n",
      "Setting up low-pass filter at 30 Hz\n",
      "\n",
      "FIR filter parameters\n",
      "---------------------\n",
      "Designing a one-pass, zero-phase, non-causal lowpass filter:\n",
      "- Windowed time-domain design (firwin) method\n",
      "- Hamming window with 0.0194 passband ripple and 53 dB stopband attenuation\n",
      "- Upper passband edge: 30.00 Hz\n",
      "- Upper transition bandwidth: 7.50 Hz (-6 dB cutoff frequency: 33.75 Hz)\n",
      "- Filter length: 89 samples (0.445 sec)\n",
      "\n"
     ]
    },
    {
     "name": "stderr",
     "output_type": "stream",
     "text": [
      "[Parallel(n_jobs=1)]: Using backend SequentialBackend with 1 concurrent workers.\n",
      "[Parallel(n_jobs=1)]: Done   1 out of   1 | elapsed:    0.0s remaining:    0.0s\n",
      "[Parallel(n_jobs=1)]: Done   2 out of   2 | elapsed:    0.0s remaining:    0.0s\n",
      "[Parallel(n_jobs=1)]: Done   3 out of   3 | elapsed:    0.0s remaining:    0.0s\n",
      "[Parallel(n_jobs=1)]: Done   4 out of   4 | elapsed:    0.0s remaining:    0.0s\n"
     ]
    },
    {
     "name": "stdout",
     "output_type": "stream",
     "text": [
      "Overwriting existing file.\n",
      "Overwriting existing file.\n",
      "Setting up low-pass filter at 30 Hz\n",
      "\n",
      "FIR filter parameters\n",
      "---------------------\n",
      "Designing a one-pass, zero-phase, non-causal lowpass filter:\n",
      "- Windowed time-domain design (firwin) method\n",
      "- Hamming window with 0.0194 passband ripple and 53 dB stopband attenuation\n",
      "- Upper passband edge: 30.00 Hz\n",
      "- Upper transition bandwidth: 7.50 Hz (-6 dB cutoff frequency: 33.75 Hz)\n",
      "- Filter length: 89 samples (0.445 sec)\n",
      "\n"
     ]
    },
    {
     "name": "stderr",
     "output_type": "stream",
     "text": [
      "[Parallel(n_jobs=1)]: Done 768 out of 768 | elapsed:    0.2s finished\n",
      "[Parallel(n_jobs=1)]: Using backend SequentialBackend with 1 concurrent workers.\n",
      "[Parallel(n_jobs=1)]: Done   1 out of   1 | elapsed:    0.0s remaining:    0.0s\n",
      "[Parallel(n_jobs=1)]: Done   2 out of   2 | elapsed:    0.0s remaining:    0.0s\n",
      "[Parallel(n_jobs=1)]: Done   3 out of   3 | elapsed:    0.0s remaining:    0.0s\n",
      "[Parallel(n_jobs=1)]: Done   4 out of   4 | elapsed:    0.0s remaining:    0.0s\n"
     ]
    },
    {
     "name": "stdout",
     "output_type": "stream",
     "text": [
      "Overwriting existing file.\n",
      "Reading F:\\Documents\\Science\\MirRevAdaptEEG\\data\\eeg\\p008\\lrp\\mra_p008_run0-epo.fif ...\n",
      "    Found the data of interest:\n",
      "        t =   -2000.00 ...    1995.00 ms\n",
      "        0 CTF compensation matrices available\n"
     ]
    },
    {
     "name": "stderr",
     "output_type": "stream",
     "text": [
      "[Parallel(n_jobs=1)]: Done 768 out of 768 | elapsed:    0.2s finished\n"
     ]
    },
    {
     "name": "stdout",
     "output_type": "stream",
     "text": [
      "Not setting metadata\n",
      "420 matching events found\n",
      "No baseline correction applied\n",
      "0 projection items activated\n",
      "Applying baseline correction (mode: mean)\n",
      "Overwriting existing file.\n",
      "Setting up low-pass filter at 30 Hz\n",
      "\n",
      "FIR filter parameters\n",
      "---------------------\n",
      "Designing a one-pass, zero-phase, non-causal lowpass filter:\n",
      "- Windowed time-domain design (firwin) method\n",
      "- Hamming window with 0.0194 passband ripple and 53 dB stopband attenuation\n",
      "- Upper passband edge: 30.00 Hz\n",
      "- Upper transition bandwidth: 7.50 Hz (-6 dB cutoff frequency: 33.75 Hz)\n",
      "- Filter length: 89 samples (0.445 sec)\n",
      "\n"
     ]
    },
    {
     "name": "stderr",
     "output_type": "stream",
     "text": [
      "[Parallel(n_jobs=1)]: Using backend SequentialBackend with 1 concurrent workers.\n",
      "[Parallel(n_jobs=1)]: Done   1 out of   1 | elapsed:    0.0s remaining:    0.0s\n",
      "[Parallel(n_jobs=1)]: Done   2 out of   2 | elapsed:    0.0s remaining:    0.0s\n",
      "[Parallel(n_jobs=1)]: Done   3 out of   3 | elapsed:    0.0s remaining:    0.0s\n",
      "[Parallel(n_jobs=1)]: Done   4 out of   4 | elapsed:    0.0s remaining:    0.0s\n"
     ]
    },
    {
     "name": "stdout",
     "output_type": "stream",
     "text": [
      "Overwriting existing file.\n",
      "Overwriting existing file.\n",
      "Setting up low-pass filter at 30 Hz\n",
      "\n",
      "FIR filter parameters\n",
      "---------------------\n",
      "Designing a one-pass, zero-phase, non-causal lowpass filter:\n",
      "- Windowed time-domain design (firwin) method\n",
      "- Hamming window with 0.0194 passband ripple and 53 dB stopband attenuation\n",
      "- Upper passband edge: 30.00 Hz\n",
      "- Upper transition bandwidth: 7.50 Hz (-6 dB cutoff frequency: 33.75 Hz)\n",
      "- Filter length: 89 samples (0.445 sec)\n",
      "\n"
     ]
    },
    {
     "name": "stderr",
     "output_type": "stream",
     "text": [
      "[Parallel(n_jobs=1)]: Done 768 out of 768 | elapsed:    0.2s finished\n",
      "[Parallel(n_jobs=1)]: Using backend SequentialBackend with 1 concurrent workers.\n",
      "[Parallel(n_jobs=1)]: Done   1 out of   1 | elapsed:    0.0s remaining:    0.0s\n",
      "[Parallel(n_jobs=1)]: Done   2 out of   2 | elapsed:    0.0s remaining:    0.0s\n",
      "[Parallel(n_jobs=1)]: Done   3 out of   3 | elapsed:    0.0s remaining:    0.0s\n",
      "[Parallel(n_jobs=1)]: Done   4 out of   4 | elapsed:    0.0s remaining:    0.0s\n"
     ]
    },
    {
     "name": "stdout",
     "output_type": "stream",
     "text": [
      "Overwriting existing file.\n",
      "Reading F:\\Documents\\Science\\MirRevAdaptEEG\\data\\eeg\\p009\\lrp\\mra_p009_run0-epo.fif ...\n",
      "    Found the data of interest:\n",
      "        t =   -2000.00 ...    1995.00 ms\n",
      "        0 CTF compensation matrices available\n",
      "Not setting metadata\n"
     ]
    },
    {
     "name": "stderr",
     "output_type": "stream",
     "text": [
      "[Parallel(n_jobs=1)]: Done 768 out of 768 | elapsed:    0.2s finished\n"
     ]
    },
    {
     "name": "stdout",
     "output_type": "stream",
     "text": [
      "419 matching events found\n",
      "No baseline correction applied\n",
      "0 projection items activated\n",
      "Applying baseline correction (mode: mean)\n",
      "Overwriting existing file.\n",
      "Setting up low-pass filter at 30 Hz\n",
      "\n",
      "FIR filter parameters\n",
      "---------------------\n",
      "Designing a one-pass, zero-phase, non-causal lowpass filter:\n",
      "- Windowed time-domain design (firwin) method\n",
      "- Hamming window with 0.0194 passband ripple and 53 dB stopband attenuation\n",
      "- Upper passband edge: 30.00 Hz\n",
      "- Upper transition bandwidth: 7.50 Hz (-6 dB cutoff frequency: 33.75 Hz)\n",
      "- Filter length: 89 samples (0.445 sec)\n",
      "\n"
     ]
    },
    {
     "name": "stderr",
     "output_type": "stream",
     "text": [
      "[Parallel(n_jobs=1)]: Using backend SequentialBackend with 1 concurrent workers.\n",
      "[Parallel(n_jobs=1)]: Done   1 out of   1 | elapsed:    0.0s remaining:    0.0s\n",
      "[Parallel(n_jobs=1)]: Done   2 out of   2 | elapsed:    0.0s remaining:    0.0s\n",
      "[Parallel(n_jobs=1)]: Done   3 out of   3 | elapsed:    0.0s remaining:    0.0s\n",
      "[Parallel(n_jobs=1)]: Done   4 out of   4 | elapsed:    0.0s remaining:    0.0s\n"
     ]
    },
    {
     "name": "stdout",
     "output_type": "stream",
     "text": [
      "Overwriting existing file.\n",
      "Overwriting existing file.\n",
      "Setting up low-pass filter at 30 Hz\n",
      "\n",
      "FIR filter parameters\n",
      "---------------------\n",
      "Designing a one-pass, zero-phase, non-causal lowpass filter:\n",
      "- Windowed time-domain design (firwin) method\n",
      "- Hamming window with 0.0194 passband ripple and 53 dB stopband attenuation\n",
      "- Upper passband edge: 30.00 Hz\n",
      "- Upper transition bandwidth: 7.50 Hz (-6 dB cutoff frequency: 33.75 Hz)\n",
      "- Filter length: 89 samples (0.445 sec)\n",
      "\n"
     ]
    },
    {
     "name": "stderr",
     "output_type": "stream",
     "text": [
      "[Parallel(n_jobs=1)]: Done 768 out of 768 | elapsed:    0.2s finished\n",
      "[Parallel(n_jobs=1)]: Using backend SequentialBackend with 1 concurrent workers.\n",
      "[Parallel(n_jobs=1)]: Done   1 out of   1 | elapsed:    0.0s remaining:    0.0s\n",
      "[Parallel(n_jobs=1)]: Done   2 out of   2 | elapsed:    0.0s remaining:    0.0s\n",
      "[Parallel(n_jobs=1)]: Done   3 out of   3 | elapsed:    0.0s remaining:    0.0s\n",
      "[Parallel(n_jobs=1)]: Done   4 out of   4 | elapsed:    0.0s remaining:    0.0s\n"
     ]
    },
    {
     "name": "stdout",
     "output_type": "stream",
     "text": [
      "Overwriting existing file.\n",
      "Reading F:\\Documents\\Science\\MirRevAdaptEEG\\data\\eeg\\p010\\lrp\\mra_p010_run0-epo.fif ...\n",
      "    Found the data of interest:\n",
      "        t =   -2000.00 ...    1995.00 ms\n",
      "        0 CTF compensation matrices available\n",
      "Not setting metadata\n"
     ]
    },
    {
     "name": "stderr",
     "output_type": "stream",
     "text": [
      "[Parallel(n_jobs=1)]: Done 768 out of 768 | elapsed:    0.2s finished\n"
     ]
    },
    {
     "name": "stdout",
     "output_type": "stream",
     "text": [
      "420 matching events found\n",
      "No baseline correction applied\n",
      "0 projection items activated\n",
      "Applying baseline correction (mode: mean)\n",
      "Overwriting existing file.\n",
      "Setting up low-pass filter at 30 Hz\n",
      "\n",
      "FIR filter parameters\n",
      "---------------------\n",
      "Designing a one-pass, zero-phase, non-causal lowpass filter:\n",
      "- Windowed time-domain design (firwin) method\n",
      "- Hamming window with 0.0194 passband ripple and 53 dB stopband attenuation\n",
      "- Upper passband edge: 30.00 Hz\n",
      "- Upper transition bandwidth: 7.50 Hz (-6 dB cutoff frequency: 33.75 Hz)\n",
      "- Filter length: 89 samples (0.445 sec)\n",
      "\n"
     ]
    },
    {
     "name": "stderr",
     "output_type": "stream",
     "text": [
      "[Parallel(n_jobs=1)]: Using backend SequentialBackend with 1 concurrent workers.\n",
      "[Parallel(n_jobs=1)]: Done   1 out of   1 | elapsed:    0.0s remaining:    0.0s\n",
      "[Parallel(n_jobs=1)]: Done   2 out of   2 | elapsed:    0.0s remaining:    0.0s\n",
      "[Parallel(n_jobs=1)]: Done   3 out of   3 | elapsed:    0.0s remaining:    0.0s\n",
      "[Parallel(n_jobs=1)]: Done   4 out of   4 | elapsed:    0.0s remaining:    0.0s\n"
     ]
    },
    {
     "name": "stdout",
     "output_type": "stream",
     "text": [
      "Overwriting existing file.\n",
      "Overwriting existing file.\n",
      "Setting up low-pass filter at 30 Hz\n",
      "\n",
      "FIR filter parameters\n",
      "---------------------\n",
      "Designing a one-pass, zero-phase, non-causal lowpass filter:\n",
      "- Windowed time-domain design (firwin) method\n",
      "- Hamming window with 0.0194 passband ripple and 53 dB stopband attenuation\n",
      "- Upper passband edge: 30.00 Hz\n",
      "- Upper transition bandwidth: 7.50 Hz (-6 dB cutoff frequency: 33.75 Hz)\n",
      "- Filter length: 89 samples (0.445 sec)\n",
      "\n"
     ]
    },
    {
     "name": "stderr",
     "output_type": "stream",
     "text": [
      "[Parallel(n_jobs=1)]: Done 768 out of 768 | elapsed:    0.2s finished\n",
      "[Parallel(n_jobs=1)]: Using backend SequentialBackend with 1 concurrent workers.\n",
      "[Parallel(n_jobs=1)]: Done   1 out of   1 | elapsed:    0.0s remaining:    0.0s\n",
      "[Parallel(n_jobs=1)]: Done   2 out of   2 | elapsed:    0.0s remaining:    0.0s\n",
      "[Parallel(n_jobs=1)]: Done   3 out of   3 | elapsed:    0.0s remaining:    0.0s\n",
      "[Parallel(n_jobs=1)]: Done   4 out of   4 | elapsed:    0.0s remaining:    0.0s\n"
     ]
    },
    {
     "name": "stdout",
     "output_type": "stream",
     "text": [
      "Overwriting existing file.\n",
      "Reading F:\\Documents\\Science\\MirRevAdaptEEG\\data\\eeg\\p011\\lrp\\mra_p011_run0-epo.fif ...\n",
      "    Found the data of interest:\n",
      "        t =   -2000.00 ...    1995.00 ms\n",
      "        0 CTF compensation matrices available\n"
     ]
    },
    {
     "name": "stderr",
     "output_type": "stream",
     "text": [
      "[Parallel(n_jobs=1)]: Done 768 out of 768 | elapsed:    0.2s finished\n"
     ]
    },
    {
     "name": "stdout",
     "output_type": "stream",
     "text": [
      "Not setting metadata\n",
      "419 matching events found\n",
      "No baseline correction applied\n",
      "0 projection items activated\n",
      "Applying baseline correction (mode: mean)\n",
      "Overwriting existing file.\n",
      "Setting up low-pass filter at 30 Hz\n",
      "\n",
      "FIR filter parameters\n",
      "---------------------\n",
      "Designing a one-pass, zero-phase, non-causal lowpass filter:\n",
      "- Windowed time-domain design (firwin) method\n",
      "- Hamming window with 0.0194 passband ripple and 53 dB stopband attenuation\n",
      "- Upper passband edge: 30.00 Hz\n",
      "- Upper transition bandwidth: 7.50 Hz (-6 dB cutoff frequency: 33.75 Hz)\n",
      "- Filter length: 89 samples (0.445 sec)\n",
      "\n"
     ]
    },
    {
     "name": "stderr",
     "output_type": "stream",
     "text": [
      "[Parallel(n_jobs=1)]: Using backend SequentialBackend with 1 concurrent workers.\n",
      "[Parallel(n_jobs=1)]: Done   1 out of   1 | elapsed:    0.0s remaining:    0.0s\n",
      "[Parallel(n_jobs=1)]: Done   2 out of   2 | elapsed:    0.0s remaining:    0.0s\n",
      "[Parallel(n_jobs=1)]: Done   3 out of   3 | elapsed:    0.0s remaining:    0.0s\n",
      "[Parallel(n_jobs=1)]: Done   4 out of   4 | elapsed:    0.0s remaining:    0.0s\n"
     ]
    },
    {
     "name": "stdout",
     "output_type": "stream",
     "text": [
      "Overwriting existing file.\n",
      "Overwriting existing file.\n",
      "Setting up low-pass filter at 30 Hz\n",
      "\n",
      "FIR filter parameters\n",
      "---------------------\n",
      "Designing a one-pass, zero-phase, non-causal lowpass filter:\n",
      "- Windowed time-domain design (firwin) method\n",
      "- Hamming window with 0.0194 passband ripple and 53 dB stopband attenuation\n",
      "- Upper passband edge: 30.00 Hz\n",
      "- Upper transition bandwidth: 7.50 Hz (-6 dB cutoff frequency: 33.75 Hz)\n",
      "- Filter length: 89 samples (0.445 sec)\n",
      "\n"
     ]
    },
    {
     "name": "stderr",
     "output_type": "stream",
     "text": [
      "[Parallel(n_jobs=1)]: Done 768 out of 768 | elapsed:    0.2s finished\n",
      "[Parallel(n_jobs=1)]: Using backend SequentialBackend with 1 concurrent workers.\n",
      "[Parallel(n_jobs=1)]: Done   1 out of   1 | elapsed:    0.0s remaining:    0.0s\n",
      "[Parallel(n_jobs=1)]: Done   2 out of   2 | elapsed:    0.0s remaining:    0.0s\n",
      "[Parallel(n_jobs=1)]: Done   3 out of   3 | elapsed:    0.0s remaining:    0.0s\n",
      "[Parallel(n_jobs=1)]: Done   4 out of   4 | elapsed:    0.0s remaining:    0.0s\n"
     ]
    },
    {
     "name": "stdout",
     "output_type": "stream",
     "text": [
      "Overwriting existing file.\n",
      "Reading F:\\Documents\\Science\\MirRevAdaptEEG\\data\\eeg\\p016\\lrp\\mra_p016_run0-epo.fif ...\n",
      "    Found the data of interest:\n",
      "        t =   -2000.00 ...    1995.00 ms\n",
      "        0 CTF compensation matrices available\n",
      "Not setting metadata\n",
      "418 matching events found\n"
     ]
    },
    {
     "name": "stderr",
     "output_type": "stream",
     "text": [
      "[Parallel(n_jobs=1)]: Done 768 out of 768 | elapsed:    0.2s finished\n"
     ]
    },
    {
     "name": "stdout",
     "output_type": "stream",
     "text": [
      "No baseline correction applied\n",
      "0 projection items activated\n",
      "Applying baseline correction (mode: mean)\n",
      "Overwriting existing file.\n",
      "Setting up low-pass filter at 30 Hz\n",
      "\n",
      "FIR filter parameters\n",
      "---------------------\n",
      "Designing a one-pass, zero-phase, non-causal lowpass filter:\n",
      "- Windowed time-domain design (firwin) method\n",
      "- Hamming window with 0.0194 passband ripple and 53 dB stopband attenuation\n",
      "- Upper passband edge: 30.00 Hz\n",
      "- Upper transition bandwidth: 7.50 Hz (-6 dB cutoff frequency: 33.75 Hz)\n",
      "- Filter length: 89 samples (0.445 sec)\n",
      "\n"
     ]
    },
    {
     "name": "stderr",
     "output_type": "stream",
     "text": [
      "[Parallel(n_jobs=1)]: Using backend SequentialBackend with 1 concurrent workers.\n",
      "[Parallel(n_jobs=1)]: Done   1 out of   1 | elapsed:    0.0s remaining:    0.0s\n",
      "[Parallel(n_jobs=1)]: Done   2 out of   2 | elapsed:    0.0s remaining:    0.0s\n",
      "[Parallel(n_jobs=1)]: Done   3 out of   3 | elapsed:    0.0s remaining:    0.0s\n",
      "[Parallel(n_jobs=1)]: Done   4 out of   4 | elapsed:    0.0s remaining:    0.0s\n"
     ]
    },
    {
     "name": "stdout",
     "output_type": "stream",
     "text": [
      "Overwriting existing file.\n",
      "Overwriting existing file.\n",
      "Setting up low-pass filter at 30 Hz\n",
      "\n",
      "FIR filter parameters\n",
      "---------------------\n",
      "Designing a one-pass, zero-phase, non-causal lowpass filter:\n",
      "- Windowed time-domain design (firwin) method\n",
      "- Hamming window with 0.0194 passband ripple and 53 dB stopband attenuation\n",
      "- Upper passband edge: 30.00 Hz\n",
      "- Upper transition bandwidth: 7.50 Hz (-6 dB cutoff frequency: 33.75 Hz)\n",
      "- Filter length: 89 samples (0.445 sec)\n",
      "\n"
     ]
    },
    {
     "name": "stderr",
     "output_type": "stream",
     "text": [
      "[Parallel(n_jobs=1)]: Done 768 out of 768 | elapsed:    0.2s finished\n",
      "[Parallel(n_jobs=1)]: Using backend SequentialBackend with 1 concurrent workers.\n",
      "[Parallel(n_jobs=1)]: Done   1 out of   1 | elapsed:    0.0s remaining:    0.0s\n",
      "[Parallel(n_jobs=1)]: Done   2 out of   2 | elapsed:    0.0s remaining:    0.0s\n",
      "[Parallel(n_jobs=1)]: Done   3 out of   3 | elapsed:    0.0s remaining:    0.0s\n",
      "[Parallel(n_jobs=1)]: Done   4 out of   4 | elapsed:    0.0s remaining:    0.0s\n"
     ]
    },
    {
     "name": "stdout",
     "output_type": "stream",
     "text": [
      "Overwriting existing file.\n",
      "Reading F:\\Documents\\Science\\MirRevAdaptEEG\\data\\eeg\\p017\\lrp\\mra_p017_run0-epo.fif ...\n",
      "    Found the data of interest:\n",
      "        t =   -2000.00 ...    1995.00 ms\n",
      "        0 CTF compensation matrices available\n"
     ]
    },
    {
     "name": "stderr",
     "output_type": "stream",
     "text": [
      "[Parallel(n_jobs=1)]: Done 768 out of 768 | elapsed:    0.2s finished\n"
     ]
    },
    {
     "name": "stdout",
     "output_type": "stream",
     "text": [
      "Not setting metadata\n",
      "418 matching events found\n",
      "No baseline correction applied\n",
      "0 projection items activated\n",
      "Applying baseline correction (mode: mean)\n",
      "Overwriting existing file.\n",
      "Setting up low-pass filter at 30 Hz\n",
      "\n",
      "FIR filter parameters\n",
      "---------------------\n",
      "Designing a one-pass, zero-phase, non-causal lowpass filter:\n",
      "- Windowed time-domain design (firwin) method\n",
      "- Hamming window with 0.0194 passband ripple and 53 dB stopband attenuation\n",
      "- Upper passband edge: 30.00 Hz\n",
      "- Upper transition bandwidth: 7.50 Hz (-6 dB cutoff frequency: 33.75 Hz)\n",
      "- Filter length: 89 samples (0.445 sec)\n",
      "\n"
     ]
    },
    {
     "name": "stderr",
     "output_type": "stream",
     "text": [
      "[Parallel(n_jobs=1)]: Using backend SequentialBackend with 1 concurrent workers.\n",
      "[Parallel(n_jobs=1)]: Done   1 out of   1 | elapsed:    0.0s remaining:    0.0s\n",
      "[Parallel(n_jobs=1)]: Done   2 out of   2 | elapsed:    0.0s remaining:    0.0s\n",
      "[Parallel(n_jobs=1)]: Done   3 out of   3 | elapsed:    0.0s remaining:    0.0s\n",
      "[Parallel(n_jobs=1)]: Done   4 out of   4 | elapsed:    0.0s remaining:    0.0s\n"
     ]
    },
    {
     "name": "stdout",
     "output_type": "stream",
     "text": [
      "Overwriting existing file.\n",
      "Overwriting existing file.\n",
      "Setting up low-pass filter at 30 Hz\n",
      "\n",
      "FIR filter parameters\n",
      "---------------------\n",
      "Designing a one-pass, zero-phase, non-causal lowpass filter:\n",
      "- Windowed time-domain design (firwin) method\n",
      "- Hamming window with 0.0194 passband ripple and 53 dB stopband attenuation\n",
      "- Upper passband edge: 30.00 Hz\n",
      "- Upper transition bandwidth: 7.50 Hz (-6 dB cutoff frequency: 33.75 Hz)\n",
      "- Filter length: 89 samples (0.445 sec)\n",
      "\n"
     ]
    },
    {
     "name": "stderr",
     "output_type": "stream",
     "text": [
      "[Parallel(n_jobs=1)]: Done 768 out of 768 | elapsed:    0.2s finished\n",
      "[Parallel(n_jobs=1)]: Using backend SequentialBackend with 1 concurrent workers.\n",
      "[Parallel(n_jobs=1)]: Done   1 out of   1 | elapsed:    0.0s remaining:    0.0s\n",
      "[Parallel(n_jobs=1)]: Done   2 out of   2 | elapsed:    0.0s remaining:    0.0s\n",
      "[Parallel(n_jobs=1)]: Done   3 out of   3 | elapsed:    0.0s remaining:    0.0s\n",
      "[Parallel(n_jobs=1)]: Done   4 out of   4 | elapsed:    0.0s remaining:    0.0s\n"
     ]
    },
    {
     "name": "stdout",
     "output_type": "stream",
     "text": [
      "Overwriting existing file.\n",
      "Reading F:\\Documents\\Science\\MirRevAdaptEEG\\data\\eeg\\p018\\lrp\\mra_p018_run0-epo.fif ...\n",
      "    Found the data of interest:\n",
      "        t =   -2000.00 ...    1995.00 ms\n",
      "        0 CTF compensation matrices available\n"
     ]
    },
    {
     "name": "stderr",
     "output_type": "stream",
     "text": [
      "[Parallel(n_jobs=1)]: Done 768 out of 768 | elapsed:    0.2s finished\n"
     ]
    },
    {
     "name": "stdout",
     "output_type": "stream",
     "text": [
      "Not setting metadata\n",
      "419 matching events found\n",
      "No baseline correction applied\n",
      "0 projection items activated\n",
      "Applying baseline correction (mode: mean)\n",
      "Overwriting existing file.\n",
      "Setting up low-pass filter at 30 Hz\n",
      "\n",
      "FIR filter parameters\n",
      "---------------------\n",
      "Designing a one-pass, zero-phase, non-causal lowpass filter:\n",
      "- Windowed time-domain design (firwin) method\n",
      "- Hamming window with 0.0194 passband ripple and 53 dB stopband attenuation\n",
      "- Upper passband edge: 30.00 Hz\n",
      "- Upper transition bandwidth: 7.50 Hz (-6 dB cutoff frequency: 33.75 Hz)\n",
      "- Filter length: 89 samples (0.445 sec)\n",
      "\n"
     ]
    },
    {
     "name": "stderr",
     "output_type": "stream",
     "text": [
      "[Parallel(n_jobs=1)]: Using backend SequentialBackend with 1 concurrent workers.\n",
      "[Parallel(n_jobs=1)]: Done   1 out of   1 | elapsed:    0.0s remaining:    0.0s\n",
      "[Parallel(n_jobs=1)]: Done   2 out of   2 | elapsed:    0.0s remaining:    0.0s\n",
      "[Parallel(n_jobs=1)]: Done   3 out of   3 | elapsed:    0.0s remaining:    0.0s\n",
      "[Parallel(n_jobs=1)]: Done   4 out of   4 | elapsed:    0.0s remaining:    0.0s\n"
     ]
    },
    {
     "name": "stdout",
     "output_type": "stream",
     "text": [
      "Overwriting existing file.\n",
      "Overwriting existing file.\n",
      "Setting up low-pass filter at 30 Hz\n",
      "\n",
      "FIR filter parameters\n",
      "---------------------\n",
      "Designing a one-pass, zero-phase, non-causal lowpass filter:\n",
      "- Windowed time-domain design (firwin) method\n",
      "- Hamming window with 0.0194 passband ripple and 53 dB stopband attenuation\n",
      "- Upper passband edge: 30.00 Hz\n",
      "- Upper transition bandwidth: 7.50 Hz (-6 dB cutoff frequency: 33.75 Hz)\n",
      "- Filter length: 89 samples (0.445 sec)\n",
      "\n"
     ]
    },
    {
     "name": "stderr",
     "output_type": "stream",
     "text": [
      "[Parallel(n_jobs=1)]: Done 768 out of 768 | elapsed:    0.2s finished\n",
      "[Parallel(n_jobs=1)]: Using backend SequentialBackend with 1 concurrent workers.\n",
      "[Parallel(n_jobs=1)]: Done   1 out of   1 | elapsed:    0.0s remaining:    0.0s\n",
      "[Parallel(n_jobs=1)]: Done   2 out of   2 | elapsed:    0.0s remaining:    0.0s\n",
      "[Parallel(n_jobs=1)]: Done   3 out of   3 | elapsed:    0.0s remaining:    0.0s\n",
      "[Parallel(n_jobs=1)]: Done   4 out of   4 | elapsed:    0.0s remaining:    0.0s\n"
     ]
    },
    {
     "name": "stdout",
     "output_type": "stream",
     "text": [
      "Overwriting existing file.\n",
      "Reading F:\\Documents\\Science\\MirRevAdaptEEG\\data\\eeg\\p019\\lrp\\mra_p019_run0-epo.fif ...\n",
      "    Found the data of interest:\n",
      "        t =   -2000.00 ...    1995.00 ms\n",
      "        0 CTF compensation matrices available\n",
      "Not setting metadata\n",
      "419 matching events found\n"
     ]
    },
    {
     "name": "stderr",
     "output_type": "stream",
     "text": [
      "[Parallel(n_jobs=1)]: Done 768 out of 768 | elapsed:    0.2s finished\n"
     ]
    },
    {
     "name": "stdout",
     "output_type": "stream",
     "text": [
      "No baseline correction applied\n",
      "0 projection items activated\n",
      "Applying baseline correction (mode: mean)\n",
      "Overwriting existing file.\n",
      "Setting up low-pass filter at 30 Hz\n",
      "\n",
      "FIR filter parameters\n",
      "---------------------\n",
      "Designing a one-pass, zero-phase, non-causal lowpass filter:\n",
      "- Windowed time-domain design (firwin) method\n",
      "- Hamming window with 0.0194 passband ripple and 53 dB stopband attenuation\n",
      "- Upper passband edge: 30.00 Hz\n",
      "- Upper transition bandwidth: 7.50 Hz (-6 dB cutoff frequency: 33.75 Hz)\n",
      "- Filter length: 89 samples (0.445 sec)\n",
      "\n"
     ]
    },
    {
     "name": "stderr",
     "output_type": "stream",
     "text": [
      "[Parallel(n_jobs=1)]: Using backend SequentialBackend with 1 concurrent workers.\n",
      "[Parallel(n_jobs=1)]: Done   1 out of   1 | elapsed:    0.0s remaining:    0.0s\n",
      "[Parallel(n_jobs=1)]: Done   2 out of   2 | elapsed:    0.0s remaining:    0.0s\n",
      "[Parallel(n_jobs=1)]: Done   3 out of   3 | elapsed:    0.0s remaining:    0.0s\n",
      "[Parallel(n_jobs=1)]: Done   4 out of   4 | elapsed:    0.0s remaining:    0.0s\n"
     ]
    },
    {
     "name": "stdout",
     "output_type": "stream",
     "text": [
      "Overwriting existing file.\n",
      "Overwriting existing file.\n",
      "Setting up low-pass filter at 30 Hz\n",
      "\n",
      "FIR filter parameters\n",
      "---------------------\n",
      "Designing a one-pass, zero-phase, non-causal lowpass filter:\n",
      "- Windowed time-domain design (firwin) method\n",
      "- Hamming window with 0.0194 passband ripple and 53 dB stopband attenuation\n",
      "- Upper passband edge: 30.00 Hz\n",
      "- Upper transition bandwidth: 7.50 Hz (-6 dB cutoff frequency: 33.75 Hz)\n",
      "- Filter length: 89 samples (0.445 sec)\n",
      "\n"
     ]
    },
    {
     "name": "stderr",
     "output_type": "stream",
     "text": [
      "[Parallel(n_jobs=1)]: Done 768 out of 768 | elapsed:    0.2s finished\n",
      "[Parallel(n_jobs=1)]: Using backend SequentialBackend with 1 concurrent workers.\n",
      "[Parallel(n_jobs=1)]: Done   1 out of   1 | elapsed:    0.0s remaining:    0.0s\n",
      "[Parallel(n_jobs=1)]: Done   2 out of   2 | elapsed:    0.0s remaining:    0.0s\n",
      "[Parallel(n_jobs=1)]: Done   3 out of   3 | elapsed:    0.0s remaining:    0.0s\n",
      "[Parallel(n_jobs=1)]: Done   4 out of   4 | elapsed:    0.0s remaining:    0.0s\n"
     ]
    },
    {
     "name": "stdout",
     "output_type": "stream",
     "text": [
      "Overwriting existing file.\n",
      "Reading F:\\Documents\\Science\\MirRevAdaptEEG\\data\\eeg\\p024\\lrp\\mra_p024_run0-epo.fif ...\n",
      "    Found the data of interest:\n",
      "        t =   -2000.00 ...    1995.00 ms\n",
      "        0 CTF compensation matrices available\n",
      "Not setting metadata\n"
     ]
    },
    {
     "name": "stderr",
     "output_type": "stream",
     "text": [
      "[Parallel(n_jobs=1)]: Done 768 out of 768 | elapsed:    0.2s finished\n"
     ]
    },
    {
     "name": "stdout",
     "output_type": "stream",
     "text": [
      "420 matching events found\n",
      "No baseline correction applied\n",
      "0 projection items activated\n",
      "Applying baseline correction (mode: mean)\n",
      "Overwriting existing file.\n",
      "Setting up low-pass filter at 30 Hz\n",
      "\n",
      "FIR filter parameters\n",
      "---------------------\n",
      "Designing a one-pass, zero-phase, non-causal lowpass filter:\n",
      "- Windowed time-domain design (firwin) method\n",
      "- Hamming window with 0.0194 passband ripple and 53 dB stopband attenuation\n",
      "- Upper passband edge: 30.00 Hz\n",
      "- Upper transition bandwidth: 7.50 Hz (-6 dB cutoff frequency: 33.75 Hz)\n",
      "- Filter length: 89 samples (0.445 sec)\n",
      "\n"
     ]
    },
    {
     "name": "stderr",
     "output_type": "stream",
     "text": [
      "[Parallel(n_jobs=1)]: Using backend SequentialBackend with 1 concurrent workers.\n",
      "[Parallel(n_jobs=1)]: Done   1 out of   1 | elapsed:    0.0s remaining:    0.0s\n",
      "[Parallel(n_jobs=1)]: Done   2 out of   2 | elapsed:    0.0s remaining:    0.0s\n",
      "[Parallel(n_jobs=1)]: Done   3 out of   3 | elapsed:    0.0s remaining:    0.0s\n",
      "[Parallel(n_jobs=1)]: Done   4 out of   4 | elapsed:    0.0s remaining:    0.0s\n"
     ]
    },
    {
     "name": "stdout",
     "output_type": "stream",
     "text": [
      "Overwriting existing file.\n",
      "Overwriting existing file.\n",
      "Setting up low-pass filter at 30 Hz\n",
      "\n",
      "FIR filter parameters\n",
      "---------------------\n",
      "Designing a one-pass, zero-phase, non-causal lowpass filter:\n",
      "- Windowed time-domain design (firwin) method\n",
      "- Hamming window with 0.0194 passband ripple and 53 dB stopband attenuation\n",
      "- Upper passband edge: 30.00 Hz\n",
      "- Upper transition bandwidth: 7.50 Hz (-6 dB cutoff frequency: 33.75 Hz)\n",
      "- Filter length: 89 samples (0.445 sec)\n",
      "\n"
     ]
    },
    {
     "name": "stderr",
     "output_type": "stream",
     "text": [
      "[Parallel(n_jobs=1)]: Done 768 out of 768 | elapsed:    0.2s finished\n",
      "[Parallel(n_jobs=1)]: Using backend SequentialBackend with 1 concurrent workers.\n",
      "[Parallel(n_jobs=1)]: Done   1 out of   1 | elapsed:    0.0s remaining:    0.0s\n",
      "[Parallel(n_jobs=1)]: Done   2 out of   2 | elapsed:    0.0s remaining:    0.0s\n",
      "[Parallel(n_jobs=1)]: Done   3 out of   3 | elapsed:    0.0s remaining:    0.0s\n",
      "[Parallel(n_jobs=1)]: Done   4 out of   4 | elapsed:    0.0s remaining:    0.0s\n"
     ]
    },
    {
     "name": "stdout",
     "output_type": "stream",
     "text": [
      "Overwriting existing file.\n",
      "Reading F:\\Documents\\Science\\MirRevAdaptEEG\\data\\eeg\\p025\\lrp\\mra_p025_run0-epo.fif ...\n",
      "    Found the data of interest:\n",
      "        t =   -2000.00 ...    1995.00 ms\n",
      "        0 CTF compensation matrices available\n"
     ]
    },
    {
     "name": "stderr",
     "output_type": "stream",
     "text": [
      "[Parallel(n_jobs=1)]: Done 768 out of 768 | elapsed:    0.2s finished\n"
     ]
    },
    {
     "name": "stdout",
     "output_type": "stream",
     "text": [
      "Not setting metadata\n",
      "420 matching events found\n",
      "No baseline correction applied\n",
      "0 projection items activated\n",
      "Applying baseline correction (mode: mean)\n",
      "Overwriting existing file.\n",
      "Setting up low-pass filter at 30 Hz\n",
      "\n",
      "FIR filter parameters\n",
      "---------------------\n",
      "Designing a one-pass, zero-phase, non-causal lowpass filter:\n",
      "- Windowed time-domain design (firwin) method\n",
      "- Hamming window with 0.0194 passband ripple and 53 dB stopband attenuation\n",
      "- Upper passband edge: 30.00 Hz\n",
      "- Upper transition bandwidth: 7.50 Hz (-6 dB cutoff frequency: 33.75 Hz)\n",
      "- Filter length: 89 samples (0.445 sec)\n",
      "\n"
     ]
    },
    {
     "name": "stderr",
     "output_type": "stream",
     "text": [
      "[Parallel(n_jobs=1)]: Using backend SequentialBackend with 1 concurrent workers.\n",
      "[Parallel(n_jobs=1)]: Done   1 out of   1 | elapsed:    0.0s remaining:    0.0s\n",
      "[Parallel(n_jobs=1)]: Done   2 out of   2 | elapsed:    0.0s remaining:    0.0s\n",
      "[Parallel(n_jobs=1)]: Done   3 out of   3 | elapsed:    0.0s remaining:    0.0s\n",
      "[Parallel(n_jobs=1)]: Done   4 out of   4 | elapsed:    0.0s remaining:    0.0s\n"
     ]
    },
    {
     "name": "stdout",
     "output_type": "stream",
     "text": [
      "Overwriting existing file.\n",
      "Overwriting existing file.\n",
      "Setting up low-pass filter at 30 Hz\n",
      "\n",
      "FIR filter parameters\n",
      "---------------------\n",
      "Designing a one-pass, zero-phase, non-causal lowpass filter:\n",
      "- Windowed time-domain design (firwin) method\n",
      "- Hamming window with 0.0194 passband ripple and 53 dB stopband attenuation\n",
      "- Upper passband edge: 30.00 Hz\n",
      "- Upper transition bandwidth: 7.50 Hz (-6 dB cutoff frequency: 33.75 Hz)\n",
      "- Filter length: 89 samples (0.445 sec)\n",
      "\n"
     ]
    },
    {
     "name": "stderr",
     "output_type": "stream",
     "text": [
      "[Parallel(n_jobs=1)]: Done 768 out of 768 | elapsed:    0.2s finished\n",
      "[Parallel(n_jobs=1)]: Using backend SequentialBackend with 1 concurrent workers.\n",
      "[Parallel(n_jobs=1)]: Done   1 out of   1 | elapsed:    0.0s remaining:    0.0s\n",
      "[Parallel(n_jobs=1)]: Done   2 out of   2 | elapsed:    0.0s remaining:    0.0s\n",
      "[Parallel(n_jobs=1)]: Done   3 out of   3 | elapsed:    0.0s remaining:    0.0s\n",
      "[Parallel(n_jobs=1)]: Done   4 out of   4 | elapsed:    0.0s remaining:    0.0s\n"
     ]
    },
    {
     "name": "stdout",
     "output_type": "stream",
     "text": [
      "Overwriting existing file.\n",
      "Reading F:\\Documents\\Science\\MirRevAdaptEEG\\data\\eeg\\p026\\lrp\\mra_p026_run0-epo.fif ...\n",
      "    Found the data of interest:\n",
      "        t =   -2000.00 ...    1995.00 ms\n",
      "        0 CTF compensation matrices available\n",
      "Not setting metadata\n"
     ]
    },
    {
     "name": "stderr",
     "output_type": "stream",
     "text": [
      "[Parallel(n_jobs=1)]: Done 768 out of 768 | elapsed:    0.2s finished\n"
     ]
    },
    {
     "name": "stdout",
     "output_type": "stream",
     "text": [
      "420 matching events found\n",
      "No baseline correction applied\n",
      "0 projection items activated\n",
      "Applying baseline correction (mode: mean)\n",
      "Overwriting existing file.\n",
      "Setting up low-pass filter at 30 Hz\n",
      "\n",
      "FIR filter parameters\n",
      "---------------------\n",
      "Designing a one-pass, zero-phase, non-causal lowpass filter:\n",
      "- Windowed time-domain design (firwin) method\n",
      "- Hamming window with 0.0194 passband ripple and 53 dB stopband attenuation\n",
      "- Upper passband edge: 30.00 Hz\n",
      "- Upper transition bandwidth: 7.50 Hz (-6 dB cutoff frequency: 33.75 Hz)\n",
      "- Filter length: 89 samples (0.445 sec)\n",
      "\n"
     ]
    },
    {
     "name": "stderr",
     "output_type": "stream",
     "text": [
      "[Parallel(n_jobs=1)]: Using backend SequentialBackend with 1 concurrent workers.\n",
      "[Parallel(n_jobs=1)]: Done   1 out of   1 | elapsed:    0.0s remaining:    0.0s\n",
      "[Parallel(n_jobs=1)]: Done   2 out of   2 | elapsed:    0.0s remaining:    0.0s\n",
      "[Parallel(n_jobs=1)]: Done   3 out of   3 | elapsed:    0.0s remaining:    0.0s\n",
      "[Parallel(n_jobs=1)]: Done   4 out of   4 | elapsed:    0.0s remaining:    0.0s\n"
     ]
    },
    {
     "name": "stdout",
     "output_type": "stream",
     "text": [
      "Overwriting existing file.\n",
      "Overwriting existing file.\n",
      "Setting up low-pass filter at 30 Hz\n",
      "\n",
      "FIR filter parameters\n",
      "---------------------\n",
      "Designing a one-pass, zero-phase, non-causal lowpass filter:\n",
      "- Windowed time-domain design (firwin) method\n",
      "- Hamming window with 0.0194 passband ripple and 53 dB stopband attenuation\n",
      "- Upper passband edge: 30.00 Hz\n",
      "- Upper transition bandwidth: 7.50 Hz (-6 dB cutoff frequency: 33.75 Hz)\n",
      "- Filter length: 89 samples (0.445 sec)\n",
      "\n"
     ]
    },
    {
     "name": "stderr",
     "output_type": "stream",
     "text": [
      "[Parallel(n_jobs=1)]: Done 768 out of 768 | elapsed:    0.2s finished\n",
      "[Parallel(n_jobs=1)]: Using backend SequentialBackend with 1 concurrent workers.\n",
      "[Parallel(n_jobs=1)]: Done   1 out of   1 | elapsed:    0.0s remaining:    0.0s\n",
      "[Parallel(n_jobs=1)]: Done   2 out of   2 | elapsed:    0.0s remaining:    0.0s\n",
      "[Parallel(n_jobs=1)]: Done   3 out of   3 | elapsed:    0.0s remaining:    0.0s\n",
      "[Parallel(n_jobs=1)]: Done   4 out of   4 | elapsed:    0.0s remaining:    0.0s\n"
     ]
    },
    {
     "name": "stdout",
     "output_type": "stream",
     "text": [
      "Overwriting existing file.\n",
      "Reading F:\\Documents\\Science\\MirRevAdaptEEG\\data\\eeg\\p027\\lrp\\mra_p027_run0-epo.fif ...\n",
      "    Found the data of interest:\n",
      "        t =   -2000.00 ...    1995.00 ms\n",
      "        0 CTF compensation matrices available\n"
     ]
    },
    {
     "name": "stderr",
     "output_type": "stream",
     "text": [
      "[Parallel(n_jobs=1)]: Done 768 out of 768 | elapsed:    0.2s finished\n"
     ]
    },
    {
     "name": "stdout",
     "output_type": "stream",
     "text": [
      "Not setting metadata\n",
      "419 matching events found\n",
      "No baseline correction applied\n",
      "0 projection items activated\n",
      "Applying baseline correction (mode: mean)\n",
      "Overwriting existing file.\n",
      "Setting up low-pass filter at 30 Hz\n",
      "\n",
      "FIR filter parameters\n",
      "---------------------\n",
      "Designing a one-pass, zero-phase, non-causal lowpass filter:\n",
      "- Windowed time-domain design (firwin) method\n",
      "- Hamming window with 0.0194 passband ripple and 53 dB stopband attenuation\n",
      "- Upper passband edge: 30.00 Hz\n",
      "- Upper transition bandwidth: 7.50 Hz (-6 dB cutoff frequency: 33.75 Hz)\n",
      "- Filter length: 89 samples (0.445 sec)\n",
      "\n"
     ]
    },
    {
     "name": "stderr",
     "output_type": "stream",
     "text": [
      "[Parallel(n_jobs=1)]: Using backend SequentialBackend with 1 concurrent workers.\n",
      "[Parallel(n_jobs=1)]: Done   1 out of   1 | elapsed:    0.0s remaining:    0.0s\n",
      "[Parallel(n_jobs=1)]: Done   2 out of   2 | elapsed:    0.0s remaining:    0.0s\n",
      "[Parallel(n_jobs=1)]: Done   3 out of   3 | elapsed:    0.0s remaining:    0.0s\n",
      "[Parallel(n_jobs=1)]: Done   4 out of   4 | elapsed:    0.0s remaining:    0.0s\n"
     ]
    },
    {
     "name": "stdout",
     "output_type": "stream",
     "text": [
      "Overwriting existing file.\n",
      "Overwriting existing file.\n",
      "Setting up low-pass filter at 30 Hz\n",
      "\n",
      "FIR filter parameters\n",
      "---------------------\n",
      "Designing a one-pass, zero-phase, non-causal lowpass filter:\n",
      "- Windowed time-domain design (firwin) method\n",
      "- Hamming window with 0.0194 passband ripple and 53 dB stopband attenuation\n",
      "- Upper passband edge: 30.00 Hz\n",
      "- Upper transition bandwidth: 7.50 Hz (-6 dB cutoff frequency: 33.75 Hz)\n",
      "- Filter length: 89 samples (0.445 sec)\n",
      "\n"
     ]
    },
    {
     "name": "stderr",
     "output_type": "stream",
     "text": [
      "[Parallel(n_jobs=1)]: Done 768 out of 768 | elapsed:    0.2s finished\n",
      "[Parallel(n_jobs=1)]: Using backend SequentialBackend with 1 concurrent workers.\n",
      "[Parallel(n_jobs=1)]: Done   1 out of   1 | elapsed:    0.0s remaining:    0.0s\n",
      "[Parallel(n_jobs=1)]: Done   2 out of   2 | elapsed:    0.0s remaining:    0.0s\n",
      "[Parallel(n_jobs=1)]: Done   3 out of   3 | elapsed:    0.0s remaining:    0.0s\n",
      "[Parallel(n_jobs=1)]: Done   4 out of   4 | elapsed:    0.0s remaining:    0.0s\n"
     ]
    },
    {
     "name": "stdout",
     "output_type": "stream",
     "text": [
      "Overwriting existing file.\n",
      "Reading F:\\Documents\\Science\\MirRevAdaptEEG\\data\\eeg\\p004\\lrp\\mra_p004_run0-epo.fif ...\n",
      "    Found the data of interest:\n",
      "        t =   -2000.00 ...    1995.00 ms\n",
      "        0 CTF compensation matrices available\n",
      "Not setting metadata\n"
     ]
    },
    {
     "name": "stderr",
     "output_type": "stream",
     "text": [
      "[Parallel(n_jobs=1)]: Done 768 out of 768 | elapsed:    0.2s finished\n"
     ]
    },
    {
     "name": "stdout",
     "output_type": "stream",
     "text": [
      "418 matching events found\n",
      "No baseline correction applied\n",
      "0 projection items activated\n",
      "Applying baseline correction (mode: mean)\n",
      "Overwriting existing file.\n",
      "Setting up low-pass filter at 30 Hz\n",
      "\n",
      "FIR filter parameters\n",
      "---------------------\n",
      "Designing a one-pass, zero-phase, non-causal lowpass filter:\n",
      "- Windowed time-domain design (firwin) method\n",
      "- Hamming window with 0.0194 passband ripple and 53 dB stopband attenuation\n",
      "- Upper passband edge: 30.00 Hz\n",
      "- Upper transition bandwidth: 7.50 Hz (-6 dB cutoff frequency: 33.75 Hz)\n",
      "- Filter length: 89 samples (0.445 sec)\n",
      "\n"
     ]
    },
    {
     "name": "stderr",
     "output_type": "stream",
     "text": [
      "[Parallel(n_jobs=1)]: Using backend SequentialBackend with 1 concurrent workers.\n",
      "[Parallel(n_jobs=1)]: Done   1 out of   1 | elapsed:    0.0s remaining:    0.0s\n",
      "[Parallel(n_jobs=1)]: Done   2 out of   2 | elapsed:    0.0s remaining:    0.0s\n",
      "[Parallel(n_jobs=1)]: Done   3 out of   3 | elapsed:    0.0s remaining:    0.0s\n",
      "[Parallel(n_jobs=1)]: Done   4 out of   4 | elapsed:    0.0s remaining:    0.0s\n"
     ]
    },
    {
     "name": "stdout",
     "output_type": "stream",
     "text": [
      "Overwriting existing file.\n",
      "Overwriting existing file.\n",
      "Setting up low-pass filter at 30 Hz\n",
      "\n",
      "FIR filter parameters\n",
      "---------------------\n",
      "Designing a one-pass, zero-phase, non-causal lowpass filter:\n",
      "- Windowed time-domain design (firwin) method\n",
      "- Hamming window with 0.0194 passband ripple and 53 dB stopband attenuation\n",
      "- Upper passband edge: 30.00 Hz\n",
      "- Upper transition bandwidth: 7.50 Hz (-6 dB cutoff frequency: 33.75 Hz)\n",
      "- Filter length: 89 samples (0.445 sec)\n",
      "\n"
     ]
    },
    {
     "name": "stderr",
     "output_type": "stream",
     "text": [
      "[Parallel(n_jobs=1)]: Done 768 out of 768 | elapsed:    0.2s finished\n",
      "[Parallel(n_jobs=1)]: Using backend SequentialBackend with 1 concurrent workers.\n",
      "[Parallel(n_jobs=1)]: Done   1 out of   1 | elapsed:    0.0s remaining:    0.0s\n",
      "[Parallel(n_jobs=1)]: Done   2 out of   2 | elapsed:    0.0s remaining:    0.0s\n",
      "[Parallel(n_jobs=1)]: Done   3 out of   3 | elapsed:    0.0s remaining:    0.0s\n",
      "[Parallel(n_jobs=1)]: Done   4 out of   4 | elapsed:    0.0s remaining:    0.0s\n"
     ]
    },
    {
     "name": "stdout",
     "output_type": "stream",
     "text": [
      "Overwriting existing file.\n",
      "Reading F:\\Documents\\Science\\MirRevAdaptEEG\\data\\eeg\\p005\\lrp\\mra_p005_run0-epo.fif ...\n",
      "    Found the data of interest:\n",
      "        t =   -2000.00 ...    1995.00 ms\n",
      "        0 CTF compensation matrices available\n"
     ]
    },
    {
     "name": "stderr",
     "output_type": "stream",
     "text": [
      "[Parallel(n_jobs=1)]: Done 768 out of 768 | elapsed:    0.2s finished\n"
     ]
    },
    {
     "name": "stdout",
     "output_type": "stream",
     "text": [
      "Not setting metadata\n",
      "419 matching events found\n",
      "No baseline correction applied\n",
      "0 projection items activated\n",
      "Applying baseline correction (mode: mean)\n",
      "Overwriting existing file.\n",
      "Setting up low-pass filter at 30 Hz\n",
      "\n",
      "FIR filter parameters\n",
      "---------------------\n",
      "Designing a one-pass, zero-phase, non-causal lowpass filter:\n",
      "- Windowed time-domain design (firwin) method\n",
      "- Hamming window with 0.0194 passband ripple and 53 dB stopband attenuation\n",
      "- Upper passband edge: 30.00 Hz\n",
      "- Upper transition bandwidth: 7.50 Hz (-6 dB cutoff frequency: 33.75 Hz)\n",
      "- Filter length: 89 samples (0.445 sec)\n",
      "\n"
     ]
    },
    {
     "name": "stderr",
     "output_type": "stream",
     "text": [
      "[Parallel(n_jobs=1)]: Using backend SequentialBackend with 1 concurrent workers.\n",
      "[Parallel(n_jobs=1)]: Done   1 out of   1 | elapsed:    0.0s remaining:    0.0s\n",
      "[Parallel(n_jobs=1)]: Done   2 out of   2 | elapsed:    0.0s remaining:    0.0s\n",
      "[Parallel(n_jobs=1)]: Done   3 out of   3 | elapsed:    0.0s remaining:    0.0s\n",
      "[Parallel(n_jobs=1)]: Done   4 out of   4 | elapsed:    0.0s remaining:    0.0s\n"
     ]
    },
    {
     "name": "stdout",
     "output_type": "stream",
     "text": [
      "Overwriting existing file.\n",
      "Overwriting existing file.\n",
      "Setting up low-pass filter at 30 Hz\n",
      "\n",
      "FIR filter parameters\n",
      "---------------------\n",
      "Designing a one-pass, zero-phase, non-causal lowpass filter:\n",
      "- Windowed time-domain design (firwin) method\n",
      "- Hamming window with 0.0194 passband ripple and 53 dB stopband attenuation\n",
      "- Upper passband edge: 30.00 Hz\n",
      "- Upper transition bandwidth: 7.50 Hz (-6 dB cutoff frequency: 33.75 Hz)\n",
      "- Filter length: 89 samples (0.445 sec)\n",
      "\n"
     ]
    },
    {
     "name": "stderr",
     "output_type": "stream",
     "text": [
      "[Parallel(n_jobs=1)]: Done 768 out of 768 | elapsed:    0.2s finished\n",
      "[Parallel(n_jobs=1)]: Using backend SequentialBackend with 1 concurrent workers.\n",
      "[Parallel(n_jobs=1)]: Done   1 out of   1 | elapsed:    0.0s remaining:    0.0s\n",
      "[Parallel(n_jobs=1)]: Done   2 out of   2 | elapsed:    0.0s remaining:    0.0s\n",
      "[Parallel(n_jobs=1)]: Done   3 out of   3 | elapsed:    0.0s remaining:    0.0s\n",
      "[Parallel(n_jobs=1)]: Done   4 out of   4 | elapsed:    0.0s remaining:    0.0s\n"
     ]
    },
    {
     "name": "stdout",
     "output_type": "stream",
     "text": [
      "Overwriting existing file.\n",
      "Reading F:\\Documents\\Science\\MirRevAdaptEEG\\data\\eeg\\p006\\lrp\\mra_p006_run0-epo.fif ...\n",
      "    Found the data of interest:\n",
      "        t =   -2000.00 ...    1995.00 ms\n",
      "        0 CTF compensation matrices available\n"
     ]
    },
    {
     "name": "stderr",
     "output_type": "stream",
     "text": [
      "[Parallel(n_jobs=1)]: Done 768 out of 768 | elapsed:    0.2s finished\n"
     ]
    },
    {
     "name": "stdout",
     "output_type": "stream",
     "text": [
      "Not setting metadata\n",
      "418 matching events found\n",
      "No baseline correction applied\n",
      "0 projection items activated\n",
      "Applying baseline correction (mode: mean)\n",
      "Overwriting existing file.\n",
      "Setting up low-pass filter at 30 Hz\n",
      "\n",
      "FIR filter parameters\n",
      "---------------------\n",
      "Designing a one-pass, zero-phase, non-causal lowpass filter:\n",
      "- Windowed time-domain design (firwin) method\n",
      "- Hamming window with 0.0194 passband ripple and 53 dB stopband attenuation\n",
      "- Upper passband edge: 30.00 Hz\n",
      "- Upper transition bandwidth: 7.50 Hz (-6 dB cutoff frequency: 33.75 Hz)\n",
      "- Filter length: 89 samples (0.445 sec)\n",
      "\n"
     ]
    },
    {
     "name": "stderr",
     "output_type": "stream",
     "text": [
      "[Parallel(n_jobs=1)]: Using backend SequentialBackend with 1 concurrent workers.\n",
      "[Parallel(n_jobs=1)]: Done   1 out of   1 | elapsed:    0.0s remaining:    0.0s\n",
      "[Parallel(n_jobs=1)]: Done   2 out of   2 | elapsed:    0.0s remaining:    0.0s\n",
      "[Parallel(n_jobs=1)]: Done   3 out of   3 | elapsed:    0.0s remaining:    0.0s\n",
      "[Parallel(n_jobs=1)]: Done   4 out of   4 | elapsed:    0.0s remaining:    0.0s\n"
     ]
    },
    {
     "name": "stdout",
     "output_type": "stream",
     "text": [
      "Overwriting existing file.\n",
      "Overwriting existing file.\n",
      "Setting up low-pass filter at 30 Hz\n",
      "\n",
      "FIR filter parameters\n",
      "---------------------\n",
      "Designing a one-pass, zero-phase, non-causal lowpass filter:\n",
      "- Windowed time-domain design (firwin) method\n",
      "- Hamming window with 0.0194 passband ripple and 53 dB stopband attenuation\n",
      "- Upper passband edge: 30.00 Hz\n",
      "- Upper transition bandwidth: 7.50 Hz (-6 dB cutoff frequency: 33.75 Hz)\n",
      "- Filter length: 89 samples (0.445 sec)\n",
      "\n"
     ]
    },
    {
     "name": "stderr",
     "output_type": "stream",
     "text": [
      "[Parallel(n_jobs=1)]: Done 768 out of 768 | elapsed:    0.2s finished\n",
      "[Parallel(n_jobs=1)]: Using backend SequentialBackend with 1 concurrent workers.\n",
      "[Parallel(n_jobs=1)]: Done   1 out of   1 | elapsed:    0.0s remaining:    0.0s\n",
      "[Parallel(n_jobs=1)]: Done   2 out of   2 | elapsed:    0.0s remaining:    0.0s\n",
      "[Parallel(n_jobs=1)]: Done   3 out of   3 | elapsed:    0.0s remaining:    0.0s\n",
      "[Parallel(n_jobs=1)]: Done   4 out of   4 | elapsed:    0.0s remaining:    0.0s\n"
     ]
    },
    {
     "name": "stdout",
     "output_type": "stream",
     "text": [
      "Overwriting existing file.\n",
      "Reading F:\\Documents\\Science\\MirRevAdaptEEG\\data\\eeg\\p007\\lrp\\mra_p007_run0-epo.fif ...\n",
      "    Found the data of interest:\n",
      "        t =   -2000.00 ...    1995.00 ms\n",
      "        0 CTF compensation matrices available\n",
      "Not setting metadata\n"
     ]
    },
    {
     "name": "stderr",
     "output_type": "stream",
     "text": [
      "[Parallel(n_jobs=1)]: Done 768 out of 768 | elapsed:    0.2s finished\n"
     ]
    },
    {
     "name": "stdout",
     "output_type": "stream",
     "text": [
      "420 matching events found\n",
      "No baseline correction applied\n",
      "0 projection items activated\n",
      "Applying baseline correction (mode: mean)\n",
      "Overwriting existing file.\n",
      "Setting up low-pass filter at 30 Hz\n",
      "\n",
      "FIR filter parameters\n",
      "---------------------\n",
      "Designing a one-pass, zero-phase, non-causal lowpass filter:\n",
      "- Windowed time-domain design (firwin) method\n",
      "- Hamming window with 0.0194 passband ripple and 53 dB stopband attenuation\n",
      "- Upper passband edge: 30.00 Hz\n",
      "- Upper transition bandwidth: 7.50 Hz (-6 dB cutoff frequency: 33.75 Hz)\n",
      "- Filter length: 89 samples (0.445 sec)\n",
      "\n"
     ]
    },
    {
     "name": "stderr",
     "output_type": "stream",
     "text": [
      "[Parallel(n_jobs=1)]: Using backend SequentialBackend with 1 concurrent workers.\n",
      "[Parallel(n_jobs=1)]: Done   1 out of   1 | elapsed:    0.0s remaining:    0.0s\n",
      "[Parallel(n_jobs=1)]: Done   2 out of   2 | elapsed:    0.0s remaining:    0.0s\n",
      "[Parallel(n_jobs=1)]: Done   3 out of   3 | elapsed:    0.0s remaining:    0.0s\n",
      "[Parallel(n_jobs=1)]: Done   4 out of   4 | elapsed:    0.0s remaining:    0.0s\n"
     ]
    },
    {
     "name": "stdout",
     "output_type": "stream",
     "text": [
      "Overwriting existing file.\n",
      "Overwriting existing file.\n",
      "Setting up low-pass filter at 30 Hz\n",
      "\n",
      "FIR filter parameters\n",
      "---------------------\n",
      "Designing a one-pass, zero-phase, non-causal lowpass filter:\n",
      "- Windowed time-domain design (firwin) method\n",
      "- Hamming window with 0.0194 passband ripple and 53 dB stopband attenuation\n",
      "- Upper passband edge: 30.00 Hz\n",
      "- Upper transition bandwidth: 7.50 Hz (-6 dB cutoff frequency: 33.75 Hz)\n",
      "- Filter length: 89 samples (0.445 sec)\n",
      "\n"
     ]
    },
    {
     "name": "stderr",
     "output_type": "stream",
     "text": [
      "[Parallel(n_jobs=1)]: Done 768 out of 768 | elapsed:    0.2s finished\n",
      "[Parallel(n_jobs=1)]: Using backend SequentialBackend with 1 concurrent workers.\n",
      "[Parallel(n_jobs=1)]: Done   1 out of   1 | elapsed:    0.0s remaining:    0.0s\n",
      "[Parallel(n_jobs=1)]: Done   2 out of   2 | elapsed:    0.0s remaining:    0.0s\n",
      "[Parallel(n_jobs=1)]: Done   3 out of   3 | elapsed:    0.0s remaining:    0.0s\n",
      "[Parallel(n_jobs=1)]: Done   4 out of   4 | elapsed:    0.0s remaining:    0.0s\n"
     ]
    },
    {
     "name": "stdout",
     "output_type": "stream",
     "text": [
      "Overwriting existing file.\n",
      "Reading F:\\Documents\\Science\\MirRevAdaptEEG\\data\\eeg\\p012\\lrp\\mra_p012_run0-epo.fif ...\n",
      "    Found the data of interest:\n",
      "        t =   -2000.00 ...    1995.00 ms\n",
      "        0 CTF compensation matrices available\n",
      "Not setting metadata\n",
      "412 matching events found\n"
     ]
    },
    {
     "name": "stderr",
     "output_type": "stream",
     "text": [
      "[Parallel(n_jobs=1)]: Done 768 out of 768 | elapsed:    0.2s finished\n"
     ]
    },
    {
     "name": "stdout",
     "output_type": "stream",
     "text": [
      "No baseline correction applied\n",
      "0 projection items activated\n",
      "Applying baseline correction (mode: mean)\n",
      "Overwriting existing file.\n",
      "Setting up low-pass filter at 30 Hz\n",
      "\n",
      "FIR filter parameters\n",
      "---------------------\n",
      "Designing a one-pass, zero-phase, non-causal lowpass filter:\n",
      "- Windowed time-domain design (firwin) method\n",
      "- Hamming window with 0.0194 passband ripple and 53 dB stopband attenuation\n",
      "- Upper passband edge: 30.00 Hz\n",
      "- Upper transition bandwidth: 7.50 Hz (-6 dB cutoff frequency: 33.75 Hz)\n",
      "- Filter length: 89 samples (0.445 sec)\n",
      "\n"
     ]
    },
    {
     "name": "stderr",
     "output_type": "stream",
     "text": [
      "[Parallel(n_jobs=1)]: Using backend SequentialBackend with 1 concurrent workers.\n",
      "[Parallel(n_jobs=1)]: Done   1 out of   1 | elapsed:    0.0s remaining:    0.0s\n",
      "[Parallel(n_jobs=1)]: Done   2 out of   2 | elapsed:    0.0s remaining:    0.0s\n",
      "[Parallel(n_jobs=1)]: Done   3 out of   3 | elapsed:    0.0s remaining:    0.0s\n",
      "[Parallel(n_jobs=1)]: Done   4 out of   4 | elapsed:    0.0s remaining:    0.0s\n"
     ]
    },
    {
     "name": "stdout",
     "output_type": "stream",
     "text": [
      "Overwriting existing file.\n",
      "Overwriting existing file.\n",
      "Setting up low-pass filter at 30 Hz\n",
      "\n",
      "FIR filter parameters\n",
      "---------------------\n",
      "Designing a one-pass, zero-phase, non-causal lowpass filter:\n",
      "- Windowed time-domain design (firwin) method\n",
      "- Hamming window with 0.0194 passband ripple and 53 dB stopband attenuation\n",
      "- Upper passband edge: 30.00 Hz\n",
      "- Upper transition bandwidth: 7.50 Hz (-6 dB cutoff frequency: 33.75 Hz)\n",
      "- Filter length: 89 samples (0.445 sec)\n",
      "\n"
     ]
    },
    {
     "name": "stderr",
     "output_type": "stream",
     "text": [
      "[Parallel(n_jobs=1)]: Done 768 out of 768 | elapsed:    0.2s finished\n",
      "[Parallel(n_jobs=1)]: Using backend SequentialBackend with 1 concurrent workers.\n",
      "[Parallel(n_jobs=1)]: Done   1 out of   1 | elapsed:    0.0s remaining:    0.0s\n",
      "[Parallel(n_jobs=1)]: Done   2 out of   2 | elapsed:    0.0s remaining:    0.0s\n",
      "[Parallel(n_jobs=1)]: Done   3 out of   3 | elapsed:    0.0s remaining:    0.0s\n",
      "[Parallel(n_jobs=1)]: Done   4 out of   4 | elapsed:    0.0s remaining:    0.0s\n"
     ]
    },
    {
     "name": "stdout",
     "output_type": "stream",
     "text": [
      "Overwriting existing file.\n",
      "Reading F:\\Documents\\Science\\MirRevAdaptEEG\\data\\eeg\\p013\\lrp\\mra_p013_run0-epo.fif ...\n",
      "    Found the data of interest:\n",
      "        t =   -2000.00 ...    1995.00 ms\n",
      "        0 CTF compensation matrices available\n",
      "Not setting metadata\n"
     ]
    },
    {
     "name": "stderr",
     "output_type": "stream",
     "text": [
      "[Parallel(n_jobs=1)]: Done 768 out of 768 | elapsed:    0.2s finished\n"
     ]
    },
    {
     "name": "stdout",
     "output_type": "stream",
     "text": [
      "416 matching events found\n",
      "No baseline correction applied\n",
      "0 projection items activated\n",
      "Applying baseline correction (mode: mean)\n",
      "Overwriting existing file.\n",
      "Setting up low-pass filter at 30 Hz\n",
      "\n",
      "FIR filter parameters\n",
      "---------------------\n",
      "Designing a one-pass, zero-phase, non-causal lowpass filter:\n",
      "- Windowed time-domain design (firwin) method\n",
      "- Hamming window with 0.0194 passband ripple and 53 dB stopband attenuation\n",
      "- Upper passband edge: 30.00 Hz\n",
      "- Upper transition bandwidth: 7.50 Hz (-6 dB cutoff frequency: 33.75 Hz)\n",
      "- Filter length: 89 samples (0.445 sec)\n",
      "\n"
     ]
    },
    {
     "name": "stderr",
     "output_type": "stream",
     "text": [
      "[Parallel(n_jobs=1)]: Using backend SequentialBackend with 1 concurrent workers.\n",
      "[Parallel(n_jobs=1)]: Done   1 out of   1 | elapsed:    0.0s remaining:    0.0s\n",
      "[Parallel(n_jobs=1)]: Done   2 out of   2 | elapsed:    0.0s remaining:    0.0s\n",
      "[Parallel(n_jobs=1)]: Done   3 out of   3 | elapsed:    0.0s remaining:    0.0s\n",
      "[Parallel(n_jobs=1)]: Done   4 out of   4 | elapsed:    0.0s remaining:    0.0s\n"
     ]
    },
    {
     "name": "stdout",
     "output_type": "stream",
     "text": [
      "Overwriting existing file.\n",
      "Overwriting existing file.\n",
      "Setting up low-pass filter at 30 Hz\n",
      "\n",
      "FIR filter parameters\n",
      "---------------------\n",
      "Designing a one-pass, zero-phase, non-causal lowpass filter:\n",
      "- Windowed time-domain design (firwin) method\n",
      "- Hamming window with 0.0194 passband ripple and 53 dB stopband attenuation\n",
      "- Upper passband edge: 30.00 Hz\n",
      "- Upper transition bandwidth: 7.50 Hz (-6 dB cutoff frequency: 33.75 Hz)\n",
      "- Filter length: 89 samples (0.445 sec)\n",
      "\n"
     ]
    },
    {
     "name": "stderr",
     "output_type": "stream",
     "text": [
      "[Parallel(n_jobs=1)]: Done 768 out of 768 | elapsed:    0.2s finished\n",
      "[Parallel(n_jobs=1)]: Using backend SequentialBackend with 1 concurrent workers.\n",
      "[Parallel(n_jobs=1)]: Done   1 out of   1 | elapsed:    0.0s remaining:    0.0s\n",
      "[Parallel(n_jobs=1)]: Done   2 out of   2 | elapsed:    0.0s remaining:    0.0s\n",
      "[Parallel(n_jobs=1)]: Done   3 out of   3 | elapsed:    0.0s remaining:    0.0s\n",
      "[Parallel(n_jobs=1)]: Done   4 out of   4 | elapsed:    0.0s remaining:    0.0s\n"
     ]
    },
    {
     "name": "stdout",
     "output_type": "stream",
     "text": [
      "Overwriting existing file.\n",
      "Reading F:\\Documents\\Science\\MirRevAdaptEEG\\data\\eeg\\p014\\lrp\\mra_p014_run0-epo.fif ...\n",
      "    Found the data of interest:\n",
      "        t =   -2000.00 ...    1995.00 ms\n",
      "        0 CTF compensation matrices available\n",
      "Not setting metadata\n"
     ]
    },
    {
     "name": "stderr",
     "output_type": "stream",
     "text": [
      "[Parallel(n_jobs=1)]: Done 768 out of 768 | elapsed:    0.2s finished\n"
     ]
    },
    {
     "name": "stdout",
     "output_type": "stream",
     "text": [
      "420 matching events found\n",
      "No baseline correction applied\n",
      "0 projection items activated\n",
      "Applying baseline correction (mode: mean)\n",
      "Overwriting existing file.\n",
      "Setting up low-pass filter at 30 Hz\n",
      "\n",
      "FIR filter parameters\n",
      "---------------------\n",
      "Designing a one-pass, zero-phase, non-causal lowpass filter:\n",
      "- Windowed time-domain design (firwin) method\n",
      "- Hamming window with 0.0194 passband ripple and 53 dB stopband attenuation\n",
      "- Upper passband edge: 30.00 Hz\n",
      "- Upper transition bandwidth: 7.50 Hz (-6 dB cutoff frequency: 33.75 Hz)\n",
      "- Filter length: 89 samples (0.445 sec)\n",
      "\n"
     ]
    },
    {
     "name": "stderr",
     "output_type": "stream",
     "text": [
      "[Parallel(n_jobs=1)]: Using backend SequentialBackend with 1 concurrent workers.\n",
      "[Parallel(n_jobs=1)]: Done   1 out of   1 | elapsed:    0.0s remaining:    0.0s\n",
      "[Parallel(n_jobs=1)]: Done   2 out of   2 | elapsed:    0.0s remaining:    0.0s\n",
      "[Parallel(n_jobs=1)]: Done   3 out of   3 | elapsed:    0.0s remaining:    0.0s\n",
      "[Parallel(n_jobs=1)]: Done   4 out of   4 | elapsed:    0.0s remaining:    0.0s\n"
     ]
    },
    {
     "name": "stdout",
     "output_type": "stream",
     "text": [
      "Overwriting existing file.\n",
      "Overwriting existing file.\n",
      "Setting up low-pass filter at 30 Hz\n",
      "\n",
      "FIR filter parameters\n",
      "---------------------\n",
      "Designing a one-pass, zero-phase, non-causal lowpass filter:\n",
      "- Windowed time-domain design (firwin) method\n",
      "- Hamming window with 0.0194 passband ripple and 53 dB stopband attenuation\n",
      "- Upper passband edge: 30.00 Hz\n",
      "- Upper transition bandwidth: 7.50 Hz (-6 dB cutoff frequency: 33.75 Hz)\n",
      "- Filter length: 89 samples (0.445 sec)\n",
      "\n"
     ]
    },
    {
     "name": "stderr",
     "output_type": "stream",
     "text": [
      "[Parallel(n_jobs=1)]: Done 768 out of 768 | elapsed:    0.2s finished\n",
      "[Parallel(n_jobs=1)]: Using backend SequentialBackend with 1 concurrent workers.\n",
      "[Parallel(n_jobs=1)]: Done   1 out of   1 | elapsed:    0.0s remaining:    0.0s\n",
      "[Parallel(n_jobs=1)]: Done   2 out of   2 | elapsed:    0.0s remaining:    0.0s\n",
      "[Parallel(n_jobs=1)]: Done   3 out of   3 | elapsed:    0.0s remaining:    0.0s\n",
      "[Parallel(n_jobs=1)]: Done   4 out of   4 | elapsed:    0.0s remaining:    0.0s\n"
     ]
    },
    {
     "name": "stdout",
     "output_type": "stream",
     "text": [
      "Overwriting existing file.\n",
      "Reading F:\\Documents\\Science\\MirRevAdaptEEG\\data\\eeg\\p015\\lrp\\mra_p015_run0-epo.fif ...\n",
      "    Found the data of interest:\n",
      "        t =   -2000.00 ...    1995.00 ms\n",
      "        0 CTF compensation matrices available\n",
      "Not setting metadata\n"
     ]
    },
    {
     "name": "stderr",
     "output_type": "stream",
     "text": [
      "[Parallel(n_jobs=1)]: Done 768 out of 768 | elapsed:    0.2s finished\n"
     ]
    },
    {
     "name": "stdout",
     "output_type": "stream",
     "text": [
      "420 matching events found\n",
      "No baseline correction applied\n",
      "0 projection items activated\n",
      "Applying baseline correction (mode: mean)\n",
      "Overwriting existing file.\n",
      "Setting up low-pass filter at 30 Hz\n",
      "\n",
      "FIR filter parameters\n",
      "---------------------\n",
      "Designing a one-pass, zero-phase, non-causal lowpass filter:\n",
      "- Windowed time-domain design (firwin) method\n",
      "- Hamming window with 0.0194 passband ripple and 53 dB stopband attenuation\n",
      "- Upper passband edge: 30.00 Hz\n",
      "- Upper transition bandwidth: 7.50 Hz (-6 dB cutoff frequency: 33.75 Hz)\n",
      "- Filter length: 89 samples (0.445 sec)\n",
      "\n"
     ]
    },
    {
     "name": "stderr",
     "output_type": "stream",
     "text": [
      "[Parallel(n_jobs=1)]: Using backend SequentialBackend with 1 concurrent workers.\n",
      "[Parallel(n_jobs=1)]: Done   1 out of   1 | elapsed:    0.0s remaining:    0.0s\n",
      "[Parallel(n_jobs=1)]: Done   2 out of   2 | elapsed:    0.0s remaining:    0.0s\n",
      "[Parallel(n_jobs=1)]: Done   3 out of   3 | elapsed:    0.0s remaining:    0.0s\n",
      "[Parallel(n_jobs=1)]: Done   4 out of   4 | elapsed:    0.0s remaining:    0.0s\n"
     ]
    },
    {
     "name": "stdout",
     "output_type": "stream",
     "text": [
      "Overwriting existing file.\n",
      "Overwriting existing file.\n",
      "Setting up low-pass filter at 30 Hz\n",
      "\n",
      "FIR filter parameters\n",
      "---------------------\n",
      "Designing a one-pass, zero-phase, non-causal lowpass filter:\n",
      "- Windowed time-domain design (firwin) method\n",
      "- Hamming window with 0.0194 passband ripple and 53 dB stopband attenuation\n",
      "- Upper passband edge: 30.00 Hz\n",
      "- Upper transition bandwidth: 7.50 Hz (-6 dB cutoff frequency: 33.75 Hz)\n",
      "- Filter length: 89 samples (0.445 sec)\n",
      "\n"
     ]
    },
    {
     "name": "stderr",
     "output_type": "stream",
     "text": [
      "[Parallel(n_jobs=1)]: Done 768 out of 768 | elapsed:    0.2s finished\n",
      "[Parallel(n_jobs=1)]: Using backend SequentialBackend with 1 concurrent workers.\n",
      "[Parallel(n_jobs=1)]: Done   1 out of   1 | elapsed:    0.0s remaining:    0.0s\n",
      "[Parallel(n_jobs=1)]: Done   2 out of   2 | elapsed:    0.0s remaining:    0.0s\n",
      "[Parallel(n_jobs=1)]: Done   3 out of   3 | elapsed:    0.0s remaining:    0.0s\n",
      "[Parallel(n_jobs=1)]: Done   4 out of   4 | elapsed:    0.0s remaining:    0.0s\n"
     ]
    },
    {
     "name": "stdout",
     "output_type": "stream",
     "text": [
      "Overwriting existing file.\n",
      "Reading F:\\Documents\\Science\\MirRevAdaptEEG\\data\\eeg\\p020\\lrp\\mra_p020_run0-epo.fif ...\n",
      "    Found the data of interest:\n",
      "        t =   -2000.00 ...    1995.00 ms\n",
      "        0 CTF compensation matrices available\n",
      "Not setting metadata\n"
     ]
    },
    {
     "name": "stderr",
     "output_type": "stream",
     "text": [
      "[Parallel(n_jobs=1)]: Done 768 out of 768 | elapsed:    0.2s finished\n"
     ]
    },
    {
     "name": "stdout",
     "output_type": "stream",
     "text": [
      "420 matching events found\n",
      "No baseline correction applied\n",
      "0 projection items activated\n",
      "Applying baseline correction (mode: mean)\n",
      "Overwriting existing file.\n",
      "Setting up low-pass filter at 30 Hz\n",
      "\n",
      "FIR filter parameters\n",
      "---------------------\n",
      "Designing a one-pass, zero-phase, non-causal lowpass filter:\n",
      "- Windowed time-domain design (firwin) method\n",
      "- Hamming window with 0.0194 passband ripple and 53 dB stopband attenuation\n",
      "- Upper passband edge: 30.00 Hz\n",
      "- Upper transition bandwidth: 7.50 Hz (-6 dB cutoff frequency: 33.75 Hz)\n",
      "- Filter length: 89 samples (0.445 sec)\n",
      "\n"
     ]
    },
    {
     "name": "stderr",
     "output_type": "stream",
     "text": [
      "[Parallel(n_jobs=1)]: Using backend SequentialBackend with 1 concurrent workers.\n",
      "[Parallel(n_jobs=1)]: Done   1 out of   1 | elapsed:    0.0s remaining:    0.0s\n",
      "[Parallel(n_jobs=1)]: Done   2 out of   2 | elapsed:    0.0s remaining:    0.0s\n",
      "[Parallel(n_jobs=1)]: Done   3 out of   3 | elapsed:    0.0s remaining:    0.0s\n",
      "[Parallel(n_jobs=1)]: Done   4 out of   4 | elapsed:    0.0s remaining:    0.0s\n"
     ]
    },
    {
     "name": "stdout",
     "output_type": "stream",
     "text": [
      "Overwriting existing file.\n",
      "Overwriting existing file.\n",
      "Setting up low-pass filter at 30 Hz\n",
      "\n",
      "FIR filter parameters\n",
      "---------------------\n",
      "Designing a one-pass, zero-phase, non-causal lowpass filter:\n",
      "- Windowed time-domain design (firwin) method\n",
      "- Hamming window with 0.0194 passband ripple and 53 dB stopband attenuation\n",
      "- Upper passband edge: 30.00 Hz\n",
      "- Upper transition bandwidth: 7.50 Hz (-6 dB cutoff frequency: 33.75 Hz)\n",
      "- Filter length: 89 samples (0.445 sec)\n",
      "\n"
     ]
    },
    {
     "name": "stderr",
     "output_type": "stream",
     "text": [
      "[Parallel(n_jobs=1)]: Done 768 out of 768 | elapsed:    0.2s finished\n",
      "[Parallel(n_jobs=1)]: Using backend SequentialBackend with 1 concurrent workers.\n",
      "[Parallel(n_jobs=1)]: Done   1 out of   1 | elapsed:    0.0s remaining:    0.0s\n",
      "[Parallel(n_jobs=1)]: Done   2 out of   2 | elapsed:    0.0s remaining:    0.0s\n",
      "[Parallel(n_jobs=1)]: Done   3 out of   3 | elapsed:    0.0s remaining:    0.0s\n",
      "[Parallel(n_jobs=1)]: Done   4 out of   4 | elapsed:    0.0s remaining:    0.0s\n"
     ]
    },
    {
     "name": "stdout",
     "output_type": "stream",
     "text": [
      "Overwriting existing file.\n",
      "Reading F:\\Documents\\Science\\MirRevAdaptEEG\\data\\eeg\\p021\\lrp\\mra_p021_run0-epo.fif ...\n",
      "    Found the data of interest:\n",
      "        t =   -2000.00 ...    1995.00 ms\n",
      "        0 CTF compensation matrices available\n",
      "Not setting metadata\n"
     ]
    },
    {
     "name": "stderr",
     "output_type": "stream",
     "text": [
      "[Parallel(n_jobs=1)]: Done 768 out of 768 | elapsed:    0.2s finished\n"
     ]
    },
    {
     "name": "stdout",
     "output_type": "stream",
     "text": [
      "419 matching events found\n",
      "No baseline correction applied\n",
      "0 projection items activated\n",
      "Applying baseline correction (mode: mean)\n",
      "Overwriting existing file.\n",
      "Setting up low-pass filter at 30 Hz\n",
      "\n",
      "FIR filter parameters\n",
      "---------------------\n",
      "Designing a one-pass, zero-phase, non-causal lowpass filter:\n",
      "- Windowed time-domain design (firwin) method\n",
      "- Hamming window with 0.0194 passband ripple and 53 dB stopband attenuation\n",
      "- Upper passband edge: 30.00 Hz\n",
      "- Upper transition bandwidth: 7.50 Hz (-6 dB cutoff frequency: 33.75 Hz)\n",
      "- Filter length: 89 samples (0.445 sec)\n",
      "\n"
     ]
    },
    {
     "name": "stderr",
     "output_type": "stream",
     "text": [
      "[Parallel(n_jobs=1)]: Using backend SequentialBackend with 1 concurrent workers.\n",
      "[Parallel(n_jobs=1)]: Done   1 out of   1 | elapsed:    0.0s remaining:    0.0s\n",
      "[Parallel(n_jobs=1)]: Done   2 out of   2 | elapsed:    0.0s remaining:    0.0s\n",
      "[Parallel(n_jobs=1)]: Done   3 out of   3 | elapsed:    0.0s remaining:    0.0s\n",
      "[Parallel(n_jobs=1)]: Done   4 out of   4 | elapsed:    0.0s remaining:    0.0s\n"
     ]
    },
    {
     "name": "stdout",
     "output_type": "stream",
     "text": [
      "Overwriting existing file.\n",
      "Overwriting existing file.\n",
      "Setting up low-pass filter at 30 Hz\n",
      "\n",
      "FIR filter parameters\n",
      "---------------------\n",
      "Designing a one-pass, zero-phase, non-causal lowpass filter:\n",
      "- Windowed time-domain design (firwin) method\n",
      "- Hamming window with 0.0194 passband ripple and 53 dB stopband attenuation\n",
      "- Upper passband edge: 30.00 Hz\n",
      "- Upper transition bandwidth: 7.50 Hz (-6 dB cutoff frequency: 33.75 Hz)\n",
      "- Filter length: 89 samples (0.445 sec)\n",
      "\n"
     ]
    },
    {
     "name": "stderr",
     "output_type": "stream",
     "text": [
      "[Parallel(n_jobs=1)]: Done 768 out of 768 | elapsed:    0.2s finished\n",
      "[Parallel(n_jobs=1)]: Using backend SequentialBackend with 1 concurrent workers.\n",
      "[Parallel(n_jobs=1)]: Done   1 out of   1 | elapsed:    0.0s remaining:    0.0s\n",
      "[Parallel(n_jobs=1)]: Done   2 out of   2 | elapsed:    0.0s remaining:    0.0s\n",
      "[Parallel(n_jobs=1)]: Done   3 out of   3 | elapsed:    0.0s remaining:    0.0s\n",
      "[Parallel(n_jobs=1)]: Done   4 out of   4 | elapsed:    0.0s remaining:    0.0s\n"
     ]
    },
    {
     "name": "stdout",
     "output_type": "stream",
     "text": [
      "Overwriting existing file.\n",
      "Reading F:\\Documents\\Science\\MirRevAdaptEEG\\data\\eeg\\p022\\lrp\\mra_p022_run0-epo.fif ...\n",
      "    Found the data of interest:\n",
      "        t =   -2000.00 ...    1995.00 ms\n",
      "        0 CTF compensation matrices available\n"
     ]
    },
    {
     "name": "stderr",
     "output_type": "stream",
     "text": [
      "[Parallel(n_jobs=1)]: Done 768 out of 768 | elapsed:    0.2s finished\n"
     ]
    },
    {
     "name": "stdout",
     "output_type": "stream",
     "text": [
      "Not setting metadata\n",
      "420 matching events found\n",
      "No baseline correction applied\n",
      "0 projection items activated\n",
      "Applying baseline correction (mode: mean)\n",
      "Overwriting existing file.\n",
      "Setting up low-pass filter at 30 Hz\n",
      "\n",
      "FIR filter parameters\n",
      "---------------------\n",
      "Designing a one-pass, zero-phase, non-causal lowpass filter:\n",
      "- Windowed time-domain design (firwin) method\n",
      "- Hamming window with 0.0194 passband ripple and 53 dB stopband attenuation\n",
      "- Upper passband edge: 30.00 Hz\n",
      "- Upper transition bandwidth: 7.50 Hz (-6 dB cutoff frequency: 33.75 Hz)\n",
      "- Filter length: 89 samples (0.445 sec)\n",
      "\n"
     ]
    },
    {
     "name": "stderr",
     "output_type": "stream",
     "text": [
      "[Parallel(n_jobs=1)]: Using backend SequentialBackend with 1 concurrent workers.\n",
      "[Parallel(n_jobs=1)]: Done   1 out of   1 | elapsed:    0.0s remaining:    0.0s\n",
      "[Parallel(n_jobs=1)]: Done   2 out of   2 | elapsed:    0.0s remaining:    0.0s\n",
      "[Parallel(n_jobs=1)]: Done   3 out of   3 | elapsed:    0.0s remaining:    0.0s\n",
      "[Parallel(n_jobs=1)]: Done   4 out of   4 | elapsed:    0.0s remaining:    0.0s\n"
     ]
    },
    {
     "name": "stdout",
     "output_type": "stream",
     "text": [
      "Overwriting existing file.\n",
      "Overwriting existing file.\n",
      "Setting up low-pass filter at 30 Hz\n",
      "\n",
      "FIR filter parameters\n",
      "---------------------\n",
      "Designing a one-pass, zero-phase, non-causal lowpass filter:\n",
      "- Windowed time-domain design (firwin) method\n",
      "- Hamming window with 0.0194 passband ripple and 53 dB stopband attenuation\n",
      "- Upper passband edge: 30.00 Hz\n",
      "- Upper transition bandwidth: 7.50 Hz (-6 dB cutoff frequency: 33.75 Hz)\n",
      "- Filter length: 89 samples (0.445 sec)\n",
      "\n"
     ]
    },
    {
     "name": "stderr",
     "output_type": "stream",
     "text": [
      "[Parallel(n_jobs=1)]: Done 768 out of 768 | elapsed:    0.2s finished\n",
      "[Parallel(n_jobs=1)]: Using backend SequentialBackend with 1 concurrent workers.\n",
      "[Parallel(n_jobs=1)]: Done   1 out of   1 | elapsed:    0.0s remaining:    0.0s\n",
      "[Parallel(n_jobs=1)]: Done   2 out of   2 | elapsed:    0.0s remaining:    0.0s\n",
      "[Parallel(n_jobs=1)]: Done   3 out of   3 | elapsed:    0.0s remaining:    0.0s\n",
      "[Parallel(n_jobs=1)]: Done   4 out of   4 | elapsed:    0.0s remaining:    0.0s\n"
     ]
    },
    {
     "name": "stdout",
     "output_type": "stream",
     "text": [
      "Overwriting existing file.\n",
      "Reading F:\\Documents\\Science\\MirRevAdaptEEG\\data\\eeg\\p023\\lrp\\mra_p023_run0-epo.fif ...\n",
      "    Found the data of interest:\n",
      "        t =   -2000.00 ...    1995.00 ms\n",
      "        0 CTF compensation matrices available\n",
      "Not setting metadata\n"
     ]
    },
    {
     "name": "stderr",
     "output_type": "stream",
     "text": [
      "[Parallel(n_jobs=1)]: Done 768 out of 768 | elapsed:    0.2s finished\n"
     ]
    },
    {
     "name": "stdout",
     "output_type": "stream",
     "text": [
      "420 matching events found\n",
      "No baseline correction applied\n",
      "0 projection items activated\n",
      "Applying baseline correction (mode: mean)\n",
      "Overwriting existing file.\n",
      "Setting up low-pass filter at 30 Hz\n",
      "\n",
      "FIR filter parameters\n",
      "---------------------\n",
      "Designing a one-pass, zero-phase, non-causal lowpass filter:\n",
      "- Windowed time-domain design (firwin) method\n",
      "- Hamming window with 0.0194 passband ripple and 53 dB stopband attenuation\n",
      "- Upper passband edge: 30.00 Hz\n",
      "- Upper transition bandwidth: 7.50 Hz (-6 dB cutoff frequency: 33.75 Hz)\n",
      "- Filter length: 89 samples (0.445 sec)\n",
      "\n"
     ]
    },
    {
     "name": "stderr",
     "output_type": "stream",
     "text": [
      "[Parallel(n_jobs=1)]: Using backend SequentialBackend with 1 concurrent workers.\n",
      "[Parallel(n_jobs=1)]: Done   1 out of   1 | elapsed:    0.0s remaining:    0.0s\n",
      "[Parallel(n_jobs=1)]: Done   2 out of   2 | elapsed:    0.0s remaining:    0.0s\n",
      "[Parallel(n_jobs=1)]: Done   3 out of   3 | elapsed:    0.0s remaining:    0.0s\n",
      "[Parallel(n_jobs=1)]: Done   4 out of   4 | elapsed:    0.0s remaining:    0.0s\n"
     ]
    },
    {
     "name": "stdout",
     "output_type": "stream",
     "text": [
      "Overwriting existing file.\n",
      "Overwriting existing file.\n",
      "Setting up low-pass filter at 30 Hz\n",
      "\n",
      "FIR filter parameters\n",
      "---------------------\n",
      "Designing a one-pass, zero-phase, non-causal lowpass filter:\n",
      "- Windowed time-domain design (firwin) method\n",
      "- Hamming window with 0.0194 passband ripple and 53 dB stopband attenuation\n",
      "- Upper passband edge: 30.00 Hz\n",
      "- Upper transition bandwidth: 7.50 Hz (-6 dB cutoff frequency: 33.75 Hz)\n",
      "- Filter length: 89 samples (0.445 sec)\n",
      "\n"
     ]
    },
    {
     "name": "stderr",
     "output_type": "stream",
     "text": [
      "[Parallel(n_jobs=1)]: Done 768 out of 768 | elapsed:    0.2s finished\n",
      "[Parallel(n_jobs=1)]: Using backend SequentialBackend with 1 concurrent workers.\n",
      "[Parallel(n_jobs=1)]: Done   1 out of   1 | elapsed:    0.0s remaining:    0.0s\n",
      "[Parallel(n_jobs=1)]: Done   2 out of   2 | elapsed:    0.0s remaining:    0.0s\n",
      "[Parallel(n_jobs=1)]: Done   3 out of   3 | elapsed:    0.0s remaining:    0.0s\n",
      "[Parallel(n_jobs=1)]: Done   4 out of   4 | elapsed:    0.0s remaining:    0.0s\n"
     ]
    },
    {
     "name": "stdout",
     "output_type": "stream",
     "text": [
      "Overwriting existing file.\n",
      "Reading F:\\Documents\\Science\\MirRevAdaptEEG\\data\\eeg\\p028\\lrp\\mra_p028_run0-epo.fif ...\n",
      "    Found the data of interest:\n",
      "        t =   -2000.00 ...    1995.00 ms\n",
      "        0 CTF compensation matrices available\n",
      "Not setting metadata\n"
     ]
    },
    {
     "name": "stderr",
     "output_type": "stream",
     "text": [
      "[Parallel(n_jobs=1)]: Done 768 out of 768 | elapsed:    0.2s finished\n"
     ]
    },
    {
     "name": "stdout",
     "output_type": "stream",
     "text": [
      "420 matching events found\n",
      "No baseline correction applied\n",
      "0 projection items activated\n",
      "Applying baseline correction (mode: mean)\n",
      "Overwriting existing file.\n",
      "Setting up low-pass filter at 30 Hz\n",
      "\n",
      "FIR filter parameters\n",
      "---------------------\n",
      "Designing a one-pass, zero-phase, non-causal lowpass filter:\n",
      "- Windowed time-domain design (firwin) method\n",
      "- Hamming window with 0.0194 passband ripple and 53 dB stopband attenuation\n",
      "- Upper passband edge: 30.00 Hz\n",
      "- Upper transition bandwidth: 7.50 Hz (-6 dB cutoff frequency: 33.75 Hz)\n",
      "- Filter length: 89 samples (0.445 sec)\n",
      "\n"
     ]
    },
    {
     "name": "stderr",
     "output_type": "stream",
     "text": [
      "[Parallel(n_jobs=1)]: Using backend SequentialBackend with 1 concurrent workers.\n",
      "[Parallel(n_jobs=1)]: Done   1 out of   1 | elapsed:    0.0s remaining:    0.0s\n",
      "[Parallel(n_jobs=1)]: Done   2 out of   2 | elapsed:    0.0s remaining:    0.0s\n",
      "[Parallel(n_jobs=1)]: Done   3 out of   3 | elapsed:    0.0s remaining:    0.0s\n",
      "[Parallel(n_jobs=1)]: Done   4 out of   4 | elapsed:    0.0s remaining:    0.0s\n"
     ]
    },
    {
     "name": "stdout",
     "output_type": "stream",
     "text": [
      "Overwriting existing file.\n",
      "Overwriting existing file.\n",
      "Setting up low-pass filter at 30 Hz\n",
      "\n",
      "FIR filter parameters\n",
      "---------------------\n",
      "Designing a one-pass, zero-phase, non-causal lowpass filter:\n",
      "- Windowed time-domain design (firwin) method\n",
      "- Hamming window with 0.0194 passband ripple and 53 dB stopband attenuation\n",
      "- Upper passband edge: 30.00 Hz\n",
      "- Upper transition bandwidth: 7.50 Hz (-6 dB cutoff frequency: 33.75 Hz)\n",
      "- Filter length: 89 samples (0.445 sec)\n",
      "\n"
     ]
    },
    {
     "name": "stderr",
     "output_type": "stream",
     "text": [
      "[Parallel(n_jobs=1)]: Done 768 out of 768 | elapsed:    0.2s finished\n",
      "[Parallel(n_jobs=1)]: Using backend SequentialBackend with 1 concurrent workers.\n",
      "[Parallel(n_jobs=1)]: Done   1 out of   1 | elapsed:    0.0s remaining:    0.0s\n",
      "[Parallel(n_jobs=1)]: Done   2 out of   2 | elapsed:    0.0s remaining:    0.0s\n",
      "[Parallel(n_jobs=1)]: Done   3 out of   3 | elapsed:    0.0s remaining:    0.0s\n",
      "[Parallel(n_jobs=1)]: Done   4 out of   4 | elapsed:    0.0s remaining:    0.0s\n"
     ]
    },
    {
     "name": "stdout",
     "output_type": "stream",
     "text": [
      "Overwriting existing file.\n",
      "Reading F:\\Documents\\Science\\MirRevAdaptEEG\\data\\eeg\\p029\\lrp\\mra_p029_run0-epo.fif ...\n",
      "    Found the data of interest:\n",
      "        t =   -2000.00 ...    1995.00 ms\n",
      "        0 CTF compensation matrices available\n"
     ]
    },
    {
     "name": "stderr",
     "output_type": "stream",
     "text": [
      "[Parallel(n_jobs=1)]: Done 768 out of 768 | elapsed:    0.2s finished\n"
     ]
    },
    {
     "name": "stdout",
     "output_type": "stream",
     "text": [
      "Not setting metadata\n",
      "420 matching events found\n",
      "No baseline correction applied\n",
      "0 projection items activated\n",
      "Applying baseline correction (mode: mean)\n",
      "Overwriting existing file.\n",
      "Setting up low-pass filter at 30 Hz\n",
      "\n",
      "FIR filter parameters\n",
      "---------------------\n",
      "Designing a one-pass, zero-phase, non-causal lowpass filter:\n",
      "- Windowed time-domain design (firwin) method\n",
      "- Hamming window with 0.0194 passband ripple and 53 dB stopband attenuation\n",
      "- Upper passband edge: 30.00 Hz\n",
      "- Upper transition bandwidth: 7.50 Hz (-6 dB cutoff frequency: 33.75 Hz)\n",
      "- Filter length: 89 samples (0.445 sec)\n",
      "\n"
     ]
    },
    {
     "name": "stderr",
     "output_type": "stream",
     "text": [
      "[Parallel(n_jobs=1)]: Using backend SequentialBackend with 1 concurrent workers.\n",
      "[Parallel(n_jobs=1)]: Done   1 out of   1 | elapsed:    0.0s remaining:    0.0s\n",
      "[Parallel(n_jobs=1)]: Done   2 out of   2 | elapsed:    0.0s remaining:    0.0s\n",
      "[Parallel(n_jobs=1)]: Done   3 out of   3 | elapsed:    0.0s remaining:    0.0s\n",
      "[Parallel(n_jobs=1)]: Done   4 out of   4 | elapsed:    0.0s remaining:    0.0s\n"
     ]
    },
    {
     "name": "stdout",
     "output_type": "stream",
     "text": [
      "Overwriting existing file.\n",
      "Overwriting existing file.\n",
      "Setting up low-pass filter at 30 Hz\n",
      "\n",
      "FIR filter parameters\n",
      "---------------------\n",
      "Designing a one-pass, zero-phase, non-causal lowpass filter:\n",
      "- Windowed time-domain design (firwin) method\n",
      "- Hamming window with 0.0194 passband ripple and 53 dB stopband attenuation\n",
      "- Upper passband edge: 30.00 Hz\n",
      "- Upper transition bandwidth: 7.50 Hz (-6 dB cutoff frequency: 33.75 Hz)\n",
      "- Filter length: 89 samples (0.445 sec)\n",
      "\n"
     ]
    },
    {
     "name": "stderr",
     "output_type": "stream",
     "text": [
      "[Parallel(n_jobs=1)]: Done 768 out of 768 | elapsed:    0.2s finished\n",
      "[Parallel(n_jobs=1)]: Using backend SequentialBackend with 1 concurrent workers.\n",
      "[Parallel(n_jobs=1)]: Done   1 out of   1 | elapsed:    0.0s remaining:    0.0s\n",
      "[Parallel(n_jobs=1)]: Done   2 out of   2 | elapsed:    0.0s remaining:    0.0s\n",
      "[Parallel(n_jobs=1)]: Done   3 out of   3 | elapsed:    0.0s remaining:    0.0s\n",
      "[Parallel(n_jobs=1)]: Done   4 out of   4 | elapsed:    0.0s remaining:    0.0s\n"
     ]
    },
    {
     "name": "stdout",
     "output_type": "stream",
     "text": [
      "Overwriting existing file.\n",
      "Reading F:\\Documents\\Science\\MirRevAdaptEEG\\data\\eeg\\p030\\lrp\\mra_p030_run0-epo.fif ...\n",
      "    Found the data of interest:\n",
      "        t =   -2000.00 ...    1995.00 ms\n",
      "        0 CTF compensation matrices available\n"
     ]
    },
    {
     "name": "stderr",
     "output_type": "stream",
     "text": [
      "[Parallel(n_jobs=1)]: Done 768 out of 768 | elapsed:    0.2s finished\n"
     ]
    },
    {
     "name": "stdout",
     "output_type": "stream",
     "text": [
      "Not setting metadata\n",
      "420 matching events found\n",
      "No baseline correction applied\n",
      "0 projection items activated\n",
      "Applying baseline correction (mode: mean)\n",
      "Overwriting existing file.\n",
      "Setting up low-pass filter at 30 Hz\n",
      "\n",
      "FIR filter parameters\n",
      "---------------------\n",
      "Designing a one-pass, zero-phase, non-causal lowpass filter:\n",
      "- Windowed time-domain design (firwin) method\n",
      "- Hamming window with 0.0194 passband ripple and 53 dB stopband attenuation\n",
      "- Upper passband edge: 30.00 Hz\n",
      "- Upper transition bandwidth: 7.50 Hz (-6 dB cutoff frequency: 33.75 Hz)\n",
      "- Filter length: 89 samples (0.445 sec)\n",
      "\n"
     ]
    },
    {
     "name": "stderr",
     "output_type": "stream",
     "text": [
      "[Parallel(n_jobs=1)]: Using backend SequentialBackend with 1 concurrent workers.\n",
      "[Parallel(n_jobs=1)]: Done   1 out of   1 | elapsed:    0.0s remaining:    0.0s\n",
      "[Parallel(n_jobs=1)]: Done   2 out of   2 | elapsed:    0.0s remaining:    0.0s\n",
      "[Parallel(n_jobs=1)]: Done   3 out of   3 | elapsed:    0.0s remaining:    0.0s\n",
      "[Parallel(n_jobs=1)]: Done   4 out of   4 | elapsed:    0.0s remaining:    0.0s\n"
     ]
    },
    {
     "name": "stdout",
     "output_type": "stream",
     "text": [
      "Overwriting existing file.\n",
      "Overwriting existing file.\n",
      "Setting up low-pass filter at 30 Hz\n",
      "\n",
      "FIR filter parameters\n",
      "---------------------\n",
      "Designing a one-pass, zero-phase, non-causal lowpass filter:\n",
      "- Windowed time-domain design (firwin) method\n",
      "- Hamming window with 0.0194 passband ripple and 53 dB stopband attenuation\n",
      "- Upper passband edge: 30.00 Hz\n",
      "- Upper transition bandwidth: 7.50 Hz (-6 dB cutoff frequency: 33.75 Hz)\n",
      "- Filter length: 89 samples (0.445 sec)\n",
      "\n"
     ]
    },
    {
     "name": "stderr",
     "output_type": "stream",
     "text": [
      "[Parallel(n_jobs=1)]: Done 768 out of 768 | elapsed:    0.2s finished\n",
      "[Parallel(n_jobs=1)]: Using backend SequentialBackend with 1 concurrent workers.\n",
      "[Parallel(n_jobs=1)]: Done   1 out of   1 | elapsed:    0.0s remaining:    0.0s\n",
      "[Parallel(n_jobs=1)]: Done   2 out of   2 | elapsed:    0.0s remaining:    0.0s\n",
      "[Parallel(n_jobs=1)]: Done   3 out of   3 | elapsed:    0.0s remaining:    0.0s\n",
      "[Parallel(n_jobs=1)]: Done   4 out of   4 | elapsed:    0.0s remaining:    0.0s\n"
     ]
    },
    {
     "name": "stdout",
     "output_type": "stream",
     "text": [
      "Overwriting existing file.\n",
      "Reading F:\\Documents\\Science\\MirRevAdaptEEG\\data\\eeg\\p031\\lrp\\mra_p031_run0-epo.fif ...\n",
      "    Found the data of interest:\n",
      "        t =   -2000.00 ...    1995.00 ms\n",
      "        0 CTF compensation matrices available\n",
      "Not setting metadata\n"
     ]
    },
    {
     "name": "stderr",
     "output_type": "stream",
     "text": [
      "[Parallel(n_jobs=1)]: Done 768 out of 768 | elapsed:    0.2s finished\n"
     ]
    },
    {
     "name": "stdout",
     "output_type": "stream",
     "text": [
      "420 matching events found\n",
      "No baseline correction applied\n",
      "0 projection items activated\n",
      "Applying baseline correction (mode: mean)\n",
      "Overwriting existing file.\n",
      "Setting up low-pass filter at 30 Hz\n",
      "\n",
      "FIR filter parameters\n",
      "---------------------\n",
      "Designing a one-pass, zero-phase, non-causal lowpass filter:\n",
      "- Windowed time-domain design (firwin) method\n",
      "- Hamming window with 0.0194 passband ripple and 53 dB stopband attenuation\n",
      "- Upper passband edge: 30.00 Hz\n",
      "- Upper transition bandwidth: 7.50 Hz (-6 dB cutoff frequency: 33.75 Hz)\n",
      "- Filter length: 89 samples (0.445 sec)\n",
      "\n"
     ]
    },
    {
     "name": "stderr",
     "output_type": "stream",
     "text": [
      "[Parallel(n_jobs=1)]: Using backend SequentialBackend with 1 concurrent workers.\n",
      "[Parallel(n_jobs=1)]: Done   1 out of   1 | elapsed:    0.0s remaining:    0.0s\n",
      "[Parallel(n_jobs=1)]: Done   2 out of   2 | elapsed:    0.0s remaining:    0.0s\n",
      "[Parallel(n_jobs=1)]: Done   3 out of   3 | elapsed:    0.0s remaining:    0.0s\n",
      "[Parallel(n_jobs=1)]: Done   4 out of   4 | elapsed:    0.0s remaining:    0.0s\n"
     ]
    },
    {
     "name": "stdout",
     "output_type": "stream",
     "text": [
      "Overwriting existing file.\n",
      "Overwriting existing file.\n",
      "Setting up low-pass filter at 30 Hz\n",
      "\n",
      "FIR filter parameters\n",
      "---------------------\n",
      "Designing a one-pass, zero-phase, non-causal lowpass filter:\n",
      "- Windowed time-domain design (firwin) method\n",
      "- Hamming window with 0.0194 passband ripple and 53 dB stopband attenuation\n",
      "- Upper passband edge: 30.00 Hz\n",
      "- Upper transition bandwidth: 7.50 Hz (-6 dB cutoff frequency: 33.75 Hz)\n",
      "- Filter length: 89 samples (0.445 sec)\n",
      "\n"
     ]
    },
    {
     "name": "stderr",
     "output_type": "stream",
     "text": [
      "[Parallel(n_jobs=1)]: Done 768 out of 768 | elapsed:    0.2s finished\n",
      "[Parallel(n_jobs=1)]: Using backend SequentialBackend with 1 concurrent workers.\n",
      "[Parallel(n_jobs=1)]: Done   1 out of   1 | elapsed:    0.0s remaining:    0.0s\n",
      "[Parallel(n_jobs=1)]: Done   2 out of   2 | elapsed:    0.0s remaining:    0.0s\n",
      "[Parallel(n_jobs=1)]: Done   3 out of   3 | elapsed:    0.0s remaining:    0.0s\n",
      "[Parallel(n_jobs=1)]: Done   4 out of   4 | elapsed:    0.0s remaining:    0.0s\n"
     ]
    },
    {
     "name": "stdout",
     "output_type": "stream",
     "text": [
      "Overwriting existing file.\n"
     ]
    },
    {
     "name": "stderr",
     "output_type": "stream",
     "text": [
      "[Parallel(n_jobs=1)]: Done 768 out of 768 | elapsed:    0.2s finished\n"
     ]
    }
   ],
   "source": [
    "conditions = ['r', 'l']\n",
    "conditionnames = ['rightmoves', 'leftmoves']\n",
    "l_cutoff = 30\n",
    "\n",
    "#ALIGNED\n",
    "for pp in participants:\n",
    "    data, ppdir = load_epochs(pp, root_dir = root, erp_path = erps)\n",
    "    for cond in range(0, len(conditions)):\n",
    "        diridx, dirtrials = direction_index('aln', conditions[cond], pp)\n",
    "        aldata = epoch_trials('aln', pp, data, diridx)\n",
    "        output_condition_epochs(pp, aldata, ppdir, conditionnames[cond], 'aligned', 'all')\n",
    "        #filter at 30 Hz\n",
    "        aldata = aldata.filter(l_freq= None, h_freq=l_cutoff)\n",
    "        #then average across trials\n",
    "        output_condition_evoked(pp, aldata, ppdir, conditionnames[cond], 'aligned', 'all')\n",
    "        \n",
    "#ALIGNED\n",
    "#Separate according to corresponding participants for rotation and mirror (only half of N do each perturbation type)\n",
    "\n",
    "aln_rot_participants = [0,1,2,3,8,9,10,11,16,17,18,19,24,25,26,27]\n",
    "aln_mir_participants = [4,5,6,7,12,13,14,15,20,21,22,23,28,29,30,31]\n",
    "\n",
    "#aligned for rotation\n",
    "for pp in list(range(0,len(aln_rot_participants))):\n",
    "    data, ppdir = load_epochs(aln_rot_participants[pp], root_dir = root, erp_path = erps)\n",
    "    for cond in range(0, len(conditions)):\n",
    "        diridx, dirtrials = direction_index('aln', conditions[cond], aln_rot_participants[pp])\n",
    "        aldata = epoch_trials('aln', aln_rot_participants[pp], data, diridx)\n",
    "        output_condition_epochs(aln_rot_participants[pp], aldata, ppdir, conditionnames[cond], 'aln_rot', 'all')\n",
    "        #filter at 30 Hz\n",
    "        aldata = aldata.filter(l_freq= None, h_freq=l_cutoff)\n",
    "        #then average across trials\n",
    "        output_condition_evoked(aln_rot_participants[pp], aldata, ppdir, conditionnames[cond], 'aln_rot', 'all')\n",
    "        \n",
    "#aligned for mirror\n",
    "for pp in list(range(0,len(aln_mir_participants))):\n",
    "    data, ppdir = load_epochs(aln_mir_participants[pp], root_dir = root, erp_path = erps)\n",
    "    for cond in range(0, len(conditions)):\n",
    "        diridx, dirtrials = direction_index('aln', conditions[cond], aln_mir_participants[pp])\n",
    "        aldata = epoch_trials('aln', aln_mir_participants[pp], data, diridx)\n",
    "        output_condition_epochs(aln_mir_participants[pp], aldata, ppdir, conditionnames[cond], 'aln_mir', 'all')\n",
    "        #filter at 30 Hz\n",
    "        aldata = aldata.filter(l_freq= None, h_freq=l_cutoff)\n",
    "        #then average across trials\n",
    "        output_condition_evoked(aln_mir_participants[pp], aldata, ppdir, conditionnames[cond], 'aln_mir', 'all')"
   ]
  },
  {
   "cell_type": "code",
   "execution_count": 9,
   "id": "a1fb70b0",
   "metadata": {},
   "outputs": [
    {
     "name": "stdout",
     "output_type": "stream",
     "text": [
      "Reading F:\\Documents\\Science\\MirRevAdaptEEG\\data\\eeg\\p000\\lrp\\p000_EarlyLate_rightmoves_aligned_blockall-ave.fif ...\n",
      "    Found the data of interest:\n",
      "        t =   -2000.00 ...    1995.00 ms (16140)\n",
      "        0 CTF compensation matrices available\n",
      "        nave = 12 - aspect type = 100\n",
      "No projector specified for this dataset. Please consider the method self.add_proj.\n",
      "Loaded Evoked data is baseline-corrected (baseline: [-1.3, -1] sec)\n",
      "Reading F:\\Documents\\Science\\MirRevAdaptEEG\\data\\eeg\\p001\\lrp\\p001_EarlyLate_rightmoves_aligned_blockall-ave.fif ...\n",
      "    Found the data of interest:\n",
      "        t =   -2000.00 ...    1995.00 ms (16140)\n",
      "        0 CTF compensation matrices available\n",
      "        nave = 12 - aspect type = 100\n",
      "No projector specified for this dataset. Please consider the method self.add_proj.\n",
      "Loaded Evoked data is baseline-corrected (baseline: [-1.3, -1] sec)\n",
      "Reading F:\\Documents\\Science\\MirRevAdaptEEG\\data\\eeg\\p002\\lrp\\p002_EarlyLate_rightmoves_aligned_blockall-ave.fif ...\n",
      "    Found the data of interest:\n",
      "        t =   -2000.00 ...    1995.00 ms (16140)\n",
      "        0 CTF compensation matrices available\n",
      "        nave = 12 - aspect type = 100\n",
      "No projector specified for this dataset. Please consider the method self.add_proj.\n",
      "Loaded Evoked data is baseline-corrected (baseline: [-1.3, -1] sec)\n",
      "Reading F:\\Documents\\Science\\MirRevAdaptEEG\\data\\eeg\\p003\\lrp\\p003_EarlyLate_rightmoves_aligned_blockall-ave.fif ...\n",
      "    Found the data of interest:\n",
      "        t =   -2000.00 ...    1995.00 ms (16140)\n",
      "        0 CTF compensation matrices available\n",
      "        nave = 12 - aspect type = 100\n",
      "No projector specified for this dataset. Please consider the method self.add_proj.\n",
      "Loaded Evoked data is baseline-corrected (baseline: [-1.3, -1] sec)\n",
      "Reading F:\\Documents\\Science\\MirRevAdaptEEG\\data\\eeg\\p004\\lrp\\p004_EarlyLate_rightmoves_aligned_blockall-ave.fif ...\n",
      "    Found the data of interest:\n",
      "        t =   -2000.00 ...    1995.00 ms (16140)\n",
      "        0 CTF compensation matrices available\n",
      "        nave = 12 - aspect type = 100\n",
      "No projector specified for this dataset. Please consider the method self.add_proj.\n",
      "Loaded Evoked data is baseline-corrected (baseline: [-1.3, -1] sec)\n",
      "Reading F:\\Documents\\Science\\MirRevAdaptEEG\\data\\eeg\\p005\\lrp\\p005_EarlyLate_rightmoves_aligned_blockall-ave.fif ...\n",
      "    Found the data of interest:\n",
      "        t =   -2000.00 ...    1995.00 ms (16140)\n",
      "        0 CTF compensation matrices available\n",
      "        nave = 12 - aspect type = 100\n",
      "No projector specified for this dataset. Please consider the method self.add_proj.\n",
      "Loaded Evoked data is baseline-corrected (baseline: [-1.3, -1] sec)\n",
      "Reading F:\\Documents\\Science\\MirRevAdaptEEG\\data\\eeg\\p006\\lrp\\p006_EarlyLate_rightmoves_aligned_blockall-ave.fif ...\n",
      "    Found the data of interest:\n",
      "        t =   -2000.00 ...    1995.00 ms (16140)\n",
      "        0 CTF compensation matrices available\n",
      "        nave = 12 - aspect type = 100\n",
      "No projector specified for this dataset. Please consider the method self.add_proj.\n",
      "Loaded Evoked data is baseline-corrected (baseline: [-1.3, -1] sec)\n",
      "Reading F:\\Documents\\Science\\MirRevAdaptEEG\\data\\eeg\\p007\\lrp\\p007_EarlyLate_rightmoves_aligned_blockall-ave.fif ...\n",
      "    Found the data of interest:\n",
      "        t =   -2000.00 ...    1995.00 ms (16140)\n",
      "        0 CTF compensation matrices available\n",
      "        nave = 12 - aspect type = 100\n",
      "No projector specified for this dataset. Please consider the method self.add_proj.\n",
      "Loaded Evoked data is baseline-corrected (baseline: [-1.3, -1] sec)\n",
      "Reading F:\\Documents\\Science\\MirRevAdaptEEG\\data\\eeg\\p008\\lrp\\p008_EarlyLate_rightmoves_aligned_blockall-ave.fif ...\n",
      "    Found the data of interest:\n",
      "        t =   -2000.00 ...    1995.00 ms (16140)\n",
      "        0 CTF compensation matrices available\n",
      "        nave = 12 - aspect type = 100\n",
      "No projector specified for this dataset. Please consider the method self.add_proj.\n",
      "Loaded Evoked data is baseline-corrected (baseline: [-1.3, -1] sec)\n",
      "Reading F:\\Documents\\Science\\MirRevAdaptEEG\\data\\eeg\\p009\\lrp\\p009_EarlyLate_rightmoves_aligned_blockall-ave.fif ...\n",
      "    Found the data of interest:\n",
      "        t =   -2000.00 ...    1995.00 ms (16140)\n",
      "        0 CTF compensation matrices available\n",
      "        nave = 12 - aspect type = 100\n",
      "No projector specified for this dataset. Please consider the method self.add_proj.\n",
      "Loaded Evoked data is baseline-corrected (baseline: [-1.3, -1] sec)\n",
      "Reading F:\\Documents\\Science\\MirRevAdaptEEG\\data\\eeg\\p010\\lrp\\p010_EarlyLate_rightmoves_aligned_blockall-ave.fif ...\n",
      "    Found the data of interest:\n",
      "        t =   -2000.00 ...    1995.00 ms (16140)\n",
      "        0 CTF compensation matrices available\n",
      "        nave = 12 - aspect type = 100\n",
      "No projector specified for this dataset. Please consider the method self.add_proj.\n",
      "Loaded Evoked data is baseline-corrected (baseline: [-1.3, -1] sec)\n",
      "Reading F:\\Documents\\Science\\MirRevAdaptEEG\\data\\eeg\\p011\\lrp\\p011_EarlyLate_rightmoves_aligned_blockall-ave.fif ...\n",
      "    Found the data of interest:\n",
      "        t =   -2000.00 ...    1995.00 ms (16140)\n",
      "        0 CTF compensation matrices available\n",
      "        nave = 12 - aspect type = 100\n",
      "No projector specified for this dataset. Please consider the method self.add_proj.\n",
      "Loaded Evoked data is baseline-corrected (baseline: [-1.3, -1] sec)\n",
      "Reading F:\\Documents\\Science\\MirRevAdaptEEG\\data\\eeg\\p012\\lrp\\p012_EarlyLate_rightmoves_aligned_blockall-ave.fif ...\n",
      "    Found the data of interest:\n",
      "        t =   -2000.00 ...    1995.00 ms (16140)\n",
      "        0 CTF compensation matrices available\n",
      "        nave = 12 - aspect type = 100\n",
      "No projector specified for this dataset. Please consider the method self.add_proj.\n",
      "Loaded Evoked data is baseline-corrected (baseline: [-1.3, -1] sec)\n",
      "Reading F:\\Documents\\Science\\MirRevAdaptEEG\\data\\eeg\\p013\\lrp\\p013_EarlyLate_rightmoves_aligned_blockall-ave.fif ...\n",
      "    Found the data of interest:\n",
      "        t =   -2000.00 ...    1995.00 ms (16140)\n",
      "        0 CTF compensation matrices available\n",
      "        nave = 12 - aspect type = 100\n",
      "No projector specified for this dataset. Please consider the method self.add_proj.\n",
      "Loaded Evoked data is baseline-corrected (baseline: [-1.3, -1] sec)\n",
      "Reading F:\\Documents\\Science\\MirRevAdaptEEG\\data\\eeg\\p014\\lrp\\p014_EarlyLate_rightmoves_aligned_blockall-ave.fif ...\n",
      "    Found the data of interest:\n",
      "        t =   -2000.00 ...    1995.00 ms (16140)\n",
      "        0 CTF compensation matrices available\n",
      "        nave = 12 - aspect type = 100\n",
      "No projector specified for this dataset. Please consider the method self.add_proj.\n",
      "Loaded Evoked data is baseline-corrected (baseline: [-1.3, -1] sec)\n",
      "Reading F:\\Documents\\Science\\MirRevAdaptEEG\\data\\eeg\\p015\\lrp\\p015_EarlyLate_rightmoves_aligned_blockall-ave.fif ...\n",
      "    Found the data of interest:\n",
      "        t =   -2000.00 ...    1995.00 ms (16140)\n",
      "        0 CTF compensation matrices available\n",
      "        nave = 12 - aspect type = 100\n",
      "No projector specified for this dataset. Please consider the method self.add_proj.\n",
      "Loaded Evoked data is baseline-corrected (baseline: [-1.3, -1] sec)\n",
      "Reading F:\\Documents\\Science\\MirRevAdaptEEG\\data\\eeg\\p016\\lrp\\p016_EarlyLate_rightmoves_aligned_blockall-ave.fif ...\n",
      "    Found the data of interest:\n",
      "        t =   -2000.00 ...    1995.00 ms (16140)\n",
      "        0 CTF compensation matrices available\n",
      "        nave = 12 - aspect type = 100\n",
      "No projector specified for this dataset. Please consider the method self.add_proj.\n",
      "Loaded Evoked data is baseline-corrected (baseline: [-1.3, -1] sec)\n",
      "Reading F:\\Documents\\Science\\MirRevAdaptEEG\\data\\eeg\\p017\\lrp\\p017_EarlyLate_rightmoves_aligned_blockall-ave.fif ...\n",
      "    Found the data of interest:\n",
      "        t =   -2000.00 ...    1995.00 ms (16140)\n",
      "        0 CTF compensation matrices available\n",
      "        nave = 12 - aspect type = 100\n",
      "No projector specified for this dataset. Please consider the method self.add_proj.\n",
      "Loaded Evoked data is baseline-corrected (baseline: [-1.3, -1] sec)\n",
      "Reading F:\\Documents\\Science\\MirRevAdaptEEG\\data\\eeg\\p018\\lrp\\p018_EarlyLate_rightmoves_aligned_blockall-ave.fif ...\n",
      "    Found the data of interest:\n",
      "        t =   -2000.00 ...    1995.00 ms (16140)\n",
      "        0 CTF compensation matrices available\n",
      "        nave = 12 - aspect type = 100\n",
      "No projector specified for this dataset. Please consider the method self.add_proj.\n",
      "Loaded Evoked data is baseline-corrected (baseline: [-1.3, -1] sec)\n"
     ]
    },
    {
     "name": "stdout",
     "output_type": "stream",
     "text": [
      "Reading F:\\Documents\\Science\\MirRevAdaptEEG\\data\\eeg\\p019\\lrp\\p019_EarlyLate_rightmoves_aligned_blockall-ave.fif ...\n",
      "    Found the data of interest:\n",
      "        t =   -2000.00 ...    1995.00 ms (16140)\n",
      "        0 CTF compensation matrices available\n",
      "        nave = 12 - aspect type = 100\n",
      "No projector specified for this dataset. Please consider the method self.add_proj.\n",
      "Loaded Evoked data is baseline-corrected (baseline: [-1.3, -1] sec)\n",
      "Reading F:\\Documents\\Science\\MirRevAdaptEEG\\data\\eeg\\p020\\lrp\\p020_EarlyLate_rightmoves_aligned_blockall-ave.fif ...\n",
      "    Found the data of interest:\n",
      "        t =   -2000.00 ...    1995.00 ms (16140)\n",
      "        0 CTF compensation matrices available\n",
      "        nave = 12 - aspect type = 100\n",
      "No projector specified for this dataset. Please consider the method self.add_proj.\n",
      "Loaded Evoked data is baseline-corrected (baseline: [-1.3, -1] sec)\n",
      "Reading F:\\Documents\\Science\\MirRevAdaptEEG\\data\\eeg\\p021\\lrp\\p021_EarlyLate_rightmoves_aligned_blockall-ave.fif ...\n",
      "    Found the data of interest:\n",
      "        t =   -2000.00 ...    1995.00 ms (16140)\n",
      "        0 CTF compensation matrices available\n",
      "        nave = 12 - aspect type = 100\n",
      "No projector specified for this dataset. Please consider the method self.add_proj.\n",
      "Loaded Evoked data is baseline-corrected (baseline: [-1.3, -1] sec)\n",
      "Reading F:\\Documents\\Science\\MirRevAdaptEEG\\data\\eeg\\p022\\lrp\\p022_EarlyLate_rightmoves_aligned_blockall-ave.fif ...\n",
      "    Found the data of interest:\n",
      "        t =   -2000.00 ...    1995.00 ms (16140)\n",
      "        0 CTF compensation matrices available\n",
      "        nave = 12 - aspect type = 100\n",
      "No projector specified for this dataset. Please consider the method self.add_proj.\n",
      "Loaded Evoked data is baseline-corrected (baseline: [-1.3, -1] sec)\n",
      "Reading F:\\Documents\\Science\\MirRevAdaptEEG\\data\\eeg\\p023\\lrp\\p023_EarlyLate_rightmoves_aligned_blockall-ave.fif ...\n",
      "    Found the data of interest:\n",
      "        t =   -2000.00 ...    1995.00 ms (16140)\n",
      "        0 CTF compensation matrices available\n",
      "        nave = 12 - aspect type = 100\n",
      "No projector specified for this dataset. Please consider the method self.add_proj.\n",
      "Loaded Evoked data is baseline-corrected (baseline: [-1.3, -1] sec)\n",
      "Reading F:\\Documents\\Science\\MirRevAdaptEEG\\data\\eeg\\p024\\lrp\\p024_EarlyLate_rightmoves_aligned_blockall-ave.fif ...\n",
      "    Found the data of interest:\n",
      "        t =   -2000.00 ...    1995.00 ms (16140)\n",
      "        0 CTF compensation matrices available\n",
      "        nave = 12 - aspect type = 100\n",
      "No projector specified for this dataset. Please consider the method self.add_proj.\n",
      "Loaded Evoked data is baseline-corrected (baseline: [-1.3, -1] sec)\n",
      "Reading F:\\Documents\\Science\\MirRevAdaptEEG\\data\\eeg\\p025\\lrp\\p025_EarlyLate_rightmoves_aligned_blockall-ave.fif ...\n",
      "    Found the data of interest:\n",
      "        t =   -2000.00 ...    1995.00 ms (16140)\n",
      "        0 CTF compensation matrices available\n",
      "        nave = 12 - aspect type = 100\n",
      "No projector specified for this dataset. Please consider the method self.add_proj.\n",
      "Loaded Evoked data is baseline-corrected (baseline: [-1.3, -1] sec)\n",
      "Reading F:\\Documents\\Science\\MirRevAdaptEEG\\data\\eeg\\p026\\lrp\\p026_EarlyLate_rightmoves_aligned_blockall-ave.fif ...\n",
      "    Found the data of interest:\n",
      "        t =   -2000.00 ...    1995.00 ms (16140)\n",
      "        0 CTF compensation matrices available\n",
      "        nave = 12 - aspect type = 100\n",
      "No projector specified for this dataset. Please consider the method self.add_proj.\n",
      "Loaded Evoked data is baseline-corrected (baseline: [-1.3, -1] sec)\n",
      "Reading F:\\Documents\\Science\\MirRevAdaptEEG\\data\\eeg\\p027\\lrp\\p027_EarlyLate_rightmoves_aligned_blockall-ave.fif ...\n",
      "    Found the data of interest:\n",
      "        t =   -2000.00 ...    1995.00 ms (16140)\n",
      "        0 CTF compensation matrices available\n",
      "        nave = 12 - aspect type = 100\n",
      "No projector specified for this dataset. Please consider the method self.add_proj.\n",
      "Loaded Evoked data is baseline-corrected (baseline: [-1.3, -1] sec)\n",
      "Reading F:\\Documents\\Science\\MirRevAdaptEEG\\data\\eeg\\p028\\lrp\\p028_EarlyLate_rightmoves_aligned_blockall-ave.fif ...\n",
      "    Found the data of interest:\n",
      "        t =   -2000.00 ...    1995.00 ms (16140)\n",
      "        0 CTF compensation matrices available\n",
      "        nave = 12 - aspect type = 100\n",
      "No projector specified for this dataset. Please consider the method self.add_proj.\n",
      "Loaded Evoked data is baseline-corrected (baseline: [-1.3, -1] sec)\n",
      "Reading F:\\Documents\\Science\\MirRevAdaptEEG\\data\\eeg\\p029\\lrp\\p029_EarlyLate_rightmoves_aligned_blockall-ave.fif ...\n",
      "    Found the data of interest:\n",
      "        t =   -2000.00 ...    1995.00 ms (16140)\n",
      "        0 CTF compensation matrices available\n",
      "        nave = 12 - aspect type = 100\n",
      "No projector specified for this dataset. Please consider the method self.add_proj.\n",
      "Loaded Evoked data is baseline-corrected (baseline: [-1.3, -1] sec)\n",
      "Reading F:\\Documents\\Science\\MirRevAdaptEEG\\data\\eeg\\p030\\lrp\\p030_EarlyLate_rightmoves_aligned_blockall-ave.fif ...\n",
      "    Found the data of interest:\n",
      "        t =   -2000.00 ...    1995.00 ms (16140)\n",
      "        0 CTF compensation matrices available\n",
      "        nave = 12 - aspect type = 100\n",
      "No projector specified for this dataset. Please consider the method self.add_proj.\n",
      "Loaded Evoked data is baseline-corrected (baseline: [-1.3, -1] sec)\n",
      "Reading F:\\Documents\\Science\\MirRevAdaptEEG\\data\\eeg\\p031\\lrp\\p031_EarlyLate_rightmoves_aligned_blockall-ave.fif ...\n",
      "    Found the data of interest:\n",
      "        t =   -2000.00 ...    1995.00 ms (16140)\n",
      "        0 CTF compensation matrices available\n",
      "        nave = 12 - aspect type = 100\n",
      "No projector specified for this dataset. Please consider the method self.add_proj.\n",
      "Loaded Evoked data is baseline-corrected (baseline: [-1.3, -1] sec)\n",
      "Identifying common channels ...\n",
      "Reading F:\\Documents\\Science\\MirRevAdaptEEG\\data\\eeg\\p000\\lrp\\p000_EarlyLate_leftmoves_aligned_blockall-ave.fif ...\n",
      "    Found the data of interest:\n",
      "        t =   -2000.00 ...    1995.00 ms (16140)\n",
      "        0 CTF compensation matrices available\n",
      "        nave = 12 - aspect type = 100\n",
      "No projector specified for this dataset. Please consider the method self.add_proj.\n",
      "Loaded Evoked data is baseline-corrected (baseline: [-1.3, -1] sec)\n",
      "Reading F:\\Documents\\Science\\MirRevAdaptEEG\\data\\eeg\\p001\\lrp\\p001_EarlyLate_leftmoves_aligned_blockall-ave.fif ...\n",
      "    Found the data of interest:\n",
      "        t =   -2000.00 ...    1995.00 ms (16140)\n",
      "        0 CTF compensation matrices available\n",
      "        nave = 12 - aspect type = 100\n",
      "No projector specified for this dataset. Please consider the method self.add_proj.\n",
      "Loaded Evoked data is baseline-corrected (baseline: [-1.3, -1] sec)\n",
      "Reading F:\\Documents\\Science\\MirRevAdaptEEG\\data\\eeg\\p002\\lrp\\p002_EarlyLate_leftmoves_aligned_blockall-ave.fif ...\n",
      "    Found the data of interest:\n",
      "        t =   -2000.00 ...    1995.00 ms (16140)\n",
      "        0 CTF compensation matrices available\n",
      "        nave = 12 - aspect type = 100\n",
      "No projector specified for this dataset. Please consider the method self.add_proj.\n",
      "Loaded Evoked data is baseline-corrected (baseline: [-1.3, -1] sec)\n",
      "Reading F:\\Documents\\Science\\MirRevAdaptEEG\\data\\eeg\\p003\\lrp\\p003_EarlyLate_leftmoves_aligned_blockall-ave.fif ...\n",
      "    Found the data of interest:\n",
      "        t =   -2000.00 ...    1995.00 ms (16140)\n",
      "        0 CTF compensation matrices available\n",
      "        nave = 12 - aspect type = 100\n",
      "No projector specified for this dataset. Please consider the method self.add_proj.\n",
      "Loaded Evoked data is baseline-corrected (baseline: [-1.3, -1] sec)\n",
      "Reading F:\\Documents\\Science\\MirRevAdaptEEG\\data\\eeg\\p004\\lrp\\p004_EarlyLate_leftmoves_aligned_blockall-ave.fif ...\n",
      "    Found the data of interest:\n",
      "        t =   -2000.00 ...    1995.00 ms (16140)\n",
      "        0 CTF compensation matrices available\n",
      "        nave = 12 - aspect type = 100\n",
      "No projector specified for this dataset. Please consider the method self.add_proj.\n",
      "Loaded Evoked data is baseline-corrected (baseline: [-1.3, -1] sec)\n",
      "Reading F:\\Documents\\Science\\MirRevAdaptEEG\\data\\eeg\\p005\\lrp\\p005_EarlyLate_leftmoves_aligned_blockall-ave.fif ...\n",
      "    Found the data of interest:\n",
      "        t =   -2000.00 ...    1995.00 ms (16140)\n",
      "        0 CTF compensation matrices available\n",
      "        nave = 12 - aspect type = 100\n",
      "No projector specified for this dataset. Please consider the method self.add_proj.\n",
      "Loaded Evoked data is baseline-corrected (baseline: [-1.3, -1] sec)\n"
     ]
    },
    {
     "name": "stdout",
     "output_type": "stream",
     "text": [
      "Reading F:\\Documents\\Science\\MirRevAdaptEEG\\data\\eeg\\p006\\lrp\\p006_EarlyLate_leftmoves_aligned_blockall-ave.fif ...\n",
      "    Found the data of interest:\n",
      "        t =   -2000.00 ...    1995.00 ms (16140)\n",
      "        0 CTF compensation matrices available\n",
      "        nave = 12 - aspect type = 100\n",
      "No projector specified for this dataset. Please consider the method self.add_proj.\n",
      "Loaded Evoked data is baseline-corrected (baseline: [-1.3, -1] sec)\n",
      "Reading F:\\Documents\\Science\\MirRevAdaptEEG\\data\\eeg\\p007\\lrp\\p007_EarlyLate_leftmoves_aligned_blockall-ave.fif ...\n",
      "    Found the data of interest:\n",
      "        t =   -2000.00 ...    1995.00 ms (16140)\n",
      "        0 CTF compensation matrices available\n",
      "        nave = 12 - aspect type = 100\n",
      "No projector specified for this dataset. Please consider the method self.add_proj.\n",
      "Loaded Evoked data is baseline-corrected (baseline: [-1.3, -1] sec)\n",
      "Reading F:\\Documents\\Science\\MirRevAdaptEEG\\data\\eeg\\p008\\lrp\\p008_EarlyLate_leftmoves_aligned_blockall-ave.fif ...\n",
      "    Found the data of interest:\n",
      "        t =   -2000.00 ...    1995.00 ms (16140)\n",
      "        0 CTF compensation matrices available\n",
      "        nave = 12 - aspect type = 100\n",
      "No projector specified for this dataset. Please consider the method self.add_proj.\n",
      "Loaded Evoked data is baseline-corrected (baseline: [-1.3, -1] sec)\n",
      "Reading F:\\Documents\\Science\\MirRevAdaptEEG\\data\\eeg\\p009\\lrp\\p009_EarlyLate_leftmoves_aligned_blockall-ave.fif ...\n",
      "    Found the data of interest:\n",
      "        t =   -2000.00 ...    1995.00 ms (16140)\n",
      "        0 CTF compensation matrices available\n",
      "        nave = 12 - aspect type = 100\n",
      "No projector specified for this dataset. Please consider the method self.add_proj.\n",
      "Loaded Evoked data is baseline-corrected (baseline: [-1.3, -1] sec)\n",
      "Reading F:\\Documents\\Science\\MirRevAdaptEEG\\data\\eeg\\p010\\lrp\\p010_EarlyLate_leftmoves_aligned_blockall-ave.fif ...\n",
      "    Found the data of interest:\n",
      "        t =   -2000.00 ...    1995.00 ms (16140)\n",
      "        0 CTF compensation matrices available\n",
      "        nave = 12 - aspect type = 100\n",
      "No projector specified for this dataset. Please consider the method self.add_proj.\n",
      "Loaded Evoked data is baseline-corrected (baseline: [-1.3, -1] sec)\n",
      "Reading F:\\Documents\\Science\\MirRevAdaptEEG\\data\\eeg\\p011\\lrp\\p011_EarlyLate_leftmoves_aligned_blockall-ave.fif ...\n",
      "    Found the data of interest:\n",
      "        t =   -2000.00 ...    1995.00 ms (16140)\n",
      "        0 CTF compensation matrices available\n",
      "        nave = 12 - aspect type = 100\n",
      "No projector specified for this dataset. Please consider the method self.add_proj.\n",
      "Loaded Evoked data is baseline-corrected (baseline: [-1.3, -1] sec)\n",
      "Reading F:\\Documents\\Science\\MirRevAdaptEEG\\data\\eeg\\p012\\lrp\\p012_EarlyLate_leftmoves_aligned_blockall-ave.fif ...\n",
      "    Found the data of interest:\n",
      "        t =   -2000.00 ...    1995.00 ms (16140)\n",
      "        0 CTF compensation matrices available\n",
      "        nave = 12 - aspect type = 100\n",
      "No projector specified for this dataset. Please consider the method self.add_proj.\n",
      "Loaded Evoked data is baseline-corrected (baseline: [-1.3, -1] sec)\n",
      "Reading F:\\Documents\\Science\\MirRevAdaptEEG\\data\\eeg\\p013\\lrp\\p013_EarlyLate_leftmoves_aligned_blockall-ave.fif ...\n",
      "    Found the data of interest:\n",
      "        t =   -2000.00 ...    1995.00 ms (16140)\n",
      "        0 CTF compensation matrices available\n",
      "        nave = 12 - aspect type = 100\n",
      "No projector specified for this dataset. Please consider the method self.add_proj.\n",
      "Loaded Evoked data is baseline-corrected (baseline: [-1.3, -1] sec)\n",
      "Reading F:\\Documents\\Science\\MirRevAdaptEEG\\data\\eeg\\p014\\lrp\\p014_EarlyLate_leftmoves_aligned_blockall-ave.fif ...\n",
      "    Found the data of interest:\n",
      "        t =   -2000.00 ...    1995.00 ms (16140)\n",
      "        0 CTF compensation matrices available\n",
      "        nave = 12 - aspect type = 100\n",
      "No projector specified for this dataset. Please consider the method self.add_proj.\n",
      "Loaded Evoked data is baseline-corrected (baseline: [-1.3, -1] sec)\n",
      "Reading F:\\Documents\\Science\\MirRevAdaptEEG\\data\\eeg\\p015\\lrp\\p015_EarlyLate_leftmoves_aligned_blockall-ave.fif ...\n",
      "    Found the data of interest:\n",
      "        t =   -2000.00 ...    1995.00 ms (16140)\n",
      "        0 CTF compensation matrices available\n",
      "        nave = 12 - aspect type = 100\n",
      "No projector specified for this dataset. Please consider the method self.add_proj.\n",
      "Loaded Evoked data is baseline-corrected (baseline: [-1.3, -1] sec)\n",
      "Reading F:\\Documents\\Science\\MirRevAdaptEEG\\data\\eeg\\p016\\lrp\\p016_EarlyLate_leftmoves_aligned_blockall-ave.fif ...\n",
      "    Found the data of interest:\n",
      "        t =   -2000.00 ...    1995.00 ms (16140)\n",
      "        0 CTF compensation matrices available\n",
      "        nave = 12 - aspect type = 100\n",
      "No projector specified for this dataset. Please consider the method self.add_proj.\n",
      "Loaded Evoked data is baseline-corrected (baseline: [-1.3, -1] sec)\n",
      "Reading F:\\Documents\\Science\\MirRevAdaptEEG\\data\\eeg\\p017\\lrp\\p017_EarlyLate_leftmoves_aligned_blockall-ave.fif ...\n",
      "    Found the data of interest:\n",
      "        t =   -2000.00 ...    1995.00 ms (16140)\n",
      "        0 CTF compensation matrices available\n",
      "        nave = 12 - aspect type = 100\n",
      "No projector specified for this dataset. Please consider the method self.add_proj.\n",
      "Loaded Evoked data is baseline-corrected (baseline: [-1.3, -1] sec)\n",
      "Reading F:\\Documents\\Science\\MirRevAdaptEEG\\data\\eeg\\p018\\lrp\\p018_EarlyLate_leftmoves_aligned_blockall-ave.fif ...\n",
      "    Found the data of interest:\n",
      "        t =   -2000.00 ...    1995.00 ms (16140)\n",
      "        0 CTF compensation matrices available\n",
      "        nave = 12 - aspect type = 100\n",
      "No projector specified for this dataset. Please consider the method self.add_proj.\n",
      "Loaded Evoked data is baseline-corrected (baseline: [-1.3, -1] sec)\n",
      "Reading F:\\Documents\\Science\\MirRevAdaptEEG\\data\\eeg\\p019\\lrp\\p019_EarlyLate_leftmoves_aligned_blockall-ave.fif ...\n",
      "    Found the data of interest:\n",
      "        t =   -2000.00 ...    1995.00 ms (16140)\n",
      "        0 CTF compensation matrices available\n",
      "        nave = 12 - aspect type = 100\n",
      "No projector specified for this dataset. Please consider the method self.add_proj.\n",
      "Loaded Evoked data is baseline-corrected (baseline: [-1.3, -1] sec)\n",
      "Reading F:\\Documents\\Science\\MirRevAdaptEEG\\data\\eeg\\p020\\lrp\\p020_EarlyLate_leftmoves_aligned_blockall-ave.fif ...\n",
      "    Found the data of interest:\n",
      "        t =   -2000.00 ...    1995.00 ms (16140)\n",
      "        0 CTF compensation matrices available\n",
      "        nave = 12 - aspect type = 100\n",
      "No projector specified for this dataset. Please consider the method self.add_proj.\n",
      "Loaded Evoked data is baseline-corrected (baseline: [-1.3, -1] sec)\n",
      "Reading F:\\Documents\\Science\\MirRevAdaptEEG\\data\\eeg\\p021\\lrp\\p021_EarlyLate_leftmoves_aligned_blockall-ave.fif ...\n",
      "    Found the data of interest:\n",
      "        t =   -2000.00 ...    1995.00 ms (16140)\n",
      "        0 CTF compensation matrices available\n",
      "        nave = 12 - aspect type = 100\n",
      "No projector specified for this dataset. Please consider the method self.add_proj.\n",
      "Loaded Evoked data is baseline-corrected (baseline: [-1.3, -1] sec)\n",
      "Reading F:\\Documents\\Science\\MirRevAdaptEEG\\data\\eeg\\p022\\lrp\\p022_EarlyLate_leftmoves_aligned_blockall-ave.fif ...\n",
      "    Found the data of interest:\n",
      "        t =   -2000.00 ...    1995.00 ms (16140)\n",
      "        0 CTF compensation matrices available\n",
      "        nave = 12 - aspect type = 100\n",
      "No projector specified for this dataset. Please consider the method self.add_proj.\n",
      "Loaded Evoked data is baseline-corrected (baseline: [-1.3, -1] sec)\n",
      "Reading F:\\Documents\\Science\\MirRevAdaptEEG\\data\\eeg\\p023\\lrp\\p023_EarlyLate_leftmoves_aligned_blockall-ave.fif ...\n",
      "    Found the data of interest:\n",
      "        t =   -2000.00 ...    1995.00 ms (16140)\n",
      "        0 CTF compensation matrices available\n",
      "        nave = 12 - aspect type = 100\n",
      "No projector specified for this dataset. Please consider the method self.add_proj.\n",
      "Loaded Evoked data is baseline-corrected (baseline: [-1.3, -1] sec)\n",
      "Reading F:\\Documents\\Science\\MirRevAdaptEEG\\data\\eeg\\p024\\lrp\\p024_EarlyLate_leftmoves_aligned_blockall-ave.fif ...\n",
      "    Found the data of interest:\n",
      "        t =   -2000.00 ...    1995.00 ms (16140)\n",
      "        0 CTF compensation matrices available\n",
      "        nave = 12 - aspect type = 100\n",
      "No projector specified for this dataset. Please consider the method self.add_proj.\n",
      "Loaded Evoked data is baseline-corrected (baseline: [-1.3, -1] sec)\n"
     ]
    },
    {
     "name": "stdout",
     "output_type": "stream",
     "text": [
      "Reading F:\\Documents\\Science\\MirRevAdaptEEG\\data\\eeg\\p025\\lrp\\p025_EarlyLate_leftmoves_aligned_blockall-ave.fif ...\n",
      "    Found the data of interest:\n",
      "        t =   -2000.00 ...    1995.00 ms (16140)\n",
      "        0 CTF compensation matrices available\n",
      "        nave = 12 - aspect type = 100\n",
      "No projector specified for this dataset. Please consider the method self.add_proj.\n",
      "Loaded Evoked data is baseline-corrected (baseline: [-1.3, -1] sec)\n",
      "Reading F:\\Documents\\Science\\MirRevAdaptEEG\\data\\eeg\\p026\\lrp\\p026_EarlyLate_leftmoves_aligned_blockall-ave.fif ...\n",
      "    Found the data of interest:\n",
      "        t =   -2000.00 ...    1995.00 ms (16140)\n",
      "        0 CTF compensation matrices available\n",
      "        nave = 12 - aspect type = 100\n",
      "No projector specified for this dataset. Please consider the method self.add_proj.\n",
      "Loaded Evoked data is baseline-corrected (baseline: [-1.3, -1] sec)\n",
      "Reading F:\\Documents\\Science\\MirRevAdaptEEG\\data\\eeg\\p027\\lrp\\p027_EarlyLate_leftmoves_aligned_blockall-ave.fif ...\n",
      "    Found the data of interest:\n",
      "        t =   -2000.00 ...    1995.00 ms (16140)\n",
      "        0 CTF compensation matrices available\n",
      "        nave = 12 - aspect type = 100\n",
      "No projector specified for this dataset. Please consider the method self.add_proj.\n",
      "Loaded Evoked data is baseline-corrected (baseline: [-1.3, -1] sec)\n",
      "Reading F:\\Documents\\Science\\MirRevAdaptEEG\\data\\eeg\\p028\\lrp\\p028_EarlyLate_leftmoves_aligned_blockall-ave.fif ...\n",
      "    Found the data of interest:\n",
      "        t =   -2000.00 ...    1995.00 ms (16140)\n",
      "        0 CTF compensation matrices available\n",
      "        nave = 12 - aspect type = 100\n",
      "No projector specified for this dataset. Please consider the method self.add_proj.\n",
      "Loaded Evoked data is baseline-corrected (baseline: [-1.3, -1] sec)\n",
      "Reading F:\\Documents\\Science\\MirRevAdaptEEG\\data\\eeg\\p029\\lrp\\p029_EarlyLate_leftmoves_aligned_blockall-ave.fif ...\n",
      "    Found the data of interest:\n",
      "        t =   -2000.00 ...    1995.00 ms (16140)\n",
      "        0 CTF compensation matrices available\n",
      "        nave = 12 - aspect type = 100\n",
      "No projector specified for this dataset. Please consider the method self.add_proj.\n",
      "Loaded Evoked data is baseline-corrected (baseline: [-1.3, -1] sec)\n",
      "Reading F:\\Documents\\Science\\MirRevAdaptEEG\\data\\eeg\\p030\\lrp\\p030_EarlyLate_leftmoves_aligned_blockall-ave.fif ...\n",
      "    Found the data of interest:\n",
      "        t =   -2000.00 ...    1995.00 ms (16140)\n",
      "        0 CTF compensation matrices available\n",
      "        nave = 12 - aspect type = 100\n",
      "No projector specified for this dataset. Please consider the method self.add_proj.\n",
      "Loaded Evoked data is baseline-corrected (baseline: [-1.3, -1] sec)\n",
      "Reading F:\\Documents\\Science\\MirRevAdaptEEG\\data\\eeg\\p031\\lrp\\p031_EarlyLate_leftmoves_aligned_blockall-ave.fif ...\n",
      "    Found the data of interest:\n",
      "        t =   -2000.00 ...    1995.00 ms (16140)\n",
      "        0 CTF compensation matrices available\n",
      "        nave = 12 - aspect type = 100\n",
      "No projector specified for this dataset. Please consider the method self.add_proj.\n",
      "Loaded Evoked data is baseline-corrected (baseline: [-1.3, -1] sec)\n",
      "Identifying common channels ...\n",
      "Reading F:\\Documents\\Science\\MirRevAdaptEEG\\data\\eeg\\p000\\lrp\\p000_EarlyLate_rightmoves_aln_rot_blockall-ave.fif ...\n",
      "    Found the data of interest:\n",
      "        t =   -2000.00 ...    1995.00 ms (16140)\n",
      "        0 CTF compensation matrices available\n",
      "        nave = 12 - aspect type = 100\n",
      "No projector specified for this dataset. Please consider the method self.add_proj.\n",
      "Loaded Evoked data is baseline-corrected (baseline: [-1.3, -1] sec)\n",
      "Reading F:\\Documents\\Science\\MirRevAdaptEEG\\data\\eeg\\p001\\lrp\\p001_EarlyLate_rightmoves_aln_rot_blockall-ave.fif ...\n",
      "    Found the data of interest:\n",
      "        t =   -2000.00 ...    1995.00 ms (16140)\n",
      "        0 CTF compensation matrices available\n",
      "        nave = 12 - aspect type = 100\n",
      "No projector specified for this dataset. Please consider the method self.add_proj.\n",
      "Loaded Evoked data is baseline-corrected (baseline: [-1.3, -1] sec)\n",
      "Reading F:\\Documents\\Science\\MirRevAdaptEEG\\data\\eeg\\p002\\lrp\\p002_EarlyLate_rightmoves_aln_rot_blockall-ave.fif ...\n",
      "    Found the data of interest:\n",
      "        t =   -2000.00 ...    1995.00 ms (16140)\n",
      "        0 CTF compensation matrices available\n",
      "        nave = 12 - aspect type = 100\n",
      "No projector specified for this dataset. Please consider the method self.add_proj.\n",
      "Loaded Evoked data is baseline-corrected (baseline: [-1.3, -1] sec)\n",
      "Reading F:\\Documents\\Science\\MirRevAdaptEEG\\data\\eeg\\p003\\lrp\\p003_EarlyLate_rightmoves_aln_rot_blockall-ave.fif ...\n",
      "    Found the data of interest:\n",
      "        t =   -2000.00 ...    1995.00 ms (16140)\n",
      "        0 CTF compensation matrices available\n",
      "        nave = 12 - aspect type = 100\n",
      "No projector specified for this dataset. Please consider the method self.add_proj.\n",
      "Loaded Evoked data is baseline-corrected (baseline: [-1.3, -1] sec)\n",
      "Reading F:\\Documents\\Science\\MirRevAdaptEEG\\data\\eeg\\p008\\lrp\\p008_EarlyLate_rightmoves_aln_rot_blockall-ave.fif ...\n",
      "    Found the data of interest:\n",
      "        t =   -2000.00 ...    1995.00 ms (16140)\n",
      "        0 CTF compensation matrices available\n",
      "        nave = 12 - aspect type = 100\n",
      "No projector specified for this dataset. Please consider the method self.add_proj.\n",
      "Loaded Evoked data is baseline-corrected (baseline: [-1.3, -1] sec)\n",
      "Reading F:\\Documents\\Science\\MirRevAdaptEEG\\data\\eeg\\p009\\lrp\\p009_EarlyLate_rightmoves_aln_rot_blockall-ave.fif ...\n",
      "    Found the data of interest:\n",
      "        t =   -2000.00 ...    1995.00 ms (16140)\n",
      "        0 CTF compensation matrices available\n",
      "        nave = 12 - aspect type = 100\n",
      "No projector specified for this dataset. Please consider the method self.add_proj.\n",
      "Loaded Evoked data is baseline-corrected (baseline: [-1.3, -1] sec)\n",
      "Reading F:\\Documents\\Science\\MirRevAdaptEEG\\data\\eeg\\p010\\lrp\\p010_EarlyLate_rightmoves_aln_rot_blockall-ave.fif ...\n",
      "    Found the data of interest:\n",
      "        t =   -2000.00 ...    1995.00 ms (16140)\n",
      "        0 CTF compensation matrices available\n",
      "        nave = 12 - aspect type = 100\n",
      "No projector specified for this dataset. Please consider the method self.add_proj.\n",
      "Loaded Evoked data is baseline-corrected (baseline: [-1.3, -1] sec)\n",
      "Reading F:\\Documents\\Science\\MirRevAdaptEEG\\data\\eeg\\p011\\lrp\\p011_EarlyLate_rightmoves_aln_rot_blockall-ave.fif ...\n",
      "    Found the data of interest:\n",
      "        t =   -2000.00 ...    1995.00 ms (16140)\n",
      "        0 CTF compensation matrices available\n",
      "        nave = 12 - aspect type = 100\n",
      "No projector specified for this dataset. Please consider the method self.add_proj.\n",
      "Loaded Evoked data is baseline-corrected (baseline: [-1.3, -1] sec)\n",
      "Reading F:\\Documents\\Science\\MirRevAdaptEEG\\data\\eeg\\p016\\lrp\\p016_EarlyLate_rightmoves_aln_rot_blockall-ave.fif ...\n",
      "    Found the data of interest:\n",
      "        t =   -2000.00 ...    1995.00 ms (16140)\n",
      "        0 CTF compensation matrices available\n",
      "        nave = 12 - aspect type = 100\n",
      "No projector specified for this dataset. Please consider the method self.add_proj.\n",
      "Loaded Evoked data is baseline-corrected (baseline: [-1.3, -1] sec)\n",
      "Reading F:\\Documents\\Science\\MirRevAdaptEEG\\data\\eeg\\p017\\lrp\\p017_EarlyLate_rightmoves_aln_rot_blockall-ave.fif ...\n",
      "    Found the data of interest:\n",
      "        t =   -2000.00 ...    1995.00 ms (16140)\n",
      "        0 CTF compensation matrices available\n",
      "        nave = 12 - aspect type = 100\n",
      "No projector specified for this dataset. Please consider the method self.add_proj.\n",
      "Loaded Evoked data is baseline-corrected (baseline: [-1.3, -1] sec)\n",
      "Reading F:\\Documents\\Science\\MirRevAdaptEEG\\data\\eeg\\p018\\lrp\\p018_EarlyLate_rightmoves_aln_rot_blockall-ave.fif ...\n",
      "    Found the data of interest:\n",
      "        t =   -2000.00 ...    1995.00 ms (16140)\n",
      "        0 CTF compensation matrices available\n",
      "        nave = 12 - aspect type = 100\n",
      "No projector specified for this dataset. Please consider the method self.add_proj.\n",
      "Loaded Evoked data is baseline-corrected (baseline: [-1.3, -1] sec)\n",
      "Reading F:\\Documents\\Science\\MirRevAdaptEEG\\data\\eeg\\p019\\lrp\\p019_EarlyLate_rightmoves_aln_rot_blockall-ave.fif ...\n",
      "    Found the data of interest:\n",
      "        t =   -2000.00 ...    1995.00 ms (16140)\n",
      "        0 CTF compensation matrices available\n",
      "        nave = 12 - aspect type = 100\n",
      "No projector specified for this dataset. Please consider the method self.add_proj.\n",
      "Loaded Evoked data is baseline-corrected (baseline: [-1.3, -1] sec)\n"
     ]
    },
    {
     "name": "stdout",
     "output_type": "stream",
     "text": [
      "Reading F:\\Documents\\Science\\MirRevAdaptEEG\\data\\eeg\\p024\\lrp\\p024_EarlyLate_rightmoves_aln_rot_blockall-ave.fif ...\n",
      "    Found the data of interest:\n",
      "        t =   -2000.00 ...    1995.00 ms (16140)\n",
      "        0 CTF compensation matrices available\n",
      "        nave = 12 - aspect type = 100\n",
      "No projector specified for this dataset. Please consider the method self.add_proj.\n",
      "Loaded Evoked data is baseline-corrected (baseline: [-1.3, -1] sec)\n",
      "Reading F:\\Documents\\Science\\MirRevAdaptEEG\\data\\eeg\\p025\\lrp\\p025_EarlyLate_rightmoves_aln_rot_blockall-ave.fif ...\n",
      "    Found the data of interest:\n",
      "        t =   -2000.00 ...    1995.00 ms (16140)\n",
      "        0 CTF compensation matrices available\n",
      "        nave = 12 - aspect type = 100\n",
      "No projector specified for this dataset. Please consider the method self.add_proj.\n",
      "Loaded Evoked data is baseline-corrected (baseline: [-1.3, -1] sec)\n",
      "Reading F:\\Documents\\Science\\MirRevAdaptEEG\\data\\eeg\\p026\\lrp\\p026_EarlyLate_rightmoves_aln_rot_blockall-ave.fif ...\n",
      "    Found the data of interest:\n",
      "        t =   -2000.00 ...    1995.00 ms (16140)\n",
      "        0 CTF compensation matrices available\n",
      "        nave = 12 - aspect type = 100\n",
      "No projector specified for this dataset. Please consider the method self.add_proj.\n",
      "Loaded Evoked data is baseline-corrected (baseline: [-1.3, -1] sec)\n",
      "Reading F:\\Documents\\Science\\MirRevAdaptEEG\\data\\eeg\\p027\\lrp\\p027_EarlyLate_rightmoves_aln_rot_blockall-ave.fif ...\n",
      "    Found the data of interest:\n",
      "        t =   -2000.00 ...    1995.00 ms (16140)\n",
      "        0 CTF compensation matrices available\n",
      "        nave = 12 - aspect type = 100\n",
      "No projector specified for this dataset. Please consider the method self.add_proj.\n",
      "Loaded Evoked data is baseline-corrected (baseline: [-1.3, -1] sec)\n",
      "Identifying common channels ...\n",
      "Reading F:\\Documents\\Science\\MirRevAdaptEEG\\data\\eeg\\p000\\lrp\\p000_EarlyLate_leftmoves_aln_rot_blockall-ave.fif ...\n",
      "    Found the data of interest:\n",
      "        t =   -2000.00 ...    1995.00 ms (16140)\n",
      "        0 CTF compensation matrices available\n",
      "        nave = 12 - aspect type = 100\n",
      "No projector specified for this dataset. Please consider the method self.add_proj.\n",
      "Loaded Evoked data is baseline-corrected (baseline: [-1.3, -1] sec)\n",
      "Reading F:\\Documents\\Science\\MirRevAdaptEEG\\data\\eeg\\p001\\lrp\\p001_EarlyLate_leftmoves_aln_rot_blockall-ave.fif ...\n",
      "    Found the data of interest:\n",
      "        t =   -2000.00 ...    1995.00 ms (16140)\n",
      "        0 CTF compensation matrices available\n",
      "        nave = 12 - aspect type = 100\n",
      "No projector specified for this dataset. Please consider the method self.add_proj.\n",
      "Loaded Evoked data is baseline-corrected (baseline: [-1.3, -1] sec)\n",
      "Reading F:\\Documents\\Science\\MirRevAdaptEEG\\data\\eeg\\p002\\lrp\\p002_EarlyLate_leftmoves_aln_rot_blockall-ave.fif ...\n",
      "    Found the data of interest:\n",
      "        t =   -2000.00 ...    1995.00 ms (16140)\n",
      "        0 CTF compensation matrices available\n",
      "        nave = 12 - aspect type = 100\n",
      "No projector specified for this dataset. Please consider the method self.add_proj.\n",
      "Loaded Evoked data is baseline-corrected (baseline: [-1.3, -1] sec)\n",
      "Reading F:\\Documents\\Science\\MirRevAdaptEEG\\data\\eeg\\p003\\lrp\\p003_EarlyLate_leftmoves_aln_rot_blockall-ave.fif ...\n",
      "    Found the data of interest:\n",
      "        t =   -2000.00 ...    1995.00 ms (16140)\n",
      "        0 CTF compensation matrices available\n",
      "        nave = 12 - aspect type = 100\n",
      "No projector specified for this dataset. Please consider the method self.add_proj.\n",
      "Loaded Evoked data is baseline-corrected (baseline: [-1.3, -1] sec)\n",
      "Reading F:\\Documents\\Science\\MirRevAdaptEEG\\data\\eeg\\p008\\lrp\\p008_EarlyLate_leftmoves_aln_rot_blockall-ave.fif ...\n",
      "    Found the data of interest:\n",
      "        t =   -2000.00 ...    1995.00 ms (16140)\n",
      "        0 CTF compensation matrices available\n",
      "        nave = 12 - aspect type = 100\n",
      "No projector specified for this dataset. Please consider the method self.add_proj.\n",
      "Loaded Evoked data is baseline-corrected (baseline: [-1.3, -1] sec)\n",
      "Reading F:\\Documents\\Science\\MirRevAdaptEEG\\data\\eeg\\p009\\lrp\\p009_EarlyLate_leftmoves_aln_rot_blockall-ave.fif ...\n",
      "    Found the data of interest:\n",
      "        t =   -2000.00 ...    1995.00 ms (16140)\n",
      "        0 CTF compensation matrices available\n",
      "        nave = 12 - aspect type = 100\n",
      "No projector specified for this dataset. Please consider the method self.add_proj.\n",
      "Loaded Evoked data is baseline-corrected (baseline: [-1.3, -1] sec)\n",
      "Reading F:\\Documents\\Science\\MirRevAdaptEEG\\data\\eeg\\p010\\lrp\\p010_EarlyLate_leftmoves_aln_rot_blockall-ave.fif ...\n",
      "    Found the data of interest:\n",
      "        t =   -2000.00 ...    1995.00 ms (16140)\n",
      "        0 CTF compensation matrices available\n",
      "        nave = 12 - aspect type = 100\n",
      "No projector specified for this dataset. Please consider the method self.add_proj.\n",
      "Loaded Evoked data is baseline-corrected (baseline: [-1.3, -1] sec)\n",
      "Reading F:\\Documents\\Science\\MirRevAdaptEEG\\data\\eeg\\p011\\lrp\\p011_EarlyLate_leftmoves_aln_rot_blockall-ave.fif ...\n",
      "    Found the data of interest:\n",
      "        t =   -2000.00 ...    1995.00 ms (16140)\n",
      "        0 CTF compensation matrices available\n",
      "        nave = 12 - aspect type = 100\n",
      "No projector specified for this dataset. Please consider the method self.add_proj.\n",
      "Loaded Evoked data is baseline-corrected (baseline: [-1.3, -1] sec)\n",
      "Reading F:\\Documents\\Science\\MirRevAdaptEEG\\data\\eeg\\p016\\lrp\\p016_EarlyLate_leftmoves_aln_rot_blockall-ave.fif ...\n",
      "    Found the data of interest:\n",
      "        t =   -2000.00 ...    1995.00 ms (16140)\n",
      "        0 CTF compensation matrices available\n",
      "        nave = 12 - aspect type = 100\n",
      "No projector specified for this dataset. Please consider the method self.add_proj.\n",
      "Loaded Evoked data is baseline-corrected (baseline: [-1.3, -1] sec)\n",
      "Reading F:\\Documents\\Science\\MirRevAdaptEEG\\data\\eeg\\p017\\lrp\\p017_EarlyLate_leftmoves_aln_rot_blockall-ave.fif ...\n",
      "    Found the data of interest:\n",
      "        t =   -2000.00 ...    1995.00 ms (16140)\n",
      "        0 CTF compensation matrices available\n",
      "        nave = 12 - aspect type = 100\n",
      "No projector specified for this dataset. Please consider the method self.add_proj.\n",
      "Loaded Evoked data is baseline-corrected (baseline: [-1.3, -1] sec)\n",
      "Reading F:\\Documents\\Science\\MirRevAdaptEEG\\data\\eeg\\p018\\lrp\\p018_EarlyLate_leftmoves_aln_rot_blockall-ave.fif ...\n",
      "    Found the data of interest:\n",
      "        t =   -2000.00 ...    1995.00 ms (16140)\n",
      "        0 CTF compensation matrices available\n",
      "        nave = 12 - aspect type = 100\n",
      "No projector specified for this dataset. Please consider the method self.add_proj.\n",
      "Loaded Evoked data is baseline-corrected (baseline: [-1.3, -1] sec)\n",
      "Reading F:\\Documents\\Science\\MirRevAdaptEEG\\data\\eeg\\p019\\lrp\\p019_EarlyLate_leftmoves_aln_rot_blockall-ave.fif ...\n",
      "    Found the data of interest:\n",
      "        t =   -2000.00 ...    1995.00 ms (16140)\n",
      "        0 CTF compensation matrices available\n",
      "        nave = 12 - aspect type = 100\n",
      "No projector specified for this dataset. Please consider the method self.add_proj.\n",
      "Loaded Evoked data is baseline-corrected (baseline: [-1.3, -1] sec)\n",
      "Reading F:\\Documents\\Science\\MirRevAdaptEEG\\data\\eeg\\p024\\lrp\\p024_EarlyLate_leftmoves_aln_rot_blockall-ave.fif ...\n",
      "    Found the data of interest:\n",
      "        t =   -2000.00 ...    1995.00 ms (16140)\n",
      "        0 CTF compensation matrices available\n",
      "        nave = 12 - aspect type = 100\n",
      "No projector specified for this dataset. Please consider the method self.add_proj.\n",
      "Loaded Evoked data is baseline-corrected (baseline: [-1.3, -1] sec)\n",
      "Reading F:\\Documents\\Science\\MirRevAdaptEEG\\data\\eeg\\p025\\lrp\\p025_EarlyLate_leftmoves_aln_rot_blockall-ave.fif ...\n",
      "    Found the data of interest:\n",
      "        t =   -2000.00 ...    1995.00 ms (16140)\n",
      "        0 CTF compensation matrices available\n",
      "        nave = 12 - aspect type = 100\n",
      "No projector specified for this dataset. Please consider the method self.add_proj.\n",
      "Loaded Evoked data is baseline-corrected (baseline: [-1.3, -1] sec)\n",
      "Reading F:\\Documents\\Science\\MirRevAdaptEEG\\data\\eeg\\p026\\lrp\\p026_EarlyLate_leftmoves_aln_rot_blockall-ave.fif ...\n",
      "    Found the data of interest:\n",
      "        t =   -2000.00 ...    1995.00 ms (16140)\n",
      "        0 CTF compensation matrices available\n",
      "        nave = 12 - aspect type = 100\n",
      "No projector specified for this dataset. Please consider the method self.add_proj.\n",
      "Loaded Evoked data is baseline-corrected (baseline: [-1.3, -1] sec)\n"
     ]
    },
    {
     "name": "stdout",
     "output_type": "stream",
     "text": [
      "Reading F:\\Documents\\Science\\MirRevAdaptEEG\\data\\eeg\\p027\\lrp\\p027_EarlyLate_leftmoves_aln_rot_blockall-ave.fif ...\n",
      "    Found the data of interest:\n",
      "        t =   -2000.00 ...    1995.00 ms (16140)\n",
      "        0 CTF compensation matrices available\n",
      "        nave = 12 - aspect type = 100\n",
      "No projector specified for this dataset. Please consider the method self.add_proj.\n",
      "Loaded Evoked data is baseline-corrected (baseline: [-1.3, -1] sec)\n",
      "Identifying common channels ...\n",
      "Reading F:\\Documents\\Science\\MirRevAdaptEEG\\data\\eeg\\p004\\lrp\\p004_EarlyLate_rightmoves_aln_mir_blockall-ave.fif ...\n",
      "    Found the data of interest:\n",
      "        t =   -2000.00 ...    1995.00 ms (16140)\n",
      "        0 CTF compensation matrices available\n",
      "        nave = 12 - aspect type = 100\n",
      "No projector specified for this dataset. Please consider the method self.add_proj.\n",
      "Loaded Evoked data is baseline-corrected (baseline: [-1.3, -1] sec)\n",
      "Reading F:\\Documents\\Science\\MirRevAdaptEEG\\data\\eeg\\p005\\lrp\\p005_EarlyLate_rightmoves_aln_mir_blockall-ave.fif ...\n",
      "    Found the data of interest:\n",
      "        t =   -2000.00 ...    1995.00 ms (16140)\n",
      "        0 CTF compensation matrices available\n",
      "        nave = 12 - aspect type = 100\n",
      "No projector specified for this dataset. Please consider the method self.add_proj.\n",
      "Loaded Evoked data is baseline-corrected (baseline: [-1.3, -1] sec)\n",
      "Reading F:\\Documents\\Science\\MirRevAdaptEEG\\data\\eeg\\p006\\lrp\\p006_EarlyLate_rightmoves_aln_mir_blockall-ave.fif ...\n",
      "    Found the data of interest:\n",
      "        t =   -2000.00 ...    1995.00 ms (16140)\n",
      "        0 CTF compensation matrices available\n",
      "        nave = 12 - aspect type = 100\n",
      "No projector specified for this dataset. Please consider the method self.add_proj.\n",
      "Loaded Evoked data is baseline-corrected (baseline: [-1.3, -1] sec)\n",
      "Reading F:\\Documents\\Science\\MirRevAdaptEEG\\data\\eeg\\p007\\lrp\\p007_EarlyLate_rightmoves_aln_mir_blockall-ave.fif ...\n",
      "    Found the data of interest:\n",
      "        t =   -2000.00 ...    1995.00 ms (16140)\n",
      "        0 CTF compensation matrices available\n",
      "        nave = 12 - aspect type = 100\n",
      "No projector specified for this dataset. Please consider the method self.add_proj.\n",
      "Loaded Evoked data is baseline-corrected (baseline: [-1.3, -1] sec)\n",
      "Reading F:\\Documents\\Science\\MirRevAdaptEEG\\data\\eeg\\p012\\lrp\\p012_EarlyLate_rightmoves_aln_mir_blockall-ave.fif ...\n",
      "    Found the data of interest:\n",
      "        t =   -2000.00 ...    1995.00 ms (16140)\n",
      "        0 CTF compensation matrices available\n",
      "        nave = 12 - aspect type = 100\n",
      "No projector specified for this dataset. Please consider the method self.add_proj.\n",
      "Loaded Evoked data is baseline-corrected (baseline: [-1.3, -1] sec)\n",
      "Reading F:\\Documents\\Science\\MirRevAdaptEEG\\data\\eeg\\p013\\lrp\\p013_EarlyLate_rightmoves_aln_mir_blockall-ave.fif ...\n",
      "    Found the data of interest:\n",
      "        t =   -2000.00 ...    1995.00 ms (16140)\n",
      "        0 CTF compensation matrices available\n",
      "        nave = 12 - aspect type = 100\n",
      "No projector specified for this dataset. Please consider the method self.add_proj.\n",
      "Loaded Evoked data is baseline-corrected (baseline: [-1.3, -1] sec)\n",
      "Reading F:\\Documents\\Science\\MirRevAdaptEEG\\data\\eeg\\p014\\lrp\\p014_EarlyLate_rightmoves_aln_mir_blockall-ave.fif ...\n",
      "    Found the data of interest:\n",
      "        t =   -2000.00 ...    1995.00 ms (16140)\n",
      "        0 CTF compensation matrices available\n",
      "        nave = 12 - aspect type = 100\n",
      "No projector specified for this dataset. Please consider the method self.add_proj.\n",
      "Loaded Evoked data is baseline-corrected (baseline: [-1.3, -1] sec)\n",
      "Reading F:\\Documents\\Science\\MirRevAdaptEEG\\data\\eeg\\p015\\lrp\\p015_EarlyLate_rightmoves_aln_mir_blockall-ave.fif ...\n",
      "    Found the data of interest:\n",
      "        t =   -2000.00 ...    1995.00 ms (16140)\n",
      "        0 CTF compensation matrices available\n",
      "        nave = 12 - aspect type = 100\n",
      "No projector specified for this dataset. Please consider the method self.add_proj.\n",
      "Loaded Evoked data is baseline-corrected (baseline: [-1.3, -1] sec)\n",
      "Reading F:\\Documents\\Science\\MirRevAdaptEEG\\data\\eeg\\p020\\lrp\\p020_EarlyLate_rightmoves_aln_mir_blockall-ave.fif ...\n",
      "    Found the data of interest:\n",
      "        t =   -2000.00 ...    1995.00 ms (16140)\n",
      "        0 CTF compensation matrices available\n",
      "        nave = 12 - aspect type = 100\n",
      "No projector specified for this dataset. Please consider the method self.add_proj.\n",
      "Loaded Evoked data is baseline-corrected (baseline: [-1.3, -1] sec)\n",
      "Reading F:\\Documents\\Science\\MirRevAdaptEEG\\data\\eeg\\p021\\lrp\\p021_EarlyLate_rightmoves_aln_mir_blockall-ave.fif ...\n",
      "    Found the data of interest:\n",
      "        t =   -2000.00 ...    1995.00 ms (16140)\n",
      "        0 CTF compensation matrices available\n",
      "        nave = 12 - aspect type = 100\n",
      "No projector specified for this dataset. Please consider the method self.add_proj.\n",
      "Loaded Evoked data is baseline-corrected (baseline: [-1.3, -1] sec)\n",
      "Reading F:\\Documents\\Science\\MirRevAdaptEEG\\data\\eeg\\p022\\lrp\\p022_EarlyLate_rightmoves_aln_mir_blockall-ave.fif ...\n",
      "    Found the data of interest:\n",
      "        t =   -2000.00 ...    1995.00 ms (16140)\n",
      "        0 CTF compensation matrices available\n",
      "        nave = 12 - aspect type = 100\n",
      "No projector specified for this dataset. Please consider the method self.add_proj.\n",
      "Loaded Evoked data is baseline-corrected (baseline: [-1.3, -1] sec)\n",
      "Reading F:\\Documents\\Science\\MirRevAdaptEEG\\data\\eeg\\p023\\lrp\\p023_EarlyLate_rightmoves_aln_mir_blockall-ave.fif ...\n",
      "    Found the data of interest:\n",
      "        t =   -2000.00 ...    1995.00 ms (16140)\n",
      "        0 CTF compensation matrices available\n",
      "        nave = 12 - aspect type = 100\n",
      "No projector specified for this dataset. Please consider the method self.add_proj.\n",
      "Loaded Evoked data is baseline-corrected (baseline: [-1.3, -1] sec)\n",
      "Reading F:\\Documents\\Science\\MirRevAdaptEEG\\data\\eeg\\p028\\lrp\\p028_EarlyLate_rightmoves_aln_mir_blockall-ave.fif ...\n",
      "    Found the data of interest:\n",
      "        t =   -2000.00 ...    1995.00 ms (16140)\n",
      "        0 CTF compensation matrices available\n",
      "        nave = 12 - aspect type = 100\n",
      "No projector specified for this dataset. Please consider the method self.add_proj.\n",
      "Loaded Evoked data is baseline-corrected (baseline: [-1.3, -1] sec)\n",
      "Reading F:\\Documents\\Science\\MirRevAdaptEEG\\data\\eeg\\p029\\lrp\\p029_EarlyLate_rightmoves_aln_mir_blockall-ave.fif ...\n",
      "    Found the data of interest:\n",
      "        t =   -2000.00 ...    1995.00 ms (16140)\n",
      "        0 CTF compensation matrices available\n",
      "        nave = 12 - aspect type = 100\n",
      "No projector specified for this dataset. Please consider the method self.add_proj.\n",
      "Loaded Evoked data is baseline-corrected (baseline: [-1.3, -1] sec)\n",
      "Reading F:\\Documents\\Science\\MirRevAdaptEEG\\data\\eeg\\p030\\lrp\\p030_EarlyLate_rightmoves_aln_mir_blockall-ave.fif ...\n",
      "    Found the data of interest:\n",
      "        t =   -2000.00 ...    1995.00 ms (16140)\n",
      "        0 CTF compensation matrices available\n",
      "        nave = 12 - aspect type = 100\n",
      "No projector specified for this dataset. Please consider the method self.add_proj.\n",
      "Loaded Evoked data is baseline-corrected (baseline: [-1.3, -1] sec)\n",
      "Reading F:\\Documents\\Science\\MirRevAdaptEEG\\data\\eeg\\p031\\lrp\\p031_EarlyLate_rightmoves_aln_mir_blockall-ave.fif ...\n",
      "    Found the data of interest:\n",
      "        t =   -2000.00 ...    1995.00 ms (16140)\n",
      "        0 CTF compensation matrices available\n",
      "        nave = 12 - aspect type = 100\n",
      "No projector specified for this dataset. Please consider the method self.add_proj.\n",
      "Loaded Evoked data is baseline-corrected (baseline: [-1.3, -1] sec)\n",
      "Identifying common channels ...\n",
      "Reading F:\\Documents\\Science\\MirRevAdaptEEG\\data\\eeg\\p004\\lrp\\p004_EarlyLate_leftmoves_aln_mir_blockall-ave.fif ...\n",
      "    Found the data of interest:\n",
      "        t =   -2000.00 ...    1995.00 ms (16140)\n",
      "        0 CTF compensation matrices available\n",
      "        nave = 12 - aspect type = 100\n",
      "No projector specified for this dataset. Please consider the method self.add_proj.\n",
      "Loaded Evoked data is baseline-corrected (baseline: [-1.3, -1] sec)\n",
      "Reading F:\\Documents\\Science\\MirRevAdaptEEG\\data\\eeg\\p005\\lrp\\p005_EarlyLate_leftmoves_aln_mir_blockall-ave.fif ...\n",
      "    Found the data of interest:\n",
      "        t =   -2000.00 ...    1995.00 ms (16140)\n",
      "        0 CTF compensation matrices available\n",
      "        nave = 12 - aspect type = 100\n",
      "No projector specified for this dataset. Please consider the method self.add_proj.\n"
     ]
    },
    {
     "name": "stdout",
     "output_type": "stream",
     "text": [
      "Loaded Evoked data is baseline-corrected (baseline: [-1.3, -1] sec)\n",
      "Reading F:\\Documents\\Science\\MirRevAdaptEEG\\data\\eeg\\p006\\lrp\\p006_EarlyLate_leftmoves_aln_mir_blockall-ave.fif ...\n",
      "    Found the data of interest:\n",
      "        t =   -2000.00 ...    1995.00 ms (16140)\n",
      "        0 CTF compensation matrices available\n",
      "        nave = 12 - aspect type = 100\n",
      "No projector specified for this dataset. Please consider the method self.add_proj.\n",
      "Loaded Evoked data is baseline-corrected (baseline: [-1.3, -1] sec)\n",
      "Reading F:\\Documents\\Science\\MirRevAdaptEEG\\data\\eeg\\p007\\lrp\\p007_EarlyLate_leftmoves_aln_mir_blockall-ave.fif ...\n",
      "    Found the data of interest:\n",
      "        t =   -2000.00 ...    1995.00 ms (16140)\n",
      "        0 CTF compensation matrices available\n",
      "        nave = 12 - aspect type = 100\n",
      "No projector specified for this dataset. Please consider the method self.add_proj.\n",
      "Loaded Evoked data is baseline-corrected (baseline: [-1.3, -1] sec)\n",
      "Reading F:\\Documents\\Science\\MirRevAdaptEEG\\data\\eeg\\p012\\lrp\\p012_EarlyLate_leftmoves_aln_mir_blockall-ave.fif ...\n",
      "    Found the data of interest:\n",
      "        t =   -2000.00 ...    1995.00 ms (16140)\n",
      "        0 CTF compensation matrices available\n",
      "        nave = 12 - aspect type = 100\n",
      "No projector specified for this dataset. Please consider the method self.add_proj.\n",
      "Loaded Evoked data is baseline-corrected (baseline: [-1.3, -1] sec)\n",
      "Reading F:\\Documents\\Science\\MirRevAdaptEEG\\data\\eeg\\p013\\lrp\\p013_EarlyLate_leftmoves_aln_mir_blockall-ave.fif ...\n",
      "    Found the data of interest:\n",
      "        t =   -2000.00 ...    1995.00 ms (16140)\n",
      "        0 CTF compensation matrices available\n",
      "        nave = 12 - aspect type = 100\n",
      "No projector specified for this dataset. Please consider the method self.add_proj.\n",
      "Loaded Evoked data is baseline-corrected (baseline: [-1.3, -1] sec)\n",
      "Reading F:\\Documents\\Science\\MirRevAdaptEEG\\data\\eeg\\p014\\lrp\\p014_EarlyLate_leftmoves_aln_mir_blockall-ave.fif ...\n",
      "    Found the data of interest:\n",
      "        t =   -2000.00 ...    1995.00 ms (16140)\n",
      "        0 CTF compensation matrices available\n",
      "        nave = 12 - aspect type = 100\n",
      "No projector specified for this dataset. Please consider the method self.add_proj.\n",
      "Loaded Evoked data is baseline-corrected (baseline: [-1.3, -1] sec)\n",
      "Reading F:\\Documents\\Science\\MirRevAdaptEEG\\data\\eeg\\p015\\lrp\\p015_EarlyLate_leftmoves_aln_mir_blockall-ave.fif ...\n",
      "    Found the data of interest:\n",
      "        t =   -2000.00 ...    1995.00 ms (16140)\n",
      "        0 CTF compensation matrices available\n",
      "        nave = 12 - aspect type = 100\n",
      "No projector specified for this dataset. Please consider the method self.add_proj.\n",
      "Loaded Evoked data is baseline-corrected (baseline: [-1.3, -1] sec)\n",
      "Reading F:\\Documents\\Science\\MirRevAdaptEEG\\data\\eeg\\p020\\lrp\\p020_EarlyLate_leftmoves_aln_mir_blockall-ave.fif ...\n",
      "    Found the data of interest:\n",
      "        t =   -2000.00 ...    1995.00 ms (16140)\n",
      "        0 CTF compensation matrices available\n",
      "        nave = 12 - aspect type = 100\n",
      "No projector specified for this dataset. Please consider the method self.add_proj.\n",
      "Loaded Evoked data is baseline-corrected (baseline: [-1.3, -1] sec)\n",
      "Reading F:\\Documents\\Science\\MirRevAdaptEEG\\data\\eeg\\p021\\lrp\\p021_EarlyLate_leftmoves_aln_mir_blockall-ave.fif ...\n",
      "    Found the data of interest:\n",
      "        t =   -2000.00 ...    1995.00 ms (16140)\n",
      "        0 CTF compensation matrices available\n",
      "        nave = 12 - aspect type = 100\n",
      "No projector specified for this dataset. Please consider the method self.add_proj.\n",
      "Loaded Evoked data is baseline-corrected (baseline: [-1.3, -1] sec)\n",
      "Reading F:\\Documents\\Science\\MirRevAdaptEEG\\data\\eeg\\p022\\lrp\\p022_EarlyLate_leftmoves_aln_mir_blockall-ave.fif ...\n",
      "    Found the data of interest:\n",
      "        t =   -2000.00 ...    1995.00 ms (16140)\n",
      "        0 CTF compensation matrices available\n",
      "        nave = 12 - aspect type = 100\n",
      "No projector specified for this dataset. Please consider the method self.add_proj.\n",
      "Loaded Evoked data is baseline-corrected (baseline: [-1.3, -1] sec)\n",
      "Reading F:\\Documents\\Science\\MirRevAdaptEEG\\data\\eeg\\p023\\lrp\\p023_EarlyLate_leftmoves_aln_mir_blockall-ave.fif ...\n",
      "    Found the data of interest:\n",
      "        t =   -2000.00 ...    1995.00 ms (16140)\n",
      "        0 CTF compensation matrices available\n",
      "        nave = 12 - aspect type = 100\n",
      "No projector specified for this dataset. Please consider the method self.add_proj.\n",
      "Loaded Evoked data is baseline-corrected (baseline: [-1.3, -1] sec)\n",
      "Reading F:\\Documents\\Science\\MirRevAdaptEEG\\data\\eeg\\p028\\lrp\\p028_EarlyLate_leftmoves_aln_mir_blockall-ave.fif ...\n",
      "    Found the data of interest:\n",
      "        t =   -2000.00 ...    1995.00 ms (16140)\n",
      "        0 CTF compensation matrices available\n",
      "        nave = 12 - aspect type = 100\n",
      "No projector specified for this dataset. Please consider the method self.add_proj.\n",
      "Loaded Evoked data is baseline-corrected (baseline: [-1.3, -1] sec)\n",
      "Reading F:\\Documents\\Science\\MirRevAdaptEEG\\data\\eeg\\p029\\lrp\\p029_EarlyLate_leftmoves_aln_mir_blockall-ave.fif ...\n",
      "    Found the data of interest:\n",
      "        t =   -2000.00 ...    1995.00 ms (16140)\n",
      "        0 CTF compensation matrices available\n",
      "        nave = 12 - aspect type = 100\n",
      "No projector specified for this dataset. Please consider the method self.add_proj.\n",
      "Loaded Evoked data is baseline-corrected (baseline: [-1.3, -1] sec)\n",
      "Reading F:\\Documents\\Science\\MirRevAdaptEEG\\data\\eeg\\p030\\lrp\\p030_EarlyLate_leftmoves_aln_mir_blockall-ave.fif ...\n",
      "    Found the data of interest:\n",
      "        t =   -2000.00 ...    1995.00 ms (16140)\n",
      "        0 CTF compensation matrices available\n",
      "        nave = 12 - aspect type = 100\n",
      "No projector specified for this dataset. Please consider the method self.add_proj.\n",
      "Loaded Evoked data is baseline-corrected (baseline: [-1.3, -1] sec)\n",
      "Reading F:\\Documents\\Science\\MirRevAdaptEEG\\data\\eeg\\p031\\lrp\\p031_EarlyLate_leftmoves_aln_mir_blockall-ave.fif ...\n",
      "    Found the data of interest:\n",
      "        t =   -2000.00 ...    1995.00 ms (16140)\n",
      "        0 CTF compensation matrices available\n",
      "        nave = 12 - aspect type = 100\n",
      "No projector specified for this dataset. Please consider the method self.add_proj.\n",
      "Loaded Evoked data is baseline-corrected (baseline: [-1.3, -1] sec)\n",
      "Identifying common channels ...\n"
     ]
    }
   ],
   "source": [
    "#get grand averages - ALIGNED\n",
    "root_directory = root\n",
    "data_directory = os.path.join(root_directory, 'data/eeg/')\n",
    "\n",
    "#read in evoked object\n",
    "conditionnames = ['rightmoves', 'leftmoves']\n",
    "\n",
    "#aligned\n",
    "for condition in range(0, len(conditionnames)):\n",
    "    flist = []\n",
    "    evoked_list = []\n",
    "    for pp in participants:\n",
    "        id_directory = os.path.join(data_directory, 'p%03d/' % participants[pp])\n",
    "        pp_directory = os.path.join(id_directory, erps)\n",
    "        fname = os.path.join(pp_directory, 'p%03d_EarlyLate_%s_%s_block%s-ave.fif' % (participants[pp], conditionnames[condition], 'aligned', 'all'))\n",
    "        evoked = mne.read_evokeds(fname)\n",
    "        flist.append(evoked)\n",
    "        evoked = flist[pp][0]\n",
    "        evoked_list.append(evoked)\n",
    "    if condition == 0:\n",
    "        aln_right_grand = mne.grand_average(evoked_list)\n",
    "        aln_right_flist = evoked_list\n",
    "    elif condition == 1:\n",
    "        aln_left_grand = mne.grand_average(evoked_list)\n",
    "        aln_left_flist = evoked_list\n",
    "        \n",
    "#aligned for rotation\n",
    "for condition in range(0, len(conditionnames)):\n",
    "    flist = []\n",
    "    evoked_list = []\n",
    "    for pp in list(range(0,len(aln_rot_participants))):\n",
    "        id_directory = os.path.join(data_directory, 'p%03d/' % aln_rot_participants[pp])\n",
    "        pp_directory = os.path.join(id_directory, erps)\n",
    "        fname = os.path.join(pp_directory, 'p%03d_EarlyLate_%s_%s_block%s-ave.fif' % (aln_rot_participants[pp], conditionnames[condition], 'aln_rot', 'all'))\n",
    "        evoked = mne.read_evokeds(fname)\n",
    "        flist.append(evoked)\n",
    "        evoked = flist[pp][0]\n",
    "        evoked_list.append(evoked)\n",
    "    if condition == 0:\n",
    "        alnrot_right_grand = mne.grand_average(evoked_list)\n",
    "        alnrot_right_flist = evoked_list\n",
    "    elif condition == 1:\n",
    "        alnrot_left_grand = mne.grand_average(evoked_list)\n",
    "        alnrot_left_flist = evoked_list\n",
    "        \n",
    "#aligned for mirror\n",
    "for condition in range(0, len(conditionnames)):\n",
    "    flist = []\n",
    "    evoked_list = []\n",
    "    for pp in list(range(0,len(aln_rot_participants))):\n",
    "        id_directory = os.path.join(data_directory, 'p%03d/' % aln_mir_participants[pp])\n",
    "        pp_directory = os.path.join(id_directory, erps)\n",
    "        fname = os.path.join(pp_directory, 'p%03d_EarlyLate_%s_%s_block%s-ave.fif' % (aln_mir_participants[pp], conditionnames[condition], 'aln_mir', 'all'))\n",
    "        evoked = mne.read_evokeds(fname)\n",
    "        flist.append(evoked)\n",
    "        evoked = flist[pp][0]\n",
    "        evoked_list.append(evoked)\n",
    "    if condition == 0:\n",
    "        alnmir_right_grand = mne.grand_average(evoked_list)\n",
    "        alnmir_right_flist = evoked_list\n",
    "    elif condition == 1:\n",
    "        alnmir_left_grand = mne.grand_average(evoked_list)\n",
    "        alnmir_left_flist = evoked_list"
   ]
  },
  {
   "cell_type": "code",
   "execution_count": 10,
   "id": "bddd3d6d",
   "metadata": {},
   "outputs": [
    {
     "name": "stdout",
     "output_type": "stream",
     "text": [
      "Reading F:\\Documents\\Science\\MirRevAdaptEEG\\data\\eeg\\p000\\lrp\\mra_p000_run0-epo.fif ...\n",
      "    Found the data of interest:\n",
      "        t =   -2000.00 ...    1995.00 ms\n",
      "        0 CTF compensation matrices available\n",
      "Not setting metadata\n",
      "420 matching events found\n",
      "No baseline correction applied\n",
      "0 projection items activated\n",
      "Applying baseline correction (mode: mean)\n",
      "Overwriting existing file.\n",
      "Setting up low-pass filter at 30 Hz\n",
      "\n",
      "FIR filter parameters\n",
      "---------------------\n",
      "Designing a one-pass, zero-phase, non-causal lowpass filter:\n",
      "- Windowed time-domain design (firwin) method\n",
      "- Hamming window with 0.0194 passband ripple and 53 dB stopband attenuation\n",
      "- Upper passband edge: 30.00 Hz\n",
      "- Upper transition bandwidth: 7.50 Hz (-6 dB cutoff frequency: 33.75 Hz)\n",
      "- Filter length: 89 samples (0.445 sec)\n",
      "\n"
     ]
    },
    {
     "name": "stderr",
     "output_type": "stream",
     "text": [
      "[Parallel(n_jobs=1)]: Using backend SequentialBackend with 1 concurrent workers.\n",
      "[Parallel(n_jobs=1)]: Done   1 out of   1 | elapsed:    0.0s remaining:    0.0s\n",
      "[Parallel(n_jobs=1)]: Done   2 out of   2 | elapsed:    0.0s remaining:    0.0s\n",
      "[Parallel(n_jobs=1)]: Done   3 out of   3 | elapsed:    0.0s remaining:    0.0s\n",
      "[Parallel(n_jobs=1)]: Done   4 out of   4 | elapsed:    0.0s remaining:    0.0s\n"
     ]
    },
    {
     "name": "stdout",
     "output_type": "stream",
     "text": [
      "Overwriting existing file.\n",
      "Overwriting existing file.\n",
      "Setting up low-pass filter at 30 Hz\n",
      "\n",
      "FIR filter parameters\n",
      "---------------------\n",
      "Designing a one-pass, zero-phase, non-causal lowpass filter:\n",
      "- Windowed time-domain design (firwin) method\n",
      "- Hamming window with 0.0194 passband ripple and 53 dB stopband attenuation\n",
      "- Upper passband edge: 30.00 Hz\n",
      "- Upper transition bandwidth: 7.50 Hz (-6 dB cutoff frequency: 33.75 Hz)\n",
      "- Filter length: 89 samples (0.445 sec)\n",
      "\n"
     ]
    },
    {
     "name": "stderr",
     "output_type": "stream",
     "text": [
      "[Parallel(n_jobs=1)]: Done 1472 out of 1472 | elapsed:    0.4s finished\n",
      "[Parallel(n_jobs=1)]: Using backend SequentialBackend with 1 concurrent workers.\n",
      "[Parallel(n_jobs=1)]: Done   1 out of   1 | elapsed:    0.0s remaining:    0.0s\n",
      "[Parallel(n_jobs=1)]: Done   2 out of   2 | elapsed:    0.0s remaining:    0.0s\n",
      "[Parallel(n_jobs=1)]: Done   3 out of   3 | elapsed:    0.0s remaining:    0.0s\n",
      "[Parallel(n_jobs=1)]: Done   4 out of   4 | elapsed:    0.0s remaining:    0.0s\n"
     ]
    },
    {
     "name": "stdout",
     "output_type": "stream",
     "text": [
      "Overwriting existing file.\n",
      "Overwriting existing file.\n",
      "Setting up low-pass filter at 30 Hz\n",
      "\n",
      "FIR filter parameters\n",
      "---------------------\n",
      "Designing a one-pass, zero-phase, non-causal lowpass filter:\n",
      "- Windowed time-domain design (firwin) method\n",
      "- Hamming window with 0.0194 passband ripple and 53 dB stopband attenuation\n",
      "- Upper passband edge: 30.00 Hz\n",
      "- Upper transition bandwidth: 7.50 Hz (-6 dB cutoff frequency: 33.75 Hz)\n",
      "- Filter length: 89 samples (0.445 sec)\n",
      "\n"
     ]
    },
    {
     "name": "stderr",
     "output_type": "stream",
     "text": [
      "[Parallel(n_jobs=1)]: Done 1408 out of 1408 | elapsed:    0.4s finished\n",
      "[Parallel(n_jobs=1)]: Using backend SequentialBackend with 1 concurrent workers.\n",
      "[Parallel(n_jobs=1)]: Done   1 out of   1 | elapsed:    0.0s remaining:    0.0s\n",
      "[Parallel(n_jobs=1)]: Done   2 out of   2 | elapsed:    0.0s remaining:    0.0s\n",
      "[Parallel(n_jobs=1)]: Done   3 out of   3 | elapsed:    0.0s remaining:    0.0s\n",
      "[Parallel(n_jobs=1)]: Done   4 out of   4 | elapsed:    0.0s remaining:    0.0s\n"
     ]
    },
    {
     "name": "stdout",
     "output_type": "stream",
     "text": [
      "Overwriting existing file.\n",
      "Overwriting existing file.\n",
      "Setting up low-pass filter at 30 Hz\n",
      "\n",
      "FIR filter parameters\n",
      "---------------------\n",
      "Designing a one-pass, zero-phase, non-causal lowpass filter:\n",
      "- Windowed time-domain design (firwin) method\n",
      "- Hamming window with 0.0194 passband ripple and 53 dB stopband attenuation\n",
      "- Upper passband edge: 30.00 Hz\n",
      "- Upper transition bandwidth: 7.50 Hz (-6 dB cutoff frequency: 33.75 Hz)\n",
      "- Filter length: 89 samples (0.445 sec)\n",
      "\n"
     ]
    },
    {
     "name": "stderr",
     "output_type": "stream",
     "text": [
      "[Parallel(n_jobs=1)]: Done 1408 out of 1408 | elapsed:    0.4s finished\n",
      "[Parallel(n_jobs=1)]: Using backend SequentialBackend with 1 concurrent workers.\n",
      "[Parallel(n_jobs=1)]: Done   1 out of   1 | elapsed:    0.0s remaining:    0.0s\n",
      "[Parallel(n_jobs=1)]: Done   2 out of   2 | elapsed:    0.0s remaining:    0.0s\n",
      "[Parallel(n_jobs=1)]: Done   3 out of   3 | elapsed:    0.0s remaining:    0.0s\n",
      "[Parallel(n_jobs=1)]: Done   4 out of   4 | elapsed:    0.0s remaining:    0.0s\n"
     ]
    },
    {
     "name": "stdout",
     "output_type": "stream",
     "text": [
      "Overwriting existing file.\n",
      "Reading F:\\Documents\\Science\\MirRevAdaptEEG\\data\\eeg\\p001\\lrp\\mra_p001_run0-epo.fif ...\n",
      "    Found the data of interest:\n",
      "        t =   -2000.00 ...    1995.00 ms\n",
      "        0 CTF compensation matrices available\n"
     ]
    },
    {
     "name": "stderr",
     "output_type": "stream",
     "text": [
      "[Parallel(n_jobs=1)]: Done 1472 out of 1472 | elapsed:    0.4s finished\n"
     ]
    },
    {
     "name": "stdout",
     "output_type": "stream",
     "text": [
      "Not setting metadata\n",
      "420 matching events found\n",
      "No baseline correction applied\n",
      "0 projection items activated\n",
      "Applying baseline correction (mode: mean)\n",
      "Overwriting existing file.\n",
      "Setting up low-pass filter at 30 Hz\n",
      "\n",
      "FIR filter parameters\n",
      "---------------------\n",
      "Designing a one-pass, zero-phase, non-causal lowpass filter:\n",
      "- Windowed time-domain design (firwin) method\n",
      "- Hamming window with 0.0194 passband ripple and 53 dB stopband attenuation\n",
      "- Upper passband edge: 30.00 Hz\n",
      "- Upper transition bandwidth: 7.50 Hz (-6 dB cutoff frequency: 33.75 Hz)\n",
      "- Filter length: 89 samples (0.445 sec)\n",
      "\n"
     ]
    },
    {
     "name": "stderr",
     "output_type": "stream",
     "text": [
      "[Parallel(n_jobs=1)]: Using backend SequentialBackend with 1 concurrent workers.\n",
      "[Parallel(n_jobs=1)]: Done   1 out of   1 | elapsed:    0.0s remaining:    0.0s\n",
      "[Parallel(n_jobs=1)]: Done   2 out of   2 | elapsed:    0.0s remaining:    0.0s\n",
      "[Parallel(n_jobs=1)]: Done   3 out of   3 | elapsed:    0.0s remaining:    0.0s\n",
      "[Parallel(n_jobs=1)]: Done   4 out of   4 | elapsed:    0.0s remaining:    0.0s\n"
     ]
    },
    {
     "name": "stdout",
     "output_type": "stream",
     "text": [
      "Overwriting existing file.\n",
      "Overwriting existing file.\n",
      "Setting up low-pass filter at 30 Hz\n",
      "\n",
      "FIR filter parameters\n",
      "---------------------\n",
      "Designing a one-pass, zero-phase, non-causal lowpass filter:\n",
      "- Windowed time-domain design (firwin) method\n",
      "- Hamming window with 0.0194 passband ripple and 53 dB stopband attenuation\n",
      "- Upper passband edge: 30.00 Hz\n",
      "- Upper transition bandwidth: 7.50 Hz (-6 dB cutoff frequency: 33.75 Hz)\n",
      "- Filter length: 89 samples (0.445 sec)\n",
      "\n"
     ]
    },
    {
     "name": "stderr",
     "output_type": "stream",
     "text": [
      "[Parallel(n_jobs=1)]: Done 1472 out of 1472 | elapsed:    0.4s finished\n",
      "[Parallel(n_jobs=1)]: Using backend SequentialBackend with 1 concurrent workers.\n",
      "[Parallel(n_jobs=1)]: Done   1 out of   1 | elapsed:    0.0s remaining:    0.0s\n",
      "[Parallel(n_jobs=1)]: Done   2 out of   2 | elapsed:    0.0s remaining:    0.0s\n",
      "[Parallel(n_jobs=1)]: Done   3 out of   3 | elapsed:    0.0s remaining:    0.0s\n",
      "[Parallel(n_jobs=1)]: Done   4 out of   4 | elapsed:    0.0s remaining:    0.0s\n"
     ]
    },
    {
     "name": "stdout",
     "output_type": "stream",
     "text": [
      "Overwriting existing file.\n",
      "Overwriting existing file.\n",
      "Setting up low-pass filter at 30 Hz\n",
      "\n",
      "FIR filter parameters\n",
      "---------------------\n",
      "Designing a one-pass, zero-phase, non-causal lowpass filter:\n",
      "- Windowed time-domain design (firwin) method\n",
      "- Hamming window with 0.0194 passband ripple and 53 dB stopband attenuation\n",
      "- Upper passband edge: 30.00 Hz\n",
      "- Upper transition bandwidth: 7.50 Hz (-6 dB cutoff frequency: 33.75 Hz)\n",
      "- Filter length: 89 samples (0.445 sec)\n",
      "\n"
     ]
    },
    {
     "name": "stderr",
     "output_type": "stream",
     "text": [
      "[Parallel(n_jobs=1)]: Done 1408 out of 1408 | elapsed:    0.4s finished\n",
      "[Parallel(n_jobs=1)]: Using backend SequentialBackend with 1 concurrent workers.\n",
      "[Parallel(n_jobs=1)]: Done   1 out of   1 | elapsed:    0.0s remaining:    0.0s\n",
      "[Parallel(n_jobs=1)]: Done   2 out of   2 | elapsed:    0.0s remaining:    0.0s\n",
      "[Parallel(n_jobs=1)]: Done   3 out of   3 | elapsed:    0.0s remaining:    0.0s\n",
      "[Parallel(n_jobs=1)]: Done   4 out of   4 | elapsed:    0.0s remaining:    0.0s\n"
     ]
    },
    {
     "name": "stdout",
     "output_type": "stream",
     "text": [
      "Overwriting existing file.\n",
      "Overwriting existing file.\n",
      "Setting up low-pass filter at 30 Hz\n",
      "\n",
      "FIR filter parameters\n",
      "---------------------\n",
      "Designing a one-pass, zero-phase, non-causal lowpass filter:\n",
      "- Windowed time-domain design (firwin) method\n",
      "- Hamming window with 0.0194 passband ripple and 53 dB stopband attenuation\n",
      "- Upper passband edge: 30.00 Hz\n",
      "- Upper transition bandwidth: 7.50 Hz (-6 dB cutoff frequency: 33.75 Hz)\n",
      "- Filter length: 89 samples (0.445 sec)\n",
      "\n"
     ]
    },
    {
     "name": "stderr",
     "output_type": "stream",
     "text": [
      "[Parallel(n_jobs=1)]: Done 1408 out of 1408 | elapsed:    0.4s finished\n",
      "[Parallel(n_jobs=1)]: Using backend SequentialBackend with 1 concurrent workers.\n",
      "[Parallel(n_jobs=1)]: Done   1 out of   1 | elapsed:    0.0s remaining:    0.0s\n",
      "[Parallel(n_jobs=1)]: Done   2 out of   2 | elapsed:    0.0s remaining:    0.0s\n",
      "[Parallel(n_jobs=1)]: Done   3 out of   3 | elapsed:    0.0s remaining:    0.0s\n",
      "[Parallel(n_jobs=1)]: Done   4 out of   4 | elapsed:    0.0s remaining:    0.0s\n"
     ]
    },
    {
     "name": "stdout",
     "output_type": "stream",
     "text": [
      "Overwriting existing file.\n",
      "Reading F:\\Documents\\Science\\MirRevAdaptEEG\\data\\eeg\\p002\\lrp\\mra_p002_run0-epo.fif ...\n",
      "    Found the data of interest:\n",
      "        t =   -2000.00 ...    1995.00 ms\n",
      "        0 CTF compensation matrices available\n",
      "Not setting metadata\n"
     ]
    },
    {
     "name": "stderr",
     "output_type": "stream",
     "text": [
      "[Parallel(n_jobs=1)]: Done 1472 out of 1472 | elapsed:    0.4s finished\n"
     ]
    },
    {
     "name": "stdout",
     "output_type": "stream",
     "text": [
      "419 matching events found\n",
      "No baseline correction applied\n",
      "0 projection items activated\n",
      "Applying baseline correction (mode: mean)\n",
      "Overwriting existing file.\n",
      "Setting up low-pass filter at 30 Hz\n",
      "\n",
      "FIR filter parameters\n",
      "---------------------\n",
      "Designing a one-pass, zero-phase, non-causal lowpass filter:\n",
      "- Windowed time-domain design (firwin) method\n",
      "- Hamming window with 0.0194 passband ripple and 53 dB stopband attenuation\n",
      "- Upper passband edge: 30.00 Hz\n",
      "- Upper transition bandwidth: 7.50 Hz (-6 dB cutoff frequency: 33.75 Hz)\n",
      "- Filter length: 89 samples (0.445 sec)\n",
      "\n"
     ]
    },
    {
     "name": "stderr",
     "output_type": "stream",
     "text": [
      "[Parallel(n_jobs=1)]: Using backend SequentialBackend with 1 concurrent workers.\n",
      "[Parallel(n_jobs=1)]: Done   1 out of   1 | elapsed:    0.0s remaining:    0.0s\n",
      "[Parallel(n_jobs=1)]: Done   2 out of   2 | elapsed:    0.0s remaining:    0.0s\n",
      "[Parallel(n_jobs=1)]: Done   3 out of   3 | elapsed:    0.0s remaining:    0.0s\n",
      "[Parallel(n_jobs=1)]: Done   4 out of   4 | elapsed:    0.0s remaining:    0.0s\n"
     ]
    },
    {
     "name": "stdout",
     "output_type": "stream",
     "text": [
      "Overwriting existing file.\n",
      "Overwriting existing file.\n",
      "Setting up low-pass filter at 30 Hz\n",
      "\n",
      "FIR filter parameters\n",
      "---------------------\n",
      "Designing a one-pass, zero-phase, non-causal lowpass filter:\n",
      "- Windowed time-domain design (firwin) method\n",
      "- Hamming window with 0.0194 passband ripple and 53 dB stopband attenuation\n",
      "- Upper passband edge: 30.00 Hz\n",
      "- Upper transition bandwidth: 7.50 Hz (-6 dB cutoff frequency: 33.75 Hz)\n",
      "- Filter length: 89 samples (0.445 sec)\n",
      "\n"
     ]
    },
    {
     "name": "stderr",
     "output_type": "stream",
     "text": [
      "[Parallel(n_jobs=1)]: Done 1536 out of 1536 | elapsed:    0.4s finished\n",
      "[Parallel(n_jobs=1)]: Using backend SequentialBackend with 1 concurrent workers.\n",
      "[Parallel(n_jobs=1)]: Done   1 out of   1 | elapsed:    0.0s remaining:    0.0s\n",
      "[Parallel(n_jobs=1)]: Done   2 out of   2 | elapsed:    0.0s remaining:    0.0s\n",
      "[Parallel(n_jobs=1)]: Done   3 out of   3 | elapsed:    0.0s remaining:    0.0s\n",
      "[Parallel(n_jobs=1)]: Done   4 out of   4 | elapsed:    0.0s remaining:    0.0s\n"
     ]
    },
    {
     "name": "stdout",
     "output_type": "stream",
     "text": [
      "Overwriting existing file.\n",
      "Overwriting existing file.\n",
      "Setting up low-pass filter at 30 Hz\n",
      "\n",
      "FIR filter parameters\n",
      "---------------------\n",
      "Designing a one-pass, zero-phase, non-causal lowpass filter:\n",
      "- Windowed time-domain design (firwin) method\n",
      "- Hamming window with 0.0194 passband ripple and 53 dB stopband attenuation\n",
      "- Upper passband edge: 30.00 Hz\n",
      "- Upper transition bandwidth: 7.50 Hz (-6 dB cutoff frequency: 33.75 Hz)\n",
      "- Filter length: 89 samples (0.445 sec)\n",
      "\n"
     ]
    },
    {
     "name": "stderr",
     "output_type": "stream",
     "text": [
      "[Parallel(n_jobs=1)]: Done 1344 out of 1344 | elapsed:    0.4s finished\n",
      "[Parallel(n_jobs=1)]: Using backend SequentialBackend with 1 concurrent workers.\n",
      "[Parallel(n_jobs=1)]: Done   1 out of   1 | elapsed:    0.0s remaining:    0.0s\n",
      "[Parallel(n_jobs=1)]: Done   2 out of   2 | elapsed:    0.0s remaining:    0.0s\n",
      "[Parallel(n_jobs=1)]: Done   3 out of   3 | elapsed:    0.0s remaining:    0.0s\n",
      "[Parallel(n_jobs=1)]: Done   4 out of   4 | elapsed:    0.0s remaining:    0.0s\n"
     ]
    },
    {
     "name": "stdout",
     "output_type": "stream",
     "text": [
      "Overwriting existing file.\n",
      "Overwriting existing file.\n",
      "Setting up low-pass filter at 30 Hz\n",
      "\n",
      "FIR filter parameters\n",
      "---------------------\n",
      "Designing a one-pass, zero-phase, non-causal lowpass filter:\n",
      "- Windowed time-domain design (firwin) method\n",
      "- Hamming window with 0.0194 passband ripple and 53 dB stopband attenuation\n",
      "- Upper passband edge: 30.00 Hz\n",
      "- Upper transition bandwidth: 7.50 Hz (-6 dB cutoff frequency: 33.75 Hz)\n",
      "- Filter length: 89 samples (0.445 sec)\n",
      "\n"
     ]
    },
    {
     "name": "stderr",
     "output_type": "stream",
     "text": [
      "[Parallel(n_jobs=1)]: Done 1344 out of 1344 | elapsed:    0.4s finished\n",
      "[Parallel(n_jobs=1)]: Using backend SequentialBackend with 1 concurrent workers.\n",
      "[Parallel(n_jobs=1)]: Done   1 out of   1 | elapsed:    0.0s remaining:    0.0s\n",
      "[Parallel(n_jobs=1)]: Done   2 out of   2 | elapsed:    0.0s remaining:    0.0s\n",
      "[Parallel(n_jobs=1)]: Done   3 out of   3 | elapsed:    0.0s remaining:    0.0s\n",
      "[Parallel(n_jobs=1)]: Done   4 out of   4 | elapsed:    0.0s remaining:    0.0s\n"
     ]
    },
    {
     "name": "stdout",
     "output_type": "stream",
     "text": [
      "Overwriting existing file.\n",
      "Reading F:\\Documents\\Science\\MirRevAdaptEEG\\data\\eeg\\p003\\lrp\\mra_p003_run0-epo.fif ...\n",
      "    Found the data of interest:\n",
      "        t =   -2000.00 ...    1995.00 ms\n",
      "        0 CTF compensation matrices available\n"
     ]
    },
    {
     "name": "stderr",
     "output_type": "stream",
     "text": [
      "[Parallel(n_jobs=1)]: Done 1536 out of 1536 | elapsed:    0.5s finished\n"
     ]
    },
    {
     "name": "stdout",
     "output_type": "stream",
     "text": [
      "Not setting metadata\n",
      "418 matching events found\n",
      "No baseline correction applied\n",
      "0 projection items activated\n",
      "Applying baseline correction (mode: mean)\n",
      "Overwriting existing file.\n",
      "Setting up low-pass filter at 30 Hz\n",
      "\n",
      "FIR filter parameters\n",
      "---------------------\n",
      "Designing a one-pass, zero-phase, non-causal lowpass filter:\n",
      "- Windowed time-domain design (firwin) method\n",
      "- Hamming window with 0.0194 passband ripple and 53 dB stopband attenuation\n",
      "- Upper passband edge: 30.00 Hz\n",
      "- Upper transition bandwidth: 7.50 Hz (-6 dB cutoff frequency: 33.75 Hz)\n",
      "- Filter length: 89 samples (0.445 sec)\n",
      "\n"
     ]
    },
    {
     "name": "stderr",
     "output_type": "stream",
     "text": [
      "[Parallel(n_jobs=1)]: Using backend SequentialBackend with 1 concurrent workers.\n",
      "[Parallel(n_jobs=1)]: Done   1 out of   1 | elapsed:    0.0s remaining:    0.0s\n",
      "[Parallel(n_jobs=1)]: Done   2 out of   2 | elapsed:    0.0s remaining:    0.0s\n",
      "[Parallel(n_jobs=1)]: Done   3 out of   3 | elapsed:    0.0s remaining:    0.0s\n",
      "[Parallel(n_jobs=1)]: Done   4 out of   4 | elapsed:    0.0s remaining:    0.0s\n"
     ]
    },
    {
     "name": "stdout",
     "output_type": "stream",
     "text": [
      "Overwriting existing file.\n",
      "Overwriting existing file.\n",
      "Setting up low-pass filter at 30 Hz\n",
      "\n",
      "FIR filter parameters\n",
      "---------------------\n",
      "Designing a one-pass, zero-phase, non-causal lowpass filter:\n",
      "- Windowed time-domain design (firwin) method\n",
      "- Hamming window with 0.0194 passband ripple and 53 dB stopband attenuation\n",
      "- Upper passband edge: 30.00 Hz\n",
      "- Upper transition bandwidth: 7.50 Hz (-6 dB cutoff frequency: 33.75 Hz)\n",
      "- Filter length: 89 samples (0.445 sec)\n",
      "\n"
     ]
    },
    {
     "name": "stderr",
     "output_type": "stream",
     "text": [
      "[Parallel(n_jobs=1)]: Done 1472 out of 1472 | elapsed:    0.4s finished\n",
      "[Parallel(n_jobs=1)]: Using backend SequentialBackend with 1 concurrent workers.\n",
      "[Parallel(n_jobs=1)]: Done   1 out of   1 | elapsed:    0.0s remaining:    0.0s\n",
      "[Parallel(n_jobs=1)]: Done   2 out of   2 | elapsed:    0.0s remaining:    0.0s\n",
      "[Parallel(n_jobs=1)]: Done   3 out of   3 | elapsed:    0.0s remaining:    0.0s\n",
      "[Parallel(n_jobs=1)]: Done   4 out of   4 | elapsed:    0.0s remaining:    0.0s\n"
     ]
    },
    {
     "name": "stdout",
     "output_type": "stream",
     "text": [
      "Overwriting existing file.\n",
      "Overwriting existing file.\n",
      "Setting up low-pass filter at 30 Hz\n",
      "\n",
      "FIR filter parameters\n",
      "---------------------\n",
      "Designing a one-pass, zero-phase, non-causal lowpass filter:\n",
      "- Windowed time-domain design (firwin) method\n",
      "- Hamming window with 0.0194 passband ripple and 53 dB stopband attenuation\n",
      "- Upper passband edge: 30.00 Hz\n",
      "- Upper transition bandwidth: 7.50 Hz (-6 dB cutoff frequency: 33.75 Hz)\n",
      "- Filter length: 89 samples (0.445 sec)\n",
      "\n"
     ]
    },
    {
     "name": "stderr",
     "output_type": "stream",
     "text": [
      "[Parallel(n_jobs=1)]: Done 1408 out of 1408 | elapsed:    0.4s finished\n",
      "[Parallel(n_jobs=1)]: Using backend SequentialBackend with 1 concurrent workers.\n",
      "[Parallel(n_jobs=1)]: Done   1 out of   1 | elapsed:    0.0s remaining:    0.0s\n",
      "[Parallel(n_jobs=1)]: Done   2 out of   2 | elapsed:    0.0s remaining:    0.0s\n",
      "[Parallel(n_jobs=1)]: Done   3 out of   3 | elapsed:    0.0s remaining:    0.0s\n",
      "[Parallel(n_jobs=1)]: Done   4 out of   4 | elapsed:    0.0s remaining:    0.0s\n"
     ]
    },
    {
     "name": "stdout",
     "output_type": "stream",
     "text": [
      "Overwriting existing file.\n",
      "Overwriting existing file.\n",
      "Setting up low-pass filter at 30 Hz\n",
      "\n",
      "FIR filter parameters\n",
      "---------------------\n",
      "Designing a one-pass, zero-phase, non-causal lowpass filter:\n",
      "- Windowed time-domain design (firwin) method\n",
      "- Hamming window with 0.0194 passband ripple and 53 dB stopband attenuation\n",
      "- Upper passband edge: 30.00 Hz\n",
      "- Upper transition bandwidth: 7.50 Hz (-6 dB cutoff frequency: 33.75 Hz)\n",
      "- Filter length: 89 samples (0.445 sec)\n",
      "\n"
     ]
    },
    {
     "name": "stderr",
     "output_type": "stream",
     "text": [
      "[Parallel(n_jobs=1)]: Done 1344 out of 1344 | elapsed:    0.4s finished\n",
      "[Parallel(n_jobs=1)]: Using backend SequentialBackend with 1 concurrent workers.\n",
      "[Parallel(n_jobs=1)]: Done   1 out of   1 | elapsed:    0.0s remaining:    0.0s\n",
      "[Parallel(n_jobs=1)]: Done   2 out of   2 | elapsed:    0.0s remaining:    0.0s\n",
      "[Parallel(n_jobs=1)]: Done   3 out of   3 | elapsed:    0.0s remaining:    0.0s\n",
      "[Parallel(n_jobs=1)]: Done   4 out of   4 | elapsed:    0.0s remaining:    0.0s\n"
     ]
    },
    {
     "name": "stdout",
     "output_type": "stream",
     "text": [
      "Overwriting existing file.\n",
      "Reading F:\\Documents\\Science\\MirRevAdaptEEG\\data\\eeg\\p004\\lrp\\mra_p004_run0-epo.fif ...\n",
      "    Found the data of interest:\n",
      "        t =   -2000.00 ...    1995.00 ms\n",
      "        0 CTF compensation matrices available\n"
     ]
    },
    {
     "name": "stderr",
     "output_type": "stream",
     "text": [
      "[Parallel(n_jobs=1)]: Done 1472 out of 1472 | elapsed:    0.4s finished\n"
     ]
    },
    {
     "name": "stdout",
     "output_type": "stream",
     "text": [
      "Not setting metadata\n",
      "418 matching events found\n",
      "No baseline correction applied\n",
      "0 projection items activated\n",
      "Applying baseline correction (mode: mean)\n",
      "Reading F:\\Documents\\Science\\MirRevAdaptEEG\\data\\eeg\\p005\\lrp\\mra_p005_run0-epo.fif ...\n",
      "    Found the data of interest:\n",
      "        t =   -2000.00 ...    1995.00 ms\n",
      "        0 CTF compensation matrices available\n",
      "Not setting metadata\n",
      "419 matching events found\n",
      "No baseline correction applied\n",
      "0 projection items activated\n",
      "Applying baseline correction (mode: mean)\n",
      "Reading F:\\Documents\\Science\\MirRevAdaptEEG\\data\\eeg\\p006\\lrp\\mra_p006_run0-epo.fif ...\n",
      "    Found the data of interest:\n",
      "        t =   -2000.00 ...    1995.00 ms\n",
      "        0 CTF compensation matrices available\n",
      "Not setting metadata\n",
      "418 matching events found\n",
      "No baseline correction applied\n",
      "0 projection items activated\n",
      "Applying baseline correction (mode: mean)\n",
      "Reading F:\\Documents\\Science\\MirRevAdaptEEG\\data\\eeg\\p007\\lrp\\mra_p007_run0-epo.fif ...\n",
      "    Found the data of interest:\n",
      "        t =   -2000.00 ...    1995.00 ms\n",
      "        0 CTF compensation matrices available\n",
      "Not setting metadata\n",
      "420 matching events found\n",
      "No baseline correction applied\n",
      "0 projection items activated\n",
      "Applying baseline correction (mode: mean)\n",
      "Reading F:\\Documents\\Science\\MirRevAdaptEEG\\data\\eeg\\p008\\lrp\\mra_p008_run0-epo.fif ...\n",
      "    Found the data of interest:\n",
      "        t =   -2000.00 ...    1995.00 ms\n",
      "        0 CTF compensation matrices available\n",
      "Not setting metadata\n",
      "420 matching events found\n",
      "No baseline correction applied\n",
      "0 projection items activated\n",
      "Applying baseline correction (mode: mean)\n",
      "Overwriting existing file.\n",
      "Setting up low-pass filter at 30 Hz\n",
      "\n",
      "FIR filter parameters\n",
      "---------------------\n",
      "Designing a one-pass, zero-phase, non-causal lowpass filter:\n",
      "- Windowed time-domain design (firwin) method\n",
      "- Hamming window with 0.0194 passband ripple and 53 dB stopband attenuation\n",
      "- Upper passband edge: 30.00 Hz\n",
      "- Upper transition bandwidth: 7.50 Hz (-6 dB cutoff frequency: 33.75 Hz)\n",
      "- Filter length: 89 samples (0.445 sec)\n",
      "\n"
     ]
    },
    {
     "name": "stderr",
     "output_type": "stream",
     "text": [
      "[Parallel(n_jobs=1)]: Using backend SequentialBackend with 1 concurrent workers.\n",
      "[Parallel(n_jobs=1)]: Done   1 out of   1 | elapsed:    0.0s remaining:    0.0s\n",
      "[Parallel(n_jobs=1)]: Done   2 out of   2 | elapsed:    0.0s remaining:    0.0s\n",
      "[Parallel(n_jobs=1)]: Done   3 out of   3 | elapsed:    0.0s remaining:    0.0s\n",
      "[Parallel(n_jobs=1)]: Done   4 out of   4 | elapsed:    0.0s remaining:    0.0s\n"
     ]
    },
    {
     "name": "stdout",
     "output_type": "stream",
     "text": [
      "Overwriting existing file.\n",
      "Overwriting existing file.\n",
      "Setting up low-pass filter at 30 Hz\n",
      "\n",
      "FIR filter parameters\n",
      "---------------------\n",
      "Designing a one-pass, zero-phase, non-causal lowpass filter:\n",
      "- Windowed time-domain design (firwin) method\n",
      "- Hamming window with 0.0194 passband ripple and 53 dB stopband attenuation\n",
      "- Upper passband edge: 30.00 Hz\n",
      "- Upper transition bandwidth: 7.50 Hz (-6 dB cutoff frequency: 33.75 Hz)\n",
      "- Filter length: 89 samples (0.445 sec)\n",
      "\n"
     ]
    },
    {
     "name": "stderr",
     "output_type": "stream",
     "text": [
      "[Parallel(n_jobs=1)]: Done 1536 out of 1536 | elapsed:    0.5s finished\n",
      "[Parallel(n_jobs=1)]: Using backend SequentialBackend with 1 concurrent workers.\n",
      "[Parallel(n_jobs=1)]: Done   1 out of   1 | elapsed:    0.0s remaining:    0.0s\n",
      "[Parallel(n_jobs=1)]: Done   2 out of   2 | elapsed:    0.0s remaining:    0.0s\n",
      "[Parallel(n_jobs=1)]: Done   3 out of   3 | elapsed:    0.0s remaining:    0.0s\n",
      "[Parallel(n_jobs=1)]: Done   4 out of   4 | elapsed:    0.0s remaining:    0.0s\n"
     ]
    },
    {
     "name": "stdout",
     "output_type": "stream",
     "text": [
      "Overwriting existing file.\n",
      "Overwriting existing file.\n",
      "Setting up low-pass filter at 30 Hz\n",
      "\n",
      "FIR filter parameters\n",
      "---------------------\n",
      "Designing a one-pass, zero-phase, non-causal lowpass filter:\n",
      "- Windowed time-domain design (firwin) method\n",
      "- Hamming window with 0.0194 passband ripple and 53 dB stopband attenuation\n",
      "- Upper passband edge: 30.00 Hz\n",
      "- Upper transition bandwidth: 7.50 Hz (-6 dB cutoff frequency: 33.75 Hz)\n",
      "- Filter length: 89 samples (0.445 sec)\n",
      "\n"
     ]
    },
    {
     "name": "stderr",
     "output_type": "stream",
     "text": [
      "[Parallel(n_jobs=1)]: Done 1280 out of 1280 | elapsed:    0.3s finished\n",
      "[Parallel(n_jobs=1)]: Using backend SequentialBackend with 1 concurrent workers.\n",
      "[Parallel(n_jobs=1)]: Done   1 out of   1 | elapsed:    0.0s remaining:    0.0s\n",
      "[Parallel(n_jobs=1)]: Done   2 out of   2 | elapsed:    0.0s remaining:    0.0s\n",
      "[Parallel(n_jobs=1)]: Done   3 out of   3 | elapsed:    0.0s remaining:    0.0s\n",
      "[Parallel(n_jobs=1)]: Done   4 out of   4 | elapsed:    0.0s remaining:    0.0s\n"
     ]
    },
    {
     "name": "stdout",
     "output_type": "stream",
     "text": [
      "Overwriting existing file.\n",
      "Overwriting existing file.\n",
      "Setting up low-pass filter at 30 Hz\n",
      "\n",
      "FIR filter parameters\n",
      "---------------------\n",
      "Designing a one-pass, zero-phase, non-causal lowpass filter:\n",
      "- Windowed time-domain design (firwin) method\n",
      "- Hamming window with 0.0194 passband ripple and 53 dB stopband attenuation\n",
      "- Upper passband edge: 30.00 Hz\n",
      "- Upper transition bandwidth: 7.50 Hz (-6 dB cutoff frequency: 33.75 Hz)\n",
      "- Filter length: 89 samples (0.445 sec)\n",
      "\n"
     ]
    },
    {
     "name": "stderr",
     "output_type": "stream",
     "text": [
      "[Parallel(n_jobs=1)]: Done 1344 out of 1344 | elapsed:    0.4s finished\n",
      "[Parallel(n_jobs=1)]: Using backend SequentialBackend with 1 concurrent workers.\n",
      "[Parallel(n_jobs=1)]: Done   1 out of   1 | elapsed:    0.0s remaining:    0.0s\n",
      "[Parallel(n_jobs=1)]: Done   2 out of   2 | elapsed:    0.0s remaining:    0.0s\n",
      "[Parallel(n_jobs=1)]: Done   3 out of   3 | elapsed:    0.0s remaining:    0.0s\n",
      "[Parallel(n_jobs=1)]: Done   4 out of   4 | elapsed:    0.0s remaining:    0.0s\n"
     ]
    },
    {
     "name": "stdout",
     "output_type": "stream",
     "text": [
      "Overwriting existing file.\n",
      "Reading F:\\Documents\\Science\\MirRevAdaptEEG\\data\\eeg\\p009\\lrp\\mra_p009_run0-epo.fif ...\n",
      "    Found the data of interest:\n",
      "        t =   -2000.00 ...    1995.00 ms\n",
      "        0 CTF compensation matrices available\n",
      "Not setting metadata\n"
     ]
    },
    {
     "name": "stderr",
     "output_type": "stream",
     "text": [
      "[Parallel(n_jobs=1)]: Done 1600 out of 1600 | elapsed:    0.5s finished\n"
     ]
    },
    {
     "name": "stdout",
     "output_type": "stream",
     "text": [
      "419 matching events found\n",
      "No baseline correction applied\n",
      "0 projection items activated\n",
      "Applying baseline correction (mode: mean)\n",
      "Overwriting existing file.\n",
      "Setting up low-pass filter at 30 Hz\n",
      "\n",
      "FIR filter parameters\n",
      "---------------------\n",
      "Designing a one-pass, zero-phase, non-causal lowpass filter:\n",
      "- Windowed time-domain design (firwin) method\n",
      "- Hamming window with 0.0194 passband ripple and 53 dB stopband attenuation\n",
      "- Upper passband edge: 30.00 Hz\n",
      "- Upper transition bandwidth: 7.50 Hz (-6 dB cutoff frequency: 33.75 Hz)\n",
      "- Filter length: 89 samples (0.445 sec)\n",
      "\n"
     ]
    },
    {
     "name": "stderr",
     "output_type": "stream",
     "text": [
      "[Parallel(n_jobs=1)]: Using backend SequentialBackend with 1 concurrent workers.\n",
      "[Parallel(n_jobs=1)]: Done   1 out of   1 | elapsed:    0.0s remaining:    0.0s\n",
      "[Parallel(n_jobs=1)]: Done   2 out of   2 | elapsed:    0.0s remaining:    0.0s\n",
      "[Parallel(n_jobs=1)]: Done   3 out of   3 | elapsed:    0.0s remaining:    0.0s\n",
      "[Parallel(n_jobs=1)]: Done   4 out of   4 | elapsed:    0.0s remaining:    0.0s\n"
     ]
    },
    {
     "name": "stdout",
     "output_type": "stream",
     "text": [
      "Overwriting existing file.\n",
      "Overwriting existing file.\n",
      "Setting up low-pass filter at 30 Hz\n",
      "\n",
      "FIR filter parameters\n",
      "---------------------\n",
      "Designing a one-pass, zero-phase, non-causal lowpass filter:\n",
      "- Windowed time-domain design (firwin) method\n",
      "- Hamming window with 0.0194 passband ripple and 53 dB stopband attenuation\n",
      "- Upper passband edge: 30.00 Hz\n",
      "- Upper transition bandwidth: 7.50 Hz (-6 dB cutoff frequency: 33.75 Hz)\n",
      "- Filter length: 89 samples (0.445 sec)\n",
      "\n"
     ]
    },
    {
     "name": "stderr",
     "output_type": "stream",
     "text": [
      "[Parallel(n_jobs=1)]: Done 1408 out of 1408 | elapsed:    0.4s finished\n",
      "[Parallel(n_jobs=1)]: Using backend SequentialBackend with 1 concurrent workers.\n",
      "[Parallel(n_jobs=1)]: Done   1 out of   1 | elapsed:    0.0s remaining:    0.0s\n",
      "[Parallel(n_jobs=1)]: Done   2 out of   2 | elapsed:    0.0s remaining:    0.0s\n",
      "[Parallel(n_jobs=1)]: Done   3 out of   3 | elapsed:    0.0s remaining:    0.0s\n",
      "[Parallel(n_jobs=1)]: Done   4 out of   4 | elapsed:    0.0s remaining:    0.0s\n"
     ]
    },
    {
     "name": "stdout",
     "output_type": "stream",
     "text": [
      "Overwriting existing file.\n",
      "Overwriting existing file.\n",
      "Setting up low-pass filter at 30 Hz\n",
      "\n",
      "FIR filter parameters\n",
      "---------------------\n",
      "Designing a one-pass, zero-phase, non-causal lowpass filter:\n",
      "- Windowed time-domain design (firwin) method\n",
      "- Hamming window with 0.0194 passband ripple and 53 dB stopband attenuation\n",
      "- Upper passband edge: 30.00 Hz\n",
      "- Upper transition bandwidth: 7.50 Hz (-6 dB cutoff frequency: 33.75 Hz)\n",
      "- Filter length: 89 samples (0.445 sec)\n",
      "\n"
     ]
    },
    {
     "name": "stderr",
     "output_type": "stream",
     "text": [
      "[Parallel(n_jobs=1)]: Done 1472 out of 1472 | elapsed:    0.4s finished\n",
      "[Parallel(n_jobs=1)]: Using backend SequentialBackend with 1 concurrent workers.\n",
      "[Parallel(n_jobs=1)]: Done   1 out of   1 | elapsed:    0.0s remaining:    0.0s\n",
      "[Parallel(n_jobs=1)]: Done   2 out of   2 | elapsed:    0.0s remaining:    0.0s\n",
      "[Parallel(n_jobs=1)]: Done   3 out of   3 | elapsed:    0.0s remaining:    0.0s\n",
      "[Parallel(n_jobs=1)]: Done   4 out of   4 | elapsed:    0.0s remaining:    0.0s\n"
     ]
    },
    {
     "name": "stdout",
     "output_type": "stream",
     "text": [
      "Overwriting existing file.\n",
      "Overwriting existing file.\n",
      "Setting up low-pass filter at 30 Hz\n",
      "\n",
      "FIR filter parameters\n",
      "---------------------\n",
      "Designing a one-pass, zero-phase, non-causal lowpass filter:\n",
      "- Windowed time-domain design (firwin) method\n",
      "- Hamming window with 0.0194 passband ripple and 53 dB stopband attenuation\n",
      "- Upper passband edge: 30.00 Hz\n",
      "- Upper transition bandwidth: 7.50 Hz (-6 dB cutoff frequency: 33.75 Hz)\n",
      "- Filter length: 89 samples (0.445 sec)\n",
      "\n"
     ]
    },
    {
     "name": "stderr",
     "output_type": "stream",
     "text": [
      "[Parallel(n_jobs=1)]: Done 1472 out of 1472 | elapsed:    0.4s finished\n",
      "[Parallel(n_jobs=1)]: Using backend SequentialBackend with 1 concurrent workers.\n",
      "[Parallel(n_jobs=1)]: Done   1 out of   1 | elapsed:    0.0s remaining:    0.0s\n",
      "[Parallel(n_jobs=1)]: Done   2 out of   2 | elapsed:    0.0s remaining:    0.0s\n",
      "[Parallel(n_jobs=1)]: Done   3 out of   3 | elapsed:    0.0s remaining:    0.0s\n",
      "[Parallel(n_jobs=1)]: Done   4 out of   4 | elapsed:    0.0s remaining:    0.0s\n"
     ]
    },
    {
     "name": "stdout",
     "output_type": "stream",
     "text": [
      "Overwriting existing file.\n",
      "Reading F:\\Documents\\Science\\MirRevAdaptEEG\\data\\eeg\\p010\\lrp\\mra_p010_run0-epo.fif ...\n",
      "    Found the data of interest:\n",
      "        t =   -2000.00 ...    1995.00 ms\n",
      "        0 CTF compensation matrices available\n"
     ]
    },
    {
     "name": "stderr",
     "output_type": "stream",
     "text": [
      "[Parallel(n_jobs=1)]: Done 1408 out of 1408 | elapsed:    0.4s finished\n"
     ]
    },
    {
     "name": "stdout",
     "output_type": "stream",
     "text": [
      "Not setting metadata\n",
      "420 matching events found\n",
      "No baseline correction applied\n",
      "0 projection items activated\n",
      "Applying baseline correction (mode: mean)\n",
      "Overwriting existing file.\n",
      "Setting up low-pass filter at 30 Hz\n",
      "\n",
      "FIR filter parameters\n",
      "---------------------\n",
      "Designing a one-pass, zero-phase, non-causal lowpass filter:\n",
      "- Windowed time-domain design (firwin) method\n",
      "- Hamming window with 0.0194 passband ripple and 53 dB stopband attenuation\n",
      "- Upper passband edge: 30.00 Hz\n",
      "- Upper transition bandwidth: 7.50 Hz (-6 dB cutoff frequency: 33.75 Hz)\n",
      "- Filter length: 89 samples (0.445 sec)\n",
      "\n"
     ]
    },
    {
     "name": "stderr",
     "output_type": "stream",
     "text": [
      "[Parallel(n_jobs=1)]: Using backend SequentialBackend with 1 concurrent workers.\n",
      "[Parallel(n_jobs=1)]: Done   1 out of   1 | elapsed:    0.0s remaining:    0.0s\n",
      "[Parallel(n_jobs=1)]: Done   2 out of   2 | elapsed:    0.0s remaining:    0.0s\n",
      "[Parallel(n_jobs=1)]: Done   3 out of   3 | elapsed:    0.0s remaining:    0.0s\n",
      "[Parallel(n_jobs=1)]: Done   4 out of   4 | elapsed:    0.0s remaining:    0.0s\n"
     ]
    },
    {
     "name": "stdout",
     "output_type": "stream",
     "text": [
      "Overwriting existing file.\n",
      "Overwriting existing file.\n",
      "Setting up low-pass filter at 30 Hz\n",
      "\n",
      "FIR filter parameters\n",
      "---------------------\n",
      "Designing a one-pass, zero-phase, non-causal lowpass filter:\n",
      "- Windowed time-domain design (firwin) method\n",
      "- Hamming window with 0.0194 passband ripple and 53 dB stopband attenuation\n",
      "- Upper passband edge: 30.00 Hz\n",
      "- Upper transition bandwidth: 7.50 Hz (-6 dB cutoff frequency: 33.75 Hz)\n",
      "- Filter length: 89 samples (0.445 sec)\n",
      "\n"
     ]
    },
    {
     "name": "stderr",
     "output_type": "stream",
     "text": [
      "[Parallel(n_jobs=1)]: Done 1408 out of 1408 | elapsed:    0.4s finished\n",
      "[Parallel(n_jobs=1)]: Using backend SequentialBackend with 1 concurrent workers.\n",
      "[Parallel(n_jobs=1)]: Done   1 out of   1 | elapsed:    0.0s remaining:    0.0s\n",
      "[Parallel(n_jobs=1)]: Done   2 out of   2 | elapsed:    0.0s remaining:    0.0s\n",
      "[Parallel(n_jobs=1)]: Done   3 out of   3 | elapsed:    0.0s remaining:    0.0s\n",
      "[Parallel(n_jobs=1)]: Done   4 out of   4 | elapsed:    0.0s remaining:    0.0s\n"
     ]
    },
    {
     "name": "stdout",
     "output_type": "stream",
     "text": [
      "Overwriting existing file.\n",
      "Overwriting existing file.\n",
      "Setting up low-pass filter at 30 Hz\n",
      "\n",
      "FIR filter parameters\n",
      "---------------------\n",
      "Designing a one-pass, zero-phase, non-causal lowpass filter:\n",
      "- Windowed time-domain design (firwin) method\n",
      "- Hamming window with 0.0194 passband ripple and 53 dB stopband attenuation\n",
      "- Upper passband edge: 30.00 Hz\n",
      "- Upper transition bandwidth: 7.50 Hz (-6 dB cutoff frequency: 33.75 Hz)\n",
      "- Filter length: 89 samples (0.445 sec)\n",
      "\n"
     ]
    },
    {
     "name": "stderr",
     "output_type": "stream",
     "text": [
      "[Parallel(n_jobs=1)]: Done 1472 out of 1472 | elapsed:    0.4s finished\n",
      "[Parallel(n_jobs=1)]: Using backend SequentialBackend with 1 concurrent workers.\n",
      "[Parallel(n_jobs=1)]: Done   1 out of   1 | elapsed:    0.0s remaining:    0.0s\n",
      "[Parallel(n_jobs=1)]: Done   2 out of   2 | elapsed:    0.0s remaining:    0.0s\n",
      "[Parallel(n_jobs=1)]: Done   3 out of   3 | elapsed:    0.0s remaining:    0.0s\n",
      "[Parallel(n_jobs=1)]: Done   4 out of   4 | elapsed:    0.0s remaining:    0.0s\n"
     ]
    },
    {
     "name": "stdout",
     "output_type": "stream",
     "text": [
      "Overwriting existing file.\n",
      "Overwriting existing file.\n",
      "Setting up low-pass filter at 30 Hz\n",
      "\n",
      "FIR filter parameters\n",
      "---------------------\n",
      "Designing a one-pass, zero-phase, non-causal lowpass filter:\n",
      "- Windowed time-domain design (firwin) method\n",
      "- Hamming window with 0.0194 passband ripple and 53 dB stopband attenuation\n",
      "- Upper passband edge: 30.00 Hz\n",
      "- Upper transition bandwidth: 7.50 Hz (-6 dB cutoff frequency: 33.75 Hz)\n",
      "- Filter length: 89 samples (0.445 sec)\n",
      "\n"
     ]
    },
    {
     "name": "stderr",
     "output_type": "stream",
     "text": [
      "[Parallel(n_jobs=1)]: Done 1472 out of 1472 | elapsed:    0.4s finished\n",
      "[Parallel(n_jobs=1)]: Using backend SequentialBackend with 1 concurrent workers.\n",
      "[Parallel(n_jobs=1)]: Done   1 out of   1 | elapsed:    0.0s remaining:    0.0s\n",
      "[Parallel(n_jobs=1)]: Done   2 out of   2 | elapsed:    0.0s remaining:    0.0s\n",
      "[Parallel(n_jobs=1)]: Done   3 out of   3 | elapsed:    0.0s remaining:    0.0s\n",
      "[Parallel(n_jobs=1)]: Done   4 out of   4 | elapsed:    0.0s remaining:    0.0s\n"
     ]
    },
    {
     "name": "stdout",
     "output_type": "stream",
     "text": [
      "Overwriting existing file.\n",
      "Reading F:\\Documents\\Science\\MirRevAdaptEEG\\data\\eeg\\p011\\lrp\\mra_p011_run0-epo.fif ...\n",
      "    Found the data of interest:\n",
      "        t =   -2000.00 ...    1995.00 ms\n",
      "        0 CTF compensation matrices available\n"
     ]
    },
    {
     "name": "stderr",
     "output_type": "stream",
     "text": [
      "[Parallel(n_jobs=1)]: Done 1408 out of 1408 | elapsed:    0.4s finished\n"
     ]
    },
    {
     "name": "stdout",
     "output_type": "stream",
     "text": [
      "Not setting metadata\n",
      "419 matching events found\n",
      "No baseline correction applied\n",
      "0 projection items activated\n",
      "Applying baseline correction (mode: mean)\n",
      "Overwriting existing file.\n",
      "Setting up low-pass filter at 30 Hz\n",
      "\n",
      "FIR filter parameters\n",
      "---------------------\n",
      "Designing a one-pass, zero-phase, non-causal lowpass filter:\n",
      "- Windowed time-domain design (firwin) method\n",
      "- Hamming window with 0.0194 passband ripple and 53 dB stopband attenuation\n",
      "- Upper passband edge: 30.00 Hz\n",
      "- Upper transition bandwidth: 7.50 Hz (-6 dB cutoff frequency: 33.75 Hz)\n",
      "- Filter length: 89 samples (0.445 sec)\n",
      "\n"
     ]
    },
    {
     "name": "stderr",
     "output_type": "stream",
     "text": [
      "[Parallel(n_jobs=1)]: Using backend SequentialBackend with 1 concurrent workers.\n",
      "[Parallel(n_jobs=1)]: Done   1 out of   1 | elapsed:    0.0s remaining:    0.0s\n",
      "[Parallel(n_jobs=1)]: Done   2 out of   2 | elapsed:    0.0s remaining:    0.0s\n",
      "[Parallel(n_jobs=1)]: Done   3 out of   3 | elapsed:    0.0s remaining:    0.0s\n",
      "[Parallel(n_jobs=1)]: Done   4 out of   4 | elapsed:    0.0s remaining:    0.0s\n"
     ]
    },
    {
     "name": "stdout",
     "output_type": "stream",
     "text": [
      "Overwriting existing file.\n",
      "Overwriting existing file.\n",
      "Setting up low-pass filter at 30 Hz\n",
      "\n",
      "FIR filter parameters\n",
      "---------------------\n",
      "Designing a one-pass, zero-phase, non-causal lowpass filter:\n",
      "- Windowed time-domain design (firwin) method\n",
      "- Hamming window with 0.0194 passband ripple and 53 dB stopband attenuation\n",
      "- Upper passband edge: 30.00 Hz\n",
      "- Upper transition bandwidth: 7.50 Hz (-6 dB cutoff frequency: 33.75 Hz)\n",
      "- Filter length: 89 samples (0.445 sec)\n",
      "\n"
     ]
    },
    {
     "name": "stderr",
     "output_type": "stream",
     "text": [
      "[Parallel(n_jobs=1)]: Done 1472 out of 1472 | elapsed:    0.4s finished\n",
      "[Parallel(n_jobs=1)]: Using backend SequentialBackend with 1 concurrent workers.\n",
      "[Parallel(n_jobs=1)]: Done   1 out of   1 | elapsed:    0.0s remaining:    0.0s\n",
      "[Parallel(n_jobs=1)]: Done   2 out of   2 | elapsed:    0.0s remaining:    0.0s\n",
      "[Parallel(n_jobs=1)]: Done   3 out of   3 | elapsed:    0.0s remaining:    0.0s\n",
      "[Parallel(n_jobs=1)]: Done   4 out of   4 | elapsed:    0.0s remaining:    0.0s\n"
     ]
    },
    {
     "name": "stdout",
     "output_type": "stream",
     "text": [
      "Overwriting existing file.\n",
      "Overwriting existing file.\n",
      "Setting up low-pass filter at 30 Hz\n",
      "\n",
      "FIR filter parameters\n",
      "---------------------\n",
      "Designing a one-pass, zero-phase, non-causal lowpass filter:\n",
      "- Windowed time-domain design (firwin) method\n",
      "- Hamming window with 0.0194 passband ripple and 53 dB stopband attenuation\n",
      "- Upper passband edge: 30.00 Hz\n",
      "- Upper transition bandwidth: 7.50 Hz (-6 dB cutoff frequency: 33.75 Hz)\n",
      "- Filter length: 89 samples (0.445 sec)\n",
      "\n"
     ]
    },
    {
     "name": "stderr",
     "output_type": "stream",
     "text": [
      "[Parallel(n_jobs=1)]: Done 1408 out of 1408 | elapsed:    0.4s finished\n",
      "[Parallel(n_jobs=1)]: Using backend SequentialBackend with 1 concurrent workers.\n",
      "[Parallel(n_jobs=1)]: Done   1 out of   1 | elapsed:    0.0s remaining:    0.0s\n",
      "[Parallel(n_jobs=1)]: Done   2 out of   2 | elapsed:    0.0s remaining:    0.0s\n",
      "[Parallel(n_jobs=1)]: Done   3 out of   3 | elapsed:    0.0s remaining:    0.0s\n",
      "[Parallel(n_jobs=1)]: Done   4 out of   4 | elapsed:    0.0s remaining:    0.0s\n"
     ]
    },
    {
     "name": "stdout",
     "output_type": "stream",
     "text": [
      "Overwriting existing file.\n",
      "Overwriting existing file.\n",
      "Setting up low-pass filter at 30 Hz\n",
      "\n",
      "FIR filter parameters\n",
      "---------------------\n",
      "Designing a one-pass, zero-phase, non-causal lowpass filter:\n",
      "- Windowed time-domain design (firwin) method\n",
      "- Hamming window with 0.0194 passband ripple and 53 dB stopband attenuation\n",
      "- Upper passband edge: 30.00 Hz\n",
      "- Upper transition bandwidth: 7.50 Hz (-6 dB cutoff frequency: 33.75 Hz)\n",
      "- Filter length: 89 samples (0.445 sec)\n",
      "\n"
     ]
    },
    {
     "name": "stderr",
     "output_type": "stream",
     "text": [
      "[Parallel(n_jobs=1)]: Done 1408 out of 1408 | elapsed:    0.4s finished\n",
      "[Parallel(n_jobs=1)]: Using backend SequentialBackend with 1 concurrent workers.\n",
      "[Parallel(n_jobs=1)]: Done   1 out of   1 | elapsed:    0.0s remaining:    0.0s\n",
      "[Parallel(n_jobs=1)]: Done   2 out of   2 | elapsed:    0.0s remaining:    0.0s\n",
      "[Parallel(n_jobs=1)]: Done   3 out of   3 | elapsed:    0.0s remaining:    0.0s\n",
      "[Parallel(n_jobs=1)]: Done   4 out of   4 | elapsed:    0.0s remaining:    0.0s\n"
     ]
    },
    {
     "name": "stdout",
     "output_type": "stream",
     "text": [
      "Overwriting existing file.\n",
      "Reading F:\\Documents\\Science\\MirRevAdaptEEG\\data\\eeg\\p012\\lrp\\mra_p012_run0-epo.fif ...\n",
      "    Found the data of interest:\n",
      "        t =   -2000.00 ...    1995.00 ms\n",
      "        0 CTF compensation matrices available\n"
     ]
    },
    {
     "name": "stderr",
     "output_type": "stream",
     "text": [
      "[Parallel(n_jobs=1)]: Done 1472 out of 1472 | elapsed:    0.4s finished\n"
     ]
    },
    {
     "name": "stdout",
     "output_type": "stream",
     "text": [
      "Not setting metadata\n",
      "412 matching events found\n",
      "No baseline correction applied\n",
      "0 projection items activated\n",
      "Applying baseline correction (mode: mean)\n",
      "Reading F:\\Documents\\Science\\MirRevAdaptEEG\\data\\eeg\\p013\\lrp\\mra_p013_run0-epo.fif ...\n",
      "    Found the data of interest:\n",
      "        t =   -2000.00 ...    1995.00 ms\n",
      "        0 CTF compensation matrices available\n",
      "Not setting metadata\n",
      "416 matching events found\n",
      "No baseline correction applied\n",
      "0 projection items activated\n",
      "Applying baseline correction (mode: mean)\n",
      "Reading F:\\Documents\\Science\\MirRevAdaptEEG\\data\\eeg\\p014\\lrp\\mra_p014_run0-epo.fif ...\n",
      "    Found the data of interest:\n",
      "        t =   -2000.00 ...    1995.00 ms\n",
      "        0 CTF compensation matrices available\n",
      "Not setting metadata\n",
      "420 matching events found\n",
      "No baseline correction applied\n",
      "0 projection items activated\n",
      "Applying baseline correction (mode: mean)\n",
      "Reading F:\\Documents\\Science\\MirRevAdaptEEG\\data\\eeg\\p015\\lrp\\mra_p015_run0-epo.fif ...\n",
      "    Found the data of interest:\n",
      "        t =   -2000.00 ...    1995.00 ms\n",
      "        0 CTF compensation matrices available\n",
      "Not setting metadata\n",
      "420 matching events found\n",
      "No baseline correction applied\n",
      "0 projection items activated\n",
      "Applying baseline correction (mode: mean)\n",
      "Reading F:\\Documents\\Science\\MirRevAdaptEEG\\data\\eeg\\p016\\lrp\\mra_p016_run0-epo.fif ...\n",
      "    Found the data of interest:\n",
      "        t =   -2000.00 ...    1995.00 ms\n",
      "        0 CTF compensation matrices available\n",
      "Not setting metadata\n",
      "418 matching events found\n",
      "No baseline correction applied\n",
      "0 projection items activated\n",
      "Applying baseline correction (mode: mean)\n",
      "Overwriting existing file.\n",
      "Setting up low-pass filter at 30 Hz\n",
      "\n",
      "FIR filter parameters\n",
      "---------------------\n",
      "Designing a one-pass, zero-phase, non-causal lowpass filter:\n",
      "- Windowed time-domain design (firwin) method\n",
      "- Hamming window with 0.0194 passband ripple and 53 dB stopband attenuation\n",
      "- Upper passband edge: 30.00 Hz\n",
      "- Upper transition bandwidth: 7.50 Hz (-6 dB cutoff frequency: 33.75 Hz)\n",
      "- Filter length: 89 samples (0.445 sec)\n",
      "\n"
     ]
    },
    {
     "name": "stderr",
     "output_type": "stream",
     "text": [
      "[Parallel(n_jobs=1)]: Using backend SequentialBackend with 1 concurrent workers.\n",
      "[Parallel(n_jobs=1)]: Done   1 out of   1 | elapsed:    0.0s remaining:    0.0s\n",
      "[Parallel(n_jobs=1)]: Done   2 out of   2 | elapsed:    0.0s remaining:    0.0s\n",
      "[Parallel(n_jobs=1)]: Done   3 out of   3 | elapsed:    0.0s remaining:    0.0s\n",
      "[Parallel(n_jobs=1)]: Done   4 out of   4 | elapsed:    0.0s remaining:    0.0s\n"
     ]
    },
    {
     "name": "stdout",
     "output_type": "stream",
     "text": [
      "Overwriting existing file.\n",
      "Overwriting existing file.\n",
      "Setting up low-pass filter at 30 Hz\n",
      "\n",
      "FIR filter parameters\n",
      "---------------------\n",
      "Designing a one-pass, zero-phase, non-causal lowpass filter:\n",
      "- Windowed time-domain design (firwin) method\n",
      "- Hamming window with 0.0194 passband ripple and 53 dB stopband attenuation\n",
      "- Upper passband edge: 30.00 Hz\n",
      "- Upper transition bandwidth: 7.50 Hz (-6 dB cutoff frequency: 33.75 Hz)\n",
      "- Filter length: 89 samples (0.445 sec)\n",
      "\n"
     ]
    },
    {
     "name": "stderr",
     "output_type": "stream",
     "text": [
      "[Parallel(n_jobs=1)]: Done 1408 out of 1408 | elapsed:    0.4s finished\n",
      "[Parallel(n_jobs=1)]: Using backend SequentialBackend with 1 concurrent workers.\n",
      "[Parallel(n_jobs=1)]: Done   1 out of   1 | elapsed:    0.0s remaining:    0.0s\n",
      "[Parallel(n_jobs=1)]: Done   2 out of   2 | elapsed:    0.0s remaining:    0.0s\n",
      "[Parallel(n_jobs=1)]: Done   3 out of   3 | elapsed:    0.0s remaining:    0.0s\n",
      "[Parallel(n_jobs=1)]: Done   4 out of   4 | elapsed:    0.0s remaining:    0.0s\n"
     ]
    },
    {
     "name": "stdout",
     "output_type": "stream",
     "text": [
      "Overwriting existing file.\n",
      "Overwriting existing file.\n",
      "Setting up low-pass filter at 30 Hz\n",
      "\n",
      "FIR filter parameters\n",
      "---------------------\n",
      "Designing a one-pass, zero-phase, non-causal lowpass filter:\n",
      "- Windowed time-domain design (firwin) method\n",
      "- Hamming window with 0.0194 passband ripple and 53 dB stopband attenuation\n",
      "- Upper passband edge: 30.00 Hz\n",
      "- Upper transition bandwidth: 7.50 Hz (-6 dB cutoff frequency: 33.75 Hz)\n",
      "- Filter length: 89 samples (0.445 sec)\n",
      "\n"
     ]
    },
    {
     "name": "stderr",
     "output_type": "stream",
     "text": [
      "[Parallel(n_jobs=1)]: Done 1472 out of 1472 | elapsed:    0.4s finished\n",
      "[Parallel(n_jobs=1)]: Using backend SequentialBackend with 1 concurrent workers.\n",
      "[Parallel(n_jobs=1)]: Done   1 out of   1 | elapsed:    0.0s remaining:    0.0s\n",
      "[Parallel(n_jobs=1)]: Done   2 out of   2 | elapsed:    0.0s remaining:    0.0s\n",
      "[Parallel(n_jobs=1)]: Done   3 out of   3 | elapsed:    0.0s remaining:    0.0s\n",
      "[Parallel(n_jobs=1)]: Done   4 out of   4 | elapsed:    0.0s remaining:    0.0s\n"
     ]
    },
    {
     "name": "stdout",
     "output_type": "stream",
     "text": [
      "Overwriting existing file.\n",
      "Overwriting existing file.\n",
      "Setting up low-pass filter at 30 Hz\n",
      "\n",
      "FIR filter parameters\n",
      "---------------------\n",
      "Designing a one-pass, zero-phase, non-causal lowpass filter:\n",
      "- Windowed time-domain design (firwin) method\n",
      "- Hamming window with 0.0194 passband ripple and 53 dB stopband attenuation\n",
      "- Upper passband edge: 30.00 Hz\n",
      "- Upper transition bandwidth: 7.50 Hz (-6 dB cutoff frequency: 33.75 Hz)\n",
      "- Filter length: 89 samples (0.445 sec)\n",
      "\n"
     ]
    },
    {
     "name": "stderr",
     "output_type": "stream",
     "text": [
      "[Parallel(n_jobs=1)]: Done 1408 out of 1408 | elapsed:    0.4s finished\n",
      "[Parallel(n_jobs=1)]: Using backend SequentialBackend with 1 concurrent workers.\n",
      "[Parallel(n_jobs=1)]: Done   1 out of   1 | elapsed:    0.0s remaining:    0.0s\n",
      "[Parallel(n_jobs=1)]: Done   2 out of   2 | elapsed:    0.0s remaining:    0.0s\n",
      "[Parallel(n_jobs=1)]: Done   3 out of   3 | elapsed:    0.0s remaining:    0.0s\n",
      "[Parallel(n_jobs=1)]: Done   4 out of   4 | elapsed:    0.0s remaining:    0.0s\n"
     ]
    },
    {
     "name": "stdout",
     "output_type": "stream",
     "text": [
      "Overwriting existing file.\n",
      "Reading F:\\Documents\\Science\\MirRevAdaptEEG\\data\\eeg\\p017\\lrp\\mra_p017_run0-epo.fif ...\n",
      "    Found the data of interest:\n",
      "        t =   -2000.00 ...    1995.00 ms\n",
      "        0 CTF compensation matrices available\n",
      "Not setting metadata\n"
     ]
    },
    {
     "name": "stderr",
     "output_type": "stream",
     "text": [
      "[Parallel(n_jobs=1)]: Done 1408 out of 1408 | elapsed:    0.4s finished\n"
     ]
    },
    {
     "name": "stdout",
     "output_type": "stream",
     "text": [
      "418 matching events found\n",
      "No baseline correction applied\n",
      "0 projection items activated\n",
      "Applying baseline correction (mode: mean)\n",
      "Overwriting existing file.\n",
      "Setting up low-pass filter at 30 Hz\n",
      "\n",
      "FIR filter parameters\n",
      "---------------------\n",
      "Designing a one-pass, zero-phase, non-causal lowpass filter:\n",
      "- Windowed time-domain design (firwin) method\n",
      "- Hamming window with 0.0194 passband ripple and 53 dB stopband attenuation\n",
      "- Upper passband edge: 30.00 Hz\n",
      "- Upper transition bandwidth: 7.50 Hz (-6 dB cutoff frequency: 33.75 Hz)\n",
      "- Filter length: 89 samples (0.445 sec)\n",
      "\n"
     ]
    },
    {
     "name": "stderr",
     "output_type": "stream",
     "text": [
      "[Parallel(n_jobs=1)]: Using backend SequentialBackend with 1 concurrent workers.\n",
      "[Parallel(n_jobs=1)]: Done   1 out of   1 | elapsed:    0.0s remaining:    0.0s\n",
      "[Parallel(n_jobs=1)]: Done   2 out of   2 | elapsed:    0.0s remaining:    0.0s\n",
      "[Parallel(n_jobs=1)]: Done   3 out of   3 | elapsed:    0.0s remaining:    0.0s\n",
      "[Parallel(n_jobs=1)]: Done   4 out of   4 | elapsed:    0.0s remaining:    0.0s\n"
     ]
    },
    {
     "name": "stdout",
     "output_type": "stream",
     "text": [
      "Overwriting existing file.\n",
      "Overwriting existing file.\n",
      "Setting up low-pass filter at 30 Hz\n",
      "\n",
      "FIR filter parameters\n",
      "---------------------\n",
      "Designing a one-pass, zero-phase, non-causal lowpass filter:\n",
      "- Windowed time-domain design (firwin) method\n",
      "- Hamming window with 0.0194 passband ripple and 53 dB stopband attenuation\n",
      "- Upper passband edge: 30.00 Hz\n",
      "- Upper transition bandwidth: 7.50 Hz (-6 dB cutoff frequency: 33.75 Hz)\n",
      "- Filter length: 89 samples (0.445 sec)\n",
      "\n"
     ]
    },
    {
     "name": "stderr",
     "output_type": "stream",
     "text": [
      "[Parallel(n_jobs=1)]: Done 1472 out of 1472 | elapsed:    0.4s finished\n",
      "[Parallel(n_jobs=1)]: Using backend SequentialBackend with 1 concurrent workers.\n",
      "[Parallel(n_jobs=1)]: Done   1 out of   1 | elapsed:    0.0s remaining:    0.0s\n",
      "[Parallel(n_jobs=1)]: Done   2 out of   2 | elapsed:    0.0s remaining:    0.0s\n",
      "[Parallel(n_jobs=1)]: Done   3 out of   3 | elapsed:    0.0s remaining:    0.0s\n",
      "[Parallel(n_jobs=1)]: Done   4 out of   4 | elapsed:    0.0s remaining:    0.0s\n"
     ]
    },
    {
     "name": "stdout",
     "output_type": "stream",
     "text": [
      "Overwriting existing file.\n",
      "Overwriting existing file.\n",
      "Setting up low-pass filter at 30 Hz\n",
      "\n",
      "FIR filter parameters\n",
      "---------------------\n",
      "Designing a one-pass, zero-phase, non-causal lowpass filter:\n",
      "- Windowed time-domain design (firwin) method\n",
      "- Hamming window with 0.0194 passband ripple and 53 dB stopband attenuation\n",
      "- Upper passband edge: 30.00 Hz\n",
      "- Upper transition bandwidth: 7.50 Hz (-6 dB cutoff frequency: 33.75 Hz)\n",
      "- Filter length: 89 samples (0.445 sec)\n",
      "\n"
     ]
    },
    {
     "name": "stderr",
     "output_type": "stream",
     "text": [
      "[Parallel(n_jobs=1)]: Done 1408 out of 1408 | elapsed:    0.4s finished\n",
      "[Parallel(n_jobs=1)]: Using backend SequentialBackend with 1 concurrent workers.\n",
      "[Parallel(n_jobs=1)]: Done   1 out of   1 | elapsed:    0.0s remaining:    0.0s\n",
      "[Parallel(n_jobs=1)]: Done   2 out of   2 | elapsed:    0.0s remaining:    0.0s\n",
      "[Parallel(n_jobs=1)]: Done   3 out of   3 | elapsed:    0.0s remaining:    0.0s\n",
      "[Parallel(n_jobs=1)]: Done   4 out of   4 | elapsed:    0.0s remaining:    0.0s\n"
     ]
    },
    {
     "name": "stdout",
     "output_type": "stream",
     "text": [
      "Overwriting existing file.\n",
      "Overwriting existing file.\n",
      "Setting up low-pass filter at 30 Hz\n",
      "\n",
      "FIR filter parameters\n",
      "---------------------\n",
      "Designing a one-pass, zero-phase, non-causal lowpass filter:\n",
      "- Windowed time-domain design (firwin) method\n",
      "- Hamming window with 0.0194 passband ripple and 53 dB stopband attenuation\n",
      "- Upper passband edge: 30.00 Hz\n",
      "- Upper transition bandwidth: 7.50 Hz (-6 dB cutoff frequency: 33.75 Hz)\n",
      "- Filter length: 89 samples (0.445 sec)\n",
      "\n"
     ]
    },
    {
     "name": "stderr",
     "output_type": "stream",
     "text": [
      "[Parallel(n_jobs=1)]: Done 1408 out of 1408 | elapsed:    0.4s finished\n",
      "[Parallel(n_jobs=1)]: Using backend SequentialBackend with 1 concurrent workers.\n",
      "[Parallel(n_jobs=1)]: Done   1 out of   1 | elapsed:    0.0s remaining:    0.0s\n",
      "[Parallel(n_jobs=1)]: Done   2 out of   2 | elapsed:    0.0s remaining:    0.0s\n",
      "[Parallel(n_jobs=1)]: Done   3 out of   3 | elapsed:    0.0s remaining:    0.0s\n",
      "[Parallel(n_jobs=1)]: Done   4 out of   4 | elapsed:    0.0s remaining:    0.0s\n"
     ]
    },
    {
     "name": "stdout",
     "output_type": "stream",
     "text": [
      "Overwriting existing file.\n",
      "Reading F:\\Documents\\Science\\MirRevAdaptEEG\\data\\eeg\\p018\\lrp\\mra_p018_run0-epo.fif ...\n",
      "    Found the data of interest:\n",
      "        t =   -2000.00 ...    1995.00 ms\n",
      "        0 CTF compensation matrices available\n",
      "Not setting metadata\n"
     ]
    },
    {
     "name": "stderr",
     "output_type": "stream",
     "text": [
      "[Parallel(n_jobs=1)]: Done 1408 out of 1408 | elapsed:    0.4s finished\n"
     ]
    },
    {
     "name": "stdout",
     "output_type": "stream",
     "text": [
      "419 matching events found\n",
      "No baseline correction applied\n",
      "0 projection items activated\n",
      "Applying baseline correction (mode: mean)\n",
      "Overwriting existing file.\n",
      "Setting up low-pass filter at 30 Hz\n",
      "\n",
      "FIR filter parameters\n",
      "---------------------\n",
      "Designing a one-pass, zero-phase, non-causal lowpass filter:\n",
      "- Windowed time-domain design (firwin) method\n",
      "- Hamming window with 0.0194 passband ripple and 53 dB stopband attenuation\n",
      "- Upper passband edge: 30.00 Hz\n",
      "- Upper transition bandwidth: 7.50 Hz (-6 dB cutoff frequency: 33.75 Hz)\n",
      "- Filter length: 89 samples (0.445 sec)\n",
      "\n"
     ]
    },
    {
     "name": "stderr",
     "output_type": "stream",
     "text": [
      "[Parallel(n_jobs=1)]: Using backend SequentialBackend with 1 concurrent workers.\n",
      "[Parallel(n_jobs=1)]: Done   1 out of   1 | elapsed:    0.0s remaining:    0.0s\n",
      "[Parallel(n_jobs=1)]: Done   2 out of   2 | elapsed:    0.0s remaining:    0.0s\n",
      "[Parallel(n_jobs=1)]: Done   3 out of   3 | elapsed:    0.0s remaining:    0.0s\n",
      "[Parallel(n_jobs=1)]: Done   4 out of   4 | elapsed:    0.0s remaining:    0.0s\n"
     ]
    },
    {
     "name": "stdout",
     "output_type": "stream",
     "text": [
      "Overwriting existing file.\n",
      "Overwriting existing file.\n",
      "Setting up low-pass filter at 30 Hz\n",
      "\n",
      "FIR filter parameters\n",
      "---------------------\n",
      "Designing a one-pass, zero-phase, non-causal lowpass filter:\n",
      "- Windowed time-domain design (firwin) method\n",
      "- Hamming window with 0.0194 passband ripple and 53 dB stopband attenuation\n",
      "- Upper passband edge: 30.00 Hz\n",
      "- Upper transition bandwidth: 7.50 Hz (-6 dB cutoff frequency: 33.75 Hz)\n",
      "- Filter length: 89 samples (0.445 sec)\n",
      "\n"
     ]
    },
    {
     "name": "stderr",
     "output_type": "stream",
     "text": [
      "[Parallel(n_jobs=1)]: Done 1472 out of 1472 | elapsed:    0.4s finished\n",
      "[Parallel(n_jobs=1)]: Using backend SequentialBackend with 1 concurrent workers.\n",
      "[Parallel(n_jobs=1)]: Done   1 out of   1 | elapsed:    0.0s remaining:    0.0s\n",
      "[Parallel(n_jobs=1)]: Done   2 out of   2 | elapsed:    0.0s remaining:    0.0s\n",
      "[Parallel(n_jobs=1)]: Done   3 out of   3 | elapsed:    0.0s remaining:    0.0s\n",
      "[Parallel(n_jobs=1)]: Done   4 out of   4 | elapsed:    0.0s remaining:    0.0s\n"
     ]
    },
    {
     "name": "stdout",
     "output_type": "stream",
     "text": [
      "Overwriting existing file.\n",
      "Overwriting existing file.\n",
      "Setting up low-pass filter at 30 Hz\n",
      "\n",
      "FIR filter parameters\n",
      "---------------------\n",
      "Designing a one-pass, zero-phase, non-causal lowpass filter:\n",
      "- Windowed time-domain design (firwin) method\n",
      "- Hamming window with 0.0194 passband ripple and 53 dB stopband attenuation\n",
      "- Upper passband edge: 30.00 Hz\n",
      "- Upper transition bandwidth: 7.50 Hz (-6 dB cutoff frequency: 33.75 Hz)\n",
      "- Filter length: 89 samples (0.445 sec)\n",
      "\n"
     ]
    },
    {
     "name": "stderr",
     "output_type": "stream",
     "text": [
      "[Parallel(n_jobs=1)]: Done 1408 out of 1408 | elapsed:    0.4s finished\n",
      "[Parallel(n_jobs=1)]: Using backend SequentialBackend with 1 concurrent workers.\n",
      "[Parallel(n_jobs=1)]: Done   1 out of   1 | elapsed:    0.0s remaining:    0.0s\n",
      "[Parallel(n_jobs=1)]: Done   2 out of   2 | elapsed:    0.0s remaining:    0.0s\n",
      "[Parallel(n_jobs=1)]: Done   3 out of   3 | elapsed:    0.0s remaining:    0.0s\n",
      "[Parallel(n_jobs=1)]: Done   4 out of   4 | elapsed:    0.0s remaining:    0.0s\n"
     ]
    },
    {
     "name": "stdout",
     "output_type": "stream",
     "text": [
      "Overwriting existing file.\n",
      "Overwriting existing file.\n",
      "Setting up low-pass filter at 30 Hz\n",
      "\n",
      "FIR filter parameters\n",
      "---------------------\n",
      "Designing a one-pass, zero-phase, non-causal lowpass filter:\n",
      "- Windowed time-domain design (firwin) method\n",
      "- Hamming window with 0.0194 passband ripple and 53 dB stopband attenuation\n",
      "- Upper passband edge: 30.00 Hz\n",
      "- Upper transition bandwidth: 7.50 Hz (-6 dB cutoff frequency: 33.75 Hz)\n",
      "- Filter length: 89 samples (0.445 sec)\n",
      "\n"
     ]
    },
    {
     "name": "stderr",
     "output_type": "stream",
     "text": [
      "[Parallel(n_jobs=1)]: Done 1408 out of 1408 | elapsed:    0.4s finished\n",
      "[Parallel(n_jobs=1)]: Using backend SequentialBackend with 1 concurrent workers.\n",
      "[Parallel(n_jobs=1)]: Done   1 out of   1 | elapsed:    0.0s remaining:    0.0s\n",
      "[Parallel(n_jobs=1)]: Done   2 out of   2 | elapsed:    0.0s remaining:    0.0s\n",
      "[Parallel(n_jobs=1)]: Done   3 out of   3 | elapsed:    0.0s remaining:    0.0s\n",
      "[Parallel(n_jobs=1)]: Done   4 out of   4 | elapsed:    0.0s remaining:    0.0s\n"
     ]
    },
    {
     "name": "stdout",
     "output_type": "stream",
     "text": [
      "Overwriting existing file.\n",
      "Reading F:\\Documents\\Science\\MirRevAdaptEEG\\data\\eeg\\p019\\lrp\\mra_p019_run0-epo.fif ...\n",
      "    Found the data of interest:\n",
      "        t =   -2000.00 ...    1995.00 ms\n",
      "        0 CTF compensation matrices available\n",
      "Not setting metadata\n"
     ]
    },
    {
     "name": "stderr",
     "output_type": "stream",
     "text": [
      "[Parallel(n_jobs=1)]: Done 1472 out of 1472 | elapsed:    0.4s finished\n"
     ]
    },
    {
     "name": "stdout",
     "output_type": "stream",
     "text": [
      "419 matching events found\n",
      "No baseline correction applied\n",
      "0 projection items activated\n",
      "Applying baseline correction (mode: mean)\n",
      "Overwriting existing file.\n",
      "Setting up low-pass filter at 30 Hz\n",
      "\n",
      "FIR filter parameters\n",
      "---------------------\n",
      "Designing a one-pass, zero-phase, non-causal lowpass filter:\n",
      "- Windowed time-domain design (firwin) method\n",
      "- Hamming window with 0.0194 passband ripple and 53 dB stopband attenuation\n",
      "- Upper passband edge: 30.00 Hz\n",
      "- Upper transition bandwidth: 7.50 Hz (-6 dB cutoff frequency: 33.75 Hz)\n",
      "- Filter length: 89 samples (0.445 sec)\n",
      "\n"
     ]
    },
    {
     "name": "stderr",
     "output_type": "stream",
     "text": [
      "[Parallel(n_jobs=1)]: Using backend SequentialBackend with 1 concurrent workers.\n",
      "[Parallel(n_jobs=1)]: Done   1 out of   1 | elapsed:    0.0s remaining:    0.0s\n",
      "[Parallel(n_jobs=1)]: Done   2 out of   2 | elapsed:    0.0s remaining:    0.0s\n",
      "[Parallel(n_jobs=1)]: Done   3 out of   3 | elapsed:    0.0s remaining:    0.0s\n",
      "[Parallel(n_jobs=1)]: Done   4 out of   4 | elapsed:    0.0s remaining:    0.0s\n"
     ]
    },
    {
     "name": "stdout",
     "output_type": "stream",
     "text": [
      "Overwriting existing file.\n",
      "Overwriting existing file.\n",
      "Setting up low-pass filter at 30 Hz\n",
      "\n",
      "FIR filter parameters\n",
      "---------------------\n",
      "Designing a one-pass, zero-phase, non-causal lowpass filter:\n",
      "- Windowed time-domain design (firwin) method\n",
      "- Hamming window with 0.0194 passband ripple and 53 dB stopband attenuation\n",
      "- Upper passband edge: 30.00 Hz\n",
      "- Upper transition bandwidth: 7.50 Hz (-6 dB cutoff frequency: 33.75 Hz)\n",
      "- Filter length: 89 samples (0.445 sec)\n",
      "\n"
     ]
    },
    {
     "name": "stderr",
     "output_type": "stream",
     "text": [
      "[Parallel(n_jobs=1)]: Done 1408 out of 1408 | elapsed:    0.4s finished\n",
      "[Parallel(n_jobs=1)]: Using backend SequentialBackend with 1 concurrent workers.\n",
      "[Parallel(n_jobs=1)]: Done   1 out of   1 | elapsed:    0.0s remaining:    0.0s\n",
      "[Parallel(n_jobs=1)]: Done   2 out of   2 | elapsed:    0.0s remaining:    0.0s\n",
      "[Parallel(n_jobs=1)]: Done   3 out of   3 | elapsed:    0.0s remaining:    0.0s\n",
      "[Parallel(n_jobs=1)]: Done   4 out of   4 | elapsed:    0.0s remaining:    0.0s\n"
     ]
    },
    {
     "name": "stdout",
     "output_type": "stream",
     "text": [
      "Overwriting existing file.\n",
      "Overwriting existing file.\n",
      "Setting up low-pass filter at 30 Hz\n",
      "\n",
      "FIR filter parameters\n",
      "---------------------\n",
      "Designing a one-pass, zero-phase, non-causal lowpass filter:\n",
      "- Windowed time-domain design (firwin) method\n",
      "- Hamming window with 0.0194 passband ripple and 53 dB stopband attenuation\n",
      "- Upper passband edge: 30.00 Hz\n",
      "- Upper transition bandwidth: 7.50 Hz (-6 dB cutoff frequency: 33.75 Hz)\n",
      "- Filter length: 89 samples (0.445 sec)\n",
      "\n"
     ]
    },
    {
     "name": "stderr",
     "output_type": "stream",
     "text": [
      "[Parallel(n_jobs=1)]: Done 1472 out of 1472 | elapsed:    0.4s finished\n",
      "[Parallel(n_jobs=1)]: Using backend SequentialBackend with 1 concurrent workers.\n",
      "[Parallel(n_jobs=1)]: Done   1 out of   1 | elapsed:    0.0s remaining:    0.0s\n",
      "[Parallel(n_jobs=1)]: Done   2 out of   2 | elapsed:    0.0s remaining:    0.0s\n",
      "[Parallel(n_jobs=1)]: Done   3 out of   3 | elapsed:    0.0s remaining:    0.0s\n",
      "[Parallel(n_jobs=1)]: Done   4 out of   4 | elapsed:    0.0s remaining:    0.0s\n"
     ]
    },
    {
     "name": "stdout",
     "output_type": "stream",
     "text": [
      "Overwriting existing file.\n",
      "Overwriting existing file.\n",
      "Setting up low-pass filter at 30 Hz\n",
      "\n",
      "FIR filter parameters\n",
      "---------------------\n",
      "Designing a one-pass, zero-phase, non-causal lowpass filter:\n",
      "- Windowed time-domain design (firwin) method\n",
      "- Hamming window with 0.0194 passband ripple and 53 dB stopband attenuation\n",
      "- Upper passband edge: 30.00 Hz\n",
      "- Upper transition bandwidth: 7.50 Hz (-6 dB cutoff frequency: 33.75 Hz)\n",
      "- Filter length: 89 samples (0.445 sec)\n",
      "\n"
     ]
    },
    {
     "name": "stderr",
     "output_type": "stream",
     "text": [
      "[Parallel(n_jobs=1)]: Done 1472 out of 1472 | elapsed:    0.4s finished\n",
      "[Parallel(n_jobs=1)]: Using backend SequentialBackend with 1 concurrent workers.\n",
      "[Parallel(n_jobs=1)]: Done   1 out of   1 | elapsed:    0.0s remaining:    0.0s\n",
      "[Parallel(n_jobs=1)]: Done   2 out of   2 | elapsed:    0.0s remaining:    0.0s\n",
      "[Parallel(n_jobs=1)]: Done   3 out of   3 | elapsed:    0.0s remaining:    0.0s\n",
      "[Parallel(n_jobs=1)]: Done   4 out of   4 | elapsed:    0.0s remaining:    0.0s\n"
     ]
    },
    {
     "name": "stdout",
     "output_type": "stream",
     "text": [
      "Overwriting existing file.\n",
      "Reading F:\\Documents\\Science\\MirRevAdaptEEG\\data\\eeg\\p020\\lrp\\mra_p020_run0-epo.fif ...\n",
      "    Found the data of interest:\n",
      "        t =   -2000.00 ...    1995.00 ms\n",
      "        0 CTF compensation matrices available\n",
      "Not setting metadata\n"
     ]
    },
    {
     "name": "stderr",
     "output_type": "stream",
     "text": [
      "[Parallel(n_jobs=1)]: Done 1408 out of 1408 | elapsed:    0.4s finished\n"
     ]
    },
    {
     "name": "stdout",
     "output_type": "stream",
     "text": [
      "420 matching events found\n",
      "No baseline correction applied\n",
      "0 projection items activated\n",
      "Applying baseline correction (mode: mean)\n",
      "Reading F:\\Documents\\Science\\MirRevAdaptEEG\\data\\eeg\\p021\\lrp\\mra_p021_run0-epo.fif ...\n",
      "    Found the data of interest:\n",
      "        t =   -2000.00 ...    1995.00 ms\n",
      "        0 CTF compensation matrices available\n",
      "Not setting metadata\n",
      "419 matching events found\n",
      "No baseline correction applied\n",
      "0 projection items activated\n",
      "Applying baseline correction (mode: mean)\n",
      "Reading F:\\Documents\\Science\\MirRevAdaptEEG\\data\\eeg\\p022\\lrp\\mra_p022_run0-epo.fif ...\n",
      "    Found the data of interest:\n",
      "        t =   -2000.00 ...    1995.00 ms\n",
      "        0 CTF compensation matrices available\n",
      "Not setting metadata\n",
      "420 matching events found\n",
      "No baseline correction applied\n",
      "0 projection items activated\n",
      "Applying baseline correction (mode: mean)\n",
      "Reading F:\\Documents\\Science\\MirRevAdaptEEG\\data\\eeg\\p023\\lrp\\mra_p023_run0-epo.fif ...\n",
      "    Found the data of interest:\n",
      "        t =   -2000.00 ...    1995.00 ms\n",
      "        0 CTF compensation matrices available\n",
      "Not setting metadata\n",
      "420 matching events found\n",
      "No baseline correction applied\n",
      "0 projection items activated\n",
      "Applying baseline correction (mode: mean)\n",
      "Reading F:\\Documents\\Science\\MirRevAdaptEEG\\data\\eeg\\p024\\lrp\\mra_p024_run0-epo.fif ...\n",
      "    Found the data of interest:\n",
      "        t =   -2000.00 ...    1995.00 ms\n",
      "        0 CTF compensation matrices available\n",
      "Not setting metadata\n",
      "420 matching events found\n",
      "No baseline correction applied\n",
      "0 projection items activated\n",
      "Applying baseline correction (mode: mean)\n",
      "Overwriting existing file.\n",
      "Setting up low-pass filter at 30 Hz\n",
      "\n",
      "FIR filter parameters\n",
      "---------------------\n",
      "Designing a one-pass, zero-phase, non-causal lowpass filter:\n",
      "- Windowed time-domain design (firwin) method\n",
      "- Hamming window with 0.0194 passband ripple and 53 dB stopband attenuation\n",
      "- Upper passband edge: 30.00 Hz\n",
      "- Upper transition bandwidth: 7.50 Hz (-6 dB cutoff frequency: 33.75 Hz)\n",
      "- Filter length: 89 samples (0.445 sec)\n",
      "\n"
     ]
    },
    {
     "name": "stderr",
     "output_type": "stream",
     "text": [
      "[Parallel(n_jobs=1)]: Using backend SequentialBackend with 1 concurrent workers.\n",
      "[Parallel(n_jobs=1)]: Done   1 out of   1 | elapsed:    0.0s remaining:    0.0s\n",
      "[Parallel(n_jobs=1)]: Done   2 out of   2 | elapsed:    0.0s remaining:    0.0s\n",
      "[Parallel(n_jobs=1)]: Done   3 out of   3 | elapsed:    0.0s remaining:    0.0s\n",
      "[Parallel(n_jobs=1)]: Done   4 out of   4 | elapsed:    0.0s remaining:    0.0s\n"
     ]
    },
    {
     "name": "stdout",
     "output_type": "stream",
     "text": [
      "Overwriting existing file.\n",
      "Overwriting existing file.\n",
      "Setting up low-pass filter at 30 Hz\n",
      "\n",
      "FIR filter parameters\n",
      "---------------------\n",
      "Designing a one-pass, zero-phase, non-causal lowpass filter:\n",
      "- Windowed time-domain design (firwin) method\n",
      "- Hamming window with 0.0194 passband ripple and 53 dB stopband attenuation\n",
      "- Upper passband edge: 30.00 Hz\n",
      "- Upper transition bandwidth: 7.50 Hz (-6 dB cutoff frequency: 33.75 Hz)\n",
      "- Filter length: 89 samples (0.445 sec)\n",
      "\n"
     ]
    },
    {
     "name": "stderr",
     "output_type": "stream",
     "text": [
      "[Parallel(n_jobs=1)]: Done 1408 out of 1408 | elapsed:    0.4s finished\n",
      "[Parallel(n_jobs=1)]: Using backend SequentialBackend with 1 concurrent workers.\n",
      "[Parallel(n_jobs=1)]: Done   1 out of   1 | elapsed:    0.0s remaining:    0.0s\n",
      "[Parallel(n_jobs=1)]: Done   2 out of   2 | elapsed:    0.0s remaining:    0.0s\n",
      "[Parallel(n_jobs=1)]: Done   3 out of   3 | elapsed:    0.0s remaining:    0.0s\n",
      "[Parallel(n_jobs=1)]: Done   4 out of   4 | elapsed:    0.0s remaining:    0.0s\n"
     ]
    },
    {
     "name": "stdout",
     "output_type": "stream",
     "text": [
      "Overwriting existing file.\n",
      "Overwriting existing file.\n",
      "Setting up low-pass filter at 30 Hz\n",
      "\n",
      "FIR filter parameters\n",
      "---------------------\n",
      "Designing a one-pass, zero-phase, non-causal lowpass filter:\n",
      "- Windowed time-domain design (firwin) method\n",
      "- Hamming window with 0.0194 passband ripple and 53 dB stopband attenuation\n",
      "- Upper passband edge: 30.00 Hz\n",
      "- Upper transition bandwidth: 7.50 Hz (-6 dB cutoff frequency: 33.75 Hz)\n",
      "- Filter length: 89 samples (0.445 sec)\n",
      "\n"
     ]
    },
    {
     "name": "stderr",
     "output_type": "stream",
     "text": [
      "[Parallel(n_jobs=1)]: Done 1472 out of 1472 | elapsed:    0.4s finished\n",
      "[Parallel(n_jobs=1)]: Using backend SequentialBackend with 1 concurrent workers.\n",
      "[Parallel(n_jobs=1)]: Done   1 out of   1 | elapsed:    0.0s remaining:    0.0s\n",
      "[Parallel(n_jobs=1)]: Done   2 out of   2 | elapsed:    0.0s remaining:    0.0s\n",
      "[Parallel(n_jobs=1)]: Done   3 out of   3 | elapsed:    0.0s remaining:    0.0s\n",
      "[Parallel(n_jobs=1)]: Done   4 out of   4 | elapsed:    0.0s remaining:    0.0s\n"
     ]
    },
    {
     "name": "stdout",
     "output_type": "stream",
     "text": [
      "Overwriting existing file.\n",
      "Overwriting existing file.\n",
      "Setting up low-pass filter at 30 Hz\n",
      "\n",
      "FIR filter parameters\n",
      "---------------------\n",
      "Designing a one-pass, zero-phase, non-causal lowpass filter:\n",
      "- Windowed time-domain design (firwin) method\n",
      "- Hamming window with 0.0194 passband ripple and 53 dB stopband attenuation\n",
      "- Upper passband edge: 30.00 Hz\n",
      "- Upper transition bandwidth: 7.50 Hz (-6 dB cutoff frequency: 33.75 Hz)\n",
      "- Filter length: 89 samples (0.445 sec)\n",
      "\n"
     ]
    },
    {
     "name": "stderr",
     "output_type": "stream",
     "text": [
      "[Parallel(n_jobs=1)]: Done 1472 out of 1472 | elapsed:    0.4s finished\n",
      "[Parallel(n_jobs=1)]: Using backend SequentialBackend with 1 concurrent workers.\n",
      "[Parallel(n_jobs=1)]: Done   1 out of   1 | elapsed:    0.0s remaining:    0.0s\n",
      "[Parallel(n_jobs=1)]: Done   2 out of   2 | elapsed:    0.0s remaining:    0.0s\n",
      "[Parallel(n_jobs=1)]: Done   3 out of   3 | elapsed:    0.0s remaining:    0.0s\n",
      "[Parallel(n_jobs=1)]: Done   4 out of   4 | elapsed:    0.0s remaining:    0.0s\n"
     ]
    },
    {
     "name": "stdout",
     "output_type": "stream",
     "text": [
      "Overwriting existing file.\n",
      "Reading F:\\Documents\\Science\\MirRevAdaptEEG\\data\\eeg\\p025\\lrp\\mra_p025_run0-epo.fif ...\n",
      "    Found the data of interest:\n",
      "        t =   -2000.00 ...    1995.00 ms\n",
      "        0 CTF compensation matrices available\n",
      "Not setting metadata\n"
     ]
    },
    {
     "name": "stderr",
     "output_type": "stream",
     "text": [
      "[Parallel(n_jobs=1)]: Done 1408 out of 1408 | elapsed:    0.4s finished\n"
     ]
    },
    {
     "name": "stdout",
     "output_type": "stream",
     "text": [
      "420 matching events found\n",
      "No baseline correction applied\n",
      "0 projection items activated\n",
      "Applying baseline correction (mode: mean)\n",
      "Overwriting existing file.\n",
      "Setting up low-pass filter at 30 Hz\n",
      "\n",
      "FIR filter parameters\n",
      "---------------------\n",
      "Designing a one-pass, zero-phase, non-causal lowpass filter:\n",
      "- Windowed time-domain design (firwin) method\n",
      "- Hamming window with 0.0194 passband ripple and 53 dB stopband attenuation\n",
      "- Upper passband edge: 30.00 Hz\n",
      "- Upper transition bandwidth: 7.50 Hz (-6 dB cutoff frequency: 33.75 Hz)\n",
      "- Filter length: 89 samples (0.445 sec)\n",
      "\n"
     ]
    },
    {
     "name": "stderr",
     "output_type": "stream",
     "text": [
      "[Parallel(n_jobs=1)]: Using backend SequentialBackend with 1 concurrent workers.\n",
      "[Parallel(n_jobs=1)]: Done   1 out of   1 | elapsed:    0.0s remaining:    0.0s\n",
      "[Parallel(n_jobs=1)]: Done   2 out of   2 | elapsed:    0.0s remaining:    0.0s\n",
      "[Parallel(n_jobs=1)]: Done   3 out of   3 | elapsed:    0.0s remaining:    0.0s\n",
      "[Parallel(n_jobs=1)]: Done   4 out of   4 | elapsed:    0.0s remaining:    0.0s\n"
     ]
    },
    {
     "name": "stdout",
     "output_type": "stream",
     "text": [
      "Overwriting existing file.\n",
      "Overwriting existing file.\n",
      "Setting up low-pass filter at 30 Hz\n",
      "\n",
      "FIR filter parameters\n",
      "---------------------\n",
      "Designing a one-pass, zero-phase, non-causal lowpass filter:\n",
      "- Windowed time-domain design (firwin) method\n",
      "- Hamming window with 0.0194 passband ripple and 53 dB stopband attenuation\n",
      "- Upper passband edge: 30.00 Hz\n",
      "- Upper transition bandwidth: 7.50 Hz (-6 dB cutoff frequency: 33.75 Hz)\n",
      "- Filter length: 89 samples (0.445 sec)\n",
      "\n"
     ]
    },
    {
     "name": "stderr",
     "output_type": "stream",
     "text": [
      "[Parallel(n_jobs=1)]: Done 1472 out of 1472 | elapsed:    0.4s finished\n",
      "[Parallel(n_jobs=1)]: Using backend SequentialBackend with 1 concurrent workers.\n",
      "[Parallel(n_jobs=1)]: Done   1 out of   1 | elapsed:    0.0s remaining:    0.0s\n",
      "[Parallel(n_jobs=1)]: Done   2 out of   2 | elapsed:    0.0s remaining:    0.0s\n",
      "[Parallel(n_jobs=1)]: Done   3 out of   3 | elapsed:    0.0s remaining:    0.0s\n",
      "[Parallel(n_jobs=1)]: Done   4 out of   4 | elapsed:    0.0s remaining:    0.0s\n"
     ]
    },
    {
     "name": "stdout",
     "output_type": "stream",
     "text": [
      "Overwriting existing file.\n",
      "Overwriting existing file.\n",
      "Setting up low-pass filter at 30 Hz\n",
      "\n",
      "FIR filter parameters\n",
      "---------------------\n",
      "Designing a one-pass, zero-phase, non-causal lowpass filter:\n",
      "- Windowed time-domain design (firwin) method\n",
      "- Hamming window with 0.0194 passband ripple and 53 dB stopband attenuation\n",
      "- Upper passband edge: 30.00 Hz\n",
      "- Upper transition bandwidth: 7.50 Hz (-6 dB cutoff frequency: 33.75 Hz)\n",
      "- Filter length: 89 samples (0.445 sec)\n",
      "\n"
     ]
    },
    {
     "name": "stderr",
     "output_type": "stream",
     "text": [
      "[Parallel(n_jobs=1)]: Done 1408 out of 1408 | elapsed:    0.4s finished\n",
      "[Parallel(n_jobs=1)]: Using backend SequentialBackend with 1 concurrent workers.\n",
      "[Parallel(n_jobs=1)]: Done   1 out of   1 | elapsed:    0.0s remaining:    0.0s\n",
      "[Parallel(n_jobs=1)]: Done   2 out of   2 | elapsed:    0.0s remaining:    0.0s\n",
      "[Parallel(n_jobs=1)]: Done   3 out of   3 | elapsed:    0.0s remaining:    0.0s\n",
      "[Parallel(n_jobs=1)]: Done   4 out of   4 | elapsed:    0.0s remaining:    0.0s\n"
     ]
    },
    {
     "name": "stdout",
     "output_type": "stream",
     "text": [
      "Overwriting existing file.\n",
      "Overwriting existing file.\n",
      "Setting up low-pass filter at 30 Hz\n",
      "\n",
      "FIR filter parameters\n",
      "---------------------\n",
      "Designing a one-pass, zero-phase, non-causal lowpass filter:\n",
      "- Windowed time-domain design (firwin) method\n",
      "- Hamming window with 0.0194 passband ripple and 53 dB stopband attenuation\n",
      "- Upper passband edge: 30.00 Hz\n",
      "- Upper transition bandwidth: 7.50 Hz (-6 dB cutoff frequency: 33.75 Hz)\n",
      "- Filter length: 89 samples (0.445 sec)\n",
      "\n"
     ]
    },
    {
     "name": "stderr",
     "output_type": "stream",
     "text": [
      "[Parallel(n_jobs=1)]: Done 1408 out of 1408 | elapsed:    0.4s finished\n",
      "[Parallel(n_jobs=1)]: Using backend SequentialBackend with 1 concurrent workers.\n",
      "[Parallel(n_jobs=1)]: Done   1 out of   1 | elapsed:    0.0s remaining:    0.0s\n",
      "[Parallel(n_jobs=1)]: Done   2 out of   2 | elapsed:    0.0s remaining:    0.0s\n",
      "[Parallel(n_jobs=1)]: Done   3 out of   3 | elapsed:    0.0s remaining:    0.0s\n",
      "[Parallel(n_jobs=1)]: Done   4 out of   4 | elapsed:    0.0s remaining:    0.0s\n"
     ]
    },
    {
     "name": "stdout",
     "output_type": "stream",
     "text": [
      "Overwriting existing file.\n",
      "Reading F:\\Documents\\Science\\MirRevAdaptEEG\\data\\eeg\\p026\\lrp\\mra_p026_run0-epo.fif ...\n",
      "    Found the data of interest:\n",
      "        t =   -2000.00 ...    1995.00 ms\n",
      "        0 CTF compensation matrices available\n"
     ]
    },
    {
     "name": "stderr",
     "output_type": "stream",
     "text": [
      "[Parallel(n_jobs=1)]: Done 1472 out of 1472 | elapsed:    0.4s finished\n"
     ]
    },
    {
     "name": "stdout",
     "output_type": "stream",
     "text": [
      "Not setting metadata\n",
      "420 matching events found\n",
      "No baseline correction applied\n",
      "0 projection items activated\n",
      "Applying baseline correction (mode: mean)\n",
      "Overwriting existing file.\n",
      "Setting up low-pass filter at 30 Hz\n",
      "\n",
      "FIR filter parameters\n",
      "---------------------\n",
      "Designing a one-pass, zero-phase, non-causal lowpass filter:\n",
      "- Windowed time-domain design (firwin) method\n",
      "- Hamming window with 0.0194 passband ripple and 53 dB stopband attenuation\n",
      "- Upper passband edge: 30.00 Hz\n",
      "- Upper transition bandwidth: 7.50 Hz (-6 dB cutoff frequency: 33.75 Hz)\n",
      "- Filter length: 89 samples (0.445 sec)\n",
      "\n"
     ]
    },
    {
     "name": "stderr",
     "output_type": "stream",
     "text": [
      "[Parallel(n_jobs=1)]: Using backend SequentialBackend with 1 concurrent workers.\n",
      "[Parallel(n_jobs=1)]: Done   1 out of   1 | elapsed:    0.0s remaining:    0.0s\n",
      "[Parallel(n_jobs=1)]: Done   2 out of   2 | elapsed:    0.0s remaining:    0.0s\n",
      "[Parallel(n_jobs=1)]: Done   3 out of   3 | elapsed:    0.0s remaining:    0.0s\n",
      "[Parallel(n_jobs=1)]: Done   4 out of   4 | elapsed:    0.0s remaining:    0.0s\n"
     ]
    },
    {
     "name": "stdout",
     "output_type": "stream",
     "text": [
      "Overwriting existing file.\n",
      "Overwriting existing file.\n",
      "Setting up low-pass filter at 30 Hz\n",
      "\n",
      "FIR filter parameters\n",
      "---------------------\n",
      "Designing a one-pass, zero-phase, non-causal lowpass filter:\n",
      "- Windowed time-domain design (firwin) method\n",
      "- Hamming window with 0.0194 passband ripple and 53 dB stopband attenuation\n",
      "- Upper passband edge: 30.00 Hz\n",
      "- Upper transition bandwidth: 7.50 Hz (-6 dB cutoff frequency: 33.75 Hz)\n",
      "- Filter length: 89 samples (0.445 sec)\n",
      "\n"
     ]
    },
    {
     "name": "stderr",
     "output_type": "stream",
     "text": [
      "[Parallel(n_jobs=1)]: Done 1408 out of 1408 | elapsed:    0.4s finished\n",
      "[Parallel(n_jobs=1)]: Using backend SequentialBackend with 1 concurrent workers.\n",
      "[Parallel(n_jobs=1)]: Done   1 out of   1 | elapsed:    0.0s remaining:    0.0s\n",
      "[Parallel(n_jobs=1)]: Done   2 out of   2 | elapsed:    0.0s remaining:    0.0s\n",
      "[Parallel(n_jobs=1)]: Done   3 out of   3 | elapsed:    0.0s remaining:    0.0s\n",
      "[Parallel(n_jobs=1)]: Done   4 out of   4 | elapsed:    0.0s remaining:    0.0s\n"
     ]
    },
    {
     "name": "stdout",
     "output_type": "stream",
     "text": [
      "Overwriting existing file.\n",
      "Overwriting existing file.\n",
      "Setting up low-pass filter at 30 Hz\n",
      "\n",
      "FIR filter parameters\n",
      "---------------------\n",
      "Designing a one-pass, zero-phase, non-causal lowpass filter:\n",
      "- Windowed time-domain design (firwin) method\n",
      "- Hamming window with 0.0194 passband ripple and 53 dB stopband attenuation\n",
      "- Upper passband edge: 30.00 Hz\n",
      "- Upper transition bandwidth: 7.50 Hz (-6 dB cutoff frequency: 33.75 Hz)\n",
      "- Filter length: 89 samples (0.445 sec)\n",
      "\n"
     ]
    },
    {
     "name": "stderr",
     "output_type": "stream",
     "text": [
      "[Parallel(n_jobs=1)]: Done 1472 out of 1472 | elapsed:    0.4s finished\n",
      "[Parallel(n_jobs=1)]: Using backend SequentialBackend with 1 concurrent workers.\n",
      "[Parallel(n_jobs=1)]: Done   1 out of   1 | elapsed:    0.0s remaining:    0.0s\n",
      "[Parallel(n_jobs=1)]: Done   2 out of   2 | elapsed:    0.0s remaining:    0.0s\n",
      "[Parallel(n_jobs=1)]: Done   3 out of   3 | elapsed:    0.0s remaining:    0.0s\n",
      "[Parallel(n_jobs=1)]: Done   4 out of   4 | elapsed:    0.0s remaining:    0.0s\n"
     ]
    },
    {
     "name": "stdout",
     "output_type": "stream",
     "text": [
      "Overwriting existing file.\n",
      "Overwriting existing file.\n",
      "Setting up low-pass filter at 30 Hz\n",
      "\n",
      "FIR filter parameters\n",
      "---------------------\n",
      "Designing a one-pass, zero-phase, non-causal lowpass filter:\n",
      "- Windowed time-domain design (firwin) method\n",
      "- Hamming window with 0.0194 passband ripple and 53 dB stopband attenuation\n",
      "- Upper passband edge: 30.00 Hz\n",
      "- Upper transition bandwidth: 7.50 Hz (-6 dB cutoff frequency: 33.75 Hz)\n",
      "- Filter length: 89 samples (0.445 sec)\n",
      "\n"
     ]
    },
    {
     "name": "stderr",
     "output_type": "stream",
     "text": [
      "[Parallel(n_jobs=1)]: Done 1472 out of 1472 | elapsed:    0.4s finished\n",
      "[Parallel(n_jobs=1)]: Using backend SequentialBackend with 1 concurrent workers.\n",
      "[Parallel(n_jobs=1)]: Done   1 out of   1 | elapsed:    0.0s remaining:    0.0s\n",
      "[Parallel(n_jobs=1)]: Done   2 out of   2 | elapsed:    0.0s remaining:    0.0s\n",
      "[Parallel(n_jobs=1)]: Done   3 out of   3 | elapsed:    0.0s remaining:    0.0s\n",
      "[Parallel(n_jobs=1)]: Done   4 out of   4 | elapsed:    0.0s remaining:    0.0s\n"
     ]
    },
    {
     "name": "stdout",
     "output_type": "stream",
     "text": [
      "Overwriting existing file.\n",
      "Reading F:\\Documents\\Science\\MirRevAdaptEEG\\data\\eeg\\p027\\lrp\\mra_p027_run0-epo.fif ...\n",
      "    Found the data of interest:\n",
      "        t =   -2000.00 ...    1995.00 ms\n",
      "        0 CTF compensation matrices available\n"
     ]
    },
    {
     "name": "stderr",
     "output_type": "stream",
     "text": [
      "[Parallel(n_jobs=1)]: Done 1408 out of 1408 | elapsed:    0.4s finished\n"
     ]
    },
    {
     "name": "stdout",
     "output_type": "stream",
     "text": [
      "Not setting metadata\n",
      "419 matching events found\n",
      "No baseline correction applied\n",
      "0 projection items activated\n",
      "Applying baseline correction (mode: mean)\n",
      "Overwriting existing file.\n",
      "Setting up low-pass filter at 30 Hz\n",
      "\n",
      "FIR filter parameters\n",
      "---------------------\n",
      "Designing a one-pass, zero-phase, non-causal lowpass filter:\n",
      "- Windowed time-domain design (firwin) method\n",
      "- Hamming window with 0.0194 passband ripple and 53 dB stopband attenuation\n",
      "- Upper passband edge: 30.00 Hz\n",
      "- Upper transition bandwidth: 7.50 Hz (-6 dB cutoff frequency: 33.75 Hz)\n",
      "- Filter length: 89 samples (0.445 sec)\n",
      "\n"
     ]
    },
    {
     "name": "stderr",
     "output_type": "stream",
     "text": [
      "[Parallel(n_jobs=1)]: Using backend SequentialBackend with 1 concurrent workers.\n",
      "[Parallel(n_jobs=1)]: Done   1 out of   1 | elapsed:    0.0s remaining:    0.0s\n",
      "[Parallel(n_jobs=1)]: Done   2 out of   2 | elapsed:    0.0s remaining:    0.0s\n",
      "[Parallel(n_jobs=1)]: Done   3 out of   3 | elapsed:    0.0s remaining:    0.0s\n",
      "[Parallel(n_jobs=1)]: Done   4 out of   4 | elapsed:    0.0s remaining:    0.0s\n"
     ]
    },
    {
     "name": "stdout",
     "output_type": "stream",
     "text": [
      "Overwriting existing file.\n",
      "Overwriting existing file.\n",
      "Setting up low-pass filter at 30 Hz\n",
      "\n",
      "FIR filter parameters\n",
      "---------------------\n",
      "Designing a one-pass, zero-phase, non-causal lowpass filter:\n",
      "- Windowed time-domain design (firwin) method\n",
      "- Hamming window with 0.0194 passband ripple and 53 dB stopband attenuation\n",
      "- Upper passband edge: 30.00 Hz\n",
      "- Upper transition bandwidth: 7.50 Hz (-6 dB cutoff frequency: 33.75 Hz)\n",
      "- Filter length: 89 samples (0.445 sec)\n",
      "\n"
     ]
    },
    {
     "name": "stderr",
     "output_type": "stream",
     "text": [
      "[Parallel(n_jobs=1)]: Done 1472 out of 1472 | elapsed:    0.5s finished\n",
      "[Parallel(n_jobs=1)]: Using backend SequentialBackend with 1 concurrent workers.\n",
      "[Parallel(n_jobs=1)]: Done   1 out of   1 | elapsed:    0.0s remaining:    0.0s\n",
      "[Parallel(n_jobs=1)]: Done   2 out of   2 | elapsed:    0.0s remaining:    0.0s\n",
      "[Parallel(n_jobs=1)]: Done   3 out of   3 | elapsed:    0.0s remaining:    0.0s\n",
      "[Parallel(n_jobs=1)]: Done   4 out of   4 | elapsed:    0.0s remaining:    0.0s\n"
     ]
    },
    {
     "name": "stdout",
     "output_type": "stream",
     "text": [
      "Overwriting existing file.\n",
      "Overwriting existing file.\n",
      "Setting up low-pass filter at 30 Hz\n",
      "\n",
      "FIR filter parameters\n",
      "---------------------\n",
      "Designing a one-pass, zero-phase, non-causal lowpass filter:\n",
      "- Windowed time-domain design (firwin) method\n",
      "- Hamming window with 0.0194 passband ripple and 53 dB stopband attenuation\n",
      "- Upper passband edge: 30.00 Hz\n",
      "- Upper transition bandwidth: 7.50 Hz (-6 dB cutoff frequency: 33.75 Hz)\n",
      "- Filter length: 89 samples (0.445 sec)\n",
      "\n"
     ]
    },
    {
     "name": "stderr",
     "output_type": "stream",
     "text": [
      "[Parallel(n_jobs=1)]: Done 1408 out of 1408 | elapsed:    0.4s finished\n",
      "[Parallel(n_jobs=1)]: Using backend SequentialBackend with 1 concurrent workers.\n",
      "[Parallel(n_jobs=1)]: Done   1 out of   1 | elapsed:    0.0s remaining:    0.0s\n",
      "[Parallel(n_jobs=1)]: Done   2 out of   2 | elapsed:    0.0s remaining:    0.0s\n",
      "[Parallel(n_jobs=1)]: Done   3 out of   3 | elapsed:    0.0s remaining:    0.0s\n",
      "[Parallel(n_jobs=1)]: Done   4 out of   4 | elapsed:    0.0s remaining:    0.0s\n"
     ]
    },
    {
     "name": "stdout",
     "output_type": "stream",
     "text": [
      "Overwriting existing file.\n",
      "Overwriting existing file.\n",
      "Setting up low-pass filter at 30 Hz\n",
      "\n",
      "FIR filter parameters\n",
      "---------------------\n",
      "Designing a one-pass, zero-phase, non-causal lowpass filter:\n",
      "- Windowed time-domain design (firwin) method\n",
      "- Hamming window with 0.0194 passband ripple and 53 dB stopband attenuation\n",
      "- Upper passband edge: 30.00 Hz\n",
      "- Upper transition bandwidth: 7.50 Hz (-6 dB cutoff frequency: 33.75 Hz)\n",
      "- Filter length: 89 samples (0.445 sec)\n",
      "\n"
     ]
    },
    {
     "name": "stderr",
     "output_type": "stream",
     "text": [
      "[Parallel(n_jobs=1)]: Done 1408 out of 1408 | elapsed:    0.4s finished\n",
      "[Parallel(n_jobs=1)]: Using backend SequentialBackend with 1 concurrent workers.\n",
      "[Parallel(n_jobs=1)]: Done   1 out of   1 | elapsed:    0.0s remaining:    0.0s\n",
      "[Parallel(n_jobs=1)]: Done   2 out of   2 | elapsed:    0.0s remaining:    0.0s\n",
      "[Parallel(n_jobs=1)]: Done   3 out of   3 | elapsed:    0.0s remaining:    0.0s\n",
      "[Parallel(n_jobs=1)]: Done   4 out of   4 | elapsed:    0.0s remaining:    0.0s\n"
     ]
    },
    {
     "name": "stdout",
     "output_type": "stream",
     "text": [
      "Overwriting existing file.\n",
      "Reading F:\\Documents\\Science\\MirRevAdaptEEG\\data\\eeg\\p028\\lrp\\mra_p028_run0-epo.fif ...\n",
      "    Found the data of interest:\n",
      "        t =   -2000.00 ...    1995.00 ms\n",
      "        0 CTF compensation matrices available\n"
     ]
    },
    {
     "name": "stderr",
     "output_type": "stream",
     "text": [
      "[Parallel(n_jobs=1)]: Done 1472 out of 1472 | elapsed:    0.4s finished\n"
     ]
    },
    {
     "name": "stdout",
     "output_type": "stream",
     "text": [
      "Not setting metadata\n",
      "420 matching events found\n",
      "No baseline correction applied\n",
      "0 projection items activated\n",
      "Applying baseline correction (mode: mean)\n",
      "Reading F:\\Documents\\Science\\MirRevAdaptEEG\\data\\eeg\\p029\\lrp\\mra_p029_run0-epo.fif ...\n",
      "    Found the data of interest:\n",
      "        t =   -2000.00 ...    1995.00 ms\n",
      "        0 CTF compensation matrices available\n",
      "Not setting metadata\n",
      "420 matching events found\n",
      "No baseline correction applied\n",
      "0 projection items activated\n",
      "Applying baseline correction (mode: mean)\n",
      "Reading F:\\Documents\\Science\\MirRevAdaptEEG\\data\\eeg\\p030\\lrp\\mra_p030_run0-epo.fif ...\n",
      "    Found the data of interest:\n",
      "        t =   -2000.00 ...    1995.00 ms\n",
      "        0 CTF compensation matrices available\n",
      "Not setting metadata\n",
      "420 matching events found\n",
      "No baseline correction applied\n",
      "0 projection items activated\n",
      "Applying baseline correction (mode: mean)\n",
      "Reading F:\\Documents\\Science\\MirRevAdaptEEG\\data\\eeg\\p031\\lrp\\mra_p031_run0-epo.fif ...\n",
      "    Found the data of interest:\n",
      "        t =   -2000.00 ...    1995.00 ms\n",
      "        0 CTF compensation matrices available\n",
      "Not setting metadata\n",
      "420 matching events found\n",
      "No baseline correction applied\n",
      "0 projection items activated\n",
      "Applying baseline correction (mode: mean)\n",
      "Reading F:\\Documents\\Science\\MirRevAdaptEEG\\data\\eeg\\p000\\lrp\\mra_p000_run0-epo.fif ...\n",
      "    Found the data of interest:\n",
      "        t =   -2000.00 ...    1995.00 ms\n",
      "        0 CTF compensation matrices available\n",
      "Not setting metadata\n",
      "420 matching events found\n",
      "No baseline correction applied\n",
      "0 projection items activated\n",
      "Applying baseline correction (mode: mean)\n",
      "Reading F:\\Documents\\Science\\MirRevAdaptEEG\\data\\eeg\\p001\\lrp\\mra_p001_run0-epo.fif ...\n",
      "    Found the data of interest:\n",
      "        t =   -2000.00 ...    1995.00 ms\n",
      "        0 CTF compensation matrices available\n",
      "Not setting metadata\n",
      "420 matching events found\n",
      "No baseline correction applied\n",
      "0 projection items activated\n",
      "Applying baseline correction (mode: mean)\n",
      "Reading F:\\Documents\\Science\\MirRevAdaptEEG\\data\\eeg\\p002\\lrp\\mra_p002_run0-epo.fif ...\n",
      "    Found the data of interest:\n",
      "        t =   -2000.00 ...    1995.00 ms\n",
      "        0 CTF compensation matrices available\n",
      "Not setting metadata\n",
      "419 matching events found\n",
      "No baseline correction applied\n",
      "0 projection items activated\n",
      "Applying baseline correction (mode: mean)\n",
      "Reading F:\\Documents\\Science\\MirRevAdaptEEG\\data\\eeg\\p003\\lrp\\mra_p003_run0-epo.fif ...\n",
      "    Found the data of interest:\n",
      "        t =   -2000.00 ...    1995.00 ms\n",
      "        0 CTF compensation matrices available\n",
      "Not setting metadata\n",
      "418 matching events found\n",
      "No baseline correction applied\n",
      "0 projection items activated\n",
      "Applying baseline correction (mode: mean)\n",
      "Reading F:\\Documents\\Science\\MirRevAdaptEEG\\data\\eeg\\p004\\lrp\\mra_p004_run0-epo.fif ...\n",
      "    Found the data of interest:\n",
      "        t =   -2000.00 ...    1995.00 ms\n",
      "        0 CTF compensation matrices available\n",
      "Not setting metadata\n",
      "418 matching events found\n",
      "No baseline correction applied\n",
      "0 projection items activated\n",
      "Applying baseline correction (mode: mean)\n",
      "Overwriting existing file.\n",
      "Setting up low-pass filter at 30 Hz\n",
      "\n",
      "FIR filter parameters\n",
      "---------------------\n",
      "Designing a one-pass, zero-phase, non-causal lowpass filter:\n",
      "- Windowed time-domain design (firwin) method\n",
      "- Hamming window with 0.0194 passband ripple and 53 dB stopband attenuation\n",
      "- Upper passband edge: 30.00 Hz\n",
      "- Upper transition bandwidth: 7.50 Hz (-6 dB cutoff frequency: 33.75 Hz)\n",
      "- Filter length: 89 samples (0.445 sec)\n",
      "\n"
     ]
    },
    {
     "name": "stderr",
     "output_type": "stream",
     "text": [
      "[Parallel(n_jobs=1)]: Using backend SequentialBackend with 1 concurrent workers.\n",
      "[Parallel(n_jobs=1)]: Done   1 out of   1 | elapsed:    0.0s remaining:    0.0s\n",
      "[Parallel(n_jobs=1)]: Done   2 out of   2 | elapsed:    0.0s remaining:    0.0s\n",
      "[Parallel(n_jobs=1)]: Done   3 out of   3 | elapsed:    0.0s remaining:    0.0s\n",
      "[Parallel(n_jobs=1)]: Done   4 out of   4 | elapsed:    0.0s remaining:    0.0s\n"
     ]
    },
    {
     "name": "stdout",
     "output_type": "stream",
     "text": [
      "Overwriting existing file.\n",
      "Overwriting existing file.\n",
      "Setting up low-pass filter at 30 Hz\n",
      "\n",
      "FIR filter parameters\n",
      "---------------------\n",
      "Designing a one-pass, zero-phase, non-causal lowpass filter:\n",
      "- Windowed time-domain design (firwin) method\n",
      "- Hamming window with 0.0194 passband ripple and 53 dB stopband attenuation\n",
      "- Upper passband edge: 30.00 Hz\n",
      "- Upper transition bandwidth: 7.50 Hz (-6 dB cutoff frequency: 33.75 Hz)\n",
      "- Filter length: 89 samples (0.445 sec)\n",
      "\n"
     ]
    },
    {
     "name": "stderr",
     "output_type": "stream",
     "text": [
      "[Parallel(n_jobs=1)]: Done 1472 out of 1472 | elapsed:    0.4s finished\n",
      "[Parallel(n_jobs=1)]: Using backend SequentialBackend with 1 concurrent workers.\n",
      "[Parallel(n_jobs=1)]: Done   1 out of   1 | elapsed:    0.0s remaining:    0.0s\n",
      "[Parallel(n_jobs=1)]: Done   2 out of   2 | elapsed:    0.0s remaining:    0.0s\n",
      "[Parallel(n_jobs=1)]: Done   3 out of   3 | elapsed:    0.0s remaining:    0.0s\n",
      "[Parallel(n_jobs=1)]: Done   4 out of   4 | elapsed:    0.0s remaining:    0.0s\n"
     ]
    },
    {
     "name": "stdout",
     "output_type": "stream",
     "text": [
      "Overwriting existing file.\n",
      "Overwriting existing file.\n",
      "Setting up low-pass filter at 30 Hz\n",
      "\n",
      "FIR filter parameters\n",
      "---------------------\n",
      "Designing a one-pass, zero-phase, non-causal lowpass filter:\n",
      "- Windowed time-domain design (firwin) method\n",
      "- Hamming window with 0.0194 passband ripple and 53 dB stopband attenuation\n",
      "- Upper passband edge: 30.00 Hz\n",
      "- Upper transition bandwidth: 7.50 Hz (-6 dB cutoff frequency: 33.75 Hz)\n",
      "- Filter length: 89 samples (0.445 sec)\n",
      "\n"
     ]
    },
    {
     "name": "stderr",
     "output_type": "stream",
     "text": [
      "[Parallel(n_jobs=1)]: Done 1408 out of 1408 | elapsed:    0.4s finished\n",
      "[Parallel(n_jobs=1)]: Using backend SequentialBackend with 1 concurrent workers.\n",
      "[Parallel(n_jobs=1)]: Done   1 out of   1 | elapsed:    0.0s remaining:    0.0s\n",
      "[Parallel(n_jobs=1)]: Done   2 out of   2 | elapsed:    0.0s remaining:    0.0s\n",
      "[Parallel(n_jobs=1)]: Done   3 out of   3 | elapsed:    0.0s remaining:    0.0s\n",
      "[Parallel(n_jobs=1)]: Done   4 out of   4 | elapsed:    0.0s remaining:    0.0s\n"
     ]
    },
    {
     "name": "stdout",
     "output_type": "stream",
     "text": [
      "Overwriting existing file.\n",
      "Overwriting existing file.\n",
      "Setting up low-pass filter at 30 Hz\n",
      "\n",
      "FIR filter parameters\n",
      "---------------------\n",
      "Designing a one-pass, zero-phase, non-causal lowpass filter:\n",
      "- Windowed time-domain design (firwin) method\n",
      "- Hamming window with 0.0194 passband ripple and 53 dB stopband attenuation\n",
      "- Upper passband edge: 30.00 Hz\n",
      "- Upper transition bandwidth: 7.50 Hz (-6 dB cutoff frequency: 33.75 Hz)\n",
      "- Filter length: 89 samples (0.445 sec)\n",
      "\n"
     ]
    },
    {
     "name": "stderr",
     "output_type": "stream",
     "text": [
      "[Parallel(n_jobs=1)]: Done 1408 out of 1408 | elapsed:    0.4s finished\n",
      "[Parallel(n_jobs=1)]: Using backend SequentialBackend with 1 concurrent workers.\n",
      "[Parallel(n_jobs=1)]: Done   1 out of   1 | elapsed:    0.0s remaining:    0.0s\n",
      "[Parallel(n_jobs=1)]: Done   2 out of   2 | elapsed:    0.0s remaining:    0.0s\n",
      "[Parallel(n_jobs=1)]: Done   3 out of   3 | elapsed:    0.0s remaining:    0.0s\n",
      "[Parallel(n_jobs=1)]: Done   4 out of   4 | elapsed:    0.0s remaining:    0.0s\n"
     ]
    },
    {
     "name": "stdout",
     "output_type": "stream",
     "text": [
      "Overwriting existing file.\n",
      "Reading F:\\Documents\\Science\\MirRevAdaptEEG\\data\\eeg\\p005\\lrp\\mra_p005_run0-epo.fif ...\n",
      "    Found the data of interest:\n",
      "        t =   -2000.00 ...    1995.00 ms\n",
      "        0 CTF compensation matrices available\n",
      "Not setting metadata\n"
     ]
    },
    {
     "name": "stderr",
     "output_type": "stream",
     "text": [
      "[Parallel(n_jobs=1)]: Done 1472 out of 1472 | elapsed:    0.4s finished\n"
     ]
    },
    {
     "name": "stdout",
     "output_type": "stream",
     "text": [
      "419 matching events found\n",
      "No baseline correction applied\n",
      "0 projection items activated\n",
      "Applying baseline correction (mode: mean)\n",
      "Overwriting existing file.\n",
      "Setting up low-pass filter at 30 Hz\n",
      "\n",
      "FIR filter parameters\n",
      "---------------------\n",
      "Designing a one-pass, zero-phase, non-causal lowpass filter:\n",
      "- Windowed time-domain design (firwin) method\n",
      "- Hamming window with 0.0194 passband ripple and 53 dB stopband attenuation\n",
      "- Upper passband edge: 30.00 Hz\n",
      "- Upper transition bandwidth: 7.50 Hz (-6 dB cutoff frequency: 33.75 Hz)\n",
      "- Filter length: 89 samples (0.445 sec)\n",
      "\n"
     ]
    },
    {
     "name": "stderr",
     "output_type": "stream",
     "text": [
      "[Parallel(n_jobs=1)]: Using backend SequentialBackend with 1 concurrent workers.\n",
      "[Parallel(n_jobs=1)]: Done   1 out of   1 | elapsed:    0.0s remaining:    0.0s\n",
      "[Parallel(n_jobs=1)]: Done   2 out of   2 | elapsed:    0.0s remaining:    0.0s\n",
      "[Parallel(n_jobs=1)]: Done   3 out of   3 | elapsed:    0.0s remaining:    0.0s\n",
      "[Parallel(n_jobs=1)]: Done   4 out of   4 | elapsed:    0.0s remaining:    0.0s\n"
     ]
    },
    {
     "name": "stdout",
     "output_type": "stream",
     "text": [
      "Overwriting existing file.\n",
      "Overwriting existing file.\n",
      "Setting up low-pass filter at 30 Hz\n",
      "\n",
      "FIR filter parameters\n",
      "---------------------\n",
      "Designing a one-pass, zero-phase, non-causal lowpass filter:\n",
      "- Windowed time-domain design (firwin) method\n",
      "- Hamming window with 0.0194 passband ripple and 53 dB stopband attenuation\n",
      "- Upper passband edge: 30.00 Hz\n",
      "- Upper transition bandwidth: 7.50 Hz (-6 dB cutoff frequency: 33.75 Hz)\n",
      "- Filter length: 89 samples (0.445 sec)\n",
      "\n"
     ]
    },
    {
     "name": "stderr",
     "output_type": "stream",
     "text": [
      "[Parallel(n_jobs=1)]: Done 1216 out of 1216 | elapsed:    0.3s finished\n",
      "[Parallel(n_jobs=1)]: Using backend SequentialBackend with 1 concurrent workers.\n",
      "[Parallel(n_jobs=1)]: Done   1 out of   1 | elapsed:    0.0s remaining:    0.0s\n",
      "[Parallel(n_jobs=1)]: Done   2 out of   2 | elapsed:    0.0s remaining:    0.0s\n",
      "[Parallel(n_jobs=1)]: Done   3 out of   3 | elapsed:    0.0s remaining:    0.0s\n",
      "[Parallel(n_jobs=1)]: Done   4 out of   4 | elapsed:    0.0s remaining:    0.0s\n"
     ]
    },
    {
     "name": "stdout",
     "output_type": "stream",
     "text": [
      "Overwriting existing file.\n",
      "Overwriting existing file.\n",
      "Setting up low-pass filter at 30 Hz\n",
      "\n",
      "FIR filter parameters\n",
      "---------------------\n",
      "Designing a one-pass, zero-phase, non-causal lowpass filter:\n",
      "- Windowed time-domain design (firwin) method\n",
      "- Hamming window with 0.0194 passband ripple and 53 dB stopband attenuation\n",
      "- Upper passband edge: 30.00 Hz\n",
      "- Upper transition bandwidth: 7.50 Hz (-6 dB cutoff frequency: 33.75 Hz)\n",
      "- Filter length: 89 samples (0.445 sec)\n",
      "\n"
     ]
    },
    {
     "name": "stderr",
     "output_type": "stream",
     "text": [
      "[Parallel(n_jobs=1)]: Done 1536 out of 1536 | elapsed:    0.4s finished\n",
      "[Parallel(n_jobs=1)]: Using backend SequentialBackend with 1 concurrent workers.\n",
      "[Parallel(n_jobs=1)]: Done   1 out of   1 | elapsed:    0.0s remaining:    0.0s\n",
      "[Parallel(n_jobs=1)]: Done   2 out of   2 | elapsed:    0.0s remaining:    0.0s\n",
      "[Parallel(n_jobs=1)]: Done   3 out of   3 | elapsed:    0.0s remaining:    0.0s\n",
      "[Parallel(n_jobs=1)]: Done   4 out of   4 | elapsed:    0.0s remaining:    0.0s\n"
     ]
    },
    {
     "name": "stdout",
     "output_type": "stream",
     "text": [
      "Overwriting existing file.\n",
      "Overwriting existing file.\n",
      "Setting up low-pass filter at 30 Hz\n",
      "\n",
      "FIR filter parameters\n",
      "---------------------\n",
      "Designing a one-pass, zero-phase, non-causal lowpass filter:\n",
      "- Windowed time-domain design (firwin) method\n",
      "- Hamming window with 0.0194 passband ripple and 53 dB stopband attenuation\n",
      "- Upper passband edge: 30.00 Hz\n",
      "- Upper transition bandwidth: 7.50 Hz (-6 dB cutoff frequency: 33.75 Hz)\n",
      "- Filter length: 89 samples (0.445 sec)\n",
      "\n"
     ]
    },
    {
     "name": "stderr",
     "output_type": "stream",
     "text": [
      "[Parallel(n_jobs=1)]: Done 1664 out of 1664 | elapsed:    0.5s finished\n",
      "[Parallel(n_jobs=1)]: Using backend SequentialBackend with 1 concurrent workers.\n",
      "[Parallel(n_jobs=1)]: Done   1 out of   1 | elapsed:    0.0s remaining:    0.0s\n",
      "[Parallel(n_jobs=1)]: Done   2 out of   2 | elapsed:    0.0s remaining:    0.0s\n",
      "[Parallel(n_jobs=1)]: Done   3 out of   3 | elapsed:    0.0s remaining:    0.0s\n",
      "[Parallel(n_jobs=1)]: Done   4 out of   4 | elapsed:    0.0s remaining:    0.0s\n"
     ]
    },
    {
     "name": "stdout",
     "output_type": "stream",
     "text": [
      "Overwriting existing file.\n",
      "Reading F:\\Documents\\Science\\MirRevAdaptEEG\\data\\eeg\\p006\\lrp\\mra_p006_run0-epo.fif ...\n",
      "    Found the data of interest:\n",
      "        t =   -2000.00 ...    1995.00 ms\n",
      "        0 CTF compensation matrices available\n"
     ]
    },
    {
     "name": "stderr",
     "output_type": "stream",
     "text": [
      "[Parallel(n_jobs=1)]: Done 1344 out of 1344 | elapsed:    0.4s finished\n"
     ]
    },
    {
     "name": "stdout",
     "output_type": "stream",
     "text": [
      "Not setting metadata\n",
      "418 matching events found\n",
      "No baseline correction applied\n",
      "0 projection items activated\n",
      "Applying baseline correction (mode: mean)\n",
      "Overwriting existing file.\n",
      "Setting up low-pass filter at 30 Hz\n",
      "\n",
      "FIR filter parameters\n",
      "---------------------\n",
      "Designing a one-pass, zero-phase, non-causal lowpass filter:\n",
      "- Windowed time-domain design (firwin) method\n",
      "- Hamming window with 0.0194 passband ripple and 53 dB stopband attenuation\n",
      "- Upper passband edge: 30.00 Hz\n",
      "- Upper transition bandwidth: 7.50 Hz (-6 dB cutoff frequency: 33.75 Hz)\n",
      "- Filter length: 89 samples (0.445 sec)\n",
      "\n"
     ]
    },
    {
     "name": "stderr",
     "output_type": "stream",
     "text": [
      "[Parallel(n_jobs=1)]: Using backend SequentialBackend with 1 concurrent workers.\n",
      "[Parallel(n_jobs=1)]: Done   1 out of   1 | elapsed:    0.0s remaining:    0.0s\n",
      "[Parallel(n_jobs=1)]: Done   2 out of   2 | elapsed:    0.0s remaining:    0.0s\n",
      "[Parallel(n_jobs=1)]: Done   3 out of   3 | elapsed:    0.0s remaining:    0.0s\n",
      "[Parallel(n_jobs=1)]: Done   4 out of   4 | elapsed:    0.0s remaining:    0.0s\n"
     ]
    },
    {
     "name": "stdout",
     "output_type": "stream",
     "text": [
      "Overwriting existing file.\n",
      "Overwriting existing file.\n",
      "Setting up low-pass filter at 30 Hz\n",
      "\n",
      "FIR filter parameters\n",
      "---------------------\n",
      "Designing a one-pass, zero-phase, non-causal lowpass filter:\n",
      "- Windowed time-domain design (firwin) method\n",
      "- Hamming window with 0.0194 passband ripple and 53 dB stopband attenuation\n",
      "- Upper passband edge: 30.00 Hz\n",
      "- Upper transition bandwidth: 7.50 Hz (-6 dB cutoff frequency: 33.75 Hz)\n",
      "- Filter length: 89 samples (0.445 sec)\n",
      "\n"
     ]
    },
    {
     "name": "stderr",
     "output_type": "stream",
     "text": [
      "[Parallel(n_jobs=1)]: Done 1472 out of 1472 | elapsed:    0.4s finished\n",
      "[Parallel(n_jobs=1)]: Using backend SequentialBackend with 1 concurrent workers.\n",
      "[Parallel(n_jobs=1)]: Done   1 out of   1 | elapsed:    0.0s remaining:    0.0s\n",
      "[Parallel(n_jobs=1)]: Done   2 out of   2 | elapsed:    0.0s remaining:    0.0s\n",
      "[Parallel(n_jobs=1)]: Done   3 out of   3 | elapsed:    0.0s remaining:    0.0s\n",
      "[Parallel(n_jobs=1)]: Done   4 out of   4 | elapsed:    0.0s remaining:    0.0s\n"
     ]
    },
    {
     "name": "stdout",
     "output_type": "stream",
     "text": [
      "Overwriting existing file.\n",
      "Overwriting existing file.\n",
      "Setting up low-pass filter at 30 Hz\n",
      "\n",
      "FIR filter parameters\n",
      "---------------------\n",
      "Designing a one-pass, zero-phase, non-causal lowpass filter:\n",
      "- Windowed time-domain design (firwin) method\n",
      "- Hamming window with 0.0194 passband ripple and 53 dB stopband attenuation\n",
      "- Upper passband edge: 30.00 Hz\n",
      "- Upper transition bandwidth: 7.50 Hz (-6 dB cutoff frequency: 33.75 Hz)\n",
      "- Filter length: 89 samples (0.445 sec)\n",
      "\n"
     ]
    },
    {
     "name": "stderr",
     "output_type": "stream",
     "text": [
      "[Parallel(n_jobs=1)]: Done 1408 out of 1408 | elapsed:    0.4s finished\n",
      "[Parallel(n_jobs=1)]: Using backend SequentialBackend with 1 concurrent workers.\n",
      "[Parallel(n_jobs=1)]: Done   1 out of   1 | elapsed:    0.0s remaining:    0.0s\n",
      "[Parallel(n_jobs=1)]: Done   2 out of   2 | elapsed:    0.0s remaining:    0.0s\n",
      "[Parallel(n_jobs=1)]: Done   3 out of   3 | elapsed:    0.0s remaining:    0.0s\n",
      "[Parallel(n_jobs=1)]: Done   4 out of   4 | elapsed:    0.0s remaining:    0.0s\n"
     ]
    },
    {
     "name": "stdout",
     "output_type": "stream",
     "text": [
      "Overwriting existing file.\n",
      "Overwriting existing file.\n",
      "Setting up low-pass filter at 30 Hz\n",
      "\n",
      "FIR filter parameters\n",
      "---------------------\n",
      "Designing a one-pass, zero-phase, non-causal lowpass filter:\n",
      "- Windowed time-domain design (firwin) method\n",
      "- Hamming window with 0.0194 passband ripple and 53 dB stopband attenuation\n",
      "- Upper passband edge: 30.00 Hz\n",
      "- Upper transition bandwidth: 7.50 Hz (-6 dB cutoff frequency: 33.75 Hz)\n",
      "- Filter length: 89 samples (0.445 sec)\n",
      "\n"
     ]
    },
    {
     "name": "stderr",
     "output_type": "stream",
     "text": [
      "[Parallel(n_jobs=1)]: Done 1408 out of 1408 | elapsed:    0.4s finished\n",
      "[Parallel(n_jobs=1)]: Using backend SequentialBackend with 1 concurrent workers.\n",
      "[Parallel(n_jobs=1)]: Done   1 out of   1 | elapsed:    0.0s remaining:    0.0s\n",
      "[Parallel(n_jobs=1)]: Done   2 out of   2 | elapsed:    0.0s remaining:    0.0s\n",
      "[Parallel(n_jobs=1)]: Done   3 out of   3 | elapsed:    0.0s remaining:    0.0s\n",
      "[Parallel(n_jobs=1)]: Done   4 out of   4 | elapsed:    0.0s remaining:    0.0s\n"
     ]
    },
    {
     "name": "stdout",
     "output_type": "stream",
     "text": [
      "Overwriting existing file.\n",
      "Reading F:\\Documents\\Science\\MirRevAdaptEEG\\data\\eeg\\p007\\lrp\\mra_p007_run0-epo.fif ...\n",
      "    Found the data of interest:\n",
      "        t =   -2000.00 ...    1995.00 ms\n",
      "        0 CTF compensation matrices available\n",
      "Not setting metadata\n"
     ]
    },
    {
     "name": "stderr",
     "output_type": "stream",
     "text": [
      "[Parallel(n_jobs=1)]: Done 1408 out of 1408 | elapsed:    0.4s finished\n"
     ]
    },
    {
     "name": "stdout",
     "output_type": "stream",
     "text": [
      "420 matching events found\n",
      "No baseline correction applied\n",
      "0 projection items activated\n",
      "Applying baseline correction (mode: mean)\n",
      "Overwriting existing file.\n",
      "Setting up low-pass filter at 30 Hz\n",
      "\n",
      "FIR filter parameters\n",
      "---------------------\n",
      "Designing a one-pass, zero-phase, non-causal lowpass filter:\n",
      "- Windowed time-domain design (firwin) method\n",
      "- Hamming window with 0.0194 passband ripple and 53 dB stopband attenuation\n",
      "- Upper passband edge: 30.00 Hz\n",
      "- Upper transition bandwidth: 7.50 Hz (-6 dB cutoff frequency: 33.75 Hz)\n",
      "- Filter length: 89 samples (0.445 sec)\n",
      "\n"
     ]
    },
    {
     "name": "stderr",
     "output_type": "stream",
     "text": [
      "[Parallel(n_jobs=1)]: Using backend SequentialBackend with 1 concurrent workers.\n",
      "[Parallel(n_jobs=1)]: Done   1 out of   1 | elapsed:    0.0s remaining:    0.0s\n",
      "[Parallel(n_jobs=1)]: Done   2 out of   2 | elapsed:    0.0s remaining:    0.0s\n",
      "[Parallel(n_jobs=1)]: Done   3 out of   3 | elapsed:    0.0s remaining:    0.0s\n",
      "[Parallel(n_jobs=1)]: Done   4 out of   4 | elapsed:    0.0s remaining:    0.0s\n"
     ]
    },
    {
     "name": "stdout",
     "output_type": "stream",
     "text": [
      "Overwriting existing file.\n",
      "Overwriting existing file.\n",
      "Setting up low-pass filter at 30 Hz\n",
      "\n",
      "FIR filter parameters\n",
      "---------------------\n",
      "Designing a one-pass, zero-phase, non-causal lowpass filter:\n",
      "- Windowed time-domain design (firwin) method\n",
      "- Hamming window with 0.0194 passband ripple and 53 dB stopband attenuation\n",
      "- Upper passband edge: 30.00 Hz\n",
      "- Upper transition bandwidth: 7.50 Hz (-6 dB cutoff frequency: 33.75 Hz)\n",
      "- Filter length: 89 samples (0.445 sec)\n",
      "\n"
     ]
    },
    {
     "name": "stderr",
     "output_type": "stream",
     "text": [
      "[Parallel(n_jobs=1)]: Done 1472 out of 1472 | elapsed:    0.4s finished\n",
      "[Parallel(n_jobs=1)]: Using backend SequentialBackend with 1 concurrent workers.\n",
      "[Parallel(n_jobs=1)]: Done   1 out of   1 | elapsed:    0.0s remaining:    0.0s\n",
      "[Parallel(n_jobs=1)]: Done   2 out of   2 | elapsed:    0.0s remaining:    0.0s\n",
      "[Parallel(n_jobs=1)]: Done   3 out of   3 | elapsed:    0.0s remaining:    0.0s\n",
      "[Parallel(n_jobs=1)]: Done   4 out of   4 | elapsed:    0.0s remaining:    0.0s\n"
     ]
    },
    {
     "name": "stdout",
     "output_type": "stream",
     "text": [
      "Overwriting existing file.\n",
      "Overwriting existing file.\n",
      "Setting up low-pass filter at 30 Hz\n",
      "\n",
      "FIR filter parameters\n",
      "---------------------\n",
      "Designing a one-pass, zero-phase, non-causal lowpass filter:\n",
      "- Windowed time-domain design (firwin) method\n",
      "- Hamming window with 0.0194 passband ripple and 53 dB stopband attenuation\n",
      "- Upper passband edge: 30.00 Hz\n",
      "- Upper transition bandwidth: 7.50 Hz (-6 dB cutoff frequency: 33.75 Hz)\n",
      "- Filter length: 89 samples (0.445 sec)\n",
      "\n"
     ]
    },
    {
     "name": "stderr",
     "output_type": "stream",
     "text": [
      "[Parallel(n_jobs=1)]: Done 1472 out of 1472 | elapsed:    0.4s finished\n",
      "[Parallel(n_jobs=1)]: Using backend SequentialBackend with 1 concurrent workers.\n",
      "[Parallel(n_jobs=1)]: Done   1 out of   1 | elapsed:    0.0s remaining:    0.0s\n",
      "[Parallel(n_jobs=1)]: Done   2 out of   2 | elapsed:    0.0s remaining:    0.0s\n",
      "[Parallel(n_jobs=1)]: Done   3 out of   3 | elapsed:    0.0s remaining:    0.0s\n",
      "[Parallel(n_jobs=1)]: Done   4 out of   4 | elapsed:    0.0s remaining:    0.0s\n"
     ]
    },
    {
     "name": "stdout",
     "output_type": "stream",
     "text": [
      "Overwriting existing file.\n",
      "Overwriting existing file.\n",
      "Setting up low-pass filter at 30 Hz\n",
      "\n",
      "FIR filter parameters\n",
      "---------------------\n",
      "Designing a one-pass, zero-phase, non-causal lowpass filter:\n",
      "- Windowed time-domain design (firwin) method\n",
      "- Hamming window with 0.0194 passband ripple and 53 dB stopband attenuation\n",
      "- Upper passband edge: 30.00 Hz\n",
      "- Upper transition bandwidth: 7.50 Hz (-6 dB cutoff frequency: 33.75 Hz)\n",
      "- Filter length: 89 samples (0.445 sec)\n",
      "\n"
     ]
    },
    {
     "name": "stderr",
     "output_type": "stream",
     "text": [
      "[Parallel(n_jobs=1)]: Done 1408 out of 1408 | elapsed:    0.4s finished\n",
      "[Parallel(n_jobs=1)]: Using backend SequentialBackend with 1 concurrent workers.\n",
      "[Parallel(n_jobs=1)]: Done   1 out of   1 | elapsed:    0.0s remaining:    0.0s\n",
      "[Parallel(n_jobs=1)]: Done   2 out of   2 | elapsed:    0.0s remaining:    0.0s\n",
      "[Parallel(n_jobs=1)]: Done   3 out of   3 | elapsed:    0.0s remaining:    0.0s\n",
      "[Parallel(n_jobs=1)]: Done   4 out of   4 | elapsed:    0.0s remaining:    0.0s\n"
     ]
    },
    {
     "name": "stdout",
     "output_type": "stream",
     "text": [
      "Overwriting existing file.\n",
      "Reading F:\\Documents\\Science\\MirRevAdaptEEG\\data\\eeg\\p008\\lrp\\mra_p008_run0-epo.fif ...\n",
      "    Found the data of interest:\n",
      "        t =   -2000.00 ...    1995.00 ms\n",
      "        0 CTF compensation matrices available\n"
     ]
    },
    {
     "name": "stderr",
     "output_type": "stream",
     "text": [
      "[Parallel(n_jobs=1)]: Done 1408 out of 1408 | elapsed:    0.4s finished\n"
     ]
    },
    {
     "name": "stdout",
     "output_type": "stream",
     "text": [
      "Not setting metadata\n",
      "420 matching events found\n",
      "No baseline correction applied\n",
      "0 projection items activated\n",
      "Applying baseline correction (mode: mean)\n",
      "Reading F:\\Documents\\Science\\MirRevAdaptEEG\\data\\eeg\\p009\\lrp\\mra_p009_run0-epo.fif ...\n",
      "    Found the data of interest:\n",
      "        t =   -2000.00 ...    1995.00 ms\n",
      "        0 CTF compensation matrices available\n",
      "Not setting metadata\n",
      "419 matching events found\n",
      "No baseline correction applied\n",
      "0 projection items activated\n",
      "Applying baseline correction (mode: mean)\n",
      "Reading F:\\Documents\\Science\\MirRevAdaptEEG\\data\\eeg\\p010\\lrp\\mra_p010_run0-epo.fif ...\n",
      "    Found the data of interest:\n",
      "        t =   -2000.00 ...    1995.00 ms\n",
      "        0 CTF compensation matrices available\n",
      "Not setting metadata\n",
      "420 matching events found\n",
      "No baseline correction applied\n",
      "0 projection items activated\n",
      "Applying baseline correction (mode: mean)\n",
      "Reading F:\\Documents\\Science\\MirRevAdaptEEG\\data\\eeg\\p011\\lrp\\mra_p011_run0-epo.fif ...\n",
      "    Found the data of interest:\n",
      "        t =   -2000.00 ...    1995.00 ms\n",
      "        0 CTF compensation matrices available\n",
      "Not setting metadata\n",
      "419 matching events found\n",
      "No baseline correction applied\n",
      "0 projection items activated\n",
      "Applying baseline correction (mode: mean)\n",
      "Reading F:\\Documents\\Science\\MirRevAdaptEEG\\data\\eeg\\p012\\lrp\\mra_p012_run0-epo.fif ...\n",
      "    Found the data of interest:\n",
      "        t =   -2000.00 ...    1995.00 ms\n",
      "        0 CTF compensation matrices available\n",
      "Not setting metadata\n",
      "412 matching events found\n",
      "No baseline correction applied\n",
      "0 projection items activated\n",
      "Applying baseline correction (mode: mean)\n",
      "Overwriting existing file.\n",
      "Setting up low-pass filter at 30 Hz\n",
      "\n",
      "FIR filter parameters\n",
      "---------------------\n",
      "Designing a one-pass, zero-phase, non-causal lowpass filter:\n",
      "- Windowed time-domain design (firwin) method\n",
      "- Hamming window with 0.0194 passband ripple and 53 dB stopband attenuation\n",
      "- Upper passband edge: 30.00 Hz\n",
      "- Upper transition bandwidth: 7.50 Hz (-6 dB cutoff frequency: 33.75 Hz)\n",
      "- Filter length: 89 samples (0.445 sec)\n",
      "\n"
     ]
    },
    {
     "name": "stderr",
     "output_type": "stream",
     "text": [
      "[Parallel(n_jobs=1)]: Using backend SequentialBackend with 1 concurrent workers.\n",
      "[Parallel(n_jobs=1)]: Done   1 out of   1 | elapsed:    0.0s remaining:    0.0s\n",
      "[Parallel(n_jobs=1)]: Done   2 out of   2 | elapsed:    0.0s remaining:    0.0s\n",
      "[Parallel(n_jobs=1)]: Done   3 out of   3 | elapsed:    0.0s remaining:    0.0s\n",
      "[Parallel(n_jobs=1)]: Done   4 out of   4 | elapsed:    0.0s remaining:    0.0s\n"
     ]
    },
    {
     "name": "stdout",
     "output_type": "stream",
     "text": [
      "Overwriting existing file.\n",
      "Overwriting existing file.\n",
      "Setting up low-pass filter at 30 Hz\n",
      "\n",
      "FIR filter parameters\n",
      "---------------------\n",
      "Designing a one-pass, zero-phase, non-causal lowpass filter:\n",
      "- Windowed time-domain design (firwin) method\n",
      "- Hamming window with 0.0194 passband ripple and 53 dB stopband attenuation\n",
      "- Upper passband edge: 30.00 Hz\n",
      "- Upper transition bandwidth: 7.50 Hz (-6 dB cutoff frequency: 33.75 Hz)\n",
      "- Filter length: 89 samples (0.445 sec)\n",
      "\n"
     ]
    },
    {
     "name": "stderr",
     "output_type": "stream",
     "text": [
      "[Parallel(n_jobs=1)]: Done 1600 out of 1600 | elapsed:    0.5s finished\n",
      "[Parallel(n_jobs=1)]: Using backend SequentialBackend with 1 concurrent workers.\n",
      "[Parallel(n_jobs=1)]: Done   1 out of   1 | elapsed:    0.0s remaining:    0.0s\n",
      "[Parallel(n_jobs=1)]: Done   2 out of   2 | elapsed:    0.0s remaining:    0.0s\n",
      "[Parallel(n_jobs=1)]: Done   3 out of   3 | elapsed:    0.0s remaining:    0.0s\n",
      "[Parallel(n_jobs=1)]: Done   4 out of   4 | elapsed:    0.0s remaining:    0.0s\n"
     ]
    },
    {
     "name": "stdout",
     "output_type": "stream",
     "text": [
      "Overwriting existing file.\n",
      "Overwriting existing file.\n",
      "Setting up low-pass filter at 30 Hz\n",
      "\n",
      "FIR filter parameters\n",
      "---------------------\n",
      "Designing a one-pass, zero-phase, non-causal lowpass filter:\n",
      "- Windowed time-domain design (firwin) method\n",
      "- Hamming window with 0.0194 passband ripple and 53 dB stopband attenuation\n",
      "- Upper passband edge: 30.00 Hz\n",
      "- Upper transition bandwidth: 7.50 Hz (-6 dB cutoff frequency: 33.75 Hz)\n",
      "- Filter length: 89 samples (0.445 sec)\n",
      "\n"
     ]
    },
    {
     "name": "stderr",
     "output_type": "stream",
     "text": [
      "[Parallel(n_jobs=1)]: Done 1408 out of 1408 | elapsed:    0.4s finished\n",
      "[Parallel(n_jobs=1)]: Using backend SequentialBackend with 1 concurrent workers.\n",
      "[Parallel(n_jobs=1)]: Done   1 out of   1 | elapsed:    0.0s remaining:    0.0s\n",
      "[Parallel(n_jobs=1)]: Done   2 out of   2 | elapsed:    0.0s remaining:    0.0s\n",
      "[Parallel(n_jobs=1)]: Done   3 out of   3 | elapsed:    0.0s remaining:    0.0s\n",
      "[Parallel(n_jobs=1)]: Done   4 out of   4 | elapsed:    0.0s remaining:    0.0s\n"
     ]
    },
    {
     "name": "stdout",
     "output_type": "stream",
     "text": [
      "Overwriting existing file.\n",
      "Overwriting existing file.\n",
      "Setting up low-pass filter at 30 Hz\n",
      "\n",
      "FIR filter parameters\n",
      "---------------------\n",
      "Designing a one-pass, zero-phase, non-causal lowpass filter:\n",
      "- Windowed time-domain design (firwin) method\n",
      "- Hamming window with 0.0194 passband ripple and 53 dB stopband attenuation\n",
      "- Upper passband edge: 30.00 Hz\n",
      "- Upper transition bandwidth: 7.50 Hz (-6 dB cutoff frequency: 33.75 Hz)\n",
      "- Filter length: 89 samples (0.445 sec)\n",
      "\n"
     ]
    },
    {
     "name": "stderr",
     "output_type": "stream",
     "text": [
      "[Parallel(n_jobs=1)]: Done 1280 out of 1280 | elapsed:    0.4s finished\n",
      "[Parallel(n_jobs=1)]: Using backend SequentialBackend with 1 concurrent workers.\n",
      "[Parallel(n_jobs=1)]: Done   1 out of   1 | elapsed:    0.0s remaining:    0.0s\n",
      "[Parallel(n_jobs=1)]: Done   2 out of   2 | elapsed:    0.0s remaining:    0.0s\n",
      "[Parallel(n_jobs=1)]: Done   3 out of   3 | elapsed:    0.0s remaining:    0.0s\n",
      "[Parallel(n_jobs=1)]: Done   4 out of   4 | elapsed:    0.0s remaining:    0.0s\n"
     ]
    },
    {
     "name": "stdout",
     "output_type": "stream",
     "text": [
      "Overwriting existing file.\n",
      "Reading F:\\Documents\\Science\\MirRevAdaptEEG\\data\\eeg\\p013\\lrp\\mra_p013_run0-epo.fif ...\n",
      "    Found the data of interest:\n",
      "        t =   -2000.00 ...    1995.00 ms\n",
      "        0 CTF compensation matrices available\n",
      "Not setting metadata\n"
     ]
    },
    {
     "name": "stderr",
     "output_type": "stream",
     "text": [
      "[Parallel(n_jobs=1)]: Done 1472 out of 1472 | elapsed:    0.4s finished\n"
     ]
    },
    {
     "name": "stdout",
     "output_type": "stream",
     "text": [
      "416 matching events found\n",
      "No baseline correction applied\n",
      "0 projection items activated\n",
      "Applying baseline correction (mode: mean)\n",
      "Overwriting existing file.\n",
      "Setting up low-pass filter at 30 Hz\n",
      "\n",
      "FIR filter parameters\n",
      "---------------------\n",
      "Designing a one-pass, zero-phase, non-causal lowpass filter:\n",
      "- Windowed time-domain design (firwin) method\n",
      "- Hamming window with 0.0194 passband ripple and 53 dB stopband attenuation\n",
      "- Upper passband edge: 30.00 Hz\n",
      "- Upper transition bandwidth: 7.50 Hz (-6 dB cutoff frequency: 33.75 Hz)\n",
      "- Filter length: 89 samples (0.445 sec)\n",
      "\n"
     ]
    },
    {
     "name": "stderr",
     "output_type": "stream",
     "text": [
      "[Parallel(n_jobs=1)]: Using backend SequentialBackend with 1 concurrent workers.\n",
      "[Parallel(n_jobs=1)]: Done   1 out of   1 | elapsed:    0.0s remaining:    0.0s\n",
      "[Parallel(n_jobs=1)]: Done   2 out of   2 | elapsed:    0.0s remaining:    0.0s\n",
      "[Parallel(n_jobs=1)]: Done   3 out of   3 | elapsed:    0.0s remaining:    0.0s\n",
      "[Parallel(n_jobs=1)]: Done   4 out of   4 | elapsed:    0.0s remaining:    0.0s\n"
     ]
    },
    {
     "name": "stdout",
     "output_type": "stream",
     "text": [
      "Overwriting existing file.\n",
      "Overwriting existing file.\n",
      "Setting up low-pass filter at 30 Hz\n",
      "\n",
      "FIR filter parameters\n",
      "---------------------\n",
      "Designing a one-pass, zero-phase, non-causal lowpass filter:\n",
      "- Windowed time-domain design (firwin) method\n",
      "- Hamming window with 0.0194 passband ripple and 53 dB stopband attenuation\n",
      "- Upper passband edge: 30.00 Hz\n",
      "- Upper transition bandwidth: 7.50 Hz (-6 dB cutoff frequency: 33.75 Hz)\n",
      "- Filter length: 89 samples (0.445 sec)\n",
      "\n"
     ]
    },
    {
     "name": "stderr",
     "output_type": "stream",
     "text": [
      "[Parallel(n_jobs=1)]: Done 1344 out of 1344 | elapsed:    0.4s finished\n",
      "[Parallel(n_jobs=1)]: Using backend SequentialBackend with 1 concurrent workers.\n",
      "[Parallel(n_jobs=1)]: Done   1 out of   1 | elapsed:    0.0s remaining:    0.0s\n",
      "[Parallel(n_jobs=1)]: Done   2 out of   2 | elapsed:    0.0s remaining:    0.0s\n",
      "[Parallel(n_jobs=1)]: Done   3 out of   3 | elapsed:    0.0s remaining:    0.0s\n",
      "[Parallel(n_jobs=1)]: Done   4 out of   4 | elapsed:    0.0s remaining:    0.0s\n"
     ]
    },
    {
     "name": "stdout",
     "output_type": "stream",
     "text": [
      "Overwriting existing file.\n",
      "Overwriting existing file.\n",
      "Setting up low-pass filter at 30 Hz\n",
      "\n",
      "FIR filter parameters\n",
      "---------------------\n",
      "Designing a one-pass, zero-phase, non-causal lowpass filter:\n",
      "- Windowed time-domain design (firwin) method\n",
      "- Hamming window with 0.0194 passband ripple and 53 dB stopband attenuation\n",
      "- Upper passband edge: 30.00 Hz\n",
      "- Upper transition bandwidth: 7.50 Hz (-6 dB cutoff frequency: 33.75 Hz)\n",
      "- Filter length: 89 samples (0.445 sec)\n",
      "\n"
     ]
    },
    {
     "name": "stderr",
     "output_type": "stream",
     "text": [
      "[Parallel(n_jobs=1)]: Done 1472 out of 1472 | elapsed:    0.4s finished\n",
      "[Parallel(n_jobs=1)]: Using backend SequentialBackend with 1 concurrent workers.\n",
      "[Parallel(n_jobs=1)]: Done   1 out of   1 | elapsed:    0.0s remaining:    0.0s\n",
      "[Parallel(n_jobs=1)]: Done   2 out of   2 | elapsed:    0.0s remaining:    0.0s\n",
      "[Parallel(n_jobs=1)]: Done   3 out of   3 | elapsed:    0.0s remaining:    0.0s\n",
      "[Parallel(n_jobs=1)]: Done   4 out of   4 | elapsed:    0.0s remaining:    0.0s\n"
     ]
    },
    {
     "name": "stdout",
     "output_type": "stream",
     "text": [
      "Overwriting existing file.\n",
      "Overwriting existing file.\n",
      "Setting up low-pass filter at 30 Hz\n",
      "\n",
      "FIR filter parameters\n",
      "---------------------\n",
      "Designing a one-pass, zero-phase, non-causal lowpass filter:\n",
      "- Windowed time-domain design (firwin) method\n",
      "- Hamming window with 0.0194 passband ripple and 53 dB stopband attenuation\n",
      "- Upper passband edge: 30.00 Hz\n",
      "- Upper transition bandwidth: 7.50 Hz (-6 dB cutoff frequency: 33.75 Hz)\n",
      "- Filter length: 89 samples (0.445 sec)\n",
      "\n"
     ]
    },
    {
     "name": "stderr",
     "output_type": "stream",
     "text": [
      "[Parallel(n_jobs=1)]: Done 1536 out of 1536 | elapsed:    0.4s finished\n",
      "[Parallel(n_jobs=1)]: Using backend SequentialBackend with 1 concurrent workers.\n",
      "[Parallel(n_jobs=1)]: Done   1 out of   1 | elapsed:    0.0s remaining:    0.0s\n",
      "[Parallel(n_jobs=1)]: Done   2 out of   2 | elapsed:    0.0s remaining:    0.0s\n",
      "[Parallel(n_jobs=1)]: Done   3 out of   3 | elapsed:    0.0s remaining:    0.0s\n",
      "[Parallel(n_jobs=1)]: Done   4 out of   4 | elapsed:    0.0s remaining:    0.0s\n"
     ]
    },
    {
     "name": "stdout",
     "output_type": "stream",
     "text": [
      "Overwriting existing file.\n",
      "Reading F:\\Documents\\Science\\MirRevAdaptEEG\\data\\eeg\\p014\\lrp\\mra_p014_run0-epo.fif ...\n",
      "    Found the data of interest:\n",
      "        t =   -2000.00 ...    1995.00 ms\n",
      "        0 CTF compensation matrices available\n",
      "Not setting metadata\n"
     ]
    },
    {
     "name": "stderr",
     "output_type": "stream",
     "text": [
      "[Parallel(n_jobs=1)]: Done 1408 out of 1408 | elapsed:    0.4s finished\n"
     ]
    },
    {
     "name": "stdout",
     "output_type": "stream",
     "text": [
      "420 matching events found\n",
      "No baseline correction applied\n",
      "0 projection items activated\n",
      "Applying baseline correction (mode: mean)\n",
      "Overwriting existing file.\n",
      "Setting up low-pass filter at 30 Hz\n",
      "\n",
      "FIR filter parameters\n",
      "---------------------\n",
      "Designing a one-pass, zero-phase, non-causal lowpass filter:\n",
      "- Windowed time-domain design (firwin) method\n",
      "- Hamming window with 0.0194 passband ripple and 53 dB stopband attenuation\n",
      "- Upper passband edge: 30.00 Hz\n",
      "- Upper transition bandwidth: 7.50 Hz (-6 dB cutoff frequency: 33.75 Hz)\n",
      "- Filter length: 89 samples (0.445 sec)\n",
      "\n"
     ]
    },
    {
     "name": "stderr",
     "output_type": "stream",
     "text": [
      "[Parallel(n_jobs=1)]: Using backend SequentialBackend with 1 concurrent workers.\n",
      "[Parallel(n_jobs=1)]: Done   1 out of   1 | elapsed:    0.0s remaining:    0.0s\n",
      "[Parallel(n_jobs=1)]: Done   2 out of   2 | elapsed:    0.0s remaining:    0.0s\n",
      "[Parallel(n_jobs=1)]: Done   3 out of   3 | elapsed:    0.0s remaining:    0.0s\n",
      "[Parallel(n_jobs=1)]: Done   4 out of   4 | elapsed:    0.0s remaining:    0.0s\n"
     ]
    },
    {
     "name": "stdout",
     "output_type": "stream",
     "text": [
      "Overwriting existing file.\n",
      "Overwriting existing file.\n",
      "Setting up low-pass filter at 30 Hz\n",
      "\n",
      "FIR filter parameters\n",
      "---------------------\n",
      "Designing a one-pass, zero-phase, non-causal lowpass filter:\n",
      "- Windowed time-domain design (firwin) method\n",
      "- Hamming window with 0.0194 passband ripple and 53 dB stopband attenuation\n",
      "- Upper passband edge: 30.00 Hz\n",
      "- Upper transition bandwidth: 7.50 Hz (-6 dB cutoff frequency: 33.75 Hz)\n",
      "- Filter length: 89 samples (0.445 sec)\n",
      "\n"
     ]
    },
    {
     "name": "stderr",
     "output_type": "stream",
     "text": [
      "[Parallel(n_jobs=1)]: Done 1536 out of 1536 | elapsed:    0.4s finished\n",
      "[Parallel(n_jobs=1)]: Using backend SequentialBackend with 1 concurrent workers.\n",
      "[Parallel(n_jobs=1)]: Done   1 out of   1 | elapsed:    0.0s remaining:    0.0s\n",
      "[Parallel(n_jobs=1)]: Done   2 out of   2 | elapsed:    0.0s remaining:    0.0s\n",
      "[Parallel(n_jobs=1)]: Done   3 out of   3 | elapsed:    0.0s remaining:    0.0s\n",
      "[Parallel(n_jobs=1)]: Done   4 out of   4 | elapsed:    0.0s remaining:    0.0s\n"
     ]
    },
    {
     "name": "stdout",
     "output_type": "stream",
     "text": [
      "Overwriting existing file.\n",
      "Overwriting existing file.\n",
      "Setting up low-pass filter at 30 Hz\n",
      "\n",
      "FIR filter parameters\n",
      "---------------------\n",
      "Designing a one-pass, zero-phase, non-causal lowpass filter:\n",
      "- Windowed time-domain design (firwin) method\n",
      "- Hamming window with 0.0194 passband ripple and 53 dB stopband attenuation\n",
      "- Upper passband edge: 30.00 Hz\n",
      "- Upper transition bandwidth: 7.50 Hz (-6 dB cutoff frequency: 33.75 Hz)\n",
      "- Filter length: 89 samples (0.445 sec)\n",
      "\n"
     ]
    },
    {
     "name": "stderr",
     "output_type": "stream",
     "text": [
      "[Parallel(n_jobs=1)]: Done 1472 out of 1472 | elapsed:    0.4s finished\n",
      "[Parallel(n_jobs=1)]: Using backend SequentialBackend with 1 concurrent workers.\n",
      "[Parallel(n_jobs=1)]: Done   1 out of   1 | elapsed:    0.0s remaining:    0.0s\n",
      "[Parallel(n_jobs=1)]: Done   2 out of   2 | elapsed:    0.0s remaining:    0.0s\n",
      "[Parallel(n_jobs=1)]: Done   3 out of   3 | elapsed:    0.0s remaining:    0.0s\n",
      "[Parallel(n_jobs=1)]: Done   4 out of   4 | elapsed:    0.0s remaining:    0.0s\n"
     ]
    },
    {
     "name": "stdout",
     "output_type": "stream",
     "text": [
      "Overwriting existing file.\n",
      "Overwriting existing file.\n",
      "Setting up low-pass filter at 30 Hz\n",
      "\n",
      "FIR filter parameters\n",
      "---------------------\n",
      "Designing a one-pass, zero-phase, non-causal lowpass filter:\n",
      "- Windowed time-domain design (firwin) method\n",
      "- Hamming window with 0.0194 passband ripple and 53 dB stopband attenuation\n",
      "- Upper passband edge: 30.00 Hz\n",
      "- Upper transition bandwidth: 7.50 Hz (-6 dB cutoff frequency: 33.75 Hz)\n",
      "- Filter length: 89 samples (0.445 sec)\n",
      "\n"
     ]
    },
    {
     "name": "stderr",
     "output_type": "stream",
     "text": [
      "[Parallel(n_jobs=1)]: Done 1344 out of 1344 | elapsed:    0.4s finished\n",
      "[Parallel(n_jobs=1)]: Using backend SequentialBackend with 1 concurrent workers.\n",
      "[Parallel(n_jobs=1)]: Done   1 out of   1 | elapsed:    0.0s remaining:    0.0s\n",
      "[Parallel(n_jobs=1)]: Done   2 out of   2 | elapsed:    0.0s remaining:    0.0s\n",
      "[Parallel(n_jobs=1)]: Done   3 out of   3 | elapsed:    0.0s remaining:    0.0s\n",
      "[Parallel(n_jobs=1)]: Done   4 out of   4 | elapsed:    0.0s remaining:    0.0s\n"
     ]
    },
    {
     "name": "stdout",
     "output_type": "stream",
     "text": [
      "Overwriting existing file.\n",
      "Reading F:\\Documents\\Science\\MirRevAdaptEEG\\data\\eeg\\p015\\lrp\\mra_p015_run0-epo.fif ...\n",
      "    Found the data of interest:\n",
      "        t =   -2000.00 ...    1995.00 ms\n",
      "        0 CTF compensation matrices available\n",
      "Not setting metadata\n"
     ]
    },
    {
     "name": "stderr",
     "output_type": "stream",
     "text": [
      "[Parallel(n_jobs=1)]: Done 1408 out of 1408 | elapsed:    0.4s finished\n"
     ]
    },
    {
     "name": "stdout",
     "output_type": "stream",
     "text": [
      "420 matching events found\n",
      "No baseline correction applied\n",
      "0 projection items activated\n",
      "Applying baseline correction (mode: mean)\n",
      "Overwriting existing file.\n",
      "Setting up low-pass filter at 30 Hz\n",
      "\n",
      "FIR filter parameters\n",
      "---------------------\n",
      "Designing a one-pass, zero-phase, non-causal lowpass filter:\n",
      "- Windowed time-domain design (firwin) method\n",
      "- Hamming window with 0.0194 passband ripple and 53 dB stopband attenuation\n",
      "- Upper passband edge: 30.00 Hz\n",
      "- Upper transition bandwidth: 7.50 Hz (-6 dB cutoff frequency: 33.75 Hz)\n",
      "- Filter length: 89 samples (0.445 sec)\n",
      "\n"
     ]
    },
    {
     "name": "stderr",
     "output_type": "stream",
     "text": [
      "[Parallel(n_jobs=1)]: Using backend SequentialBackend with 1 concurrent workers.\n",
      "[Parallel(n_jobs=1)]: Done   1 out of   1 | elapsed:    0.0s remaining:    0.0s\n",
      "[Parallel(n_jobs=1)]: Done   2 out of   2 | elapsed:    0.0s remaining:    0.0s\n",
      "[Parallel(n_jobs=1)]: Done   3 out of   3 | elapsed:    0.0s remaining:    0.0s\n",
      "[Parallel(n_jobs=1)]: Done   4 out of   4 | elapsed:    0.0s remaining:    0.0s\n"
     ]
    },
    {
     "name": "stdout",
     "output_type": "stream",
     "text": [
      "Overwriting existing file.\n",
      "Overwriting existing file.\n",
      "Setting up low-pass filter at 30 Hz\n",
      "\n",
      "FIR filter parameters\n",
      "---------------------\n",
      "Designing a one-pass, zero-phase, non-causal lowpass filter:\n",
      "- Windowed time-domain design (firwin) method\n",
      "- Hamming window with 0.0194 passband ripple and 53 dB stopband attenuation\n",
      "- Upper passband edge: 30.00 Hz\n",
      "- Upper transition bandwidth: 7.50 Hz (-6 dB cutoff frequency: 33.75 Hz)\n",
      "- Filter length: 89 samples (0.445 sec)\n",
      "\n"
     ]
    },
    {
     "name": "stderr",
     "output_type": "stream",
     "text": [
      "[Parallel(n_jobs=1)]: Done 1280 out of 1280 | elapsed:    0.3s finished\n",
      "[Parallel(n_jobs=1)]: Using backend SequentialBackend with 1 concurrent workers.\n",
      "[Parallel(n_jobs=1)]: Done   1 out of   1 | elapsed:    0.0s remaining:    0.0s\n",
      "[Parallel(n_jobs=1)]: Done   2 out of   2 | elapsed:    0.0s remaining:    0.0s\n",
      "[Parallel(n_jobs=1)]: Done   3 out of   3 | elapsed:    0.0s remaining:    0.0s\n",
      "[Parallel(n_jobs=1)]: Done   4 out of   4 | elapsed:    0.0s remaining:    0.0s\n"
     ]
    },
    {
     "name": "stdout",
     "output_type": "stream",
     "text": [
      "Overwriting existing file.\n",
      "Overwriting existing file.\n",
      "Setting up low-pass filter at 30 Hz\n",
      "\n",
      "FIR filter parameters\n",
      "---------------------\n",
      "Designing a one-pass, zero-phase, non-causal lowpass filter:\n",
      "- Windowed time-domain design (firwin) method\n",
      "- Hamming window with 0.0194 passband ripple and 53 dB stopband attenuation\n",
      "- Upper passband edge: 30.00 Hz\n",
      "- Upper transition bandwidth: 7.50 Hz (-6 dB cutoff frequency: 33.75 Hz)\n",
      "- Filter length: 89 samples (0.445 sec)\n",
      "\n"
     ]
    },
    {
     "name": "stderr",
     "output_type": "stream",
     "text": [
      "[Parallel(n_jobs=1)]: Done 1536 out of 1536 | elapsed:    0.4s finished\n",
      "[Parallel(n_jobs=1)]: Using backend SequentialBackend with 1 concurrent workers.\n",
      "[Parallel(n_jobs=1)]: Done   1 out of   1 | elapsed:    0.0s remaining:    0.0s\n",
      "[Parallel(n_jobs=1)]: Done   2 out of   2 | elapsed:    0.0s remaining:    0.0s\n",
      "[Parallel(n_jobs=1)]: Done   3 out of   3 | elapsed:    0.0s remaining:    0.0s\n",
      "[Parallel(n_jobs=1)]: Done   4 out of   4 | elapsed:    0.0s remaining:    0.0s\n"
     ]
    },
    {
     "name": "stdout",
     "output_type": "stream",
     "text": [
      "Overwriting existing file.\n",
      "Overwriting existing file.\n",
      "Setting up low-pass filter at 30 Hz\n",
      "\n",
      "FIR filter parameters\n",
      "---------------------\n",
      "Designing a one-pass, zero-phase, non-causal lowpass filter:\n",
      "- Windowed time-domain design (firwin) method\n",
      "- Hamming window with 0.0194 passband ripple and 53 dB stopband attenuation\n",
      "- Upper passband edge: 30.00 Hz\n",
      "- Upper transition bandwidth: 7.50 Hz (-6 dB cutoff frequency: 33.75 Hz)\n",
      "- Filter length: 89 samples (0.445 sec)\n",
      "\n"
     ]
    },
    {
     "name": "stderr",
     "output_type": "stream",
     "text": [
      "[Parallel(n_jobs=1)]: Done 1600 out of 1600 | elapsed:    0.5s finished\n",
      "[Parallel(n_jobs=1)]: Using backend SequentialBackend with 1 concurrent workers.\n",
      "[Parallel(n_jobs=1)]: Done   1 out of   1 | elapsed:    0.0s remaining:    0.0s\n",
      "[Parallel(n_jobs=1)]: Done   2 out of   2 | elapsed:    0.0s remaining:    0.0s\n",
      "[Parallel(n_jobs=1)]: Done   3 out of   3 | elapsed:    0.0s remaining:    0.0s\n",
      "[Parallel(n_jobs=1)]: Done   4 out of   4 | elapsed:    0.0s remaining:    0.0s\n"
     ]
    },
    {
     "name": "stdout",
     "output_type": "stream",
     "text": [
      "Overwriting existing file.\n",
      "Reading F:\\Documents\\Science\\MirRevAdaptEEG\\data\\eeg\\p016\\lrp\\mra_p016_run0-epo.fif ...\n",
      "    Found the data of interest:\n",
      "        t =   -2000.00 ...    1995.00 ms\n",
      "        0 CTF compensation matrices available\n",
      "Not setting metadata\n"
     ]
    },
    {
     "name": "stderr",
     "output_type": "stream",
     "text": [
      "[Parallel(n_jobs=1)]: Done 1344 out of 1344 | elapsed:    0.4s finished\n"
     ]
    },
    {
     "name": "stdout",
     "output_type": "stream",
     "text": [
      "418 matching events found\n",
      "No baseline correction applied\n",
      "0 projection items activated\n",
      "Applying baseline correction (mode: mean)\n",
      "Reading F:\\Documents\\Science\\MirRevAdaptEEG\\data\\eeg\\p017\\lrp\\mra_p017_run0-epo.fif ...\n",
      "    Found the data of interest:\n",
      "        t =   -2000.00 ...    1995.00 ms\n",
      "        0 CTF compensation matrices available\n",
      "Not setting metadata\n",
      "418 matching events found\n",
      "No baseline correction applied\n",
      "0 projection items activated\n",
      "Applying baseline correction (mode: mean)\n",
      "Reading F:\\Documents\\Science\\MirRevAdaptEEG\\data\\eeg\\p018\\lrp\\mra_p018_run0-epo.fif ...\n",
      "    Found the data of interest:\n",
      "        t =   -2000.00 ...    1995.00 ms\n",
      "        0 CTF compensation matrices available\n",
      "Not setting metadata\n",
      "419 matching events found\n",
      "No baseline correction applied\n",
      "0 projection items activated\n",
      "Applying baseline correction (mode: mean)\n",
      "Reading F:\\Documents\\Science\\MirRevAdaptEEG\\data\\eeg\\p019\\lrp\\mra_p019_run0-epo.fif ...\n",
      "    Found the data of interest:\n",
      "        t =   -2000.00 ...    1995.00 ms\n",
      "        0 CTF compensation matrices available\n",
      "Not setting metadata\n",
      "419 matching events found\n",
      "No baseline correction applied\n",
      "0 projection items activated\n",
      "Applying baseline correction (mode: mean)\n",
      "Reading F:\\Documents\\Science\\MirRevAdaptEEG\\data\\eeg\\p020\\lrp\\mra_p020_run0-epo.fif ...\n",
      "    Found the data of interest:\n",
      "        t =   -2000.00 ...    1995.00 ms\n",
      "        0 CTF compensation matrices available\n",
      "Not setting metadata\n",
      "420 matching events found\n",
      "No baseline correction applied\n",
      "0 projection items activated\n",
      "Applying baseline correction (mode: mean)\n",
      "Overwriting existing file.\n",
      "Setting up low-pass filter at 30 Hz\n",
      "\n",
      "FIR filter parameters\n",
      "---------------------\n",
      "Designing a one-pass, zero-phase, non-causal lowpass filter:\n",
      "- Windowed time-domain design (firwin) method\n",
      "- Hamming window with 0.0194 passband ripple and 53 dB stopband attenuation\n",
      "- Upper passband edge: 30.00 Hz\n",
      "- Upper transition bandwidth: 7.50 Hz (-6 dB cutoff frequency: 33.75 Hz)\n",
      "- Filter length: 89 samples (0.445 sec)\n",
      "\n"
     ]
    },
    {
     "name": "stderr",
     "output_type": "stream",
     "text": [
      "[Parallel(n_jobs=1)]: Using backend SequentialBackend with 1 concurrent workers.\n",
      "[Parallel(n_jobs=1)]: Done   1 out of   1 | elapsed:    0.0s remaining:    0.0s\n",
      "[Parallel(n_jobs=1)]: Done   2 out of   2 | elapsed:    0.0s remaining:    0.0s\n",
      "[Parallel(n_jobs=1)]: Done   3 out of   3 | elapsed:    0.0s remaining:    0.0s\n",
      "[Parallel(n_jobs=1)]: Done   4 out of   4 | elapsed:    0.0s remaining:    0.0s\n"
     ]
    },
    {
     "name": "stdout",
     "output_type": "stream",
     "text": [
      "Overwriting existing file.\n",
      "Overwriting existing file.\n",
      "Setting up low-pass filter at 30 Hz\n",
      "\n",
      "FIR filter parameters\n",
      "---------------------\n",
      "Designing a one-pass, zero-phase, non-causal lowpass filter:\n",
      "- Windowed time-domain design (firwin) method\n",
      "- Hamming window with 0.0194 passband ripple and 53 dB stopband attenuation\n",
      "- Upper passband edge: 30.00 Hz\n",
      "- Upper transition bandwidth: 7.50 Hz (-6 dB cutoff frequency: 33.75 Hz)\n",
      "- Filter length: 89 samples (0.445 sec)\n",
      "\n"
     ]
    },
    {
     "name": "stderr",
     "output_type": "stream",
     "text": [
      "[Parallel(n_jobs=1)]: Done 1408 out of 1408 | elapsed:    0.4s finished\n",
      "[Parallel(n_jobs=1)]: Using backend SequentialBackend with 1 concurrent workers.\n",
      "[Parallel(n_jobs=1)]: Done   1 out of   1 | elapsed:    0.0s remaining:    0.0s\n",
      "[Parallel(n_jobs=1)]: Done   2 out of   2 | elapsed:    0.0s remaining:    0.0s\n",
      "[Parallel(n_jobs=1)]: Done   3 out of   3 | elapsed:    0.0s remaining:    0.0s\n",
      "[Parallel(n_jobs=1)]: Done   4 out of   4 | elapsed:    0.0s remaining:    0.0s\n"
     ]
    },
    {
     "name": "stdout",
     "output_type": "stream",
     "text": [
      "Overwriting existing file.\n",
      "Overwriting existing file.\n",
      "Setting up low-pass filter at 30 Hz\n",
      "\n",
      "FIR filter parameters\n",
      "---------------------\n",
      "Designing a one-pass, zero-phase, non-causal lowpass filter:\n",
      "- Windowed time-domain design (firwin) method\n",
      "- Hamming window with 0.0194 passband ripple and 53 dB stopband attenuation\n",
      "- Upper passband edge: 30.00 Hz\n",
      "- Upper transition bandwidth: 7.50 Hz (-6 dB cutoff frequency: 33.75 Hz)\n",
      "- Filter length: 89 samples (0.445 sec)\n",
      "\n"
     ]
    },
    {
     "name": "stderr",
     "output_type": "stream",
     "text": [
      "[Parallel(n_jobs=1)]: Done 1472 out of 1472 | elapsed:    0.4s finished\n",
      "[Parallel(n_jobs=1)]: Using backend SequentialBackend with 1 concurrent workers.\n",
      "[Parallel(n_jobs=1)]: Done   1 out of   1 | elapsed:    0.0s remaining:    0.0s\n",
      "[Parallel(n_jobs=1)]: Done   2 out of   2 | elapsed:    0.0s remaining:    0.0s\n",
      "[Parallel(n_jobs=1)]: Done   3 out of   3 | elapsed:    0.0s remaining:    0.0s\n",
      "[Parallel(n_jobs=1)]: Done   4 out of   4 | elapsed:    0.0s remaining:    0.0s\n"
     ]
    },
    {
     "name": "stdout",
     "output_type": "stream",
     "text": [
      "Overwriting existing file.\n",
      "Overwriting existing file.\n",
      "Setting up low-pass filter at 30 Hz\n",
      "\n",
      "FIR filter parameters\n",
      "---------------------\n",
      "Designing a one-pass, zero-phase, non-causal lowpass filter:\n",
      "- Windowed time-domain design (firwin) method\n",
      "- Hamming window with 0.0194 passband ripple and 53 dB stopband attenuation\n",
      "- Upper passband edge: 30.00 Hz\n",
      "- Upper transition bandwidth: 7.50 Hz (-6 dB cutoff frequency: 33.75 Hz)\n",
      "- Filter length: 89 samples (0.445 sec)\n",
      "\n"
     ]
    },
    {
     "name": "stderr",
     "output_type": "stream",
     "text": [
      "[Parallel(n_jobs=1)]: Done 1472 out of 1472 | elapsed:    0.4s finished\n",
      "[Parallel(n_jobs=1)]: Using backend SequentialBackend with 1 concurrent workers.\n",
      "[Parallel(n_jobs=1)]: Done   1 out of   1 | elapsed:    0.0s remaining:    0.0s\n",
      "[Parallel(n_jobs=1)]: Done   2 out of   2 | elapsed:    0.0s remaining:    0.0s\n",
      "[Parallel(n_jobs=1)]: Done   3 out of   3 | elapsed:    0.0s remaining:    0.0s\n",
      "[Parallel(n_jobs=1)]: Done   4 out of   4 | elapsed:    0.0s remaining:    0.0s\n"
     ]
    },
    {
     "name": "stdout",
     "output_type": "stream",
     "text": [
      "Overwriting existing file.\n",
      "Reading F:\\Documents\\Science\\MirRevAdaptEEG\\data\\eeg\\p021\\lrp\\mra_p021_run0-epo.fif ...\n",
      "    Found the data of interest:\n",
      "        t =   -2000.00 ...    1995.00 ms\n",
      "        0 CTF compensation matrices available\n",
      "Not setting metadata\n"
     ]
    },
    {
     "name": "stderr",
     "output_type": "stream",
     "text": [
      "[Parallel(n_jobs=1)]: Done 1408 out of 1408 | elapsed:    0.4s finished\n"
     ]
    },
    {
     "name": "stdout",
     "output_type": "stream",
     "text": [
      "419 matching events found\n",
      "No baseline correction applied\n",
      "0 projection items activated\n",
      "Applying baseline correction (mode: mean)\n",
      "Overwriting existing file.\n",
      "Setting up low-pass filter at 30 Hz\n",
      "\n",
      "FIR filter parameters\n",
      "---------------------\n",
      "Designing a one-pass, zero-phase, non-causal lowpass filter:\n",
      "- Windowed time-domain design (firwin) method\n",
      "- Hamming window with 0.0194 passband ripple and 53 dB stopband attenuation\n",
      "- Upper passband edge: 30.00 Hz\n",
      "- Upper transition bandwidth: 7.50 Hz (-6 dB cutoff frequency: 33.75 Hz)\n",
      "- Filter length: 89 samples (0.445 sec)\n",
      "\n"
     ]
    },
    {
     "name": "stderr",
     "output_type": "stream",
     "text": [
      "[Parallel(n_jobs=1)]: Using backend SequentialBackend with 1 concurrent workers.\n",
      "[Parallel(n_jobs=1)]: Done   1 out of   1 | elapsed:    0.0s remaining:    0.0s\n",
      "[Parallel(n_jobs=1)]: Done   2 out of   2 | elapsed:    0.0s remaining:    0.0s\n",
      "[Parallel(n_jobs=1)]: Done   3 out of   3 | elapsed:    0.0s remaining:    0.0s\n",
      "[Parallel(n_jobs=1)]: Done   4 out of   4 | elapsed:    0.0s remaining:    0.0s\n"
     ]
    },
    {
     "name": "stdout",
     "output_type": "stream",
     "text": [
      "Overwriting existing file.\n",
      "Overwriting existing file.\n",
      "Setting up low-pass filter at 30 Hz\n",
      "\n",
      "FIR filter parameters\n",
      "---------------------\n",
      "Designing a one-pass, zero-phase, non-causal lowpass filter:\n",
      "- Windowed time-domain design (firwin) method\n",
      "- Hamming window with 0.0194 passband ripple and 53 dB stopband attenuation\n",
      "- Upper passband edge: 30.00 Hz\n",
      "- Upper transition bandwidth: 7.50 Hz (-6 dB cutoff frequency: 33.75 Hz)\n",
      "- Filter length: 89 samples (0.445 sec)\n",
      "\n"
     ]
    },
    {
     "name": "stderr",
     "output_type": "stream",
     "text": [
      "[Parallel(n_jobs=1)]: Done 1344 out of 1344 | elapsed:    0.4s finished\n",
      "[Parallel(n_jobs=1)]: Using backend SequentialBackend with 1 concurrent workers.\n",
      "[Parallel(n_jobs=1)]: Done   1 out of   1 | elapsed:    0.0s remaining:    0.0s\n",
      "[Parallel(n_jobs=1)]: Done   2 out of   2 | elapsed:    0.0s remaining:    0.0s\n",
      "[Parallel(n_jobs=1)]: Done   3 out of   3 | elapsed:    0.0s remaining:    0.0s\n",
      "[Parallel(n_jobs=1)]: Done   4 out of   4 | elapsed:    0.0s remaining:    0.0s\n"
     ]
    },
    {
     "name": "stdout",
     "output_type": "stream",
     "text": [
      "Overwriting existing file.\n",
      "Overwriting existing file.\n",
      "Setting up low-pass filter at 30 Hz\n",
      "\n",
      "FIR filter parameters\n",
      "---------------------\n",
      "Designing a one-pass, zero-phase, non-causal lowpass filter:\n",
      "- Windowed time-domain design (firwin) method\n",
      "- Hamming window with 0.0194 passband ripple and 53 dB stopband attenuation\n",
      "- Upper passband edge: 30.00 Hz\n",
      "- Upper transition bandwidth: 7.50 Hz (-6 dB cutoff frequency: 33.75 Hz)\n",
      "- Filter length: 89 samples (0.445 sec)\n",
      "\n"
     ]
    },
    {
     "name": "stderr",
     "output_type": "stream",
     "text": [
      "[Parallel(n_jobs=1)]: Done 1472 out of 1472 | elapsed:    0.4s finished\n",
      "[Parallel(n_jobs=1)]: Using backend SequentialBackend with 1 concurrent workers.\n",
      "[Parallel(n_jobs=1)]: Done   1 out of   1 | elapsed:    0.0s remaining:    0.0s\n",
      "[Parallel(n_jobs=1)]: Done   2 out of   2 | elapsed:    0.0s remaining:    0.0s\n",
      "[Parallel(n_jobs=1)]: Done   3 out of   3 | elapsed:    0.0s remaining:    0.0s\n",
      "[Parallel(n_jobs=1)]: Done   4 out of   4 | elapsed:    0.0s remaining:    0.0s\n"
     ]
    },
    {
     "name": "stdout",
     "output_type": "stream",
     "text": [
      "Overwriting existing file.\n",
      "Overwriting existing file.\n",
      "Setting up low-pass filter at 30 Hz\n",
      "\n",
      "FIR filter parameters\n",
      "---------------------\n",
      "Designing a one-pass, zero-phase, non-causal lowpass filter:\n",
      "- Windowed time-domain design (firwin) method\n",
      "- Hamming window with 0.0194 passband ripple and 53 dB stopband attenuation\n",
      "- Upper passband edge: 30.00 Hz\n",
      "- Upper transition bandwidth: 7.50 Hz (-6 dB cutoff frequency: 33.75 Hz)\n",
      "- Filter length: 89 samples (0.445 sec)\n",
      "\n"
     ]
    },
    {
     "name": "stderr",
     "output_type": "stream",
     "text": [
      "[Parallel(n_jobs=1)]: Done 1536 out of 1536 | elapsed:    0.5s finished\n",
      "[Parallel(n_jobs=1)]: Using backend SequentialBackend with 1 concurrent workers.\n",
      "[Parallel(n_jobs=1)]: Done   1 out of   1 | elapsed:    0.0s remaining:    0.0s\n",
      "[Parallel(n_jobs=1)]: Done   2 out of   2 | elapsed:    0.0s remaining:    0.0s\n",
      "[Parallel(n_jobs=1)]: Done   3 out of   3 | elapsed:    0.0s remaining:    0.0s\n",
      "[Parallel(n_jobs=1)]: Done   4 out of   4 | elapsed:    0.0s remaining:    0.0s\n"
     ]
    },
    {
     "name": "stdout",
     "output_type": "stream",
     "text": [
      "Overwriting existing file.\n",
      "Reading F:\\Documents\\Science\\MirRevAdaptEEG\\data\\eeg\\p022\\lrp\\mra_p022_run0-epo.fif ...\n",
      "    Found the data of interest:\n",
      "        t =   -2000.00 ...    1995.00 ms\n",
      "        0 CTF compensation matrices available\n",
      "Not setting metadata\n"
     ]
    },
    {
     "name": "stderr",
     "output_type": "stream",
     "text": [
      "[Parallel(n_jobs=1)]: Done 1408 out of 1408 | elapsed:    0.4s finished\n"
     ]
    },
    {
     "name": "stdout",
     "output_type": "stream",
     "text": [
      "420 matching events found\n",
      "No baseline correction applied\n",
      "0 projection items activated\n",
      "Applying baseline correction (mode: mean)\n",
      "Overwriting existing file.\n",
      "Setting up low-pass filter at 30 Hz\n",
      "\n",
      "FIR filter parameters\n",
      "---------------------\n",
      "Designing a one-pass, zero-phase, non-causal lowpass filter:\n",
      "- Windowed time-domain design (firwin) method\n",
      "- Hamming window with 0.0194 passband ripple and 53 dB stopband attenuation\n",
      "- Upper passband edge: 30.00 Hz\n",
      "- Upper transition bandwidth: 7.50 Hz (-6 dB cutoff frequency: 33.75 Hz)\n",
      "- Filter length: 89 samples (0.445 sec)\n",
      "\n"
     ]
    },
    {
     "name": "stderr",
     "output_type": "stream",
     "text": [
      "[Parallel(n_jobs=1)]: Using backend SequentialBackend with 1 concurrent workers.\n",
      "[Parallel(n_jobs=1)]: Done   1 out of   1 | elapsed:    0.0s remaining:    0.0s\n",
      "[Parallel(n_jobs=1)]: Done   2 out of   2 | elapsed:    0.0s remaining:    0.0s\n",
      "[Parallel(n_jobs=1)]: Done   3 out of   3 | elapsed:    0.0s remaining:    0.0s\n",
      "[Parallel(n_jobs=1)]: Done   4 out of   4 | elapsed:    0.0s remaining:    0.0s\n"
     ]
    },
    {
     "name": "stdout",
     "output_type": "stream",
     "text": [
      "Overwriting existing file.\n",
      "Overwriting existing file.\n",
      "Setting up low-pass filter at 30 Hz\n",
      "\n",
      "FIR filter parameters\n",
      "---------------------\n",
      "Designing a one-pass, zero-phase, non-causal lowpass filter:\n",
      "- Windowed time-domain design (firwin) method\n",
      "- Hamming window with 0.0194 passband ripple and 53 dB stopband attenuation\n",
      "- Upper passband edge: 30.00 Hz\n",
      "- Upper transition bandwidth: 7.50 Hz (-6 dB cutoff frequency: 33.75 Hz)\n",
      "- Filter length: 89 samples (0.445 sec)\n",
      "\n"
     ]
    },
    {
     "name": "stderr",
     "output_type": "stream",
     "text": [
      "[Parallel(n_jobs=1)]: Done 1600 out of 1600 | elapsed:    0.5s finished\n",
      "[Parallel(n_jobs=1)]: Using backend SequentialBackend with 1 concurrent workers.\n",
      "[Parallel(n_jobs=1)]: Done   1 out of   1 | elapsed:    0.0s remaining:    0.0s\n",
      "[Parallel(n_jobs=1)]: Done   2 out of   2 | elapsed:    0.0s remaining:    0.0s\n",
      "[Parallel(n_jobs=1)]: Done   3 out of   3 | elapsed:    0.0s remaining:    0.0s\n",
      "[Parallel(n_jobs=1)]: Done   4 out of   4 | elapsed:    0.0s remaining:    0.0s\n"
     ]
    },
    {
     "name": "stdout",
     "output_type": "stream",
     "text": [
      "Overwriting existing file.\n",
      "Overwriting existing file.\n",
      "Setting up low-pass filter at 30 Hz\n",
      "\n",
      "FIR filter parameters\n",
      "---------------------\n",
      "Designing a one-pass, zero-phase, non-causal lowpass filter:\n",
      "- Windowed time-domain design (firwin) method\n",
      "- Hamming window with 0.0194 passband ripple and 53 dB stopband attenuation\n",
      "- Upper passband edge: 30.00 Hz\n",
      "- Upper transition bandwidth: 7.50 Hz (-6 dB cutoff frequency: 33.75 Hz)\n",
      "- Filter length: 89 samples (0.445 sec)\n",
      "\n"
     ]
    },
    {
     "name": "stderr",
     "output_type": "stream",
     "text": [
      "[Parallel(n_jobs=1)]: Done 1472 out of 1472 | elapsed:    0.4s finished\n",
      "[Parallel(n_jobs=1)]: Using backend SequentialBackend with 1 concurrent workers.\n",
      "[Parallel(n_jobs=1)]: Done   1 out of   1 | elapsed:    0.0s remaining:    0.0s\n",
      "[Parallel(n_jobs=1)]: Done   2 out of   2 | elapsed:    0.0s remaining:    0.0s\n",
      "[Parallel(n_jobs=1)]: Done   3 out of   3 | elapsed:    0.0s remaining:    0.0s\n",
      "[Parallel(n_jobs=1)]: Done   4 out of   4 | elapsed:    0.0s remaining:    0.0s\n"
     ]
    },
    {
     "name": "stdout",
     "output_type": "stream",
     "text": [
      "Overwriting existing file.\n",
      "Overwriting existing file.\n",
      "Setting up low-pass filter at 30 Hz\n",
      "\n",
      "FIR filter parameters\n",
      "---------------------\n",
      "Designing a one-pass, zero-phase, non-causal lowpass filter:\n",
      "- Windowed time-domain design (firwin) method\n",
      "- Hamming window with 0.0194 passband ripple and 53 dB stopband attenuation\n",
      "- Upper passband edge: 30.00 Hz\n",
      "- Upper transition bandwidth: 7.50 Hz (-6 dB cutoff frequency: 33.75 Hz)\n",
      "- Filter length: 89 samples (0.445 sec)\n",
      "\n"
     ]
    },
    {
     "name": "stderr",
     "output_type": "stream",
     "text": [
      "[Parallel(n_jobs=1)]: Done 1280 out of 1280 | elapsed:    0.4s finished\n",
      "[Parallel(n_jobs=1)]: Using backend SequentialBackend with 1 concurrent workers.\n",
      "[Parallel(n_jobs=1)]: Done   1 out of   1 | elapsed:    0.0s remaining:    0.0s\n",
      "[Parallel(n_jobs=1)]: Done   2 out of   2 | elapsed:    0.0s remaining:    0.0s\n",
      "[Parallel(n_jobs=1)]: Done   3 out of   3 | elapsed:    0.0s remaining:    0.0s\n",
      "[Parallel(n_jobs=1)]: Done   4 out of   4 | elapsed:    0.0s remaining:    0.0s\n"
     ]
    },
    {
     "name": "stdout",
     "output_type": "stream",
     "text": [
      "Overwriting existing file.\n",
      "Reading F:\\Documents\\Science\\MirRevAdaptEEG\\data\\eeg\\p023\\lrp\\mra_p023_run0-epo.fif ...\n",
      "    Found the data of interest:\n",
      "        t =   -2000.00 ...    1995.00 ms\n",
      "        0 CTF compensation matrices available\n"
     ]
    },
    {
     "name": "stderr",
     "output_type": "stream",
     "text": [
      "[Parallel(n_jobs=1)]: Done 1408 out of 1408 | elapsed:    0.4s finished\n"
     ]
    },
    {
     "name": "stdout",
     "output_type": "stream",
     "text": [
      "Not setting metadata\n",
      "420 matching events found\n",
      "No baseline correction applied\n",
      "0 projection items activated\n",
      "Applying baseline correction (mode: mean)\n",
      "Overwriting existing file.\n",
      "Setting up low-pass filter at 30 Hz\n",
      "\n",
      "FIR filter parameters\n",
      "---------------------\n",
      "Designing a one-pass, zero-phase, non-causal lowpass filter:\n",
      "- Windowed time-domain design (firwin) method\n",
      "- Hamming window with 0.0194 passband ripple and 53 dB stopband attenuation\n",
      "- Upper passband edge: 30.00 Hz\n",
      "- Upper transition bandwidth: 7.50 Hz (-6 dB cutoff frequency: 33.75 Hz)\n",
      "- Filter length: 89 samples (0.445 sec)\n",
      "\n"
     ]
    },
    {
     "name": "stderr",
     "output_type": "stream",
     "text": [
      "[Parallel(n_jobs=1)]: Using backend SequentialBackend with 1 concurrent workers.\n",
      "[Parallel(n_jobs=1)]: Done   1 out of   1 | elapsed:    0.0s remaining:    0.0s\n",
      "[Parallel(n_jobs=1)]: Done   2 out of   2 | elapsed:    0.0s remaining:    0.0s\n",
      "[Parallel(n_jobs=1)]: Done   3 out of   3 | elapsed:    0.0s remaining:    0.0s\n",
      "[Parallel(n_jobs=1)]: Done   4 out of   4 | elapsed:    0.0s remaining:    0.0s\n"
     ]
    },
    {
     "name": "stdout",
     "output_type": "stream",
     "text": [
      "Overwriting existing file.\n",
      "Overwriting existing file.\n",
      "Setting up low-pass filter at 30 Hz\n",
      "\n",
      "FIR filter parameters\n",
      "---------------------\n",
      "Designing a one-pass, zero-phase, non-causal lowpass filter:\n",
      "- Windowed time-domain design (firwin) method\n",
      "- Hamming window with 0.0194 passband ripple and 53 dB stopband attenuation\n",
      "- Upper passband edge: 30.00 Hz\n",
      "- Upper transition bandwidth: 7.50 Hz (-6 dB cutoff frequency: 33.75 Hz)\n",
      "- Filter length: 89 samples (0.445 sec)\n",
      "\n"
     ]
    },
    {
     "name": "stderr",
     "output_type": "stream",
     "text": [
      "[Parallel(n_jobs=1)]: Done 1536 out of 1536 | elapsed:    0.4s finished\n",
      "[Parallel(n_jobs=1)]: Using backend SequentialBackend with 1 concurrent workers.\n",
      "[Parallel(n_jobs=1)]: Done   1 out of   1 | elapsed:    0.0s remaining:    0.0s\n",
      "[Parallel(n_jobs=1)]: Done   2 out of   2 | elapsed:    0.0s remaining:    0.0s\n",
      "[Parallel(n_jobs=1)]: Done   3 out of   3 | elapsed:    0.0s remaining:    0.0s\n",
      "[Parallel(n_jobs=1)]: Done   4 out of   4 | elapsed:    0.0s remaining:    0.0s\n"
     ]
    },
    {
     "name": "stdout",
     "output_type": "stream",
     "text": [
      "Overwriting existing file.\n",
      "Overwriting existing file.\n",
      "Setting up low-pass filter at 30 Hz\n",
      "\n",
      "FIR filter parameters\n",
      "---------------------\n",
      "Designing a one-pass, zero-phase, non-causal lowpass filter:\n",
      "- Windowed time-domain design (firwin) method\n",
      "- Hamming window with 0.0194 passband ripple and 53 dB stopband attenuation\n",
      "- Upper passband edge: 30.00 Hz\n",
      "- Upper transition bandwidth: 7.50 Hz (-6 dB cutoff frequency: 33.75 Hz)\n",
      "- Filter length: 89 samples (0.445 sec)\n",
      "\n"
     ]
    },
    {
     "name": "stderr",
     "output_type": "stream",
     "text": [
      "[Parallel(n_jobs=1)]: Done 1472 out of 1472 | elapsed:    0.5s finished\n",
      "[Parallel(n_jobs=1)]: Using backend SequentialBackend with 1 concurrent workers.\n",
      "[Parallel(n_jobs=1)]: Done   1 out of   1 | elapsed:    0.0s remaining:    0.0s\n",
      "[Parallel(n_jobs=1)]: Done   2 out of   2 | elapsed:    0.0s remaining:    0.0s\n",
      "[Parallel(n_jobs=1)]: Done   3 out of   3 | elapsed:    0.0s remaining:    0.0s\n",
      "[Parallel(n_jobs=1)]: Done   4 out of   4 | elapsed:    0.0s remaining:    0.0s\n"
     ]
    },
    {
     "name": "stdout",
     "output_type": "stream",
     "text": [
      "Overwriting existing file.\n",
      "Overwriting existing file.\n",
      "Setting up low-pass filter at 30 Hz\n",
      "\n",
      "FIR filter parameters\n",
      "---------------------\n",
      "Designing a one-pass, zero-phase, non-causal lowpass filter:\n",
      "- Windowed time-domain design (firwin) method\n",
      "- Hamming window with 0.0194 passband ripple and 53 dB stopband attenuation\n",
      "- Upper passband edge: 30.00 Hz\n",
      "- Upper transition bandwidth: 7.50 Hz (-6 dB cutoff frequency: 33.75 Hz)\n",
      "- Filter length: 89 samples (0.445 sec)\n",
      "\n"
     ]
    },
    {
     "name": "stderr",
     "output_type": "stream",
     "text": [
      "[Parallel(n_jobs=1)]: Done 1344 out of 1344 | elapsed:    0.4s finished\n",
      "[Parallel(n_jobs=1)]: Using backend SequentialBackend with 1 concurrent workers.\n",
      "[Parallel(n_jobs=1)]: Done   1 out of   1 | elapsed:    0.0s remaining:    0.0s\n",
      "[Parallel(n_jobs=1)]: Done   2 out of   2 | elapsed:    0.0s remaining:    0.0s\n",
      "[Parallel(n_jobs=1)]: Done   3 out of   3 | elapsed:    0.0s remaining:    0.0s\n",
      "[Parallel(n_jobs=1)]: Done   4 out of   4 | elapsed:    0.0s remaining:    0.0s\n"
     ]
    },
    {
     "name": "stdout",
     "output_type": "stream",
     "text": [
      "Overwriting existing file.\n",
      "Reading F:\\Documents\\Science\\MirRevAdaptEEG\\data\\eeg\\p024\\lrp\\mra_p024_run0-epo.fif ...\n",
      "    Found the data of interest:\n",
      "        t =   -2000.00 ...    1995.00 ms\n",
      "        0 CTF compensation matrices available\n",
      "Not setting metadata\n"
     ]
    },
    {
     "name": "stderr",
     "output_type": "stream",
     "text": [
      "[Parallel(n_jobs=1)]: Done 1408 out of 1408 | elapsed:    0.4s finished\n"
     ]
    },
    {
     "name": "stdout",
     "output_type": "stream",
     "text": [
      "420 matching events found\n",
      "No baseline correction applied\n",
      "0 projection items activated\n",
      "Applying baseline correction (mode: mean)\n",
      "Reading F:\\Documents\\Science\\MirRevAdaptEEG\\data\\eeg\\p025\\lrp\\mra_p025_run0-epo.fif ...\n",
      "    Found the data of interest:\n",
      "        t =   -2000.00 ...    1995.00 ms\n",
      "        0 CTF compensation matrices available\n",
      "Not setting metadata\n",
      "420 matching events found\n",
      "No baseline correction applied\n",
      "0 projection items activated\n",
      "Applying baseline correction (mode: mean)\n",
      "Reading F:\\Documents\\Science\\MirRevAdaptEEG\\data\\eeg\\p026\\lrp\\mra_p026_run0-epo.fif ...\n",
      "    Found the data of interest:\n",
      "        t =   -2000.00 ...    1995.00 ms\n",
      "        0 CTF compensation matrices available\n",
      "Not setting metadata\n",
      "420 matching events found\n",
      "No baseline correction applied\n",
      "0 projection items activated\n",
      "Applying baseline correction (mode: mean)\n",
      "Reading F:\\Documents\\Science\\MirRevAdaptEEG\\data\\eeg\\p027\\lrp\\mra_p027_run0-epo.fif ...\n",
      "    Found the data of interest:\n",
      "        t =   -2000.00 ...    1995.00 ms\n",
      "        0 CTF compensation matrices available\n",
      "Not setting metadata\n",
      "419 matching events found\n",
      "No baseline correction applied\n",
      "0 projection items activated\n",
      "Applying baseline correction (mode: mean)\n",
      "Reading F:\\Documents\\Science\\MirRevAdaptEEG\\data\\eeg\\p028\\lrp\\mra_p028_run0-epo.fif ...\n",
      "    Found the data of interest:\n",
      "        t =   -2000.00 ...    1995.00 ms\n",
      "        0 CTF compensation matrices available\n",
      "Not setting metadata\n",
      "420 matching events found\n",
      "No baseline correction applied\n",
      "0 projection items activated\n",
      "Applying baseline correction (mode: mean)\n",
      "Overwriting existing file.\n",
      "Setting up low-pass filter at 30 Hz\n",
      "\n",
      "FIR filter parameters\n",
      "---------------------\n",
      "Designing a one-pass, zero-phase, non-causal lowpass filter:\n",
      "- Windowed time-domain design (firwin) method\n",
      "- Hamming window with 0.0194 passband ripple and 53 dB stopband attenuation\n",
      "- Upper passband edge: 30.00 Hz\n",
      "- Upper transition bandwidth: 7.50 Hz (-6 dB cutoff frequency: 33.75 Hz)\n",
      "- Filter length: 89 samples (0.445 sec)\n",
      "\n"
     ]
    },
    {
     "name": "stderr",
     "output_type": "stream",
     "text": [
      "[Parallel(n_jobs=1)]: Using backend SequentialBackend with 1 concurrent workers.\n",
      "[Parallel(n_jobs=1)]: Done   1 out of   1 | elapsed:    0.0s remaining:    0.0s\n",
      "[Parallel(n_jobs=1)]: Done   2 out of   2 | elapsed:    0.0s remaining:    0.0s\n",
      "[Parallel(n_jobs=1)]: Done   3 out of   3 | elapsed:    0.0s remaining:    0.0s\n",
      "[Parallel(n_jobs=1)]: Done   4 out of   4 | elapsed:    0.0s remaining:    0.0s\n"
     ]
    },
    {
     "name": "stdout",
     "output_type": "stream",
     "text": [
      "Overwriting existing file.\n",
      "Overwriting existing file.\n",
      "Setting up low-pass filter at 30 Hz\n",
      "\n",
      "FIR filter parameters\n",
      "---------------------\n",
      "Designing a one-pass, zero-phase, non-causal lowpass filter:\n",
      "- Windowed time-domain design (firwin) method\n",
      "- Hamming window with 0.0194 passband ripple and 53 dB stopband attenuation\n",
      "- Upper passband edge: 30.00 Hz\n",
      "- Upper transition bandwidth: 7.50 Hz (-6 dB cutoff frequency: 33.75 Hz)\n",
      "- Filter length: 89 samples (0.445 sec)\n",
      "\n"
     ]
    },
    {
     "name": "stderr",
     "output_type": "stream",
     "text": [
      "[Parallel(n_jobs=1)]: Done 1344 out of 1344 | elapsed:    0.4s finished\n",
      "[Parallel(n_jobs=1)]: Using backend SequentialBackend with 1 concurrent workers.\n",
      "[Parallel(n_jobs=1)]: Done   1 out of   1 | elapsed:    0.0s remaining:    0.0s\n",
      "[Parallel(n_jobs=1)]: Done   2 out of   2 | elapsed:    0.0s remaining:    0.0s\n",
      "[Parallel(n_jobs=1)]: Done   3 out of   3 | elapsed:    0.0s remaining:    0.0s\n",
      "[Parallel(n_jobs=1)]: Done   4 out of   4 | elapsed:    0.0s remaining:    0.0s\n"
     ]
    },
    {
     "name": "stdout",
     "output_type": "stream",
     "text": [
      "Overwriting existing file.\n",
      "Overwriting existing file.\n",
      "Setting up low-pass filter at 30 Hz\n",
      "\n",
      "FIR filter parameters\n",
      "---------------------\n",
      "Designing a one-pass, zero-phase, non-causal lowpass filter:\n",
      "- Windowed time-domain design (firwin) method\n",
      "- Hamming window with 0.0194 passband ripple and 53 dB stopband attenuation\n",
      "- Upper passband edge: 30.00 Hz\n",
      "- Upper transition bandwidth: 7.50 Hz (-6 dB cutoff frequency: 33.75 Hz)\n",
      "- Filter length: 89 samples (0.445 sec)\n",
      "\n"
     ]
    },
    {
     "name": "stderr",
     "output_type": "stream",
     "text": [
      "[Parallel(n_jobs=1)]: Done 1600 out of 1600 | elapsed:    0.5s finished\n",
      "[Parallel(n_jobs=1)]: Using backend SequentialBackend with 1 concurrent workers.\n",
      "[Parallel(n_jobs=1)]: Done   1 out of   1 | elapsed:    0.0s remaining:    0.0s\n",
      "[Parallel(n_jobs=1)]: Done   2 out of   2 | elapsed:    0.0s remaining:    0.0s\n",
      "[Parallel(n_jobs=1)]: Done   3 out of   3 | elapsed:    0.0s remaining:    0.0s\n",
      "[Parallel(n_jobs=1)]: Done   4 out of   4 | elapsed:    0.0s remaining:    0.0s\n"
     ]
    },
    {
     "name": "stdout",
     "output_type": "stream",
     "text": [
      "Overwriting existing file.\n",
      "Overwriting existing file.\n",
      "Setting up low-pass filter at 30 Hz\n",
      "\n",
      "FIR filter parameters\n",
      "---------------------\n",
      "Designing a one-pass, zero-phase, non-causal lowpass filter:\n",
      "- Windowed time-domain design (firwin) method\n",
      "- Hamming window with 0.0194 passband ripple and 53 dB stopband attenuation\n",
      "- Upper passband edge: 30.00 Hz\n",
      "- Upper transition bandwidth: 7.50 Hz (-6 dB cutoff frequency: 33.75 Hz)\n",
      "- Filter length: 89 samples (0.445 sec)\n",
      "\n"
     ]
    },
    {
     "name": "stderr",
     "output_type": "stream",
     "text": [
      "[Parallel(n_jobs=1)]: Done 1536 out of 1536 | elapsed:    0.4s finished\n",
      "[Parallel(n_jobs=1)]: Using backend SequentialBackend with 1 concurrent workers.\n",
      "[Parallel(n_jobs=1)]: Done   1 out of   1 | elapsed:    0.0s remaining:    0.0s\n",
      "[Parallel(n_jobs=1)]: Done   2 out of   2 | elapsed:    0.0s remaining:    0.0s\n",
      "[Parallel(n_jobs=1)]: Done   3 out of   3 | elapsed:    0.0s remaining:    0.0s\n",
      "[Parallel(n_jobs=1)]: Done   4 out of   4 | elapsed:    0.0s remaining:    0.0s\n"
     ]
    },
    {
     "name": "stdout",
     "output_type": "stream",
     "text": [
      "Overwriting existing file.\n",
      "Reading F:\\Documents\\Science\\MirRevAdaptEEG\\data\\eeg\\p029\\lrp\\mra_p029_run0-epo.fif ...\n",
      "    Found the data of interest:\n",
      "        t =   -2000.00 ...    1995.00 ms\n",
      "        0 CTF compensation matrices available\n"
     ]
    },
    {
     "name": "stderr",
     "output_type": "stream",
     "text": [
      "[Parallel(n_jobs=1)]: Done 1280 out of 1280 | elapsed:    0.4s finished\n"
     ]
    },
    {
     "name": "stdout",
     "output_type": "stream",
     "text": [
      "Not setting metadata\n",
      "420 matching events found\n",
      "No baseline correction applied\n",
      "0 projection items activated\n",
      "Applying baseline correction (mode: mean)\n",
      "Overwriting existing file.\n",
      "Setting up low-pass filter at 30 Hz\n",
      "\n",
      "FIR filter parameters\n",
      "---------------------\n",
      "Designing a one-pass, zero-phase, non-causal lowpass filter:\n",
      "- Windowed time-domain design (firwin) method\n",
      "- Hamming window with 0.0194 passband ripple and 53 dB stopband attenuation\n",
      "- Upper passband edge: 30.00 Hz\n",
      "- Upper transition bandwidth: 7.50 Hz (-6 dB cutoff frequency: 33.75 Hz)\n",
      "- Filter length: 89 samples (0.445 sec)\n",
      "\n"
     ]
    },
    {
     "name": "stderr",
     "output_type": "stream",
     "text": [
      "[Parallel(n_jobs=1)]: Using backend SequentialBackend with 1 concurrent workers.\n",
      "[Parallel(n_jobs=1)]: Done   1 out of   1 | elapsed:    0.0s remaining:    0.0s\n",
      "[Parallel(n_jobs=1)]: Done   2 out of   2 | elapsed:    0.0s remaining:    0.0s\n",
      "[Parallel(n_jobs=1)]: Done   3 out of   3 | elapsed:    0.0s remaining:    0.0s\n",
      "[Parallel(n_jobs=1)]: Done   4 out of   4 | elapsed:    0.0s remaining:    0.0s\n"
     ]
    },
    {
     "name": "stdout",
     "output_type": "stream",
     "text": [
      "Overwriting existing file.\n",
      "Overwriting existing file.\n",
      "Setting up low-pass filter at 30 Hz\n",
      "\n",
      "FIR filter parameters\n",
      "---------------------\n",
      "Designing a one-pass, zero-phase, non-causal lowpass filter:\n",
      "- Windowed time-domain design (firwin) method\n",
      "- Hamming window with 0.0194 passband ripple and 53 dB stopband attenuation\n",
      "- Upper passband edge: 30.00 Hz\n",
      "- Upper transition bandwidth: 7.50 Hz (-6 dB cutoff frequency: 33.75 Hz)\n",
      "- Filter length: 89 samples (0.445 sec)\n",
      "\n"
     ]
    },
    {
     "name": "stderr",
     "output_type": "stream",
     "text": [
      "[Parallel(n_jobs=1)]: Done 1408 out of 1408 | elapsed:    0.4s finished\n",
      "[Parallel(n_jobs=1)]: Using backend SequentialBackend with 1 concurrent workers.\n",
      "[Parallel(n_jobs=1)]: Done   1 out of   1 | elapsed:    0.0s remaining:    0.0s\n",
      "[Parallel(n_jobs=1)]: Done   2 out of   2 | elapsed:    0.0s remaining:    0.0s\n",
      "[Parallel(n_jobs=1)]: Done   3 out of   3 | elapsed:    0.0s remaining:    0.0s\n",
      "[Parallel(n_jobs=1)]: Done   4 out of   4 | elapsed:    0.0s remaining:    0.0s\n"
     ]
    },
    {
     "name": "stdout",
     "output_type": "stream",
     "text": [
      "Overwriting existing file.\n",
      "Overwriting existing file.\n",
      "Setting up low-pass filter at 30 Hz\n",
      "\n",
      "FIR filter parameters\n",
      "---------------------\n",
      "Designing a one-pass, zero-phase, non-causal lowpass filter:\n",
      "- Windowed time-domain design (firwin) method\n",
      "- Hamming window with 0.0194 passband ripple and 53 dB stopband attenuation\n",
      "- Upper passband edge: 30.00 Hz\n",
      "- Upper transition bandwidth: 7.50 Hz (-6 dB cutoff frequency: 33.75 Hz)\n",
      "- Filter length: 89 samples (0.445 sec)\n",
      "\n"
     ]
    },
    {
     "name": "stderr",
     "output_type": "stream",
     "text": [
      "[Parallel(n_jobs=1)]: Done 1408 out of 1408 | elapsed:    0.4s finished\n",
      "[Parallel(n_jobs=1)]: Using backend SequentialBackend with 1 concurrent workers.\n",
      "[Parallel(n_jobs=1)]: Done   1 out of   1 | elapsed:    0.0s remaining:    0.0s\n",
      "[Parallel(n_jobs=1)]: Done   2 out of   2 | elapsed:    0.0s remaining:    0.0s\n",
      "[Parallel(n_jobs=1)]: Done   3 out of   3 | elapsed:    0.0s remaining:    0.0s\n",
      "[Parallel(n_jobs=1)]: Done   4 out of   4 | elapsed:    0.0s remaining:    0.0s\n"
     ]
    },
    {
     "name": "stdout",
     "output_type": "stream",
     "text": [
      "Overwriting existing file.\n",
      "Overwriting existing file.\n",
      "Setting up low-pass filter at 30 Hz\n",
      "\n",
      "FIR filter parameters\n",
      "---------------------\n",
      "Designing a one-pass, zero-phase, non-causal lowpass filter:\n",
      "- Windowed time-domain design (firwin) method\n",
      "- Hamming window with 0.0194 passband ripple and 53 dB stopband attenuation\n",
      "- Upper passband edge: 30.00 Hz\n",
      "- Upper transition bandwidth: 7.50 Hz (-6 dB cutoff frequency: 33.75 Hz)\n",
      "- Filter length: 89 samples (0.445 sec)\n",
      "\n"
     ]
    },
    {
     "name": "stderr",
     "output_type": "stream",
     "text": [
      "[Parallel(n_jobs=1)]: Done 1472 out of 1472 | elapsed:    0.4s finished\n",
      "[Parallel(n_jobs=1)]: Using backend SequentialBackend with 1 concurrent workers.\n",
      "[Parallel(n_jobs=1)]: Done   1 out of   1 | elapsed:    0.0s remaining:    0.0s\n",
      "[Parallel(n_jobs=1)]: Done   2 out of   2 | elapsed:    0.0s remaining:    0.0s\n",
      "[Parallel(n_jobs=1)]: Done   3 out of   3 | elapsed:    0.0s remaining:    0.0s\n",
      "[Parallel(n_jobs=1)]: Done   4 out of   4 | elapsed:    0.0s remaining:    0.0s\n"
     ]
    },
    {
     "name": "stdout",
     "output_type": "stream",
     "text": [
      "Overwriting existing file.\n",
      "Reading F:\\Documents\\Science\\MirRevAdaptEEG\\data\\eeg\\p030\\lrp\\mra_p030_run0-epo.fif ...\n",
      "    Found the data of interest:\n",
      "        t =   -2000.00 ...    1995.00 ms\n",
      "        0 CTF compensation matrices available\n",
      "Not setting metadata\n"
     ]
    },
    {
     "name": "stderr",
     "output_type": "stream",
     "text": [
      "[Parallel(n_jobs=1)]: Done 1472 out of 1472 | elapsed:    0.4s finished\n"
     ]
    },
    {
     "name": "stdout",
     "output_type": "stream",
     "text": [
      "420 matching events found\n",
      "No baseline correction applied\n",
      "0 projection items activated\n",
      "Applying baseline correction (mode: mean)\n",
      "Overwriting existing file.\n",
      "Setting up low-pass filter at 30 Hz\n",
      "\n",
      "FIR filter parameters\n",
      "---------------------\n",
      "Designing a one-pass, zero-phase, non-causal lowpass filter:\n",
      "- Windowed time-domain design (firwin) method\n",
      "- Hamming window with 0.0194 passband ripple and 53 dB stopband attenuation\n",
      "- Upper passband edge: 30.00 Hz\n",
      "- Upper transition bandwidth: 7.50 Hz (-6 dB cutoff frequency: 33.75 Hz)\n",
      "- Filter length: 89 samples (0.445 sec)\n",
      "\n"
     ]
    },
    {
     "name": "stderr",
     "output_type": "stream",
     "text": [
      "[Parallel(n_jobs=1)]: Using backend SequentialBackend with 1 concurrent workers.\n",
      "[Parallel(n_jobs=1)]: Done   1 out of   1 | elapsed:    0.0s remaining:    0.0s\n",
      "[Parallel(n_jobs=1)]: Done   2 out of   2 | elapsed:    0.0s remaining:    0.0s\n",
      "[Parallel(n_jobs=1)]: Done   3 out of   3 | elapsed:    0.0s remaining:    0.0s\n",
      "[Parallel(n_jobs=1)]: Done   4 out of   4 | elapsed:    0.0s remaining:    0.0s\n"
     ]
    },
    {
     "name": "stdout",
     "output_type": "stream",
     "text": [
      "Overwriting existing file.\n",
      "Overwriting existing file.\n",
      "Setting up low-pass filter at 30 Hz\n",
      "\n",
      "FIR filter parameters\n",
      "---------------------\n",
      "Designing a one-pass, zero-phase, non-causal lowpass filter:\n",
      "- Windowed time-domain design (firwin) method\n",
      "- Hamming window with 0.0194 passband ripple and 53 dB stopband attenuation\n",
      "- Upper passband edge: 30.00 Hz\n",
      "- Upper transition bandwidth: 7.50 Hz (-6 dB cutoff frequency: 33.75 Hz)\n",
      "- Filter length: 89 samples (0.445 sec)\n",
      "\n"
     ]
    },
    {
     "name": "stderr",
     "output_type": "stream",
     "text": [
      "[Parallel(n_jobs=1)]: Done 1536 out of 1536 | elapsed:    0.4s finished\n",
      "[Parallel(n_jobs=1)]: Using backend SequentialBackend with 1 concurrent workers.\n",
      "[Parallel(n_jobs=1)]: Done   1 out of   1 | elapsed:    0.0s remaining:    0.0s\n",
      "[Parallel(n_jobs=1)]: Done   2 out of   2 | elapsed:    0.0s remaining:    0.0s\n",
      "[Parallel(n_jobs=1)]: Done   3 out of   3 | elapsed:    0.0s remaining:    0.0s\n",
      "[Parallel(n_jobs=1)]: Done   4 out of   4 | elapsed:    0.0s remaining:    0.0s\n"
     ]
    },
    {
     "name": "stdout",
     "output_type": "stream",
     "text": [
      "Overwriting existing file.\n",
      "Overwriting existing file.\n",
      "Setting up low-pass filter at 30 Hz\n",
      "\n",
      "FIR filter parameters\n",
      "---------------------\n",
      "Designing a one-pass, zero-phase, non-causal lowpass filter:\n",
      "- Windowed time-domain design (firwin) method\n",
      "- Hamming window with 0.0194 passband ripple and 53 dB stopband attenuation\n",
      "- Upper passband edge: 30.00 Hz\n",
      "- Upper transition bandwidth: 7.50 Hz (-6 dB cutoff frequency: 33.75 Hz)\n",
      "- Filter length: 89 samples (0.445 sec)\n",
      "\n"
     ]
    },
    {
     "name": "stderr",
     "output_type": "stream",
     "text": [
      "[Parallel(n_jobs=1)]: Done 1408 out of 1408 | elapsed:    0.4s finished\n",
      "[Parallel(n_jobs=1)]: Using backend SequentialBackend with 1 concurrent workers.\n",
      "[Parallel(n_jobs=1)]: Done   1 out of   1 | elapsed:    0.0s remaining:    0.0s\n",
      "[Parallel(n_jobs=1)]: Done   2 out of   2 | elapsed:    0.0s remaining:    0.0s\n",
      "[Parallel(n_jobs=1)]: Done   3 out of   3 | elapsed:    0.0s remaining:    0.0s\n",
      "[Parallel(n_jobs=1)]: Done   4 out of   4 | elapsed:    0.0s remaining:    0.0s\n"
     ]
    },
    {
     "name": "stdout",
     "output_type": "stream",
     "text": [
      "Overwriting existing file.\n",
      "Overwriting existing file.\n",
      "Setting up low-pass filter at 30 Hz\n",
      "\n",
      "FIR filter parameters\n",
      "---------------------\n",
      "Designing a one-pass, zero-phase, non-causal lowpass filter:\n",
      "- Windowed time-domain design (firwin) method\n",
      "- Hamming window with 0.0194 passband ripple and 53 dB stopband attenuation\n",
      "- Upper passband edge: 30.00 Hz\n",
      "- Upper transition bandwidth: 7.50 Hz (-6 dB cutoff frequency: 33.75 Hz)\n",
      "- Filter length: 89 samples (0.445 sec)\n",
      "\n"
     ]
    },
    {
     "name": "stderr",
     "output_type": "stream",
     "text": [
      "[Parallel(n_jobs=1)]: Done 1344 out of 1344 | elapsed:    0.4s finished\n",
      "[Parallel(n_jobs=1)]: Using backend SequentialBackend with 1 concurrent workers.\n",
      "[Parallel(n_jobs=1)]: Done   1 out of   1 | elapsed:    0.0s remaining:    0.0s\n",
      "[Parallel(n_jobs=1)]: Done   2 out of   2 | elapsed:    0.0s remaining:    0.0s\n",
      "[Parallel(n_jobs=1)]: Done   3 out of   3 | elapsed:    0.0s remaining:    0.0s\n",
      "[Parallel(n_jobs=1)]: Done   4 out of   4 | elapsed:    0.0s remaining:    0.0s\n"
     ]
    },
    {
     "name": "stdout",
     "output_type": "stream",
     "text": [
      "Overwriting existing file.\n",
      "Reading F:\\Documents\\Science\\MirRevAdaptEEG\\data\\eeg\\p031\\lrp\\mra_p031_run0-epo.fif ...\n",
      "    Found the data of interest:\n",
      "        t =   -2000.00 ...    1995.00 ms\n",
      "        0 CTF compensation matrices available\n",
      "Not setting metadata\n"
     ]
    },
    {
     "name": "stderr",
     "output_type": "stream",
     "text": [
      "[Parallel(n_jobs=1)]: Done 1472 out of 1472 | elapsed:    0.4s finished\n"
     ]
    },
    {
     "name": "stdout",
     "output_type": "stream",
     "text": [
      "420 matching events found\n",
      "No baseline correction applied\n",
      "0 projection items activated\n",
      "Applying baseline correction (mode: mean)\n",
      "Overwriting existing file.\n",
      "Setting up low-pass filter at 30 Hz\n",
      "\n",
      "FIR filter parameters\n",
      "---------------------\n",
      "Designing a one-pass, zero-phase, non-causal lowpass filter:\n",
      "- Windowed time-domain design (firwin) method\n",
      "- Hamming window with 0.0194 passband ripple and 53 dB stopband attenuation\n",
      "- Upper passband edge: 30.00 Hz\n",
      "- Upper transition bandwidth: 7.50 Hz (-6 dB cutoff frequency: 33.75 Hz)\n",
      "- Filter length: 89 samples (0.445 sec)\n",
      "\n"
     ]
    },
    {
     "name": "stderr",
     "output_type": "stream",
     "text": [
      "[Parallel(n_jobs=1)]: Using backend SequentialBackend with 1 concurrent workers.\n",
      "[Parallel(n_jobs=1)]: Done   1 out of   1 | elapsed:    0.0s remaining:    0.0s\n",
      "[Parallel(n_jobs=1)]: Done   2 out of   2 | elapsed:    0.0s remaining:    0.0s\n",
      "[Parallel(n_jobs=1)]: Done   3 out of   3 | elapsed:    0.0s remaining:    0.0s\n",
      "[Parallel(n_jobs=1)]: Done   4 out of   4 | elapsed:    0.0s remaining:    0.0s\n"
     ]
    },
    {
     "name": "stdout",
     "output_type": "stream",
     "text": [
      "Overwriting existing file.\n",
      "Overwriting existing file.\n",
      "Setting up low-pass filter at 30 Hz\n",
      "\n",
      "FIR filter parameters\n",
      "---------------------\n",
      "Designing a one-pass, zero-phase, non-causal lowpass filter:\n",
      "- Windowed time-domain design (firwin) method\n",
      "- Hamming window with 0.0194 passband ripple and 53 dB stopband attenuation\n",
      "- Upper passband edge: 30.00 Hz\n",
      "- Upper transition bandwidth: 7.50 Hz (-6 dB cutoff frequency: 33.75 Hz)\n",
      "- Filter length: 89 samples (0.445 sec)\n",
      "\n"
     ]
    },
    {
     "name": "stderr",
     "output_type": "stream",
     "text": [
      "[Parallel(n_jobs=1)]: Done 1472 out of 1472 | elapsed:    0.4s finished\n",
      "[Parallel(n_jobs=1)]: Using backend SequentialBackend with 1 concurrent workers.\n",
      "[Parallel(n_jobs=1)]: Done   1 out of   1 | elapsed:    0.0s remaining:    0.0s\n",
      "[Parallel(n_jobs=1)]: Done   2 out of   2 | elapsed:    0.0s remaining:    0.0s\n",
      "[Parallel(n_jobs=1)]: Done   3 out of   3 | elapsed:    0.0s remaining:    0.0s\n",
      "[Parallel(n_jobs=1)]: Done   4 out of   4 | elapsed:    0.0s remaining:    0.0s\n"
     ]
    },
    {
     "name": "stdout",
     "output_type": "stream",
     "text": [
      "Overwriting existing file.\n",
      "Overwriting existing file.\n",
      "Setting up low-pass filter at 30 Hz\n",
      "\n",
      "FIR filter parameters\n",
      "---------------------\n",
      "Designing a one-pass, zero-phase, non-causal lowpass filter:\n",
      "- Windowed time-domain design (firwin) method\n",
      "- Hamming window with 0.0194 passband ripple and 53 dB stopband attenuation\n",
      "- Upper passband edge: 30.00 Hz\n",
      "- Upper transition bandwidth: 7.50 Hz (-6 dB cutoff frequency: 33.75 Hz)\n",
      "- Filter length: 89 samples (0.445 sec)\n",
      "\n"
     ]
    },
    {
     "name": "stderr",
     "output_type": "stream",
     "text": [
      "[Parallel(n_jobs=1)]: Done 1280 out of 1280 | elapsed:    0.4s finished\n",
      "[Parallel(n_jobs=1)]: Using backend SequentialBackend with 1 concurrent workers.\n",
      "[Parallel(n_jobs=1)]: Done   1 out of   1 | elapsed:    0.0s remaining:    0.0s\n",
      "[Parallel(n_jobs=1)]: Done   2 out of   2 | elapsed:    0.0s remaining:    0.0s\n",
      "[Parallel(n_jobs=1)]: Done   3 out of   3 | elapsed:    0.0s remaining:    0.0s\n",
      "[Parallel(n_jobs=1)]: Done   4 out of   4 | elapsed:    0.0s remaining:    0.0s\n"
     ]
    },
    {
     "name": "stdout",
     "output_type": "stream",
     "text": [
      "Overwriting existing file.\n",
      "Overwriting existing file.\n",
      "Setting up low-pass filter at 30 Hz\n",
      "\n",
      "FIR filter parameters\n",
      "---------------------\n",
      "Designing a one-pass, zero-phase, non-causal lowpass filter:\n",
      "- Windowed time-domain design (firwin) method\n",
      "- Hamming window with 0.0194 passband ripple and 53 dB stopband attenuation\n",
      "- Upper passband edge: 30.00 Hz\n",
      "- Upper transition bandwidth: 7.50 Hz (-6 dB cutoff frequency: 33.75 Hz)\n",
      "- Filter length: 89 samples (0.445 sec)\n",
      "\n"
     ]
    },
    {
     "name": "stderr",
     "output_type": "stream",
     "text": [
      "[Parallel(n_jobs=1)]: Done 1408 out of 1408 | elapsed:    0.4s finished\n",
      "[Parallel(n_jobs=1)]: Using backend SequentialBackend with 1 concurrent workers.\n",
      "[Parallel(n_jobs=1)]: Done   1 out of   1 | elapsed:    0.0s remaining:    0.0s\n",
      "[Parallel(n_jobs=1)]: Done   2 out of   2 | elapsed:    0.0s remaining:    0.0s\n",
      "[Parallel(n_jobs=1)]: Done   3 out of   3 | elapsed:    0.0s remaining:    0.0s\n",
      "[Parallel(n_jobs=1)]: Done   4 out of   4 | elapsed:    0.0s remaining:    0.0s\n"
     ]
    },
    {
     "name": "stdout",
     "output_type": "stream",
     "text": [
      "Overwriting existing file.\n"
     ]
    },
    {
     "name": "stderr",
     "output_type": "stream",
     "text": [
      "[Parallel(n_jobs=1)]: Done 1600 out of 1600 | elapsed:    0.5s finished\n"
     ]
    }
   ],
   "source": [
    "#save as evoked objects\n",
    "conditions = ['r', 'l']\n",
    "conditionnames = ['rightmoves', 'leftmoves']\n",
    "l_cutoff = 30\n",
    "\n",
    "#ROTATED and MIRROR TRAINING\n",
    "tasks = ['rot', 'mir']\n",
    "\n",
    "#split into training blocks\n",
    "#early (first 45 trials), late (last 45 trials)\n",
    "b0 = list(range(0,45))\n",
    "b1 = list(range(45,90))\n",
    "\n",
    "training = [b0, b1]\n",
    "\n",
    "       \n",
    "#rot and mir\n",
    "for task in range(0, len(tasks)):\n",
    "    for pp in participants:\n",
    "        data, ppdir = load_epochs(pp, root_dir = root, erp_path = erps)\n",
    "        for cond in range(0, len(conditions)):\n",
    "            for t in range(0, len(training)):\n",
    "                diridx, dirtrials = direction_index(tasks[task], conditions[cond], pp)\n",
    "                diridx = [i for i in diridx if i in training[t]]\n",
    "#                 print(diridx)\n",
    "                if len(diridx) == 0:\n",
    "                    break\n",
    "                pdata = epoch_trials(tasks[task], pp, data, diridx)\n",
    "#                 print(t, cond)\n",
    "#                 print(pdata)\n",
    "                output_condition_epochs(pp, pdata, ppdir, conditionnames[cond], tasks[task], t)\n",
    "                #filter at 30 Hz\n",
    "                pdata = pdata.filter(l_freq= None, h_freq=l_cutoff)\n",
    "                #then average across trials\n",
    "                output_condition_evoked(pp, pdata, ppdir, conditionnames[cond], tasks[task], t)"
   ]
  },
  {
   "cell_type": "code",
   "execution_count": 11,
   "id": "b5af3f10",
   "metadata": {},
   "outputs": [
    {
     "name": "stdout",
     "output_type": "stream",
     "text": [
      "Reading F:\\Documents\\Science\\MirRevAdaptEEG\\data\\eeg\\p000\\lrp\\p000_EarlyLate_rightmoves_rot_block0-ave.fif ...\n",
      "    Found the data of interest:\n",
      "        t =   -2000.00 ...    1995.00 ms (16140)\n",
      "        0 CTF compensation matrices available\n",
      "        nave = 23 - aspect type = 100\n",
      "No projector specified for this dataset. Please consider the method self.add_proj.\n",
      "Loaded Evoked data is baseline-corrected (baseline: [-1.3, -1] sec)\n",
      "Reading F:\\Documents\\Science\\MirRevAdaptEEG\\data\\eeg\\p001\\lrp\\p001_EarlyLate_rightmoves_rot_block0-ave.fif ...\n",
      "    Found the data of interest:\n",
      "        t =   -2000.00 ...    1995.00 ms (16140)\n",
      "        0 CTF compensation matrices available\n",
      "        nave = 23 - aspect type = 100\n",
      "No projector specified for this dataset. Please consider the method self.add_proj.\n",
      "Loaded Evoked data is baseline-corrected (baseline: [-1.3, -1] sec)\n",
      "Reading F:\\Documents\\Science\\MirRevAdaptEEG\\data\\eeg\\p002\\lrp\\p002_EarlyLate_rightmoves_rot_block0-ave.fif ...\n",
      "    Found the data of interest:\n",
      "        t =   -2000.00 ...    1995.00 ms (16140)\n",
      "        0 CTF compensation matrices available\n",
      "        nave = 24 - aspect type = 100\n",
      "No projector specified for this dataset. Please consider the method self.add_proj.\n",
      "Loaded Evoked data is baseline-corrected (baseline: [-1.3, -1] sec)\n",
      "Reading F:\\Documents\\Science\\MirRevAdaptEEG\\data\\eeg\\p003\\lrp\\p003_EarlyLate_rightmoves_rot_block0-ave.fif ...\n",
      "    Found the data of interest:\n",
      "        t =   -2000.00 ...    1995.00 ms (16140)\n",
      "        0 CTF compensation matrices available\n",
      "        nave = 23 - aspect type = 100\n",
      "No projector specified for this dataset. Please consider the method self.add_proj.\n",
      "Loaded Evoked data is baseline-corrected (baseline: [-1.3, -1] sec)\n",
      "Reading F:\\Documents\\Science\\MirRevAdaptEEG\\data\\eeg\\p008\\lrp\\p008_EarlyLate_rightmoves_rot_block0-ave.fif ...\n",
      "    Found the data of interest:\n",
      "        t =   -2000.00 ...    1995.00 ms (16140)\n",
      "        0 CTF compensation matrices available\n",
      "        nave = 24 - aspect type = 100\n",
      "No projector specified for this dataset. Please consider the method self.add_proj.\n",
      "Loaded Evoked data is baseline-corrected (baseline: [-1.3, -1] sec)\n",
      "Reading F:\\Documents\\Science\\MirRevAdaptEEG\\data\\eeg\\p009\\lrp\\p009_EarlyLate_rightmoves_rot_block0-ave.fif ...\n",
      "    Found the data of interest:\n",
      "        t =   -2000.00 ...    1995.00 ms (16140)\n",
      "        0 CTF compensation matrices available\n",
      "        nave = 22 - aspect type = 100\n",
      "No projector specified for this dataset. Please consider the method self.add_proj.\n",
      "Loaded Evoked data is baseline-corrected (baseline: [-1.3, -1] sec)\n",
      "Reading F:\\Documents\\Science\\MirRevAdaptEEG\\data\\eeg\\p010\\lrp\\p010_EarlyLate_rightmoves_rot_block0-ave.fif ...\n",
      "    Found the data of interest:\n",
      "        t =   -2000.00 ...    1995.00 ms (16140)\n",
      "        0 CTF compensation matrices available\n",
      "        nave = 22 - aspect type = 100\n",
      "No projector specified for this dataset. Please consider the method self.add_proj.\n",
      "Loaded Evoked data is baseline-corrected (baseline: [-1.3, -1] sec)\n",
      "Reading F:\\Documents\\Science\\MirRevAdaptEEG\\data\\eeg\\p011\\lrp\\p011_EarlyLate_rightmoves_rot_block0-ave.fif ...\n",
      "    Found the data of interest:\n",
      "        t =   -2000.00 ...    1995.00 ms (16140)\n",
      "        0 CTF compensation matrices available\n",
      "        nave = 23 - aspect type = 100\n",
      "No projector specified for this dataset. Please consider the method self.add_proj.\n",
      "Loaded Evoked data is baseline-corrected (baseline: [-1.3, -1] sec)\n",
      "Reading F:\\Documents\\Science\\MirRevAdaptEEG\\data\\eeg\\p016\\lrp\\p016_EarlyLate_rightmoves_rot_block0-ave.fif ...\n",
      "    Found the data of interest:\n",
      "        t =   -2000.00 ...    1995.00 ms (16140)\n",
      "        0 CTF compensation matrices available\n",
      "        nave = 22 - aspect type = 100\n",
      "No projector specified for this dataset. Please consider the method self.add_proj.\n",
      "Loaded Evoked data is baseline-corrected (baseline: [-1.3, -1] sec)\n",
      "Reading F:\\Documents\\Science\\MirRevAdaptEEG\\data\\eeg\\p017\\lrp\\p017_EarlyLate_rightmoves_rot_block0-ave.fif ...\n",
      "    Found the data of interest:\n",
      "        t =   -2000.00 ...    1995.00 ms (16140)\n",
      "        0 CTF compensation matrices available\n",
      "        nave = 23 - aspect type = 100\n",
      "No projector specified for this dataset. Please consider the method self.add_proj.\n",
      "Loaded Evoked data is baseline-corrected (baseline: [-1.3, -1] sec)\n",
      "Reading F:\\Documents\\Science\\MirRevAdaptEEG\\data\\eeg\\p018\\lrp\\p018_EarlyLate_rightmoves_rot_block0-ave.fif ...\n",
      "    Found the data of interest:\n",
      "        t =   -2000.00 ...    1995.00 ms (16140)\n",
      "        0 CTF compensation matrices available\n",
      "        nave = 23 - aspect type = 100\n",
      "No projector specified for this dataset. Please consider the method self.add_proj.\n",
      "Loaded Evoked data is baseline-corrected (baseline: [-1.3, -1] sec)\n",
      "Reading F:\\Documents\\Science\\MirRevAdaptEEG\\data\\eeg\\p019\\lrp\\p019_EarlyLate_rightmoves_rot_block0-ave.fif ...\n",
      "    Found the data of interest:\n",
      "        t =   -2000.00 ...    1995.00 ms (16140)\n",
      "        0 CTF compensation matrices available\n",
      "        nave = 22 - aspect type = 100\n",
      "No projector specified for this dataset. Please consider the method self.add_proj.\n",
      "Loaded Evoked data is baseline-corrected (baseline: [-1.3, -1] sec)\n",
      "Reading F:\\Documents\\Science\\MirRevAdaptEEG\\data\\eeg\\p024\\lrp\\p024_EarlyLate_rightmoves_rot_block0-ave.fif ...\n",
      "    Found the data of interest:\n",
      "        t =   -2000.00 ...    1995.00 ms (16140)\n",
      "        0 CTF compensation matrices available\n",
      "        nave = 22 - aspect type = 100\n",
      "No projector specified for this dataset. Please consider the method self.add_proj.\n",
      "Loaded Evoked data is baseline-corrected (baseline: [-1.3, -1] sec)\n",
      "Reading F:\\Documents\\Science\\MirRevAdaptEEG\\data\\eeg\\p025\\lrp\\p025_EarlyLate_rightmoves_rot_block0-ave.fif ...\n",
      "    Found the data of interest:\n",
      "        t =   -2000.00 ...    1995.00 ms (16140)\n",
      "        0 CTF compensation matrices available\n",
      "        nave = 23 - aspect type = 100\n",
      "No projector specified for this dataset. Please consider the method self.add_proj.\n",
      "Loaded Evoked data is baseline-corrected (baseline: [-1.3, -1] sec)\n",
      "Reading F:\\Documents\\Science\\MirRevAdaptEEG\\data\\eeg\\p026\\lrp\\p026_EarlyLate_rightmoves_rot_block0-ave.fif ...\n",
      "    Found the data of interest:\n",
      "        t =   -2000.00 ...    1995.00 ms (16140)\n",
      "        0 CTF compensation matrices available\n",
      "        nave = 22 - aspect type = 100\n",
      "No projector specified for this dataset. Please consider the method self.add_proj.\n",
      "Loaded Evoked data is baseline-corrected (baseline: [-1.3, -1] sec)\n",
      "Reading F:\\Documents\\Science\\MirRevAdaptEEG\\data\\eeg\\p027\\lrp\\p027_EarlyLate_rightmoves_rot_block0-ave.fif ...\n",
      "    Found the data of interest:\n",
      "        t =   -2000.00 ...    1995.00 ms (16140)\n",
      "        0 CTF compensation matrices available\n",
      "        nave = 23 - aspect type = 100\n",
      "No projector specified for this dataset. Please consider the method self.add_proj.\n",
      "Loaded Evoked data is baseline-corrected (baseline: [-1.3, -1] sec)\n",
      "Identifying common channels ...\n",
      "Reading F:\\Documents\\Science\\MirRevAdaptEEG\\data\\eeg\\p000\\lrp\\p000_EarlyLate_rightmoves_rot_block1-ave.fif ...\n",
      "    Found the data of interest:\n",
      "        t =   -2000.00 ...    1995.00 ms (16140)\n",
      "        0 CTF compensation matrices available\n",
      "        nave = 22 - aspect type = 100\n",
      "No projector specified for this dataset. Please consider the method self.add_proj.\n",
      "Loaded Evoked data is baseline-corrected (baseline: [-1.3, -1] sec)\n",
      "Reading F:\\Documents\\Science\\MirRevAdaptEEG\\data\\eeg\\p001\\lrp\\p001_EarlyLate_rightmoves_rot_block1-ave.fif ...\n",
      "    Found the data of interest:\n",
      "        t =   -2000.00 ...    1995.00 ms (16140)\n",
      "        0 CTF compensation matrices available\n",
      "        nave = 22 - aspect type = 100\n",
      "No projector specified for this dataset. Please consider the method self.add_proj.\n",
      "Loaded Evoked data is baseline-corrected (baseline: [-1.3, -1] sec)\n",
      "Reading F:\\Documents\\Science\\MirRevAdaptEEG\\data\\eeg\\p002\\lrp\\p002_EarlyLate_rightmoves_rot_block1-ave.fif ...\n",
      "    Found the data of interest:\n",
      "        t =   -2000.00 ...    1995.00 ms (16140)\n",
      "        0 CTF compensation matrices available\n",
      "        nave = 21 - aspect type = 100\n",
      "No projector specified for this dataset. Please consider the method self.add_proj.\n",
      "Loaded Evoked data is baseline-corrected (baseline: [-1.3, -1] sec)\n",
      "Reading F:\\Documents\\Science\\MirRevAdaptEEG\\data\\eeg\\p003\\lrp\\p003_EarlyLate_rightmoves_rot_block1-ave.fif ...\n"
     ]
    },
    {
     "name": "stdout",
     "output_type": "stream",
     "text": [
      "    Found the data of interest:\n",
      "        t =   -2000.00 ...    1995.00 ms (16140)\n",
      "        0 CTF compensation matrices available\n",
      "        nave = 22 - aspect type = 100\n",
      "No projector specified for this dataset. Please consider the method self.add_proj.\n",
      "Loaded Evoked data is baseline-corrected (baseline: [-1.3, -1] sec)\n",
      "Reading F:\\Documents\\Science\\MirRevAdaptEEG\\data\\eeg\\p008\\lrp\\p008_EarlyLate_rightmoves_rot_block1-ave.fif ...\n",
      "    Found the data of interest:\n",
      "        t =   -2000.00 ...    1995.00 ms (16140)\n",
      "        0 CTF compensation matrices available\n",
      "        nave = 20 - aspect type = 100\n",
      "No projector specified for this dataset. Please consider the method self.add_proj.\n",
      "Loaded Evoked data is baseline-corrected (baseline: [-1.3, -1] sec)\n",
      "Reading F:\\Documents\\Science\\MirRevAdaptEEG\\data\\eeg\\p009\\lrp\\p009_EarlyLate_rightmoves_rot_block1-ave.fif ...\n",
      "    Found the data of interest:\n",
      "        t =   -2000.00 ...    1995.00 ms (16140)\n",
      "        0 CTF compensation matrices available\n",
      "        nave = 23 - aspect type = 100\n",
      "No projector specified for this dataset. Please consider the method self.add_proj.\n",
      "Loaded Evoked data is baseline-corrected (baseline: [-1.3, -1] sec)\n",
      "Reading F:\\Documents\\Science\\MirRevAdaptEEG\\data\\eeg\\p010\\lrp\\p010_EarlyLate_rightmoves_rot_block1-ave.fif ...\n",
      "    Found the data of interest:\n",
      "        t =   -2000.00 ...    1995.00 ms (16140)\n",
      "        0 CTF compensation matrices available\n",
      "        nave = 23 - aspect type = 100\n",
      "No projector specified for this dataset. Please consider the method self.add_proj.\n",
      "Loaded Evoked data is baseline-corrected (baseline: [-1.3, -1] sec)\n",
      "Reading F:\\Documents\\Science\\MirRevAdaptEEG\\data\\eeg\\p011\\lrp\\p011_EarlyLate_rightmoves_rot_block1-ave.fif ...\n",
      "    Found the data of interest:\n",
      "        t =   -2000.00 ...    1995.00 ms (16140)\n",
      "        0 CTF compensation matrices available\n",
      "        nave = 22 - aspect type = 100\n",
      "No projector specified for this dataset. Please consider the method self.add_proj.\n",
      "Loaded Evoked data is baseline-corrected (baseline: [-1.3, -1] sec)\n",
      "Reading F:\\Documents\\Science\\MirRevAdaptEEG\\data\\eeg\\p016\\lrp\\p016_EarlyLate_rightmoves_rot_block1-ave.fif ...\n",
      "    Found the data of interest:\n",
      "        t =   -2000.00 ...    1995.00 ms (16140)\n",
      "        0 CTF compensation matrices available\n",
      "        nave = 23 - aspect type = 100\n",
      "No projector specified for this dataset. Please consider the method self.add_proj.\n",
      "Loaded Evoked data is baseline-corrected (baseline: [-1.3, -1] sec)\n",
      "Reading F:\\Documents\\Science\\MirRevAdaptEEG\\data\\eeg\\p017\\lrp\\p017_EarlyLate_rightmoves_rot_block1-ave.fif ...\n",
      "    Found the data of interest:\n",
      "        t =   -2000.00 ...    1995.00 ms (16140)\n",
      "        0 CTF compensation matrices available\n",
      "        nave = 22 - aspect type = 100\n",
      "No projector specified for this dataset. Please consider the method self.add_proj.\n",
      "Loaded Evoked data is baseline-corrected (baseline: [-1.3, -1] sec)\n",
      "Reading F:\\Documents\\Science\\MirRevAdaptEEG\\data\\eeg\\p018\\lrp\\p018_EarlyLate_rightmoves_rot_block1-ave.fif ...\n",
      "    Found the data of interest:\n",
      "        t =   -2000.00 ...    1995.00 ms (16140)\n",
      "        0 CTF compensation matrices available\n",
      "        nave = 22 - aspect type = 100\n",
      "No projector specified for this dataset. Please consider the method self.add_proj.\n",
      "Loaded Evoked data is baseline-corrected (baseline: [-1.3, -1] sec)\n",
      "Reading F:\\Documents\\Science\\MirRevAdaptEEG\\data\\eeg\\p019\\lrp\\p019_EarlyLate_rightmoves_rot_block1-ave.fif ...\n",
      "    Found the data of interest:\n",
      "        t =   -2000.00 ...    1995.00 ms (16140)\n",
      "        0 CTF compensation matrices available\n",
      "        nave = 23 - aspect type = 100\n",
      "No projector specified for this dataset. Please consider the method self.add_proj.\n",
      "Loaded Evoked data is baseline-corrected (baseline: [-1.3, -1] sec)\n",
      "Reading F:\\Documents\\Science\\MirRevAdaptEEG\\data\\eeg\\p024\\lrp\\p024_EarlyLate_rightmoves_rot_block1-ave.fif ...\n",
      "    Found the data of interest:\n",
      "        t =   -2000.00 ...    1995.00 ms (16140)\n",
      "        0 CTF compensation matrices available\n",
      "        nave = 23 - aspect type = 100\n",
      "No projector specified for this dataset. Please consider the method self.add_proj.\n",
      "Loaded Evoked data is baseline-corrected (baseline: [-1.3, -1] sec)\n",
      "Reading F:\\Documents\\Science\\MirRevAdaptEEG\\data\\eeg\\p025\\lrp\\p025_EarlyLate_rightmoves_rot_block1-ave.fif ...\n",
      "    Found the data of interest:\n",
      "        t =   -2000.00 ...    1995.00 ms (16140)\n",
      "        0 CTF compensation matrices available\n",
      "        nave = 22 - aspect type = 100\n",
      "No projector specified for this dataset. Please consider the method self.add_proj.\n",
      "Loaded Evoked data is baseline-corrected (baseline: [-1.3, -1] sec)\n",
      "Reading F:\\Documents\\Science\\MirRevAdaptEEG\\data\\eeg\\p026\\lrp\\p026_EarlyLate_rightmoves_rot_block1-ave.fif ...\n",
      "    Found the data of interest:\n",
      "        t =   -2000.00 ...    1995.00 ms (16140)\n",
      "        0 CTF compensation matrices available\n",
      "        nave = 23 - aspect type = 100\n",
      "No projector specified for this dataset. Please consider the method self.add_proj.\n",
      "Loaded Evoked data is baseline-corrected (baseline: [-1.3, -1] sec)\n",
      "Reading F:\\Documents\\Science\\MirRevAdaptEEG\\data\\eeg\\p027\\lrp\\p027_EarlyLate_rightmoves_rot_block1-ave.fif ...\n",
      "    Found the data of interest:\n",
      "        t =   -2000.00 ...    1995.00 ms (16140)\n",
      "        0 CTF compensation matrices available\n",
      "        nave = 22 - aspect type = 100\n",
      "No projector specified for this dataset. Please consider the method self.add_proj.\n",
      "Loaded Evoked data is baseline-corrected (baseline: [-1.3, -1] sec)\n",
      "Identifying common channels ...\n",
      "Reading F:\\Documents\\Science\\MirRevAdaptEEG\\data\\eeg\\p000\\lrp\\p000_EarlyLate_leftmoves_rot_block0-ave.fif ...\n",
      "    Found the data of interest:\n",
      "        t =   -2000.00 ...    1995.00 ms (16140)\n",
      "        0 CTF compensation matrices available\n",
      "        nave = 22 - aspect type = 100\n",
      "No projector specified for this dataset. Please consider the method self.add_proj.\n",
      "Loaded Evoked data is baseline-corrected (baseline: [-1.3, -1] sec)\n",
      "Reading F:\\Documents\\Science\\MirRevAdaptEEG\\data\\eeg\\p001\\lrp\\p001_EarlyLate_leftmoves_rot_block0-ave.fif ...\n",
      "    Found the data of interest:\n",
      "        t =   -2000.00 ...    1995.00 ms (16140)\n",
      "        0 CTF compensation matrices available\n",
      "        nave = 22 - aspect type = 100\n",
      "No projector specified for this dataset. Please consider the method self.add_proj.\n",
      "Loaded Evoked data is baseline-corrected (baseline: [-1.3, -1] sec)\n",
      "Reading F:\\Documents\\Science\\MirRevAdaptEEG\\data\\eeg\\p002\\lrp\\p002_EarlyLate_leftmoves_rot_block0-ave.fif ...\n",
      "    Found the data of interest:\n",
      "        t =   -2000.00 ...    1995.00 ms (16140)\n",
      "        0 CTF compensation matrices available\n",
      "        nave = 21 - aspect type = 100\n",
      "No projector specified for this dataset. Please consider the method self.add_proj.\n",
      "Loaded Evoked data is baseline-corrected (baseline: [-1.3, -1] sec)\n",
      "Reading F:\\Documents\\Science\\MirRevAdaptEEG\\data\\eeg\\p003\\lrp\\p003_EarlyLate_leftmoves_rot_block0-ave.fif ...\n",
      "    Found the data of interest:\n",
      "        t =   -2000.00 ...    1995.00 ms (16140)\n",
      "        0 CTF compensation matrices available\n",
      "        nave = 21 - aspect type = 100\n",
      "No projector specified for this dataset. Please consider the method self.add_proj.\n",
      "Loaded Evoked data is baseline-corrected (baseline: [-1.3, -1] sec)\n",
      "Reading F:\\Documents\\Science\\MirRevAdaptEEG\\data\\eeg\\p008\\lrp\\p008_EarlyLate_leftmoves_rot_block0-ave.fif ...\n",
      "    Found the data of interest:\n",
      "        t =   -2000.00 ...    1995.00 ms (16140)\n",
      "        0 CTF compensation matrices available\n",
      "        nave = 21 - aspect type = 100\n",
      "No projector specified for this dataset. Please consider the method self.add_proj.\n",
      "Loaded Evoked data is baseline-corrected (baseline: [-1.3, -1] sec)\n",
      "Reading F:\\Documents\\Science\\MirRevAdaptEEG\\data\\eeg\\p009\\lrp\\p009_EarlyLate_leftmoves_rot_block0-ave.fif ...\n",
      "    Found the data of interest:\n",
      "        t =   -2000.00 ...    1995.00 ms (16140)\n",
      "        0 CTF compensation matrices available\n",
      "        nave = 23 - aspect type = 100\n",
      "No projector specified for this dataset. Please consider the method self.add_proj.\n",
      "Loaded Evoked data is baseline-corrected (baseline: [-1.3, -1] sec)\n",
      "Reading F:\\Documents\\Science\\MirRevAdaptEEG\\data\\eeg\\p010\\lrp\\p010_EarlyLate_leftmoves_rot_block0-ave.fif ...\n",
      "    Found the data of interest:\n",
      "        t =   -2000.00 ...    1995.00 ms (16140)\n"
     ]
    },
    {
     "name": "stdout",
     "output_type": "stream",
     "text": [
      "        0 CTF compensation matrices available\n",
      "        nave = 23 - aspect type = 100\n",
      "No projector specified for this dataset. Please consider the method self.add_proj.\n",
      "Loaded Evoked data is baseline-corrected (baseline: [-1.3, -1] sec)\n",
      "Reading F:\\Documents\\Science\\MirRevAdaptEEG\\data\\eeg\\p011\\lrp\\p011_EarlyLate_leftmoves_rot_block0-ave.fif ...\n",
      "    Found the data of interest:\n",
      "        t =   -2000.00 ...    1995.00 ms (16140)\n",
      "        0 CTF compensation matrices available\n",
      "        nave = 22 - aspect type = 100\n",
      "No projector specified for this dataset. Please consider the method self.add_proj.\n",
      "Loaded Evoked data is baseline-corrected (baseline: [-1.3, -1] sec)\n",
      "Reading F:\\Documents\\Science\\MirRevAdaptEEG\\data\\eeg\\p016\\lrp\\p016_EarlyLate_leftmoves_rot_block0-ave.fif ...\n",
      "    Found the data of interest:\n",
      "        t =   -2000.00 ...    1995.00 ms (16140)\n",
      "        0 CTF compensation matrices available\n",
      "        nave = 22 - aspect type = 100\n",
      "No projector specified for this dataset. Please consider the method self.add_proj.\n",
      "Loaded Evoked data is baseline-corrected (baseline: [-1.3, -1] sec)\n",
      "Reading F:\\Documents\\Science\\MirRevAdaptEEG\\data\\eeg\\p017\\lrp\\p017_EarlyLate_leftmoves_rot_block0-ave.fif ...\n",
      "    Found the data of interest:\n",
      "        t =   -2000.00 ...    1995.00 ms (16140)\n",
      "        0 CTF compensation matrices available\n",
      "        nave = 22 - aspect type = 100\n",
      "No projector specified for this dataset. Please consider the method self.add_proj.\n",
      "Loaded Evoked data is baseline-corrected (baseline: [-1.3, -1] sec)\n",
      "Reading F:\\Documents\\Science\\MirRevAdaptEEG\\data\\eeg\\p018\\lrp\\p018_EarlyLate_leftmoves_rot_block0-ave.fif ...\n",
      "    Found the data of interest:\n",
      "        t =   -2000.00 ...    1995.00 ms (16140)\n",
      "        0 CTF compensation matrices available\n",
      "        nave = 22 - aspect type = 100\n",
      "No projector specified for this dataset. Please consider the method self.add_proj.\n",
      "Loaded Evoked data is baseline-corrected (baseline: [-1.3, -1] sec)\n",
      "Reading F:\\Documents\\Science\\MirRevAdaptEEG\\data\\eeg\\p019\\lrp\\p019_EarlyLate_leftmoves_rot_block0-ave.fif ...\n",
      "    Found the data of interest:\n",
      "        t =   -2000.00 ...    1995.00 ms (16140)\n",
      "        0 CTF compensation matrices available\n",
      "        nave = 23 - aspect type = 100\n",
      "No projector specified for this dataset. Please consider the method self.add_proj.\n",
      "Loaded Evoked data is baseline-corrected (baseline: [-1.3, -1] sec)\n",
      "Reading F:\\Documents\\Science\\MirRevAdaptEEG\\data\\eeg\\p024\\lrp\\p024_EarlyLate_leftmoves_rot_block0-ave.fif ...\n",
      "    Found the data of interest:\n",
      "        t =   -2000.00 ...    1995.00 ms (16140)\n",
      "        0 CTF compensation matrices available\n",
      "        nave = 23 - aspect type = 100\n",
      "No projector specified for this dataset. Please consider the method self.add_proj.\n",
      "Loaded Evoked data is baseline-corrected (baseline: [-1.3, -1] sec)\n",
      "Reading F:\\Documents\\Science\\MirRevAdaptEEG\\data\\eeg\\p025\\lrp\\p025_EarlyLate_leftmoves_rot_block0-ave.fif ...\n",
      "    Found the data of interest:\n",
      "        t =   -2000.00 ...    1995.00 ms (16140)\n",
      "        0 CTF compensation matrices available\n",
      "        nave = 22 - aspect type = 100\n",
      "No projector specified for this dataset. Please consider the method self.add_proj.\n",
      "Loaded Evoked data is baseline-corrected (baseline: [-1.3, -1] sec)\n",
      "Reading F:\\Documents\\Science\\MirRevAdaptEEG\\data\\eeg\\p026\\lrp\\p026_EarlyLate_leftmoves_rot_block0-ave.fif ...\n",
      "    Found the data of interest:\n",
      "        t =   -2000.00 ...    1995.00 ms (16140)\n",
      "        0 CTF compensation matrices available\n",
      "        nave = 23 - aspect type = 100\n",
      "No projector specified for this dataset. Please consider the method self.add_proj.\n",
      "Loaded Evoked data is baseline-corrected (baseline: [-1.3, -1] sec)\n",
      "Reading F:\\Documents\\Science\\MirRevAdaptEEG\\data\\eeg\\p027\\lrp\\p027_EarlyLate_leftmoves_rot_block0-ave.fif ...\n",
      "    Found the data of interest:\n",
      "        t =   -2000.00 ...    1995.00 ms (16140)\n",
      "        0 CTF compensation matrices available\n",
      "        nave = 22 - aspect type = 100\n",
      "No projector specified for this dataset. Please consider the method self.add_proj.\n",
      "Loaded Evoked data is baseline-corrected (baseline: [-1.3, -1] sec)\n",
      "Identifying common channels ...\n",
      "Reading F:\\Documents\\Science\\MirRevAdaptEEG\\data\\eeg\\p000\\lrp\\p000_EarlyLate_leftmoves_rot_block1-ave.fif ...\n",
      "    Found the data of interest:\n",
      "        t =   -2000.00 ...    1995.00 ms (16140)\n",
      "        0 CTF compensation matrices available\n",
      "        nave = 23 - aspect type = 100\n",
      "No projector specified for this dataset. Please consider the method self.add_proj.\n",
      "Loaded Evoked data is baseline-corrected (baseline: [-1.3, -1] sec)\n",
      "Reading F:\\Documents\\Science\\MirRevAdaptEEG\\data\\eeg\\p001\\lrp\\p001_EarlyLate_leftmoves_rot_block1-ave.fif ...\n",
      "    Found the data of interest:\n",
      "        t =   -2000.00 ...    1995.00 ms (16140)\n",
      "        0 CTF compensation matrices available\n",
      "        nave = 23 - aspect type = 100\n",
      "No projector specified for this dataset. Please consider the method self.add_proj.\n",
      "Loaded Evoked data is baseline-corrected (baseline: [-1.3, -1] sec)\n",
      "Reading F:\\Documents\\Science\\MirRevAdaptEEG\\data\\eeg\\p002\\lrp\\p002_EarlyLate_leftmoves_rot_block1-ave.fif ...\n",
      "    Found the data of interest:\n",
      "        t =   -2000.00 ...    1995.00 ms (16140)\n",
      "        0 CTF compensation matrices available\n",
      "        nave = 24 - aspect type = 100\n",
      "No projector specified for this dataset. Please consider the method self.add_proj.\n",
      "Loaded Evoked data is baseline-corrected (baseline: [-1.3, -1] sec)\n",
      "Reading F:\\Documents\\Science\\MirRevAdaptEEG\\data\\eeg\\p003\\lrp\\p003_EarlyLate_leftmoves_rot_block1-ave.fif ...\n",
      "    Found the data of interest:\n",
      "        t =   -2000.00 ...    1995.00 ms (16140)\n",
      "        0 CTF compensation matrices available\n",
      "        nave = 23 - aspect type = 100\n",
      "No projector specified for this dataset. Please consider the method self.add_proj.\n",
      "Loaded Evoked data is baseline-corrected (baseline: [-1.3, -1] sec)\n",
      "Reading F:\\Documents\\Science\\MirRevAdaptEEG\\data\\eeg\\p008\\lrp\\p008_EarlyLate_leftmoves_rot_block1-ave.fif ...\n",
      "    Found the data of interest:\n",
      "        t =   -2000.00 ...    1995.00 ms (16140)\n",
      "        0 CTF compensation matrices available\n",
      "        nave = 25 - aspect type = 100\n",
      "No projector specified for this dataset. Please consider the method self.add_proj.\n",
      "Loaded Evoked data is baseline-corrected (baseline: [-1.3, -1] sec)\n",
      "Reading F:\\Documents\\Science\\MirRevAdaptEEG\\data\\eeg\\p009\\lrp\\p009_EarlyLate_leftmoves_rot_block1-ave.fif ...\n",
      "    Found the data of interest:\n",
      "        t =   -2000.00 ...    1995.00 ms (16140)\n",
      "        0 CTF compensation matrices available\n",
      "        nave = 22 - aspect type = 100\n",
      "No projector specified for this dataset. Please consider the method self.add_proj.\n",
      "Loaded Evoked data is baseline-corrected (baseline: [-1.3, -1] sec)\n",
      "Reading F:\\Documents\\Science\\MirRevAdaptEEG\\data\\eeg\\p010\\lrp\\p010_EarlyLate_leftmoves_rot_block1-ave.fif ...\n",
      "    Found the data of interest:\n",
      "        t =   -2000.00 ...    1995.00 ms (16140)\n",
      "        0 CTF compensation matrices available\n",
      "        nave = 22 - aspect type = 100\n",
      "No projector specified for this dataset. Please consider the method self.add_proj.\n",
      "Loaded Evoked data is baseline-corrected (baseline: [-1.3, -1] sec)\n",
      "Reading F:\\Documents\\Science\\MirRevAdaptEEG\\data\\eeg\\p011\\lrp\\p011_EarlyLate_leftmoves_rot_block1-ave.fif ...\n",
      "    Found the data of interest:\n",
      "        t =   -2000.00 ...    1995.00 ms (16140)\n",
      "        0 CTF compensation matrices available\n",
      "        nave = 23 - aspect type = 100\n",
      "No projector specified for this dataset. Please consider the method self.add_proj.\n",
      "Loaded Evoked data is baseline-corrected (baseline: [-1.3, -1] sec)\n",
      "Reading F:\\Documents\\Science\\MirRevAdaptEEG\\data\\eeg\\p016\\lrp\\p016_EarlyLate_leftmoves_rot_block1-ave.fif ...\n",
      "    Found the data of interest:\n",
      "        t =   -2000.00 ...    1995.00 ms (16140)\n",
      "        0 CTF compensation matrices available\n",
      "        nave = 22 - aspect type = 100\n",
      "No projector specified for this dataset. Please consider the method self.add_proj.\n",
      "Loaded Evoked data is baseline-corrected (baseline: [-1.3, -1] sec)\n",
      "Reading F:\\Documents\\Science\\MirRevAdaptEEG\\data\\eeg\\p017\\lrp\\p017_EarlyLate_leftmoves_rot_block1-ave.fif ...\n",
      "    Found the data of interest:\n",
      "        t =   -2000.00 ...    1995.00 ms (16140)\n",
      "        0 CTF compensation matrices available\n",
      "        nave = 22 - aspect type = 100\n"
     ]
    },
    {
     "name": "stdout",
     "output_type": "stream",
     "text": [
      "No projector specified for this dataset. Please consider the method self.add_proj.\n",
      "Loaded Evoked data is baseline-corrected (baseline: [-1.3, -1] sec)\n",
      "Reading F:\\Documents\\Science\\MirRevAdaptEEG\\data\\eeg\\p018\\lrp\\p018_EarlyLate_leftmoves_rot_block1-ave.fif ...\n",
      "    Found the data of interest:\n",
      "        t =   -2000.00 ...    1995.00 ms (16140)\n",
      "        0 CTF compensation matrices available\n",
      "        nave = 23 - aspect type = 100\n",
      "No projector specified for this dataset. Please consider the method self.add_proj.\n",
      "Loaded Evoked data is baseline-corrected (baseline: [-1.3, -1] sec)\n",
      "Reading F:\\Documents\\Science\\MirRevAdaptEEG\\data\\eeg\\p019\\lrp\\p019_EarlyLate_leftmoves_rot_block1-ave.fif ...\n",
      "    Found the data of interest:\n",
      "        t =   -2000.00 ...    1995.00 ms (16140)\n",
      "        0 CTF compensation matrices available\n",
      "        nave = 22 - aspect type = 100\n",
      "No projector specified for this dataset. Please consider the method self.add_proj.\n",
      "Loaded Evoked data is baseline-corrected (baseline: [-1.3, -1] sec)\n",
      "Reading F:\\Documents\\Science\\MirRevAdaptEEG\\data\\eeg\\p024\\lrp\\p024_EarlyLate_leftmoves_rot_block1-ave.fif ...\n",
      "    Found the data of interest:\n",
      "        t =   -2000.00 ...    1995.00 ms (16140)\n",
      "        0 CTF compensation matrices available\n",
      "        nave = 22 - aspect type = 100\n",
      "No projector specified for this dataset. Please consider the method self.add_proj.\n",
      "Loaded Evoked data is baseline-corrected (baseline: [-1.3, -1] sec)\n",
      "Reading F:\\Documents\\Science\\MirRevAdaptEEG\\data\\eeg\\p025\\lrp\\p025_EarlyLate_leftmoves_rot_block1-ave.fif ...\n",
      "    Found the data of interest:\n",
      "        t =   -2000.00 ...    1995.00 ms (16140)\n",
      "        0 CTF compensation matrices available\n",
      "        nave = 23 - aspect type = 100\n",
      "No projector specified for this dataset. Please consider the method self.add_proj.\n",
      "Loaded Evoked data is baseline-corrected (baseline: [-1.3, -1] sec)\n",
      "Reading F:\\Documents\\Science\\MirRevAdaptEEG\\data\\eeg\\p026\\lrp\\p026_EarlyLate_leftmoves_rot_block1-ave.fif ...\n",
      "    Found the data of interest:\n",
      "        t =   -2000.00 ...    1995.00 ms (16140)\n",
      "        0 CTF compensation matrices available\n",
      "        nave = 22 - aspect type = 100\n",
      "No projector specified for this dataset. Please consider the method self.add_proj.\n",
      "Loaded Evoked data is baseline-corrected (baseline: [-1.3, -1] sec)\n",
      "Reading F:\\Documents\\Science\\MirRevAdaptEEG\\data\\eeg\\p027\\lrp\\p027_EarlyLate_leftmoves_rot_block1-ave.fif ...\n",
      "    Found the data of interest:\n",
      "        t =   -2000.00 ...    1995.00 ms (16140)\n",
      "        0 CTF compensation matrices available\n",
      "        nave = 23 - aspect type = 100\n",
      "No projector specified for this dataset. Please consider the method self.add_proj.\n",
      "Loaded Evoked data is baseline-corrected (baseline: [-1.3, -1] sec)\n",
      "Identifying common channels ...\n",
      "Reading F:\\Documents\\Science\\MirRevAdaptEEG\\data\\eeg\\p004\\lrp\\p004_EarlyLate_rightmoves_mir_block0-ave.fif ...\n",
      "    Found the data of interest:\n",
      "        t =   -2000.00 ...    1995.00 ms (16140)\n",
      "        0 CTF compensation matrices available\n",
      "        nave = 23 - aspect type = 100\n",
      "No projector specified for this dataset. Please consider the method self.add_proj.\n",
      "Loaded Evoked data is baseline-corrected (baseline: [-1.3, -1] sec)\n",
      "Reading F:\\Documents\\Science\\MirRevAdaptEEG\\data\\eeg\\p005\\lrp\\p005_EarlyLate_rightmoves_mir_block0-ave.fif ...\n",
      "    Found the data of interest:\n",
      "        t =   -2000.00 ...    1995.00 ms (16140)\n",
      "        0 CTF compensation matrices available\n",
      "        nave = 19 - aspect type = 100\n",
      "No projector specified for this dataset. Please consider the method self.add_proj.\n",
      "Loaded Evoked data is baseline-corrected (baseline: [-1.3, -1] sec)\n",
      "Reading F:\\Documents\\Science\\MirRevAdaptEEG\\data\\eeg\\p006\\lrp\\p006_EarlyLate_rightmoves_mir_block0-ave.fif ...\n",
      "    Found the data of interest:\n",
      "        t =   -2000.00 ...    1995.00 ms (16140)\n",
      "        0 CTF compensation matrices available\n",
      "        nave = 23 - aspect type = 100\n",
      "No projector specified for this dataset. Please consider the method self.add_proj.\n",
      "Loaded Evoked data is baseline-corrected (baseline: [-1.3, -1] sec)\n",
      "Reading F:\\Documents\\Science\\MirRevAdaptEEG\\data\\eeg\\p007\\lrp\\p007_EarlyLate_rightmoves_mir_block0-ave.fif ...\n",
      "    Found the data of interest:\n",
      "        t =   -2000.00 ...    1995.00 ms (16140)\n",
      "        0 CTF compensation matrices available\n",
      "        nave = 23 - aspect type = 100\n",
      "No projector specified for this dataset. Please consider the method self.add_proj.\n",
      "Loaded Evoked data is baseline-corrected (baseline: [-1.3, -1] sec)\n",
      "Reading F:\\Documents\\Science\\MirRevAdaptEEG\\data\\eeg\\p012\\lrp\\p012_EarlyLate_rightmoves_mir_block0-ave.fif ...\n",
      "    Found the data of interest:\n",
      "        t =   -2000.00 ...    1995.00 ms (16140)\n",
      "        0 CTF compensation matrices available\n",
      "        nave = 25 - aspect type = 100\n",
      "No projector specified for this dataset. Please consider the method self.add_proj.\n",
      "Loaded Evoked data is baseline-corrected (baseline: [-1.3, -1] sec)\n",
      "Reading F:\\Documents\\Science\\MirRevAdaptEEG\\data\\eeg\\p013\\lrp\\p013_EarlyLate_rightmoves_mir_block0-ave.fif ...\n",
      "    Found the data of interest:\n",
      "        t =   -2000.00 ...    1995.00 ms (16140)\n",
      "        0 CTF compensation matrices available\n",
      "        nave = 21 - aspect type = 100\n",
      "No projector specified for this dataset. Please consider the method self.add_proj.\n",
      "Loaded Evoked data is baseline-corrected (baseline: [-1.3, -1] sec)\n",
      "Reading F:\\Documents\\Science\\MirRevAdaptEEG\\data\\eeg\\p014\\lrp\\p014_EarlyLate_rightmoves_mir_block0-ave.fif ...\n",
      "    Found the data of interest:\n",
      "        t =   -2000.00 ...    1995.00 ms (16140)\n",
      "        0 CTF compensation matrices available\n",
      "        nave = 24 - aspect type = 100\n",
      "No projector specified for this dataset. Please consider the method self.add_proj.\n",
      "Loaded Evoked data is baseline-corrected (baseline: [-1.3, -1] sec)\n",
      "Reading F:\\Documents\\Science\\MirRevAdaptEEG\\data\\eeg\\p015\\lrp\\p015_EarlyLate_rightmoves_mir_block0-ave.fif ...\n",
      "    Found the data of interest:\n",
      "        t =   -2000.00 ...    1995.00 ms (16140)\n",
      "        0 CTF compensation matrices available\n",
      "        nave = 20 - aspect type = 100\n",
      "No projector specified for this dataset. Please consider the method self.add_proj.\n",
      "Loaded Evoked data is baseline-corrected (baseline: [-1.3, -1] sec)\n",
      "Reading F:\\Documents\\Science\\MirRevAdaptEEG\\data\\eeg\\p020\\lrp\\p020_EarlyLate_rightmoves_mir_block0-ave.fif ...\n",
      "    Found the data of interest:\n",
      "        t =   -2000.00 ...    1995.00 ms (16140)\n",
      "        0 CTF compensation matrices available\n",
      "        nave = 22 - aspect type = 100\n",
      "No projector specified for this dataset. Please consider the method self.add_proj.\n",
      "Loaded Evoked data is baseline-corrected (baseline: [-1.3, -1] sec)\n",
      "Reading F:\\Documents\\Science\\MirRevAdaptEEG\\data\\eeg\\p021\\lrp\\p021_EarlyLate_rightmoves_mir_block0-ave.fif ...\n",
      "    Found the data of interest:\n",
      "        t =   -2000.00 ...    1995.00 ms (16140)\n",
      "        0 CTF compensation matrices available\n",
      "        nave = 21 - aspect type = 100\n",
      "No projector specified for this dataset. Please consider the method self.add_proj.\n",
      "Loaded Evoked data is baseline-corrected (baseline: [-1.3, -1] sec)\n",
      "Reading F:\\Documents\\Science\\MirRevAdaptEEG\\data\\eeg\\p022\\lrp\\p022_EarlyLate_rightmoves_mir_block0-ave.fif ...\n",
      "    Found the data of interest:\n",
      "        t =   -2000.00 ...    1995.00 ms (16140)\n",
      "        0 CTF compensation matrices available\n",
      "        nave = 25 - aspect type = 100\n",
      "No projector specified for this dataset. Please consider the method self.add_proj.\n",
      "Loaded Evoked data is baseline-corrected (baseline: [-1.3, -1] sec)\n",
      "Reading F:\\Documents\\Science\\MirRevAdaptEEG\\data\\eeg\\p023\\lrp\\p023_EarlyLate_rightmoves_mir_block0-ave.fif ...\n",
      "    Found the data of interest:\n",
      "        t =   -2000.00 ...    1995.00 ms (16140)\n",
      "        0 CTF compensation matrices available\n",
      "        nave = 24 - aspect type = 100\n",
      "No projector specified for this dataset. Please consider the method self.add_proj.\n",
      "Loaded Evoked data is baseline-corrected (baseline: [-1.3, -1] sec)\n",
      "Reading F:\\Documents\\Science\\MirRevAdaptEEG\\data\\eeg\\p028\\lrp\\p028_EarlyLate_rightmoves_mir_block0-ave.fif ...\n",
      "    Found the data of interest:\n",
      "        t =   -2000.00 ...    1995.00 ms (16140)\n",
      "        0 CTF compensation matrices available\n",
      "        nave = 21 - aspect type = 100\n",
      "No projector specified for this dataset. Please consider the method self.add_proj.\n"
     ]
    },
    {
     "name": "stdout",
     "output_type": "stream",
     "text": [
      "Loaded Evoked data is baseline-corrected (baseline: [-1.3, -1] sec)\n",
      "Reading F:\\Documents\\Science\\MirRevAdaptEEG\\data\\eeg\\p029\\lrp\\p029_EarlyLate_rightmoves_mir_block0-ave.fif ...\n",
      "    Found the data of interest:\n",
      "        t =   -2000.00 ...    1995.00 ms (16140)\n",
      "        0 CTF compensation matrices available\n",
      "        nave = 22 - aspect type = 100\n",
      "No projector specified for this dataset. Please consider the method self.add_proj.\n",
      "Loaded Evoked data is baseline-corrected (baseline: [-1.3, -1] sec)\n",
      "Reading F:\\Documents\\Science\\MirRevAdaptEEG\\data\\eeg\\p030\\lrp\\p030_EarlyLate_rightmoves_mir_block0-ave.fif ...\n",
      "    Found the data of interest:\n",
      "        t =   -2000.00 ...    1995.00 ms (16140)\n",
      "        0 CTF compensation matrices available\n",
      "        nave = 24 - aspect type = 100\n",
      "No projector specified for this dataset. Please consider the method self.add_proj.\n",
      "Loaded Evoked data is baseline-corrected (baseline: [-1.3, -1] sec)\n",
      "Reading F:\\Documents\\Science\\MirRevAdaptEEG\\data\\eeg\\p031\\lrp\\p031_EarlyLate_rightmoves_mir_block0-ave.fif ...\n",
      "    Found the data of interest:\n",
      "        t =   -2000.00 ...    1995.00 ms (16140)\n",
      "        0 CTF compensation matrices available\n",
      "        nave = 23 - aspect type = 100\n",
      "No projector specified for this dataset. Please consider the method self.add_proj.\n",
      "Loaded Evoked data is baseline-corrected (baseline: [-1.3, -1] sec)\n",
      "Identifying common channels ...\n",
      "Reading F:\\Documents\\Science\\MirRevAdaptEEG\\data\\eeg\\p004\\lrp\\p004_EarlyLate_rightmoves_mir_block1-ave.fif ...\n",
      "    Found the data of interest:\n",
      "        t =   -2000.00 ...    1995.00 ms (16140)\n",
      "        0 CTF compensation matrices available\n",
      "        nave = 22 - aspect type = 100\n",
      "No projector specified for this dataset. Please consider the method self.add_proj.\n",
      "Loaded Evoked data is baseline-corrected (baseline: [-1.3, -1] sec)\n",
      "Reading F:\\Documents\\Science\\MirRevAdaptEEG\\data\\eeg\\p005\\lrp\\p005_EarlyLate_rightmoves_mir_block1-ave.fif ...\n",
      "    Found the data of interest:\n",
      "        t =   -2000.00 ...    1995.00 ms (16140)\n",
      "        0 CTF compensation matrices available\n",
      "        nave = 24 - aspect type = 100\n",
      "No projector specified for this dataset. Please consider the method self.add_proj.\n",
      "Loaded Evoked data is baseline-corrected (baseline: [-1.3, -1] sec)\n",
      "Reading F:\\Documents\\Science\\MirRevAdaptEEG\\data\\eeg\\p006\\lrp\\p006_EarlyLate_rightmoves_mir_block1-ave.fif ...\n",
      "    Found the data of interest:\n",
      "        t =   -2000.00 ...    1995.00 ms (16140)\n",
      "        0 CTF compensation matrices available\n",
      "        nave = 22 - aspect type = 100\n",
      "No projector specified for this dataset. Please consider the method self.add_proj.\n",
      "Loaded Evoked data is baseline-corrected (baseline: [-1.3, -1] sec)\n",
      "Reading F:\\Documents\\Science\\MirRevAdaptEEG\\data\\eeg\\p007\\lrp\\p007_EarlyLate_rightmoves_mir_block1-ave.fif ...\n",
      "    Found the data of interest:\n",
      "        t =   -2000.00 ...    1995.00 ms (16140)\n",
      "        0 CTF compensation matrices available\n",
      "        nave = 23 - aspect type = 100\n",
      "No projector specified for this dataset. Please consider the method self.add_proj.\n",
      "Loaded Evoked data is baseline-corrected (baseline: [-1.3, -1] sec)\n",
      "Reading F:\\Documents\\Science\\MirRevAdaptEEG\\data\\eeg\\p012\\lrp\\p012_EarlyLate_rightmoves_mir_block1-ave.fif ...\n",
      "    Found the data of interest:\n",
      "        t =   -2000.00 ...    1995.00 ms (16140)\n",
      "        0 CTF compensation matrices available\n",
      "        nave = 22 - aspect type = 100\n",
      "No projector specified for this dataset. Please consider the method self.add_proj.\n",
      "Loaded Evoked data is baseline-corrected (baseline: [-1.3, -1] sec)\n",
      "Reading F:\\Documents\\Science\\MirRevAdaptEEG\\data\\eeg\\p013\\lrp\\p013_EarlyLate_rightmoves_mir_block1-ave.fif ...\n",
      "    Found the data of interest:\n",
      "        t =   -2000.00 ...    1995.00 ms (16140)\n",
      "        0 CTF compensation matrices available\n",
      "        nave = 23 - aspect type = 100\n",
      "No projector specified for this dataset. Please consider the method self.add_proj.\n",
      "Loaded Evoked data is baseline-corrected (baseline: [-1.3, -1] sec)\n",
      "Reading F:\\Documents\\Science\\MirRevAdaptEEG\\data\\eeg\\p014\\lrp\\p014_EarlyLate_rightmoves_mir_block1-ave.fif ...\n",
      "    Found the data of interest:\n",
      "        t =   -2000.00 ...    1995.00 ms (16140)\n",
      "        0 CTF compensation matrices available\n",
      "        nave = 23 - aspect type = 100\n",
      "No projector specified for this dataset. Please consider the method self.add_proj.\n",
      "Loaded Evoked data is baseline-corrected (baseline: [-1.3, -1] sec)\n",
      "Reading F:\\Documents\\Science\\MirRevAdaptEEG\\data\\eeg\\p015\\lrp\\p015_EarlyLate_rightmoves_mir_block1-ave.fif ...\n",
      "    Found the data of interest:\n",
      "        t =   -2000.00 ...    1995.00 ms (16140)\n",
      "        0 CTF compensation matrices available\n",
      "        nave = 24 - aspect type = 100\n",
      "No projector specified for this dataset. Please consider the method self.add_proj.\n",
      "Loaded Evoked data is baseline-corrected (baseline: [-1.3, -1] sec)\n",
      "Reading F:\\Documents\\Science\\MirRevAdaptEEG\\data\\eeg\\p020\\lrp\\p020_EarlyLate_rightmoves_mir_block1-ave.fif ...\n",
      "    Found the data of interest:\n",
      "        t =   -2000.00 ...    1995.00 ms (16140)\n",
      "        0 CTF compensation matrices available\n",
      "        nave = 23 - aspect type = 100\n",
      "No projector specified for this dataset. Please consider the method self.add_proj.\n",
      "Loaded Evoked data is baseline-corrected (baseline: [-1.3, -1] sec)\n",
      "Reading F:\\Documents\\Science\\MirRevAdaptEEG\\data\\eeg\\p021\\lrp\\p021_EarlyLate_rightmoves_mir_block1-ave.fif ...\n",
      "    Found the data of interest:\n",
      "        t =   -2000.00 ...    1995.00 ms (16140)\n",
      "        0 CTF compensation matrices available\n",
      "        nave = 23 - aspect type = 100\n",
      "No projector specified for this dataset. Please consider the method self.add_proj.\n",
      "Loaded Evoked data is baseline-corrected (baseline: [-1.3, -1] sec)\n",
      "Reading F:\\Documents\\Science\\MirRevAdaptEEG\\data\\eeg\\p022\\lrp\\p022_EarlyLate_rightmoves_mir_block1-ave.fif ...\n",
      "    Found the data of interest:\n",
      "        t =   -2000.00 ...    1995.00 ms (16140)\n",
      "        0 CTF compensation matrices available\n",
      "        nave = 23 - aspect type = 100\n",
      "No projector specified for this dataset. Please consider the method self.add_proj.\n",
      "Loaded Evoked data is baseline-corrected (baseline: [-1.3, -1] sec)\n",
      "Reading F:\\Documents\\Science\\MirRevAdaptEEG\\data\\eeg\\p023\\lrp\\p023_EarlyLate_rightmoves_mir_block1-ave.fif ...\n",
      "    Found the data of interest:\n",
      "        t =   -2000.00 ...    1995.00 ms (16140)\n",
      "        0 CTF compensation matrices available\n",
      "        nave = 23 - aspect type = 100\n",
      "No projector specified for this dataset. Please consider the method self.add_proj.\n",
      "Loaded Evoked data is baseline-corrected (baseline: [-1.3, -1] sec)\n",
      "Reading F:\\Documents\\Science\\MirRevAdaptEEG\\data\\eeg\\p028\\lrp\\p028_EarlyLate_rightmoves_mir_block1-ave.fif ...\n",
      "    Found the data of interest:\n",
      "        t =   -2000.00 ...    1995.00 ms (16140)\n",
      "        0 CTF compensation matrices available\n",
      "        nave = 25 - aspect type = 100\n",
      "No projector specified for this dataset. Please consider the method self.add_proj.\n",
      "Loaded Evoked data is baseline-corrected (baseline: [-1.3, -1] sec)\n",
      "Reading F:\\Documents\\Science\\MirRevAdaptEEG\\data\\eeg\\p029\\lrp\\p029_EarlyLate_rightmoves_mir_block1-ave.fif ...\n",
      "    Found the data of interest:\n",
      "        t =   -2000.00 ...    1995.00 ms (16140)\n",
      "        0 CTF compensation matrices available\n",
      "        nave = 22 - aspect type = 100\n",
      "No projector specified for this dataset. Please consider the method self.add_proj.\n",
      "Loaded Evoked data is baseline-corrected (baseline: [-1.3, -1] sec)\n",
      "Reading F:\\Documents\\Science\\MirRevAdaptEEG\\data\\eeg\\p030\\lrp\\p030_EarlyLate_rightmoves_mir_block1-ave.fif ...\n",
      "    Found the data of interest:\n",
      "        t =   -2000.00 ...    1995.00 ms (16140)\n",
      "        0 CTF compensation matrices available\n",
      "        nave = 22 - aspect type = 100\n",
      "No projector specified for this dataset. Please consider the method self.add_proj.\n",
      "Loaded Evoked data is baseline-corrected (baseline: [-1.3, -1] sec)\n",
      "Reading F:\\Documents\\Science\\MirRevAdaptEEG\\data\\eeg\\p031\\lrp\\p031_EarlyLate_rightmoves_mir_block1-ave.fif ...\n",
      "    Found the data of interest:\n",
      "        t =   -2000.00 ...    1995.00 ms (16140)\n",
      "        0 CTF compensation matrices available\n",
      "        nave = 20 - aspect type = 100\n",
      "No projector specified for this dataset. Please consider the method self.add_proj.\n",
      "Loaded Evoked data is baseline-corrected (baseline: [-1.3, -1] sec)\n"
     ]
    },
    {
     "name": "stdout",
     "output_type": "stream",
     "text": [
      "Identifying common channels ...\n",
      "Reading F:\\Documents\\Science\\MirRevAdaptEEG\\data\\eeg\\p004\\lrp\\p004_EarlyLate_leftmoves_mir_block0-ave.fif ...\n",
      "    Found the data of interest:\n",
      "        t =   -2000.00 ...    1995.00 ms (16140)\n",
      "        0 CTF compensation matrices available\n",
      "        nave = 22 - aspect type = 100\n",
      "No projector specified for this dataset. Please consider the method self.add_proj.\n",
      "Loaded Evoked data is baseline-corrected (baseline: [-1.3, -1] sec)\n",
      "Reading F:\\Documents\\Science\\MirRevAdaptEEG\\data\\eeg\\p005\\lrp\\p005_EarlyLate_leftmoves_mir_block0-ave.fif ...\n",
      "    Found the data of interest:\n",
      "        t =   -2000.00 ...    1995.00 ms (16140)\n",
      "        0 CTF compensation matrices available\n",
      "        nave = 26 - aspect type = 100\n",
      "No projector specified for this dataset. Please consider the method self.add_proj.\n",
      "Loaded Evoked data is baseline-corrected (baseline: [-1.3, -1] sec)\n",
      "Reading F:\\Documents\\Science\\MirRevAdaptEEG\\data\\eeg\\p006\\lrp\\p006_EarlyLate_leftmoves_mir_block0-ave.fif ...\n",
      "    Found the data of interest:\n",
      "        t =   -2000.00 ...    1995.00 ms (16140)\n",
      "        0 CTF compensation matrices available\n",
      "        nave = 22 - aspect type = 100\n",
      "No projector specified for this dataset. Please consider the method self.add_proj.\n",
      "Loaded Evoked data is baseline-corrected (baseline: [-1.3, -1] sec)\n",
      "Reading F:\\Documents\\Science\\MirRevAdaptEEG\\data\\eeg\\p007\\lrp\\p007_EarlyLate_leftmoves_mir_block0-ave.fif ...\n",
      "    Found the data of interest:\n",
      "        t =   -2000.00 ...    1995.00 ms (16140)\n",
      "        0 CTF compensation matrices available\n",
      "        nave = 22 - aspect type = 100\n",
      "No projector specified for this dataset. Please consider the method self.add_proj.\n",
      "Loaded Evoked data is baseline-corrected (baseline: [-1.3, -1] sec)\n",
      "Reading F:\\Documents\\Science\\MirRevAdaptEEG\\data\\eeg\\p012\\lrp\\p012_EarlyLate_leftmoves_mir_block0-ave.fif ...\n",
      "    Found the data of interest:\n",
      "        t =   -2000.00 ...    1995.00 ms (16140)\n",
      "        0 CTF compensation matrices available\n",
      "        nave = 20 - aspect type = 100\n",
      "No projector specified for this dataset. Please consider the method self.add_proj.\n",
      "Loaded Evoked data is baseline-corrected (baseline: [-1.3, -1] sec)\n",
      "Reading F:\\Documents\\Science\\MirRevAdaptEEG\\data\\eeg\\p013\\lrp\\p013_EarlyLate_leftmoves_mir_block0-ave.fif ...\n",
      "    Found the data of interest:\n",
      "        t =   -2000.00 ...    1995.00 ms (16140)\n",
      "        0 CTF compensation matrices available\n",
      "        nave = 24 - aspect type = 100\n",
      "No projector specified for this dataset. Please consider the method self.add_proj.\n",
      "Loaded Evoked data is baseline-corrected (baseline: [-1.3, -1] sec)\n",
      "Reading F:\\Documents\\Science\\MirRevAdaptEEG\\data\\eeg\\p014\\lrp\\p014_EarlyLate_leftmoves_mir_block0-ave.fif ...\n",
      "    Found the data of interest:\n",
      "        t =   -2000.00 ...    1995.00 ms (16140)\n",
      "        0 CTF compensation matrices available\n",
      "        nave = 21 - aspect type = 100\n",
      "No projector specified for this dataset. Please consider the method self.add_proj.\n",
      "Loaded Evoked data is baseline-corrected (baseline: [-1.3, -1] sec)\n",
      "Reading F:\\Documents\\Science\\MirRevAdaptEEG\\data\\eeg\\p015\\lrp\\p015_EarlyLate_leftmoves_mir_block0-ave.fif ...\n",
      "    Found the data of interest:\n",
      "        t =   -2000.00 ...    1995.00 ms (16140)\n",
      "        0 CTF compensation matrices available\n",
      "        nave = 25 - aspect type = 100\n",
      "No projector specified for this dataset. Please consider the method self.add_proj.\n",
      "Loaded Evoked data is baseline-corrected (baseline: [-1.3, -1] sec)\n",
      "Reading F:\\Documents\\Science\\MirRevAdaptEEG\\data\\eeg\\p020\\lrp\\p020_EarlyLate_leftmoves_mir_block0-ave.fif ...\n",
      "    Found the data of interest:\n",
      "        t =   -2000.00 ...    1995.00 ms (16140)\n",
      "        0 CTF compensation matrices available\n",
      "        nave = 23 - aspect type = 100\n",
      "No projector specified for this dataset. Please consider the method self.add_proj.\n",
      "Loaded Evoked data is baseline-corrected (baseline: [-1.3, -1] sec)\n",
      "Reading F:\\Documents\\Science\\MirRevAdaptEEG\\data\\eeg\\p021\\lrp\\p021_EarlyLate_leftmoves_mir_block0-ave.fif ...\n",
      "    Found the data of interest:\n",
      "        t =   -2000.00 ...    1995.00 ms (16140)\n",
      "        0 CTF compensation matrices available\n",
      "        nave = 24 - aspect type = 100\n",
      "No projector specified for this dataset. Please consider the method self.add_proj.\n",
      "Loaded Evoked data is baseline-corrected (baseline: [-1.3, -1] sec)\n",
      "Reading F:\\Documents\\Science\\MirRevAdaptEEG\\data\\eeg\\p022\\lrp\\p022_EarlyLate_leftmoves_mir_block0-ave.fif ...\n",
      "    Found the data of interest:\n",
      "        t =   -2000.00 ...    1995.00 ms (16140)\n",
      "        0 CTF compensation matrices available\n",
      "        nave = 20 - aspect type = 100\n",
      "No projector specified for this dataset. Please consider the method self.add_proj.\n",
      "Loaded Evoked data is baseline-corrected (baseline: [-1.3, -1] sec)\n",
      "Reading F:\\Documents\\Science\\MirRevAdaptEEG\\data\\eeg\\p023\\lrp\\p023_EarlyLate_leftmoves_mir_block0-ave.fif ...\n",
      "    Found the data of interest:\n",
      "        t =   -2000.00 ...    1995.00 ms (16140)\n",
      "        0 CTF compensation matrices available\n",
      "        nave = 21 - aspect type = 100\n",
      "No projector specified for this dataset. Please consider the method self.add_proj.\n",
      "Loaded Evoked data is baseline-corrected (baseline: [-1.3, -1] sec)\n",
      "Reading F:\\Documents\\Science\\MirRevAdaptEEG\\data\\eeg\\p028\\lrp\\p028_EarlyLate_leftmoves_mir_block0-ave.fif ...\n",
      "    Found the data of interest:\n",
      "        t =   -2000.00 ...    1995.00 ms (16140)\n",
      "        0 CTF compensation matrices available\n",
      "        nave = 24 - aspect type = 100\n",
      "No projector specified for this dataset. Please consider the method self.add_proj.\n",
      "Loaded Evoked data is baseline-corrected (baseline: [-1.3, -1] sec)\n",
      "Reading F:\\Documents\\Science\\MirRevAdaptEEG\\data\\eeg\\p029\\lrp\\p029_EarlyLate_leftmoves_mir_block0-ave.fif ...\n",
      "    Found the data of interest:\n",
      "        t =   -2000.00 ...    1995.00 ms (16140)\n",
      "        0 CTF compensation matrices available\n",
      "        nave = 23 - aspect type = 100\n",
      "No projector specified for this dataset. Please consider the method self.add_proj.\n",
      "Loaded Evoked data is baseline-corrected (baseline: [-1.3, -1] sec)\n",
      "Reading F:\\Documents\\Science\\MirRevAdaptEEG\\data\\eeg\\p030\\lrp\\p030_EarlyLate_leftmoves_mir_block0-ave.fif ...\n",
      "    Found the data of interest:\n",
      "        t =   -2000.00 ...    1995.00 ms (16140)\n",
      "        0 CTF compensation matrices available\n",
      "        nave = 21 - aspect type = 100\n",
      "No projector specified for this dataset. Please consider the method self.add_proj.\n",
      "Loaded Evoked data is baseline-corrected (baseline: [-1.3, -1] sec)\n",
      "Reading F:\\Documents\\Science\\MirRevAdaptEEG\\data\\eeg\\p031\\lrp\\p031_EarlyLate_leftmoves_mir_block0-ave.fif ...\n",
      "    Found the data of interest:\n",
      "        t =   -2000.00 ...    1995.00 ms (16140)\n",
      "        0 CTF compensation matrices available\n",
      "        nave = 22 - aspect type = 100\n",
      "No projector specified for this dataset. Please consider the method self.add_proj.\n",
      "Loaded Evoked data is baseline-corrected (baseline: [-1.3, -1] sec)\n",
      "Identifying common channels ...\n",
      "Reading F:\\Documents\\Science\\MirRevAdaptEEG\\data\\eeg\\p004\\lrp\\p004_EarlyLate_leftmoves_mir_block1-ave.fif ...\n",
      "    Found the data of interest:\n",
      "        t =   -2000.00 ...    1995.00 ms (16140)\n",
      "        0 CTF compensation matrices available\n",
      "        nave = 23 - aspect type = 100\n",
      "No projector specified for this dataset. Please consider the method self.add_proj.\n",
      "Loaded Evoked data is baseline-corrected (baseline: [-1.3, -1] sec)\n",
      "Reading F:\\Documents\\Science\\MirRevAdaptEEG\\data\\eeg\\p005\\lrp\\p005_EarlyLate_leftmoves_mir_block1-ave.fif ...\n",
      "    Found the data of interest:\n",
      "        t =   -2000.00 ...    1995.00 ms (16140)\n",
      "        0 CTF compensation matrices available\n",
      "        nave = 21 - aspect type = 100\n",
      "No projector specified for this dataset. Please consider the method self.add_proj.\n",
      "Loaded Evoked data is baseline-corrected (baseline: [-1.3, -1] sec)\n",
      "Reading F:\\Documents\\Science\\MirRevAdaptEEG\\data\\eeg\\p006\\lrp\\p006_EarlyLate_leftmoves_mir_block1-ave.fif ...\n",
      "    Found the data of interest:\n",
      "        t =   -2000.00 ...    1995.00 ms (16140)\n",
      "        0 CTF compensation matrices available\n",
      "        nave = 22 - aspect type = 100\n",
      "No projector specified for this dataset. Please consider the method self.add_proj.\n",
      "Loaded Evoked data is baseline-corrected (baseline: [-1.3, -1] sec)\n",
      "Reading F:\\Documents\\Science\\MirRevAdaptEEG\\data\\eeg\\p007\\lrp\\p007_EarlyLate_leftmoves_mir_block1-ave.fif ...\n"
     ]
    },
    {
     "name": "stdout",
     "output_type": "stream",
     "text": [
      "    Found the data of interest:\n",
      "        t =   -2000.00 ...    1995.00 ms (16140)\n",
      "        0 CTF compensation matrices available\n",
      "        nave = 22 - aspect type = 100\n",
      "No projector specified for this dataset. Please consider the method self.add_proj.\n",
      "Loaded Evoked data is baseline-corrected (baseline: [-1.3, -1] sec)\n",
      "Reading F:\\Documents\\Science\\MirRevAdaptEEG\\data\\eeg\\p012\\lrp\\p012_EarlyLate_leftmoves_mir_block1-ave.fif ...\n",
      "    Found the data of interest:\n",
      "        t =   -2000.00 ...    1995.00 ms (16140)\n",
      "        0 CTF compensation matrices available\n",
      "        nave = 23 - aspect type = 100\n",
      "No projector specified for this dataset. Please consider the method self.add_proj.\n",
      "Loaded Evoked data is baseline-corrected (baseline: [-1.3, -1] sec)\n",
      "Reading F:\\Documents\\Science\\MirRevAdaptEEG\\data\\eeg\\p013\\lrp\\p013_EarlyLate_leftmoves_mir_block1-ave.fif ...\n",
      "    Found the data of interest:\n",
      "        t =   -2000.00 ...    1995.00 ms (16140)\n",
      "        0 CTF compensation matrices available\n",
      "        nave = 22 - aspect type = 100\n",
      "No projector specified for this dataset. Please consider the method self.add_proj.\n",
      "Loaded Evoked data is baseline-corrected (baseline: [-1.3, -1] sec)\n",
      "Reading F:\\Documents\\Science\\MirRevAdaptEEG\\data\\eeg\\p014\\lrp\\p014_EarlyLate_leftmoves_mir_block1-ave.fif ...\n",
      "    Found the data of interest:\n",
      "        t =   -2000.00 ...    1995.00 ms (16140)\n",
      "        0 CTF compensation matrices available\n",
      "        nave = 22 - aspect type = 100\n",
      "No projector specified for this dataset. Please consider the method self.add_proj.\n",
      "Loaded Evoked data is baseline-corrected (baseline: [-1.3, -1] sec)\n",
      "Reading F:\\Documents\\Science\\MirRevAdaptEEG\\data\\eeg\\p015\\lrp\\p015_EarlyLate_leftmoves_mir_block1-ave.fif ...\n",
      "    Found the data of interest:\n",
      "        t =   -2000.00 ...    1995.00 ms (16140)\n",
      "        0 CTF compensation matrices available\n",
      "        nave = 21 - aspect type = 100\n",
      "No projector specified for this dataset. Please consider the method self.add_proj.\n",
      "Loaded Evoked data is baseline-corrected (baseline: [-1.3, -1] sec)\n",
      "Reading F:\\Documents\\Science\\MirRevAdaptEEG\\data\\eeg\\p020\\lrp\\p020_EarlyLate_leftmoves_mir_block1-ave.fif ...\n",
      "    Found the data of interest:\n",
      "        t =   -2000.00 ...    1995.00 ms (16140)\n",
      "        0 CTF compensation matrices available\n",
      "        nave = 22 - aspect type = 100\n",
      "No projector specified for this dataset. Please consider the method self.add_proj.\n",
      "Loaded Evoked data is baseline-corrected (baseline: [-1.3, -1] sec)\n",
      "Reading F:\\Documents\\Science\\MirRevAdaptEEG\\data\\eeg\\p021\\lrp\\p021_EarlyLate_leftmoves_mir_block1-ave.fif ...\n",
      "    Found the data of interest:\n",
      "        t =   -2000.00 ...    1995.00 ms (16140)\n",
      "        0 CTF compensation matrices available\n",
      "        nave = 22 - aspect type = 100\n",
      "No projector specified for this dataset. Please consider the method self.add_proj.\n",
      "Loaded Evoked data is baseline-corrected (baseline: [-1.3, -1] sec)\n",
      "Reading F:\\Documents\\Science\\MirRevAdaptEEG\\data\\eeg\\p022\\lrp\\p022_EarlyLate_leftmoves_mir_block1-ave.fif ...\n",
      "    Found the data of interest:\n",
      "        t =   -2000.00 ...    1995.00 ms (16140)\n",
      "        0 CTF compensation matrices available\n",
      "        nave = 22 - aspect type = 100\n",
      "No projector specified for this dataset. Please consider the method self.add_proj.\n",
      "Loaded Evoked data is baseline-corrected (baseline: [-1.3, -1] sec)\n",
      "Reading F:\\Documents\\Science\\MirRevAdaptEEG\\data\\eeg\\p023\\lrp\\p023_EarlyLate_leftmoves_mir_block1-ave.fif ...\n",
      "    Found the data of interest:\n",
      "        t =   -2000.00 ...    1995.00 ms (16140)\n",
      "        0 CTF compensation matrices available\n",
      "        nave = 22 - aspect type = 100\n",
      "No projector specified for this dataset. Please consider the method self.add_proj.\n",
      "Loaded Evoked data is baseline-corrected (baseline: [-1.3, -1] sec)\n",
      "Reading F:\\Documents\\Science\\MirRevAdaptEEG\\data\\eeg\\p028\\lrp\\p028_EarlyLate_leftmoves_mir_block1-ave.fif ...\n",
      "    Found the data of interest:\n",
      "        t =   -2000.00 ...    1995.00 ms (16140)\n",
      "        0 CTF compensation matrices available\n",
      "        nave = 20 - aspect type = 100\n",
      "No projector specified for this dataset. Please consider the method self.add_proj.\n",
      "Loaded Evoked data is baseline-corrected (baseline: [-1.3, -1] sec)\n",
      "Reading F:\\Documents\\Science\\MirRevAdaptEEG\\data\\eeg\\p029\\lrp\\p029_EarlyLate_leftmoves_mir_block1-ave.fif ...\n",
      "    Found the data of interest:\n",
      "        t =   -2000.00 ...    1995.00 ms (16140)\n",
      "        0 CTF compensation matrices available\n",
      "        nave = 23 - aspect type = 100\n",
      "No projector specified for this dataset. Please consider the method self.add_proj.\n",
      "Loaded Evoked data is baseline-corrected (baseline: [-1.3, -1] sec)\n",
      "Reading F:\\Documents\\Science\\MirRevAdaptEEG\\data\\eeg\\p030\\lrp\\p030_EarlyLate_leftmoves_mir_block1-ave.fif ...\n",
      "    Found the data of interest:\n",
      "        t =   -2000.00 ...    1995.00 ms (16140)\n",
      "        0 CTF compensation matrices available\n",
      "        nave = 23 - aspect type = 100\n",
      "No projector specified for this dataset. Please consider the method self.add_proj.\n",
      "Loaded Evoked data is baseline-corrected (baseline: [-1.3, -1] sec)\n",
      "Reading F:\\Documents\\Science\\MirRevAdaptEEG\\data\\eeg\\p031\\lrp\\p031_EarlyLate_leftmoves_mir_block1-ave.fif ...\n",
      "    Found the data of interest:\n",
      "        t =   -2000.00 ...    1995.00 ms (16140)\n",
      "        0 CTF compensation matrices available\n",
      "        nave = 25 - aspect type = 100\n",
      "No projector specified for this dataset. Please consider the method self.add_proj.\n",
      "Loaded Evoked data is baseline-corrected (baseline: [-1.3, -1] sec)\n",
      "Identifying common channels ...\n"
     ]
    }
   ],
   "source": [
    "#get grand averages - ROTATED AND MIRROR\n",
    "root_directory = root\n",
    "data_directory = os.path.join(root_directory, 'data/eeg/')\n",
    "\n",
    "#read in evoked object\n",
    "conditionnames = ['rightmoves', 'leftmoves']\n",
    "tasks = ['rot', 'mir']\n",
    "training = [0, 1]\n",
    "#rot and mir\n",
    "for task in range(0, len(tasks)):\n",
    "    for condition in range(0, len(conditionnames)):\n",
    "        for t in range(0, len(training)):\n",
    "            flist = []\n",
    "            evoked_list = []\n",
    "            for pp in participants:\n",
    "                id_directory = os.path.join(data_directory, 'p%03d/' % participants[pp])\n",
    "                pp_directory = os.path.join(id_directory, erps)\n",
    "                fname = os.path.join(pp_directory, 'p%03d_EarlyLate_%s_%s_block%s-ave.fif' % (participants[pp], conditionnames[condition], tasks[task], training[t]))\n",
    "                if os.path.exists(fname) == False:\n",
    "                    continue\n",
    "#                 print(fname)\n",
    "                evoked = mne.read_evokeds(fname)\n",
    "                flist.append(evoked)\n",
    "                evoked = evoked[0]\n",
    "                evoked_list.append(evoked)\n",
    "#                 print(evoked_list)\n",
    "            if task == 0 and condition == 0 and t == 0:\n",
    "                rot_right_b0_grand = mne.grand_average(evoked_list)\n",
    "                rot_right_b0_flist = evoked_list\n",
    "            elif task == 0 and condition == 0 and t == 1:\n",
    "                rot_right_b1_grand = mne.grand_average(evoked_list)\n",
    "                rot_right_b1_flist = evoked_list\n",
    "            elif task == 0 and condition == 1 and t == 0:\n",
    "                rot_left_b0_grand = mne.grand_average(evoked_list)\n",
    "                rot_left_b0_flist = evoked_list\n",
    "            elif task == 0 and condition == 1 and t == 1:\n",
    "                rot_left_b1_grand = mne.grand_average(evoked_list)\n",
    "                rot_left_b1_flist = evoked_list\n",
    "            elif task == 1 and condition == 0 and t == 0:\n",
    "                mir_right_b0_grand = mne.grand_average(evoked_list)\n",
    "                mir_right_b0_flist = evoked_list\n",
    "            elif task == 1 and condition == 0 and t == 1:\n",
    "                mir_right_b1_grand = mne.grand_average(evoked_list)\n",
    "                mir_right_b1_flist = evoked_list\n",
    "            elif task == 1 and condition == 1 and t == 0:\n",
    "                mir_left_b0_grand = mne.grand_average(evoked_list)\n",
    "                mir_left_b0_flist = evoked_list\n",
    "            elif task == 1 and condition == 1 and t == 1:\n",
    "                mir_left_b1_grand = mne.grand_average(evoked_list)\n",
    "                mir_left_b1_flist = evoked_list"
   ]
  },
  {
   "cell_type": "code",
   "execution_count": 12,
   "id": "e297f574",
   "metadata": {},
   "outputs": [
    {
     "name": "stdout",
     "output_type": "stream",
     "text": [
      "Reading F:\\Documents\\Science\\MirRevAdaptEEG\\data\\eeg\\p000\\lrp\\mra_p000_run0-epo.fif ...\n",
      "    Found the data of interest:\n",
      "        t =   -2000.00 ...    1995.00 ms\n",
      "        0 CTF compensation matrices available\n",
      "Not setting metadata\n",
      "420 matching events found\n",
      "No baseline correction applied\n",
      "0 projection items activated\n",
      "Applying baseline correction (mode: mean)\n",
      "[0, 3, 4, 8, 10, 11, 13, 14, 16, 18, 20, 22]\n",
      "Overwriting existing file.\n",
      "Setting up low-pass filter at 30 Hz\n",
      "\n",
      "FIR filter parameters\n",
      "---------------------\n",
      "Designing a one-pass, zero-phase, non-causal lowpass filter:\n",
      "- Windowed time-domain design (firwin) method\n",
      "- Hamming window with 0.0194 passband ripple and 53 dB stopband attenuation\n",
      "- Upper passband edge: 30.00 Hz\n",
      "- Upper transition bandwidth: 7.50 Hz (-6 dB cutoff frequency: 33.75 Hz)\n",
      "- Filter length: 89 samples (0.445 sec)\n",
      "\n"
     ]
    },
    {
     "name": "stderr",
     "output_type": "stream",
     "text": [
      "[Parallel(n_jobs=1)]: Using backend SequentialBackend with 1 concurrent workers.\n",
      "[Parallel(n_jobs=1)]: Done   1 out of   1 | elapsed:    0.0s remaining:    0.0s\n",
      "[Parallel(n_jobs=1)]: Done   2 out of   2 | elapsed:    0.0s remaining:    0.0s\n",
      "[Parallel(n_jobs=1)]: Done   3 out of   3 | elapsed:    0.0s remaining:    0.0s\n",
      "[Parallel(n_jobs=1)]: Done   4 out of   4 | elapsed:    0.0s remaining:    0.0s\n"
     ]
    },
    {
     "name": "stdout",
     "output_type": "stream",
     "text": [
      "Overwriting existing file.\n",
      "[26, 28, 29, 33, 34, 35, 36, 37, 41, 42, 46, 47]\n",
      "Overwriting existing file.\n",
      "Setting up low-pass filter at 30 Hz\n",
      "\n",
      "FIR filter parameters\n",
      "---------------------\n",
      "Designing a one-pass, zero-phase, non-causal lowpass filter:\n",
      "- Windowed time-domain design (firwin) method\n",
      "- Hamming window with 0.0194 passband ripple and 53 dB stopband attenuation\n",
      "- Upper passband edge: 30.00 Hz\n",
      "- Upper transition bandwidth: 7.50 Hz (-6 dB cutoff frequency: 33.75 Hz)\n",
      "- Filter length: 89 samples (0.445 sec)\n",
      "\n"
     ]
    },
    {
     "name": "stderr",
     "output_type": "stream",
     "text": [
      "[Parallel(n_jobs=1)]: Done 768 out of 768 | elapsed:    0.2s finished\n",
      "[Parallel(n_jobs=1)]: Using backend SequentialBackend with 1 concurrent workers.\n",
      "[Parallel(n_jobs=1)]: Done   1 out of   1 | elapsed:    0.0s remaining:    0.0s\n",
      "[Parallel(n_jobs=1)]: Done   2 out of   2 | elapsed:    0.0s remaining:    0.0s\n",
      "[Parallel(n_jobs=1)]: Done   3 out of   3 | elapsed:    0.0s remaining:    0.0s\n",
      "[Parallel(n_jobs=1)]: Done   4 out of   4 | elapsed:    0.0s remaining:    0.0s\n"
     ]
    },
    {
     "name": "stdout",
     "output_type": "stream",
     "text": [
      "Overwriting existing file.\n",
      "[1, 2, 5, 6, 7, 9, 12, 15, 17, 19, 21, 23]\n",
      "Overwriting existing file.\n",
      "Setting up low-pass filter at 30 Hz\n",
      "\n",
      "FIR filter parameters\n",
      "---------------------\n",
      "Designing a one-pass, zero-phase, non-causal lowpass filter:\n",
      "- Windowed time-domain design (firwin) method\n",
      "- Hamming window with 0.0194 passband ripple and 53 dB stopband attenuation\n",
      "- Upper passband edge: 30.00 Hz\n",
      "- Upper transition bandwidth: 7.50 Hz (-6 dB cutoff frequency: 33.75 Hz)\n",
      "- Filter length: 89 samples (0.445 sec)\n",
      "\n"
     ]
    },
    {
     "name": "stderr",
     "output_type": "stream",
     "text": [
      "[Parallel(n_jobs=1)]: Done 768 out of 768 | elapsed:    0.2s finished\n",
      "[Parallel(n_jobs=1)]: Using backend SequentialBackend with 1 concurrent workers.\n",
      "[Parallel(n_jobs=1)]: Done   1 out of   1 | elapsed:    0.0s remaining:    0.0s\n",
      "[Parallel(n_jobs=1)]: Done   2 out of   2 | elapsed:    0.0s remaining:    0.0s\n",
      "[Parallel(n_jobs=1)]: Done   3 out of   3 | elapsed:    0.0s remaining:    0.0s\n",
      "[Parallel(n_jobs=1)]: Done   4 out of   4 | elapsed:    0.0s remaining:    0.0s\n"
     ]
    },
    {
     "name": "stdout",
     "output_type": "stream",
     "text": [
      "Overwriting existing file.\n",
      "[24, 25, 27, 30, 31, 32, 38, 39, 40, 43, 44, 45]\n",
      "Overwriting existing file.\n",
      "Setting up low-pass filter at 30 Hz\n",
      "\n",
      "FIR filter parameters\n",
      "---------------------\n",
      "Designing a one-pass, zero-phase, non-causal lowpass filter:\n",
      "- Windowed time-domain design (firwin) method\n",
      "- Hamming window with 0.0194 passband ripple and 53 dB stopband attenuation\n",
      "- Upper passband edge: 30.00 Hz\n",
      "- Upper transition bandwidth: 7.50 Hz (-6 dB cutoff frequency: 33.75 Hz)\n",
      "- Filter length: 89 samples (0.445 sec)\n",
      "\n"
     ]
    },
    {
     "name": "stderr",
     "output_type": "stream",
     "text": [
      "[Parallel(n_jobs=1)]: Done 768 out of 768 | elapsed:    0.2s finished\n",
      "[Parallel(n_jobs=1)]: Using backend SequentialBackend with 1 concurrent workers.\n",
      "[Parallel(n_jobs=1)]: Done   1 out of   1 | elapsed:    0.0s remaining:    0.0s\n",
      "[Parallel(n_jobs=1)]: Done   2 out of   2 | elapsed:    0.0s remaining:    0.0s\n",
      "[Parallel(n_jobs=1)]: Done   3 out of   3 | elapsed:    0.0s remaining:    0.0s\n",
      "[Parallel(n_jobs=1)]: Done   4 out of   4 | elapsed:    0.0s remaining:    0.0s\n"
     ]
    },
    {
     "name": "stdout",
     "output_type": "stream",
     "text": [
      "Overwriting existing file.\n",
      "Reading F:\\Documents\\Science\\MirRevAdaptEEG\\data\\eeg\\p001\\lrp\\mra_p001_run0-epo.fif ...\n",
      "    Found the data of interest:\n",
      "        t =   -2000.00 ...    1995.00 ms\n",
      "        0 CTF compensation matrices available\n"
     ]
    },
    {
     "name": "stderr",
     "output_type": "stream",
     "text": [
      "[Parallel(n_jobs=1)]: Done 768 out of 768 | elapsed:    0.2s finished\n"
     ]
    },
    {
     "name": "stdout",
     "output_type": "stream",
     "text": [
      "Not setting metadata\n",
      "420 matching events found\n",
      "No baseline correction applied\n",
      "0 projection items activated\n",
      "Applying baseline correction (mode: mean)\n",
      "[0, 1, 4, 7, 9, 11, 14, 15, 17, 18, 19, 23]\n",
      "Overwriting existing file.\n",
      "Setting up low-pass filter at 30 Hz\n",
      "\n",
      "FIR filter parameters\n",
      "---------------------\n",
      "Designing a one-pass, zero-phase, non-causal lowpass filter:\n",
      "- Windowed time-domain design (firwin) method\n",
      "- Hamming window with 0.0194 passband ripple and 53 dB stopband attenuation\n",
      "- Upper passband edge: 30.00 Hz\n",
      "- Upper transition bandwidth: 7.50 Hz (-6 dB cutoff frequency: 33.75 Hz)\n",
      "- Filter length: 89 samples (0.445 sec)\n",
      "\n"
     ]
    },
    {
     "name": "stderr",
     "output_type": "stream",
     "text": [
      "[Parallel(n_jobs=1)]: Using backend SequentialBackend with 1 concurrent workers.\n",
      "[Parallel(n_jobs=1)]: Done   1 out of   1 | elapsed:    0.0s remaining:    0.0s\n",
      "[Parallel(n_jobs=1)]: Done   2 out of   2 | elapsed:    0.0s remaining:    0.0s\n",
      "[Parallel(n_jobs=1)]: Done   3 out of   3 | elapsed:    0.0s remaining:    0.0s\n",
      "[Parallel(n_jobs=1)]: Done   4 out of   4 | elapsed:    0.0s remaining:    0.0s\n"
     ]
    },
    {
     "name": "stdout",
     "output_type": "stream",
     "text": [
      "Overwriting existing file.\n",
      "[24, 26, 28, 30, 31, 32, 36, 40, 41, 43, 45, 46]\n",
      "Overwriting existing file.\n",
      "Setting up low-pass filter at 30 Hz\n",
      "\n",
      "FIR filter parameters\n",
      "---------------------\n",
      "Designing a one-pass, zero-phase, non-causal lowpass filter:\n",
      "- Windowed time-domain design (firwin) method\n",
      "- Hamming window with 0.0194 passband ripple and 53 dB stopband attenuation\n",
      "- Upper passband edge: 30.00 Hz\n",
      "- Upper transition bandwidth: 7.50 Hz (-6 dB cutoff frequency: 33.75 Hz)\n",
      "- Filter length: 89 samples (0.445 sec)\n",
      "\n"
     ]
    },
    {
     "name": "stderr",
     "output_type": "stream",
     "text": [
      "[Parallel(n_jobs=1)]: Done 768 out of 768 | elapsed:    0.2s finished\n",
      "[Parallel(n_jobs=1)]: Using backend SequentialBackend with 1 concurrent workers.\n",
      "[Parallel(n_jobs=1)]: Done   1 out of   1 | elapsed:    0.0s remaining:    0.0s\n",
      "[Parallel(n_jobs=1)]: Done   2 out of   2 | elapsed:    0.0s remaining:    0.0s\n",
      "[Parallel(n_jobs=1)]: Done   3 out of   3 | elapsed:    0.0s remaining:    0.0s\n",
      "[Parallel(n_jobs=1)]: Done   4 out of   4 | elapsed:    0.0s remaining:    0.0s\n"
     ]
    },
    {
     "name": "stdout",
     "output_type": "stream",
     "text": [
      "Overwriting existing file.\n",
      "[2, 3, 5, 6, 8, 10, 12, 13, 16, 20, 21, 22]\n",
      "Overwriting existing file.\n",
      "Setting up low-pass filter at 30 Hz\n",
      "\n",
      "FIR filter parameters\n",
      "---------------------\n",
      "Designing a one-pass, zero-phase, non-causal lowpass filter:\n",
      "- Windowed time-domain design (firwin) method\n",
      "- Hamming window with 0.0194 passband ripple and 53 dB stopband attenuation\n",
      "- Upper passband edge: 30.00 Hz\n",
      "- Upper transition bandwidth: 7.50 Hz (-6 dB cutoff frequency: 33.75 Hz)\n",
      "- Filter length: 89 samples (0.445 sec)\n",
      "\n"
     ]
    },
    {
     "name": "stderr",
     "output_type": "stream",
     "text": [
      "[Parallel(n_jobs=1)]: Done 768 out of 768 | elapsed:    0.2s finished\n",
      "[Parallel(n_jobs=1)]: Using backend SequentialBackend with 1 concurrent workers.\n",
      "[Parallel(n_jobs=1)]: Done   1 out of   1 | elapsed:    0.0s remaining:    0.0s\n",
      "[Parallel(n_jobs=1)]: Done   2 out of   2 | elapsed:    0.0s remaining:    0.0s\n",
      "[Parallel(n_jobs=1)]: Done   3 out of   3 | elapsed:    0.0s remaining:    0.0s\n",
      "[Parallel(n_jobs=1)]: Done   4 out of   4 | elapsed:    0.0s remaining:    0.0s\n"
     ]
    },
    {
     "name": "stdout",
     "output_type": "stream",
     "text": [
      "Overwriting existing file.\n",
      "[25, 27, 29, 33, 34, 35, 37, 38, 39, 42, 44, 47]\n",
      "Overwriting existing file.\n",
      "Setting up low-pass filter at 30 Hz\n",
      "\n",
      "FIR filter parameters\n",
      "---------------------\n",
      "Designing a one-pass, zero-phase, non-causal lowpass filter:\n",
      "- Windowed time-domain design (firwin) method\n",
      "- Hamming window with 0.0194 passband ripple and 53 dB stopband attenuation\n",
      "- Upper passband edge: 30.00 Hz\n",
      "- Upper transition bandwidth: 7.50 Hz (-6 dB cutoff frequency: 33.75 Hz)\n",
      "- Filter length: 89 samples (0.445 sec)\n",
      "\n"
     ]
    },
    {
     "name": "stderr",
     "output_type": "stream",
     "text": [
      "[Parallel(n_jobs=1)]: Done 768 out of 768 | elapsed:    0.2s finished\n",
      "[Parallel(n_jobs=1)]: Using backend SequentialBackend with 1 concurrent workers.\n",
      "[Parallel(n_jobs=1)]: Done   1 out of   1 | elapsed:    0.0s remaining:    0.0s\n",
      "[Parallel(n_jobs=1)]: Done   2 out of   2 | elapsed:    0.0s remaining:    0.0s\n",
      "[Parallel(n_jobs=1)]: Done   3 out of   3 | elapsed:    0.0s remaining:    0.0s\n",
      "[Parallel(n_jobs=1)]: Done   4 out of   4 | elapsed:    0.0s remaining:    0.0s\n"
     ]
    },
    {
     "name": "stdout",
     "output_type": "stream",
     "text": [
      "Overwriting existing file.\n",
      "Reading F:\\Documents\\Science\\MirRevAdaptEEG\\data\\eeg\\p002\\lrp\\mra_p002_run0-epo.fif ...\n"
     ]
    },
    {
     "name": "stderr",
     "output_type": "stream",
     "text": [
      "[Parallel(n_jobs=1)]: Done 768 out of 768 | elapsed:    0.2s finished\n"
     ]
    },
    {
     "name": "stdout",
     "output_type": "stream",
     "text": [
      "    Found the data of interest:\n",
      "        t =   -2000.00 ...    1995.00 ms\n",
      "        0 CTF compensation matrices available\n",
      "Not setting metadata\n",
      "419 matching events found\n",
      "No baseline correction applied\n",
      "0 projection items activated\n",
      "Applying baseline correction (mode: mean)\n",
      "[0, 1, 4, 6, 7, 9, 13, 15, 16, 18, 19, 22]\n",
      "Overwriting existing file.\n",
      "Setting up low-pass filter at 30 Hz\n",
      "\n",
      "FIR filter parameters\n",
      "---------------------\n",
      "Designing a one-pass, zero-phase, non-causal lowpass filter:\n",
      "- Windowed time-domain design (firwin) method\n",
      "- Hamming window with 0.0194 passband ripple and 53 dB stopband attenuation\n",
      "- Upper passband edge: 30.00 Hz\n",
      "- Upper transition bandwidth: 7.50 Hz (-6 dB cutoff frequency: 33.75 Hz)\n",
      "- Filter length: 89 samples (0.445 sec)\n",
      "\n"
     ]
    },
    {
     "name": "stderr",
     "output_type": "stream",
     "text": [
      "[Parallel(n_jobs=1)]: Using backend SequentialBackend with 1 concurrent workers.\n",
      "[Parallel(n_jobs=1)]: Done   1 out of   1 | elapsed:    0.0s remaining:    0.0s\n",
      "[Parallel(n_jobs=1)]: Done   2 out of   2 | elapsed:    0.0s remaining:    0.0s\n",
      "[Parallel(n_jobs=1)]: Done   3 out of   3 | elapsed:    0.0s remaining:    0.0s\n",
      "[Parallel(n_jobs=1)]: Done   4 out of   4 | elapsed:    0.0s remaining:    0.0s\n"
     ]
    },
    {
     "name": "stdout",
     "output_type": "stream",
     "text": [
      "Overwriting existing file.\n",
      "[25, 27, 28, 30, 31, 32, 36, 40, 41, 43, 45, 46]\n",
      "Overwriting existing file.\n",
      "Setting up low-pass filter at 30 Hz\n",
      "\n",
      "FIR filter parameters\n",
      "---------------------\n",
      "Designing a one-pass, zero-phase, non-causal lowpass filter:\n",
      "- Windowed time-domain design (firwin) method\n",
      "- Hamming window with 0.0194 passband ripple and 53 dB stopband attenuation\n",
      "- Upper passband edge: 30.00 Hz\n",
      "- Upper transition bandwidth: 7.50 Hz (-6 dB cutoff frequency: 33.75 Hz)\n",
      "- Filter length: 89 samples (0.445 sec)\n",
      "\n"
     ]
    },
    {
     "name": "stderr",
     "output_type": "stream",
     "text": [
      "[Parallel(n_jobs=1)]: Done 768 out of 768 | elapsed:    0.2s finished\n",
      "[Parallel(n_jobs=1)]: Using backend SequentialBackend with 1 concurrent workers.\n",
      "[Parallel(n_jobs=1)]: Done   1 out of   1 | elapsed:    0.0s remaining:    0.0s\n",
      "[Parallel(n_jobs=1)]: Done   2 out of   2 | elapsed:    0.0s remaining:    0.0s\n",
      "[Parallel(n_jobs=1)]: Done   3 out of   3 | elapsed:    0.0s remaining:    0.0s\n",
      "[Parallel(n_jobs=1)]: Done   4 out of   4 | elapsed:    0.0s remaining:    0.0s\n"
     ]
    },
    {
     "name": "stdout",
     "output_type": "stream",
     "text": [
      "Overwriting existing file.\n",
      "[2, 3, 5, 8, 10, 11, 12, 14, 17, 20, 21, 23]\n",
      "Overwriting existing file.\n",
      "Setting up low-pass filter at 30 Hz\n",
      "\n",
      "FIR filter parameters\n",
      "---------------------\n",
      "Designing a one-pass, zero-phase, non-causal lowpass filter:\n",
      "- Windowed time-domain design (firwin) method\n",
      "- Hamming window with 0.0194 passband ripple and 53 dB stopband attenuation\n",
      "- Upper passband edge: 30.00 Hz\n",
      "- Upper transition bandwidth: 7.50 Hz (-6 dB cutoff frequency: 33.75 Hz)\n",
      "- Filter length: 89 samples (0.445 sec)\n",
      "\n"
     ]
    },
    {
     "name": "stderr",
     "output_type": "stream",
     "text": [
      "[Parallel(n_jobs=1)]: Done 768 out of 768 | elapsed:    0.2s finished\n",
      "[Parallel(n_jobs=1)]: Using backend SequentialBackend with 1 concurrent workers.\n",
      "[Parallel(n_jobs=1)]: Done   1 out of   1 | elapsed:    0.0s remaining:    0.0s\n",
      "[Parallel(n_jobs=1)]: Done   2 out of   2 | elapsed:    0.0s remaining:    0.0s\n",
      "[Parallel(n_jobs=1)]: Done   3 out of   3 | elapsed:    0.0s remaining:    0.0s\n",
      "[Parallel(n_jobs=1)]: Done   4 out of   4 | elapsed:    0.0s remaining:    0.0s\n"
     ]
    },
    {
     "name": "stdout",
     "output_type": "stream",
     "text": [
      "Overwriting existing file.\n",
      "[24, 26, 29, 33, 34, 35, 37, 38, 39, 42, 44, 47]\n",
      "Overwriting existing file.\n",
      "Setting up low-pass filter at 30 Hz\n",
      "\n",
      "FIR filter parameters\n",
      "---------------------\n",
      "Designing a one-pass, zero-phase, non-causal lowpass filter:\n",
      "- Windowed time-domain design (firwin) method\n",
      "- Hamming window with 0.0194 passband ripple and 53 dB stopband attenuation\n",
      "- Upper passband edge: 30.00 Hz\n",
      "- Upper transition bandwidth: 7.50 Hz (-6 dB cutoff frequency: 33.75 Hz)\n",
      "- Filter length: 89 samples (0.445 sec)\n",
      "\n"
     ]
    },
    {
     "name": "stderr",
     "output_type": "stream",
     "text": [
      "[Parallel(n_jobs=1)]: Done 768 out of 768 | elapsed:    0.2s finished\n",
      "[Parallel(n_jobs=1)]: Using backend SequentialBackend with 1 concurrent workers.\n",
      "[Parallel(n_jobs=1)]: Done   1 out of   1 | elapsed:    0.0s remaining:    0.0s\n",
      "[Parallel(n_jobs=1)]: Done   2 out of   2 | elapsed:    0.0s remaining:    0.0s\n",
      "[Parallel(n_jobs=1)]: Done   3 out of   3 | elapsed:    0.0s remaining:    0.0s\n",
      "[Parallel(n_jobs=1)]: Done   4 out of   4 | elapsed:    0.0s remaining:    0.0s\n"
     ]
    },
    {
     "name": "stdout",
     "output_type": "stream",
     "text": [
      "Overwriting existing file.\n",
      "Reading F:\\Documents\\Science\\MirRevAdaptEEG\\data\\eeg\\p003\\lrp\\mra_p003_run0-epo.fif ...\n"
     ]
    },
    {
     "name": "stderr",
     "output_type": "stream",
     "text": [
      "[Parallel(n_jobs=1)]: Done 768 out of 768 | elapsed:    0.2s finished\n"
     ]
    },
    {
     "name": "stdout",
     "output_type": "stream",
     "text": [
      "    Found the data of interest:\n",
      "        t =   -2000.00 ...    1995.00 ms\n",
      "        0 CTF compensation matrices available\n",
      "Not setting metadata\n",
      "418 matching events found\n",
      "No baseline correction applied\n",
      "0 projection items activated\n",
      "Applying baseline correction (mode: mean)\n",
      "[0, 1, 5, 8, 10, 11, 12, 14, 15, 19, 20, 23]\n",
      "Overwriting existing file.\n",
      "Setting up low-pass filter at 30 Hz\n",
      "\n",
      "FIR filter parameters\n",
      "---------------------\n",
      "Designing a one-pass, zero-phase, non-causal lowpass filter:\n",
      "- Windowed time-domain design (firwin) method\n",
      "- Hamming window with 0.0194 passband ripple and 53 dB stopband attenuation\n",
      "- Upper passband edge: 30.00 Hz\n",
      "- Upper transition bandwidth: 7.50 Hz (-6 dB cutoff frequency: 33.75 Hz)\n",
      "- Filter length: 89 samples (0.445 sec)\n",
      "\n"
     ]
    },
    {
     "name": "stderr",
     "output_type": "stream",
     "text": [
      "[Parallel(n_jobs=1)]: Using backend SequentialBackend with 1 concurrent workers.\n",
      "[Parallel(n_jobs=1)]: Done   1 out of   1 | elapsed:    0.0s remaining:    0.0s\n",
      "[Parallel(n_jobs=1)]: Done   2 out of   2 | elapsed:    0.0s remaining:    0.0s\n",
      "[Parallel(n_jobs=1)]: Done   3 out of   3 | elapsed:    0.0s remaining:    0.0s\n",
      "[Parallel(n_jobs=1)]: Done   4 out of   4 | elapsed:    0.0s remaining:    0.0s\n"
     ]
    },
    {
     "name": "stdout",
     "output_type": "stream",
     "text": [
      "Overwriting existing file.\n",
      "[24, 26, 29, 31, 33, 34, 36, 38, 39, 42, 44, 47]\n",
      "Overwriting existing file.\n",
      "Setting up low-pass filter at 30 Hz\n",
      "\n",
      "FIR filter parameters\n",
      "---------------------\n",
      "Designing a one-pass, zero-phase, non-causal lowpass filter:\n",
      "- Windowed time-domain design (firwin) method\n",
      "- Hamming window with 0.0194 passband ripple and 53 dB stopband attenuation\n",
      "- Upper passband edge: 30.00 Hz\n",
      "- Upper transition bandwidth: 7.50 Hz (-6 dB cutoff frequency: 33.75 Hz)\n",
      "- Filter length: 89 samples (0.445 sec)\n",
      "\n"
     ]
    },
    {
     "name": "stderr",
     "output_type": "stream",
     "text": [
      "[Parallel(n_jobs=1)]: Done 768 out of 768 | elapsed:    0.2s finished\n",
      "[Parallel(n_jobs=1)]: Using backend SequentialBackend with 1 concurrent workers.\n",
      "[Parallel(n_jobs=1)]: Done   1 out of   1 | elapsed:    0.0s remaining:    0.0s\n",
      "[Parallel(n_jobs=1)]: Done   2 out of   2 | elapsed:    0.0s remaining:    0.0s\n",
      "[Parallel(n_jobs=1)]: Done   3 out of   3 | elapsed:    0.0s remaining:    0.0s\n",
      "[Parallel(n_jobs=1)]: Done   4 out of   4 | elapsed:    0.0s remaining:    0.0s\n"
     ]
    },
    {
     "name": "stdout",
     "output_type": "stream",
     "text": [
      "Overwriting existing file.\n",
      "[2, 3, 4, 6, 7, 9, 13, 16, 17, 18, 21, 22]\n",
      "Overwriting existing file.\n",
      "Setting up low-pass filter at 30 Hz\n",
      "\n",
      "FIR filter parameters\n",
      "---------------------\n",
      "Designing a one-pass, zero-phase, non-causal lowpass filter:\n",
      "- Windowed time-domain design (firwin) method\n",
      "- Hamming window with 0.0194 passband ripple and 53 dB stopband attenuation\n",
      "- Upper passband edge: 30.00 Hz\n",
      "- Upper transition bandwidth: 7.50 Hz (-6 dB cutoff frequency: 33.75 Hz)\n",
      "- Filter length: 89 samples (0.445 sec)\n",
      "\n"
     ]
    },
    {
     "name": "stderr",
     "output_type": "stream",
     "text": [
      "[Parallel(n_jobs=1)]: Done 768 out of 768 | elapsed:    0.2s finished\n",
      "[Parallel(n_jobs=1)]: Using backend SequentialBackend with 1 concurrent workers.\n",
      "[Parallel(n_jobs=1)]: Done   1 out of   1 | elapsed:    0.0s remaining:    0.0s\n",
      "[Parallel(n_jobs=1)]: Done   2 out of   2 | elapsed:    0.0s remaining:    0.0s\n",
      "[Parallel(n_jobs=1)]: Done   3 out of   3 | elapsed:    0.0s remaining:    0.0s\n",
      "[Parallel(n_jobs=1)]: Done   4 out of   4 | elapsed:    0.0s remaining:    0.0s\n"
     ]
    },
    {
     "name": "stdout",
     "output_type": "stream",
     "text": [
      "Overwriting existing file.\n",
      "[25, 27, 28, 30, 32, 35, 37, 40, 41, 43, 45, 46]\n",
      "Overwriting existing file.\n",
      "Setting up low-pass filter at 30 Hz\n",
      "\n",
      "FIR filter parameters\n",
      "---------------------\n",
      "Designing a one-pass, zero-phase, non-causal lowpass filter:\n",
      "- Windowed time-domain design (firwin) method\n",
      "- Hamming window with 0.0194 passband ripple and 53 dB stopband attenuation\n",
      "- Upper passband edge: 30.00 Hz\n",
      "- Upper transition bandwidth: 7.50 Hz (-6 dB cutoff frequency: 33.75 Hz)\n",
      "- Filter length: 89 samples (0.445 sec)\n",
      "\n"
     ]
    },
    {
     "name": "stderr",
     "output_type": "stream",
     "text": [
      "[Parallel(n_jobs=1)]: Done 768 out of 768 | elapsed:    0.2s finished\n",
      "[Parallel(n_jobs=1)]: Using backend SequentialBackend with 1 concurrent workers.\n",
      "[Parallel(n_jobs=1)]: Done   1 out of   1 | elapsed:    0.0s remaining:    0.0s\n",
      "[Parallel(n_jobs=1)]: Done   2 out of   2 | elapsed:    0.0s remaining:    0.0s\n",
      "[Parallel(n_jobs=1)]: Done   3 out of   3 | elapsed:    0.0s remaining:    0.0s\n",
      "[Parallel(n_jobs=1)]: Done   4 out of   4 | elapsed:    0.0s remaining:    0.0s\n"
     ]
    },
    {
     "name": "stdout",
     "output_type": "stream",
     "text": [
      "Overwriting existing file.\n",
      "Reading F:\\Documents\\Science\\MirRevAdaptEEG\\data\\eeg\\p004\\lrp\\mra_p004_run0-epo.fif ...\n"
     ]
    },
    {
     "name": "stderr",
     "output_type": "stream",
     "text": [
      "[Parallel(n_jobs=1)]: Done 704 out of 704 | elapsed:    0.2s finished\n"
     ]
    },
    {
     "name": "stdout",
     "output_type": "stream",
     "text": [
      "    Found the data of interest:\n",
      "        t =   -2000.00 ...    1995.00 ms\n",
      "        0 CTF compensation matrices available\n",
      "Not setting metadata\n",
      "418 matching events found\n",
      "No baseline correction applied\n",
      "0 projection items activated\n",
      "Applying baseline correction (mode: mean)\n",
      "Reading F:\\Documents\\Science\\MirRevAdaptEEG\\data\\eeg\\p005\\lrp\\mra_p005_run0-epo.fif ...\n",
      "    Found the data of interest:\n",
      "        t =   -2000.00 ...    1995.00 ms\n",
      "        0 CTF compensation matrices available\n",
      "Not setting metadata\n",
      "419 matching events found\n",
      "No baseline correction applied\n",
      "0 projection items activated\n",
      "Applying baseline correction (mode: mean)\n",
      "Reading F:\\Documents\\Science\\MirRevAdaptEEG\\data\\eeg\\p006\\lrp\\mra_p006_run0-epo.fif ...\n",
      "    Found the data of interest:\n",
      "        t =   -2000.00 ...    1995.00 ms\n",
      "        0 CTF compensation matrices available\n",
      "Not setting metadata\n",
      "418 matching events found\n",
      "No baseline correction applied\n",
      "0 projection items activated\n",
      "Applying baseline correction (mode: mean)\n",
      "Reading F:\\Documents\\Science\\MirRevAdaptEEG\\data\\eeg\\p007\\lrp\\mra_p007_run0-epo.fif ...\n",
      "    Found the data of interest:\n",
      "        t =   -2000.00 ...    1995.00 ms\n",
      "        0 CTF compensation matrices available\n",
      "Not setting metadata\n",
      "420 matching events found\n",
      "No baseline correction applied\n",
      "0 projection items activated\n",
      "Applying baseline correction (mode: mean)\n",
      "Reading F:\\Documents\\Science\\MirRevAdaptEEG\\data\\eeg\\p008\\lrp\\mra_p008_run0-epo.fif ...\n",
      "    Found the data of interest:\n",
      "        t =   -2000.00 ...    1995.00 ms\n",
      "        0 CTF compensation matrices available\n",
      "Not setting metadata\n",
      "420 matching events found\n",
      "No baseline correction applied\n",
      "0 projection items activated\n",
      "Applying baseline correction (mode: mean)\n",
      "[0, 3, 4, 6, 10, 11, 12, 14, 15, 20, 22, 23]\n",
      "Overwriting existing file.\n",
      "Setting up low-pass filter at 30 Hz\n",
      "\n",
      "FIR filter parameters\n",
      "---------------------\n",
      "Designing a one-pass, zero-phase, non-causal lowpass filter:\n",
      "- Windowed time-domain design (firwin) method\n",
      "- Hamming window with 0.0194 passband ripple and 53 dB stopband attenuation\n",
      "- Upper passband edge: 30.00 Hz\n",
      "- Upper transition bandwidth: 7.50 Hz (-6 dB cutoff frequency: 33.75 Hz)\n",
      "- Filter length: 89 samples (0.445 sec)\n",
      "\n"
     ]
    },
    {
     "name": "stderr",
     "output_type": "stream",
     "text": [
      "[Parallel(n_jobs=1)]: Using backend SequentialBackend with 1 concurrent workers.\n",
      "[Parallel(n_jobs=1)]: Done   1 out of   1 | elapsed:    0.0s remaining:    0.0s\n",
      "[Parallel(n_jobs=1)]: Done   2 out of   2 | elapsed:    0.0s remaining:    0.0s\n",
      "[Parallel(n_jobs=1)]: Done   3 out of   3 | elapsed:    0.0s remaining:    0.0s\n",
      "[Parallel(n_jobs=1)]: Done   4 out of   4 | elapsed:    0.0s remaining:    0.0s\n"
     ]
    },
    {
     "name": "stdout",
     "output_type": "stream",
     "text": [
      "Overwriting existing file.\n",
      "[26, 28, 29, 30, 31, 34, 36, 37, 38, 42, 45, 47]\n",
      "Overwriting existing file.\n",
      "Setting up low-pass filter at 30 Hz\n",
      "\n",
      "FIR filter parameters\n",
      "---------------------\n",
      "Designing a one-pass, zero-phase, non-causal lowpass filter:\n",
      "- Windowed time-domain design (firwin) method\n",
      "- Hamming window with 0.0194 passband ripple and 53 dB stopband attenuation\n",
      "- Upper passband edge: 30.00 Hz\n",
      "- Upper transition bandwidth: 7.50 Hz (-6 dB cutoff frequency: 33.75 Hz)\n",
      "- Filter length: 89 samples (0.445 sec)\n",
      "\n"
     ]
    },
    {
     "name": "stderr",
     "output_type": "stream",
     "text": [
      "[Parallel(n_jobs=1)]: Done 768 out of 768 | elapsed:    0.3s finished\n",
      "[Parallel(n_jobs=1)]: Using backend SequentialBackend with 1 concurrent workers.\n",
      "[Parallel(n_jobs=1)]: Done   1 out of   1 | elapsed:    0.0s remaining:    0.0s\n",
      "[Parallel(n_jobs=1)]: Done   2 out of   2 | elapsed:    0.0s remaining:    0.0s\n",
      "[Parallel(n_jobs=1)]: Done   3 out of   3 | elapsed:    0.0s remaining:    0.0s\n",
      "[Parallel(n_jobs=1)]: Done   4 out of   4 | elapsed:    0.0s remaining:    0.0s\n"
     ]
    },
    {
     "name": "stdout",
     "output_type": "stream",
     "text": [
      "Overwriting existing file.\n",
      "[1, 2, 5, 7, 8, 9, 13, 16, 17, 18, 19, 21]\n",
      "Overwriting existing file.\n",
      "Setting up low-pass filter at 30 Hz\n",
      "\n",
      "FIR filter parameters\n",
      "---------------------\n",
      "Designing a one-pass, zero-phase, non-causal lowpass filter:\n",
      "- Windowed time-domain design (firwin) method\n",
      "- Hamming window with 0.0194 passband ripple and 53 dB stopband attenuation\n",
      "- Upper passband edge: 30.00 Hz\n",
      "- Upper transition bandwidth: 7.50 Hz (-6 dB cutoff frequency: 33.75 Hz)\n",
      "- Filter length: 89 samples (0.445 sec)\n",
      "\n"
     ]
    },
    {
     "name": "stderr",
     "output_type": "stream",
     "text": [
      "[Parallel(n_jobs=1)]: Done 768 out of 768 | elapsed:    0.2s finished\n",
      "[Parallel(n_jobs=1)]: Using backend SequentialBackend with 1 concurrent workers.\n",
      "[Parallel(n_jobs=1)]: Done   1 out of   1 | elapsed:    0.0s remaining:    0.0s\n",
      "[Parallel(n_jobs=1)]: Done   2 out of   2 | elapsed:    0.0s remaining:    0.0s\n",
      "[Parallel(n_jobs=1)]: Done   3 out of   3 | elapsed:    0.0s remaining:    0.0s\n",
      "[Parallel(n_jobs=1)]: Done   4 out of   4 | elapsed:    0.0s remaining:    0.0s\n"
     ]
    },
    {
     "name": "stdout",
     "output_type": "stream",
     "text": [
      "Overwriting existing file.\n",
      "[24, 25, 27, 32, 33, 35, 39, 40, 41, 43, 44, 46]\n",
      "Overwriting existing file.\n",
      "Setting up low-pass filter at 30 Hz\n",
      "\n",
      "FIR filter parameters\n",
      "---------------------\n",
      "Designing a one-pass, zero-phase, non-causal lowpass filter:\n",
      "- Windowed time-domain design (firwin) method\n",
      "- Hamming window with 0.0194 passband ripple and 53 dB stopband attenuation\n",
      "- Upper passband edge: 30.00 Hz\n",
      "- Upper transition bandwidth: 7.50 Hz (-6 dB cutoff frequency: 33.75 Hz)\n",
      "- Filter length: 89 samples (0.445 sec)\n",
      "\n"
     ]
    },
    {
     "name": "stderr",
     "output_type": "stream",
     "text": [
      "[Parallel(n_jobs=1)]: Done 768 out of 768 | elapsed:    0.2s finished\n",
      "[Parallel(n_jobs=1)]: Using backend SequentialBackend with 1 concurrent workers.\n",
      "[Parallel(n_jobs=1)]: Done   1 out of   1 | elapsed:    0.0s remaining:    0.0s\n",
      "[Parallel(n_jobs=1)]: Done   2 out of   2 | elapsed:    0.0s remaining:    0.0s\n",
      "[Parallel(n_jobs=1)]: Done   3 out of   3 | elapsed:    0.0s remaining:    0.0s\n",
      "[Parallel(n_jobs=1)]: Done   4 out of   4 | elapsed:    0.0s remaining:    0.0s\n"
     ]
    },
    {
     "name": "stdout",
     "output_type": "stream",
     "text": [
      "Overwriting existing file.\n",
      "Reading F:\\Documents\\Science\\MirRevAdaptEEG\\data\\eeg\\p009\\lrp\\mra_p009_run0-epo.fif ...\n"
     ]
    },
    {
     "name": "stderr",
     "output_type": "stream",
     "text": [
      "[Parallel(n_jobs=1)]: Done 768 out of 768 | elapsed:    0.2s finished\n"
     ]
    },
    {
     "name": "stdout",
     "output_type": "stream",
     "text": [
      "    Found the data of interest:\n",
      "        t =   -2000.00 ...    1995.00 ms\n",
      "        0 CTF compensation matrices available\n",
      "Not setting metadata\n",
      "419 matching events found\n",
      "No baseline correction applied\n",
      "0 projection items activated\n",
      "Applying baseline correction (mode: mean)\n",
      "[0, 1, 5, 6, 10, 11, 13, 15, 16, 18, 20, 23]\n",
      "Overwriting existing file.\n",
      "Setting up low-pass filter at 30 Hz\n",
      "\n",
      "FIR filter parameters\n",
      "---------------------\n",
      "Designing a one-pass, zero-phase, non-causal lowpass filter:\n",
      "- Windowed time-domain design (firwin) method\n",
      "- Hamming window with 0.0194 passband ripple and 53 dB stopband attenuation\n",
      "- Upper passband edge: 30.00 Hz\n",
      "- Upper transition bandwidth: 7.50 Hz (-6 dB cutoff frequency: 33.75 Hz)\n",
      "- Filter length: 89 samples (0.445 sec)\n",
      "\n"
     ]
    },
    {
     "name": "stderr",
     "output_type": "stream",
     "text": [
      "[Parallel(n_jobs=1)]: Using backend SequentialBackend with 1 concurrent workers.\n",
      "[Parallel(n_jobs=1)]: Done   1 out of   1 | elapsed:    0.0s remaining:    0.0s\n",
      "[Parallel(n_jobs=1)]: Done   2 out of   2 | elapsed:    0.0s remaining:    0.0s\n",
      "[Parallel(n_jobs=1)]: Done   3 out of   3 | elapsed:    0.0s remaining:    0.0s\n",
      "[Parallel(n_jobs=1)]: Done   4 out of   4 | elapsed:    0.0s remaining:    0.0s\n"
     ]
    },
    {
     "name": "stdout",
     "output_type": "stream",
     "text": [
      "Overwriting existing file.\n",
      "[26, 28, 29, 32, 33, 34, 38, 40, 41, 43, 45, 46]\n",
      "Overwriting existing file.\n",
      "Setting up low-pass filter at 30 Hz\n",
      "\n",
      "FIR filter parameters\n",
      "---------------------\n",
      "Designing a one-pass, zero-phase, non-causal lowpass filter:\n",
      "- Windowed time-domain design (firwin) method\n",
      "- Hamming window with 0.0194 passband ripple and 53 dB stopband attenuation\n",
      "- Upper passband edge: 30.00 Hz\n",
      "- Upper transition bandwidth: 7.50 Hz (-6 dB cutoff frequency: 33.75 Hz)\n",
      "- Filter length: 89 samples (0.445 sec)\n",
      "\n"
     ]
    },
    {
     "name": "stderr",
     "output_type": "stream",
     "text": [
      "[Parallel(n_jobs=1)]: Done 768 out of 768 | elapsed:    0.2s finished\n",
      "[Parallel(n_jobs=1)]: Using backend SequentialBackend with 1 concurrent workers.\n",
      "[Parallel(n_jobs=1)]: Done   1 out of   1 | elapsed:    0.0s remaining:    0.0s\n",
      "[Parallel(n_jobs=1)]: Done   2 out of   2 | elapsed:    0.0s remaining:    0.0s\n",
      "[Parallel(n_jobs=1)]: Done   3 out of   3 | elapsed:    0.0s remaining:    0.0s\n",
      "[Parallel(n_jobs=1)]: Done   4 out of   4 | elapsed:    0.0s remaining:    0.0s\n"
     ]
    },
    {
     "name": "stdout",
     "output_type": "stream",
     "text": [
      "Overwriting existing file.\n",
      "[2, 3, 4, 7, 8, 9, 12, 14, 17, 19, 21, 22]\n",
      "Overwriting existing file.\n",
      "Setting up low-pass filter at 30 Hz\n",
      "\n",
      "FIR filter parameters\n",
      "---------------------\n",
      "Designing a one-pass, zero-phase, non-causal lowpass filter:\n",
      "- Windowed time-domain design (firwin) method\n",
      "- Hamming window with 0.0194 passband ripple and 53 dB stopband attenuation\n",
      "- Upper passband edge: 30.00 Hz\n",
      "- Upper transition bandwidth: 7.50 Hz (-6 dB cutoff frequency: 33.75 Hz)\n",
      "- Filter length: 89 samples (0.445 sec)\n",
      "\n"
     ]
    },
    {
     "name": "stderr",
     "output_type": "stream",
     "text": [
      "[Parallel(n_jobs=1)]: Done 768 out of 768 | elapsed:    0.2s finished\n",
      "[Parallel(n_jobs=1)]: Using backend SequentialBackend with 1 concurrent workers.\n",
      "[Parallel(n_jobs=1)]: Done   1 out of   1 | elapsed:    0.0s remaining:    0.0s\n",
      "[Parallel(n_jobs=1)]: Done   2 out of   2 | elapsed:    0.0s remaining:    0.0s\n",
      "[Parallel(n_jobs=1)]: Done   3 out of   3 | elapsed:    0.0s remaining:    0.0s\n",
      "[Parallel(n_jobs=1)]: Done   4 out of   4 | elapsed:    0.0s remaining:    0.0s\n"
     ]
    },
    {
     "name": "stdout",
     "output_type": "stream",
     "text": [
      "Overwriting existing file.\n",
      "[24, 25, 27, 30, 31, 35, 36, 37, 39, 42, 44, 47]\n",
      "Overwriting existing file.\n",
      "Setting up low-pass filter at 30 Hz\n",
      "\n",
      "FIR filter parameters\n",
      "---------------------\n",
      "Designing a one-pass, zero-phase, non-causal lowpass filter:\n",
      "- Windowed time-domain design (firwin) method\n",
      "- Hamming window with 0.0194 passband ripple and 53 dB stopband attenuation\n",
      "- Upper passband edge: 30.00 Hz\n",
      "- Upper transition bandwidth: 7.50 Hz (-6 dB cutoff frequency: 33.75 Hz)\n",
      "- Filter length: 89 samples (0.445 sec)\n",
      "\n"
     ]
    },
    {
     "name": "stderr",
     "output_type": "stream",
     "text": [
      "[Parallel(n_jobs=1)]: Done 768 out of 768 | elapsed:    0.2s finished\n",
      "[Parallel(n_jobs=1)]: Using backend SequentialBackend with 1 concurrent workers.\n",
      "[Parallel(n_jobs=1)]: Done   1 out of   1 | elapsed:    0.0s remaining:    0.0s\n",
      "[Parallel(n_jobs=1)]: Done   2 out of   2 | elapsed:    0.0s remaining:    0.0s\n",
      "[Parallel(n_jobs=1)]: Done   3 out of   3 | elapsed:    0.0s remaining:    0.0s\n",
      "[Parallel(n_jobs=1)]: Done   4 out of   4 | elapsed:    0.0s remaining:    0.0s\n"
     ]
    },
    {
     "name": "stdout",
     "output_type": "stream",
     "text": [
      "Overwriting existing file.\n",
      "Reading F:\\Documents\\Science\\MirRevAdaptEEG\\data\\eeg\\p010\\lrp\\mra_p010_run0-epo.fif ...\n"
     ]
    },
    {
     "name": "stderr",
     "output_type": "stream",
     "text": [
      "[Parallel(n_jobs=1)]: Done 768 out of 768 | elapsed:    0.2s finished\n"
     ]
    },
    {
     "name": "stdout",
     "output_type": "stream",
     "text": [
      "    Found the data of interest:\n",
      "        t =   -2000.00 ...    1995.00 ms\n",
      "        0 CTF compensation matrices available\n",
      "Not setting metadata\n",
      "420 matching events found\n",
      "No baseline correction applied\n",
      "0 projection items activated\n",
      "Applying baseline correction (mode: mean)\n",
      "[1, 4, 5, 6, 10, 11, 12, 13, 16, 19, 20, 21]\n",
      "Overwriting existing file.\n",
      "Setting up low-pass filter at 30 Hz\n",
      "\n",
      "FIR filter parameters\n",
      "---------------------\n",
      "Designing a one-pass, zero-phase, non-causal lowpass filter:\n",
      "- Windowed time-domain design (firwin) method\n",
      "- Hamming window with 0.0194 passband ripple and 53 dB stopband attenuation\n",
      "- Upper passband edge: 30.00 Hz\n",
      "- Upper transition bandwidth: 7.50 Hz (-6 dB cutoff frequency: 33.75 Hz)\n",
      "- Filter length: 89 samples (0.445 sec)\n",
      "\n"
     ]
    },
    {
     "name": "stderr",
     "output_type": "stream",
     "text": [
      "[Parallel(n_jobs=1)]: Using backend SequentialBackend with 1 concurrent workers.\n",
      "[Parallel(n_jobs=1)]: Done   1 out of   1 | elapsed:    0.0s remaining:    0.0s\n",
      "[Parallel(n_jobs=1)]: Done   2 out of   2 | elapsed:    0.0s remaining:    0.0s\n",
      "[Parallel(n_jobs=1)]: Done   3 out of   3 | elapsed:    0.0s remaining:    0.0s\n",
      "[Parallel(n_jobs=1)]: Done   4 out of   4 | elapsed:    0.0s remaining:    0.0s\n"
     ]
    },
    {
     "name": "stdout",
     "output_type": "stream",
     "text": [
      "Overwriting existing file.\n",
      "[25, 26, 29, 31, 33, 34, 37, 39, 40, 42, 44, 47]\n",
      "Overwriting existing file.\n",
      "Setting up low-pass filter at 30 Hz\n",
      "\n",
      "FIR filter parameters\n",
      "---------------------\n",
      "Designing a one-pass, zero-phase, non-causal lowpass filter:\n",
      "- Windowed time-domain design (firwin) method\n",
      "- Hamming window with 0.0194 passband ripple and 53 dB stopband attenuation\n",
      "- Upper passband edge: 30.00 Hz\n",
      "- Upper transition bandwidth: 7.50 Hz (-6 dB cutoff frequency: 33.75 Hz)\n",
      "- Filter length: 89 samples (0.445 sec)\n",
      "\n"
     ]
    },
    {
     "name": "stderr",
     "output_type": "stream",
     "text": [
      "[Parallel(n_jobs=1)]: Done 768 out of 768 | elapsed:    0.2s finished\n",
      "[Parallel(n_jobs=1)]: Using backend SequentialBackend with 1 concurrent workers.\n",
      "[Parallel(n_jobs=1)]: Done   1 out of   1 | elapsed:    0.0s remaining:    0.0s\n",
      "[Parallel(n_jobs=1)]: Done   2 out of   2 | elapsed:    0.0s remaining:    0.0s\n",
      "[Parallel(n_jobs=1)]: Done   3 out of   3 | elapsed:    0.0s remaining:    0.0s\n",
      "[Parallel(n_jobs=1)]: Done   4 out of   4 | elapsed:    0.0s remaining:    0.0s\n"
     ]
    },
    {
     "name": "stdout",
     "output_type": "stream",
     "text": [
      "Overwriting existing file.\n",
      "[0, 2, 3, 7, 8, 9, 14, 15, 17, 18, 22, 23]\n",
      "Overwriting existing file.\n",
      "Setting up low-pass filter at 30 Hz\n",
      "\n",
      "FIR filter parameters\n",
      "---------------------\n",
      "Designing a one-pass, zero-phase, non-causal lowpass filter:\n",
      "- Windowed time-domain design (firwin) method\n",
      "- Hamming window with 0.0194 passband ripple and 53 dB stopband attenuation\n",
      "- Upper passband edge: 30.00 Hz\n",
      "- Upper transition bandwidth: 7.50 Hz (-6 dB cutoff frequency: 33.75 Hz)\n",
      "- Filter length: 89 samples (0.445 sec)\n",
      "\n"
     ]
    },
    {
     "name": "stderr",
     "output_type": "stream",
     "text": [
      "[Parallel(n_jobs=1)]: Done 768 out of 768 | elapsed:    0.2s finished\n",
      "[Parallel(n_jobs=1)]: Using backend SequentialBackend with 1 concurrent workers.\n",
      "[Parallel(n_jobs=1)]: Done   1 out of   1 | elapsed:    0.0s remaining:    0.0s\n",
      "[Parallel(n_jobs=1)]: Done   2 out of   2 | elapsed:    0.0s remaining:    0.0s\n",
      "[Parallel(n_jobs=1)]: Done   3 out of   3 | elapsed:    0.0s remaining:    0.0s\n",
      "[Parallel(n_jobs=1)]: Done   4 out of   4 | elapsed:    0.0s remaining:    0.0s\n"
     ]
    },
    {
     "name": "stdout",
     "output_type": "stream",
     "text": [
      "Overwriting existing file.\n",
      "[24, 27, 28, 30, 32, 35, 36, 38, 41, 43, 45, 46]\n",
      "Overwriting existing file.\n",
      "Setting up low-pass filter at 30 Hz\n",
      "\n",
      "FIR filter parameters\n",
      "---------------------\n",
      "Designing a one-pass, zero-phase, non-causal lowpass filter:\n",
      "- Windowed time-domain design (firwin) method\n",
      "- Hamming window with 0.0194 passband ripple and 53 dB stopband attenuation\n",
      "- Upper passband edge: 30.00 Hz\n",
      "- Upper transition bandwidth: 7.50 Hz (-6 dB cutoff frequency: 33.75 Hz)\n",
      "- Filter length: 89 samples (0.445 sec)\n",
      "\n"
     ]
    },
    {
     "name": "stderr",
     "output_type": "stream",
     "text": [
      "[Parallel(n_jobs=1)]: Done 768 out of 768 | elapsed:    0.2s finished\n",
      "[Parallel(n_jobs=1)]: Using backend SequentialBackend with 1 concurrent workers.\n",
      "[Parallel(n_jobs=1)]: Done   1 out of   1 | elapsed:    0.0s remaining:    0.0s\n",
      "[Parallel(n_jobs=1)]: Done   2 out of   2 | elapsed:    0.0s remaining:    0.0s\n",
      "[Parallel(n_jobs=1)]: Done   3 out of   3 | elapsed:    0.0s remaining:    0.0s\n",
      "[Parallel(n_jobs=1)]: Done   4 out of   4 | elapsed:    0.0s remaining:    0.0s\n"
     ]
    },
    {
     "name": "stdout",
     "output_type": "stream",
     "text": [
      "Overwriting existing file.\n",
      "Reading F:\\Documents\\Science\\MirRevAdaptEEG\\data\\eeg\\p011\\lrp\\mra_p011_run0-epo.fif ...\n"
     ]
    },
    {
     "name": "stderr",
     "output_type": "stream",
     "text": [
      "[Parallel(n_jobs=1)]: Done 768 out of 768 | elapsed:    0.3s finished\n"
     ]
    },
    {
     "name": "stdout",
     "output_type": "stream",
     "text": [
      "    Found the data of interest:\n",
      "        t =   -2000.00 ...    1995.00 ms\n",
      "        0 CTF compensation matrices available\n",
      "Not setting metadata\n",
      "419 matching events found\n",
      "No baseline correction applied\n",
      "0 projection items activated\n",
      "Applying baseline correction (mode: mean)\n",
      "[0, 1, 2, 4, 8, 9, 10, 12, 14, 15, 19, 21, 23]\n",
      "Overwriting existing file.\n",
      "Setting up low-pass filter at 30 Hz\n",
      "\n",
      "FIR filter parameters\n",
      "---------------------\n",
      "Designing a one-pass, zero-phase, non-causal lowpass filter:\n",
      "- Windowed time-domain design (firwin) method\n",
      "- Hamming window with 0.0194 passband ripple and 53 dB stopband attenuation\n",
      "- Upper passband edge: 30.00 Hz\n",
      "- Upper transition bandwidth: 7.50 Hz (-6 dB cutoff frequency: 33.75 Hz)\n",
      "- Filter length: 89 samples (0.445 sec)\n",
      "\n"
     ]
    },
    {
     "name": "stderr",
     "output_type": "stream",
     "text": [
      "[Parallel(n_jobs=1)]: Using backend SequentialBackend with 1 concurrent workers.\n",
      "[Parallel(n_jobs=1)]: Done   1 out of   1 | elapsed:    0.0s remaining:    0.0s\n",
      "[Parallel(n_jobs=1)]: Done   2 out of   2 | elapsed:    0.0s remaining:    0.0s\n",
      "[Parallel(n_jobs=1)]: Done   3 out of   3 | elapsed:    0.0s remaining:    0.0s\n",
      "[Parallel(n_jobs=1)]: Done   4 out of   4 | elapsed:    0.0s remaining:    0.0s\n"
     ]
    },
    {
     "name": "stdout",
     "output_type": "stream",
     "text": [
      "Overwriting existing file.\n",
      "[25, 26, 27, 30, 32, 34, 36, 39, 40, 44, 45, 47]\n",
      "Overwriting existing file.\n",
      "Setting up low-pass filter at 30 Hz\n",
      "\n",
      "FIR filter parameters\n",
      "---------------------\n",
      "Designing a one-pass, zero-phase, non-causal lowpass filter:\n",
      "- Windowed time-domain design (firwin) method\n",
      "- Hamming window with 0.0194 passband ripple and 53 dB stopband attenuation\n",
      "- Upper passband edge: 30.00 Hz\n",
      "- Upper transition bandwidth: 7.50 Hz (-6 dB cutoff frequency: 33.75 Hz)\n",
      "- Filter length: 89 samples (0.445 sec)\n",
      "\n"
     ]
    },
    {
     "name": "stderr",
     "output_type": "stream",
     "text": [
      "[Parallel(n_jobs=1)]: Done 832 out of 832 | elapsed:    0.2s finished\n",
      "[Parallel(n_jobs=1)]: Using backend SequentialBackend with 1 concurrent workers.\n",
      "[Parallel(n_jobs=1)]: Done   1 out of   1 | elapsed:    0.0s remaining:    0.0s\n",
      "[Parallel(n_jobs=1)]: Done   2 out of   2 | elapsed:    0.0s remaining:    0.0s\n",
      "[Parallel(n_jobs=1)]: Done   3 out of   3 | elapsed:    0.0s remaining:    0.0s\n",
      "[Parallel(n_jobs=1)]: Done   4 out of   4 | elapsed:    0.0s remaining:    0.0s\n"
     ]
    },
    {
     "name": "stdout",
     "output_type": "stream",
     "text": [
      "Overwriting existing file.\n",
      "[3, 5, 6, 7, 11, 13, 16, 17, 18, 20, 22]\n",
      "Overwriting existing file.\n",
      "Setting up low-pass filter at 30 Hz\n",
      "\n",
      "FIR filter parameters\n",
      "---------------------\n",
      "Designing a one-pass, zero-phase, non-causal lowpass filter:\n",
      "- Windowed time-domain design (firwin) method\n",
      "- Hamming window with 0.0194 passband ripple and 53 dB stopband attenuation\n",
      "- Upper passband edge: 30.00 Hz\n",
      "- Upper transition bandwidth: 7.50 Hz (-6 dB cutoff frequency: 33.75 Hz)\n",
      "- Filter length: 89 samples (0.445 sec)\n",
      "\n"
     ]
    },
    {
     "name": "stderr",
     "output_type": "stream",
     "text": [
      "[Parallel(n_jobs=1)]: Done 768 out of 768 | elapsed:    0.2s finished\n",
      "[Parallel(n_jobs=1)]: Using backend SequentialBackend with 1 concurrent workers.\n",
      "[Parallel(n_jobs=1)]: Done   1 out of   1 | elapsed:    0.0s remaining:    0.0s\n",
      "[Parallel(n_jobs=1)]: Done   2 out of   2 | elapsed:    0.0s remaining:    0.0s\n",
      "[Parallel(n_jobs=1)]: Done   3 out of   3 | elapsed:    0.0s remaining:    0.0s\n",
      "[Parallel(n_jobs=1)]: Done   4 out of   4 | elapsed:    0.0s remaining:    0.0s\n"
     ]
    },
    {
     "name": "stdout",
     "output_type": "stream",
     "text": [
      "Overwriting existing file.\n",
      "[24, 28, 29, 31, 33, 35, 37, 38, 41, 42, 43, 46]\n",
      "Overwriting existing file.\n",
      "Setting up low-pass filter at 30 Hz\n",
      "\n",
      "FIR filter parameters\n",
      "---------------------\n",
      "Designing a one-pass, zero-phase, non-causal lowpass filter:\n",
      "- Windowed time-domain design (firwin) method\n",
      "- Hamming window with 0.0194 passband ripple and 53 dB stopband attenuation\n",
      "- Upper passband edge: 30.00 Hz\n",
      "- Upper transition bandwidth: 7.50 Hz (-6 dB cutoff frequency: 33.75 Hz)\n",
      "- Filter length: 89 samples (0.445 sec)\n",
      "\n"
     ]
    },
    {
     "name": "stderr",
     "output_type": "stream",
     "text": [
      "[Parallel(n_jobs=1)]: Done 704 out of 704 | elapsed:    0.2s finished\n",
      "[Parallel(n_jobs=1)]: Using backend SequentialBackend with 1 concurrent workers.\n",
      "[Parallel(n_jobs=1)]: Done   1 out of   1 | elapsed:    0.0s remaining:    0.0s\n",
      "[Parallel(n_jobs=1)]: Done   2 out of   2 | elapsed:    0.0s remaining:    0.0s\n",
      "[Parallel(n_jobs=1)]: Done   3 out of   3 | elapsed:    0.0s remaining:    0.0s\n",
      "[Parallel(n_jobs=1)]: Done   4 out of   4 | elapsed:    0.0s remaining:    0.0s\n"
     ]
    },
    {
     "name": "stdout",
     "output_type": "stream",
     "text": [
      "Overwriting existing file.\n",
      "Reading F:\\Documents\\Science\\MirRevAdaptEEG\\data\\eeg\\p012\\lrp\\mra_p012_run0-epo.fif ...\n"
     ]
    },
    {
     "name": "stderr",
     "output_type": "stream",
     "text": [
      "[Parallel(n_jobs=1)]: Done 768 out of 768 | elapsed:    0.2s finished\n"
     ]
    },
    {
     "name": "stdout",
     "output_type": "stream",
     "text": [
      "    Found the data of interest:\n",
      "        t =   -2000.00 ...    1995.00 ms\n",
      "        0 CTF compensation matrices available\n",
      "Not setting metadata\n",
      "412 matching events found\n",
      "No baseline correction applied\n",
      "0 projection items activated\n",
      "Applying baseline correction (mode: mean)\n",
      "Reading F:\\Documents\\Science\\MirRevAdaptEEG\\data\\eeg\\p013\\lrp\\mra_p013_run0-epo.fif ...\n",
      "    Found the data of interest:\n",
      "        t =   -2000.00 ...    1995.00 ms\n",
      "        0 CTF compensation matrices available\n",
      "Not setting metadata\n",
      "416 matching events found\n",
      "No baseline correction applied\n",
      "0 projection items activated\n",
      "Applying baseline correction (mode: mean)\n",
      "Reading F:\\Documents\\Science\\MirRevAdaptEEG\\data\\eeg\\p014\\lrp\\mra_p014_run0-epo.fif ...\n",
      "    Found the data of interest:\n",
      "        t =   -2000.00 ...    1995.00 ms\n",
      "        0 CTF compensation matrices available\n",
      "Not setting metadata\n",
      "420 matching events found\n",
      "No baseline correction applied\n",
      "0 projection items activated\n",
      "Applying baseline correction (mode: mean)\n",
      "Reading F:\\Documents\\Science\\MirRevAdaptEEG\\data\\eeg\\p015\\lrp\\mra_p015_run0-epo.fif ...\n",
      "    Found the data of interest:\n",
      "        t =   -2000.00 ...    1995.00 ms\n",
      "        0 CTF compensation matrices available\n",
      "Not setting metadata\n",
      "420 matching events found\n",
      "No baseline correction applied\n",
      "0 projection items activated\n",
      "Applying baseline correction (mode: mean)\n",
      "Reading F:\\Documents\\Science\\MirRevAdaptEEG\\data\\eeg\\p016\\lrp\\mra_p016_run0-epo.fif ...\n",
      "    Found the data of interest:\n",
      "        t =   -2000.00 ...    1995.00 ms\n",
      "        0 CTF compensation matrices available\n",
      "Not setting metadata\n",
      "418 matching events found\n",
      "No baseline correction applied\n",
      "0 projection items activated\n",
      "Applying baseline correction (mode: mean)\n",
      "[0, 4, 5, 6, 7, 9, 12, 13, 14, 17, 18, 20, 22]\n",
      "Overwriting existing file.\n",
      "Setting up low-pass filter at 30 Hz\n",
      "\n",
      "FIR filter parameters\n",
      "---------------------\n",
      "Designing a one-pass, zero-phase, non-causal lowpass filter:\n",
      "- Windowed time-domain design (firwin) method\n",
      "- Hamming window with 0.0194 passband ripple and 53 dB stopband attenuation\n",
      "- Upper passband edge: 30.00 Hz\n",
      "- Upper transition bandwidth: 7.50 Hz (-6 dB cutoff frequency: 33.75 Hz)\n",
      "- Filter length: 89 samples (0.445 sec)\n",
      "\n"
     ]
    },
    {
     "name": "stderr",
     "output_type": "stream",
     "text": [
      "[Parallel(n_jobs=1)]: Using backend SequentialBackend with 1 concurrent workers.\n",
      "[Parallel(n_jobs=1)]: Done   1 out of   1 | elapsed:    0.0s remaining:    0.0s\n",
      "[Parallel(n_jobs=1)]: Done   2 out of   2 | elapsed:    0.0s remaining:    0.0s\n",
      "[Parallel(n_jobs=1)]: Done   3 out of   3 | elapsed:    0.0s remaining:    0.0s\n",
      "[Parallel(n_jobs=1)]: Done   4 out of   4 | elapsed:    0.0s remaining:    0.0s\n"
     ]
    },
    {
     "name": "stdout",
     "output_type": "stream",
     "text": [
      "Overwriting existing file.\n",
      "[24, 25, 29, 30, 33, 34, 36, 40, 41, 44, 45, 46]\n",
      "Overwriting existing file.\n",
      "Setting up low-pass filter at 30 Hz\n",
      "\n",
      "FIR filter parameters\n",
      "---------------------\n",
      "Designing a one-pass, zero-phase, non-causal lowpass filter:\n",
      "- Windowed time-domain design (firwin) method\n",
      "- Hamming window with 0.0194 passband ripple and 53 dB stopband attenuation\n",
      "- Upper passband edge: 30.00 Hz\n",
      "- Upper transition bandwidth: 7.50 Hz (-6 dB cutoff frequency: 33.75 Hz)\n",
      "- Filter length: 89 samples (0.445 sec)\n",
      "\n"
     ]
    },
    {
     "name": "stderr",
     "output_type": "stream",
     "text": [
      "[Parallel(n_jobs=1)]: Done 832 out of 832 | elapsed:    0.2s finished\n",
      "[Parallel(n_jobs=1)]: Using backend SequentialBackend with 1 concurrent workers.\n",
      "[Parallel(n_jobs=1)]: Done   1 out of   1 | elapsed:    0.0s remaining:    0.0s\n",
      "[Parallel(n_jobs=1)]: Done   2 out of   2 | elapsed:    0.0s remaining:    0.0s\n",
      "[Parallel(n_jobs=1)]: Done   3 out of   3 | elapsed:    0.0s remaining:    0.0s\n",
      "[Parallel(n_jobs=1)]: Done   4 out of   4 | elapsed:    0.0s remaining:    0.0s\n"
     ]
    },
    {
     "name": "stdout",
     "output_type": "stream",
     "text": [
      "Overwriting existing file.\n",
      "[1, 2, 3, 8, 10, 11, 15, 16, 19, 21, 23]\n",
      "Overwriting existing file.\n",
      "Setting up low-pass filter at 30 Hz\n",
      "\n",
      "FIR filter parameters\n",
      "---------------------\n",
      "Designing a one-pass, zero-phase, non-causal lowpass filter:\n",
      "- Windowed time-domain design (firwin) method\n",
      "- Hamming window with 0.0194 passband ripple and 53 dB stopband attenuation\n",
      "- Upper passband edge: 30.00 Hz\n",
      "- Upper transition bandwidth: 7.50 Hz (-6 dB cutoff frequency: 33.75 Hz)\n",
      "- Filter length: 89 samples (0.445 sec)\n",
      "\n"
     ]
    },
    {
     "name": "stderr",
     "output_type": "stream",
     "text": [
      "[Parallel(n_jobs=1)]: Done 768 out of 768 | elapsed:    0.2s finished\n",
      "[Parallel(n_jobs=1)]: Using backend SequentialBackend with 1 concurrent workers.\n",
      "[Parallel(n_jobs=1)]: Done   1 out of   1 | elapsed:    0.0s remaining:    0.0s\n",
      "[Parallel(n_jobs=1)]: Done   2 out of   2 | elapsed:    0.0s remaining:    0.0s\n",
      "[Parallel(n_jobs=1)]: Done   3 out of   3 | elapsed:    0.0s remaining:    0.0s\n",
      "[Parallel(n_jobs=1)]: Done   4 out of   4 | elapsed:    0.0s remaining:    0.0s\n"
     ]
    },
    {
     "name": "stdout",
     "output_type": "stream",
     "text": [
      "Overwriting existing file.\n",
      "[26, 27, 28, 31, 32, 35, 37, 38, 39, 42, 43, 47]\n",
      "Overwriting existing file.\n",
      "Setting up low-pass filter at 30 Hz\n",
      "\n",
      "FIR filter parameters\n",
      "---------------------\n",
      "Designing a one-pass, zero-phase, non-causal lowpass filter:\n",
      "- Windowed time-domain design (firwin) method\n",
      "- Hamming window with 0.0194 passband ripple and 53 dB stopband attenuation\n",
      "- Upper passband edge: 30.00 Hz\n",
      "- Upper transition bandwidth: 7.50 Hz (-6 dB cutoff frequency: 33.75 Hz)\n",
      "- Filter length: 89 samples (0.445 sec)\n",
      "\n"
     ]
    },
    {
     "name": "stderr",
     "output_type": "stream",
     "text": [
      "[Parallel(n_jobs=1)]: Done 704 out of 704 | elapsed:    0.2s finished\n",
      "[Parallel(n_jobs=1)]: Using backend SequentialBackend with 1 concurrent workers.\n",
      "[Parallel(n_jobs=1)]: Done   1 out of   1 | elapsed:    0.0s remaining:    0.0s\n",
      "[Parallel(n_jobs=1)]: Done   2 out of   2 | elapsed:    0.0s remaining:    0.0s\n",
      "[Parallel(n_jobs=1)]: Done   3 out of   3 | elapsed:    0.0s remaining:    0.0s\n",
      "[Parallel(n_jobs=1)]: Done   4 out of   4 | elapsed:    0.0s remaining:    0.0s\n"
     ]
    },
    {
     "name": "stdout",
     "output_type": "stream",
     "text": [
      "Overwriting existing file.\n",
      "Reading F:\\Documents\\Science\\MirRevAdaptEEG\\data\\eeg\\p017\\lrp\\mra_p017_run0-epo.fif ...\n"
     ]
    },
    {
     "name": "stderr",
     "output_type": "stream",
     "text": [
      "[Parallel(n_jobs=1)]: Done 768 out of 768 | elapsed:    0.2s finished\n"
     ]
    },
    {
     "name": "stdout",
     "output_type": "stream",
     "text": [
      "    Found the data of interest:\n",
      "        t =   -2000.00 ...    1995.00 ms\n",
      "        0 CTF compensation matrices available\n",
      "Not setting metadata\n",
      "418 matching events found\n",
      "No baseline correction applied\n",
      "0 projection items activated\n",
      "Applying baseline correction (mode: mean)\n",
      "[0, 1, 4, 9, 10, 11, 13, 15, 16, 18, 19, 21]\n",
      "Overwriting existing file.\n",
      "Setting up low-pass filter at 30 Hz\n",
      "\n",
      "FIR filter parameters\n",
      "---------------------\n",
      "Designing a one-pass, zero-phase, non-causal lowpass filter:\n",
      "- Windowed time-domain design (firwin) method\n",
      "- Hamming window with 0.0194 passband ripple and 53 dB stopband attenuation\n",
      "- Upper passband edge: 30.00 Hz\n",
      "- Upper transition bandwidth: 7.50 Hz (-6 dB cutoff frequency: 33.75 Hz)\n",
      "- Filter length: 89 samples (0.445 sec)\n",
      "\n"
     ]
    },
    {
     "name": "stderr",
     "output_type": "stream",
     "text": [
      "[Parallel(n_jobs=1)]: Using backend SequentialBackend with 1 concurrent workers.\n",
      "[Parallel(n_jobs=1)]: Done   1 out of   1 | elapsed:    0.0s remaining:    0.0s\n",
      "[Parallel(n_jobs=1)]: Done   2 out of   2 | elapsed:    0.0s remaining:    0.0s\n",
      "[Parallel(n_jobs=1)]: Done   3 out of   3 | elapsed:    0.0s remaining:    0.0s\n",
      "[Parallel(n_jobs=1)]: Done   4 out of   4 | elapsed:    0.0s remaining:    0.0s\n"
     ]
    },
    {
     "name": "stdout",
     "output_type": "stream",
     "text": [
      "Overwriting existing file.\n",
      "[26, 28, 29, 31, 34, 35, 38, 40, 41, 43, 44, 45]\n",
      "Overwriting existing file.\n",
      "Setting up low-pass filter at 30 Hz\n",
      "\n",
      "FIR filter parameters\n",
      "---------------------\n",
      "Designing a one-pass, zero-phase, non-causal lowpass filter:\n",
      "- Windowed time-domain design (firwin) method\n",
      "- Hamming window with 0.0194 passband ripple and 53 dB stopband attenuation\n",
      "- Upper passband edge: 30.00 Hz\n",
      "- Upper transition bandwidth: 7.50 Hz (-6 dB cutoff frequency: 33.75 Hz)\n",
      "- Filter length: 89 samples (0.445 sec)\n",
      "\n"
     ]
    },
    {
     "name": "stderr",
     "output_type": "stream",
     "text": [
      "[Parallel(n_jobs=1)]: Done 768 out of 768 | elapsed:    0.2s finished\n",
      "[Parallel(n_jobs=1)]: Using backend SequentialBackend with 1 concurrent workers.\n",
      "[Parallel(n_jobs=1)]: Done   1 out of   1 | elapsed:    0.0s remaining:    0.0s\n",
      "[Parallel(n_jobs=1)]: Done   2 out of   2 | elapsed:    0.0s remaining:    0.0s\n",
      "[Parallel(n_jobs=1)]: Done   3 out of   3 | elapsed:    0.0s remaining:    0.0s\n",
      "[Parallel(n_jobs=1)]: Done   4 out of   4 | elapsed:    0.0s remaining:    0.0s\n"
     ]
    },
    {
     "name": "stdout",
     "output_type": "stream",
     "text": [
      "Overwriting existing file.\n",
      "[2, 3, 5, 6, 7, 8, 12, 14, 17, 20, 22, 23]\n",
      "Overwriting existing file.\n",
      "Setting up low-pass filter at 30 Hz\n",
      "\n",
      "FIR filter parameters\n",
      "---------------------\n",
      "Designing a one-pass, zero-phase, non-causal lowpass filter:\n",
      "- Windowed time-domain design (firwin) method\n",
      "- Hamming window with 0.0194 passband ripple and 53 dB stopband attenuation\n",
      "- Upper passband edge: 30.00 Hz\n",
      "- Upper transition bandwidth: 7.50 Hz (-6 dB cutoff frequency: 33.75 Hz)\n",
      "- Filter length: 89 samples (0.445 sec)\n",
      "\n"
     ]
    },
    {
     "name": "stderr",
     "output_type": "stream",
     "text": [
      "[Parallel(n_jobs=1)]: Done 768 out of 768 | elapsed:    0.2s finished\n",
      "[Parallel(n_jobs=1)]: Using backend SequentialBackend with 1 concurrent workers.\n",
      "[Parallel(n_jobs=1)]: Done   1 out of   1 | elapsed:    0.0s remaining:    0.0s\n",
      "[Parallel(n_jobs=1)]: Done   2 out of   2 | elapsed:    0.0s remaining:    0.0s\n",
      "[Parallel(n_jobs=1)]: Done   3 out of   3 | elapsed:    0.0s remaining:    0.0s\n",
      "[Parallel(n_jobs=1)]: Done   4 out of   4 | elapsed:    0.0s remaining:    0.0s\n"
     ]
    },
    {
     "name": "stdout",
     "output_type": "stream",
     "text": [
      "Overwriting existing file.\n",
      "[24, 25, 27, 30, 32, 33, 36, 37, 39, 42, 46, 47]\n",
      "Overwriting existing file.\n",
      "Setting up low-pass filter at 30 Hz\n",
      "\n",
      "FIR filter parameters\n",
      "---------------------\n",
      "Designing a one-pass, zero-phase, non-causal lowpass filter:\n",
      "- Windowed time-domain design (firwin) method\n",
      "- Hamming window with 0.0194 passband ripple and 53 dB stopband attenuation\n",
      "- Upper passband edge: 30.00 Hz\n",
      "- Upper transition bandwidth: 7.50 Hz (-6 dB cutoff frequency: 33.75 Hz)\n",
      "- Filter length: 89 samples (0.445 sec)\n",
      "\n"
     ]
    },
    {
     "name": "stderr",
     "output_type": "stream",
     "text": [
      "[Parallel(n_jobs=1)]: Done 768 out of 768 | elapsed:    0.2s finished\n",
      "[Parallel(n_jobs=1)]: Using backend SequentialBackend with 1 concurrent workers.\n",
      "[Parallel(n_jobs=1)]: Done   1 out of   1 | elapsed:    0.0s remaining:    0.0s\n",
      "[Parallel(n_jobs=1)]: Done   2 out of   2 | elapsed:    0.0s remaining:    0.0s\n",
      "[Parallel(n_jobs=1)]: Done   3 out of   3 | elapsed:    0.0s remaining:    0.0s\n",
      "[Parallel(n_jobs=1)]: Done   4 out of   4 | elapsed:    0.0s remaining:    0.0s\n"
     ]
    },
    {
     "name": "stdout",
     "output_type": "stream",
     "text": [
      "Overwriting existing file.\n",
      "Reading F:\\Documents\\Science\\MirRevAdaptEEG\\data\\eeg\\p018\\lrp\\mra_p018_run0-epo.fif ...\n"
     ]
    },
    {
     "name": "stderr",
     "output_type": "stream",
     "text": [
      "[Parallel(n_jobs=1)]: Done 768 out of 768 | elapsed:    0.2s finished\n"
     ]
    },
    {
     "name": "stdout",
     "output_type": "stream",
     "text": [
      "    Found the data of interest:\n",
      "        t =   -2000.00 ...    1995.00 ms\n",
      "        0 CTF compensation matrices available\n",
      "Not setting metadata\n",
      "419 matching events found\n",
      "No baseline correction applied\n",
      "0 projection items activated\n",
      "Applying baseline correction (mode: mean)\n",
      "[0, 1, 3, 6, 7, 8, 12, 13, 15, 18, 19, 23]\n",
      "Overwriting existing file.\n",
      "Setting up low-pass filter at 30 Hz\n",
      "\n",
      "FIR filter parameters\n",
      "---------------------\n",
      "Designing a one-pass, zero-phase, non-causal lowpass filter:\n",
      "- Windowed time-domain design (firwin) method\n",
      "- Hamming window with 0.0194 passband ripple and 53 dB stopband attenuation\n",
      "- Upper passband edge: 30.00 Hz\n",
      "- Upper transition bandwidth: 7.50 Hz (-6 dB cutoff frequency: 33.75 Hz)\n",
      "- Filter length: 89 samples (0.445 sec)\n",
      "\n"
     ]
    },
    {
     "name": "stderr",
     "output_type": "stream",
     "text": [
      "[Parallel(n_jobs=1)]: Using backend SequentialBackend with 1 concurrent workers.\n",
      "[Parallel(n_jobs=1)]: Done   1 out of   1 | elapsed:    0.0s remaining:    0.0s\n",
      "[Parallel(n_jobs=1)]: Done   2 out of   2 | elapsed:    0.0s remaining:    0.0s\n",
      "[Parallel(n_jobs=1)]: Done   3 out of   3 | elapsed:    0.0s remaining:    0.0s\n",
      "[Parallel(n_jobs=1)]: Done   4 out of   4 | elapsed:    0.0s remaining:    0.0s\n"
     ]
    },
    {
     "name": "stdout",
     "output_type": "stream",
     "text": [
      "Overwriting existing file.\n",
      "[24, 25, 29, 31, 33, 35, 38, 39, 41, 44, 45, 47]\n",
      "Overwriting existing file.\n",
      "Setting up low-pass filter at 30 Hz\n",
      "\n",
      "FIR filter parameters\n",
      "---------------------\n",
      "Designing a one-pass, zero-phase, non-causal lowpass filter:\n",
      "- Windowed time-domain design (firwin) method\n",
      "- Hamming window with 0.0194 passband ripple and 53 dB stopband attenuation\n",
      "- Upper passband edge: 30.00 Hz\n",
      "- Upper transition bandwidth: 7.50 Hz (-6 dB cutoff frequency: 33.75 Hz)\n",
      "- Filter length: 89 samples (0.445 sec)\n",
      "\n"
     ]
    },
    {
     "name": "stderr",
     "output_type": "stream",
     "text": [
      "[Parallel(n_jobs=1)]: Done 768 out of 768 | elapsed:    0.2s finished\n",
      "[Parallel(n_jobs=1)]: Using backend SequentialBackend with 1 concurrent workers.\n",
      "[Parallel(n_jobs=1)]: Done   1 out of   1 | elapsed:    0.0s remaining:    0.0s\n",
      "[Parallel(n_jobs=1)]: Done   2 out of   2 | elapsed:    0.0s remaining:    0.0s\n",
      "[Parallel(n_jobs=1)]: Done   3 out of   3 | elapsed:    0.0s remaining:    0.0s\n",
      "[Parallel(n_jobs=1)]: Done   4 out of   4 | elapsed:    0.0s remaining:    0.0s\n"
     ]
    },
    {
     "name": "stdout",
     "output_type": "stream",
     "text": [
      "Overwriting existing file.\n",
      "[2, 4, 5, 9, 10, 11, 14, 16, 17, 20, 21, 22]\n",
      "Overwriting existing file.\n",
      "Setting up low-pass filter at 30 Hz\n",
      "\n",
      "FIR filter parameters\n",
      "---------------------\n",
      "Designing a one-pass, zero-phase, non-causal lowpass filter:\n",
      "- Windowed time-domain design (firwin) method\n",
      "- Hamming window with 0.0194 passband ripple and 53 dB stopband attenuation\n",
      "- Upper passband edge: 30.00 Hz\n",
      "- Upper transition bandwidth: 7.50 Hz (-6 dB cutoff frequency: 33.75 Hz)\n",
      "- Filter length: 89 samples (0.445 sec)\n",
      "\n"
     ]
    },
    {
     "name": "stderr",
     "output_type": "stream",
     "text": [
      "[Parallel(n_jobs=1)]: Done 768 out of 768 | elapsed:    0.2s finished\n",
      "[Parallel(n_jobs=1)]: Using backend SequentialBackend with 1 concurrent workers.\n",
      "[Parallel(n_jobs=1)]: Done   1 out of   1 | elapsed:    0.0s remaining:    0.0s\n",
      "[Parallel(n_jobs=1)]: Done   2 out of   2 | elapsed:    0.0s remaining:    0.0s\n",
      "[Parallel(n_jobs=1)]: Done   3 out of   3 | elapsed:    0.0s remaining:    0.0s\n",
      "[Parallel(n_jobs=1)]: Done   4 out of   4 | elapsed:    0.0s remaining:    0.0s\n"
     ]
    },
    {
     "name": "stdout",
     "output_type": "stream",
     "text": [
      "Overwriting existing file.\n",
      "[26, 27, 28, 30, 32, 34, 36, 37, 40, 42, 43, 46]\n",
      "Overwriting existing file.\n",
      "Setting up low-pass filter at 30 Hz\n",
      "\n",
      "FIR filter parameters\n",
      "---------------------\n",
      "Designing a one-pass, zero-phase, non-causal lowpass filter:\n",
      "- Windowed time-domain design (firwin) method\n",
      "- Hamming window with 0.0194 passband ripple and 53 dB stopband attenuation\n",
      "- Upper passband edge: 30.00 Hz\n",
      "- Upper transition bandwidth: 7.50 Hz (-6 dB cutoff frequency: 33.75 Hz)\n",
      "- Filter length: 89 samples (0.445 sec)\n",
      "\n"
     ]
    },
    {
     "name": "stderr",
     "output_type": "stream",
     "text": [
      "[Parallel(n_jobs=1)]: Done 768 out of 768 | elapsed:    0.2s finished\n",
      "[Parallel(n_jobs=1)]: Using backend SequentialBackend with 1 concurrent workers.\n",
      "[Parallel(n_jobs=1)]: Done   1 out of   1 | elapsed:    0.0s remaining:    0.0s\n",
      "[Parallel(n_jobs=1)]: Done   2 out of   2 | elapsed:    0.0s remaining:    0.0s\n",
      "[Parallel(n_jobs=1)]: Done   3 out of   3 | elapsed:    0.0s remaining:    0.0s\n",
      "[Parallel(n_jobs=1)]: Done   4 out of   4 | elapsed:    0.0s remaining:    0.0s\n"
     ]
    },
    {
     "name": "stdout",
     "output_type": "stream",
     "text": [
      "Overwriting existing file.\n",
      "Reading F:\\Documents\\Science\\MirRevAdaptEEG\\data\\eeg\\p019\\lrp\\mra_p019_run0-epo.fif ...\n"
     ]
    },
    {
     "name": "stderr",
     "output_type": "stream",
     "text": [
      "[Parallel(n_jobs=1)]: Done 768 out of 768 | elapsed:    0.2s finished\n"
     ]
    },
    {
     "name": "stdout",
     "output_type": "stream",
     "text": [
      "    Found the data of interest:\n",
      "        t =   -2000.00 ...    1995.00 ms\n",
      "        0 CTF compensation matrices available\n",
      "Not setting metadata\n",
      "419 matching events found\n",
      "No baseline correction applied\n",
      "0 projection items activated\n",
      "Applying baseline correction (mode: mean)\n",
      "[0, 3, 4, 7, 9, 11, 12, 14, 16, 20, 22, 23]\n",
      "Overwriting existing file.\n",
      "Setting up low-pass filter at 30 Hz\n",
      "\n",
      "FIR filter parameters\n",
      "---------------------\n",
      "Designing a one-pass, zero-phase, non-causal lowpass filter:\n",
      "- Windowed time-domain design (firwin) method\n",
      "- Hamming window with 0.0194 passband ripple and 53 dB stopband attenuation\n",
      "- Upper passband edge: 30.00 Hz\n",
      "- Upper transition bandwidth: 7.50 Hz (-6 dB cutoff frequency: 33.75 Hz)\n",
      "- Filter length: 89 samples (0.445 sec)\n",
      "\n"
     ]
    },
    {
     "name": "stderr",
     "output_type": "stream",
     "text": [
      "[Parallel(n_jobs=1)]: Using backend SequentialBackend with 1 concurrent workers.\n",
      "[Parallel(n_jobs=1)]: Done   1 out of   1 | elapsed:    0.0s remaining:    0.0s\n",
      "[Parallel(n_jobs=1)]: Done   2 out of   2 | elapsed:    0.0s remaining:    0.0s\n",
      "[Parallel(n_jobs=1)]: Done   3 out of   3 | elapsed:    0.0s remaining:    0.0s\n",
      "[Parallel(n_jobs=1)]: Done   4 out of   4 | elapsed:    0.0s remaining:    0.0s\n"
     ]
    },
    {
     "name": "stdout",
     "output_type": "stream",
     "text": [
      "Overwriting existing file.\n",
      "[27, 28, 29, 30, 32, 33, 37, 38, 39, 42, 45, 47]\n",
      "Overwriting existing file.\n",
      "Setting up low-pass filter at 30 Hz\n",
      "\n",
      "FIR filter parameters\n",
      "---------------------\n",
      "Designing a one-pass, zero-phase, non-causal lowpass filter:\n",
      "- Windowed time-domain design (firwin) method\n",
      "- Hamming window with 0.0194 passband ripple and 53 dB stopband attenuation\n",
      "- Upper passband edge: 30.00 Hz\n",
      "- Upper transition bandwidth: 7.50 Hz (-6 dB cutoff frequency: 33.75 Hz)\n",
      "- Filter length: 89 samples (0.445 sec)\n",
      "\n"
     ]
    },
    {
     "name": "stderr",
     "output_type": "stream",
     "text": [
      "[Parallel(n_jobs=1)]: Done 768 out of 768 | elapsed:    0.2s finished\n",
      "[Parallel(n_jobs=1)]: Using backend SequentialBackend with 1 concurrent workers.\n",
      "[Parallel(n_jobs=1)]: Done   1 out of   1 | elapsed:    0.0s remaining:    0.0s\n",
      "[Parallel(n_jobs=1)]: Done   2 out of   2 | elapsed:    0.0s remaining:    0.0s\n",
      "[Parallel(n_jobs=1)]: Done   3 out of   3 | elapsed:    0.0s remaining:    0.0s\n",
      "[Parallel(n_jobs=1)]: Done   4 out of   4 | elapsed:    0.0s remaining:    0.0s\n"
     ]
    },
    {
     "name": "stdout",
     "output_type": "stream",
     "text": [
      "Overwriting existing file.\n",
      "[1, 2, 5, 6, 8, 10, 13, 15, 17, 18, 19, 21]\n",
      "Overwriting existing file.\n",
      "Setting up low-pass filter at 30 Hz\n",
      "\n",
      "FIR filter parameters\n",
      "---------------------\n",
      "Designing a one-pass, zero-phase, non-causal lowpass filter:\n",
      "- Windowed time-domain design (firwin) method\n",
      "- Hamming window with 0.0194 passband ripple and 53 dB stopband attenuation\n",
      "- Upper passband edge: 30.00 Hz\n",
      "- Upper transition bandwidth: 7.50 Hz (-6 dB cutoff frequency: 33.75 Hz)\n",
      "- Filter length: 89 samples (0.445 sec)\n",
      "\n"
     ]
    },
    {
     "name": "stderr",
     "output_type": "stream",
     "text": [
      "[Parallel(n_jobs=1)]: Done 768 out of 768 | elapsed:    0.2s finished\n",
      "[Parallel(n_jobs=1)]: Using backend SequentialBackend with 1 concurrent workers.\n",
      "[Parallel(n_jobs=1)]: Done   1 out of   1 | elapsed:    0.0s remaining:    0.0s\n",
      "[Parallel(n_jobs=1)]: Done   2 out of   2 | elapsed:    0.0s remaining:    0.0s\n",
      "[Parallel(n_jobs=1)]: Done   3 out of   3 | elapsed:    0.0s remaining:    0.0s\n",
      "[Parallel(n_jobs=1)]: Done   4 out of   4 | elapsed:    0.0s remaining:    0.0s\n"
     ]
    },
    {
     "name": "stdout",
     "output_type": "stream",
     "text": [
      "Overwriting existing file.\n",
      "[24, 25, 26, 31, 34, 35, 36, 40, 41, 43, 44, 46]\n",
      "Overwriting existing file.\n",
      "Setting up low-pass filter at 30 Hz\n",
      "\n",
      "FIR filter parameters\n",
      "---------------------\n",
      "Designing a one-pass, zero-phase, non-causal lowpass filter:\n",
      "- Windowed time-domain design (firwin) method\n",
      "- Hamming window with 0.0194 passband ripple and 53 dB stopband attenuation\n",
      "- Upper passband edge: 30.00 Hz\n",
      "- Upper transition bandwidth: 7.50 Hz (-6 dB cutoff frequency: 33.75 Hz)\n",
      "- Filter length: 89 samples (0.445 sec)\n",
      "\n"
     ]
    },
    {
     "name": "stderr",
     "output_type": "stream",
     "text": [
      "[Parallel(n_jobs=1)]: Done 768 out of 768 | elapsed:    0.2s finished\n",
      "[Parallel(n_jobs=1)]: Using backend SequentialBackend with 1 concurrent workers.\n",
      "[Parallel(n_jobs=1)]: Done   1 out of   1 | elapsed:    0.0s remaining:    0.0s\n",
      "[Parallel(n_jobs=1)]: Done   2 out of   2 | elapsed:    0.0s remaining:    0.0s\n",
      "[Parallel(n_jobs=1)]: Done   3 out of   3 | elapsed:    0.0s remaining:    0.0s\n",
      "[Parallel(n_jobs=1)]: Done   4 out of   4 | elapsed:    0.0s remaining:    0.0s\n"
     ]
    },
    {
     "name": "stdout",
     "output_type": "stream",
     "text": [
      "Overwriting existing file.\n",
      "Reading F:\\Documents\\Science\\MirRevAdaptEEG\\data\\eeg\\p020\\lrp\\mra_p020_run0-epo.fif ...\n"
     ]
    },
    {
     "name": "stderr",
     "output_type": "stream",
     "text": [
      "[Parallel(n_jobs=1)]: Done 768 out of 768 | elapsed:    0.2s finished\n"
     ]
    },
    {
     "name": "stdout",
     "output_type": "stream",
     "text": [
      "    Found the data of interest:\n",
      "        t =   -2000.00 ...    1995.00 ms\n",
      "        0 CTF compensation matrices available\n",
      "Not setting metadata\n",
      "420 matching events found\n",
      "No baseline correction applied\n",
      "0 projection items activated\n",
      "Applying baseline correction (mode: mean)\n",
      "Reading F:\\Documents\\Science\\MirRevAdaptEEG\\data\\eeg\\p021\\lrp\\mra_p021_run0-epo.fif ...\n",
      "    Found the data of interest:\n",
      "        t =   -2000.00 ...    1995.00 ms\n",
      "        0 CTF compensation matrices available\n",
      "Not setting metadata\n",
      "419 matching events found\n",
      "No baseline correction applied\n",
      "0 projection items activated\n",
      "Applying baseline correction (mode: mean)\n",
      "Reading F:\\Documents\\Science\\MirRevAdaptEEG\\data\\eeg\\p022\\lrp\\mra_p022_run0-epo.fif ...\n",
      "    Found the data of interest:\n",
      "        t =   -2000.00 ...    1995.00 ms\n",
      "        0 CTF compensation matrices available\n",
      "Not setting metadata\n",
      "420 matching events found\n",
      "No baseline correction applied\n",
      "0 projection items activated\n",
      "Applying baseline correction (mode: mean)\n",
      "Reading F:\\Documents\\Science\\MirRevAdaptEEG\\data\\eeg\\p023\\lrp\\mra_p023_run0-epo.fif ...\n",
      "    Found the data of interest:\n",
      "        t =   -2000.00 ...    1995.00 ms\n",
      "        0 CTF compensation matrices available\n",
      "Not setting metadata\n",
      "420 matching events found\n",
      "No baseline correction applied\n",
      "0 projection items activated\n",
      "Applying baseline correction (mode: mean)\n",
      "Reading F:\\Documents\\Science\\MirRevAdaptEEG\\data\\eeg\\p024\\lrp\\mra_p024_run0-epo.fif ...\n",
      "    Found the data of interest:\n",
      "        t =   -2000.00 ...    1995.00 ms\n",
      "        0 CTF compensation matrices available\n",
      "Not setting metadata\n",
      "420 matching events found\n",
      "No baseline correction applied\n",
      "0 projection items activated\n",
      "Applying baseline correction (mode: mean)\n",
      "[2, 3, 4, 6, 7, 9, 12, 13, 17, 20, 21, 23]\n",
      "Overwriting existing file.\n",
      "Setting up low-pass filter at 30 Hz\n",
      "\n",
      "FIR filter parameters\n",
      "---------------------\n",
      "Designing a one-pass, zero-phase, non-causal lowpass filter:\n",
      "- Windowed time-domain design (firwin) method\n",
      "- Hamming window with 0.0194 passband ripple and 53 dB stopband attenuation\n",
      "- Upper passband edge: 30.00 Hz\n",
      "- Upper transition bandwidth: 7.50 Hz (-6 dB cutoff frequency: 33.75 Hz)\n",
      "- Filter length: 89 samples (0.445 sec)\n",
      "\n"
     ]
    },
    {
     "name": "stderr",
     "output_type": "stream",
     "text": [
      "[Parallel(n_jobs=1)]: Using backend SequentialBackend with 1 concurrent workers.\n",
      "[Parallel(n_jobs=1)]: Done   1 out of   1 | elapsed:    0.0s remaining:    0.0s\n",
      "[Parallel(n_jobs=1)]: Done   2 out of   2 | elapsed:    0.0s remaining:    0.0s\n",
      "[Parallel(n_jobs=1)]: Done   3 out of   3 | elapsed:    0.0s remaining:    0.0s\n",
      "[Parallel(n_jobs=1)]: Done   4 out of   4 | elapsed:    0.0s remaining:    0.0s\n"
     ]
    },
    {
     "name": "stdout",
     "output_type": "stream",
     "text": [
      "Overwriting existing file.\n",
      "[24, 25, 28, 30, 33, 35, 38, 40, 41, 45, 46, 47]\n",
      "Overwriting existing file.\n",
      "Setting up low-pass filter at 30 Hz\n",
      "\n",
      "FIR filter parameters\n",
      "---------------------\n",
      "Designing a one-pass, zero-phase, non-causal lowpass filter:\n",
      "- Windowed time-domain design (firwin) method\n",
      "- Hamming window with 0.0194 passband ripple and 53 dB stopband attenuation\n",
      "- Upper passband edge: 30.00 Hz\n",
      "- Upper transition bandwidth: 7.50 Hz (-6 dB cutoff frequency: 33.75 Hz)\n",
      "- Filter length: 89 samples (0.445 sec)\n",
      "\n"
     ]
    },
    {
     "name": "stderr",
     "output_type": "stream",
     "text": [
      "[Parallel(n_jobs=1)]: Done 768 out of 768 | elapsed:    0.2s finished\n",
      "[Parallel(n_jobs=1)]: Using backend SequentialBackend with 1 concurrent workers.\n",
      "[Parallel(n_jobs=1)]: Done   1 out of   1 | elapsed:    0.0s remaining:    0.0s\n",
      "[Parallel(n_jobs=1)]: Done   2 out of   2 | elapsed:    0.0s remaining:    0.0s\n",
      "[Parallel(n_jobs=1)]: Done   3 out of   3 | elapsed:    0.0s remaining:    0.0s\n",
      "[Parallel(n_jobs=1)]: Done   4 out of   4 | elapsed:    0.0s remaining:    0.0s\n"
     ]
    },
    {
     "name": "stdout",
     "output_type": "stream",
     "text": [
      "Overwriting existing file.\n",
      "[0, 1, 5, 8, 10, 11, 14, 15, 16, 18, 19, 22]\n",
      "Overwriting existing file.\n",
      "Setting up low-pass filter at 30 Hz\n",
      "\n",
      "FIR filter parameters\n",
      "---------------------\n",
      "Designing a one-pass, zero-phase, non-causal lowpass filter:\n",
      "- Windowed time-domain design (firwin) method\n",
      "- Hamming window with 0.0194 passband ripple and 53 dB stopband attenuation\n",
      "- Upper passband edge: 30.00 Hz\n",
      "- Upper transition bandwidth: 7.50 Hz (-6 dB cutoff frequency: 33.75 Hz)\n",
      "- Filter length: 89 samples (0.445 sec)\n",
      "\n"
     ]
    },
    {
     "name": "stderr",
     "output_type": "stream",
     "text": [
      "[Parallel(n_jobs=1)]: Done 768 out of 768 | elapsed:    0.2s finished\n",
      "[Parallel(n_jobs=1)]: Using backend SequentialBackend with 1 concurrent workers.\n",
      "[Parallel(n_jobs=1)]: Done   1 out of   1 | elapsed:    0.0s remaining:    0.0s\n",
      "[Parallel(n_jobs=1)]: Done   2 out of   2 | elapsed:    0.0s remaining:    0.0s\n",
      "[Parallel(n_jobs=1)]: Done   3 out of   3 | elapsed:    0.0s remaining:    0.0s\n",
      "[Parallel(n_jobs=1)]: Done   4 out of   4 | elapsed:    0.0s remaining:    0.0s\n"
     ]
    },
    {
     "name": "stdout",
     "output_type": "stream",
     "text": [
      "Overwriting existing file.\n",
      "[26, 27, 29, 31, 32, 34, 36, 37, 39, 42, 43, 44]\n",
      "Overwriting existing file.\n",
      "Setting up low-pass filter at 30 Hz\n",
      "\n",
      "FIR filter parameters\n",
      "---------------------\n",
      "Designing a one-pass, zero-phase, non-causal lowpass filter:\n",
      "- Windowed time-domain design (firwin) method\n",
      "- Hamming window with 0.0194 passband ripple and 53 dB stopband attenuation\n",
      "- Upper passband edge: 30.00 Hz\n",
      "- Upper transition bandwidth: 7.50 Hz (-6 dB cutoff frequency: 33.75 Hz)\n",
      "- Filter length: 89 samples (0.445 sec)\n",
      "\n"
     ]
    },
    {
     "name": "stderr",
     "output_type": "stream",
     "text": [
      "[Parallel(n_jobs=1)]: Done 768 out of 768 | elapsed:    0.2s finished\n",
      "[Parallel(n_jobs=1)]: Using backend SequentialBackend with 1 concurrent workers.\n",
      "[Parallel(n_jobs=1)]: Done   1 out of   1 | elapsed:    0.0s remaining:    0.0s\n",
      "[Parallel(n_jobs=1)]: Done   2 out of   2 | elapsed:    0.0s remaining:    0.0s\n",
      "[Parallel(n_jobs=1)]: Done   3 out of   3 | elapsed:    0.0s remaining:    0.0s\n",
      "[Parallel(n_jobs=1)]: Done   4 out of   4 | elapsed:    0.0s remaining:    0.0s\n"
     ]
    },
    {
     "name": "stdout",
     "output_type": "stream",
     "text": [
      "Overwriting existing file.\n",
      "Reading F:\\Documents\\Science\\MirRevAdaptEEG\\data\\eeg\\p025\\lrp\\mra_p025_run0-epo.fif ...\n",
      "    Found the data of interest:\n",
      "        t =   -2000.00 ...    1995.00 ms\n",
      "        0 CTF compensation matrices available\n",
      "Not setting metadata\n"
     ]
    },
    {
     "name": "stderr",
     "output_type": "stream",
     "text": [
      "[Parallel(n_jobs=1)]: Done 768 out of 768 | elapsed:    0.2s finished\n"
     ]
    },
    {
     "name": "stdout",
     "output_type": "stream",
     "text": [
      "420 matching events found\n",
      "No baseline correction applied\n",
      "0 projection items activated\n",
      "Applying baseline correction (mode: mean)\n",
      "[0, 1, 4, 5, 6, 7, 11, 12, 14, 15, 18, 22, 23]\n",
      "Overwriting existing file.\n",
      "Setting up low-pass filter at 30 Hz\n",
      "\n",
      "FIR filter parameters\n",
      "---------------------\n",
      "Designing a one-pass, zero-phase, non-causal lowpass filter:\n",
      "- Windowed time-domain design (firwin) method\n",
      "- Hamming window with 0.0194 passband ripple and 53 dB stopband attenuation\n",
      "- Upper passband edge: 30.00 Hz\n",
      "- Upper transition bandwidth: 7.50 Hz (-6 dB cutoff frequency: 33.75 Hz)\n",
      "- Filter length: 89 samples (0.445 sec)\n",
      "\n"
     ]
    },
    {
     "name": "stderr",
     "output_type": "stream",
     "text": [
      "[Parallel(n_jobs=1)]: Using backend SequentialBackend with 1 concurrent workers.\n",
      "[Parallel(n_jobs=1)]: Done   1 out of   1 | elapsed:    0.0s remaining:    0.0s\n",
      "[Parallel(n_jobs=1)]: Done   2 out of   2 | elapsed:    0.0s remaining:    0.0s\n",
      "[Parallel(n_jobs=1)]: Done   3 out of   3 | elapsed:    0.0s remaining:    0.0s\n",
      "[Parallel(n_jobs=1)]: Done   4 out of   4 | elapsed:    0.0s remaining:    0.0s\n"
     ]
    },
    {
     "name": "stdout",
     "output_type": "stream",
     "text": [
      "Overwriting existing file.\n",
      "[24, 25, 28, 32, 33, 34, 37, 38, 40, 43, 46, 47]\n",
      "Overwriting existing file.\n",
      "Setting up low-pass filter at 30 Hz\n",
      "\n",
      "FIR filter parameters\n",
      "---------------------\n",
      "Designing a one-pass, zero-phase, non-causal lowpass filter:\n",
      "- Windowed time-domain design (firwin) method\n",
      "- Hamming window with 0.0194 passband ripple and 53 dB stopband attenuation\n",
      "- Upper passband edge: 30.00 Hz\n",
      "- Upper transition bandwidth: 7.50 Hz (-6 dB cutoff frequency: 33.75 Hz)\n",
      "- Filter length: 89 samples (0.445 sec)\n",
      "\n"
     ]
    },
    {
     "name": "stderr",
     "output_type": "stream",
     "text": [
      "[Parallel(n_jobs=1)]: Done 832 out of 832 | elapsed:    0.2s finished\n",
      "[Parallel(n_jobs=1)]: Using backend SequentialBackend with 1 concurrent workers.\n",
      "[Parallel(n_jobs=1)]: Done   1 out of   1 | elapsed:    0.0s remaining:    0.0s\n",
      "[Parallel(n_jobs=1)]: Done   2 out of   2 | elapsed:    0.0s remaining:    0.0s\n",
      "[Parallel(n_jobs=1)]: Done   3 out of   3 | elapsed:    0.0s remaining:    0.0s\n",
      "[Parallel(n_jobs=1)]: Done   4 out of   4 | elapsed:    0.0s remaining:    0.0s\n"
     ]
    },
    {
     "name": "stdout",
     "output_type": "stream",
     "text": [
      "Overwriting existing file.\n",
      "[2, 3, 8, 9, 10, 13, 16, 17, 19, 20, 21]\n",
      "Overwriting existing file.\n",
      "Setting up low-pass filter at 30 Hz\n",
      "\n",
      "FIR filter parameters\n",
      "---------------------\n",
      "Designing a one-pass, zero-phase, non-causal lowpass filter:\n",
      "- Windowed time-domain design (firwin) method\n",
      "- Hamming window with 0.0194 passband ripple and 53 dB stopband attenuation\n",
      "- Upper passband edge: 30.00 Hz\n",
      "- Upper transition bandwidth: 7.50 Hz (-6 dB cutoff frequency: 33.75 Hz)\n",
      "- Filter length: 89 samples (0.445 sec)\n",
      "\n"
     ]
    },
    {
     "name": "stderr",
     "output_type": "stream",
     "text": [
      "[Parallel(n_jobs=1)]: Done 768 out of 768 | elapsed:    0.2s finished\n",
      "[Parallel(n_jobs=1)]: Using backend SequentialBackend with 1 concurrent workers.\n",
      "[Parallel(n_jobs=1)]: Done   1 out of   1 | elapsed:    0.0s remaining:    0.0s\n",
      "[Parallel(n_jobs=1)]: Done   2 out of   2 | elapsed:    0.0s remaining:    0.0s\n",
      "[Parallel(n_jobs=1)]: Done   3 out of   3 | elapsed:    0.0s remaining:    0.0s\n",
      "[Parallel(n_jobs=1)]: Done   4 out of   4 | elapsed:    0.0s remaining:    0.0s\n"
     ]
    },
    {
     "name": "stdout",
     "output_type": "stream",
     "text": [
      "Overwriting existing file.\n",
      "[26, 27, 29, 30, 31, 35, 36, 39, 41, 42, 44, 45]\n",
      "Overwriting existing file.\n",
      "Setting up low-pass filter at 30 Hz\n",
      "\n",
      "FIR filter parameters\n",
      "---------------------\n",
      "Designing a one-pass, zero-phase, non-causal lowpass filter:\n",
      "- Windowed time-domain design (firwin) method\n",
      "- Hamming window with 0.0194 passband ripple and 53 dB stopband attenuation\n",
      "- Upper passband edge: 30.00 Hz\n",
      "- Upper transition bandwidth: 7.50 Hz (-6 dB cutoff frequency: 33.75 Hz)\n",
      "- Filter length: 89 samples (0.445 sec)\n",
      "\n"
     ]
    },
    {
     "name": "stderr",
     "output_type": "stream",
     "text": [
      "[Parallel(n_jobs=1)]: Done 704 out of 704 | elapsed:    0.1s finished\n",
      "[Parallel(n_jobs=1)]: Using backend SequentialBackend with 1 concurrent workers.\n",
      "[Parallel(n_jobs=1)]: Done   1 out of   1 | elapsed:    0.0s remaining:    0.0s\n",
      "[Parallel(n_jobs=1)]: Done   2 out of   2 | elapsed:    0.0s remaining:    0.0s\n",
      "[Parallel(n_jobs=1)]: Done   3 out of   3 | elapsed:    0.0s remaining:    0.0s\n",
      "[Parallel(n_jobs=1)]: Done   4 out of   4 | elapsed:    0.0s remaining:    0.0s\n"
     ]
    },
    {
     "name": "stdout",
     "output_type": "stream",
     "text": [
      "Overwriting existing file.\n",
      "Reading F:\\Documents\\Science\\MirRevAdaptEEG\\data\\eeg\\p026\\lrp\\mra_p026_run0-epo.fif ...\n",
      "    Found the data of interest:\n",
      "        t =   -2000.00 ...    1995.00 ms\n",
      "        0 CTF compensation matrices available\n",
      "Not setting metadata\n"
     ]
    },
    {
     "name": "stderr",
     "output_type": "stream",
     "text": [
      "[Parallel(n_jobs=1)]: Done 768 out of 768 | elapsed:    0.2s finished\n"
     ]
    },
    {
     "name": "stdout",
     "output_type": "stream",
     "text": [
      "420 matching events found\n",
      "No baseline correction applied\n",
      "0 projection items activated\n",
      "Applying baseline correction (mode: mean)\n",
      "[2, 4, 5, 7, 9, 10, 13, 15, 17, 18, 19, 22]\n",
      "Overwriting existing file.\n",
      "Setting up low-pass filter at 30 Hz\n",
      "\n",
      "FIR filter parameters\n",
      "---------------------\n",
      "Designing a one-pass, zero-phase, non-causal lowpass filter:\n",
      "- Windowed time-domain design (firwin) method\n",
      "- Hamming window with 0.0194 passband ripple and 53 dB stopband attenuation\n",
      "- Upper passband edge: 30.00 Hz\n",
      "- Upper transition bandwidth: 7.50 Hz (-6 dB cutoff frequency: 33.75 Hz)\n",
      "- Filter length: 89 samples (0.445 sec)\n",
      "\n"
     ]
    },
    {
     "name": "stderr",
     "output_type": "stream",
     "text": [
      "[Parallel(n_jobs=1)]: Using backend SequentialBackend with 1 concurrent workers.\n",
      "[Parallel(n_jobs=1)]: Done   1 out of   1 | elapsed:    0.0s remaining:    0.0s\n",
      "[Parallel(n_jobs=1)]: Done   2 out of   2 | elapsed:    0.0s remaining:    0.0s\n",
      "[Parallel(n_jobs=1)]: Done   3 out of   3 | elapsed:    0.0s remaining:    0.0s\n",
      "[Parallel(n_jobs=1)]: Done   4 out of   4 | elapsed:    0.0s remaining:    0.0s\n"
     ]
    },
    {
     "name": "stdout",
     "output_type": "stream",
     "text": [
      "Overwriting existing file.\n",
      "[25, 26, 29, 30, 34, 35, 38, 40, 41, 43, 44, 47]\n",
      "Overwriting existing file.\n",
      "Setting up low-pass filter at 30 Hz\n",
      "\n",
      "FIR filter parameters\n",
      "---------------------\n",
      "Designing a one-pass, zero-phase, non-causal lowpass filter:\n",
      "- Windowed time-domain design (firwin) method\n",
      "- Hamming window with 0.0194 passband ripple and 53 dB stopband attenuation\n",
      "- Upper passband edge: 30.00 Hz\n",
      "- Upper transition bandwidth: 7.50 Hz (-6 dB cutoff frequency: 33.75 Hz)\n",
      "- Filter length: 89 samples (0.445 sec)\n",
      "\n"
     ]
    },
    {
     "name": "stderr",
     "output_type": "stream",
     "text": [
      "[Parallel(n_jobs=1)]: Done 768 out of 768 | elapsed:    0.2s finished\n",
      "[Parallel(n_jobs=1)]: Using backend SequentialBackend with 1 concurrent workers.\n",
      "[Parallel(n_jobs=1)]: Done   1 out of   1 | elapsed:    0.0s remaining:    0.0s\n",
      "[Parallel(n_jobs=1)]: Done   2 out of   2 | elapsed:    0.0s remaining:    0.0s\n",
      "[Parallel(n_jobs=1)]: Done   3 out of   3 | elapsed:    0.0s remaining:    0.0s\n",
      "[Parallel(n_jobs=1)]: Done   4 out of   4 | elapsed:    0.0s remaining:    0.0s\n"
     ]
    },
    {
     "name": "stdout",
     "output_type": "stream",
     "text": [
      "Overwriting existing file.\n",
      "[0, 1, 3, 6, 8, 11, 12, 14, 16, 20, 21, 23]\n",
      "Overwriting existing file.\n",
      "Setting up low-pass filter at 30 Hz\n",
      "\n",
      "FIR filter parameters\n",
      "---------------------\n",
      "Designing a one-pass, zero-phase, non-causal lowpass filter:\n",
      "- Windowed time-domain design (firwin) method\n",
      "- Hamming window with 0.0194 passband ripple and 53 dB stopband attenuation\n",
      "- Upper passband edge: 30.00 Hz\n",
      "- Upper transition bandwidth: 7.50 Hz (-6 dB cutoff frequency: 33.75 Hz)\n",
      "- Filter length: 89 samples (0.445 sec)\n",
      "\n"
     ]
    },
    {
     "name": "stderr",
     "output_type": "stream",
     "text": [
      "[Parallel(n_jobs=1)]: Done 768 out of 768 | elapsed:    0.2s finished\n",
      "[Parallel(n_jobs=1)]: Using backend SequentialBackend with 1 concurrent workers.\n",
      "[Parallel(n_jobs=1)]: Done   1 out of   1 | elapsed:    0.0s remaining:    0.0s\n",
      "[Parallel(n_jobs=1)]: Done   2 out of   2 | elapsed:    0.0s remaining:    0.0s\n",
      "[Parallel(n_jobs=1)]: Done   3 out of   3 | elapsed:    0.0s remaining:    0.0s\n",
      "[Parallel(n_jobs=1)]: Done   4 out of   4 | elapsed:    0.0s remaining:    0.0s\n"
     ]
    },
    {
     "name": "stdout",
     "output_type": "stream",
     "text": [
      "Overwriting existing file.\n",
      "[24, 27, 28, 31, 32, 33, 36, 37, 39, 42, 45, 46]\n",
      "Overwriting existing file.\n",
      "Setting up low-pass filter at 30 Hz\n",
      "\n",
      "FIR filter parameters\n",
      "---------------------\n",
      "Designing a one-pass, zero-phase, non-causal lowpass filter:\n",
      "- Windowed time-domain design (firwin) method\n",
      "- Hamming window with 0.0194 passband ripple and 53 dB stopband attenuation\n",
      "- Upper passband edge: 30.00 Hz\n",
      "- Upper transition bandwidth: 7.50 Hz (-6 dB cutoff frequency: 33.75 Hz)\n",
      "- Filter length: 89 samples (0.445 sec)\n",
      "\n"
     ]
    },
    {
     "name": "stderr",
     "output_type": "stream",
     "text": [
      "[Parallel(n_jobs=1)]: Done 768 out of 768 | elapsed:    0.2s finished\n",
      "[Parallel(n_jobs=1)]: Using backend SequentialBackend with 1 concurrent workers.\n",
      "[Parallel(n_jobs=1)]: Done   1 out of   1 | elapsed:    0.0s remaining:    0.0s\n",
      "[Parallel(n_jobs=1)]: Done   2 out of   2 | elapsed:    0.0s remaining:    0.0s\n",
      "[Parallel(n_jobs=1)]: Done   3 out of   3 | elapsed:    0.0s remaining:    0.0s\n",
      "[Parallel(n_jobs=1)]: Done   4 out of   4 | elapsed:    0.0s remaining:    0.0s\n"
     ]
    },
    {
     "name": "stdout",
     "output_type": "stream",
     "text": [
      "Overwriting existing file.\n",
      "Reading F:\\Documents\\Science\\MirRevAdaptEEG\\data\\eeg\\p027\\lrp\\mra_p027_run0-epo.fif ...\n",
      "    Found the data of interest:\n",
      "        t =   -2000.00 ...    1995.00 ms\n",
      "        0 CTF compensation matrices available\n",
      "Not setting metadata\n"
     ]
    },
    {
     "name": "stderr",
     "output_type": "stream",
     "text": [
      "[Parallel(n_jobs=1)]: Done 768 out of 768 | elapsed:    0.2s finished\n"
     ]
    },
    {
     "name": "stdout",
     "output_type": "stream",
     "text": [
      "419 matching events found\n",
      "No baseline correction applied\n",
      "0 projection items activated\n",
      "Applying baseline correction (mode: mean)\n",
      "[2, 4, 5, 6, 8, 9, 12, 14, 15, 19, 20, 23]\n",
      "Overwriting existing file.\n",
      "Setting up low-pass filter at 30 Hz\n",
      "\n",
      "FIR filter parameters\n",
      "---------------------\n",
      "Designing a one-pass, zero-phase, non-causal lowpass filter:\n",
      "- Windowed time-domain design (firwin) method\n",
      "- Hamming window with 0.0194 passband ripple and 53 dB stopband attenuation\n",
      "- Upper passband edge: 30.00 Hz\n",
      "- Upper transition bandwidth: 7.50 Hz (-6 dB cutoff frequency: 33.75 Hz)\n",
      "- Filter length: 89 samples (0.445 sec)\n",
      "\n"
     ]
    },
    {
     "name": "stderr",
     "output_type": "stream",
     "text": [
      "[Parallel(n_jobs=1)]: Using backend SequentialBackend with 1 concurrent workers.\n",
      "[Parallel(n_jobs=1)]: Done   1 out of   1 | elapsed:    0.0s remaining:    0.0s\n",
      "[Parallel(n_jobs=1)]: Done   2 out of   2 | elapsed:    0.0s remaining:    0.0s\n",
      "[Parallel(n_jobs=1)]: Done   3 out of   3 | elapsed:    0.0s remaining:    0.0s\n",
      "[Parallel(n_jobs=1)]: Done   4 out of   4 | elapsed:    0.0s remaining:    0.0s\n"
     ]
    },
    {
     "name": "stdout",
     "output_type": "stream",
     "text": [
      "Overwriting existing file.\n",
      "[24, 26, 28, 31, 33, 35, 36, 37, 38, 42, 46, 47]\n",
      "Overwriting existing file.\n",
      "Setting up low-pass filter at 30 Hz\n",
      "\n",
      "FIR filter parameters\n",
      "---------------------\n",
      "Designing a one-pass, zero-phase, non-causal lowpass filter:\n",
      "- Windowed time-domain design (firwin) method\n",
      "- Hamming window with 0.0194 passband ripple and 53 dB stopband attenuation\n",
      "- Upper passband edge: 30.00 Hz\n",
      "- Upper transition bandwidth: 7.50 Hz (-6 dB cutoff frequency: 33.75 Hz)\n",
      "- Filter length: 89 samples (0.445 sec)\n",
      "\n"
     ]
    },
    {
     "name": "stderr",
     "output_type": "stream",
     "text": [
      "[Parallel(n_jobs=1)]: Done 768 out of 768 | elapsed:    0.2s finished\n",
      "[Parallel(n_jobs=1)]: Using backend SequentialBackend with 1 concurrent workers.\n",
      "[Parallel(n_jobs=1)]: Done   1 out of   1 | elapsed:    0.0s remaining:    0.0s\n",
      "[Parallel(n_jobs=1)]: Done   2 out of   2 | elapsed:    0.0s remaining:    0.0s\n",
      "[Parallel(n_jobs=1)]: Done   3 out of   3 | elapsed:    0.0s remaining:    0.0s\n",
      "[Parallel(n_jobs=1)]: Done   4 out of   4 | elapsed:    0.0s remaining:    0.0s\n"
     ]
    },
    {
     "name": "stdout",
     "output_type": "stream",
     "text": [
      "Overwriting existing file.\n",
      "[0, 1, 3, 7, 10, 11, 13, 16, 17, 18, 21, 22]\n",
      "Overwriting existing file.\n",
      "Setting up low-pass filter at 30 Hz\n",
      "\n",
      "FIR filter parameters\n",
      "---------------------\n",
      "Designing a one-pass, zero-phase, non-causal lowpass filter:\n",
      "- Windowed time-domain design (firwin) method\n",
      "- Hamming window with 0.0194 passband ripple and 53 dB stopband attenuation\n",
      "- Upper passband edge: 30.00 Hz\n",
      "- Upper transition bandwidth: 7.50 Hz (-6 dB cutoff frequency: 33.75 Hz)\n",
      "- Filter length: 89 samples (0.445 sec)\n",
      "\n"
     ]
    },
    {
     "name": "stderr",
     "output_type": "stream",
     "text": [
      "[Parallel(n_jobs=1)]: Done 768 out of 768 | elapsed:    0.2s finished\n",
      "[Parallel(n_jobs=1)]: Using backend SequentialBackend with 1 concurrent workers.\n",
      "[Parallel(n_jobs=1)]: Done   1 out of   1 | elapsed:    0.0s remaining:    0.0s\n",
      "[Parallel(n_jobs=1)]: Done   2 out of   2 | elapsed:    0.0s remaining:    0.0s\n",
      "[Parallel(n_jobs=1)]: Done   3 out of   3 | elapsed:    0.0s remaining:    0.0s\n",
      "[Parallel(n_jobs=1)]: Done   4 out of   4 | elapsed:    0.0s remaining:    0.0s\n"
     ]
    },
    {
     "name": "stdout",
     "output_type": "stream",
     "text": [
      "Overwriting existing file.\n",
      "[25, 27, 29, 30, 32, 34, 39, 40, 41, 43, 44, 45]\n",
      "Overwriting existing file.\n",
      "Setting up low-pass filter at 30 Hz\n",
      "\n",
      "FIR filter parameters\n",
      "---------------------\n",
      "Designing a one-pass, zero-phase, non-causal lowpass filter:\n",
      "- Windowed time-domain design (firwin) method\n",
      "- Hamming window with 0.0194 passband ripple and 53 dB stopband attenuation\n",
      "- Upper passband edge: 30.00 Hz\n",
      "- Upper transition bandwidth: 7.50 Hz (-6 dB cutoff frequency: 33.75 Hz)\n",
      "- Filter length: 89 samples (0.445 sec)\n",
      "\n"
     ]
    },
    {
     "name": "stderr",
     "output_type": "stream",
     "text": [
      "[Parallel(n_jobs=1)]: Done 768 out of 768 | elapsed:    0.2s finished\n",
      "[Parallel(n_jobs=1)]: Using backend SequentialBackend with 1 concurrent workers.\n",
      "[Parallel(n_jobs=1)]: Done   1 out of   1 | elapsed:    0.0s remaining:    0.0s\n",
      "[Parallel(n_jobs=1)]: Done   2 out of   2 | elapsed:    0.0s remaining:    0.0s\n",
      "[Parallel(n_jobs=1)]: Done   3 out of   3 | elapsed:    0.0s remaining:    0.0s\n",
      "[Parallel(n_jobs=1)]: Done   4 out of   4 | elapsed:    0.0s remaining:    0.0s\n"
     ]
    },
    {
     "name": "stdout",
     "output_type": "stream",
     "text": [
      "Overwriting existing file.\n",
      "Reading F:\\Documents\\Science\\MirRevAdaptEEG\\data\\eeg\\p028\\lrp\\mra_p028_run0-epo.fif ...\n",
      "    Found the data of interest:\n",
      "        t =   -2000.00 ...    1995.00 ms\n",
      "        0 CTF compensation matrices available\n"
     ]
    },
    {
     "name": "stderr",
     "output_type": "stream",
     "text": [
      "[Parallel(n_jobs=1)]: Done 768 out of 768 | elapsed:    0.2s finished\n"
     ]
    },
    {
     "name": "stdout",
     "output_type": "stream",
     "text": [
      "Not setting metadata\n",
      "420 matching events found\n",
      "No baseline correction applied\n",
      "0 projection items activated\n",
      "Applying baseline correction (mode: mean)\n",
      "Reading F:\\Documents\\Science\\MirRevAdaptEEG\\data\\eeg\\p029\\lrp\\mra_p029_run0-epo.fif ...\n",
      "    Found the data of interest:\n",
      "        t =   -2000.00 ...    1995.00 ms\n",
      "        0 CTF compensation matrices available\n",
      "Not setting metadata\n",
      "420 matching events found\n",
      "No baseline correction applied\n",
      "0 projection items activated\n",
      "Applying baseline correction (mode: mean)\n",
      "Reading F:\\Documents\\Science\\MirRevAdaptEEG\\data\\eeg\\p030\\lrp\\mra_p030_run0-epo.fif ...\n",
      "    Found the data of interest:\n",
      "        t =   -2000.00 ...    1995.00 ms\n",
      "        0 CTF compensation matrices available\n",
      "Not setting metadata\n",
      "420 matching events found\n",
      "No baseline correction applied\n",
      "0 projection items activated\n",
      "Applying baseline correction (mode: mean)\n",
      "Reading F:\\Documents\\Science\\MirRevAdaptEEG\\data\\eeg\\p031\\lrp\\mra_p031_run0-epo.fif ...\n",
      "    Found the data of interest:\n",
      "        t =   -2000.00 ...    1995.00 ms\n",
      "        0 CTF compensation matrices available\n",
      "Not setting metadata\n",
      "420 matching events found\n",
      "No baseline correction applied\n",
      "0 projection items activated\n",
      "Applying baseline correction (mode: mean)\n",
      "Reading F:\\Documents\\Science\\MirRevAdaptEEG\\data\\eeg\\p000\\lrp\\mra_p000_run0-epo.fif ...\n",
      "    Found the data of interest:\n",
      "        t =   -2000.00 ...    1995.00 ms\n",
      "        0 CTF compensation matrices available\n",
      "Not setting metadata\n",
      "420 matching events found\n",
      "No baseline correction applied\n",
      "0 projection items activated\n",
      "Applying baseline correction (mode: mean)\n",
      "Reading F:\\Documents\\Science\\MirRevAdaptEEG\\data\\eeg\\p001\\lrp\\mra_p001_run0-epo.fif ...\n",
      "    Found the data of interest:\n",
      "        t =   -2000.00 ...    1995.00 ms\n",
      "        0 CTF compensation matrices available\n",
      "Not setting metadata\n",
      "420 matching events found\n",
      "No baseline correction applied\n",
      "0 projection items activated\n",
      "Applying baseline correction (mode: mean)\n",
      "Reading F:\\Documents\\Science\\MirRevAdaptEEG\\data\\eeg\\p002\\lrp\\mra_p002_run0-epo.fif ...\n",
      "    Found the data of interest:\n",
      "        t =   -2000.00 ...    1995.00 ms\n",
      "        0 CTF compensation matrices available\n",
      "Not setting metadata\n",
      "419 matching events found\n",
      "No baseline correction applied\n",
      "0 projection items activated\n",
      "Applying baseline correction (mode: mean)\n",
      "Reading F:\\Documents\\Science\\MirRevAdaptEEG\\data\\eeg\\p003\\lrp\\mra_p003_run0-epo.fif ...\n",
      "    Found the data of interest:\n",
      "        t =   -2000.00 ...    1995.00 ms\n",
      "        0 CTF compensation matrices available\n",
      "Not setting metadata\n",
      "418 matching events found\n",
      "No baseline correction applied\n",
      "0 projection items activated\n",
      "Applying baseline correction (mode: mean)\n",
      "Reading F:\\Documents\\Science\\MirRevAdaptEEG\\data\\eeg\\p004\\lrp\\mra_p004_run0-epo.fif ...\n",
      "    Found the data of interest:\n",
      "        t =   -2000.00 ...    1995.00 ms\n",
      "        0 CTF compensation matrices available\n",
      "Not setting metadata\n",
      "418 matching events found\n",
      "No baseline correction applied\n",
      "0 projection items activated\n",
      "Applying baseline correction (mode: mean)\n",
      "[0, 2, 3, 8, 9, 11, 14, 16, 17, 18, 21, 23]\n",
      "Overwriting existing file.\n",
      "Setting up low-pass filter at 30 Hz\n",
      "\n",
      "FIR filter parameters\n",
      "---------------------\n",
      "Designing a one-pass, zero-phase, non-causal lowpass filter:\n",
      "- Windowed time-domain design (firwin) method\n",
      "- Hamming window with 0.0194 passband ripple and 53 dB stopband attenuation\n",
      "- Upper passband edge: 30.00 Hz\n",
      "- Upper transition bandwidth: 7.50 Hz (-6 dB cutoff frequency: 33.75 Hz)\n",
      "- Filter length: 89 samples (0.445 sec)\n",
      "\n"
     ]
    },
    {
     "name": "stderr",
     "output_type": "stream",
     "text": [
      "[Parallel(n_jobs=1)]: Using backend SequentialBackend with 1 concurrent workers.\n",
      "[Parallel(n_jobs=1)]: Done   1 out of   1 | elapsed:    0.0s remaining:    0.0s\n",
      "[Parallel(n_jobs=1)]: Done   2 out of   2 | elapsed:    0.0s remaining:    0.0s\n",
      "[Parallel(n_jobs=1)]: Done   3 out of   3 | elapsed:    0.0s remaining:    0.0s\n",
      "[Parallel(n_jobs=1)]: Done   4 out of   4 | elapsed:    0.0s remaining:    0.0s\n"
     ]
    },
    {
     "name": "stdout",
     "output_type": "stream",
     "text": [
      "Overwriting existing file.\n",
      "[24, 25, 29, 31, 32, 34, 36, 37, 40, 42, 46, 47]\n",
      "Overwriting existing file.\n",
      "Setting up low-pass filter at 30 Hz\n",
      "\n",
      "FIR filter parameters\n",
      "---------------------\n",
      "Designing a one-pass, zero-phase, non-causal lowpass filter:\n",
      "- Windowed time-domain design (firwin) method\n",
      "- Hamming window with 0.0194 passband ripple and 53 dB stopband attenuation\n",
      "- Upper passband edge: 30.00 Hz\n",
      "- Upper transition bandwidth: 7.50 Hz (-6 dB cutoff frequency: 33.75 Hz)\n",
      "- Filter length: 89 samples (0.445 sec)\n",
      "\n"
     ]
    },
    {
     "name": "stderr",
     "output_type": "stream",
     "text": [
      "[Parallel(n_jobs=1)]: Done 768 out of 768 | elapsed:    0.2s finished\n",
      "[Parallel(n_jobs=1)]: Using backend SequentialBackend with 1 concurrent workers.\n",
      "[Parallel(n_jobs=1)]: Done   1 out of   1 | elapsed:    0.0s remaining:    0.0s\n",
      "[Parallel(n_jobs=1)]: Done   2 out of   2 | elapsed:    0.0s remaining:    0.0s\n",
      "[Parallel(n_jobs=1)]: Done   3 out of   3 | elapsed:    0.0s remaining:    0.0s\n",
      "[Parallel(n_jobs=1)]: Done   4 out of   4 | elapsed:    0.0s remaining:    0.0s\n"
     ]
    },
    {
     "name": "stdout",
     "output_type": "stream",
     "text": [
      "Overwriting existing file.\n",
      "[1, 4, 5, 6, 7, 10, 12, 13, 15, 19, 20, 22]\n",
      "Overwriting existing file.\n",
      "Setting up low-pass filter at 30 Hz\n",
      "\n",
      "FIR filter parameters\n",
      "---------------------\n",
      "Designing a one-pass, zero-phase, non-causal lowpass filter:\n",
      "- Windowed time-domain design (firwin) method\n",
      "- Hamming window with 0.0194 passband ripple and 53 dB stopband attenuation\n",
      "- Upper passband edge: 30.00 Hz\n",
      "- Upper transition bandwidth: 7.50 Hz (-6 dB cutoff frequency: 33.75 Hz)\n",
      "- Filter length: 89 samples (0.445 sec)\n",
      "\n"
     ]
    },
    {
     "name": "stderr",
     "output_type": "stream",
     "text": [
      "[Parallel(n_jobs=1)]: Done 768 out of 768 | elapsed:    0.2s finished\n",
      "[Parallel(n_jobs=1)]: Using backend SequentialBackend with 1 concurrent workers.\n",
      "[Parallel(n_jobs=1)]: Done   1 out of   1 | elapsed:    0.0s remaining:    0.0s\n",
      "[Parallel(n_jobs=1)]: Done   2 out of   2 | elapsed:    0.0s remaining:    0.0s\n",
      "[Parallel(n_jobs=1)]: Done   3 out of   3 | elapsed:    0.0s remaining:    0.0s\n",
      "[Parallel(n_jobs=1)]: Done   4 out of   4 | elapsed:    0.0s remaining:    0.0s\n"
     ]
    },
    {
     "name": "stdout",
     "output_type": "stream",
     "text": [
      "Overwriting existing file.\n",
      "[26, 27, 28, 30, 33, 35, 38, 39, 41, 43, 44, 45]\n",
      "Overwriting existing file.\n",
      "Setting up low-pass filter at 30 Hz\n",
      "\n",
      "FIR filter parameters\n",
      "---------------------\n",
      "Designing a one-pass, zero-phase, non-causal lowpass filter:\n",
      "- Windowed time-domain design (firwin) method\n",
      "- Hamming window with 0.0194 passband ripple and 53 dB stopband attenuation\n",
      "- Upper passband edge: 30.00 Hz\n",
      "- Upper transition bandwidth: 7.50 Hz (-6 dB cutoff frequency: 33.75 Hz)\n",
      "- Filter length: 89 samples (0.445 sec)\n",
      "\n"
     ]
    },
    {
     "name": "stderr",
     "output_type": "stream",
     "text": [
      "[Parallel(n_jobs=1)]: Done 768 out of 768 | elapsed:    0.2s finished\n",
      "[Parallel(n_jobs=1)]: Using backend SequentialBackend with 1 concurrent workers.\n",
      "[Parallel(n_jobs=1)]: Done   1 out of   1 | elapsed:    0.0s remaining:    0.0s\n",
      "[Parallel(n_jobs=1)]: Done   2 out of   2 | elapsed:    0.0s remaining:    0.0s\n",
      "[Parallel(n_jobs=1)]: Done   3 out of   3 | elapsed:    0.0s remaining:    0.0s\n",
      "[Parallel(n_jobs=1)]: Done   4 out of   4 | elapsed:    0.0s remaining:    0.0s\n"
     ]
    },
    {
     "name": "stdout",
     "output_type": "stream",
     "text": [
      "Overwriting existing file.\n",
      "Reading F:\\Documents\\Science\\MirRevAdaptEEG\\data\\eeg\\p005\\lrp\\mra_p005_run0-epo.fif ...\n",
      "    Found the data of interest:\n",
      "        t =   -2000.00 ...    1995.00 ms\n",
      "        0 CTF compensation matrices available\n"
     ]
    },
    {
     "name": "stderr",
     "output_type": "stream",
     "text": [
      "[Parallel(n_jobs=1)]: Done 768 out of 768 | elapsed:    0.2s finished\n"
     ]
    },
    {
     "name": "stdout",
     "output_type": "stream",
     "text": [
      "Not setting metadata\n",
      "419 matching events found\n",
      "No baseline correction applied\n",
      "0 projection items activated\n",
      "Applying baseline correction (mode: mean)\n",
      "[2, 3, 5, 6, 8, 9, 12, 15, 16, 19, 20, 23]\n",
      "Overwriting existing file.\n",
      "Setting up low-pass filter at 30 Hz\n",
      "\n",
      "FIR filter parameters\n",
      "---------------------\n",
      "Designing a one-pass, zero-phase, non-causal lowpass filter:\n",
      "- Windowed time-domain design (firwin) method\n",
      "- Hamming window with 0.0194 passband ripple and 53 dB stopband attenuation\n",
      "- Upper passband edge: 30.00 Hz\n",
      "- Upper transition bandwidth: 7.50 Hz (-6 dB cutoff frequency: 33.75 Hz)\n",
      "- Filter length: 89 samples (0.445 sec)\n",
      "\n"
     ]
    },
    {
     "name": "stderr",
     "output_type": "stream",
     "text": [
      "[Parallel(n_jobs=1)]: Using backend SequentialBackend with 1 concurrent workers.\n",
      "[Parallel(n_jobs=1)]: Done   1 out of   1 | elapsed:    0.0s remaining:    0.0s\n",
      "[Parallel(n_jobs=1)]: Done   2 out of   2 | elapsed:    0.0s remaining:    0.0s\n",
      "[Parallel(n_jobs=1)]: Done   3 out of   3 | elapsed:    0.0s remaining:    0.0s\n",
      "[Parallel(n_jobs=1)]: Done   4 out of   4 | elapsed:    0.0s remaining:    0.0s\n"
     ]
    },
    {
     "name": "stdout",
     "output_type": "stream",
     "text": [
      "Overwriting existing file.\n",
      "[26, 27, 29, 30, 34, 35, 37, 38, 41, 42, 46, 47]\n",
      "Overwriting existing file.\n",
      "Setting up low-pass filter at 30 Hz\n",
      "\n",
      "FIR filter parameters\n",
      "---------------------\n",
      "Designing a one-pass, zero-phase, non-causal lowpass filter:\n",
      "- Windowed time-domain design (firwin) method\n",
      "- Hamming window with 0.0194 passband ripple and 53 dB stopband attenuation\n",
      "- Upper passband edge: 30.00 Hz\n",
      "- Upper transition bandwidth: 7.50 Hz (-6 dB cutoff frequency: 33.75 Hz)\n",
      "- Filter length: 89 samples (0.445 sec)\n",
      "\n"
     ]
    },
    {
     "name": "stderr",
     "output_type": "stream",
     "text": [
      "[Parallel(n_jobs=1)]: Done 768 out of 768 | elapsed:    0.2s finished\n",
      "[Parallel(n_jobs=1)]: Using backend SequentialBackend with 1 concurrent workers.\n",
      "[Parallel(n_jobs=1)]: Done   1 out of   1 | elapsed:    0.0s remaining:    0.0s\n",
      "[Parallel(n_jobs=1)]: Done   2 out of   2 | elapsed:    0.0s remaining:    0.0s\n",
      "[Parallel(n_jobs=1)]: Done   3 out of   3 | elapsed:    0.0s remaining:    0.0s\n",
      "[Parallel(n_jobs=1)]: Done   4 out of   4 | elapsed:    0.0s remaining:    0.0s\n"
     ]
    },
    {
     "name": "stdout",
     "output_type": "stream",
     "text": [
      "Overwriting existing file.\n",
      "[0, 1, 4, 7, 10, 11, 13, 14, 17, 18, 21, 22]\n",
      "Overwriting existing file.\n",
      "Setting up low-pass filter at 30 Hz\n",
      "\n",
      "FIR filter parameters\n",
      "---------------------\n",
      "Designing a one-pass, zero-phase, non-causal lowpass filter:\n",
      "- Windowed time-domain design (firwin) method\n",
      "- Hamming window with 0.0194 passband ripple and 53 dB stopband attenuation\n",
      "- Upper passband edge: 30.00 Hz\n",
      "- Upper transition bandwidth: 7.50 Hz (-6 dB cutoff frequency: 33.75 Hz)\n",
      "- Filter length: 89 samples (0.445 sec)\n",
      "\n"
     ]
    },
    {
     "name": "stderr",
     "output_type": "stream",
     "text": [
      "[Parallel(n_jobs=1)]: Done 768 out of 768 | elapsed:    0.2s finished\n",
      "[Parallel(n_jobs=1)]: Using backend SequentialBackend with 1 concurrent workers.\n",
      "[Parallel(n_jobs=1)]: Done   1 out of   1 | elapsed:    0.0s remaining:    0.0s\n",
      "[Parallel(n_jobs=1)]: Done   2 out of   2 | elapsed:    0.0s remaining:    0.0s\n",
      "[Parallel(n_jobs=1)]: Done   3 out of   3 | elapsed:    0.0s remaining:    0.0s\n",
      "[Parallel(n_jobs=1)]: Done   4 out of   4 | elapsed:    0.0s remaining:    0.0s\n"
     ]
    },
    {
     "name": "stdout",
     "output_type": "stream",
     "text": [
      "Overwriting existing file.\n",
      "[24, 25, 28, 31, 32, 33, 36, 39, 40, 43, 44, 45]\n",
      "Overwriting existing file.\n",
      "Setting up low-pass filter at 30 Hz\n",
      "\n",
      "FIR filter parameters\n",
      "---------------------\n",
      "Designing a one-pass, zero-phase, non-causal lowpass filter:\n",
      "- Windowed time-domain design (firwin) method\n",
      "- Hamming window with 0.0194 passband ripple and 53 dB stopband attenuation\n",
      "- Upper passband edge: 30.00 Hz\n",
      "- Upper transition bandwidth: 7.50 Hz (-6 dB cutoff frequency: 33.75 Hz)\n",
      "- Filter length: 89 samples (0.445 sec)\n",
      "\n"
     ]
    },
    {
     "name": "stderr",
     "output_type": "stream",
     "text": [
      "[Parallel(n_jobs=1)]: Done 768 out of 768 | elapsed:    0.2s finished\n",
      "[Parallel(n_jobs=1)]: Using backend SequentialBackend with 1 concurrent workers.\n",
      "[Parallel(n_jobs=1)]: Done   1 out of   1 | elapsed:    0.0s remaining:    0.0s\n",
      "[Parallel(n_jobs=1)]: Done   2 out of   2 | elapsed:    0.0s remaining:    0.0s\n",
      "[Parallel(n_jobs=1)]: Done   3 out of   3 | elapsed:    0.0s remaining:    0.0s\n",
      "[Parallel(n_jobs=1)]: Done   4 out of   4 | elapsed:    0.0s remaining:    0.0s\n"
     ]
    },
    {
     "name": "stdout",
     "output_type": "stream",
     "text": [
      "Overwriting existing file.\n",
      "Reading F:\\Documents\\Science\\MirRevAdaptEEG\\data\\eeg\\p006\\lrp\\mra_p006_run0-epo.fif ...\n",
      "    Found the data of interest:\n",
      "        t =   -2000.00 ...    1995.00 ms\n",
      "        0 CTF compensation matrices available\n",
      "Not setting metadata\n"
     ]
    },
    {
     "name": "stderr",
     "output_type": "stream",
     "text": [
      "[Parallel(n_jobs=1)]: Done 768 out of 768 | elapsed:    0.2s finished\n"
     ]
    },
    {
     "name": "stdout",
     "output_type": "stream",
     "text": [
      "418 matching events found\n",
      "No baseline correction applied\n",
      "0 projection items activated\n",
      "Applying baseline correction (mode: mean)\n",
      "[1, 2, 5, 6, 10, 11, 13, 14, 17, 18, 21, 23]\n",
      "Overwriting existing file.\n",
      "Setting up low-pass filter at 30 Hz\n",
      "\n",
      "FIR filter parameters\n",
      "---------------------\n",
      "Designing a one-pass, zero-phase, non-causal lowpass filter:\n",
      "- Windowed time-domain design (firwin) method\n",
      "- Hamming window with 0.0194 passband ripple and 53 dB stopband attenuation\n",
      "- Upper passband edge: 30.00 Hz\n",
      "- Upper transition bandwidth: 7.50 Hz (-6 dB cutoff frequency: 33.75 Hz)\n",
      "- Filter length: 89 samples (0.445 sec)\n",
      "\n"
     ]
    },
    {
     "name": "stderr",
     "output_type": "stream",
     "text": [
      "[Parallel(n_jobs=1)]: Using backend SequentialBackend with 1 concurrent workers.\n",
      "[Parallel(n_jobs=1)]: Done   1 out of   1 | elapsed:    0.0s remaining:    0.0s\n",
      "[Parallel(n_jobs=1)]: Done   2 out of   2 | elapsed:    0.0s remaining:    0.0s\n",
      "[Parallel(n_jobs=1)]: Done   3 out of   3 | elapsed:    0.0s remaining:    0.0s\n",
      "[Parallel(n_jobs=1)]: Done   4 out of   4 | elapsed:    0.0s remaining:    0.0s\n"
     ]
    },
    {
     "name": "stdout",
     "output_type": "stream",
     "text": [
      "Overwriting existing file.\n",
      "[25, 26, 27, 31, 33, 35, 37, 38, 39, 42, 45, 46]\n",
      "Overwriting existing file.\n",
      "Setting up low-pass filter at 30 Hz\n",
      "\n",
      "FIR filter parameters\n",
      "---------------------\n",
      "Designing a one-pass, zero-phase, non-causal lowpass filter:\n",
      "- Windowed time-domain design (firwin) method\n",
      "- Hamming window with 0.0194 passband ripple and 53 dB stopband attenuation\n",
      "- Upper passband edge: 30.00 Hz\n",
      "- Upper transition bandwidth: 7.50 Hz (-6 dB cutoff frequency: 33.75 Hz)\n",
      "- Filter length: 89 samples (0.445 sec)\n",
      "\n"
     ]
    },
    {
     "name": "stderr",
     "output_type": "stream",
     "text": [
      "[Parallel(n_jobs=1)]: Done 768 out of 768 | elapsed:    0.2s finished\n",
      "[Parallel(n_jobs=1)]: Using backend SequentialBackend with 1 concurrent workers.\n",
      "[Parallel(n_jobs=1)]: Done   1 out of   1 | elapsed:    0.0s remaining:    0.0s\n",
      "[Parallel(n_jobs=1)]: Done   2 out of   2 | elapsed:    0.0s remaining:    0.0s\n",
      "[Parallel(n_jobs=1)]: Done   3 out of   3 | elapsed:    0.0s remaining:    0.0s\n",
      "[Parallel(n_jobs=1)]: Done   4 out of   4 | elapsed:    0.0s remaining:    0.0s\n"
     ]
    },
    {
     "name": "stdout",
     "output_type": "stream",
     "text": [
      "Overwriting existing file.\n",
      "[0, 3, 4, 7, 8, 9, 12, 15, 16, 19, 20, 22]\n",
      "Overwriting existing file.\n",
      "Setting up low-pass filter at 30 Hz\n",
      "\n",
      "FIR filter parameters\n",
      "---------------------\n",
      "Designing a one-pass, zero-phase, non-causal lowpass filter:\n",
      "- Windowed time-domain design (firwin) method\n",
      "- Hamming window with 0.0194 passband ripple and 53 dB stopband attenuation\n",
      "- Upper passband edge: 30.00 Hz\n",
      "- Upper transition bandwidth: 7.50 Hz (-6 dB cutoff frequency: 33.75 Hz)\n",
      "- Filter length: 89 samples (0.445 sec)\n",
      "\n"
     ]
    },
    {
     "name": "stderr",
     "output_type": "stream",
     "text": [
      "[Parallel(n_jobs=1)]: Done 768 out of 768 | elapsed:    0.2s finished\n",
      "[Parallel(n_jobs=1)]: Using backend SequentialBackend with 1 concurrent workers.\n",
      "[Parallel(n_jobs=1)]: Done   1 out of   1 | elapsed:    0.0s remaining:    0.0s\n",
      "[Parallel(n_jobs=1)]: Done   2 out of   2 | elapsed:    0.0s remaining:    0.0s\n",
      "[Parallel(n_jobs=1)]: Done   3 out of   3 | elapsed:    0.0s remaining:    0.0s\n",
      "[Parallel(n_jobs=1)]: Done   4 out of   4 | elapsed:    0.0s remaining:    0.0s\n"
     ]
    },
    {
     "name": "stdout",
     "output_type": "stream",
     "text": [
      "Overwriting existing file.\n",
      "[24, 28, 29, 30, 32, 34, 36, 40, 41, 43, 44, 47]\n",
      "Overwriting existing file.\n",
      "Setting up low-pass filter at 30 Hz\n",
      "\n",
      "FIR filter parameters\n",
      "---------------------\n",
      "Designing a one-pass, zero-phase, non-causal lowpass filter:\n",
      "- Windowed time-domain design (firwin) method\n",
      "- Hamming window with 0.0194 passband ripple and 53 dB stopband attenuation\n",
      "- Upper passband edge: 30.00 Hz\n",
      "- Upper transition bandwidth: 7.50 Hz (-6 dB cutoff frequency: 33.75 Hz)\n",
      "- Filter length: 89 samples (0.445 sec)\n",
      "\n"
     ]
    },
    {
     "name": "stderr",
     "output_type": "stream",
     "text": [
      "[Parallel(n_jobs=1)]: Done 768 out of 768 | elapsed:    0.2s finished\n",
      "[Parallel(n_jobs=1)]: Using backend SequentialBackend with 1 concurrent workers.\n",
      "[Parallel(n_jobs=1)]: Done   1 out of   1 | elapsed:    0.0s remaining:    0.0s\n",
      "[Parallel(n_jobs=1)]: Done   2 out of   2 | elapsed:    0.0s remaining:    0.0s\n",
      "[Parallel(n_jobs=1)]: Done   3 out of   3 | elapsed:    0.0s remaining:    0.0s\n",
      "[Parallel(n_jobs=1)]: Done   4 out of   4 | elapsed:    0.0s remaining:    0.0s\n"
     ]
    },
    {
     "name": "stdout",
     "output_type": "stream",
     "text": [
      "Overwriting existing file.\n",
      "Reading F:\\Documents\\Science\\MirRevAdaptEEG\\data\\eeg\\p007\\lrp\\mra_p007_run0-epo.fif ...\n",
      "    Found the data of interest:\n",
      "        t =   -2000.00 ...    1995.00 ms\n",
      "        0 CTF compensation matrices available\n",
      "Not setting metadata\n"
     ]
    },
    {
     "name": "stderr",
     "output_type": "stream",
     "text": [
      "[Parallel(n_jobs=1)]: Done 768 out of 768 | elapsed:    0.2s finished\n"
     ]
    },
    {
     "name": "stdout",
     "output_type": "stream",
     "text": [
      "420 matching events found\n",
      "No baseline correction applied\n",
      "0 projection items activated\n",
      "Applying baseline correction (mode: mean)\n",
      "[2, 3, 5, 7, 8, 11, 13, 14, 17, 21, 22, 23]\n",
      "Overwriting existing file.\n",
      "Setting up low-pass filter at 30 Hz\n",
      "\n",
      "FIR filter parameters\n",
      "---------------------\n",
      "Designing a one-pass, zero-phase, non-causal lowpass filter:\n",
      "- Windowed time-domain design (firwin) method\n",
      "- Hamming window with 0.0194 passband ripple and 53 dB stopband attenuation\n",
      "- Upper passband edge: 30.00 Hz\n",
      "- Upper transition bandwidth: 7.50 Hz (-6 dB cutoff frequency: 33.75 Hz)\n",
      "- Filter length: 89 samples (0.445 sec)\n",
      "\n"
     ]
    },
    {
     "name": "stderr",
     "output_type": "stream",
     "text": [
      "[Parallel(n_jobs=1)]: Using backend SequentialBackend with 1 concurrent workers.\n",
      "[Parallel(n_jobs=1)]: Done   1 out of   1 | elapsed:    0.0s remaining:    0.0s\n",
      "[Parallel(n_jobs=1)]: Done   2 out of   2 | elapsed:    0.0s remaining:    0.0s\n",
      "[Parallel(n_jobs=1)]: Done   3 out of   3 | elapsed:    0.0s remaining:    0.0s\n",
      "[Parallel(n_jobs=1)]: Done   4 out of   4 | elapsed:    0.0s remaining:    0.0s\n"
     ]
    },
    {
     "name": "stdout",
     "output_type": "stream",
     "text": [
      "Overwriting existing file.\n",
      "[24, 25, 27, 32, 34, 35, 36, 38, 41, 43, 44, 45]\n",
      "Overwriting existing file.\n",
      "Setting up low-pass filter at 30 Hz\n",
      "\n",
      "FIR filter parameters\n",
      "---------------------\n",
      "Designing a one-pass, zero-phase, non-causal lowpass filter:\n",
      "- Windowed time-domain design (firwin) method\n",
      "- Hamming window with 0.0194 passband ripple and 53 dB stopband attenuation\n",
      "- Upper passband edge: 30.00 Hz\n",
      "- Upper transition bandwidth: 7.50 Hz (-6 dB cutoff frequency: 33.75 Hz)\n",
      "- Filter length: 89 samples (0.445 sec)\n",
      "\n"
     ]
    },
    {
     "name": "stderr",
     "output_type": "stream",
     "text": [
      "[Parallel(n_jobs=1)]: Done 768 out of 768 | elapsed:    0.2s finished\n",
      "[Parallel(n_jobs=1)]: Using backend SequentialBackend with 1 concurrent workers.\n",
      "[Parallel(n_jobs=1)]: Done   1 out of   1 | elapsed:    0.0s remaining:    0.0s\n",
      "[Parallel(n_jobs=1)]: Done   2 out of   2 | elapsed:    0.0s remaining:    0.0s\n",
      "[Parallel(n_jobs=1)]: Done   3 out of   3 | elapsed:    0.0s remaining:    0.0s\n",
      "[Parallel(n_jobs=1)]: Done   4 out of   4 | elapsed:    0.0s remaining:    0.0s\n"
     ]
    },
    {
     "name": "stdout",
     "output_type": "stream",
     "text": [
      "Overwriting existing file.\n",
      "[0, 1, 4, 6, 9, 10, 12, 15, 16, 18, 19, 20]\n",
      "Overwriting existing file.\n",
      "Setting up low-pass filter at 30 Hz\n",
      "\n",
      "FIR filter parameters\n",
      "---------------------\n",
      "Designing a one-pass, zero-phase, non-causal lowpass filter:\n",
      "- Windowed time-domain design (firwin) method\n",
      "- Hamming window with 0.0194 passband ripple and 53 dB stopband attenuation\n",
      "- Upper passband edge: 30.00 Hz\n",
      "- Upper transition bandwidth: 7.50 Hz (-6 dB cutoff frequency: 33.75 Hz)\n",
      "- Filter length: 89 samples (0.445 sec)\n",
      "\n"
     ]
    },
    {
     "name": "stderr",
     "output_type": "stream",
     "text": [
      "[Parallel(n_jobs=1)]: Done 768 out of 768 | elapsed:    0.2s finished\n",
      "[Parallel(n_jobs=1)]: Using backend SequentialBackend with 1 concurrent workers.\n",
      "[Parallel(n_jobs=1)]: Done   1 out of   1 | elapsed:    0.0s remaining:    0.0s\n",
      "[Parallel(n_jobs=1)]: Done   2 out of   2 | elapsed:    0.0s remaining:    0.0s\n",
      "[Parallel(n_jobs=1)]: Done   3 out of   3 | elapsed:    0.0s remaining:    0.0s\n",
      "[Parallel(n_jobs=1)]: Done   4 out of   4 | elapsed:    0.0s remaining:    0.0s\n"
     ]
    },
    {
     "name": "stdout",
     "output_type": "stream",
     "text": [
      "Overwriting existing file.\n"
     ]
    },
    {
     "name": "stderr",
     "output_type": "stream",
     "text": [
      "[Parallel(n_jobs=1)]: Done 768 out of 768 | elapsed:    0.2s finished\n"
     ]
    },
    {
     "name": "stdout",
     "output_type": "stream",
     "text": [
      "[26, 28, 29, 30, 31, 33, 37, 39, 40, 42, 46, 47]\n",
      "Overwriting existing file.\n",
      "Setting up low-pass filter at 30 Hz\n",
      "\n",
      "FIR filter parameters\n",
      "---------------------\n",
      "Designing a one-pass, zero-phase, non-causal lowpass filter:\n",
      "- Windowed time-domain design (firwin) method\n",
      "- Hamming window with 0.0194 passband ripple and 53 dB stopband attenuation\n",
      "- Upper passband edge: 30.00 Hz\n",
      "- Upper transition bandwidth: 7.50 Hz (-6 dB cutoff frequency: 33.75 Hz)\n",
      "- Filter length: 89 samples (0.445 sec)\n",
      "\n"
     ]
    },
    {
     "name": "stderr",
     "output_type": "stream",
     "text": [
      "[Parallel(n_jobs=1)]: Using backend SequentialBackend with 1 concurrent workers.\n",
      "[Parallel(n_jobs=1)]: Done   1 out of   1 | elapsed:    0.0s remaining:    0.0s\n",
      "[Parallel(n_jobs=1)]: Done   2 out of   2 | elapsed:    0.0s remaining:    0.0s\n",
      "[Parallel(n_jobs=1)]: Done   3 out of   3 | elapsed:    0.0s remaining:    0.0s\n",
      "[Parallel(n_jobs=1)]: Done   4 out of   4 | elapsed:    0.0s remaining:    0.0s\n"
     ]
    },
    {
     "name": "stdout",
     "output_type": "stream",
     "text": [
      "Overwriting existing file.\n",
      "Reading F:\\Documents\\Science\\MirRevAdaptEEG\\data\\eeg\\p008\\lrp\\mra_p008_run0-epo.fif ...\n",
      "    Found the data of interest:\n",
      "        t =   -2000.00 ...    1995.00 ms\n",
      "        0 CTF compensation matrices available\n",
      "Not setting metadata\n"
     ]
    },
    {
     "name": "stderr",
     "output_type": "stream",
     "text": [
      "[Parallel(n_jobs=1)]: Done 768 out of 768 | elapsed:    0.2s finished\n"
     ]
    },
    {
     "name": "stdout",
     "output_type": "stream",
     "text": [
      "420 matching events found\n",
      "No baseline correction applied\n",
      "0 projection items activated\n",
      "Applying baseline correction (mode: mean)\n",
      "Reading F:\\Documents\\Science\\MirRevAdaptEEG\\data\\eeg\\p009\\lrp\\mra_p009_run0-epo.fif ...\n",
      "    Found the data of interest:\n",
      "        t =   -2000.00 ...    1995.00 ms\n",
      "        0 CTF compensation matrices available\n",
      "Not setting metadata\n",
      "419 matching events found\n",
      "No baseline correction applied\n",
      "0 projection items activated\n",
      "Applying baseline correction (mode: mean)\n",
      "Reading F:\\Documents\\Science\\MirRevAdaptEEG\\data\\eeg\\p010\\lrp\\mra_p010_run0-epo.fif ...\n",
      "    Found the data of interest:\n",
      "        t =   -2000.00 ...    1995.00 ms\n",
      "        0 CTF compensation matrices available\n",
      "Not setting metadata\n",
      "420 matching events found\n",
      "No baseline correction applied\n",
      "0 projection items activated\n",
      "Applying baseline correction (mode: mean)\n",
      "Reading F:\\Documents\\Science\\MirRevAdaptEEG\\data\\eeg\\p011\\lrp\\mra_p011_run0-epo.fif ...\n",
      "    Found the data of interest:\n",
      "        t =   -2000.00 ...    1995.00 ms\n",
      "        0 CTF compensation matrices available\n",
      "Not setting metadata\n",
      "419 matching events found\n",
      "No baseline correction applied\n",
      "0 projection items activated\n",
      "Applying baseline correction (mode: mean)\n",
      "Reading F:\\Documents\\Science\\MirRevAdaptEEG\\data\\eeg\\p012\\lrp\\mra_p012_run0-epo.fif ...\n",
      "    Found the data of interest:\n",
      "        t =   -2000.00 ...    1995.00 ms\n",
      "        0 CTF compensation matrices available\n",
      "Not setting metadata\n",
      "412 matching events found\n",
      "No baseline correction applied\n",
      "0 projection items activated\n",
      "Applying baseline correction (mode: mean)\n",
      "[1, 4, 5, 6, 9, 10, 14, 15, 17, 19, 20, 21]\n",
      "Overwriting existing file.\n",
      "Setting up low-pass filter at 30 Hz\n",
      "\n",
      "FIR filter parameters\n",
      "---------------------\n",
      "Designing a one-pass, zero-phase, non-causal lowpass filter:\n",
      "- Windowed time-domain design (firwin) method\n",
      "- Hamming window with 0.0194 passband ripple and 53 dB stopband attenuation\n",
      "- Upper passband edge: 30.00 Hz\n",
      "- Upper transition bandwidth: 7.50 Hz (-6 dB cutoff frequency: 33.75 Hz)\n",
      "- Filter length: 89 samples (0.445 sec)\n",
      "\n"
     ]
    },
    {
     "name": "stderr",
     "output_type": "stream",
     "text": [
      "[Parallel(n_jobs=1)]: Using backend SequentialBackend with 1 concurrent workers.\n",
      "[Parallel(n_jobs=1)]: Done   1 out of   1 | elapsed:    0.0s remaining:    0.0s\n",
      "[Parallel(n_jobs=1)]: Done   2 out of   2 | elapsed:    0.0s remaining:    0.0s\n",
      "[Parallel(n_jobs=1)]: Done   3 out of   3 | elapsed:    0.0s remaining:    0.0s\n",
      "[Parallel(n_jobs=1)]: Done   4 out of   4 | elapsed:    0.0s remaining:    0.0s\n"
     ]
    },
    {
     "name": "stdout",
     "output_type": "stream",
     "text": [
      "Overwriting existing file.\n",
      "[25, 26, 28, 31, 33, 35, 37, 38, 41, 43, 46, 47]\n",
      "Overwriting existing file.\n",
      "Setting up low-pass filter at 30 Hz\n",
      "\n",
      "FIR filter parameters\n",
      "---------------------\n",
      "Designing a one-pass, zero-phase, non-causal lowpass filter:\n",
      "- Windowed time-domain design (firwin) method\n",
      "- Hamming window with 0.0194 passband ripple and 53 dB stopband attenuation\n",
      "- Upper passband edge: 30.00 Hz\n",
      "- Upper transition bandwidth: 7.50 Hz (-6 dB cutoff frequency: 33.75 Hz)\n",
      "- Filter length: 89 samples (0.445 sec)\n",
      "\n"
     ]
    },
    {
     "name": "stderr",
     "output_type": "stream",
     "text": [
      "[Parallel(n_jobs=1)]: Done 768 out of 768 | elapsed:    0.2s finished\n",
      "[Parallel(n_jobs=1)]: Using backend SequentialBackend with 1 concurrent workers.\n",
      "[Parallel(n_jobs=1)]: Done   1 out of   1 | elapsed:    0.0s remaining:    0.0s\n",
      "[Parallel(n_jobs=1)]: Done   2 out of   2 | elapsed:    0.0s remaining:    0.0s\n",
      "[Parallel(n_jobs=1)]: Done   3 out of   3 | elapsed:    0.0s remaining:    0.0s\n",
      "[Parallel(n_jobs=1)]: Done   4 out of   4 | elapsed:    0.0s remaining:    0.0s\n"
     ]
    },
    {
     "name": "stdout",
     "output_type": "stream",
     "text": [
      "Overwriting existing file.\n",
      "[0, 2, 3, 7, 8, 11, 12, 13, 16, 18, 22, 23]\n",
      "Overwriting existing file.\n",
      "Setting up low-pass filter at 30 Hz\n",
      "\n",
      "FIR filter parameters\n",
      "---------------------\n",
      "Designing a one-pass, zero-phase, non-causal lowpass filter:\n",
      "- Windowed time-domain design (firwin) method\n",
      "- Hamming window with 0.0194 passband ripple and 53 dB stopband attenuation\n",
      "- Upper passband edge: 30.00 Hz\n",
      "- Upper transition bandwidth: 7.50 Hz (-6 dB cutoff frequency: 33.75 Hz)\n",
      "- Filter length: 89 samples (0.445 sec)\n",
      "\n"
     ]
    },
    {
     "name": "stderr",
     "output_type": "stream",
     "text": [
      "[Parallel(n_jobs=1)]: Done 768 out of 768 | elapsed:    0.2s finished\n",
      "[Parallel(n_jobs=1)]: Using backend SequentialBackend with 1 concurrent workers.\n",
      "[Parallel(n_jobs=1)]: Done   1 out of   1 | elapsed:    0.0s remaining:    0.0s\n",
      "[Parallel(n_jobs=1)]: Done   2 out of   2 | elapsed:    0.0s remaining:    0.0s\n",
      "[Parallel(n_jobs=1)]: Done   3 out of   3 | elapsed:    0.0s remaining:    0.0s\n",
      "[Parallel(n_jobs=1)]: Done   4 out of   4 | elapsed:    0.0s remaining:    0.0s\n"
     ]
    },
    {
     "name": "stdout",
     "output_type": "stream",
     "text": [
      "Overwriting existing file.\n",
      "[24, 27, 29, 30, 32, 34, 36, 39, 40, 42, 44, 45]\n",
      "Overwriting existing file.\n",
      "Setting up low-pass filter at 30 Hz\n",
      "\n",
      "FIR filter parameters\n",
      "---------------------\n",
      "Designing a one-pass, zero-phase, non-causal lowpass filter:\n",
      "- Windowed time-domain design (firwin) method\n",
      "- Hamming window with 0.0194 passband ripple and 53 dB stopband attenuation\n",
      "- Upper passband edge: 30.00 Hz\n",
      "- Upper transition bandwidth: 7.50 Hz (-6 dB cutoff frequency: 33.75 Hz)\n",
      "- Filter length: 89 samples (0.445 sec)\n",
      "\n"
     ]
    },
    {
     "name": "stderr",
     "output_type": "stream",
     "text": [
      "[Parallel(n_jobs=1)]: Done 768 out of 768 | elapsed:    0.2s finished\n",
      "[Parallel(n_jobs=1)]: Using backend SequentialBackend with 1 concurrent workers.\n",
      "[Parallel(n_jobs=1)]: Done   1 out of   1 | elapsed:    0.0s remaining:    0.0s\n",
      "[Parallel(n_jobs=1)]: Done   2 out of   2 | elapsed:    0.0s remaining:    0.0s\n",
      "[Parallel(n_jobs=1)]: Done   3 out of   3 | elapsed:    0.0s remaining:    0.0s\n",
      "[Parallel(n_jobs=1)]: Done   4 out of   4 | elapsed:    0.0s remaining:    0.0s\n"
     ]
    },
    {
     "name": "stdout",
     "output_type": "stream",
     "text": [
      "Overwriting existing file.\n",
      "Reading F:\\Documents\\Science\\MirRevAdaptEEG\\data\\eeg\\p013\\lrp\\mra_p013_run0-epo.fif ...\n",
      "    Found the data of interest:\n",
      "        t =   -2000.00 ...    1995.00 ms\n",
      "        0 CTF compensation matrices available\n",
      "Not setting metadata\n"
     ]
    },
    {
     "name": "stderr",
     "output_type": "stream",
     "text": [
      "[Parallel(n_jobs=1)]: Done 768 out of 768 | elapsed:    0.2s finished\n"
     ]
    },
    {
     "name": "stdout",
     "output_type": "stream",
     "text": [
      "416 matching events found\n",
      "No baseline correction applied\n",
      "0 projection items activated\n",
      "Applying baseline correction (mode: mean)\n",
      "[2, 4, 5, 7, 9, 11, 12, 13, 16, 18, 20, 21]\n",
      "Overwriting existing file.\n",
      "Setting up low-pass filter at 30 Hz\n",
      "\n",
      "FIR filter parameters\n",
      "---------------------\n",
      "Designing a one-pass, zero-phase, non-causal lowpass filter:\n",
      "- Windowed time-domain design (firwin) method\n",
      "- Hamming window with 0.0194 passband ripple and 53 dB stopband attenuation\n",
      "- Upper passband edge: 30.00 Hz\n",
      "- Upper transition bandwidth: 7.50 Hz (-6 dB cutoff frequency: 33.75 Hz)\n",
      "- Filter length: 89 samples (0.445 sec)\n",
      "\n"
     ]
    },
    {
     "name": "stderr",
     "output_type": "stream",
     "text": [
      "[Parallel(n_jobs=1)]: Using backend SequentialBackend with 1 concurrent workers.\n",
      "[Parallel(n_jobs=1)]: Done   1 out of   1 | elapsed:    0.0s remaining:    0.0s\n",
      "[Parallel(n_jobs=1)]: Done   2 out of   2 | elapsed:    0.0s remaining:    0.0s\n",
      "[Parallel(n_jobs=1)]: Done   3 out of   3 | elapsed:    0.0s remaining:    0.0s\n",
      "[Parallel(n_jobs=1)]: Done   4 out of   4 | elapsed:    0.0s remaining:    0.0s\n"
     ]
    },
    {
     "name": "stdout",
     "output_type": "stream",
     "text": [
      "Overwriting existing file.\n",
      "[24, 25, 29, 31, 32, 34, 36, 38, 41, 43, 44, 45]\n",
      "Overwriting existing file.\n",
      "Setting up low-pass filter at 30 Hz\n",
      "\n",
      "FIR filter parameters\n",
      "---------------------\n",
      "Designing a one-pass, zero-phase, non-causal lowpass filter:\n",
      "- Windowed time-domain design (firwin) method\n",
      "- Hamming window with 0.0194 passband ripple and 53 dB stopband attenuation\n",
      "- Upper passband edge: 30.00 Hz\n",
      "- Upper transition bandwidth: 7.50 Hz (-6 dB cutoff frequency: 33.75 Hz)\n",
      "- Filter length: 89 samples (0.445 sec)\n",
      "\n"
     ]
    },
    {
     "name": "stderr",
     "output_type": "stream",
     "text": [
      "[Parallel(n_jobs=1)]: Done 768 out of 768 | elapsed:    0.2s finished\n",
      "[Parallel(n_jobs=1)]: Using backend SequentialBackend with 1 concurrent workers.\n",
      "[Parallel(n_jobs=1)]: Done   1 out of   1 | elapsed:    0.0s remaining:    0.0s\n",
      "[Parallel(n_jobs=1)]: Done   2 out of   2 | elapsed:    0.0s remaining:    0.0s\n",
      "[Parallel(n_jobs=1)]: Done   3 out of   3 | elapsed:    0.0s remaining:    0.0s\n",
      "[Parallel(n_jobs=1)]: Done   4 out of   4 | elapsed:    0.0s remaining:    0.0s\n"
     ]
    },
    {
     "name": "stdout",
     "output_type": "stream",
     "text": [
      "Overwriting existing file.\n",
      "[0, 1, 3, 6, 8, 10, 14, 15, 17, 19, 22, 23]\n",
      "Overwriting existing file.\n",
      "Setting up low-pass filter at 30 Hz\n",
      "\n",
      "FIR filter parameters\n",
      "---------------------\n",
      "Designing a one-pass, zero-phase, non-causal lowpass filter:\n",
      "- Windowed time-domain design (firwin) method\n",
      "- Hamming window with 0.0194 passband ripple and 53 dB stopband attenuation\n",
      "- Upper passband edge: 30.00 Hz\n",
      "- Upper transition bandwidth: 7.50 Hz (-6 dB cutoff frequency: 33.75 Hz)\n",
      "- Filter length: 89 samples (0.445 sec)\n",
      "\n"
     ]
    },
    {
     "name": "stderr",
     "output_type": "stream",
     "text": [
      "[Parallel(n_jobs=1)]: Done 768 out of 768 | elapsed:    0.2s finished\n",
      "[Parallel(n_jobs=1)]: Using backend SequentialBackend with 1 concurrent workers.\n",
      "[Parallel(n_jobs=1)]: Done   1 out of   1 | elapsed:    0.0s remaining:    0.0s\n",
      "[Parallel(n_jobs=1)]: Done   2 out of   2 | elapsed:    0.0s remaining:    0.0s\n",
      "[Parallel(n_jobs=1)]: Done   3 out of   3 | elapsed:    0.0s remaining:    0.0s\n",
      "[Parallel(n_jobs=1)]: Done   4 out of   4 | elapsed:    0.0s remaining:    0.0s\n"
     ]
    },
    {
     "name": "stdout",
     "output_type": "stream",
     "text": [
      "Overwriting existing file.\n",
      "[26, 27, 28, 30, 33, 35, 37, 39, 40, 42, 46, 47]\n",
      "Overwriting existing file.\n",
      "Setting up low-pass filter at 30 Hz\n",
      "\n",
      "FIR filter parameters\n",
      "---------------------\n",
      "Designing a one-pass, zero-phase, non-causal lowpass filter:\n",
      "- Windowed time-domain design (firwin) method\n",
      "- Hamming window with 0.0194 passband ripple and 53 dB stopband attenuation\n",
      "- Upper passband edge: 30.00 Hz\n",
      "- Upper transition bandwidth: 7.50 Hz (-6 dB cutoff frequency: 33.75 Hz)\n",
      "- Filter length: 89 samples (0.445 sec)\n",
      "\n"
     ]
    },
    {
     "name": "stderr",
     "output_type": "stream",
     "text": [
      "[Parallel(n_jobs=1)]: Done 768 out of 768 | elapsed:    0.2s finished\n",
      "[Parallel(n_jobs=1)]: Using backend SequentialBackend with 1 concurrent workers.\n",
      "[Parallel(n_jobs=1)]: Done   1 out of   1 | elapsed:    0.0s remaining:    0.0s\n",
      "[Parallel(n_jobs=1)]: Done   2 out of   2 | elapsed:    0.0s remaining:    0.0s\n",
      "[Parallel(n_jobs=1)]: Done   3 out of   3 | elapsed:    0.0s remaining:    0.0s\n",
      "[Parallel(n_jobs=1)]: Done   4 out of   4 | elapsed:    0.0s remaining:    0.0s\n"
     ]
    },
    {
     "name": "stdout",
     "output_type": "stream",
     "text": [
      "Overwriting existing file.\n",
      "Reading F:\\Documents\\Science\\MirRevAdaptEEG\\data\\eeg\\p014\\lrp\\mra_p014_run0-epo.fif ...\n",
      "    Found the data of interest:\n",
      "        t =   -2000.00 ...    1995.00 ms\n",
      "        0 CTF compensation matrices available\n",
      "Not setting metadata\n"
     ]
    },
    {
     "name": "stderr",
     "output_type": "stream",
     "text": [
      "[Parallel(n_jobs=1)]: Done 768 out of 768 | elapsed:    0.2s finished\n"
     ]
    },
    {
     "name": "stdout",
     "output_type": "stream",
     "text": [
      "420 matching events found\n",
      "No baseline correction applied\n",
      "0 projection items activated\n",
      "Applying baseline correction (mode: mean)\n",
      "[3, 4, 5, 6, 7, 9, 12, 14, 16, 19, 20, 23]\n",
      "Overwriting existing file.\n",
      "Setting up low-pass filter at 30 Hz\n",
      "\n",
      "FIR filter parameters\n",
      "---------------------\n",
      "Designing a one-pass, zero-phase, non-causal lowpass filter:\n",
      "- Windowed time-domain design (firwin) method\n",
      "- Hamming window with 0.0194 passband ripple and 53 dB stopband attenuation\n",
      "- Upper passband edge: 30.00 Hz\n",
      "- Upper transition bandwidth: 7.50 Hz (-6 dB cutoff frequency: 33.75 Hz)\n",
      "- Filter length: 89 samples (0.445 sec)\n",
      "\n"
     ]
    },
    {
     "name": "stderr",
     "output_type": "stream",
     "text": [
      "[Parallel(n_jobs=1)]: Using backend SequentialBackend with 1 concurrent workers.\n",
      "[Parallel(n_jobs=1)]: Done   1 out of   1 | elapsed:    0.0s remaining:    0.0s\n",
      "[Parallel(n_jobs=1)]: Done   2 out of   2 | elapsed:    0.0s remaining:    0.0s\n",
      "[Parallel(n_jobs=1)]: Done   3 out of   3 | elapsed:    0.0s remaining:    0.0s\n",
      "[Parallel(n_jobs=1)]: Done   4 out of   4 | elapsed:    0.0s remaining:    0.0s\n"
     ]
    },
    {
     "name": "stdout",
     "output_type": "stream",
     "text": [
      "Overwriting existing file.\n",
      "[25, 26, 28, 30, 34, 35, 36, 37, 38, 45, 46, 47]\n",
      "Overwriting existing file.\n",
      "Setting up low-pass filter at 30 Hz\n",
      "\n",
      "FIR filter parameters\n",
      "---------------------\n",
      "Designing a one-pass, zero-phase, non-causal lowpass filter:\n",
      "- Windowed time-domain design (firwin) method\n",
      "- Hamming window with 0.0194 passband ripple and 53 dB stopband attenuation\n",
      "- Upper passband edge: 30.00 Hz\n",
      "- Upper transition bandwidth: 7.50 Hz (-6 dB cutoff frequency: 33.75 Hz)\n",
      "- Filter length: 89 samples (0.445 sec)\n",
      "\n"
     ]
    },
    {
     "name": "stderr",
     "output_type": "stream",
     "text": [
      "[Parallel(n_jobs=1)]: Done 768 out of 768 | elapsed:    0.2s finished\n",
      "[Parallel(n_jobs=1)]: Using backend SequentialBackend with 1 concurrent workers.\n",
      "[Parallel(n_jobs=1)]: Done   1 out of   1 | elapsed:    0.0s remaining:    0.0s\n",
      "[Parallel(n_jobs=1)]: Done   2 out of   2 | elapsed:    0.0s remaining:    0.0s\n",
      "[Parallel(n_jobs=1)]: Done   3 out of   3 | elapsed:    0.0s remaining:    0.0s\n",
      "[Parallel(n_jobs=1)]: Done   4 out of   4 | elapsed:    0.0s remaining:    0.0s\n"
     ]
    },
    {
     "name": "stdout",
     "output_type": "stream",
     "text": [
      "Overwriting existing file.\n",
      "[0, 1, 2, 8, 10, 11, 13, 15, 17, 18, 21, 22]\n",
      "Overwriting existing file.\n",
      "Setting up low-pass filter at 30 Hz\n",
      "\n",
      "FIR filter parameters\n",
      "---------------------\n",
      "Designing a one-pass, zero-phase, non-causal lowpass filter:\n",
      "- Windowed time-domain design (firwin) method\n",
      "- Hamming window with 0.0194 passband ripple and 53 dB stopband attenuation\n",
      "- Upper passband edge: 30.00 Hz\n",
      "- Upper transition bandwidth: 7.50 Hz (-6 dB cutoff frequency: 33.75 Hz)\n",
      "- Filter length: 89 samples (0.445 sec)\n",
      "\n"
     ]
    },
    {
     "name": "stderr",
     "output_type": "stream",
     "text": [
      "[Parallel(n_jobs=1)]: Done 768 out of 768 | elapsed:    0.2s finished\n",
      "[Parallel(n_jobs=1)]: Using backend SequentialBackend with 1 concurrent workers.\n",
      "[Parallel(n_jobs=1)]: Done   1 out of   1 | elapsed:    0.0s remaining:    0.0s\n",
      "[Parallel(n_jobs=1)]: Done   2 out of   2 | elapsed:    0.0s remaining:    0.0s\n",
      "[Parallel(n_jobs=1)]: Done   3 out of   3 | elapsed:    0.0s remaining:    0.0s\n",
      "[Parallel(n_jobs=1)]: Done   4 out of   4 | elapsed:    0.0s remaining:    0.0s\n"
     ]
    },
    {
     "name": "stdout",
     "output_type": "stream",
     "text": [
      "Overwriting existing file.\n",
      "[24, 27, 29, 31, 32, 33, 39, 40, 41, 42, 43, 44]\n",
      "Overwriting existing file.\n",
      "Setting up low-pass filter at 30 Hz\n",
      "\n",
      "FIR filter parameters\n",
      "---------------------\n",
      "Designing a one-pass, zero-phase, non-causal lowpass filter:\n",
      "- Windowed time-domain design (firwin) method\n",
      "- Hamming window with 0.0194 passband ripple and 53 dB stopband attenuation\n",
      "- Upper passband edge: 30.00 Hz\n",
      "- Upper transition bandwidth: 7.50 Hz (-6 dB cutoff frequency: 33.75 Hz)\n",
      "- Filter length: 89 samples (0.445 sec)\n",
      "\n"
     ]
    },
    {
     "name": "stderr",
     "output_type": "stream",
     "text": [
      "[Parallel(n_jobs=1)]: Done 768 out of 768 | elapsed:    0.2s finished\n",
      "[Parallel(n_jobs=1)]: Using backend SequentialBackend with 1 concurrent workers.\n",
      "[Parallel(n_jobs=1)]: Done   1 out of   1 | elapsed:    0.0s remaining:    0.0s\n",
      "[Parallel(n_jobs=1)]: Done   2 out of   2 | elapsed:    0.0s remaining:    0.0s\n",
      "[Parallel(n_jobs=1)]: Done   3 out of   3 | elapsed:    0.0s remaining:    0.0s\n",
      "[Parallel(n_jobs=1)]: Done   4 out of   4 | elapsed:    0.0s remaining:    0.0s\n"
     ]
    },
    {
     "name": "stdout",
     "output_type": "stream",
     "text": [
      "Overwriting existing file.\n",
      "Reading F:\\Documents\\Science\\MirRevAdaptEEG\\data\\eeg\\p015\\lrp\\mra_p015_run0-epo.fif ...\n",
      "    Found the data of interest:\n",
      "        t =   -2000.00 ...    1995.00 ms\n",
      "        0 CTF compensation matrices available\n",
      "Not setting metadata\n"
     ]
    },
    {
     "name": "stderr",
     "output_type": "stream",
     "text": [
      "[Parallel(n_jobs=1)]: Done 768 out of 768 | elapsed:    0.2s finished\n"
     ]
    },
    {
     "name": "stdout",
     "output_type": "stream",
     "text": [
      "420 matching events found\n",
      "No baseline correction applied\n",
      "0 projection items activated\n",
      "Applying baseline correction (mode: mean)\n",
      "[1, 3, 4, 6, 8, 11, 13, 14, 15, 18, 20, 21]\n",
      "Overwriting existing file.\n",
      "Setting up low-pass filter at 30 Hz\n",
      "\n",
      "FIR filter parameters\n",
      "---------------------\n",
      "Designing a one-pass, zero-phase, non-causal lowpass filter:\n",
      "- Windowed time-domain design (firwin) method\n",
      "- Hamming window with 0.0194 passband ripple and 53 dB stopband attenuation\n",
      "- Upper passband edge: 30.00 Hz\n",
      "- Upper transition bandwidth: 7.50 Hz (-6 dB cutoff frequency: 33.75 Hz)\n",
      "- Filter length: 89 samples (0.445 sec)\n",
      "\n"
     ]
    },
    {
     "name": "stderr",
     "output_type": "stream",
     "text": [
      "[Parallel(n_jobs=1)]: Using backend SequentialBackend with 1 concurrent workers.\n",
      "[Parallel(n_jobs=1)]: Done   1 out of   1 | elapsed:    0.0s remaining:    0.0s\n",
      "[Parallel(n_jobs=1)]: Done   2 out of   2 | elapsed:    0.0s remaining:    0.0s\n",
      "[Parallel(n_jobs=1)]: Done   3 out of   3 | elapsed:    0.0s remaining:    0.0s\n",
      "[Parallel(n_jobs=1)]: Done   4 out of   4 | elapsed:    0.0s remaining:    0.0s\n"
     ]
    },
    {
     "name": "stdout",
     "output_type": "stream",
     "text": [
      "Overwriting existing file.\n",
      "[24, 25, 27, 33, 34, 35, 37, 38, 39, 43, 44, 46]\n",
      "Overwriting existing file.\n",
      "Setting up low-pass filter at 30 Hz\n",
      "\n",
      "FIR filter parameters\n",
      "---------------------\n",
      "Designing a one-pass, zero-phase, non-causal lowpass filter:\n",
      "- Windowed time-domain design (firwin) method\n",
      "- Hamming window with 0.0194 passband ripple and 53 dB stopband attenuation\n",
      "- Upper passband edge: 30.00 Hz\n",
      "- Upper transition bandwidth: 7.50 Hz (-6 dB cutoff frequency: 33.75 Hz)\n",
      "- Filter length: 89 samples (0.445 sec)\n",
      "\n"
     ]
    },
    {
     "name": "stderr",
     "output_type": "stream",
     "text": [
      "[Parallel(n_jobs=1)]: Done 768 out of 768 | elapsed:    0.2s finished\n",
      "[Parallel(n_jobs=1)]: Using backend SequentialBackend with 1 concurrent workers.\n",
      "[Parallel(n_jobs=1)]: Done   1 out of   1 | elapsed:    0.0s remaining:    0.0s\n",
      "[Parallel(n_jobs=1)]: Done   2 out of   2 | elapsed:    0.0s remaining:    0.0s\n",
      "[Parallel(n_jobs=1)]: Done   3 out of   3 | elapsed:    0.0s remaining:    0.0s\n",
      "[Parallel(n_jobs=1)]: Done   4 out of   4 | elapsed:    0.0s remaining:    0.0s\n"
     ]
    },
    {
     "name": "stdout",
     "output_type": "stream",
     "text": [
      "Overwriting existing file.\n",
      "[0, 2, 5, 7, 9, 10, 12, 16, 17, 19, 22, 23]\n",
      "Overwriting existing file.\n",
      "Setting up low-pass filter at 30 Hz\n",
      "\n",
      "FIR filter parameters\n",
      "---------------------\n",
      "Designing a one-pass, zero-phase, non-causal lowpass filter:\n",
      "- Windowed time-domain design (firwin) method\n",
      "- Hamming window with 0.0194 passband ripple and 53 dB stopband attenuation\n",
      "- Upper passband edge: 30.00 Hz\n",
      "- Upper transition bandwidth: 7.50 Hz (-6 dB cutoff frequency: 33.75 Hz)\n",
      "- Filter length: 89 samples (0.445 sec)\n",
      "\n"
     ]
    },
    {
     "name": "stderr",
     "output_type": "stream",
     "text": [
      "[Parallel(n_jobs=1)]: Done 768 out of 768 | elapsed:    0.2s finished\n",
      "[Parallel(n_jobs=1)]: Using backend SequentialBackend with 1 concurrent workers.\n",
      "[Parallel(n_jobs=1)]: Done   1 out of   1 | elapsed:    0.0s remaining:    0.0s\n",
      "[Parallel(n_jobs=1)]: Done   2 out of   2 | elapsed:    0.0s remaining:    0.0s\n",
      "[Parallel(n_jobs=1)]: Done   3 out of   3 | elapsed:    0.0s remaining:    0.0s\n",
      "[Parallel(n_jobs=1)]: Done   4 out of   4 | elapsed:    0.0s remaining:    0.0s\n"
     ]
    },
    {
     "name": "stdout",
     "output_type": "stream",
     "text": [
      "Overwriting existing file.\n",
      "[26, 28, 29, 30, 31, 32, 36, 40, 41, 42, 45, 47]\n",
      "Overwriting existing file.\n",
      "Setting up low-pass filter at 30 Hz\n",
      "\n",
      "FIR filter parameters\n",
      "---------------------\n",
      "Designing a one-pass, zero-phase, non-causal lowpass filter:\n",
      "- Windowed time-domain design (firwin) method\n",
      "- Hamming window with 0.0194 passband ripple and 53 dB stopband attenuation\n",
      "- Upper passband edge: 30.00 Hz\n",
      "- Upper transition bandwidth: 7.50 Hz (-6 dB cutoff frequency: 33.75 Hz)\n",
      "- Filter length: 89 samples (0.445 sec)\n",
      "\n"
     ]
    },
    {
     "name": "stderr",
     "output_type": "stream",
     "text": [
      "[Parallel(n_jobs=1)]: Done 768 out of 768 | elapsed:    0.2s finished\n",
      "[Parallel(n_jobs=1)]: Using backend SequentialBackend with 1 concurrent workers.\n",
      "[Parallel(n_jobs=1)]: Done   1 out of   1 | elapsed:    0.0s remaining:    0.0s\n",
      "[Parallel(n_jobs=1)]: Done   2 out of   2 | elapsed:    0.0s remaining:    0.0s\n",
      "[Parallel(n_jobs=1)]: Done   3 out of   3 | elapsed:    0.0s remaining:    0.0s\n",
      "[Parallel(n_jobs=1)]: Done   4 out of   4 | elapsed:    0.0s remaining:    0.0s\n"
     ]
    },
    {
     "name": "stdout",
     "output_type": "stream",
     "text": [
      "Overwriting existing file.\n",
      "Reading F:\\Documents\\Science\\MirRevAdaptEEG\\data\\eeg\\p016\\lrp\\mra_p016_run0-epo.fif ...\n",
      "    Found the data of interest:\n",
      "        t =   -2000.00 ...    1995.00 ms\n",
      "        0 CTF compensation matrices available\n"
     ]
    },
    {
     "name": "stderr",
     "output_type": "stream",
     "text": [
      "[Parallel(n_jobs=1)]: Done 768 out of 768 | elapsed:    0.2s finished\n"
     ]
    },
    {
     "name": "stdout",
     "output_type": "stream",
     "text": [
      "Not setting metadata\n",
      "418 matching events found\n",
      "No baseline correction applied\n",
      "0 projection items activated\n",
      "Applying baseline correction (mode: mean)\n",
      "Reading F:\\Documents\\Science\\MirRevAdaptEEG\\data\\eeg\\p017\\lrp\\mra_p017_run0-epo.fif ...\n",
      "    Found the data of interest:\n",
      "        t =   -2000.00 ...    1995.00 ms\n",
      "        0 CTF compensation matrices available\n",
      "Not setting metadata\n",
      "418 matching events found\n",
      "No baseline correction applied\n",
      "0 projection items activated\n",
      "Applying baseline correction (mode: mean)\n",
      "Reading F:\\Documents\\Science\\MirRevAdaptEEG\\data\\eeg\\p018\\lrp\\mra_p018_run0-epo.fif ...\n",
      "    Found the data of interest:\n",
      "        t =   -2000.00 ...    1995.00 ms\n",
      "        0 CTF compensation matrices available\n",
      "Not setting metadata\n",
      "419 matching events found\n",
      "No baseline correction applied\n",
      "0 projection items activated\n",
      "Applying baseline correction (mode: mean)\n",
      "Reading F:\\Documents\\Science\\MirRevAdaptEEG\\data\\eeg\\p019\\lrp\\mra_p019_run0-epo.fif ...\n",
      "    Found the data of interest:\n",
      "        t =   -2000.00 ...    1995.00 ms\n",
      "        0 CTF compensation matrices available\n",
      "Not setting metadata\n",
      "419 matching events found\n",
      "No baseline correction applied\n",
      "0 projection items activated\n",
      "Applying baseline correction (mode: mean)\n",
      "Reading F:\\Documents\\Science\\MirRevAdaptEEG\\data\\eeg\\p020\\lrp\\mra_p020_run0-epo.fif ...\n",
      "    Found the data of interest:\n",
      "        t =   -2000.00 ...    1995.00 ms\n",
      "        0 CTF compensation matrices available\n",
      "Not setting metadata\n",
      "420 matching events found\n",
      "No baseline correction applied\n",
      "0 projection items activated\n",
      "Applying baseline correction (mode: mean)\n",
      "[1, 3, 5, 6, 9, 11, 13, 16, 17, 19, 20, 23]\n",
      "Overwriting existing file.\n",
      "Setting up low-pass filter at 30 Hz\n",
      "\n",
      "FIR filter parameters\n",
      "---------------------\n",
      "Designing a one-pass, zero-phase, non-causal lowpass filter:\n",
      "- Windowed time-domain design (firwin) method\n",
      "- Hamming window with 0.0194 passband ripple and 53 dB stopband attenuation\n",
      "- Upper passband edge: 30.00 Hz\n",
      "- Upper transition bandwidth: 7.50 Hz (-6 dB cutoff frequency: 33.75 Hz)\n",
      "- Filter length: 89 samples (0.445 sec)\n",
      "\n"
     ]
    },
    {
     "name": "stderr",
     "output_type": "stream",
     "text": [
      "[Parallel(n_jobs=1)]: Using backend SequentialBackend with 1 concurrent workers.\n",
      "[Parallel(n_jobs=1)]: Done   1 out of   1 | elapsed:    0.0s remaining:    0.0s\n",
      "[Parallel(n_jobs=1)]: Done   2 out of   2 | elapsed:    0.0s remaining:    0.0s\n",
      "[Parallel(n_jobs=1)]: Done   3 out of   3 | elapsed:    0.0s remaining:    0.0s\n",
      "[Parallel(n_jobs=1)]: Done   4 out of   4 | elapsed:    0.0s remaining:    0.0s\n"
     ]
    },
    {
     "name": "stdout",
     "output_type": "stream",
     "text": [
      "Overwriting existing file.\n",
      "[25, 27, 29, 30, 33, 35, 37, 38, 39, 43, 46, 47]\n",
      "Overwriting existing file.\n",
      "Setting up low-pass filter at 30 Hz\n",
      "\n",
      "FIR filter parameters\n",
      "---------------------\n",
      "Designing a one-pass, zero-phase, non-causal lowpass filter:\n",
      "- Windowed time-domain design (firwin) method\n",
      "- Hamming window with 0.0194 passband ripple and 53 dB stopband attenuation\n",
      "- Upper passband edge: 30.00 Hz\n",
      "- Upper transition bandwidth: 7.50 Hz (-6 dB cutoff frequency: 33.75 Hz)\n",
      "- Filter length: 89 samples (0.445 sec)\n",
      "\n"
     ]
    },
    {
     "name": "stderr",
     "output_type": "stream",
     "text": [
      "[Parallel(n_jobs=1)]: Done 768 out of 768 | elapsed:    0.2s finished\n",
      "[Parallel(n_jobs=1)]: Using backend SequentialBackend with 1 concurrent workers.\n",
      "[Parallel(n_jobs=1)]: Done   1 out of   1 | elapsed:    0.0s remaining:    0.0s\n",
      "[Parallel(n_jobs=1)]: Done   2 out of   2 | elapsed:    0.0s remaining:    0.0s\n",
      "[Parallel(n_jobs=1)]: Done   3 out of   3 | elapsed:    0.0s remaining:    0.0s\n",
      "[Parallel(n_jobs=1)]: Done   4 out of   4 | elapsed:    0.0s remaining:    0.0s\n"
     ]
    },
    {
     "name": "stdout",
     "output_type": "stream",
     "text": [
      "Overwriting existing file.\n",
      "[0, 2, 4, 7, 8, 10, 12, 14, 15, 18, 21, 22]\n",
      "Overwriting existing file.\n",
      "Setting up low-pass filter at 30 Hz\n",
      "\n",
      "FIR filter parameters\n",
      "---------------------\n",
      "Designing a one-pass, zero-phase, non-causal lowpass filter:\n",
      "- Windowed time-domain design (firwin) method\n",
      "- Hamming window with 0.0194 passband ripple and 53 dB stopband attenuation\n",
      "- Upper passband edge: 30.00 Hz\n",
      "- Upper transition bandwidth: 7.50 Hz (-6 dB cutoff frequency: 33.75 Hz)\n",
      "- Filter length: 89 samples (0.445 sec)\n",
      "\n"
     ]
    },
    {
     "name": "stderr",
     "output_type": "stream",
     "text": [
      "[Parallel(n_jobs=1)]: Done 768 out of 768 | elapsed:    0.2s finished\n",
      "[Parallel(n_jobs=1)]: Using backend SequentialBackend with 1 concurrent workers.\n",
      "[Parallel(n_jobs=1)]: Done   1 out of   1 | elapsed:    0.0s remaining:    0.0s\n",
      "[Parallel(n_jobs=1)]: Done   2 out of   2 | elapsed:    0.0s remaining:    0.0s\n",
      "[Parallel(n_jobs=1)]: Done   3 out of   3 | elapsed:    0.0s remaining:    0.0s\n",
      "[Parallel(n_jobs=1)]: Done   4 out of   4 | elapsed:    0.0s remaining:    0.0s\n"
     ]
    },
    {
     "name": "stdout",
     "output_type": "stream",
     "text": [
      "Overwriting existing file.\n",
      "[24, 26, 28, 31, 32, 34, 36, 40, 41, 42, 44, 45]\n",
      "Overwriting existing file.\n",
      "Setting up low-pass filter at 30 Hz\n",
      "\n",
      "FIR filter parameters\n",
      "---------------------\n",
      "Designing a one-pass, zero-phase, non-causal lowpass filter:\n",
      "- Windowed time-domain design (firwin) method\n",
      "- Hamming window with 0.0194 passband ripple and 53 dB stopband attenuation\n",
      "- Upper passband edge: 30.00 Hz\n",
      "- Upper transition bandwidth: 7.50 Hz (-6 dB cutoff frequency: 33.75 Hz)\n",
      "- Filter length: 89 samples (0.445 sec)\n",
      "\n"
     ]
    },
    {
     "name": "stderr",
     "output_type": "stream",
     "text": [
      "[Parallel(n_jobs=1)]: Done 768 out of 768 | elapsed:    0.2s finished\n",
      "[Parallel(n_jobs=1)]: Using backend SequentialBackend with 1 concurrent workers.\n",
      "[Parallel(n_jobs=1)]: Done   1 out of   1 | elapsed:    0.0s remaining:    0.0s\n",
      "[Parallel(n_jobs=1)]: Done   2 out of   2 | elapsed:    0.0s remaining:    0.0s\n",
      "[Parallel(n_jobs=1)]: Done   3 out of   3 | elapsed:    0.0s remaining:    0.0s\n",
      "[Parallel(n_jobs=1)]: Done   4 out of   4 | elapsed:    0.0s remaining:    0.0s\n"
     ]
    },
    {
     "name": "stdout",
     "output_type": "stream",
     "text": [
      "Overwriting existing file.\n",
      "Reading F:\\Documents\\Science\\MirRevAdaptEEG\\data\\eeg\\p021\\lrp\\mra_p021_run0-epo.fif ...\n",
      "    Found the data of interest:\n",
      "        t =   -2000.00 ...    1995.00 ms\n",
      "        0 CTF compensation matrices available\n"
     ]
    },
    {
     "name": "stderr",
     "output_type": "stream",
     "text": [
      "[Parallel(n_jobs=1)]: Done 768 out of 768 | elapsed:    0.2s finished\n"
     ]
    },
    {
     "name": "stdout",
     "output_type": "stream",
     "text": [
      "Not setting metadata\n",
      "419 matching events found\n",
      "No baseline correction applied\n",
      "0 projection items activated\n",
      "Applying baseline correction (mode: mean)\n",
      "[1, 4, 5, 6, 9, 10, 13, 15, 17, 20, 22, 23]\n",
      "Overwriting existing file.\n",
      "Setting up low-pass filter at 30 Hz\n",
      "\n",
      "FIR filter parameters\n",
      "---------------------\n",
      "Designing a one-pass, zero-phase, non-causal lowpass filter:\n",
      "- Windowed time-domain design (firwin) method\n",
      "- Hamming window with 0.0194 passband ripple and 53 dB stopband attenuation\n",
      "- Upper passband edge: 30.00 Hz\n",
      "- Upper transition bandwidth: 7.50 Hz (-6 dB cutoff frequency: 33.75 Hz)\n",
      "- Filter length: 89 samples (0.445 sec)\n",
      "\n"
     ]
    },
    {
     "name": "stderr",
     "output_type": "stream",
     "text": [
      "[Parallel(n_jobs=1)]: Using backend SequentialBackend with 1 concurrent workers.\n",
      "[Parallel(n_jobs=1)]: Done   1 out of   1 | elapsed:    0.0s remaining:    0.0s\n",
      "[Parallel(n_jobs=1)]: Done   2 out of   2 | elapsed:    0.0s remaining:    0.0s\n",
      "[Parallel(n_jobs=1)]: Done   3 out of   3 | elapsed:    0.0s remaining:    0.0s\n",
      "[Parallel(n_jobs=1)]: Done   4 out of   4 | elapsed:    0.0s remaining:    0.0s\n"
     ]
    },
    {
     "name": "stdout",
     "output_type": "stream",
     "text": [
      "Overwriting existing file.\n",
      "[24, 27, 29, 30, 32, 33, 37, 38, 41, 44, 45, 46]\n",
      "Overwriting existing file.\n",
      "Setting up low-pass filter at 30 Hz\n",
      "\n",
      "FIR filter parameters\n",
      "---------------------\n",
      "Designing a one-pass, zero-phase, non-causal lowpass filter:\n",
      "- Windowed time-domain design (firwin) method\n",
      "- Hamming window with 0.0194 passband ripple and 53 dB stopband attenuation\n",
      "- Upper passband edge: 30.00 Hz\n",
      "- Upper transition bandwidth: 7.50 Hz (-6 dB cutoff frequency: 33.75 Hz)\n",
      "- Filter length: 89 samples (0.445 sec)\n",
      "\n"
     ]
    },
    {
     "name": "stderr",
     "output_type": "stream",
     "text": [
      "[Parallel(n_jobs=1)]: Done 768 out of 768 | elapsed:    0.2s finished\n",
      "[Parallel(n_jobs=1)]: Using backend SequentialBackend with 1 concurrent workers.\n",
      "[Parallel(n_jobs=1)]: Done   1 out of   1 | elapsed:    0.0s remaining:    0.0s\n",
      "[Parallel(n_jobs=1)]: Done   2 out of   2 | elapsed:    0.0s remaining:    0.0s\n",
      "[Parallel(n_jobs=1)]: Done   3 out of   3 | elapsed:    0.0s remaining:    0.0s\n",
      "[Parallel(n_jobs=1)]: Done   4 out of   4 | elapsed:    0.0s remaining:    0.0s\n"
     ]
    },
    {
     "name": "stdout",
     "output_type": "stream",
     "text": [
      "Overwriting existing file.\n",
      "[0, 2, 3, 7, 8, 11, 12, 14, 16, 18, 19, 21]\n",
      "Overwriting existing file.\n",
      "Setting up low-pass filter at 30 Hz\n",
      "\n",
      "FIR filter parameters\n",
      "---------------------\n",
      "Designing a one-pass, zero-phase, non-causal lowpass filter:\n",
      "- Windowed time-domain design (firwin) method\n",
      "- Hamming window with 0.0194 passband ripple and 53 dB stopband attenuation\n",
      "- Upper passband edge: 30.00 Hz\n",
      "- Upper transition bandwidth: 7.50 Hz (-6 dB cutoff frequency: 33.75 Hz)\n",
      "- Filter length: 89 samples (0.445 sec)\n",
      "\n"
     ]
    },
    {
     "name": "stderr",
     "output_type": "stream",
     "text": [
      "[Parallel(n_jobs=1)]: Done 768 out of 768 | elapsed:    0.2s finished\n",
      "[Parallel(n_jobs=1)]: Using backend SequentialBackend with 1 concurrent workers.\n",
      "[Parallel(n_jobs=1)]: Done   1 out of   1 | elapsed:    0.0s remaining:    0.0s\n",
      "[Parallel(n_jobs=1)]: Done   2 out of   2 | elapsed:    0.0s remaining:    0.0s\n",
      "[Parallel(n_jobs=1)]: Done   3 out of   3 | elapsed:    0.0s remaining:    0.0s\n",
      "[Parallel(n_jobs=1)]: Done   4 out of   4 | elapsed:    0.0s remaining:    0.0s\n"
     ]
    },
    {
     "name": "stdout",
     "output_type": "stream",
     "text": [
      "Overwriting existing file.\n",
      "[25, 26, 28, 31, 34, 35, 36, 39, 40, 42, 43, 47]\n",
      "Overwriting existing file.\n",
      "Setting up low-pass filter at 30 Hz\n",
      "\n",
      "FIR filter parameters\n",
      "---------------------\n",
      "Designing a one-pass, zero-phase, non-causal lowpass filter:\n",
      "- Windowed time-domain design (firwin) method\n",
      "- Hamming window with 0.0194 passband ripple and 53 dB stopband attenuation\n",
      "- Upper passband edge: 30.00 Hz\n",
      "- Upper transition bandwidth: 7.50 Hz (-6 dB cutoff frequency: 33.75 Hz)\n",
      "- Filter length: 89 samples (0.445 sec)\n",
      "\n"
     ]
    },
    {
     "name": "stderr",
     "output_type": "stream",
     "text": [
      "[Parallel(n_jobs=1)]: Done 768 out of 768 | elapsed:    0.2s finished\n",
      "[Parallel(n_jobs=1)]: Using backend SequentialBackend with 1 concurrent workers.\n",
      "[Parallel(n_jobs=1)]: Done   1 out of   1 | elapsed:    0.0s remaining:    0.0s\n",
      "[Parallel(n_jobs=1)]: Done   2 out of   2 | elapsed:    0.0s remaining:    0.0s\n",
      "[Parallel(n_jobs=1)]: Done   3 out of   3 | elapsed:    0.0s remaining:    0.0s\n",
      "[Parallel(n_jobs=1)]: Done   4 out of   4 | elapsed:    0.0s remaining:    0.0s\n"
     ]
    },
    {
     "name": "stdout",
     "output_type": "stream",
     "text": [
      "Overwriting existing file.\n",
      "Reading F:\\Documents\\Science\\MirRevAdaptEEG\\data\\eeg\\p022\\lrp\\mra_p022_run0-epo.fif ...\n",
      "    Found the data of interest:\n",
      "        t =   -2000.00 ...    1995.00 ms\n",
      "        0 CTF compensation matrices available\n",
      "Not setting metadata\n"
     ]
    },
    {
     "name": "stderr",
     "output_type": "stream",
     "text": [
      "[Parallel(n_jobs=1)]: Done 768 out of 768 | elapsed:    0.2s finished\n"
     ]
    },
    {
     "name": "stdout",
     "output_type": "stream",
     "text": [
      "420 matching events found\n",
      "No baseline correction applied\n",
      "0 projection items activated\n",
      "Applying baseline correction (mode: mean)\n",
      "[1, 3, 4, 6, 9, 10, 12, 16, 17, 20, 21, 22]\n",
      "Overwriting existing file.\n",
      "Setting up low-pass filter at 30 Hz\n",
      "\n",
      "FIR filter parameters\n",
      "---------------------\n",
      "Designing a one-pass, zero-phase, non-causal lowpass filter:\n",
      "- Windowed time-domain design (firwin) method\n",
      "- Hamming window with 0.0194 passband ripple and 53 dB stopband attenuation\n",
      "- Upper passband edge: 30.00 Hz\n",
      "- Upper transition bandwidth: 7.50 Hz (-6 dB cutoff frequency: 33.75 Hz)\n",
      "- Filter length: 89 samples (0.445 sec)\n",
      "\n"
     ]
    },
    {
     "name": "stderr",
     "output_type": "stream",
     "text": [
      "[Parallel(n_jobs=1)]: Using backend SequentialBackend with 1 concurrent workers.\n",
      "[Parallel(n_jobs=1)]: Done   1 out of   1 | elapsed:    0.0s remaining:    0.0s\n",
      "[Parallel(n_jobs=1)]: Done   2 out of   2 | elapsed:    0.0s remaining:    0.0s\n",
      "[Parallel(n_jobs=1)]: Done   3 out of   3 | elapsed:    0.0s remaining:    0.0s\n",
      "[Parallel(n_jobs=1)]: Done   4 out of   4 | elapsed:    0.0s remaining:    0.0s\n"
     ]
    },
    {
     "name": "stdout",
     "output_type": "stream",
     "text": [
      "Overwriting existing file.\n",
      "[24, 25, 28, 31, 32, 34, 37, 38, 39, 42, 46, 47]\n",
      "Overwriting existing file.\n",
      "Setting up low-pass filter at 30 Hz\n",
      "\n",
      "FIR filter parameters\n",
      "---------------------\n",
      "Designing a one-pass, zero-phase, non-causal lowpass filter:\n",
      "- Windowed time-domain design (firwin) method\n",
      "- Hamming window with 0.0194 passband ripple and 53 dB stopband attenuation\n",
      "- Upper passband edge: 30.00 Hz\n",
      "- Upper transition bandwidth: 7.50 Hz (-6 dB cutoff frequency: 33.75 Hz)\n",
      "- Filter length: 89 samples (0.445 sec)\n",
      "\n"
     ]
    },
    {
     "name": "stderr",
     "output_type": "stream",
     "text": [
      "[Parallel(n_jobs=1)]: Done 768 out of 768 | elapsed:    0.2s finished\n",
      "[Parallel(n_jobs=1)]: Using backend SequentialBackend with 1 concurrent workers.\n",
      "[Parallel(n_jobs=1)]: Done   1 out of   1 | elapsed:    0.0s remaining:    0.0s\n",
      "[Parallel(n_jobs=1)]: Done   2 out of   2 | elapsed:    0.0s remaining:    0.0s\n",
      "[Parallel(n_jobs=1)]: Done   3 out of   3 | elapsed:    0.0s remaining:    0.0s\n",
      "[Parallel(n_jobs=1)]: Done   4 out of   4 | elapsed:    0.0s remaining:    0.0s\n"
     ]
    },
    {
     "name": "stdout",
     "output_type": "stream",
     "text": [
      "Overwriting existing file.\n",
      "[0, 2, 5, 7, 8, 11, 13, 14, 15, 18, 19, 23]\n",
      "Overwriting existing file.\n",
      "Setting up low-pass filter at 30 Hz\n",
      "\n",
      "FIR filter parameters\n",
      "---------------------\n",
      "Designing a one-pass, zero-phase, non-causal lowpass filter:\n",
      "- Windowed time-domain design (firwin) method\n",
      "- Hamming window with 0.0194 passband ripple and 53 dB stopband attenuation\n",
      "- Upper passband edge: 30.00 Hz\n",
      "- Upper transition bandwidth: 7.50 Hz (-6 dB cutoff frequency: 33.75 Hz)\n",
      "- Filter length: 89 samples (0.445 sec)\n",
      "\n"
     ]
    },
    {
     "name": "stderr",
     "output_type": "stream",
     "text": [
      "[Parallel(n_jobs=1)]: Done 768 out of 768 | elapsed:    0.2s finished\n",
      "[Parallel(n_jobs=1)]: Using backend SequentialBackend with 1 concurrent workers.\n",
      "[Parallel(n_jobs=1)]: Done   1 out of   1 | elapsed:    0.0s remaining:    0.0s\n",
      "[Parallel(n_jobs=1)]: Done   2 out of   2 | elapsed:    0.0s remaining:    0.0s\n",
      "[Parallel(n_jobs=1)]: Done   3 out of   3 | elapsed:    0.0s remaining:    0.0s\n",
      "[Parallel(n_jobs=1)]: Done   4 out of   4 | elapsed:    0.0s remaining:    0.0s\n"
     ]
    },
    {
     "name": "stdout",
     "output_type": "stream",
     "text": [
      "Overwriting existing file.\n",
      "[26, 27, 29, 30, 33, 35, 36, 40, 41, 43, 44, 45]\n",
      "Overwriting existing file.\n",
      "Setting up low-pass filter at 30 Hz\n",
      "\n",
      "FIR filter parameters\n",
      "---------------------\n",
      "Designing a one-pass, zero-phase, non-causal lowpass filter:\n",
      "- Windowed time-domain design (firwin) method\n",
      "- Hamming window with 0.0194 passband ripple and 53 dB stopband attenuation\n",
      "- Upper passband edge: 30.00 Hz\n",
      "- Upper transition bandwidth: 7.50 Hz (-6 dB cutoff frequency: 33.75 Hz)\n",
      "- Filter length: 89 samples (0.445 sec)\n",
      "\n"
     ]
    },
    {
     "name": "stderr",
     "output_type": "stream",
     "text": [
      "[Parallel(n_jobs=1)]: Done 768 out of 768 | elapsed:    0.2s finished\n",
      "[Parallel(n_jobs=1)]: Using backend SequentialBackend with 1 concurrent workers.\n",
      "[Parallel(n_jobs=1)]: Done   1 out of   1 | elapsed:    0.0s remaining:    0.0s\n",
      "[Parallel(n_jobs=1)]: Done   2 out of   2 | elapsed:    0.0s remaining:    0.0s\n",
      "[Parallel(n_jobs=1)]: Done   3 out of   3 | elapsed:    0.0s remaining:    0.0s\n",
      "[Parallel(n_jobs=1)]: Done   4 out of   4 | elapsed:    0.0s remaining:    0.0s\n"
     ]
    },
    {
     "name": "stdout",
     "output_type": "stream",
     "text": [
      "Overwriting existing file.\n",
      "Reading F:\\Documents\\Science\\MirRevAdaptEEG\\data\\eeg\\p023\\lrp\\mra_p023_run0-epo.fif ...\n",
      "    Found the data of interest:\n",
      "        t =   -2000.00 ...    1995.00 ms\n",
      "        0 CTF compensation matrices available\n",
      "Not setting metadata\n"
     ]
    },
    {
     "name": "stderr",
     "output_type": "stream",
     "text": [
      "[Parallel(n_jobs=1)]: Done 768 out of 768 | elapsed:    0.2s finished\n"
     ]
    },
    {
     "name": "stdout",
     "output_type": "stream",
     "text": [
      "420 matching events found\n",
      "No baseline correction applied\n",
      "0 projection items activated\n",
      "Applying baseline correction (mode: mean)\n",
      "[0, 1, 4, 6, 9, 10, 13, 16, 17, 20, 21, 22]\n",
      "Overwriting existing file.\n",
      "Setting up low-pass filter at 30 Hz\n",
      "\n",
      "FIR filter parameters\n",
      "---------------------\n",
      "Designing a one-pass, zero-phase, non-causal lowpass filter:\n",
      "- Windowed time-domain design (firwin) method\n",
      "- Hamming window with 0.0194 passband ripple and 53 dB stopband attenuation\n",
      "- Upper passband edge: 30.00 Hz\n",
      "- Upper transition bandwidth: 7.50 Hz (-6 dB cutoff frequency: 33.75 Hz)\n",
      "- Filter length: 89 samples (0.445 sec)\n",
      "\n"
     ]
    },
    {
     "name": "stderr",
     "output_type": "stream",
     "text": [
      "[Parallel(n_jobs=1)]: Using backend SequentialBackend with 1 concurrent workers.\n",
      "[Parallel(n_jobs=1)]: Done   1 out of   1 | elapsed:    0.0s remaining:    0.0s\n",
      "[Parallel(n_jobs=1)]: Done   2 out of   2 | elapsed:    0.0s remaining:    0.0s\n",
      "[Parallel(n_jobs=1)]: Done   3 out of   3 | elapsed:    0.0s remaining:    0.0s\n",
      "[Parallel(n_jobs=1)]: Done   4 out of   4 | elapsed:    0.0s remaining:    0.0s\n"
     ]
    },
    {
     "name": "stdout",
     "output_type": "stream",
     "text": [
      "Overwriting existing file.\n",
      "[26, 28, 29, 31, 32, 33, 38, 39, 40, 45, 46, 47]\n",
      "Overwriting existing file.\n",
      "Setting up low-pass filter at 30 Hz\n",
      "\n",
      "FIR filter parameters\n",
      "---------------------\n",
      "Designing a one-pass, zero-phase, non-causal lowpass filter:\n",
      "- Windowed time-domain design (firwin) method\n",
      "- Hamming window with 0.0194 passband ripple and 53 dB stopband attenuation\n",
      "- Upper passband edge: 30.00 Hz\n",
      "- Upper transition bandwidth: 7.50 Hz (-6 dB cutoff frequency: 33.75 Hz)\n",
      "- Filter length: 89 samples (0.445 sec)\n",
      "\n"
     ]
    },
    {
     "name": "stderr",
     "output_type": "stream",
     "text": [
      "[Parallel(n_jobs=1)]: Done 768 out of 768 | elapsed:    0.2s finished\n",
      "[Parallel(n_jobs=1)]: Using backend SequentialBackend with 1 concurrent workers.\n",
      "[Parallel(n_jobs=1)]: Done   1 out of   1 | elapsed:    0.0s remaining:    0.0s\n",
      "[Parallel(n_jobs=1)]: Done   2 out of   2 | elapsed:    0.0s remaining:    0.0s\n",
      "[Parallel(n_jobs=1)]: Done   3 out of   3 | elapsed:    0.0s remaining:    0.0s\n",
      "[Parallel(n_jobs=1)]: Done   4 out of   4 | elapsed:    0.0s remaining:    0.0s\n"
     ]
    },
    {
     "name": "stdout",
     "output_type": "stream",
     "text": [
      "Overwriting existing file.\n",
      "[2, 3, 5, 7, 8, 11, 12, 14, 15, 18, 19, 23]\n",
      "Overwriting existing file.\n",
      "Setting up low-pass filter at 30 Hz\n",
      "\n",
      "FIR filter parameters\n",
      "---------------------\n",
      "Designing a one-pass, zero-phase, non-causal lowpass filter:\n",
      "- Windowed time-domain design (firwin) method\n",
      "- Hamming window with 0.0194 passband ripple and 53 dB stopband attenuation\n",
      "- Upper passband edge: 30.00 Hz\n",
      "- Upper transition bandwidth: 7.50 Hz (-6 dB cutoff frequency: 33.75 Hz)\n",
      "- Filter length: 89 samples (0.445 sec)\n",
      "\n"
     ]
    },
    {
     "name": "stderr",
     "output_type": "stream",
     "text": [
      "[Parallel(n_jobs=1)]: Done 768 out of 768 | elapsed:    0.2s finished\n",
      "[Parallel(n_jobs=1)]: Using backend SequentialBackend with 1 concurrent workers.\n",
      "[Parallel(n_jobs=1)]: Done   1 out of   1 | elapsed:    0.0s remaining:    0.0s\n",
      "[Parallel(n_jobs=1)]: Done   2 out of   2 | elapsed:    0.0s remaining:    0.0s\n",
      "[Parallel(n_jobs=1)]: Done   3 out of   3 | elapsed:    0.0s remaining:    0.0s\n",
      "[Parallel(n_jobs=1)]: Done   4 out of   4 | elapsed:    0.0s remaining:    0.0s\n"
     ]
    },
    {
     "name": "stdout",
     "output_type": "stream",
     "text": [
      "Overwriting existing file.\n",
      "[24, 25, 27, 30, 34, 35, 36, 37, 41, 42, 43, 44]\n",
      "Overwriting existing file.\n",
      "Setting up low-pass filter at 30 Hz\n",
      "\n",
      "FIR filter parameters\n",
      "---------------------\n",
      "Designing a one-pass, zero-phase, non-causal lowpass filter:\n",
      "- Windowed time-domain design (firwin) method\n",
      "- Hamming window with 0.0194 passband ripple and 53 dB stopband attenuation\n",
      "- Upper passband edge: 30.00 Hz\n",
      "- Upper transition bandwidth: 7.50 Hz (-6 dB cutoff frequency: 33.75 Hz)\n",
      "- Filter length: 89 samples (0.445 sec)\n",
      "\n"
     ]
    },
    {
     "name": "stderr",
     "output_type": "stream",
     "text": [
      "[Parallel(n_jobs=1)]: Done 768 out of 768 | elapsed:    0.2s finished\n",
      "[Parallel(n_jobs=1)]: Using backend SequentialBackend with 1 concurrent workers.\n",
      "[Parallel(n_jobs=1)]: Done   1 out of   1 | elapsed:    0.0s remaining:    0.0s\n",
      "[Parallel(n_jobs=1)]: Done   2 out of   2 | elapsed:    0.0s remaining:    0.0s\n",
      "[Parallel(n_jobs=1)]: Done   3 out of   3 | elapsed:    0.0s remaining:    0.0s\n",
      "[Parallel(n_jobs=1)]: Done   4 out of   4 | elapsed:    0.0s remaining:    0.0s\n"
     ]
    },
    {
     "name": "stdout",
     "output_type": "stream",
     "text": [
      "Overwriting existing file.\n",
      "Reading F:\\Documents\\Science\\MirRevAdaptEEG\\data\\eeg\\p024\\lrp\\mra_p024_run0-epo.fif ...\n",
      "    Found the data of interest:\n",
      "        t =   -2000.00 ...    1995.00 ms\n",
      "        0 CTF compensation matrices available\n",
      "Not setting metadata\n",
      "420 matching events found\n",
      "No baseline correction applied\n"
     ]
    },
    {
     "name": "stderr",
     "output_type": "stream",
     "text": [
      "[Parallel(n_jobs=1)]: Done 768 out of 768 | elapsed:    0.2s finished\n"
     ]
    },
    {
     "name": "stdout",
     "output_type": "stream",
     "text": [
      "0 projection items activated\n",
      "Applying baseline correction (mode: mean)\n",
      "Reading F:\\Documents\\Science\\MirRevAdaptEEG\\data\\eeg\\p025\\lrp\\mra_p025_run0-epo.fif ...\n",
      "    Found the data of interest:\n",
      "        t =   -2000.00 ...    1995.00 ms\n",
      "        0 CTF compensation matrices available\n",
      "Not setting metadata\n",
      "420 matching events found\n",
      "No baseline correction applied\n",
      "0 projection items activated\n",
      "Applying baseline correction (mode: mean)\n",
      "Reading F:\\Documents\\Science\\MirRevAdaptEEG\\data\\eeg\\p026\\lrp\\mra_p026_run0-epo.fif ...\n",
      "    Found the data of interest:\n",
      "        t =   -2000.00 ...    1995.00 ms\n",
      "        0 CTF compensation matrices available\n",
      "Not setting metadata\n",
      "420 matching events found\n",
      "No baseline correction applied\n",
      "0 projection items activated\n",
      "Applying baseline correction (mode: mean)\n",
      "Reading F:\\Documents\\Science\\MirRevAdaptEEG\\data\\eeg\\p027\\lrp\\mra_p027_run0-epo.fif ...\n",
      "    Found the data of interest:\n",
      "        t =   -2000.00 ...    1995.00 ms\n",
      "        0 CTF compensation matrices available\n",
      "Not setting metadata\n",
      "419 matching events found\n",
      "No baseline correction applied\n",
      "0 projection items activated\n",
      "Applying baseline correction (mode: mean)\n",
      "Reading F:\\Documents\\Science\\MirRevAdaptEEG\\data\\eeg\\p028\\lrp\\mra_p028_run0-epo.fif ...\n",
      "    Found the data of interest:\n",
      "        t =   -2000.00 ...    1995.00 ms\n",
      "        0 CTF compensation matrices available\n",
      "Not setting metadata\n",
      "420 matching events found\n",
      "No baseline correction applied\n",
      "0 projection items activated\n",
      "Applying baseline correction (mode: mean)\n",
      "[3, 4, 5, 6, 10, 11, 13, 16, 17, 20, 21, 22]\n",
      "Overwriting existing file.\n",
      "Setting up low-pass filter at 30 Hz\n",
      "\n",
      "FIR filter parameters\n",
      "---------------------\n",
      "Designing a one-pass, zero-phase, non-causal lowpass filter:\n",
      "- Windowed time-domain design (firwin) method\n",
      "- Hamming window with 0.0194 passband ripple and 53 dB stopband attenuation\n",
      "- Upper passband edge: 30.00 Hz\n",
      "- Upper transition bandwidth: 7.50 Hz (-6 dB cutoff frequency: 33.75 Hz)\n",
      "- Filter length: 89 samples (0.445 sec)\n",
      "\n"
     ]
    },
    {
     "name": "stderr",
     "output_type": "stream",
     "text": [
      "[Parallel(n_jobs=1)]: Using backend SequentialBackend with 1 concurrent workers.\n",
      "[Parallel(n_jobs=1)]: Done   1 out of   1 | elapsed:    0.0s remaining:    0.0s\n",
      "[Parallel(n_jobs=1)]: Done   2 out of   2 | elapsed:    0.0s remaining:    0.0s\n",
      "[Parallel(n_jobs=1)]: Done   3 out of   3 | elapsed:    0.0s remaining:    0.0s\n",
      "[Parallel(n_jobs=1)]: Done   4 out of   4 | elapsed:    0.0s remaining:    0.0s\n"
     ]
    },
    {
     "name": "stdout",
     "output_type": "stream",
     "text": [
      "Overwriting existing file.\n",
      "[24, 26, 28, 32, 33, 35, 38, 39, 40, 43, 45, 47]\n",
      "Overwriting existing file.\n",
      "Setting up low-pass filter at 30 Hz\n",
      "\n",
      "FIR filter parameters\n",
      "---------------------\n",
      "Designing a one-pass, zero-phase, non-causal lowpass filter:\n",
      "- Windowed time-domain design (firwin) method\n",
      "- Hamming window with 0.0194 passband ripple and 53 dB stopband attenuation\n",
      "- Upper passband edge: 30.00 Hz\n",
      "- Upper transition bandwidth: 7.50 Hz (-6 dB cutoff frequency: 33.75 Hz)\n",
      "- Filter length: 89 samples (0.445 sec)\n",
      "\n"
     ]
    },
    {
     "name": "stderr",
     "output_type": "stream",
     "text": [
      "[Parallel(n_jobs=1)]: Done 768 out of 768 | elapsed:    0.2s finished\n",
      "[Parallel(n_jobs=1)]: Using backend SequentialBackend with 1 concurrent workers.\n",
      "[Parallel(n_jobs=1)]: Done   1 out of   1 | elapsed:    0.0s remaining:    0.0s\n",
      "[Parallel(n_jobs=1)]: Done   2 out of   2 | elapsed:    0.0s remaining:    0.0s\n",
      "[Parallel(n_jobs=1)]: Done   3 out of   3 | elapsed:    0.0s remaining:    0.0s\n",
      "[Parallel(n_jobs=1)]: Done   4 out of   4 | elapsed:    0.0s remaining:    0.0s\n"
     ]
    },
    {
     "name": "stdout",
     "output_type": "stream",
     "text": [
      "Overwriting existing file.\n",
      "[0, 1, 2, 7, 8, 9, 12, 14, 15, 18, 19, 23]\n",
      "Overwriting existing file.\n",
      "Setting up low-pass filter at 30 Hz\n",
      "\n",
      "FIR filter parameters\n",
      "---------------------\n",
      "Designing a one-pass, zero-phase, non-causal lowpass filter:\n",
      "- Windowed time-domain design (firwin) method\n",
      "- Hamming window with 0.0194 passband ripple and 53 dB stopband attenuation\n",
      "- Upper passband edge: 30.00 Hz\n",
      "- Upper transition bandwidth: 7.50 Hz (-6 dB cutoff frequency: 33.75 Hz)\n",
      "- Filter length: 89 samples (0.445 sec)\n",
      "\n"
     ]
    },
    {
     "name": "stderr",
     "output_type": "stream",
     "text": [
      "[Parallel(n_jobs=1)]: Done 768 out of 768 | elapsed:    0.2s finished\n",
      "[Parallel(n_jobs=1)]: Using backend SequentialBackend with 1 concurrent workers.\n",
      "[Parallel(n_jobs=1)]: Done   1 out of   1 | elapsed:    0.0s remaining:    0.0s\n",
      "[Parallel(n_jobs=1)]: Done   2 out of   2 | elapsed:    0.0s remaining:    0.0s\n",
      "[Parallel(n_jobs=1)]: Done   3 out of   3 | elapsed:    0.0s remaining:    0.0s\n",
      "[Parallel(n_jobs=1)]: Done   4 out of   4 | elapsed:    0.0s remaining:    0.0s\n"
     ]
    },
    {
     "name": "stdout",
     "output_type": "stream",
     "text": [
      "Overwriting existing file.\n",
      "[25, 27, 29, 30, 31, 34, 36, 37, 41, 42, 44, 46]\n",
      "Overwriting existing file.\n",
      "Setting up low-pass filter at 30 Hz\n",
      "\n",
      "FIR filter parameters\n",
      "---------------------\n",
      "Designing a one-pass, zero-phase, non-causal lowpass filter:\n",
      "- Windowed time-domain design (firwin) method\n",
      "- Hamming window with 0.0194 passband ripple and 53 dB stopband attenuation\n",
      "- Upper passband edge: 30.00 Hz\n",
      "- Upper transition bandwidth: 7.50 Hz (-6 dB cutoff frequency: 33.75 Hz)\n",
      "- Filter length: 89 samples (0.445 sec)\n",
      "\n"
     ]
    },
    {
     "name": "stderr",
     "output_type": "stream",
     "text": [
      "[Parallel(n_jobs=1)]: Done 768 out of 768 | elapsed:    0.2s finished\n",
      "[Parallel(n_jobs=1)]: Using backend SequentialBackend with 1 concurrent workers.\n",
      "[Parallel(n_jobs=1)]: Done   1 out of   1 | elapsed:    0.0s remaining:    0.0s\n",
      "[Parallel(n_jobs=1)]: Done   2 out of   2 | elapsed:    0.0s remaining:    0.0s\n",
      "[Parallel(n_jobs=1)]: Done   3 out of   3 | elapsed:    0.0s remaining:    0.0s\n",
      "[Parallel(n_jobs=1)]: Done   4 out of   4 | elapsed:    0.0s remaining:    0.0s\n"
     ]
    },
    {
     "name": "stdout",
     "output_type": "stream",
     "text": [
      "Overwriting existing file.\n",
      "Reading F:\\Documents\\Science\\MirRevAdaptEEG\\data\\eeg\\p029\\lrp\\mra_p029_run0-epo.fif ...\n",
      "    Found the data of interest:\n",
      "        t =   -2000.00 ...    1995.00 ms\n",
      "        0 CTF compensation matrices available\n"
     ]
    },
    {
     "name": "stderr",
     "output_type": "stream",
     "text": [
      "[Parallel(n_jobs=1)]: Done 768 out of 768 | elapsed:    0.2s finished\n"
     ]
    },
    {
     "name": "stdout",
     "output_type": "stream",
     "text": [
      "Not setting metadata\n",
      "420 matching events found\n",
      "No baseline correction applied\n",
      "0 projection items activated\n",
      "Applying baseline correction (mode: mean)\n",
      "[0, 3, 5, 6, 10, 11, 12, 14, 15, 21, 22, 23]\n",
      "Overwriting existing file.\n",
      "Setting up low-pass filter at 30 Hz\n",
      "\n",
      "FIR filter parameters\n",
      "---------------------\n",
      "Designing a one-pass, zero-phase, non-causal lowpass filter:\n",
      "- Windowed time-domain design (firwin) method\n",
      "- Hamming window with 0.0194 passband ripple and 53 dB stopband attenuation\n",
      "- Upper passband edge: 30.00 Hz\n",
      "- Upper transition bandwidth: 7.50 Hz (-6 dB cutoff frequency: 33.75 Hz)\n",
      "- Filter length: 89 samples (0.445 sec)\n",
      "\n"
     ]
    },
    {
     "name": "stderr",
     "output_type": "stream",
     "text": [
      "[Parallel(n_jobs=1)]: Using backend SequentialBackend with 1 concurrent workers.\n",
      "[Parallel(n_jobs=1)]: Done   1 out of   1 | elapsed:    0.0s remaining:    0.0s\n",
      "[Parallel(n_jobs=1)]: Done   2 out of   2 | elapsed:    0.0s remaining:    0.0s\n",
      "[Parallel(n_jobs=1)]: Done   3 out of   3 | elapsed:    0.0s remaining:    0.0s\n",
      "[Parallel(n_jobs=1)]: Done   4 out of   4 | elapsed:    0.0s remaining:    0.0s\n"
     ]
    },
    {
     "name": "stdout",
     "output_type": "stream",
     "text": [
      "Overwriting existing file.\n",
      "[24, 27, 28, 32, 33, 34, 37, 39, 40, 42, 45, 46]\n",
      "Overwriting existing file.\n",
      "Setting up low-pass filter at 30 Hz\n",
      "\n",
      "FIR filter parameters\n",
      "---------------------\n",
      "Designing a one-pass, zero-phase, non-causal lowpass filter:\n",
      "- Windowed time-domain design (firwin) method\n",
      "- Hamming window with 0.0194 passband ripple and 53 dB stopband attenuation\n",
      "- Upper passband edge: 30.00 Hz\n",
      "- Upper transition bandwidth: 7.50 Hz (-6 dB cutoff frequency: 33.75 Hz)\n",
      "- Filter length: 89 samples (0.445 sec)\n",
      "\n"
     ]
    },
    {
     "name": "stderr",
     "output_type": "stream",
     "text": [
      "[Parallel(n_jobs=1)]: Done 768 out of 768 | elapsed:    0.2s finished\n",
      "[Parallel(n_jobs=1)]: Using backend SequentialBackend with 1 concurrent workers.\n",
      "[Parallel(n_jobs=1)]: Done   1 out of   1 | elapsed:    0.0s remaining:    0.0s\n",
      "[Parallel(n_jobs=1)]: Done   2 out of   2 | elapsed:    0.0s remaining:    0.0s\n",
      "[Parallel(n_jobs=1)]: Done   3 out of   3 | elapsed:    0.0s remaining:    0.0s\n",
      "[Parallel(n_jobs=1)]: Done   4 out of   4 | elapsed:    0.0s remaining:    0.0s\n"
     ]
    },
    {
     "name": "stdout",
     "output_type": "stream",
     "text": [
      "Overwriting existing file.\n",
      "[1, 2, 4, 7, 8, 9, 13, 16, 17, 18, 19, 20]\n",
      "Overwriting existing file.\n",
      "Setting up low-pass filter at 30 Hz\n",
      "\n",
      "FIR filter parameters\n",
      "---------------------\n",
      "Designing a one-pass, zero-phase, non-causal lowpass filter:\n",
      "- Windowed time-domain design (firwin) method\n",
      "- Hamming window with 0.0194 passband ripple and 53 dB stopband attenuation\n",
      "- Upper passband edge: 30.00 Hz\n",
      "- Upper transition bandwidth: 7.50 Hz (-6 dB cutoff frequency: 33.75 Hz)\n",
      "- Filter length: 89 samples (0.445 sec)\n",
      "\n"
     ]
    },
    {
     "name": "stderr",
     "output_type": "stream",
     "text": [
      "[Parallel(n_jobs=1)]: Done 768 out of 768 | elapsed:    0.2s finished\n",
      "[Parallel(n_jobs=1)]: Using backend SequentialBackend with 1 concurrent workers.\n",
      "[Parallel(n_jobs=1)]: Done   1 out of   1 | elapsed:    0.0s remaining:    0.0s\n",
      "[Parallel(n_jobs=1)]: Done   2 out of   2 | elapsed:    0.0s remaining:    0.0s\n",
      "[Parallel(n_jobs=1)]: Done   3 out of   3 | elapsed:    0.0s remaining:    0.0s\n",
      "[Parallel(n_jobs=1)]: Done   4 out of   4 | elapsed:    0.0s remaining:    0.0s\n"
     ]
    },
    {
     "name": "stdout",
     "output_type": "stream",
     "text": [
      "Overwriting existing file.\n",
      "[25, 26, 29, 30, 31, 35, 36, 38, 41, 43, 44, 47]\n",
      "Overwriting existing file.\n",
      "Setting up low-pass filter at 30 Hz\n",
      "\n",
      "FIR filter parameters\n",
      "---------------------\n",
      "Designing a one-pass, zero-phase, non-causal lowpass filter:\n",
      "- Windowed time-domain design (firwin) method\n",
      "- Hamming window with 0.0194 passband ripple and 53 dB stopband attenuation\n",
      "- Upper passband edge: 30.00 Hz\n",
      "- Upper transition bandwidth: 7.50 Hz (-6 dB cutoff frequency: 33.75 Hz)\n",
      "- Filter length: 89 samples (0.445 sec)\n",
      "\n"
     ]
    },
    {
     "name": "stderr",
     "output_type": "stream",
     "text": [
      "[Parallel(n_jobs=1)]: Done 768 out of 768 | elapsed:    0.2s finished\n",
      "[Parallel(n_jobs=1)]: Using backend SequentialBackend with 1 concurrent workers.\n",
      "[Parallel(n_jobs=1)]: Done   1 out of   1 | elapsed:    0.0s remaining:    0.0s\n",
      "[Parallel(n_jobs=1)]: Done   2 out of   2 | elapsed:    0.0s remaining:    0.0s\n",
      "[Parallel(n_jobs=1)]: Done   3 out of   3 | elapsed:    0.0s remaining:    0.0s\n",
      "[Parallel(n_jobs=1)]: Done   4 out of   4 | elapsed:    0.0s remaining:    0.0s\n"
     ]
    },
    {
     "name": "stdout",
     "output_type": "stream",
     "text": [
      "Overwriting existing file.\n",
      "Reading F:\\Documents\\Science\\MirRevAdaptEEG\\data\\eeg\\p030\\lrp\\mra_p030_run0-epo.fif ...\n",
      "    Found the data of interest:\n",
      "        t =   -2000.00 ...    1995.00 ms\n",
      "        0 CTF compensation matrices available\n",
      "Not setting metadata\n"
     ]
    },
    {
     "name": "stderr",
     "output_type": "stream",
     "text": [
      "[Parallel(n_jobs=1)]: Done 768 out of 768 | elapsed:    0.2s finished\n"
     ]
    },
    {
     "name": "stdout",
     "output_type": "stream",
     "text": [
      "420 matching events found\n",
      "No baseline correction applied\n",
      "0 projection items activated\n",
      "Applying baseline correction (mode: mean)\n",
      "[1, 2, 4, 6, 8, 10, 13, 16, 17, 19, 21, 22]\n",
      "Overwriting existing file.\n",
      "Setting up low-pass filter at 30 Hz\n",
      "\n",
      "FIR filter parameters\n",
      "---------------------\n",
      "Designing a one-pass, zero-phase, non-causal lowpass filter:\n",
      "- Windowed time-domain design (firwin) method\n",
      "- Hamming window with 0.0194 passband ripple and 53 dB stopband attenuation\n",
      "- Upper passband edge: 30.00 Hz\n",
      "- Upper transition bandwidth: 7.50 Hz (-6 dB cutoff frequency: 33.75 Hz)\n",
      "- Filter length: 89 samples (0.445 sec)\n",
      "\n"
     ]
    },
    {
     "name": "stderr",
     "output_type": "stream",
     "text": [
      "[Parallel(n_jobs=1)]: Using backend SequentialBackend with 1 concurrent workers.\n",
      "[Parallel(n_jobs=1)]: Done   1 out of   1 | elapsed:    0.0s remaining:    0.0s\n",
      "[Parallel(n_jobs=1)]: Done   2 out of   2 | elapsed:    0.0s remaining:    0.0s\n",
      "[Parallel(n_jobs=1)]: Done   3 out of   3 | elapsed:    0.0s remaining:    0.0s\n",
      "[Parallel(n_jobs=1)]: Done   4 out of   4 | elapsed:    0.0s remaining:    0.0s\n"
     ]
    },
    {
     "name": "stdout",
     "output_type": "stream",
     "text": [
      "Overwriting existing file.\n",
      "[24, 26, 29, 30, 31, 35, 37, 39, 40, 44, 46, 47]\n",
      "Overwriting existing file.\n",
      "Setting up low-pass filter at 30 Hz\n",
      "\n",
      "FIR filter parameters\n",
      "---------------------\n",
      "Designing a one-pass, zero-phase, non-causal lowpass filter:\n",
      "- Windowed time-domain design (firwin) method\n",
      "- Hamming window with 0.0194 passband ripple and 53 dB stopband attenuation\n",
      "- Upper passband edge: 30.00 Hz\n",
      "- Upper transition bandwidth: 7.50 Hz (-6 dB cutoff frequency: 33.75 Hz)\n",
      "- Filter length: 89 samples (0.445 sec)\n",
      "\n"
     ]
    },
    {
     "name": "stderr",
     "output_type": "stream",
     "text": [
      "[Parallel(n_jobs=1)]: Done 768 out of 768 | elapsed:    0.2s finished\n",
      "[Parallel(n_jobs=1)]: Using backend SequentialBackend with 1 concurrent workers.\n",
      "[Parallel(n_jobs=1)]: Done   1 out of   1 | elapsed:    0.0s remaining:    0.0s\n",
      "[Parallel(n_jobs=1)]: Done   2 out of   2 | elapsed:    0.0s remaining:    0.0s\n",
      "[Parallel(n_jobs=1)]: Done   3 out of   3 | elapsed:    0.0s remaining:    0.0s\n",
      "[Parallel(n_jobs=1)]: Done   4 out of   4 | elapsed:    0.0s remaining:    0.0s\n"
     ]
    },
    {
     "name": "stdout",
     "output_type": "stream",
     "text": [
      "Overwriting existing file.\n",
      "[0, 3, 5, 7, 9, 11, 12, 14, 15, 18, 20, 23]\n",
      "Overwriting existing file.\n",
      "Setting up low-pass filter at 30 Hz\n",
      "\n",
      "FIR filter parameters\n",
      "---------------------\n",
      "Designing a one-pass, zero-phase, non-causal lowpass filter:\n",
      "- Windowed time-domain design (firwin) method\n",
      "- Hamming window with 0.0194 passband ripple and 53 dB stopband attenuation\n",
      "- Upper passband edge: 30.00 Hz\n",
      "- Upper transition bandwidth: 7.50 Hz (-6 dB cutoff frequency: 33.75 Hz)\n",
      "- Filter length: 89 samples (0.445 sec)\n",
      "\n"
     ]
    },
    {
     "name": "stderr",
     "output_type": "stream",
     "text": [
      "[Parallel(n_jobs=1)]: Done 768 out of 768 | elapsed:    0.2s finished\n",
      "[Parallel(n_jobs=1)]: Using backend SequentialBackend with 1 concurrent workers.\n",
      "[Parallel(n_jobs=1)]: Done   1 out of   1 | elapsed:    0.0s remaining:    0.0s\n",
      "[Parallel(n_jobs=1)]: Done   2 out of   2 | elapsed:    0.0s remaining:    0.0s\n",
      "[Parallel(n_jobs=1)]: Done   3 out of   3 | elapsed:    0.0s remaining:    0.0s\n",
      "[Parallel(n_jobs=1)]: Done   4 out of   4 | elapsed:    0.0s remaining:    0.0s\n"
     ]
    },
    {
     "name": "stdout",
     "output_type": "stream",
     "text": [
      "Overwriting existing file.\n",
      "[25, 27, 28, 32, 33, 34, 36, 38, 41, 42, 43, 45]\n",
      "Overwriting existing file.\n",
      "Setting up low-pass filter at 30 Hz\n",
      "\n",
      "FIR filter parameters\n",
      "---------------------\n",
      "Designing a one-pass, zero-phase, non-causal lowpass filter:\n",
      "- Windowed time-domain design (firwin) method\n",
      "- Hamming window with 0.0194 passband ripple and 53 dB stopband attenuation\n",
      "- Upper passband edge: 30.00 Hz\n",
      "- Upper transition bandwidth: 7.50 Hz (-6 dB cutoff frequency: 33.75 Hz)\n",
      "- Filter length: 89 samples (0.445 sec)\n",
      "\n"
     ]
    },
    {
     "name": "stderr",
     "output_type": "stream",
     "text": [
      "[Parallel(n_jobs=1)]: Done 768 out of 768 | elapsed:    0.2s finished\n",
      "[Parallel(n_jobs=1)]: Using backend SequentialBackend with 1 concurrent workers.\n",
      "[Parallel(n_jobs=1)]: Done   1 out of   1 | elapsed:    0.0s remaining:    0.0s\n",
      "[Parallel(n_jobs=1)]: Done   2 out of   2 | elapsed:    0.0s remaining:    0.0s\n",
      "[Parallel(n_jobs=1)]: Done   3 out of   3 | elapsed:    0.0s remaining:    0.0s\n",
      "[Parallel(n_jobs=1)]: Done   4 out of   4 | elapsed:    0.0s remaining:    0.0s\n"
     ]
    },
    {
     "name": "stdout",
     "output_type": "stream",
     "text": [
      "Overwriting existing file.\n",
      "Reading F:\\Documents\\Science\\MirRevAdaptEEG\\data\\eeg\\p031\\lrp\\mra_p031_run0-epo.fif ...\n",
      "    Found the data of interest:\n",
      "        t =   -2000.00 ...    1995.00 ms\n",
      "        0 CTF compensation matrices available\n"
     ]
    },
    {
     "name": "stderr",
     "output_type": "stream",
     "text": [
      "[Parallel(n_jobs=1)]: Done 768 out of 768 | elapsed:    0.2s finished\n"
     ]
    },
    {
     "name": "stdout",
     "output_type": "stream",
     "text": [
      "Not setting metadata\n",
      "420 matching events found\n",
      "No baseline correction applied\n",
      "0 projection items activated\n",
      "Applying baseline correction (mode: mean)\n",
      "[0, 1, 5, 6, 8, 10, 13, 14, 15, 18, 22, 23]\n",
      "Overwriting existing file.\n",
      "Setting up low-pass filter at 30 Hz\n",
      "\n",
      "FIR filter parameters\n",
      "---------------------\n",
      "Designing a one-pass, zero-phase, non-causal lowpass filter:\n",
      "- Windowed time-domain design (firwin) method\n",
      "- Hamming window with 0.0194 passband ripple and 53 dB stopband attenuation\n",
      "- Upper passband edge: 30.00 Hz\n",
      "- Upper transition bandwidth: 7.50 Hz (-6 dB cutoff frequency: 33.75 Hz)\n",
      "- Filter length: 89 samples (0.445 sec)\n",
      "\n"
     ]
    },
    {
     "name": "stderr",
     "output_type": "stream",
     "text": [
      "[Parallel(n_jobs=1)]: Using backend SequentialBackend with 1 concurrent workers.\n",
      "[Parallel(n_jobs=1)]: Done   1 out of   1 | elapsed:    0.0s remaining:    0.0s\n",
      "[Parallel(n_jobs=1)]: Done   2 out of   2 | elapsed:    0.0s remaining:    0.0s\n",
      "[Parallel(n_jobs=1)]: Done   3 out of   3 | elapsed:    0.0s remaining:    0.0s\n",
      "[Parallel(n_jobs=1)]: Done   4 out of   4 | elapsed:    0.0s remaining:    0.0s\n"
     ]
    },
    {
     "name": "stdout",
     "output_type": "stream",
     "text": [
      "Overwriting existing file.\n",
      "[24, 26, 29, 31, 34, 35, 36, 37, 40, 42, 43, 44]\n",
      "Overwriting existing file.\n",
      "Setting up low-pass filter at 30 Hz\n",
      "\n",
      "FIR filter parameters\n",
      "---------------------\n",
      "Designing a one-pass, zero-phase, non-causal lowpass filter:\n",
      "- Windowed time-domain design (firwin) method\n",
      "- Hamming window with 0.0194 passband ripple and 53 dB stopband attenuation\n",
      "- Upper passband edge: 30.00 Hz\n",
      "- Upper transition bandwidth: 7.50 Hz (-6 dB cutoff frequency: 33.75 Hz)\n",
      "- Filter length: 89 samples (0.445 sec)\n",
      "\n"
     ]
    },
    {
     "name": "stderr",
     "output_type": "stream",
     "text": [
      "[Parallel(n_jobs=1)]: Done 768 out of 768 | elapsed:    0.3s finished\n",
      "[Parallel(n_jobs=1)]: Using backend SequentialBackend with 1 concurrent workers.\n",
      "[Parallel(n_jobs=1)]: Done   1 out of   1 | elapsed:    0.0s remaining:    0.0s\n",
      "[Parallel(n_jobs=1)]: Done   2 out of   2 | elapsed:    0.0s remaining:    0.0s\n",
      "[Parallel(n_jobs=1)]: Done   3 out of   3 | elapsed:    0.0s remaining:    0.0s\n",
      "[Parallel(n_jobs=1)]: Done   4 out of   4 | elapsed:    0.0s remaining:    0.0s\n"
     ]
    },
    {
     "name": "stdout",
     "output_type": "stream",
     "text": [
      "Overwriting existing file.\n",
      "[2, 3, 4, 7, 9, 11, 12, 16, 17, 19, 20, 21]\n",
      "Overwriting existing file.\n",
      "Setting up low-pass filter at 30 Hz\n",
      "\n",
      "FIR filter parameters\n",
      "---------------------\n",
      "Designing a one-pass, zero-phase, non-causal lowpass filter:\n",
      "- Windowed time-domain design (firwin) method\n",
      "- Hamming window with 0.0194 passband ripple and 53 dB stopband attenuation\n",
      "- Upper passband edge: 30.00 Hz\n",
      "- Upper transition bandwidth: 7.50 Hz (-6 dB cutoff frequency: 33.75 Hz)\n",
      "- Filter length: 89 samples (0.445 sec)\n",
      "\n"
     ]
    },
    {
     "name": "stderr",
     "output_type": "stream",
     "text": [
      "[Parallel(n_jobs=1)]: Done 768 out of 768 | elapsed:    0.2s finished\n",
      "[Parallel(n_jobs=1)]: Using backend SequentialBackend with 1 concurrent workers.\n",
      "[Parallel(n_jobs=1)]: Done   1 out of   1 | elapsed:    0.0s remaining:    0.0s\n",
      "[Parallel(n_jobs=1)]: Done   2 out of   2 | elapsed:    0.0s remaining:    0.0s\n",
      "[Parallel(n_jobs=1)]: Done   3 out of   3 | elapsed:    0.0s remaining:    0.0s\n",
      "[Parallel(n_jobs=1)]: Done   4 out of   4 | elapsed:    0.0s remaining:    0.0s\n"
     ]
    },
    {
     "name": "stdout",
     "output_type": "stream",
     "text": [
      "Overwriting existing file.\n",
      "[25, 27, 28, 30, 32, 33, 38, 39, 41, 45, 46, 47]\n",
      "Overwriting existing file.\n",
      "Setting up low-pass filter at 30 Hz\n",
      "\n",
      "FIR filter parameters\n",
      "---------------------\n",
      "Designing a one-pass, zero-phase, non-causal lowpass filter:\n",
      "- Windowed time-domain design (firwin) method\n",
      "- Hamming window with 0.0194 passband ripple and 53 dB stopband attenuation\n",
      "- Upper passband edge: 30.00 Hz\n",
      "- Upper transition bandwidth: 7.50 Hz (-6 dB cutoff frequency: 33.75 Hz)\n",
      "- Filter length: 89 samples (0.445 sec)\n",
      "\n"
     ]
    },
    {
     "name": "stderr",
     "output_type": "stream",
     "text": [
      "[Parallel(n_jobs=1)]: Done 768 out of 768 | elapsed:    0.2s finished\n",
      "[Parallel(n_jobs=1)]: Using backend SequentialBackend with 1 concurrent workers.\n",
      "[Parallel(n_jobs=1)]: Done   1 out of   1 | elapsed:    0.0s remaining:    0.0s\n",
      "[Parallel(n_jobs=1)]: Done   2 out of   2 | elapsed:    0.0s remaining:    0.0s\n",
      "[Parallel(n_jobs=1)]: Done   3 out of   3 | elapsed:    0.0s remaining:    0.0s\n",
      "[Parallel(n_jobs=1)]: Done   4 out of   4 | elapsed:    0.0s remaining:    0.0s\n"
     ]
    },
    {
     "name": "stdout",
     "output_type": "stream",
     "text": [
      "Overwriting existing file.\n"
     ]
    },
    {
     "name": "stderr",
     "output_type": "stream",
     "text": [
      "[Parallel(n_jobs=1)]: Done 768 out of 768 | elapsed:    0.2s finished\n"
     ]
    }
   ],
   "source": [
    "#save as evoked objects\n",
    "conditions = ['r', 'l']\n",
    "conditionnames = ['rightmoves', 'leftmoves']\n",
    "l_cutoff = 30\n",
    "\n",
    "#RANDOM\n",
    "tasks = ['rdmrot', 'rdmmir']\n",
    "\n",
    "#split into training blocks\n",
    "b0 = list(range(0,24))\n",
    "b1 = list(range(24,48))\n",
    "\n",
    "training = [b0, b1]\n",
    "\n",
    "       \n",
    "#rdm\n",
    "#only half will have rdm in rot and other half will have rdm in mir, due to us only considering targets along horizontal axis (i.e., vertical mirror)\n",
    "for task in range(0, len(tasks)):\n",
    "    for pp in participants:\n",
    "        data, ppdir = load_epochs(pp, root_dir = root, erp_path = erps)\n",
    "        for cond in range(0, len(conditions)):\n",
    "            for t in range(0, len(training)):\n",
    "                diridx, dirtrials = direction_index(tasks[task], conditions[cond], pp)\n",
    "                diridx = [i for i in diridx if i in training[t]]\n",
    "                if len(diridx) == 0:\n",
    "                    break\n",
    "                triallist = trial_list_rdm(tasks[task], pp, diridx)\n",
    "                pdata = data[triallist]\n",
    "                print(diridx)\n",
    "                output_condition_epochs(pp, pdata, ppdir, conditionnames[cond], 'rdm', t)\n",
    "                #filter at 30 Hz\n",
    "                pdata = pdata.filter(l_freq= None, h_freq=l_cutoff)\n",
    "                #then average across trials\n",
    "                output_condition_evoked(pp, pdata, ppdir, conditionnames[cond], 'rdm', t)"
   ]
  },
  {
   "cell_type": "code",
   "execution_count": 13,
   "id": "00d8828b",
   "metadata": {},
   "outputs": [
    {
     "name": "stdout",
     "output_type": "stream",
     "text": [
      "Reading F:\\Documents\\Science\\MirRevAdaptEEG\\data\\eeg\\p000\\lrp\\p000_EarlyLate_rightmoves_rdm_block0-ave.fif ...\n",
      "    Found the data of interest:\n",
      "        t =   -2000.00 ...    1995.00 ms (16140)\n",
      "        0 CTF compensation matrices available\n",
      "        nave = 12 - aspect type = 100\n",
      "No projector specified for this dataset. Please consider the method self.add_proj.\n",
      "Loaded Evoked data is baseline-corrected (baseline: [-1.3, -1] sec)\n",
      "Reading F:\\Documents\\Science\\MirRevAdaptEEG\\data\\eeg\\p001\\lrp\\p001_EarlyLate_rightmoves_rdm_block0-ave.fif ...\n",
      "    Found the data of interest:\n",
      "        t =   -2000.00 ...    1995.00 ms (16140)\n",
      "        0 CTF compensation matrices available\n",
      "        nave = 12 - aspect type = 100\n",
      "No projector specified for this dataset. Please consider the method self.add_proj.\n",
      "Loaded Evoked data is baseline-corrected (baseline: [-1.3, -1] sec)\n",
      "Reading F:\\Documents\\Science\\MirRevAdaptEEG\\data\\eeg\\p002\\lrp\\p002_EarlyLate_rightmoves_rdm_block0-ave.fif ...\n",
      "    Found the data of interest:\n",
      "        t =   -2000.00 ...    1995.00 ms (16140)\n",
      "        0 CTF compensation matrices available\n",
      "        nave = 12 - aspect type = 100\n",
      "No projector specified for this dataset. Please consider the method self.add_proj.\n",
      "Loaded Evoked data is baseline-corrected (baseline: [-1.3, -1] sec)\n",
      "Reading F:\\Documents\\Science\\MirRevAdaptEEG\\data\\eeg\\p003\\lrp\\p003_EarlyLate_rightmoves_rdm_block0-ave.fif ...\n",
      "    Found the data of interest:\n",
      "        t =   -2000.00 ...    1995.00 ms (16140)\n",
      "        0 CTF compensation matrices available\n",
      "        nave = 12 - aspect type = 100\n",
      "No projector specified for this dataset. Please consider the method self.add_proj.\n",
      "Loaded Evoked data is baseline-corrected (baseline: [-1.3, -1] sec)\n",
      "Reading F:\\Documents\\Science\\MirRevAdaptEEG\\data\\eeg\\p004\\lrp\\p004_EarlyLate_rightmoves_rdm_block0-ave.fif ...\n",
      "    Found the data of interest:\n",
      "        t =   -2000.00 ...    1995.00 ms (16140)\n",
      "        0 CTF compensation matrices available\n",
      "        nave = 12 - aspect type = 100\n",
      "No projector specified for this dataset. Please consider the method self.add_proj.\n",
      "Loaded Evoked data is baseline-corrected (baseline: [-1.3, -1] sec)\n",
      "Reading F:\\Documents\\Science\\MirRevAdaptEEG\\data\\eeg\\p005\\lrp\\p005_EarlyLate_rightmoves_rdm_block0-ave.fif ...\n",
      "    Found the data of interest:\n",
      "        t =   -2000.00 ...    1995.00 ms (16140)\n",
      "        0 CTF compensation matrices available\n",
      "        nave = 12 - aspect type = 100\n",
      "No projector specified for this dataset. Please consider the method self.add_proj.\n",
      "Loaded Evoked data is baseline-corrected (baseline: [-1.3, -1] sec)\n",
      "Reading F:\\Documents\\Science\\MirRevAdaptEEG\\data\\eeg\\p006\\lrp\\p006_EarlyLate_rightmoves_rdm_block0-ave.fif ...\n",
      "    Found the data of interest:\n",
      "        t =   -2000.00 ...    1995.00 ms (16140)\n",
      "        0 CTF compensation matrices available\n",
      "        nave = 12 - aspect type = 100\n",
      "No projector specified for this dataset. Please consider the method self.add_proj.\n",
      "Loaded Evoked data is baseline-corrected (baseline: [-1.3, -1] sec)\n",
      "Reading F:\\Documents\\Science\\MirRevAdaptEEG\\data\\eeg\\p007\\lrp\\p007_EarlyLate_rightmoves_rdm_block0-ave.fif ...\n",
      "    Found the data of interest:\n",
      "        t =   -2000.00 ...    1995.00 ms (16140)\n",
      "        0 CTF compensation matrices available\n",
      "        nave = 12 - aspect type = 100\n",
      "No projector specified for this dataset. Please consider the method self.add_proj.\n",
      "Loaded Evoked data is baseline-corrected (baseline: [-1.3, -1] sec)\n",
      "Reading F:\\Documents\\Science\\MirRevAdaptEEG\\data\\eeg\\p008\\lrp\\p008_EarlyLate_rightmoves_rdm_block0-ave.fif ...\n",
      "    Found the data of interest:\n",
      "        t =   -2000.00 ...    1995.00 ms (16140)\n",
      "        0 CTF compensation matrices available\n",
      "        nave = 12 - aspect type = 100\n",
      "No projector specified for this dataset. Please consider the method self.add_proj.\n",
      "Loaded Evoked data is baseline-corrected (baseline: [-1.3, -1] sec)\n",
      "Reading F:\\Documents\\Science\\MirRevAdaptEEG\\data\\eeg\\p009\\lrp\\p009_EarlyLate_rightmoves_rdm_block0-ave.fif ...\n",
      "    Found the data of interest:\n",
      "        t =   -2000.00 ...    1995.00 ms (16140)\n",
      "        0 CTF compensation matrices available\n",
      "        nave = 12 - aspect type = 100\n",
      "No projector specified for this dataset. Please consider the method self.add_proj.\n",
      "Loaded Evoked data is baseline-corrected (baseline: [-1.3, -1] sec)\n",
      "Reading F:\\Documents\\Science\\MirRevAdaptEEG\\data\\eeg\\p010\\lrp\\p010_EarlyLate_rightmoves_rdm_block0-ave.fif ...\n",
      "    Found the data of interest:\n",
      "        t =   -2000.00 ...    1995.00 ms (16140)\n",
      "        0 CTF compensation matrices available\n",
      "        nave = 12 - aspect type = 100\n",
      "No projector specified for this dataset. Please consider the method self.add_proj.\n",
      "Loaded Evoked data is baseline-corrected (baseline: [-1.3, -1] sec)\n",
      "Reading F:\\Documents\\Science\\MirRevAdaptEEG\\data\\eeg\\p011\\lrp\\p011_EarlyLate_rightmoves_rdm_block0-ave.fif ...\n",
      "    Found the data of interest:\n",
      "        t =   -2000.00 ...    1995.00 ms (16140)\n",
      "        0 CTF compensation matrices available\n",
      "        nave = 13 - aspect type = 100\n",
      "No projector specified for this dataset. Please consider the method self.add_proj.\n",
      "Loaded Evoked data is baseline-corrected (baseline: [-1.3, -1] sec)\n",
      "Reading F:\\Documents\\Science\\MirRevAdaptEEG\\data\\eeg\\p012\\lrp\\p012_EarlyLate_rightmoves_rdm_block0-ave.fif ...\n",
      "    Found the data of interest:\n",
      "        t =   -2000.00 ...    1995.00 ms (16140)\n",
      "        0 CTF compensation matrices available\n",
      "        nave = 12 - aspect type = 100\n",
      "No projector specified for this dataset. Please consider the method self.add_proj.\n",
      "Loaded Evoked data is baseline-corrected (baseline: [-1.3, -1] sec)\n",
      "Reading F:\\Documents\\Science\\MirRevAdaptEEG\\data\\eeg\\p013\\lrp\\p013_EarlyLate_rightmoves_rdm_block0-ave.fif ...\n",
      "    Found the data of interest:\n",
      "        t =   -2000.00 ...    1995.00 ms (16140)\n",
      "        0 CTF compensation matrices available\n",
      "        nave = 12 - aspect type = 100\n",
      "No projector specified for this dataset. Please consider the method self.add_proj.\n",
      "Loaded Evoked data is baseline-corrected (baseline: [-1.3, -1] sec)\n",
      "Reading F:\\Documents\\Science\\MirRevAdaptEEG\\data\\eeg\\p014\\lrp\\p014_EarlyLate_rightmoves_rdm_block0-ave.fif ...\n",
      "    Found the data of interest:\n",
      "        t =   -2000.00 ...    1995.00 ms (16140)\n",
      "        0 CTF compensation matrices available\n",
      "        nave = 12 - aspect type = 100\n",
      "No projector specified for this dataset. Please consider the method self.add_proj.\n",
      "Loaded Evoked data is baseline-corrected (baseline: [-1.3, -1] sec)\n",
      "Reading F:\\Documents\\Science\\MirRevAdaptEEG\\data\\eeg\\p015\\lrp\\p015_EarlyLate_rightmoves_rdm_block0-ave.fif ...\n",
      "    Found the data of interest:\n",
      "        t =   -2000.00 ...    1995.00 ms (16140)\n",
      "        0 CTF compensation matrices available\n",
      "        nave = 12 - aspect type = 100\n",
      "No projector specified for this dataset. Please consider the method self.add_proj.\n",
      "Loaded Evoked data is baseline-corrected (baseline: [-1.3, -1] sec)\n",
      "Reading F:\\Documents\\Science\\MirRevAdaptEEG\\data\\eeg\\p016\\lrp\\p016_EarlyLate_rightmoves_rdm_block0-ave.fif ...\n",
      "    Found the data of interest:\n",
      "        t =   -2000.00 ...    1995.00 ms (16140)\n",
      "        0 CTF compensation matrices available\n",
      "        nave = 13 - aspect type = 100\n",
      "No projector specified for this dataset. Please consider the method self.add_proj.\n",
      "Loaded Evoked data is baseline-corrected (baseline: [-1.3, -1] sec)\n",
      "Reading F:\\Documents\\Science\\MirRevAdaptEEG\\data\\eeg\\p017\\lrp\\p017_EarlyLate_rightmoves_rdm_block0-ave.fif ...\n",
      "    Found the data of interest:\n",
      "        t =   -2000.00 ...    1995.00 ms (16140)\n",
      "        0 CTF compensation matrices available\n",
      "        nave = 12 - aspect type = 100\n",
      "No projector specified for this dataset. Please consider the method self.add_proj.\n",
      "Loaded Evoked data is baseline-corrected (baseline: [-1.3, -1] sec)\n",
      "Reading F:\\Documents\\Science\\MirRevAdaptEEG\\data\\eeg\\p018\\lrp\\p018_EarlyLate_rightmoves_rdm_block0-ave.fif ...\n",
      "    Found the data of interest:\n",
      "        t =   -2000.00 ...    1995.00 ms (16140)\n",
      "        0 CTF compensation matrices available\n",
      "        nave = 12 - aspect type = 100\n",
      "No projector specified for this dataset. Please consider the method self.add_proj.\n",
      "Loaded Evoked data is baseline-corrected (baseline: [-1.3, -1] sec)\n",
      "Reading F:\\Documents\\Science\\MirRevAdaptEEG\\data\\eeg\\p019\\lrp\\p019_EarlyLate_rightmoves_rdm_block0-ave.fif ...\n"
     ]
    },
    {
     "name": "stdout",
     "output_type": "stream",
     "text": [
      "    Found the data of interest:\n",
      "        t =   -2000.00 ...    1995.00 ms (16140)\n",
      "        0 CTF compensation matrices available\n",
      "        nave = 12 - aspect type = 100\n",
      "No projector specified for this dataset. Please consider the method self.add_proj.\n",
      "Loaded Evoked data is baseline-corrected (baseline: [-1.3, -1] sec)\n",
      "Reading F:\\Documents\\Science\\MirRevAdaptEEG\\data\\eeg\\p020\\lrp\\p020_EarlyLate_rightmoves_rdm_block0-ave.fif ...\n",
      "    Found the data of interest:\n",
      "        t =   -2000.00 ...    1995.00 ms (16140)\n",
      "        0 CTF compensation matrices available\n",
      "        nave = 12 - aspect type = 100\n",
      "No projector specified for this dataset. Please consider the method self.add_proj.\n",
      "Loaded Evoked data is baseline-corrected (baseline: [-1.3, -1] sec)\n",
      "Reading F:\\Documents\\Science\\MirRevAdaptEEG\\data\\eeg\\p021\\lrp\\p021_EarlyLate_rightmoves_rdm_block0-ave.fif ...\n",
      "    Found the data of interest:\n",
      "        t =   -2000.00 ...    1995.00 ms (16140)\n",
      "        0 CTF compensation matrices available\n",
      "        nave = 12 - aspect type = 100\n",
      "No projector specified for this dataset. Please consider the method self.add_proj.\n",
      "Loaded Evoked data is baseline-corrected (baseline: [-1.3, -1] sec)\n",
      "Reading F:\\Documents\\Science\\MirRevAdaptEEG\\data\\eeg\\p022\\lrp\\p022_EarlyLate_rightmoves_rdm_block0-ave.fif ...\n",
      "    Found the data of interest:\n",
      "        t =   -2000.00 ...    1995.00 ms (16140)\n",
      "        0 CTF compensation matrices available\n",
      "        nave = 12 - aspect type = 100\n",
      "No projector specified for this dataset. Please consider the method self.add_proj.\n",
      "Loaded Evoked data is baseline-corrected (baseline: [-1.3, -1] sec)\n",
      "Reading F:\\Documents\\Science\\MirRevAdaptEEG\\data\\eeg\\p023\\lrp\\p023_EarlyLate_rightmoves_rdm_block0-ave.fif ...\n",
      "    Found the data of interest:\n",
      "        t =   -2000.00 ...    1995.00 ms (16140)\n",
      "        0 CTF compensation matrices available\n",
      "        nave = 12 - aspect type = 100\n",
      "No projector specified for this dataset. Please consider the method self.add_proj.\n",
      "Loaded Evoked data is baseline-corrected (baseline: [-1.3, -1] sec)\n",
      "Reading F:\\Documents\\Science\\MirRevAdaptEEG\\data\\eeg\\p024\\lrp\\p024_EarlyLate_rightmoves_rdm_block0-ave.fif ...\n",
      "    Found the data of interest:\n",
      "        t =   -2000.00 ...    1995.00 ms (16140)\n",
      "        0 CTF compensation matrices available\n",
      "        nave = 12 - aspect type = 100\n",
      "No projector specified for this dataset. Please consider the method self.add_proj.\n",
      "Loaded Evoked data is baseline-corrected (baseline: [-1.3, -1] sec)\n",
      "Reading F:\\Documents\\Science\\MirRevAdaptEEG\\data\\eeg\\p025\\lrp\\p025_EarlyLate_rightmoves_rdm_block0-ave.fif ...\n",
      "    Found the data of interest:\n",
      "        t =   -2000.00 ...    1995.00 ms (16140)\n",
      "        0 CTF compensation matrices available\n",
      "        nave = 13 - aspect type = 100\n",
      "No projector specified for this dataset. Please consider the method self.add_proj.\n",
      "Loaded Evoked data is baseline-corrected (baseline: [-1.3, -1] sec)\n",
      "Reading F:\\Documents\\Science\\MirRevAdaptEEG\\data\\eeg\\p026\\lrp\\p026_EarlyLate_rightmoves_rdm_block0-ave.fif ...\n",
      "    Found the data of interest:\n",
      "        t =   -2000.00 ...    1995.00 ms (16140)\n",
      "        0 CTF compensation matrices available\n",
      "        nave = 12 - aspect type = 100\n",
      "No projector specified for this dataset. Please consider the method self.add_proj.\n",
      "Loaded Evoked data is baseline-corrected (baseline: [-1.3, -1] sec)\n",
      "Reading F:\\Documents\\Science\\MirRevAdaptEEG\\data\\eeg\\p027\\lrp\\p027_EarlyLate_rightmoves_rdm_block0-ave.fif ...\n",
      "    Found the data of interest:\n",
      "        t =   -2000.00 ...    1995.00 ms (16140)\n",
      "        0 CTF compensation matrices available\n",
      "        nave = 12 - aspect type = 100\n",
      "No projector specified for this dataset. Please consider the method self.add_proj.\n",
      "Loaded Evoked data is baseline-corrected (baseline: [-1.3, -1] sec)\n",
      "Reading F:\\Documents\\Science\\MirRevAdaptEEG\\data\\eeg\\p028\\lrp\\p028_EarlyLate_rightmoves_rdm_block0-ave.fif ...\n",
      "    Found the data of interest:\n",
      "        t =   -2000.00 ...    1995.00 ms (16140)\n",
      "        0 CTF compensation matrices available\n",
      "        nave = 12 - aspect type = 100\n",
      "No projector specified for this dataset. Please consider the method self.add_proj.\n",
      "Loaded Evoked data is baseline-corrected (baseline: [-1.3, -1] sec)\n",
      "Reading F:\\Documents\\Science\\MirRevAdaptEEG\\data\\eeg\\p029\\lrp\\p029_EarlyLate_rightmoves_rdm_block0-ave.fif ...\n",
      "    Found the data of interest:\n",
      "        t =   -2000.00 ...    1995.00 ms (16140)\n",
      "        0 CTF compensation matrices available\n",
      "        nave = 12 - aspect type = 100\n",
      "No projector specified for this dataset. Please consider the method self.add_proj.\n",
      "Loaded Evoked data is baseline-corrected (baseline: [-1.3, -1] sec)\n",
      "Reading F:\\Documents\\Science\\MirRevAdaptEEG\\data\\eeg\\p030\\lrp\\p030_EarlyLate_rightmoves_rdm_block0-ave.fif ...\n",
      "    Found the data of interest:\n",
      "        t =   -2000.00 ...    1995.00 ms (16140)\n",
      "        0 CTF compensation matrices available\n",
      "        nave = 12 - aspect type = 100\n",
      "No projector specified for this dataset. Please consider the method self.add_proj.\n",
      "Loaded Evoked data is baseline-corrected (baseline: [-1.3, -1] sec)\n",
      "Reading F:\\Documents\\Science\\MirRevAdaptEEG\\data\\eeg\\p031\\lrp\\p031_EarlyLate_rightmoves_rdm_block0-ave.fif ...\n",
      "    Found the data of interest:\n",
      "        t =   -2000.00 ...    1995.00 ms (16140)\n",
      "        0 CTF compensation matrices available\n",
      "        nave = 12 - aspect type = 100\n",
      "No projector specified for this dataset. Please consider the method self.add_proj.\n",
      "Loaded Evoked data is baseline-corrected (baseline: [-1.3, -1] sec)\n",
      "Identifying common channels ...\n",
      "Reading F:\\Documents\\Science\\MirRevAdaptEEG\\data\\eeg\\p000\\lrp\\p000_EarlyLate_rightmoves_rdm_block1-ave.fif ...\n",
      "    Found the data of interest:\n",
      "        t =   -2000.00 ...    1995.00 ms (16140)\n",
      "        0 CTF compensation matrices available\n",
      "        nave = 12 - aspect type = 100\n",
      "No projector specified for this dataset. Please consider the method self.add_proj.\n",
      "Loaded Evoked data is baseline-corrected (baseline: [-1.3, -1] sec)\n",
      "Reading F:\\Documents\\Science\\MirRevAdaptEEG\\data\\eeg\\p001\\lrp\\p001_EarlyLate_rightmoves_rdm_block1-ave.fif ...\n",
      "    Found the data of interest:\n",
      "        t =   -2000.00 ...    1995.00 ms (16140)\n",
      "        0 CTF compensation matrices available\n",
      "        nave = 12 - aspect type = 100\n",
      "No projector specified for this dataset. Please consider the method self.add_proj.\n",
      "Loaded Evoked data is baseline-corrected (baseline: [-1.3, -1] sec)\n",
      "Reading F:\\Documents\\Science\\MirRevAdaptEEG\\data\\eeg\\p002\\lrp\\p002_EarlyLate_rightmoves_rdm_block1-ave.fif ...\n",
      "    Found the data of interest:\n",
      "        t =   -2000.00 ...    1995.00 ms (16140)\n",
      "        0 CTF compensation matrices available\n",
      "        nave = 12 - aspect type = 100\n",
      "No projector specified for this dataset. Please consider the method self.add_proj.\n",
      "Loaded Evoked data is baseline-corrected (baseline: [-1.3, -1] sec)\n",
      "Reading F:\\Documents\\Science\\MirRevAdaptEEG\\data\\eeg\\p003\\lrp\\p003_EarlyLate_rightmoves_rdm_block1-ave.fif ...\n",
      "    Found the data of interest:\n",
      "        t =   -2000.00 ...    1995.00 ms (16140)\n",
      "        0 CTF compensation matrices available\n",
      "        nave = 12 - aspect type = 100\n",
      "No projector specified for this dataset. Please consider the method self.add_proj.\n",
      "Loaded Evoked data is baseline-corrected (baseline: [-1.3, -1] sec)\n",
      "Reading F:\\Documents\\Science\\MirRevAdaptEEG\\data\\eeg\\p004\\lrp\\p004_EarlyLate_rightmoves_rdm_block1-ave.fif ...\n",
      "    Found the data of interest:\n",
      "        t =   -2000.00 ...    1995.00 ms (16140)\n",
      "        0 CTF compensation matrices available\n",
      "        nave = 12 - aspect type = 100\n",
      "No projector specified for this dataset. Please consider the method self.add_proj.\n",
      "Loaded Evoked data is baseline-corrected (baseline: [-1.3, -1] sec)\n",
      "Reading F:\\Documents\\Science\\MirRevAdaptEEG\\data\\eeg\\p005\\lrp\\p005_EarlyLate_rightmoves_rdm_block1-ave.fif ...\n",
      "    Found the data of interest:\n",
      "        t =   -2000.00 ...    1995.00 ms (16140)\n",
      "        0 CTF compensation matrices available\n",
      "        nave = 12 - aspect type = 100\n",
      "No projector specified for this dataset. Please consider the method self.add_proj.\n",
      "Loaded Evoked data is baseline-corrected (baseline: [-1.3, -1] sec)\n",
      "Reading F:\\Documents\\Science\\MirRevAdaptEEG\\data\\eeg\\p006\\lrp\\p006_EarlyLate_rightmoves_rdm_block1-ave.fif ...\n",
      "    Found the data of interest:\n",
      "        t =   -2000.00 ...    1995.00 ms (16140)\n"
     ]
    },
    {
     "name": "stdout",
     "output_type": "stream",
     "text": [
      "        0 CTF compensation matrices available\n",
      "        nave = 12 - aspect type = 100\n",
      "No projector specified for this dataset. Please consider the method self.add_proj.\n",
      "Loaded Evoked data is baseline-corrected (baseline: [-1.3, -1] sec)\n",
      "Reading F:\\Documents\\Science\\MirRevAdaptEEG\\data\\eeg\\p007\\lrp\\p007_EarlyLate_rightmoves_rdm_block1-ave.fif ...\n",
      "    Found the data of interest:\n",
      "        t =   -2000.00 ...    1995.00 ms (16140)\n",
      "        0 CTF compensation matrices available\n",
      "        nave = 12 - aspect type = 100\n",
      "No projector specified for this dataset. Please consider the method self.add_proj.\n",
      "Loaded Evoked data is baseline-corrected (baseline: [-1.3, -1] sec)\n",
      "Reading F:\\Documents\\Science\\MirRevAdaptEEG\\data\\eeg\\p008\\lrp\\p008_EarlyLate_rightmoves_rdm_block1-ave.fif ...\n",
      "    Found the data of interest:\n",
      "        t =   -2000.00 ...    1995.00 ms (16140)\n",
      "        0 CTF compensation matrices available\n",
      "        nave = 12 - aspect type = 100\n",
      "No projector specified for this dataset. Please consider the method self.add_proj.\n",
      "Loaded Evoked data is baseline-corrected (baseline: [-1.3, -1] sec)\n",
      "Reading F:\\Documents\\Science\\MirRevAdaptEEG\\data\\eeg\\p009\\lrp\\p009_EarlyLate_rightmoves_rdm_block1-ave.fif ...\n",
      "    Found the data of interest:\n",
      "        t =   -2000.00 ...    1995.00 ms (16140)\n",
      "        0 CTF compensation matrices available\n",
      "        nave = 12 - aspect type = 100\n",
      "No projector specified for this dataset. Please consider the method self.add_proj.\n",
      "Loaded Evoked data is baseline-corrected (baseline: [-1.3, -1] sec)\n",
      "Reading F:\\Documents\\Science\\MirRevAdaptEEG\\data\\eeg\\p010\\lrp\\p010_EarlyLate_rightmoves_rdm_block1-ave.fif ...\n",
      "    Found the data of interest:\n",
      "        t =   -2000.00 ...    1995.00 ms (16140)\n",
      "        0 CTF compensation matrices available\n",
      "        nave = 12 - aspect type = 100\n",
      "No projector specified for this dataset. Please consider the method self.add_proj.\n",
      "Loaded Evoked data is baseline-corrected (baseline: [-1.3, -1] sec)\n",
      "Reading F:\\Documents\\Science\\MirRevAdaptEEG\\data\\eeg\\p011\\lrp\\p011_EarlyLate_rightmoves_rdm_block1-ave.fif ...\n",
      "    Found the data of interest:\n",
      "        t =   -2000.00 ...    1995.00 ms (16140)\n",
      "        0 CTF compensation matrices available\n",
      "        nave = 12 - aspect type = 100\n",
      "No projector specified for this dataset. Please consider the method self.add_proj.\n",
      "Loaded Evoked data is baseline-corrected (baseline: [-1.3, -1] sec)\n",
      "Reading F:\\Documents\\Science\\MirRevAdaptEEG\\data\\eeg\\p012\\lrp\\p012_EarlyLate_rightmoves_rdm_block1-ave.fif ...\n",
      "    Found the data of interest:\n",
      "        t =   -2000.00 ...    1995.00 ms (16140)\n",
      "        0 CTF compensation matrices available\n",
      "        nave = 12 - aspect type = 100\n",
      "No projector specified for this dataset. Please consider the method self.add_proj.\n",
      "Loaded Evoked data is baseline-corrected (baseline: [-1.3, -1] sec)\n",
      "Reading F:\\Documents\\Science\\MirRevAdaptEEG\\data\\eeg\\p013\\lrp\\p013_EarlyLate_rightmoves_rdm_block1-ave.fif ...\n",
      "    Found the data of interest:\n",
      "        t =   -2000.00 ...    1995.00 ms (16140)\n",
      "        0 CTF compensation matrices available\n",
      "        nave = 12 - aspect type = 100\n",
      "No projector specified for this dataset. Please consider the method self.add_proj.\n",
      "Loaded Evoked data is baseline-corrected (baseline: [-1.3, -1] sec)\n",
      "Reading F:\\Documents\\Science\\MirRevAdaptEEG\\data\\eeg\\p014\\lrp\\p014_EarlyLate_rightmoves_rdm_block1-ave.fif ...\n",
      "    Found the data of interest:\n",
      "        t =   -2000.00 ...    1995.00 ms (16140)\n",
      "        0 CTF compensation matrices available\n",
      "        nave = 12 - aspect type = 100\n",
      "No projector specified for this dataset. Please consider the method self.add_proj.\n",
      "Loaded Evoked data is baseline-corrected (baseline: [-1.3, -1] sec)\n",
      "Reading F:\\Documents\\Science\\MirRevAdaptEEG\\data\\eeg\\p015\\lrp\\p015_EarlyLate_rightmoves_rdm_block1-ave.fif ...\n",
      "    Found the data of interest:\n",
      "        t =   -2000.00 ...    1995.00 ms (16140)\n",
      "        0 CTF compensation matrices available\n",
      "        nave = 12 - aspect type = 100\n",
      "No projector specified for this dataset. Please consider the method self.add_proj.\n",
      "Loaded Evoked data is baseline-corrected (baseline: [-1.3, -1] sec)\n",
      "Reading F:\\Documents\\Science\\MirRevAdaptEEG\\data\\eeg\\p016\\lrp\\p016_EarlyLate_rightmoves_rdm_block1-ave.fif ...\n",
      "    Found the data of interest:\n",
      "        t =   -2000.00 ...    1995.00 ms (16140)\n",
      "        0 CTF compensation matrices available\n",
      "        nave = 12 - aspect type = 100\n",
      "No projector specified for this dataset. Please consider the method self.add_proj.\n",
      "Loaded Evoked data is baseline-corrected (baseline: [-1.3, -1] sec)\n",
      "Reading F:\\Documents\\Science\\MirRevAdaptEEG\\data\\eeg\\p017\\lrp\\p017_EarlyLate_rightmoves_rdm_block1-ave.fif ...\n",
      "    Found the data of interest:\n",
      "        t =   -2000.00 ...    1995.00 ms (16140)\n",
      "        0 CTF compensation matrices available\n",
      "        nave = 12 - aspect type = 100\n",
      "No projector specified for this dataset. Please consider the method self.add_proj.\n",
      "Loaded Evoked data is baseline-corrected (baseline: [-1.3, -1] sec)\n",
      "Reading F:\\Documents\\Science\\MirRevAdaptEEG\\data\\eeg\\p018\\lrp\\p018_EarlyLate_rightmoves_rdm_block1-ave.fif ...\n",
      "    Found the data of interest:\n",
      "        t =   -2000.00 ...    1995.00 ms (16140)\n",
      "        0 CTF compensation matrices available\n",
      "        nave = 12 - aspect type = 100\n",
      "No projector specified for this dataset. Please consider the method self.add_proj.\n",
      "Loaded Evoked data is baseline-corrected (baseline: [-1.3, -1] sec)\n",
      "Reading F:\\Documents\\Science\\MirRevAdaptEEG\\data\\eeg\\p019\\lrp\\p019_EarlyLate_rightmoves_rdm_block1-ave.fif ...\n",
      "    Found the data of interest:\n",
      "        t =   -2000.00 ...    1995.00 ms (16140)\n",
      "        0 CTF compensation matrices available\n",
      "        nave = 12 - aspect type = 100\n",
      "No projector specified for this dataset. Please consider the method self.add_proj.\n",
      "Loaded Evoked data is baseline-corrected (baseline: [-1.3, -1] sec)\n",
      "Reading F:\\Documents\\Science\\MirRevAdaptEEG\\data\\eeg\\p020\\lrp\\p020_EarlyLate_rightmoves_rdm_block1-ave.fif ...\n",
      "    Found the data of interest:\n",
      "        t =   -2000.00 ...    1995.00 ms (16140)\n",
      "        0 CTF compensation matrices available\n",
      "        nave = 12 - aspect type = 100\n",
      "No projector specified for this dataset. Please consider the method self.add_proj.\n",
      "Loaded Evoked data is baseline-corrected (baseline: [-1.3, -1] sec)\n",
      "Reading F:\\Documents\\Science\\MirRevAdaptEEG\\data\\eeg\\p021\\lrp\\p021_EarlyLate_rightmoves_rdm_block1-ave.fif ...\n",
      "    Found the data of interest:\n",
      "        t =   -2000.00 ...    1995.00 ms (16140)\n",
      "        0 CTF compensation matrices available\n",
      "        nave = 12 - aspect type = 100\n",
      "No projector specified for this dataset. Please consider the method self.add_proj.\n",
      "Loaded Evoked data is baseline-corrected (baseline: [-1.3, -1] sec)\n",
      "Reading F:\\Documents\\Science\\MirRevAdaptEEG\\data\\eeg\\p022\\lrp\\p022_EarlyLate_rightmoves_rdm_block1-ave.fif ...\n",
      "    Found the data of interest:\n",
      "        t =   -2000.00 ...    1995.00 ms (16140)\n",
      "        0 CTF compensation matrices available\n",
      "        nave = 12 - aspect type = 100\n",
      "No projector specified for this dataset. Please consider the method self.add_proj.\n",
      "Loaded Evoked data is baseline-corrected (baseline: [-1.3, -1] sec)\n",
      "Reading F:\\Documents\\Science\\MirRevAdaptEEG\\data\\eeg\\p023\\lrp\\p023_EarlyLate_rightmoves_rdm_block1-ave.fif ...\n",
      "    Found the data of interest:\n",
      "        t =   -2000.00 ...    1995.00 ms (16140)\n",
      "        0 CTF compensation matrices available\n",
      "        nave = 12 - aspect type = 100\n",
      "No projector specified for this dataset. Please consider the method self.add_proj.\n",
      "Loaded Evoked data is baseline-corrected (baseline: [-1.3, -1] sec)\n",
      "Reading F:\\Documents\\Science\\MirRevAdaptEEG\\data\\eeg\\p024\\lrp\\p024_EarlyLate_rightmoves_rdm_block1-ave.fif ...\n",
      "    Found the data of interest:\n",
      "        t =   -2000.00 ...    1995.00 ms (16140)\n",
      "        0 CTF compensation matrices available\n",
      "        nave = 12 - aspect type = 100\n",
      "No projector specified for this dataset. Please consider the method self.add_proj.\n",
      "Loaded Evoked data is baseline-corrected (baseline: [-1.3, -1] sec)\n",
      "Reading F:\\Documents\\Science\\MirRevAdaptEEG\\data\\eeg\\p025\\lrp\\p025_EarlyLate_rightmoves_rdm_block1-ave.fif ...\n",
      "    Found the data of interest:\n",
      "        t =   -2000.00 ...    1995.00 ms (16140)\n",
      "        0 CTF compensation matrices available\n",
      "        nave = 12 - aspect type = 100\n"
     ]
    },
    {
     "name": "stdout",
     "output_type": "stream",
     "text": [
      "No projector specified for this dataset. Please consider the method self.add_proj.\n",
      "Loaded Evoked data is baseline-corrected (baseline: [-1.3, -1] sec)\n",
      "Reading F:\\Documents\\Science\\MirRevAdaptEEG\\data\\eeg\\p026\\lrp\\p026_EarlyLate_rightmoves_rdm_block1-ave.fif ...\n",
      "    Found the data of interest:\n",
      "        t =   -2000.00 ...    1995.00 ms (16140)\n",
      "        0 CTF compensation matrices available\n",
      "        nave = 12 - aspect type = 100\n",
      "No projector specified for this dataset. Please consider the method self.add_proj.\n",
      "Loaded Evoked data is baseline-corrected (baseline: [-1.3, -1] sec)\n",
      "Reading F:\\Documents\\Science\\MirRevAdaptEEG\\data\\eeg\\p027\\lrp\\p027_EarlyLate_rightmoves_rdm_block1-ave.fif ...\n",
      "    Found the data of interest:\n",
      "        t =   -2000.00 ...    1995.00 ms (16140)\n",
      "        0 CTF compensation matrices available\n",
      "        nave = 12 - aspect type = 100\n",
      "No projector specified for this dataset. Please consider the method self.add_proj.\n",
      "Loaded Evoked data is baseline-corrected (baseline: [-1.3, -1] sec)\n",
      "Reading F:\\Documents\\Science\\MirRevAdaptEEG\\data\\eeg\\p028\\lrp\\p028_EarlyLate_rightmoves_rdm_block1-ave.fif ...\n",
      "    Found the data of interest:\n",
      "        t =   -2000.00 ...    1995.00 ms (16140)\n",
      "        0 CTF compensation matrices available\n",
      "        nave = 12 - aspect type = 100\n",
      "No projector specified for this dataset. Please consider the method self.add_proj.\n",
      "Loaded Evoked data is baseline-corrected (baseline: [-1.3, -1] sec)\n",
      "Reading F:\\Documents\\Science\\MirRevAdaptEEG\\data\\eeg\\p029\\lrp\\p029_EarlyLate_rightmoves_rdm_block1-ave.fif ...\n",
      "    Found the data of interest:\n",
      "        t =   -2000.00 ...    1995.00 ms (16140)\n",
      "        0 CTF compensation matrices available\n",
      "        nave = 12 - aspect type = 100\n",
      "No projector specified for this dataset. Please consider the method self.add_proj.\n",
      "Loaded Evoked data is baseline-corrected (baseline: [-1.3, -1] sec)\n",
      "Reading F:\\Documents\\Science\\MirRevAdaptEEG\\data\\eeg\\p030\\lrp\\p030_EarlyLate_rightmoves_rdm_block1-ave.fif ...\n",
      "    Found the data of interest:\n",
      "        t =   -2000.00 ...    1995.00 ms (16140)\n",
      "        0 CTF compensation matrices available\n",
      "        nave = 12 - aspect type = 100\n",
      "No projector specified for this dataset. Please consider the method self.add_proj.\n",
      "Loaded Evoked data is baseline-corrected (baseline: [-1.3, -1] sec)\n",
      "Reading F:\\Documents\\Science\\MirRevAdaptEEG\\data\\eeg\\p031\\lrp\\p031_EarlyLate_rightmoves_rdm_block1-ave.fif ...\n",
      "    Found the data of interest:\n",
      "        t =   -2000.00 ...    1995.00 ms (16140)\n",
      "        0 CTF compensation matrices available\n",
      "        nave = 12 - aspect type = 100\n",
      "No projector specified for this dataset. Please consider the method self.add_proj.\n",
      "Loaded Evoked data is baseline-corrected (baseline: [-1.3, -1] sec)\n",
      "Identifying common channels ...\n",
      "Reading F:\\Documents\\Science\\MirRevAdaptEEG\\data\\eeg\\p000\\lrp\\p000_EarlyLate_leftmoves_rdm_block0-ave.fif ...\n",
      "    Found the data of interest:\n",
      "        t =   -2000.00 ...    1995.00 ms (16140)\n",
      "        0 CTF compensation matrices available\n",
      "        nave = 12 - aspect type = 100\n",
      "No projector specified for this dataset. Please consider the method self.add_proj.\n",
      "Loaded Evoked data is baseline-corrected (baseline: [-1.3, -1] sec)\n",
      "Reading F:\\Documents\\Science\\MirRevAdaptEEG\\data\\eeg\\p001\\lrp\\p001_EarlyLate_leftmoves_rdm_block0-ave.fif ...\n",
      "    Found the data of interest:\n",
      "        t =   -2000.00 ...    1995.00 ms (16140)\n",
      "        0 CTF compensation matrices available\n",
      "        nave = 12 - aspect type = 100\n",
      "No projector specified for this dataset. Please consider the method self.add_proj.\n",
      "Loaded Evoked data is baseline-corrected (baseline: [-1.3, -1] sec)\n",
      "Reading F:\\Documents\\Science\\MirRevAdaptEEG\\data\\eeg\\p002\\lrp\\p002_EarlyLate_leftmoves_rdm_block0-ave.fif ...\n",
      "    Found the data of interest:\n",
      "        t =   -2000.00 ...    1995.00 ms (16140)\n",
      "        0 CTF compensation matrices available\n",
      "        nave = 12 - aspect type = 100\n",
      "No projector specified for this dataset. Please consider the method self.add_proj.\n",
      "Loaded Evoked data is baseline-corrected (baseline: [-1.3, -1] sec)\n",
      "Reading F:\\Documents\\Science\\MirRevAdaptEEG\\data\\eeg\\p003\\lrp\\p003_EarlyLate_leftmoves_rdm_block0-ave.fif ...\n",
      "    Found the data of interest:\n",
      "        t =   -2000.00 ...    1995.00 ms (16140)\n",
      "        0 CTF compensation matrices available\n",
      "        nave = 12 - aspect type = 100\n",
      "No projector specified for this dataset. Please consider the method self.add_proj.\n",
      "Loaded Evoked data is baseline-corrected (baseline: [-1.3, -1] sec)\n",
      "Reading F:\\Documents\\Science\\MirRevAdaptEEG\\data\\eeg\\p004\\lrp\\p004_EarlyLate_leftmoves_rdm_block0-ave.fif ...\n",
      "    Found the data of interest:\n",
      "        t =   -2000.00 ...    1995.00 ms (16140)\n",
      "        0 CTF compensation matrices available\n",
      "        nave = 12 - aspect type = 100\n",
      "No projector specified for this dataset. Please consider the method self.add_proj.\n",
      "Loaded Evoked data is baseline-corrected (baseline: [-1.3, -1] sec)\n",
      "Reading F:\\Documents\\Science\\MirRevAdaptEEG\\data\\eeg\\p005\\lrp\\p005_EarlyLate_leftmoves_rdm_block0-ave.fif ...\n",
      "    Found the data of interest:\n",
      "        t =   -2000.00 ...    1995.00 ms (16140)\n",
      "        0 CTF compensation matrices available\n",
      "        nave = 12 - aspect type = 100\n",
      "No projector specified for this dataset. Please consider the method self.add_proj.\n",
      "Loaded Evoked data is baseline-corrected (baseline: [-1.3, -1] sec)\n",
      "Reading F:\\Documents\\Science\\MirRevAdaptEEG\\data\\eeg\\p006\\lrp\\p006_EarlyLate_leftmoves_rdm_block0-ave.fif ...\n",
      "    Found the data of interest:\n",
      "        t =   -2000.00 ...    1995.00 ms (16140)\n",
      "        0 CTF compensation matrices available\n",
      "        nave = 12 - aspect type = 100\n",
      "No projector specified for this dataset. Please consider the method self.add_proj.\n",
      "Loaded Evoked data is baseline-corrected (baseline: [-1.3, -1] sec)\n",
      "Reading F:\\Documents\\Science\\MirRevAdaptEEG\\data\\eeg\\p007\\lrp\\p007_EarlyLate_leftmoves_rdm_block0-ave.fif ...\n",
      "    Found the data of interest:\n",
      "        t =   -2000.00 ...    1995.00 ms (16140)\n",
      "        0 CTF compensation matrices available\n",
      "        nave = 12 - aspect type = 100\n",
      "No projector specified for this dataset. Please consider the method self.add_proj.\n",
      "Loaded Evoked data is baseline-corrected (baseline: [-1.3, -1] sec)\n",
      "Reading F:\\Documents\\Science\\MirRevAdaptEEG\\data\\eeg\\p008\\lrp\\p008_EarlyLate_leftmoves_rdm_block0-ave.fif ...\n",
      "    Found the data of interest:\n",
      "        t =   -2000.00 ...    1995.00 ms (16140)\n",
      "        0 CTF compensation matrices available\n",
      "        nave = 12 - aspect type = 100\n",
      "No projector specified for this dataset. Please consider the method self.add_proj.\n",
      "Loaded Evoked data is baseline-corrected (baseline: [-1.3, -1] sec)\n",
      "Reading F:\\Documents\\Science\\MirRevAdaptEEG\\data\\eeg\\p009\\lrp\\p009_EarlyLate_leftmoves_rdm_block0-ave.fif ...\n",
      "    Found the data of interest:\n",
      "        t =   -2000.00 ...    1995.00 ms (16140)\n",
      "        0 CTF compensation matrices available\n",
      "        nave = 12 - aspect type = 100\n",
      "No projector specified for this dataset. Please consider the method self.add_proj.\n",
      "Loaded Evoked data is baseline-corrected (baseline: [-1.3, -1] sec)\n",
      "Reading F:\\Documents\\Science\\MirRevAdaptEEG\\data\\eeg\\p010\\lrp\\p010_EarlyLate_leftmoves_rdm_block0-ave.fif ...\n",
      "    Found the data of interest:\n",
      "        t =   -2000.00 ...    1995.00 ms (16140)\n",
      "        0 CTF compensation matrices available\n",
      "        nave = 12 - aspect type = 100\n",
      "No projector specified for this dataset. Please consider the method self.add_proj.\n",
      "Loaded Evoked data is baseline-corrected (baseline: [-1.3, -1] sec)\n",
      "Reading F:\\Documents\\Science\\MirRevAdaptEEG\\data\\eeg\\p011\\lrp\\p011_EarlyLate_leftmoves_rdm_block0-ave.fif ...\n",
      "    Found the data of interest:\n",
      "        t =   -2000.00 ...    1995.00 ms (16140)\n",
      "        0 CTF compensation matrices available\n",
      "        nave = 11 - aspect type = 100\n",
      "No projector specified for this dataset. Please consider the method self.add_proj.\n",
      "Loaded Evoked data is baseline-corrected (baseline: [-1.3, -1] sec)\n",
      "Reading F:\\Documents\\Science\\MirRevAdaptEEG\\data\\eeg\\p012\\lrp\\p012_EarlyLate_leftmoves_rdm_block0-ave.fif ...\n",
      "    Found the data of interest:\n",
      "        t =   -2000.00 ...    1995.00 ms (16140)\n",
      "        0 CTF compensation matrices available\n",
      "        nave = 12 - aspect type = 100\n",
      "No projector specified for this dataset. Please consider the method self.add_proj.\n"
     ]
    },
    {
     "name": "stdout",
     "output_type": "stream",
     "text": [
      "Loaded Evoked data is baseline-corrected (baseline: [-1.3, -1] sec)\n",
      "Reading F:\\Documents\\Science\\MirRevAdaptEEG\\data\\eeg\\p013\\lrp\\p013_EarlyLate_leftmoves_rdm_block0-ave.fif ...\n",
      "    Found the data of interest:\n",
      "        t =   -2000.00 ...    1995.00 ms (16140)\n",
      "        0 CTF compensation matrices available\n",
      "        nave = 12 - aspect type = 100\n",
      "No projector specified for this dataset. Please consider the method self.add_proj.\n",
      "Loaded Evoked data is baseline-corrected (baseline: [-1.3, -1] sec)\n",
      "Reading F:\\Documents\\Science\\MirRevAdaptEEG\\data\\eeg\\p014\\lrp\\p014_EarlyLate_leftmoves_rdm_block0-ave.fif ...\n",
      "    Found the data of interest:\n",
      "        t =   -2000.00 ...    1995.00 ms (16140)\n",
      "        0 CTF compensation matrices available\n",
      "        nave = 12 - aspect type = 100\n",
      "No projector specified for this dataset. Please consider the method self.add_proj.\n",
      "Loaded Evoked data is baseline-corrected (baseline: [-1.3, -1] sec)\n",
      "Reading F:\\Documents\\Science\\MirRevAdaptEEG\\data\\eeg\\p015\\lrp\\p015_EarlyLate_leftmoves_rdm_block0-ave.fif ...\n",
      "    Found the data of interest:\n",
      "        t =   -2000.00 ...    1995.00 ms (16140)\n",
      "        0 CTF compensation matrices available\n",
      "        nave = 12 - aspect type = 100\n",
      "No projector specified for this dataset. Please consider the method self.add_proj.\n",
      "Loaded Evoked data is baseline-corrected (baseline: [-1.3, -1] sec)\n",
      "Reading F:\\Documents\\Science\\MirRevAdaptEEG\\data\\eeg\\p016\\lrp\\p016_EarlyLate_leftmoves_rdm_block0-ave.fif ...\n",
      "    Found the data of interest:\n",
      "        t =   -2000.00 ...    1995.00 ms (16140)\n",
      "        0 CTF compensation matrices available\n",
      "        nave = 11 - aspect type = 100\n",
      "No projector specified for this dataset. Please consider the method self.add_proj.\n",
      "Loaded Evoked data is baseline-corrected (baseline: [-1.3, -1] sec)\n",
      "Reading F:\\Documents\\Science\\MirRevAdaptEEG\\data\\eeg\\p017\\lrp\\p017_EarlyLate_leftmoves_rdm_block0-ave.fif ...\n",
      "    Found the data of interest:\n",
      "        t =   -2000.00 ...    1995.00 ms (16140)\n",
      "        0 CTF compensation matrices available\n",
      "        nave = 12 - aspect type = 100\n",
      "No projector specified for this dataset. Please consider the method self.add_proj.\n",
      "Loaded Evoked data is baseline-corrected (baseline: [-1.3, -1] sec)\n",
      "Reading F:\\Documents\\Science\\MirRevAdaptEEG\\data\\eeg\\p018\\lrp\\p018_EarlyLate_leftmoves_rdm_block0-ave.fif ...\n",
      "    Found the data of interest:\n",
      "        t =   -2000.00 ...    1995.00 ms (16140)\n",
      "        0 CTF compensation matrices available\n",
      "        nave = 12 - aspect type = 100\n",
      "No projector specified for this dataset. Please consider the method self.add_proj.\n",
      "Loaded Evoked data is baseline-corrected (baseline: [-1.3, -1] sec)\n",
      "Reading F:\\Documents\\Science\\MirRevAdaptEEG\\data\\eeg\\p019\\lrp\\p019_EarlyLate_leftmoves_rdm_block0-ave.fif ...\n",
      "    Found the data of interest:\n",
      "        t =   -2000.00 ...    1995.00 ms (16140)\n",
      "        0 CTF compensation matrices available\n",
      "        nave = 12 - aspect type = 100\n",
      "No projector specified for this dataset. Please consider the method self.add_proj.\n",
      "Loaded Evoked data is baseline-corrected (baseline: [-1.3, -1] sec)\n",
      "Reading F:\\Documents\\Science\\MirRevAdaptEEG\\data\\eeg\\p020\\lrp\\p020_EarlyLate_leftmoves_rdm_block0-ave.fif ...\n",
      "    Found the data of interest:\n",
      "        t =   -2000.00 ...    1995.00 ms (16140)\n",
      "        0 CTF compensation matrices available\n",
      "        nave = 12 - aspect type = 100\n",
      "No projector specified for this dataset. Please consider the method self.add_proj.\n",
      "Loaded Evoked data is baseline-corrected (baseline: [-1.3, -1] sec)\n",
      "Reading F:\\Documents\\Science\\MirRevAdaptEEG\\data\\eeg\\p021\\lrp\\p021_EarlyLate_leftmoves_rdm_block0-ave.fif ...\n",
      "    Found the data of interest:\n",
      "        t =   -2000.00 ...    1995.00 ms (16140)\n",
      "        0 CTF compensation matrices available\n",
      "        nave = 12 - aspect type = 100\n",
      "No projector specified for this dataset. Please consider the method self.add_proj.\n",
      "Loaded Evoked data is baseline-corrected (baseline: [-1.3, -1] sec)\n",
      "Reading F:\\Documents\\Science\\MirRevAdaptEEG\\data\\eeg\\p022\\lrp\\p022_EarlyLate_leftmoves_rdm_block0-ave.fif ...\n",
      "    Found the data of interest:\n",
      "        t =   -2000.00 ...    1995.00 ms (16140)\n",
      "        0 CTF compensation matrices available\n",
      "        nave = 12 - aspect type = 100\n",
      "No projector specified for this dataset. Please consider the method self.add_proj.\n",
      "Loaded Evoked data is baseline-corrected (baseline: [-1.3, -1] sec)\n",
      "Reading F:\\Documents\\Science\\MirRevAdaptEEG\\data\\eeg\\p023\\lrp\\p023_EarlyLate_leftmoves_rdm_block0-ave.fif ...\n",
      "    Found the data of interest:\n",
      "        t =   -2000.00 ...    1995.00 ms (16140)\n",
      "        0 CTF compensation matrices available\n",
      "        nave = 12 - aspect type = 100\n",
      "No projector specified for this dataset. Please consider the method self.add_proj.\n",
      "Loaded Evoked data is baseline-corrected (baseline: [-1.3, -1] sec)\n",
      "Reading F:\\Documents\\Science\\MirRevAdaptEEG\\data\\eeg\\p024\\lrp\\p024_EarlyLate_leftmoves_rdm_block0-ave.fif ...\n",
      "    Found the data of interest:\n",
      "        t =   -2000.00 ...    1995.00 ms (16140)\n",
      "        0 CTF compensation matrices available\n",
      "        nave = 12 - aspect type = 100\n",
      "No projector specified for this dataset. Please consider the method self.add_proj.\n",
      "Loaded Evoked data is baseline-corrected (baseline: [-1.3, -1] sec)\n",
      "Reading F:\\Documents\\Science\\MirRevAdaptEEG\\data\\eeg\\p025\\lrp\\p025_EarlyLate_leftmoves_rdm_block0-ave.fif ...\n",
      "    Found the data of interest:\n",
      "        t =   -2000.00 ...    1995.00 ms (16140)\n",
      "        0 CTF compensation matrices available\n",
      "        nave = 11 - aspect type = 100\n",
      "No projector specified for this dataset. Please consider the method self.add_proj.\n",
      "Loaded Evoked data is baseline-corrected (baseline: [-1.3, -1] sec)\n",
      "Reading F:\\Documents\\Science\\MirRevAdaptEEG\\data\\eeg\\p026\\lrp\\p026_EarlyLate_leftmoves_rdm_block0-ave.fif ...\n",
      "    Found the data of interest:\n",
      "        t =   -2000.00 ...    1995.00 ms (16140)\n",
      "        0 CTF compensation matrices available\n",
      "        nave = 12 - aspect type = 100\n",
      "No projector specified for this dataset. Please consider the method self.add_proj.\n",
      "Loaded Evoked data is baseline-corrected (baseline: [-1.3, -1] sec)\n",
      "Reading F:\\Documents\\Science\\MirRevAdaptEEG\\data\\eeg\\p027\\lrp\\p027_EarlyLate_leftmoves_rdm_block0-ave.fif ...\n",
      "    Found the data of interest:\n",
      "        t =   -2000.00 ...    1995.00 ms (16140)\n",
      "        0 CTF compensation matrices available\n",
      "        nave = 12 - aspect type = 100\n",
      "No projector specified for this dataset. Please consider the method self.add_proj.\n",
      "Loaded Evoked data is baseline-corrected (baseline: [-1.3, -1] sec)\n",
      "Reading F:\\Documents\\Science\\MirRevAdaptEEG\\data\\eeg\\p028\\lrp\\p028_EarlyLate_leftmoves_rdm_block0-ave.fif ...\n",
      "    Found the data of interest:\n",
      "        t =   -2000.00 ...    1995.00 ms (16140)\n",
      "        0 CTF compensation matrices available\n",
      "        nave = 12 - aspect type = 100\n",
      "No projector specified for this dataset. Please consider the method self.add_proj.\n",
      "Loaded Evoked data is baseline-corrected (baseline: [-1.3, -1] sec)\n",
      "Reading F:\\Documents\\Science\\MirRevAdaptEEG\\data\\eeg\\p029\\lrp\\p029_EarlyLate_leftmoves_rdm_block0-ave.fif ...\n",
      "    Found the data of interest:\n",
      "        t =   -2000.00 ...    1995.00 ms (16140)\n",
      "        0 CTF compensation matrices available\n",
      "        nave = 12 - aspect type = 100\n",
      "No projector specified for this dataset. Please consider the method self.add_proj.\n",
      "Loaded Evoked data is baseline-corrected (baseline: [-1.3, -1] sec)\n",
      "Reading F:\\Documents\\Science\\MirRevAdaptEEG\\data\\eeg\\p030\\lrp\\p030_EarlyLate_leftmoves_rdm_block0-ave.fif ...\n",
      "    Found the data of interest:\n",
      "        t =   -2000.00 ...    1995.00 ms (16140)\n",
      "        0 CTF compensation matrices available\n",
      "        nave = 12 - aspect type = 100\n",
      "No projector specified for this dataset. Please consider the method self.add_proj.\n",
      "Loaded Evoked data is baseline-corrected (baseline: [-1.3, -1] sec)\n",
      "Reading F:\\Documents\\Science\\MirRevAdaptEEG\\data\\eeg\\p031\\lrp\\p031_EarlyLate_leftmoves_rdm_block0-ave.fif ...\n",
      "    Found the data of interest:\n",
      "        t =   -2000.00 ...    1995.00 ms (16140)\n",
      "        0 CTF compensation matrices available\n",
      "        nave = 12 - aspect type = 100\n",
      "No projector specified for this dataset. Please consider the method self.add_proj.\n",
      "Loaded Evoked data is baseline-corrected (baseline: [-1.3, -1] sec)\n",
      "Identifying common channels ...\n"
     ]
    },
    {
     "name": "stdout",
     "output_type": "stream",
     "text": [
      "Reading F:\\Documents\\Science\\MirRevAdaptEEG\\data\\eeg\\p000\\lrp\\p000_EarlyLate_leftmoves_rdm_block1-ave.fif ...\n",
      "    Found the data of interest:\n",
      "        t =   -2000.00 ...    1995.00 ms (16140)\n",
      "        0 CTF compensation matrices available\n",
      "        nave = 12 - aspect type = 100\n",
      "No projector specified for this dataset. Please consider the method self.add_proj.\n",
      "Loaded Evoked data is baseline-corrected (baseline: [-1.3, -1] sec)\n",
      "Reading F:\\Documents\\Science\\MirRevAdaptEEG\\data\\eeg\\p001\\lrp\\p001_EarlyLate_leftmoves_rdm_block1-ave.fif ...\n",
      "    Found the data of interest:\n",
      "        t =   -2000.00 ...    1995.00 ms (16140)\n",
      "        0 CTF compensation matrices available\n",
      "        nave = 12 - aspect type = 100\n",
      "No projector specified for this dataset. Please consider the method self.add_proj.\n",
      "Loaded Evoked data is baseline-corrected (baseline: [-1.3, -1] sec)\n",
      "Reading F:\\Documents\\Science\\MirRevAdaptEEG\\data\\eeg\\p002\\lrp\\p002_EarlyLate_leftmoves_rdm_block1-ave.fif ...\n",
      "    Found the data of interest:\n",
      "        t =   -2000.00 ...    1995.00 ms (16140)\n",
      "        0 CTF compensation matrices available\n",
      "        nave = 12 - aspect type = 100\n",
      "No projector specified for this dataset. Please consider the method self.add_proj.\n",
      "Loaded Evoked data is baseline-corrected (baseline: [-1.3, -1] sec)\n",
      "Reading F:\\Documents\\Science\\MirRevAdaptEEG\\data\\eeg\\p003\\lrp\\p003_EarlyLate_leftmoves_rdm_block1-ave.fif ...\n",
      "    Found the data of interest:\n",
      "        t =   -2000.00 ...    1995.00 ms (16140)\n",
      "        0 CTF compensation matrices available\n",
      "        nave = 11 - aspect type = 100\n",
      "No projector specified for this dataset. Please consider the method self.add_proj.\n",
      "Loaded Evoked data is baseline-corrected (baseline: [-1.3, -1] sec)\n",
      "Reading F:\\Documents\\Science\\MirRevAdaptEEG\\data\\eeg\\p004\\lrp\\p004_EarlyLate_leftmoves_rdm_block1-ave.fif ...\n",
      "    Found the data of interest:\n",
      "        t =   -2000.00 ...    1995.00 ms (16140)\n",
      "        0 CTF compensation matrices available\n",
      "        nave = 12 - aspect type = 100\n",
      "No projector specified for this dataset. Please consider the method self.add_proj.\n",
      "Loaded Evoked data is baseline-corrected (baseline: [-1.3, -1] sec)\n",
      "Reading F:\\Documents\\Science\\MirRevAdaptEEG\\data\\eeg\\p005\\lrp\\p005_EarlyLate_leftmoves_rdm_block1-ave.fif ...\n",
      "    Found the data of interest:\n",
      "        t =   -2000.00 ...    1995.00 ms (16140)\n",
      "        0 CTF compensation matrices available\n",
      "        nave = 12 - aspect type = 100\n",
      "No projector specified for this dataset. Please consider the method self.add_proj.\n",
      "Loaded Evoked data is baseline-corrected (baseline: [-1.3, -1] sec)\n",
      "Reading F:\\Documents\\Science\\MirRevAdaptEEG\\data\\eeg\\p006\\lrp\\p006_EarlyLate_leftmoves_rdm_block1-ave.fif ...\n",
      "    Found the data of interest:\n",
      "        t =   -2000.00 ...    1995.00 ms (16140)\n",
      "        0 CTF compensation matrices available\n",
      "        nave = 12 - aspect type = 100\n",
      "No projector specified for this dataset. Please consider the method self.add_proj.\n",
      "Loaded Evoked data is baseline-corrected (baseline: [-1.3, -1] sec)\n",
      "Reading F:\\Documents\\Science\\MirRevAdaptEEG\\data\\eeg\\p007\\lrp\\p007_EarlyLate_leftmoves_rdm_block1-ave.fif ...\n",
      "    Found the data of interest:\n",
      "        t =   -2000.00 ...    1995.00 ms (16140)\n",
      "        0 CTF compensation matrices available\n",
      "        nave = 12 - aspect type = 100\n",
      "No projector specified for this dataset. Please consider the method self.add_proj.\n",
      "Loaded Evoked data is baseline-corrected (baseline: [-1.3, -1] sec)\n",
      "Reading F:\\Documents\\Science\\MirRevAdaptEEG\\data\\eeg\\p008\\lrp\\p008_EarlyLate_leftmoves_rdm_block1-ave.fif ...\n",
      "    Found the data of interest:\n",
      "        t =   -2000.00 ...    1995.00 ms (16140)\n",
      "        0 CTF compensation matrices available\n",
      "        nave = 12 - aspect type = 100\n",
      "No projector specified for this dataset. Please consider the method self.add_proj.\n",
      "Loaded Evoked data is baseline-corrected (baseline: [-1.3, -1] sec)\n",
      "Reading F:\\Documents\\Science\\MirRevAdaptEEG\\data\\eeg\\p009\\lrp\\p009_EarlyLate_leftmoves_rdm_block1-ave.fif ...\n",
      "    Found the data of interest:\n",
      "        t =   -2000.00 ...    1995.00 ms (16140)\n",
      "        0 CTF compensation matrices available\n",
      "        nave = 12 - aspect type = 100\n",
      "No projector specified for this dataset. Please consider the method self.add_proj.\n",
      "Loaded Evoked data is baseline-corrected (baseline: [-1.3, -1] sec)\n",
      "Reading F:\\Documents\\Science\\MirRevAdaptEEG\\data\\eeg\\p010\\lrp\\p010_EarlyLate_leftmoves_rdm_block1-ave.fif ...\n",
      "    Found the data of interest:\n",
      "        t =   -2000.00 ...    1995.00 ms (16140)\n",
      "        0 CTF compensation matrices available\n",
      "        nave = 12 - aspect type = 100\n",
      "No projector specified for this dataset. Please consider the method self.add_proj.\n",
      "Loaded Evoked data is baseline-corrected (baseline: [-1.3, -1] sec)\n",
      "Reading F:\\Documents\\Science\\MirRevAdaptEEG\\data\\eeg\\p011\\lrp\\p011_EarlyLate_leftmoves_rdm_block1-ave.fif ...\n",
      "    Found the data of interest:\n",
      "        t =   -2000.00 ...    1995.00 ms (16140)\n",
      "        0 CTF compensation matrices available\n",
      "        nave = 12 - aspect type = 100\n",
      "No projector specified for this dataset. Please consider the method self.add_proj.\n",
      "Loaded Evoked data is baseline-corrected (baseline: [-1.3, -1] sec)\n",
      "Reading F:\\Documents\\Science\\MirRevAdaptEEG\\data\\eeg\\p012\\lrp\\p012_EarlyLate_leftmoves_rdm_block1-ave.fif ...\n",
      "    Found the data of interest:\n",
      "        t =   -2000.00 ...    1995.00 ms (16140)\n",
      "        0 CTF compensation matrices available\n",
      "        nave = 12 - aspect type = 100\n",
      "No projector specified for this dataset. Please consider the method self.add_proj.\n",
      "Loaded Evoked data is baseline-corrected (baseline: [-1.3, -1] sec)\n",
      "Reading F:\\Documents\\Science\\MirRevAdaptEEG\\data\\eeg\\p013\\lrp\\p013_EarlyLate_leftmoves_rdm_block1-ave.fif ...\n",
      "    Found the data of interest:\n",
      "        t =   -2000.00 ...    1995.00 ms (16140)\n",
      "        0 CTF compensation matrices available\n",
      "        nave = 12 - aspect type = 100\n",
      "No projector specified for this dataset. Please consider the method self.add_proj.\n",
      "Loaded Evoked data is baseline-corrected (baseline: [-1.3, -1] sec)\n",
      "Reading F:\\Documents\\Science\\MirRevAdaptEEG\\data\\eeg\\p014\\lrp\\p014_EarlyLate_leftmoves_rdm_block1-ave.fif ...\n",
      "    Found the data of interest:\n",
      "        t =   -2000.00 ...    1995.00 ms (16140)\n",
      "        0 CTF compensation matrices available\n",
      "        nave = 12 - aspect type = 100\n",
      "No projector specified for this dataset. Please consider the method self.add_proj.\n",
      "Loaded Evoked data is baseline-corrected (baseline: [-1.3, -1] sec)\n",
      "Reading F:\\Documents\\Science\\MirRevAdaptEEG\\data\\eeg\\p015\\lrp\\p015_EarlyLate_leftmoves_rdm_block1-ave.fif ...\n",
      "    Found the data of interest:\n",
      "        t =   -2000.00 ...    1995.00 ms (16140)\n",
      "        0 CTF compensation matrices available\n",
      "        nave = 12 - aspect type = 100\n",
      "No projector specified for this dataset. Please consider the method self.add_proj.\n",
      "Loaded Evoked data is baseline-corrected (baseline: [-1.3, -1] sec)\n",
      "Reading F:\\Documents\\Science\\MirRevAdaptEEG\\data\\eeg\\p016\\lrp\\p016_EarlyLate_leftmoves_rdm_block1-ave.fif ...\n",
      "    Found the data of interest:\n",
      "        t =   -2000.00 ...    1995.00 ms (16140)\n",
      "        0 CTF compensation matrices available\n",
      "        nave = 12 - aspect type = 100\n",
      "No projector specified for this dataset. Please consider the method self.add_proj.\n",
      "Loaded Evoked data is baseline-corrected (baseline: [-1.3, -1] sec)\n",
      "Reading F:\\Documents\\Science\\MirRevAdaptEEG\\data\\eeg\\p017\\lrp\\p017_EarlyLate_leftmoves_rdm_block1-ave.fif ...\n",
      "    Found the data of interest:\n",
      "        t =   -2000.00 ...    1995.00 ms (16140)\n",
      "        0 CTF compensation matrices available\n",
      "        nave = 12 - aspect type = 100\n",
      "No projector specified for this dataset. Please consider the method self.add_proj.\n",
      "Loaded Evoked data is baseline-corrected (baseline: [-1.3, -1] sec)\n",
      "Reading F:\\Documents\\Science\\MirRevAdaptEEG\\data\\eeg\\p018\\lrp\\p018_EarlyLate_leftmoves_rdm_block1-ave.fif ...\n",
      "    Found the data of interest:\n",
      "        t =   -2000.00 ...    1995.00 ms (16140)\n",
      "        0 CTF compensation matrices available\n",
      "        nave = 12 - aspect type = 100\n",
      "No projector specified for this dataset. Please consider the method self.add_proj.\n",
      "Loaded Evoked data is baseline-corrected (baseline: [-1.3, -1] sec)\n",
      "Reading F:\\Documents\\Science\\MirRevAdaptEEG\\data\\eeg\\p019\\lrp\\p019_EarlyLate_leftmoves_rdm_block1-ave.fif ...\n"
     ]
    },
    {
     "name": "stdout",
     "output_type": "stream",
     "text": [
      "    Found the data of interest:\n",
      "        t =   -2000.00 ...    1995.00 ms (16140)\n",
      "        0 CTF compensation matrices available\n",
      "        nave = 12 - aspect type = 100\n",
      "No projector specified for this dataset. Please consider the method self.add_proj.\n",
      "Loaded Evoked data is baseline-corrected (baseline: [-1.3, -1] sec)\n",
      "Reading F:\\Documents\\Science\\MirRevAdaptEEG\\data\\eeg\\p020\\lrp\\p020_EarlyLate_leftmoves_rdm_block1-ave.fif ...\n",
      "    Found the data of interest:\n",
      "        t =   -2000.00 ...    1995.00 ms (16140)\n",
      "        0 CTF compensation matrices available\n",
      "        nave = 12 - aspect type = 100\n",
      "No projector specified for this dataset. Please consider the method self.add_proj.\n",
      "Loaded Evoked data is baseline-corrected (baseline: [-1.3, -1] sec)\n",
      "Reading F:\\Documents\\Science\\MirRevAdaptEEG\\data\\eeg\\p021\\lrp\\p021_EarlyLate_leftmoves_rdm_block1-ave.fif ...\n",
      "    Found the data of interest:\n",
      "        t =   -2000.00 ...    1995.00 ms (16140)\n",
      "        0 CTF compensation matrices available\n",
      "        nave = 12 - aspect type = 100\n",
      "No projector specified for this dataset. Please consider the method self.add_proj.\n",
      "Loaded Evoked data is baseline-corrected (baseline: [-1.3, -1] sec)\n",
      "Reading F:\\Documents\\Science\\MirRevAdaptEEG\\data\\eeg\\p022\\lrp\\p022_EarlyLate_leftmoves_rdm_block1-ave.fif ...\n",
      "    Found the data of interest:\n",
      "        t =   -2000.00 ...    1995.00 ms (16140)\n",
      "        0 CTF compensation matrices available\n",
      "        nave = 12 - aspect type = 100\n",
      "No projector specified for this dataset. Please consider the method self.add_proj.\n",
      "Loaded Evoked data is baseline-corrected (baseline: [-1.3, -1] sec)\n",
      "Reading F:\\Documents\\Science\\MirRevAdaptEEG\\data\\eeg\\p023\\lrp\\p023_EarlyLate_leftmoves_rdm_block1-ave.fif ...\n",
      "    Found the data of interest:\n",
      "        t =   -2000.00 ...    1995.00 ms (16140)\n",
      "        0 CTF compensation matrices available\n",
      "        nave = 12 - aspect type = 100\n",
      "No projector specified for this dataset. Please consider the method self.add_proj.\n",
      "Loaded Evoked data is baseline-corrected (baseline: [-1.3, -1] sec)\n",
      "Reading F:\\Documents\\Science\\MirRevAdaptEEG\\data\\eeg\\p024\\lrp\\p024_EarlyLate_leftmoves_rdm_block1-ave.fif ...\n",
      "    Found the data of interest:\n",
      "        t =   -2000.00 ...    1995.00 ms (16140)\n",
      "        0 CTF compensation matrices available\n",
      "        nave = 12 - aspect type = 100\n",
      "No projector specified for this dataset. Please consider the method self.add_proj.\n",
      "Loaded Evoked data is baseline-corrected (baseline: [-1.3, -1] sec)\n",
      "Reading F:\\Documents\\Science\\MirRevAdaptEEG\\data\\eeg\\p025\\lrp\\p025_EarlyLate_leftmoves_rdm_block1-ave.fif ...\n",
      "    Found the data of interest:\n",
      "        t =   -2000.00 ...    1995.00 ms (16140)\n",
      "        0 CTF compensation matrices available\n",
      "        nave = 12 - aspect type = 100\n",
      "No projector specified for this dataset. Please consider the method self.add_proj.\n",
      "Loaded Evoked data is baseline-corrected (baseline: [-1.3, -1] sec)\n",
      "Reading F:\\Documents\\Science\\MirRevAdaptEEG\\data\\eeg\\p026\\lrp\\p026_EarlyLate_leftmoves_rdm_block1-ave.fif ...\n",
      "    Found the data of interest:\n",
      "        t =   -2000.00 ...    1995.00 ms (16140)\n",
      "        0 CTF compensation matrices available\n",
      "        nave = 12 - aspect type = 100\n",
      "No projector specified for this dataset. Please consider the method self.add_proj.\n",
      "Loaded Evoked data is baseline-corrected (baseline: [-1.3, -1] sec)\n",
      "Reading F:\\Documents\\Science\\MirRevAdaptEEG\\data\\eeg\\p027\\lrp\\p027_EarlyLate_leftmoves_rdm_block1-ave.fif ...\n",
      "    Found the data of interest:\n",
      "        t =   -2000.00 ...    1995.00 ms (16140)\n",
      "        0 CTF compensation matrices available\n",
      "        nave = 12 - aspect type = 100\n",
      "No projector specified for this dataset. Please consider the method self.add_proj.\n",
      "Loaded Evoked data is baseline-corrected (baseline: [-1.3, -1] sec)\n",
      "Reading F:\\Documents\\Science\\MirRevAdaptEEG\\data\\eeg\\p028\\lrp\\p028_EarlyLate_leftmoves_rdm_block1-ave.fif ...\n",
      "    Found the data of interest:\n",
      "        t =   -2000.00 ...    1995.00 ms (16140)\n",
      "        0 CTF compensation matrices available\n",
      "        nave = 12 - aspect type = 100\n",
      "No projector specified for this dataset. Please consider the method self.add_proj.\n",
      "Loaded Evoked data is baseline-corrected (baseline: [-1.3, -1] sec)\n",
      "Reading F:\\Documents\\Science\\MirRevAdaptEEG\\data\\eeg\\p029\\lrp\\p029_EarlyLate_leftmoves_rdm_block1-ave.fif ...\n",
      "    Found the data of interest:\n",
      "        t =   -2000.00 ...    1995.00 ms (16140)\n",
      "        0 CTF compensation matrices available\n",
      "        nave = 12 - aspect type = 100\n",
      "No projector specified for this dataset. Please consider the method self.add_proj.\n",
      "Loaded Evoked data is baseline-corrected (baseline: [-1.3, -1] sec)\n",
      "Reading F:\\Documents\\Science\\MirRevAdaptEEG\\data\\eeg\\p030\\lrp\\p030_EarlyLate_leftmoves_rdm_block1-ave.fif ...\n",
      "    Found the data of interest:\n",
      "        t =   -2000.00 ...    1995.00 ms (16140)\n",
      "        0 CTF compensation matrices available\n",
      "        nave = 12 - aspect type = 100\n",
      "No projector specified for this dataset. Please consider the method self.add_proj.\n",
      "Loaded Evoked data is baseline-corrected (baseline: [-1.3, -1] sec)\n",
      "Reading F:\\Documents\\Science\\MirRevAdaptEEG\\data\\eeg\\p031\\lrp\\p031_EarlyLate_leftmoves_rdm_block1-ave.fif ...\n",
      "    Found the data of interest:\n",
      "        t =   -2000.00 ...    1995.00 ms (16140)\n",
      "        0 CTF compensation matrices available\n",
      "        nave = 12 - aspect type = 100\n",
      "No projector specified for this dataset. Please consider the method self.add_proj.\n",
      "Loaded Evoked data is baseline-corrected (baseline: [-1.3, -1] sec)\n",
      "Identifying common channels ...\n"
     ]
    }
   ],
   "source": [
    "#get grand averages - RANDOM\n",
    "root_directory = root\n",
    "data_directory = os.path.join(root_directory, 'data/eeg/')\n",
    "\n",
    "#read in evoked object\n",
    "conditionnames = ['rightmoves', 'leftmoves']\n",
    "tasks = ['rdm']\n",
    "training = [0, 1]\n",
    "#rdm\n",
    "for task in range(0, len(tasks)):\n",
    "    for condition in range(0, len(conditionnames)):\n",
    "        for t in range(0, len(training)):\n",
    "            flist = []\n",
    "            evoked_list = []\n",
    "            for pp in participants:\n",
    "                id_directory = os.path.join(data_directory, 'p%03d/' % participants[pp])\n",
    "                pp_directory = os.path.join(id_directory, erps)\n",
    "                fname = os.path.join(pp_directory, 'p%03d_EarlyLate_%s_%s_block%s-ave.fif' % (participants[pp], conditionnames[condition], tasks[task], training[t]))\n",
    "                if os.path.exists(fname) == False:\n",
    "                    continue\n",
    "#                 print(fname)\n",
    "                evoked = mne.read_evokeds(fname)\n",
    "                flist.append(evoked)\n",
    "                evoked = evoked[0]\n",
    "                evoked_list.append(evoked)\n",
    "#                 print(evoked_list)\n",
    "            if task == 0 and condition == 0 and t == 0:\n",
    "                rdm_right_b0_grand = mne.grand_average(evoked_list)\n",
    "                rdm_right_b0_flist = evoked_list\n",
    "            elif task == 0 and condition == 0 and t == 1:\n",
    "                rdm_right_b1_grand = mne.grand_average(evoked_list)\n",
    "                rdm_right_b1_flist = evoked_list\n",
    "            elif task == 0 and condition == 1 and t == 0:\n",
    "                rdm_left_b0_grand = mne.grand_average(evoked_list)\n",
    "                rdm_left_b0_flist = evoked_list\n",
    "            elif task == 0 and condition == 1 and t == 1:\n",
    "                rdm_left_b1_grand = mne.grand_average(evoked_list)\n",
    "                rdm_left_b1_flist = evoked_list"
   ]
  },
  {
   "cell_type": "code",
   "execution_count": 14,
   "id": "a7df15fe",
   "metadata": {},
   "outputs": [],
   "source": [
    "#runs for LRP ONLY: need separate files for C3 and C4\n",
    "\n",
    "flists = ['aln_right', 'aln_left', 'alnrot_right', 'alnrot_left', 'alnmir_right', 'alnmir_left',\n",
    "          'rot_right_b0', 'rot_right_b1', 'rot_left_b0', 'rot_left_b1',\n",
    "          'mir_right_b0', 'mir_right_b1', 'mir_left_b0', 'mir_left_b1',\n",
    "          'rdm_right_b0', 'rdm_right_b1', 'rdm_left_b0', 'rdm_left_b1']\n",
    "\n",
    "channels = ['C3', 'C4']\n",
    "for channel in channels:\n",
    "    for f in flists:\n",
    "        newdf = pd.DataFrame()\n",
    "        if f == 'aln_right':\n",
    "            for pp in range(0, len(aln_right_flist)):\n",
    "                df = aln_right_flist[pp].to_data_frame()\n",
    "                time = df['time'].tolist()\n",
    "                df = df[[channel]]\n",
    "                ppdat = []\n",
    "                for timept in range(0,800):\n",
    "                    subdf = df.loc[timept,:].mean()\n",
    "                    ppdat.append(subdf)\n",
    "                newdf['pp%03d'% pp] = ppdat\n",
    "            newdf['time'] = time\n",
    "            newdf_filename = os.path.join('F:/Documents/Science/MirRevAdaptEEG/data/', 'Evoked_DF_EarlyLate_%s_%s.csv' % (f, channel))\n",
    "            newdf.to_csv(newdf_filename)\n",
    "        elif f == 'aln_left':\n",
    "            for pp in range(0, len(aln_left_flist)):\n",
    "                df = aln_left_flist[pp].to_data_frame()\n",
    "                time = df['time'].tolist()\n",
    "                df = df[[channel]]\n",
    "                ppdat = []\n",
    "                for timept in range(0,800):\n",
    "                    subdf = df.loc[timept,:].mean()\n",
    "                    ppdat.append(subdf)\n",
    "                newdf['pp%03d'% pp] = ppdat\n",
    "            newdf['time'] = time\n",
    "            newdf_filename = os.path.join('F:/Documents/Science/MirRevAdaptEEG/data/', 'Evoked_DF_EarlyLate_%s_%s.csv' % (f, channel))\n",
    "            newdf.to_csv(newdf_filename)\n",
    "        elif f == 'alnrot_right':\n",
    "            for pp in range(0, len(alnrot_right_flist)):\n",
    "                df = alnrot_right_flist[pp].to_data_frame()\n",
    "                time = df['time'].tolist()\n",
    "                df = df[[channel]]\n",
    "                ppdat = []\n",
    "                for timept in range(0,800):\n",
    "                    subdf = df.loc[timept,:].mean()\n",
    "                    ppdat.append(subdf)\n",
    "                newdf['pp%03d'% pp] = ppdat\n",
    "            newdf['time'] = time\n",
    "            newdf_filename = os.path.join('F:/Documents/Science/MirRevAdaptEEG/data/', 'Evoked_DF_EarlyLate_%s_%s.csv' % (f, channel))\n",
    "            newdf.to_csv(newdf_filename)\n",
    "        elif f == 'alnrot_left':\n",
    "            for pp in range(0, len(alnrot_left_flist)):\n",
    "                df = alnrot_left_flist[pp].to_data_frame()\n",
    "                time = df['time'].tolist()\n",
    "                df = df[[channel]]\n",
    "                ppdat = []\n",
    "                for timept in range(0,800):\n",
    "                    subdf = df.loc[timept,:].mean()\n",
    "                    ppdat.append(subdf)\n",
    "                newdf['pp%03d'% pp] = ppdat\n",
    "            newdf['time'] = time\n",
    "            newdf_filename = os.path.join('F:/Documents/Science/MirRevAdaptEEG/data/', 'Evoked_DF_EarlyLate_%s_%s.csv' % (f, channel))\n",
    "            newdf.to_csv(newdf_filename)\n",
    "        elif f == 'alnmir_right':\n",
    "            for pp in range(0, len(alnmir_right_flist)):\n",
    "                df = alnmir_right_flist[pp].to_data_frame()\n",
    "                time = df['time'].tolist()\n",
    "                df = df[[channel]]\n",
    "                ppdat = []\n",
    "                for timept in range(0,800):\n",
    "                    subdf = df.loc[timept,:].mean()\n",
    "                    ppdat.append(subdf)\n",
    "                newdf['pp%03d'% pp] = ppdat\n",
    "            newdf['time'] = time\n",
    "            newdf_filename = os.path.join('F:/Documents/Science/MirRevAdaptEEG/data/', 'Evoked_DF_EarlyLate_%s_%s.csv' % (f, channel))\n",
    "            newdf.to_csv(newdf_filename)\n",
    "        elif f == 'alnmir_left':\n",
    "            for pp in range(0, len(alnmir_left_flist)):\n",
    "                df = alnmir_left_flist[pp].to_data_frame()\n",
    "                time = df['time'].tolist()\n",
    "                df = df[[channel]]\n",
    "                ppdat = []\n",
    "                for timept in range(0,800):\n",
    "                    subdf = df.loc[timept,:].mean()\n",
    "                    ppdat.append(subdf)\n",
    "                newdf['pp%03d'% pp] = ppdat\n",
    "            newdf['time'] = time\n",
    "            newdf_filename = os.path.join('F:/Documents/Science/MirRevAdaptEEG/data/', 'Evoked_DF_EarlyLate_%s_%s.csv' % (f, channel))\n",
    "            newdf.to_csv(newdf_filename)\n",
    "        elif f == 'rot_right_b0':\n",
    "            for pp in range(0, len(rot_right_b0_flist)):\n",
    "                df = rot_right_b0_flist[pp].to_data_frame()\n",
    "                time = df['time'].tolist()\n",
    "                df = df[[channel]]\n",
    "                ppdat = []\n",
    "                for timept in range(0,800):\n",
    "                    subdf = df.loc[timept,:].mean()\n",
    "                    ppdat.append(subdf)\n",
    "                newdf['pp%03d'% pp] = ppdat\n",
    "            newdf['time'] = time\n",
    "            newdf_filename = os.path.join('F:/Documents/Science/MirRevAdaptEEG/data/', 'Evoked_DF_EarlyLate_%s_%s.csv' % (f, channel))\n",
    "            newdf.to_csv(newdf_filename)\n",
    "        elif f == 'rot_right_b1':\n",
    "            for pp in range(0, len(rot_right_b1_flist)):\n",
    "                df = rot_right_b1_flist[pp].to_data_frame()\n",
    "                time = df['time'].tolist()\n",
    "                df = df[[channel]]\n",
    "                ppdat = []\n",
    "                for timept in range(0,800):\n",
    "                    subdf = df.loc[timept,:].mean()\n",
    "                    ppdat.append(subdf)\n",
    "                newdf['pp%03d'% pp] = ppdat\n",
    "            newdf['time'] = time\n",
    "            newdf_filename = os.path.join('F:/Documents/Science/MirRevAdaptEEG/data/', 'Evoked_DF_EarlyLate_%s_%s.csv' % (f, channel))\n",
    "            newdf.to_csv(newdf_filename)\n",
    "        elif f == 'rot_left_b0':\n",
    "            for pp in range(0, len(rot_left_b0_flist)):\n",
    "                df = rot_left_b0_flist[pp].to_data_frame()\n",
    "                time = df['time'].tolist()\n",
    "                df = df[[channel]]\n",
    "                ppdat = []\n",
    "                for timept in range(0,800):\n",
    "                    subdf = df.loc[timept,:].mean()\n",
    "                    ppdat.append(subdf)\n",
    "                newdf['pp%03d'% pp] = ppdat\n",
    "            newdf['time'] = time\n",
    "            newdf_filename = os.path.join('F:/Documents/Science/MirRevAdaptEEG/data/', 'Evoked_DF_EarlyLate_%s_%s.csv' % (f, channel))\n",
    "            newdf.to_csv(newdf_filename)\n",
    "        elif f == 'rot_left_b1':\n",
    "            for pp in range(0, len(rot_left_b1_flist)):\n",
    "                df = rot_left_b1_flist[pp].to_data_frame()\n",
    "                time = df['time'].tolist()\n",
    "                df = df[[channel]]\n",
    "                ppdat = []\n",
    "                for timept in range(0,800):\n",
    "                    subdf = df.loc[timept,:].mean()\n",
    "                    ppdat.append(subdf)\n",
    "                newdf['pp%03d'% pp] = ppdat\n",
    "            newdf['time'] = time\n",
    "            newdf_filename = os.path.join('F:/Documents/Science/MirRevAdaptEEG/data/', 'Evoked_DF_EarlyLate_%s_%s.csv' % (f, channel))\n",
    "            newdf.to_csv(newdf_filename)\n",
    "        elif f == 'mir_right_b0':\n",
    "            for pp in range(0, len(mir_right_b0_flist)):\n",
    "                df = mir_right_b0_flist[pp].to_data_frame()\n",
    "                time = df['time'].tolist()\n",
    "                df = df[[channel]]\n",
    "                ppdat = []\n",
    "                for timept in range(0,800):\n",
    "                    subdf = df.loc[timept,:].mean()\n",
    "                    ppdat.append(subdf)\n",
    "                newdf['pp%03d'% pp] = ppdat\n",
    "            newdf['time'] = time\n",
    "            newdf_filename = os.path.join('F:/Documents/Science/MirRevAdaptEEG/data/', 'Evoked_DF_EarlyLate_%s_%s.csv' % (f, channel))\n",
    "            newdf.to_csv(newdf_filename)\n",
    "        elif f == 'mir_right_b1':\n",
    "            for pp in range(0, len(mir_right_b1_flist)):\n",
    "                df = mir_right_b1_flist[pp].to_data_frame()\n",
    "                time = df['time'].tolist()\n",
    "                df = df[[channel]]\n",
    "                ppdat = []\n",
    "                for timept in range(0,800):\n",
    "                    subdf = df.loc[timept,:].mean()\n",
    "                    ppdat.append(subdf)\n",
    "                newdf['pp%03d'% pp] = ppdat\n",
    "            newdf['time'] = time\n",
    "            newdf_filename = os.path.join('F:/Documents/Science/MirRevAdaptEEG/data/', 'Evoked_DF_EarlyLate_%s_%s.csv' % (f, channel))\n",
    "            newdf.to_csv(newdf_filename)\n",
    "        elif f == 'mir_left_b0':\n",
    "            for pp in range(0, len(mir_left_b0_flist)):\n",
    "                df = mir_left_b0_flist[pp].to_data_frame()\n",
    "                time = df['time'].tolist()\n",
    "                df = df[[channel]]\n",
    "                ppdat = []\n",
    "                for timept in range(0,800):\n",
    "                    subdf = df.loc[timept,:].mean()\n",
    "                    ppdat.append(subdf)\n",
    "                newdf['pp%03d'% pp] = ppdat\n",
    "            newdf['time'] = time\n",
    "            newdf_filename = os.path.join('F:/Documents/Science/MirRevAdaptEEG/data/', 'Evoked_DF_EarlyLate_%s_%s.csv' % (f, channel))\n",
    "            newdf.to_csv(newdf_filename)\n",
    "        elif f == 'mir_left_b1':\n",
    "            for pp in range(0, len(mir_left_b1_flist)):\n",
    "                df = mir_left_b1_flist[pp].to_data_frame()\n",
    "                time = df['time'].tolist()\n",
    "                df = df[[channel]]\n",
    "                ppdat = []\n",
    "                for timept in range(0,800):\n",
    "                    subdf = df.loc[timept,:].mean()\n",
    "                    ppdat.append(subdf)\n",
    "                newdf['pp%03d'% pp] = ppdat\n",
    "            newdf['time'] = time\n",
    "            newdf_filename = os.path.join('F:/Documents/Science/MirRevAdaptEEG/data/', 'Evoked_DF_EarlyLate_%s_%s.csv' % (f, channel))\n",
    "            newdf.to_csv(newdf_filename)\n",
    "        elif f == 'rdm_right_b0':\n",
    "            for pp in range(0, len(rdm_right_b0_flist)):\n",
    "                df = rdm_right_b0_flist[pp].to_data_frame()\n",
    "                time = df['time'].tolist()\n",
    "                df = df[[channel]]\n",
    "                ppdat = []\n",
    "                for timept in range(0,800):\n",
    "                    subdf = df.loc[timept,:].mean()\n",
    "                    ppdat.append(subdf)\n",
    "                newdf['pp%03d'% pp] = ppdat\n",
    "            newdf['time'] = time\n",
    "            newdf_filename = os.path.join('F:/Documents/Science/MirRevAdaptEEG/data/', 'Evoked_DF_EarlyLate_%s_%s.csv' % (f, channel))\n",
    "            newdf.to_csv(newdf_filename)\n",
    "        elif f == 'rdm_right_b1':\n",
    "            for pp in range(0, len(rdm_right_b1_flist)):\n",
    "                df = rdm_right_b1_flist[pp].to_data_frame()\n",
    "                time = df['time'].tolist()\n",
    "                df = df[[channel]]\n",
    "                ppdat = []\n",
    "                for timept in range(0,800):\n",
    "                    subdf = df.loc[timept,:].mean()\n",
    "                    ppdat.append(subdf)\n",
    "                newdf['pp%03d'% pp] = ppdat\n",
    "            newdf['time'] = time\n",
    "            newdf_filename = os.path.join('F:/Documents/Science/MirRevAdaptEEG/data/', 'Evoked_DF_EarlyLate_%s_%s.csv' % (f, channel))\n",
    "            newdf.to_csv(newdf_filename)\n",
    "        elif f == 'rdm_left_b0':\n",
    "            for pp in range(0, len(rdm_left_b0_flist)):\n",
    "                df = rdm_left_b0_flist[pp].to_data_frame()\n",
    "                time = df['time'].tolist()\n",
    "                df = df[[channel]]\n",
    "                ppdat = []\n",
    "                for timept in range(0,800):\n",
    "                    subdf = df.loc[timept,:].mean()\n",
    "                    ppdat.append(subdf)\n",
    "                newdf['pp%03d'% pp] = ppdat\n",
    "            newdf['time'] = time\n",
    "            newdf_filename = os.path.join('F:/Documents/Science/MirRevAdaptEEG/data/', 'Evoked_DF_EarlyLate_%s_%s.csv' % (f, channel))\n",
    "            newdf.to_csv(newdf_filename)\n",
    "        elif f == 'rdm_left_b1':\n",
    "            for pp in range(0, len(rdm_left_b1_flist)):\n",
    "                df = rdm_left_b1_flist[pp].to_data_frame()\n",
    "                time = df['time'].tolist()\n",
    "                df = df[[channel]]\n",
    "                ppdat = []\n",
    "                for timept in range(0,800):\n",
    "                    subdf = df.loc[timept,:].mean()\n",
    "                    ppdat.append(subdf)\n",
    "                newdf['pp%03d'% pp] = ppdat\n",
    "            newdf['time'] = time\n",
    "            newdf_filename = os.path.join('F:/Documents/Science/MirRevAdaptEEG/data/', 'Evoked_DF_EarlyLate_%s_%s.csv' % (f, channel))\n",
    "            newdf.to_csv(newdf_filename)\n",
    "             \n"
   ]
  },
  {
   "cell_type": "code",
   "execution_count": 15,
   "id": "53cf2efd",
   "metadata": {},
   "outputs": [],
   "source": [
    "# # Difference waves between aligned and perturbed conditions for C3\n",
    "# #channels = ['C3']\n",
    "# channels = ['C4']\n",
    "# # channels = ['Oz','O1','O2']\n",
    "# evokeds = dict(aln_right = right_aln_flist, \n",
    "#                aln_left = left_aln_flist,\n",
    "#                rot_right = right_rot_flist,\n",
    "#                rot_left = left_rot_flist,\n",
    "#                rdm_right = right_rdm_flist,\n",
    "#                rdm_left = left_rdm_flist,\n",
    "#                mir_right = right_mir_flist,\n",
    "#                mir_left = left_mir_flist)\n",
    "# #plot\n",
    "# mne.viz.plot_compare_evokeds(evokeds, picks=channels, combine = 'mean', legend = 'lower right', ylim=dict(eeg=[-15, 5]), ci=True)"
   ]
  }
 ],
 "metadata": {
  "kernelspec": {
   "display_name": "Python [conda env:mne]",
   "language": "python",
   "name": "conda-env-mne-py"
  },
  "language_info": {
   "codemirror_mode": {
    "name": "ipython",
    "version": 3
   },
   "file_extension": ".py",
   "mimetype": "text/x-python",
   "name": "python",
   "nbconvert_exporter": "python",
   "pygments_lexer": "ipython3",
   "version": "3.10.6"
  }
 },
 "nbformat": 4,
 "nbformat_minor": 5
}
