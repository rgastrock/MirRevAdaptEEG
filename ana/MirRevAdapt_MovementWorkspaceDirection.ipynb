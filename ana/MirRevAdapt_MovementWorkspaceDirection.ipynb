{
 "cells": [
  {
   "cell_type": "code",
   "execution_count": 1,
   "id": "507decf5",
   "metadata": {},
   "outputs": [],
   "source": [
    "#clear all\n",
    "%reset -f\n",
    "\n",
    "#import packages\n",
    "import numpy as np\n",
    "import sys\n",
    "import os\n",
    "import pandas as pd\n",
    "import mne\n",
    "import matplotlib\n",
    "from sklearn.utils import resample\n",
    "from mne_icalabel import label_components\n",
    "\n",
    "root = 'F:/Documents/Science/MirRevAdaptEEG'\n",
    "participants = list(range(0,32))\n",
    "#specify which erp we are analyzing\n",
    "erps = 'lrp'\n",
    "\n",
    "#pop up plots as separate window & interactive\n",
    "%matplotlib qt\n",
    "matplotlib.pyplot.close('all')"
   ]
  },
  {
   "cell_type": "code",
   "execution_count": 2,
   "id": "2ee08c0b",
   "metadata": {},
   "outputs": [],
   "source": [
    "#setting up path/ directory\n",
    "#access specific file for specific participant\n",
    "def load_epochs(pp_num, root_dir, erp_path):\n",
    "\n",
    "    root_directory = root_dir\n",
    "    data_directory = os.path.join(root_directory, 'data/eeg/')\n",
    "    id_directory = os.path.join(data_directory, 'p%03d/' % pp_num)\n",
    "    pp_directory = os.path.join(id_directory, erp_path)\n",
    "    filename = os.path.join(pp_directory, 'mra_p%03d_run0-epo.fif' % pp_num)\n",
    "\n",
    "    epochs = mne.read_epochs(filename)\n",
    "    #baseline for each trial\n",
    "    if erp_path == 'frn':\n",
    "        epochs = epochs.apply_baseline(baseline = (-1.5, -1.2))\n",
    "    elif erp_path == 'lrp':\n",
    "        epochs = epochs.apply_baseline(baseline = (-1.3, -1.0))\n",
    "\n",
    "    return epochs, pp_directory"
   ]
  },
  {
   "cell_type": "code",
   "execution_count": null,
   "id": "548e18bb",
   "metadata": {},
   "outputs": [],
   "source": [
    "# #get index of trials from behavioral data\n",
    "# def epoch_index(task, listval, pp, target = np.nan):\n",
    "#     if task == 'rot':\n",
    "#         df = pd.read_csv(r'F:\\Documents\\Science\\MirRevAdaptEEG\\data\\ROT_learningcurve_degrees.csv')\n",
    "#     elif task == 'rdm':\n",
    "#         df = pd.read_csv(r'F:\\Documents\\Science\\MirRevAdaptEEG\\data\\RDMROT_learningcurve_degrees_%02d.csv' % target)\n",
    "#     elif task == 'aln':\n",
    "#         df = pd.read_csv(r'F:\\Documents\\Science\\MirRevAdaptEEG\\data\\ALIGNED_learningcurve_degrees.csv')\n",
    "#     elif task == 'mir':\n",
    "#         df = pd.read_csv(r'F:\\Documents\\Science\\MirRevAdaptEEG\\data\\MIR_learningcurve_degrees_%02d.csv' % target)\n",
    "   \n",
    "#     ppdata = list(df.iloc[:,pp+1])\n",
    "    \n",
    "#     index = [i for i,v in enumerate(ppdata) if listval[0] < v < listval[1] or listval[2] < v < listval[3]]\n",
    "    \n",
    "#     #epochs_out = epochs[index]\n",
    "#     numtrials = len(index)\n",
    "    \n",
    "#     #return epochs_out, numtrials\n",
    "#     return index, numtrials"
   ]
  },
  {
   "cell_type": "code",
   "execution_count": 3,
   "id": "73cf1ed9",
   "metadata": {},
   "outputs": [],
   "source": [
    "def direction_index(task, direction, pp):\n",
    "    if task == 'aln':\n",
    "        df = pd.read_csv(r'F:\\Documents\\Science\\MirRevAdaptEEG\\data\\aln_MovementWorkspace_direction.csv')\n",
    "    elif task == 'rdmrot':\n",
    "        df = pd.read_csv(r'F:\\Documents\\Science\\MirRevAdaptEEG\\data\\rdmrot_MovementWorkspace_direction.csv')\n",
    "    elif task == 'rdmmir':\n",
    "        df = pd.read_csv(r'F:\\Documents\\Science\\MirRevAdaptEEG\\data\\rdmmir_MovementWorkspace_direction.csv')\n",
    "    elif task == 'rot':\n",
    "        df = pd.read_csv(r'F:\\Documents\\Science\\MirRevAdaptEEG\\data\\rot_MovementWorkspace_direction.csv')\n",
    "    elif task == 'mir':\n",
    "        df = pd.read_csv(r'F:\\Documents\\Science\\MirRevAdaptEEG\\data\\mir_MovementWorkspace_direction.csv')\n",
    "    \n",
    "    ppdata = list(df.iloc[:,pp+1])\n",
    "\n",
    "    index = [i for i,v in enumerate(ppdata) if direction == v]\n",
    "\n",
    "    numtrials = len(index)\n",
    "    \n",
    "    return index, numtrials"
   ]
  },
  {
   "cell_type": "code",
   "execution_count": 4,
   "id": "bc5fc70e",
   "metadata": {},
   "outputs": [],
   "source": [
    "def trial_list_rdm(task, pp, index):\n",
    "    df = pd.read_csv(r'F:\\Documents\\Science\\MirRevAdaptEEG\\data\\eeg\\p%03d\\%s\\mra_p%03d_tasktrigindex.csv' % (pp, erps, pp))\n",
    "    \n",
    "    #even pp numbers would experience rotation first (need random before this)\n",
    "    #need to also take into account missing triggers from previous tasks\n",
    "    if pp % 2 == 0:\n",
    "        if task == 'rdmrot':\n",
    "            #get trial after first task (trial 48 to 95, 234 to 281)\n",
    "            tasksdf = df[0:96]\n",
    "            subtasksdf = tasksdf.loc[tasksdf['tasktrig'] == 16150]\n",
    "            triallist = []\n",
    "            for i in index:\n",
    "                ndat = subtasksdf.loc[subtasksdf['trialno'] == i]\n",
    "                nint = int(ndat['trigidx'])\n",
    "                if nint == 1:\n",
    "                    trial = int(ndat['ctrial'])\n",
    "                    triallist.append(trial)\n",
    "                    \n",
    "        elif task == 'rdmmir':\n",
    "            #get trial after first task (trial 48 to 95)\n",
    "            tasksdf = df[0:282]\n",
    "            subtasksdf = tasksdf.loc[tasksdf['tasktrig'] == 16153]\n",
    "            triallist = []\n",
    "            for i in index:\n",
    "                ndat = subtasksdf.loc[subtasksdf['trialno'] == i]\n",
    "                nint = int(ndat['trigidx'])\n",
    "                if nint == 1:\n",
    "                    trial = int(ndat['ctrial'])\n",
    "                    triallist.append(trial)\n",
    "            \n",
    "    elif pp % 2 == 1:   \n",
    "        if task == 'rdmrot':\n",
    "            #get trial after first five tasks (trial 234 to 281)\n",
    "            tasksdf = df[0:282]\n",
    "            subtasksdf = tasksdf.loc[tasksdf['tasktrig'] == 16153]\n",
    "            triallist = []\n",
    "            for i in index:\n",
    "                ndat = subtasksdf.loc[subtasksdf['trialno'] == i]\n",
    "                nint = int(ndat['trigidx'])\n",
    "                if nint == 1:\n",
    "                    trial = int(ndat['ctrial'])\n",
    "                    triallist.append(trial)\n",
    "            \n",
    "        elif task == 'rdmmir':\n",
    "            #get trial after first task (trial 48 to 95)\n",
    "            tasksdf = df[0:96]\n",
    "            subtasksdf = tasksdf.loc[tasksdf['tasktrig'] == 16150]\n",
    "            triallist = []\n",
    "            for i in index:\n",
    "                ndat = subtasksdf.loc[subtasksdf['trialno'] == i]\n",
    "                nint = int(ndat['trigidx'])\n",
    "                if nint == 1:\n",
    "                    trial = int(ndat['ctrial'])\n",
    "                    triallist.append(trial)\n",
    "\n",
    "    \n",
    "    return(triallist)\n",
    "    "
   ]
  },
  {
   "cell_type": "code",
   "execution_count": 5,
   "id": "b7237112",
   "metadata": {},
   "outputs": [],
   "source": [
    "#get matching trials from eeg data, where we account for missing triggers\n",
    "def epoch_trials(task, pp, epochs, index):\n",
    "\n",
    "    df = pd.read_csv(r'F:\\Documents\\Science\\MirRevAdaptEEG\\data\\eeg\\p%03d\\%s\\mra_p%03d_tasktrigindex.csv' % (pp, erps, pp))\n",
    "    \n",
    "    if task == 'aln':\n",
    "        #get trial numbers where tasktrig is 16149 and trigidx is 1\n",
    "        tasksdf = df[0:48]\n",
    "        subtasksdf = tasksdf.loc[tasksdf['tasktrig'] == 16149]\n",
    "        triallist = []\n",
    "        for i in index:\n",
    "            ndat = subtasksdf.loc[subtasksdf['trialno'] == i]\n",
    "            nint = int(ndat['trigidx'])\n",
    "            if nint == 1:\n",
    "                trial = int(ndat['ctrial'])\n",
    "                triallist.append(trial)\n",
    "\n",
    "        epochs = epochs[triallist]\n",
    "    \n",
    "    #for the other tasks, the order depends on their pp number\n",
    "    #even pp numbers would experience rotation first (need random before this)\n",
    "    #need to also take into account missing triggers from previous tasks\n",
    "    if pp % 2 == 0:\n",
    "        if task == 'rot':\n",
    "            #rot trials are after first two tasks (trial 96 to 185)\n",
    "            tasksdf = df[0:186]\n",
    "            subtasksdf = tasksdf.loc[tasksdf['tasktrig'] == 16151]\n",
    "            triallist = []\n",
    "            for i in index:\n",
    "                ndat = subtasksdf.loc[subtasksdf['trialno'] == i]\n",
    "                nint = int(ndat['trigidx'])\n",
    "                if nint == 1:\n",
    "                    trial = int(ndat['ctrial'])\n",
    "                    triallist.append(trial)\n",
    "\n",
    "            epochs = epochs[triallist]\n",
    "      \n",
    "        elif task == 'mir':\n",
    "            #get trial after first task (trial 282 to 371)\n",
    "            tasksdf = df[0:372]\n",
    "            subtasksdf = tasksdf.loc[tasksdf['tasktrig'] == 16154]\n",
    "            triallist = []\n",
    "            for i in index:\n",
    "                ndat = subtasksdf.loc[subtasksdf['trialno'] == i]\n",
    "                nint = int(ndat['trigidx'])\n",
    "                if nint == 1:\n",
    "                    trial = int(ndat['ctrial'])\n",
    "                    triallist.append(trial)\n",
    "\n",
    "            epochs = epochs[triallist]\n",
    "            \n",
    "    elif pp % 2 == 1:\n",
    "        if task == 'rot':\n",
    "            #get trial after first five tasks (trial 282 to 371)\n",
    "            tasksdf = df[0:372]\n",
    "            subtasksdf = tasksdf.loc[tasksdf['tasktrig'] == 16151]\n",
    "            triallist = []\n",
    "            for i in index:\n",
    "                ndat = subtasksdf.loc[subtasksdf['trialno'] == i]\n",
    "                nint = int(ndat['trigidx'])\n",
    "                if nint == 1:\n",
    "                    trial = int(ndat['ctrial'])\n",
    "                    triallist.append(trial)\n",
    "\n",
    "            epochs = epochs[triallist]\n",
    "\n",
    "        elif task == 'mir':\n",
    "            #get trial after first five tasks (trial 96 to 185)\n",
    "            tasksdf = df[0:186]\n",
    "            subtasksdf = tasksdf.loc[tasksdf['tasktrig'] == 16154]\n",
    "            triallist = []\n",
    "            for i in index:\n",
    "                ndat = subtasksdf.loc[subtasksdf['trialno'] == i]\n",
    "                nint = int(ndat['trigidx'])\n",
    "                if nint == 1:\n",
    "                    trial = int(ndat['ctrial'])\n",
    "                    triallist.append(trial)\n",
    "\n",
    "            epochs = epochs[triallist]\n",
    "    \n",
    "    return(epochs)"
   ]
  },
  {
   "cell_type": "code",
   "execution_count": 6,
   "id": "f6361f4e",
   "metadata": {},
   "outputs": [],
   "source": [
    "#save epochs\n",
    "def output_condition_epochs(pp_num, data, ppdir, condname, task):\n",
    "    # Save the cleaned data :)\n",
    "    out_fname = os.path.join(ppdir, 'p%03d_%s_%s_rp-epo.fif' % (pp_num, condname, task))\n",
    "    data.save(out_fname, overwrite = True)"
   ]
  },
  {
   "cell_type": "code",
   "execution_count": 7,
   "id": "ace354b8",
   "metadata": {},
   "outputs": [],
   "source": [
    "#save as an evoked object\n",
    "def output_condition_evoked(pp_num, data, ppdir, condname, task):\n",
    "    evoked = data.average()\n",
    "    out_fname = os.path.join(ppdir, 'p%03d_%s_%s_rp-ave.fif' % (pp_num, condname, task))\n",
    "    evoked.save(out_fname, overwrite = True)"
   ]
  },
  {
   "cell_type": "code",
   "execution_count": 8,
   "id": "e297f574",
   "metadata": {},
   "outputs": [
    {
     "name": "stdout",
     "output_type": "stream",
     "text": [
      "Reading F:\\Documents\\Science\\MirRevAdaptEEG\\data\\eeg\\p000\\lrp\\mra_p000_run0-epo.fif ...\n",
      "    Found the data of interest:\n",
      "        t =   -2000.00 ...    1995.00 ms\n",
      "        0 CTF compensation matrices available\n",
      "Not setting metadata\n",
      "420 matching events found\n",
      "No baseline correction applied\n",
      "0 projection items activated\n",
      "Applying baseline correction (mode: mean)\n",
      "Overwriting existing file.\n",
      "Setting up low-pass filter at 30 Hz\n",
      "\n",
      "FIR filter parameters\n",
      "---------------------\n",
      "Designing a one-pass, zero-phase, non-causal lowpass filter:\n",
      "- Windowed time-domain design (firwin) method\n",
      "- Hamming window with 0.0194 passband ripple and 53 dB stopband attenuation\n",
      "- Upper passband edge: 30.00 Hz\n",
      "- Upper transition bandwidth: 7.50 Hz (-6 dB cutoff frequency: 33.75 Hz)\n",
      "- Filter length: 89 samples (0.445 sec)\n",
      "\n"
     ]
    },
    {
     "name": "stderr",
     "output_type": "stream",
     "text": [
      "[Parallel(n_jobs=1)]: Using backend SequentialBackend with 1 concurrent workers.\n",
      "[Parallel(n_jobs=1)]: Done   1 out of   1 | elapsed:    0.0s remaining:    0.0s\n",
      "[Parallel(n_jobs=1)]: Done   2 out of   2 | elapsed:    0.0s remaining:    0.0s\n",
      "[Parallel(n_jobs=1)]: Done   3 out of   3 | elapsed:    0.0s remaining:    0.0s\n",
      "[Parallel(n_jobs=1)]: Done   4 out of   4 | elapsed:    0.0s remaining:    0.0s\n"
     ]
    },
    {
     "name": "stdout",
     "output_type": "stream",
     "text": [
      "Overwriting existing file.\n",
      "Overwriting existing file.\n",
      "Setting up low-pass filter at 30 Hz\n",
      "\n",
      "FIR filter parameters\n",
      "---------------------\n",
      "Designing a one-pass, zero-phase, non-causal lowpass filter:\n",
      "- Windowed time-domain design (firwin) method\n",
      "- Hamming window with 0.0194 passband ripple and 53 dB stopband attenuation\n",
      "- Upper passband edge: 30.00 Hz\n",
      "- Upper transition bandwidth: 7.50 Hz (-6 dB cutoff frequency: 33.75 Hz)\n",
      "- Filter length: 89 samples (0.445 sec)\n",
      "\n"
     ]
    },
    {
     "name": "stderr",
     "output_type": "stream",
     "text": [
      "[Parallel(n_jobs=1)]: Done 768 out of 768 | elapsed:    0.2s finished\n",
      "[Parallel(n_jobs=1)]: Using backend SequentialBackend with 1 concurrent workers.\n",
      "[Parallel(n_jobs=1)]: Done   1 out of   1 | elapsed:    0.0s remaining:    0.0s\n",
      "[Parallel(n_jobs=1)]: Done   2 out of   2 | elapsed:    0.0s remaining:    0.0s\n",
      "[Parallel(n_jobs=1)]: Done   3 out of   3 | elapsed:    0.0s remaining:    0.0s\n",
      "[Parallel(n_jobs=1)]: Done   4 out of   4 | elapsed:    0.0s remaining:    0.0s\n"
     ]
    },
    {
     "name": "stdout",
     "output_type": "stream",
     "text": [
      "Overwriting existing file.\n",
      "Reading F:\\Documents\\Science\\MirRevAdaptEEG\\data\\eeg\\p001\\lrp\\mra_p001_run0-epo.fif ...\n"
     ]
    },
    {
     "name": "stderr",
     "output_type": "stream",
     "text": [
      "[Parallel(n_jobs=1)]: Done 768 out of 768 | elapsed:    0.2s finished\n"
     ]
    },
    {
     "name": "stdout",
     "output_type": "stream",
     "text": [
      "    Found the data of interest:\n",
      "        t =   -2000.00 ...    1995.00 ms\n",
      "        0 CTF compensation matrices available\n",
      "Not setting metadata\n",
      "420 matching events found\n",
      "No baseline correction applied\n",
      "0 projection items activated\n",
      "Applying baseline correction (mode: mean)\n",
      "Overwriting existing file.\n",
      "Setting up low-pass filter at 30 Hz\n",
      "\n",
      "FIR filter parameters\n",
      "---------------------\n",
      "Designing a one-pass, zero-phase, non-causal lowpass filter:\n",
      "- Windowed time-domain design (firwin) method\n",
      "- Hamming window with 0.0194 passband ripple and 53 dB stopband attenuation\n",
      "- Upper passband edge: 30.00 Hz\n",
      "- Upper transition bandwidth: 7.50 Hz (-6 dB cutoff frequency: 33.75 Hz)\n",
      "- Filter length: 89 samples (0.445 sec)\n",
      "\n"
     ]
    },
    {
     "name": "stderr",
     "output_type": "stream",
     "text": [
      "[Parallel(n_jobs=1)]: Using backend SequentialBackend with 1 concurrent workers.\n",
      "[Parallel(n_jobs=1)]: Done   1 out of   1 | elapsed:    0.0s remaining:    0.0s\n",
      "[Parallel(n_jobs=1)]: Done   2 out of   2 | elapsed:    0.0s remaining:    0.0s\n",
      "[Parallel(n_jobs=1)]: Done   3 out of   3 | elapsed:    0.0s remaining:    0.0s\n",
      "[Parallel(n_jobs=1)]: Done   4 out of   4 | elapsed:    0.0s remaining:    0.0s\n"
     ]
    },
    {
     "name": "stdout",
     "output_type": "stream",
     "text": [
      "Overwriting existing file.\n",
      "Overwriting existing file.\n",
      "Setting up low-pass filter at 30 Hz\n",
      "\n",
      "FIR filter parameters\n",
      "---------------------\n",
      "Designing a one-pass, zero-phase, non-causal lowpass filter:\n",
      "- Windowed time-domain design (firwin) method\n",
      "- Hamming window with 0.0194 passband ripple and 53 dB stopband attenuation\n",
      "- Upper passband edge: 30.00 Hz\n",
      "- Upper transition bandwidth: 7.50 Hz (-6 dB cutoff frequency: 33.75 Hz)\n",
      "- Filter length: 89 samples (0.445 sec)\n",
      "\n"
     ]
    },
    {
     "name": "stderr",
     "output_type": "stream",
     "text": [
      "[Parallel(n_jobs=1)]: Done 768 out of 768 | elapsed:    0.2s finished\n",
      "[Parallel(n_jobs=1)]: Using backend SequentialBackend with 1 concurrent workers.\n",
      "[Parallel(n_jobs=1)]: Done   1 out of   1 | elapsed:    0.0s remaining:    0.0s\n",
      "[Parallel(n_jobs=1)]: Done   2 out of   2 | elapsed:    0.0s remaining:    0.0s\n",
      "[Parallel(n_jobs=1)]: Done   3 out of   3 | elapsed:    0.0s remaining:    0.0s\n",
      "[Parallel(n_jobs=1)]: Done   4 out of   4 | elapsed:    0.0s remaining:    0.0s\n"
     ]
    },
    {
     "name": "stdout",
     "output_type": "stream",
     "text": [
      "Overwriting existing file.\n",
      "Reading F:\\Documents\\Science\\MirRevAdaptEEG\\data\\eeg\\p002\\lrp\\mra_p002_run0-epo.fif ...\n"
     ]
    },
    {
     "name": "stderr",
     "output_type": "stream",
     "text": [
      "[Parallel(n_jobs=1)]: Done 768 out of 768 | elapsed:    0.2s finished\n"
     ]
    },
    {
     "name": "stdout",
     "output_type": "stream",
     "text": [
      "    Found the data of interest:\n",
      "        t =   -2000.00 ...    1995.00 ms\n",
      "        0 CTF compensation matrices available\n",
      "Not setting metadata\n",
      "419 matching events found\n",
      "No baseline correction applied\n",
      "0 projection items activated\n",
      "Applying baseline correction (mode: mean)\n",
      "Overwriting existing file.\n",
      "Setting up low-pass filter at 30 Hz\n",
      "\n",
      "FIR filter parameters\n",
      "---------------------\n",
      "Designing a one-pass, zero-phase, non-causal lowpass filter:\n",
      "- Windowed time-domain design (firwin) method\n",
      "- Hamming window with 0.0194 passband ripple and 53 dB stopband attenuation\n",
      "- Upper passband edge: 30.00 Hz\n",
      "- Upper transition bandwidth: 7.50 Hz (-6 dB cutoff frequency: 33.75 Hz)\n",
      "- Filter length: 89 samples (0.445 sec)\n",
      "\n"
     ]
    },
    {
     "name": "stderr",
     "output_type": "stream",
     "text": [
      "[Parallel(n_jobs=1)]: Using backend SequentialBackend with 1 concurrent workers.\n",
      "[Parallel(n_jobs=1)]: Done   1 out of   1 | elapsed:    0.0s remaining:    0.0s\n",
      "[Parallel(n_jobs=1)]: Done   2 out of   2 | elapsed:    0.0s remaining:    0.0s\n",
      "[Parallel(n_jobs=1)]: Done   3 out of   3 | elapsed:    0.0s remaining:    0.0s\n",
      "[Parallel(n_jobs=1)]: Done   4 out of   4 | elapsed:    0.0s remaining:    0.0s\n"
     ]
    },
    {
     "name": "stdout",
     "output_type": "stream",
     "text": [
      "Overwriting existing file.\n",
      "Overwriting existing file.\n",
      "Setting up low-pass filter at 30 Hz\n",
      "\n",
      "FIR filter parameters\n",
      "---------------------\n",
      "Designing a one-pass, zero-phase, non-causal lowpass filter:\n",
      "- Windowed time-domain design (firwin) method\n",
      "- Hamming window with 0.0194 passband ripple and 53 dB stopband attenuation\n",
      "- Upper passband edge: 30.00 Hz\n",
      "- Upper transition bandwidth: 7.50 Hz (-6 dB cutoff frequency: 33.75 Hz)\n",
      "- Filter length: 89 samples (0.445 sec)\n",
      "\n"
     ]
    },
    {
     "name": "stderr",
     "output_type": "stream",
     "text": [
      "[Parallel(n_jobs=1)]: Done 768 out of 768 | elapsed:    0.2s finished\n",
      "[Parallel(n_jobs=1)]: Using backend SequentialBackend with 1 concurrent workers.\n",
      "[Parallel(n_jobs=1)]: Done   1 out of   1 | elapsed:    0.0s remaining:    0.0s\n",
      "[Parallel(n_jobs=1)]: Done   2 out of   2 | elapsed:    0.0s remaining:    0.0s\n",
      "[Parallel(n_jobs=1)]: Done   3 out of   3 | elapsed:    0.0s remaining:    0.0s\n",
      "[Parallel(n_jobs=1)]: Done   4 out of   4 | elapsed:    0.0s remaining:    0.0s\n"
     ]
    },
    {
     "name": "stdout",
     "output_type": "stream",
     "text": [
      "Overwriting existing file.\n",
      "Reading F:\\Documents\\Science\\MirRevAdaptEEG\\data\\eeg\\p003\\lrp\\mra_p003_run0-epo.fif ...\n"
     ]
    },
    {
     "name": "stderr",
     "output_type": "stream",
     "text": [
      "[Parallel(n_jobs=1)]: Done 768 out of 768 | elapsed:    0.2s finished\n"
     ]
    },
    {
     "name": "stdout",
     "output_type": "stream",
     "text": [
      "    Found the data of interest:\n",
      "        t =   -2000.00 ...    1995.00 ms\n",
      "        0 CTF compensation matrices available\n",
      "Not setting metadata\n",
      "418 matching events found\n",
      "No baseline correction applied\n",
      "0 projection items activated\n",
      "Applying baseline correction (mode: mean)\n",
      "Overwriting existing file.\n",
      "Setting up low-pass filter at 30 Hz\n",
      "\n",
      "FIR filter parameters\n",
      "---------------------\n",
      "Designing a one-pass, zero-phase, non-causal lowpass filter:\n",
      "- Windowed time-domain design (firwin) method\n",
      "- Hamming window with 0.0194 passband ripple and 53 dB stopband attenuation\n",
      "- Upper passband edge: 30.00 Hz\n",
      "- Upper transition bandwidth: 7.50 Hz (-6 dB cutoff frequency: 33.75 Hz)\n",
      "- Filter length: 89 samples (0.445 sec)\n",
      "\n"
     ]
    },
    {
     "name": "stderr",
     "output_type": "stream",
     "text": [
      "[Parallel(n_jobs=1)]: Using backend SequentialBackend with 1 concurrent workers.\n",
      "[Parallel(n_jobs=1)]: Done   1 out of   1 | elapsed:    0.0s remaining:    0.0s\n",
      "[Parallel(n_jobs=1)]: Done   2 out of   2 | elapsed:    0.0s remaining:    0.0s\n",
      "[Parallel(n_jobs=1)]: Done   3 out of   3 | elapsed:    0.0s remaining:    0.0s\n",
      "[Parallel(n_jobs=1)]: Done   4 out of   4 | elapsed:    0.0s remaining:    0.0s\n"
     ]
    },
    {
     "name": "stdout",
     "output_type": "stream",
     "text": [
      "Overwriting existing file.\n",
      "Overwriting existing file.\n",
      "Setting up low-pass filter at 30 Hz\n",
      "\n",
      "FIR filter parameters\n",
      "---------------------\n",
      "Designing a one-pass, zero-phase, non-causal lowpass filter:\n",
      "- Windowed time-domain design (firwin) method\n",
      "- Hamming window with 0.0194 passband ripple and 53 dB stopband attenuation\n",
      "- Upper passband edge: 30.00 Hz\n",
      "- Upper transition bandwidth: 7.50 Hz (-6 dB cutoff frequency: 33.75 Hz)\n",
      "- Filter length: 89 samples (0.445 sec)\n",
      "\n"
     ]
    },
    {
     "name": "stderr",
     "output_type": "stream",
     "text": [
      "[Parallel(n_jobs=1)]: Done 768 out of 768 | elapsed:    0.2s finished\n",
      "[Parallel(n_jobs=1)]: Using backend SequentialBackend with 1 concurrent workers.\n",
      "[Parallel(n_jobs=1)]: Done   1 out of   1 | elapsed:    0.0s remaining:    0.0s\n",
      "[Parallel(n_jobs=1)]: Done   2 out of   2 | elapsed:    0.0s remaining:    0.0s\n",
      "[Parallel(n_jobs=1)]: Done   3 out of   3 | elapsed:    0.0s remaining:    0.0s\n",
      "[Parallel(n_jobs=1)]: Done   4 out of   4 | elapsed:    0.0s remaining:    0.0s\n"
     ]
    },
    {
     "name": "stdout",
     "output_type": "stream",
     "text": [
      "Overwriting existing file.\n",
      "Reading F:\\Documents\\Science\\MirRevAdaptEEG\\data\\eeg\\p004\\lrp\\mra_p004_run0-epo.fif ...\n"
     ]
    },
    {
     "name": "stderr",
     "output_type": "stream",
     "text": [
      "[Parallel(n_jobs=1)]: Done 768 out of 768 | elapsed:    0.2s finished\n"
     ]
    },
    {
     "name": "stdout",
     "output_type": "stream",
     "text": [
      "    Found the data of interest:\n",
      "        t =   -2000.00 ...    1995.00 ms\n",
      "        0 CTF compensation matrices available\n",
      "Not setting metadata\n",
      "418 matching events found\n",
      "No baseline correction applied\n",
      "0 projection items activated\n",
      "Applying baseline correction (mode: mean)\n",
      "Overwriting existing file.\n",
      "Setting up low-pass filter at 30 Hz\n",
      "\n",
      "FIR filter parameters\n",
      "---------------------\n",
      "Designing a one-pass, zero-phase, non-causal lowpass filter:\n",
      "- Windowed time-domain design (firwin) method\n",
      "- Hamming window with 0.0194 passband ripple and 53 dB stopband attenuation\n",
      "- Upper passband edge: 30.00 Hz\n",
      "- Upper transition bandwidth: 7.50 Hz (-6 dB cutoff frequency: 33.75 Hz)\n",
      "- Filter length: 89 samples (0.445 sec)\n",
      "\n"
     ]
    },
    {
     "name": "stderr",
     "output_type": "stream",
     "text": [
      "[Parallel(n_jobs=1)]: Using backend SequentialBackend with 1 concurrent workers.\n",
      "[Parallel(n_jobs=1)]: Done   1 out of   1 | elapsed:    0.0s remaining:    0.0s\n",
      "[Parallel(n_jobs=1)]: Done   2 out of   2 | elapsed:    0.0s remaining:    0.0s\n",
      "[Parallel(n_jobs=1)]: Done   3 out of   3 | elapsed:    0.0s remaining:    0.0s\n",
      "[Parallel(n_jobs=1)]: Done   4 out of   4 | elapsed:    0.0s remaining:    0.0s\n"
     ]
    },
    {
     "name": "stdout",
     "output_type": "stream",
     "text": [
      "Overwriting existing file.\n",
      "Overwriting existing file.\n",
      "Setting up low-pass filter at 30 Hz\n",
      "\n",
      "FIR filter parameters\n",
      "---------------------\n",
      "Designing a one-pass, zero-phase, non-causal lowpass filter:\n",
      "- Windowed time-domain design (firwin) method\n",
      "- Hamming window with 0.0194 passband ripple and 53 dB stopband attenuation\n",
      "- Upper passband edge: 30.00 Hz\n",
      "- Upper transition bandwidth: 7.50 Hz (-6 dB cutoff frequency: 33.75 Hz)\n",
      "- Filter length: 89 samples (0.445 sec)\n",
      "\n"
     ]
    },
    {
     "name": "stderr",
     "output_type": "stream",
     "text": [
      "[Parallel(n_jobs=1)]: Done 768 out of 768 | elapsed:    0.2s finished\n",
      "[Parallel(n_jobs=1)]: Using backend SequentialBackend with 1 concurrent workers.\n",
      "[Parallel(n_jobs=1)]: Done   1 out of   1 | elapsed:    0.0s remaining:    0.0s\n",
      "[Parallel(n_jobs=1)]: Done   2 out of   2 | elapsed:    0.0s remaining:    0.0s\n",
      "[Parallel(n_jobs=1)]: Done   3 out of   3 | elapsed:    0.0s remaining:    0.0s\n",
      "[Parallel(n_jobs=1)]: Done   4 out of   4 | elapsed:    0.0s remaining:    0.0s\n"
     ]
    },
    {
     "name": "stdout",
     "output_type": "stream",
     "text": [
      "Overwriting existing file.\n",
      "Reading F:\\Documents\\Science\\MirRevAdaptEEG\\data\\eeg\\p005\\lrp\\mra_p005_run0-epo.fif ...\n"
     ]
    },
    {
     "name": "stderr",
     "output_type": "stream",
     "text": [
      "[Parallel(n_jobs=1)]: Done 768 out of 768 | elapsed:    0.2s finished\n"
     ]
    },
    {
     "name": "stdout",
     "output_type": "stream",
     "text": [
      "    Found the data of interest:\n",
      "        t =   -2000.00 ...    1995.00 ms\n",
      "        0 CTF compensation matrices available\n",
      "Not setting metadata\n",
      "419 matching events found\n",
      "No baseline correction applied\n",
      "0 projection items activated\n",
      "Applying baseline correction (mode: mean)\n",
      "Overwriting existing file.\n",
      "Setting up low-pass filter at 30 Hz\n",
      "\n",
      "FIR filter parameters\n",
      "---------------------\n",
      "Designing a one-pass, zero-phase, non-causal lowpass filter:\n",
      "- Windowed time-domain design (firwin) method\n",
      "- Hamming window with 0.0194 passband ripple and 53 dB stopband attenuation\n",
      "- Upper passband edge: 30.00 Hz\n",
      "- Upper transition bandwidth: 7.50 Hz (-6 dB cutoff frequency: 33.75 Hz)\n",
      "- Filter length: 89 samples (0.445 sec)\n",
      "\n"
     ]
    },
    {
     "name": "stderr",
     "output_type": "stream",
     "text": [
      "[Parallel(n_jobs=1)]: Using backend SequentialBackend with 1 concurrent workers.\n",
      "[Parallel(n_jobs=1)]: Done   1 out of   1 | elapsed:    0.0s remaining:    0.0s\n",
      "[Parallel(n_jobs=1)]: Done   2 out of   2 | elapsed:    0.0s remaining:    0.0s\n",
      "[Parallel(n_jobs=1)]: Done   3 out of   3 | elapsed:    0.0s remaining:    0.0s\n",
      "[Parallel(n_jobs=1)]: Done   4 out of   4 | elapsed:    0.0s remaining:    0.0s\n"
     ]
    },
    {
     "name": "stdout",
     "output_type": "stream",
     "text": [
      "Overwriting existing file.\n",
      "Overwriting existing file.\n",
      "Setting up low-pass filter at 30 Hz\n",
      "\n",
      "FIR filter parameters\n",
      "---------------------\n",
      "Designing a one-pass, zero-phase, non-causal lowpass filter:\n",
      "- Windowed time-domain design (firwin) method\n",
      "- Hamming window with 0.0194 passband ripple and 53 dB stopband attenuation\n",
      "- Upper passband edge: 30.00 Hz\n",
      "- Upper transition bandwidth: 7.50 Hz (-6 dB cutoff frequency: 33.75 Hz)\n",
      "- Filter length: 89 samples (0.445 sec)\n",
      "\n"
     ]
    },
    {
     "name": "stderr",
     "output_type": "stream",
     "text": [
      "[Parallel(n_jobs=1)]: Done 768 out of 768 | elapsed:    0.2s finished\n",
      "[Parallel(n_jobs=1)]: Using backend SequentialBackend with 1 concurrent workers.\n",
      "[Parallel(n_jobs=1)]: Done   1 out of   1 | elapsed:    0.0s remaining:    0.0s\n",
      "[Parallel(n_jobs=1)]: Done   2 out of   2 | elapsed:    0.0s remaining:    0.0s\n",
      "[Parallel(n_jobs=1)]: Done   3 out of   3 | elapsed:    0.0s remaining:    0.0s\n",
      "[Parallel(n_jobs=1)]: Done   4 out of   4 | elapsed:    0.0s remaining:    0.0s\n"
     ]
    },
    {
     "name": "stdout",
     "output_type": "stream",
     "text": [
      "Overwriting existing file.\n",
      "Reading F:\\Documents\\Science\\MirRevAdaptEEG\\data\\eeg\\p006\\lrp\\mra_p006_run0-epo.fif ...\n"
     ]
    },
    {
     "name": "stderr",
     "output_type": "stream",
     "text": [
      "[Parallel(n_jobs=1)]: Done 768 out of 768 | elapsed:    0.2s finished\n"
     ]
    },
    {
     "name": "stdout",
     "output_type": "stream",
     "text": [
      "    Found the data of interest:\n",
      "        t =   -2000.00 ...    1995.00 ms\n",
      "        0 CTF compensation matrices available\n",
      "Not setting metadata\n",
      "418 matching events found\n",
      "No baseline correction applied\n",
      "0 projection items activated\n",
      "Applying baseline correction (mode: mean)\n",
      "Overwriting existing file.\n",
      "Setting up low-pass filter at 30 Hz\n",
      "\n",
      "FIR filter parameters\n",
      "---------------------\n",
      "Designing a one-pass, zero-phase, non-causal lowpass filter:\n",
      "- Windowed time-domain design (firwin) method\n",
      "- Hamming window with 0.0194 passband ripple and 53 dB stopband attenuation\n",
      "- Upper passband edge: 30.00 Hz\n",
      "- Upper transition bandwidth: 7.50 Hz (-6 dB cutoff frequency: 33.75 Hz)\n",
      "- Filter length: 89 samples (0.445 sec)\n",
      "\n"
     ]
    },
    {
     "name": "stderr",
     "output_type": "stream",
     "text": [
      "[Parallel(n_jobs=1)]: Using backend SequentialBackend with 1 concurrent workers.\n",
      "[Parallel(n_jobs=1)]: Done   1 out of   1 | elapsed:    0.0s remaining:    0.0s\n",
      "[Parallel(n_jobs=1)]: Done   2 out of   2 | elapsed:    0.0s remaining:    0.0s\n",
      "[Parallel(n_jobs=1)]: Done   3 out of   3 | elapsed:    0.0s remaining:    0.0s\n",
      "[Parallel(n_jobs=1)]: Done   4 out of   4 | elapsed:    0.0s remaining:    0.0s\n"
     ]
    },
    {
     "name": "stdout",
     "output_type": "stream",
     "text": [
      "Overwriting existing file.\n",
      "Overwriting existing file.\n",
      "Setting up low-pass filter at 30 Hz\n",
      "\n",
      "FIR filter parameters\n",
      "---------------------\n",
      "Designing a one-pass, zero-phase, non-causal lowpass filter:\n",
      "- Windowed time-domain design (firwin) method\n",
      "- Hamming window with 0.0194 passband ripple and 53 dB stopband attenuation\n",
      "- Upper passband edge: 30.00 Hz\n",
      "- Upper transition bandwidth: 7.50 Hz (-6 dB cutoff frequency: 33.75 Hz)\n",
      "- Filter length: 89 samples (0.445 sec)\n",
      "\n"
     ]
    },
    {
     "name": "stderr",
     "output_type": "stream",
     "text": [
      "[Parallel(n_jobs=1)]: Done 768 out of 768 | elapsed:    0.2s finished\n",
      "[Parallel(n_jobs=1)]: Using backend SequentialBackend with 1 concurrent workers.\n",
      "[Parallel(n_jobs=1)]: Done   1 out of   1 | elapsed:    0.0s remaining:    0.0s\n",
      "[Parallel(n_jobs=1)]: Done   2 out of   2 | elapsed:    0.0s remaining:    0.0s\n",
      "[Parallel(n_jobs=1)]: Done   3 out of   3 | elapsed:    0.0s remaining:    0.0s\n",
      "[Parallel(n_jobs=1)]: Done   4 out of   4 | elapsed:    0.0s remaining:    0.0s\n"
     ]
    },
    {
     "name": "stdout",
     "output_type": "stream",
     "text": [
      "Overwriting existing file.\n",
      "Reading F:\\Documents\\Science\\MirRevAdaptEEG\\data\\eeg\\p007\\lrp\\mra_p007_run0-epo.fif ...\n"
     ]
    },
    {
     "name": "stderr",
     "output_type": "stream",
     "text": [
      "[Parallel(n_jobs=1)]: Done 768 out of 768 | elapsed:    0.2s finished\n"
     ]
    },
    {
     "name": "stdout",
     "output_type": "stream",
     "text": [
      "    Found the data of interest:\n",
      "        t =   -2000.00 ...    1995.00 ms\n",
      "        0 CTF compensation matrices available\n",
      "Not setting metadata\n",
      "420 matching events found\n",
      "No baseline correction applied\n",
      "0 projection items activated\n",
      "Applying baseline correction (mode: mean)\n",
      "Overwriting existing file.\n",
      "Setting up low-pass filter at 30 Hz\n",
      "\n",
      "FIR filter parameters\n",
      "---------------------\n",
      "Designing a one-pass, zero-phase, non-causal lowpass filter:\n",
      "- Windowed time-domain design (firwin) method\n",
      "- Hamming window with 0.0194 passband ripple and 53 dB stopband attenuation\n",
      "- Upper passband edge: 30.00 Hz\n",
      "- Upper transition bandwidth: 7.50 Hz (-6 dB cutoff frequency: 33.75 Hz)\n",
      "- Filter length: 89 samples (0.445 sec)\n",
      "\n"
     ]
    },
    {
     "name": "stderr",
     "output_type": "stream",
     "text": [
      "[Parallel(n_jobs=1)]: Using backend SequentialBackend with 1 concurrent workers.\n",
      "[Parallel(n_jobs=1)]: Done   1 out of   1 | elapsed:    0.0s remaining:    0.0s\n",
      "[Parallel(n_jobs=1)]: Done   2 out of   2 | elapsed:    0.0s remaining:    0.0s\n",
      "[Parallel(n_jobs=1)]: Done   3 out of   3 | elapsed:    0.0s remaining:    0.0s\n",
      "[Parallel(n_jobs=1)]: Done   4 out of   4 | elapsed:    0.0s remaining:    0.0s\n"
     ]
    },
    {
     "name": "stdout",
     "output_type": "stream",
     "text": [
      "Overwriting existing file.\n",
      "Overwriting existing file.\n",
      "Setting up low-pass filter at 30 Hz\n",
      "\n",
      "FIR filter parameters\n",
      "---------------------\n",
      "Designing a one-pass, zero-phase, non-causal lowpass filter:\n",
      "- Windowed time-domain design (firwin) method\n",
      "- Hamming window with 0.0194 passband ripple and 53 dB stopband attenuation\n",
      "- Upper passband edge: 30.00 Hz\n",
      "- Upper transition bandwidth: 7.50 Hz (-6 dB cutoff frequency: 33.75 Hz)\n",
      "- Filter length: 89 samples (0.445 sec)\n",
      "\n"
     ]
    },
    {
     "name": "stderr",
     "output_type": "stream",
     "text": [
      "[Parallel(n_jobs=1)]: Done 768 out of 768 | elapsed:    0.2s finished\n",
      "[Parallel(n_jobs=1)]: Using backend SequentialBackend with 1 concurrent workers.\n",
      "[Parallel(n_jobs=1)]: Done   1 out of   1 | elapsed:    0.0s remaining:    0.0s\n",
      "[Parallel(n_jobs=1)]: Done   2 out of   2 | elapsed:    0.0s remaining:    0.0s\n",
      "[Parallel(n_jobs=1)]: Done   3 out of   3 | elapsed:    0.0s remaining:    0.0s\n",
      "[Parallel(n_jobs=1)]: Done   4 out of   4 | elapsed:    0.0s remaining:    0.0s\n"
     ]
    },
    {
     "name": "stdout",
     "output_type": "stream",
     "text": [
      "Overwriting existing file.\n",
      "Reading F:\\Documents\\Science\\MirRevAdaptEEG\\data\\eeg\\p008\\lrp\\mra_p008_run0-epo.fif ...\n"
     ]
    },
    {
     "name": "stderr",
     "output_type": "stream",
     "text": [
      "[Parallel(n_jobs=1)]: Done 768 out of 768 | elapsed:    0.2s finished\n"
     ]
    },
    {
     "name": "stdout",
     "output_type": "stream",
     "text": [
      "    Found the data of interest:\n",
      "        t =   -2000.00 ...    1995.00 ms\n",
      "        0 CTF compensation matrices available\n",
      "Not setting metadata\n",
      "420 matching events found\n",
      "No baseline correction applied\n",
      "0 projection items activated\n",
      "Applying baseline correction (mode: mean)\n",
      "Overwriting existing file.\n",
      "Setting up low-pass filter at 30 Hz\n",
      "\n",
      "FIR filter parameters\n",
      "---------------------\n",
      "Designing a one-pass, zero-phase, non-causal lowpass filter:\n",
      "- Windowed time-domain design (firwin) method\n",
      "- Hamming window with 0.0194 passband ripple and 53 dB stopband attenuation\n",
      "- Upper passband edge: 30.00 Hz\n",
      "- Upper transition bandwidth: 7.50 Hz (-6 dB cutoff frequency: 33.75 Hz)\n",
      "- Filter length: 89 samples (0.445 sec)\n",
      "\n"
     ]
    },
    {
     "name": "stderr",
     "output_type": "stream",
     "text": [
      "[Parallel(n_jobs=1)]: Using backend SequentialBackend with 1 concurrent workers.\n",
      "[Parallel(n_jobs=1)]: Done   1 out of   1 | elapsed:    0.0s remaining:    0.0s\n",
      "[Parallel(n_jobs=1)]: Done   2 out of   2 | elapsed:    0.0s remaining:    0.0s\n",
      "[Parallel(n_jobs=1)]: Done   3 out of   3 | elapsed:    0.0s remaining:    0.0s\n",
      "[Parallel(n_jobs=1)]: Done   4 out of   4 | elapsed:    0.0s remaining:    0.0s\n"
     ]
    },
    {
     "name": "stdout",
     "output_type": "stream",
     "text": [
      "Overwriting existing file.\n",
      "Overwriting existing file.\n",
      "Setting up low-pass filter at 30 Hz\n",
      "\n",
      "FIR filter parameters\n",
      "---------------------\n",
      "Designing a one-pass, zero-phase, non-causal lowpass filter:\n",
      "- Windowed time-domain design (firwin) method\n",
      "- Hamming window with 0.0194 passband ripple and 53 dB stopband attenuation\n",
      "- Upper passband edge: 30.00 Hz\n",
      "- Upper transition bandwidth: 7.50 Hz (-6 dB cutoff frequency: 33.75 Hz)\n",
      "- Filter length: 89 samples (0.445 sec)\n",
      "\n"
     ]
    },
    {
     "name": "stderr",
     "output_type": "stream",
     "text": [
      "[Parallel(n_jobs=1)]: Done 768 out of 768 | elapsed:    0.2s finished\n",
      "[Parallel(n_jobs=1)]: Using backend SequentialBackend with 1 concurrent workers.\n",
      "[Parallel(n_jobs=1)]: Done   1 out of   1 | elapsed:    0.0s remaining:    0.0s\n",
      "[Parallel(n_jobs=1)]: Done   2 out of   2 | elapsed:    0.0s remaining:    0.0s\n",
      "[Parallel(n_jobs=1)]: Done   3 out of   3 | elapsed:    0.0s remaining:    0.0s\n",
      "[Parallel(n_jobs=1)]: Done   4 out of   4 | elapsed:    0.0s remaining:    0.0s\n"
     ]
    },
    {
     "name": "stdout",
     "output_type": "stream",
     "text": [
      "Overwriting existing file.\n",
      "Reading F:\\Documents\\Science\\MirRevAdaptEEG\\data\\eeg\\p009\\lrp\\mra_p009_run0-epo.fif ...\n"
     ]
    },
    {
     "name": "stderr",
     "output_type": "stream",
     "text": [
      "[Parallel(n_jobs=1)]: Done 768 out of 768 | elapsed:    0.2s finished\n"
     ]
    },
    {
     "name": "stdout",
     "output_type": "stream",
     "text": [
      "    Found the data of interest:\n",
      "        t =   -2000.00 ...    1995.00 ms\n",
      "        0 CTF compensation matrices available\n",
      "Not setting metadata\n",
      "419 matching events found\n",
      "No baseline correction applied\n",
      "0 projection items activated\n",
      "Applying baseline correction (mode: mean)\n",
      "Overwriting existing file.\n",
      "Setting up low-pass filter at 30 Hz\n",
      "\n",
      "FIR filter parameters\n",
      "---------------------\n",
      "Designing a one-pass, zero-phase, non-causal lowpass filter:\n",
      "- Windowed time-domain design (firwin) method\n",
      "- Hamming window with 0.0194 passband ripple and 53 dB stopband attenuation\n",
      "- Upper passband edge: 30.00 Hz\n",
      "- Upper transition bandwidth: 7.50 Hz (-6 dB cutoff frequency: 33.75 Hz)\n",
      "- Filter length: 89 samples (0.445 sec)\n",
      "\n"
     ]
    },
    {
     "name": "stderr",
     "output_type": "stream",
     "text": [
      "[Parallel(n_jobs=1)]: Using backend SequentialBackend with 1 concurrent workers.\n",
      "[Parallel(n_jobs=1)]: Done   1 out of   1 | elapsed:    0.0s remaining:    0.0s\n",
      "[Parallel(n_jobs=1)]: Done   2 out of   2 | elapsed:    0.0s remaining:    0.0s\n",
      "[Parallel(n_jobs=1)]: Done   3 out of   3 | elapsed:    0.0s remaining:    0.0s\n",
      "[Parallel(n_jobs=1)]: Done   4 out of   4 | elapsed:    0.0s remaining:    0.0s\n"
     ]
    },
    {
     "name": "stdout",
     "output_type": "stream",
     "text": [
      "Overwriting existing file.\n",
      "Overwriting existing file.\n",
      "Setting up low-pass filter at 30 Hz\n",
      "\n",
      "FIR filter parameters\n",
      "---------------------\n",
      "Designing a one-pass, zero-phase, non-causal lowpass filter:\n",
      "- Windowed time-domain design (firwin) method\n",
      "- Hamming window with 0.0194 passband ripple and 53 dB stopband attenuation\n",
      "- Upper passband edge: 30.00 Hz\n",
      "- Upper transition bandwidth: 7.50 Hz (-6 dB cutoff frequency: 33.75 Hz)\n",
      "- Filter length: 89 samples (0.445 sec)\n",
      "\n"
     ]
    },
    {
     "name": "stderr",
     "output_type": "stream",
     "text": [
      "[Parallel(n_jobs=1)]: Done 768 out of 768 | elapsed:    0.2s finished\n",
      "[Parallel(n_jobs=1)]: Using backend SequentialBackend with 1 concurrent workers.\n",
      "[Parallel(n_jobs=1)]: Done   1 out of   1 | elapsed:    0.0s remaining:    0.0s\n",
      "[Parallel(n_jobs=1)]: Done   2 out of   2 | elapsed:    0.0s remaining:    0.0s\n",
      "[Parallel(n_jobs=1)]: Done   3 out of   3 | elapsed:    0.0s remaining:    0.0s\n",
      "[Parallel(n_jobs=1)]: Done   4 out of   4 | elapsed:    0.0s remaining:    0.0s\n"
     ]
    },
    {
     "name": "stdout",
     "output_type": "stream",
     "text": [
      "Overwriting existing file.\n",
      "Reading F:\\Documents\\Science\\MirRevAdaptEEG\\data\\eeg\\p010\\lrp\\mra_p010_run0-epo.fif ...\n"
     ]
    },
    {
     "name": "stderr",
     "output_type": "stream",
     "text": [
      "[Parallel(n_jobs=1)]: Done 768 out of 768 | elapsed:    0.2s finished\n"
     ]
    },
    {
     "name": "stdout",
     "output_type": "stream",
     "text": [
      "    Found the data of interest:\n",
      "        t =   -2000.00 ...    1995.00 ms\n",
      "        0 CTF compensation matrices available\n",
      "Not setting metadata\n",
      "420 matching events found\n",
      "No baseline correction applied\n",
      "0 projection items activated\n",
      "Applying baseline correction (mode: mean)\n",
      "Overwriting existing file.\n",
      "Setting up low-pass filter at 30 Hz\n",
      "\n",
      "FIR filter parameters\n",
      "---------------------\n",
      "Designing a one-pass, zero-phase, non-causal lowpass filter:\n",
      "- Windowed time-domain design (firwin) method\n",
      "- Hamming window with 0.0194 passband ripple and 53 dB stopband attenuation\n",
      "- Upper passband edge: 30.00 Hz\n",
      "- Upper transition bandwidth: 7.50 Hz (-6 dB cutoff frequency: 33.75 Hz)\n",
      "- Filter length: 89 samples (0.445 sec)\n",
      "\n"
     ]
    },
    {
     "name": "stderr",
     "output_type": "stream",
     "text": [
      "[Parallel(n_jobs=1)]: Using backend SequentialBackend with 1 concurrent workers.\n",
      "[Parallel(n_jobs=1)]: Done   1 out of   1 | elapsed:    0.0s remaining:    0.0s\n",
      "[Parallel(n_jobs=1)]: Done   2 out of   2 | elapsed:    0.0s remaining:    0.0s\n",
      "[Parallel(n_jobs=1)]: Done   3 out of   3 | elapsed:    0.0s remaining:    0.0s\n",
      "[Parallel(n_jobs=1)]: Done   4 out of   4 | elapsed:    0.0s remaining:    0.0s\n"
     ]
    },
    {
     "name": "stdout",
     "output_type": "stream",
     "text": [
      "Overwriting existing file.\n",
      "Overwriting existing file.\n",
      "Setting up low-pass filter at 30 Hz\n",
      "\n",
      "FIR filter parameters\n",
      "---------------------\n",
      "Designing a one-pass, zero-phase, non-causal lowpass filter:\n",
      "- Windowed time-domain design (firwin) method\n",
      "- Hamming window with 0.0194 passband ripple and 53 dB stopband attenuation\n",
      "- Upper passband edge: 30.00 Hz\n",
      "- Upper transition bandwidth: 7.50 Hz (-6 dB cutoff frequency: 33.75 Hz)\n",
      "- Filter length: 89 samples (0.445 sec)\n",
      "\n"
     ]
    },
    {
     "name": "stderr",
     "output_type": "stream",
     "text": [
      "[Parallel(n_jobs=1)]: Done 768 out of 768 | elapsed:    0.2s finished\n",
      "[Parallel(n_jobs=1)]: Using backend SequentialBackend with 1 concurrent workers.\n",
      "[Parallel(n_jobs=1)]: Done   1 out of   1 | elapsed:    0.0s remaining:    0.0s\n",
      "[Parallel(n_jobs=1)]: Done   2 out of   2 | elapsed:    0.0s remaining:    0.0s\n",
      "[Parallel(n_jobs=1)]: Done   3 out of   3 | elapsed:    0.0s remaining:    0.0s\n",
      "[Parallel(n_jobs=1)]: Done   4 out of   4 | elapsed:    0.0s remaining:    0.0s\n"
     ]
    },
    {
     "name": "stdout",
     "output_type": "stream",
     "text": [
      "Overwriting existing file.\n",
      "Reading F:\\Documents\\Science\\MirRevAdaptEEG\\data\\eeg\\p011\\lrp\\mra_p011_run0-epo.fif ...\n"
     ]
    },
    {
     "name": "stderr",
     "output_type": "stream",
     "text": [
      "[Parallel(n_jobs=1)]: Done 768 out of 768 | elapsed:    0.2s finished\n"
     ]
    },
    {
     "name": "stdout",
     "output_type": "stream",
     "text": [
      "    Found the data of interest:\n",
      "        t =   -2000.00 ...    1995.00 ms\n",
      "        0 CTF compensation matrices available\n",
      "Not setting metadata\n",
      "419 matching events found\n",
      "No baseline correction applied\n",
      "0 projection items activated\n",
      "Applying baseline correction (mode: mean)\n",
      "Overwriting existing file.\n",
      "Setting up low-pass filter at 30 Hz\n",
      "\n",
      "FIR filter parameters\n",
      "---------------------\n",
      "Designing a one-pass, zero-phase, non-causal lowpass filter:\n",
      "- Windowed time-domain design (firwin) method\n",
      "- Hamming window with 0.0194 passband ripple and 53 dB stopband attenuation\n",
      "- Upper passband edge: 30.00 Hz\n",
      "- Upper transition bandwidth: 7.50 Hz (-6 dB cutoff frequency: 33.75 Hz)\n",
      "- Filter length: 89 samples (0.445 sec)\n",
      "\n"
     ]
    },
    {
     "name": "stderr",
     "output_type": "stream",
     "text": [
      "[Parallel(n_jobs=1)]: Using backend SequentialBackend with 1 concurrent workers.\n",
      "[Parallel(n_jobs=1)]: Done   1 out of   1 | elapsed:    0.0s remaining:    0.0s\n",
      "[Parallel(n_jobs=1)]: Done   2 out of   2 | elapsed:    0.0s remaining:    0.0s\n",
      "[Parallel(n_jobs=1)]: Done   3 out of   3 | elapsed:    0.0s remaining:    0.0s\n",
      "[Parallel(n_jobs=1)]: Done   4 out of   4 | elapsed:    0.0s remaining:    0.0s\n"
     ]
    },
    {
     "name": "stdout",
     "output_type": "stream",
     "text": [
      "Overwriting existing file.\n",
      "Overwriting existing file.\n",
      "Setting up low-pass filter at 30 Hz\n",
      "\n",
      "FIR filter parameters\n",
      "---------------------\n",
      "Designing a one-pass, zero-phase, non-causal lowpass filter:\n",
      "- Windowed time-domain design (firwin) method\n",
      "- Hamming window with 0.0194 passband ripple and 53 dB stopband attenuation\n",
      "- Upper passband edge: 30.00 Hz\n",
      "- Upper transition bandwidth: 7.50 Hz (-6 dB cutoff frequency: 33.75 Hz)\n",
      "- Filter length: 89 samples (0.445 sec)\n",
      "\n"
     ]
    },
    {
     "name": "stderr",
     "output_type": "stream",
     "text": [
      "[Parallel(n_jobs=1)]: Done 768 out of 768 | elapsed:    0.2s finished\n",
      "[Parallel(n_jobs=1)]: Using backend SequentialBackend with 1 concurrent workers.\n",
      "[Parallel(n_jobs=1)]: Done   1 out of   1 | elapsed:    0.0s remaining:    0.0s\n",
      "[Parallel(n_jobs=1)]: Done   2 out of   2 | elapsed:    0.0s remaining:    0.0s\n",
      "[Parallel(n_jobs=1)]: Done   3 out of   3 | elapsed:    0.0s remaining:    0.0s\n",
      "[Parallel(n_jobs=1)]: Done   4 out of   4 | elapsed:    0.0s remaining:    0.0s\n"
     ]
    },
    {
     "name": "stdout",
     "output_type": "stream",
     "text": [
      "Overwriting existing file.\n",
      "Reading F:\\Documents\\Science\\MirRevAdaptEEG\\data\\eeg\\p012\\lrp\\mra_p012_run0-epo.fif ...\n"
     ]
    },
    {
     "name": "stderr",
     "output_type": "stream",
     "text": [
      "[Parallel(n_jobs=1)]: Done 768 out of 768 | elapsed:    0.2s finished\n"
     ]
    },
    {
     "name": "stdout",
     "output_type": "stream",
     "text": [
      "    Found the data of interest:\n",
      "        t =   -2000.00 ...    1995.00 ms\n",
      "        0 CTF compensation matrices available\n",
      "Not setting metadata\n",
      "412 matching events found\n",
      "No baseline correction applied\n",
      "0 projection items activated\n",
      "Applying baseline correction (mode: mean)\n",
      "Overwriting existing file.\n",
      "Setting up low-pass filter at 30 Hz\n",
      "\n",
      "FIR filter parameters\n",
      "---------------------\n",
      "Designing a one-pass, zero-phase, non-causal lowpass filter:\n",
      "- Windowed time-domain design (firwin) method\n",
      "- Hamming window with 0.0194 passband ripple and 53 dB stopband attenuation\n",
      "- Upper passband edge: 30.00 Hz\n",
      "- Upper transition bandwidth: 7.50 Hz (-6 dB cutoff frequency: 33.75 Hz)\n",
      "- Filter length: 89 samples (0.445 sec)\n",
      "\n"
     ]
    },
    {
     "name": "stderr",
     "output_type": "stream",
     "text": [
      "[Parallel(n_jobs=1)]: Using backend SequentialBackend with 1 concurrent workers.\n",
      "[Parallel(n_jobs=1)]: Done   1 out of   1 | elapsed:    0.0s remaining:    0.0s\n",
      "[Parallel(n_jobs=1)]: Done   2 out of   2 | elapsed:    0.0s remaining:    0.0s\n",
      "[Parallel(n_jobs=1)]: Done   3 out of   3 | elapsed:    0.0s remaining:    0.0s\n",
      "[Parallel(n_jobs=1)]: Done   4 out of   4 | elapsed:    0.0s remaining:    0.0s\n"
     ]
    },
    {
     "name": "stdout",
     "output_type": "stream",
     "text": [
      "Overwriting existing file.\n",
      "Overwriting existing file.\n",
      "Setting up low-pass filter at 30 Hz\n",
      "\n",
      "FIR filter parameters\n",
      "---------------------\n",
      "Designing a one-pass, zero-phase, non-causal lowpass filter:\n",
      "- Windowed time-domain design (firwin) method\n",
      "- Hamming window with 0.0194 passband ripple and 53 dB stopband attenuation\n",
      "- Upper passband edge: 30.00 Hz\n",
      "- Upper transition bandwidth: 7.50 Hz (-6 dB cutoff frequency: 33.75 Hz)\n",
      "- Filter length: 89 samples (0.445 sec)\n",
      "\n"
     ]
    },
    {
     "name": "stderr",
     "output_type": "stream",
     "text": [
      "[Parallel(n_jobs=1)]: Done 768 out of 768 | elapsed:    0.2s finished\n",
      "[Parallel(n_jobs=1)]: Using backend SequentialBackend with 1 concurrent workers.\n",
      "[Parallel(n_jobs=1)]: Done   1 out of   1 | elapsed:    0.0s remaining:    0.0s\n",
      "[Parallel(n_jobs=1)]: Done   2 out of   2 | elapsed:    0.0s remaining:    0.0s\n",
      "[Parallel(n_jobs=1)]: Done   3 out of   3 | elapsed:    0.0s remaining:    0.0s\n",
      "[Parallel(n_jobs=1)]: Done   4 out of   4 | elapsed:    0.0s remaining:    0.0s\n"
     ]
    },
    {
     "name": "stdout",
     "output_type": "stream",
     "text": [
      "Overwriting existing file.\n",
      "Reading F:\\Documents\\Science\\MirRevAdaptEEG\\data\\eeg\\p013\\lrp\\mra_p013_run0-epo.fif ...\n"
     ]
    },
    {
     "name": "stderr",
     "output_type": "stream",
     "text": [
      "[Parallel(n_jobs=1)]: Done 768 out of 768 | elapsed:    0.2s finished\n"
     ]
    },
    {
     "name": "stdout",
     "output_type": "stream",
     "text": [
      "    Found the data of interest:\n",
      "        t =   -2000.00 ...    1995.00 ms\n",
      "        0 CTF compensation matrices available\n",
      "Not setting metadata\n",
      "416 matching events found\n",
      "No baseline correction applied\n",
      "0 projection items activated\n",
      "Applying baseline correction (mode: mean)\n",
      "Overwriting existing file.\n",
      "Setting up low-pass filter at 30 Hz\n",
      "\n",
      "FIR filter parameters\n",
      "---------------------\n",
      "Designing a one-pass, zero-phase, non-causal lowpass filter:\n",
      "- Windowed time-domain design (firwin) method\n",
      "- Hamming window with 0.0194 passband ripple and 53 dB stopband attenuation\n",
      "- Upper passband edge: 30.00 Hz\n",
      "- Upper transition bandwidth: 7.50 Hz (-6 dB cutoff frequency: 33.75 Hz)\n",
      "- Filter length: 89 samples (0.445 sec)\n",
      "\n"
     ]
    },
    {
     "name": "stderr",
     "output_type": "stream",
     "text": [
      "[Parallel(n_jobs=1)]: Using backend SequentialBackend with 1 concurrent workers.\n",
      "[Parallel(n_jobs=1)]: Done   1 out of   1 | elapsed:    0.0s remaining:    0.0s\n",
      "[Parallel(n_jobs=1)]: Done   2 out of   2 | elapsed:    0.0s remaining:    0.0s\n",
      "[Parallel(n_jobs=1)]: Done   3 out of   3 | elapsed:    0.0s remaining:    0.0s\n",
      "[Parallel(n_jobs=1)]: Done   4 out of   4 | elapsed:    0.0s remaining:    0.0s\n"
     ]
    },
    {
     "name": "stdout",
     "output_type": "stream",
     "text": [
      "Overwriting existing file.\n",
      "Overwriting existing file.\n",
      "Setting up low-pass filter at 30 Hz\n",
      "\n",
      "FIR filter parameters\n",
      "---------------------\n",
      "Designing a one-pass, zero-phase, non-causal lowpass filter:\n",
      "- Windowed time-domain design (firwin) method\n",
      "- Hamming window with 0.0194 passband ripple and 53 dB stopband attenuation\n",
      "- Upper passband edge: 30.00 Hz\n",
      "- Upper transition bandwidth: 7.50 Hz (-6 dB cutoff frequency: 33.75 Hz)\n",
      "- Filter length: 89 samples (0.445 sec)\n",
      "\n"
     ]
    },
    {
     "name": "stderr",
     "output_type": "stream",
     "text": [
      "[Parallel(n_jobs=1)]: Done 768 out of 768 | elapsed:    0.2s finished\n",
      "[Parallel(n_jobs=1)]: Using backend SequentialBackend with 1 concurrent workers.\n",
      "[Parallel(n_jobs=1)]: Done   1 out of   1 | elapsed:    0.0s remaining:    0.0s\n",
      "[Parallel(n_jobs=1)]: Done   2 out of   2 | elapsed:    0.0s remaining:    0.0s\n",
      "[Parallel(n_jobs=1)]: Done   3 out of   3 | elapsed:    0.0s remaining:    0.0s\n",
      "[Parallel(n_jobs=1)]: Done   4 out of   4 | elapsed:    0.0s remaining:    0.0s\n"
     ]
    },
    {
     "name": "stdout",
     "output_type": "stream",
     "text": [
      "Overwriting existing file.\n",
      "Reading F:\\Documents\\Science\\MirRevAdaptEEG\\data\\eeg\\p014\\lrp\\mra_p014_run0-epo.fif ...\n"
     ]
    },
    {
     "name": "stderr",
     "output_type": "stream",
     "text": [
      "[Parallel(n_jobs=1)]: Done 768 out of 768 | elapsed:    0.2s finished\n"
     ]
    },
    {
     "name": "stdout",
     "output_type": "stream",
     "text": [
      "    Found the data of interest:\n",
      "        t =   -2000.00 ...    1995.00 ms\n",
      "        0 CTF compensation matrices available\n",
      "Not setting metadata\n",
      "420 matching events found\n",
      "No baseline correction applied\n",
      "0 projection items activated\n",
      "Applying baseline correction (mode: mean)\n",
      "Overwriting existing file.\n",
      "Setting up low-pass filter at 30 Hz\n",
      "\n",
      "FIR filter parameters\n",
      "---------------------\n",
      "Designing a one-pass, zero-phase, non-causal lowpass filter:\n",
      "- Windowed time-domain design (firwin) method\n",
      "- Hamming window with 0.0194 passband ripple and 53 dB stopband attenuation\n",
      "- Upper passband edge: 30.00 Hz\n",
      "- Upper transition bandwidth: 7.50 Hz (-6 dB cutoff frequency: 33.75 Hz)\n",
      "- Filter length: 89 samples (0.445 sec)\n",
      "\n"
     ]
    },
    {
     "name": "stderr",
     "output_type": "stream",
     "text": [
      "[Parallel(n_jobs=1)]: Using backend SequentialBackend with 1 concurrent workers.\n",
      "[Parallel(n_jobs=1)]: Done   1 out of   1 | elapsed:    0.0s remaining:    0.0s\n",
      "[Parallel(n_jobs=1)]: Done   2 out of   2 | elapsed:    0.0s remaining:    0.0s\n",
      "[Parallel(n_jobs=1)]: Done   3 out of   3 | elapsed:    0.0s remaining:    0.0s\n",
      "[Parallel(n_jobs=1)]: Done   4 out of   4 | elapsed:    0.0s remaining:    0.0s\n"
     ]
    },
    {
     "name": "stdout",
     "output_type": "stream",
     "text": [
      "Overwriting existing file.\n",
      "Overwriting existing file.\n",
      "Setting up low-pass filter at 30 Hz\n",
      "\n",
      "FIR filter parameters\n",
      "---------------------\n",
      "Designing a one-pass, zero-phase, non-causal lowpass filter:\n",
      "- Windowed time-domain design (firwin) method\n",
      "- Hamming window with 0.0194 passband ripple and 53 dB stopband attenuation\n",
      "- Upper passband edge: 30.00 Hz\n",
      "- Upper transition bandwidth: 7.50 Hz (-6 dB cutoff frequency: 33.75 Hz)\n",
      "- Filter length: 89 samples (0.445 sec)\n",
      "\n"
     ]
    },
    {
     "name": "stderr",
     "output_type": "stream",
     "text": [
      "[Parallel(n_jobs=1)]: Done 768 out of 768 | elapsed:    0.2s finished\n",
      "[Parallel(n_jobs=1)]: Using backend SequentialBackend with 1 concurrent workers.\n",
      "[Parallel(n_jobs=1)]: Done   1 out of   1 | elapsed:    0.0s remaining:    0.0s\n",
      "[Parallel(n_jobs=1)]: Done   2 out of   2 | elapsed:    0.0s remaining:    0.0s\n",
      "[Parallel(n_jobs=1)]: Done   3 out of   3 | elapsed:    0.0s remaining:    0.0s\n",
      "[Parallel(n_jobs=1)]: Done   4 out of   4 | elapsed:    0.0s remaining:    0.0s\n"
     ]
    },
    {
     "name": "stdout",
     "output_type": "stream",
     "text": [
      "Overwriting existing file.\n",
      "Reading F:\\Documents\\Science\\MirRevAdaptEEG\\data\\eeg\\p015\\lrp\\mra_p015_run0-epo.fif ...\n"
     ]
    },
    {
     "name": "stderr",
     "output_type": "stream",
     "text": [
      "[Parallel(n_jobs=1)]: Done 768 out of 768 | elapsed:    0.2s finished\n"
     ]
    },
    {
     "name": "stdout",
     "output_type": "stream",
     "text": [
      "    Found the data of interest:\n",
      "        t =   -2000.00 ...    1995.00 ms\n",
      "        0 CTF compensation matrices available\n",
      "Not setting metadata\n",
      "420 matching events found\n",
      "No baseline correction applied\n",
      "0 projection items activated\n",
      "Applying baseline correction (mode: mean)\n",
      "Overwriting existing file.\n",
      "Setting up low-pass filter at 30 Hz\n",
      "\n",
      "FIR filter parameters\n",
      "---------------------\n",
      "Designing a one-pass, zero-phase, non-causal lowpass filter:\n",
      "- Windowed time-domain design (firwin) method\n",
      "- Hamming window with 0.0194 passband ripple and 53 dB stopband attenuation\n",
      "- Upper passband edge: 30.00 Hz\n",
      "- Upper transition bandwidth: 7.50 Hz (-6 dB cutoff frequency: 33.75 Hz)\n",
      "- Filter length: 89 samples (0.445 sec)\n",
      "\n"
     ]
    },
    {
     "name": "stderr",
     "output_type": "stream",
     "text": [
      "[Parallel(n_jobs=1)]: Using backend SequentialBackend with 1 concurrent workers.\n",
      "[Parallel(n_jobs=1)]: Done   1 out of   1 | elapsed:    0.0s remaining:    0.0s\n",
      "[Parallel(n_jobs=1)]: Done   2 out of   2 | elapsed:    0.0s remaining:    0.0s\n",
      "[Parallel(n_jobs=1)]: Done   3 out of   3 | elapsed:    0.0s remaining:    0.0s\n",
      "[Parallel(n_jobs=1)]: Done   4 out of   4 | elapsed:    0.0s remaining:    0.0s\n"
     ]
    },
    {
     "name": "stdout",
     "output_type": "stream",
     "text": [
      "Overwriting existing file.\n",
      "Overwriting existing file.\n",
      "Setting up low-pass filter at 30 Hz\n",
      "\n",
      "FIR filter parameters\n",
      "---------------------\n",
      "Designing a one-pass, zero-phase, non-causal lowpass filter:\n",
      "- Windowed time-domain design (firwin) method\n",
      "- Hamming window with 0.0194 passband ripple and 53 dB stopband attenuation\n",
      "- Upper passband edge: 30.00 Hz\n",
      "- Upper transition bandwidth: 7.50 Hz (-6 dB cutoff frequency: 33.75 Hz)\n",
      "- Filter length: 89 samples (0.445 sec)\n",
      "\n"
     ]
    },
    {
     "name": "stderr",
     "output_type": "stream",
     "text": [
      "[Parallel(n_jobs=1)]: Done 768 out of 768 | elapsed:    0.2s finished\n",
      "[Parallel(n_jobs=1)]: Using backend SequentialBackend with 1 concurrent workers.\n",
      "[Parallel(n_jobs=1)]: Done   1 out of   1 | elapsed:    0.0s remaining:    0.0s\n",
      "[Parallel(n_jobs=1)]: Done   2 out of   2 | elapsed:    0.0s remaining:    0.0s\n",
      "[Parallel(n_jobs=1)]: Done   3 out of   3 | elapsed:    0.0s remaining:    0.0s\n",
      "[Parallel(n_jobs=1)]: Done   4 out of   4 | elapsed:    0.0s remaining:    0.0s\n"
     ]
    },
    {
     "name": "stdout",
     "output_type": "stream",
     "text": [
      "Overwriting existing file.\n",
      "Reading F:\\Documents\\Science\\MirRevAdaptEEG\\data\\eeg\\p016\\lrp\\mra_p016_run0-epo.fif ...\n"
     ]
    },
    {
     "name": "stderr",
     "output_type": "stream",
     "text": [
      "[Parallel(n_jobs=1)]: Done 768 out of 768 | elapsed:    0.2s finished\n"
     ]
    },
    {
     "name": "stdout",
     "output_type": "stream",
     "text": [
      "    Found the data of interest:\n",
      "        t =   -2000.00 ...    1995.00 ms\n",
      "        0 CTF compensation matrices available\n",
      "Not setting metadata\n",
      "418 matching events found\n",
      "No baseline correction applied\n",
      "0 projection items activated\n",
      "Applying baseline correction (mode: mean)\n",
      "Overwriting existing file.\n",
      "Setting up low-pass filter at 30 Hz\n",
      "\n",
      "FIR filter parameters\n",
      "---------------------\n",
      "Designing a one-pass, zero-phase, non-causal lowpass filter:\n",
      "- Windowed time-domain design (firwin) method\n",
      "- Hamming window with 0.0194 passband ripple and 53 dB stopband attenuation\n",
      "- Upper passband edge: 30.00 Hz\n",
      "- Upper transition bandwidth: 7.50 Hz (-6 dB cutoff frequency: 33.75 Hz)\n",
      "- Filter length: 89 samples (0.445 sec)\n",
      "\n"
     ]
    },
    {
     "name": "stderr",
     "output_type": "stream",
     "text": [
      "[Parallel(n_jobs=1)]: Using backend SequentialBackend with 1 concurrent workers.\n",
      "[Parallel(n_jobs=1)]: Done   1 out of   1 | elapsed:    0.0s remaining:    0.0s\n",
      "[Parallel(n_jobs=1)]: Done   2 out of   2 | elapsed:    0.0s remaining:    0.0s\n",
      "[Parallel(n_jobs=1)]: Done   3 out of   3 | elapsed:    0.0s remaining:    0.0s\n",
      "[Parallel(n_jobs=1)]: Done   4 out of   4 | elapsed:    0.0s remaining:    0.0s\n"
     ]
    },
    {
     "name": "stdout",
     "output_type": "stream",
     "text": [
      "Overwriting existing file.\n",
      "Overwriting existing file.\n",
      "Setting up low-pass filter at 30 Hz\n",
      "\n",
      "FIR filter parameters\n",
      "---------------------\n",
      "Designing a one-pass, zero-phase, non-causal lowpass filter:\n",
      "- Windowed time-domain design (firwin) method\n",
      "- Hamming window with 0.0194 passband ripple and 53 dB stopband attenuation\n",
      "- Upper passband edge: 30.00 Hz\n",
      "- Upper transition bandwidth: 7.50 Hz (-6 dB cutoff frequency: 33.75 Hz)\n",
      "- Filter length: 89 samples (0.445 sec)\n",
      "\n"
     ]
    },
    {
     "name": "stderr",
     "output_type": "stream",
     "text": [
      "[Parallel(n_jobs=1)]: Done 768 out of 768 | elapsed:    0.2s finished\n",
      "[Parallel(n_jobs=1)]: Using backend SequentialBackend with 1 concurrent workers.\n",
      "[Parallel(n_jobs=1)]: Done   1 out of   1 | elapsed:    0.0s remaining:    0.0s\n",
      "[Parallel(n_jobs=1)]: Done   2 out of   2 | elapsed:    0.0s remaining:    0.0s\n",
      "[Parallel(n_jobs=1)]: Done   3 out of   3 | elapsed:    0.0s remaining:    0.0s\n",
      "[Parallel(n_jobs=1)]: Done   4 out of   4 | elapsed:    0.0s remaining:    0.0s\n"
     ]
    },
    {
     "name": "stdout",
     "output_type": "stream",
     "text": [
      "Overwriting existing file.\n",
      "Reading F:\\Documents\\Science\\MirRevAdaptEEG\\data\\eeg\\p017\\lrp\\mra_p017_run0-epo.fif ...\n"
     ]
    },
    {
     "name": "stderr",
     "output_type": "stream",
     "text": [
      "[Parallel(n_jobs=1)]: Done 768 out of 768 | elapsed:    0.2s finished\n"
     ]
    },
    {
     "name": "stdout",
     "output_type": "stream",
     "text": [
      "    Found the data of interest:\n",
      "        t =   -2000.00 ...    1995.00 ms\n",
      "        0 CTF compensation matrices available\n",
      "Not setting metadata\n",
      "418 matching events found\n",
      "No baseline correction applied\n",
      "0 projection items activated\n",
      "Applying baseline correction (mode: mean)\n",
      "Overwriting existing file.\n",
      "Setting up low-pass filter at 30 Hz\n",
      "\n",
      "FIR filter parameters\n",
      "---------------------\n",
      "Designing a one-pass, zero-phase, non-causal lowpass filter:\n",
      "- Windowed time-domain design (firwin) method\n",
      "- Hamming window with 0.0194 passband ripple and 53 dB stopband attenuation\n",
      "- Upper passband edge: 30.00 Hz\n",
      "- Upper transition bandwidth: 7.50 Hz (-6 dB cutoff frequency: 33.75 Hz)\n",
      "- Filter length: 89 samples (0.445 sec)\n",
      "\n"
     ]
    },
    {
     "name": "stderr",
     "output_type": "stream",
     "text": [
      "[Parallel(n_jobs=1)]: Using backend SequentialBackend with 1 concurrent workers.\n",
      "[Parallel(n_jobs=1)]: Done   1 out of   1 | elapsed:    0.0s remaining:    0.0s\n",
      "[Parallel(n_jobs=1)]: Done   2 out of   2 | elapsed:    0.0s remaining:    0.0s\n",
      "[Parallel(n_jobs=1)]: Done   3 out of   3 | elapsed:    0.0s remaining:    0.0s\n",
      "[Parallel(n_jobs=1)]: Done   4 out of   4 | elapsed:    0.0s remaining:    0.0s\n"
     ]
    },
    {
     "name": "stdout",
     "output_type": "stream",
     "text": [
      "Overwriting existing file.\n",
      "Overwriting existing file.\n",
      "Setting up low-pass filter at 30 Hz\n",
      "\n",
      "FIR filter parameters\n",
      "---------------------\n",
      "Designing a one-pass, zero-phase, non-causal lowpass filter:\n",
      "- Windowed time-domain design (firwin) method\n",
      "- Hamming window with 0.0194 passband ripple and 53 dB stopband attenuation\n",
      "- Upper passband edge: 30.00 Hz\n",
      "- Upper transition bandwidth: 7.50 Hz (-6 dB cutoff frequency: 33.75 Hz)\n",
      "- Filter length: 89 samples (0.445 sec)\n",
      "\n"
     ]
    },
    {
     "name": "stderr",
     "output_type": "stream",
     "text": [
      "[Parallel(n_jobs=1)]: Done 768 out of 768 | elapsed:    0.2s finished\n",
      "[Parallel(n_jobs=1)]: Using backend SequentialBackend with 1 concurrent workers.\n",
      "[Parallel(n_jobs=1)]: Done   1 out of   1 | elapsed:    0.0s remaining:    0.0s\n",
      "[Parallel(n_jobs=1)]: Done   2 out of   2 | elapsed:    0.0s remaining:    0.0s\n",
      "[Parallel(n_jobs=1)]: Done   3 out of   3 | elapsed:    0.0s remaining:    0.0s\n",
      "[Parallel(n_jobs=1)]: Done   4 out of   4 | elapsed:    0.0s remaining:    0.0s\n"
     ]
    },
    {
     "name": "stdout",
     "output_type": "stream",
     "text": [
      "Overwriting existing file.\n",
      "Reading F:\\Documents\\Science\\MirRevAdaptEEG\\data\\eeg\\p018\\lrp\\mra_p018_run0-epo.fif ...\n"
     ]
    },
    {
     "name": "stderr",
     "output_type": "stream",
     "text": [
      "[Parallel(n_jobs=1)]: Done 768 out of 768 | elapsed:    0.2s finished\n"
     ]
    },
    {
     "name": "stdout",
     "output_type": "stream",
     "text": [
      "    Found the data of interest:\n",
      "        t =   -2000.00 ...    1995.00 ms\n",
      "        0 CTF compensation matrices available\n",
      "Not setting metadata\n",
      "419 matching events found\n",
      "No baseline correction applied\n",
      "0 projection items activated\n",
      "Applying baseline correction (mode: mean)\n",
      "Overwriting existing file.\n",
      "Setting up low-pass filter at 30 Hz\n",
      "\n",
      "FIR filter parameters\n",
      "---------------------\n",
      "Designing a one-pass, zero-phase, non-causal lowpass filter:\n",
      "- Windowed time-domain design (firwin) method\n",
      "- Hamming window with 0.0194 passband ripple and 53 dB stopband attenuation\n",
      "- Upper passband edge: 30.00 Hz\n",
      "- Upper transition bandwidth: 7.50 Hz (-6 dB cutoff frequency: 33.75 Hz)\n",
      "- Filter length: 89 samples (0.445 sec)\n",
      "\n"
     ]
    },
    {
     "name": "stderr",
     "output_type": "stream",
     "text": [
      "[Parallel(n_jobs=1)]: Using backend SequentialBackend with 1 concurrent workers.\n",
      "[Parallel(n_jobs=1)]: Done   1 out of   1 | elapsed:    0.0s remaining:    0.0s\n",
      "[Parallel(n_jobs=1)]: Done   2 out of   2 | elapsed:    0.0s remaining:    0.0s\n",
      "[Parallel(n_jobs=1)]: Done   3 out of   3 | elapsed:    0.0s remaining:    0.0s\n",
      "[Parallel(n_jobs=1)]: Done   4 out of   4 | elapsed:    0.0s remaining:    0.0s\n"
     ]
    },
    {
     "name": "stdout",
     "output_type": "stream",
     "text": [
      "Overwriting existing file.\n",
      "Overwriting existing file.\n",
      "Setting up low-pass filter at 30 Hz\n",
      "\n",
      "FIR filter parameters\n",
      "---------------------\n",
      "Designing a one-pass, zero-phase, non-causal lowpass filter:\n",
      "- Windowed time-domain design (firwin) method\n",
      "- Hamming window with 0.0194 passband ripple and 53 dB stopband attenuation\n",
      "- Upper passband edge: 30.00 Hz\n",
      "- Upper transition bandwidth: 7.50 Hz (-6 dB cutoff frequency: 33.75 Hz)\n",
      "- Filter length: 89 samples (0.445 sec)\n",
      "\n"
     ]
    },
    {
     "name": "stderr",
     "output_type": "stream",
     "text": [
      "[Parallel(n_jobs=1)]: Done 768 out of 768 | elapsed:    0.2s finished\n",
      "[Parallel(n_jobs=1)]: Using backend SequentialBackend with 1 concurrent workers.\n",
      "[Parallel(n_jobs=1)]: Done   1 out of   1 | elapsed:    0.0s remaining:    0.0s\n",
      "[Parallel(n_jobs=1)]: Done   2 out of   2 | elapsed:    0.0s remaining:    0.0s\n",
      "[Parallel(n_jobs=1)]: Done   3 out of   3 | elapsed:    0.0s remaining:    0.0s\n",
      "[Parallel(n_jobs=1)]: Done   4 out of   4 | elapsed:    0.0s remaining:    0.0s\n"
     ]
    },
    {
     "name": "stdout",
     "output_type": "stream",
     "text": [
      "Overwriting existing file.\n",
      "Reading F:\\Documents\\Science\\MirRevAdaptEEG\\data\\eeg\\p019\\lrp\\mra_p019_run0-epo.fif ...\n"
     ]
    },
    {
     "name": "stderr",
     "output_type": "stream",
     "text": [
      "[Parallel(n_jobs=1)]: Done 768 out of 768 | elapsed:    0.2s finished\n"
     ]
    },
    {
     "name": "stdout",
     "output_type": "stream",
     "text": [
      "    Found the data of interest:\n",
      "        t =   -2000.00 ...    1995.00 ms\n",
      "        0 CTF compensation matrices available\n",
      "Not setting metadata\n",
      "419 matching events found\n",
      "No baseline correction applied\n",
      "0 projection items activated\n",
      "Applying baseline correction (mode: mean)\n",
      "Overwriting existing file.\n",
      "Setting up low-pass filter at 30 Hz\n",
      "\n",
      "FIR filter parameters\n",
      "---------------------\n",
      "Designing a one-pass, zero-phase, non-causal lowpass filter:\n",
      "- Windowed time-domain design (firwin) method\n",
      "- Hamming window with 0.0194 passband ripple and 53 dB stopband attenuation\n",
      "- Upper passband edge: 30.00 Hz\n",
      "- Upper transition bandwidth: 7.50 Hz (-6 dB cutoff frequency: 33.75 Hz)\n",
      "- Filter length: 89 samples (0.445 sec)\n",
      "\n"
     ]
    },
    {
     "name": "stderr",
     "output_type": "stream",
     "text": [
      "[Parallel(n_jobs=1)]: Using backend SequentialBackend with 1 concurrent workers.\n",
      "[Parallel(n_jobs=1)]: Done   1 out of   1 | elapsed:    0.0s remaining:    0.0s\n",
      "[Parallel(n_jobs=1)]: Done   2 out of   2 | elapsed:    0.0s remaining:    0.0s\n",
      "[Parallel(n_jobs=1)]: Done   3 out of   3 | elapsed:    0.0s remaining:    0.0s\n",
      "[Parallel(n_jobs=1)]: Done   4 out of   4 | elapsed:    0.0s remaining:    0.0s\n"
     ]
    },
    {
     "name": "stdout",
     "output_type": "stream",
     "text": [
      "Overwriting existing file.\n",
      "Overwriting existing file.\n",
      "Setting up low-pass filter at 30 Hz\n",
      "\n",
      "FIR filter parameters\n",
      "---------------------\n",
      "Designing a one-pass, zero-phase, non-causal lowpass filter:\n",
      "- Windowed time-domain design (firwin) method\n",
      "- Hamming window with 0.0194 passband ripple and 53 dB stopband attenuation\n",
      "- Upper passband edge: 30.00 Hz\n",
      "- Upper transition bandwidth: 7.50 Hz (-6 dB cutoff frequency: 33.75 Hz)\n",
      "- Filter length: 89 samples (0.445 sec)\n",
      "\n"
     ]
    },
    {
     "name": "stderr",
     "output_type": "stream",
     "text": [
      "[Parallel(n_jobs=1)]: Done 768 out of 768 | elapsed:    0.2s finished\n",
      "[Parallel(n_jobs=1)]: Using backend SequentialBackend with 1 concurrent workers.\n",
      "[Parallel(n_jobs=1)]: Done   1 out of   1 | elapsed:    0.0s remaining:    0.0s\n",
      "[Parallel(n_jobs=1)]: Done   2 out of   2 | elapsed:    0.0s remaining:    0.0s\n",
      "[Parallel(n_jobs=1)]: Done   3 out of   3 | elapsed:    0.0s remaining:    0.0s\n",
      "[Parallel(n_jobs=1)]: Done   4 out of   4 | elapsed:    0.0s remaining:    0.0s\n"
     ]
    },
    {
     "name": "stdout",
     "output_type": "stream",
     "text": [
      "Overwriting existing file.\n",
      "Reading F:\\Documents\\Science\\MirRevAdaptEEG\\data\\eeg\\p020\\lrp\\mra_p020_run0-epo.fif ...\n"
     ]
    },
    {
     "name": "stderr",
     "output_type": "stream",
     "text": [
      "[Parallel(n_jobs=1)]: Done 768 out of 768 | elapsed:    0.2s finished\n"
     ]
    },
    {
     "name": "stdout",
     "output_type": "stream",
     "text": [
      "    Found the data of interest:\n",
      "        t =   -2000.00 ...    1995.00 ms\n",
      "        0 CTF compensation matrices available\n",
      "Not setting metadata\n",
      "420 matching events found\n",
      "No baseline correction applied\n",
      "0 projection items activated\n",
      "Applying baseline correction (mode: mean)\n",
      "Overwriting existing file.\n",
      "Setting up low-pass filter at 30 Hz\n",
      "\n",
      "FIR filter parameters\n",
      "---------------------\n",
      "Designing a one-pass, zero-phase, non-causal lowpass filter:\n",
      "- Windowed time-domain design (firwin) method\n",
      "- Hamming window with 0.0194 passband ripple and 53 dB stopband attenuation\n",
      "- Upper passband edge: 30.00 Hz\n",
      "- Upper transition bandwidth: 7.50 Hz (-6 dB cutoff frequency: 33.75 Hz)\n",
      "- Filter length: 89 samples (0.445 sec)\n",
      "\n"
     ]
    },
    {
     "name": "stderr",
     "output_type": "stream",
     "text": [
      "[Parallel(n_jobs=1)]: Using backend SequentialBackend with 1 concurrent workers.\n",
      "[Parallel(n_jobs=1)]: Done   1 out of   1 | elapsed:    0.0s remaining:    0.0s\n",
      "[Parallel(n_jobs=1)]: Done   2 out of   2 | elapsed:    0.0s remaining:    0.0s\n",
      "[Parallel(n_jobs=1)]: Done   3 out of   3 | elapsed:    0.0s remaining:    0.0s\n",
      "[Parallel(n_jobs=1)]: Done   4 out of   4 | elapsed:    0.0s remaining:    0.0s\n"
     ]
    },
    {
     "name": "stdout",
     "output_type": "stream",
     "text": [
      "Overwriting existing file.\n",
      "Overwriting existing file.\n",
      "Setting up low-pass filter at 30 Hz\n",
      "\n",
      "FIR filter parameters\n",
      "---------------------\n",
      "Designing a one-pass, zero-phase, non-causal lowpass filter:\n",
      "- Windowed time-domain design (firwin) method\n",
      "- Hamming window with 0.0194 passband ripple and 53 dB stopband attenuation\n",
      "- Upper passband edge: 30.00 Hz\n",
      "- Upper transition bandwidth: 7.50 Hz (-6 dB cutoff frequency: 33.75 Hz)\n",
      "- Filter length: 89 samples (0.445 sec)\n",
      "\n"
     ]
    },
    {
     "name": "stderr",
     "output_type": "stream",
     "text": [
      "[Parallel(n_jobs=1)]: Done 768 out of 768 | elapsed:    0.2s finished\n",
      "[Parallel(n_jobs=1)]: Using backend SequentialBackend with 1 concurrent workers.\n",
      "[Parallel(n_jobs=1)]: Done   1 out of   1 | elapsed:    0.0s remaining:    0.0s\n",
      "[Parallel(n_jobs=1)]: Done   2 out of   2 | elapsed:    0.0s remaining:    0.0s\n",
      "[Parallel(n_jobs=1)]: Done   3 out of   3 | elapsed:    0.0s remaining:    0.0s\n",
      "[Parallel(n_jobs=1)]: Done   4 out of   4 | elapsed:    0.0s remaining:    0.0s\n"
     ]
    },
    {
     "name": "stdout",
     "output_type": "stream",
     "text": [
      "Overwriting existing file.\n",
      "Reading F:\\Documents\\Science\\MirRevAdaptEEG\\data\\eeg\\p021\\lrp\\mra_p021_run0-epo.fif ...\n"
     ]
    },
    {
     "name": "stderr",
     "output_type": "stream",
     "text": [
      "[Parallel(n_jobs=1)]: Done 768 out of 768 | elapsed:    0.2s finished\n"
     ]
    },
    {
     "name": "stdout",
     "output_type": "stream",
     "text": [
      "    Found the data of interest:\n",
      "        t =   -2000.00 ...    1995.00 ms\n",
      "        0 CTF compensation matrices available\n",
      "Not setting metadata\n",
      "419 matching events found\n",
      "No baseline correction applied\n",
      "0 projection items activated\n",
      "Applying baseline correction (mode: mean)\n",
      "Overwriting existing file.\n",
      "Setting up low-pass filter at 30 Hz\n",
      "\n",
      "FIR filter parameters\n",
      "---------------------\n",
      "Designing a one-pass, zero-phase, non-causal lowpass filter:\n",
      "- Windowed time-domain design (firwin) method\n",
      "- Hamming window with 0.0194 passband ripple and 53 dB stopband attenuation\n",
      "- Upper passband edge: 30.00 Hz\n",
      "- Upper transition bandwidth: 7.50 Hz (-6 dB cutoff frequency: 33.75 Hz)\n",
      "- Filter length: 89 samples (0.445 sec)\n",
      "\n"
     ]
    },
    {
     "name": "stderr",
     "output_type": "stream",
     "text": [
      "[Parallel(n_jobs=1)]: Using backend SequentialBackend with 1 concurrent workers.\n",
      "[Parallel(n_jobs=1)]: Done   1 out of   1 | elapsed:    0.0s remaining:    0.0s\n",
      "[Parallel(n_jobs=1)]: Done   2 out of   2 | elapsed:    0.0s remaining:    0.0s\n",
      "[Parallel(n_jobs=1)]: Done   3 out of   3 | elapsed:    0.0s remaining:    0.0s\n",
      "[Parallel(n_jobs=1)]: Done   4 out of   4 | elapsed:    0.0s remaining:    0.0s\n"
     ]
    },
    {
     "name": "stdout",
     "output_type": "stream",
     "text": [
      "Overwriting existing file.\n",
      "Overwriting existing file.\n",
      "Setting up low-pass filter at 30 Hz\n",
      "\n",
      "FIR filter parameters\n",
      "---------------------\n",
      "Designing a one-pass, zero-phase, non-causal lowpass filter:\n",
      "- Windowed time-domain design (firwin) method\n",
      "- Hamming window with 0.0194 passband ripple and 53 dB stopband attenuation\n",
      "- Upper passband edge: 30.00 Hz\n",
      "- Upper transition bandwidth: 7.50 Hz (-6 dB cutoff frequency: 33.75 Hz)\n",
      "- Filter length: 89 samples (0.445 sec)\n",
      "\n"
     ]
    },
    {
     "name": "stderr",
     "output_type": "stream",
     "text": [
      "[Parallel(n_jobs=1)]: Done 768 out of 768 | elapsed:    0.2s finished\n",
      "[Parallel(n_jobs=1)]: Using backend SequentialBackend with 1 concurrent workers.\n",
      "[Parallel(n_jobs=1)]: Done   1 out of   1 | elapsed:    0.0s remaining:    0.0s\n",
      "[Parallel(n_jobs=1)]: Done   2 out of   2 | elapsed:    0.0s remaining:    0.0s\n",
      "[Parallel(n_jobs=1)]: Done   3 out of   3 | elapsed:    0.0s remaining:    0.0s\n",
      "[Parallel(n_jobs=1)]: Done   4 out of   4 | elapsed:    0.0s remaining:    0.0s\n"
     ]
    },
    {
     "name": "stdout",
     "output_type": "stream",
     "text": [
      "Overwriting existing file.\n",
      "Reading F:\\Documents\\Science\\MirRevAdaptEEG\\data\\eeg\\p022\\lrp\\mra_p022_run0-epo.fif ...\n"
     ]
    },
    {
     "name": "stderr",
     "output_type": "stream",
     "text": [
      "[Parallel(n_jobs=1)]: Done 768 out of 768 | elapsed:    0.2s finished\n"
     ]
    },
    {
     "name": "stdout",
     "output_type": "stream",
     "text": [
      "    Found the data of interest:\n",
      "        t =   -2000.00 ...    1995.00 ms\n",
      "        0 CTF compensation matrices available\n",
      "Not setting metadata\n",
      "420 matching events found\n",
      "No baseline correction applied\n",
      "0 projection items activated\n",
      "Applying baseline correction (mode: mean)\n",
      "Overwriting existing file.\n",
      "Setting up low-pass filter at 30 Hz\n",
      "\n",
      "FIR filter parameters\n",
      "---------------------\n",
      "Designing a one-pass, zero-phase, non-causal lowpass filter:\n",
      "- Windowed time-domain design (firwin) method\n",
      "- Hamming window with 0.0194 passband ripple and 53 dB stopband attenuation\n",
      "- Upper passband edge: 30.00 Hz\n",
      "- Upper transition bandwidth: 7.50 Hz (-6 dB cutoff frequency: 33.75 Hz)\n",
      "- Filter length: 89 samples (0.445 sec)\n",
      "\n"
     ]
    },
    {
     "name": "stderr",
     "output_type": "stream",
     "text": [
      "[Parallel(n_jobs=1)]: Using backend SequentialBackend with 1 concurrent workers.\n",
      "[Parallel(n_jobs=1)]: Done   1 out of   1 | elapsed:    0.0s remaining:    0.0s\n",
      "[Parallel(n_jobs=1)]: Done   2 out of   2 | elapsed:    0.0s remaining:    0.0s\n",
      "[Parallel(n_jobs=1)]: Done   3 out of   3 | elapsed:    0.0s remaining:    0.0s\n",
      "[Parallel(n_jobs=1)]: Done   4 out of   4 | elapsed:    0.0s remaining:    0.0s\n"
     ]
    },
    {
     "name": "stdout",
     "output_type": "stream",
     "text": [
      "Overwriting existing file.\n",
      "Overwriting existing file.\n",
      "Setting up low-pass filter at 30 Hz\n",
      "\n",
      "FIR filter parameters\n",
      "---------------------\n",
      "Designing a one-pass, zero-phase, non-causal lowpass filter:\n",
      "- Windowed time-domain design (firwin) method\n",
      "- Hamming window with 0.0194 passband ripple and 53 dB stopband attenuation\n",
      "- Upper passband edge: 30.00 Hz\n",
      "- Upper transition bandwidth: 7.50 Hz (-6 dB cutoff frequency: 33.75 Hz)\n",
      "- Filter length: 89 samples (0.445 sec)\n",
      "\n"
     ]
    },
    {
     "name": "stderr",
     "output_type": "stream",
     "text": [
      "[Parallel(n_jobs=1)]: Done 768 out of 768 | elapsed:    0.2s finished\n",
      "[Parallel(n_jobs=1)]: Using backend SequentialBackend with 1 concurrent workers.\n",
      "[Parallel(n_jobs=1)]: Done   1 out of   1 | elapsed:    0.0s remaining:    0.0s\n",
      "[Parallel(n_jobs=1)]: Done   2 out of   2 | elapsed:    0.0s remaining:    0.0s\n",
      "[Parallel(n_jobs=1)]: Done   3 out of   3 | elapsed:    0.0s remaining:    0.0s\n",
      "[Parallel(n_jobs=1)]: Done   4 out of   4 | elapsed:    0.0s remaining:    0.0s\n"
     ]
    },
    {
     "name": "stdout",
     "output_type": "stream",
     "text": [
      "Overwriting existing file.\n",
      "Reading F:\\Documents\\Science\\MirRevAdaptEEG\\data\\eeg\\p023\\lrp\\mra_p023_run0-epo.fif ...\n"
     ]
    },
    {
     "name": "stderr",
     "output_type": "stream",
     "text": [
      "[Parallel(n_jobs=1)]: Done 768 out of 768 | elapsed:    0.2s finished\n"
     ]
    },
    {
     "name": "stdout",
     "output_type": "stream",
     "text": [
      "    Found the data of interest:\n",
      "        t =   -2000.00 ...    1995.00 ms\n",
      "        0 CTF compensation matrices available\n",
      "Not setting metadata\n",
      "420 matching events found\n",
      "No baseline correction applied\n",
      "0 projection items activated\n",
      "Applying baseline correction (mode: mean)\n",
      "Overwriting existing file.\n",
      "Setting up low-pass filter at 30 Hz\n",
      "\n",
      "FIR filter parameters\n",
      "---------------------\n",
      "Designing a one-pass, zero-phase, non-causal lowpass filter:\n",
      "- Windowed time-domain design (firwin) method\n",
      "- Hamming window with 0.0194 passband ripple and 53 dB stopband attenuation\n",
      "- Upper passband edge: 30.00 Hz\n",
      "- Upper transition bandwidth: 7.50 Hz (-6 dB cutoff frequency: 33.75 Hz)\n",
      "- Filter length: 89 samples (0.445 sec)\n",
      "\n"
     ]
    },
    {
     "name": "stderr",
     "output_type": "stream",
     "text": [
      "[Parallel(n_jobs=1)]: Using backend SequentialBackend with 1 concurrent workers.\n",
      "[Parallel(n_jobs=1)]: Done   1 out of   1 | elapsed:    0.0s remaining:    0.0s\n",
      "[Parallel(n_jobs=1)]: Done   2 out of   2 | elapsed:    0.0s remaining:    0.0s\n",
      "[Parallel(n_jobs=1)]: Done   3 out of   3 | elapsed:    0.0s remaining:    0.0s\n",
      "[Parallel(n_jobs=1)]: Done   4 out of   4 | elapsed:    0.0s remaining:    0.0s\n"
     ]
    },
    {
     "name": "stdout",
     "output_type": "stream",
     "text": [
      "Overwriting existing file.\n",
      "Overwriting existing file.\n",
      "Setting up low-pass filter at 30 Hz\n",
      "\n",
      "FIR filter parameters\n",
      "---------------------\n",
      "Designing a one-pass, zero-phase, non-causal lowpass filter:\n",
      "- Windowed time-domain design (firwin) method\n",
      "- Hamming window with 0.0194 passband ripple and 53 dB stopband attenuation\n",
      "- Upper passband edge: 30.00 Hz\n",
      "- Upper transition bandwidth: 7.50 Hz (-6 dB cutoff frequency: 33.75 Hz)\n",
      "- Filter length: 89 samples (0.445 sec)\n",
      "\n"
     ]
    },
    {
     "name": "stderr",
     "output_type": "stream",
     "text": [
      "[Parallel(n_jobs=1)]: Done 768 out of 768 | elapsed:    0.2s finished\n",
      "[Parallel(n_jobs=1)]: Using backend SequentialBackend with 1 concurrent workers.\n",
      "[Parallel(n_jobs=1)]: Done   1 out of   1 | elapsed:    0.0s remaining:    0.0s\n",
      "[Parallel(n_jobs=1)]: Done   2 out of   2 | elapsed:    0.0s remaining:    0.0s\n",
      "[Parallel(n_jobs=1)]: Done   3 out of   3 | elapsed:    0.0s remaining:    0.0s\n",
      "[Parallel(n_jobs=1)]: Done   4 out of   4 | elapsed:    0.0s remaining:    0.0s\n"
     ]
    },
    {
     "name": "stdout",
     "output_type": "stream",
     "text": [
      "Overwriting existing file.\n",
      "Reading F:\\Documents\\Science\\MirRevAdaptEEG\\data\\eeg\\p024\\lrp\\mra_p024_run0-epo.fif ...\n"
     ]
    },
    {
     "name": "stderr",
     "output_type": "stream",
     "text": [
      "[Parallel(n_jobs=1)]: Done 768 out of 768 | elapsed:    0.2s finished\n"
     ]
    },
    {
     "name": "stdout",
     "output_type": "stream",
     "text": [
      "    Found the data of interest:\n",
      "        t =   -2000.00 ...    1995.00 ms\n",
      "        0 CTF compensation matrices available\n",
      "Not setting metadata\n",
      "420 matching events found\n",
      "No baseline correction applied\n",
      "0 projection items activated\n",
      "Applying baseline correction (mode: mean)\n",
      "Overwriting existing file.\n",
      "Setting up low-pass filter at 30 Hz\n",
      "\n",
      "FIR filter parameters\n",
      "---------------------\n",
      "Designing a one-pass, zero-phase, non-causal lowpass filter:\n",
      "- Windowed time-domain design (firwin) method\n",
      "- Hamming window with 0.0194 passband ripple and 53 dB stopband attenuation\n",
      "- Upper passband edge: 30.00 Hz\n",
      "- Upper transition bandwidth: 7.50 Hz (-6 dB cutoff frequency: 33.75 Hz)\n",
      "- Filter length: 89 samples (0.445 sec)\n",
      "\n"
     ]
    },
    {
     "name": "stderr",
     "output_type": "stream",
     "text": [
      "[Parallel(n_jobs=1)]: Using backend SequentialBackend with 1 concurrent workers.\n",
      "[Parallel(n_jobs=1)]: Done   1 out of   1 | elapsed:    0.0s remaining:    0.0s\n",
      "[Parallel(n_jobs=1)]: Done   2 out of   2 | elapsed:    0.0s remaining:    0.0s\n",
      "[Parallel(n_jobs=1)]: Done   3 out of   3 | elapsed:    0.0s remaining:    0.0s\n",
      "[Parallel(n_jobs=1)]: Done   4 out of   4 | elapsed:    0.0s remaining:    0.0s\n"
     ]
    },
    {
     "name": "stdout",
     "output_type": "stream",
     "text": [
      "Overwriting existing file.\n",
      "Overwriting existing file.\n",
      "Setting up low-pass filter at 30 Hz\n",
      "\n",
      "FIR filter parameters\n",
      "---------------------\n",
      "Designing a one-pass, zero-phase, non-causal lowpass filter:\n",
      "- Windowed time-domain design (firwin) method\n",
      "- Hamming window with 0.0194 passband ripple and 53 dB stopband attenuation\n",
      "- Upper passband edge: 30.00 Hz\n",
      "- Upper transition bandwidth: 7.50 Hz (-6 dB cutoff frequency: 33.75 Hz)\n",
      "- Filter length: 89 samples (0.445 sec)\n",
      "\n"
     ]
    },
    {
     "name": "stderr",
     "output_type": "stream",
     "text": [
      "[Parallel(n_jobs=1)]: Done 768 out of 768 | elapsed:    0.2s finished\n",
      "[Parallel(n_jobs=1)]: Using backend SequentialBackend with 1 concurrent workers.\n",
      "[Parallel(n_jobs=1)]: Done   1 out of   1 | elapsed:    0.0s remaining:    0.0s\n",
      "[Parallel(n_jobs=1)]: Done   2 out of   2 | elapsed:    0.0s remaining:    0.0s\n",
      "[Parallel(n_jobs=1)]: Done   3 out of   3 | elapsed:    0.0s remaining:    0.0s\n",
      "[Parallel(n_jobs=1)]: Done   4 out of   4 | elapsed:    0.0s remaining:    0.0s\n"
     ]
    },
    {
     "name": "stdout",
     "output_type": "stream",
     "text": [
      "Overwriting existing file.\n",
      "Reading F:\\Documents\\Science\\MirRevAdaptEEG\\data\\eeg\\p025\\lrp\\mra_p025_run0-epo.fif ...\n"
     ]
    },
    {
     "name": "stderr",
     "output_type": "stream",
     "text": [
      "[Parallel(n_jobs=1)]: Done 768 out of 768 | elapsed:    0.2s finished\n"
     ]
    },
    {
     "name": "stdout",
     "output_type": "stream",
     "text": [
      "    Found the data of interest:\n",
      "        t =   -2000.00 ...    1995.00 ms\n",
      "        0 CTF compensation matrices available\n",
      "Not setting metadata\n",
      "420 matching events found\n",
      "No baseline correction applied\n",
      "0 projection items activated\n",
      "Applying baseline correction (mode: mean)\n",
      "Overwriting existing file.\n",
      "Setting up low-pass filter at 30 Hz\n",
      "\n",
      "FIR filter parameters\n",
      "---------------------\n",
      "Designing a one-pass, zero-phase, non-causal lowpass filter:\n",
      "- Windowed time-domain design (firwin) method\n",
      "- Hamming window with 0.0194 passband ripple and 53 dB stopband attenuation\n",
      "- Upper passband edge: 30.00 Hz\n",
      "- Upper transition bandwidth: 7.50 Hz (-6 dB cutoff frequency: 33.75 Hz)\n",
      "- Filter length: 89 samples (0.445 sec)\n",
      "\n"
     ]
    },
    {
     "name": "stderr",
     "output_type": "stream",
     "text": [
      "[Parallel(n_jobs=1)]: Using backend SequentialBackend with 1 concurrent workers.\n",
      "[Parallel(n_jobs=1)]: Done   1 out of   1 | elapsed:    0.0s remaining:    0.0s\n",
      "[Parallel(n_jobs=1)]: Done   2 out of   2 | elapsed:    0.0s remaining:    0.0s\n",
      "[Parallel(n_jobs=1)]: Done   3 out of   3 | elapsed:    0.0s remaining:    0.0s\n",
      "[Parallel(n_jobs=1)]: Done   4 out of   4 | elapsed:    0.0s remaining:    0.0s\n"
     ]
    },
    {
     "name": "stdout",
     "output_type": "stream",
     "text": [
      "Overwriting existing file.\n",
      "Overwriting existing file.\n",
      "Setting up low-pass filter at 30 Hz\n",
      "\n",
      "FIR filter parameters\n",
      "---------------------\n",
      "Designing a one-pass, zero-phase, non-causal lowpass filter:\n",
      "- Windowed time-domain design (firwin) method\n",
      "- Hamming window with 0.0194 passband ripple and 53 dB stopband attenuation\n",
      "- Upper passband edge: 30.00 Hz\n",
      "- Upper transition bandwidth: 7.50 Hz (-6 dB cutoff frequency: 33.75 Hz)\n",
      "- Filter length: 89 samples (0.445 sec)\n",
      "\n"
     ]
    },
    {
     "name": "stderr",
     "output_type": "stream",
     "text": [
      "[Parallel(n_jobs=1)]: Done 768 out of 768 | elapsed:    0.2s finished\n",
      "[Parallel(n_jobs=1)]: Using backend SequentialBackend with 1 concurrent workers.\n",
      "[Parallel(n_jobs=1)]: Done   1 out of   1 | elapsed:    0.0s remaining:    0.0s\n",
      "[Parallel(n_jobs=1)]: Done   2 out of   2 | elapsed:    0.0s remaining:    0.0s\n",
      "[Parallel(n_jobs=1)]: Done   3 out of   3 | elapsed:    0.0s remaining:    0.0s\n",
      "[Parallel(n_jobs=1)]: Done   4 out of   4 | elapsed:    0.0s remaining:    0.0s\n"
     ]
    },
    {
     "name": "stdout",
     "output_type": "stream",
     "text": [
      "Overwriting existing file.\n",
      "Reading F:\\Documents\\Science\\MirRevAdaptEEG\\data\\eeg\\p026\\lrp\\mra_p026_run0-epo.fif ...\n"
     ]
    },
    {
     "name": "stderr",
     "output_type": "stream",
     "text": [
      "[Parallel(n_jobs=1)]: Done 768 out of 768 | elapsed:    0.2s finished\n"
     ]
    },
    {
     "name": "stdout",
     "output_type": "stream",
     "text": [
      "    Found the data of interest:\n",
      "        t =   -2000.00 ...    1995.00 ms\n",
      "        0 CTF compensation matrices available\n",
      "Not setting metadata\n",
      "420 matching events found\n",
      "No baseline correction applied\n",
      "0 projection items activated\n",
      "Applying baseline correction (mode: mean)\n",
      "Overwriting existing file.\n",
      "Setting up low-pass filter at 30 Hz\n",
      "\n",
      "FIR filter parameters\n",
      "---------------------\n",
      "Designing a one-pass, zero-phase, non-causal lowpass filter:\n",
      "- Windowed time-domain design (firwin) method\n",
      "- Hamming window with 0.0194 passband ripple and 53 dB stopband attenuation\n",
      "- Upper passband edge: 30.00 Hz\n",
      "- Upper transition bandwidth: 7.50 Hz (-6 dB cutoff frequency: 33.75 Hz)\n",
      "- Filter length: 89 samples (0.445 sec)\n",
      "\n"
     ]
    },
    {
     "name": "stderr",
     "output_type": "stream",
     "text": [
      "[Parallel(n_jobs=1)]: Using backend SequentialBackend with 1 concurrent workers.\n",
      "[Parallel(n_jobs=1)]: Done   1 out of   1 | elapsed:    0.0s remaining:    0.0s\n",
      "[Parallel(n_jobs=1)]: Done   2 out of   2 | elapsed:    0.0s remaining:    0.0s\n",
      "[Parallel(n_jobs=1)]: Done   3 out of   3 | elapsed:    0.0s remaining:    0.0s\n",
      "[Parallel(n_jobs=1)]: Done   4 out of   4 | elapsed:    0.0s remaining:    0.0s\n"
     ]
    },
    {
     "name": "stdout",
     "output_type": "stream",
     "text": [
      "Overwriting existing file.\n",
      "Overwriting existing file.\n",
      "Setting up low-pass filter at 30 Hz\n",
      "\n",
      "FIR filter parameters\n",
      "---------------------\n",
      "Designing a one-pass, zero-phase, non-causal lowpass filter:\n",
      "- Windowed time-domain design (firwin) method\n",
      "- Hamming window with 0.0194 passband ripple and 53 dB stopband attenuation\n",
      "- Upper passband edge: 30.00 Hz\n",
      "- Upper transition bandwidth: 7.50 Hz (-6 dB cutoff frequency: 33.75 Hz)\n",
      "- Filter length: 89 samples (0.445 sec)\n",
      "\n"
     ]
    },
    {
     "name": "stderr",
     "output_type": "stream",
     "text": [
      "[Parallel(n_jobs=1)]: Done 768 out of 768 | elapsed:    0.2s finished\n",
      "[Parallel(n_jobs=1)]: Using backend SequentialBackend with 1 concurrent workers.\n",
      "[Parallel(n_jobs=1)]: Done   1 out of   1 | elapsed:    0.0s remaining:    0.0s\n",
      "[Parallel(n_jobs=1)]: Done   2 out of   2 | elapsed:    0.0s remaining:    0.0s\n",
      "[Parallel(n_jobs=1)]: Done   3 out of   3 | elapsed:    0.0s remaining:    0.0s\n",
      "[Parallel(n_jobs=1)]: Done   4 out of   4 | elapsed:    0.0s remaining:    0.0s\n"
     ]
    },
    {
     "name": "stdout",
     "output_type": "stream",
     "text": [
      "Overwriting existing file.\n",
      "Reading F:\\Documents\\Science\\MirRevAdaptEEG\\data\\eeg\\p027\\lrp\\mra_p027_run0-epo.fif ...\n"
     ]
    },
    {
     "name": "stderr",
     "output_type": "stream",
     "text": [
      "[Parallel(n_jobs=1)]: Done 768 out of 768 | elapsed:    0.2s finished\n"
     ]
    },
    {
     "name": "stdout",
     "output_type": "stream",
     "text": [
      "    Found the data of interest:\n",
      "        t =   -2000.00 ...    1995.00 ms\n",
      "        0 CTF compensation matrices available\n",
      "Not setting metadata\n",
      "419 matching events found\n",
      "No baseline correction applied\n",
      "0 projection items activated\n",
      "Applying baseline correction (mode: mean)\n",
      "Overwriting existing file.\n",
      "Setting up low-pass filter at 30 Hz\n",
      "\n",
      "FIR filter parameters\n",
      "---------------------\n",
      "Designing a one-pass, zero-phase, non-causal lowpass filter:\n",
      "- Windowed time-domain design (firwin) method\n",
      "- Hamming window with 0.0194 passband ripple and 53 dB stopband attenuation\n",
      "- Upper passband edge: 30.00 Hz\n",
      "- Upper transition bandwidth: 7.50 Hz (-6 dB cutoff frequency: 33.75 Hz)\n",
      "- Filter length: 89 samples (0.445 sec)\n",
      "\n"
     ]
    },
    {
     "name": "stderr",
     "output_type": "stream",
     "text": [
      "[Parallel(n_jobs=1)]: Using backend SequentialBackend with 1 concurrent workers.\n",
      "[Parallel(n_jobs=1)]: Done   1 out of   1 | elapsed:    0.0s remaining:    0.0s\n",
      "[Parallel(n_jobs=1)]: Done   2 out of   2 | elapsed:    0.0s remaining:    0.0s\n",
      "[Parallel(n_jobs=1)]: Done   3 out of   3 | elapsed:    0.0s remaining:    0.0s\n",
      "[Parallel(n_jobs=1)]: Done   4 out of   4 | elapsed:    0.0s remaining:    0.0s\n"
     ]
    },
    {
     "name": "stdout",
     "output_type": "stream",
     "text": [
      "Overwriting existing file.\n",
      "Overwriting existing file.\n",
      "Setting up low-pass filter at 30 Hz\n",
      "\n",
      "FIR filter parameters\n",
      "---------------------\n",
      "Designing a one-pass, zero-phase, non-causal lowpass filter:\n",
      "- Windowed time-domain design (firwin) method\n",
      "- Hamming window with 0.0194 passband ripple and 53 dB stopband attenuation\n",
      "- Upper passband edge: 30.00 Hz\n",
      "- Upper transition bandwidth: 7.50 Hz (-6 dB cutoff frequency: 33.75 Hz)\n",
      "- Filter length: 89 samples (0.445 sec)\n",
      "\n"
     ]
    },
    {
     "name": "stderr",
     "output_type": "stream",
     "text": [
      "[Parallel(n_jobs=1)]: Done 768 out of 768 | elapsed:    0.2s finished\n",
      "[Parallel(n_jobs=1)]: Using backend SequentialBackend with 1 concurrent workers.\n",
      "[Parallel(n_jobs=1)]: Done   1 out of   1 | elapsed:    0.0s remaining:    0.0s\n",
      "[Parallel(n_jobs=1)]: Done   2 out of   2 | elapsed:    0.0s remaining:    0.0s\n",
      "[Parallel(n_jobs=1)]: Done   3 out of   3 | elapsed:    0.0s remaining:    0.0s\n",
      "[Parallel(n_jobs=1)]: Done   4 out of   4 | elapsed:    0.0s remaining:    0.0s\n"
     ]
    },
    {
     "name": "stdout",
     "output_type": "stream",
     "text": [
      "Overwriting existing file.\n",
      "Reading F:\\Documents\\Science\\MirRevAdaptEEG\\data\\eeg\\p028\\lrp\\mra_p028_run0-epo.fif ...\n"
     ]
    },
    {
     "name": "stderr",
     "output_type": "stream",
     "text": [
      "[Parallel(n_jobs=1)]: Done 768 out of 768 | elapsed:    0.2s finished\n"
     ]
    },
    {
     "name": "stdout",
     "output_type": "stream",
     "text": [
      "    Found the data of interest:\n",
      "        t =   -2000.00 ...    1995.00 ms\n",
      "        0 CTF compensation matrices available\n",
      "Not setting metadata\n",
      "420 matching events found\n",
      "No baseline correction applied\n",
      "0 projection items activated\n",
      "Applying baseline correction (mode: mean)\n",
      "Overwriting existing file.\n",
      "Setting up low-pass filter at 30 Hz\n",
      "\n",
      "FIR filter parameters\n",
      "---------------------\n",
      "Designing a one-pass, zero-phase, non-causal lowpass filter:\n",
      "- Windowed time-domain design (firwin) method\n",
      "- Hamming window with 0.0194 passband ripple and 53 dB stopband attenuation\n",
      "- Upper passband edge: 30.00 Hz\n",
      "- Upper transition bandwidth: 7.50 Hz (-6 dB cutoff frequency: 33.75 Hz)\n",
      "- Filter length: 89 samples (0.445 sec)\n",
      "\n"
     ]
    },
    {
     "name": "stderr",
     "output_type": "stream",
     "text": [
      "[Parallel(n_jobs=1)]: Using backend SequentialBackend with 1 concurrent workers.\n",
      "[Parallel(n_jobs=1)]: Done   1 out of   1 | elapsed:    0.0s remaining:    0.0s\n",
      "[Parallel(n_jobs=1)]: Done   2 out of   2 | elapsed:    0.0s remaining:    0.0s\n",
      "[Parallel(n_jobs=1)]: Done   3 out of   3 | elapsed:    0.0s remaining:    0.0s\n",
      "[Parallel(n_jobs=1)]: Done   4 out of   4 | elapsed:    0.0s remaining:    0.0s\n"
     ]
    },
    {
     "name": "stdout",
     "output_type": "stream",
     "text": [
      "Overwriting existing file.\n",
      "Overwriting existing file.\n",
      "Setting up low-pass filter at 30 Hz\n",
      "\n",
      "FIR filter parameters\n",
      "---------------------\n",
      "Designing a one-pass, zero-phase, non-causal lowpass filter:\n",
      "- Windowed time-domain design (firwin) method\n",
      "- Hamming window with 0.0194 passband ripple and 53 dB stopband attenuation\n",
      "- Upper passband edge: 30.00 Hz\n",
      "- Upper transition bandwidth: 7.50 Hz (-6 dB cutoff frequency: 33.75 Hz)\n",
      "- Filter length: 89 samples (0.445 sec)\n",
      "\n"
     ]
    },
    {
     "name": "stderr",
     "output_type": "stream",
     "text": [
      "[Parallel(n_jobs=1)]: Done 768 out of 768 | elapsed:    0.2s finished\n",
      "[Parallel(n_jobs=1)]: Using backend SequentialBackend with 1 concurrent workers.\n",
      "[Parallel(n_jobs=1)]: Done   1 out of   1 | elapsed:    0.0s remaining:    0.0s\n",
      "[Parallel(n_jobs=1)]: Done   2 out of   2 | elapsed:    0.0s remaining:    0.0s\n",
      "[Parallel(n_jobs=1)]: Done   3 out of   3 | elapsed:    0.0s remaining:    0.0s\n",
      "[Parallel(n_jobs=1)]: Done   4 out of   4 | elapsed:    0.0s remaining:    0.0s\n"
     ]
    },
    {
     "name": "stdout",
     "output_type": "stream",
     "text": [
      "Overwriting existing file.\n",
      "Reading F:\\Documents\\Science\\MirRevAdaptEEG\\data\\eeg\\p029\\lrp\\mra_p029_run0-epo.fif ...\n"
     ]
    },
    {
     "name": "stderr",
     "output_type": "stream",
     "text": [
      "[Parallel(n_jobs=1)]: Done 768 out of 768 | elapsed:    0.2s finished\n"
     ]
    },
    {
     "name": "stdout",
     "output_type": "stream",
     "text": [
      "    Found the data of interest:\n",
      "        t =   -2000.00 ...    1995.00 ms\n",
      "        0 CTF compensation matrices available\n",
      "Not setting metadata\n",
      "420 matching events found\n",
      "No baseline correction applied\n",
      "0 projection items activated\n",
      "Applying baseline correction (mode: mean)\n",
      "Overwriting existing file.\n",
      "Setting up low-pass filter at 30 Hz\n",
      "\n",
      "FIR filter parameters\n",
      "---------------------\n",
      "Designing a one-pass, zero-phase, non-causal lowpass filter:\n",
      "- Windowed time-domain design (firwin) method\n",
      "- Hamming window with 0.0194 passband ripple and 53 dB stopband attenuation\n",
      "- Upper passband edge: 30.00 Hz\n",
      "- Upper transition bandwidth: 7.50 Hz (-6 dB cutoff frequency: 33.75 Hz)\n",
      "- Filter length: 89 samples (0.445 sec)\n",
      "\n"
     ]
    },
    {
     "name": "stderr",
     "output_type": "stream",
     "text": [
      "[Parallel(n_jobs=1)]: Using backend SequentialBackend with 1 concurrent workers.\n",
      "[Parallel(n_jobs=1)]: Done   1 out of   1 | elapsed:    0.0s remaining:    0.0s\n",
      "[Parallel(n_jobs=1)]: Done   2 out of   2 | elapsed:    0.0s remaining:    0.0s\n",
      "[Parallel(n_jobs=1)]: Done   3 out of   3 | elapsed:    0.0s remaining:    0.0s\n",
      "[Parallel(n_jobs=1)]: Done   4 out of   4 | elapsed:    0.0s remaining:    0.0s\n"
     ]
    },
    {
     "name": "stdout",
     "output_type": "stream",
     "text": [
      "Overwriting existing file.\n",
      "Overwriting existing file.\n",
      "Setting up low-pass filter at 30 Hz\n",
      "\n",
      "FIR filter parameters\n",
      "---------------------\n",
      "Designing a one-pass, zero-phase, non-causal lowpass filter:\n",
      "- Windowed time-domain design (firwin) method\n",
      "- Hamming window with 0.0194 passband ripple and 53 dB stopband attenuation\n",
      "- Upper passband edge: 30.00 Hz\n",
      "- Upper transition bandwidth: 7.50 Hz (-6 dB cutoff frequency: 33.75 Hz)\n",
      "- Filter length: 89 samples (0.445 sec)\n",
      "\n"
     ]
    },
    {
     "name": "stderr",
     "output_type": "stream",
     "text": [
      "[Parallel(n_jobs=1)]: Done 768 out of 768 | elapsed:    0.2s finished\n",
      "[Parallel(n_jobs=1)]: Using backend SequentialBackend with 1 concurrent workers.\n",
      "[Parallel(n_jobs=1)]: Done   1 out of   1 | elapsed:    0.0s remaining:    0.0s\n",
      "[Parallel(n_jobs=1)]: Done   2 out of   2 | elapsed:    0.0s remaining:    0.0s\n",
      "[Parallel(n_jobs=1)]: Done   3 out of   3 | elapsed:    0.0s remaining:    0.0s\n",
      "[Parallel(n_jobs=1)]: Done   4 out of   4 | elapsed:    0.0s remaining:    0.0s\n"
     ]
    },
    {
     "name": "stdout",
     "output_type": "stream",
     "text": [
      "Overwriting existing file.\n",
      "Reading F:\\Documents\\Science\\MirRevAdaptEEG\\data\\eeg\\p030\\lrp\\mra_p030_run0-epo.fif ...\n"
     ]
    },
    {
     "name": "stderr",
     "output_type": "stream",
     "text": [
      "[Parallel(n_jobs=1)]: Done 768 out of 768 | elapsed:    0.2s finished\n"
     ]
    },
    {
     "name": "stdout",
     "output_type": "stream",
     "text": [
      "    Found the data of interest:\n",
      "        t =   -2000.00 ...    1995.00 ms\n",
      "        0 CTF compensation matrices available\n",
      "Not setting metadata\n",
      "420 matching events found\n",
      "No baseline correction applied\n",
      "0 projection items activated\n",
      "Applying baseline correction (mode: mean)\n",
      "Overwriting existing file.\n",
      "Setting up low-pass filter at 30 Hz\n",
      "\n",
      "FIR filter parameters\n",
      "---------------------\n",
      "Designing a one-pass, zero-phase, non-causal lowpass filter:\n",
      "- Windowed time-domain design (firwin) method\n",
      "- Hamming window with 0.0194 passband ripple and 53 dB stopband attenuation\n",
      "- Upper passband edge: 30.00 Hz\n",
      "- Upper transition bandwidth: 7.50 Hz (-6 dB cutoff frequency: 33.75 Hz)\n",
      "- Filter length: 89 samples (0.445 sec)\n",
      "\n"
     ]
    },
    {
     "name": "stderr",
     "output_type": "stream",
     "text": [
      "[Parallel(n_jobs=1)]: Using backend SequentialBackend with 1 concurrent workers.\n",
      "[Parallel(n_jobs=1)]: Done   1 out of   1 | elapsed:    0.0s remaining:    0.0s\n",
      "[Parallel(n_jobs=1)]: Done   2 out of   2 | elapsed:    0.0s remaining:    0.0s\n",
      "[Parallel(n_jobs=1)]: Done   3 out of   3 | elapsed:    0.0s remaining:    0.0s\n",
      "[Parallel(n_jobs=1)]: Done   4 out of   4 | elapsed:    0.0s remaining:    0.0s\n"
     ]
    },
    {
     "name": "stdout",
     "output_type": "stream",
     "text": [
      "Overwriting existing file.\n",
      "Overwriting existing file.\n",
      "Setting up low-pass filter at 30 Hz\n",
      "\n",
      "FIR filter parameters\n",
      "---------------------\n",
      "Designing a one-pass, zero-phase, non-causal lowpass filter:\n",
      "- Windowed time-domain design (firwin) method\n",
      "- Hamming window with 0.0194 passband ripple and 53 dB stopband attenuation\n",
      "- Upper passband edge: 30.00 Hz\n",
      "- Upper transition bandwidth: 7.50 Hz (-6 dB cutoff frequency: 33.75 Hz)\n",
      "- Filter length: 89 samples (0.445 sec)\n",
      "\n"
     ]
    },
    {
     "name": "stderr",
     "output_type": "stream",
     "text": [
      "[Parallel(n_jobs=1)]: Done 768 out of 768 | elapsed:    0.2s finished\n",
      "[Parallel(n_jobs=1)]: Using backend SequentialBackend with 1 concurrent workers.\n",
      "[Parallel(n_jobs=1)]: Done   1 out of   1 | elapsed:    0.0s remaining:    0.0s\n",
      "[Parallel(n_jobs=1)]: Done   2 out of   2 | elapsed:    0.0s remaining:    0.0s\n",
      "[Parallel(n_jobs=1)]: Done   3 out of   3 | elapsed:    0.0s remaining:    0.0s\n",
      "[Parallel(n_jobs=1)]: Done   4 out of   4 | elapsed:    0.0s remaining:    0.0s\n"
     ]
    },
    {
     "name": "stdout",
     "output_type": "stream",
     "text": [
      "Overwriting existing file.\n",
      "Reading F:\\Documents\\Science\\MirRevAdaptEEG\\data\\eeg\\p031\\lrp\\mra_p031_run0-epo.fif ...\n"
     ]
    },
    {
     "name": "stderr",
     "output_type": "stream",
     "text": [
      "[Parallel(n_jobs=1)]: Done 768 out of 768 | elapsed:    0.2s finished\n"
     ]
    },
    {
     "name": "stdout",
     "output_type": "stream",
     "text": [
      "    Found the data of interest:\n",
      "        t =   -2000.00 ...    1995.00 ms\n",
      "        0 CTF compensation matrices available\n",
      "Not setting metadata\n",
      "420 matching events found\n",
      "No baseline correction applied\n",
      "0 projection items activated\n",
      "Applying baseline correction (mode: mean)\n",
      "Overwriting existing file.\n",
      "Setting up low-pass filter at 30 Hz\n",
      "\n",
      "FIR filter parameters\n",
      "---------------------\n",
      "Designing a one-pass, zero-phase, non-causal lowpass filter:\n",
      "- Windowed time-domain design (firwin) method\n",
      "- Hamming window with 0.0194 passband ripple and 53 dB stopband attenuation\n",
      "- Upper passband edge: 30.00 Hz\n",
      "- Upper transition bandwidth: 7.50 Hz (-6 dB cutoff frequency: 33.75 Hz)\n",
      "- Filter length: 89 samples (0.445 sec)\n",
      "\n"
     ]
    },
    {
     "name": "stderr",
     "output_type": "stream",
     "text": [
      "[Parallel(n_jobs=1)]: Using backend SequentialBackend with 1 concurrent workers.\n",
      "[Parallel(n_jobs=1)]: Done   1 out of   1 | elapsed:    0.0s remaining:    0.0s\n",
      "[Parallel(n_jobs=1)]: Done   2 out of   2 | elapsed:    0.0s remaining:    0.0s\n",
      "[Parallel(n_jobs=1)]: Done   3 out of   3 | elapsed:    0.0s remaining:    0.0s\n",
      "[Parallel(n_jobs=1)]: Done   4 out of   4 | elapsed:    0.0s remaining:    0.0s\n"
     ]
    },
    {
     "name": "stdout",
     "output_type": "stream",
     "text": [
      "Overwriting existing file.\n",
      "Overwriting existing file.\n",
      "Setting up low-pass filter at 30 Hz\n",
      "\n",
      "FIR filter parameters\n",
      "---------------------\n",
      "Designing a one-pass, zero-phase, non-causal lowpass filter:\n",
      "- Windowed time-domain design (firwin) method\n",
      "- Hamming window with 0.0194 passband ripple and 53 dB stopband attenuation\n",
      "- Upper passband edge: 30.00 Hz\n",
      "- Upper transition bandwidth: 7.50 Hz (-6 dB cutoff frequency: 33.75 Hz)\n",
      "- Filter length: 89 samples (0.445 sec)\n",
      "\n"
     ]
    },
    {
     "name": "stderr",
     "output_type": "stream",
     "text": [
      "[Parallel(n_jobs=1)]: Done 768 out of 768 | elapsed:    0.2s finished\n",
      "[Parallel(n_jobs=1)]: Using backend SequentialBackend with 1 concurrent workers.\n",
      "[Parallel(n_jobs=1)]: Done   1 out of   1 | elapsed:    0.0s remaining:    0.0s\n",
      "[Parallel(n_jobs=1)]: Done   2 out of   2 | elapsed:    0.0s remaining:    0.0s\n",
      "[Parallel(n_jobs=1)]: Done   3 out of   3 | elapsed:    0.0s remaining:    0.0s\n",
      "[Parallel(n_jobs=1)]: Done   4 out of   4 | elapsed:    0.0s remaining:    0.0s\n"
     ]
    },
    {
     "name": "stdout",
     "output_type": "stream",
     "text": [
      "Overwriting existing file.\n",
      "Reading F:\\Documents\\Science\\MirRevAdaptEEG\\data\\eeg\\p000\\lrp\\mra_p000_run0-epo.fif ...\n",
      "    Found the data of interest:\n",
      "        t =   -2000.00 ...    1995.00 ms\n",
      "        0 CTF compensation matrices available\n"
     ]
    },
    {
     "name": "stderr",
     "output_type": "stream",
     "text": [
      "[Parallel(n_jobs=1)]: Done 768 out of 768 | elapsed:    0.2s finished\n"
     ]
    },
    {
     "name": "stdout",
     "output_type": "stream",
     "text": [
      "Not setting metadata\n",
      "420 matching events found\n",
      "No baseline correction applied\n",
      "0 projection items activated\n",
      "Applying baseline correction (mode: mean)\n",
      "Overwriting existing file.\n",
      "Setting up low-pass filter at 30 Hz\n",
      "\n",
      "FIR filter parameters\n",
      "---------------------\n",
      "Designing a one-pass, zero-phase, non-causal lowpass filter:\n",
      "- Windowed time-domain design (firwin) method\n",
      "- Hamming window with 0.0194 passband ripple and 53 dB stopband attenuation\n",
      "- Upper passband edge: 30.00 Hz\n",
      "- Upper transition bandwidth: 7.50 Hz (-6 dB cutoff frequency: 33.75 Hz)\n",
      "- Filter length: 89 samples (0.445 sec)\n",
      "\n"
     ]
    },
    {
     "name": "stderr",
     "output_type": "stream",
     "text": [
      "[Parallel(n_jobs=1)]: Using backend SequentialBackend with 1 concurrent workers.\n",
      "[Parallel(n_jobs=1)]: Done   1 out of   1 | elapsed:    0.0s remaining:    0.0s\n",
      "[Parallel(n_jobs=1)]: Done   2 out of   2 | elapsed:    0.0s remaining:    0.0s\n",
      "[Parallel(n_jobs=1)]: Done   3 out of   3 | elapsed:    0.0s remaining:    0.0s\n",
      "[Parallel(n_jobs=1)]: Done   4 out of   4 | elapsed:    0.0s remaining:    0.0s\n"
     ]
    },
    {
     "name": "stdout",
     "output_type": "stream",
     "text": [
      "Overwriting existing file.\n",
      "Overwriting existing file.\n",
      "Setting up low-pass filter at 30 Hz\n",
      "\n",
      "FIR filter parameters\n",
      "---------------------\n",
      "Designing a one-pass, zero-phase, non-causal lowpass filter:\n",
      "- Windowed time-domain design (firwin) method\n",
      "- Hamming window with 0.0194 passband ripple and 53 dB stopband attenuation\n",
      "- Upper passband edge: 30.00 Hz\n",
      "- Upper transition bandwidth: 7.50 Hz (-6 dB cutoff frequency: 33.75 Hz)\n",
      "- Filter length: 89 samples (0.445 sec)\n",
      "\n"
     ]
    },
    {
     "name": "stderr",
     "output_type": "stream",
     "text": [
      "[Parallel(n_jobs=1)]: Done 2880 out of 2880 | elapsed:    0.9s finished\n",
      "[Parallel(n_jobs=1)]: Using backend SequentialBackend with 1 concurrent workers.\n",
      "[Parallel(n_jobs=1)]: Done   1 out of   1 | elapsed:    0.0s remaining:    0.0s\n",
      "[Parallel(n_jobs=1)]: Done   2 out of   2 | elapsed:    0.0s remaining:    0.0s\n",
      "[Parallel(n_jobs=1)]: Done   3 out of   3 | elapsed:    0.0s remaining:    0.0s\n",
      "[Parallel(n_jobs=1)]: Done   4 out of   4 | elapsed:    0.0s remaining:    0.0s\n"
     ]
    },
    {
     "name": "stdout",
     "output_type": "stream",
     "text": [
      "Overwriting existing file.\n",
      "Reading F:\\Documents\\Science\\MirRevAdaptEEG\\data\\eeg\\p001\\lrp\\mra_p001_run0-epo.fif ...\n",
      "    Found the data of interest:\n",
      "        t =   -2000.00 ...    1995.00 ms\n",
      "        0 CTF compensation matrices available\n"
     ]
    },
    {
     "name": "stderr",
     "output_type": "stream",
     "text": [
      "[Parallel(n_jobs=1)]: Done 2880 out of 2880 | elapsed:    0.9s finished\n"
     ]
    },
    {
     "name": "stdout",
     "output_type": "stream",
     "text": [
      "Not setting metadata\n",
      "420 matching events found\n",
      "No baseline correction applied\n",
      "0 projection items activated\n",
      "Applying baseline correction (mode: mean)\n",
      "Overwriting existing file.\n",
      "Setting up low-pass filter at 30 Hz\n",
      "\n",
      "FIR filter parameters\n",
      "---------------------\n",
      "Designing a one-pass, zero-phase, non-causal lowpass filter:\n",
      "- Windowed time-domain design (firwin) method\n",
      "- Hamming window with 0.0194 passband ripple and 53 dB stopband attenuation\n",
      "- Upper passband edge: 30.00 Hz\n",
      "- Upper transition bandwidth: 7.50 Hz (-6 dB cutoff frequency: 33.75 Hz)\n",
      "- Filter length: 89 samples (0.445 sec)\n",
      "\n"
     ]
    },
    {
     "name": "stderr",
     "output_type": "stream",
     "text": [
      "[Parallel(n_jobs=1)]: Using backend SequentialBackend with 1 concurrent workers.\n",
      "[Parallel(n_jobs=1)]: Done   1 out of   1 | elapsed:    0.0s remaining:    0.0s\n",
      "[Parallel(n_jobs=1)]: Done   2 out of   2 | elapsed:    0.0s remaining:    0.0s\n",
      "[Parallel(n_jobs=1)]: Done   3 out of   3 | elapsed:    0.0s remaining:    0.0s\n",
      "[Parallel(n_jobs=1)]: Done   4 out of   4 | elapsed:    0.0s remaining:    0.0s\n"
     ]
    },
    {
     "name": "stdout",
     "output_type": "stream",
     "text": [
      "Overwriting existing file.\n",
      "Overwriting existing file.\n",
      "Setting up low-pass filter at 30 Hz\n",
      "\n",
      "FIR filter parameters\n",
      "---------------------\n",
      "Designing a one-pass, zero-phase, non-causal lowpass filter:\n",
      "- Windowed time-domain design (firwin) method\n",
      "- Hamming window with 0.0194 passband ripple and 53 dB stopband attenuation\n",
      "- Upper passband edge: 30.00 Hz\n",
      "- Upper transition bandwidth: 7.50 Hz (-6 dB cutoff frequency: 33.75 Hz)\n",
      "- Filter length: 89 samples (0.445 sec)\n",
      "\n"
     ]
    },
    {
     "name": "stderr",
     "output_type": "stream",
     "text": [
      "[Parallel(n_jobs=1)]: Done 2880 out of 2880 | elapsed:    0.9s finished\n",
      "[Parallel(n_jobs=1)]: Using backend SequentialBackend with 1 concurrent workers.\n",
      "[Parallel(n_jobs=1)]: Done   1 out of   1 | elapsed:    0.0s remaining:    0.0s\n",
      "[Parallel(n_jobs=1)]: Done   2 out of   2 | elapsed:    0.0s remaining:    0.0s\n",
      "[Parallel(n_jobs=1)]: Done   3 out of   3 | elapsed:    0.0s remaining:    0.0s\n",
      "[Parallel(n_jobs=1)]: Done   4 out of   4 | elapsed:    0.0s remaining:    0.0s\n"
     ]
    },
    {
     "name": "stdout",
     "output_type": "stream",
     "text": [
      "Overwriting existing file.\n",
      "Reading F:\\Documents\\Science\\MirRevAdaptEEG\\data\\eeg\\p002\\lrp\\mra_p002_run0-epo.fif ...\n",
      "    Found the data of interest:\n",
      "        t =   -2000.00 ...    1995.00 ms\n",
      "        0 CTF compensation matrices available\n"
     ]
    },
    {
     "name": "stderr",
     "output_type": "stream",
     "text": [
      "[Parallel(n_jobs=1)]: Done 2880 out of 2880 | elapsed:    0.9s finished\n"
     ]
    },
    {
     "name": "stdout",
     "output_type": "stream",
     "text": [
      "Not setting metadata\n",
      "419 matching events found\n",
      "No baseline correction applied\n",
      "0 projection items activated\n",
      "Applying baseline correction (mode: mean)\n",
      "Overwriting existing file.\n",
      "Setting up low-pass filter at 30 Hz\n",
      "\n",
      "FIR filter parameters\n",
      "---------------------\n",
      "Designing a one-pass, zero-phase, non-causal lowpass filter:\n",
      "- Windowed time-domain design (firwin) method\n",
      "- Hamming window with 0.0194 passband ripple and 53 dB stopband attenuation\n",
      "- Upper passband edge: 30.00 Hz\n",
      "- Upper transition bandwidth: 7.50 Hz (-6 dB cutoff frequency: 33.75 Hz)\n",
      "- Filter length: 89 samples (0.445 sec)\n",
      "\n"
     ]
    },
    {
     "name": "stderr",
     "output_type": "stream",
     "text": [
      "[Parallel(n_jobs=1)]: Using backend SequentialBackend with 1 concurrent workers.\n",
      "[Parallel(n_jobs=1)]: Done   1 out of   1 | elapsed:    0.0s remaining:    0.0s\n",
      "[Parallel(n_jobs=1)]: Done   2 out of   2 | elapsed:    0.0s remaining:    0.0s\n",
      "[Parallel(n_jobs=1)]: Done   3 out of   3 | elapsed:    0.0s remaining:    0.0s\n",
      "[Parallel(n_jobs=1)]: Done   4 out of   4 | elapsed:    0.0s remaining:    0.0s\n"
     ]
    },
    {
     "name": "stdout",
     "output_type": "stream",
     "text": [
      "Overwriting existing file.\n",
      "Overwriting existing file.\n",
      "Setting up low-pass filter at 30 Hz\n",
      "\n",
      "FIR filter parameters\n",
      "---------------------\n",
      "Designing a one-pass, zero-phase, non-causal lowpass filter:\n",
      "- Windowed time-domain design (firwin) method\n",
      "- Hamming window with 0.0194 passband ripple and 53 dB stopband attenuation\n",
      "- Upper passband edge: 30.00 Hz\n",
      "- Upper transition bandwidth: 7.50 Hz (-6 dB cutoff frequency: 33.75 Hz)\n",
      "- Filter length: 89 samples (0.445 sec)\n",
      "\n"
     ]
    },
    {
     "name": "stderr",
     "output_type": "stream",
     "text": [
      "[Parallel(n_jobs=1)]: Done 2880 out of 2880 | elapsed:    0.9s finished\n",
      "[Parallel(n_jobs=1)]: Using backend SequentialBackend with 1 concurrent workers.\n",
      "[Parallel(n_jobs=1)]: Done   1 out of   1 | elapsed:    0.0s remaining:    0.0s\n",
      "[Parallel(n_jobs=1)]: Done   2 out of   2 | elapsed:    0.0s remaining:    0.0s\n",
      "[Parallel(n_jobs=1)]: Done   3 out of   3 | elapsed:    0.0s remaining:    0.0s\n",
      "[Parallel(n_jobs=1)]: Done   4 out of   4 | elapsed:    0.0s remaining:    0.0s\n"
     ]
    },
    {
     "name": "stdout",
     "output_type": "stream",
     "text": [
      "Overwriting existing file.\n",
      "Reading F:\\Documents\\Science\\MirRevAdaptEEG\\data\\eeg\\p003\\lrp\\mra_p003_run0-epo.fif ...\n",
      "    Found the data of interest:\n",
      "        t =   -2000.00 ...    1995.00 ms\n",
      "        0 CTF compensation matrices available\n"
     ]
    },
    {
     "name": "stderr",
     "output_type": "stream",
     "text": [
      "[Parallel(n_jobs=1)]: Done 2880 out of 2880 | elapsed:    0.9s finished\n"
     ]
    },
    {
     "name": "stdout",
     "output_type": "stream",
     "text": [
      "Not setting metadata\n",
      "418 matching events found\n",
      "No baseline correction applied\n",
      "0 projection items activated\n",
      "Applying baseline correction (mode: mean)\n",
      "Overwriting existing file.\n",
      "Setting up low-pass filter at 30 Hz\n",
      "\n",
      "FIR filter parameters\n",
      "---------------------\n",
      "Designing a one-pass, zero-phase, non-causal lowpass filter:\n",
      "- Windowed time-domain design (firwin) method\n",
      "- Hamming window with 0.0194 passband ripple and 53 dB stopband attenuation\n",
      "- Upper passband edge: 30.00 Hz\n",
      "- Upper transition bandwidth: 7.50 Hz (-6 dB cutoff frequency: 33.75 Hz)\n",
      "- Filter length: 89 samples (0.445 sec)\n",
      "\n"
     ]
    },
    {
     "name": "stderr",
     "output_type": "stream",
     "text": [
      "[Parallel(n_jobs=1)]: Using backend SequentialBackend with 1 concurrent workers.\n",
      "[Parallel(n_jobs=1)]: Done   1 out of   1 | elapsed:    0.0s remaining:    0.0s\n",
      "[Parallel(n_jobs=1)]: Done   2 out of   2 | elapsed:    0.0s remaining:    0.0s\n",
      "[Parallel(n_jobs=1)]: Done   3 out of   3 | elapsed:    0.0s remaining:    0.0s\n",
      "[Parallel(n_jobs=1)]: Done   4 out of   4 | elapsed:    0.0s remaining:    0.0s\n"
     ]
    },
    {
     "name": "stdout",
     "output_type": "stream",
     "text": [
      "Overwriting existing file.\n",
      "Overwriting existing file.\n",
      "Setting up low-pass filter at 30 Hz\n",
      "\n",
      "FIR filter parameters\n",
      "---------------------\n",
      "Designing a one-pass, zero-phase, non-causal lowpass filter:\n",
      "- Windowed time-domain design (firwin) method\n",
      "- Hamming window with 0.0194 passband ripple and 53 dB stopband attenuation\n",
      "- Upper passband edge: 30.00 Hz\n",
      "- Upper transition bandwidth: 7.50 Hz (-6 dB cutoff frequency: 33.75 Hz)\n",
      "- Filter length: 89 samples (0.445 sec)\n",
      "\n"
     ]
    },
    {
     "name": "stderr",
     "output_type": "stream",
     "text": [
      "[Parallel(n_jobs=1)]: Done 2880 out of 2880 | elapsed:    0.9s finished\n",
      "[Parallel(n_jobs=1)]: Using backend SequentialBackend with 1 concurrent workers.\n",
      "[Parallel(n_jobs=1)]: Done   1 out of   1 | elapsed:    0.0s remaining:    0.0s\n",
      "[Parallel(n_jobs=1)]: Done   2 out of   2 | elapsed:    0.0s remaining:    0.0s\n",
      "[Parallel(n_jobs=1)]: Done   3 out of   3 | elapsed:    0.0s remaining:    0.0s\n",
      "[Parallel(n_jobs=1)]: Done   4 out of   4 | elapsed:    0.0s remaining:    0.0s\n"
     ]
    },
    {
     "name": "stdout",
     "output_type": "stream",
     "text": [
      "Overwriting existing file.\n",
      "Reading F:\\Documents\\Science\\MirRevAdaptEEG\\data\\eeg\\p004\\lrp\\mra_p004_run0-epo.fif ...\n",
      "    Found the data of interest:\n",
      "        t =   -2000.00 ...    1995.00 ms\n",
      "        0 CTF compensation matrices available\n"
     ]
    },
    {
     "name": "stderr",
     "output_type": "stream",
     "text": [
      "[Parallel(n_jobs=1)]: Done 2816 out of 2816 | elapsed:    0.9s finished\n"
     ]
    },
    {
     "name": "stdout",
     "output_type": "stream",
     "text": [
      "Not setting metadata\n",
      "418 matching events found\n",
      "No baseline correction applied\n",
      "0 projection items activated\n",
      "Applying baseline correction (mode: mean)\n",
      "Reading F:\\Documents\\Science\\MirRevAdaptEEG\\data\\eeg\\p005\\lrp\\mra_p005_run0-epo.fif ...\n",
      "    Found the data of interest:\n",
      "        t =   -2000.00 ...    1995.00 ms\n",
      "        0 CTF compensation matrices available\n",
      "Not setting metadata\n",
      "419 matching events found\n",
      "No baseline correction applied\n",
      "0 projection items activated\n",
      "Applying baseline correction (mode: mean)\n",
      "Reading F:\\Documents\\Science\\MirRevAdaptEEG\\data\\eeg\\p006\\lrp\\mra_p006_run0-epo.fif ...\n",
      "    Found the data of interest:\n",
      "        t =   -2000.00 ...    1995.00 ms\n",
      "        0 CTF compensation matrices available\n",
      "Not setting metadata\n",
      "418 matching events found\n",
      "No baseline correction applied\n",
      "0 projection items activated\n",
      "Applying baseline correction (mode: mean)\n",
      "Reading F:\\Documents\\Science\\MirRevAdaptEEG\\data\\eeg\\p007\\lrp\\mra_p007_run0-epo.fif ...\n",
      "    Found the data of interest:\n",
      "        t =   -2000.00 ...    1995.00 ms\n",
      "        0 CTF compensation matrices available\n",
      "Not setting metadata\n",
      "420 matching events found\n",
      "No baseline correction applied\n",
      "0 projection items activated\n",
      "Applying baseline correction (mode: mean)\n",
      "Reading F:\\Documents\\Science\\MirRevAdaptEEG\\data\\eeg\\p008\\lrp\\mra_p008_run0-epo.fif ...\n",
      "    Found the data of interest:\n",
      "        t =   -2000.00 ...    1995.00 ms\n",
      "        0 CTF compensation matrices available\n",
      "Not setting metadata\n",
      "420 matching events found\n",
      "No baseline correction applied\n",
      "0 projection items activated\n",
      "Applying baseline correction (mode: mean)\n",
      "Overwriting existing file.\n",
      "Setting up low-pass filter at 30 Hz\n",
      "\n",
      "FIR filter parameters\n",
      "---------------------\n",
      "Designing a one-pass, zero-phase, non-causal lowpass filter:\n",
      "- Windowed time-domain design (firwin) method\n",
      "- Hamming window with 0.0194 passband ripple and 53 dB stopband attenuation\n",
      "- Upper passband edge: 30.00 Hz\n",
      "- Upper transition bandwidth: 7.50 Hz (-6 dB cutoff frequency: 33.75 Hz)\n",
      "- Filter length: 89 samples (0.445 sec)\n",
      "\n"
     ]
    },
    {
     "name": "stderr",
     "output_type": "stream",
     "text": [
      "[Parallel(n_jobs=1)]: Using backend SequentialBackend with 1 concurrent workers.\n",
      "[Parallel(n_jobs=1)]: Done   1 out of   1 | elapsed:    0.0s remaining:    0.0s\n",
      "[Parallel(n_jobs=1)]: Done   2 out of   2 | elapsed:    0.0s remaining:    0.0s\n",
      "[Parallel(n_jobs=1)]: Done   3 out of   3 | elapsed:    0.0s remaining:    0.0s\n",
      "[Parallel(n_jobs=1)]: Done   4 out of   4 | elapsed:    0.0s remaining:    0.0s\n"
     ]
    },
    {
     "name": "stdout",
     "output_type": "stream",
     "text": [
      "Overwriting existing file.\n",
      "Overwriting existing file.\n",
      "Setting up low-pass filter at 30 Hz\n",
      "\n",
      "FIR filter parameters\n",
      "---------------------\n",
      "Designing a one-pass, zero-phase, non-causal lowpass filter:\n",
      "- Windowed time-domain design (firwin) method\n",
      "- Hamming window with 0.0194 passband ripple and 53 dB stopband attenuation\n",
      "- Upper passband edge: 30.00 Hz\n",
      "- Upper transition bandwidth: 7.50 Hz (-6 dB cutoff frequency: 33.75 Hz)\n",
      "- Filter length: 89 samples (0.445 sec)\n",
      "\n"
     ]
    },
    {
     "name": "stderr",
     "output_type": "stream",
     "text": [
      "[Parallel(n_jobs=1)]: Done 2816 out of 2816 | elapsed:    0.8s finished\n",
      "[Parallel(n_jobs=1)]: Using backend SequentialBackend with 1 concurrent workers.\n",
      "[Parallel(n_jobs=1)]: Done   1 out of   1 | elapsed:    0.0s remaining:    0.0s\n",
      "[Parallel(n_jobs=1)]: Done   2 out of   2 | elapsed:    0.0s remaining:    0.0s\n",
      "[Parallel(n_jobs=1)]: Done   3 out of   3 | elapsed:    0.0s remaining:    0.0s\n",
      "[Parallel(n_jobs=1)]: Done   4 out of   4 | elapsed:    0.0s remaining:    0.0s\n"
     ]
    },
    {
     "name": "stdout",
     "output_type": "stream",
     "text": [
      "Overwriting existing file.\n",
      "Reading F:\\Documents\\Science\\MirRevAdaptEEG\\data\\eeg\\p009\\lrp\\mra_p009_run0-epo.fif ...\n",
      "    Found the data of interest:\n",
      "        t =   -2000.00 ...    1995.00 ms\n",
      "        0 CTF compensation matrices available\n"
     ]
    },
    {
     "name": "stderr",
     "output_type": "stream",
     "text": [
      "[Parallel(n_jobs=1)]: Done 2944 out of 2944 | elapsed:    0.9s finished\n"
     ]
    },
    {
     "name": "stdout",
     "output_type": "stream",
     "text": [
      "Not setting metadata\n",
      "419 matching events found\n",
      "No baseline correction applied\n",
      "0 projection items activated\n",
      "Applying baseline correction (mode: mean)\n",
      "Overwriting existing file.\n",
      "Setting up low-pass filter at 30 Hz\n",
      "\n",
      "FIR filter parameters\n",
      "---------------------\n",
      "Designing a one-pass, zero-phase, non-causal lowpass filter:\n",
      "- Windowed time-domain design (firwin) method\n",
      "- Hamming window with 0.0194 passband ripple and 53 dB stopband attenuation\n",
      "- Upper passband edge: 30.00 Hz\n",
      "- Upper transition bandwidth: 7.50 Hz (-6 dB cutoff frequency: 33.75 Hz)\n",
      "- Filter length: 89 samples (0.445 sec)\n",
      "\n"
     ]
    },
    {
     "name": "stderr",
     "output_type": "stream",
     "text": [
      "[Parallel(n_jobs=1)]: Using backend SequentialBackend with 1 concurrent workers.\n",
      "[Parallel(n_jobs=1)]: Done   1 out of   1 | elapsed:    0.0s remaining:    0.0s\n",
      "[Parallel(n_jobs=1)]: Done   2 out of   2 | elapsed:    0.0s remaining:    0.0s\n",
      "[Parallel(n_jobs=1)]: Done   3 out of   3 | elapsed:    0.0s remaining:    0.0s\n",
      "[Parallel(n_jobs=1)]: Done   4 out of   4 | elapsed:    0.0s remaining:    0.0s\n"
     ]
    },
    {
     "name": "stdout",
     "output_type": "stream",
     "text": [
      "Overwriting existing file.\n",
      "Overwriting existing file.\n",
      "Setting up low-pass filter at 30 Hz\n",
      "\n",
      "FIR filter parameters\n",
      "---------------------\n",
      "Designing a one-pass, zero-phase, non-causal lowpass filter:\n",
      "- Windowed time-domain design (firwin) method\n",
      "- Hamming window with 0.0194 passband ripple and 53 dB stopband attenuation\n",
      "- Upper passband edge: 30.00 Hz\n",
      "- Upper transition bandwidth: 7.50 Hz (-6 dB cutoff frequency: 33.75 Hz)\n",
      "- Filter length: 89 samples (0.445 sec)\n",
      "\n"
     ]
    },
    {
     "name": "stderr",
     "output_type": "stream",
     "text": [
      "[Parallel(n_jobs=1)]: Done 2880 out of 2880 | elapsed:    0.9s finished\n",
      "[Parallel(n_jobs=1)]: Using backend SequentialBackend with 1 concurrent workers.\n",
      "[Parallel(n_jobs=1)]: Done   1 out of   1 | elapsed:    0.0s remaining:    0.0s\n",
      "[Parallel(n_jobs=1)]: Done   2 out of   2 | elapsed:    0.0s remaining:    0.0s\n",
      "[Parallel(n_jobs=1)]: Done   3 out of   3 | elapsed:    0.0s remaining:    0.0s\n",
      "[Parallel(n_jobs=1)]: Done   4 out of   4 | elapsed:    0.0s remaining:    0.0s\n"
     ]
    },
    {
     "name": "stdout",
     "output_type": "stream",
     "text": [
      "Overwriting existing file.\n",
      "Reading F:\\Documents\\Science\\MirRevAdaptEEG\\data\\eeg\\p010\\lrp\\mra_p010_run0-epo.fif ...\n",
      "    Found the data of interest:\n",
      "        t =   -2000.00 ...    1995.00 ms\n",
      "        0 CTF compensation matrices available\n"
     ]
    },
    {
     "name": "stderr",
     "output_type": "stream",
     "text": [
      "[Parallel(n_jobs=1)]: Done 2880 out of 2880 | elapsed:    0.9s finished\n"
     ]
    },
    {
     "name": "stdout",
     "output_type": "stream",
     "text": [
      "Not setting metadata\n",
      "420 matching events found\n",
      "No baseline correction applied\n",
      "0 projection items activated\n",
      "Applying baseline correction (mode: mean)\n",
      "Overwriting existing file.\n",
      "Setting up low-pass filter at 30 Hz\n",
      "\n",
      "FIR filter parameters\n",
      "---------------------\n",
      "Designing a one-pass, zero-phase, non-causal lowpass filter:\n",
      "- Windowed time-domain design (firwin) method\n",
      "- Hamming window with 0.0194 passband ripple and 53 dB stopband attenuation\n",
      "- Upper passband edge: 30.00 Hz\n",
      "- Upper transition bandwidth: 7.50 Hz (-6 dB cutoff frequency: 33.75 Hz)\n",
      "- Filter length: 89 samples (0.445 sec)\n",
      "\n"
     ]
    },
    {
     "name": "stderr",
     "output_type": "stream",
     "text": [
      "[Parallel(n_jobs=1)]: Using backend SequentialBackend with 1 concurrent workers.\n",
      "[Parallel(n_jobs=1)]: Done   1 out of   1 | elapsed:    0.0s remaining:    0.0s\n",
      "[Parallel(n_jobs=1)]: Done   2 out of   2 | elapsed:    0.0s remaining:    0.0s\n",
      "[Parallel(n_jobs=1)]: Done   3 out of   3 | elapsed:    0.0s remaining:    0.0s\n",
      "[Parallel(n_jobs=1)]: Done   4 out of   4 | elapsed:    0.0s remaining:    0.0s\n"
     ]
    },
    {
     "name": "stdout",
     "output_type": "stream",
     "text": [
      "Overwriting existing file.\n",
      "Overwriting existing file.\n",
      "Setting up low-pass filter at 30 Hz\n",
      "\n",
      "FIR filter parameters\n",
      "---------------------\n",
      "Designing a one-pass, zero-phase, non-causal lowpass filter:\n",
      "- Windowed time-domain design (firwin) method\n",
      "- Hamming window with 0.0194 passband ripple and 53 dB stopband attenuation\n",
      "- Upper passband edge: 30.00 Hz\n",
      "- Upper transition bandwidth: 7.50 Hz (-6 dB cutoff frequency: 33.75 Hz)\n",
      "- Filter length: 89 samples (0.445 sec)\n",
      "\n"
     ]
    },
    {
     "name": "stderr",
     "output_type": "stream",
     "text": [
      "[Parallel(n_jobs=1)]: Done 2880 out of 2880 | elapsed:    0.9s finished\n",
      "[Parallel(n_jobs=1)]: Using backend SequentialBackend with 1 concurrent workers.\n",
      "[Parallel(n_jobs=1)]: Done   1 out of   1 | elapsed:    0.0s remaining:    0.0s\n",
      "[Parallel(n_jobs=1)]: Done   2 out of   2 | elapsed:    0.0s remaining:    0.0s\n",
      "[Parallel(n_jobs=1)]: Done   3 out of   3 | elapsed:    0.0s remaining:    0.0s\n",
      "[Parallel(n_jobs=1)]: Done   4 out of   4 | elapsed:    0.0s remaining:    0.0s\n"
     ]
    },
    {
     "name": "stdout",
     "output_type": "stream",
     "text": [
      "Overwriting existing file.\n",
      "Reading F:\\Documents\\Science\\MirRevAdaptEEG\\data\\eeg\\p011\\lrp\\mra_p011_run0-epo.fif ...\n",
      "    Found the data of interest:\n",
      "        t =   -2000.00 ...    1995.00 ms\n",
      "        0 CTF compensation matrices available\n"
     ]
    },
    {
     "name": "stderr",
     "output_type": "stream",
     "text": [
      "[Parallel(n_jobs=1)]: Done 2880 out of 2880 | elapsed:    0.9s finished\n"
     ]
    },
    {
     "name": "stdout",
     "output_type": "stream",
     "text": [
      "Not setting metadata\n",
      "419 matching events found\n",
      "No baseline correction applied\n",
      "0 projection items activated\n",
      "Applying baseline correction (mode: mean)\n",
      "Overwriting existing file.\n",
      "Setting up low-pass filter at 30 Hz\n",
      "\n",
      "FIR filter parameters\n",
      "---------------------\n",
      "Designing a one-pass, zero-phase, non-causal lowpass filter:\n",
      "- Windowed time-domain design (firwin) method\n",
      "- Hamming window with 0.0194 passband ripple and 53 dB stopband attenuation\n",
      "- Upper passband edge: 30.00 Hz\n",
      "- Upper transition bandwidth: 7.50 Hz (-6 dB cutoff frequency: 33.75 Hz)\n",
      "- Filter length: 89 samples (0.445 sec)\n",
      "\n"
     ]
    },
    {
     "name": "stderr",
     "output_type": "stream",
     "text": [
      "[Parallel(n_jobs=1)]: Using backend SequentialBackend with 1 concurrent workers.\n",
      "[Parallel(n_jobs=1)]: Done   1 out of   1 | elapsed:    0.0s remaining:    0.0s\n",
      "[Parallel(n_jobs=1)]: Done   2 out of   2 | elapsed:    0.0s remaining:    0.0s\n",
      "[Parallel(n_jobs=1)]: Done   3 out of   3 | elapsed:    0.0s remaining:    0.0s\n",
      "[Parallel(n_jobs=1)]: Done   4 out of   4 | elapsed:    0.0s remaining:    0.0s\n"
     ]
    },
    {
     "name": "stdout",
     "output_type": "stream",
     "text": [
      "Overwriting existing file.\n",
      "Overwriting existing file.\n",
      "Setting up low-pass filter at 30 Hz\n",
      "\n",
      "FIR filter parameters\n",
      "---------------------\n",
      "Designing a one-pass, zero-phase, non-causal lowpass filter:\n",
      "- Windowed time-domain design (firwin) method\n",
      "- Hamming window with 0.0194 passband ripple and 53 dB stopband attenuation\n",
      "- Upper passband edge: 30.00 Hz\n",
      "- Upper transition bandwidth: 7.50 Hz (-6 dB cutoff frequency: 33.75 Hz)\n",
      "- Filter length: 89 samples (0.445 sec)\n",
      "\n"
     ]
    },
    {
     "name": "stderr",
     "output_type": "stream",
     "text": [
      "[Parallel(n_jobs=1)]: Done 2880 out of 2880 | elapsed:    0.9s finished\n",
      "[Parallel(n_jobs=1)]: Using backend SequentialBackend with 1 concurrent workers.\n",
      "[Parallel(n_jobs=1)]: Done   1 out of   1 | elapsed:    0.0s remaining:    0.0s\n",
      "[Parallel(n_jobs=1)]: Done   2 out of   2 | elapsed:    0.0s remaining:    0.0s\n",
      "[Parallel(n_jobs=1)]: Done   3 out of   3 | elapsed:    0.0s remaining:    0.0s\n",
      "[Parallel(n_jobs=1)]: Done   4 out of   4 | elapsed:    0.0s remaining:    0.0s\n"
     ]
    },
    {
     "name": "stdout",
     "output_type": "stream",
     "text": [
      "Overwriting existing file.\n",
      "Reading F:\\Documents\\Science\\MirRevAdaptEEG\\data\\eeg\\p012\\lrp\\mra_p012_run0-epo.fif ...\n",
      "    Found the data of interest:\n",
      "        t =   -2000.00 ...    1995.00 ms\n",
      "        0 CTF compensation matrices available\n"
     ]
    },
    {
     "name": "stderr",
     "output_type": "stream",
     "text": [
      "[Parallel(n_jobs=1)]: Done 2880 out of 2880 | elapsed:    0.9s finished\n"
     ]
    },
    {
     "name": "stdout",
     "output_type": "stream",
     "text": [
      "Not setting metadata\n",
      "412 matching events found\n",
      "No baseline correction applied\n",
      "0 projection items activated\n",
      "Applying baseline correction (mode: mean)\n",
      "Reading F:\\Documents\\Science\\MirRevAdaptEEG\\data\\eeg\\p013\\lrp\\mra_p013_run0-epo.fif ...\n",
      "    Found the data of interest:\n",
      "        t =   -2000.00 ...    1995.00 ms\n",
      "        0 CTF compensation matrices available\n",
      "Not setting metadata\n",
      "416 matching events found\n",
      "No baseline correction applied\n",
      "0 projection items activated\n",
      "Applying baseline correction (mode: mean)\n",
      "Reading F:\\Documents\\Science\\MirRevAdaptEEG\\data\\eeg\\p014\\lrp\\mra_p014_run0-epo.fif ...\n",
      "    Found the data of interest:\n",
      "        t =   -2000.00 ...    1995.00 ms\n",
      "        0 CTF compensation matrices available\n",
      "Not setting metadata\n",
      "420 matching events found\n",
      "No baseline correction applied\n",
      "0 projection items activated\n",
      "Applying baseline correction (mode: mean)\n",
      "Reading F:\\Documents\\Science\\MirRevAdaptEEG\\data\\eeg\\p015\\lrp\\mra_p015_run0-epo.fif ...\n",
      "    Found the data of interest:\n",
      "        t =   -2000.00 ...    1995.00 ms\n",
      "        0 CTF compensation matrices available\n",
      "Not setting metadata\n",
      "420 matching events found\n",
      "No baseline correction applied\n",
      "0 projection items activated\n",
      "Applying baseline correction (mode: mean)\n",
      "Reading F:\\Documents\\Science\\MirRevAdaptEEG\\data\\eeg\\p016\\lrp\\mra_p016_run0-epo.fif ...\n",
      "    Found the data of interest:\n",
      "        t =   -2000.00 ...    1995.00 ms\n",
      "        0 CTF compensation matrices available\n",
      "Not setting metadata\n",
      "418 matching events found\n",
      "No baseline correction applied\n",
      "0 projection items activated\n",
      "Applying baseline correction (mode: mean)\n",
      "Overwriting existing file.\n",
      "Setting up low-pass filter at 30 Hz\n",
      "\n",
      "FIR filter parameters\n",
      "---------------------\n",
      "Designing a one-pass, zero-phase, non-causal lowpass filter:\n",
      "- Windowed time-domain design (firwin) method\n",
      "- Hamming window with 0.0194 passband ripple and 53 dB stopband attenuation\n",
      "- Upper passband edge: 30.00 Hz\n",
      "- Upper transition bandwidth: 7.50 Hz (-6 dB cutoff frequency: 33.75 Hz)\n",
      "- Filter length: 89 samples (0.445 sec)\n",
      "\n"
     ]
    },
    {
     "name": "stderr",
     "output_type": "stream",
     "text": [
      "[Parallel(n_jobs=1)]: Using backend SequentialBackend with 1 concurrent workers.\n",
      "[Parallel(n_jobs=1)]: Done   1 out of   1 | elapsed:    0.0s remaining:    0.0s\n",
      "[Parallel(n_jobs=1)]: Done   2 out of   2 | elapsed:    0.0s remaining:    0.0s\n",
      "[Parallel(n_jobs=1)]: Done   3 out of   3 | elapsed:    0.0s remaining:    0.0s\n",
      "[Parallel(n_jobs=1)]: Done   4 out of   4 | elapsed:    0.0s remaining:    0.0s\n"
     ]
    },
    {
     "name": "stdout",
     "output_type": "stream",
     "text": [
      "Overwriting existing file.\n",
      "Overwriting existing file.\n",
      "Setting up low-pass filter at 30 Hz\n",
      "\n",
      "FIR filter parameters\n",
      "---------------------\n",
      "Designing a one-pass, zero-phase, non-causal lowpass filter:\n",
      "- Windowed time-domain design (firwin) method\n",
      "- Hamming window with 0.0194 passband ripple and 53 dB stopband attenuation\n",
      "- Upper passband edge: 30.00 Hz\n",
      "- Upper transition bandwidth: 7.50 Hz (-6 dB cutoff frequency: 33.75 Hz)\n",
      "- Filter length: 89 samples (0.445 sec)\n",
      "\n"
     ]
    },
    {
     "name": "stderr",
     "output_type": "stream",
     "text": [
      "[Parallel(n_jobs=1)]: Done 2880 out of 2880 | elapsed:    0.9s finished\n",
      "[Parallel(n_jobs=1)]: Using backend SequentialBackend with 1 concurrent workers.\n",
      "[Parallel(n_jobs=1)]: Done   1 out of   1 | elapsed:    0.0s remaining:    0.0s\n",
      "[Parallel(n_jobs=1)]: Done   2 out of   2 | elapsed:    0.0s remaining:    0.0s\n",
      "[Parallel(n_jobs=1)]: Done   3 out of   3 | elapsed:    0.0s remaining:    0.0s\n",
      "[Parallel(n_jobs=1)]: Done   4 out of   4 | elapsed:    0.0s remaining:    0.0s\n"
     ]
    },
    {
     "name": "stdout",
     "output_type": "stream",
     "text": [
      "Overwriting existing file.\n",
      "Reading F:\\Documents\\Science\\MirRevAdaptEEG\\data\\eeg\\p017\\lrp\\mra_p017_run0-epo.fif ...\n",
      "    Found the data of interest:\n",
      "        t =   -2000.00 ...    1995.00 ms\n",
      "        0 CTF compensation matrices available\n"
     ]
    },
    {
     "name": "stderr",
     "output_type": "stream",
     "text": [
      "[Parallel(n_jobs=1)]: Done 2816 out of 2816 | elapsed:    0.9s finished\n"
     ]
    },
    {
     "name": "stdout",
     "output_type": "stream",
     "text": [
      "Not setting metadata\n",
      "418 matching events found\n",
      "No baseline correction applied\n",
      "0 projection items activated\n",
      "Applying baseline correction (mode: mean)\n",
      "Overwriting existing file.\n",
      "Setting up low-pass filter at 30 Hz\n",
      "\n",
      "FIR filter parameters\n",
      "---------------------\n",
      "Designing a one-pass, zero-phase, non-causal lowpass filter:\n",
      "- Windowed time-domain design (firwin) method\n",
      "- Hamming window with 0.0194 passband ripple and 53 dB stopband attenuation\n",
      "- Upper passband edge: 30.00 Hz\n",
      "- Upper transition bandwidth: 7.50 Hz (-6 dB cutoff frequency: 33.75 Hz)\n",
      "- Filter length: 89 samples (0.445 sec)\n",
      "\n"
     ]
    },
    {
     "name": "stderr",
     "output_type": "stream",
     "text": [
      "[Parallel(n_jobs=1)]: Using backend SequentialBackend with 1 concurrent workers.\n",
      "[Parallel(n_jobs=1)]: Done   1 out of   1 | elapsed:    0.0s remaining:    0.0s\n",
      "[Parallel(n_jobs=1)]: Done   2 out of   2 | elapsed:    0.0s remaining:    0.0s\n",
      "[Parallel(n_jobs=1)]: Done   3 out of   3 | elapsed:    0.0s remaining:    0.0s\n",
      "[Parallel(n_jobs=1)]: Done   4 out of   4 | elapsed:    0.0s remaining:    0.0s\n"
     ]
    },
    {
     "name": "stdout",
     "output_type": "stream",
     "text": [
      "Overwriting existing file.\n",
      "Overwriting existing file.\n",
      "Setting up low-pass filter at 30 Hz\n",
      "\n",
      "FIR filter parameters\n",
      "---------------------\n",
      "Designing a one-pass, zero-phase, non-causal lowpass filter:\n",
      "- Windowed time-domain design (firwin) method\n",
      "- Hamming window with 0.0194 passband ripple and 53 dB stopband attenuation\n",
      "- Upper passband edge: 30.00 Hz\n",
      "- Upper transition bandwidth: 7.50 Hz (-6 dB cutoff frequency: 33.75 Hz)\n",
      "- Filter length: 89 samples (0.445 sec)\n",
      "\n"
     ]
    },
    {
     "name": "stderr",
     "output_type": "stream",
     "text": [
      "[Parallel(n_jobs=1)]: Done 2880 out of 2880 | elapsed:    0.9s finished\n",
      "[Parallel(n_jobs=1)]: Using backend SequentialBackend with 1 concurrent workers.\n",
      "[Parallel(n_jobs=1)]: Done   1 out of   1 | elapsed:    0.0s remaining:    0.0s\n",
      "[Parallel(n_jobs=1)]: Done   2 out of   2 | elapsed:    0.0s remaining:    0.0s\n",
      "[Parallel(n_jobs=1)]: Done   3 out of   3 | elapsed:    0.0s remaining:    0.0s\n",
      "[Parallel(n_jobs=1)]: Done   4 out of   4 | elapsed:    0.0s remaining:    0.0s\n"
     ]
    },
    {
     "name": "stdout",
     "output_type": "stream",
     "text": [
      "Overwriting existing file.\n",
      "Reading F:\\Documents\\Science\\MirRevAdaptEEG\\data\\eeg\\p018\\lrp\\mra_p018_run0-epo.fif ...\n",
      "    Found the data of interest:\n",
      "        t =   -2000.00 ...    1995.00 ms\n",
      "        0 CTF compensation matrices available\n"
     ]
    },
    {
     "name": "stderr",
     "output_type": "stream",
     "text": [
      "[Parallel(n_jobs=1)]: Done 2816 out of 2816 | elapsed:    0.9s finished\n"
     ]
    },
    {
     "name": "stdout",
     "output_type": "stream",
     "text": [
      "Not setting metadata\n",
      "419 matching events found\n",
      "No baseline correction applied\n",
      "0 projection items activated\n",
      "Applying baseline correction (mode: mean)\n",
      "Overwriting existing file.\n",
      "Setting up low-pass filter at 30 Hz\n",
      "\n",
      "FIR filter parameters\n",
      "---------------------\n",
      "Designing a one-pass, zero-phase, non-causal lowpass filter:\n",
      "- Windowed time-domain design (firwin) method\n",
      "- Hamming window with 0.0194 passband ripple and 53 dB stopband attenuation\n",
      "- Upper passband edge: 30.00 Hz\n",
      "- Upper transition bandwidth: 7.50 Hz (-6 dB cutoff frequency: 33.75 Hz)\n",
      "- Filter length: 89 samples (0.445 sec)\n",
      "\n"
     ]
    },
    {
     "name": "stderr",
     "output_type": "stream",
     "text": [
      "[Parallel(n_jobs=1)]: Using backend SequentialBackend with 1 concurrent workers.\n",
      "[Parallel(n_jobs=1)]: Done   1 out of   1 | elapsed:    0.0s remaining:    0.0s\n",
      "[Parallel(n_jobs=1)]: Done   2 out of   2 | elapsed:    0.0s remaining:    0.0s\n",
      "[Parallel(n_jobs=1)]: Done   3 out of   3 | elapsed:    0.0s remaining:    0.0s\n",
      "[Parallel(n_jobs=1)]: Done   4 out of   4 | elapsed:    0.0s remaining:    0.0s\n"
     ]
    },
    {
     "name": "stdout",
     "output_type": "stream",
     "text": [
      "Overwriting existing file.\n",
      "Overwriting existing file.\n",
      "Setting up low-pass filter at 30 Hz\n",
      "\n",
      "FIR filter parameters\n",
      "---------------------\n",
      "Designing a one-pass, zero-phase, non-causal lowpass filter:\n",
      "- Windowed time-domain design (firwin) method\n",
      "- Hamming window with 0.0194 passband ripple and 53 dB stopband attenuation\n",
      "- Upper passband edge: 30.00 Hz\n",
      "- Upper transition bandwidth: 7.50 Hz (-6 dB cutoff frequency: 33.75 Hz)\n",
      "- Filter length: 89 samples (0.445 sec)\n",
      "\n"
     ]
    },
    {
     "name": "stderr",
     "output_type": "stream",
     "text": [
      "[Parallel(n_jobs=1)]: Done 2880 out of 2880 | elapsed:    0.9s finished\n",
      "[Parallel(n_jobs=1)]: Using backend SequentialBackend with 1 concurrent workers.\n",
      "[Parallel(n_jobs=1)]: Done   1 out of   1 | elapsed:    0.0s remaining:    0.0s\n",
      "[Parallel(n_jobs=1)]: Done   2 out of   2 | elapsed:    0.0s remaining:    0.0s\n",
      "[Parallel(n_jobs=1)]: Done   3 out of   3 | elapsed:    0.0s remaining:    0.0s\n",
      "[Parallel(n_jobs=1)]: Done   4 out of   4 | elapsed:    0.0s remaining:    0.0s\n"
     ]
    },
    {
     "name": "stdout",
     "output_type": "stream",
     "text": [
      "Overwriting existing file.\n",
      "Reading F:\\Documents\\Science\\MirRevAdaptEEG\\data\\eeg\\p019\\lrp\\mra_p019_run0-epo.fif ...\n",
      "    Found the data of interest:\n",
      "        t =   -2000.00 ...    1995.00 ms\n",
      "        0 CTF compensation matrices available\n"
     ]
    },
    {
     "name": "stderr",
     "output_type": "stream",
     "text": [
      "[Parallel(n_jobs=1)]: Done 2880 out of 2880 | elapsed:    0.9s finished\n"
     ]
    },
    {
     "name": "stdout",
     "output_type": "stream",
     "text": [
      "Not setting metadata\n",
      "419 matching events found\n",
      "No baseline correction applied\n",
      "0 projection items activated\n",
      "Applying baseline correction (mode: mean)\n",
      "Overwriting existing file.\n",
      "Setting up low-pass filter at 30 Hz\n",
      "\n",
      "FIR filter parameters\n",
      "---------------------\n",
      "Designing a one-pass, zero-phase, non-causal lowpass filter:\n",
      "- Windowed time-domain design (firwin) method\n",
      "- Hamming window with 0.0194 passband ripple and 53 dB stopband attenuation\n",
      "- Upper passband edge: 30.00 Hz\n",
      "- Upper transition bandwidth: 7.50 Hz (-6 dB cutoff frequency: 33.75 Hz)\n",
      "- Filter length: 89 samples (0.445 sec)\n",
      "\n"
     ]
    },
    {
     "name": "stderr",
     "output_type": "stream",
     "text": [
      "[Parallel(n_jobs=1)]: Using backend SequentialBackend with 1 concurrent workers.\n",
      "[Parallel(n_jobs=1)]: Done   1 out of   1 | elapsed:    0.0s remaining:    0.0s\n",
      "[Parallel(n_jobs=1)]: Done   2 out of   2 | elapsed:    0.0s remaining:    0.0s\n",
      "[Parallel(n_jobs=1)]: Done   3 out of   3 | elapsed:    0.0s remaining:    0.0s\n",
      "[Parallel(n_jobs=1)]: Done   4 out of   4 | elapsed:    0.0s remaining:    0.0s\n"
     ]
    },
    {
     "name": "stdout",
     "output_type": "stream",
     "text": [
      "Overwriting existing file.\n",
      "Overwriting existing file.\n",
      "Setting up low-pass filter at 30 Hz\n",
      "\n",
      "FIR filter parameters\n",
      "---------------------\n",
      "Designing a one-pass, zero-phase, non-causal lowpass filter:\n",
      "- Windowed time-domain design (firwin) method\n",
      "- Hamming window with 0.0194 passband ripple and 53 dB stopband attenuation\n",
      "- Upper passband edge: 30.00 Hz\n",
      "- Upper transition bandwidth: 7.50 Hz (-6 dB cutoff frequency: 33.75 Hz)\n",
      "- Filter length: 89 samples (0.445 sec)\n",
      "\n"
     ]
    },
    {
     "name": "stderr",
     "output_type": "stream",
     "text": [
      "[Parallel(n_jobs=1)]: Done 2880 out of 2880 | elapsed:    0.9s finished\n",
      "[Parallel(n_jobs=1)]: Using backend SequentialBackend with 1 concurrent workers.\n",
      "[Parallel(n_jobs=1)]: Done   1 out of   1 | elapsed:    0.0s remaining:    0.0s\n",
      "[Parallel(n_jobs=1)]: Done   2 out of   2 | elapsed:    0.0s remaining:    0.0s\n",
      "[Parallel(n_jobs=1)]: Done   3 out of   3 | elapsed:    0.0s remaining:    0.0s\n",
      "[Parallel(n_jobs=1)]: Done   4 out of   4 | elapsed:    0.0s remaining:    0.0s\n"
     ]
    },
    {
     "name": "stdout",
     "output_type": "stream",
     "text": [
      "Overwriting existing file.\n",
      "Reading F:\\Documents\\Science\\MirRevAdaptEEG\\data\\eeg\\p020\\lrp\\mra_p020_run0-epo.fif ...\n",
      "    Found the data of interest:\n",
      "        t =   -2000.00 ...    1995.00 ms\n",
      "        0 CTF compensation matrices available\n"
     ]
    },
    {
     "name": "stderr",
     "output_type": "stream",
     "text": [
      "[Parallel(n_jobs=1)]: Done 2880 out of 2880 | elapsed:    1.0s finished\n"
     ]
    },
    {
     "name": "stdout",
     "output_type": "stream",
     "text": [
      "Not setting metadata\n",
      "420 matching events found\n",
      "No baseline correction applied\n",
      "0 projection items activated\n",
      "Applying baseline correction (mode: mean)\n",
      "Reading F:\\Documents\\Science\\MirRevAdaptEEG\\data\\eeg\\p021\\lrp\\mra_p021_run0-epo.fif ...\n",
      "    Found the data of interest:\n",
      "        t =   -2000.00 ...    1995.00 ms\n",
      "        0 CTF compensation matrices available\n",
      "Not setting metadata\n",
      "419 matching events found\n",
      "No baseline correction applied\n",
      "0 projection items activated\n",
      "Applying baseline correction (mode: mean)\n",
      "Reading F:\\Documents\\Science\\MirRevAdaptEEG\\data\\eeg\\p022\\lrp\\mra_p022_run0-epo.fif ...\n",
      "    Found the data of interest:\n",
      "        t =   -2000.00 ...    1995.00 ms\n",
      "        0 CTF compensation matrices available\n",
      "Not setting metadata\n",
      "420 matching events found\n",
      "No baseline correction applied\n",
      "0 projection items activated\n",
      "Applying baseline correction (mode: mean)\n",
      "Reading F:\\Documents\\Science\\MirRevAdaptEEG\\data\\eeg\\p023\\lrp\\mra_p023_run0-epo.fif ...\n",
      "    Found the data of interest:\n",
      "        t =   -2000.00 ...    1995.00 ms\n",
      "        0 CTF compensation matrices available\n",
      "Not setting metadata\n",
      "420 matching events found\n",
      "No baseline correction applied\n",
      "0 projection items activated\n",
      "Applying baseline correction (mode: mean)\n",
      "Reading F:\\Documents\\Science\\MirRevAdaptEEG\\data\\eeg\\p024\\lrp\\mra_p024_run0-epo.fif ...\n",
      "    Found the data of interest:\n",
      "        t =   -2000.00 ...    1995.00 ms\n",
      "        0 CTF compensation matrices available\n",
      "Not setting metadata\n",
      "420 matching events found\n",
      "No baseline correction applied\n",
      "0 projection items activated\n",
      "Applying baseline correction (mode: mean)\n",
      "Overwriting existing file.\n",
      "Setting up low-pass filter at 30 Hz\n",
      "\n",
      "FIR filter parameters\n",
      "---------------------\n",
      "Designing a one-pass, zero-phase, non-causal lowpass filter:\n",
      "- Windowed time-domain design (firwin) method\n",
      "- Hamming window with 0.0194 passband ripple and 53 dB stopband attenuation\n",
      "- Upper passband edge: 30.00 Hz\n",
      "- Upper transition bandwidth: 7.50 Hz (-6 dB cutoff frequency: 33.75 Hz)\n",
      "- Filter length: 89 samples (0.445 sec)\n",
      "\n"
     ]
    },
    {
     "name": "stderr",
     "output_type": "stream",
     "text": [
      "[Parallel(n_jobs=1)]: Using backend SequentialBackend with 1 concurrent workers.\n",
      "[Parallel(n_jobs=1)]: Done   1 out of   1 | elapsed:    0.0s remaining:    0.0s\n",
      "[Parallel(n_jobs=1)]: Done   2 out of   2 | elapsed:    0.0s remaining:    0.0s\n",
      "[Parallel(n_jobs=1)]: Done   3 out of   3 | elapsed:    0.0s remaining:    0.0s\n",
      "[Parallel(n_jobs=1)]: Done   4 out of   4 | elapsed:    0.0s remaining:    0.0s\n"
     ]
    },
    {
     "name": "stdout",
     "output_type": "stream",
     "text": [
      "Overwriting existing file.\n",
      "Overwriting existing file.\n",
      "Setting up low-pass filter at 30 Hz\n",
      "\n",
      "FIR filter parameters\n",
      "---------------------\n",
      "Designing a one-pass, zero-phase, non-causal lowpass filter:\n",
      "- Windowed time-domain design (firwin) method\n",
      "- Hamming window with 0.0194 passband ripple and 53 dB stopband attenuation\n",
      "- Upper passband edge: 30.00 Hz\n",
      "- Upper transition bandwidth: 7.50 Hz (-6 dB cutoff frequency: 33.75 Hz)\n",
      "- Filter length: 89 samples (0.445 sec)\n",
      "\n"
     ]
    },
    {
     "name": "stderr",
     "output_type": "stream",
     "text": [
      "[Parallel(n_jobs=1)]: Done 2880 out of 2880 | elapsed:    1.0s finished\n",
      "[Parallel(n_jobs=1)]: Using backend SequentialBackend with 1 concurrent workers.\n",
      "[Parallel(n_jobs=1)]: Done   1 out of   1 | elapsed:    0.0s remaining:    0.0s\n",
      "[Parallel(n_jobs=1)]: Done   2 out of   2 | elapsed:    0.0s remaining:    0.0s\n",
      "[Parallel(n_jobs=1)]: Done   3 out of   3 | elapsed:    0.0s remaining:    0.0s\n",
      "[Parallel(n_jobs=1)]: Done   4 out of   4 | elapsed:    0.0s remaining:    0.0s\n"
     ]
    },
    {
     "name": "stdout",
     "output_type": "stream",
     "text": [
      "Overwriting existing file.\n",
      "Reading F:\\Documents\\Science\\MirRevAdaptEEG\\data\\eeg\\p025\\lrp\\mra_p025_run0-epo.fif ...\n",
      "    Found the data of interest:\n",
      "        t =   -2000.00 ...    1995.00 ms\n",
      "        0 CTF compensation matrices available\n"
     ]
    },
    {
     "name": "stderr",
     "output_type": "stream",
     "text": [
      "[Parallel(n_jobs=1)]: Done 2880 out of 2880 | elapsed:    0.9s finished\n"
     ]
    },
    {
     "name": "stdout",
     "output_type": "stream",
     "text": [
      "Not setting metadata\n",
      "420 matching events found\n",
      "No baseline correction applied\n",
      "0 projection items activated\n",
      "Applying baseline correction (mode: mean)\n",
      "Overwriting existing file.\n",
      "Setting up low-pass filter at 30 Hz\n",
      "\n",
      "FIR filter parameters\n",
      "---------------------\n",
      "Designing a one-pass, zero-phase, non-causal lowpass filter:\n",
      "- Windowed time-domain design (firwin) method\n",
      "- Hamming window with 0.0194 passband ripple and 53 dB stopband attenuation\n",
      "- Upper passband edge: 30.00 Hz\n",
      "- Upper transition bandwidth: 7.50 Hz (-6 dB cutoff frequency: 33.75 Hz)\n",
      "- Filter length: 89 samples (0.445 sec)\n",
      "\n"
     ]
    },
    {
     "name": "stderr",
     "output_type": "stream",
     "text": [
      "[Parallel(n_jobs=1)]: Using backend SequentialBackend with 1 concurrent workers.\n",
      "[Parallel(n_jobs=1)]: Done   1 out of   1 | elapsed:    0.0s remaining:    0.0s\n",
      "[Parallel(n_jobs=1)]: Done   2 out of   2 | elapsed:    0.0s remaining:    0.0s\n",
      "[Parallel(n_jobs=1)]: Done   3 out of   3 | elapsed:    0.0s remaining:    0.0s\n",
      "[Parallel(n_jobs=1)]: Done   4 out of   4 | elapsed:    0.0s remaining:    0.0s\n"
     ]
    },
    {
     "name": "stdout",
     "output_type": "stream",
     "text": [
      "Overwriting existing file.\n",
      "Overwriting existing file.\n",
      "Setting up low-pass filter at 30 Hz\n",
      "\n",
      "FIR filter parameters\n",
      "---------------------\n",
      "Designing a one-pass, zero-phase, non-causal lowpass filter:\n",
      "- Windowed time-domain design (firwin) method\n",
      "- Hamming window with 0.0194 passband ripple and 53 dB stopband attenuation\n",
      "- Upper passband edge: 30.00 Hz\n",
      "- Upper transition bandwidth: 7.50 Hz (-6 dB cutoff frequency: 33.75 Hz)\n",
      "- Filter length: 89 samples (0.445 sec)\n",
      "\n"
     ]
    },
    {
     "name": "stderr",
     "output_type": "stream",
     "text": [
      "[Parallel(n_jobs=1)]: Done 2880 out of 2880 | elapsed:    0.9s finished\n",
      "[Parallel(n_jobs=1)]: Using backend SequentialBackend with 1 concurrent workers.\n",
      "[Parallel(n_jobs=1)]: Done   1 out of   1 | elapsed:    0.0s remaining:    0.0s\n",
      "[Parallel(n_jobs=1)]: Done   2 out of   2 | elapsed:    0.0s remaining:    0.0s\n",
      "[Parallel(n_jobs=1)]: Done   3 out of   3 | elapsed:    0.0s remaining:    0.0s\n",
      "[Parallel(n_jobs=1)]: Done   4 out of   4 | elapsed:    0.0s remaining:    0.0s\n"
     ]
    },
    {
     "name": "stdout",
     "output_type": "stream",
     "text": [
      "Overwriting existing file.\n",
      "Reading F:\\Documents\\Science\\MirRevAdaptEEG\\data\\eeg\\p026\\lrp\\mra_p026_run0-epo.fif ...\n",
      "    Found the data of interest:\n",
      "        t =   -2000.00 ...    1995.00 ms\n",
      "        0 CTF compensation matrices available\n"
     ]
    },
    {
     "name": "stderr",
     "output_type": "stream",
     "text": [
      "[Parallel(n_jobs=1)]: Done 2880 out of 2880 | elapsed:    0.9s finished\n"
     ]
    },
    {
     "name": "stdout",
     "output_type": "stream",
     "text": [
      "Not setting metadata\n",
      "420 matching events found\n",
      "No baseline correction applied\n",
      "0 projection items activated\n",
      "Applying baseline correction (mode: mean)\n",
      "Overwriting existing file.\n",
      "Setting up low-pass filter at 30 Hz\n",
      "\n",
      "FIR filter parameters\n",
      "---------------------\n",
      "Designing a one-pass, zero-phase, non-causal lowpass filter:\n",
      "- Windowed time-domain design (firwin) method\n",
      "- Hamming window with 0.0194 passband ripple and 53 dB stopband attenuation\n",
      "- Upper passband edge: 30.00 Hz\n",
      "- Upper transition bandwidth: 7.50 Hz (-6 dB cutoff frequency: 33.75 Hz)\n",
      "- Filter length: 89 samples (0.445 sec)\n",
      "\n"
     ]
    },
    {
     "name": "stderr",
     "output_type": "stream",
     "text": [
      "[Parallel(n_jobs=1)]: Using backend SequentialBackend with 1 concurrent workers.\n",
      "[Parallel(n_jobs=1)]: Done   1 out of   1 | elapsed:    0.0s remaining:    0.0s\n",
      "[Parallel(n_jobs=1)]: Done   2 out of   2 | elapsed:    0.0s remaining:    0.0s\n",
      "[Parallel(n_jobs=1)]: Done   3 out of   3 | elapsed:    0.0s remaining:    0.0s\n",
      "[Parallel(n_jobs=1)]: Done   4 out of   4 | elapsed:    0.0s remaining:    0.0s\n"
     ]
    },
    {
     "name": "stdout",
     "output_type": "stream",
     "text": [
      "Overwriting existing file.\n",
      "Overwriting existing file.\n",
      "Setting up low-pass filter at 30 Hz\n",
      "\n",
      "FIR filter parameters\n",
      "---------------------\n",
      "Designing a one-pass, zero-phase, non-causal lowpass filter:\n",
      "- Windowed time-domain design (firwin) method\n",
      "- Hamming window with 0.0194 passband ripple and 53 dB stopband attenuation\n",
      "- Upper passband edge: 30.00 Hz\n",
      "- Upper transition bandwidth: 7.50 Hz (-6 dB cutoff frequency: 33.75 Hz)\n",
      "- Filter length: 89 samples (0.445 sec)\n",
      "\n"
     ]
    },
    {
     "name": "stderr",
     "output_type": "stream",
     "text": [
      "[Parallel(n_jobs=1)]: Done 2880 out of 2880 | elapsed:    0.9s finished\n",
      "[Parallel(n_jobs=1)]: Using backend SequentialBackend with 1 concurrent workers.\n",
      "[Parallel(n_jobs=1)]: Done   1 out of   1 | elapsed:    0.0s remaining:    0.0s\n",
      "[Parallel(n_jobs=1)]: Done   2 out of   2 | elapsed:    0.0s remaining:    0.0s\n",
      "[Parallel(n_jobs=1)]: Done   3 out of   3 | elapsed:    0.0s remaining:    0.0s\n",
      "[Parallel(n_jobs=1)]: Done   4 out of   4 | elapsed:    0.0s remaining:    0.0s\n"
     ]
    },
    {
     "name": "stdout",
     "output_type": "stream",
     "text": [
      "Overwriting existing file.\n",
      "Reading F:\\Documents\\Science\\MirRevAdaptEEG\\data\\eeg\\p027\\lrp\\mra_p027_run0-epo.fif ...\n",
      "    Found the data of interest:\n",
      "        t =   -2000.00 ...    1995.00 ms\n",
      "        0 CTF compensation matrices available\n"
     ]
    },
    {
     "name": "stderr",
     "output_type": "stream",
     "text": [
      "[Parallel(n_jobs=1)]: Done 2880 out of 2880 | elapsed:    0.9s finished\n"
     ]
    },
    {
     "name": "stdout",
     "output_type": "stream",
     "text": [
      "Not setting metadata\n",
      "419 matching events found\n",
      "No baseline correction applied\n",
      "0 projection items activated\n",
      "Applying baseline correction (mode: mean)\n",
      "Overwriting existing file.\n",
      "Setting up low-pass filter at 30 Hz\n",
      "\n",
      "FIR filter parameters\n",
      "---------------------\n",
      "Designing a one-pass, zero-phase, non-causal lowpass filter:\n",
      "- Windowed time-domain design (firwin) method\n",
      "- Hamming window with 0.0194 passband ripple and 53 dB stopband attenuation\n",
      "- Upper passband edge: 30.00 Hz\n",
      "- Upper transition bandwidth: 7.50 Hz (-6 dB cutoff frequency: 33.75 Hz)\n",
      "- Filter length: 89 samples (0.445 sec)\n",
      "\n"
     ]
    },
    {
     "name": "stderr",
     "output_type": "stream",
     "text": [
      "[Parallel(n_jobs=1)]: Using backend SequentialBackend with 1 concurrent workers.\n",
      "[Parallel(n_jobs=1)]: Done   1 out of   1 | elapsed:    0.0s remaining:    0.0s\n",
      "[Parallel(n_jobs=1)]: Done   2 out of   2 | elapsed:    0.0s remaining:    0.0s\n",
      "[Parallel(n_jobs=1)]: Done   3 out of   3 | elapsed:    0.0s remaining:    0.0s\n",
      "[Parallel(n_jobs=1)]: Done   4 out of   4 | elapsed:    0.0s remaining:    0.0s\n"
     ]
    },
    {
     "name": "stdout",
     "output_type": "stream",
     "text": [
      "Overwriting existing file.\n",
      "Overwriting existing file.\n",
      "Setting up low-pass filter at 30 Hz\n",
      "\n",
      "FIR filter parameters\n",
      "---------------------\n",
      "Designing a one-pass, zero-phase, non-causal lowpass filter:\n",
      "- Windowed time-domain design (firwin) method\n",
      "- Hamming window with 0.0194 passband ripple and 53 dB stopband attenuation\n",
      "- Upper passband edge: 30.00 Hz\n",
      "- Upper transition bandwidth: 7.50 Hz (-6 dB cutoff frequency: 33.75 Hz)\n",
      "- Filter length: 89 samples (0.445 sec)\n",
      "\n"
     ]
    },
    {
     "name": "stderr",
     "output_type": "stream",
     "text": [
      "[Parallel(n_jobs=1)]: Done 2880 out of 2880 | elapsed:    0.9s finished\n",
      "[Parallel(n_jobs=1)]: Using backend SequentialBackend with 1 concurrent workers.\n",
      "[Parallel(n_jobs=1)]: Done   1 out of   1 | elapsed:    0.0s remaining:    0.0s\n",
      "[Parallel(n_jobs=1)]: Done   2 out of   2 | elapsed:    0.0s remaining:    0.0s\n",
      "[Parallel(n_jobs=1)]: Done   3 out of   3 | elapsed:    0.0s remaining:    0.0s\n",
      "[Parallel(n_jobs=1)]: Done   4 out of   4 | elapsed:    0.0s remaining:    0.0s\n"
     ]
    },
    {
     "name": "stdout",
     "output_type": "stream",
     "text": [
      "Overwriting existing file.\n",
      "Reading F:\\Documents\\Science\\MirRevAdaptEEG\\data\\eeg\\p028\\lrp\\mra_p028_run0-epo.fif ...\n",
      "    Found the data of interest:\n",
      "        t =   -2000.00 ...    1995.00 ms\n",
      "        0 CTF compensation matrices available\n"
     ]
    },
    {
     "name": "stderr",
     "output_type": "stream",
     "text": [
      "[Parallel(n_jobs=1)]: Done 2880 out of 2880 | elapsed:    1.0s finished\n"
     ]
    },
    {
     "name": "stdout",
     "output_type": "stream",
     "text": [
      "Not setting metadata\n",
      "420 matching events found\n",
      "No baseline correction applied\n",
      "0 projection items activated\n",
      "Applying baseline correction (mode: mean)\n",
      "Reading F:\\Documents\\Science\\MirRevAdaptEEG\\data\\eeg\\p029\\lrp\\mra_p029_run0-epo.fif ...\n",
      "    Found the data of interest:\n",
      "        t =   -2000.00 ...    1995.00 ms\n",
      "        0 CTF compensation matrices available\n",
      "Not setting metadata\n",
      "420 matching events found\n",
      "No baseline correction applied\n",
      "0 projection items activated\n",
      "Applying baseline correction (mode: mean)\n",
      "Reading F:\\Documents\\Science\\MirRevAdaptEEG\\data\\eeg\\p030\\lrp\\mra_p030_run0-epo.fif ...\n",
      "    Found the data of interest:\n",
      "        t =   -2000.00 ...    1995.00 ms\n",
      "        0 CTF compensation matrices available\n",
      "Not setting metadata\n",
      "420 matching events found\n",
      "No baseline correction applied\n",
      "0 projection items activated\n",
      "Applying baseline correction (mode: mean)\n",
      "Reading F:\\Documents\\Science\\MirRevAdaptEEG\\data\\eeg\\p031\\lrp\\mra_p031_run0-epo.fif ...\n",
      "    Found the data of interest:\n",
      "        t =   -2000.00 ...    1995.00 ms\n",
      "        0 CTF compensation matrices available\n",
      "Not setting metadata\n",
      "420 matching events found\n",
      "No baseline correction applied\n",
      "0 projection items activated\n",
      "Applying baseline correction (mode: mean)\n",
      "Reading F:\\Documents\\Science\\MirRevAdaptEEG\\data\\eeg\\p000\\lrp\\mra_p000_run0-epo.fif ...\n",
      "    Found the data of interest:\n",
      "        t =   -2000.00 ...    1995.00 ms\n",
      "        0 CTF compensation matrices available\n",
      "Not setting metadata\n",
      "420 matching events found\n",
      "No baseline correction applied\n",
      "0 projection items activated\n",
      "Applying baseline correction (mode: mean)\n",
      "Reading F:\\Documents\\Science\\MirRevAdaptEEG\\data\\eeg\\p001\\lrp\\mra_p001_run0-epo.fif ...\n",
      "    Found the data of interest:\n",
      "        t =   -2000.00 ...    1995.00 ms\n",
      "        0 CTF compensation matrices available\n",
      "Not setting metadata\n",
      "420 matching events found\n",
      "No baseline correction applied\n",
      "0 projection items activated\n",
      "Applying baseline correction (mode: mean)\n",
      "Reading F:\\Documents\\Science\\MirRevAdaptEEG\\data\\eeg\\p002\\lrp\\mra_p002_run0-epo.fif ...\n",
      "    Found the data of interest:\n",
      "        t =   -2000.00 ...    1995.00 ms\n",
      "        0 CTF compensation matrices available\n",
      "Not setting metadata\n",
      "419 matching events found\n",
      "No baseline correction applied\n",
      "0 projection items activated\n",
      "Applying baseline correction (mode: mean)\n",
      "Reading F:\\Documents\\Science\\MirRevAdaptEEG\\data\\eeg\\p003\\lrp\\mra_p003_run0-epo.fif ...\n",
      "    Found the data of interest:\n",
      "        t =   -2000.00 ...    1995.00 ms\n",
      "        0 CTF compensation matrices available\n",
      "Not setting metadata\n",
      "418 matching events found\n",
      "No baseline correction applied\n",
      "0 projection items activated\n",
      "Applying baseline correction (mode: mean)\n",
      "Reading F:\\Documents\\Science\\MirRevAdaptEEG\\data\\eeg\\p004\\lrp\\mra_p004_run0-epo.fif ...\n",
      "    Found the data of interest:\n",
      "        t =   -2000.00 ...    1995.00 ms\n",
      "        0 CTF compensation matrices available\n",
      "Not setting metadata\n",
      "418 matching events found\n",
      "No baseline correction applied\n",
      "0 projection items activated\n",
      "Applying baseline correction (mode: mean)\n",
      "Overwriting existing file.\n",
      "Setting up low-pass filter at 30 Hz\n",
      "\n",
      "FIR filter parameters\n",
      "---------------------\n",
      "Designing a one-pass, zero-phase, non-causal lowpass filter:\n",
      "- Windowed time-domain design (firwin) method\n",
      "- Hamming window with 0.0194 passband ripple and 53 dB stopband attenuation\n",
      "- Upper passband edge: 30.00 Hz\n",
      "- Upper transition bandwidth: 7.50 Hz (-6 dB cutoff frequency: 33.75 Hz)\n",
      "- Filter length: 89 samples (0.445 sec)\n",
      "\n"
     ]
    },
    {
     "name": "stderr",
     "output_type": "stream",
     "text": [
      "[Parallel(n_jobs=1)]: Using backend SequentialBackend with 1 concurrent workers.\n",
      "[Parallel(n_jobs=1)]: Done   1 out of   1 | elapsed:    0.0s remaining:    0.0s\n",
      "[Parallel(n_jobs=1)]: Done   2 out of   2 | elapsed:    0.0s remaining:    0.0s\n",
      "[Parallel(n_jobs=1)]: Done   3 out of   3 | elapsed:    0.0s remaining:    0.0s\n",
      "[Parallel(n_jobs=1)]: Done   4 out of   4 | elapsed:    0.0s remaining:    0.0s\n"
     ]
    },
    {
     "name": "stdout",
     "output_type": "stream",
     "text": [
      "Overwriting existing file.\n",
      "Overwriting existing file.\n",
      "Setting up low-pass filter at 30 Hz\n",
      "\n",
      "FIR filter parameters\n",
      "---------------------\n",
      "Designing a one-pass, zero-phase, non-causal lowpass filter:\n",
      "- Windowed time-domain design (firwin) method\n",
      "- Hamming window with 0.0194 passband ripple and 53 dB stopband attenuation\n",
      "- Upper passband edge: 30.00 Hz\n",
      "- Upper transition bandwidth: 7.50 Hz (-6 dB cutoff frequency: 33.75 Hz)\n",
      "- Filter length: 89 samples (0.445 sec)\n",
      "\n"
     ]
    },
    {
     "name": "stderr",
     "output_type": "stream",
     "text": [
      "[Parallel(n_jobs=1)]: Done 2880 out of 2880 | elapsed:    0.9s finished\n",
      "[Parallel(n_jobs=1)]: Using backend SequentialBackend with 1 concurrent workers.\n",
      "[Parallel(n_jobs=1)]: Done   1 out of   1 | elapsed:    0.0s remaining:    0.0s\n",
      "[Parallel(n_jobs=1)]: Done   2 out of   2 | elapsed:    0.0s remaining:    0.0s\n",
      "[Parallel(n_jobs=1)]: Done   3 out of   3 | elapsed:    0.0s remaining:    0.0s\n",
      "[Parallel(n_jobs=1)]: Done   4 out of   4 | elapsed:    0.0s remaining:    0.0s\n"
     ]
    },
    {
     "name": "stdout",
     "output_type": "stream",
     "text": [
      "Overwriting existing file.\n",
      "Reading F:\\Documents\\Science\\MirRevAdaptEEG\\data\\eeg\\p005\\lrp\\mra_p005_run0-epo.fif ...\n",
      "    Found the data of interest:\n",
      "        t =   -2000.00 ...    1995.00 ms\n",
      "        0 CTF compensation matrices available\n"
     ]
    },
    {
     "name": "stderr",
     "output_type": "stream",
     "text": [
      "[Parallel(n_jobs=1)]: Done 2880 out of 2880 | elapsed:    0.9s finished\n"
     ]
    },
    {
     "name": "stdout",
     "output_type": "stream",
     "text": [
      "Not setting metadata\n",
      "419 matching events found\n",
      "No baseline correction applied\n",
      "0 projection items activated\n",
      "Applying baseline correction (mode: mean)\n",
      "Overwriting existing file.\n",
      "Setting up low-pass filter at 30 Hz\n",
      "\n",
      "FIR filter parameters\n",
      "---------------------\n",
      "Designing a one-pass, zero-phase, non-causal lowpass filter:\n",
      "- Windowed time-domain design (firwin) method\n",
      "- Hamming window with 0.0194 passband ripple and 53 dB stopband attenuation\n",
      "- Upper passband edge: 30.00 Hz\n",
      "- Upper transition bandwidth: 7.50 Hz (-6 dB cutoff frequency: 33.75 Hz)\n",
      "- Filter length: 89 samples (0.445 sec)\n",
      "\n"
     ]
    },
    {
     "name": "stderr",
     "output_type": "stream",
     "text": [
      "[Parallel(n_jobs=1)]: Using backend SequentialBackend with 1 concurrent workers.\n",
      "[Parallel(n_jobs=1)]: Done   1 out of   1 | elapsed:    0.0s remaining:    0.0s\n",
      "[Parallel(n_jobs=1)]: Done   2 out of   2 | elapsed:    0.0s remaining:    0.0s\n",
      "[Parallel(n_jobs=1)]: Done   3 out of   3 | elapsed:    0.0s remaining:    0.0s\n",
      "[Parallel(n_jobs=1)]: Done   4 out of   4 | elapsed:    0.0s remaining:    0.0s\n"
     ]
    },
    {
     "name": "stdout",
     "output_type": "stream",
     "text": [
      "Overwriting existing file.\n",
      "Overwriting existing file.\n",
      "Setting up low-pass filter at 30 Hz\n",
      "\n",
      "FIR filter parameters\n",
      "---------------------\n",
      "Designing a one-pass, zero-phase, non-causal lowpass filter:\n",
      "- Windowed time-domain design (firwin) method\n",
      "- Hamming window with 0.0194 passband ripple and 53 dB stopband attenuation\n",
      "- Upper passband edge: 30.00 Hz\n",
      "- Upper transition bandwidth: 7.50 Hz (-6 dB cutoff frequency: 33.75 Hz)\n",
      "- Filter length: 89 samples (0.445 sec)\n",
      "\n"
     ]
    },
    {
     "name": "stderr",
     "output_type": "stream",
     "text": [
      "[Parallel(n_jobs=1)]: Done 2752 out of 2752 | elapsed:    0.9s finished\n",
      "[Parallel(n_jobs=1)]: Using backend SequentialBackend with 1 concurrent workers.\n",
      "[Parallel(n_jobs=1)]: Done   1 out of   1 | elapsed:    0.0s remaining:    0.0s\n",
      "[Parallel(n_jobs=1)]: Done   2 out of   2 | elapsed:    0.0s remaining:    0.0s\n",
      "[Parallel(n_jobs=1)]: Done   3 out of   3 | elapsed:    0.0s remaining:    0.0s\n",
      "[Parallel(n_jobs=1)]: Done   4 out of   4 | elapsed:    0.0s remaining:    0.0s\n"
     ]
    },
    {
     "name": "stdout",
     "output_type": "stream",
     "text": [
      "Overwriting existing file.\n",
      "Reading F:\\Documents\\Science\\MirRevAdaptEEG\\data\\eeg\\p006\\lrp\\mra_p006_run0-epo.fif ...\n",
      "    Found the data of interest:\n",
      "        t =   -2000.00 ...    1995.00 ms\n",
      "        0 CTF compensation matrices available\n"
     ]
    },
    {
     "name": "stderr",
     "output_type": "stream",
     "text": [
      "[Parallel(n_jobs=1)]: Done 3008 out of 3008 | elapsed:    1.0s finished\n"
     ]
    },
    {
     "name": "stdout",
     "output_type": "stream",
     "text": [
      "Not setting metadata\n",
      "418 matching events found\n",
      "No baseline correction applied\n",
      "0 projection items activated\n",
      "Applying baseline correction (mode: mean)\n",
      "Overwriting existing file.\n",
      "Setting up low-pass filter at 30 Hz\n",
      "\n",
      "FIR filter parameters\n",
      "---------------------\n",
      "Designing a one-pass, zero-phase, non-causal lowpass filter:\n",
      "- Windowed time-domain design (firwin) method\n",
      "- Hamming window with 0.0194 passband ripple and 53 dB stopband attenuation\n",
      "- Upper passband edge: 30.00 Hz\n",
      "- Upper transition bandwidth: 7.50 Hz (-6 dB cutoff frequency: 33.75 Hz)\n",
      "- Filter length: 89 samples (0.445 sec)\n",
      "\n"
     ]
    },
    {
     "name": "stderr",
     "output_type": "stream",
     "text": [
      "[Parallel(n_jobs=1)]: Using backend SequentialBackend with 1 concurrent workers.\n",
      "[Parallel(n_jobs=1)]: Done   1 out of   1 | elapsed:    0.0s remaining:    0.0s\n",
      "[Parallel(n_jobs=1)]: Done   2 out of   2 | elapsed:    0.0s remaining:    0.0s\n",
      "[Parallel(n_jobs=1)]: Done   3 out of   3 | elapsed:    0.0s remaining:    0.0s\n",
      "[Parallel(n_jobs=1)]: Done   4 out of   4 | elapsed:    0.0s remaining:    0.0s\n"
     ]
    },
    {
     "name": "stdout",
     "output_type": "stream",
     "text": [
      "Overwriting existing file.\n",
      "Overwriting existing file.\n",
      "Setting up low-pass filter at 30 Hz\n",
      "\n",
      "FIR filter parameters\n",
      "---------------------\n",
      "Designing a one-pass, zero-phase, non-causal lowpass filter:\n",
      "- Windowed time-domain design (firwin) method\n",
      "- Hamming window with 0.0194 passband ripple and 53 dB stopband attenuation\n",
      "- Upper passband edge: 30.00 Hz\n",
      "- Upper transition bandwidth: 7.50 Hz (-6 dB cutoff frequency: 33.75 Hz)\n",
      "- Filter length: 89 samples (0.445 sec)\n",
      "\n"
     ]
    },
    {
     "name": "stderr",
     "output_type": "stream",
     "text": [
      "[Parallel(n_jobs=1)]: Done 2880 out of 2880 | elapsed:    1.0s finished\n",
      "[Parallel(n_jobs=1)]: Using backend SequentialBackend with 1 concurrent workers.\n",
      "[Parallel(n_jobs=1)]: Done   1 out of   1 | elapsed:    0.0s remaining:    0.0s\n",
      "[Parallel(n_jobs=1)]: Done   2 out of   2 | elapsed:    0.0s remaining:    0.0s\n",
      "[Parallel(n_jobs=1)]: Done   3 out of   3 | elapsed:    0.0s remaining:    0.0s\n",
      "[Parallel(n_jobs=1)]: Done   4 out of   4 | elapsed:    0.0s remaining:    0.0s\n"
     ]
    },
    {
     "name": "stdout",
     "output_type": "stream",
     "text": [
      "Overwriting existing file.\n",
      "Reading F:\\Documents\\Science\\MirRevAdaptEEG\\data\\eeg\\p007\\lrp\\mra_p007_run0-epo.fif ...\n",
      "    Found the data of interest:\n",
      "        t =   -2000.00 ...    1995.00 ms\n",
      "        0 CTF compensation matrices available\n"
     ]
    },
    {
     "name": "stderr",
     "output_type": "stream",
     "text": [
      "[Parallel(n_jobs=1)]: Done 2816 out of 2816 | elapsed:    0.9s finished\n"
     ]
    },
    {
     "name": "stdout",
     "output_type": "stream",
     "text": [
      "Not setting metadata\n",
      "420 matching events found\n",
      "No baseline correction applied\n",
      "0 projection items activated\n",
      "Applying baseline correction (mode: mean)\n",
      "Overwriting existing file.\n",
      "Setting up low-pass filter at 30 Hz\n",
      "\n",
      "FIR filter parameters\n",
      "---------------------\n",
      "Designing a one-pass, zero-phase, non-causal lowpass filter:\n",
      "- Windowed time-domain design (firwin) method\n",
      "- Hamming window with 0.0194 passband ripple and 53 dB stopband attenuation\n",
      "- Upper passband edge: 30.00 Hz\n",
      "- Upper transition bandwidth: 7.50 Hz (-6 dB cutoff frequency: 33.75 Hz)\n",
      "- Filter length: 89 samples (0.445 sec)\n",
      "\n"
     ]
    },
    {
     "name": "stderr",
     "output_type": "stream",
     "text": [
      "[Parallel(n_jobs=1)]: Using backend SequentialBackend with 1 concurrent workers.\n",
      "[Parallel(n_jobs=1)]: Done   1 out of   1 | elapsed:    0.0s remaining:    0.0s\n",
      "[Parallel(n_jobs=1)]: Done   2 out of   2 | elapsed:    0.0s remaining:    0.0s\n",
      "[Parallel(n_jobs=1)]: Done   3 out of   3 | elapsed:    0.0s remaining:    0.0s\n",
      "[Parallel(n_jobs=1)]: Done   4 out of   4 | elapsed:    0.0s remaining:    0.0s\n"
     ]
    },
    {
     "name": "stdout",
     "output_type": "stream",
     "text": [
      "Overwriting existing file.\n",
      "Overwriting existing file.\n",
      "Setting up low-pass filter at 30 Hz\n",
      "\n",
      "FIR filter parameters\n",
      "---------------------\n",
      "Designing a one-pass, zero-phase, non-causal lowpass filter:\n",
      "- Windowed time-domain design (firwin) method\n",
      "- Hamming window with 0.0194 passband ripple and 53 dB stopband attenuation\n",
      "- Upper passband edge: 30.00 Hz\n",
      "- Upper transition bandwidth: 7.50 Hz (-6 dB cutoff frequency: 33.75 Hz)\n",
      "- Filter length: 89 samples (0.445 sec)\n",
      "\n"
     ]
    },
    {
     "name": "stderr",
     "output_type": "stream",
     "text": [
      "[Parallel(n_jobs=1)]: Done 2944 out of 2944 | elapsed:    0.9s finished\n",
      "[Parallel(n_jobs=1)]: Using backend SequentialBackend with 1 concurrent workers.\n",
      "[Parallel(n_jobs=1)]: Done   1 out of   1 | elapsed:    0.0s remaining:    0.0s\n",
      "[Parallel(n_jobs=1)]: Done   2 out of   2 | elapsed:    0.0s remaining:    0.0s\n",
      "[Parallel(n_jobs=1)]: Done   3 out of   3 | elapsed:    0.0s remaining:    0.0s\n",
      "[Parallel(n_jobs=1)]: Done   4 out of   4 | elapsed:    0.0s remaining:    0.0s\n"
     ]
    },
    {
     "name": "stdout",
     "output_type": "stream",
     "text": [
      "Overwriting existing file.\n",
      "Reading F:\\Documents\\Science\\MirRevAdaptEEG\\data\\eeg\\p008\\lrp\\mra_p008_run0-epo.fif ...\n",
      "    Found the data of interest:\n",
      "        t =   -2000.00 ...    1995.00 ms\n",
      "        0 CTF compensation matrices available\n"
     ]
    },
    {
     "name": "stderr",
     "output_type": "stream",
     "text": [
      "[Parallel(n_jobs=1)]: Done 2816 out of 2816 | elapsed:    0.8s finished\n"
     ]
    },
    {
     "name": "stdout",
     "output_type": "stream",
     "text": [
      "Not setting metadata\n",
      "420 matching events found\n",
      "No baseline correction applied\n",
      "0 projection items activated\n",
      "Applying baseline correction (mode: mean)\n",
      "Reading F:\\Documents\\Science\\MirRevAdaptEEG\\data\\eeg\\p009\\lrp\\mra_p009_run0-epo.fif ...\n",
      "    Found the data of interest:\n",
      "        t =   -2000.00 ...    1995.00 ms\n",
      "        0 CTF compensation matrices available\n",
      "Not setting metadata\n",
      "419 matching events found\n",
      "No baseline correction applied\n",
      "0 projection items activated\n",
      "Applying baseline correction (mode: mean)\n",
      "Reading F:\\Documents\\Science\\MirRevAdaptEEG\\data\\eeg\\p010\\lrp\\mra_p010_run0-epo.fif ...\n",
      "    Found the data of interest:\n",
      "        t =   -2000.00 ...    1995.00 ms\n",
      "        0 CTF compensation matrices available\n",
      "Not setting metadata\n",
      "420 matching events found\n",
      "No baseline correction applied\n",
      "0 projection items activated\n",
      "Applying baseline correction (mode: mean)\n",
      "Reading F:\\Documents\\Science\\MirRevAdaptEEG\\data\\eeg\\p011\\lrp\\mra_p011_run0-epo.fif ...\n",
      "    Found the data of interest:\n",
      "        t =   -2000.00 ...    1995.00 ms\n",
      "        0 CTF compensation matrices available\n",
      "Not setting metadata\n",
      "419 matching events found\n",
      "No baseline correction applied\n",
      "0 projection items activated\n",
      "Applying baseline correction (mode: mean)\n",
      "Reading F:\\Documents\\Science\\MirRevAdaptEEG\\data\\eeg\\p012\\lrp\\mra_p012_run0-epo.fif ...\n",
      "    Found the data of interest:\n",
      "        t =   -2000.00 ...    1995.00 ms\n",
      "        0 CTF compensation matrices available\n",
      "Not setting metadata\n",
      "412 matching events found\n",
      "No baseline correction applied\n",
      "0 projection items activated\n",
      "Applying baseline correction (mode: mean)\n",
      "Overwriting existing file.\n",
      "Setting up low-pass filter at 30 Hz\n",
      "\n",
      "FIR filter parameters\n",
      "---------------------\n",
      "Designing a one-pass, zero-phase, non-causal lowpass filter:\n",
      "- Windowed time-domain design (firwin) method\n",
      "- Hamming window with 0.0194 passband ripple and 53 dB stopband attenuation\n",
      "- Upper passband edge: 30.00 Hz\n",
      "- Upper transition bandwidth: 7.50 Hz (-6 dB cutoff frequency: 33.75 Hz)\n",
      "- Filter length: 89 samples (0.445 sec)\n",
      "\n"
     ]
    },
    {
     "name": "stderr",
     "output_type": "stream",
     "text": [
      "[Parallel(n_jobs=1)]: Using backend SequentialBackend with 1 concurrent workers.\n",
      "[Parallel(n_jobs=1)]: Done   1 out of   1 | elapsed:    0.0s remaining:    0.0s\n",
      "[Parallel(n_jobs=1)]: Done   2 out of   2 | elapsed:    0.0s remaining:    0.0s\n",
      "[Parallel(n_jobs=1)]: Done   3 out of   3 | elapsed:    0.0s remaining:    0.0s\n",
      "[Parallel(n_jobs=1)]: Done   4 out of   4 | elapsed:    0.0s remaining:    0.0s\n"
     ]
    },
    {
     "name": "stdout",
     "output_type": "stream",
     "text": [
      "Overwriting existing file.\n",
      "Overwriting existing file.\n",
      "Setting up low-pass filter at 30 Hz\n",
      "\n",
      "FIR filter parameters\n",
      "---------------------\n",
      "Designing a one-pass, zero-phase, non-causal lowpass filter:\n",
      "- Windowed time-domain design (firwin) method\n",
      "- Hamming window with 0.0194 passband ripple and 53 dB stopband attenuation\n",
      "- Upper passband edge: 30.00 Hz\n",
      "- Upper transition bandwidth: 7.50 Hz (-6 dB cutoff frequency: 33.75 Hz)\n",
      "- Filter length: 89 samples (0.445 sec)\n",
      "\n"
     ]
    },
    {
     "name": "stderr",
     "output_type": "stream",
     "text": [
      "[Parallel(n_jobs=1)]: Done 3008 out of 3008 | elapsed:    0.9s finished\n",
      "[Parallel(n_jobs=1)]: Using backend SequentialBackend with 1 concurrent workers.\n",
      "[Parallel(n_jobs=1)]: Done   1 out of   1 | elapsed:    0.0s remaining:    0.0s\n",
      "[Parallel(n_jobs=1)]: Done   2 out of   2 | elapsed:    0.0s remaining:    0.0s\n",
      "[Parallel(n_jobs=1)]: Done   3 out of   3 | elapsed:    0.0s remaining:    0.0s\n",
      "[Parallel(n_jobs=1)]: Done   4 out of   4 | elapsed:    0.0s remaining:    0.0s\n"
     ]
    },
    {
     "name": "stdout",
     "output_type": "stream",
     "text": [
      "Overwriting existing file.\n",
      "Reading F:\\Documents\\Science\\MirRevAdaptEEG\\data\\eeg\\p013\\lrp\\mra_p013_run0-epo.fif ...\n",
      "    Found the data of interest:\n",
      "        t =   -2000.00 ...    1995.00 ms\n",
      "        0 CTF compensation matrices available\n"
     ]
    },
    {
     "name": "stderr",
     "output_type": "stream",
     "text": [
      "[Parallel(n_jobs=1)]: Done 2752 out of 2752 | elapsed:    0.8s finished\n"
     ]
    },
    {
     "name": "stdout",
     "output_type": "stream",
     "text": [
      "Not setting metadata\n",
      "416 matching events found\n",
      "No baseline correction applied\n",
      "0 projection items activated\n",
      "Applying baseline correction (mode: mean)\n",
      "Overwriting existing file.\n",
      "Setting up low-pass filter at 30 Hz\n",
      "\n",
      "FIR filter parameters\n",
      "---------------------\n",
      "Designing a one-pass, zero-phase, non-causal lowpass filter:\n",
      "- Windowed time-domain design (firwin) method\n",
      "- Hamming window with 0.0194 passband ripple and 53 dB stopband attenuation\n",
      "- Upper passband edge: 30.00 Hz\n",
      "- Upper transition bandwidth: 7.50 Hz (-6 dB cutoff frequency: 33.75 Hz)\n",
      "- Filter length: 89 samples (0.445 sec)\n",
      "\n"
     ]
    },
    {
     "name": "stderr",
     "output_type": "stream",
     "text": [
      "[Parallel(n_jobs=1)]: Using backend SequentialBackend with 1 concurrent workers.\n",
      "[Parallel(n_jobs=1)]: Done   1 out of   1 | elapsed:    0.0s remaining:    0.0s\n",
      "[Parallel(n_jobs=1)]: Done   2 out of   2 | elapsed:    0.0s remaining:    0.0s\n",
      "[Parallel(n_jobs=1)]: Done   3 out of   3 | elapsed:    0.0s remaining:    0.0s\n",
      "[Parallel(n_jobs=1)]: Done   4 out of   4 | elapsed:    0.0s remaining:    0.0s\n"
     ]
    },
    {
     "name": "stdout",
     "output_type": "stream",
     "text": [
      "Overwriting existing file.\n",
      "Overwriting existing file.\n",
      "Setting up low-pass filter at 30 Hz\n",
      "\n",
      "FIR filter parameters\n",
      "---------------------\n",
      "Designing a one-pass, zero-phase, non-causal lowpass filter:\n",
      "- Windowed time-domain design (firwin) method\n",
      "- Hamming window with 0.0194 passband ripple and 53 dB stopband attenuation\n",
      "- Upper passband edge: 30.00 Hz\n",
      "- Upper transition bandwidth: 7.50 Hz (-6 dB cutoff frequency: 33.75 Hz)\n",
      "- Filter length: 89 samples (0.445 sec)\n",
      "\n"
     ]
    },
    {
     "name": "stderr",
     "output_type": "stream",
     "text": [
      "[Parallel(n_jobs=1)]: Done 2816 out of 2816 | elapsed:    0.9s finished\n",
      "[Parallel(n_jobs=1)]: Using backend SequentialBackend with 1 concurrent workers.\n",
      "[Parallel(n_jobs=1)]: Done   1 out of   1 | elapsed:    0.0s remaining:    0.0s\n",
      "[Parallel(n_jobs=1)]: Done   2 out of   2 | elapsed:    0.0s remaining:    0.0s\n",
      "[Parallel(n_jobs=1)]: Done   3 out of   3 | elapsed:    0.0s remaining:    0.0s\n",
      "[Parallel(n_jobs=1)]: Done   4 out of   4 | elapsed:    0.0s remaining:    0.0s\n"
     ]
    },
    {
     "name": "stdout",
     "output_type": "stream",
     "text": [
      "Overwriting existing file.\n",
      "Reading F:\\Documents\\Science\\MirRevAdaptEEG\\data\\eeg\\p014\\lrp\\mra_p014_run0-epo.fif ...\n",
      "    Found the data of interest:\n",
      "        t =   -2000.00 ...    1995.00 ms\n",
      "        0 CTF compensation matrices available\n"
     ]
    },
    {
     "name": "stderr",
     "output_type": "stream",
     "text": [
      "[Parallel(n_jobs=1)]: Done 2944 out of 2944 | elapsed:    0.9s finished\n"
     ]
    },
    {
     "name": "stdout",
     "output_type": "stream",
     "text": [
      "Not setting metadata\n",
      "420 matching events found\n",
      "No baseline correction applied\n",
      "0 projection items activated\n",
      "Applying baseline correction (mode: mean)\n",
      "Overwriting existing file.\n",
      "Setting up low-pass filter at 30 Hz\n",
      "\n",
      "FIR filter parameters\n",
      "---------------------\n",
      "Designing a one-pass, zero-phase, non-causal lowpass filter:\n",
      "- Windowed time-domain design (firwin) method\n",
      "- Hamming window with 0.0194 passband ripple and 53 dB stopband attenuation\n",
      "- Upper passband edge: 30.00 Hz\n",
      "- Upper transition bandwidth: 7.50 Hz (-6 dB cutoff frequency: 33.75 Hz)\n",
      "- Filter length: 89 samples (0.445 sec)\n",
      "\n"
     ]
    },
    {
     "name": "stderr",
     "output_type": "stream",
     "text": [
      "[Parallel(n_jobs=1)]: Using backend SequentialBackend with 1 concurrent workers.\n",
      "[Parallel(n_jobs=1)]: Done   1 out of   1 | elapsed:    0.0s remaining:    0.0s\n",
      "[Parallel(n_jobs=1)]: Done   2 out of   2 | elapsed:    0.0s remaining:    0.0s\n",
      "[Parallel(n_jobs=1)]: Done   3 out of   3 | elapsed:    0.0s remaining:    0.0s\n",
      "[Parallel(n_jobs=1)]: Done   4 out of   4 | elapsed:    0.0s remaining:    0.0s\n"
     ]
    },
    {
     "name": "stdout",
     "output_type": "stream",
     "text": [
      "Overwriting existing file.\n",
      "Overwriting existing file.\n",
      "Setting up low-pass filter at 30 Hz\n",
      "\n",
      "FIR filter parameters\n",
      "---------------------\n",
      "Designing a one-pass, zero-phase, non-causal lowpass filter:\n",
      "- Windowed time-domain design (firwin) method\n",
      "- Hamming window with 0.0194 passband ripple and 53 dB stopband attenuation\n",
      "- Upper passband edge: 30.00 Hz\n",
      "- Upper transition bandwidth: 7.50 Hz (-6 dB cutoff frequency: 33.75 Hz)\n",
      "- Filter length: 89 samples (0.445 sec)\n",
      "\n"
     ]
    },
    {
     "name": "stderr",
     "output_type": "stream",
     "text": [
      "[Parallel(n_jobs=1)]: Done 3008 out of 3008 | elapsed:    0.9s finished\n",
      "[Parallel(n_jobs=1)]: Using backend SequentialBackend with 1 concurrent workers.\n",
      "[Parallel(n_jobs=1)]: Done   1 out of   1 | elapsed:    0.0s remaining:    0.0s\n",
      "[Parallel(n_jobs=1)]: Done   2 out of   2 | elapsed:    0.0s remaining:    0.0s\n",
      "[Parallel(n_jobs=1)]: Done   3 out of   3 | elapsed:    0.0s remaining:    0.0s\n",
      "[Parallel(n_jobs=1)]: Done   4 out of   4 | elapsed:    0.0s remaining:    0.0s\n"
     ]
    },
    {
     "name": "stdout",
     "output_type": "stream",
     "text": [
      "Overwriting existing file.\n",
      "Reading F:\\Documents\\Science\\MirRevAdaptEEG\\data\\eeg\\p015\\lrp\\mra_p015_run0-epo.fif ...\n",
      "    Found the data of interest:\n",
      "        t =   -2000.00 ...    1995.00 ms\n",
      "        0 CTF compensation matrices available\n"
     ]
    },
    {
     "name": "stderr",
     "output_type": "stream",
     "text": [
      "[Parallel(n_jobs=1)]: Done 2752 out of 2752 | elapsed:    0.9s finished\n"
     ]
    },
    {
     "name": "stdout",
     "output_type": "stream",
     "text": [
      "Not setting metadata\n",
      "420 matching events found\n",
      "No baseline correction applied\n",
      "0 projection items activated\n",
      "Applying baseline correction (mode: mean)\n",
      "Overwriting existing file.\n",
      "Setting up low-pass filter at 30 Hz\n",
      "\n",
      "FIR filter parameters\n",
      "---------------------\n",
      "Designing a one-pass, zero-phase, non-causal lowpass filter:\n",
      "- Windowed time-domain design (firwin) method\n",
      "- Hamming window with 0.0194 passband ripple and 53 dB stopband attenuation\n",
      "- Upper passband edge: 30.00 Hz\n",
      "- Upper transition bandwidth: 7.50 Hz (-6 dB cutoff frequency: 33.75 Hz)\n",
      "- Filter length: 89 samples (0.445 sec)\n",
      "\n"
     ]
    },
    {
     "name": "stderr",
     "output_type": "stream",
     "text": [
      "[Parallel(n_jobs=1)]: Using backend SequentialBackend with 1 concurrent workers.\n",
      "[Parallel(n_jobs=1)]: Done   1 out of   1 | elapsed:    0.0s remaining:    0.0s\n",
      "[Parallel(n_jobs=1)]: Done   2 out of   2 | elapsed:    0.0s remaining:    0.0s\n",
      "[Parallel(n_jobs=1)]: Done   3 out of   3 | elapsed:    0.0s remaining:    0.0s\n",
      "[Parallel(n_jobs=1)]: Done   4 out of   4 | elapsed:    0.0s remaining:    0.0s\n"
     ]
    },
    {
     "name": "stdout",
     "output_type": "stream",
     "text": [
      "Overwriting existing file.\n",
      "Overwriting existing file.\n",
      "Setting up low-pass filter at 30 Hz\n",
      "\n",
      "FIR filter parameters\n",
      "---------------------\n",
      "Designing a one-pass, zero-phase, non-causal lowpass filter:\n",
      "- Windowed time-domain design (firwin) method\n",
      "- Hamming window with 0.0194 passband ripple and 53 dB stopband attenuation\n",
      "- Upper passband edge: 30.00 Hz\n",
      "- Upper transition bandwidth: 7.50 Hz (-6 dB cutoff frequency: 33.75 Hz)\n",
      "- Filter length: 89 samples (0.445 sec)\n",
      "\n"
     ]
    },
    {
     "name": "stderr",
     "output_type": "stream",
     "text": [
      "[Parallel(n_jobs=1)]: Done 2816 out of 2816 | elapsed:    0.9s finished\n",
      "[Parallel(n_jobs=1)]: Using backend SequentialBackend with 1 concurrent workers.\n",
      "[Parallel(n_jobs=1)]: Done   1 out of   1 | elapsed:    0.0s remaining:    0.0s\n",
      "[Parallel(n_jobs=1)]: Done   2 out of   2 | elapsed:    0.0s remaining:    0.0s\n",
      "[Parallel(n_jobs=1)]: Done   3 out of   3 | elapsed:    0.0s remaining:    0.0s\n",
      "[Parallel(n_jobs=1)]: Done   4 out of   4 | elapsed:    0.0s remaining:    0.0s\n"
     ]
    },
    {
     "name": "stdout",
     "output_type": "stream",
     "text": [
      "Overwriting existing file.\n",
      "Reading F:\\Documents\\Science\\MirRevAdaptEEG\\data\\eeg\\p016\\lrp\\mra_p016_run0-epo.fif ...\n",
      "    Found the data of interest:\n",
      "        t =   -2000.00 ...    1995.00 ms\n",
      "        0 CTF compensation matrices available\n"
     ]
    },
    {
     "name": "stderr",
     "output_type": "stream",
     "text": [
      "[Parallel(n_jobs=1)]: Done 2944 out of 2944 | elapsed:    0.9s finished\n"
     ]
    },
    {
     "name": "stdout",
     "output_type": "stream",
     "text": [
      "Not setting metadata\n",
      "418 matching events found\n",
      "No baseline correction applied\n",
      "0 projection items activated\n",
      "Applying baseline correction (mode: mean)\n",
      "Reading F:\\Documents\\Science\\MirRevAdaptEEG\\data\\eeg\\p017\\lrp\\mra_p017_run0-epo.fif ...\n",
      "    Found the data of interest:\n",
      "        t =   -2000.00 ...    1995.00 ms\n",
      "        0 CTF compensation matrices available\n",
      "Not setting metadata\n",
      "418 matching events found\n",
      "No baseline correction applied\n",
      "0 projection items activated\n",
      "Applying baseline correction (mode: mean)\n",
      "Reading F:\\Documents\\Science\\MirRevAdaptEEG\\data\\eeg\\p018\\lrp\\mra_p018_run0-epo.fif ...\n",
      "    Found the data of interest:\n",
      "        t =   -2000.00 ...    1995.00 ms\n",
      "        0 CTF compensation matrices available\n",
      "Not setting metadata\n",
      "419 matching events found\n",
      "No baseline correction applied\n",
      "0 projection items activated\n",
      "Applying baseline correction (mode: mean)\n",
      "Reading F:\\Documents\\Science\\MirRevAdaptEEG\\data\\eeg\\p019\\lrp\\mra_p019_run0-epo.fif ...\n",
      "    Found the data of interest:\n",
      "        t =   -2000.00 ...    1995.00 ms\n",
      "        0 CTF compensation matrices available\n",
      "Not setting metadata\n",
      "419 matching events found\n",
      "No baseline correction applied\n",
      "0 projection items activated\n",
      "Applying baseline correction (mode: mean)\n",
      "Reading F:\\Documents\\Science\\MirRevAdaptEEG\\data\\eeg\\p020\\lrp\\mra_p020_run0-epo.fif ...\n",
      "    Found the data of interest:\n",
      "        t =   -2000.00 ...    1995.00 ms\n",
      "        0 CTF compensation matrices available\n",
      "Not setting metadata\n",
      "420 matching events found\n",
      "No baseline correction applied\n",
      "0 projection items activated\n",
      "Applying baseline correction (mode: mean)\n",
      "Overwriting existing file.\n",
      "Setting up low-pass filter at 30 Hz\n",
      "\n",
      "FIR filter parameters\n",
      "---------------------\n",
      "Designing a one-pass, zero-phase, non-causal lowpass filter:\n",
      "- Windowed time-domain design (firwin) method\n",
      "- Hamming window with 0.0194 passband ripple and 53 dB stopband attenuation\n",
      "- Upper passband edge: 30.00 Hz\n",
      "- Upper transition bandwidth: 7.50 Hz (-6 dB cutoff frequency: 33.75 Hz)\n",
      "- Filter length: 89 samples (0.445 sec)\n",
      "\n"
     ]
    },
    {
     "name": "stderr",
     "output_type": "stream",
     "text": [
      "[Parallel(n_jobs=1)]: Using backend SequentialBackend with 1 concurrent workers.\n",
      "[Parallel(n_jobs=1)]: Done   1 out of   1 | elapsed:    0.0s remaining:    0.0s\n",
      "[Parallel(n_jobs=1)]: Done   2 out of   2 | elapsed:    0.0s remaining:    0.0s\n",
      "[Parallel(n_jobs=1)]: Done   3 out of   3 | elapsed:    0.0s remaining:    0.0s\n",
      "[Parallel(n_jobs=1)]: Done   4 out of   4 | elapsed:    0.0s remaining:    0.0s\n"
     ]
    },
    {
     "name": "stdout",
     "output_type": "stream",
     "text": [
      "Overwriting existing file.\n",
      "Overwriting existing file.\n",
      "Setting up low-pass filter at 30 Hz\n",
      "\n",
      "FIR filter parameters\n",
      "---------------------\n",
      "Designing a one-pass, zero-phase, non-causal lowpass filter:\n",
      "- Windowed time-domain design (firwin) method\n",
      "- Hamming window with 0.0194 passband ripple and 53 dB stopband attenuation\n",
      "- Upper passband edge: 30.00 Hz\n",
      "- Upper transition bandwidth: 7.50 Hz (-6 dB cutoff frequency: 33.75 Hz)\n",
      "- Filter length: 89 samples (0.445 sec)\n",
      "\n"
     ]
    },
    {
     "name": "stderr",
     "output_type": "stream",
     "text": [
      "[Parallel(n_jobs=1)]: Done 2880 out of 2880 | elapsed:    0.9s finished\n",
      "[Parallel(n_jobs=1)]: Using backend SequentialBackend with 1 concurrent workers.\n",
      "[Parallel(n_jobs=1)]: Done   1 out of   1 | elapsed:    0.0s remaining:    0.0s\n",
      "[Parallel(n_jobs=1)]: Done   2 out of   2 | elapsed:    0.0s remaining:    0.0s\n",
      "[Parallel(n_jobs=1)]: Done   3 out of   3 | elapsed:    0.0s remaining:    0.0s\n",
      "[Parallel(n_jobs=1)]: Done   4 out of   4 | elapsed:    0.0s remaining:    0.0s\n"
     ]
    },
    {
     "name": "stdout",
     "output_type": "stream",
     "text": [
      "Overwriting existing file.\n",
      "Reading F:\\Documents\\Science\\MirRevAdaptEEG\\data\\eeg\\p021\\lrp\\mra_p021_run0-epo.fif ...\n",
      "    Found the data of interest:\n",
      "        t =   -2000.00 ...    1995.00 ms\n",
      "        0 CTF compensation matrices available\n"
     ]
    },
    {
     "name": "stderr",
     "output_type": "stream",
     "text": [
      "[Parallel(n_jobs=1)]: Done 2880 out of 2880 | elapsed:    0.9s finished\n"
     ]
    },
    {
     "name": "stdout",
     "output_type": "stream",
     "text": [
      "Not setting metadata\n",
      "419 matching events found\n",
      "No baseline correction applied\n",
      "0 projection items activated\n",
      "Applying baseline correction (mode: mean)\n",
      "Overwriting existing file.\n",
      "Setting up low-pass filter at 30 Hz\n",
      "\n",
      "FIR filter parameters\n",
      "---------------------\n",
      "Designing a one-pass, zero-phase, non-causal lowpass filter:\n",
      "- Windowed time-domain design (firwin) method\n",
      "- Hamming window with 0.0194 passband ripple and 53 dB stopband attenuation\n",
      "- Upper passband edge: 30.00 Hz\n",
      "- Upper transition bandwidth: 7.50 Hz (-6 dB cutoff frequency: 33.75 Hz)\n",
      "- Filter length: 89 samples (0.445 sec)\n",
      "\n"
     ]
    },
    {
     "name": "stderr",
     "output_type": "stream",
     "text": [
      "[Parallel(n_jobs=1)]: Using backend SequentialBackend with 1 concurrent workers.\n",
      "[Parallel(n_jobs=1)]: Done   1 out of   1 | elapsed:    0.0s remaining:    0.0s\n",
      "[Parallel(n_jobs=1)]: Done   2 out of   2 | elapsed:    0.0s remaining:    0.0s\n",
      "[Parallel(n_jobs=1)]: Done   3 out of   3 | elapsed:    0.0s remaining:    0.0s\n",
      "[Parallel(n_jobs=1)]: Done   4 out of   4 | elapsed:    0.0s remaining:    0.0s\n"
     ]
    },
    {
     "name": "stdout",
     "output_type": "stream",
     "text": [
      "Overwriting existing file.\n",
      "Overwriting existing file.\n",
      "Setting up low-pass filter at 30 Hz\n",
      "\n",
      "FIR filter parameters\n",
      "---------------------\n",
      "Designing a one-pass, zero-phase, non-causal lowpass filter:\n",
      "- Windowed time-domain design (firwin) method\n",
      "- Hamming window with 0.0194 passband ripple and 53 dB stopband attenuation\n",
      "- Upper passband edge: 30.00 Hz\n",
      "- Upper transition bandwidth: 7.50 Hz (-6 dB cutoff frequency: 33.75 Hz)\n",
      "- Filter length: 89 samples (0.445 sec)\n",
      "\n"
     ]
    },
    {
     "name": "stderr",
     "output_type": "stream",
     "text": [
      "[Parallel(n_jobs=1)]: Done 2816 out of 2816 | elapsed:    0.9s finished\n",
      "[Parallel(n_jobs=1)]: Using backend SequentialBackend with 1 concurrent workers.\n",
      "[Parallel(n_jobs=1)]: Done   1 out of   1 | elapsed:    0.0s remaining:    0.0s\n",
      "[Parallel(n_jobs=1)]: Done   2 out of   2 | elapsed:    0.0s remaining:    0.0s\n",
      "[Parallel(n_jobs=1)]: Done   3 out of   3 | elapsed:    0.0s remaining:    0.0s\n",
      "[Parallel(n_jobs=1)]: Done   4 out of   4 | elapsed:    0.0s remaining:    0.0s\n"
     ]
    },
    {
     "name": "stdout",
     "output_type": "stream",
     "text": [
      "Overwriting existing file.\n",
      "Reading F:\\Documents\\Science\\MirRevAdaptEEG\\data\\eeg\\p022\\lrp\\mra_p022_run0-epo.fif ...\n",
      "    Found the data of interest:\n",
      "        t =   -2000.00 ...    1995.00 ms\n",
      "        0 CTF compensation matrices available\n"
     ]
    },
    {
     "name": "stderr",
     "output_type": "stream",
     "text": [
      "[Parallel(n_jobs=1)]: Done 2944 out of 2944 | elapsed:    1.0s finished\n"
     ]
    },
    {
     "name": "stdout",
     "output_type": "stream",
     "text": [
      "Not setting metadata\n",
      "420 matching events found\n",
      "No baseline correction applied\n",
      "0 projection items activated\n",
      "Applying baseline correction (mode: mean)\n",
      "Overwriting existing file.\n",
      "Setting up low-pass filter at 30 Hz\n",
      "\n",
      "FIR filter parameters\n",
      "---------------------\n",
      "Designing a one-pass, zero-phase, non-causal lowpass filter:\n",
      "- Windowed time-domain design (firwin) method\n",
      "- Hamming window with 0.0194 passband ripple and 53 dB stopband attenuation\n",
      "- Upper passband edge: 30.00 Hz\n",
      "- Upper transition bandwidth: 7.50 Hz (-6 dB cutoff frequency: 33.75 Hz)\n",
      "- Filter length: 89 samples (0.445 sec)\n",
      "\n"
     ]
    },
    {
     "name": "stderr",
     "output_type": "stream",
     "text": [
      "[Parallel(n_jobs=1)]: Using backend SequentialBackend with 1 concurrent workers.\n",
      "[Parallel(n_jobs=1)]: Done   1 out of   1 | elapsed:    0.0s remaining:    0.0s\n",
      "[Parallel(n_jobs=1)]: Done   2 out of   2 | elapsed:    0.0s remaining:    0.0s\n",
      "[Parallel(n_jobs=1)]: Done   3 out of   3 | elapsed:    0.0s remaining:    0.0s\n",
      "[Parallel(n_jobs=1)]: Done   4 out of   4 | elapsed:    0.0s remaining:    0.0s\n"
     ]
    },
    {
     "name": "stdout",
     "output_type": "stream",
     "text": [
      "Overwriting existing file.\n",
      "Overwriting existing file.\n",
      "Setting up low-pass filter at 30 Hz\n",
      "\n",
      "FIR filter parameters\n",
      "---------------------\n",
      "Designing a one-pass, zero-phase, non-causal lowpass filter:\n",
      "- Windowed time-domain design (firwin) method\n",
      "- Hamming window with 0.0194 passband ripple and 53 dB stopband attenuation\n",
      "- Upper passband edge: 30.00 Hz\n",
      "- Upper transition bandwidth: 7.50 Hz (-6 dB cutoff frequency: 33.75 Hz)\n",
      "- Filter length: 89 samples (0.445 sec)\n",
      "\n"
     ]
    },
    {
     "name": "stderr",
     "output_type": "stream",
     "text": [
      "[Parallel(n_jobs=1)]: Done 3072 out of 3072 | elapsed:    0.9s finished\n",
      "[Parallel(n_jobs=1)]: Using backend SequentialBackend with 1 concurrent workers.\n",
      "[Parallel(n_jobs=1)]: Done   1 out of   1 | elapsed:    0.0s remaining:    0.0s\n",
      "[Parallel(n_jobs=1)]: Done   2 out of   2 | elapsed:    0.0s remaining:    0.0s\n",
      "[Parallel(n_jobs=1)]: Done   3 out of   3 | elapsed:    0.0s remaining:    0.0s\n",
      "[Parallel(n_jobs=1)]: Done   4 out of   4 | elapsed:    0.0s remaining:    0.0s\n"
     ]
    },
    {
     "name": "stdout",
     "output_type": "stream",
     "text": [
      "Overwriting existing file.\n",
      "Reading F:\\Documents\\Science\\MirRevAdaptEEG\\data\\eeg\\p023\\lrp\\mra_p023_run0-epo.fif ...\n",
      "    Found the data of interest:\n",
      "        t =   -2000.00 ...    1995.00 ms\n",
      "        0 CTF compensation matrices available\n"
     ]
    },
    {
     "name": "stderr",
     "output_type": "stream",
     "text": [
      "[Parallel(n_jobs=1)]: Done 2688 out of 2688 | elapsed:    0.8s finished\n"
     ]
    },
    {
     "name": "stdout",
     "output_type": "stream",
     "text": [
      "Not setting metadata\n",
      "420 matching events found\n",
      "No baseline correction applied\n",
      "0 projection items activated\n",
      "Applying baseline correction (mode: mean)\n",
      "Overwriting existing file.\n",
      "Setting up low-pass filter at 30 Hz\n",
      "\n",
      "FIR filter parameters\n",
      "---------------------\n",
      "Designing a one-pass, zero-phase, non-causal lowpass filter:\n",
      "- Windowed time-domain design (firwin) method\n",
      "- Hamming window with 0.0194 passband ripple and 53 dB stopband attenuation\n",
      "- Upper passband edge: 30.00 Hz\n",
      "- Upper transition bandwidth: 7.50 Hz (-6 dB cutoff frequency: 33.75 Hz)\n",
      "- Filter length: 89 samples (0.445 sec)\n",
      "\n"
     ]
    },
    {
     "name": "stderr",
     "output_type": "stream",
     "text": [
      "[Parallel(n_jobs=1)]: Using backend SequentialBackend with 1 concurrent workers.\n",
      "[Parallel(n_jobs=1)]: Done   1 out of   1 | elapsed:    0.0s remaining:    0.0s\n",
      "[Parallel(n_jobs=1)]: Done   2 out of   2 | elapsed:    0.0s remaining:    0.0s\n",
      "[Parallel(n_jobs=1)]: Done   3 out of   3 | elapsed:    0.0s remaining:    0.0s\n",
      "[Parallel(n_jobs=1)]: Done   4 out of   4 | elapsed:    0.0s remaining:    0.0s\n"
     ]
    },
    {
     "name": "stdout",
     "output_type": "stream",
     "text": [
      "Overwriting existing file.\n",
      "Overwriting existing file.\n",
      "Setting up low-pass filter at 30 Hz\n",
      "\n",
      "FIR filter parameters\n",
      "---------------------\n",
      "Designing a one-pass, zero-phase, non-causal lowpass filter:\n",
      "- Windowed time-domain design (firwin) method\n",
      "- Hamming window with 0.0194 passband ripple and 53 dB stopband attenuation\n",
      "- Upper passband edge: 30.00 Hz\n",
      "- Upper transition bandwidth: 7.50 Hz (-6 dB cutoff frequency: 33.75 Hz)\n",
      "- Filter length: 89 samples (0.445 sec)\n",
      "\n"
     ]
    },
    {
     "name": "stderr",
     "output_type": "stream",
     "text": [
      "[Parallel(n_jobs=1)]: Done 3008 out of 3008 | elapsed:    0.9s finished\n",
      "[Parallel(n_jobs=1)]: Using backend SequentialBackend with 1 concurrent workers.\n",
      "[Parallel(n_jobs=1)]: Done   1 out of   1 | elapsed:    0.0s remaining:    0.0s\n",
      "[Parallel(n_jobs=1)]: Done   2 out of   2 | elapsed:    0.0s remaining:    0.0s\n",
      "[Parallel(n_jobs=1)]: Done   3 out of   3 | elapsed:    0.0s remaining:    0.0s\n",
      "[Parallel(n_jobs=1)]: Done   4 out of   4 | elapsed:    0.0s remaining:    0.0s\n"
     ]
    },
    {
     "name": "stdout",
     "output_type": "stream",
     "text": [
      "Overwriting existing file.\n",
      "Reading F:\\Documents\\Science\\MirRevAdaptEEG\\data\\eeg\\p024\\lrp\\mra_p024_run0-epo.fif ...\n",
      "    Found the data of interest:\n",
      "        t =   -2000.00 ...    1995.00 ms\n",
      "        0 CTF compensation matrices available\n"
     ]
    },
    {
     "name": "stderr",
     "output_type": "stream",
     "text": [
      "[Parallel(n_jobs=1)]: Done 2752 out of 2752 | elapsed:    0.8s finished\n"
     ]
    },
    {
     "name": "stdout",
     "output_type": "stream",
     "text": [
      "Not setting metadata\n",
      "420 matching events found\n",
      "No baseline correction applied\n",
      "0 projection items activated\n",
      "Applying baseline correction (mode: mean)\n",
      "Reading F:\\Documents\\Science\\MirRevAdaptEEG\\data\\eeg\\p025\\lrp\\mra_p025_run0-epo.fif ...\n",
      "    Found the data of interest:\n",
      "        t =   -2000.00 ...    1995.00 ms\n",
      "        0 CTF compensation matrices available\n",
      "Not setting metadata\n",
      "420 matching events found\n",
      "No baseline correction applied\n",
      "0 projection items activated\n",
      "Applying baseline correction (mode: mean)\n",
      "Reading F:\\Documents\\Science\\MirRevAdaptEEG\\data\\eeg\\p026\\lrp\\mra_p026_run0-epo.fif ...\n",
      "    Found the data of interest:\n",
      "        t =   -2000.00 ...    1995.00 ms\n",
      "        0 CTF compensation matrices available\n",
      "Not setting metadata\n",
      "420 matching events found\n",
      "No baseline correction applied\n",
      "0 projection items activated\n",
      "Applying baseline correction (mode: mean)\n",
      "Reading F:\\Documents\\Science\\MirRevAdaptEEG\\data\\eeg\\p027\\lrp\\mra_p027_run0-epo.fif ...\n",
      "    Found the data of interest:\n",
      "        t =   -2000.00 ...    1995.00 ms\n",
      "        0 CTF compensation matrices available\n",
      "Not setting metadata\n",
      "419 matching events found\n",
      "No baseline correction applied\n",
      "0 projection items activated\n",
      "Applying baseline correction (mode: mean)\n",
      "Reading F:\\Documents\\Science\\MirRevAdaptEEG\\data\\eeg\\p028\\lrp\\mra_p028_run0-epo.fif ...\n",
      "    Found the data of interest:\n",
      "        t =   -2000.00 ...    1995.00 ms\n",
      "        0 CTF compensation matrices available\n",
      "Not setting metadata\n",
      "420 matching events found\n",
      "No baseline correction applied\n",
      "0 projection items activated\n",
      "Applying baseline correction (mode: mean)\n",
      "Overwriting existing file.\n",
      "Setting up low-pass filter at 30 Hz\n",
      "\n",
      "FIR filter parameters\n",
      "---------------------\n",
      "Designing a one-pass, zero-phase, non-causal lowpass filter:\n",
      "- Windowed time-domain design (firwin) method\n",
      "- Hamming window with 0.0194 passband ripple and 53 dB stopband attenuation\n",
      "- Upper passband edge: 30.00 Hz\n",
      "- Upper transition bandwidth: 7.50 Hz (-6 dB cutoff frequency: 33.75 Hz)\n",
      "- Filter length: 89 samples (0.445 sec)\n",
      "\n"
     ]
    },
    {
     "name": "stderr",
     "output_type": "stream",
     "text": [
      "[Parallel(n_jobs=1)]: Using backend SequentialBackend with 1 concurrent workers.\n",
      "[Parallel(n_jobs=1)]: Done   1 out of   1 | elapsed:    0.0s remaining:    0.0s\n",
      "[Parallel(n_jobs=1)]: Done   2 out of   2 | elapsed:    0.0s remaining:    0.0s\n",
      "[Parallel(n_jobs=1)]: Done   3 out of   3 | elapsed:    0.0s remaining:    0.0s\n",
      "[Parallel(n_jobs=1)]: Done   4 out of   4 | elapsed:    0.0s remaining:    0.0s\n"
     ]
    },
    {
     "name": "stdout",
     "output_type": "stream",
     "text": [
      "Overwriting existing file.\n",
      "Overwriting existing file.\n",
      "Setting up low-pass filter at 30 Hz\n",
      "\n",
      "FIR filter parameters\n",
      "---------------------\n",
      "Designing a one-pass, zero-phase, non-causal lowpass filter:\n",
      "- Windowed time-domain design (firwin) method\n",
      "- Hamming window with 0.0194 passband ripple and 53 dB stopband attenuation\n",
      "- Upper passband edge: 30.00 Hz\n",
      "- Upper transition bandwidth: 7.50 Hz (-6 dB cutoff frequency: 33.75 Hz)\n",
      "- Filter length: 89 samples (0.445 sec)\n",
      "\n"
     ]
    },
    {
     "name": "stderr",
     "output_type": "stream",
     "text": [
      "[Parallel(n_jobs=1)]: Done 2944 out of 2944 | elapsed:    0.9s finished\n",
      "[Parallel(n_jobs=1)]: Using backend SequentialBackend with 1 concurrent workers.\n",
      "[Parallel(n_jobs=1)]: Done   1 out of   1 | elapsed:    0.0s remaining:    0.0s\n",
      "[Parallel(n_jobs=1)]: Done   2 out of   2 | elapsed:    0.0s remaining:    0.0s\n",
      "[Parallel(n_jobs=1)]: Done   3 out of   3 | elapsed:    0.0s remaining:    0.0s\n",
      "[Parallel(n_jobs=1)]: Done   4 out of   4 | elapsed:    0.0s remaining:    0.0s\n"
     ]
    },
    {
     "name": "stdout",
     "output_type": "stream",
     "text": [
      "Overwriting existing file.\n",
      "Reading F:\\Documents\\Science\\MirRevAdaptEEG\\data\\eeg\\p029\\lrp\\mra_p029_run0-epo.fif ...\n",
      "    Found the data of interest:\n",
      "        t =   -2000.00 ...    1995.00 ms\n",
      "        0 CTF compensation matrices available\n"
     ]
    },
    {
     "name": "stderr",
     "output_type": "stream",
     "text": [
      "[Parallel(n_jobs=1)]: Done 2816 out of 2816 | elapsed:    0.9s finished\n"
     ]
    },
    {
     "name": "stdout",
     "output_type": "stream",
     "text": [
      "Not setting metadata\n",
      "420 matching events found\n",
      "No baseline correction applied\n",
      "0 projection items activated\n",
      "Applying baseline correction (mode: mean)\n",
      "Overwriting existing file.\n",
      "Setting up low-pass filter at 30 Hz\n",
      "\n",
      "FIR filter parameters\n",
      "---------------------\n",
      "Designing a one-pass, zero-phase, non-causal lowpass filter:\n",
      "- Windowed time-domain design (firwin) method\n",
      "- Hamming window with 0.0194 passband ripple and 53 dB stopband attenuation\n",
      "- Upper passband edge: 30.00 Hz\n",
      "- Upper transition bandwidth: 7.50 Hz (-6 dB cutoff frequency: 33.75 Hz)\n",
      "- Filter length: 89 samples (0.445 sec)\n",
      "\n"
     ]
    },
    {
     "name": "stderr",
     "output_type": "stream",
     "text": [
      "[Parallel(n_jobs=1)]: Using backend SequentialBackend with 1 concurrent workers.\n",
      "[Parallel(n_jobs=1)]: Done   1 out of   1 | elapsed:    0.0s remaining:    0.0s\n",
      "[Parallel(n_jobs=1)]: Done   2 out of   2 | elapsed:    0.0s remaining:    0.0s\n",
      "[Parallel(n_jobs=1)]: Done   3 out of   3 | elapsed:    0.0s remaining:    0.0s\n",
      "[Parallel(n_jobs=1)]: Done   4 out of   4 | elapsed:    0.0s remaining:    0.0s\n"
     ]
    },
    {
     "name": "stdout",
     "output_type": "stream",
     "text": [
      "Overwriting existing file.\n",
      "Overwriting existing file.\n",
      "Setting up low-pass filter at 30 Hz\n",
      "\n",
      "FIR filter parameters\n",
      "---------------------\n",
      "Designing a one-pass, zero-phase, non-causal lowpass filter:\n",
      "- Windowed time-domain design (firwin) method\n",
      "- Hamming window with 0.0194 passband ripple and 53 dB stopband attenuation\n",
      "- Upper passband edge: 30.00 Hz\n",
      "- Upper transition bandwidth: 7.50 Hz (-6 dB cutoff frequency: 33.75 Hz)\n",
      "- Filter length: 89 samples (0.445 sec)\n",
      "\n"
     ]
    },
    {
     "name": "stderr",
     "output_type": "stream",
     "text": [
      "[Parallel(n_jobs=1)]: Done 2816 out of 2816 | elapsed:    0.9s finished\n",
      "[Parallel(n_jobs=1)]: Using backend SequentialBackend with 1 concurrent workers.\n",
      "[Parallel(n_jobs=1)]: Done   1 out of   1 | elapsed:    0.0s remaining:    0.0s\n",
      "[Parallel(n_jobs=1)]: Done   2 out of   2 | elapsed:    0.0s remaining:    0.0s\n",
      "[Parallel(n_jobs=1)]: Done   3 out of   3 | elapsed:    0.0s remaining:    0.0s\n",
      "[Parallel(n_jobs=1)]: Done   4 out of   4 | elapsed:    0.0s remaining:    0.0s\n"
     ]
    },
    {
     "name": "stdout",
     "output_type": "stream",
     "text": [
      "Overwriting existing file.\n",
      "Reading F:\\Documents\\Science\\MirRevAdaptEEG\\data\\eeg\\p030\\lrp\\mra_p030_run0-epo.fif ...\n",
      "    Found the data of interest:\n",
      "        t =   -2000.00 ...    1995.00 ms\n",
      "        0 CTF compensation matrices available\n"
     ]
    },
    {
     "name": "stderr",
     "output_type": "stream",
     "text": [
      "[Parallel(n_jobs=1)]: Done 2944 out of 2944 | elapsed:    0.9s finished\n"
     ]
    },
    {
     "name": "stdout",
     "output_type": "stream",
     "text": [
      "Not setting metadata\n",
      "420 matching events found\n",
      "No baseline correction applied\n",
      "0 projection items activated\n",
      "Applying baseline correction (mode: mean)\n",
      "Overwriting existing file.\n",
      "Setting up low-pass filter at 30 Hz\n",
      "\n",
      "FIR filter parameters\n",
      "---------------------\n",
      "Designing a one-pass, zero-phase, non-causal lowpass filter:\n",
      "- Windowed time-domain design (firwin) method\n",
      "- Hamming window with 0.0194 passband ripple and 53 dB stopband attenuation\n",
      "- Upper passband edge: 30.00 Hz\n",
      "- Upper transition bandwidth: 7.50 Hz (-6 dB cutoff frequency: 33.75 Hz)\n",
      "- Filter length: 89 samples (0.445 sec)\n",
      "\n"
     ]
    },
    {
     "name": "stderr",
     "output_type": "stream",
     "text": [
      "[Parallel(n_jobs=1)]: Using backend SequentialBackend with 1 concurrent workers.\n",
      "[Parallel(n_jobs=1)]: Done   1 out of   1 | elapsed:    0.0s remaining:    0.0s\n",
      "[Parallel(n_jobs=1)]: Done   2 out of   2 | elapsed:    0.0s remaining:    0.0s\n",
      "[Parallel(n_jobs=1)]: Done   3 out of   3 | elapsed:    0.0s remaining:    0.0s\n",
      "[Parallel(n_jobs=1)]: Done   4 out of   4 | elapsed:    0.0s remaining:    0.0s\n"
     ]
    },
    {
     "name": "stdout",
     "output_type": "stream",
     "text": [
      "Overwriting existing file.\n",
      "Overwriting existing file.\n",
      "Setting up low-pass filter at 30 Hz\n",
      "\n",
      "FIR filter parameters\n",
      "---------------------\n",
      "Designing a one-pass, zero-phase, non-causal lowpass filter:\n",
      "- Windowed time-domain design (firwin) method\n",
      "- Hamming window with 0.0194 passband ripple and 53 dB stopband attenuation\n",
      "- Upper passband edge: 30.00 Hz\n",
      "- Upper transition bandwidth: 7.50 Hz (-6 dB cutoff frequency: 33.75 Hz)\n",
      "- Filter length: 89 samples (0.445 sec)\n",
      "\n"
     ]
    },
    {
     "name": "stderr",
     "output_type": "stream",
     "text": [
      "[Parallel(n_jobs=1)]: Done 2944 out of 2944 | elapsed:    0.9s finished\n",
      "[Parallel(n_jobs=1)]: Using backend SequentialBackend with 1 concurrent workers.\n",
      "[Parallel(n_jobs=1)]: Done   1 out of   1 | elapsed:    0.0s remaining:    0.0s\n",
      "[Parallel(n_jobs=1)]: Done   2 out of   2 | elapsed:    0.0s remaining:    0.0s\n",
      "[Parallel(n_jobs=1)]: Done   3 out of   3 | elapsed:    0.0s remaining:    0.0s\n",
      "[Parallel(n_jobs=1)]: Done   4 out of   4 | elapsed:    0.0s remaining:    0.0s\n"
     ]
    },
    {
     "name": "stdout",
     "output_type": "stream",
     "text": [
      "Overwriting existing file.\n",
      "Reading F:\\Documents\\Science\\MirRevAdaptEEG\\data\\eeg\\p031\\lrp\\mra_p031_run0-epo.fif ...\n",
      "    Found the data of interest:\n",
      "        t =   -2000.00 ...    1995.00 ms\n",
      "        0 CTF compensation matrices available\n"
     ]
    },
    {
     "name": "stderr",
     "output_type": "stream",
     "text": [
      "[Parallel(n_jobs=1)]: Done 2816 out of 2816 | elapsed:    0.9s finished\n"
     ]
    },
    {
     "name": "stdout",
     "output_type": "stream",
     "text": [
      "Not setting metadata\n",
      "420 matching events found\n",
      "No baseline correction applied\n",
      "0 projection items activated\n",
      "Applying baseline correction (mode: mean)\n",
      "Overwriting existing file.\n",
      "Setting up low-pass filter at 30 Hz\n",
      "\n",
      "FIR filter parameters\n",
      "---------------------\n",
      "Designing a one-pass, zero-phase, non-causal lowpass filter:\n",
      "- Windowed time-domain design (firwin) method\n",
      "- Hamming window with 0.0194 passband ripple and 53 dB stopband attenuation\n",
      "- Upper passband edge: 30.00 Hz\n",
      "- Upper transition bandwidth: 7.50 Hz (-6 dB cutoff frequency: 33.75 Hz)\n",
      "- Filter length: 89 samples (0.445 sec)\n",
      "\n"
     ]
    },
    {
     "name": "stderr",
     "output_type": "stream",
     "text": [
      "[Parallel(n_jobs=1)]: Using backend SequentialBackend with 1 concurrent workers.\n",
      "[Parallel(n_jobs=1)]: Done   1 out of   1 | elapsed:    0.0s remaining:    0.0s\n",
      "[Parallel(n_jobs=1)]: Done   2 out of   2 | elapsed:    0.0s remaining:    0.0s\n",
      "[Parallel(n_jobs=1)]: Done   3 out of   3 | elapsed:    0.0s remaining:    0.0s\n",
      "[Parallel(n_jobs=1)]: Done   4 out of   4 | elapsed:    0.0s remaining:    0.0s\n"
     ]
    },
    {
     "name": "stdout",
     "output_type": "stream",
     "text": [
      "Overwriting existing file.\n",
      "Overwriting existing file.\n",
      "Setting up low-pass filter at 30 Hz\n",
      "\n",
      "FIR filter parameters\n",
      "---------------------\n",
      "Designing a one-pass, zero-phase, non-causal lowpass filter:\n",
      "- Windowed time-domain design (firwin) method\n",
      "- Hamming window with 0.0194 passband ripple and 53 dB stopband attenuation\n",
      "- Upper passband edge: 30.00 Hz\n",
      "- Upper transition bandwidth: 7.50 Hz (-6 dB cutoff frequency: 33.75 Hz)\n",
      "- Filter length: 89 samples (0.445 sec)\n",
      "\n"
     ]
    },
    {
     "name": "stderr",
     "output_type": "stream",
     "text": [
      "[Parallel(n_jobs=1)]: Done 2752 out of 2752 | elapsed:    0.9s finished\n",
      "[Parallel(n_jobs=1)]: Using backend SequentialBackend with 1 concurrent workers.\n",
      "[Parallel(n_jobs=1)]: Done   1 out of   1 | elapsed:    0.0s remaining:    0.0s\n",
      "[Parallel(n_jobs=1)]: Done   2 out of   2 | elapsed:    0.0s remaining:    0.0s\n",
      "[Parallel(n_jobs=1)]: Done   3 out of   3 | elapsed:    0.0s remaining:    0.0s\n",
      "[Parallel(n_jobs=1)]: Done   4 out of   4 | elapsed:    0.0s remaining:    0.0s\n"
     ]
    },
    {
     "name": "stdout",
     "output_type": "stream",
     "text": [
      "Overwriting existing file.\n",
      "Reading F:\\Documents\\Science\\MirRevAdaptEEG\\data\\eeg\\p000\\lrp\\mra_p000_run0-epo.fif ...\n",
      "    Found the data of interest:\n",
      "        t =   -2000.00 ...    1995.00 ms\n",
      "        0 CTF compensation matrices available\n"
     ]
    },
    {
     "name": "stderr",
     "output_type": "stream",
     "text": [
      "[Parallel(n_jobs=1)]: Done 3008 out of 3008 | elapsed:    0.9s finished\n"
     ]
    },
    {
     "name": "stdout",
     "output_type": "stream",
     "text": [
      "Not setting metadata\n",
      "420 matching events found\n",
      "No baseline correction applied\n",
      "0 projection items activated\n",
      "Applying baseline correction (mode: mean)\n",
      "Overwriting existing file.\n",
      "Setting up low-pass filter at 30 Hz\n",
      "\n",
      "FIR filter parameters\n",
      "---------------------\n",
      "Designing a one-pass, zero-phase, non-causal lowpass filter:\n",
      "- Windowed time-domain design (firwin) method\n",
      "- Hamming window with 0.0194 passband ripple and 53 dB stopband attenuation\n",
      "- Upper passband edge: 30.00 Hz\n",
      "- Upper transition bandwidth: 7.50 Hz (-6 dB cutoff frequency: 33.75 Hz)\n",
      "- Filter length: 89 samples (0.445 sec)\n",
      "\n"
     ]
    },
    {
     "name": "stderr",
     "output_type": "stream",
     "text": [
      "[Parallel(n_jobs=1)]: Using backend SequentialBackend with 1 concurrent workers.\n",
      "[Parallel(n_jobs=1)]: Done   1 out of   1 | elapsed:    0.0s remaining:    0.0s\n",
      "[Parallel(n_jobs=1)]: Done   2 out of   2 | elapsed:    0.0s remaining:    0.0s\n",
      "[Parallel(n_jobs=1)]: Done   3 out of   3 | elapsed:    0.0s remaining:    0.0s\n",
      "[Parallel(n_jobs=1)]: Done   4 out of   4 | elapsed:    0.0s remaining:    0.0s\n"
     ]
    },
    {
     "name": "stdout",
     "output_type": "stream",
     "text": [
      "Overwriting existing file.\n",
      "Overwriting existing file.\n",
      "Setting up low-pass filter at 30 Hz\n",
      "\n",
      "FIR filter parameters\n",
      "---------------------\n",
      "Designing a one-pass, zero-phase, non-causal lowpass filter:\n",
      "- Windowed time-domain design (firwin) method\n",
      "- Hamming window with 0.0194 passband ripple and 53 dB stopband attenuation\n",
      "- Upper passband edge: 30.00 Hz\n",
      "- Upper transition bandwidth: 7.50 Hz (-6 dB cutoff frequency: 33.75 Hz)\n",
      "- Filter length: 89 samples (0.445 sec)\n",
      "\n"
     ]
    },
    {
     "name": "stderr",
     "output_type": "stream",
     "text": [
      "[Parallel(n_jobs=1)]: Done 1536 out of 1536 | elapsed:    0.4s finished\n",
      "[Parallel(n_jobs=1)]: Using backend SequentialBackend with 1 concurrent workers.\n",
      "[Parallel(n_jobs=1)]: Done   1 out of   1 | elapsed:    0.0s remaining:    0.0s\n",
      "[Parallel(n_jobs=1)]: Done   2 out of   2 | elapsed:    0.0s remaining:    0.0s\n",
      "[Parallel(n_jobs=1)]: Done   3 out of   3 | elapsed:    0.0s remaining:    0.0s\n",
      "[Parallel(n_jobs=1)]: Done   4 out of   4 | elapsed:    0.0s remaining:    0.0s\n"
     ]
    },
    {
     "name": "stdout",
     "output_type": "stream",
     "text": [
      "Overwriting existing file.\n",
      "Reading F:\\Documents\\Science\\MirRevAdaptEEG\\data\\eeg\\p001\\lrp\\mra_p001_run0-epo.fif ...\n",
      "    Found the data of interest:\n",
      "        t =   -2000.00 ...    1995.00 ms\n",
      "        0 CTF compensation matrices available\n"
     ]
    },
    {
     "name": "stderr",
     "output_type": "stream",
     "text": [
      "[Parallel(n_jobs=1)]: Done 1536 out of 1536 | elapsed:    0.4s finished\n"
     ]
    },
    {
     "name": "stdout",
     "output_type": "stream",
     "text": [
      "Not setting metadata\n",
      "420 matching events found\n",
      "No baseline correction applied\n",
      "0 projection items activated\n",
      "Applying baseline correction (mode: mean)\n",
      "Overwriting existing file.\n",
      "Setting up low-pass filter at 30 Hz\n",
      "\n",
      "FIR filter parameters\n",
      "---------------------\n",
      "Designing a one-pass, zero-phase, non-causal lowpass filter:\n",
      "- Windowed time-domain design (firwin) method\n",
      "- Hamming window with 0.0194 passband ripple and 53 dB stopband attenuation\n",
      "- Upper passband edge: 30.00 Hz\n",
      "- Upper transition bandwidth: 7.50 Hz (-6 dB cutoff frequency: 33.75 Hz)\n",
      "- Filter length: 89 samples (0.445 sec)\n",
      "\n"
     ]
    },
    {
     "name": "stderr",
     "output_type": "stream",
     "text": [
      "[Parallel(n_jobs=1)]: Using backend SequentialBackend with 1 concurrent workers.\n",
      "[Parallel(n_jobs=1)]: Done   1 out of   1 | elapsed:    0.0s remaining:    0.0s\n",
      "[Parallel(n_jobs=1)]: Done   2 out of   2 | elapsed:    0.0s remaining:    0.0s\n",
      "[Parallel(n_jobs=1)]: Done   3 out of   3 | elapsed:    0.0s remaining:    0.0s\n",
      "[Parallel(n_jobs=1)]: Done   4 out of   4 | elapsed:    0.0s remaining:    0.0s\n"
     ]
    },
    {
     "name": "stdout",
     "output_type": "stream",
     "text": [
      "Overwriting existing file.\n",
      "Overwriting existing file.\n",
      "Setting up low-pass filter at 30 Hz\n",
      "\n",
      "FIR filter parameters\n",
      "---------------------\n",
      "Designing a one-pass, zero-phase, non-causal lowpass filter:\n",
      "- Windowed time-domain design (firwin) method\n",
      "- Hamming window with 0.0194 passband ripple and 53 dB stopband attenuation\n",
      "- Upper passband edge: 30.00 Hz\n",
      "- Upper transition bandwidth: 7.50 Hz (-6 dB cutoff frequency: 33.75 Hz)\n",
      "- Filter length: 89 samples (0.445 sec)\n",
      "\n"
     ]
    },
    {
     "name": "stderr",
     "output_type": "stream",
     "text": [
      "[Parallel(n_jobs=1)]: Done 1536 out of 1536 | elapsed:    0.4s finished\n",
      "[Parallel(n_jobs=1)]: Using backend SequentialBackend with 1 concurrent workers.\n",
      "[Parallel(n_jobs=1)]: Done   1 out of   1 | elapsed:    0.0s remaining:    0.0s\n",
      "[Parallel(n_jobs=1)]: Done   2 out of   2 | elapsed:    0.0s remaining:    0.0s\n",
      "[Parallel(n_jobs=1)]: Done   3 out of   3 | elapsed:    0.0s remaining:    0.0s\n",
      "[Parallel(n_jobs=1)]: Done   4 out of   4 | elapsed:    0.0s remaining:    0.0s\n"
     ]
    },
    {
     "name": "stdout",
     "output_type": "stream",
     "text": [
      "Overwriting existing file.\n",
      "Reading F:\\Documents\\Science\\MirRevAdaptEEG\\data\\eeg\\p002\\lrp\\mra_p002_run0-epo.fif ...\n",
      "    Found the data of interest:\n",
      "        t =   -2000.00 ...    1995.00 ms\n",
      "        0 CTF compensation matrices available\n"
     ]
    },
    {
     "name": "stderr",
     "output_type": "stream",
     "text": [
      "[Parallel(n_jobs=1)]: Done 1536 out of 1536 | elapsed:    0.4s finished\n"
     ]
    },
    {
     "name": "stdout",
     "output_type": "stream",
     "text": [
      "Not setting metadata\n",
      "419 matching events found\n",
      "No baseline correction applied\n",
      "0 projection items activated\n",
      "Applying baseline correction (mode: mean)\n",
      "Overwriting existing file.\n",
      "Setting up low-pass filter at 30 Hz\n",
      "\n",
      "FIR filter parameters\n",
      "---------------------\n",
      "Designing a one-pass, zero-phase, non-causal lowpass filter:\n",
      "- Windowed time-domain design (firwin) method\n",
      "- Hamming window with 0.0194 passband ripple and 53 dB stopband attenuation\n",
      "- Upper passband edge: 30.00 Hz\n",
      "- Upper transition bandwidth: 7.50 Hz (-6 dB cutoff frequency: 33.75 Hz)\n",
      "- Filter length: 89 samples (0.445 sec)\n",
      "\n"
     ]
    },
    {
     "name": "stderr",
     "output_type": "stream",
     "text": [
      "[Parallel(n_jobs=1)]: Using backend SequentialBackend with 1 concurrent workers.\n",
      "[Parallel(n_jobs=1)]: Done   1 out of   1 | elapsed:    0.0s remaining:    0.0s\n",
      "[Parallel(n_jobs=1)]: Done   2 out of   2 | elapsed:    0.0s remaining:    0.0s\n",
      "[Parallel(n_jobs=1)]: Done   3 out of   3 | elapsed:    0.0s remaining:    0.0s\n",
      "[Parallel(n_jobs=1)]: Done   4 out of   4 | elapsed:    0.0s remaining:    0.0s\n"
     ]
    },
    {
     "name": "stdout",
     "output_type": "stream",
     "text": [
      "Overwriting existing file.\n",
      "Overwriting existing file.\n",
      "Setting up low-pass filter at 30 Hz\n",
      "\n",
      "FIR filter parameters\n",
      "---------------------\n",
      "Designing a one-pass, zero-phase, non-causal lowpass filter:\n",
      "- Windowed time-domain design (firwin) method\n",
      "- Hamming window with 0.0194 passband ripple and 53 dB stopband attenuation\n",
      "- Upper passband edge: 30.00 Hz\n",
      "- Upper transition bandwidth: 7.50 Hz (-6 dB cutoff frequency: 33.75 Hz)\n",
      "- Filter length: 89 samples (0.445 sec)\n",
      "\n"
     ]
    },
    {
     "name": "stderr",
     "output_type": "stream",
     "text": [
      "[Parallel(n_jobs=1)]: Done 1536 out of 1536 | elapsed:    0.4s finished\n",
      "[Parallel(n_jobs=1)]: Using backend SequentialBackend with 1 concurrent workers.\n",
      "[Parallel(n_jobs=1)]: Done   1 out of   1 | elapsed:    0.0s remaining:    0.0s\n",
      "[Parallel(n_jobs=1)]: Done   2 out of   2 | elapsed:    0.0s remaining:    0.0s\n",
      "[Parallel(n_jobs=1)]: Done   3 out of   3 | elapsed:    0.0s remaining:    0.0s\n",
      "[Parallel(n_jobs=1)]: Done   4 out of   4 | elapsed:    0.0s remaining:    0.0s\n"
     ]
    },
    {
     "name": "stdout",
     "output_type": "stream",
     "text": [
      "Overwriting existing file.\n",
      "Reading F:\\Documents\\Science\\MirRevAdaptEEG\\data\\eeg\\p003\\lrp\\mra_p003_run0-epo.fif ...\n",
      "    Found the data of interest:\n",
      "        t =   -2000.00 ...    1995.00 ms\n",
      "        0 CTF compensation matrices available\n",
      "Not setting metadata\n"
     ]
    },
    {
     "name": "stderr",
     "output_type": "stream",
     "text": [
      "[Parallel(n_jobs=1)]: Done 1536 out of 1536 | elapsed:    0.4s finished\n"
     ]
    },
    {
     "name": "stdout",
     "output_type": "stream",
     "text": [
      "418 matching events found\n",
      "No baseline correction applied\n",
      "0 projection items activated\n",
      "Applying baseline correction (mode: mean)\n",
      "Overwriting existing file.\n",
      "Setting up low-pass filter at 30 Hz\n",
      "\n",
      "FIR filter parameters\n",
      "---------------------\n",
      "Designing a one-pass, zero-phase, non-causal lowpass filter:\n",
      "- Windowed time-domain design (firwin) method\n",
      "- Hamming window with 0.0194 passband ripple and 53 dB stopband attenuation\n",
      "- Upper passband edge: 30.00 Hz\n",
      "- Upper transition bandwidth: 7.50 Hz (-6 dB cutoff frequency: 33.75 Hz)\n",
      "- Filter length: 89 samples (0.445 sec)\n",
      "\n"
     ]
    },
    {
     "name": "stderr",
     "output_type": "stream",
     "text": [
      "[Parallel(n_jobs=1)]: Using backend SequentialBackend with 1 concurrent workers.\n",
      "[Parallel(n_jobs=1)]: Done   1 out of   1 | elapsed:    0.0s remaining:    0.0s\n",
      "[Parallel(n_jobs=1)]: Done   2 out of   2 | elapsed:    0.0s remaining:    0.0s\n",
      "[Parallel(n_jobs=1)]: Done   3 out of   3 | elapsed:    0.0s remaining:    0.0s\n",
      "[Parallel(n_jobs=1)]: Done   4 out of   4 | elapsed:    0.0s remaining:    0.0s\n"
     ]
    },
    {
     "name": "stdout",
     "output_type": "stream",
     "text": [
      "Overwriting existing file.\n",
      "Overwriting existing file.\n",
      "Setting up low-pass filter at 30 Hz\n",
      "\n",
      "FIR filter parameters\n",
      "---------------------\n",
      "Designing a one-pass, zero-phase, non-causal lowpass filter:\n",
      "- Windowed time-domain design (firwin) method\n",
      "- Hamming window with 0.0194 passband ripple and 53 dB stopband attenuation\n",
      "- Upper passband edge: 30.00 Hz\n",
      "- Upper transition bandwidth: 7.50 Hz (-6 dB cutoff frequency: 33.75 Hz)\n",
      "- Filter length: 89 samples (0.445 sec)\n",
      "\n"
     ]
    },
    {
     "name": "stderr",
     "output_type": "stream",
     "text": [
      "[Parallel(n_jobs=1)]: Done 1536 out of 1536 | elapsed:    0.4s finished\n",
      "[Parallel(n_jobs=1)]: Using backend SequentialBackend with 1 concurrent workers.\n",
      "[Parallel(n_jobs=1)]: Done   1 out of   1 | elapsed:    0.0s remaining:    0.0s\n",
      "[Parallel(n_jobs=1)]: Done   2 out of   2 | elapsed:    0.0s remaining:    0.0s\n",
      "[Parallel(n_jobs=1)]: Done   3 out of   3 | elapsed:    0.0s remaining:    0.0s\n",
      "[Parallel(n_jobs=1)]: Done   4 out of   4 | elapsed:    0.0s remaining:    0.0s\n"
     ]
    },
    {
     "name": "stdout",
     "output_type": "stream",
     "text": [
      "Overwriting existing file.\n",
      "Reading F:\\Documents\\Science\\MirRevAdaptEEG\\data\\eeg\\p004\\lrp\\mra_p004_run0-epo.fif ...\n",
      "    Found the data of interest:\n",
      "        t =   -2000.00 ...    1995.00 ms\n",
      "        0 CTF compensation matrices available\n"
     ]
    },
    {
     "name": "stderr",
     "output_type": "stream",
     "text": [
      "[Parallel(n_jobs=1)]: Done 1472 out of 1472 | elapsed:    0.4s finished\n"
     ]
    },
    {
     "name": "stdout",
     "output_type": "stream",
     "text": [
      "Not setting metadata\n",
      "418 matching events found\n",
      "No baseline correction applied\n",
      "0 projection items activated\n",
      "Applying baseline correction (mode: mean)\n",
      "Reading F:\\Documents\\Science\\MirRevAdaptEEG\\data\\eeg\\p005\\lrp\\mra_p005_run0-epo.fif ...\n",
      "    Found the data of interest:\n",
      "        t =   -2000.00 ...    1995.00 ms\n",
      "        0 CTF compensation matrices available\n",
      "Not setting metadata\n",
      "419 matching events found\n",
      "No baseline correction applied\n",
      "0 projection items activated\n",
      "Applying baseline correction (mode: mean)\n",
      "Reading F:\\Documents\\Science\\MirRevAdaptEEG\\data\\eeg\\p006\\lrp\\mra_p006_run0-epo.fif ...\n",
      "    Found the data of interest:\n",
      "        t =   -2000.00 ...    1995.00 ms\n",
      "        0 CTF compensation matrices available\n",
      "Not setting metadata\n",
      "418 matching events found\n",
      "No baseline correction applied\n",
      "0 projection items activated\n",
      "Applying baseline correction (mode: mean)\n",
      "Reading F:\\Documents\\Science\\MirRevAdaptEEG\\data\\eeg\\p007\\lrp\\mra_p007_run0-epo.fif ...\n",
      "    Found the data of interest:\n",
      "        t =   -2000.00 ...    1995.00 ms\n",
      "        0 CTF compensation matrices available\n",
      "Not setting metadata\n",
      "420 matching events found\n",
      "No baseline correction applied\n",
      "0 projection items activated\n",
      "Applying baseline correction (mode: mean)\n",
      "Reading F:\\Documents\\Science\\MirRevAdaptEEG\\data\\eeg\\p008\\lrp\\mra_p008_run0-epo.fif ...\n",
      "    Found the data of interest:\n",
      "        t =   -2000.00 ...    1995.00 ms\n",
      "        0 CTF compensation matrices available\n",
      "Not setting metadata\n",
      "420 matching events found\n",
      "No baseline correction applied\n",
      "0 projection items activated\n",
      "Applying baseline correction (mode: mean)\n",
      "Overwriting existing file.\n",
      "Setting up low-pass filter at 30 Hz\n",
      "\n",
      "FIR filter parameters\n",
      "---------------------\n",
      "Designing a one-pass, zero-phase, non-causal lowpass filter:\n",
      "- Windowed time-domain design (firwin) method\n",
      "- Hamming window with 0.0194 passband ripple and 53 dB stopband attenuation\n",
      "- Upper passband edge: 30.00 Hz\n",
      "- Upper transition bandwidth: 7.50 Hz (-6 dB cutoff frequency: 33.75 Hz)\n",
      "- Filter length: 89 samples (0.445 sec)\n",
      "\n"
     ]
    },
    {
     "name": "stderr",
     "output_type": "stream",
     "text": [
      "[Parallel(n_jobs=1)]: Using backend SequentialBackend with 1 concurrent workers.\n",
      "[Parallel(n_jobs=1)]: Done   1 out of   1 | elapsed:    0.0s remaining:    0.0s\n",
      "[Parallel(n_jobs=1)]: Done   2 out of   2 | elapsed:    0.0s remaining:    0.0s\n",
      "[Parallel(n_jobs=1)]: Done   3 out of   3 | elapsed:    0.0s remaining:    0.0s\n",
      "[Parallel(n_jobs=1)]: Done   4 out of   4 | elapsed:    0.0s remaining:    0.0s\n"
     ]
    },
    {
     "name": "stdout",
     "output_type": "stream",
     "text": [
      "Overwriting existing file.\n",
      "Overwriting existing file.\n",
      "Setting up low-pass filter at 30 Hz\n",
      "\n",
      "FIR filter parameters\n",
      "---------------------\n",
      "Designing a one-pass, zero-phase, non-causal lowpass filter:\n",
      "- Windowed time-domain design (firwin) method\n",
      "- Hamming window with 0.0194 passband ripple and 53 dB stopband attenuation\n",
      "- Upper passband edge: 30.00 Hz\n",
      "- Upper transition bandwidth: 7.50 Hz (-6 dB cutoff frequency: 33.75 Hz)\n",
      "- Filter length: 89 samples (0.445 sec)\n",
      "\n"
     ]
    },
    {
     "name": "stderr",
     "output_type": "stream",
     "text": [
      "[Parallel(n_jobs=1)]: Done 1536 out of 1536 | elapsed:    0.4s finished\n",
      "[Parallel(n_jobs=1)]: Using backend SequentialBackend with 1 concurrent workers.\n",
      "[Parallel(n_jobs=1)]: Done   1 out of   1 | elapsed:    0.0s remaining:    0.0s\n",
      "[Parallel(n_jobs=1)]: Done   2 out of   2 | elapsed:    0.0s remaining:    0.0s\n",
      "[Parallel(n_jobs=1)]: Done   3 out of   3 | elapsed:    0.0s remaining:    0.0s\n",
      "[Parallel(n_jobs=1)]: Done   4 out of   4 | elapsed:    0.0s remaining:    0.0s\n"
     ]
    },
    {
     "name": "stdout",
     "output_type": "stream",
     "text": [
      "Overwriting existing file.\n",
      "Reading F:\\Documents\\Science\\MirRevAdaptEEG\\data\\eeg\\p009\\lrp\\mra_p009_run0-epo.fif ...\n",
      "    Found the data of interest:\n",
      "        t =   -2000.00 ...    1995.00 ms\n",
      "        0 CTF compensation matrices available\n"
     ]
    },
    {
     "name": "stderr",
     "output_type": "stream",
     "text": [
      "[Parallel(n_jobs=1)]: Done 1536 out of 1536 | elapsed:    0.5s finished\n"
     ]
    },
    {
     "name": "stdout",
     "output_type": "stream",
     "text": [
      "Not setting metadata\n",
      "419 matching events found\n",
      "No baseline correction applied\n",
      "0 projection items activated\n",
      "Applying baseline correction (mode: mean)\n",
      "Overwriting existing file.\n",
      "Setting up low-pass filter at 30 Hz\n",
      "\n",
      "FIR filter parameters\n",
      "---------------------\n",
      "Designing a one-pass, zero-phase, non-causal lowpass filter:\n",
      "- Windowed time-domain design (firwin) method\n",
      "- Hamming window with 0.0194 passband ripple and 53 dB stopband attenuation\n",
      "- Upper passband edge: 30.00 Hz\n",
      "- Upper transition bandwidth: 7.50 Hz (-6 dB cutoff frequency: 33.75 Hz)\n",
      "- Filter length: 89 samples (0.445 sec)\n",
      "\n"
     ]
    },
    {
     "name": "stderr",
     "output_type": "stream",
     "text": [
      "[Parallel(n_jobs=1)]: Using backend SequentialBackend with 1 concurrent workers.\n",
      "[Parallel(n_jobs=1)]: Done   1 out of   1 | elapsed:    0.0s remaining:    0.0s\n",
      "[Parallel(n_jobs=1)]: Done   2 out of   2 | elapsed:    0.0s remaining:    0.0s\n",
      "[Parallel(n_jobs=1)]: Done   3 out of   3 | elapsed:    0.0s remaining:    0.0s\n",
      "[Parallel(n_jobs=1)]: Done   4 out of   4 | elapsed:    0.0s remaining:    0.0s\n"
     ]
    },
    {
     "name": "stdout",
     "output_type": "stream",
     "text": [
      "Overwriting existing file.\n",
      "Overwriting existing file.\n",
      "Setting up low-pass filter at 30 Hz\n",
      "\n",
      "FIR filter parameters\n",
      "---------------------\n",
      "Designing a one-pass, zero-phase, non-causal lowpass filter:\n",
      "- Windowed time-domain design (firwin) method\n",
      "- Hamming window with 0.0194 passband ripple and 53 dB stopband attenuation\n",
      "- Upper passband edge: 30.00 Hz\n",
      "- Upper transition bandwidth: 7.50 Hz (-6 dB cutoff frequency: 33.75 Hz)\n",
      "- Filter length: 89 samples (0.445 sec)\n",
      "\n"
     ]
    },
    {
     "name": "stderr",
     "output_type": "stream",
     "text": [
      "[Parallel(n_jobs=1)]: Done 1536 out of 1536 | elapsed:    0.4s finished\n",
      "[Parallel(n_jobs=1)]: Using backend SequentialBackend with 1 concurrent workers.\n",
      "[Parallel(n_jobs=1)]: Done   1 out of   1 | elapsed:    0.0s remaining:    0.0s\n",
      "[Parallel(n_jobs=1)]: Done   2 out of   2 | elapsed:    0.0s remaining:    0.0s\n",
      "[Parallel(n_jobs=1)]: Done   3 out of   3 | elapsed:    0.0s remaining:    0.0s\n",
      "[Parallel(n_jobs=1)]: Done   4 out of   4 | elapsed:    0.0s remaining:    0.0s\n"
     ]
    },
    {
     "name": "stdout",
     "output_type": "stream",
     "text": [
      "Overwriting existing file.\n",
      "Reading F:\\Documents\\Science\\MirRevAdaptEEG\\data\\eeg\\p010\\lrp\\mra_p010_run0-epo.fif ...\n",
      "    Found the data of interest:\n",
      "        t =   -2000.00 ...    1995.00 ms\n",
      "        0 CTF compensation matrices available\n"
     ]
    },
    {
     "name": "stderr",
     "output_type": "stream",
     "text": [
      "[Parallel(n_jobs=1)]: Done 1536 out of 1536 | elapsed:    0.4s finished\n"
     ]
    },
    {
     "name": "stdout",
     "output_type": "stream",
     "text": [
      "Not setting metadata\n",
      "420 matching events found\n",
      "No baseline correction applied\n",
      "0 projection items activated\n",
      "Applying baseline correction (mode: mean)\n",
      "Overwriting existing file.\n",
      "Setting up low-pass filter at 30 Hz\n",
      "\n",
      "FIR filter parameters\n",
      "---------------------\n",
      "Designing a one-pass, zero-phase, non-causal lowpass filter:\n",
      "- Windowed time-domain design (firwin) method\n",
      "- Hamming window with 0.0194 passband ripple and 53 dB stopband attenuation\n",
      "- Upper passband edge: 30.00 Hz\n",
      "- Upper transition bandwidth: 7.50 Hz (-6 dB cutoff frequency: 33.75 Hz)\n",
      "- Filter length: 89 samples (0.445 sec)\n",
      "\n"
     ]
    },
    {
     "name": "stderr",
     "output_type": "stream",
     "text": [
      "[Parallel(n_jobs=1)]: Using backend SequentialBackend with 1 concurrent workers.\n",
      "[Parallel(n_jobs=1)]: Done   1 out of   1 | elapsed:    0.0s remaining:    0.0s\n",
      "[Parallel(n_jobs=1)]: Done   2 out of   2 | elapsed:    0.0s remaining:    0.0s\n",
      "[Parallel(n_jobs=1)]: Done   3 out of   3 | elapsed:    0.0s remaining:    0.0s\n",
      "[Parallel(n_jobs=1)]: Done   4 out of   4 | elapsed:    0.0s remaining:    0.0s\n"
     ]
    },
    {
     "name": "stdout",
     "output_type": "stream",
     "text": [
      "Overwriting existing file.\n",
      "Overwriting existing file.\n",
      "Setting up low-pass filter at 30 Hz\n",
      "\n",
      "FIR filter parameters\n",
      "---------------------\n",
      "Designing a one-pass, zero-phase, non-causal lowpass filter:\n",
      "- Windowed time-domain design (firwin) method\n",
      "- Hamming window with 0.0194 passband ripple and 53 dB stopband attenuation\n",
      "- Upper passband edge: 30.00 Hz\n",
      "- Upper transition bandwidth: 7.50 Hz (-6 dB cutoff frequency: 33.75 Hz)\n",
      "- Filter length: 89 samples (0.445 sec)\n",
      "\n"
     ]
    },
    {
     "name": "stderr",
     "output_type": "stream",
     "text": [
      "[Parallel(n_jobs=1)]: Done 1536 out of 1536 | elapsed:    0.4s finished\n",
      "[Parallel(n_jobs=1)]: Using backend SequentialBackend with 1 concurrent workers.\n",
      "[Parallel(n_jobs=1)]: Done   1 out of   1 | elapsed:    0.0s remaining:    0.0s\n",
      "[Parallel(n_jobs=1)]: Done   2 out of   2 | elapsed:    0.0s remaining:    0.0s\n",
      "[Parallel(n_jobs=1)]: Done   3 out of   3 | elapsed:    0.0s remaining:    0.0s\n",
      "[Parallel(n_jobs=1)]: Done   4 out of   4 | elapsed:    0.0s remaining:    0.0s\n"
     ]
    },
    {
     "name": "stdout",
     "output_type": "stream",
     "text": [
      "Overwriting existing file.\n",
      "Reading F:\\Documents\\Science\\MirRevAdaptEEG\\data\\eeg\\p011\\lrp\\mra_p011_run0-epo.fif ...\n",
      "    Found the data of interest:\n",
      "        t =   -2000.00 ...    1995.00 ms\n",
      "        0 CTF compensation matrices available\n",
      "Not setting metadata\n"
     ]
    },
    {
     "name": "stderr",
     "output_type": "stream",
     "text": [
      "[Parallel(n_jobs=1)]: Done 1536 out of 1536 | elapsed:    0.5s finished\n"
     ]
    },
    {
     "name": "stdout",
     "output_type": "stream",
     "text": [
      "419 matching events found\n",
      "No baseline correction applied\n",
      "0 projection items activated\n",
      "Applying baseline correction (mode: mean)\n",
      "Overwriting existing file.\n",
      "Setting up low-pass filter at 30 Hz\n",
      "\n",
      "FIR filter parameters\n",
      "---------------------\n",
      "Designing a one-pass, zero-phase, non-causal lowpass filter:\n",
      "- Windowed time-domain design (firwin) method\n",
      "- Hamming window with 0.0194 passband ripple and 53 dB stopband attenuation\n",
      "- Upper passband edge: 30.00 Hz\n",
      "- Upper transition bandwidth: 7.50 Hz (-6 dB cutoff frequency: 33.75 Hz)\n",
      "- Filter length: 89 samples (0.445 sec)\n",
      "\n"
     ]
    },
    {
     "name": "stderr",
     "output_type": "stream",
     "text": [
      "[Parallel(n_jobs=1)]: Using backend SequentialBackend with 1 concurrent workers.\n",
      "[Parallel(n_jobs=1)]: Done   1 out of   1 | elapsed:    0.0s remaining:    0.0s\n",
      "[Parallel(n_jobs=1)]: Done   2 out of   2 | elapsed:    0.0s remaining:    0.0s\n",
      "[Parallel(n_jobs=1)]: Done   3 out of   3 | elapsed:    0.0s remaining:    0.0s\n",
      "[Parallel(n_jobs=1)]: Done   4 out of   4 | elapsed:    0.0s remaining:    0.0s\n"
     ]
    },
    {
     "name": "stdout",
     "output_type": "stream",
     "text": [
      "Overwriting existing file.\n",
      "Overwriting existing file.\n",
      "Setting up low-pass filter at 30 Hz\n",
      "\n",
      "FIR filter parameters\n",
      "---------------------\n",
      "Designing a one-pass, zero-phase, non-causal lowpass filter:\n",
      "- Windowed time-domain design (firwin) method\n",
      "- Hamming window with 0.0194 passband ripple and 53 dB stopband attenuation\n",
      "- Upper passband edge: 30.00 Hz\n",
      "- Upper transition bandwidth: 7.50 Hz (-6 dB cutoff frequency: 33.75 Hz)\n",
      "- Filter length: 89 samples (0.445 sec)\n",
      "\n"
     ]
    },
    {
     "name": "stderr",
     "output_type": "stream",
     "text": [
      "[Parallel(n_jobs=1)]: Done 1600 out of 1600 | elapsed:    0.4s finished\n",
      "[Parallel(n_jobs=1)]: Using backend SequentialBackend with 1 concurrent workers.\n",
      "[Parallel(n_jobs=1)]: Done   1 out of   1 | elapsed:    0.0s remaining:    0.0s\n",
      "[Parallel(n_jobs=1)]: Done   2 out of   2 | elapsed:    0.0s remaining:    0.0s\n",
      "[Parallel(n_jobs=1)]: Done   3 out of   3 | elapsed:    0.0s remaining:    0.0s\n",
      "[Parallel(n_jobs=1)]: Done   4 out of   4 | elapsed:    0.0s remaining:    0.0s\n"
     ]
    },
    {
     "name": "stdout",
     "output_type": "stream",
     "text": [
      "Overwriting existing file.\n",
      "Reading F:\\Documents\\Science\\MirRevAdaptEEG\\data\\eeg\\p012\\lrp\\mra_p012_run0-epo.fif ...\n",
      "    Found the data of interest:\n",
      "        t =   -2000.00 ...    1995.00 ms\n",
      "        0 CTF compensation matrices available\n",
      "Not setting metadata\n"
     ]
    },
    {
     "name": "stderr",
     "output_type": "stream",
     "text": [
      "[Parallel(n_jobs=1)]: Done 1472 out of 1472 | elapsed:    0.4s finished\n"
     ]
    },
    {
     "name": "stdout",
     "output_type": "stream",
     "text": [
      "412 matching events found\n",
      "No baseline correction applied\n",
      "0 projection items activated\n",
      "Applying baseline correction (mode: mean)\n",
      "Reading F:\\Documents\\Science\\MirRevAdaptEEG\\data\\eeg\\p013\\lrp\\mra_p013_run0-epo.fif ...\n",
      "    Found the data of interest:\n",
      "        t =   -2000.00 ...    1995.00 ms\n",
      "        0 CTF compensation matrices available\n",
      "Not setting metadata\n",
      "416 matching events found\n",
      "No baseline correction applied\n",
      "0 projection items activated\n",
      "Applying baseline correction (mode: mean)\n",
      "Reading F:\\Documents\\Science\\MirRevAdaptEEG\\data\\eeg\\p014\\lrp\\mra_p014_run0-epo.fif ...\n",
      "    Found the data of interest:\n",
      "        t =   -2000.00 ...    1995.00 ms\n",
      "        0 CTF compensation matrices available\n",
      "Not setting metadata\n",
      "420 matching events found\n",
      "No baseline correction applied\n",
      "0 projection items activated\n",
      "Applying baseline correction (mode: mean)\n",
      "Reading F:\\Documents\\Science\\MirRevAdaptEEG\\data\\eeg\\p015\\lrp\\mra_p015_run0-epo.fif ...\n",
      "    Found the data of interest:\n",
      "        t =   -2000.00 ...    1995.00 ms\n",
      "        0 CTF compensation matrices available\n",
      "Not setting metadata\n",
      "420 matching events found\n",
      "No baseline correction applied\n",
      "0 projection items activated\n",
      "Applying baseline correction (mode: mean)\n",
      "Reading F:\\Documents\\Science\\MirRevAdaptEEG\\data\\eeg\\p016\\lrp\\mra_p016_run0-epo.fif ...\n",
      "    Found the data of interest:\n",
      "        t =   -2000.00 ...    1995.00 ms\n",
      "        0 CTF compensation matrices available\n",
      "Not setting metadata\n",
      "418 matching events found\n",
      "No baseline correction applied\n",
      "0 projection items activated\n",
      "Applying baseline correction (mode: mean)\n",
      "Overwriting existing file.\n",
      "Setting up low-pass filter at 30 Hz\n",
      "\n",
      "FIR filter parameters\n",
      "---------------------\n",
      "Designing a one-pass, zero-phase, non-causal lowpass filter:\n",
      "- Windowed time-domain design (firwin) method\n",
      "- Hamming window with 0.0194 passband ripple and 53 dB stopband attenuation\n",
      "- Upper passband edge: 30.00 Hz\n",
      "- Upper transition bandwidth: 7.50 Hz (-6 dB cutoff frequency: 33.75 Hz)\n",
      "- Filter length: 89 samples (0.445 sec)\n",
      "\n"
     ]
    },
    {
     "name": "stderr",
     "output_type": "stream",
     "text": [
      "[Parallel(n_jobs=1)]: Using backend SequentialBackend with 1 concurrent workers.\n",
      "[Parallel(n_jobs=1)]: Done   1 out of   1 | elapsed:    0.0s remaining:    0.0s\n",
      "[Parallel(n_jobs=1)]: Done   2 out of   2 | elapsed:    0.0s remaining:    0.0s\n",
      "[Parallel(n_jobs=1)]: Done   3 out of   3 | elapsed:    0.0s remaining:    0.0s\n",
      "[Parallel(n_jobs=1)]: Done   4 out of   4 | elapsed:    0.0s remaining:    0.0s\n"
     ]
    },
    {
     "name": "stdout",
     "output_type": "stream",
     "text": [
      "Overwriting existing file.\n",
      "Overwriting existing file.\n",
      "Setting up low-pass filter at 30 Hz\n",
      "\n",
      "FIR filter parameters\n",
      "---------------------\n",
      "Designing a one-pass, zero-phase, non-causal lowpass filter:\n",
      "- Windowed time-domain design (firwin) method\n",
      "- Hamming window with 0.0194 passband ripple and 53 dB stopband attenuation\n",
      "- Upper passband edge: 30.00 Hz\n",
      "- Upper transition bandwidth: 7.50 Hz (-6 dB cutoff frequency: 33.75 Hz)\n",
      "- Filter length: 89 samples (0.445 sec)\n",
      "\n"
     ]
    },
    {
     "name": "stderr",
     "output_type": "stream",
     "text": [
      "[Parallel(n_jobs=1)]: Done 1600 out of 1600 | elapsed:    0.5s finished\n",
      "[Parallel(n_jobs=1)]: Using backend SequentialBackend with 1 concurrent workers.\n",
      "[Parallel(n_jobs=1)]: Done   1 out of   1 | elapsed:    0.0s remaining:    0.0s\n",
      "[Parallel(n_jobs=1)]: Done   2 out of   2 | elapsed:    0.0s remaining:    0.0s\n",
      "[Parallel(n_jobs=1)]: Done   3 out of   3 | elapsed:    0.0s remaining:    0.0s\n",
      "[Parallel(n_jobs=1)]: Done   4 out of   4 | elapsed:    0.0s remaining:    0.0s\n"
     ]
    },
    {
     "name": "stdout",
     "output_type": "stream",
     "text": [
      "Overwriting existing file.\n",
      "Reading F:\\Documents\\Science\\MirRevAdaptEEG\\data\\eeg\\p017\\lrp\\mra_p017_run0-epo.fif ...\n",
      "    Found the data of interest:\n",
      "        t =   -2000.00 ...    1995.00 ms\n",
      "        0 CTF compensation matrices available\n"
     ]
    },
    {
     "name": "stderr",
     "output_type": "stream",
     "text": [
      "[Parallel(n_jobs=1)]: Done 1472 out of 1472 | elapsed:    0.4s finished\n"
     ]
    },
    {
     "name": "stdout",
     "output_type": "stream",
     "text": [
      "Not setting metadata\n",
      "418 matching events found\n",
      "No baseline correction applied\n",
      "0 projection items activated\n",
      "Applying baseline correction (mode: mean)\n",
      "Overwriting existing file.\n",
      "Setting up low-pass filter at 30 Hz\n",
      "\n",
      "FIR filter parameters\n",
      "---------------------\n",
      "Designing a one-pass, zero-phase, non-causal lowpass filter:\n",
      "- Windowed time-domain design (firwin) method\n",
      "- Hamming window with 0.0194 passband ripple and 53 dB stopband attenuation\n",
      "- Upper passband edge: 30.00 Hz\n",
      "- Upper transition bandwidth: 7.50 Hz (-6 dB cutoff frequency: 33.75 Hz)\n",
      "- Filter length: 89 samples (0.445 sec)\n",
      "\n"
     ]
    },
    {
     "name": "stderr",
     "output_type": "stream",
     "text": [
      "[Parallel(n_jobs=1)]: Using backend SequentialBackend with 1 concurrent workers.\n",
      "[Parallel(n_jobs=1)]: Done   1 out of   1 | elapsed:    0.0s remaining:    0.0s\n",
      "[Parallel(n_jobs=1)]: Done   2 out of   2 | elapsed:    0.0s remaining:    0.0s\n",
      "[Parallel(n_jobs=1)]: Done   3 out of   3 | elapsed:    0.0s remaining:    0.0s\n",
      "[Parallel(n_jobs=1)]: Done   4 out of   4 | elapsed:    0.0s remaining:    0.0s\n"
     ]
    },
    {
     "name": "stdout",
     "output_type": "stream",
     "text": [
      "Overwriting existing file.\n",
      "Overwriting existing file.\n",
      "Setting up low-pass filter at 30 Hz\n",
      "\n",
      "FIR filter parameters\n",
      "---------------------\n",
      "Designing a one-pass, zero-phase, non-causal lowpass filter:\n",
      "- Windowed time-domain design (firwin) method\n",
      "- Hamming window with 0.0194 passband ripple and 53 dB stopband attenuation\n",
      "- Upper passband edge: 30.00 Hz\n",
      "- Upper transition bandwidth: 7.50 Hz (-6 dB cutoff frequency: 33.75 Hz)\n",
      "- Filter length: 89 samples (0.445 sec)\n",
      "\n"
     ]
    },
    {
     "name": "stderr",
     "output_type": "stream",
     "text": [
      "[Parallel(n_jobs=1)]: Done 1536 out of 1536 | elapsed:    0.4s finished\n",
      "[Parallel(n_jobs=1)]: Using backend SequentialBackend with 1 concurrent workers.\n",
      "[Parallel(n_jobs=1)]: Done   1 out of   1 | elapsed:    0.0s remaining:    0.0s\n",
      "[Parallel(n_jobs=1)]: Done   2 out of   2 | elapsed:    0.0s remaining:    0.0s\n",
      "[Parallel(n_jobs=1)]: Done   3 out of   3 | elapsed:    0.0s remaining:    0.0s\n",
      "[Parallel(n_jobs=1)]: Done   4 out of   4 | elapsed:    0.0s remaining:    0.0s\n"
     ]
    },
    {
     "name": "stdout",
     "output_type": "stream",
     "text": [
      "Overwriting existing file.\n",
      "Reading F:\\Documents\\Science\\MirRevAdaptEEG\\data\\eeg\\p018\\lrp\\mra_p018_run0-epo.fif ...\n",
      "    Found the data of interest:\n",
      "        t =   -2000.00 ...    1995.00 ms\n",
      "        0 CTF compensation matrices available\n"
     ]
    },
    {
     "name": "stderr",
     "output_type": "stream",
     "text": [
      "[Parallel(n_jobs=1)]: Done 1536 out of 1536 | elapsed:    0.4s finished\n"
     ]
    },
    {
     "name": "stdout",
     "output_type": "stream",
     "text": [
      "Not setting metadata\n",
      "419 matching events found\n",
      "No baseline correction applied\n",
      "0 projection items activated\n",
      "Applying baseline correction (mode: mean)\n",
      "Overwriting existing file.\n",
      "Setting up low-pass filter at 30 Hz\n",
      "\n",
      "FIR filter parameters\n",
      "---------------------\n",
      "Designing a one-pass, zero-phase, non-causal lowpass filter:\n",
      "- Windowed time-domain design (firwin) method\n",
      "- Hamming window with 0.0194 passband ripple and 53 dB stopband attenuation\n",
      "- Upper passband edge: 30.00 Hz\n",
      "- Upper transition bandwidth: 7.50 Hz (-6 dB cutoff frequency: 33.75 Hz)\n",
      "- Filter length: 89 samples (0.445 sec)\n",
      "\n"
     ]
    },
    {
     "name": "stderr",
     "output_type": "stream",
     "text": [
      "[Parallel(n_jobs=1)]: Using backend SequentialBackend with 1 concurrent workers.\n",
      "[Parallel(n_jobs=1)]: Done   1 out of   1 | elapsed:    0.0s remaining:    0.0s\n",
      "[Parallel(n_jobs=1)]: Done   2 out of   2 | elapsed:    0.0s remaining:    0.0s\n",
      "[Parallel(n_jobs=1)]: Done   3 out of   3 | elapsed:    0.0s remaining:    0.0s\n",
      "[Parallel(n_jobs=1)]: Done   4 out of   4 | elapsed:    0.0s remaining:    0.0s\n"
     ]
    },
    {
     "name": "stdout",
     "output_type": "stream",
     "text": [
      "Overwriting existing file.\n",
      "Overwriting existing file.\n",
      "Setting up low-pass filter at 30 Hz\n",
      "\n",
      "FIR filter parameters\n",
      "---------------------\n",
      "Designing a one-pass, zero-phase, non-causal lowpass filter:\n",
      "- Windowed time-domain design (firwin) method\n",
      "- Hamming window with 0.0194 passband ripple and 53 dB stopband attenuation\n",
      "- Upper passband edge: 30.00 Hz\n",
      "- Upper transition bandwidth: 7.50 Hz (-6 dB cutoff frequency: 33.75 Hz)\n",
      "- Filter length: 89 samples (0.445 sec)\n",
      "\n"
     ]
    },
    {
     "name": "stderr",
     "output_type": "stream",
     "text": [
      "[Parallel(n_jobs=1)]: Done 1536 out of 1536 | elapsed:    0.4s finished\n",
      "[Parallel(n_jobs=1)]: Using backend SequentialBackend with 1 concurrent workers.\n",
      "[Parallel(n_jobs=1)]: Done   1 out of   1 | elapsed:    0.0s remaining:    0.0s\n",
      "[Parallel(n_jobs=1)]: Done   2 out of   2 | elapsed:    0.0s remaining:    0.0s\n",
      "[Parallel(n_jobs=1)]: Done   3 out of   3 | elapsed:    0.0s remaining:    0.0s\n",
      "[Parallel(n_jobs=1)]: Done   4 out of   4 | elapsed:    0.0s remaining:    0.0s\n"
     ]
    },
    {
     "name": "stdout",
     "output_type": "stream",
     "text": [
      "Overwriting existing file.\n",
      "Reading F:\\Documents\\Science\\MirRevAdaptEEG\\data\\eeg\\p019\\lrp\\mra_p019_run0-epo.fif ...\n",
      "    Found the data of interest:\n",
      "        t =   -2000.00 ...    1995.00 ms\n",
      "        0 CTF compensation matrices available\n"
     ]
    },
    {
     "name": "stderr",
     "output_type": "stream",
     "text": [
      "[Parallel(n_jobs=1)]: Done 1536 out of 1536 | elapsed:    0.5s finished\n"
     ]
    },
    {
     "name": "stdout",
     "output_type": "stream",
     "text": [
      "Not setting metadata\n",
      "419 matching events found\n",
      "No baseline correction applied\n",
      "0 projection items activated\n",
      "Applying baseline correction (mode: mean)\n",
      "Overwriting existing file.\n",
      "Setting up low-pass filter at 30 Hz\n",
      "\n",
      "FIR filter parameters\n",
      "---------------------\n",
      "Designing a one-pass, zero-phase, non-causal lowpass filter:\n",
      "- Windowed time-domain design (firwin) method\n",
      "- Hamming window with 0.0194 passband ripple and 53 dB stopband attenuation\n",
      "- Upper passband edge: 30.00 Hz\n",
      "- Upper transition bandwidth: 7.50 Hz (-6 dB cutoff frequency: 33.75 Hz)\n",
      "- Filter length: 89 samples (0.445 sec)\n",
      "\n"
     ]
    },
    {
     "name": "stderr",
     "output_type": "stream",
     "text": [
      "[Parallel(n_jobs=1)]: Using backend SequentialBackend with 1 concurrent workers.\n",
      "[Parallel(n_jobs=1)]: Done   1 out of   1 | elapsed:    0.0s remaining:    0.0s\n",
      "[Parallel(n_jobs=1)]: Done   2 out of   2 | elapsed:    0.0s remaining:    0.0s\n",
      "[Parallel(n_jobs=1)]: Done   3 out of   3 | elapsed:    0.0s remaining:    0.0s\n",
      "[Parallel(n_jobs=1)]: Done   4 out of   4 | elapsed:    0.0s remaining:    0.0s\n"
     ]
    },
    {
     "name": "stdout",
     "output_type": "stream",
     "text": [
      "Overwriting existing file.\n",
      "Overwriting existing file.\n",
      "Setting up low-pass filter at 30 Hz\n",
      "\n",
      "FIR filter parameters\n",
      "---------------------\n",
      "Designing a one-pass, zero-phase, non-causal lowpass filter:\n",
      "- Windowed time-domain design (firwin) method\n",
      "- Hamming window with 0.0194 passband ripple and 53 dB stopband attenuation\n",
      "- Upper passband edge: 30.00 Hz\n",
      "- Upper transition bandwidth: 7.50 Hz (-6 dB cutoff frequency: 33.75 Hz)\n",
      "- Filter length: 89 samples (0.445 sec)\n",
      "\n"
     ]
    },
    {
     "name": "stderr",
     "output_type": "stream",
     "text": [
      "[Parallel(n_jobs=1)]: Done 1536 out of 1536 | elapsed:    0.4s finished\n",
      "[Parallel(n_jobs=1)]: Using backend SequentialBackend with 1 concurrent workers.\n",
      "[Parallel(n_jobs=1)]: Done   1 out of   1 | elapsed:    0.0s remaining:    0.0s\n",
      "[Parallel(n_jobs=1)]: Done   2 out of   2 | elapsed:    0.0s remaining:    0.0s\n",
      "[Parallel(n_jobs=1)]: Done   3 out of   3 | elapsed:    0.0s remaining:    0.0s\n",
      "[Parallel(n_jobs=1)]: Done   4 out of   4 | elapsed:    0.0s remaining:    0.0s\n"
     ]
    },
    {
     "name": "stdout",
     "output_type": "stream",
     "text": [
      "Overwriting existing file.\n",
      "Reading F:\\Documents\\Science\\MirRevAdaptEEG\\data\\eeg\\p020\\lrp\\mra_p020_run0-epo.fif ...\n",
      "    Found the data of interest:\n",
      "        t =   -2000.00 ...    1995.00 ms\n",
      "        0 CTF compensation matrices available\n"
     ]
    },
    {
     "name": "stderr",
     "output_type": "stream",
     "text": [
      "[Parallel(n_jobs=1)]: Done 1536 out of 1536 | elapsed:    0.5s finished\n"
     ]
    },
    {
     "name": "stdout",
     "output_type": "stream",
     "text": [
      "Not setting metadata\n",
      "420 matching events found\n",
      "No baseline correction applied\n",
      "0 projection items activated\n",
      "Applying baseline correction (mode: mean)\n",
      "Reading F:\\Documents\\Science\\MirRevAdaptEEG\\data\\eeg\\p021\\lrp\\mra_p021_run0-epo.fif ...\n",
      "    Found the data of interest:\n",
      "        t =   -2000.00 ...    1995.00 ms\n",
      "        0 CTF compensation matrices available\n",
      "Not setting metadata\n",
      "419 matching events found\n",
      "No baseline correction applied\n",
      "0 projection items activated\n",
      "Applying baseline correction (mode: mean)\n",
      "Reading F:\\Documents\\Science\\MirRevAdaptEEG\\data\\eeg\\p022\\lrp\\mra_p022_run0-epo.fif ...\n",
      "    Found the data of interest:\n",
      "        t =   -2000.00 ...    1995.00 ms\n",
      "        0 CTF compensation matrices available\n",
      "Not setting metadata\n",
      "420 matching events found\n",
      "No baseline correction applied\n",
      "0 projection items activated\n",
      "Applying baseline correction (mode: mean)\n",
      "Reading F:\\Documents\\Science\\MirRevAdaptEEG\\data\\eeg\\p023\\lrp\\mra_p023_run0-epo.fif ...\n",
      "    Found the data of interest:\n",
      "        t =   -2000.00 ...    1995.00 ms\n",
      "        0 CTF compensation matrices available\n",
      "Not setting metadata\n",
      "420 matching events found\n",
      "No baseline correction applied\n",
      "0 projection items activated\n",
      "Applying baseline correction (mode: mean)\n",
      "Reading F:\\Documents\\Science\\MirRevAdaptEEG\\data\\eeg\\p024\\lrp\\mra_p024_run0-epo.fif ...\n",
      "    Found the data of interest:\n",
      "        t =   -2000.00 ...    1995.00 ms\n",
      "        0 CTF compensation matrices available\n",
      "Not setting metadata\n",
      "420 matching events found\n",
      "No baseline correction applied\n",
      "0 projection items activated\n",
      "Applying baseline correction (mode: mean)\n",
      "Overwriting existing file.\n",
      "Setting up low-pass filter at 30 Hz\n",
      "\n",
      "FIR filter parameters\n",
      "---------------------\n",
      "Designing a one-pass, zero-phase, non-causal lowpass filter:\n",
      "- Windowed time-domain design (firwin) method\n",
      "- Hamming window with 0.0194 passband ripple and 53 dB stopband attenuation\n",
      "- Upper passband edge: 30.00 Hz\n",
      "- Upper transition bandwidth: 7.50 Hz (-6 dB cutoff frequency: 33.75 Hz)\n",
      "- Filter length: 89 samples (0.445 sec)\n",
      "\n"
     ]
    },
    {
     "name": "stderr",
     "output_type": "stream",
     "text": [
      "[Parallel(n_jobs=1)]: Using backend SequentialBackend with 1 concurrent workers.\n",
      "[Parallel(n_jobs=1)]: Done   1 out of   1 | elapsed:    0.0s remaining:    0.0s\n",
      "[Parallel(n_jobs=1)]: Done   2 out of   2 | elapsed:    0.0s remaining:    0.0s\n",
      "[Parallel(n_jobs=1)]: Done   3 out of   3 | elapsed:    0.0s remaining:    0.0s\n",
      "[Parallel(n_jobs=1)]: Done   4 out of   4 | elapsed:    0.0s remaining:    0.0s\n"
     ]
    },
    {
     "name": "stdout",
     "output_type": "stream",
     "text": [
      "Overwriting existing file.\n",
      "Overwriting existing file.\n",
      "Setting up low-pass filter at 30 Hz\n",
      "\n",
      "FIR filter parameters\n",
      "---------------------\n",
      "Designing a one-pass, zero-phase, non-causal lowpass filter:\n",
      "- Windowed time-domain design (firwin) method\n",
      "- Hamming window with 0.0194 passband ripple and 53 dB stopband attenuation\n",
      "- Upper passband edge: 30.00 Hz\n",
      "- Upper transition bandwidth: 7.50 Hz (-6 dB cutoff frequency: 33.75 Hz)\n",
      "- Filter length: 89 samples (0.445 sec)\n",
      "\n"
     ]
    },
    {
     "name": "stderr",
     "output_type": "stream",
     "text": [
      "[Parallel(n_jobs=1)]: Done 1536 out of 1536 | elapsed:    0.4s finished\n",
      "[Parallel(n_jobs=1)]: Using backend SequentialBackend with 1 concurrent workers.\n",
      "[Parallel(n_jobs=1)]: Done   1 out of   1 | elapsed:    0.0s remaining:    0.0s\n",
      "[Parallel(n_jobs=1)]: Done   2 out of   2 | elapsed:    0.0s remaining:    0.0s\n",
      "[Parallel(n_jobs=1)]: Done   3 out of   3 | elapsed:    0.0s remaining:    0.0s\n",
      "[Parallel(n_jobs=1)]: Done   4 out of   4 | elapsed:    0.0s remaining:    0.0s\n"
     ]
    },
    {
     "name": "stdout",
     "output_type": "stream",
     "text": [
      "Overwriting existing file.\n",
      "Reading F:\\Documents\\Science\\MirRevAdaptEEG\\data\\eeg\\p025\\lrp\\mra_p025_run0-epo.fif ...\n",
      "    Found the data of interest:\n",
      "        t =   -2000.00 ...    1995.00 ms\n",
      "        0 CTF compensation matrices available\n"
     ]
    },
    {
     "name": "stderr",
     "output_type": "stream",
     "text": [
      "[Parallel(n_jobs=1)]: Done 1536 out of 1536 | elapsed:    0.5s finished\n"
     ]
    },
    {
     "name": "stdout",
     "output_type": "stream",
     "text": [
      "Not setting metadata\n",
      "420 matching events found\n",
      "No baseline correction applied\n",
      "0 projection items activated\n",
      "Applying baseline correction (mode: mean)\n",
      "Overwriting existing file.\n",
      "Setting up low-pass filter at 30 Hz\n",
      "\n",
      "FIR filter parameters\n",
      "---------------------\n",
      "Designing a one-pass, zero-phase, non-causal lowpass filter:\n",
      "- Windowed time-domain design (firwin) method\n",
      "- Hamming window with 0.0194 passband ripple and 53 dB stopband attenuation\n",
      "- Upper passband edge: 30.00 Hz\n",
      "- Upper transition bandwidth: 7.50 Hz (-6 dB cutoff frequency: 33.75 Hz)\n",
      "- Filter length: 89 samples (0.445 sec)\n",
      "\n"
     ]
    },
    {
     "name": "stderr",
     "output_type": "stream",
     "text": [
      "[Parallel(n_jobs=1)]: Using backend SequentialBackend with 1 concurrent workers.\n",
      "[Parallel(n_jobs=1)]: Done   1 out of   1 | elapsed:    0.0s remaining:    0.0s\n",
      "[Parallel(n_jobs=1)]: Done   2 out of   2 | elapsed:    0.0s remaining:    0.0s\n",
      "[Parallel(n_jobs=1)]: Done   3 out of   3 | elapsed:    0.0s remaining:    0.0s\n",
      "[Parallel(n_jobs=1)]: Done   4 out of   4 | elapsed:    0.0s remaining:    0.0s\n"
     ]
    },
    {
     "name": "stdout",
     "output_type": "stream",
     "text": [
      "Overwriting existing file.\n",
      "Overwriting existing file.\n",
      "Setting up low-pass filter at 30 Hz\n",
      "\n",
      "FIR filter parameters\n",
      "---------------------\n",
      "Designing a one-pass, zero-phase, non-causal lowpass filter:\n",
      "- Windowed time-domain design (firwin) method\n",
      "- Hamming window with 0.0194 passband ripple and 53 dB stopband attenuation\n",
      "- Upper passband edge: 30.00 Hz\n",
      "- Upper transition bandwidth: 7.50 Hz (-6 dB cutoff frequency: 33.75 Hz)\n",
      "- Filter length: 89 samples (0.445 sec)\n",
      "\n"
     ]
    },
    {
     "name": "stderr",
     "output_type": "stream",
     "text": [
      "[Parallel(n_jobs=1)]: Done 1600 out of 1600 | elapsed:    0.5s finished\n",
      "[Parallel(n_jobs=1)]: Using backend SequentialBackend with 1 concurrent workers.\n",
      "[Parallel(n_jobs=1)]: Done   1 out of   1 | elapsed:    0.0s remaining:    0.0s\n",
      "[Parallel(n_jobs=1)]: Done   2 out of   2 | elapsed:    0.0s remaining:    0.0s\n",
      "[Parallel(n_jobs=1)]: Done   3 out of   3 | elapsed:    0.0s remaining:    0.0s\n",
      "[Parallel(n_jobs=1)]: Done   4 out of   4 | elapsed:    0.0s remaining:    0.0s\n"
     ]
    },
    {
     "name": "stdout",
     "output_type": "stream",
     "text": [
      "Overwriting existing file.\n",
      "Reading F:\\Documents\\Science\\MirRevAdaptEEG\\data\\eeg\\p026\\lrp\\mra_p026_run0-epo.fif ...\n",
      "    Found the data of interest:\n",
      "        t =   -2000.00 ...    1995.00 ms\n",
      "        0 CTF compensation matrices available\n"
     ]
    },
    {
     "name": "stderr",
     "output_type": "stream",
     "text": [
      "[Parallel(n_jobs=1)]: Done 1472 out of 1472 | elapsed:    0.5s finished\n"
     ]
    },
    {
     "name": "stdout",
     "output_type": "stream",
     "text": [
      "Not setting metadata\n",
      "420 matching events found\n",
      "No baseline correction applied\n",
      "0 projection items activated\n",
      "Applying baseline correction (mode: mean)\n",
      "Overwriting existing file.\n",
      "Setting up low-pass filter at 30 Hz\n",
      "\n",
      "FIR filter parameters\n",
      "---------------------\n",
      "Designing a one-pass, zero-phase, non-causal lowpass filter:\n",
      "- Windowed time-domain design (firwin) method\n",
      "- Hamming window with 0.0194 passband ripple and 53 dB stopband attenuation\n",
      "- Upper passband edge: 30.00 Hz\n",
      "- Upper transition bandwidth: 7.50 Hz (-6 dB cutoff frequency: 33.75 Hz)\n",
      "- Filter length: 89 samples (0.445 sec)\n",
      "\n"
     ]
    },
    {
     "name": "stderr",
     "output_type": "stream",
     "text": [
      "[Parallel(n_jobs=1)]: Using backend SequentialBackend with 1 concurrent workers.\n",
      "[Parallel(n_jobs=1)]: Done   1 out of   1 | elapsed:    0.0s remaining:    0.0s\n",
      "[Parallel(n_jobs=1)]: Done   2 out of   2 | elapsed:    0.0s remaining:    0.0s\n",
      "[Parallel(n_jobs=1)]: Done   3 out of   3 | elapsed:    0.0s remaining:    0.0s\n",
      "[Parallel(n_jobs=1)]: Done   4 out of   4 | elapsed:    0.0s remaining:    0.0s\n"
     ]
    },
    {
     "name": "stdout",
     "output_type": "stream",
     "text": [
      "Overwriting existing file.\n",
      "Overwriting existing file.\n",
      "Setting up low-pass filter at 30 Hz\n",
      "\n",
      "FIR filter parameters\n",
      "---------------------\n",
      "Designing a one-pass, zero-phase, non-causal lowpass filter:\n",
      "- Windowed time-domain design (firwin) method\n",
      "- Hamming window with 0.0194 passband ripple and 53 dB stopband attenuation\n",
      "- Upper passband edge: 30.00 Hz\n",
      "- Upper transition bandwidth: 7.50 Hz (-6 dB cutoff frequency: 33.75 Hz)\n",
      "- Filter length: 89 samples (0.445 sec)\n",
      "\n"
     ]
    },
    {
     "name": "stderr",
     "output_type": "stream",
     "text": [
      "[Parallel(n_jobs=1)]: Done 1536 out of 1536 | elapsed:    0.5s finished\n",
      "[Parallel(n_jobs=1)]: Using backend SequentialBackend with 1 concurrent workers.\n",
      "[Parallel(n_jobs=1)]: Done   1 out of   1 | elapsed:    0.0s remaining:    0.0s\n",
      "[Parallel(n_jobs=1)]: Done   2 out of   2 | elapsed:    0.0s remaining:    0.0s\n",
      "[Parallel(n_jobs=1)]: Done   3 out of   3 | elapsed:    0.0s remaining:    0.0s\n",
      "[Parallel(n_jobs=1)]: Done   4 out of   4 | elapsed:    0.0s remaining:    0.0s\n"
     ]
    },
    {
     "name": "stdout",
     "output_type": "stream",
     "text": [
      "Overwriting existing file.\n",
      "Reading F:\\Documents\\Science\\MirRevAdaptEEG\\data\\eeg\\p027\\lrp\\mra_p027_run0-epo.fif ...\n",
      "    Found the data of interest:\n",
      "        t =   -2000.00 ...    1995.00 ms\n",
      "        0 CTF compensation matrices available\n"
     ]
    },
    {
     "name": "stderr",
     "output_type": "stream",
     "text": [
      "[Parallel(n_jobs=1)]: Done 1536 out of 1536 | elapsed:    0.5s finished\n"
     ]
    },
    {
     "name": "stdout",
     "output_type": "stream",
     "text": [
      "Not setting metadata\n",
      "419 matching events found\n",
      "No baseline correction applied\n",
      "0 projection items activated\n",
      "Applying baseline correction (mode: mean)\n",
      "Overwriting existing file.\n",
      "Setting up low-pass filter at 30 Hz\n",
      "\n",
      "FIR filter parameters\n",
      "---------------------\n",
      "Designing a one-pass, zero-phase, non-causal lowpass filter:\n",
      "- Windowed time-domain design (firwin) method\n",
      "- Hamming window with 0.0194 passband ripple and 53 dB stopband attenuation\n",
      "- Upper passband edge: 30.00 Hz\n",
      "- Upper transition bandwidth: 7.50 Hz (-6 dB cutoff frequency: 33.75 Hz)\n",
      "- Filter length: 89 samples (0.445 sec)\n",
      "\n"
     ]
    },
    {
     "name": "stderr",
     "output_type": "stream",
     "text": [
      "[Parallel(n_jobs=1)]: Using backend SequentialBackend with 1 concurrent workers.\n",
      "[Parallel(n_jobs=1)]: Done   1 out of   1 | elapsed:    0.0s remaining:    0.0s\n",
      "[Parallel(n_jobs=1)]: Done   2 out of   2 | elapsed:    0.0s remaining:    0.0s\n",
      "[Parallel(n_jobs=1)]: Done   3 out of   3 | elapsed:    0.0s remaining:    0.0s\n",
      "[Parallel(n_jobs=1)]: Done   4 out of   4 | elapsed:    0.0s remaining:    0.0s\n"
     ]
    },
    {
     "name": "stdout",
     "output_type": "stream",
     "text": [
      "Overwriting existing file.\n",
      "Overwriting existing file.\n",
      "Setting up low-pass filter at 30 Hz\n",
      "\n",
      "FIR filter parameters\n",
      "---------------------\n",
      "Designing a one-pass, zero-phase, non-causal lowpass filter:\n",
      "- Windowed time-domain design (firwin) method\n",
      "- Hamming window with 0.0194 passband ripple and 53 dB stopband attenuation\n",
      "- Upper passband edge: 30.00 Hz\n",
      "- Upper transition bandwidth: 7.50 Hz (-6 dB cutoff frequency: 33.75 Hz)\n",
      "- Filter length: 89 samples (0.445 sec)\n",
      "\n"
     ]
    },
    {
     "name": "stderr",
     "output_type": "stream",
     "text": [
      "[Parallel(n_jobs=1)]: Done 1536 out of 1536 | elapsed:    0.4s finished\n",
      "[Parallel(n_jobs=1)]: Using backend SequentialBackend with 1 concurrent workers.\n",
      "[Parallel(n_jobs=1)]: Done   1 out of   1 | elapsed:    0.0s remaining:    0.0s\n",
      "[Parallel(n_jobs=1)]: Done   2 out of   2 | elapsed:    0.0s remaining:    0.0s\n",
      "[Parallel(n_jobs=1)]: Done   3 out of   3 | elapsed:    0.0s remaining:    0.0s\n",
      "[Parallel(n_jobs=1)]: Done   4 out of   4 | elapsed:    0.0s remaining:    0.0s\n"
     ]
    },
    {
     "name": "stdout",
     "output_type": "stream",
     "text": [
      "Overwriting existing file.\n",
      "Reading F:\\Documents\\Science\\MirRevAdaptEEG\\data\\eeg\\p028\\lrp\\mra_p028_run0-epo.fif ...\n",
      "    Found the data of interest:\n",
      "        t =   -2000.00 ...    1995.00 ms\n",
      "        0 CTF compensation matrices available\n",
      "Not setting metadata\n"
     ]
    },
    {
     "name": "stderr",
     "output_type": "stream",
     "text": [
      "[Parallel(n_jobs=1)]: Done 1536 out of 1536 | elapsed:    0.5s finished\n"
     ]
    },
    {
     "name": "stdout",
     "output_type": "stream",
     "text": [
      "420 matching events found\n",
      "No baseline correction applied\n",
      "0 projection items activated\n",
      "Applying baseline correction (mode: mean)\n",
      "Reading F:\\Documents\\Science\\MirRevAdaptEEG\\data\\eeg\\p029\\lrp\\mra_p029_run0-epo.fif ...\n",
      "    Found the data of interest:\n",
      "        t =   -2000.00 ...    1995.00 ms\n",
      "        0 CTF compensation matrices available\n",
      "Not setting metadata\n",
      "420 matching events found\n",
      "No baseline correction applied\n",
      "0 projection items activated\n",
      "Applying baseline correction (mode: mean)\n",
      "Reading F:\\Documents\\Science\\MirRevAdaptEEG\\data\\eeg\\p030\\lrp\\mra_p030_run0-epo.fif ...\n",
      "    Found the data of interest:\n",
      "        t =   -2000.00 ...    1995.00 ms\n",
      "        0 CTF compensation matrices available\n",
      "Not setting metadata\n",
      "420 matching events found\n",
      "No baseline correction applied\n",
      "0 projection items activated\n",
      "Applying baseline correction (mode: mean)\n",
      "Reading F:\\Documents\\Science\\MirRevAdaptEEG\\data\\eeg\\p031\\lrp\\mra_p031_run0-epo.fif ...\n",
      "    Found the data of interest:\n",
      "        t =   -2000.00 ...    1995.00 ms\n",
      "        0 CTF compensation matrices available\n",
      "Not setting metadata\n",
      "420 matching events found\n",
      "No baseline correction applied\n",
      "0 projection items activated\n",
      "Applying baseline correction (mode: mean)\n",
      "Reading F:\\Documents\\Science\\MirRevAdaptEEG\\data\\eeg\\p000\\lrp\\mra_p000_run0-epo.fif ...\n",
      "    Found the data of interest:\n",
      "        t =   -2000.00 ...    1995.00 ms\n",
      "        0 CTF compensation matrices available\n",
      "Not setting metadata\n",
      "420 matching events found\n",
      "No baseline correction applied\n",
      "0 projection items activated\n",
      "Applying baseline correction (mode: mean)\n",
      "Reading F:\\Documents\\Science\\MirRevAdaptEEG\\data\\eeg\\p001\\lrp\\mra_p001_run0-epo.fif ...\n",
      "    Found the data of interest:\n",
      "        t =   -2000.00 ...    1995.00 ms\n",
      "        0 CTF compensation matrices available\n",
      "Not setting metadata\n",
      "420 matching events found\n",
      "No baseline correction applied\n",
      "0 projection items activated\n",
      "Applying baseline correction (mode: mean)\n",
      "Reading F:\\Documents\\Science\\MirRevAdaptEEG\\data\\eeg\\p002\\lrp\\mra_p002_run0-epo.fif ...\n",
      "    Found the data of interest:\n",
      "        t =   -2000.00 ...    1995.00 ms\n",
      "        0 CTF compensation matrices available\n",
      "Not setting metadata\n",
      "419 matching events found\n",
      "No baseline correction applied\n",
      "0 projection items activated\n",
      "Applying baseline correction (mode: mean)\n",
      "Reading F:\\Documents\\Science\\MirRevAdaptEEG\\data\\eeg\\p003\\lrp\\mra_p003_run0-epo.fif ...\n",
      "    Found the data of interest:\n",
      "        t =   -2000.00 ...    1995.00 ms\n",
      "        0 CTF compensation matrices available\n",
      "Not setting metadata\n",
      "418 matching events found\n",
      "No baseline correction applied\n",
      "0 projection items activated\n",
      "Applying baseline correction (mode: mean)\n",
      "Reading F:\\Documents\\Science\\MirRevAdaptEEG\\data\\eeg\\p004\\lrp\\mra_p004_run0-epo.fif ...\n",
      "    Found the data of interest:\n",
      "        t =   -2000.00 ...    1995.00 ms\n",
      "        0 CTF compensation matrices available\n",
      "Not setting metadata\n",
      "418 matching events found\n",
      "No baseline correction applied\n",
      "0 projection items activated\n",
      "Applying baseline correction (mode: mean)\n",
      "Overwriting existing file.\n",
      "Setting up low-pass filter at 30 Hz\n",
      "\n",
      "FIR filter parameters\n",
      "---------------------\n",
      "Designing a one-pass, zero-phase, non-causal lowpass filter:\n",
      "- Windowed time-domain design (firwin) method\n",
      "- Hamming window with 0.0194 passband ripple and 53 dB stopband attenuation\n",
      "- Upper passband edge: 30.00 Hz\n",
      "- Upper transition bandwidth: 7.50 Hz (-6 dB cutoff frequency: 33.75 Hz)\n",
      "- Filter length: 89 samples (0.445 sec)\n",
      "\n"
     ]
    },
    {
     "name": "stderr",
     "output_type": "stream",
     "text": [
      "[Parallel(n_jobs=1)]: Using backend SequentialBackend with 1 concurrent workers.\n",
      "[Parallel(n_jobs=1)]: Done   1 out of   1 | elapsed:    0.0s remaining:    0.0s\n",
      "[Parallel(n_jobs=1)]: Done   2 out of   2 | elapsed:    0.0s remaining:    0.0s\n",
      "[Parallel(n_jobs=1)]: Done   3 out of   3 | elapsed:    0.0s remaining:    0.0s\n",
      "[Parallel(n_jobs=1)]: Done   4 out of   4 | elapsed:    0.0s remaining:    0.0s\n"
     ]
    },
    {
     "name": "stdout",
     "output_type": "stream",
     "text": [
      "Overwriting existing file.\n",
      "Overwriting existing file.\n",
      "Setting up low-pass filter at 30 Hz\n",
      "\n",
      "FIR filter parameters\n",
      "---------------------\n",
      "Designing a one-pass, zero-phase, non-causal lowpass filter:\n",
      "- Windowed time-domain design (firwin) method\n",
      "- Hamming window with 0.0194 passband ripple and 53 dB stopband attenuation\n",
      "- Upper passband edge: 30.00 Hz\n",
      "- Upper transition bandwidth: 7.50 Hz (-6 dB cutoff frequency: 33.75 Hz)\n",
      "- Filter length: 89 samples (0.445 sec)\n",
      "\n"
     ]
    },
    {
     "name": "stderr",
     "output_type": "stream",
     "text": [
      "[Parallel(n_jobs=1)]: Done 1536 out of 1536 | elapsed:    0.4s finished\n",
      "[Parallel(n_jobs=1)]: Using backend SequentialBackend with 1 concurrent workers.\n",
      "[Parallel(n_jobs=1)]: Done   1 out of   1 | elapsed:    0.0s remaining:    0.0s\n",
      "[Parallel(n_jobs=1)]: Done   2 out of   2 | elapsed:    0.0s remaining:    0.0s\n",
      "[Parallel(n_jobs=1)]: Done   3 out of   3 | elapsed:    0.0s remaining:    0.0s\n",
      "[Parallel(n_jobs=1)]: Done   4 out of   4 | elapsed:    0.0s remaining:    0.0s\n"
     ]
    },
    {
     "name": "stdout",
     "output_type": "stream",
     "text": [
      "Overwriting existing file.\n",
      "Reading F:\\Documents\\Science\\MirRevAdaptEEG\\data\\eeg\\p005\\lrp\\mra_p005_run0-epo.fif ...\n",
      "    Found the data of interest:\n",
      "        t =   -2000.00 ...    1995.00 ms\n",
      "        0 CTF compensation matrices available\n",
      "Not setting metadata\n"
     ]
    },
    {
     "name": "stderr",
     "output_type": "stream",
     "text": [
      "[Parallel(n_jobs=1)]: Done 1536 out of 1536 | elapsed:    0.5s finished\n"
     ]
    },
    {
     "name": "stdout",
     "output_type": "stream",
     "text": [
      "419 matching events found\n",
      "No baseline correction applied\n",
      "0 projection items activated\n",
      "Applying baseline correction (mode: mean)\n",
      "Overwriting existing file.\n",
      "Setting up low-pass filter at 30 Hz\n",
      "\n",
      "FIR filter parameters\n",
      "---------------------\n",
      "Designing a one-pass, zero-phase, non-causal lowpass filter:\n",
      "- Windowed time-domain design (firwin) method\n",
      "- Hamming window with 0.0194 passband ripple and 53 dB stopband attenuation\n",
      "- Upper passband edge: 30.00 Hz\n",
      "- Upper transition bandwidth: 7.50 Hz (-6 dB cutoff frequency: 33.75 Hz)\n",
      "- Filter length: 89 samples (0.445 sec)\n",
      "\n"
     ]
    },
    {
     "name": "stderr",
     "output_type": "stream",
     "text": [
      "[Parallel(n_jobs=1)]: Using backend SequentialBackend with 1 concurrent workers.\n",
      "[Parallel(n_jobs=1)]: Done   1 out of   1 | elapsed:    0.0s remaining:    0.0s\n",
      "[Parallel(n_jobs=1)]: Done   2 out of   2 | elapsed:    0.0s remaining:    0.0s\n",
      "[Parallel(n_jobs=1)]: Done   3 out of   3 | elapsed:    0.0s remaining:    0.0s\n",
      "[Parallel(n_jobs=1)]: Done   4 out of   4 | elapsed:    0.0s remaining:    0.0s\n"
     ]
    },
    {
     "name": "stdout",
     "output_type": "stream",
     "text": [
      "Overwriting existing file.\n",
      "Overwriting existing file.\n",
      "Setting up low-pass filter at 30 Hz\n",
      "\n",
      "FIR filter parameters\n",
      "---------------------\n",
      "Designing a one-pass, zero-phase, non-causal lowpass filter:\n",
      "- Windowed time-domain design (firwin) method\n",
      "- Hamming window with 0.0194 passband ripple and 53 dB stopband attenuation\n",
      "- Upper passband edge: 30.00 Hz\n",
      "- Upper transition bandwidth: 7.50 Hz (-6 dB cutoff frequency: 33.75 Hz)\n",
      "- Filter length: 89 samples (0.445 sec)\n",
      "\n"
     ]
    },
    {
     "name": "stderr",
     "output_type": "stream",
     "text": [
      "[Parallel(n_jobs=1)]: Done 1536 out of 1536 | elapsed:    0.4s finished\n",
      "[Parallel(n_jobs=1)]: Using backend SequentialBackend with 1 concurrent workers.\n",
      "[Parallel(n_jobs=1)]: Done   1 out of   1 | elapsed:    0.0s remaining:    0.0s\n",
      "[Parallel(n_jobs=1)]: Done   2 out of   2 | elapsed:    0.0s remaining:    0.0s\n",
      "[Parallel(n_jobs=1)]: Done   3 out of   3 | elapsed:    0.0s remaining:    0.0s\n",
      "[Parallel(n_jobs=1)]: Done   4 out of   4 | elapsed:    0.0s remaining:    0.0s\n"
     ]
    },
    {
     "name": "stdout",
     "output_type": "stream",
     "text": [
      "Overwriting existing file.\n",
      "Reading F:\\Documents\\Science\\MirRevAdaptEEG\\data\\eeg\\p006\\lrp\\mra_p006_run0-epo.fif ...\n",
      "    Found the data of interest:\n",
      "        t =   -2000.00 ...    1995.00 ms\n",
      "        0 CTF compensation matrices available\n",
      "Not setting metadata\n"
     ]
    },
    {
     "name": "stderr",
     "output_type": "stream",
     "text": [
      "[Parallel(n_jobs=1)]: Done 1536 out of 1536 | elapsed:    0.4s finished\n"
     ]
    },
    {
     "name": "stdout",
     "output_type": "stream",
     "text": [
      "418 matching events found\n",
      "No baseline correction applied\n",
      "0 projection items activated\n",
      "Applying baseline correction (mode: mean)\n",
      "Overwriting existing file.\n",
      "Setting up low-pass filter at 30 Hz\n",
      "\n",
      "FIR filter parameters\n",
      "---------------------\n",
      "Designing a one-pass, zero-phase, non-causal lowpass filter:\n",
      "- Windowed time-domain design (firwin) method\n",
      "- Hamming window with 0.0194 passband ripple and 53 dB stopband attenuation\n",
      "- Upper passband edge: 30.00 Hz\n",
      "- Upper transition bandwidth: 7.50 Hz (-6 dB cutoff frequency: 33.75 Hz)\n",
      "- Filter length: 89 samples (0.445 sec)\n",
      "\n"
     ]
    },
    {
     "name": "stderr",
     "output_type": "stream",
     "text": [
      "[Parallel(n_jobs=1)]: Using backend SequentialBackend with 1 concurrent workers.\n",
      "[Parallel(n_jobs=1)]: Done   1 out of   1 | elapsed:    0.0s remaining:    0.0s\n",
      "[Parallel(n_jobs=1)]: Done   2 out of   2 | elapsed:    0.0s remaining:    0.0s\n",
      "[Parallel(n_jobs=1)]: Done   3 out of   3 | elapsed:    0.0s remaining:    0.0s\n",
      "[Parallel(n_jobs=1)]: Done   4 out of   4 | elapsed:    0.0s remaining:    0.0s\n"
     ]
    },
    {
     "name": "stdout",
     "output_type": "stream",
     "text": [
      "Overwriting existing file.\n",
      "Overwriting existing file.\n",
      "Setting up low-pass filter at 30 Hz\n",
      "\n",
      "FIR filter parameters\n",
      "---------------------\n",
      "Designing a one-pass, zero-phase, non-causal lowpass filter:\n",
      "- Windowed time-domain design (firwin) method\n",
      "- Hamming window with 0.0194 passband ripple and 53 dB stopband attenuation\n",
      "- Upper passband edge: 30.00 Hz\n",
      "- Upper transition bandwidth: 7.50 Hz (-6 dB cutoff frequency: 33.75 Hz)\n",
      "- Filter length: 89 samples (0.445 sec)\n",
      "\n"
     ]
    },
    {
     "name": "stderr",
     "output_type": "stream",
     "text": [
      "[Parallel(n_jobs=1)]: Done 1536 out of 1536 | elapsed:    0.4s finished\n",
      "[Parallel(n_jobs=1)]: Using backend SequentialBackend with 1 concurrent workers.\n",
      "[Parallel(n_jobs=1)]: Done   1 out of   1 | elapsed:    0.0s remaining:    0.0s\n",
      "[Parallel(n_jobs=1)]: Done   2 out of   2 | elapsed:    0.0s remaining:    0.0s\n",
      "[Parallel(n_jobs=1)]: Done   3 out of   3 | elapsed:    0.0s remaining:    0.0s\n",
      "[Parallel(n_jobs=1)]: Done   4 out of   4 | elapsed:    0.0s remaining:    0.0s\n"
     ]
    },
    {
     "name": "stdout",
     "output_type": "stream",
     "text": [
      "Overwriting existing file.\n",
      "Reading F:\\Documents\\Science\\MirRevAdaptEEG\\data\\eeg\\p007\\lrp\\mra_p007_run0-epo.fif ...\n",
      "    Found the data of interest:\n",
      "        t =   -2000.00 ...    1995.00 ms\n",
      "        0 CTF compensation matrices available\n"
     ]
    },
    {
     "name": "stderr",
     "output_type": "stream",
     "text": [
      "[Parallel(n_jobs=1)]: Done 1536 out of 1536 | elapsed:    0.5s finished\n"
     ]
    },
    {
     "name": "stdout",
     "output_type": "stream",
     "text": [
      "Not setting metadata\n",
      "420 matching events found\n",
      "No baseline correction applied\n",
      "0 projection items activated\n",
      "Applying baseline correction (mode: mean)\n",
      "Overwriting existing file.\n",
      "Setting up low-pass filter at 30 Hz\n",
      "\n",
      "FIR filter parameters\n",
      "---------------------\n",
      "Designing a one-pass, zero-phase, non-causal lowpass filter:\n",
      "- Windowed time-domain design (firwin) method\n",
      "- Hamming window with 0.0194 passband ripple and 53 dB stopband attenuation\n",
      "- Upper passband edge: 30.00 Hz\n",
      "- Upper transition bandwidth: 7.50 Hz (-6 dB cutoff frequency: 33.75 Hz)\n",
      "- Filter length: 89 samples (0.445 sec)\n",
      "\n"
     ]
    },
    {
     "name": "stderr",
     "output_type": "stream",
     "text": [
      "[Parallel(n_jobs=1)]: Using backend SequentialBackend with 1 concurrent workers.\n",
      "[Parallel(n_jobs=1)]: Done   1 out of   1 | elapsed:    0.0s remaining:    0.0s\n",
      "[Parallel(n_jobs=1)]: Done   2 out of   2 | elapsed:    0.0s remaining:    0.0s\n",
      "[Parallel(n_jobs=1)]: Done   3 out of   3 | elapsed:    0.0s remaining:    0.0s\n",
      "[Parallel(n_jobs=1)]: Done   4 out of   4 | elapsed:    0.0s remaining:    0.0s\n"
     ]
    },
    {
     "name": "stdout",
     "output_type": "stream",
     "text": [
      "Overwriting existing file.\n",
      "Overwriting existing file.\n",
      "Setting up low-pass filter at 30 Hz\n",
      "\n",
      "FIR filter parameters\n",
      "---------------------\n",
      "Designing a one-pass, zero-phase, non-causal lowpass filter:\n",
      "- Windowed time-domain design (firwin) method\n",
      "- Hamming window with 0.0194 passband ripple and 53 dB stopband attenuation\n",
      "- Upper passband edge: 30.00 Hz\n",
      "- Upper transition bandwidth: 7.50 Hz (-6 dB cutoff frequency: 33.75 Hz)\n",
      "- Filter length: 89 samples (0.445 sec)\n",
      "\n"
     ]
    },
    {
     "name": "stderr",
     "output_type": "stream",
     "text": [
      "[Parallel(n_jobs=1)]: Done 1536 out of 1536 | elapsed:    0.4s finished\n",
      "[Parallel(n_jobs=1)]: Using backend SequentialBackend with 1 concurrent workers.\n",
      "[Parallel(n_jobs=1)]: Done   1 out of   1 | elapsed:    0.0s remaining:    0.0s\n",
      "[Parallel(n_jobs=1)]: Done   2 out of   2 | elapsed:    0.0s remaining:    0.0s\n",
      "[Parallel(n_jobs=1)]: Done   3 out of   3 | elapsed:    0.0s remaining:    0.0s\n",
      "[Parallel(n_jobs=1)]: Done   4 out of   4 | elapsed:    0.0s remaining:    0.0s\n"
     ]
    },
    {
     "name": "stdout",
     "output_type": "stream",
     "text": [
      "Overwriting existing file.\n",
      "Reading F:\\Documents\\Science\\MirRevAdaptEEG\\data\\eeg\\p008\\lrp\\mra_p008_run0-epo.fif ...\n",
      "    Found the data of interest:\n",
      "        t =   -2000.00 ...    1995.00 ms\n",
      "        0 CTF compensation matrices available\n",
      "Not setting metadata\n"
     ]
    },
    {
     "name": "stderr",
     "output_type": "stream",
     "text": [
      "[Parallel(n_jobs=1)]: Done 1536 out of 1536 | elapsed:    0.4s finished\n"
     ]
    },
    {
     "name": "stdout",
     "output_type": "stream",
     "text": [
      "420 matching events found\n",
      "No baseline correction applied\n",
      "0 projection items activated\n",
      "Applying baseline correction (mode: mean)\n",
      "Reading F:\\Documents\\Science\\MirRevAdaptEEG\\data\\eeg\\p009\\lrp\\mra_p009_run0-epo.fif ...\n",
      "    Found the data of interest:\n",
      "        t =   -2000.00 ...    1995.00 ms\n",
      "        0 CTF compensation matrices available\n",
      "Not setting metadata\n",
      "419 matching events found\n",
      "No baseline correction applied\n",
      "0 projection items activated\n",
      "Applying baseline correction (mode: mean)\n",
      "Reading F:\\Documents\\Science\\MirRevAdaptEEG\\data\\eeg\\p010\\lrp\\mra_p010_run0-epo.fif ...\n",
      "    Found the data of interest:\n",
      "        t =   -2000.00 ...    1995.00 ms\n",
      "        0 CTF compensation matrices available\n",
      "Not setting metadata\n",
      "420 matching events found\n",
      "No baseline correction applied\n",
      "0 projection items activated\n",
      "Applying baseline correction (mode: mean)\n",
      "Reading F:\\Documents\\Science\\MirRevAdaptEEG\\data\\eeg\\p011\\lrp\\mra_p011_run0-epo.fif ...\n",
      "    Found the data of interest:\n",
      "        t =   -2000.00 ...    1995.00 ms\n",
      "        0 CTF compensation matrices available\n",
      "Not setting metadata\n",
      "419 matching events found\n",
      "No baseline correction applied\n",
      "0 projection items activated\n",
      "Applying baseline correction (mode: mean)\n",
      "Reading F:\\Documents\\Science\\MirRevAdaptEEG\\data\\eeg\\p012\\lrp\\mra_p012_run0-epo.fif ...\n",
      "    Found the data of interest:\n",
      "        t =   -2000.00 ...    1995.00 ms\n",
      "        0 CTF compensation matrices available\n",
      "Not setting metadata\n",
      "412 matching events found\n",
      "No baseline correction applied\n",
      "0 projection items activated\n",
      "Applying baseline correction (mode: mean)\n",
      "Overwriting existing file.\n",
      "Setting up low-pass filter at 30 Hz\n",
      "\n",
      "FIR filter parameters\n",
      "---------------------\n",
      "Designing a one-pass, zero-phase, non-causal lowpass filter:\n",
      "- Windowed time-domain design (firwin) method\n",
      "- Hamming window with 0.0194 passband ripple and 53 dB stopband attenuation\n",
      "- Upper passband edge: 30.00 Hz\n",
      "- Upper transition bandwidth: 7.50 Hz (-6 dB cutoff frequency: 33.75 Hz)\n",
      "- Filter length: 89 samples (0.445 sec)\n",
      "\n"
     ]
    },
    {
     "name": "stderr",
     "output_type": "stream",
     "text": [
      "[Parallel(n_jobs=1)]: Using backend SequentialBackend with 1 concurrent workers.\n",
      "[Parallel(n_jobs=1)]: Done   1 out of   1 | elapsed:    0.0s remaining:    0.0s\n",
      "[Parallel(n_jobs=1)]: Done   2 out of   2 | elapsed:    0.0s remaining:    0.0s\n",
      "[Parallel(n_jobs=1)]: Done   3 out of   3 | elapsed:    0.0s remaining:    0.0s\n",
      "[Parallel(n_jobs=1)]: Done   4 out of   4 | elapsed:    0.0s remaining:    0.0s\n"
     ]
    },
    {
     "name": "stdout",
     "output_type": "stream",
     "text": [
      "Overwriting existing file.\n",
      "Overwriting existing file.\n",
      "Setting up low-pass filter at 30 Hz\n",
      "\n",
      "FIR filter parameters\n",
      "---------------------\n",
      "Designing a one-pass, zero-phase, non-causal lowpass filter:\n",
      "- Windowed time-domain design (firwin) method\n",
      "- Hamming window with 0.0194 passband ripple and 53 dB stopband attenuation\n",
      "- Upper passband edge: 30.00 Hz\n",
      "- Upper transition bandwidth: 7.50 Hz (-6 dB cutoff frequency: 33.75 Hz)\n",
      "- Filter length: 89 samples (0.445 sec)\n",
      "\n"
     ]
    },
    {
     "name": "stderr",
     "output_type": "stream",
     "text": [
      "[Parallel(n_jobs=1)]: Done 1536 out of 1536 | elapsed:    0.4s finished\n",
      "[Parallel(n_jobs=1)]: Using backend SequentialBackend with 1 concurrent workers.\n",
      "[Parallel(n_jobs=1)]: Done   1 out of   1 | elapsed:    0.0s remaining:    0.0s\n",
      "[Parallel(n_jobs=1)]: Done   2 out of   2 | elapsed:    0.0s remaining:    0.0s\n",
      "[Parallel(n_jobs=1)]: Done   3 out of   3 | elapsed:    0.0s remaining:    0.0s\n",
      "[Parallel(n_jobs=1)]: Done   4 out of   4 | elapsed:    0.0s remaining:    0.0s\n"
     ]
    },
    {
     "name": "stdout",
     "output_type": "stream",
     "text": [
      "Overwriting existing file.\n",
      "Reading F:\\Documents\\Science\\MirRevAdaptEEG\\data\\eeg\\p013\\lrp\\mra_p013_run0-epo.fif ...\n",
      "    Found the data of interest:\n",
      "        t =   -2000.00 ...    1995.00 ms\n",
      "        0 CTF compensation matrices available\n"
     ]
    },
    {
     "name": "stderr",
     "output_type": "stream",
     "text": [
      "[Parallel(n_jobs=1)]: Done 1536 out of 1536 | elapsed:    0.5s finished\n"
     ]
    },
    {
     "name": "stdout",
     "output_type": "stream",
     "text": [
      "Not setting metadata\n",
      "416 matching events found\n",
      "No baseline correction applied\n",
      "0 projection items activated\n",
      "Applying baseline correction (mode: mean)\n",
      "Overwriting existing file.\n",
      "Setting up low-pass filter at 30 Hz\n",
      "\n",
      "FIR filter parameters\n",
      "---------------------\n",
      "Designing a one-pass, zero-phase, non-causal lowpass filter:\n",
      "- Windowed time-domain design (firwin) method\n",
      "- Hamming window with 0.0194 passband ripple and 53 dB stopband attenuation\n",
      "- Upper passband edge: 30.00 Hz\n",
      "- Upper transition bandwidth: 7.50 Hz (-6 dB cutoff frequency: 33.75 Hz)\n",
      "- Filter length: 89 samples (0.445 sec)\n",
      "\n"
     ]
    },
    {
     "name": "stderr",
     "output_type": "stream",
     "text": [
      "[Parallel(n_jobs=1)]: Using backend SequentialBackend with 1 concurrent workers.\n",
      "[Parallel(n_jobs=1)]: Done   1 out of   1 | elapsed:    0.0s remaining:    0.0s\n",
      "[Parallel(n_jobs=1)]: Done   2 out of   2 | elapsed:    0.0s remaining:    0.0s\n",
      "[Parallel(n_jobs=1)]: Done   3 out of   3 | elapsed:    0.0s remaining:    0.0s\n",
      "[Parallel(n_jobs=1)]: Done   4 out of   4 | elapsed:    0.0s remaining:    0.0s\n"
     ]
    },
    {
     "name": "stdout",
     "output_type": "stream",
     "text": [
      "Overwriting existing file.\n",
      "Overwriting existing file.\n",
      "Setting up low-pass filter at 30 Hz\n",
      "\n",
      "FIR filter parameters\n",
      "---------------------\n",
      "Designing a one-pass, zero-phase, non-causal lowpass filter:\n",
      "- Windowed time-domain design (firwin) method\n",
      "- Hamming window with 0.0194 passband ripple and 53 dB stopband attenuation\n",
      "- Upper passband edge: 30.00 Hz\n",
      "- Upper transition bandwidth: 7.50 Hz (-6 dB cutoff frequency: 33.75 Hz)\n",
      "- Filter length: 89 samples (0.445 sec)\n",
      "\n"
     ]
    },
    {
     "name": "stderr",
     "output_type": "stream",
     "text": [
      "[Parallel(n_jobs=1)]: Done 1536 out of 1536 | elapsed:    0.5s finished\n",
      "[Parallel(n_jobs=1)]: Using backend SequentialBackend with 1 concurrent workers.\n",
      "[Parallel(n_jobs=1)]: Done   1 out of   1 | elapsed:    0.0s remaining:    0.0s\n",
      "[Parallel(n_jobs=1)]: Done   2 out of   2 | elapsed:    0.0s remaining:    0.0s\n",
      "[Parallel(n_jobs=1)]: Done   3 out of   3 | elapsed:    0.0s remaining:    0.0s\n",
      "[Parallel(n_jobs=1)]: Done   4 out of   4 | elapsed:    0.0s remaining:    0.0s\n"
     ]
    },
    {
     "name": "stdout",
     "output_type": "stream",
     "text": [
      "Overwriting existing file.\n",
      "Reading F:\\Documents\\Science\\MirRevAdaptEEG\\data\\eeg\\p014\\lrp\\mra_p014_run0-epo.fif ...\n",
      "    Found the data of interest:\n",
      "        t =   -2000.00 ...    1995.00 ms\n",
      "        0 CTF compensation matrices available\n"
     ]
    },
    {
     "name": "stderr",
     "output_type": "stream",
     "text": [
      "[Parallel(n_jobs=1)]: Done 1536 out of 1536 | elapsed:    0.4s finished\n"
     ]
    },
    {
     "name": "stdout",
     "output_type": "stream",
     "text": [
      "Not setting metadata\n",
      "420 matching events found\n",
      "No baseline correction applied\n",
      "0 projection items activated\n",
      "Applying baseline correction (mode: mean)\n",
      "Overwriting existing file.\n",
      "Setting up low-pass filter at 30 Hz\n",
      "\n",
      "FIR filter parameters\n",
      "---------------------\n",
      "Designing a one-pass, zero-phase, non-causal lowpass filter:\n",
      "- Windowed time-domain design (firwin) method\n",
      "- Hamming window with 0.0194 passband ripple and 53 dB stopband attenuation\n",
      "- Upper passband edge: 30.00 Hz\n",
      "- Upper transition bandwidth: 7.50 Hz (-6 dB cutoff frequency: 33.75 Hz)\n",
      "- Filter length: 89 samples (0.445 sec)\n",
      "\n"
     ]
    },
    {
     "name": "stderr",
     "output_type": "stream",
     "text": [
      "[Parallel(n_jobs=1)]: Using backend SequentialBackend with 1 concurrent workers.\n",
      "[Parallel(n_jobs=1)]: Done   1 out of   1 | elapsed:    0.0s remaining:    0.0s\n",
      "[Parallel(n_jobs=1)]: Done   2 out of   2 | elapsed:    0.0s remaining:    0.0s\n",
      "[Parallel(n_jobs=1)]: Done   3 out of   3 | elapsed:    0.0s remaining:    0.0s\n",
      "[Parallel(n_jobs=1)]: Done   4 out of   4 | elapsed:    0.0s remaining:    0.0s\n"
     ]
    },
    {
     "name": "stdout",
     "output_type": "stream",
     "text": [
      "Overwriting existing file.\n",
      "Overwriting existing file.\n",
      "Setting up low-pass filter at 30 Hz\n",
      "\n",
      "FIR filter parameters\n",
      "---------------------\n",
      "Designing a one-pass, zero-phase, non-causal lowpass filter:\n",
      "- Windowed time-domain design (firwin) method\n",
      "- Hamming window with 0.0194 passband ripple and 53 dB stopband attenuation\n",
      "- Upper passband edge: 30.00 Hz\n",
      "- Upper transition bandwidth: 7.50 Hz (-6 dB cutoff frequency: 33.75 Hz)\n",
      "- Filter length: 89 samples (0.445 sec)\n",
      "\n"
     ]
    },
    {
     "name": "stderr",
     "output_type": "stream",
     "text": [
      "[Parallel(n_jobs=1)]: Done 1536 out of 1536 | elapsed:    0.4s finished\n",
      "[Parallel(n_jobs=1)]: Using backend SequentialBackend with 1 concurrent workers.\n",
      "[Parallel(n_jobs=1)]: Done   1 out of   1 | elapsed:    0.0s remaining:    0.0s\n",
      "[Parallel(n_jobs=1)]: Done   2 out of   2 | elapsed:    0.0s remaining:    0.0s\n",
      "[Parallel(n_jobs=1)]: Done   3 out of   3 | elapsed:    0.0s remaining:    0.0s\n",
      "[Parallel(n_jobs=1)]: Done   4 out of   4 | elapsed:    0.0s remaining:    0.0s\n"
     ]
    },
    {
     "name": "stdout",
     "output_type": "stream",
     "text": [
      "Overwriting existing file.\n",
      "Reading F:\\Documents\\Science\\MirRevAdaptEEG\\data\\eeg\\p015\\lrp\\mra_p015_run0-epo.fif ...\n",
      "    Found the data of interest:\n",
      "        t =   -2000.00 ...    1995.00 ms\n",
      "        0 CTF compensation matrices available\n"
     ]
    },
    {
     "name": "stderr",
     "output_type": "stream",
     "text": [
      "[Parallel(n_jobs=1)]: Done 1536 out of 1536 | elapsed:    0.4s finished\n"
     ]
    },
    {
     "name": "stdout",
     "output_type": "stream",
     "text": [
      "Not setting metadata\n",
      "420 matching events found\n",
      "No baseline correction applied\n",
      "0 projection items activated\n",
      "Applying baseline correction (mode: mean)\n",
      "Overwriting existing file.\n",
      "Setting up low-pass filter at 30 Hz\n",
      "\n",
      "FIR filter parameters\n",
      "---------------------\n",
      "Designing a one-pass, zero-phase, non-causal lowpass filter:\n",
      "- Windowed time-domain design (firwin) method\n",
      "- Hamming window with 0.0194 passband ripple and 53 dB stopband attenuation\n",
      "- Upper passband edge: 30.00 Hz\n",
      "- Upper transition bandwidth: 7.50 Hz (-6 dB cutoff frequency: 33.75 Hz)\n",
      "- Filter length: 89 samples (0.445 sec)\n",
      "\n"
     ]
    },
    {
     "name": "stderr",
     "output_type": "stream",
     "text": [
      "[Parallel(n_jobs=1)]: Using backend SequentialBackend with 1 concurrent workers.\n",
      "[Parallel(n_jobs=1)]: Done   1 out of   1 | elapsed:    0.0s remaining:    0.0s\n",
      "[Parallel(n_jobs=1)]: Done   2 out of   2 | elapsed:    0.0s remaining:    0.0s\n",
      "[Parallel(n_jobs=1)]: Done   3 out of   3 | elapsed:    0.0s remaining:    0.0s\n",
      "[Parallel(n_jobs=1)]: Done   4 out of   4 | elapsed:    0.0s remaining:    0.0s\n"
     ]
    },
    {
     "name": "stdout",
     "output_type": "stream",
     "text": [
      "Overwriting existing file.\n",
      "Overwriting existing file.\n",
      "Setting up low-pass filter at 30 Hz\n",
      "\n",
      "FIR filter parameters\n",
      "---------------------\n",
      "Designing a one-pass, zero-phase, non-causal lowpass filter:\n",
      "- Windowed time-domain design (firwin) method\n",
      "- Hamming window with 0.0194 passband ripple and 53 dB stopband attenuation\n",
      "- Upper passband edge: 30.00 Hz\n",
      "- Upper transition bandwidth: 7.50 Hz (-6 dB cutoff frequency: 33.75 Hz)\n",
      "- Filter length: 89 samples (0.445 sec)\n",
      "\n"
     ]
    },
    {
     "name": "stderr",
     "output_type": "stream",
     "text": [
      "[Parallel(n_jobs=1)]: Done 1536 out of 1536 | elapsed:    0.4s finished\n",
      "[Parallel(n_jobs=1)]: Using backend SequentialBackend with 1 concurrent workers.\n",
      "[Parallel(n_jobs=1)]: Done   1 out of   1 | elapsed:    0.0s remaining:    0.0s\n",
      "[Parallel(n_jobs=1)]: Done   2 out of   2 | elapsed:    0.0s remaining:    0.0s\n",
      "[Parallel(n_jobs=1)]: Done   3 out of   3 | elapsed:    0.0s remaining:    0.0s\n",
      "[Parallel(n_jobs=1)]: Done   4 out of   4 | elapsed:    0.0s remaining:    0.0s\n"
     ]
    },
    {
     "name": "stdout",
     "output_type": "stream",
     "text": [
      "Overwriting existing file.\n",
      "Reading F:\\Documents\\Science\\MirRevAdaptEEG\\data\\eeg\\p016\\lrp\\mra_p016_run0-epo.fif ...\n",
      "    Found the data of interest:\n",
      "        t =   -2000.00 ...    1995.00 ms\n",
      "        0 CTF compensation matrices available\n"
     ]
    },
    {
     "name": "stderr",
     "output_type": "stream",
     "text": [
      "[Parallel(n_jobs=1)]: Done 1536 out of 1536 | elapsed:    0.4s finished\n"
     ]
    },
    {
     "name": "stdout",
     "output_type": "stream",
     "text": [
      "Not setting metadata\n",
      "418 matching events found\n",
      "No baseline correction applied\n",
      "0 projection items activated\n",
      "Applying baseline correction (mode: mean)\n",
      "Reading F:\\Documents\\Science\\MirRevAdaptEEG\\data\\eeg\\p017\\lrp\\mra_p017_run0-epo.fif ...\n",
      "    Found the data of interest:\n",
      "        t =   -2000.00 ...    1995.00 ms\n",
      "        0 CTF compensation matrices available\n",
      "Not setting metadata\n",
      "418 matching events found\n",
      "No baseline correction applied\n",
      "0 projection items activated\n",
      "Applying baseline correction (mode: mean)\n",
      "Reading F:\\Documents\\Science\\MirRevAdaptEEG\\data\\eeg\\p018\\lrp\\mra_p018_run0-epo.fif ...\n",
      "    Found the data of interest:\n",
      "        t =   -2000.00 ...    1995.00 ms\n",
      "        0 CTF compensation matrices available\n",
      "Not setting metadata\n",
      "419 matching events found\n",
      "No baseline correction applied\n",
      "0 projection items activated\n",
      "Applying baseline correction (mode: mean)\n",
      "Reading F:\\Documents\\Science\\MirRevAdaptEEG\\data\\eeg\\p019\\lrp\\mra_p019_run0-epo.fif ...\n",
      "    Found the data of interest:\n",
      "        t =   -2000.00 ...    1995.00 ms\n",
      "        0 CTF compensation matrices available\n",
      "Not setting metadata\n",
      "419 matching events found\n",
      "No baseline correction applied\n",
      "0 projection items activated\n",
      "Applying baseline correction (mode: mean)\n",
      "Reading F:\\Documents\\Science\\MirRevAdaptEEG\\data\\eeg\\p020\\lrp\\mra_p020_run0-epo.fif ...\n",
      "    Found the data of interest:\n",
      "        t =   -2000.00 ...    1995.00 ms\n",
      "        0 CTF compensation matrices available\n",
      "Not setting metadata\n",
      "420 matching events found\n",
      "No baseline correction applied\n",
      "0 projection items activated\n",
      "Applying baseline correction (mode: mean)\n",
      "Overwriting existing file.\n",
      "Setting up low-pass filter at 30 Hz\n",
      "\n",
      "FIR filter parameters\n",
      "---------------------\n",
      "Designing a one-pass, zero-phase, non-causal lowpass filter:\n",
      "- Windowed time-domain design (firwin) method\n",
      "- Hamming window with 0.0194 passband ripple and 53 dB stopband attenuation\n",
      "- Upper passband edge: 30.00 Hz\n",
      "- Upper transition bandwidth: 7.50 Hz (-6 dB cutoff frequency: 33.75 Hz)\n",
      "- Filter length: 89 samples (0.445 sec)\n",
      "\n"
     ]
    },
    {
     "name": "stderr",
     "output_type": "stream",
     "text": [
      "[Parallel(n_jobs=1)]: Using backend SequentialBackend with 1 concurrent workers.\n",
      "[Parallel(n_jobs=1)]: Done   1 out of   1 | elapsed:    0.0s remaining:    0.0s\n",
      "[Parallel(n_jobs=1)]: Done   2 out of   2 | elapsed:    0.0s remaining:    0.0s\n",
      "[Parallel(n_jobs=1)]: Done   3 out of   3 | elapsed:    0.0s remaining:    0.0s\n",
      "[Parallel(n_jobs=1)]: Done   4 out of   4 | elapsed:    0.0s remaining:    0.0s\n"
     ]
    },
    {
     "name": "stdout",
     "output_type": "stream",
     "text": [
      "Overwriting existing file.\n",
      "Overwriting existing file.\n",
      "Setting up low-pass filter at 30 Hz\n",
      "\n",
      "FIR filter parameters\n",
      "---------------------\n",
      "Designing a one-pass, zero-phase, non-causal lowpass filter:\n",
      "- Windowed time-domain design (firwin) method\n",
      "- Hamming window with 0.0194 passband ripple and 53 dB stopband attenuation\n",
      "- Upper passband edge: 30.00 Hz\n",
      "- Upper transition bandwidth: 7.50 Hz (-6 dB cutoff frequency: 33.75 Hz)\n",
      "- Filter length: 89 samples (0.445 sec)\n",
      "\n"
     ]
    },
    {
     "name": "stderr",
     "output_type": "stream",
     "text": [
      "[Parallel(n_jobs=1)]: Done 1536 out of 1536 | elapsed:    0.4s finished\n",
      "[Parallel(n_jobs=1)]: Using backend SequentialBackend with 1 concurrent workers.\n",
      "[Parallel(n_jobs=1)]: Done   1 out of   1 | elapsed:    0.0s remaining:    0.0s\n",
      "[Parallel(n_jobs=1)]: Done   2 out of   2 | elapsed:    0.0s remaining:    0.0s\n",
      "[Parallel(n_jobs=1)]: Done   3 out of   3 | elapsed:    0.0s remaining:    0.0s\n",
      "[Parallel(n_jobs=1)]: Done   4 out of   4 | elapsed:    0.0s remaining:    0.0s\n"
     ]
    },
    {
     "name": "stdout",
     "output_type": "stream",
     "text": [
      "Overwriting existing file.\n",
      "Reading F:\\Documents\\Science\\MirRevAdaptEEG\\data\\eeg\\p021\\lrp\\mra_p021_run0-epo.fif ...\n",
      "    Found the data of interest:\n",
      "        t =   -2000.00 ...    1995.00 ms\n",
      "        0 CTF compensation matrices available\n",
      "Not setting metadata\n"
     ]
    },
    {
     "name": "stderr",
     "output_type": "stream",
     "text": [
      "[Parallel(n_jobs=1)]: Done 1536 out of 1536 | elapsed:    0.4s finished\n"
     ]
    },
    {
     "name": "stdout",
     "output_type": "stream",
     "text": [
      "419 matching events found\n",
      "No baseline correction applied\n",
      "0 projection items activated\n",
      "Applying baseline correction (mode: mean)\n",
      "Overwriting existing file.\n",
      "Setting up low-pass filter at 30 Hz\n",
      "\n",
      "FIR filter parameters\n",
      "---------------------\n",
      "Designing a one-pass, zero-phase, non-causal lowpass filter:\n",
      "- Windowed time-domain design (firwin) method\n",
      "- Hamming window with 0.0194 passband ripple and 53 dB stopband attenuation\n",
      "- Upper passband edge: 30.00 Hz\n",
      "- Upper transition bandwidth: 7.50 Hz (-6 dB cutoff frequency: 33.75 Hz)\n",
      "- Filter length: 89 samples (0.445 sec)\n",
      "\n"
     ]
    },
    {
     "name": "stderr",
     "output_type": "stream",
     "text": [
      "[Parallel(n_jobs=1)]: Using backend SequentialBackend with 1 concurrent workers.\n",
      "[Parallel(n_jobs=1)]: Done   1 out of   1 | elapsed:    0.0s remaining:    0.0s\n",
      "[Parallel(n_jobs=1)]: Done   2 out of   2 | elapsed:    0.0s remaining:    0.0s\n",
      "[Parallel(n_jobs=1)]: Done   3 out of   3 | elapsed:    0.0s remaining:    0.0s\n",
      "[Parallel(n_jobs=1)]: Done   4 out of   4 | elapsed:    0.0s remaining:    0.0s\n"
     ]
    },
    {
     "name": "stdout",
     "output_type": "stream",
     "text": [
      "Overwriting existing file.\n",
      "Overwriting existing file.\n",
      "Setting up low-pass filter at 30 Hz\n",
      "\n",
      "FIR filter parameters\n",
      "---------------------\n",
      "Designing a one-pass, zero-phase, non-causal lowpass filter:\n",
      "- Windowed time-domain design (firwin) method\n",
      "- Hamming window with 0.0194 passband ripple and 53 dB stopband attenuation\n",
      "- Upper passband edge: 30.00 Hz\n",
      "- Upper transition bandwidth: 7.50 Hz (-6 dB cutoff frequency: 33.75 Hz)\n",
      "- Filter length: 89 samples (0.445 sec)\n",
      "\n"
     ]
    },
    {
     "name": "stderr",
     "output_type": "stream",
     "text": [
      "[Parallel(n_jobs=1)]: Done 1536 out of 1536 | elapsed:    0.4s finished\n",
      "[Parallel(n_jobs=1)]: Using backend SequentialBackend with 1 concurrent workers.\n",
      "[Parallel(n_jobs=1)]: Done   1 out of   1 | elapsed:    0.0s remaining:    0.0s\n",
      "[Parallel(n_jobs=1)]: Done   2 out of   2 | elapsed:    0.0s remaining:    0.0s\n",
      "[Parallel(n_jobs=1)]: Done   3 out of   3 | elapsed:    0.0s remaining:    0.0s\n",
      "[Parallel(n_jobs=1)]: Done   4 out of   4 | elapsed:    0.0s remaining:    0.0s\n"
     ]
    },
    {
     "name": "stdout",
     "output_type": "stream",
     "text": [
      "Overwriting existing file.\n",
      "Reading F:\\Documents\\Science\\MirRevAdaptEEG\\data\\eeg\\p022\\lrp\\mra_p022_run0-epo.fif ...\n",
      "    Found the data of interest:\n",
      "        t =   -2000.00 ...    1995.00 ms\n",
      "        0 CTF compensation matrices available\n"
     ]
    },
    {
     "name": "stderr",
     "output_type": "stream",
     "text": [
      "[Parallel(n_jobs=1)]: Done 1536 out of 1536 | elapsed:    0.4s finished\n"
     ]
    },
    {
     "name": "stdout",
     "output_type": "stream",
     "text": [
      "Not setting metadata\n",
      "420 matching events found\n",
      "No baseline correction applied\n",
      "0 projection items activated\n",
      "Applying baseline correction (mode: mean)\n",
      "Overwriting existing file.\n",
      "Setting up low-pass filter at 30 Hz\n",
      "\n",
      "FIR filter parameters\n",
      "---------------------\n",
      "Designing a one-pass, zero-phase, non-causal lowpass filter:\n",
      "- Windowed time-domain design (firwin) method\n",
      "- Hamming window with 0.0194 passband ripple and 53 dB stopband attenuation\n",
      "- Upper passband edge: 30.00 Hz\n",
      "- Upper transition bandwidth: 7.50 Hz (-6 dB cutoff frequency: 33.75 Hz)\n",
      "- Filter length: 89 samples (0.445 sec)\n",
      "\n"
     ]
    },
    {
     "name": "stderr",
     "output_type": "stream",
     "text": [
      "[Parallel(n_jobs=1)]: Using backend SequentialBackend with 1 concurrent workers.\n",
      "[Parallel(n_jobs=1)]: Done   1 out of   1 | elapsed:    0.0s remaining:    0.0s\n",
      "[Parallel(n_jobs=1)]: Done   2 out of   2 | elapsed:    0.0s remaining:    0.0s\n",
      "[Parallel(n_jobs=1)]: Done   3 out of   3 | elapsed:    0.0s remaining:    0.0s\n",
      "[Parallel(n_jobs=1)]: Done   4 out of   4 | elapsed:    0.0s remaining:    0.0s\n"
     ]
    },
    {
     "name": "stdout",
     "output_type": "stream",
     "text": [
      "Overwriting existing file.\n",
      "Overwriting existing file.\n",
      "Setting up low-pass filter at 30 Hz\n",
      "\n",
      "FIR filter parameters\n",
      "---------------------\n",
      "Designing a one-pass, zero-phase, non-causal lowpass filter:\n",
      "- Windowed time-domain design (firwin) method\n",
      "- Hamming window with 0.0194 passband ripple and 53 dB stopband attenuation\n",
      "- Upper passband edge: 30.00 Hz\n",
      "- Upper transition bandwidth: 7.50 Hz (-6 dB cutoff frequency: 33.75 Hz)\n",
      "- Filter length: 89 samples (0.445 sec)\n",
      "\n"
     ]
    },
    {
     "name": "stderr",
     "output_type": "stream",
     "text": [
      "[Parallel(n_jobs=1)]: Done 1536 out of 1536 | elapsed:    0.4s finished\n",
      "[Parallel(n_jobs=1)]: Using backend SequentialBackend with 1 concurrent workers.\n",
      "[Parallel(n_jobs=1)]: Done   1 out of   1 | elapsed:    0.0s remaining:    0.0s\n",
      "[Parallel(n_jobs=1)]: Done   2 out of   2 | elapsed:    0.0s remaining:    0.0s\n",
      "[Parallel(n_jobs=1)]: Done   3 out of   3 | elapsed:    0.0s remaining:    0.0s\n",
      "[Parallel(n_jobs=1)]: Done   4 out of   4 | elapsed:    0.0s remaining:    0.0s\n"
     ]
    },
    {
     "name": "stdout",
     "output_type": "stream",
     "text": [
      "Overwriting existing file.\n",
      "Reading F:\\Documents\\Science\\MirRevAdaptEEG\\data\\eeg\\p023\\lrp\\mra_p023_run0-epo.fif ...\n",
      "    Found the data of interest:\n",
      "        t =   -2000.00 ...    1995.00 ms\n",
      "        0 CTF compensation matrices available\n"
     ]
    },
    {
     "name": "stderr",
     "output_type": "stream",
     "text": [
      "[Parallel(n_jobs=1)]: Done 1536 out of 1536 | elapsed:    0.4s finished\n"
     ]
    },
    {
     "name": "stdout",
     "output_type": "stream",
     "text": [
      "Not setting metadata\n",
      "420 matching events found\n",
      "No baseline correction applied\n",
      "0 projection items activated\n",
      "Applying baseline correction (mode: mean)\n",
      "Overwriting existing file.\n",
      "Setting up low-pass filter at 30 Hz\n",
      "\n",
      "FIR filter parameters\n",
      "---------------------\n",
      "Designing a one-pass, zero-phase, non-causal lowpass filter:\n",
      "- Windowed time-domain design (firwin) method\n",
      "- Hamming window with 0.0194 passband ripple and 53 dB stopband attenuation\n",
      "- Upper passband edge: 30.00 Hz\n",
      "- Upper transition bandwidth: 7.50 Hz (-6 dB cutoff frequency: 33.75 Hz)\n",
      "- Filter length: 89 samples (0.445 sec)\n",
      "\n"
     ]
    },
    {
     "name": "stderr",
     "output_type": "stream",
     "text": [
      "[Parallel(n_jobs=1)]: Using backend SequentialBackend with 1 concurrent workers.\n",
      "[Parallel(n_jobs=1)]: Done   1 out of   1 | elapsed:    0.0s remaining:    0.0s\n",
      "[Parallel(n_jobs=1)]: Done   2 out of   2 | elapsed:    0.0s remaining:    0.0s\n",
      "[Parallel(n_jobs=1)]: Done   3 out of   3 | elapsed:    0.0s remaining:    0.0s\n",
      "[Parallel(n_jobs=1)]: Done   4 out of   4 | elapsed:    0.0s remaining:    0.0s\n"
     ]
    },
    {
     "name": "stdout",
     "output_type": "stream",
     "text": [
      "Overwriting existing file.\n",
      "Overwriting existing file.\n",
      "Setting up low-pass filter at 30 Hz\n",
      "\n",
      "FIR filter parameters\n",
      "---------------------\n",
      "Designing a one-pass, zero-phase, non-causal lowpass filter:\n",
      "- Windowed time-domain design (firwin) method\n",
      "- Hamming window with 0.0194 passband ripple and 53 dB stopband attenuation\n",
      "- Upper passband edge: 30.00 Hz\n",
      "- Upper transition bandwidth: 7.50 Hz (-6 dB cutoff frequency: 33.75 Hz)\n",
      "- Filter length: 89 samples (0.445 sec)\n",
      "\n"
     ]
    },
    {
     "name": "stderr",
     "output_type": "stream",
     "text": [
      "[Parallel(n_jobs=1)]: Done 1536 out of 1536 | elapsed:    0.4s finished\n",
      "[Parallel(n_jobs=1)]: Using backend SequentialBackend with 1 concurrent workers.\n",
      "[Parallel(n_jobs=1)]: Done   1 out of   1 | elapsed:    0.0s remaining:    0.0s\n",
      "[Parallel(n_jobs=1)]: Done   2 out of   2 | elapsed:    0.0s remaining:    0.0s\n",
      "[Parallel(n_jobs=1)]: Done   3 out of   3 | elapsed:    0.0s remaining:    0.0s\n",
      "[Parallel(n_jobs=1)]: Done   4 out of   4 | elapsed:    0.0s remaining:    0.0s\n"
     ]
    },
    {
     "name": "stdout",
     "output_type": "stream",
     "text": [
      "Overwriting existing file.\n",
      "Reading F:\\Documents\\Science\\MirRevAdaptEEG\\data\\eeg\\p024\\lrp\\mra_p024_run0-epo.fif ...\n",
      "    Found the data of interest:\n",
      "        t =   -2000.00 ...    1995.00 ms\n",
      "        0 CTF compensation matrices available\n"
     ]
    },
    {
     "name": "stderr",
     "output_type": "stream",
     "text": [
      "[Parallel(n_jobs=1)]: Done 1536 out of 1536 | elapsed:    0.4s finished\n"
     ]
    },
    {
     "name": "stdout",
     "output_type": "stream",
     "text": [
      "Not setting metadata\n",
      "420 matching events found\n",
      "No baseline correction applied\n",
      "0 projection items activated\n",
      "Applying baseline correction (mode: mean)\n",
      "Reading F:\\Documents\\Science\\MirRevAdaptEEG\\data\\eeg\\p025\\lrp\\mra_p025_run0-epo.fif ...\n",
      "    Found the data of interest:\n",
      "        t =   -2000.00 ...    1995.00 ms\n",
      "        0 CTF compensation matrices available\n",
      "Not setting metadata\n",
      "420 matching events found\n",
      "No baseline correction applied\n",
      "0 projection items activated\n",
      "Applying baseline correction (mode: mean)\n",
      "Reading F:\\Documents\\Science\\MirRevAdaptEEG\\data\\eeg\\p026\\lrp\\mra_p026_run0-epo.fif ...\n",
      "    Found the data of interest:\n",
      "        t =   -2000.00 ...    1995.00 ms\n",
      "        0 CTF compensation matrices available\n",
      "Not setting metadata\n",
      "420 matching events found\n",
      "No baseline correction applied\n",
      "0 projection items activated\n",
      "Applying baseline correction (mode: mean)\n",
      "Reading F:\\Documents\\Science\\MirRevAdaptEEG\\data\\eeg\\p027\\lrp\\mra_p027_run0-epo.fif ...\n",
      "    Found the data of interest:\n",
      "        t =   -2000.00 ...    1995.00 ms\n",
      "        0 CTF compensation matrices available\n",
      "Not setting metadata\n",
      "419 matching events found\n",
      "No baseline correction applied\n",
      "0 projection items activated\n",
      "Applying baseline correction (mode: mean)\n",
      "Reading F:\\Documents\\Science\\MirRevAdaptEEG\\data\\eeg\\p028\\lrp\\mra_p028_run0-epo.fif ...\n",
      "    Found the data of interest:\n",
      "        t =   -2000.00 ...    1995.00 ms\n",
      "        0 CTF compensation matrices available\n",
      "Not setting metadata\n",
      "420 matching events found\n",
      "No baseline correction applied\n",
      "0 projection items activated\n",
      "Applying baseline correction (mode: mean)\n",
      "Overwriting existing file.\n",
      "Setting up low-pass filter at 30 Hz\n",
      "\n",
      "FIR filter parameters\n",
      "---------------------\n",
      "Designing a one-pass, zero-phase, non-causal lowpass filter:\n",
      "- Windowed time-domain design (firwin) method\n",
      "- Hamming window with 0.0194 passband ripple and 53 dB stopband attenuation\n",
      "- Upper passband edge: 30.00 Hz\n",
      "- Upper transition bandwidth: 7.50 Hz (-6 dB cutoff frequency: 33.75 Hz)\n",
      "- Filter length: 89 samples (0.445 sec)\n",
      "\n"
     ]
    },
    {
     "name": "stderr",
     "output_type": "stream",
     "text": [
      "[Parallel(n_jobs=1)]: Using backend SequentialBackend with 1 concurrent workers.\n",
      "[Parallel(n_jobs=1)]: Done   1 out of   1 | elapsed:    0.0s remaining:    0.0s\n",
      "[Parallel(n_jobs=1)]: Done   2 out of   2 | elapsed:    0.0s remaining:    0.0s\n",
      "[Parallel(n_jobs=1)]: Done   3 out of   3 | elapsed:    0.0s remaining:    0.0s\n",
      "[Parallel(n_jobs=1)]: Done   4 out of   4 | elapsed:    0.0s remaining:    0.0s\n"
     ]
    },
    {
     "name": "stdout",
     "output_type": "stream",
     "text": [
      "Overwriting existing file.\n",
      "Overwriting existing file.\n",
      "Setting up low-pass filter at 30 Hz\n",
      "\n",
      "FIR filter parameters\n",
      "---------------------\n",
      "Designing a one-pass, zero-phase, non-causal lowpass filter:\n",
      "- Windowed time-domain design (firwin) method\n",
      "- Hamming window with 0.0194 passband ripple and 53 dB stopband attenuation\n",
      "- Upper passband edge: 30.00 Hz\n",
      "- Upper transition bandwidth: 7.50 Hz (-6 dB cutoff frequency: 33.75 Hz)\n",
      "- Filter length: 89 samples (0.445 sec)\n",
      "\n"
     ]
    },
    {
     "name": "stderr",
     "output_type": "stream",
     "text": [
      "[Parallel(n_jobs=1)]: Done 1536 out of 1536 | elapsed:    0.4s finished\n",
      "[Parallel(n_jobs=1)]: Using backend SequentialBackend with 1 concurrent workers.\n",
      "[Parallel(n_jobs=1)]: Done   1 out of   1 | elapsed:    0.0s remaining:    0.0s\n",
      "[Parallel(n_jobs=1)]: Done   2 out of   2 | elapsed:    0.0s remaining:    0.0s\n",
      "[Parallel(n_jobs=1)]: Done   3 out of   3 | elapsed:    0.0s remaining:    0.0s\n",
      "[Parallel(n_jobs=1)]: Done   4 out of   4 | elapsed:    0.0s remaining:    0.0s\n"
     ]
    },
    {
     "name": "stdout",
     "output_type": "stream",
     "text": [
      "Overwriting existing file.\n",
      "Reading F:\\Documents\\Science\\MirRevAdaptEEG\\data\\eeg\\p029\\lrp\\mra_p029_run0-epo.fif ...\n",
      "    Found the data of interest:\n",
      "        t =   -2000.00 ...    1995.00 ms\n",
      "        0 CTF compensation matrices available\n"
     ]
    },
    {
     "name": "stderr",
     "output_type": "stream",
     "text": [
      "[Parallel(n_jobs=1)]: Done 1536 out of 1536 | elapsed:    0.4s finished\n"
     ]
    },
    {
     "name": "stdout",
     "output_type": "stream",
     "text": [
      "Not setting metadata\n",
      "420 matching events found\n",
      "No baseline correction applied\n",
      "0 projection items activated\n",
      "Applying baseline correction (mode: mean)\n",
      "Overwriting existing file.\n",
      "Setting up low-pass filter at 30 Hz\n",
      "\n",
      "FIR filter parameters\n",
      "---------------------\n",
      "Designing a one-pass, zero-phase, non-causal lowpass filter:\n",
      "- Windowed time-domain design (firwin) method\n",
      "- Hamming window with 0.0194 passband ripple and 53 dB stopband attenuation\n",
      "- Upper passband edge: 30.00 Hz\n",
      "- Upper transition bandwidth: 7.50 Hz (-6 dB cutoff frequency: 33.75 Hz)\n",
      "- Filter length: 89 samples (0.445 sec)\n",
      "\n"
     ]
    },
    {
     "name": "stderr",
     "output_type": "stream",
     "text": [
      "[Parallel(n_jobs=1)]: Using backend SequentialBackend with 1 concurrent workers.\n",
      "[Parallel(n_jobs=1)]: Done   1 out of   1 | elapsed:    0.0s remaining:    0.0s\n",
      "[Parallel(n_jobs=1)]: Done   2 out of   2 | elapsed:    0.0s remaining:    0.0s\n",
      "[Parallel(n_jobs=1)]: Done   3 out of   3 | elapsed:    0.0s remaining:    0.0s\n",
      "[Parallel(n_jobs=1)]: Done   4 out of   4 | elapsed:    0.0s remaining:    0.0s\n"
     ]
    },
    {
     "name": "stdout",
     "output_type": "stream",
     "text": [
      "Overwriting existing file.\n",
      "Overwriting existing file.\n",
      "Setting up low-pass filter at 30 Hz\n",
      "\n",
      "FIR filter parameters\n",
      "---------------------\n",
      "Designing a one-pass, zero-phase, non-causal lowpass filter:\n",
      "- Windowed time-domain design (firwin) method\n",
      "- Hamming window with 0.0194 passband ripple and 53 dB stopband attenuation\n",
      "- Upper passband edge: 30.00 Hz\n",
      "- Upper transition bandwidth: 7.50 Hz (-6 dB cutoff frequency: 33.75 Hz)\n",
      "- Filter length: 89 samples (0.445 sec)\n",
      "\n"
     ]
    },
    {
     "name": "stderr",
     "output_type": "stream",
     "text": [
      "[Parallel(n_jobs=1)]: Done 1536 out of 1536 | elapsed:    0.4s finished\n",
      "[Parallel(n_jobs=1)]: Using backend SequentialBackend with 1 concurrent workers.\n",
      "[Parallel(n_jobs=1)]: Done   1 out of   1 | elapsed:    0.0s remaining:    0.0s\n",
      "[Parallel(n_jobs=1)]: Done   2 out of   2 | elapsed:    0.0s remaining:    0.0s\n",
      "[Parallel(n_jobs=1)]: Done   3 out of   3 | elapsed:    0.0s remaining:    0.0s\n",
      "[Parallel(n_jobs=1)]: Done   4 out of   4 | elapsed:    0.0s remaining:    0.0s\n"
     ]
    },
    {
     "name": "stdout",
     "output_type": "stream",
     "text": [
      "Overwriting existing file.\n",
      "Reading F:\\Documents\\Science\\MirRevAdaptEEG\\data\\eeg\\p030\\lrp\\mra_p030_run0-epo.fif ...\n",
      "    Found the data of interest:\n",
      "        t =   -2000.00 ...    1995.00 ms\n",
      "        0 CTF compensation matrices available\n"
     ]
    },
    {
     "name": "stderr",
     "output_type": "stream",
     "text": [
      "[Parallel(n_jobs=1)]: Done 1536 out of 1536 | elapsed:    0.5s finished\n"
     ]
    },
    {
     "name": "stdout",
     "output_type": "stream",
     "text": [
      "Not setting metadata\n",
      "420 matching events found\n",
      "No baseline correction applied\n",
      "0 projection items activated\n",
      "Applying baseline correction (mode: mean)\n",
      "Overwriting existing file.\n",
      "Setting up low-pass filter at 30 Hz\n",
      "\n",
      "FIR filter parameters\n",
      "---------------------\n",
      "Designing a one-pass, zero-phase, non-causal lowpass filter:\n",
      "- Windowed time-domain design (firwin) method\n",
      "- Hamming window with 0.0194 passband ripple and 53 dB stopband attenuation\n",
      "- Upper passband edge: 30.00 Hz\n",
      "- Upper transition bandwidth: 7.50 Hz (-6 dB cutoff frequency: 33.75 Hz)\n",
      "- Filter length: 89 samples (0.445 sec)\n",
      "\n"
     ]
    },
    {
     "name": "stderr",
     "output_type": "stream",
     "text": [
      "[Parallel(n_jobs=1)]: Using backend SequentialBackend with 1 concurrent workers.\n",
      "[Parallel(n_jobs=1)]: Done   1 out of   1 | elapsed:    0.0s remaining:    0.0s\n",
      "[Parallel(n_jobs=1)]: Done   2 out of   2 | elapsed:    0.0s remaining:    0.0s\n",
      "[Parallel(n_jobs=1)]: Done   3 out of   3 | elapsed:    0.0s remaining:    0.0s\n",
      "[Parallel(n_jobs=1)]: Done   4 out of   4 | elapsed:    0.0s remaining:    0.0s\n"
     ]
    },
    {
     "name": "stdout",
     "output_type": "stream",
     "text": [
      "Overwriting existing file.\n",
      "Overwriting existing file.\n",
      "Setting up low-pass filter at 30 Hz\n",
      "\n",
      "FIR filter parameters\n",
      "---------------------\n",
      "Designing a one-pass, zero-phase, non-causal lowpass filter:\n",
      "- Windowed time-domain design (firwin) method\n",
      "- Hamming window with 0.0194 passband ripple and 53 dB stopband attenuation\n",
      "- Upper passband edge: 30.00 Hz\n",
      "- Upper transition bandwidth: 7.50 Hz (-6 dB cutoff frequency: 33.75 Hz)\n",
      "- Filter length: 89 samples (0.445 sec)\n",
      "\n"
     ]
    },
    {
     "name": "stderr",
     "output_type": "stream",
     "text": [
      "[Parallel(n_jobs=1)]: Done 1536 out of 1536 | elapsed:    0.5s finished\n",
      "[Parallel(n_jobs=1)]: Using backend SequentialBackend with 1 concurrent workers.\n",
      "[Parallel(n_jobs=1)]: Done   1 out of   1 | elapsed:    0.0s remaining:    0.0s\n",
      "[Parallel(n_jobs=1)]: Done   2 out of   2 | elapsed:    0.0s remaining:    0.0s\n",
      "[Parallel(n_jobs=1)]: Done   3 out of   3 | elapsed:    0.0s remaining:    0.0s\n",
      "[Parallel(n_jobs=1)]: Done   4 out of   4 | elapsed:    0.0s remaining:    0.0s\n"
     ]
    },
    {
     "name": "stdout",
     "output_type": "stream",
     "text": [
      "Overwriting existing file.\n",
      "Reading F:\\Documents\\Science\\MirRevAdaptEEG\\data\\eeg\\p031\\lrp\\mra_p031_run0-epo.fif ...\n",
      "    Found the data of interest:\n",
      "        t =   -2000.00 ...    1995.00 ms\n",
      "        0 CTF compensation matrices available\n"
     ]
    },
    {
     "name": "stderr",
     "output_type": "stream",
     "text": [
      "[Parallel(n_jobs=1)]: Done 1536 out of 1536 | elapsed:    0.5s finished\n"
     ]
    },
    {
     "name": "stdout",
     "output_type": "stream",
     "text": [
      "Not setting metadata\n",
      "420 matching events found\n",
      "No baseline correction applied\n",
      "0 projection items activated\n",
      "Applying baseline correction (mode: mean)\n",
      "Overwriting existing file.\n",
      "Setting up low-pass filter at 30 Hz\n",
      "\n",
      "FIR filter parameters\n",
      "---------------------\n",
      "Designing a one-pass, zero-phase, non-causal lowpass filter:\n",
      "- Windowed time-domain design (firwin) method\n",
      "- Hamming window with 0.0194 passband ripple and 53 dB stopband attenuation\n",
      "- Upper passband edge: 30.00 Hz\n",
      "- Upper transition bandwidth: 7.50 Hz (-6 dB cutoff frequency: 33.75 Hz)\n",
      "- Filter length: 89 samples (0.445 sec)\n",
      "\n"
     ]
    },
    {
     "name": "stderr",
     "output_type": "stream",
     "text": [
      "[Parallel(n_jobs=1)]: Using backend SequentialBackend with 1 concurrent workers.\n",
      "[Parallel(n_jobs=1)]: Done   1 out of   1 | elapsed:    0.0s remaining:    0.0s\n",
      "[Parallel(n_jobs=1)]: Done   2 out of   2 | elapsed:    0.0s remaining:    0.0s\n",
      "[Parallel(n_jobs=1)]: Done   3 out of   3 | elapsed:    0.0s remaining:    0.0s\n",
      "[Parallel(n_jobs=1)]: Done   4 out of   4 | elapsed:    0.0s remaining:    0.0s\n"
     ]
    },
    {
     "name": "stdout",
     "output_type": "stream",
     "text": [
      "Overwriting existing file.\n",
      "Overwriting existing file.\n",
      "Setting up low-pass filter at 30 Hz\n",
      "\n",
      "FIR filter parameters\n",
      "---------------------\n",
      "Designing a one-pass, zero-phase, non-causal lowpass filter:\n",
      "- Windowed time-domain design (firwin) method\n",
      "- Hamming window with 0.0194 passband ripple and 53 dB stopband attenuation\n",
      "- Upper passband edge: 30.00 Hz\n",
      "- Upper transition bandwidth: 7.50 Hz (-6 dB cutoff frequency: 33.75 Hz)\n",
      "- Filter length: 89 samples (0.445 sec)\n",
      "\n"
     ]
    },
    {
     "name": "stderr",
     "output_type": "stream",
     "text": [
      "[Parallel(n_jobs=1)]: Done 1536 out of 1536 | elapsed:    0.6s finished\n",
      "[Parallel(n_jobs=1)]: Using backend SequentialBackend with 1 concurrent workers.\n",
      "[Parallel(n_jobs=1)]: Done   1 out of   1 | elapsed:    0.0s remaining:    0.0s\n",
      "[Parallel(n_jobs=1)]: Done   2 out of   2 | elapsed:    0.0s remaining:    0.0s\n",
      "[Parallel(n_jobs=1)]: Done   3 out of   3 | elapsed:    0.0s remaining:    0.0s\n",
      "[Parallel(n_jobs=1)]: Done   4 out of   4 | elapsed:    0.0s remaining:    0.0s\n"
     ]
    },
    {
     "name": "stdout",
     "output_type": "stream",
     "text": [
      "Overwriting existing file.\n"
     ]
    },
    {
     "name": "stderr",
     "output_type": "stream",
     "text": [
      "[Parallel(n_jobs=1)]: Done 1536 out of 1536 | elapsed:    0.5s finished\n"
     ]
    }
   ],
   "source": [
    "#save as evoked objects\n",
    "conditions = ['r', 'l']\n",
    "conditionnames = ['rightmoves', 'leftmoves']\n",
    "l_cutoff = 30\n",
    "\n",
    "#no cutoffs needed, we want all trials regardless of error size, just whether they reached right or left\n",
    "tasks = ['aln', 'rot', 'mir']\n",
    "\n",
    "\n",
    "for task in range(0, len(tasks)):\n",
    "    for pp in participants:\n",
    "        data, ppdir = load_epochs(pp, root_dir = root, erp_path = erps)\n",
    "        for cond in range(0, len(conditions)):\n",
    "            diridx, dirtrials = direction_index(tasks[task], conditions[cond], pp)\n",
    "            if len(diridx) == 0:\n",
    "                break\n",
    "            aldata = epoch_trials(tasks[task], pp, data, diridx)\n",
    "            output_condition_epochs(pp, aldata, ppdir, conditionnames[cond], tasks[task])\n",
    "            #filter at 30 Hz\n",
    "            aldata = aldata.filter(l_freq= None, h_freq=l_cutoff)\n",
    "            #then average across trials\n",
    "            output_condition_evoked(pp, aldata, ppdir, conditionnames[cond], tasks[task])\n",
    "\n",
    "#do slightly different for rdmrot and rdmmir\n",
    "#only half do mirror or rotation on the horizontal axis\n",
    "tasks = ['rdmrot', 'rdmmir']\n",
    "\n",
    "for task in range(0, len(tasks)):\n",
    "    for pp in participants:\n",
    "        data, ppdir = load_epochs(pp, root_dir = root, erp_path = erps)\n",
    "        for cond in range(0, len(conditions)):\n",
    "            diridx, dirtrials = direction_index(tasks[task], conditions[cond], pp)\n",
    "            if len(diridx) == 0:\n",
    "                break\n",
    "            triallist = trial_list_rdm(tasks[task], pp, diridx)\n",
    "            aldata = data[triallist]\n",
    "            output_condition_epochs(pp, aldata, ppdir, conditionnames[cond], 'rdm')\n",
    "            #filter at 30 Hz\n",
    "            aldata = aldata.filter(l_freq= None, h_freq=l_cutoff)\n",
    "            #then average across trials\n",
    "            output_condition_evoked(pp, aldata, ppdir, conditionnames[cond], 'rdm')"
   ]
  },
  {
   "cell_type": "code",
   "execution_count": 9,
   "id": "5af5532c",
   "metadata": {},
   "outputs": [
    {
     "name": "stdout",
     "output_type": "stream",
     "text": [
      "Reading F:\\Documents\\Science\\MirRevAdaptEEG\\data\\eeg\\p000\\lrp\\p000_rightmoves_aln_rp-ave.fif ...\n",
      "    Found the data of interest:\n",
      "        t =   -2000.00 ...    1995.00 ms (16140)\n",
      "        0 CTF compensation matrices available\n",
      "        nave = 12 - aspect type = 100\n",
      "No projector specified for this dataset. Please consider the method self.add_proj.\n",
      "Loaded Evoked data is baseline-corrected (baseline: [-1.3, -1] sec)\n",
      "Identifying common channels ...\n",
      "Reading F:\\Documents\\Science\\MirRevAdaptEEG\\data\\eeg\\p001\\lrp\\p001_rightmoves_aln_rp-ave.fif ...\n",
      "    Found the data of interest:\n",
      "        t =   -2000.00 ...    1995.00 ms (16140)\n",
      "        0 CTF compensation matrices available\n",
      "        nave = 12 - aspect type = 100\n",
      "No projector specified for this dataset. Please consider the method self.add_proj.\n",
      "Loaded Evoked data is baseline-corrected (baseline: [-1.3, -1] sec)\n",
      "Identifying common channels ...\n",
      "Reading F:\\Documents\\Science\\MirRevAdaptEEG\\data\\eeg\\p002\\lrp\\p002_rightmoves_aln_rp-ave.fif ...\n",
      "    Found the data of interest:\n",
      "        t =   -2000.00 ...    1995.00 ms (16140)\n",
      "        0 CTF compensation matrices available\n",
      "        nave = 12 - aspect type = 100\n",
      "No projector specified for this dataset. Please consider the method self.add_proj.\n",
      "Loaded Evoked data is baseline-corrected (baseline: [-1.3, -1] sec)\n",
      "Identifying common channels ...\n",
      "Reading F:\\Documents\\Science\\MirRevAdaptEEG\\data\\eeg\\p003\\lrp\\p003_rightmoves_aln_rp-ave.fif ...\n",
      "    Found the data of interest:\n",
      "        t =   -2000.00 ...    1995.00 ms (16140)\n",
      "        0 CTF compensation matrices available\n",
      "        nave = 12 - aspect type = 100\n",
      "No projector specified for this dataset. Please consider the method self.add_proj.\n",
      "Loaded Evoked data is baseline-corrected (baseline: [-1.3, -1] sec)\n",
      "Identifying common channels ...\n",
      "Reading F:\\Documents\\Science\\MirRevAdaptEEG\\data\\eeg\\p004\\lrp\\p004_rightmoves_aln_rp-ave.fif ...\n",
      "    Found the data of interest:\n"
     ]
    },
    {
     "name": "stderr",
     "output_type": "stream",
     "text": [
      "C:\\Users\\Raphael\\AppData\\Local\\Temp\\ipykernel_6636\\748442925.py:24: RuntimeWarning: Only a single dataset was passed to mne.grand_average().\n",
      "  grand_aln_right = mne.grand_average(evoked_list)\n"
     ]
    },
    {
     "name": "stdout",
     "output_type": "stream",
     "text": [
      "        t =   -2000.00 ...    1995.00 ms (16140)\n",
      "        0 CTF compensation matrices available\n",
      "        nave = 12 - aspect type = 100\n",
      "No projector specified for this dataset. Please consider the method self.add_proj.\n",
      "Loaded Evoked data is baseline-corrected (baseline: [-1.3, -1] sec)\n",
      "Identifying common channels ...\n",
      "Reading F:\\Documents\\Science\\MirRevAdaptEEG\\data\\eeg\\p005\\lrp\\p005_rightmoves_aln_rp-ave.fif ...\n",
      "    Found the data of interest:\n",
      "        t =   -2000.00 ...    1995.00 ms (16140)\n",
      "        0 CTF compensation matrices available\n",
      "        nave = 12 - aspect type = 100\n",
      "No projector specified for this dataset. Please consider the method self.add_proj.\n",
      "Loaded Evoked data is baseline-corrected (baseline: [-1.3, -1] sec)\n",
      "Identifying common channels ...\n",
      "Reading F:\\Documents\\Science\\MirRevAdaptEEG\\data\\eeg\\p006\\lrp\\p006_rightmoves_aln_rp-ave.fif ...\n",
      "    Found the data of interest:\n",
      "        t =   -2000.00 ...    1995.00 ms (16140)\n",
      "        0 CTF compensation matrices available\n",
      "        nave = 12 - aspect type = 100\n",
      "No projector specified for this dataset. Please consider the method self.add_proj.\n",
      "Loaded Evoked data is baseline-corrected (baseline: [-1.3, -1] sec)\n",
      "Identifying common channels ...\n",
      "Reading F:\\Documents\\Science\\MirRevAdaptEEG\\data\\eeg\\p007\\lrp\\p007_rightmoves_aln_rp-ave.fif ...\n",
      "    Found the data of interest:\n",
      "        t =   -2000.00 ...    1995.00 ms (16140)\n",
      "        0 CTF compensation matrices available\n",
      "        nave = 12 - aspect type = 100\n",
      "No projector specified for this dataset. Please consider the method self.add_proj.\n",
      "Loaded Evoked data is baseline-corrected (baseline: [-1.3, -1] sec)\n",
      "Identifying common channels ...\n",
      "Reading F:\\Documents\\Science\\MirRevAdaptEEG\\data\\eeg\\p008\\lrp\\p008_rightmoves_aln_rp-ave.fif ...\n",
      "    Found the data of interest:\n",
      "        t =   -2000.00 ...    1995.00 ms (16140)\n",
      "        0 CTF compensation matrices available\n",
      "        nave = 12 - aspect type = 100\n",
      "No projector specified for this dataset. Please consider the method self.add_proj.\n",
      "Loaded Evoked data is baseline-corrected (baseline: [-1.3, -1] sec)\n",
      "Identifying common channels ...\n",
      "Reading F:\\Documents\\Science\\MirRevAdaptEEG\\data\\eeg\\p009\\lrp\\p009_rightmoves_aln_rp-ave.fif ...\n",
      "    Found the data of interest:\n",
      "        t =   -2000.00 ...    1995.00 ms (16140)\n",
      "        0 CTF compensation matrices available\n",
      "        nave = 12 - aspect type = 100\n",
      "No projector specified for this dataset. Please consider the method self.add_proj.\n",
      "Loaded Evoked data is baseline-corrected (baseline: [-1.3, -1] sec)\n",
      "Identifying common channels ...\n",
      "Reading F:\\Documents\\Science\\MirRevAdaptEEG\\data\\eeg\\p010\\lrp\\p010_rightmoves_aln_rp-ave.fif ...\n",
      "    Found the data of interest:\n",
      "        t =   -2000.00 ...    1995.00 ms (16140)\n",
      "        0 CTF compensation matrices available\n",
      "        nave = 12 - aspect type = 100\n",
      "No projector specified for this dataset. Please consider the method self.add_proj.\n",
      "Loaded Evoked data is baseline-corrected (baseline: [-1.3, -1] sec)\n",
      "Identifying common channels ...\n",
      "Reading F:\\Documents\\Science\\MirRevAdaptEEG\\data\\eeg\\p011\\lrp\\p011_rightmoves_aln_rp-ave.fif ...\n",
      "    Found the data of interest:\n",
      "        t =   -2000.00 ...    1995.00 ms (16140)\n",
      "        0 CTF compensation matrices available\n",
      "        nave = 12 - aspect type = 100\n",
      "No projector specified for this dataset. Please consider the method self.add_proj.\n",
      "Loaded Evoked data is baseline-corrected (baseline: [-1.3, -1] sec)\n",
      "Identifying common channels ...\n",
      "Reading F:\\Documents\\Science\\MirRevAdaptEEG\\data\\eeg\\p012\\lrp\\p012_rightmoves_aln_rp-ave.fif ...\n",
      "    Found the data of interest:\n",
      "        t =   -2000.00 ...    1995.00 ms (16140)\n",
      "        0 CTF compensation matrices available\n",
      "        nave = 12 - aspect type = 100\n",
      "No projector specified for this dataset. Please consider the method self.add_proj.\n",
      "Loaded Evoked data is baseline-corrected (baseline: [-1.3, -1] sec)\n",
      "Identifying common channels ...\n",
      "Reading F:\\Documents\\Science\\MirRevAdaptEEG\\data\\eeg\\p013\\lrp\\p013_rightmoves_aln_rp-ave.fif ...\n",
      "    Found the data of interest:\n",
      "        t =   -2000.00 ...    1995.00 ms (16140)\n",
      "        0 CTF compensation matrices available\n",
      "        nave = 12 - aspect type = 100\n",
      "No projector specified for this dataset. Please consider the method self.add_proj.\n",
      "Loaded Evoked data is baseline-corrected (baseline: [-1.3, -1] sec)\n",
      "Identifying common channels ...\n",
      "Reading F:\\Documents\\Science\\MirRevAdaptEEG\\data\\eeg\\p014\\lrp\\p014_rightmoves_aln_rp-ave.fif ...\n",
      "    Found the data of interest:\n",
      "        t =   -2000.00 ...    1995.00 ms (16140)\n",
      "        0 CTF compensation matrices available\n",
      "        nave = 12 - aspect type = 100\n",
      "No projector specified for this dataset. Please consider the method self.add_proj.\n",
      "Loaded Evoked data is baseline-corrected (baseline: [-1.3, -1] sec)\n",
      "Identifying common channels ...\n",
      "Reading F:\\Documents\\Science\\MirRevAdaptEEG\\data\\eeg\\p015\\lrp\\p015_rightmoves_aln_rp-ave.fif ...\n",
      "    Found the data of interest:\n",
      "        t =   -2000.00 ...    1995.00 ms (16140)\n",
      "        0 CTF compensation matrices available\n",
      "        nave = 12 - aspect type = 100\n",
      "No projector specified for this dataset. Please consider the method self.add_proj.\n",
      "Loaded Evoked data is baseline-corrected (baseline: [-1.3, -1] sec)\n",
      "Identifying common channels ...\n",
      "Reading F:\\Documents\\Science\\MirRevAdaptEEG\\data\\eeg\\p016\\lrp\\p016_rightmoves_aln_rp-ave.fif ...\n",
      "    Found the data of interest:\n",
      "        t =   -2000.00 ...    1995.00 ms (16140)\n",
      "        0 CTF compensation matrices available\n",
      "        nave = 12 - aspect type = 100\n",
      "No projector specified for this dataset. Please consider the method self.add_proj.\n",
      "Loaded Evoked data is baseline-corrected (baseline: [-1.3, -1] sec)\n",
      "Identifying common channels ...\n",
      "Reading F:\\Documents\\Science\\MirRevAdaptEEG\\data\\eeg\\p017\\lrp\\p017_rightmoves_aln_rp-ave.fif ...\n",
      "    Found the data of interest:\n",
      "        t =   -2000.00 ...    1995.00 ms (16140)\n",
      "        0 CTF compensation matrices available\n",
      "        nave = 12 - aspect type = 100\n",
      "No projector specified for this dataset. Please consider the method self.add_proj.\n",
      "Loaded Evoked data is baseline-corrected (baseline: [-1.3, -1] sec)\n",
      "Identifying common channels ...\n",
      "Reading F:\\Documents\\Science\\MirRevAdaptEEG\\data\\eeg\\p018\\lrp\\p018_rightmoves_aln_rp-ave.fif ...\n",
      "    Found the data of interest:\n",
      "        t =   -2000.00 ...    1995.00 ms (16140)\n",
      "        0 CTF compensation matrices available\n",
      "        nave = 12 - aspect type = 100\n",
      "No projector specified for this dataset. Please consider the method self.add_proj.\n",
      "Loaded Evoked data is baseline-corrected (baseline: [-1.3, -1] sec)\n",
      "Identifying common channels ...\n",
      "Reading F:\\Documents\\Science\\MirRevAdaptEEG\\data\\eeg\\p019\\lrp\\p019_rightmoves_aln_rp-ave.fif ...\n",
      "    Found the data of interest:\n",
      "        t =   -2000.00 ...    1995.00 ms (16140)\n",
      "        0 CTF compensation matrices available\n",
      "        nave = 12 - aspect type = 100\n",
      "No projector specified for this dataset. Please consider the method self.add_proj.\n",
      "Loaded Evoked data is baseline-corrected (baseline: [-1.3, -1] sec)\n",
      "Identifying common channels ...\n",
      "Reading F:\\Documents\\Science\\MirRevAdaptEEG\\data\\eeg\\p020\\lrp\\p020_rightmoves_aln_rp-ave.fif ...\n",
      "    Found the data of interest:\n",
      "        t =   -2000.00 ...    1995.00 ms (16140)\n",
      "        0 CTF compensation matrices available\n",
      "        nave = 12 - aspect type = 100\n",
      "No projector specified for this dataset. Please consider the method self.add_proj.\n",
      "Loaded Evoked data is baseline-corrected (baseline: [-1.3, -1] sec)\n",
      "Identifying common channels ...\n",
      "Reading F:\\Documents\\Science\\MirRevAdaptEEG\\data\\eeg\\p021\\lrp\\p021_rightmoves_aln_rp-ave.fif ...\n",
      "    Found the data of interest:\n",
      "        t =   -2000.00 ...    1995.00 ms (16140)\n",
      "        0 CTF compensation matrices available\n",
      "        nave = 12 - aspect type = 100\n",
      "No projector specified for this dataset. Please consider the method self.add_proj.\n",
      "Loaded Evoked data is baseline-corrected (baseline: [-1.3, -1] sec)\n",
      "Identifying common channels ...\n",
      "Reading F:\\Documents\\Science\\MirRevAdaptEEG\\data\\eeg\\p022\\lrp\\p022_rightmoves_aln_rp-ave.fif ...\n",
      "    Found the data of interest:\n",
      "        t =   -2000.00 ...    1995.00 ms (16140)\n",
      "        0 CTF compensation matrices available\n",
      "        nave = 12 - aspect type = 100\n",
      "No projector specified for this dataset. Please consider the method self.add_proj.\n"
     ]
    },
    {
     "name": "stdout",
     "output_type": "stream",
     "text": [
      "Loaded Evoked data is baseline-corrected (baseline: [-1.3, -1] sec)\n",
      "Identifying common channels ...\n",
      "Reading F:\\Documents\\Science\\MirRevAdaptEEG\\data\\eeg\\p023\\lrp\\p023_rightmoves_aln_rp-ave.fif ...\n",
      "    Found the data of interest:\n",
      "        t =   -2000.00 ...    1995.00 ms (16140)\n",
      "        0 CTF compensation matrices available\n",
      "        nave = 12 - aspect type = 100\n",
      "No projector specified for this dataset. Please consider the method self.add_proj.\n",
      "Loaded Evoked data is baseline-corrected (baseline: [-1.3, -1] sec)\n",
      "Identifying common channels ...\n",
      "Reading F:\\Documents\\Science\\MirRevAdaptEEG\\data\\eeg\\p024\\lrp\\p024_rightmoves_aln_rp-ave.fif ...\n",
      "    Found the data of interest:\n",
      "        t =   -2000.00 ...    1995.00 ms (16140)\n",
      "        0 CTF compensation matrices available\n",
      "        nave = 12 - aspect type = 100\n",
      "No projector specified for this dataset. Please consider the method self.add_proj.\n",
      "Loaded Evoked data is baseline-corrected (baseline: [-1.3, -1] sec)\n",
      "Identifying common channels ...\n",
      "Reading F:\\Documents\\Science\\MirRevAdaptEEG\\data\\eeg\\p025\\lrp\\p025_rightmoves_aln_rp-ave.fif ...\n",
      "    Found the data of interest:\n",
      "        t =   -2000.00 ...    1995.00 ms (16140)\n",
      "        0 CTF compensation matrices available\n",
      "        nave = 12 - aspect type = 100\n",
      "No projector specified for this dataset. Please consider the method self.add_proj.\n",
      "Loaded Evoked data is baseline-corrected (baseline: [-1.3, -1] sec)\n",
      "Identifying common channels ...\n",
      "Reading F:\\Documents\\Science\\MirRevAdaptEEG\\data\\eeg\\p026\\lrp\\p026_rightmoves_aln_rp-ave.fif ...\n",
      "    Found the data of interest:\n",
      "        t =   -2000.00 ...    1995.00 ms (16140)\n",
      "        0 CTF compensation matrices available\n",
      "        nave = 12 - aspect type = 100\n",
      "No projector specified for this dataset. Please consider the method self.add_proj.\n",
      "Loaded Evoked data is baseline-corrected (baseline: [-1.3, -1] sec)\n",
      "Identifying common channels ...\n",
      "Reading F:\\Documents\\Science\\MirRevAdaptEEG\\data\\eeg\\p027\\lrp\\p027_rightmoves_aln_rp-ave.fif ...\n",
      "    Found the data of interest:\n",
      "        t =   -2000.00 ...    1995.00 ms (16140)\n",
      "        0 CTF compensation matrices available\n",
      "        nave = 12 - aspect type = 100\n",
      "No projector specified for this dataset. Please consider the method self.add_proj.\n",
      "Loaded Evoked data is baseline-corrected (baseline: [-1.3, -1] sec)\n",
      "Identifying common channels ...\n",
      "Reading F:\\Documents\\Science\\MirRevAdaptEEG\\data\\eeg\\p028\\lrp\\p028_rightmoves_aln_rp-ave.fif ...\n",
      "    Found the data of interest:\n",
      "        t =   -2000.00 ...    1995.00 ms (16140)\n",
      "        0 CTF compensation matrices available\n",
      "        nave = 12 - aspect type = 100\n",
      "No projector specified for this dataset. Please consider the method self.add_proj.\n",
      "Loaded Evoked data is baseline-corrected (baseline: [-1.3, -1] sec)\n",
      "Identifying common channels ...\n",
      "Reading F:\\Documents\\Science\\MirRevAdaptEEG\\data\\eeg\\p029\\lrp\\p029_rightmoves_aln_rp-ave.fif ...\n",
      "    Found the data of interest:\n",
      "        t =   -2000.00 ...    1995.00 ms (16140)\n",
      "        0 CTF compensation matrices available\n",
      "        nave = 12 - aspect type = 100\n",
      "No projector specified for this dataset. Please consider the method self.add_proj.\n",
      "Loaded Evoked data is baseline-corrected (baseline: [-1.3, -1] sec)\n",
      "Identifying common channels ...\n",
      "Reading F:\\Documents\\Science\\MirRevAdaptEEG\\data\\eeg\\p030\\lrp\\p030_rightmoves_aln_rp-ave.fif ...\n",
      "    Found the data of interest:\n",
      "        t =   -2000.00 ...    1995.00 ms (16140)\n",
      "        0 CTF compensation matrices available\n",
      "        nave = 12 - aspect type = 100\n",
      "No projector specified for this dataset. Please consider the method self.add_proj.\n",
      "Loaded Evoked data is baseline-corrected (baseline: [-1.3, -1] sec)\n",
      "Identifying common channels ...\n",
      "Reading F:\\Documents\\Science\\MirRevAdaptEEG\\data\\eeg\\p031\\lrp\\p031_rightmoves_aln_rp-ave.fif ...\n",
      "    Found the data of interest:\n",
      "        t =   -2000.00 ...    1995.00 ms (16140)\n",
      "        0 CTF compensation matrices available\n",
      "        nave = 12 - aspect type = 100\n",
      "No projector specified for this dataset. Please consider the method self.add_proj.\n",
      "Loaded Evoked data is baseline-corrected (baseline: [-1.3, -1] sec)\n",
      "Identifying common channels ...\n",
      "Reading F:\\Documents\\Science\\MirRevAdaptEEG\\data\\eeg\\p000\\lrp\\p000_leftmoves_aln_rp-ave.fif ...\n",
      "    Found the data of interest:\n",
      "        t =   -2000.00 ...    1995.00 ms (16140)\n",
      "        0 CTF compensation matrices available\n",
      "        nave = 12 - aspect type = 100\n",
      "No projector specified for this dataset. Please consider the method self.add_proj.\n",
      "Loaded Evoked data is baseline-corrected (baseline: [-1.3, -1] sec)\n",
      "Identifying common channels ...\n",
      "Reading F:\\Documents\\Science\\MirRevAdaptEEG\\data\\eeg\\p001\\lrp\\p001_leftmoves_aln_rp-ave.fif ...\n",
      "    Found the data of interest:\n",
      "        t =   -2000.00 ...    1995.00 ms (16140)\n",
      "        0 CTF compensation matrices available\n",
      "        nave = 12 - aspect type = 100\n",
      "No projector specified for this dataset. Please consider the method self.add_proj.\n",
      "Loaded Evoked data is baseline-corrected (baseline: [-1.3, -1] sec)\n",
      "Identifying common channels ...\n",
      "Reading F:\\Documents\\Science\\MirRevAdaptEEG\\data\\eeg\\p002\\lrp\\p002_leftmoves_aln_rp-ave.fif ...\n",
      "    Found the data of interest:\n",
      "        t =   -2000.00 ...    1995.00 ms (16140)\n",
      "        0 CTF compensation matrices available\n",
      "        nave = 12 - aspect type = 100\n",
      "No projector specified for this dataset. Please consider the method self.add_proj.\n",
      "Loaded Evoked data is baseline-corrected (baseline: [-1.3, -1] sec)\n",
      "Identifying common channels ...\n",
      "Reading F:\\Documents\\Science\\MirRevAdaptEEG\\data\\eeg\\p003\\lrp\\p003_leftmoves_aln_rp-ave.fif ...\n",
      "    Found the data of interest:\n",
      "        t =   -2000.00 ...    1995.00 ms (16140)\n",
      "        0 CTF compensation matrices available\n",
      "        nave = 12 - aspect type = 100\n",
      "No projector specified for this dataset. Please consider the method self.add_proj.\n",
      "Loaded Evoked data is baseline-corrected (baseline: [-1.3, -1] sec)\n",
      "Identifying common channels ...\n",
      "Reading F:\\Documents\\Science\\MirRevAdaptEEG\\data\\eeg\\p004\\lrp\\p004_leftmoves_aln_rp-ave.fif ...\n",
      "    Found the data of interest:\n"
     ]
    },
    {
     "name": "stderr",
     "output_type": "stream",
     "text": [
      "C:\\Users\\Raphael\\AppData\\Local\\Temp\\ipykernel_6636\\748442925.py:27: RuntimeWarning: Only a single dataset was passed to mne.grand_average().\n",
      "  grand_aln_left = mne.grand_average(evoked_list)\n"
     ]
    },
    {
     "name": "stdout",
     "output_type": "stream",
     "text": [
      "        t =   -2000.00 ...    1995.00 ms (16140)\n",
      "        0 CTF compensation matrices available\n",
      "        nave = 12 - aspect type = 100\n",
      "No projector specified for this dataset. Please consider the method self.add_proj.\n",
      "Loaded Evoked data is baseline-corrected (baseline: [-1.3, -1] sec)\n",
      "Identifying common channels ...\n",
      "Reading F:\\Documents\\Science\\MirRevAdaptEEG\\data\\eeg\\p005\\lrp\\p005_leftmoves_aln_rp-ave.fif ...\n",
      "    Found the data of interest:\n",
      "        t =   -2000.00 ...    1995.00 ms (16140)\n",
      "        0 CTF compensation matrices available\n",
      "        nave = 12 - aspect type = 100\n",
      "No projector specified for this dataset. Please consider the method self.add_proj.\n",
      "Loaded Evoked data is baseline-corrected (baseline: [-1.3, -1] sec)\n",
      "Identifying common channels ...\n",
      "Reading F:\\Documents\\Science\\MirRevAdaptEEG\\data\\eeg\\p006\\lrp\\p006_leftmoves_aln_rp-ave.fif ...\n",
      "    Found the data of interest:\n",
      "        t =   -2000.00 ...    1995.00 ms (16140)\n",
      "        0 CTF compensation matrices available\n",
      "        nave = 12 - aspect type = 100\n",
      "No projector specified for this dataset. Please consider the method self.add_proj.\n",
      "Loaded Evoked data is baseline-corrected (baseline: [-1.3, -1] sec)\n",
      "Identifying common channels ...\n",
      "Reading F:\\Documents\\Science\\MirRevAdaptEEG\\data\\eeg\\p007\\lrp\\p007_leftmoves_aln_rp-ave.fif ...\n",
      "    Found the data of interest:\n",
      "        t =   -2000.00 ...    1995.00 ms (16140)\n",
      "        0 CTF compensation matrices available\n",
      "        nave = 12 - aspect type = 100\n",
      "No projector specified for this dataset. Please consider the method self.add_proj.\n",
      "Loaded Evoked data is baseline-corrected (baseline: [-1.3, -1] sec)\n",
      "Identifying common channels ...\n",
      "Reading F:\\Documents\\Science\\MirRevAdaptEEG\\data\\eeg\\p008\\lrp\\p008_leftmoves_aln_rp-ave.fif ...\n",
      "    Found the data of interest:\n",
      "        t =   -2000.00 ...    1995.00 ms (16140)\n",
      "        0 CTF compensation matrices available\n",
      "        nave = 12 - aspect type = 100\n",
      "No projector specified for this dataset. Please consider the method self.add_proj.\n",
      "Loaded Evoked data is baseline-corrected (baseline: [-1.3, -1] sec)\n",
      "Identifying common channels ...\n",
      "Reading F:\\Documents\\Science\\MirRevAdaptEEG\\data\\eeg\\p009\\lrp\\p009_leftmoves_aln_rp-ave.fif ...\n",
      "    Found the data of interest:\n",
      "        t =   -2000.00 ...    1995.00 ms (16140)\n",
      "        0 CTF compensation matrices available\n",
      "        nave = 12 - aspect type = 100\n",
      "No projector specified for this dataset. Please consider the method self.add_proj.\n",
      "Loaded Evoked data is baseline-corrected (baseline: [-1.3, -1] sec)\n",
      "Identifying common channels ...\n",
      "Reading F:\\Documents\\Science\\MirRevAdaptEEG\\data\\eeg\\p010\\lrp\\p010_leftmoves_aln_rp-ave.fif ...\n",
      "    Found the data of interest:\n",
      "        t =   -2000.00 ...    1995.00 ms (16140)\n",
      "        0 CTF compensation matrices available\n",
      "        nave = 12 - aspect type = 100\n",
      "No projector specified for this dataset. Please consider the method self.add_proj.\n",
      "Loaded Evoked data is baseline-corrected (baseline: [-1.3, -1] sec)\n",
      "Identifying common channels ...\n",
      "Reading F:\\Documents\\Science\\MirRevAdaptEEG\\data\\eeg\\p011\\lrp\\p011_leftmoves_aln_rp-ave.fif ...\n",
      "    Found the data of interest:\n",
      "        t =   -2000.00 ...    1995.00 ms (16140)\n",
      "        0 CTF compensation matrices available\n",
      "        nave = 12 - aspect type = 100\n",
      "No projector specified for this dataset. Please consider the method self.add_proj.\n",
      "Loaded Evoked data is baseline-corrected (baseline: [-1.3, -1] sec)\n",
      "Identifying common channels ...\n",
      "Reading F:\\Documents\\Science\\MirRevAdaptEEG\\data\\eeg\\p012\\lrp\\p012_leftmoves_aln_rp-ave.fif ...\n",
      "    Found the data of interest:\n",
      "        t =   -2000.00 ...    1995.00 ms (16140)\n",
      "        0 CTF compensation matrices available\n",
      "        nave = 12 - aspect type = 100\n",
      "No projector specified for this dataset. Please consider the method self.add_proj.\n",
      "Loaded Evoked data is baseline-corrected (baseline: [-1.3, -1] sec)\n",
      "Identifying common channels ...\n",
      "Reading F:\\Documents\\Science\\MirRevAdaptEEG\\data\\eeg\\p013\\lrp\\p013_leftmoves_aln_rp-ave.fif ...\n",
      "    Found the data of interest:\n",
      "        t =   -2000.00 ...    1995.00 ms (16140)\n",
      "        0 CTF compensation matrices available\n",
      "        nave = 12 - aspect type = 100\n",
      "No projector specified for this dataset. Please consider the method self.add_proj.\n",
      "Loaded Evoked data is baseline-corrected (baseline: [-1.3, -1] sec)\n",
      "Identifying common channels ...\n",
      "Reading F:\\Documents\\Science\\MirRevAdaptEEG\\data\\eeg\\p014\\lrp\\p014_leftmoves_aln_rp-ave.fif ...\n",
      "    Found the data of interest:\n",
      "        t =   -2000.00 ...    1995.00 ms (16140)\n",
      "        0 CTF compensation matrices available\n",
      "        nave = 12 - aspect type = 100\n",
      "No projector specified for this dataset. Please consider the method self.add_proj.\n",
      "Loaded Evoked data is baseline-corrected (baseline: [-1.3, -1] sec)\n",
      "Identifying common channels ...\n",
      "Reading F:\\Documents\\Science\\MirRevAdaptEEG\\data\\eeg\\p015\\lrp\\p015_leftmoves_aln_rp-ave.fif ...\n",
      "    Found the data of interest:\n",
      "        t =   -2000.00 ...    1995.00 ms (16140)\n",
      "        0 CTF compensation matrices available\n",
      "        nave = 12 - aspect type = 100\n",
      "No projector specified for this dataset. Please consider the method self.add_proj.\n",
      "Loaded Evoked data is baseline-corrected (baseline: [-1.3, -1] sec)\n",
      "Identifying common channels ...\n",
      "Reading F:\\Documents\\Science\\MirRevAdaptEEG\\data\\eeg\\p016\\lrp\\p016_leftmoves_aln_rp-ave.fif ...\n",
      "    Found the data of interest:\n",
      "        t =   -2000.00 ...    1995.00 ms (16140)\n",
      "        0 CTF compensation matrices available\n",
      "        nave = 12 - aspect type = 100\n",
      "No projector specified for this dataset. Please consider the method self.add_proj.\n",
      "Loaded Evoked data is baseline-corrected (baseline: [-1.3, -1] sec)\n",
      "Identifying common channels ...\n",
      "Reading F:\\Documents\\Science\\MirRevAdaptEEG\\data\\eeg\\p017\\lrp\\p017_leftmoves_aln_rp-ave.fif ...\n",
      "    Found the data of interest:\n",
      "        t =   -2000.00 ...    1995.00 ms (16140)\n",
      "        0 CTF compensation matrices available\n",
      "        nave = 12 - aspect type = 100\n",
      "No projector specified for this dataset. Please consider the method self.add_proj.\n",
      "Loaded Evoked data is baseline-corrected (baseline: [-1.3, -1] sec)\n",
      "Identifying common channels ...\n",
      "Reading F:\\Documents\\Science\\MirRevAdaptEEG\\data\\eeg\\p018\\lrp\\p018_leftmoves_aln_rp-ave.fif ...\n",
      "    Found the data of interest:\n",
      "        t =   -2000.00 ...    1995.00 ms (16140)\n",
      "        0 CTF compensation matrices available\n",
      "        nave = 12 - aspect type = 100\n",
      "No projector specified for this dataset. Please consider the method self.add_proj.\n",
      "Loaded Evoked data is baseline-corrected (baseline: [-1.3, -1] sec)\n",
      "Identifying common channels ...\n",
      "Reading F:\\Documents\\Science\\MirRevAdaptEEG\\data\\eeg\\p019\\lrp\\p019_leftmoves_aln_rp-ave.fif ...\n",
      "    Found the data of interest:\n",
      "        t =   -2000.00 ...    1995.00 ms (16140)\n",
      "        0 CTF compensation matrices available\n",
      "        nave = 12 - aspect type = 100\n",
      "No projector specified for this dataset. Please consider the method self.add_proj.\n",
      "Loaded Evoked data is baseline-corrected (baseline: [-1.3, -1] sec)\n",
      "Identifying common channels ...\n",
      "Reading F:\\Documents\\Science\\MirRevAdaptEEG\\data\\eeg\\p020\\lrp\\p020_leftmoves_aln_rp-ave.fif ...\n",
      "    Found the data of interest:\n",
      "        t =   -2000.00 ...    1995.00 ms (16140)\n",
      "        0 CTF compensation matrices available\n",
      "        nave = 12 - aspect type = 100\n",
      "No projector specified for this dataset. Please consider the method self.add_proj.\n",
      "Loaded Evoked data is baseline-corrected (baseline: [-1.3, -1] sec)\n",
      "Identifying common channels ...\n",
      "Reading F:\\Documents\\Science\\MirRevAdaptEEG\\data\\eeg\\p021\\lrp\\p021_leftmoves_aln_rp-ave.fif ...\n",
      "    Found the data of interest:\n",
      "        t =   -2000.00 ...    1995.00 ms (16140)\n",
      "        0 CTF compensation matrices available\n",
      "        nave = 12 - aspect type = 100\n",
      "No projector specified for this dataset. Please consider the method self.add_proj.\n",
      "Loaded Evoked data is baseline-corrected (baseline: [-1.3, -1] sec)\n",
      "Identifying common channels ...\n",
      "Reading F:\\Documents\\Science\\MirRevAdaptEEG\\data\\eeg\\p022\\lrp\\p022_leftmoves_aln_rp-ave.fif ...\n",
      "    Found the data of interest:\n",
      "        t =   -2000.00 ...    1995.00 ms (16140)\n",
      "        0 CTF compensation matrices available\n",
      "        nave = 12 - aspect type = 100\n",
      "No projector specified for this dataset. Please consider the method self.add_proj.\n"
     ]
    },
    {
     "name": "stdout",
     "output_type": "stream",
     "text": [
      "Loaded Evoked data is baseline-corrected (baseline: [-1.3, -1] sec)\n",
      "Identifying common channels ...\n",
      "Reading F:\\Documents\\Science\\MirRevAdaptEEG\\data\\eeg\\p023\\lrp\\p023_leftmoves_aln_rp-ave.fif ...\n",
      "    Found the data of interest:\n",
      "        t =   -2000.00 ...    1995.00 ms (16140)\n",
      "        0 CTF compensation matrices available\n",
      "        nave = 12 - aspect type = 100\n",
      "No projector specified for this dataset. Please consider the method self.add_proj.\n",
      "Loaded Evoked data is baseline-corrected (baseline: [-1.3, -1] sec)\n",
      "Identifying common channels ...\n",
      "Reading F:\\Documents\\Science\\MirRevAdaptEEG\\data\\eeg\\p024\\lrp\\p024_leftmoves_aln_rp-ave.fif ...\n",
      "    Found the data of interest:\n",
      "        t =   -2000.00 ...    1995.00 ms (16140)\n",
      "        0 CTF compensation matrices available\n",
      "        nave = 12 - aspect type = 100\n",
      "No projector specified for this dataset. Please consider the method self.add_proj.\n",
      "Loaded Evoked data is baseline-corrected (baseline: [-1.3, -1] sec)\n",
      "Identifying common channels ...\n",
      "Reading F:\\Documents\\Science\\MirRevAdaptEEG\\data\\eeg\\p025\\lrp\\p025_leftmoves_aln_rp-ave.fif ...\n",
      "    Found the data of interest:\n",
      "        t =   -2000.00 ...    1995.00 ms (16140)\n",
      "        0 CTF compensation matrices available\n",
      "        nave = 12 - aspect type = 100\n",
      "No projector specified for this dataset. Please consider the method self.add_proj.\n",
      "Loaded Evoked data is baseline-corrected (baseline: [-1.3, -1] sec)\n",
      "Identifying common channels ...\n",
      "Reading F:\\Documents\\Science\\MirRevAdaptEEG\\data\\eeg\\p026\\lrp\\p026_leftmoves_aln_rp-ave.fif ...\n",
      "    Found the data of interest:\n",
      "        t =   -2000.00 ...    1995.00 ms (16140)\n",
      "        0 CTF compensation matrices available\n",
      "        nave = 12 - aspect type = 100\n",
      "No projector specified for this dataset. Please consider the method self.add_proj.\n",
      "Loaded Evoked data is baseline-corrected (baseline: [-1.3, -1] sec)\n",
      "Identifying common channels ...\n",
      "Reading F:\\Documents\\Science\\MirRevAdaptEEG\\data\\eeg\\p027\\lrp\\p027_leftmoves_aln_rp-ave.fif ...\n",
      "    Found the data of interest:\n",
      "        t =   -2000.00 ...    1995.00 ms (16140)\n",
      "        0 CTF compensation matrices available\n",
      "        nave = 12 - aspect type = 100\n",
      "No projector specified for this dataset. Please consider the method self.add_proj.\n",
      "Loaded Evoked data is baseline-corrected (baseline: [-1.3, -1] sec)\n",
      "Identifying common channels ...\n",
      "Reading F:\\Documents\\Science\\MirRevAdaptEEG\\data\\eeg\\p028\\lrp\\p028_leftmoves_aln_rp-ave.fif ...\n",
      "    Found the data of interest:\n",
      "        t =   -2000.00 ...    1995.00 ms (16140)\n",
      "        0 CTF compensation matrices available\n",
      "        nave = 12 - aspect type = 100\n",
      "No projector specified for this dataset. Please consider the method self.add_proj.\n",
      "Loaded Evoked data is baseline-corrected (baseline: [-1.3, -1] sec)\n",
      "Identifying common channels ...\n",
      "Reading F:\\Documents\\Science\\MirRevAdaptEEG\\data\\eeg\\p029\\lrp\\p029_leftmoves_aln_rp-ave.fif ...\n",
      "    Found the data of interest:\n",
      "        t =   -2000.00 ...    1995.00 ms (16140)\n",
      "        0 CTF compensation matrices available\n",
      "        nave = 12 - aspect type = 100\n",
      "No projector specified for this dataset. Please consider the method self.add_proj.\n",
      "Loaded Evoked data is baseline-corrected (baseline: [-1.3, -1] sec)\n",
      "Identifying common channels ...\n",
      "Reading F:\\Documents\\Science\\MirRevAdaptEEG\\data\\eeg\\p030\\lrp\\p030_leftmoves_aln_rp-ave.fif ...\n",
      "    Found the data of interest:\n",
      "        t =   -2000.00 ...    1995.00 ms (16140)\n",
      "        0 CTF compensation matrices available\n",
      "        nave = 12 - aspect type = 100\n",
      "No projector specified for this dataset. Please consider the method self.add_proj.\n",
      "Loaded Evoked data is baseline-corrected (baseline: [-1.3, -1] sec)\n",
      "Identifying common channels ...\n",
      "Reading F:\\Documents\\Science\\MirRevAdaptEEG\\data\\eeg\\p031\\lrp\\p031_leftmoves_aln_rp-ave.fif ...\n",
      "    Found the data of interest:\n",
      "        t =   -2000.00 ...    1995.00 ms (16140)\n",
      "        0 CTF compensation matrices available\n",
      "        nave = 12 - aspect type = 100\n",
      "No projector specified for this dataset. Please consider the method self.add_proj.\n",
      "Loaded Evoked data is baseline-corrected (baseline: [-1.3, -1] sec)\n",
      "Identifying common channels ...\n",
      "Reading F:\\Documents\\Science\\MirRevAdaptEEG\\data\\eeg\\p000\\lrp\\p000_rightmoves_rot_rp-ave.fif ...\n",
      "    Found the data of interest:\n",
      "        t =   -2000.00 ...    1995.00 ms (16140)\n",
      "        0 CTF compensation matrices available\n",
      "        nave = 45 - aspect type = 100\n",
      "No projector specified for this dataset. Please consider the method self.add_proj.\n",
      "Loaded Evoked data is baseline-corrected (baseline: [-1.3, -1] sec)\n",
      "Identifying common channels ...\n",
      "Reading F:\\Documents\\Science\\MirRevAdaptEEG\\data\\eeg\\p001\\lrp\\p001_rightmoves_rot_rp-ave.fif ...\n",
      "    Found the data of interest:\n",
      "        t =   -2000.00 ...    1995.00 ms (16140)\n",
      "        0 CTF compensation matrices available\n",
      "        nave = 45 - aspect type = 100\n",
      "No projector specified for this dataset. Please consider the method self.add_proj.\n",
      "Loaded Evoked data is baseline-corrected (baseline: [-1.3, -1] sec)\n",
      "Identifying common channels ...\n",
      "Reading F:\\Documents\\Science\\MirRevAdaptEEG\\data\\eeg\\p002\\lrp\\p002_rightmoves_rot_rp-ave.fif ...\n",
      "    Found the data of interest:\n",
      "        t =   -2000.00 ...    1995.00 ms (16140)\n",
      "        0 CTF compensation matrices available\n",
      "        nave = 45 - aspect type = 100\n",
      "No projector specified for this dataset. Please consider the method self.add_proj.\n",
      "Loaded Evoked data is baseline-corrected (baseline: [-1.3, -1] sec)\n",
      "Identifying common channels ...\n",
      "Reading F:\\Documents\\Science\\MirRevAdaptEEG\\data\\eeg\\p003\\lrp\\p003_rightmoves_rot_rp-ave.fif ...\n",
      "    Found the data of interest:\n",
      "        t =   -2000.00 ...    1995.00 ms (16140)\n",
      "        0 CTF compensation matrices available\n",
      "        nave = 45 - aspect type = 100\n",
      "No projector specified for this dataset. Please consider the method self.add_proj.\n",
      "Loaded Evoked data is baseline-corrected (baseline: [-1.3, -1] sec)\n",
      "Identifying common channels ...\n",
      "Reading F:\\Documents\\Science\\MirRevAdaptEEG\\data\\eeg\\p008\\lrp\\p008_rightmoves_rot_rp-ave.fif ...\n"
     ]
    },
    {
     "name": "stderr",
     "output_type": "stream",
     "text": [
      "C:\\Users\\Raphael\\AppData\\Local\\Temp\\ipykernel_6636\\748442925.py:30: RuntimeWarning: Only a single dataset was passed to mne.grand_average().\n",
      "  grand_rot_right = mne.grand_average(evoked_list)\n"
     ]
    },
    {
     "name": "stdout",
     "output_type": "stream",
     "text": [
      "    Found the data of interest:\n",
      "        t =   -2000.00 ...    1995.00 ms (16140)\n",
      "        0 CTF compensation matrices available\n",
      "        nave = 44 - aspect type = 100\n",
      "No projector specified for this dataset. Please consider the method self.add_proj.\n",
      "Loaded Evoked data is baseline-corrected (baseline: [-1.3, -1] sec)\n",
      "Identifying common channels ...\n",
      "Reading F:\\Documents\\Science\\MirRevAdaptEEG\\data\\eeg\\p009\\lrp\\p009_rightmoves_rot_rp-ave.fif ...\n",
      "    Found the data of interest:\n",
      "        t =   -2000.00 ...    1995.00 ms (16140)\n",
      "        0 CTF compensation matrices available\n",
      "        nave = 45 - aspect type = 100\n",
      "No projector specified for this dataset. Please consider the method self.add_proj.\n",
      "Loaded Evoked data is baseline-corrected (baseline: [-1.3, -1] sec)\n",
      "Identifying common channels ...\n",
      "Reading F:\\Documents\\Science\\MirRevAdaptEEG\\data\\eeg\\p010\\lrp\\p010_rightmoves_rot_rp-ave.fif ...\n",
      "    Found the data of interest:\n",
      "        t =   -2000.00 ...    1995.00 ms (16140)\n",
      "        0 CTF compensation matrices available\n",
      "        nave = 45 - aspect type = 100\n",
      "No projector specified for this dataset. Please consider the method self.add_proj.\n",
      "Loaded Evoked data is baseline-corrected (baseline: [-1.3, -1] sec)\n",
      "Identifying common channels ...\n",
      "Reading F:\\Documents\\Science\\MirRevAdaptEEG\\data\\eeg\\p011\\lrp\\p011_rightmoves_rot_rp-ave.fif ...\n",
      "    Found the data of interest:\n",
      "        t =   -2000.00 ...    1995.00 ms (16140)\n",
      "        0 CTF compensation matrices available\n",
      "        nave = 45 - aspect type = 100\n",
      "No projector specified for this dataset. Please consider the method self.add_proj.\n",
      "Loaded Evoked data is baseline-corrected (baseline: [-1.3, -1] sec)\n",
      "Identifying common channels ...\n",
      "Reading F:\\Documents\\Science\\MirRevAdaptEEG\\data\\eeg\\p016\\lrp\\p016_rightmoves_rot_rp-ave.fif ...\n",
      "    Found the data of interest:\n",
      "        t =   -2000.00 ...    1995.00 ms (16140)\n",
      "        0 CTF compensation matrices available\n",
      "        nave = 45 - aspect type = 100\n",
      "No projector specified for this dataset. Please consider the method self.add_proj.\n",
      "Loaded Evoked data is baseline-corrected (baseline: [-1.3, -1] sec)\n",
      "Identifying common channels ...\n",
      "Reading F:\\Documents\\Science\\MirRevAdaptEEG\\data\\eeg\\p017\\lrp\\p017_rightmoves_rot_rp-ave.fif ...\n",
      "    Found the data of interest:\n",
      "        t =   -2000.00 ...    1995.00 ms (16140)\n",
      "        0 CTF compensation matrices available\n",
      "        nave = 45 - aspect type = 100\n",
      "No projector specified for this dataset. Please consider the method self.add_proj.\n",
      "Loaded Evoked data is baseline-corrected (baseline: [-1.3, -1] sec)\n",
      "Identifying common channels ...\n",
      "Reading F:\\Documents\\Science\\MirRevAdaptEEG\\data\\eeg\\p018\\lrp\\p018_rightmoves_rot_rp-ave.fif ...\n",
      "    Found the data of interest:\n",
      "        t =   -2000.00 ...    1995.00 ms (16140)\n",
      "        0 CTF compensation matrices available\n",
      "        nave = 45 - aspect type = 100\n",
      "No projector specified for this dataset. Please consider the method self.add_proj.\n",
      "Loaded Evoked data is baseline-corrected (baseline: [-1.3, -1] sec)\n",
      "Identifying common channels ...\n",
      "Reading F:\\Documents\\Science\\MirRevAdaptEEG\\data\\eeg\\p019\\lrp\\p019_rightmoves_rot_rp-ave.fif ...\n",
      "    Found the data of interest:\n",
      "        t =   -2000.00 ...    1995.00 ms (16140)\n",
      "        0 CTF compensation matrices available\n",
      "        nave = 45 - aspect type = 100\n",
      "No projector specified for this dataset. Please consider the method self.add_proj.\n",
      "Loaded Evoked data is baseline-corrected (baseline: [-1.3, -1] sec)\n",
      "Identifying common channels ...\n",
      "Reading F:\\Documents\\Science\\MirRevAdaptEEG\\data\\eeg\\p024\\lrp\\p024_rightmoves_rot_rp-ave.fif ...\n",
      "    Found the data of interest:\n",
      "        t =   -2000.00 ...    1995.00 ms (16140)\n",
      "        0 CTF compensation matrices available\n",
      "        nave = 45 - aspect type = 100\n",
      "No projector specified for this dataset. Please consider the method self.add_proj.\n",
      "Loaded Evoked data is baseline-corrected (baseline: [-1.3, -1] sec)\n",
      "Identifying common channels ...\n",
      "Reading F:\\Documents\\Science\\MirRevAdaptEEG\\data\\eeg\\p025\\lrp\\p025_rightmoves_rot_rp-ave.fif ...\n",
      "    Found the data of interest:\n",
      "        t =   -2000.00 ...    1995.00 ms (16140)\n",
      "        0 CTF compensation matrices available\n",
      "        nave = 45 - aspect type = 100\n",
      "No projector specified for this dataset. Please consider the method self.add_proj.\n",
      "Loaded Evoked data is baseline-corrected (baseline: [-1.3, -1] sec)\n",
      "Identifying common channels ...\n",
      "Reading F:\\Documents\\Science\\MirRevAdaptEEG\\data\\eeg\\p026\\lrp\\p026_rightmoves_rot_rp-ave.fif ...\n",
      "    Found the data of interest:\n",
      "        t =   -2000.00 ...    1995.00 ms (16140)\n",
      "        0 CTF compensation matrices available\n",
      "        nave = 45 - aspect type = 100\n",
      "No projector specified for this dataset. Please consider the method self.add_proj.\n",
      "Loaded Evoked data is baseline-corrected (baseline: [-1.3, -1] sec)\n",
      "Identifying common channels ...\n",
      "Reading F:\\Documents\\Science\\MirRevAdaptEEG\\data\\eeg\\p027\\lrp\\p027_rightmoves_rot_rp-ave.fif ...\n",
      "    Found the data of interest:\n",
      "        t =   -2000.00 ...    1995.00 ms (16140)\n",
      "        0 CTF compensation matrices available\n",
      "        nave = 45 - aspect type = 100\n",
      "No projector specified for this dataset. Please consider the method self.add_proj.\n",
      "Loaded Evoked data is baseline-corrected (baseline: [-1.3, -1] sec)\n",
      "Identifying common channels ...\n",
      "Reading F:\\Documents\\Science\\MirRevAdaptEEG\\data\\eeg\\p000\\lrp\\p000_leftmoves_rot_rp-ave.fif ...\n",
      "    Found the data of interest:\n",
      "        t =   -2000.00 ...    1995.00 ms (16140)\n",
      "        0 CTF compensation matrices available\n",
      "        nave = 45 - aspect type = 100\n",
      "No projector specified for this dataset. Please consider the method self.add_proj.\n",
      "Loaded Evoked data is baseline-corrected (baseline: [-1.3, -1] sec)\n",
      "Identifying common channels ...\n",
      "Reading F:\\Documents\\Science\\MirRevAdaptEEG\\data\\eeg\\p001\\lrp\\p001_leftmoves_rot_rp-ave.fif ...\n",
      "    Found the data of interest:\n",
      "        t =   -2000.00 ...    1995.00 ms (16140)\n",
      "        0 CTF compensation matrices available\n",
      "        nave = 45 - aspect type = 100\n",
      "No projector specified for this dataset. Please consider the method self.add_proj.\n",
      "Loaded Evoked data is baseline-corrected (baseline: [-1.3, -1] sec)\n",
      "Identifying common channels ...\n",
      "Reading F:\\Documents\\Science\\MirRevAdaptEEG\\data\\eeg\\p002\\lrp\\p002_leftmoves_rot_rp-ave.fif ...\n",
      "    Found the data of interest:\n",
      "        t =   -2000.00 ...    1995.00 ms (16140)\n",
      "        0 CTF compensation matrices available\n",
      "        nave = 45 - aspect type = 100\n",
      "No projector specified for this dataset. Please consider the method self.add_proj.\n",
      "Loaded Evoked data is baseline-corrected (baseline: [-1.3, -1] sec)\n",
      "Identifying common channels ...\n",
      "Reading F:\\Documents\\Science\\MirRevAdaptEEG\\data\\eeg\\p003\\lrp\\p003_leftmoves_rot_rp-ave.fif ...\n",
      "    Found the data of interest:\n",
      "        t =   -2000.00 ...    1995.00 ms (16140)\n",
      "        0 CTF compensation matrices available\n",
      "        nave = 44 - aspect type = 100\n",
      "No projector specified for this dataset. Please consider the method self.add_proj.\n",
      "Loaded Evoked data is baseline-corrected (baseline: [-1.3, -1] sec)\n",
      "Identifying common channels ...\n",
      "Reading F:\\Documents\\Science\\MirRevAdaptEEG\\data\\eeg\\p008\\lrp\\p008_leftmoves_rot_rp-ave.fif ...\n"
     ]
    },
    {
     "name": "stderr",
     "output_type": "stream",
     "text": [
      "C:\\Users\\Raphael\\AppData\\Local\\Temp\\ipykernel_6636\\748442925.py:33: RuntimeWarning: Only a single dataset was passed to mne.grand_average().\n",
      "  grand_rot_left = mne.grand_average(evoked_list)\n"
     ]
    },
    {
     "name": "stdout",
     "output_type": "stream",
     "text": [
      "    Found the data of interest:\n",
      "        t =   -2000.00 ...    1995.00 ms (16140)\n",
      "        0 CTF compensation matrices available\n",
      "        nave = 46 - aspect type = 100\n",
      "No projector specified for this dataset. Please consider the method self.add_proj.\n",
      "Loaded Evoked data is baseline-corrected (baseline: [-1.3, -1] sec)\n",
      "Identifying common channels ...\n",
      "Reading F:\\Documents\\Science\\MirRevAdaptEEG\\data\\eeg\\p009\\lrp\\p009_leftmoves_rot_rp-ave.fif ...\n",
      "    Found the data of interest:\n",
      "        t =   -2000.00 ...    1995.00 ms (16140)\n",
      "        0 CTF compensation matrices available\n",
      "        nave = 45 - aspect type = 100\n",
      "No projector specified for this dataset. Please consider the method self.add_proj.\n",
      "Loaded Evoked data is baseline-corrected (baseline: [-1.3, -1] sec)\n",
      "Identifying common channels ...\n",
      "Reading F:\\Documents\\Science\\MirRevAdaptEEG\\data\\eeg\\p010\\lrp\\p010_leftmoves_rot_rp-ave.fif ...\n",
      "    Found the data of interest:\n",
      "        t =   -2000.00 ...    1995.00 ms (16140)\n",
      "        0 CTF compensation matrices available\n",
      "        nave = 45 - aspect type = 100\n",
      "No projector specified for this dataset. Please consider the method self.add_proj.\n",
      "Loaded Evoked data is baseline-corrected (baseline: [-1.3, -1] sec)\n",
      "Identifying common channels ...\n",
      "Reading F:\\Documents\\Science\\MirRevAdaptEEG\\data\\eeg\\p011\\lrp\\p011_leftmoves_rot_rp-ave.fif ...\n",
      "    Found the data of interest:\n",
      "        t =   -2000.00 ...    1995.00 ms (16140)\n",
      "        0 CTF compensation matrices available\n",
      "        nave = 45 - aspect type = 100\n",
      "No projector specified for this dataset. Please consider the method self.add_proj.\n",
      "Loaded Evoked data is baseline-corrected (baseline: [-1.3, -1] sec)\n",
      "Identifying common channels ...\n",
      "Reading F:\\Documents\\Science\\MirRevAdaptEEG\\data\\eeg\\p016\\lrp\\p016_leftmoves_rot_rp-ave.fif ...\n",
      "    Found the data of interest:\n",
      "        t =   -2000.00 ...    1995.00 ms (16140)\n",
      "        0 CTF compensation matrices available\n",
      "        nave = 44 - aspect type = 100\n",
      "No projector specified for this dataset. Please consider the method self.add_proj.\n",
      "Loaded Evoked data is baseline-corrected (baseline: [-1.3, -1] sec)\n",
      "Identifying common channels ...\n",
      "Reading F:\\Documents\\Science\\MirRevAdaptEEG\\data\\eeg\\p017\\lrp\\p017_leftmoves_rot_rp-ave.fif ...\n",
      "    Found the data of interest:\n",
      "        t =   -2000.00 ...    1995.00 ms (16140)\n",
      "        0 CTF compensation matrices available\n",
      "        nave = 44 - aspect type = 100\n",
      "No projector specified for this dataset. Please consider the method self.add_proj.\n",
      "Loaded Evoked data is baseline-corrected (baseline: [-1.3, -1] sec)\n",
      "Identifying common channels ...\n",
      "Reading F:\\Documents\\Science\\MirRevAdaptEEG\\data\\eeg\\p018\\lrp\\p018_leftmoves_rot_rp-ave.fif ...\n",
      "    Found the data of interest:\n",
      "        t =   -2000.00 ...    1995.00 ms (16140)\n",
      "        0 CTF compensation matrices available\n",
      "        nave = 45 - aspect type = 100\n",
      "No projector specified for this dataset. Please consider the method self.add_proj.\n",
      "Loaded Evoked data is baseline-corrected (baseline: [-1.3, -1] sec)\n",
      "Identifying common channels ...\n",
      "Reading F:\\Documents\\Science\\MirRevAdaptEEG\\data\\eeg\\p019\\lrp\\p019_leftmoves_rot_rp-ave.fif ...\n",
      "    Found the data of interest:\n",
      "        t =   -2000.00 ...    1995.00 ms (16140)\n",
      "        0 CTF compensation matrices available\n",
      "        nave = 45 - aspect type = 100\n",
      "No projector specified for this dataset. Please consider the method self.add_proj.\n",
      "Loaded Evoked data is baseline-corrected (baseline: [-1.3, -1] sec)\n",
      "Identifying common channels ...\n",
      "Reading F:\\Documents\\Science\\MirRevAdaptEEG\\data\\eeg\\p024\\lrp\\p024_leftmoves_rot_rp-ave.fif ...\n",
      "    Found the data of interest:\n",
      "        t =   -2000.00 ...    1995.00 ms (16140)\n",
      "        0 CTF compensation matrices available\n",
      "        nave = 45 - aspect type = 100\n",
      "No projector specified for this dataset. Please consider the method self.add_proj.\n",
      "Loaded Evoked data is baseline-corrected (baseline: [-1.3, -1] sec)\n",
      "Identifying common channels ...\n",
      "Reading F:\\Documents\\Science\\MirRevAdaptEEG\\data\\eeg\\p025\\lrp\\p025_leftmoves_rot_rp-ave.fif ...\n",
      "    Found the data of interest:\n",
      "        t =   -2000.00 ...    1995.00 ms (16140)\n",
      "        0 CTF compensation matrices available\n",
      "        nave = 45 - aspect type = 100\n",
      "No projector specified for this dataset. Please consider the method self.add_proj.\n",
      "Loaded Evoked data is baseline-corrected (baseline: [-1.3, -1] sec)\n",
      "Identifying common channels ...\n",
      "Reading F:\\Documents\\Science\\MirRevAdaptEEG\\data\\eeg\\p026\\lrp\\p026_leftmoves_rot_rp-ave.fif ...\n",
      "    Found the data of interest:\n",
      "        t =   -2000.00 ...    1995.00 ms (16140)\n",
      "        0 CTF compensation matrices available\n",
      "        nave = 45 - aspect type = 100\n",
      "No projector specified for this dataset. Please consider the method self.add_proj.\n",
      "Loaded Evoked data is baseline-corrected (baseline: [-1.3, -1] sec)\n",
      "Identifying common channels ...\n",
      "Reading F:\\Documents\\Science\\MirRevAdaptEEG\\data\\eeg\\p027\\lrp\\p027_leftmoves_rot_rp-ave.fif ...\n",
      "    Found the data of interest:\n",
      "        t =   -2000.00 ...    1995.00 ms (16140)\n",
      "        0 CTF compensation matrices available\n",
      "        nave = 45 - aspect type = 100\n",
      "No projector specified for this dataset. Please consider the method self.add_proj.\n",
      "Loaded Evoked data is baseline-corrected (baseline: [-1.3, -1] sec)\n",
      "Identifying common channels ...\n",
      "Reading F:\\Documents\\Science\\MirRevAdaptEEG\\data\\eeg\\p000\\lrp\\p000_rightmoves_rdm_rp-ave.fif ...\n",
      "    Found the data of interest:\n",
      "        t =   -2000.00 ...    1995.00 ms (16140)\n",
      "        0 CTF compensation matrices available\n",
      "        nave = 24 - aspect type = 100\n",
      "No projector specified for this dataset. Please consider the method self.add_proj.\n",
      "Loaded Evoked data is baseline-corrected (baseline: [-1.3, -1] sec)\n",
      "Identifying common channels ...\n",
      "Reading F:\\Documents\\Science\\MirRevAdaptEEG\\data\\eeg\\p001\\lrp\\p001_rightmoves_rdm_rp-ave.fif ...\n",
      "    Found the data of interest:\n",
      "        t =   -2000.00 ...    1995.00 ms (16140)\n",
      "        0 CTF compensation matrices available\n",
      "        nave = 24 - aspect type = 100\n",
      "No projector specified for this dataset. Please consider the method self.add_proj.\n",
      "Loaded Evoked data is baseline-corrected (baseline: [-1.3, -1] sec)\n",
      "Identifying common channels ...\n",
      "Reading F:\\Documents\\Science\\MirRevAdaptEEG\\data\\eeg\\p002\\lrp\\p002_rightmoves_rdm_rp-ave.fif ...\n",
      "    Found the data of interest:\n",
      "        t =   -2000.00 ...    1995.00 ms (16140)\n",
      "        0 CTF compensation matrices available\n",
      "        nave = 24 - aspect type = 100\n",
      "No projector specified for this dataset. Please consider the method self.add_proj.\n",
      "Loaded Evoked data is baseline-corrected (baseline: [-1.3, -1] sec)\n",
      "Identifying common channels ...\n",
      "Reading F:\\Documents\\Science\\MirRevAdaptEEG\\data\\eeg\\p003\\lrp\\p003_rightmoves_rdm_rp-ave.fif ...\n",
      "    Found the data of interest:\n",
      "        t =   -2000.00 ...    1995.00 ms (16140)\n",
      "        0 CTF compensation matrices available\n",
      "        nave = 24 - aspect type = 100\n",
      "No projector specified for this dataset. Please consider the method self.add_proj.\n",
      "Loaded Evoked data is baseline-corrected (baseline: [-1.3, -1] sec)\n",
      "Identifying common channels ...\n",
      "Reading F:\\Documents\\Science\\MirRevAdaptEEG\\data\\eeg\\p004\\lrp\\p004_rightmoves_rdm_rp-ave.fif ...\n",
      "    Found the data of interest:\n",
      "        t =   -2000.00 ...    1995.00 ms (16140)\n",
      "        0 CTF compensation matrices available\n",
      "        nave = 24 - aspect type = 100\n",
      "No projector specified for this dataset. Please consider the method self.add_proj.\n",
      "Loaded Evoked data is baseline-corrected (baseline: [-1.3, -1] sec)\n",
      "Identifying common channels ...\n",
      "Reading F:\\Documents\\Science\\MirRevAdaptEEG\\data\\eeg\\p005\\lrp\\p005_rightmoves_rdm_rp-ave.fif ...\n",
      "    Found the data of interest:\n",
      "        t =   -2000.00 ...    1995.00 ms (16140)\n",
      "        0 CTF compensation matrices available\n",
      "        nave = 24 - aspect type = 100\n",
      "No projector specified for this dataset. Please consider the method self.add_proj.\n",
      "Loaded Evoked data is baseline-corrected (baseline: [-1.3, -1] sec)\n",
      "Identifying common channels ...\n",
      "Reading F:\\Documents\\Science\\MirRevAdaptEEG\\data\\eeg\\p006\\lrp\\p006_rightmoves_rdm_rp-ave.fif ...\n",
      "    Found the data of interest:\n",
      "        t =   -2000.00 ...    1995.00 ms (16140)\n",
      "        0 CTF compensation matrices available\n",
      "        nave = 24 - aspect type = 100\n",
      "No projector specified for this dataset. Please consider the method self.add_proj.\n"
     ]
    },
    {
     "name": "stdout",
     "output_type": "stream",
     "text": [
      "Loaded Evoked data is baseline-corrected (baseline: [-1.3, -1] sec)\n",
      "Identifying common channels ...\n",
      "Reading F:\\Documents\\Science\\MirRevAdaptEEG\\data\\eeg\\p007\\lrp\\p007_rightmoves_rdm_rp-ave.fif ...\n",
      "    Found the data of interest:\n",
      "        t =   -2000.00 ...    1995.00 ms (16140)\n",
      "        0 CTF compensation matrices available\n",
      "        nave = 24 - aspect type = 100\n",
      "No projector specified for this dataset. Please consider the method self.add_proj.\n",
      "Loaded Evoked data is baseline-corrected (baseline: [-1.3, -1] sec)\n",
      "Identifying common channels ...\n",
      "Reading F:\\Documents\\Science\\MirRevAdaptEEG\\data\\eeg\\p008\\lrp\\p008_rightmoves_rdm_rp-ave.fif ...\n"
     ]
    },
    {
     "name": "stderr",
     "output_type": "stream",
     "text": [
      "C:\\Users\\Raphael\\AppData\\Local\\Temp\\ipykernel_6636\\748442925.py:36: RuntimeWarning: Only a single dataset was passed to mne.grand_average().\n",
      "  grand_rdm_right = mne.grand_average(evoked_list)\n"
     ]
    },
    {
     "name": "stdout",
     "output_type": "stream",
     "text": [
      "    Found the data of interest:\n",
      "        t =   -2000.00 ...    1995.00 ms (16140)\n",
      "        0 CTF compensation matrices available\n",
      "        nave = 24 - aspect type = 100\n",
      "No projector specified for this dataset. Please consider the method self.add_proj.\n",
      "Loaded Evoked data is baseline-corrected (baseline: [-1.3, -1] sec)\n",
      "Identifying common channels ...\n",
      "Reading F:\\Documents\\Science\\MirRevAdaptEEG\\data\\eeg\\p009\\lrp\\p009_rightmoves_rdm_rp-ave.fif ...\n",
      "    Found the data of interest:\n",
      "        t =   -2000.00 ...    1995.00 ms (16140)\n",
      "        0 CTF compensation matrices available\n",
      "        nave = 24 - aspect type = 100\n",
      "No projector specified for this dataset. Please consider the method self.add_proj.\n",
      "Loaded Evoked data is baseline-corrected (baseline: [-1.3, -1] sec)\n",
      "Identifying common channels ...\n",
      "Reading F:\\Documents\\Science\\MirRevAdaptEEG\\data\\eeg\\p010\\lrp\\p010_rightmoves_rdm_rp-ave.fif ...\n",
      "    Found the data of interest:\n",
      "        t =   -2000.00 ...    1995.00 ms (16140)\n",
      "        0 CTF compensation matrices available\n",
      "        nave = 24 - aspect type = 100\n",
      "No projector specified for this dataset. Please consider the method self.add_proj.\n",
      "Loaded Evoked data is baseline-corrected (baseline: [-1.3, -1] sec)\n",
      "Identifying common channels ...\n",
      "Reading F:\\Documents\\Science\\MirRevAdaptEEG\\data\\eeg\\p011\\lrp\\p011_rightmoves_rdm_rp-ave.fif ...\n",
      "    Found the data of interest:\n",
      "        t =   -2000.00 ...    1995.00 ms (16140)\n",
      "        0 CTF compensation matrices available\n",
      "        nave = 25 - aspect type = 100\n",
      "No projector specified for this dataset. Please consider the method self.add_proj.\n",
      "Loaded Evoked data is baseline-corrected (baseline: [-1.3, -1] sec)\n",
      "Identifying common channels ...\n",
      "Reading F:\\Documents\\Science\\MirRevAdaptEEG\\data\\eeg\\p012\\lrp\\p012_rightmoves_rdm_rp-ave.fif ...\n",
      "    Found the data of interest:\n",
      "        t =   -2000.00 ...    1995.00 ms (16140)\n",
      "        0 CTF compensation matrices available\n",
      "        nave = 24 - aspect type = 100\n",
      "No projector specified for this dataset. Please consider the method self.add_proj.\n",
      "Loaded Evoked data is baseline-corrected (baseline: [-1.3, -1] sec)\n",
      "Identifying common channels ...\n",
      "Reading F:\\Documents\\Science\\MirRevAdaptEEG\\data\\eeg\\p013\\lrp\\p013_rightmoves_rdm_rp-ave.fif ...\n",
      "    Found the data of interest:\n",
      "        t =   -2000.00 ...    1995.00 ms (16140)\n",
      "        0 CTF compensation matrices available\n",
      "        nave = 24 - aspect type = 100\n",
      "No projector specified for this dataset. Please consider the method self.add_proj.\n",
      "Loaded Evoked data is baseline-corrected (baseline: [-1.3, -1] sec)\n",
      "Identifying common channels ...\n",
      "Reading F:\\Documents\\Science\\MirRevAdaptEEG\\data\\eeg\\p014\\lrp\\p014_rightmoves_rdm_rp-ave.fif ...\n",
      "    Found the data of interest:\n",
      "        t =   -2000.00 ...    1995.00 ms (16140)\n",
      "        0 CTF compensation matrices available\n",
      "        nave = 24 - aspect type = 100\n",
      "No projector specified for this dataset. Please consider the method self.add_proj.\n",
      "Loaded Evoked data is baseline-corrected (baseline: [-1.3, -1] sec)\n",
      "Identifying common channels ...\n",
      "Reading F:\\Documents\\Science\\MirRevAdaptEEG\\data\\eeg\\p015\\lrp\\p015_rightmoves_rdm_rp-ave.fif ...\n",
      "    Found the data of interest:\n",
      "        t =   -2000.00 ...    1995.00 ms (16140)\n",
      "        0 CTF compensation matrices available\n",
      "        nave = 24 - aspect type = 100\n",
      "No projector specified for this dataset. Please consider the method self.add_proj.\n",
      "Loaded Evoked data is baseline-corrected (baseline: [-1.3, -1] sec)\n",
      "Identifying common channels ...\n",
      "Reading F:\\Documents\\Science\\MirRevAdaptEEG\\data\\eeg\\p016\\lrp\\p016_rightmoves_rdm_rp-ave.fif ...\n",
      "    Found the data of interest:\n",
      "        t =   -2000.00 ...    1995.00 ms (16140)\n",
      "        0 CTF compensation matrices available\n",
      "        nave = 25 - aspect type = 100\n",
      "No projector specified for this dataset. Please consider the method self.add_proj.\n",
      "Loaded Evoked data is baseline-corrected (baseline: [-1.3, -1] sec)\n",
      "Identifying common channels ...\n",
      "Reading F:\\Documents\\Science\\MirRevAdaptEEG\\data\\eeg\\p017\\lrp\\p017_rightmoves_rdm_rp-ave.fif ...\n",
      "    Found the data of interest:\n",
      "        t =   -2000.00 ...    1995.00 ms (16140)\n",
      "        0 CTF compensation matrices available\n",
      "        nave = 24 - aspect type = 100\n",
      "No projector specified for this dataset. Please consider the method self.add_proj.\n",
      "Loaded Evoked data is baseline-corrected (baseline: [-1.3, -1] sec)\n",
      "Identifying common channels ...\n",
      "Reading F:\\Documents\\Science\\MirRevAdaptEEG\\data\\eeg\\p018\\lrp\\p018_rightmoves_rdm_rp-ave.fif ...\n",
      "    Found the data of interest:\n",
      "        t =   -2000.00 ...    1995.00 ms (16140)\n",
      "        0 CTF compensation matrices available\n",
      "        nave = 24 - aspect type = 100\n",
      "No projector specified for this dataset. Please consider the method self.add_proj.\n",
      "Loaded Evoked data is baseline-corrected (baseline: [-1.3, -1] sec)\n",
      "Identifying common channels ...\n",
      "Reading F:\\Documents\\Science\\MirRevAdaptEEG\\data\\eeg\\p019\\lrp\\p019_rightmoves_rdm_rp-ave.fif ...\n",
      "    Found the data of interest:\n",
      "        t =   -2000.00 ...    1995.00 ms (16140)\n",
      "        0 CTF compensation matrices available\n",
      "        nave = 24 - aspect type = 100\n",
      "No projector specified for this dataset. Please consider the method self.add_proj.\n",
      "Loaded Evoked data is baseline-corrected (baseline: [-1.3, -1] sec)\n",
      "Identifying common channels ...\n",
      "Reading F:\\Documents\\Science\\MirRevAdaptEEG\\data\\eeg\\p020\\lrp\\p020_rightmoves_rdm_rp-ave.fif ...\n",
      "    Found the data of interest:\n",
      "        t =   -2000.00 ...    1995.00 ms (16140)\n",
      "        0 CTF compensation matrices available\n",
      "        nave = 24 - aspect type = 100\n",
      "No projector specified for this dataset. Please consider the method self.add_proj.\n",
      "Loaded Evoked data is baseline-corrected (baseline: [-1.3, -1] sec)\n",
      "Identifying common channels ...\n",
      "Reading F:\\Documents\\Science\\MirRevAdaptEEG\\data\\eeg\\p021\\lrp\\p021_rightmoves_rdm_rp-ave.fif ...\n",
      "    Found the data of interest:\n",
      "        t =   -2000.00 ...    1995.00 ms (16140)\n",
      "        0 CTF compensation matrices available\n",
      "        nave = 24 - aspect type = 100\n",
      "No projector specified for this dataset. Please consider the method self.add_proj.\n",
      "Loaded Evoked data is baseline-corrected (baseline: [-1.3, -1] sec)\n",
      "Identifying common channels ...\n",
      "Reading F:\\Documents\\Science\\MirRevAdaptEEG\\data\\eeg\\p022\\lrp\\p022_rightmoves_rdm_rp-ave.fif ...\n",
      "    Found the data of interest:\n",
      "        t =   -2000.00 ...    1995.00 ms (16140)\n",
      "        0 CTF compensation matrices available\n",
      "        nave = 24 - aspect type = 100\n",
      "No projector specified for this dataset. Please consider the method self.add_proj.\n",
      "Loaded Evoked data is baseline-corrected (baseline: [-1.3, -1] sec)\n",
      "Identifying common channels ...\n",
      "Reading F:\\Documents\\Science\\MirRevAdaptEEG\\data\\eeg\\p023\\lrp\\p023_rightmoves_rdm_rp-ave.fif ...\n",
      "    Found the data of interest:\n",
      "        t =   -2000.00 ...    1995.00 ms (16140)\n",
      "        0 CTF compensation matrices available\n",
      "        nave = 24 - aspect type = 100\n",
      "No projector specified for this dataset. Please consider the method self.add_proj.\n",
      "Loaded Evoked data is baseline-corrected (baseline: [-1.3, -1] sec)\n",
      "Identifying common channels ...\n",
      "Reading F:\\Documents\\Science\\MirRevAdaptEEG\\data\\eeg\\p024\\lrp\\p024_rightmoves_rdm_rp-ave.fif ...\n",
      "    Found the data of interest:\n",
      "        t =   -2000.00 ...    1995.00 ms (16140)\n",
      "        0 CTF compensation matrices available\n",
      "        nave = 24 - aspect type = 100\n",
      "No projector specified for this dataset. Please consider the method self.add_proj.\n",
      "Loaded Evoked data is baseline-corrected (baseline: [-1.3, -1] sec)\n",
      "Identifying common channels ...\n",
      "Reading F:\\Documents\\Science\\MirRevAdaptEEG\\data\\eeg\\p025\\lrp\\p025_rightmoves_rdm_rp-ave.fif ...\n",
      "    Found the data of interest:\n",
      "        t =   -2000.00 ...    1995.00 ms (16140)\n",
      "        0 CTF compensation matrices available\n",
      "        nave = 25 - aspect type = 100\n",
      "No projector specified for this dataset. Please consider the method self.add_proj.\n",
      "Loaded Evoked data is baseline-corrected (baseline: [-1.3, -1] sec)\n",
      "Identifying common channels ...\n",
      "Reading F:\\Documents\\Science\\MirRevAdaptEEG\\data\\eeg\\p026\\lrp\\p026_rightmoves_rdm_rp-ave.fif ...\n",
      "    Found the data of interest:\n",
      "        t =   -2000.00 ...    1995.00 ms (16140)\n",
      "        0 CTF compensation matrices available\n",
      "        nave = 24 - aspect type = 100\n",
      "No projector specified for this dataset. Please consider the method self.add_proj.\n"
     ]
    },
    {
     "name": "stdout",
     "output_type": "stream",
     "text": [
      "Loaded Evoked data is baseline-corrected (baseline: [-1.3, -1] sec)\n",
      "Identifying common channels ...\n",
      "Reading F:\\Documents\\Science\\MirRevAdaptEEG\\data\\eeg\\p027\\lrp\\p027_rightmoves_rdm_rp-ave.fif ...\n",
      "    Found the data of interest:\n",
      "        t =   -2000.00 ...    1995.00 ms (16140)\n",
      "        0 CTF compensation matrices available\n",
      "        nave = 24 - aspect type = 100\n",
      "No projector specified for this dataset. Please consider the method self.add_proj.\n",
      "Loaded Evoked data is baseline-corrected (baseline: [-1.3, -1] sec)\n",
      "Identifying common channels ...\n",
      "Reading F:\\Documents\\Science\\MirRevAdaptEEG\\data\\eeg\\p028\\lrp\\p028_rightmoves_rdm_rp-ave.fif ...\n",
      "    Found the data of interest:\n",
      "        t =   -2000.00 ...    1995.00 ms (16140)\n",
      "        0 CTF compensation matrices available\n",
      "        nave = 24 - aspect type = 100\n",
      "No projector specified for this dataset. Please consider the method self.add_proj.\n",
      "Loaded Evoked data is baseline-corrected (baseline: [-1.3, -1] sec)\n",
      "Identifying common channels ...\n",
      "Reading F:\\Documents\\Science\\MirRevAdaptEEG\\data\\eeg\\p029\\lrp\\p029_rightmoves_rdm_rp-ave.fif ...\n",
      "    Found the data of interest:\n",
      "        t =   -2000.00 ...    1995.00 ms (16140)\n",
      "        0 CTF compensation matrices available\n",
      "        nave = 24 - aspect type = 100\n",
      "No projector specified for this dataset. Please consider the method self.add_proj.\n",
      "Loaded Evoked data is baseline-corrected (baseline: [-1.3, -1] sec)\n",
      "Identifying common channels ...\n",
      "Reading F:\\Documents\\Science\\MirRevAdaptEEG\\data\\eeg\\p030\\lrp\\p030_rightmoves_rdm_rp-ave.fif ...\n",
      "    Found the data of interest:\n",
      "        t =   -2000.00 ...    1995.00 ms (16140)\n",
      "        0 CTF compensation matrices available\n",
      "        nave = 24 - aspect type = 100\n",
      "No projector specified for this dataset. Please consider the method self.add_proj.\n",
      "Loaded Evoked data is baseline-corrected (baseline: [-1.3, -1] sec)\n",
      "Identifying common channels ...\n",
      "Reading F:\\Documents\\Science\\MirRevAdaptEEG\\data\\eeg\\p031\\lrp\\p031_rightmoves_rdm_rp-ave.fif ...\n",
      "    Found the data of interest:\n",
      "        t =   -2000.00 ...    1995.00 ms (16140)\n",
      "        0 CTF compensation matrices available\n",
      "        nave = 24 - aspect type = 100\n",
      "No projector specified for this dataset. Please consider the method self.add_proj.\n",
      "Loaded Evoked data is baseline-corrected (baseline: [-1.3, -1] sec)\n",
      "Identifying common channels ...\n",
      "Reading F:\\Documents\\Science\\MirRevAdaptEEG\\data\\eeg\\p000\\lrp\\p000_leftmoves_rdm_rp-ave.fif ...\n",
      "    Found the data of interest:\n",
      "        t =   -2000.00 ...    1995.00 ms (16140)\n",
      "        0 CTF compensation matrices available\n",
      "        nave = 24 - aspect type = 100\n",
      "No projector specified for this dataset. Please consider the method self.add_proj.\n",
      "Loaded Evoked data is baseline-corrected (baseline: [-1.3, -1] sec)\n",
      "Identifying common channels ...\n",
      "Reading F:\\Documents\\Science\\MirRevAdaptEEG\\data\\eeg\\p001\\lrp\\p001_leftmoves_rdm_rp-ave.fif ...\n",
      "    Found the data of interest:\n",
      "        t =   -2000.00 ...    1995.00 ms (16140)\n",
      "        0 CTF compensation matrices available\n",
      "        nave = 24 - aspect type = 100\n",
      "No projector specified for this dataset. Please consider the method self.add_proj.\n",
      "Loaded Evoked data is baseline-corrected (baseline: [-1.3, -1] sec)\n",
      "Identifying common channels ...\n",
      "Reading F:\\Documents\\Science\\MirRevAdaptEEG\\data\\eeg\\p002\\lrp\\p002_leftmoves_rdm_rp-ave.fif ...\n",
      "    Found the data of interest:\n",
      "        t =   -2000.00 ...    1995.00 ms (16140)\n",
      "        0 CTF compensation matrices available\n",
      "        nave = 24 - aspect type = 100\n",
      "No projector specified for this dataset. Please consider the method self.add_proj.\n",
      "Loaded Evoked data is baseline-corrected (baseline: [-1.3, -1] sec)\n",
      "Identifying common channels ...\n",
      "Reading F:\\Documents\\Science\\MirRevAdaptEEG\\data\\eeg\\p003\\lrp\\p003_leftmoves_rdm_rp-ave.fif ...\n",
      "    Found the data of interest:\n",
      "        t =   -2000.00 ...    1995.00 ms (16140)\n",
      "        0 CTF compensation matrices available\n",
      "        nave = 23 - aspect type = 100\n",
      "No projector specified for this dataset. Please consider the method self.add_proj.\n",
      "Loaded Evoked data is baseline-corrected (baseline: [-1.3, -1] sec)\n",
      "Identifying common channels ...\n",
      "Reading F:\\Documents\\Science\\MirRevAdaptEEG\\data\\eeg\\p004\\lrp\\p004_leftmoves_rdm_rp-ave.fif ...\n",
      "    Found the data of interest:\n",
      "        t =   -2000.00 ...    1995.00 ms (16140)\n",
      "        0 CTF compensation matrices available\n",
      "        nave = 24 - aspect type = 100\n",
      "No projector specified for this dataset. Please consider the method self.add_proj.\n",
      "Loaded Evoked data is baseline-corrected (baseline: [-1.3, -1] sec)\n",
      "Identifying common channels ...\n",
      "Reading F:\\Documents\\Science\\MirRevAdaptEEG\\data\\eeg\\p005\\lrp\\p005_leftmoves_rdm_rp-ave.fif ...\n",
      "    Found the data of interest:\n",
      "        t =   -2000.00 ...    1995.00 ms (16140)\n",
      "        0 CTF compensation matrices available\n",
      "        nave = 24 - aspect type = 100\n",
      "No projector specified for this dataset. Please consider the method self.add_proj.\n",
      "Loaded Evoked data is baseline-corrected (baseline: [-1.3, -1] sec)\n",
      "Identifying common channels ...\n",
      "Reading F:\\Documents\\Science\\MirRevAdaptEEG\\data\\eeg\\p006\\lrp\\p006_leftmoves_rdm_rp-ave.fif ...\n",
      "    Found the data of interest:\n",
      "        t =   -2000.00 ...    1995.00 ms (16140)\n",
      "        0 CTF compensation matrices available\n",
      "        nave = 24 - aspect type = 100\n",
      "No projector specified for this dataset. Please consider the method self.add_proj.\n",
      "Loaded Evoked data is baseline-corrected (baseline: [-1.3, -1] sec)\n",
      "Identifying common channels ...\n",
      "Reading F:\\Documents\\Science\\MirRevAdaptEEG\\data\\eeg\\p007\\lrp\\p007_leftmoves_rdm_rp-ave.fif ...\n",
      "    Found the data of interest:\n",
      "        t =   -2000.00 ...    1995.00 ms (16140)\n",
      "        0 CTF compensation matrices available\n",
      "        nave = 24 - aspect type = 100\n",
      "No projector specified for this dataset. Please consider the method self.add_proj.\n",
      "Loaded Evoked data is baseline-corrected (baseline: [-1.3, -1] sec)\n"
     ]
    },
    {
     "name": "stderr",
     "output_type": "stream",
     "text": [
      "C:\\Users\\Raphael\\AppData\\Local\\Temp\\ipykernel_6636\\748442925.py:39: RuntimeWarning: Only a single dataset was passed to mne.grand_average().\n",
      "  grand_rdm_left = mne.grand_average(evoked_list)\n"
     ]
    },
    {
     "name": "stdout",
     "output_type": "stream",
     "text": [
      "Identifying common channels ...\n",
      "Reading F:\\Documents\\Science\\MirRevAdaptEEG\\data\\eeg\\p008\\lrp\\p008_leftmoves_rdm_rp-ave.fif ...\n",
      "    Found the data of interest:\n",
      "        t =   -2000.00 ...    1995.00 ms (16140)\n",
      "        0 CTF compensation matrices available\n",
      "        nave = 24 - aspect type = 100\n",
      "No projector specified for this dataset. Please consider the method self.add_proj.\n",
      "Loaded Evoked data is baseline-corrected (baseline: [-1.3, -1] sec)\n",
      "Identifying common channels ...\n",
      "Reading F:\\Documents\\Science\\MirRevAdaptEEG\\data\\eeg\\p009\\lrp\\p009_leftmoves_rdm_rp-ave.fif ...\n",
      "    Found the data of interest:\n",
      "        t =   -2000.00 ...    1995.00 ms (16140)\n",
      "        0 CTF compensation matrices available\n",
      "        nave = 24 - aspect type = 100\n",
      "No projector specified for this dataset. Please consider the method self.add_proj.\n",
      "Loaded Evoked data is baseline-corrected (baseline: [-1.3, -1] sec)\n",
      "Identifying common channels ...\n",
      "Reading F:\\Documents\\Science\\MirRevAdaptEEG\\data\\eeg\\p010\\lrp\\p010_leftmoves_rdm_rp-ave.fif ...\n",
      "    Found the data of interest:\n",
      "        t =   -2000.00 ...    1995.00 ms (16140)\n",
      "        0 CTF compensation matrices available\n",
      "        nave = 24 - aspect type = 100\n",
      "No projector specified for this dataset. Please consider the method self.add_proj.\n",
      "Loaded Evoked data is baseline-corrected (baseline: [-1.3, -1] sec)\n",
      "Identifying common channels ...\n",
      "Reading F:\\Documents\\Science\\MirRevAdaptEEG\\data\\eeg\\p011\\lrp\\p011_leftmoves_rdm_rp-ave.fif ...\n",
      "    Found the data of interest:\n",
      "        t =   -2000.00 ...    1995.00 ms (16140)\n",
      "        0 CTF compensation matrices available\n",
      "        nave = 23 - aspect type = 100\n",
      "No projector specified for this dataset. Please consider the method self.add_proj.\n",
      "Loaded Evoked data is baseline-corrected (baseline: [-1.3, -1] sec)\n",
      "Identifying common channels ...\n",
      "Reading F:\\Documents\\Science\\MirRevAdaptEEG\\data\\eeg\\p012\\lrp\\p012_leftmoves_rdm_rp-ave.fif ...\n",
      "    Found the data of interest:\n",
      "        t =   -2000.00 ...    1995.00 ms (16140)\n",
      "        0 CTF compensation matrices available\n",
      "        nave = 24 - aspect type = 100\n",
      "No projector specified for this dataset. Please consider the method self.add_proj.\n",
      "Loaded Evoked data is baseline-corrected (baseline: [-1.3, -1] sec)\n",
      "Identifying common channels ...\n",
      "Reading F:\\Documents\\Science\\MirRevAdaptEEG\\data\\eeg\\p013\\lrp\\p013_leftmoves_rdm_rp-ave.fif ...\n",
      "    Found the data of interest:\n",
      "        t =   -2000.00 ...    1995.00 ms (16140)\n",
      "        0 CTF compensation matrices available\n",
      "        nave = 24 - aspect type = 100\n",
      "No projector specified for this dataset. Please consider the method self.add_proj.\n",
      "Loaded Evoked data is baseline-corrected (baseline: [-1.3, -1] sec)\n",
      "Identifying common channels ...\n",
      "Reading F:\\Documents\\Science\\MirRevAdaptEEG\\data\\eeg\\p014\\lrp\\p014_leftmoves_rdm_rp-ave.fif ...\n",
      "    Found the data of interest:\n",
      "        t =   -2000.00 ...    1995.00 ms (16140)\n",
      "        0 CTF compensation matrices available\n",
      "        nave = 24 - aspect type = 100\n",
      "No projector specified for this dataset. Please consider the method self.add_proj.\n",
      "Loaded Evoked data is baseline-corrected (baseline: [-1.3, -1] sec)\n",
      "Identifying common channels ...\n",
      "Reading F:\\Documents\\Science\\MirRevAdaptEEG\\data\\eeg\\p015\\lrp\\p015_leftmoves_rdm_rp-ave.fif ...\n",
      "    Found the data of interest:\n",
      "        t =   -2000.00 ...    1995.00 ms (16140)\n",
      "        0 CTF compensation matrices available\n",
      "        nave = 24 - aspect type = 100\n",
      "No projector specified for this dataset. Please consider the method self.add_proj.\n",
      "Loaded Evoked data is baseline-corrected (baseline: [-1.3, -1] sec)\n",
      "Identifying common channels ...\n",
      "Reading F:\\Documents\\Science\\MirRevAdaptEEG\\data\\eeg\\p016\\lrp\\p016_leftmoves_rdm_rp-ave.fif ...\n",
      "    Found the data of interest:\n",
      "        t =   -2000.00 ...    1995.00 ms (16140)\n",
      "        0 CTF compensation matrices available\n",
      "        nave = 23 - aspect type = 100\n",
      "No projector specified for this dataset. Please consider the method self.add_proj.\n",
      "Loaded Evoked data is baseline-corrected (baseline: [-1.3, -1] sec)\n",
      "Identifying common channels ...\n",
      "Reading F:\\Documents\\Science\\MirRevAdaptEEG\\data\\eeg\\p017\\lrp\\p017_leftmoves_rdm_rp-ave.fif ...\n",
      "    Found the data of interest:\n",
      "        t =   -2000.00 ...    1995.00 ms (16140)\n",
      "        0 CTF compensation matrices available\n",
      "        nave = 24 - aspect type = 100\n",
      "No projector specified for this dataset. Please consider the method self.add_proj.\n",
      "Loaded Evoked data is baseline-corrected (baseline: [-1.3, -1] sec)\n",
      "Identifying common channels ...\n",
      "Reading F:\\Documents\\Science\\MirRevAdaptEEG\\data\\eeg\\p018\\lrp\\p018_leftmoves_rdm_rp-ave.fif ...\n",
      "    Found the data of interest:\n",
      "        t =   -2000.00 ...    1995.00 ms (16140)\n",
      "        0 CTF compensation matrices available\n",
      "        nave = 24 - aspect type = 100\n",
      "No projector specified for this dataset. Please consider the method self.add_proj.\n",
      "Loaded Evoked data is baseline-corrected (baseline: [-1.3, -1] sec)\n",
      "Identifying common channels ...\n",
      "Reading F:\\Documents\\Science\\MirRevAdaptEEG\\data\\eeg\\p019\\lrp\\p019_leftmoves_rdm_rp-ave.fif ...\n",
      "    Found the data of interest:\n",
      "        t =   -2000.00 ...    1995.00 ms (16140)\n",
      "        0 CTF compensation matrices available\n",
      "        nave = 24 - aspect type = 100\n",
      "No projector specified for this dataset. Please consider the method self.add_proj.\n",
      "Loaded Evoked data is baseline-corrected (baseline: [-1.3, -1] sec)\n",
      "Identifying common channels ...\n",
      "Reading F:\\Documents\\Science\\MirRevAdaptEEG\\data\\eeg\\p020\\lrp\\p020_leftmoves_rdm_rp-ave.fif ...\n",
      "    Found the data of interest:\n",
      "        t =   -2000.00 ...    1995.00 ms (16140)\n",
      "        0 CTF compensation matrices available\n",
      "        nave = 24 - aspect type = 100\n",
      "No projector specified for this dataset. Please consider the method self.add_proj.\n",
      "Loaded Evoked data is baseline-corrected (baseline: [-1.3, -1] sec)\n",
      "Identifying common channels ...\n",
      "Reading F:\\Documents\\Science\\MirRevAdaptEEG\\data\\eeg\\p021\\lrp\\p021_leftmoves_rdm_rp-ave.fif ...\n",
      "    Found the data of interest:\n",
      "        t =   -2000.00 ...    1995.00 ms (16140)\n",
      "        0 CTF compensation matrices available\n",
      "        nave = 24 - aspect type = 100\n",
      "No projector specified for this dataset. Please consider the method self.add_proj.\n",
      "Loaded Evoked data is baseline-corrected (baseline: [-1.3, -1] sec)\n",
      "Identifying common channels ...\n",
      "Reading F:\\Documents\\Science\\MirRevAdaptEEG\\data\\eeg\\p022\\lrp\\p022_leftmoves_rdm_rp-ave.fif ...\n",
      "    Found the data of interest:\n",
      "        t =   -2000.00 ...    1995.00 ms (16140)\n",
      "        0 CTF compensation matrices available\n",
      "        nave = 24 - aspect type = 100\n",
      "No projector specified for this dataset. Please consider the method self.add_proj.\n",
      "Loaded Evoked data is baseline-corrected (baseline: [-1.3, -1] sec)\n",
      "Identifying common channels ...\n",
      "Reading F:\\Documents\\Science\\MirRevAdaptEEG\\data\\eeg\\p023\\lrp\\p023_leftmoves_rdm_rp-ave.fif ...\n",
      "    Found the data of interest:\n",
      "        t =   -2000.00 ...    1995.00 ms (16140)\n",
      "        0 CTF compensation matrices available\n",
      "        nave = 24 - aspect type = 100\n",
      "No projector specified for this dataset. Please consider the method self.add_proj.\n",
      "Loaded Evoked data is baseline-corrected (baseline: [-1.3, -1] sec)\n",
      "Identifying common channels ...\n",
      "Reading F:\\Documents\\Science\\MirRevAdaptEEG\\data\\eeg\\p024\\lrp\\p024_leftmoves_rdm_rp-ave.fif ...\n",
      "    Found the data of interest:\n",
      "        t =   -2000.00 ...    1995.00 ms (16140)\n",
      "        0 CTF compensation matrices available\n",
      "        nave = 24 - aspect type = 100\n",
      "No projector specified for this dataset. Please consider the method self.add_proj.\n",
      "Loaded Evoked data is baseline-corrected (baseline: [-1.3, -1] sec)\n",
      "Identifying common channels ...\n",
      "Reading F:\\Documents\\Science\\MirRevAdaptEEG\\data\\eeg\\p025\\lrp\\p025_leftmoves_rdm_rp-ave.fif ...\n",
      "    Found the data of interest:\n",
      "        t =   -2000.00 ...    1995.00 ms (16140)\n",
      "        0 CTF compensation matrices available\n",
      "        nave = 23 - aspect type = 100\n",
      "No projector specified for this dataset. Please consider the method self.add_proj.\n",
      "Loaded Evoked data is baseline-corrected (baseline: [-1.3, -1] sec)\n",
      "Identifying common channels ...\n",
      "Reading F:\\Documents\\Science\\MirRevAdaptEEG\\data\\eeg\\p026\\lrp\\p026_leftmoves_rdm_rp-ave.fif ...\n",
      "    Found the data of interest:\n",
      "        t =   -2000.00 ...    1995.00 ms (16140)\n"
     ]
    },
    {
     "name": "stdout",
     "output_type": "stream",
     "text": [
      "        0 CTF compensation matrices available\n",
      "        nave = 24 - aspect type = 100\n",
      "No projector specified for this dataset. Please consider the method self.add_proj.\n",
      "Loaded Evoked data is baseline-corrected (baseline: [-1.3, -1] sec)\n",
      "Identifying common channels ...\n",
      "Reading F:\\Documents\\Science\\MirRevAdaptEEG\\data\\eeg\\p027\\lrp\\p027_leftmoves_rdm_rp-ave.fif ...\n",
      "    Found the data of interest:\n",
      "        t =   -2000.00 ...    1995.00 ms (16140)\n",
      "        0 CTF compensation matrices available\n",
      "        nave = 24 - aspect type = 100\n",
      "No projector specified for this dataset. Please consider the method self.add_proj.\n",
      "Loaded Evoked data is baseline-corrected (baseline: [-1.3, -1] sec)\n",
      "Identifying common channels ...\n",
      "Reading F:\\Documents\\Science\\MirRevAdaptEEG\\data\\eeg\\p028\\lrp\\p028_leftmoves_rdm_rp-ave.fif ...\n",
      "    Found the data of interest:\n",
      "        t =   -2000.00 ...    1995.00 ms (16140)\n",
      "        0 CTF compensation matrices available\n",
      "        nave = 24 - aspect type = 100\n",
      "No projector specified for this dataset. Please consider the method self.add_proj.\n",
      "Loaded Evoked data is baseline-corrected (baseline: [-1.3, -1] sec)\n",
      "Identifying common channels ...\n",
      "Reading F:\\Documents\\Science\\MirRevAdaptEEG\\data\\eeg\\p029\\lrp\\p029_leftmoves_rdm_rp-ave.fif ...\n",
      "    Found the data of interest:\n",
      "        t =   -2000.00 ...    1995.00 ms (16140)\n",
      "        0 CTF compensation matrices available\n",
      "        nave = 24 - aspect type = 100\n",
      "No projector specified for this dataset. Please consider the method self.add_proj.\n",
      "Loaded Evoked data is baseline-corrected (baseline: [-1.3, -1] sec)\n",
      "Identifying common channels ...\n",
      "Reading F:\\Documents\\Science\\MirRevAdaptEEG\\data\\eeg\\p030\\lrp\\p030_leftmoves_rdm_rp-ave.fif ...\n",
      "    Found the data of interest:\n",
      "        t =   -2000.00 ...    1995.00 ms (16140)\n",
      "        0 CTF compensation matrices available\n",
      "        nave = 24 - aspect type = 100\n",
      "No projector specified for this dataset. Please consider the method self.add_proj.\n",
      "Loaded Evoked data is baseline-corrected (baseline: [-1.3, -1] sec)\n",
      "Identifying common channels ...\n",
      "Reading F:\\Documents\\Science\\MirRevAdaptEEG\\data\\eeg\\p031\\lrp\\p031_leftmoves_rdm_rp-ave.fif ...\n",
      "    Found the data of interest:\n",
      "        t =   -2000.00 ...    1995.00 ms (16140)\n",
      "        0 CTF compensation matrices available\n",
      "        nave = 24 - aspect type = 100\n",
      "No projector specified for this dataset. Please consider the method self.add_proj.\n",
      "Loaded Evoked data is baseline-corrected (baseline: [-1.3, -1] sec)\n",
      "Identifying common channels ...\n",
      "Reading F:\\Documents\\Science\\MirRevAdaptEEG\\data\\eeg\\p004\\lrp\\p004_rightmoves_mir_rp-ave.fif ...\n",
      "    Found the data of interest:\n",
      "        t =   -2000.00 ...    1995.00 ms (16140)\n",
      "        0 CTF compensation matrices available\n",
      "        nave = 45 - aspect type = 100\n",
      "No projector specified for this dataset. Please consider the method self.add_proj.\n",
      "Loaded Evoked data is baseline-corrected (baseline: [-1.3, -1] sec)\n",
      "Identifying common channels ...\n",
      "Reading F:\\Documents\\Science\\MirRevAdaptEEG\\data\\eeg\\p005\\lrp\\p005_rightmoves_mir_rp-ave.fif ...\n",
      "    Found the data of interest:\n",
      "        t =   -2000.00 ...    1995.00 ms (16140)\n",
      "        0 CTF compensation matrices available\n",
      "        nave = 43 - aspect type = 100\n",
      "No projector specified for this dataset. Please consider the method self.add_proj.\n",
      "Loaded Evoked data is baseline-corrected (baseline: [-1.3, -1] sec)\n",
      "Identifying common channels ...\n",
      "Reading F:\\Documents\\Science\\MirRevAdaptEEG\\data\\eeg\\p006\\lrp\\p006_rightmoves_mir_rp-ave.fif ...\n",
      "    Found the data of interest:\n",
      "        t =   -2000.00 ...    1995.00 ms (16140)\n",
      "        0 CTF compensation matrices available\n",
      "        nave = 45 - aspect type = 100\n",
      "No projector specified for this dataset. Please consider the method self.add_proj.\n",
      "Loaded Evoked data is baseline-corrected (baseline: [-1.3, -1] sec)\n",
      "Identifying common channels ...\n",
      "Reading F:\\Documents\\Science\\MirRevAdaptEEG\\data\\eeg\\p007\\lrp\\p007_rightmoves_mir_rp-ave.fif ...\n",
      "    Found the data of interest:\n",
      "        t =   -2000.00 ...    1995.00 ms (16140)\n",
      "        0 CTF compensation matrices available\n",
      "        nave = 46 - aspect type = 100\n",
      "No projector specified for this dataset. Please consider the method self.add_proj.\n",
      "Loaded Evoked data is baseline-corrected (baseline: [-1.3, -1] sec)\n",
      "Identifying common channels ...\n",
      "Reading F:\\Documents\\Science\\MirRevAdaptEEG\\data\\eeg\\p012\\lrp\\p012_rightmoves_mir_rp-ave.fif ...\n",
      "    Found the data of interest:\n",
      "        t =   -2000.00 ...    1995.00 ms (16140)\n",
      "        0 CTF compensation matrices available\n",
      "        nave = 47 - aspect type = 100\n",
      "No projector specified for this dataset. Please consider the method self.add_proj.\n",
      "Loaded Evoked data is baseline-corrected (baseline: [-1.3, -1] sec)\n",
      "Identifying common channels ...\n",
      "Reading F:\\Documents\\Science\\MirRevAdaptEEG\\data\\eeg\\p013\\lrp\\p013_rightmoves_mir_rp-ave.fif ...\n",
      "    Found the data of interest:\n",
      "        t =   -2000.00 ...    1995.00 ms (16140)\n",
      "        0 CTF compensation matrices available\n",
      "        nave = 44 - aspect type = 100\n",
      "No projector specified for this dataset. Please consider the method self.add_proj.\n",
      "Loaded Evoked data is baseline-corrected (baseline: [-1.3, -1] sec)\n",
      "Identifying common channels ...\n",
      "Reading F:\\Documents\\Science\\MirRevAdaptEEG\\data\\eeg\\p014\\lrp\\p014_rightmoves_mir_rp-ave.fif ...\n",
      "    Found the data of interest:\n",
      "        t =   -2000.00 ...    1995.00 ms (16140)\n",
      "        0 CTF compensation matrices available\n",
      "        nave = 47 - aspect type = 100\n",
      "No projector specified for this dataset. Please consider the method self.add_proj.\n",
      "Loaded Evoked data is baseline-corrected (baseline: [-1.3, -1] sec)\n",
      "Identifying common channels ...\n",
      "Reading F:\\Documents\\Science\\MirRevAdaptEEG\\data\\eeg\\p015\\lrp\\p015_rightmoves_mir_rp-ave.fif ...\n",
      "    Found the data of interest:\n",
      "        t =   -2000.00 ...    1995.00 ms (16140)\n",
      "        0 CTF compensation matrices available\n",
      "        nave = 44 - aspect type = 100\n"
     ]
    },
    {
     "name": "stderr",
     "output_type": "stream",
     "text": [
      "C:\\Users\\Raphael\\AppData\\Local\\Temp\\ipykernel_6636\\748442925.py:42: RuntimeWarning: Only a single dataset was passed to mne.grand_average().\n",
      "  grand_mir_right = mne.grand_average(evoked_list)\n"
     ]
    },
    {
     "name": "stdout",
     "output_type": "stream",
     "text": [
      "No projector specified for this dataset. Please consider the method self.add_proj.\n",
      "Loaded Evoked data is baseline-corrected (baseline: [-1.3, -1] sec)\n",
      "Identifying common channels ...\n",
      "Reading F:\\Documents\\Science\\MirRevAdaptEEG\\data\\eeg\\p020\\lrp\\p020_rightmoves_mir_rp-ave.fif ...\n",
      "    Found the data of interest:\n",
      "        t =   -2000.00 ...    1995.00 ms (16140)\n",
      "        0 CTF compensation matrices available\n",
      "        nave = 45 - aspect type = 100\n",
      "No projector specified for this dataset. Please consider the method self.add_proj.\n",
      "Loaded Evoked data is baseline-corrected (baseline: [-1.3, -1] sec)\n",
      "Identifying common channels ...\n",
      "Reading F:\\Documents\\Science\\MirRevAdaptEEG\\data\\eeg\\p021\\lrp\\p021_rightmoves_mir_rp-ave.fif ...\n",
      "    Found the data of interest:\n",
      "        t =   -2000.00 ...    1995.00 ms (16140)\n",
      "        0 CTF compensation matrices available\n",
      "        nave = 44 - aspect type = 100\n",
      "No projector specified for this dataset. Please consider the method self.add_proj.\n",
      "Loaded Evoked data is baseline-corrected (baseline: [-1.3, -1] sec)\n",
      "Identifying common channels ...\n",
      "Reading F:\\Documents\\Science\\MirRevAdaptEEG\\data\\eeg\\p022\\lrp\\p022_rightmoves_mir_rp-ave.fif ...\n",
      "    Found the data of interest:\n",
      "        t =   -2000.00 ...    1995.00 ms (16140)\n",
      "        0 CTF compensation matrices available\n",
      "        nave = 48 - aspect type = 100\n",
      "No projector specified for this dataset. Please consider the method self.add_proj.\n",
      "Loaded Evoked data is baseline-corrected (baseline: [-1.3, -1] sec)\n",
      "Identifying common channels ...\n",
      "Reading F:\\Documents\\Science\\MirRevAdaptEEG\\data\\eeg\\p023\\lrp\\p023_rightmoves_mir_rp-ave.fif ...\n",
      "    Found the data of interest:\n",
      "        t =   -2000.00 ...    1995.00 ms (16140)\n",
      "        0 CTF compensation matrices available\n",
      "        nave = 47 - aspect type = 100\n",
      "No projector specified for this dataset. Please consider the method self.add_proj.\n",
      "Loaded Evoked data is baseline-corrected (baseline: [-1.3, -1] sec)\n",
      "Identifying common channels ...\n",
      "Reading F:\\Documents\\Science\\MirRevAdaptEEG\\data\\eeg\\p028\\lrp\\p028_rightmoves_mir_rp-ave.fif ...\n",
      "    Found the data of interest:\n",
      "        t =   -2000.00 ...    1995.00 ms (16140)\n",
      "        0 CTF compensation matrices available\n",
      "        nave = 46 - aspect type = 100\n",
      "No projector specified for this dataset. Please consider the method self.add_proj.\n",
      "Loaded Evoked data is baseline-corrected (baseline: [-1.3, -1] sec)\n",
      "Identifying common channels ...\n",
      "Reading F:\\Documents\\Science\\MirRevAdaptEEG\\data\\eeg\\p029\\lrp\\p029_rightmoves_mir_rp-ave.fif ...\n",
      "    Found the data of interest:\n",
      "        t =   -2000.00 ...    1995.00 ms (16140)\n",
      "        0 CTF compensation matrices available\n",
      "        nave = 44 - aspect type = 100\n",
      "No projector specified for this dataset. Please consider the method self.add_proj.\n",
      "Loaded Evoked data is baseline-corrected (baseline: [-1.3, -1] sec)\n",
      "Identifying common channels ...\n",
      "Reading F:\\Documents\\Science\\MirRevAdaptEEG\\data\\eeg\\p030\\lrp\\p030_rightmoves_mir_rp-ave.fif ...\n",
      "    Found the data of interest:\n",
      "        t =   -2000.00 ...    1995.00 ms (16140)\n",
      "        0 CTF compensation matrices available\n",
      "        nave = 46 - aspect type = 100\n",
      "No projector specified for this dataset. Please consider the method self.add_proj.\n",
      "Loaded Evoked data is baseline-corrected (baseline: [-1.3, -1] sec)\n",
      "Identifying common channels ...\n",
      "Reading F:\\Documents\\Science\\MirRevAdaptEEG\\data\\eeg\\p031\\lrp\\p031_rightmoves_mir_rp-ave.fif ...\n",
      "    Found the data of interest:\n",
      "        t =   -2000.00 ...    1995.00 ms (16140)\n",
      "        0 CTF compensation matrices available\n",
      "        nave = 43 - aspect type = 100\n",
      "No projector specified for this dataset. Please consider the method self.add_proj.\n",
      "Loaded Evoked data is baseline-corrected (baseline: [-1.3, -1] sec)\n",
      "Identifying common channels ...\n",
      "Reading F:\\Documents\\Science\\MirRevAdaptEEG\\data\\eeg\\p004\\lrp\\p004_leftmoves_mir_rp-ave.fif ...\n",
      "    Found the data of interest:\n",
      "        t =   -2000.00 ...    1995.00 ms (16140)\n",
      "        0 CTF compensation matrices available\n",
      "        nave = 45 - aspect type = 100\n",
      "No projector specified for this dataset. Please consider the method self.add_proj.\n",
      "Loaded Evoked data is baseline-corrected (baseline: [-1.3, -1] sec)\n",
      "Identifying common channels ...\n",
      "Reading F:\\Documents\\Science\\MirRevAdaptEEG\\data\\eeg\\p005\\lrp\\p005_leftmoves_mir_rp-ave.fif ...\n",
      "    Found the data of interest:\n",
      "        t =   -2000.00 ...    1995.00 ms (16140)\n",
      "        0 CTF compensation matrices available\n",
      "        nave = 47 - aspect type = 100\n",
      "No projector specified for this dataset. Please consider the method self.add_proj.\n",
      "Loaded Evoked data is baseline-corrected (baseline: [-1.3, -1] sec)\n",
      "Identifying common channels ...\n",
      "Reading F:\\Documents\\Science\\MirRevAdaptEEG\\data\\eeg\\p006\\lrp\\p006_leftmoves_mir_rp-ave.fif ...\n",
      "    Found the data of interest:\n",
      "        t =   -2000.00 ...    1995.00 ms (16140)\n",
      "        0 CTF compensation matrices available\n",
      "        nave = 44 - aspect type = 100\n",
      "No projector specified for this dataset. Please consider the method self.add_proj.\n",
      "Loaded Evoked data is baseline-corrected (baseline: [-1.3, -1] sec)\n",
      "Identifying common channels ...\n",
      "Reading F:\\Documents\\Science\\MirRevAdaptEEG\\data\\eeg\\p007\\lrp\\p007_leftmoves_mir_rp-ave.fif ...\n",
      "    Found the data of interest:\n",
      "        t =   -2000.00 ...    1995.00 ms (16140)\n",
      "        0 CTF compensation matrices available\n",
      "        nave = 44 - aspect type = 100\n",
      "No projector specified for this dataset. Please consider the method self.add_proj.\n",
      "Loaded Evoked data is baseline-corrected (baseline: [-1.3, -1] sec)\n",
      "Identifying common channels ...\n",
      "Reading F:\\Documents\\Science\\MirRevAdaptEEG\\data\\eeg\\p012\\lrp\\p012_leftmoves_mir_rp-ave.fif ...\n",
      "    Found the data of interest:\n",
      "        t =   -2000.00 ...    1995.00 ms (16140)\n",
      "        0 CTF compensation matrices available\n",
      "        nave = 43 - aspect type = 100\n",
      "No projector specified for this dataset. Please consider the method self.add_proj.\n",
      "Loaded Evoked data is baseline-corrected (baseline: [-1.3, -1] sec)\n",
      "Identifying common channels ...\n",
      "Reading F:\\Documents\\Science\\MirRevAdaptEEG\\data\\eeg\\p013\\lrp\\p013_leftmoves_mir_rp-ave.fif ...\n",
      "    Found the data of interest:\n",
      "        t =   -2000.00 ...    1995.00 ms (16140)\n",
      "        0 CTF compensation matrices available\n",
      "        nave = 46 - aspect type = 100\n",
      "No projector specified for this dataset. Please consider the method self.add_proj.\n",
      "Loaded Evoked data is baseline-corrected (baseline: [-1.3, -1] sec)\n",
      "Identifying common channels ...\n",
      "Reading F:\\Documents\\Science\\MirRevAdaptEEG\\data\\eeg\\p014\\lrp\\p014_leftmoves_mir_rp-ave.fif ...\n",
      "    Found the data of interest:\n",
      "        t =   -2000.00 ...    1995.00 ms (16140)\n",
      "        0 CTF compensation matrices available\n",
      "        nave = 43 - aspect type = 100\n",
      "No projector specified for this dataset. Please consider the method self.add_proj.\n",
      "Loaded Evoked data is baseline-corrected (baseline: [-1.3, -1] sec)\n",
      "Identifying common channels ...\n",
      "Reading F:\\Documents\\Science\\MirRevAdaptEEG\\data\\eeg\\p015\\lrp\\p015_leftmoves_mir_rp-ave.fif ...\n",
      "    Found the data of interest:\n",
      "        t =   -2000.00 ...    1995.00 ms (16140)\n",
      "        0 CTF compensation matrices available\n",
      "        nave = 46 - aspect type = 100\n",
      "No projector specified for this dataset. Please consider the method self.add_proj.\n",
      "Loaded Evoked data is baseline-corrected (baseline: [-1.3, -1] sec)\n",
      "Identifying common channels ...\n",
      "Reading F:\\Documents\\Science\\MirRevAdaptEEG\\data\\eeg\\p020\\lrp\\p020_leftmoves_mir_rp-ave.fif ...\n"
     ]
    },
    {
     "name": "stderr",
     "output_type": "stream",
     "text": [
      "C:\\Users\\Raphael\\AppData\\Local\\Temp\\ipykernel_6636\\748442925.py:45: RuntimeWarning: Only a single dataset was passed to mne.grand_average().\n",
      "  grand_mir_left = mne.grand_average(evoked_list)\n"
     ]
    },
    {
     "name": "stdout",
     "output_type": "stream",
     "text": [
      "    Found the data of interest:\n",
      "        t =   -2000.00 ...    1995.00 ms (16140)\n",
      "        0 CTF compensation matrices available\n",
      "        nave = 45 - aspect type = 100\n",
      "No projector specified for this dataset. Please consider the method self.add_proj.\n",
      "Loaded Evoked data is baseline-corrected (baseline: [-1.3, -1] sec)\n",
      "Identifying common channels ...\n",
      "Reading F:\\Documents\\Science\\MirRevAdaptEEG\\data\\eeg\\p021\\lrp\\p021_leftmoves_mir_rp-ave.fif ...\n",
      "    Found the data of interest:\n",
      "        t =   -2000.00 ...    1995.00 ms (16140)\n",
      "        0 CTF compensation matrices available\n",
      "        nave = 46 - aspect type = 100\n",
      "No projector specified for this dataset. Please consider the method self.add_proj.\n",
      "Loaded Evoked data is baseline-corrected (baseline: [-1.3, -1] sec)\n",
      "Identifying common channels ...\n",
      "Reading F:\\Documents\\Science\\MirRevAdaptEEG\\data\\eeg\\p022\\lrp\\p022_leftmoves_mir_rp-ave.fif ...\n",
      "    Found the data of interest:\n",
      "        t =   -2000.00 ...    1995.00 ms (16140)\n",
      "        0 CTF compensation matrices available\n",
      "        nave = 42 - aspect type = 100\n",
      "No projector specified for this dataset. Please consider the method self.add_proj.\n",
      "Loaded Evoked data is baseline-corrected (baseline: [-1.3, -1] sec)\n",
      "Identifying common channels ...\n",
      "Reading F:\\Documents\\Science\\MirRevAdaptEEG\\data\\eeg\\p023\\lrp\\p023_leftmoves_mir_rp-ave.fif ...\n",
      "    Found the data of interest:\n",
      "        t =   -2000.00 ...    1995.00 ms (16140)\n",
      "        0 CTF compensation matrices available\n",
      "        nave = 43 - aspect type = 100\n",
      "No projector specified for this dataset. Please consider the method self.add_proj.\n",
      "Loaded Evoked data is baseline-corrected (baseline: [-1.3, -1] sec)\n",
      "Identifying common channels ...\n",
      "Reading F:\\Documents\\Science\\MirRevAdaptEEG\\data\\eeg\\p028\\lrp\\p028_leftmoves_mir_rp-ave.fif ...\n",
      "    Found the data of interest:\n",
      "        t =   -2000.00 ...    1995.00 ms (16140)\n",
      "        0 CTF compensation matrices available\n",
      "        nave = 44 - aspect type = 100\n",
      "No projector specified for this dataset. Please consider the method self.add_proj.\n",
      "Loaded Evoked data is baseline-corrected (baseline: [-1.3, -1] sec)\n",
      "Identifying common channels ...\n",
      "Reading F:\\Documents\\Science\\MirRevAdaptEEG\\data\\eeg\\p029\\lrp\\p029_leftmoves_mir_rp-ave.fif ...\n",
      "    Found the data of interest:\n",
      "        t =   -2000.00 ...    1995.00 ms (16140)\n",
      "        0 CTF compensation matrices available\n",
      "        nave = 46 - aspect type = 100\n",
      "No projector specified for this dataset. Please consider the method self.add_proj.\n",
      "Loaded Evoked data is baseline-corrected (baseline: [-1.3, -1] sec)\n",
      "Identifying common channels ...\n",
      "Reading F:\\Documents\\Science\\MirRevAdaptEEG\\data\\eeg\\p030\\lrp\\p030_leftmoves_mir_rp-ave.fif ...\n",
      "    Found the data of interest:\n",
      "        t =   -2000.00 ...    1995.00 ms (16140)\n",
      "        0 CTF compensation matrices available\n",
      "        nave = 44 - aspect type = 100\n",
      "No projector specified for this dataset. Please consider the method self.add_proj.\n",
      "Loaded Evoked data is baseline-corrected (baseline: [-1.3, -1] sec)\n",
      "Identifying common channels ...\n",
      "Reading F:\\Documents\\Science\\MirRevAdaptEEG\\data\\eeg\\p031\\lrp\\p031_leftmoves_mir_rp-ave.fif ...\n",
      "    Found the data of interest:\n",
      "        t =   -2000.00 ...    1995.00 ms (16140)\n",
      "        0 CTF compensation matrices available\n",
      "        nave = 47 - aspect type = 100\n",
      "No projector specified for this dataset. Please consider the method self.add_proj.\n",
      "Loaded Evoked data is baseline-corrected (baseline: [-1.3, -1] sec)\n",
      "Identifying common channels ...\n"
     ]
    }
   ],
   "source": [
    "#get grand averages - split according to conditions\n",
    "root_directory = root\n",
    "data_directory = os.path.join(root_directory, 'data/eeg/')\n",
    "\n",
    "#read in evoked object\n",
    "conditionnames = ['rightmoves', 'leftmoves']\n",
    "tasknames = ['aln', 'rot', 'rdm', 'mir']\n",
    "\n",
    "for task in range(0, len(tasknames)):\n",
    "    for condition in range(0, len(conditionnames)):\n",
    "        flist = []\n",
    "        evoked_list = []\n",
    "        for pp in participants:\n",
    "            id_directory = os.path.join(data_directory, 'p%03d/' % participants[pp])\n",
    "            pp_directory = os.path.join(id_directory, erps)\n",
    "            fname = os.path.join(pp_directory, 'p%03d_%s_%s_rp-ave.fif' % (participants[pp], conditionnames[condition], tasknames[task]))\n",
    "            if os.path.exists(fname) == False:\n",
    "                continue\n",
    "            evoked = mne.read_evokeds(fname)\n",
    "            flist.append(evoked)\n",
    "            evoked = evoked[0]\n",
    "            evoked_list.append(evoked)\n",
    "            if task == 0 and condition == 0:\n",
    "                grand_aln_right = mne.grand_average(evoked_list)\n",
    "                right_aln_flist = evoked_list\n",
    "            elif task == 0 and condition == 1:\n",
    "                grand_aln_left = mne.grand_average(evoked_list)\n",
    "                left_aln_flist = evoked_list\n",
    "            elif task == 1 and condition == 0:\n",
    "                grand_rot_right = mne.grand_average(evoked_list)\n",
    "                right_rot_flist = evoked_list\n",
    "            elif task == 1 and condition == 1:\n",
    "                grand_rot_left = mne.grand_average(evoked_list)\n",
    "                left_rot_flist = evoked_list\n",
    "            elif task == 2 and condition == 0:\n",
    "                grand_rdm_right = mne.grand_average(evoked_list)\n",
    "                right_rdm_flist = evoked_list\n",
    "            elif task == 2 and condition == 1:\n",
    "                grand_rdm_left = mne.grand_average(evoked_list)\n",
    "                left_rdm_flist = evoked_list\n",
    "            elif task == 3 and condition == 0:\n",
    "                grand_mir_right = mne.grand_average(evoked_list)\n",
    "                right_mir_flist = evoked_list\n",
    "            elif task == 3 and condition == 1:\n",
    "                grand_mir_left = mne.grand_average(evoked_list)\n",
    "                left_mir_flist = evoked_list\n"
   ]
  },
  {
   "cell_type": "code",
   "execution_count": 11,
   "id": "a7df15fe",
   "metadata": {},
   "outputs": [],
   "source": [
    "#runs for LRP ONLY: need separate files for C3 and C4\n",
    "\n",
    "flists = ['aln_right', 'aln_left', 'rot_right', 'rot_left', 'rdm_right', 'rdm_left', 'mir_right', 'mir_left']\n",
    "channels = ['C3', 'C4']\n",
    "for channel in channels:\n",
    "    for f in flists:\n",
    "        newdf = pd.DataFrame()\n",
    "        for pp in participants:\n",
    "            if f == 'aln_right':\n",
    "                for pp in range(0, len(right_aln_flist)):\n",
    "                    df = right_aln_flist[pp].to_data_frame()\n",
    "                    time = df['time'].tolist()\n",
    "                    df = df[[channel]]\n",
    "                    ppdat = []\n",
    "                    for timept in range(0,800):\n",
    "                        subdf = df.loc[timept,:].mean()\n",
    "                        ppdat.append(subdf)\n",
    "                    newdf['pp%03d'% pp] = ppdat\n",
    "                newdf['time'] = time\n",
    "                newdf_filename = os.path.join('F:/Documents/Science/MirRevAdaptEEG/data/', 'Evoked_DF_%s_%s_%s.csv' % (f, erps, channel))\n",
    "                newdf.to_csv(newdf_filename)\n",
    "            elif f == 'aln_left':\n",
    "                for pp in range(0, len(left_aln_flist)):\n",
    "                    df = left_aln_flist[pp].to_data_frame()\n",
    "                    time = df['time'].tolist()\n",
    "                    df = df[[channel]]\n",
    "                    ppdat = []\n",
    "                    for timept in range(0,800):\n",
    "                        subdf = df.loc[timept,:].mean()\n",
    "                        ppdat.append(subdf)\n",
    "                    newdf['pp%03d'% pp] = ppdat\n",
    "                newdf['time'] = time\n",
    "                newdf_filename = os.path.join('F:/Documents/Science/MirRevAdaptEEG/data/', 'Evoked_DF_%s_%s_%s.csv' % (f, erps, channel))\n",
    "                newdf.to_csv(newdf_filename)\n",
    "            elif f == 'rot_right':\n",
    "                for pp in range(0, len(right_rot_flist)):\n",
    "                    df = right_rot_flist[pp].to_data_frame()\n",
    "                    time = df['time'].tolist()\n",
    "                    df = df[[channel]]\n",
    "                    ppdat = []\n",
    "                    for timept in range(0,800):\n",
    "                        subdf = df.loc[timept,:].mean()\n",
    "                        ppdat.append(subdf)\n",
    "                    newdf['pp%03d'% pp] = ppdat\n",
    "                newdf['time'] = time\n",
    "                newdf_filename = os.path.join('F:/Documents/Science/MirRevAdaptEEG/data/', 'Evoked_DF_%s_%s_%s.csv' % (f, erps, channel))\n",
    "                newdf.to_csv(newdf_filename)\n",
    "            elif f == 'rot_left':\n",
    "                for pp in range(0, len(left_rot_flist)):\n",
    "                    df = left_rot_flist[pp].to_data_frame()\n",
    "                    time = df['time'].tolist()\n",
    "                    df = df[[channel]]\n",
    "                    ppdat = []\n",
    "                    for timept in range(0,800):\n",
    "                        subdf = df.loc[timept,:].mean()\n",
    "                        ppdat.append(subdf)\n",
    "                    newdf['pp%03d'% pp] = ppdat\n",
    "                newdf['time'] = time\n",
    "                newdf_filename = os.path.join('F:/Documents/Science/MirRevAdaptEEG/data/', 'Evoked_DF_%s_%s_%s.csv' % (f, erps, channel))\n",
    "                newdf.to_csv(newdf_filename)\n",
    "            elif f == 'rdm_right':\n",
    "                for pp in range(0, len(right_rdm_flist)):\n",
    "                    df = right_rdm_flist[pp].to_data_frame()\n",
    "                    time = df['time'].tolist()\n",
    "                    df = df[[channel]]\n",
    "                    ppdat = []\n",
    "                    for timept in range(0,800):\n",
    "                        subdf = df.loc[timept,:].mean()\n",
    "                        ppdat.append(subdf)\n",
    "                    newdf['pp%03d'% pp] = ppdat\n",
    "                newdf['time'] = time\n",
    "                newdf_filename = os.path.join('F:/Documents/Science/MirRevAdaptEEG/data/', 'Evoked_DF_%s_%s_%s.csv' % (f, erps, channel))\n",
    "                newdf.to_csv(newdf_filename)\n",
    "            elif f == 'rdm_left':\n",
    "                for pp in range(0, len(left_rdm_flist)):\n",
    "                    df = left_rdm_flist[pp].to_data_frame()\n",
    "                    time = df['time'].tolist()\n",
    "                    df = df[[channel]]\n",
    "                    ppdat = []\n",
    "                    for timept in range(0,800):\n",
    "                        subdf = df.loc[timept,:].mean()\n",
    "                        ppdat.append(subdf)\n",
    "                    newdf['pp%03d'% pp] = ppdat\n",
    "                newdf['time'] = time\n",
    "                newdf_filename = os.path.join('F:/Documents/Science/MirRevAdaptEEG/data/', 'Evoked_DF_%s_%s_%s.csv' % (f, erps, channel))\n",
    "                newdf.to_csv(newdf_filename)\n",
    "            elif f == 'mir_right':\n",
    "                for pp in range(0, len(right_mir_flist)):\n",
    "                    df = right_mir_flist[pp].to_data_frame()\n",
    "                    time = df['time'].tolist()\n",
    "                    df = df[[channel]]\n",
    "                    ppdat = []\n",
    "                    for timept in range(0,800):\n",
    "                        subdf = df.loc[timept,:].mean()\n",
    "                        ppdat.append(subdf)\n",
    "                    newdf['pp%03d'% pp] = ppdat\n",
    "                newdf['time'] = time\n",
    "                newdf_filename = os.path.join('F:/Documents/Science/MirRevAdaptEEG/data/', 'Evoked_DF_%s_%s_%s.csv' % (f, erps, channel))\n",
    "                newdf.to_csv(newdf_filename)\n",
    "            elif f == 'mir_left':\n",
    "                for pp in range(0, len(left_mir_flist)):\n",
    "                    df = left_mir_flist[pp].to_data_frame()\n",
    "                    time = df['time'].tolist()\n",
    "                    df = df[[channel]]\n",
    "                    ppdat = []\n",
    "                    for timept in range(0,800):\n",
    "                        subdf = df.loc[timept,:].mean()\n",
    "                        ppdat.append(subdf)\n",
    "                    newdf['pp%03d'% pp] = ppdat\n",
    "                newdf['time'] = time\n",
    "                newdf_filename = os.path.join('F:/Documents/Science/MirRevAdaptEEG/data/', 'Evoked_DF_%s_%s_%s.csv' % (f, erps, channel))\n",
    "                newdf.to_csv(newdf_filename)\n",
    "             "
   ]
  },
  {
   "cell_type": "code",
   "execution_count": 12,
   "id": "53cf2efd",
   "metadata": {},
   "outputs": [
    {
     "name": "stderr",
     "output_type": "stream",
     "text": [
      "C:\\Users\\Raphael\\AppData\\Local\\Temp\\ipykernel_6636\\1360401528.py:14: RuntimeWarning: Only 1 channel in \"picks\"; cannot combine by method \"mean\".\n",
      "  mne.viz.plot_compare_evokeds(evokeds, picks=channels, combine = 'mean', legend = 'lower right', ylim=dict(eeg=[-15, 5]), ci=True)\n"
     ]
    },
    {
     "name": "stdout",
     "output_type": "stream",
     "text": [
      "combining channels using \"mean\"\n",
      "combining channels using \"mean\"\n",
      "combining channels using \"mean\"\n",
      "combining channels using \"mean\"\n",
      "combining channels using \"mean\"\n",
      "combining channels using \"mean\"\n",
      "combining channels using \"mean\"\n",
      "combining channels using \"mean\"\n"
     ]
    },
    {
     "data": {
      "text/plain": [
       "[<Figure size 800x600 with 2 Axes>]"
      ]
     },
     "execution_count": 12,
     "metadata": {},
     "output_type": "execute_result"
    }
   ],
   "source": [
    "# Difference waves between aligned and perturbed conditions for C3\n",
    "#channels = ['C3']\n",
    "channels = ['C4']\n",
    "# channels = ['Oz','O1','O2']\n",
    "evokeds = dict(aln_right = right_aln_flist, \n",
    "               aln_left = left_aln_flist,\n",
    "               rot_right = right_rot_flist,\n",
    "               rot_left = left_rot_flist,\n",
    "               rdm_right = right_rdm_flist,\n",
    "               rdm_left = left_rdm_flist,\n",
    "               mir_right = right_mir_flist,\n",
    "               mir_left = left_mir_flist)\n",
    "#plot\n",
    "mne.viz.plot_compare_evokeds(evokeds, picks=channels, combine = 'mean', legend = 'lower right', ylim=dict(eeg=[-15, 5]), ci=True)"
   ]
  }
 ],
 "metadata": {
  "kernelspec": {
   "display_name": "Python [conda env:mne]",
   "language": "python",
   "name": "conda-env-mne-py"
  },
  "language_info": {
   "codemirror_mode": {
    "name": "ipython",
    "version": 3
   },
   "file_extension": ".py",
   "mimetype": "text/x-python",
   "name": "python",
   "nbconvert_exporter": "python",
   "pygments_lexer": "ipython3",
   "version": "3.10.6"
  }
 },
 "nbformat": 4,
 "nbformat_minor": 5
}
