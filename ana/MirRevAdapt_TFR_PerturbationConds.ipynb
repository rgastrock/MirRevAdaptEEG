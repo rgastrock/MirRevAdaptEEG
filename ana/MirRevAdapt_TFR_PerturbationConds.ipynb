{
 "cells": [
  {
   "cell_type": "code",
   "execution_count": 1,
   "id": "e7c7413a",
   "metadata": {},
   "outputs": [],
   "source": [
    "#clear all\n",
    "%reset -f\n",
    "\n",
    "#import packages\n",
    "import numpy as np\n",
    "import sys\n",
    "import os\n",
    "import pandas as pd\n",
    "import mne\n",
    "import matplotlib\n",
    "import h5py\n",
    "from sklearn.utils import resample\n",
    "from mne_icalabel import label_components\n",
    "\n",
    "root = 'F:/Documents/Science/MirRevAdaptEEG'\n",
    "participants = list(range(0,32))\n",
    "#specify which erp we are analyzing\n",
    "erps = 'frn'\n",
    "\n",
    "#pop up plots as separate window & interactive\n",
    "%matplotlib qt\n",
    "matplotlib.pyplot.close('all')"
   ]
  },
  {
   "cell_type": "code",
   "execution_count": 2,
   "id": "88f42a36",
   "metadata": {},
   "outputs": [],
   "source": [
    "#setting up path/ directory\n",
    "#access specific file for specific participant\n",
    "def load_epochs(pp_num, root_dir, erp_path):\n",
    "\n",
    "    root_directory = root_dir\n",
    "    data_directory = os.path.join(root_directory, 'data/eeg/')\n",
    "    id_directory = os.path.join(data_directory, 'p%03d/' % pp_num)\n",
    "    pp_directory = os.path.join(id_directory, erp_path)\n",
    "    filename = os.path.join(pp_directory, 'mra_p%03d_run0-epo.fif' % pp_num)\n",
    "\n",
    "    epochs = mne.read_epochs(filename)\n",
    "\n",
    "    return epochs, pp_directory"
   ]
  },
  {
   "cell_type": "code",
   "execution_count": 3,
   "id": "3108043f",
   "metadata": {},
   "outputs": [],
   "source": [
    "#get index of trials from behavioral data\n",
    "#rdm before rot and rdm before mir are read in as two different behavioral data\n",
    "def epoch_index(task, pp):\n",
    "    if task == 'rot':\n",
    "        df = pd.read_csv(r'F:\\Documents\\Science\\MirRevAdaptEEG\\data\\ROT_learningcurve_degrees.csv')\n",
    "    elif task == 'rdmrot':\n",
    "        df = pd.read_csv(r'F:\\Documents\\Science\\MirRevAdaptEEG\\data\\RDMROT_learningcurve_degrees.csv')\n",
    "    elif task == 'rdmmir':\n",
    "        df = pd.read_csv(r'F:\\Documents\\Science\\MirRevAdaptEEG\\data\\RDMMIR_learningcurve_degrees.csv')\n",
    "    elif task == 'aln':\n",
    "        df = pd.read_csv(r'F:\\Documents\\Science\\MirRevAdaptEEG\\data\\ALIGNED_learningcurve_degrees.csv')\n",
    "    elif task == 'mir':\n",
    "        df = pd.read_csv(r'F:\\Documents\\Science\\MirRevAdaptEEG\\data\\MIR_learningcurve_degrees_ALL.csv')\n",
    "   \n",
    "    ppdata = list(df.iloc[:,pp+1])\n",
    "    \n",
    "    index = [i for i,v in enumerate(ppdata)]\n",
    "    \n",
    "    #epochs_out = epochs[index]\n",
    "    numtrials = len(index)\n",
    "    \n",
    "    #return epochs_out, numtrials\n",
    "    return index, numtrials"
   ]
  },
  {
   "cell_type": "code",
   "execution_count": 4,
   "id": "47c0c8cd",
   "metadata": {},
   "outputs": [],
   "source": [
    "#separate function to get indexed epochs for random, since we have them before rotation or mirror\n",
    "def trial_list_rdm(task, pp, index):\n",
    "    df = pd.read_csv(r'F:\\Documents\\Science\\MirRevAdaptEEG\\data\\eeg\\p%03d\\%s\\mra_p%03d_tasktrigindex.csv' % (pp, erps, pp))\n",
    "    \n",
    "    #even pp numbers would experience rotation first (need random before this)\n",
    "    #need to also take into account missing triggers from previous tasks\n",
    "    if pp % 2 == 0:\n",
    "        if task == 'rdmrot':\n",
    "            #get trial after first task (trial 48 to 95, 234 to 281)\n",
    "            tasksdf = df[0:96]\n",
    "            subtasksdf = tasksdf.loc[tasksdf['tasktrig'] == 16150]\n",
    "            triallist = []\n",
    "            for i in index:\n",
    "                ndat = subtasksdf.loc[subtasksdf['trialno'] == i]\n",
    "                nint = int(ndat['trigidx'])\n",
    "                if nint == 1:\n",
    "                    trial = int(ndat['ctrial'])\n",
    "                    triallist.append(trial)\n",
    "                    \n",
    "        elif task == 'rdmmir':\n",
    "            #get trial after first task (trial 48 to 95)\n",
    "            tasksdf = df[0:282]\n",
    "            subtasksdf = tasksdf.loc[tasksdf['tasktrig'] == 16153]\n",
    "            triallist = []\n",
    "            for i in index:\n",
    "                ndat = subtasksdf.loc[subtasksdf['trialno'] == i]\n",
    "                nint = int(ndat['trigidx'])\n",
    "                if nint == 1:\n",
    "                    trial = int(ndat['ctrial'])\n",
    "                    triallist.append(trial)\n",
    "            \n",
    "    elif pp % 2 == 1:   \n",
    "        if task == 'rdmrot':\n",
    "            #get trial after first five tasks (trial 234 to 281)\n",
    "            tasksdf = df[0:282]\n",
    "            subtasksdf = tasksdf.loc[tasksdf['tasktrig'] == 16153]\n",
    "            triallist = []\n",
    "            for i in index:\n",
    "                ndat = subtasksdf.loc[subtasksdf['trialno'] == i]\n",
    "                nint = int(ndat['trigidx'])\n",
    "                if nint == 1:\n",
    "                    trial = int(ndat['ctrial'])\n",
    "                    triallist.append(trial)\n",
    "            \n",
    "        elif task == 'rdmmir':\n",
    "            #get trial after first task (trial 48 to 95)\n",
    "            tasksdf = df[0:96]\n",
    "            subtasksdf = tasksdf.loc[tasksdf['tasktrig'] == 16150]\n",
    "            triallist = []\n",
    "            for i in index:\n",
    "                ndat = subtasksdf.loc[subtasksdf['trialno'] == i]\n",
    "                nint = int(ndat['trigidx'])\n",
    "                if nint == 1:\n",
    "                    trial = int(ndat['ctrial'])\n",
    "                    triallist.append(trial)\n",
    "\n",
    "    \n",
    "    return(triallist)\n",
    "    "
   ]
  },
  {
   "cell_type": "code",
   "execution_count": 5,
   "id": "a0c356fb",
   "metadata": {},
   "outputs": [],
   "source": [
    "#get matching trials from eeg data, where we account for missing triggers\n",
    "def epoch_trials(task, pp, epochs, index):\n",
    "\n",
    "    df = pd.read_csv(r'F:\\Documents\\Science\\MirRevAdaptEEG\\data\\eeg\\p%03d\\%s\\mra_p%03d_tasktrigindex.csv' % (pp, erps, pp))\n",
    "    \n",
    "    if task == 'aln':\n",
    "        #get trial numbers where tasktrig is 16149 and trigidx is 1\n",
    "        tasksdf = df[0:48]\n",
    "        subtasksdf = tasksdf.loc[tasksdf['tasktrig'] == 16149]\n",
    "        triallist = []\n",
    "        for i in index:\n",
    "            ndat = subtasksdf.loc[subtasksdf['trialno'] == i]\n",
    "            nint = int(ndat['trigidx'])\n",
    "            if nint == 1:\n",
    "                trial = int(ndat['ctrial'])\n",
    "                triallist.append(trial)\n",
    "\n",
    "        epochs = epochs[triallist]\n",
    "    \n",
    "    #for the other tasks, the order depends on their pp number\n",
    "    #even pp numbers would experience rotation first (need random before this)\n",
    "    #need to also take into account missing triggers from previous tasks\n",
    "    if pp % 2 == 0:\n",
    "        if task == 'rot':\n",
    "            #rot trials are after first two tasks (trial 96 to 185)\n",
    "            tasksdf = df[0:186]\n",
    "            subtasksdf = tasksdf.loc[tasksdf['tasktrig'] == 16151]\n",
    "            triallist = []\n",
    "            for i in index:\n",
    "                ndat = subtasksdf.loc[subtasksdf['trialno'] == i]\n",
    "                nint = int(ndat['trigidx'])\n",
    "                if nint == 1:\n",
    "                    trial = int(ndat['ctrial'])\n",
    "                    triallist.append(trial)\n",
    "\n",
    "            epochs = epochs[triallist]\n",
    "            \n",
    "        elif task == 'mir':\n",
    "            #get trial after first task (trial 282 to 371)\n",
    "            tasksdf = df[0:372]\n",
    "            subtasksdf = tasksdf.loc[tasksdf['tasktrig'] == 16154]\n",
    "            triallist = []\n",
    "            for i in index:\n",
    "                ndat = subtasksdf.loc[subtasksdf['trialno'] == i]\n",
    "                nint = int(ndat['trigidx'])\n",
    "                if nint == 1:\n",
    "                    trial = int(ndat['ctrial'])\n",
    "                    triallist.append(trial)\n",
    "\n",
    "            epochs = epochs[triallist]\n",
    "            \n",
    "    elif pp % 2 == 1:\n",
    "        if task == 'rot':\n",
    "            #get trial after first five tasks (trial 282 to 371)\n",
    "            tasksdf = df[0:372]\n",
    "            subtasksdf = tasksdf.loc[tasksdf['tasktrig'] == 16151]\n",
    "            triallist = []\n",
    "            for i in index:\n",
    "                ndat = subtasksdf.loc[subtasksdf['trialno'] == i]\n",
    "                nint = int(ndat['trigidx'])\n",
    "                if nint == 1:\n",
    "                    trial = int(ndat['ctrial'])\n",
    "                    triallist.append(trial)\n",
    "\n",
    "            epochs = epochs[triallist]\n",
    "            \n",
    "        elif task == 'mir':\n",
    "            #get trial after first five tasks (trial 96 to 185)\n",
    "            tasksdf = df[0:186]\n",
    "            subtasksdf = tasksdf.loc[tasksdf['tasktrig'] == 16154]\n",
    "            triallist = []\n",
    "            for i in index:\n",
    "                ndat = subtasksdf.loc[subtasksdf['trialno'] == i]\n",
    "                nint = int(ndat['trigidx'])\n",
    "                if nint == 1:\n",
    "                    trial = int(ndat['ctrial'])\n",
    "                    triallist.append(trial)\n",
    "\n",
    "            epochs = epochs[triallist]\n",
    "    \n",
    "    return(epochs)"
   ]
  },
  {
   "cell_type": "code",
   "execution_count": 6,
   "id": "a9b97644",
   "metadata": {},
   "outputs": [],
   "source": [
    "#save epochs\n",
    "def output_condition_epochs(pp_num, data, ppdir, task):\n",
    "    # Save the cleaned data :)\n",
    "    out_fname = os.path.join(ppdir, 'p%03d_%s_tfr-epo.fif' % (pp_num, task))\n",
    "    data.save(out_fname, overwrite = True)"
   ]
  },
  {
   "cell_type": "code",
   "execution_count": 7,
   "id": "43dfaf74",
   "metadata": {},
   "outputs": [
    {
     "name": "stdout",
     "output_type": "stream",
     "text": [
      "Reading F:\\Documents\\Science\\MirRevAdaptEEG\\data\\eeg\\p000\\frn\\mra_p000_run0-epo.fif ...\n",
      "    Found the data of interest:\n",
      "        t =   -1500.00 ...    1495.00 ms\n",
      "        0 CTF compensation matrices available\n",
      "Not setting metadata\n",
      "420 matching events found\n",
      "No baseline correction applied\n",
      "0 projection items activated\n",
      "Reading F:\\Documents\\Science\\MirRevAdaptEEG\\data\\eeg\\p001\\frn\\mra_p001_run0-epo.fif ...\n",
      "    Found the data of interest:\n",
      "        t =   -1500.00 ...    1495.00 ms\n",
      "        0 CTF compensation matrices available\n",
      "Not setting metadata\n",
      "420 matching events found\n",
      "No baseline correction applied\n",
      "0 projection items activated\n",
      "Reading F:\\Documents\\Science\\MirRevAdaptEEG\\data\\eeg\\p002\\frn\\mra_p002_run0-epo.fif ...\n",
      "    Found the data of interest:\n",
      "        t =   -1500.00 ...    1495.00 ms\n",
      "        0 CTF compensation matrices available\n",
      "Not setting metadata\n",
      "420 matching events found\n",
      "No baseline correction applied\n",
      "0 projection items activated\n",
      "Reading F:\\Documents\\Science\\MirRevAdaptEEG\\data\\eeg\\p003\\frn\\mra_p003_run0-epo.fif ...\n",
      "    Found the data of interest:\n",
      "        t =   -1500.00 ...    1495.00 ms\n",
      "        0 CTF compensation matrices available\n",
      "Not setting metadata\n",
      "420 matching events found\n",
      "No baseline correction applied\n",
      "0 projection items activated\n",
      "Reading F:\\Documents\\Science\\MirRevAdaptEEG\\data\\eeg\\p004\\frn\\mra_p004_run0-epo.fif ...\n",
      "    Found the data of interest:\n",
      "        t =   -1500.00 ...    1495.00 ms\n",
      "        0 CTF compensation matrices available\n",
      "Not setting metadata\n",
      "420 matching events found\n",
      "No baseline correction applied\n",
      "0 projection items activated\n",
      "Reading F:\\Documents\\Science\\MirRevAdaptEEG\\data\\eeg\\p005\\frn\\mra_p005_run0-epo.fif ...\n",
      "    Found the data of interest:\n",
      "        t =   -1500.00 ...    1495.00 ms\n",
      "        0 CTF compensation matrices available\n",
      "Not setting metadata\n",
      "420 matching events found\n",
      "No baseline correction applied\n",
      "0 projection items activated\n",
      "Reading F:\\Documents\\Science\\MirRevAdaptEEG\\data\\eeg\\p006\\frn\\mra_p006_run0-epo.fif ...\n",
      "    Found the data of interest:\n",
      "        t =   -1500.00 ...    1495.00 ms\n",
      "        0 CTF compensation matrices available\n",
      "Not setting metadata\n",
      "420 matching events found\n",
      "No baseline correction applied\n",
      "0 projection items activated\n",
      "Reading F:\\Documents\\Science\\MirRevAdaptEEG\\data\\eeg\\p007\\frn\\mra_p007_run0-epo.fif ...\n",
      "    Found the data of interest:\n",
      "        t =   -1500.00 ...    1495.00 ms\n",
      "        0 CTF compensation matrices available\n",
      "Not setting metadata\n",
      "420 matching events found\n",
      "No baseline correction applied\n",
      "0 projection items activated\n",
      "Reading F:\\Documents\\Science\\MirRevAdaptEEG\\data\\eeg\\p008\\frn\\mra_p008_run0-epo.fif ...\n",
      "    Found the data of interest:\n",
      "        t =   -1500.00 ...    1495.00 ms\n",
      "        0 CTF compensation matrices available\n",
      "Not setting metadata\n",
      "420 matching events found\n",
      "No baseline correction applied\n",
      "0 projection items activated\n",
      "Reading F:\\Documents\\Science\\MirRevAdaptEEG\\data\\eeg\\p009\\frn\\mra_p009_run0-epo.fif ...\n",
      "    Found the data of interest:\n",
      "        t =   -1500.00 ...    1495.00 ms\n",
      "        0 CTF compensation matrices available\n",
      "Not setting metadata\n",
      "420 matching events found\n",
      "No baseline correction applied\n",
      "0 projection items activated\n",
      "Reading F:\\Documents\\Science\\MirRevAdaptEEG\\data\\eeg\\p010\\frn\\mra_p010_run0-epo.fif ...\n",
      "    Found the data of interest:\n",
      "        t =   -1500.00 ...    1495.00 ms\n",
      "        0 CTF compensation matrices available\n",
      "Not setting metadata\n",
      "420 matching events found\n",
      "No baseline correction applied\n",
      "0 projection items activated\n",
      "Reading F:\\Documents\\Science\\MirRevAdaptEEG\\data\\eeg\\p011\\frn\\mra_p011_run0-epo.fif ...\n",
      "    Found the data of interest:\n",
      "        t =   -1500.00 ...    1495.00 ms\n",
      "        0 CTF compensation matrices available\n",
      "Not setting metadata\n",
      "420 matching events found\n",
      "No baseline correction applied\n",
      "0 projection items activated\n",
      "Reading F:\\Documents\\Science\\MirRevAdaptEEG\\data\\eeg\\p012\\frn\\mra_p012_run0-epo.fif ...\n",
      "    Found the data of interest:\n",
      "        t =   -1500.00 ...    1495.00 ms\n",
      "        0 CTF compensation matrices available\n",
      "Not setting metadata\n",
      "417 matching events found\n",
      "No baseline correction applied\n",
      "0 projection items activated\n",
      "Reading F:\\Documents\\Science\\MirRevAdaptEEG\\data\\eeg\\p013\\frn\\mra_p013_run0-epo.fif ...\n",
      "    Found the data of interest:\n",
      "        t =   -1500.00 ...    1495.00 ms\n",
      "        0 CTF compensation matrices available\n",
      "Not setting metadata\n",
      "420 matching events found\n",
      "No baseline correction applied\n",
      "0 projection items activated\n",
      "Reading F:\\Documents\\Science\\MirRevAdaptEEG\\data\\eeg\\p014\\frn\\mra_p014_run0-epo.fif ...\n",
      "    Found the data of interest:\n",
      "        t =   -1500.00 ...    1495.00 ms\n",
      "        0 CTF compensation matrices available\n",
      "Not setting metadata\n",
      "420 matching events found\n",
      "No baseline correction applied\n",
      "0 projection items activated\n",
      "Reading F:\\Documents\\Science\\MirRevAdaptEEG\\data\\eeg\\p015\\frn\\mra_p015_run0-epo.fif ...\n",
      "    Found the data of interest:\n",
      "        t =   -1500.00 ...    1495.00 ms\n",
      "        0 CTF compensation matrices available\n",
      "Not setting metadata\n",
      "420 matching events found\n",
      "No baseline correction applied\n",
      "0 projection items activated\n",
      "Reading F:\\Documents\\Science\\MirRevAdaptEEG\\data\\eeg\\p016\\frn\\mra_p016_run0-epo.fif ...\n",
      "    Found the data of interest:\n",
      "        t =   -1500.00 ...    1495.00 ms\n",
      "        0 CTF compensation matrices available\n",
      "Not setting metadata\n",
      "420 matching events found\n",
      "No baseline correction applied\n",
      "0 projection items activated\n",
      "Reading F:\\Documents\\Science\\MirRevAdaptEEG\\data\\eeg\\p017\\frn\\mra_p017_run0-epo.fif ...\n",
      "    Found the data of interest:\n",
      "        t =   -1500.00 ...    1495.00 ms\n",
      "        0 CTF compensation matrices available\n",
      "Not setting metadata\n",
      "420 matching events found\n",
      "No baseline correction applied\n",
      "0 projection items activated\n",
      "Reading F:\\Documents\\Science\\MirRevAdaptEEG\\data\\eeg\\p018\\frn\\mra_p018_run0-epo.fif ...\n",
      "    Found the data of interest:\n",
      "        t =   -1500.00 ...    1495.00 ms\n",
      "        0 CTF compensation matrices available\n",
      "Not setting metadata\n",
      "420 matching events found\n",
      "No baseline correction applied\n",
      "0 projection items activated\n",
      "Reading F:\\Documents\\Science\\MirRevAdaptEEG\\data\\eeg\\p019\\frn\\mra_p019_run0-epo.fif ...\n",
      "    Found the data of interest:\n",
      "        t =   -1500.00 ...    1495.00 ms\n",
      "        0 CTF compensation matrices available\n",
      "Not setting metadata\n",
      "420 matching events found\n",
      "No baseline correction applied\n",
      "0 projection items activated\n",
      "Reading F:\\Documents\\Science\\MirRevAdaptEEG\\data\\eeg\\p020\\frn\\mra_p020_run0-epo.fif ...\n",
      "    Found the data of interest:\n",
      "        t =   -1500.00 ...    1495.00 ms\n",
      "        0 CTF compensation matrices available\n",
      "Not setting metadata\n",
      "420 matching events found\n",
      "No baseline correction applied\n",
      "0 projection items activated\n",
      "Reading F:\\Documents\\Science\\MirRevAdaptEEG\\data\\eeg\\p021\\frn\\mra_p021_run0-epo.fif ...\n",
      "    Found the data of interest:\n",
      "        t =   -1500.00 ...    1495.00 ms\n",
      "        0 CTF compensation matrices available\n",
      "Not setting metadata\n",
      "420 matching events found\n",
      "No baseline correction applied\n",
      "0 projection items activated\n",
      "Reading F:\\Documents\\Science\\MirRevAdaptEEG\\data\\eeg\\p022\\frn\\mra_p022_run0-epo.fif ...\n",
      "    Found the data of interest:\n",
      "        t =   -1500.00 ...    1495.00 ms\n",
      "        0 CTF compensation matrices available\n",
      "Not setting metadata\n",
      "420 matching events found\n",
      "No baseline correction applied\n",
      "0 projection items activated\n",
      "Reading F:\\Documents\\Science\\MirRevAdaptEEG\\data\\eeg\\p023\\frn\\mra_p023_run0-epo.fif ...\n",
      "    Found the data of interest:\n",
      "        t =   -1500.00 ...    1495.00 ms\n",
      "        0 CTF compensation matrices available\n",
      "Not setting metadata\n",
      "420 matching events found\n",
      "No baseline correction applied\n",
      "0 projection items activated\n",
      "Reading F:\\Documents\\Science\\MirRevAdaptEEG\\data\\eeg\\p024\\frn\\mra_p024_run0-epo.fif ...\n",
      "    Found the data of interest:\n",
      "        t =   -1500.00 ...    1495.00 ms\n",
      "        0 CTF compensation matrices available\n",
      "Not setting metadata\n",
      "420 matching events found\n",
      "No baseline correction applied\n",
      "0 projection items activated\n",
      "Reading F:\\Documents\\Science\\MirRevAdaptEEG\\data\\eeg\\p025\\frn\\mra_p025_run0-epo.fif ...\n",
      "    Found the data of interest:\n",
      "        t =   -1500.00 ...    1495.00 ms\n",
      "        0 CTF compensation matrices available\n",
      "Not setting metadata\n",
      "420 matching events found\n",
      "No baseline correction applied\n",
      "0 projection items activated\n",
      "Reading F:\\Documents\\Science\\MirRevAdaptEEG\\data\\eeg\\p026\\frn\\mra_p026_run0-epo.fif ...\n"
     ]
    },
    {
     "name": "stdout",
     "output_type": "stream",
     "text": [
      "    Found the data of interest:\n",
      "        t =   -1500.00 ...    1495.00 ms\n",
      "        0 CTF compensation matrices available\n",
      "Not setting metadata\n",
      "419 matching events found\n",
      "No baseline correction applied\n",
      "0 projection items activated\n",
      "Reading F:\\Documents\\Science\\MirRevAdaptEEG\\data\\eeg\\p027\\frn\\mra_p027_run0-epo.fif ...\n",
      "    Found the data of interest:\n",
      "        t =   -1500.00 ...    1495.00 ms\n",
      "        0 CTF compensation matrices available\n",
      "Not setting metadata\n",
      "420 matching events found\n",
      "No baseline correction applied\n",
      "0 projection items activated\n",
      "Reading F:\\Documents\\Science\\MirRevAdaptEEG\\data\\eeg\\p028\\frn\\mra_p028_run0-epo.fif ...\n",
      "    Found the data of interest:\n",
      "        t =   -1500.00 ...    1495.00 ms\n",
      "        0 CTF compensation matrices available\n",
      "Not setting metadata\n",
      "420 matching events found\n",
      "No baseline correction applied\n",
      "0 projection items activated\n",
      "Reading F:\\Documents\\Science\\MirRevAdaptEEG\\data\\eeg\\p029\\frn\\mra_p029_run0-epo.fif ...\n",
      "    Found the data of interest:\n",
      "        t =   -1500.00 ...    1495.00 ms\n",
      "        0 CTF compensation matrices available\n",
      "Not setting metadata\n",
      "420 matching events found\n",
      "No baseline correction applied\n",
      "0 projection items activated\n",
      "Reading F:\\Documents\\Science\\MirRevAdaptEEG\\data\\eeg\\p030\\frn\\mra_p030_run0-epo.fif ...\n",
      "    Found the data of interest:\n",
      "        t =   -1500.00 ...    1495.00 ms\n",
      "        0 CTF compensation matrices available\n",
      "Not setting metadata\n",
      "420 matching events found\n",
      "No baseline correction applied\n",
      "0 projection items activated\n",
      "Reading F:\\Documents\\Science\\MirRevAdaptEEG\\data\\eeg\\p031\\frn\\mra_p031_run0-epo.fif ...\n",
      "    Found the data of interest:\n",
      "        t =   -1500.00 ...    1495.00 ms\n",
      "        0 CTF compensation matrices available\n",
      "Not setting metadata\n",
      "420 matching events found\n",
      "No baseline correction applied\n",
      "0 projection items activated\n",
      "Reading F:\\Documents\\Science\\MirRevAdaptEEG\\data\\eeg\\p000\\frn\\mra_p000_run0-epo.fif ...\n",
      "    Found the data of interest:\n",
      "        t =   -1500.00 ...    1495.00 ms\n",
      "        0 CTF compensation matrices available\n",
      "Not setting metadata\n",
      "420 matching events found\n",
      "No baseline correction applied\n",
      "0 projection items activated\n",
      "Reading F:\\Documents\\Science\\MirRevAdaptEEG\\data\\eeg\\p001\\frn\\mra_p001_run0-epo.fif ...\n",
      "    Found the data of interest:\n",
      "        t =   -1500.00 ...    1495.00 ms\n",
      "        0 CTF compensation matrices available\n",
      "Not setting metadata\n",
      "420 matching events found\n",
      "No baseline correction applied\n",
      "0 projection items activated\n",
      "Reading F:\\Documents\\Science\\MirRevAdaptEEG\\data\\eeg\\p002\\frn\\mra_p002_run0-epo.fif ...\n",
      "    Found the data of interest:\n",
      "        t =   -1500.00 ...    1495.00 ms\n",
      "        0 CTF compensation matrices available\n",
      "Not setting metadata\n",
      "420 matching events found\n",
      "No baseline correction applied\n",
      "0 projection items activated\n",
      "Reading F:\\Documents\\Science\\MirRevAdaptEEG\\data\\eeg\\p003\\frn\\mra_p003_run0-epo.fif ...\n",
      "    Found the data of interest:\n",
      "        t =   -1500.00 ...    1495.00 ms\n",
      "        0 CTF compensation matrices available\n",
      "Not setting metadata\n",
      "420 matching events found\n",
      "No baseline correction applied\n",
      "0 projection items activated\n",
      "Reading F:\\Documents\\Science\\MirRevAdaptEEG\\data\\eeg\\p004\\frn\\mra_p004_run0-epo.fif ...\n",
      "    Found the data of interest:\n",
      "        t =   -1500.00 ...    1495.00 ms\n",
      "        0 CTF compensation matrices available\n",
      "Not setting metadata\n",
      "420 matching events found\n",
      "No baseline correction applied\n",
      "0 projection items activated\n",
      "Reading F:\\Documents\\Science\\MirRevAdaptEEG\\data\\eeg\\p005\\frn\\mra_p005_run0-epo.fif ...\n",
      "    Found the data of interest:\n",
      "        t =   -1500.00 ...    1495.00 ms\n",
      "        0 CTF compensation matrices available\n",
      "Not setting metadata\n",
      "420 matching events found\n",
      "No baseline correction applied\n",
      "0 projection items activated\n",
      "Reading F:\\Documents\\Science\\MirRevAdaptEEG\\data\\eeg\\p006\\frn\\mra_p006_run0-epo.fif ...\n",
      "    Found the data of interest:\n",
      "        t =   -1500.00 ...    1495.00 ms\n",
      "        0 CTF compensation matrices available\n",
      "Not setting metadata\n",
      "420 matching events found\n",
      "No baseline correction applied\n",
      "0 projection items activated\n",
      "Reading F:\\Documents\\Science\\MirRevAdaptEEG\\data\\eeg\\p007\\frn\\mra_p007_run0-epo.fif ...\n",
      "    Found the data of interest:\n",
      "        t =   -1500.00 ...    1495.00 ms\n",
      "        0 CTF compensation matrices available\n",
      "Not setting metadata\n",
      "420 matching events found\n",
      "No baseline correction applied\n",
      "0 projection items activated\n",
      "Reading F:\\Documents\\Science\\MirRevAdaptEEG\\data\\eeg\\p008\\frn\\mra_p008_run0-epo.fif ...\n",
      "    Found the data of interest:\n",
      "        t =   -1500.00 ...    1495.00 ms\n",
      "        0 CTF compensation matrices available\n",
      "Not setting metadata\n",
      "420 matching events found\n",
      "No baseline correction applied\n",
      "0 projection items activated\n",
      "Reading F:\\Documents\\Science\\MirRevAdaptEEG\\data\\eeg\\p009\\frn\\mra_p009_run0-epo.fif ...\n",
      "    Found the data of interest:\n",
      "        t =   -1500.00 ...    1495.00 ms\n",
      "        0 CTF compensation matrices available\n",
      "Not setting metadata\n",
      "420 matching events found\n",
      "No baseline correction applied\n",
      "0 projection items activated\n",
      "Reading F:\\Documents\\Science\\MirRevAdaptEEG\\data\\eeg\\p010\\frn\\mra_p010_run0-epo.fif ...\n",
      "    Found the data of interest:\n",
      "        t =   -1500.00 ...    1495.00 ms\n",
      "        0 CTF compensation matrices available\n",
      "Not setting metadata\n",
      "420 matching events found\n",
      "No baseline correction applied\n",
      "0 projection items activated\n",
      "Reading F:\\Documents\\Science\\MirRevAdaptEEG\\data\\eeg\\p011\\frn\\mra_p011_run0-epo.fif ...\n",
      "    Found the data of interest:\n",
      "        t =   -1500.00 ...    1495.00 ms\n",
      "        0 CTF compensation matrices available\n",
      "Not setting metadata\n",
      "420 matching events found\n",
      "No baseline correction applied\n",
      "0 projection items activated\n",
      "Reading F:\\Documents\\Science\\MirRevAdaptEEG\\data\\eeg\\p012\\frn\\mra_p012_run0-epo.fif ...\n",
      "    Found the data of interest:\n",
      "        t =   -1500.00 ...    1495.00 ms\n",
      "        0 CTF compensation matrices available\n",
      "Not setting metadata\n",
      "417 matching events found\n",
      "No baseline correction applied\n",
      "0 projection items activated\n",
      "Reading F:\\Documents\\Science\\MirRevAdaptEEG\\data\\eeg\\p013\\frn\\mra_p013_run0-epo.fif ...\n",
      "    Found the data of interest:\n",
      "        t =   -1500.00 ...    1495.00 ms\n",
      "        0 CTF compensation matrices available\n",
      "Not setting metadata\n",
      "420 matching events found\n",
      "No baseline correction applied\n",
      "0 projection items activated\n",
      "Reading F:\\Documents\\Science\\MirRevAdaptEEG\\data\\eeg\\p014\\frn\\mra_p014_run0-epo.fif ...\n",
      "    Found the data of interest:\n",
      "        t =   -1500.00 ...    1495.00 ms\n",
      "        0 CTF compensation matrices available\n",
      "Not setting metadata\n",
      "420 matching events found\n",
      "No baseline correction applied\n",
      "0 projection items activated\n",
      "Reading F:\\Documents\\Science\\MirRevAdaptEEG\\data\\eeg\\p015\\frn\\mra_p015_run0-epo.fif ...\n",
      "    Found the data of interest:\n",
      "        t =   -1500.00 ...    1495.00 ms\n",
      "        0 CTF compensation matrices available\n",
      "Not setting metadata\n",
      "420 matching events found\n",
      "No baseline correction applied\n",
      "0 projection items activated\n",
      "Reading F:\\Documents\\Science\\MirRevAdaptEEG\\data\\eeg\\p016\\frn\\mra_p016_run0-epo.fif ...\n",
      "    Found the data of interest:\n",
      "        t =   -1500.00 ...    1495.00 ms\n",
      "        0 CTF compensation matrices available\n",
      "Not setting metadata\n",
      "420 matching events found\n",
      "No baseline correction applied\n",
      "0 projection items activated\n",
      "Reading F:\\Documents\\Science\\MirRevAdaptEEG\\data\\eeg\\p017\\frn\\mra_p017_run0-epo.fif ...\n",
      "    Found the data of interest:\n",
      "        t =   -1500.00 ...    1495.00 ms\n",
      "        0 CTF compensation matrices available\n",
      "Not setting metadata\n",
      "420 matching events found\n",
      "No baseline correction applied\n",
      "0 projection items activated\n",
      "Reading F:\\Documents\\Science\\MirRevAdaptEEG\\data\\eeg\\p018\\frn\\mra_p018_run0-epo.fif ...\n",
      "    Found the data of interest:\n",
      "        t =   -1500.00 ...    1495.00 ms\n",
      "        0 CTF compensation matrices available\n",
      "Not setting metadata\n",
      "420 matching events found\n",
      "No baseline correction applied\n",
      "0 projection items activated\n",
      "Reading F:\\Documents\\Science\\MirRevAdaptEEG\\data\\eeg\\p019\\frn\\mra_p019_run0-epo.fif ...\n",
      "    Found the data of interest:\n",
      "        t =   -1500.00 ...    1495.00 ms\n",
      "        0 CTF compensation matrices available\n",
      "Not setting metadata\n",
      "420 matching events found\n",
      "No baseline correction applied\n",
      "0 projection items activated\n",
      "Reading F:\\Documents\\Science\\MirRevAdaptEEG\\data\\eeg\\p020\\frn\\mra_p020_run0-epo.fif ...\n",
      "    Found the data of interest:\n"
     ]
    },
    {
     "name": "stdout",
     "output_type": "stream",
     "text": [
      "        t =   -1500.00 ...    1495.00 ms\n",
      "        0 CTF compensation matrices available\n",
      "Not setting metadata\n",
      "420 matching events found\n",
      "No baseline correction applied\n",
      "0 projection items activated\n",
      "Reading F:\\Documents\\Science\\MirRevAdaptEEG\\data\\eeg\\p021\\frn\\mra_p021_run0-epo.fif ...\n",
      "    Found the data of interest:\n",
      "        t =   -1500.00 ...    1495.00 ms\n",
      "        0 CTF compensation matrices available\n",
      "Not setting metadata\n",
      "420 matching events found\n",
      "No baseline correction applied\n",
      "0 projection items activated\n",
      "Reading F:\\Documents\\Science\\MirRevAdaptEEG\\data\\eeg\\p022\\frn\\mra_p022_run0-epo.fif ...\n",
      "    Found the data of interest:\n",
      "        t =   -1500.00 ...    1495.00 ms\n",
      "        0 CTF compensation matrices available\n",
      "Not setting metadata\n",
      "420 matching events found\n",
      "No baseline correction applied\n",
      "0 projection items activated\n",
      "Reading F:\\Documents\\Science\\MirRevAdaptEEG\\data\\eeg\\p023\\frn\\mra_p023_run0-epo.fif ...\n",
      "    Found the data of interest:\n",
      "        t =   -1500.00 ...    1495.00 ms\n",
      "        0 CTF compensation matrices available\n",
      "Not setting metadata\n",
      "420 matching events found\n",
      "No baseline correction applied\n",
      "0 projection items activated\n",
      "Reading F:\\Documents\\Science\\MirRevAdaptEEG\\data\\eeg\\p024\\frn\\mra_p024_run0-epo.fif ...\n",
      "    Found the data of interest:\n",
      "        t =   -1500.00 ...    1495.00 ms\n",
      "        0 CTF compensation matrices available\n",
      "Not setting metadata\n",
      "420 matching events found\n",
      "No baseline correction applied\n",
      "0 projection items activated\n",
      "Reading F:\\Documents\\Science\\MirRevAdaptEEG\\data\\eeg\\p025\\frn\\mra_p025_run0-epo.fif ...\n",
      "    Found the data of interest:\n",
      "        t =   -1500.00 ...    1495.00 ms\n",
      "        0 CTF compensation matrices available\n",
      "Not setting metadata\n",
      "420 matching events found\n",
      "No baseline correction applied\n",
      "0 projection items activated\n",
      "Reading F:\\Documents\\Science\\MirRevAdaptEEG\\data\\eeg\\p026\\frn\\mra_p026_run0-epo.fif ...\n",
      "    Found the data of interest:\n",
      "        t =   -1500.00 ...    1495.00 ms\n",
      "        0 CTF compensation matrices available\n",
      "Not setting metadata\n",
      "419 matching events found\n",
      "No baseline correction applied\n",
      "0 projection items activated\n",
      "Reading F:\\Documents\\Science\\MirRevAdaptEEG\\data\\eeg\\p027\\frn\\mra_p027_run0-epo.fif ...\n",
      "    Found the data of interest:\n",
      "        t =   -1500.00 ...    1495.00 ms\n",
      "        0 CTF compensation matrices available\n",
      "Not setting metadata\n",
      "420 matching events found\n",
      "No baseline correction applied\n",
      "0 projection items activated\n",
      "Reading F:\\Documents\\Science\\MirRevAdaptEEG\\data\\eeg\\p028\\frn\\mra_p028_run0-epo.fif ...\n",
      "    Found the data of interest:\n",
      "        t =   -1500.00 ...    1495.00 ms\n",
      "        0 CTF compensation matrices available\n",
      "Not setting metadata\n",
      "420 matching events found\n",
      "No baseline correction applied\n",
      "0 projection items activated\n",
      "Reading F:\\Documents\\Science\\MirRevAdaptEEG\\data\\eeg\\p029\\frn\\mra_p029_run0-epo.fif ...\n",
      "    Found the data of interest:\n",
      "        t =   -1500.00 ...    1495.00 ms\n",
      "        0 CTF compensation matrices available\n",
      "Not setting metadata\n",
      "420 matching events found\n",
      "No baseline correction applied\n",
      "0 projection items activated\n",
      "Reading F:\\Documents\\Science\\MirRevAdaptEEG\\data\\eeg\\p030\\frn\\mra_p030_run0-epo.fif ...\n",
      "    Found the data of interest:\n",
      "        t =   -1500.00 ...    1495.00 ms\n",
      "        0 CTF compensation matrices available\n",
      "Not setting metadata\n",
      "420 matching events found\n",
      "No baseline correction applied\n",
      "0 projection items activated\n",
      "Reading F:\\Documents\\Science\\MirRevAdaptEEG\\data\\eeg\\p031\\frn\\mra_p031_run0-epo.fif ...\n",
      "    Found the data of interest:\n",
      "        t =   -1500.00 ...    1495.00 ms\n",
      "        0 CTF compensation matrices available\n",
      "Not setting metadata\n",
      "420 matching events found\n",
      "No baseline correction applied\n",
      "0 projection items activated\n",
      "Reading F:\\Documents\\Science\\MirRevAdaptEEG\\data\\eeg\\p000\\frn\\mra_p000_run0-epo.fif ...\n",
      "    Found the data of interest:\n",
      "        t =   -1500.00 ...    1495.00 ms\n",
      "        0 CTF compensation matrices available\n",
      "Not setting metadata\n",
      "420 matching events found\n",
      "No baseline correction applied\n",
      "0 projection items activated\n",
      "Reading F:\\Documents\\Science\\MirRevAdaptEEG\\data\\eeg\\p001\\frn\\mra_p001_run0-epo.fif ...\n",
      "    Found the data of interest:\n",
      "        t =   -1500.00 ...    1495.00 ms\n",
      "        0 CTF compensation matrices available\n",
      "Not setting metadata\n",
      "420 matching events found\n",
      "No baseline correction applied\n",
      "0 projection items activated\n",
      "Reading F:\\Documents\\Science\\MirRevAdaptEEG\\data\\eeg\\p002\\frn\\mra_p002_run0-epo.fif ...\n",
      "    Found the data of interest:\n",
      "        t =   -1500.00 ...    1495.00 ms\n",
      "        0 CTF compensation matrices available\n",
      "Not setting metadata\n",
      "420 matching events found\n",
      "No baseline correction applied\n",
      "0 projection items activated\n",
      "Reading F:\\Documents\\Science\\MirRevAdaptEEG\\data\\eeg\\p003\\frn\\mra_p003_run0-epo.fif ...\n",
      "    Found the data of interest:\n",
      "        t =   -1500.00 ...    1495.00 ms\n",
      "        0 CTF compensation matrices available\n",
      "Not setting metadata\n",
      "420 matching events found\n",
      "No baseline correction applied\n",
      "0 projection items activated\n",
      "Reading F:\\Documents\\Science\\MirRevAdaptEEG\\data\\eeg\\p004\\frn\\mra_p004_run0-epo.fif ...\n",
      "    Found the data of interest:\n",
      "        t =   -1500.00 ...    1495.00 ms\n",
      "        0 CTF compensation matrices available\n",
      "Not setting metadata\n",
      "420 matching events found\n",
      "No baseline correction applied\n",
      "0 projection items activated\n",
      "Reading F:\\Documents\\Science\\MirRevAdaptEEG\\data\\eeg\\p005\\frn\\mra_p005_run0-epo.fif ...\n",
      "    Found the data of interest:\n",
      "        t =   -1500.00 ...    1495.00 ms\n",
      "        0 CTF compensation matrices available\n",
      "Not setting metadata\n",
      "420 matching events found\n",
      "No baseline correction applied\n",
      "0 projection items activated\n",
      "Reading F:\\Documents\\Science\\MirRevAdaptEEG\\data\\eeg\\p006\\frn\\mra_p006_run0-epo.fif ...\n",
      "    Found the data of interest:\n",
      "        t =   -1500.00 ...    1495.00 ms\n",
      "        0 CTF compensation matrices available\n",
      "Not setting metadata\n",
      "420 matching events found\n",
      "No baseline correction applied\n",
      "0 projection items activated\n",
      "Reading F:\\Documents\\Science\\MirRevAdaptEEG\\data\\eeg\\p007\\frn\\mra_p007_run0-epo.fif ...\n",
      "    Found the data of interest:\n",
      "        t =   -1500.00 ...    1495.00 ms\n",
      "        0 CTF compensation matrices available\n",
      "Not setting metadata\n",
      "420 matching events found\n",
      "No baseline correction applied\n",
      "0 projection items activated\n",
      "Reading F:\\Documents\\Science\\MirRevAdaptEEG\\data\\eeg\\p008\\frn\\mra_p008_run0-epo.fif ...\n",
      "    Found the data of interest:\n",
      "        t =   -1500.00 ...    1495.00 ms\n",
      "        0 CTF compensation matrices available\n",
      "Not setting metadata\n",
      "420 matching events found\n",
      "No baseline correction applied\n",
      "0 projection items activated\n",
      "Reading F:\\Documents\\Science\\MirRevAdaptEEG\\data\\eeg\\p009\\frn\\mra_p009_run0-epo.fif ...\n",
      "    Found the data of interest:\n",
      "        t =   -1500.00 ...    1495.00 ms\n",
      "        0 CTF compensation matrices available\n",
      "Not setting metadata\n",
      "420 matching events found\n",
      "No baseline correction applied\n",
      "0 projection items activated\n",
      "Reading F:\\Documents\\Science\\MirRevAdaptEEG\\data\\eeg\\p010\\frn\\mra_p010_run0-epo.fif ...\n",
      "    Found the data of interest:\n",
      "        t =   -1500.00 ...    1495.00 ms\n",
      "        0 CTF compensation matrices available\n",
      "Not setting metadata\n",
      "420 matching events found\n",
      "No baseline correction applied\n",
      "0 projection items activated\n",
      "Reading F:\\Documents\\Science\\MirRevAdaptEEG\\data\\eeg\\p011\\frn\\mra_p011_run0-epo.fif ...\n",
      "    Found the data of interest:\n",
      "        t =   -1500.00 ...    1495.00 ms\n",
      "        0 CTF compensation matrices available\n",
      "Not setting metadata\n",
      "420 matching events found\n",
      "No baseline correction applied\n",
      "0 projection items activated\n",
      "Reading F:\\Documents\\Science\\MirRevAdaptEEG\\data\\eeg\\p012\\frn\\mra_p012_run0-epo.fif ...\n",
      "    Found the data of interest:\n",
      "        t =   -1500.00 ...    1495.00 ms\n",
      "        0 CTF compensation matrices available\n",
      "Not setting metadata\n",
      "417 matching events found\n",
      "No baseline correction applied\n",
      "0 projection items activated\n",
      "Reading F:\\Documents\\Science\\MirRevAdaptEEG\\data\\eeg\\p013\\frn\\mra_p013_run0-epo.fif ...\n",
      "    Found the data of interest:\n",
      "        t =   -1500.00 ...    1495.00 ms\n",
      "        0 CTF compensation matrices available\n",
      "Not setting metadata\n",
      "420 matching events found\n",
      "No baseline correction applied\n",
      "0 projection items activated\n",
      "Reading F:\\Documents\\Science\\MirRevAdaptEEG\\data\\eeg\\p014\\frn\\mra_p014_run0-epo.fif ...\n",
      "    Found the data of interest:\n",
      "        t =   -1500.00 ...    1495.00 ms\n"
     ]
    },
    {
     "name": "stdout",
     "output_type": "stream",
     "text": [
      "        0 CTF compensation matrices available\n",
      "Not setting metadata\n",
      "420 matching events found\n",
      "No baseline correction applied\n",
      "0 projection items activated\n",
      "Reading F:\\Documents\\Science\\MirRevAdaptEEG\\data\\eeg\\p015\\frn\\mra_p015_run0-epo.fif ...\n",
      "    Found the data of interest:\n",
      "        t =   -1500.00 ...    1495.00 ms\n",
      "        0 CTF compensation matrices available\n",
      "Not setting metadata\n",
      "420 matching events found\n",
      "No baseline correction applied\n",
      "0 projection items activated\n",
      "Reading F:\\Documents\\Science\\MirRevAdaptEEG\\data\\eeg\\p016\\frn\\mra_p016_run0-epo.fif ...\n",
      "    Found the data of interest:\n",
      "        t =   -1500.00 ...    1495.00 ms\n",
      "        0 CTF compensation matrices available\n",
      "Not setting metadata\n",
      "420 matching events found\n",
      "No baseline correction applied\n",
      "0 projection items activated\n",
      "Reading F:\\Documents\\Science\\MirRevAdaptEEG\\data\\eeg\\p017\\frn\\mra_p017_run0-epo.fif ...\n",
      "    Found the data of interest:\n",
      "        t =   -1500.00 ...    1495.00 ms\n",
      "        0 CTF compensation matrices available\n",
      "Not setting metadata\n",
      "420 matching events found\n",
      "No baseline correction applied\n",
      "0 projection items activated\n",
      "Reading F:\\Documents\\Science\\MirRevAdaptEEG\\data\\eeg\\p018\\frn\\mra_p018_run0-epo.fif ...\n",
      "    Found the data of interest:\n",
      "        t =   -1500.00 ...    1495.00 ms\n",
      "        0 CTF compensation matrices available\n",
      "Not setting metadata\n",
      "420 matching events found\n",
      "No baseline correction applied\n",
      "0 projection items activated\n",
      "Reading F:\\Documents\\Science\\MirRevAdaptEEG\\data\\eeg\\p019\\frn\\mra_p019_run0-epo.fif ...\n",
      "    Found the data of interest:\n",
      "        t =   -1500.00 ...    1495.00 ms\n",
      "        0 CTF compensation matrices available\n",
      "Not setting metadata\n",
      "420 matching events found\n",
      "No baseline correction applied\n",
      "0 projection items activated\n",
      "Reading F:\\Documents\\Science\\MirRevAdaptEEG\\data\\eeg\\p020\\frn\\mra_p020_run0-epo.fif ...\n",
      "    Found the data of interest:\n",
      "        t =   -1500.00 ...    1495.00 ms\n",
      "        0 CTF compensation matrices available\n",
      "Not setting metadata\n",
      "420 matching events found\n",
      "No baseline correction applied\n",
      "0 projection items activated\n",
      "Reading F:\\Documents\\Science\\MirRevAdaptEEG\\data\\eeg\\p021\\frn\\mra_p021_run0-epo.fif ...\n",
      "    Found the data of interest:\n",
      "        t =   -1500.00 ...    1495.00 ms\n",
      "        0 CTF compensation matrices available\n",
      "Not setting metadata\n",
      "420 matching events found\n",
      "No baseline correction applied\n",
      "0 projection items activated\n",
      "Reading F:\\Documents\\Science\\MirRevAdaptEEG\\data\\eeg\\p022\\frn\\mra_p022_run0-epo.fif ...\n",
      "    Found the data of interest:\n",
      "        t =   -1500.00 ...    1495.00 ms\n",
      "        0 CTF compensation matrices available\n",
      "Not setting metadata\n",
      "420 matching events found\n",
      "No baseline correction applied\n",
      "0 projection items activated\n",
      "Reading F:\\Documents\\Science\\MirRevAdaptEEG\\data\\eeg\\p023\\frn\\mra_p023_run0-epo.fif ...\n",
      "    Found the data of interest:\n",
      "        t =   -1500.00 ...    1495.00 ms\n",
      "        0 CTF compensation matrices available\n",
      "Not setting metadata\n",
      "420 matching events found\n",
      "No baseline correction applied\n",
      "0 projection items activated\n",
      "Reading F:\\Documents\\Science\\MirRevAdaptEEG\\data\\eeg\\p024\\frn\\mra_p024_run0-epo.fif ...\n",
      "    Found the data of interest:\n",
      "        t =   -1500.00 ...    1495.00 ms\n",
      "        0 CTF compensation matrices available\n",
      "Not setting metadata\n",
      "420 matching events found\n",
      "No baseline correction applied\n",
      "0 projection items activated\n",
      "Reading F:\\Documents\\Science\\MirRevAdaptEEG\\data\\eeg\\p025\\frn\\mra_p025_run0-epo.fif ...\n",
      "    Found the data of interest:\n",
      "        t =   -1500.00 ...    1495.00 ms\n",
      "        0 CTF compensation matrices available\n",
      "Not setting metadata\n",
      "420 matching events found\n",
      "No baseline correction applied\n",
      "0 projection items activated\n",
      "Reading F:\\Documents\\Science\\MirRevAdaptEEG\\data\\eeg\\p026\\frn\\mra_p026_run0-epo.fif ...\n",
      "    Found the data of interest:\n",
      "        t =   -1500.00 ...    1495.00 ms\n",
      "        0 CTF compensation matrices available\n",
      "Not setting metadata\n",
      "419 matching events found\n",
      "No baseline correction applied\n",
      "0 projection items activated\n",
      "Reading F:\\Documents\\Science\\MirRevAdaptEEG\\data\\eeg\\p027\\frn\\mra_p027_run0-epo.fif ...\n",
      "    Found the data of interest:\n",
      "        t =   -1500.00 ...    1495.00 ms\n",
      "        0 CTF compensation matrices available\n",
      "Not setting metadata\n",
      "420 matching events found\n",
      "No baseline correction applied\n",
      "0 projection items activated\n",
      "Reading F:\\Documents\\Science\\MirRevAdaptEEG\\data\\eeg\\p028\\frn\\mra_p028_run0-epo.fif ...\n",
      "    Found the data of interest:\n",
      "        t =   -1500.00 ...    1495.00 ms\n",
      "        0 CTF compensation matrices available\n",
      "Not setting metadata\n",
      "420 matching events found\n",
      "No baseline correction applied\n",
      "0 projection items activated\n",
      "Reading F:\\Documents\\Science\\MirRevAdaptEEG\\data\\eeg\\p029\\frn\\mra_p029_run0-epo.fif ...\n",
      "    Found the data of interest:\n",
      "        t =   -1500.00 ...    1495.00 ms\n",
      "        0 CTF compensation matrices available\n",
      "Not setting metadata\n",
      "420 matching events found\n",
      "No baseline correction applied\n",
      "0 projection items activated\n",
      "Reading F:\\Documents\\Science\\MirRevAdaptEEG\\data\\eeg\\p030\\frn\\mra_p030_run0-epo.fif ...\n",
      "    Found the data of interest:\n",
      "        t =   -1500.00 ...    1495.00 ms\n",
      "        0 CTF compensation matrices available\n",
      "Not setting metadata\n",
      "420 matching events found\n",
      "No baseline correction applied\n",
      "0 projection items activated\n",
      "Reading F:\\Documents\\Science\\MirRevAdaptEEG\\data\\eeg\\p031\\frn\\mra_p031_run0-epo.fif ...\n",
      "    Found the data of interest:\n",
      "        t =   -1500.00 ...    1495.00 ms\n",
      "        0 CTF compensation matrices available\n",
      "Not setting metadata\n",
      "420 matching events found\n",
      "No baseline correction applied\n",
      "0 projection items activated\n",
      "Reading F:\\Documents\\Science\\MirRevAdaptEEG\\data\\eeg\\p000\\frn\\mra_p000_run0-epo.fif ...\n",
      "    Found the data of interest:\n",
      "        t =   -1500.00 ...    1495.00 ms\n",
      "        0 CTF compensation matrices available\n",
      "Not setting metadata\n",
      "420 matching events found\n",
      "No baseline correction applied\n",
      "0 projection items activated\n",
      "Reading F:\\Documents\\Science\\MirRevAdaptEEG\\data\\eeg\\p001\\frn\\mra_p001_run0-epo.fif ...\n",
      "    Found the data of interest:\n",
      "        t =   -1500.00 ...    1495.00 ms\n",
      "        0 CTF compensation matrices available\n",
      "Not setting metadata\n",
      "420 matching events found\n",
      "No baseline correction applied\n",
      "0 projection items activated\n",
      "Reading F:\\Documents\\Science\\MirRevAdaptEEG\\data\\eeg\\p002\\frn\\mra_p002_run0-epo.fif ...\n",
      "    Found the data of interest:\n",
      "        t =   -1500.00 ...    1495.00 ms\n",
      "        0 CTF compensation matrices available\n",
      "Not setting metadata\n",
      "420 matching events found\n",
      "No baseline correction applied\n",
      "0 projection items activated\n",
      "Reading F:\\Documents\\Science\\MirRevAdaptEEG\\data\\eeg\\p003\\frn\\mra_p003_run0-epo.fif ...\n",
      "    Found the data of interest:\n",
      "        t =   -1500.00 ...    1495.00 ms\n",
      "        0 CTF compensation matrices available\n",
      "Not setting metadata\n",
      "420 matching events found\n",
      "No baseline correction applied\n",
      "0 projection items activated\n",
      "Reading F:\\Documents\\Science\\MirRevAdaptEEG\\data\\eeg\\p004\\frn\\mra_p004_run0-epo.fif ...\n",
      "    Found the data of interest:\n",
      "        t =   -1500.00 ...    1495.00 ms\n",
      "        0 CTF compensation matrices available\n",
      "Not setting metadata\n",
      "420 matching events found\n",
      "No baseline correction applied\n",
      "0 projection items activated\n",
      "Reading F:\\Documents\\Science\\MirRevAdaptEEG\\data\\eeg\\p005\\frn\\mra_p005_run0-epo.fif ...\n",
      "    Found the data of interest:\n",
      "        t =   -1500.00 ...    1495.00 ms\n",
      "        0 CTF compensation matrices available\n",
      "Not setting metadata\n",
      "420 matching events found\n",
      "No baseline correction applied\n",
      "0 projection items activated\n",
      "Reading F:\\Documents\\Science\\MirRevAdaptEEG\\data\\eeg\\p006\\frn\\mra_p006_run0-epo.fif ...\n",
      "    Found the data of interest:\n",
      "        t =   -1500.00 ...    1495.00 ms\n",
      "        0 CTF compensation matrices available\n",
      "Not setting metadata\n",
      "420 matching events found\n",
      "No baseline correction applied\n",
      "0 projection items activated\n",
      "Reading F:\\Documents\\Science\\MirRevAdaptEEG\\data\\eeg\\p007\\frn\\mra_p007_run0-epo.fif ...\n",
      "    Found the data of interest:\n",
      "        t =   -1500.00 ...    1495.00 ms\n",
      "        0 CTF compensation matrices available\n",
      "Not setting metadata\n",
      "420 matching events found\n",
      "No baseline correction applied\n",
      "0 projection items activated\n",
      "Reading F:\\Documents\\Science\\MirRevAdaptEEG\\data\\eeg\\p008\\frn\\mra_p008_run0-epo.fif ...\n",
      "    Found the data of interest:\n",
      "        t =   -1500.00 ...    1495.00 ms\n",
      "        0 CTF compensation matrices available\n"
     ]
    },
    {
     "name": "stdout",
     "output_type": "stream",
     "text": [
      "Not setting metadata\n",
      "420 matching events found\n",
      "No baseline correction applied\n",
      "0 projection items activated\n",
      "Reading F:\\Documents\\Science\\MirRevAdaptEEG\\data\\eeg\\p009\\frn\\mra_p009_run0-epo.fif ...\n",
      "    Found the data of interest:\n",
      "        t =   -1500.00 ...    1495.00 ms\n",
      "        0 CTF compensation matrices available\n",
      "Not setting metadata\n",
      "420 matching events found\n",
      "No baseline correction applied\n",
      "0 projection items activated\n",
      "Reading F:\\Documents\\Science\\MirRevAdaptEEG\\data\\eeg\\p010\\frn\\mra_p010_run0-epo.fif ...\n",
      "    Found the data of interest:\n",
      "        t =   -1500.00 ...    1495.00 ms\n",
      "        0 CTF compensation matrices available\n",
      "Not setting metadata\n",
      "420 matching events found\n",
      "No baseline correction applied\n",
      "0 projection items activated\n",
      "Reading F:\\Documents\\Science\\MirRevAdaptEEG\\data\\eeg\\p011\\frn\\mra_p011_run0-epo.fif ...\n",
      "    Found the data of interest:\n",
      "        t =   -1500.00 ...    1495.00 ms\n",
      "        0 CTF compensation matrices available\n",
      "Not setting metadata\n",
      "420 matching events found\n",
      "No baseline correction applied\n",
      "0 projection items activated\n",
      "Reading F:\\Documents\\Science\\MirRevAdaptEEG\\data\\eeg\\p012\\frn\\mra_p012_run0-epo.fif ...\n",
      "    Found the data of interest:\n",
      "        t =   -1500.00 ...    1495.00 ms\n",
      "        0 CTF compensation matrices available\n",
      "Not setting metadata\n",
      "417 matching events found\n",
      "No baseline correction applied\n",
      "0 projection items activated\n",
      "Reading F:\\Documents\\Science\\MirRevAdaptEEG\\data\\eeg\\p013\\frn\\mra_p013_run0-epo.fif ...\n",
      "    Found the data of interest:\n",
      "        t =   -1500.00 ...    1495.00 ms\n",
      "        0 CTF compensation matrices available\n",
      "Not setting metadata\n",
      "420 matching events found\n",
      "No baseline correction applied\n",
      "0 projection items activated\n",
      "Reading F:\\Documents\\Science\\MirRevAdaptEEG\\data\\eeg\\p014\\frn\\mra_p014_run0-epo.fif ...\n",
      "    Found the data of interest:\n",
      "        t =   -1500.00 ...    1495.00 ms\n",
      "        0 CTF compensation matrices available\n",
      "Not setting metadata\n",
      "420 matching events found\n",
      "No baseline correction applied\n",
      "0 projection items activated\n",
      "Reading F:\\Documents\\Science\\MirRevAdaptEEG\\data\\eeg\\p015\\frn\\mra_p015_run0-epo.fif ...\n",
      "    Found the data of interest:\n",
      "        t =   -1500.00 ...    1495.00 ms\n",
      "        0 CTF compensation matrices available\n",
      "Not setting metadata\n",
      "420 matching events found\n",
      "No baseline correction applied\n",
      "0 projection items activated\n",
      "Reading F:\\Documents\\Science\\MirRevAdaptEEG\\data\\eeg\\p016\\frn\\mra_p016_run0-epo.fif ...\n",
      "    Found the data of interest:\n",
      "        t =   -1500.00 ...    1495.00 ms\n",
      "        0 CTF compensation matrices available\n",
      "Not setting metadata\n",
      "420 matching events found\n",
      "No baseline correction applied\n",
      "0 projection items activated\n",
      "Reading F:\\Documents\\Science\\MirRevAdaptEEG\\data\\eeg\\p017\\frn\\mra_p017_run0-epo.fif ...\n",
      "    Found the data of interest:\n",
      "        t =   -1500.00 ...    1495.00 ms\n",
      "        0 CTF compensation matrices available\n",
      "Not setting metadata\n",
      "420 matching events found\n",
      "No baseline correction applied\n",
      "0 projection items activated\n",
      "Reading F:\\Documents\\Science\\MirRevAdaptEEG\\data\\eeg\\p018\\frn\\mra_p018_run0-epo.fif ...\n",
      "    Found the data of interest:\n",
      "        t =   -1500.00 ...    1495.00 ms\n",
      "        0 CTF compensation matrices available\n",
      "Not setting metadata\n",
      "420 matching events found\n",
      "No baseline correction applied\n",
      "0 projection items activated\n",
      "Reading F:\\Documents\\Science\\MirRevAdaptEEG\\data\\eeg\\p019\\frn\\mra_p019_run0-epo.fif ...\n",
      "    Found the data of interest:\n",
      "        t =   -1500.00 ...    1495.00 ms\n",
      "        0 CTF compensation matrices available\n",
      "Not setting metadata\n",
      "420 matching events found\n",
      "No baseline correction applied\n",
      "0 projection items activated\n",
      "Reading F:\\Documents\\Science\\MirRevAdaptEEG\\data\\eeg\\p020\\frn\\mra_p020_run0-epo.fif ...\n",
      "    Found the data of interest:\n",
      "        t =   -1500.00 ...    1495.00 ms\n",
      "        0 CTF compensation matrices available\n",
      "Not setting metadata\n",
      "420 matching events found\n",
      "No baseline correction applied\n",
      "0 projection items activated\n",
      "Reading F:\\Documents\\Science\\MirRevAdaptEEG\\data\\eeg\\p021\\frn\\mra_p021_run0-epo.fif ...\n",
      "    Found the data of interest:\n",
      "        t =   -1500.00 ...    1495.00 ms\n",
      "        0 CTF compensation matrices available\n",
      "Not setting metadata\n",
      "420 matching events found\n",
      "No baseline correction applied\n",
      "0 projection items activated\n",
      "Reading F:\\Documents\\Science\\MirRevAdaptEEG\\data\\eeg\\p022\\frn\\mra_p022_run0-epo.fif ...\n",
      "    Found the data of interest:\n",
      "        t =   -1500.00 ...    1495.00 ms\n",
      "        0 CTF compensation matrices available\n",
      "Not setting metadata\n",
      "420 matching events found\n",
      "No baseline correction applied\n",
      "0 projection items activated\n",
      "Reading F:\\Documents\\Science\\MirRevAdaptEEG\\data\\eeg\\p023\\frn\\mra_p023_run0-epo.fif ...\n",
      "    Found the data of interest:\n",
      "        t =   -1500.00 ...    1495.00 ms\n",
      "        0 CTF compensation matrices available\n",
      "Not setting metadata\n",
      "420 matching events found\n",
      "No baseline correction applied\n",
      "0 projection items activated\n",
      "Reading F:\\Documents\\Science\\MirRevAdaptEEG\\data\\eeg\\p024\\frn\\mra_p024_run0-epo.fif ...\n",
      "    Found the data of interest:\n",
      "        t =   -1500.00 ...    1495.00 ms\n",
      "        0 CTF compensation matrices available\n",
      "Not setting metadata\n",
      "420 matching events found\n",
      "No baseline correction applied\n",
      "0 projection items activated\n",
      "Reading F:\\Documents\\Science\\MirRevAdaptEEG\\data\\eeg\\p025\\frn\\mra_p025_run0-epo.fif ...\n",
      "    Found the data of interest:\n",
      "        t =   -1500.00 ...    1495.00 ms\n",
      "        0 CTF compensation matrices available\n",
      "Not setting metadata\n",
      "420 matching events found\n",
      "No baseline correction applied\n",
      "0 projection items activated\n",
      "Reading F:\\Documents\\Science\\MirRevAdaptEEG\\data\\eeg\\p026\\frn\\mra_p026_run0-epo.fif ...\n",
      "    Found the data of interest:\n",
      "        t =   -1500.00 ...    1495.00 ms\n",
      "        0 CTF compensation matrices available\n",
      "Not setting metadata\n",
      "419 matching events found\n",
      "No baseline correction applied\n",
      "0 projection items activated\n",
      "Reading F:\\Documents\\Science\\MirRevAdaptEEG\\data\\eeg\\p027\\frn\\mra_p027_run0-epo.fif ...\n",
      "    Found the data of interest:\n",
      "        t =   -1500.00 ...    1495.00 ms\n",
      "        0 CTF compensation matrices available\n",
      "Not setting metadata\n",
      "420 matching events found\n",
      "No baseline correction applied\n",
      "0 projection items activated\n",
      "Reading F:\\Documents\\Science\\MirRevAdaptEEG\\data\\eeg\\p028\\frn\\mra_p028_run0-epo.fif ...\n",
      "    Found the data of interest:\n",
      "        t =   -1500.00 ...    1495.00 ms\n",
      "        0 CTF compensation matrices available\n",
      "Not setting metadata\n",
      "420 matching events found\n",
      "No baseline correction applied\n",
      "0 projection items activated\n",
      "Reading F:\\Documents\\Science\\MirRevAdaptEEG\\data\\eeg\\p029\\frn\\mra_p029_run0-epo.fif ...\n",
      "    Found the data of interest:\n",
      "        t =   -1500.00 ...    1495.00 ms\n",
      "        0 CTF compensation matrices available\n",
      "Not setting metadata\n",
      "420 matching events found\n",
      "No baseline correction applied\n",
      "0 projection items activated\n",
      "Reading F:\\Documents\\Science\\MirRevAdaptEEG\\data\\eeg\\p030\\frn\\mra_p030_run0-epo.fif ...\n",
      "    Found the data of interest:\n",
      "        t =   -1500.00 ...    1495.00 ms\n",
      "        0 CTF compensation matrices available\n",
      "Not setting metadata\n",
      "420 matching events found\n",
      "No baseline correction applied\n",
      "0 projection items activated\n",
      "Reading F:\\Documents\\Science\\MirRevAdaptEEG\\data\\eeg\\p031\\frn\\mra_p031_run0-epo.fif ...\n",
      "    Found the data of interest:\n",
      "        t =   -1500.00 ...    1495.00 ms\n",
      "        0 CTF compensation matrices available\n",
      "Not setting metadata\n",
      "420 matching events found\n",
      "No baseline correction applied\n",
      "0 projection items activated\n"
     ]
    }
   ],
   "source": [
    "#save epoched files for each trial type (aligned, random, rotation, mirror)\n",
    "#each trial type can have separate loops, as these will be split further into sub-conditions later on (e.g. error magnitude)\n",
    "\n",
    "# ALIGNED\n",
    "for pp in participants:\n",
    "    data, ppdir = load_epochs(pp, root_dir = root, erp_path = erps)\n",
    "    idx, numtrials = epoch_index('aln', pp)\n",
    "    aldata = epoch_trials('aln', pp, data, idx)\n",
    "    #print(pp, numtrials)\n",
    "    output_condition_epochs(pp, aldata, ppdir, 'aligned')\n",
    "\n",
    "# ROTATION\n",
    "for pp in participants:\n",
    "    data, ppdir = load_epochs(pp, root_dir = root, erp_path = erps)\n",
    "    idx, numtrials = epoch_index('rot', pp)\n",
    "    pdata = epoch_trials('rot', pp, data, idx)\n",
    "    output_condition_epochs(pp, pdata, ppdir, 'rot')\n",
    "\n",
    "# RANDOM (need to combine rdmrot and rdmmir into one)\n",
    "for pp in participants:\n",
    "    \n",
    "    data, ppdir = load_epochs(pp, root_dir = root, erp_path = erps)\n",
    "    #rdmrot\n",
    "    idx, numtrials = epoch_index('rdmrot', pp)\n",
    "    rdmrot_data = trial_list_rdm('rdmrot', pp, idx)\n",
    "    \n",
    "    #rdmmir\n",
    "    idx, numtrials = epoch_index('rdmmir', pp)\n",
    "    rdmmir_data = trial_list_rdm('rdmmir', pp, idx)\n",
    "    \n",
    "    #combine both rdmrot and rdmmir\n",
    "    rdmdat = rdmrot_data + rdmmir_data\n",
    "    rdmdat.sort()\n",
    "    \n",
    "    pdata = data[rdmdat]\n",
    "    \n",
    "    #save as one file of epochs called rdm\n",
    "    output_condition_epochs(pp, pdata, ppdir, 'rdm')\n",
    "        \n",
    "# MIRROR\n",
    "for pp in participants:\n",
    "    data, ppdir = load_epochs(pp, root_dir = root, erp_path = erps)\n",
    "    idx, numtrials = epoch_index('mir', pp)\n",
    "    pdata = epoch_trials('mir', pp, data, idx)\n",
    "    output_condition_epochs(pp, pdata, ppdir, 'mir')\n"
   ]
  },
  {
   "cell_type": "code",
   "execution_count": 8,
   "id": "a0b7199a",
   "metadata": {},
   "outputs": [],
   "source": [
    "#setting up path/ directory\n",
    "#access trial type epoched data for each participant\n",
    "def load_tfr_epochs(pp_num, root_dir, erp_path, task):\n",
    "\n",
    "    root_directory = root_dir\n",
    "    data_directory = os.path.join(root_directory, 'data/eeg/')\n",
    "    id_directory = os.path.join(data_directory, 'p%03d/' % pp_num)\n",
    "    pp_directory = os.path.join(id_directory, erp_path)\n",
    "    filename = os.path.join(pp_directory, 'p%03d_%s_tfr-epo.fif' % (pp_num, task))\n",
    "\n",
    "    epochs = mne.read_epochs(filename)\n",
    "\n",
    "    return epochs, pp_directory"
   ]
  },
  {
   "cell_type": "code",
   "execution_count": 9,
   "id": "091362f2",
   "metadata": {},
   "outputs": [],
   "source": [
    "#set up parameters for time-frequency morlet convolution\n",
    "def set_tfr_params(l_freq = 6, h_freq = 35, num_freq = 50, cycle = 6, samp_rate = 200):\n",
    "    freqs = np.logspace(*np.log10([l_freq, h_freq]), num = num_freq)\n",
    "    n_cycles = cycle\n",
    "    sfreq = samp_rate\n",
    "    \n",
    "    return freqs, n_cycles, sfreq"
   ]
  },
  {
   "cell_type": "code",
   "execution_count": 10,
   "id": "94c2c3a8",
   "metadata": {},
   "outputs": [],
   "source": [
    "#save tfr'd data\n",
    "def output_tfr_data(root_dir, data, task, output):\n",
    "    # Save the tfr'd data\n",
    "    root_directory = root_dir\n",
    "    data_directory = os.path.join(root_directory, 'data/eeg/tfr_ana/%s' % (erps))\n",
    "    out_fname = os.path.join(data_directory, '%s_%s-tfr.h5' % (task, output))\n",
    "    mne.time_frequency.write_tfrs(out_fname, tfr=data, overwrite = True)"
   ]
  },
  {
   "cell_type": "code",
   "execution_count": 11,
   "id": "6c12abdd",
   "metadata": {},
   "outputs": [
    {
     "name": "stdout",
     "output_type": "stream",
     "text": [
      "Reading F:\\Documents\\Science\\MirRevAdaptEEG\\data\\eeg\\p000\\frn\\p000_aligned_tfr-epo.fif ...\n",
      "    Found the data of interest:\n",
      "        t =   -1500.00 ...    1495.00 ms\n",
      "        0 CTF compensation matrices available\n",
      "Not setting metadata\n",
      "48 matching events found\n",
      "No baseline correction applied\n",
      "0 projection items activated\n"
     ]
    },
    {
     "name": "stderr",
     "output_type": "stream",
     "text": [
      "[Parallel(n_jobs=1)]: Using backend SequentialBackend with 1 concurrent workers.\n",
      "[Parallel(n_jobs=1)]: Done   1 out of   1 | elapsed:    0.1s remaining:    0.0s\n",
      "[Parallel(n_jobs=1)]: Done   2 out of   2 | elapsed:    0.3s remaining:    0.0s\n",
      "[Parallel(n_jobs=1)]: Done   3 out of   3 | elapsed:    0.5s remaining:    0.0s\n",
      "[Parallel(n_jobs=1)]: Done   4 out of   4 | elapsed:    0.7s remaining:    0.0s\n",
      "[Parallel(n_jobs=1)]: Done  64 out of  64 | elapsed:   13.0s finished\n"
     ]
    },
    {
     "name": "stdout",
     "output_type": "stream",
     "text": [
      "Not setting metadata\n",
      "Reading F:\\Documents\\Science\\MirRevAdaptEEG\\data\\eeg\\p001\\frn\\p001_aligned_tfr-epo.fif ...\n",
      "    Found the data of interest:\n",
      "        t =   -1500.00 ...    1495.00 ms\n",
      "        0 CTF compensation matrices available\n",
      "Not setting metadata\n",
      "48 matching events found\n",
      "No baseline correction applied\n",
      "0 projection items activated\n"
     ]
    },
    {
     "name": "stderr",
     "output_type": "stream",
     "text": [
      "[Parallel(n_jobs=1)]: Using backend SequentialBackend with 1 concurrent workers.\n",
      "[Parallel(n_jobs=1)]: Done   1 out of   1 | elapsed:    0.1s remaining:    0.0s\n",
      "[Parallel(n_jobs=1)]: Done   2 out of   2 | elapsed:    0.3s remaining:    0.0s\n",
      "[Parallel(n_jobs=1)]: Done   3 out of   3 | elapsed:    0.5s remaining:    0.0s\n",
      "[Parallel(n_jobs=1)]: Done   4 out of   4 | elapsed:    0.7s remaining:    0.0s\n",
      "[Parallel(n_jobs=1)]: Done  64 out of  64 | elapsed:   13.0s finished\n"
     ]
    },
    {
     "name": "stdout",
     "output_type": "stream",
     "text": [
      "Not setting metadata\n",
      "Reading F:\\Documents\\Science\\MirRevAdaptEEG\\data\\eeg\\p002\\frn\\p002_aligned_tfr-epo.fif ...\n",
      "    Found the data of interest:\n",
      "        t =   -1500.00 ...    1495.00 ms\n",
      "        0 CTF compensation matrices available\n",
      "Not setting metadata\n",
      "48 matching events found\n",
      "No baseline correction applied\n",
      "0 projection items activated\n"
     ]
    },
    {
     "name": "stderr",
     "output_type": "stream",
     "text": [
      "[Parallel(n_jobs=1)]: Using backend SequentialBackend with 1 concurrent workers.\n",
      "[Parallel(n_jobs=1)]: Done   1 out of   1 | elapsed:    0.1s remaining:    0.0s\n",
      "[Parallel(n_jobs=1)]: Done   2 out of   2 | elapsed:    0.3s remaining:    0.0s\n",
      "[Parallel(n_jobs=1)]: Done   3 out of   3 | elapsed:    0.5s remaining:    0.0s\n",
      "[Parallel(n_jobs=1)]: Done   4 out of   4 | elapsed:    0.7s remaining:    0.0s\n"
     ]
    },
    {
     "name": "stdout",
     "output_type": "stream",
     "text": [
      "Not setting metadata\n"
     ]
    },
    {
     "name": "stderr",
     "output_type": "stream",
     "text": [
      "[Parallel(n_jobs=1)]: Done  64 out of  64 | elapsed:   12.6s finished\n"
     ]
    },
    {
     "name": "stdout",
     "output_type": "stream",
     "text": [
      "Reading F:\\Documents\\Science\\MirRevAdaptEEG\\data\\eeg\\p003\\frn\\p003_aligned_tfr-epo.fif ...\n",
      "    Found the data of interest:\n",
      "        t =   -1500.00 ...    1495.00 ms\n",
      "        0 CTF compensation matrices available\n",
      "Not setting metadata\n",
      "48 matching events found\n",
      "No baseline correction applied\n",
      "0 projection items activated\n"
     ]
    },
    {
     "name": "stderr",
     "output_type": "stream",
     "text": [
      "[Parallel(n_jobs=1)]: Using backend SequentialBackend with 1 concurrent workers.\n",
      "[Parallel(n_jobs=1)]: Done   1 out of   1 | elapsed:    0.1s remaining:    0.0s\n",
      "[Parallel(n_jobs=1)]: Done   2 out of   2 | elapsed:    0.3s remaining:    0.0s\n",
      "[Parallel(n_jobs=1)]: Done   3 out of   3 | elapsed:    0.5s remaining:    0.0s\n",
      "[Parallel(n_jobs=1)]: Done   4 out of   4 | elapsed:    0.7s remaining:    0.0s\n",
      "[Parallel(n_jobs=1)]: Done  64 out of  64 | elapsed:   12.5s finished\n"
     ]
    },
    {
     "name": "stdout",
     "output_type": "stream",
     "text": [
      "Not setting metadata\n",
      "Reading F:\\Documents\\Science\\MirRevAdaptEEG\\data\\eeg\\p004\\frn\\p004_aligned_tfr-epo.fif ...\n",
      "    Found the data of interest:\n",
      "        t =   -1500.00 ...    1495.00 ms\n",
      "        0 CTF compensation matrices available\n",
      "Not setting metadata\n",
      "48 matching events found\n",
      "No baseline correction applied\n",
      "0 projection items activated\n"
     ]
    },
    {
     "name": "stderr",
     "output_type": "stream",
     "text": [
      "[Parallel(n_jobs=1)]: Using backend SequentialBackend with 1 concurrent workers.\n",
      "[Parallel(n_jobs=1)]: Done   1 out of   1 | elapsed:    0.1s remaining:    0.0s\n",
      "[Parallel(n_jobs=1)]: Done   2 out of   2 | elapsed:    0.3s remaining:    0.0s\n",
      "[Parallel(n_jobs=1)]: Done   3 out of   3 | elapsed:    0.5s remaining:    0.0s\n",
      "[Parallel(n_jobs=1)]: Done   4 out of   4 | elapsed:    0.7s remaining:    0.0s\n",
      "[Parallel(n_jobs=1)]: Done  64 out of  64 | elapsed:   12.4s finished\n"
     ]
    },
    {
     "name": "stdout",
     "output_type": "stream",
     "text": [
      "Not setting metadata\n",
      "Reading F:\\Documents\\Science\\MirRevAdaptEEG\\data\\eeg\\p005\\frn\\p005_aligned_tfr-epo.fif ...\n",
      "    Found the data of interest:\n",
      "        t =   -1500.00 ...    1495.00 ms\n",
      "        0 CTF compensation matrices available\n",
      "Not setting metadata\n",
      "48 matching events found\n",
      "No baseline correction applied\n",
      "0 projection items activated\n"
     ]
    },
    {
     "name": "stderr",
     "output_type": "stream",
     "text": [
      "[Parallel(n_jobs=1)]: Using backend SequentialBackend with 1 concurrent workers.\n",
      "[Parallel(n_jobs=1)]: Done   1 out of   1 | elapsed:    0.1s remaining:    0.0s\n",
      "[Parallel(n_jobs=1)]: Done   2 out of   2 | elapsed:    0.3s remaining:    0.0s\n",
      "[Parallel(n_jobs=1)]: Done   3 out of   3 | elapsed:    0.5s remaining:    0.0s\n",
      "[Parallel(n_jobs=1)]: Done   4 out of   4 | elapsed:    0.7s remaining:    0.0s\n",
      "[Parallel(n_jobs=1)]: Done  64 out of  64 | elapsed:   12.4s finished\n"
     ]
    },
    {
     "name": "stdout",
     "output_type": "stream",
     "text": [
      "Not setting metadata\n",
      "Reading F:\\Documents\\Science\\MirRevAdaptEEG\\data\\eeg\\p006\\frn\\p006_aligned_tfr-epo.fif ...\n",
      "    Found the data of interest:\n",
      "        t =   -1500.00 ...    1495.00 ms\n",
      "        0 CTF compensation matrices available\n",
      "Not setting metadata\n",
      "48 matching events found\n",
      "No baseline correction applied\n",
      "0 projection items activated\n"
     ]
    },
    {
     "name": "stderr",
     "output_type": "stream",
     "text": [
      "[Parallel(n_jobs=1)]: Using backend SequentialBackend with 1 concurrent workers.\n",
      "[Parallel(n_jobs=1)]: Done   1 out of   1 | elapsed:    0.1s remaining:    0.0s\n",
      "[Parallel(n_jobs=1)]: Done   2 out of   2 | elapsed:    0.3s remaining:    0.0s\n",
      "[Parallel(n_jobs=1)]: Done   3 out of   3 | elapsed:    0.5s remaining:    0.0s\n",
      "[Parallel(n_jobs=1)]: Done   4 out of   4 | elapsed:    0.7s remaining:    0.0s\n"
     ]
    },
    {
     "name": "stdout",
     "output_type": "stream",
     "text": [
      "Not setting metadata\n"
     ]
    },
    {
     "name": "stderr",
     "output_type": "stream",
     "text": [
      "[Parallel(n_jobs=1)]: Done  64 out of  64 | elapsed:   12.4s finished\n"
     ]
    },
    {
     "name": "stdout",
     "output_type": "stream",
     "text": [
      "Reading F:\\Documents\\Science\\MirRevAdaptEEG\\data\\eeg\\p007\\frn\\p007_aligned_tfr-epo.fif ...\n",
      "    Found the data of interest:\n",
      "        t =   -1500.00 ...    1495.00 ms\n",
      "        0 CTF compensation matrices available\n",
      "Not setting metadata\n",
      "48 matching events found\n",
      "No baseline correction applied\n",
      "0 projection items activated\n"
     ]
    },
    {
     "name": "stderr",
     "output_type": "stream",
     "text": [
      "[Parallel(n_jobs=1)]: Using backend SequentialBackend with 1 concurrent workers.\n",
      "[Parallel(n_jobs=1)]: Done   1 out of   1 | elapsed:    0.1s remaining:    0.0s\n",
      "[Parallel(n_jobs=1)]: Done   2 out of   2 | elapsed:    0.3s remaining:    0.0s\n",
      "[Parallel(n_jobs=1)]: Done   3 out of   3 | elapsed:    0.5s remaining:    0.0s\n",
      "[Parallel(n_jobs=1)]: Done   4 out of   4 | elapsed:    0.7s remaining:    0.0s\n",
      "[Parallel(n_jobs=1)]: Done  64 out of  64 | elapsed:   12.4s finished\n"
     ]
    },
    {
     "name": "stdout",
     "output_type": "stream",
     "text": [
      "Not setting metadata\n",
      "Reading F:\\Documents\\Science\\MirRevAdaptEEG\\data\\eeg\\p008\\frn\\p008_aligned_tfr-epo.fif ...\n",
      "    Found the data of interest:\n",
      "        t =   -1500.00 ...    1495.00 ms\n",
      "        0 CTF compensation matrices available\n",
      "Not setting metadata\n",
      "48 matching events found\n",
      "No baseline correction applied\n",
      "0 projection items activated\n"
     ]
    },
    {
     "name": "stderr",
     "output_type": "stream",
     "text": [
      "[Parallel(n_jobs=1)]: Using backend SequentialBackend with 1 concurrent workers.\n",
      "[Parallel(n_jobs=1)]: Done   1 out of   1 | elapsed:    0.1s remaining:    0.0s\n",
      "[Parallel(n_jobs=1)]: Done   2 out of   2 | elapsed:    0.3s remaining:    0.0s\n",
      "[Parallel(n_jobs=1)]: Done   3 out of   3 | elapsed:    0.5s remaining:    0.0s\n",
      "[Parallel(n_jobs=1)]: Done   4 out of   4 | elapsed:    0.7s remaining:    0.0s\n"
     ]
    },
    {
     "name": "stdout",
     "output_type": "stream",
     "text": [
      "Not setting metadata\n"
     ]
    },
    {
     "name": "stderr",
     "output_type": "stream",
     "text": [
      "[Parallel(n_jobs=1)]: Done  64 out of  64 | elapsed:   12.4s finished\n"
     ]
    },
    {
     "name": "stdout",
     "output_type": "stream",
     "text": [
      "Reading F:\\Documents\\Science\\MirRevAdaptEEG\\data\\eeg\\p009\\frn\\p009_aligned_tfr-epo.fif ...\n",
      "    Found the data of interest:\n",
      "        t =   -1500.00 ...    1495.00 ms\n",
      "        0 CTF compensation matrices available\n",
      "Not setting metadata\n",
      "48 matching events found\n",
      "No baseline correction applied\n",
      "0 projection items activated\n"
     ]
    },
    {
     "name": "stderr",
     "output_type": "stream",
     "text": [
      "[Parallel(n_jobs=1)]: Using backend SequentialBackend with 1 concurrent workers.\n",
      "[Parallel(n_jobs=1)]: Done   1 out of   1 | elapsed:    0.1s remaining:    0.0s\n",
      "[Parallel(n_jobs=1)]: Done   2 out of   2 | elapsed:    0.3s remaining:    0.0s\n",
      "[Parallel(n_jobs=1)]: Done   3 out of   3 | elapsed:    0.5s remaining:    0.0s\n",
      "[Parallel(n_jobs=1)]: Done   4 out of   4 | elapsed:    0.7s remaining:    0.0s\n",
      "[Parallel(n_jobs=1)]: Done  64 out of  64 | elapsed:   12.4s finished\n"
     ]
    },
    {
     "name": "stdout",
     "output_type": "stream",
     "text": [
      "Not setting metadata\n",
      "Reading F:\\Documents\\Science\\MirRevAdaptEEG\\data\\eeg\\p010\\frn\\p010_aligned_tfr-epo.fif ...\n",
      "    Found the data of interest:\n",
      "        t =   -1500.00 ...    1495.00 ms\n",
      "        0 CTF compensation matrices available\n",
      "Not setting metadata\n",
      "48 matching events found\n",
      "No baseline correction applied\n",
      "0 projection items activated\n"
     ]
    },
    {
     "name": "stderr",
     "output_type": "stream",
     "text": [
      "[Parallel(n_jobs=1)]: Using backend SequentialBackend with 1 concurrent workers.\n",
      "[Parallel(n_jobs=1)]: Done   1 out of   1 | elapsed:    0.1s remaining:    0.0s\n",
      "[Parallel(n_jobs=1)]: Done   2 out of   2 | elapsed:    0.3s remaining:    0.0s\n",
      "[Parallel(n_jobs=1)]: Done   3 out of   3 | elapsed:    0.5s remaining:    0.0s\n",
      "[Parallel(n_jobs=1)]: Done   4 out of   4 | elapsed:    0.7s remaining:    0.0s\n"
     ]
    },
    {
     "name": "stdout",
     "output_type": "stream",
     "text": [
      "Not setting metadata\n"
     ]
    },
    {
     "name": "stderr",
     "output_type": "stream",
     "text": [
      "[Parallel(n_jobs=1)]: Done  64 out of  64 | elapsed:   12.3s finished\n"
     ]
    },
    {
     "name": "stdout",
     "output_type": "stream",
     "text": [
      "Reading F:\\Documents\\Science\\MirRevAdaptEEG\\data\\eeg\\p011\\frn\\p011_aligned_tfr-epo.fif ...\n",
      "    Found the data of interest:\n",
      "        t =   -1500.00 ...    1495.00 ms\n",
      "        0 CTF compensation matrices available\n",
      "Not setting metadata\n",
      "48 matching events found\n",
      "No baseline correction applied\n",
      "0 projection items activated\n"
     ]
    },
    {
     "name": "stderr",
     "output_type": "stream",
     "text": [
      "[Parallel(n_jobs=1)]: Using backend SequentialBackend with 1 concurrent workers.\n",
      "[Parallel(n_jobs=1)]: Done   1 out of   1 | elapsed:    0.1s remaining:    0.0s\n",
      "[Parallel(n_jobs=1)]: Done   2 out of   2 | elapsed:    0.3s remaining:    0.0s\n",
      "[Parallel(n_jobs=1)]: Done   3 out of   3 | elapsed:    0.5s remaining:    0.0s\n",
      "[Parallel(n_jobs=1)]: Done   4 out of   4 | elapsed:    0.7s remaining:    0.0s\n",
      "[Parallel(n_jobs=1)]: Done  64 out of  64 | elapsed:   12.4s finished\n"
     ]
    },
    {
     "name": "stdout",
     "output_type": "stream",
     "text": [
      "Not setting metadata\n",
      "Reading F:\\Documents\\Science\\MirRevAdaptEEG\\data\\eeg\\p012\\frn\\p012_aligned_tfr-epo.fif ...\n",
      "    Found the data of interest:\n",
      "        t =   -1500.00 ...    1495.00 ms\n",
      "        0 CTF compensation matrices available\n",
      "Not setting metadata\n",
      "48 matching events found\n",
      "No baseline correction applied\n",
      "0 projection items activated\n"
     ]
    },
    {
     "name": "stderr",
     "output_type": "stream",
     "text": [
      "[Parallel(n_jobs=1)]: Using backend SequentialBackend with 1 concurrent workers.\n",
      "[Parallel(n_jobs=1)]: Done   1 out of   1 | elapsed:    0.1s remaining:    0.0s\n",
      "[Parallel(n_jobs=1)]: Done   2 out of   2 | elapsed:    0.3s remaining:    0.0s\n",
      "[Parallel(n_jobs=1)]: Done   3 out of   3 | elapsed:    0.5s remaining:    0.0s\n",
      "[Parallel(n_jobs=1)]: Done   4 out of   4 | elapsed:    0.7s remaining:    0.0s\n"
     ]
    },
    {
     "name": "stdout",
     "output_type": "stream",
     "text": [
      "Not setting metadata\n"
     ]
    },
    {
     "name": "stderr",
     "output_type": "stream",
     "text": [
      "[Parallel(n_jobs=1)]: Done  64 out of  64 | elapsed:   12.4s finished\n"
     ]
    },
    {
     "name": "stdout",
     "output_type": "stream",
     "text": [
      "Reading F:\\Documents\\Science\\MirRevAdaptEEG\\data\\eeg\\p013\\frn\\p013_aligned_tfr-epo.fif ...\n",
      "    Found the data of interest:\n",
      "        t =   -1500.00 ...    1495.00 ms\n",
      "        0 CTF compensation matrices available\n",
      "Not setting metadata\n",
      "48 matching events found\n",
      "No baseline correction applied\n",
      "0 projection items activated\n"
     ]
    },
    {
     "name": "stderr",
     "output_type": "stream",
     "text": [
      "[Parallel(n_jobs=1)]: Using backend SequentialBackend with 1 concurrent workers.\n",
      "[Parallel(n_jobs=1)]: Done   1 out of   1 | elapsed:    0.1s remaining:    0.0s\n",
      "[Parallel(n_jobs=1)]: Done   2 out of   2 | elapsed:    0.3s remaining:    0.0s\n",
      "[Parallel(n_jobs=1)]: Done   3 out of   3 | elapsed:    0.5s remaining:    0.0s\n",
      "[Parallel(n_jobs=1)]: Done   4 out of   4 | elapsed:    0.7s remaining:    0.0s\n",
      "[Parallel(n_jobs=1)]: Done  64 out of  64 | elapsed:   12.4s finished\n"
     ]
    },
    {
     "name": "stdout",
     "output_type": "stream",
     "text": [
      "Not setting metadata\n",
      "Reading F:\\Documents\\Science\\MirRevAdaptEEG\\data\\eeg\\p014\\frn\\p014_aligned_tfr-epo.fif ...\n",
      "    Found the data of interest:\n",
      "        t =   -1500.00 ...    1495.00 ms\n",
      "        0 CTF compensation matrices available\n",
      "Not setting metadata\n",
      "48 matching events found\n",
      "No baseline correction applied\n",
      "0 projection items activated\n"
     ]
    },
    {
     "name": "stderr",
     "output_type": "stream",
     "text": [
      "[Parallel(n_jobs=1)]: Using backend SequentialBackend with 1 concurrent workers.\n",
      "[Parallel(n_jobs=1)]: Done   1 out of   1 | elapsed:    0.1s remaining:    0.0s\n",
      "[Parallel(n_jobs=1)]: Done   2 out of   2 | elapsed:    0.3s remaining:    0.0s\n",
      "[Parallel(n_jobs=1)]: Done   3 out of   3 | elapsed:    0.5s remaining:    0.0s\n",
      "[Parallel(n_jobs=1)]: Done   4 out of   4 | elapsed:    0.7s remaining:    0.0s\n"
     ]
    },
    {
     "name": "stdout",
     "output_type": "stream",
     "text": [
      "Not setting metadata\n"
     ]
    },
    {
     "name": "stderr",
     "output_type": "stream",
     "text": [
      "[Parallel(n_jobs=1)]: Done  64 out of  64 | elapsed:   12.4s finished\n"
     ]
    },
    {
     "name": "stdout",
     "output_type": "stream",
     "text": [
      "Reading F:\\Documents\\Science\\MirRevAdaptEEG\\data\\eeg\\p015\\frn\\p015_aligned_tfr-epo.fif ...\n",
      "    Found the data of interest:\n",
      "        t =   -1500.00 ...    1495.00 ms\n",
      "        0 CTF compensation matrices available\n",
      "Not setting metadata\n",
      "48 matching events found\n",
      "No baseline correction applied\n",
      "0 projection items activated\n"
     ]
    },
    {
     "name": "stderr",
     "output_type": "stream",
     "text": [
      "[Parallel(n_jobs=1)]: Using backend SequentialBackend with 1 concurrent workers.\n",
      "[Parallel(n_jobs=1)]: Done   1 out of   1 | elapsed:    0.1s remaining:    0.0s\n",
      "[Parallel(n_jobs=1)]: Done   2 out of   2 | elapsed:    0.3s remaining:    0.0s\n",
      "[Parallel(n_jobs=1)]: Done   3 out of   3 | elapsed:    0.5s remaining:    0.0s\n",
      "[Parallel(n_jobs=1)]: Done   4 out of   4 | elapsed:    0.7s remaining:    0.0s\n",
      "[Parallel(n_jobs=1)]: Done  64 out of  64 | elapsed:   12.4s finished\n"
     ]
    },
    {
     "name": "stdout",
     "output_type": "stream",
     "text": [
      "Not setting metadata\n",
      "Reading F:\\Documents\\Science\\MirRevAdaptEEG\\data\\eeg\\p016\\frn\\p016_aligned_tfr-epo.fif ...\n",
      "    Found the data of interest:\n",
      "        t =   -1500.00 ...    1495.00 ms\n",
      "        0 CTF compensation matrices available\n",
      "Not setting metadata\n",
      "48 matching events found\n",
      "No baseline correction applied\n",
      "0 projection items activated\n"
     ]
    },
    {
     "name": "stderr",
     "output_type": "stream",
     "text": [
      "[Parallel(n_jobs=1)]: Using backend SequentialBackend with 1 concurrent workers.\n",
      "[Parallel(n_jobs=1)]: Done   1 out of   1 | elapsed:    0.1s remaining:    0.0s\n",
      "[Parallel(n_jobs=1)]: Done   2 out of   2 | elapsed:    0.3s remaining:    0.0s\n",
      "[Parallel(n_jobs=1)]: Done   3 out of   3 | elapsed:    0.5s remaining:    0.0s\n",
      "[Parallel(n_jobs=1)]: Done   4 out of   4 | elapsed:    0.7s remaining:    0.0s\n",
      "[Parallel(n_jobs=1)]: Done  64 out of  64 | elapsed:   12.4s finished\n"
     ]
    },
    {
     "name": "stdout",
     "output_type": "stream",
     "text": [
      "Not setting metadata\n",
      "Reading F:\\Documents\\Science\\MirRevAdaptEEG\\data\\eeg\\p017\\frn\\p017_aligned_tfr-epo.fif ...\n",
      "    Found the data of interest:\n",
      "        t =   -1500.00 ...    1495.00 ms\n",
      "        0 CTF compensation matrices available\n",
      "Not setting metadata\n",
      "48 matching events found\n",
      "No baseline correction applied\n",
      "0 projection items activated\n"
     ]
    },
    {
     "name": "stderr",
     "output_type": "stream",
     "text": [
      "[Parallel(n_jobs=1)]: Using backend SequentialBackend with 1 concurrent workers.\n",
      "[Parallel(n_jobs=1)]: Done   1 out of   1 | elapsed:    0.1s remaining:    0.0s\n",
      "[Parallel(n_jobs=1)]: Done   2 out of   2 | elapsed:    0.3s remaining:    0.0s\n",
      "[Parallel(n_jobs=1)]: Done   3 out of   3 | elapsed:    0.5s remaining:    0.0s\n",
      "[Parallel(n_jobs=1)]: Done   4 out of   4 | elapsed:    0.7s remaining:    0.0s\n",
      "[Parallel(n_jobs=1)]: Done  64 out of  64 | elapsed:   12.4s finished\n"
     ]
    },
    {
     "name": "stdout",
     "output_type": "stream",
     "text": [
      "Not setting metadata\n",
      "Reading F:\\Documents\\Science\\MirRevAdaptEEG\\data\\eeg\\p018\\frn\\p018_aligned_tfr-epo.fif ...\n",
      "    Found the data of interest:\n",
      "        t =   -1500.00 ...    1495.00 ms\n",
      "        0 CTF compensation matrices available\n",
      "Not setting metadata\n",
      "48 matching events found\n",
      "No baseline correction applied\n",
      "0 projection items activated\n"
     ]
    },
    {
     "name": "stderr",
     "output_type": "stream",
     "text": [
      "[Parallel(n_jobs=1)]: Using backend SequentialBackend with 1 concurrent workers.\n",
      "[Parallel(n_jobs=1)]: Done   1 out of   1 | elapsed:    0.1s remaining:    0.0s\n",
      "[Parallel(n_jobs=1)]: Done   2 out of   2 | elapsed:    0.3s remaining:    0.0s\n",
      "[Parallel(n_jobs=1)]: Done   3 out of   3 | elapsed:    0.5s remaining:    0.0s\n",
      "[Parallel(n_jobs=1)]: Done   4 out of   4 | elapsed:    0.7s remaining:    0.0s\n"
     ]
    },
    {
     "name": "stdout",
     "output_type": "stream",
     "text": [
      "Not setting metadata\n"
     ]
    },
    {
     "name": "stderr",
     "output_type": "stream",
     "text": [
      "[Parallel(n_jobs=1)]: Done  64 out of  64 | elapsed:   12.4s finished\n"
     ]
    },
    {
     "name": "stdout",
     "output_type": "stream",
     "text": [
      "Reading F:\\Documents\\Science\\MirRevAdaptEEG\\data\\eeg\\p019\\frn\\p019_aligned_tfr-epo.fif ...\n",
      "    Found the data of interest:\n",
      "        t =   -1500.00 ...    1495.00 ms\n",
      "        0 CTF compensation matrices available\n",
      "Not setting metadata\n",
      "48 matching events found\n",
      "No baseline correction applied\n",
      "0 projection items activated\n"
     ]
    },
    {
     "name": "stderr",
     "output_type": "stream",
     "text": [
      "[Parallel(n_jobs=1)]: Using backend SequentialBackend with 1 concurrent workers.\n",
      "[Parallel(n_jobs=1)]: Done   1 out of   1 | elapsed:    0.1s remaining:    0.0s\n",
      "[Parallel(n_jobs=1)]: Done   2 out of   2 | elapsed:    0.3s remaining:    0.0s\n",
      "[Parallel(n_jobs=1)]: Done   3 out of   3 | elapsed:    0.5s remaining:    0.0s\n",
      "[Parallel(n_jobs=1)]: Done   4 out of   4 | elapsed:    0.7s remaining:    0.0s\n",
      "[Parallel(n_jobs=1)]: Done  64 out of  64 | elapsed:   12.4s finished\n"
     ]
    },
    {
     "name": "stdout",
     "output_type": "stream",
     "text": [
      "Not setting metadata\n",
      "Reading F:\\Documents\\Science\\MirRevAdaptEEG\\data\\eeg\\p020\\frn\\p020_aligned_tfr-epo.fif ...\n",
      "    Found the data of interest:\n",
      "        t =   -1500.00 ...    1495.00 ms\n",
      "        0 CTF compensation matrices available\n",
      "Not setting metadata\n",
      "48 matching events found\n",
      "No baseline correction applied\n",
      "0 projection items activated\n"
     ]
    },
    {
     "name": "stderr",
     "output_type": "stream",
     "text": [
      "[Parallel(n_jobs=1)]: Using backend SequentialBackend with 1 concurrent workers.\n",
      "[Parallel(n_jobs=1)]: Done   1 out of   1 | elapsed:    0.1s remaining:    0.0s\n",
      "[Parallel(n_jobs=1)]: Done   2 out of   2 | elapsed:    0.3s remaining:    0.0s\n",
      "[Parallel(n_jobs=1)]: Done   3 out of   3 | elapsed:    0.5s remaining:    0.0s\n",
      "[Parallel(n_jobs=1)]: Done   4 out of   4 | elapsed:    0.7s remaining:    0.0s\n"
     ]
    },
    {
     "name": "stdout",
     "output_type": "stream",
     "text": [
      "Not setting metadata\n"
     ]
    },
    {
     "name": "stderr",
     "output_type": "stream",
     "text": [
      "[Parallel(n_jobs=1)]: Done  64 out of  64 | elapsed:   12.4s finished\n"
     ]
    },
    {
     "name": "stdout",
     "output_type": "stream",
     "text": [
      "Reading F:\\Documents\\Science\\MirRevAdaptEEG\\data\\eeg\\p021\\frn\\p021_aligned_tfr-epo.fif ...\n",
      "    Found the data of interest:\n",
      "        t =   -1500.00 ...    1495.00 ms\n",
      "        0 CTF compensation matrices available\n",
      "Not setting metadata\n",
      "48 matching events found\n",
      "No baseline correction applied\n",
      "0 projection items activated\n"
     ]
    },
    {
     "name": "stderr",
     "output_type": "stream",
     "text": [
      "[Parallel(n_jobs=1)]: Using backend SequentialBackend with 1 concurrent workers.\n",
      "[Parallel(n_jobs=1)]: Done   1 out of   1 | elapsed:    0.1s remaining:    0.0s\n",
      "[Parallel(n_jobs=1)]: Done   2 out of   2 | elapsed:    0.3s remaining:    0.0s\n",
      "[Parallel(n_jobs=1)]: Done   3 out of   3 | elapsed:    0.5s remaining:    0.0s\n",
      "[Parallel(n_jobs=1)]: Done   4 out of   4 | elapsed:    0.7s remaining:    0.0s\n",
      "[Parallel(n_jobs=1)]: Done  64 out of  64 | elapsed:   12.3s finished\n"
     ]
    },
    {
     "name": "stdout",
     "output_type": "stream",
     "text": [
      "Not setting metadata\n",
      "Reading F:\\Documents\\Science\\MirRevAdaptEEG\\data\\eeg\\p022\\frn\\p022_aligned_tfr-epo.fif ...\n",
      "    Found the data of interest:\n",
      "        t =   -1500.00 ...    1495.00 ms\n",
      "        0 CTF compensation matrices available\n",
      "Not setting metadata\n",
      "48 matching events found\n",
      "No baseline correction applied\n",
      "0 projection items activated\n"
     ]
    },
    {
     "name": "stderr",
     "output_type": "stream",
     "text": [
      "[Parallel(n_jobs=1)]: Using backend SequentialBackend with 1 concurrent workers.\n",
      "[Parallel(n_jobs=1)]: Done   1 out of   1 | elapsed:    0.1s remaining:    0.0s\n",
      "[Parallel(n_jobs=1)]: Done   2 out of   2 | elapsed:    0.3s remaining:    0.0s\n",
      "[Parallel(n_jobs=1)]: Done   3 out of   3 | elapsed:    0.5s remaining:    0.0s\n",
      "[Parallel(n_jobs=1)]: Done   4 out of   4 | elapsed:    0.7s remaining:    0.0s\n"
     ]
    },
    {
     "name": "stdout",
     "output_type": "stream",
     "text": [
      "Not setting metadata\n"
     ]
    },
    {
     "name": "stderr",
     "output_type": "stream",
     "text": [
      "[Parallel(n_jobs=1)]: Done  64 out of  64 | elapsed:   12.4s finished\n"
     ]
    },
    {
     "name": "stdout",
     "output_type": "stream",
     "text": [
      "Reading F:\\Documents\\Science\\MirRevAdaptEEG\\data\\eeg\\p023\\frn\\p023_aligned_tfr-epo.fif ...\n",
      "    Found the data of interest:\n",
      "        t =   -1500.00 ...    1495.00 ms\n",
      "        0 CTF compensation matrices available\n",
      "Not setting metadata\n",
      "48 matching events found\n",
      "No baseline correction applied\n",
      "0 projection items activated\n"
     ]
    },
    {
     "name": "stderr",
     "output_type": "stream",
     "text": [
      "[Parallel(n_jobs=1)]: Using backend SequentialBackend with 1 concurrent workers.\n",
      "[Parallel(n_jobs=1)]: Done   1 out of   1 | elapsed:    0.1s remaining:    0.0s\n",
      "[Parallel(n_jobs=1)]: Done   2 out of   2 | elapsed:    0.3s remaining:    0.0s\n",
      "[Parallel(n_jobs=1)]: Done   3 out of   3 | elapsed:    0.5s remaining:    0.0s\n",
      "[Parallel(n_jobs=1)]: Done   4 out of   4 | elapsed:    0.7s remaining:    0.0s\n",
      "[Parallel(n_jobs=1)]: Done  64 out of  64 | elapsed:   12.5s finished\n"
     ]
    },
    {
     "name": "stdout",
     "output_type": "stream",
     "text": [
      "Not setting metadata\n",
      "Reading F:\\Documents\\Science\\MirRevAdaptEEG\\data\\eeg\\p024\\frn\\p024_aligned_tfr-epo.fif ...\n",
      "    Found the data of interest:\n",
      "        t =   -1500.00 ...    1495.00 ms\n",
      "        0 CTF compensation matrices available\n",
      "Not setting metadata\n",
      "48 matching events found\n",
      "No baseline correction applied\n",
      "0 projection items activated\n"
     ]
    },
    {
     "name": "stderr",
     "output_type": "stream",
     "text": [
      "[Parallel(n_jobs=1)]: Using backend SequentialBackend with 1 concurrent workers.\n",
      "[Parallel(n_jobs=1)]: Done   1 out of   1 | elapsed:    0.1s remaining:    0.0s\n",
      "[Parallel(n_jobs=1)]: Done   2 out of   2 | elapsed:    0.3s remaining:    0.0s\n",
      "[Parallel(n_jobs=1)]: Done   3 out of   3 | elapsed:    0.5s remaining:    0.0s\n",
      "[Parallel(n_jobs=1)]: Done   4 out of   4 | elapsed:    0.7s remaining:    0.0s\n"
     ]
    },
    {
     "name": "stdout",
     "output_type": "stream",
     "text": [
      "Not setting metadata\n"
     ]
    },
    {
     "name": "stderr",
     "output_type": "stream",
     "text": [
      "[Parallel(n_jobs=1)]: Done  64 out of  64 | elapsed:   12.4s finished\n"
     ]
    },
    {
     "name": "stdout",
     "output_type": "stream",
     "text": [
      "Reading F:\\Documents\\Science\\MirRevAdaptEEG\\data\\eeg\\p025\\frn\\p025_aligned_tfr-epo.fif ...\n",
      "    Found the data of interest:\n",
      "        t =   -1500.00 ...    1495.00 ms\n",
      "        0 CTF compensation matrices available\n",
      "Not setting metadata\n",
      "48 matching events found\n",
      "No baseline correction applied\n",
      "0 projection items activated\n"
     ]
    },
    {
     "name": "stderr",
     "output_type": "stream",
     "text": [
      "[Parallel(n_jobs=1)]: Using backend SequentialBackend with 1 concurrent workers.\n",
      "[Parallel(n_jobs=1)]: Done   1 out of   1 | elapsed:    0.1s remaining:    0.0s\n",
      "[Parallel(n_jobs=1)]: Done   2 out of   2 | elapsed:    0.3s remaining:    0.0s\n",
      "[Parallel(n_jobs=1)]: Done   3 out of   3 | elapsed:    0.5s remaining:    0.0s\n",
      "[Parallel(n_jobs=1)]: Done   4 out of   4 | elapsed:    0.7s remaining:    0.0s\n",
      "[Parallel(n_jobs=1)]: Done  64 out of  64 | elapsed:   12.4s finished\n"
     ]
    },
    {
     "name": "stdout",
     "output_type": "stream",
     "text": [
      "Not setting metadata\n",
      "Reading F:\\Documents\\Science\\MirRevAdaptEEG\\data\\eeg\\p026\\frn\\p026_aligned_tfr-epo.fif ...\n",
      "    Found the data of interest:\n",
      "        t =   -1500.00 ...    1495.00 ms\n",
      "        0 CTF compensation matrices available\n",
      "Not setting metadata\n",
      "48 matching events found\n",
      "No baseline correction applied\n",
      "0 projection items activated\n"
     ]
    },
    {
     "name": "stderr",
     "output_type": "stream",
     "text": [
      "[Parallel(n_jobs=1)]: Using backend SequentialBackend with 1 concurrent workers.\n",
      "[Parallel(n_jobs=1)]: Done   1 out of   1 | elapsed:    0.1s remaining:    0.0s\n",
      "[Parallel(n_jobs=1)]: Done   2 out of   2 | elapsed:    0.3s remaining:    0.0s\n",
      "[Parallel(n_jobs=1)]: Done   3 out of   3 | elapsed:    0.5s remaining:    0.0s\n",
      "[Parallel(n_jobs=1)]: Done   4 out of   4 | elapsed:    0.7s remaining:    0.0s\n"
     ]
    },
    {
     "name": "stdout",
     "output_type": "stream",
     "text": [
      "Not setting metadata\n"
     ]
    },
    {
     "name": "stderr",
     "output_type": "stream",
     "text": [
      "[Parallel(n_jobs=1)]: Done  64 out of  64 | elapsed:   12.4s finished\n"
     ]
    },
    {
     "name": "stdout",
     "output_type": "stream",
     "text": [
      "Reading F:\\Documents\\Science\\MirRevAdaptEEG\\data\\eeg\\p027\\frn\\p027_aligned_tfr-epo.fif ...\n",
      "    Found the data of interest:\n",
      "        t =   -1500.00 ...    1495.00 ms\n",
      "        0 CTF compensation matrices available\n",
      "Not setting metadata\n",
      "48 matching events found\n",
      "No baseline correction applied\n",
      "0 projection items activated\n"
     ]
    },
    {
     "name": "stderr",
     "output_type": "stream",
     "text": [
      "[Parallel(n_jobs=1)]: Using backend SequentialBackend with 1 concurrent workers.\n",
      "[Parallel(n_jobs=1)]: Done   1 out of   1 | elapsed:    0.1s remaining:    0.0s\n",
      "[Parallel(n_jobs=1)]: Done   2 out of   2 | elapsed:    0.3s remaining:    0.0s\n",
      "[Parallel(n_jobs=1)]: Done   3 out of   3 | elapsed:    0.5s remaining:    0.0s\n",
      "[Parallel(n_jobs=1)]: Done   4 out of   4 | elapsed:    0.7s remaining:    0.0s\n",
      "[Parallel(n_jobs=1)]: Done  64 out of  64 | elapsed:   12.4s finished\n"
     ]
    },
    {
     "name": "stdout",
     "output_type": "stream",
     "text": [
      "Not setting metadata\n",
      "Reading F:\\Documents\\Science\\MirRevAdaptEEG\\data\\eeg\\p028\\frn\\p028_aligned_tfr-epo.fif ...\n",
      "    Found the data of interest:\n",
      "        t =   -1500.00 ...    1495.00 ms\n",
      "        0 CTF compensation matrices available\n",
      "Not setting metadata\n",
      "48 matching events found\n",
      "No baseline correction applied\n",
      "0 projection items activated\n"
     ]
    },
    {
     "name": "stderr",
     "output_type": "stream",
     "text": [
      "[Parallel(n_jobs=1)]: Using backend SequentialBackend with 1 concurrent workers.\n",
      "[Parallel(n_jobs=1)]: Done   1 out of   1 | elapsed:    0.1s remaining:    0.0s\n",
      "[Parallel(n_jobs=1)]: Done   2 out of   2 | elapsed:    0.3s remaining:    0.0s\n",
      "[Parallel(n_jobs=1)]: Done   3 out of   3 | elapsed:    0.5s remaining:    0.0s\n",
      "[Parallel(n_jobs=1)]: Done   4 out of   4 | elapsed:    0.7s remaining:    0.0s\n",
      "[Parallel(n_jobs=1)]: Done  64 out of  64 | elapsed:   12.4s finished\n"
     ]
    },
    {
     "name": "stdout",
     "output_type": "stream",
     "text": [
      "Not setting metadata\n",
      "Reading F:\\Documents\\Science\\MirRevAdaptEEG\\data\\eeg\\p029\\frn\\p029_aligned_tfr-epo.fif ...\n",
      "    Found the data of interest:\n",
      "        t =   -1500.00 ...    1495.00 ms\n",
      "        0 CTF compensation matrices available\n",
      "Not setting metadata\n",
      "48 matching events found\n",
      "No baseline correction applied\n",
      "0 projection items activated\n"
     ]
    },
    {
     "name": "stderr",
     "output_type": "stream",
     "text": [
      "[Parallel(n_jobs=1)]: Using backend SequentialBackend with 1 concurrent workers.\n",
      "[Parallel(n_jobs=1)]: Done   1 out of   1 | elapsed:    0.1s remaining:    0.0s\n",
      "[Parallel(n_jobs=1)]: Done   2 out of   2 | elapsed:    0.3s remaining:    0.0s\n",
      "[Parallel(n_jobs=1)]: Done   3 out of   3 | elapsed:    0.5s remaining:    0.0s\n",
      "[Parallel(n_jobs=1)]: Done   4 out of   4 | elapsed:    0.7s remaining:    0.0s\n",
      "[Parallel(n_jobs=1)]: Done  64 out of  64 | elapsed:   12.7s finished\n"
     ]
    },
    {
     "name": "stdout",
     "output_type": "stream",
     "text": [
      "Not setting metadata\n",
      "Reading F:\\Documents\\Science\\MirRevAdaptEEG\\data\\eeg\\p030\\frn\\p030_aligned_tfr-epo.fif ...\n",
      "    Found the data of interest:\n",
      "        t =   -1500.00 ...    1495.00 ms\n",
      "        0 CTF compensation matrices available\n",
      "Not setting metadata\n",
      "48 matching events found\n",
      "No baseline correction applied\n",
      "0 projection items activated\n"
     ]
    },
    {
     "name": "stderr",
     "output_type": "stream",
     "text": [
      "[Parallel(n_jobs=1)]: Using backend SequentialBackend with 1 concurrent workers.\n",
      "[Parallel(n_jobs=1)]: Done   1 out of   1 | elapsed:    0.1s remaining:    0.0s\n",
      "[Parallel(n_jobs=1)]: Done   2 out of   2 | elapsed:    0.3s remaining:    0.0s\n",
      "[Parallel(n_jobs=1)]: Done   3 out of   3 | elapsed:    0.5s remaining:    0.0s\n",
      "[Parallel(n_jobs=1)]: Done   4 out of   4 | elapsed:    0.7s remaining:    0.0s\n"
     ]
    },
    {
     "name": "stdout",
     "output_type": "stream",
     "text": [
      "Not setting metadata\n"
     ]
    },
    {
     "name": "stderr",
     "output_type": "stream",
     "text": [
      "[Parallel(n_jobs=1)]: Done  64 out of  64 | elapsed:   12.5s finished\n"
     ]
    },
    {
     "name": "stdout",
     "output_type": "stream",
     "text": [
      "Reading F:\\Documents\\Science\\MirRevAdaptEEG\\data\\eeg\\p031\\frn\\p031_aligned_tfr-epo.fif ...\n",
      "    Found the data of interest:\n",
      "        t =   -1500.00 ...    1495.00 ms\n",
      "        0 CTF compensation matrices available\n",
      "Not setting metadata\n",
      "48 matching events found\n",
      "No baseline correction applied\n",
      "0 projection items activated\n"
     ]
    },
    {
     "name": "stderr",
     "output_type": "stream",
     "text": [
      "[Parallel(n_jobs=1)]: Using backend SequentialBackend with 1 concurrent workers.\n",
      "[Parallel(n_jobs=1)]: Done   1 out of   1 | elapsed:    0.1s remaining:    0.0s\n",
      "[Parallel(n_jobs=1)]: Done   2 out of   2 | elapsed:    0.3s remaining:    0.0s\n",
      "[Parallel(n_jobs=1)]: Done   3 out of   3 | elapsed:    0.5s remaining:    0.0s\n",
      "[Parallel(n_jobs=1)]: Done   4 out of   4 | elapsed:    0.7s remaining:    0.0s\n",
      "[Parallel(n_jobs=1)]: Done  64 out of  64 | elapsed:   12.5s finished\n"
     ]
    },
    {
     "name": "stdout",
     "output_type": "stream",
     "text": [
      "Not setting metadata\n",
      "Identifying common channels ...\n",
      "Reading F:\\Documents\\Science\\MirRevAdaptEEG\\data\\eeg\\p000\\frn\\p000_rdm_tfr-epo.fif ...\n",
      "    Found the data of interest:\n",
      "        t =   -1500.00 ...    1495.00 ms\n",
      "        0 CTF compensation matrices available\n",
      "Not setting metadata\n",
      "96 matching events found\n",
      "No baseline correction applied\n",
      "0 projection items activated\n"
     ]
    },
    {
     "name": "stderr",
     "output_type": "stream",
     "text": [
      "[Parallel(n_jobs=1)]: Using backend SequentialBackend with 1 concurrent workers.\n",
      "[Parallel(n_jobs=1)]: Done   1 out of   1 | elapsed:    0.3s remaining:    0.0s\n",
      "[Parallel(n_jobs=1)]: Done   2 out of   2 | elapsed:    0.7s remaining:    0.0s\n",
      "[Parallel(n_jobs=1)]: Done   3 out of   3 | elapsed:    1.1s remaining:    0.0s\n",
      "[Parallel(n_jobs=1)]: Done   4 out of   4 | elapsed:    1.5s remaining:    0.0s\n",
      "[Parallel(n_jobs=1)]: Done  64 out of  64 | elapsed:   25.0s finished\n"
     ]
    },
    {
     "name": "stdout",
     "output_type": "stream",
     "text": [
      "Not setting metadata\n",
      "Reading F:\\Documents\\Science\\MirRevAdaptEEG\\data\\eeg\\p001\\frn\\p001_rdm_tfr-epo.fif ...\n",
      "    Found the data of interest:\n",
      "        t =   -1500.00 ...    1495.00 ms\n",
      "        0 CTF compensation matrices available\n",
      "Not setting metadata\n",
      "96 matching events found\n",
      "No baseline correction applied\n",
      "0 projection items activated\n"
     ]
    },
    {
     "name": "stderr",
     "output_type": "stream",
     "text": [
      "[Parallel(n_jobs=1)]: Using backend SequentialBackend with 1 concurrent workers.\n",
      "[Parallel(n_jobs=1)]: Done   1 out of   1 | elapsed:    0.3s remaining:    0.0s\n",
      "[Parallel(n_jobs=1)]: Done   2 out of   2 | elapsed:    0.7s remaining:    0.0s\n",
      "[Parallel(n_jobs=1)]: Done   3 out of   3 | elapsed:    1.1s remaining:    0.0s\n",
      "[Parallel(n_jobs=1)]: Done   4 out of   4 | elapsed:    1.5s remaining:    0.0s\n",
      "[Parallel(n_jobs=1)]: Done  64 out of  64 | elapsed:   25.3s finished\n"
     ]
    },
    {
     "name": "stdout",
     "output_type": "stream",
     "text": [
      "Not setting metadata\n",
      "Reading F:\\Documents\\Science\\MirRevAdaptEEG\\data\\eeg\\p002\\frn\\p002_rdm_tfr-epo.fif ...\n",
      "    Found the data of interest:\n",
      "        t =   -1500.00 ...    1495.00 ms\n",
      "        0 CTF compensation matrices available\n",
      "Not setting metadata\n",
      "96 matching events found\n",
      "No baseline correction applied\n",
      "0 projection items activated\n"
     ]
    },
    {
     "name": "stderr",
     "output_type": "stream",
     "text": [
      "[Parallel(n_jobs=1)]: Using backend SequentialBackend with 1 concurrent workers.\n",
      "[Parallel(n_jobs=1)]: Done   1 out of   1 | elapsed:    0.3s remaining:    0.0s\n",
      "[Parallel(n_jobs=1)]: Done   2 out of   2 | elapsed:    0.7s remaining:    0.0s\n",
      "[Parallel(n_jobs=1)]: Done   3 out of   3 | elapsed:    1.1s remaining:    0.0s\n",
      "[Parallel(n_jobs=1)]: Done   4 out of   4 | elapsed:    1.5s remaining:    0.0s\n",
      "[Parallel(n_jobs=1)]: Done  64 out of  64 | elapsed:   25.1s finished\n"
     ]
    },
    {
     "name": "stdout",
     "output_type": "stream",
     "text": [
      "Not setting metadata\n",
      "Reading F:\\Documents\\Science\\MirRevAdaptEEG\\data\\eeg\\p003\\frn\\p003_rdm_tfr-epo.fif ...\n",
      "    Found the data of interest:\n",
      "        t =   -1500.00 ...    1495.00 ms\n",
      "        0 CTF compensation matrices available\n",
      "Not setting metadata\n",
      "96 matching events found\n",
      "No baseline correction applied\n",
      "0 projection items activated\n"
     ]
    },
    {
     "name": "stderr",
     "output_type": "stream",
     "text": [
      "[Parallel(n_jobs=1)]: Using backend SequentialBackend with 1 concurrent workers.\n",
      "[Parallel(n_jobs=1)]: Done   1 out of   1 | elapsed:    0.3s remaining:    0.0s\n",
      "[Parallel(n_jobs=1)]: Done   2 out of   2 | elapsed:    0.7s remaining:    0.0s\n",
      "[Parallel(n_jobs=1)]: Done   3 out of   3 | elapsed:    1.1s remaining:    0.0s\n",
      "[Parallel(n_jobs=1)]: Done   4 out of   4 | elapsed:    1.5s remaining:    0.0s\n",
      "[Parallel(n_jobs=1)]: Done  64 out of  64 | elapsed:   25.0s finished\n"
     ]
    },
    {
     "name": "stdout",
     "output_type": "stream",
     "text": [
      "Not setting metadata\n",
      "Reading F:\\Documents\\Science\\MirRevAdaptEEG\\data\\eeg\\p004\\frn\\p004_rdm_tfr-epo.fif ...\n",
      "    Found the data of interest:\n",
      "        t =   -1500.00 ...    1495.00 ms\n",
      "        0 CTF compensation matrices available\n",
      "Not setting metadata\n",
      "96 matching events found\n",
      "No baseline correction applied\n",
      "0 projection items activated\n"
     ]
    },
    {
     "name": "stderr",
     "output_type": "stream",
     "text": [
      "[Parallel(n_jobs=1)]: Using backend SequentialBackend with 1 concurrent workers.\n",
      "[Parallel(n_jobs=1)]: Done   1 out of   1 | elapsed:    0.3s remaining:    0.0s\n",
      "[Parallel(n_jobs=1)]: Done   2 out of   2 | elapsed:    0.7s remaining:    0.0s\n",
      "[Parallel(n_jobs=1)]: Done   3 out of   3 | elapsed:    1.1s remaining:    0.0s\n",
      "[Parallel(n_jobs=1)]: Done   4 out of   4 | elapsed:    1.5s remaining:    0.0s\n",
      "[Parallel(n_jobs=1)]: Done  64 out of  64 | elapsed:   25.1s finished\n"
     ]
    },
    {
     "name": "stdout",
     "output_type": "stream",
     "text": [
      "Not setting metadata\n",
      "Reading F:\\Documents\\Science\\MirRevAdaptEEG\\data\\eeg\\p005\\frn\\p005_rdm_tfr-epo.fif ...\n",
      "    Found the data of interest:\n",
      "        t =   -1500.00 ...    1495.00 ms\n",
      "        0 CTF compensation matrices available\n",
      "Not setting metadata\n",
      "96 matching events found\n",
      "No baseline correction applied\n",
      "0 projection items activated\n"
     ]
    },
    {
     "name": "stderr",
     "output_type": "stream",
     "text": [
      "[Parallel(n_jobs=1)]: Using backend SequentialBackend with 1 concurrent workers.\n",
      "[Parallel(n_jobs=1)]: Done   1 out of   1 | elapsed:    0.3s remaining:    0.0s\n",
      "[Parallel(n_jobs=1)]: Done   2 out of   2 | elapsed:    0.7s remaining:    0.0s\n",
      "[Parallel(n_jobs=1)]: Done   3 out of   3 | elapsed:    1.2s remaining:    0.0s\n",
      "[Parallel(n_jobs=1)]: Done   4 out of   4 | elapsed:    1.6s remaining:    0.0s\n",
      "[Parallel(n_jobs=1)]: Done  64 out of  64 | elapsed:   25.3s finished\n"
     ]
    },
    {
     "name": "stdout",
     "output_type": "stream",
     "text": [
      "Not setting metadata\n",
      "Reading F:\\Documents\\Science\\MirRevAdaptEEG\\data\\eeg\\p006\\frn\\p006_rdm_tfr-epo.fif ...\n",
      "    Found the data of interest:\n",
      "        t =   -1500.00 ...    1495.00 ms\n",
      "        0 CTF compensation matrices available\n",
      "Not setting metadata\n",
      "96 matching events found\n",
      "No baseline correction applied\n",
      "0 projection items activated\n"
     ]
    },
    {
     "name": "stderr",
     "output_type": "stream",
     "text": [
      "[Parallel(n_jobs=1)]: Using backend SequentialBackend with 1 concurrent workers.\n",
      "[Parallel(n_jobs=1)]: Done   1 out of   1 | elapsed:    0.3s remaining:    0.0s\n",
      "[Parallel(n_jobs=1)]: Done   2 out of   2 | elapsed:    0.7s remaining:    0.0s\n",
      "[Parallel(n_jobs=1)]: Done   3 out of   3 | elapsed:    1.1s remaining:    0.0s\n",
      "[Parallel(n_jobs=1)]: Done   4 out of   4 | elapsed:    1.5s remaining:    0.0s\n",
      "[Parallel(n_jobs=1)]: Done  64 out of  64 | elapsed:   25.1s finished\n"
     ]
    },
    {
     "name": "stdout",
     "output_type": "stream",
     "text": [
      "Not setting metadata\n",
      "Reading F:\\Documents\\Science\\MirRevAdaptEEG\\data\\eeg\\p007\\frn\\p007_rdm_tfr-epo.fif ...\n",
      "    Found the data of interest:\n",
      "        t =   -1500.00 ...    1495.00 ms\n",
      "        0 CTF compensation matrices available\n",
      "Not setting metadata\n",
      "96 matching events found\n",
      "No baseline correction applied\n",
      "0 projection items activated\n"
     ]
    },
    {
     "name": "stderr",
     "output_type": "stream",
     "text": [
      "[Parallel(n_jobs=1)]: Using backend SequentialBackend with 1 concurrent workers.\n",
      "[Parallel(n_jobs=1)]: Done   1 out of   1 | elapsed:    0.3s remaining:    0.0s\n",
      "[Parallel(n_jobs=1)]: Done   2 out of   2 | elapsed:    0.7s remaining:    0.0s\n",
      "[Parallel(n_jobs=1)]: Done   3 out of   3 | elapsed:    1.1s remaining:    0.0s\n",
      "[Parallel(n_jobs=1)]: Done   4 out of   4 | elapsed:    1.5s remaining:    0.0s\n",
      "[Parallel(n_jobs=1)]: Done  64 out of  64 | elapsed:   25.1s finished\n"
     ]
    },
    {
     "name": "stdout",
     "output_type": "stream",
     "text": [
      "Not setting metadata\n",
      "Reading F:\\Documents\\Science\\MirRevAdaptEEG\\data\\eeg\\p008\\frn\\p008_rdm_tfr-epo.fif ...\n",
      "    Found the data of interest:\n",
      "        t =   -1500.00 ...    1495.00 ms\n",
      "        0 CTF compensation matrices available\n",
      "Not setting metadata\n",
      "96 matching events found\n",
      "No baseline correction applied\n",
      "0 projection items activated\n"
     ]
    },
    {
     "name": "stderr",
     "output_type": "stream",
     "text": [
      "[Parallel(n_jobs=1)]: Using backend SequentialBackend with 1 concurrent workers.\n",
      "[Parallel(n_jobs=1)]: Done   1 out of   1 | elapsed:    0.3s remaining:    0.0s\n",
      "[Parallel(n_jobs=1)]: Done   2 out of   2 | elapsed:    0.7s remaining:    0.0s\n",
      "[Parallel(n_jobs=1)]: Done   3 out of   3 | elapsed:    1.1s remaining:    0.0s\n",
      "[Parallel(n_jobs=1)]: Done   4 out of   4 | elapsed:    1.5s remaining:    0.0s\n",
      "[Parallel(n_jobs=1)]: Done  64 out of  64 | elapsed:   25.2s finished\n"
     ]
    },
    {
     "name": "stdout",
     "output_type": "stream",
     "text": [
      "Not setting metadata\n",
      "Reading F:\\Documents\\Science\\MirRevAdaptEEG\\data\\eeg\\p009\\frn\\p009_rdm_tfr-epo.fif ...\n",
      "    Found the data of interest:\n",
      "        t =   -1500.00 ...    1495.00 ms\n",
      "        0 CTF compensation matrices available\n",
      "Not setting metadata\n",
      "96 matching events found\n",
      "No baseline correction applied\n",
      "0 projection items activated\n"
     ]
    },
    {
     "name": "stderr",
     "output_type": "stream",
     "text": [
      "[Parallel(n_jobs=1)]: Using backend SequentialBackend with 1 concurrent workers.\n",
      "[Parallel(n_jobs=1)]: Done   1 out of   1 | elapsed:    0.3s remaining:    0.0s\n",
      "[Parallel(n_jobs=1)]: Done   2 out of   2 | elapsed:    0.7s remaining:    0.0s\n",
      "[Parallel(n_jobs=1)]: Done   3 out of   3 | elapsed:    1.1s remaining:    0.0s\n",
      "[Parallel(n_jobs=1)]: Done   4 out of   4 | elapsed:    1.5s remaining:    0.0s\n",
      "[Parallel(n_jobs=1)]: Done  64 out of  64 | elapsed:   25.0s finished\n"
     ]
    },
    {
     "name": "stdout",
     "output_type": "stream",
     "text": [
      "Not setting metadata\n",
      "Reading F:\\Documents\\Science\\MirRevAdaptEEG\\data\\eeg\\p010\\frn\\p010_rdm_tfr-epo.fif ...\n",
      "    Found the data of interest:\n",
      "        t =   -1500.00 ...    1495.00 ms\n",
      "        0 CTF compensation matrices available\n",
      "Not setting metadata\n",
      "96 matching events found\n",
      "No baseline correction applied\n",
      "0 projection items activated\n"
     ]
    },
    {
     "name": "stderr",
     "output_type": "stream",
     "text": [
      "[Parallel(n_jobs=1)]: Using backend SequentialBackend with 1 concurrent workers.\n",
      "[Parallel(n_jobs=1)]: Done   1 out of   1 | elapsed:    0.3s remaining:    0.0s\n",
      "[Parallel(n_jobs=1)]: Done   2 out of   2 | elapsed:    0.7s remaining:    0.0s\n",
      "[Parallel(n_jobs=1)]: Done   3 out of   3 | elapsed:    1.1s remaining:    0.0s\n",
      "[Parallel(n_jobs=1)]: Done   4 out of   4 | elapsed:    1.5s remaining:    0.0s\n",
      "[Parallel(n_jobs=1)]: Done  64 out of  64 | elapsed:   25.0s finished\n"
     ]
    },
    {
     "name": "stdout",
     "output_type": "stream",
     "text": [
      "Not setting metadata\n",
      "Reading F:\\Documents\\Science\\MirRevAdaptEEG\\data\\eeg\\p011\\frn\\p011_rdm_tfr-epo.fif ...\n",
      "    Found the data of interest:\n",
      "        t =   -1500.00 ...    1495.00 ms\n",
      "        0 CTF compensation matrices available\n",
      "Not setting metadata\n",
      "96 matching events found\n",
      "No baseline correction applied\n",
      "0 projection items activated\n"
     ]
    },
    {
     "name": "stderr",
     "output_type": "stream",
     "text": [
      "[Parallel(n_jobs=1)]: Using backend SequentialBackend with 1 concurrent workers.\n",
      "[Parallel(n_jobs=1)]: Done   1 out of   1 | elapsed:    0.3s remaining:    0.0s\n",
      "[Parallel(n_jobs=1)]: Done   2 out of   2 | elapsed:    0.7s remaining:    0.0s\n",
      "[Parallel(n_jobs=1)]: Done   3 out of   3 | elapsed:    1.1s remaining:    0.0s\n",
      "[Parallel(n_jobs=1)]: Done   4 out of   4 | elapsed:    1.5s remaining:    0.0s\n",
      "[Parallel(n_jobs=1)]: Done  64 out of  64 | elapsed:   25.0s finished\n"
     ]
    },
    {
     "name": "stdout",
     "output_type": "stream",
     "text": [
      "Not setting metadata\n",
      "Reading F:\\Documents\\Science\\MirRevAdaptEEG\\data\\eeg\\p012\\frn\\p012_rdm_tfr-epo.fif ...\n",
      "    Found the data of interest:\n",
      "        t =   -1500.00 ...    1495.00 ms\n",
      "        0 CTF compensation matrices available\n",
      "Not setting metadata\n",
      "95 matching events found\n",
      "No baseline correction applied\n",
      "0 projection items activated\n"
     ]
    },
    {
     "name": "stderr",
     "output_type": "stream",
     "text": [
      "[Parallel(n_jobs=1)]: Using backend SequentialBackend with 1 concurrent workers.\n",
      "[Parallel(n_jobs=1)]: Done   1 out of   1 | elapsed:    0.3s remaining:    0.0s\n",
      "[Parallel(n_jobs=1)]: Done   2 out of   2 | elapsed:    0.7s remaining:    0.0s\n",
      "[Parallel(n_jobs=1)]: Done   3 out of   3 | elapsed:    1.1s remaining:    0.0s\n",
      "[Parallel(n_jobs=1)]: Done   4 out of   4 | elapsed:    1.4s remaining:    0.0s\n",
      "[Parallel(n_jobs=1)]: Done  64 out of  64 | elapsed:   24.6s finished\n"
     ]
    },
    {
     "name": "stdout",
     "output_type": "stream",
     "text": [
      "Not setting metadata\n",
      "Reading F:\\Documents\\Science\\MirRevAdaptEEG\\data\\eeg\\p013\\frn\\p013_rdm_tfr-epo.fif ...\n",
      "    Found the data of interest:\n",
      "        t =   -1500.00 ...    1495.00 ms\n",
      "        0 CTF compensation matrices available\n",
      "Not setting metadata\n",
      "96 matching events found\n",
      "No baseline correction applied\n",
      "0 projection items activated\n"
     ]
    },
    {
     "name": "stderr",
     "output_type": "stream",
     "text": [
      "[Parallel(n_jobs=1)]: Using backend SequentialBackend with 1 concurrent workers.\n",
      "[Parallel(n_jobs=1)]: Done   1 out of   1 | elapsed:    0.3s remaining:    0.0s\n",
      "[Parallel(n_jobs=1)]: Done   2 out of   2 | elapsed:    0.7s remaining:    0.0s\n",
      "[Parallel(n_jobs=1)]: Done   3 out of   3 | elapsed:    1.1s remaining:    0.0s\n",
      "[Parallel(n_jobs=1)]: Done   4 out of   4 | elapsed:    1.5s remaining:    0.0s\n",
      "[Parallel(n_jobs=1)]: Done  64 out of  64 | elapsed:   24.9s finished\n"
     ]
    },
    {
     "name": "stdout",
     "output_type": "stream",
     "text": [
      "Not setting metadata\n",
      "Reading F:\\Documents\\Science\\MirRevAdaptEEG\\data\\eeg\\p014\\frn\\p014_rdm_tfr-epo.fif ...\n",
      "    Found the data of interest:\n",
      "        t =   -1500.00 ...    1495.00 ms\n",
      "        0 CTF compensation matrices available\n",
      "Not setting metadata\n",
      "96 matching events found\n",
      "No baseline correction applied\n",
      "0 projection items activated\n"
     ]
    },
    {
     "name": "stderr",
     "output_type": "stream",
     "text": [
      "[Parallel(n_jobs=1)]: Using backend SequentialBackend with 1 concurrent workers.\n",
      "[Parallel(n_jobs=1)]: Done   1 out of   1 | elapsed:    0.3s remaining:    0.0s\n",
      "[Parallel(n_jobs=1)]: Done   2 out of   2 | elapsed:    0.7s remaining:    0.0s\n",
      "[Parallel(n_jobs=1)]: Done   3 out of   3 | elapsed:    1.1s remaining:    0.0s\n",
      "[Parallel(n_jobs=1)]: Done   4 out of   4 | elapsed:    1.5s remaining:    0.0s\n",
      "[Parallel(n_jobs=1)]: Done  64 out of  64 | elapsed:   25.0s finished\n"
     ]
    },
    {
     "name": "stdout",
     "output_type": "stream",
     "text": [
      "Not setting metadata\n",
      "Reading F:\\Documents\\Science\\MirRevAdaptEEG\\data\\eeg\\p015\\frn\\p015_rdm_tfr-epo.fif ...\n",
      "    Found the data of interest:\n",
      "        t =   -1500.00 ...    1495.00 ms\n",
      "        0 CTF compensation matrices available\n",
      "Not setting metadata\n",
      "96 matching events found\n",
      "No baseline correction applied\n",
      "0 projection items activated\n"
     ]
    },
    {
     "name": "stderr",
     "output_type": "stream",
     "text": [
      "[Parallel(n_jobs=1)]: Using backend SequentialBackend with 1 concurrent workers.\n",
      "[Parallel(n_jobs=1)]: Done   1 out of   1 | elapsed:    0.3s remaining:    0.0s\n",
      "[Parallel(n_jobs=1)]: Done   2 out of   2 | elapsed:    0.7s remaining:    0.0s\n",
      "[Parallel(n_jobs=1)]: Done   3 out of   3 | elapsed:    1.1s remaining:    0.0s\n",
      "[Parallel(n_jobs=1)]: Done   4 out of   4 | elapsed:    1.5s remaining:    0.0s\n",
      "[Parallel(n_jobs=1)]: Done  64 out of  64 | elapsed:   24.9s finished\n"
     ]
    },
    {
     "name": "stdout",
     "output_type": "stream",
     "text": [
      "Not setting metadata\n",
      "Reading F:\\Documents\\Science\\MirRevAdaptEEG\\data\\eeg\\p016\\frn\\p016_rdm_tfr-epo.fif ...\n",
      "    Found the data of interest:\n",
      "        t =   -1500.00 ...    1495.00 ms\n",
      "        0 CTF compensation matrices available\n",
      "Not setting metadata\n",
      "96 matching events found\n",
      "No baseline correction applied\n",
      "0 projection items activated\n"
     ]
    },
    {
     "name": "stderr",
     "output_type": "stream",
     "text": [
      "[Parallel(n_jobs=1)]: Using backend SequentialBackend with 1 concurrent workers.\n",
      "[Parallel(n_jobs=1)]: Done   1 out of   1 | elapsed:    0.3s remaining:    0.0s\n",
      "[Parallel(n_jobs=1)]: Done   2 out of   2 | elapsed:    0.7s remaining:    0.0s\n",
      "[Parallel(n_jobs=1)]: Done   3 out of   3 | elapsed:    1.1s remaining:    0.0s\n",
      "[Parallel(n_jobs=1)]: Done   4 out of   4 | elapsed:    1.5s remaining:    0.0s\n",
      "[Parallel(n_jobs=1)]: Done  64 out of  64 | elapsed:   24.9s finished\n"
     ]
    },
    {
     "name": "stdout",
     "output_type": "stream",
     "text": [
      "Not setting metadata\n",
      "Reading F:\\Documents\\Science\\MirRevAdaptEEG\\data\\eeg\\p017\\frn\\p017_rdm_tfr-epo.fif ...\n",
      "    Found the data of interest:\n",
      "        t =   -1500.00 ...    1495.00 ms\n",
      "        0 CTF compensation matrices available\n",
      "Not setting metadata\n",
      "96 matching events found\n",
      "No baseline correction applied\n",
      "0 projection items activated\n"
     ]
    },
    {
     "name": "stderr",
     "output_type": "stream",
     "text": [
      "[Parallel(n_jobs=1)]: Using backend SequentialBackend with 1 concurrent workers.\n",
      "[Parallel(n_jobs=1)]: Done   1 out of   1 | elapsed:    0.3s remaining:    0.0s\n",
      "[Parallel(n_jobs=1)]: Done   2 out of   2 | elapsed:    0.7s remaining:    0.0s\n",
      "[Parallel(n_jobs=1)]: Done   3 out of   3 | elapsed:    1.1s remaining:    0.0s\n",
      "[Parallel(n_jobs=1)]: Done   4 out of   4 | elapsed:    1.5s remaining:    0.0s\n",
      "[Parallel(n_jobs=1)]: Done  64 out of  64 | elapsed:   24.9s finished\n"
     ]
    },
    {
     "name": "stdout",
     "output_type": "stream",
     "text": [
      "Not setting metadata\n",
      "Reading F:\\Documents\\Science\\MirRevAdaptEEG\\data\\eeg\\p018\\frn\\p018_rdm_tfr-epo.fif ...\n",
      "    Found the data of interest:\n",
      "        t =   -1500.00 ...    1495.00 ms\n",
      "        0 CTF compensation matrices available\n",
      "Not setting metadata\n",
      "96 matching events found\n",
      "No baseline correction applied\n",
      "0 projection items activated\n"
     ]
    },
    {
     "name": "stderr",
     "output_type": "stream",
     "text": [
      "[Parallel(n_jobs=1)]: Using backend SequentialBackend with 1 concurrent workers.\n",
      "[Parallel(n_jobs=1)]: Done   1 out of   1 | elapsed:    0.3s remaining:    0.0s\n",
      "[Parallel(n_jobs=1)]: Done   2 out of   2 | elapsed:    0.7s remaining:    0.0s\n",
      "[Parallel(n_jobs=1)]: Done   3 out of   3 | elapsed:    1.1s remaining:    0.0s\n",
      "[Parallel(n_jobs=1)]: Done   4 out of   4 | elapsed:    1.5s remaining:    0.0s\n",
      "[Parallel(n_jobs=1)]: Done  64 out of  64 | elapsed:   24.9s finished\n"
     ]
    },
    {
     "name": "stdout",
     "output_type": "stream",
     "text": [
      "Not setting metadata\n",
      "Reading F:\\Documents\\Science\\MirRevAdaptEEG\\data\\eeg\\p019\\frn\\p019_rdm_tfr-epo.fif ...\n",
      "    Found the data of interest:\n",
      "        t =   -1500.00 ...    1495.00 ms\n",
      "        0 CTF compensation matrices available\n",
      "Not setting metadata\n",
      "96 matching events found\n",
      "No baseline correction applied\n",
      "0 projection items activated\n"
     ]
    },
    {
     "name": "stderr",
     "output_type": "stream",
     "text": [
      "[Parallel(n_jobs=1)]: Using backend SequentialBackend with 1 concurrent workers.\n",
      "[Parallel(n_jobs=1)]: Done   1 out of   1 | elapsed:    0.3s remaining:    0.0s\n",
      "[Parallel(n_jobs=1)]: Done   2 out of   2 | elapsed:    0.7s remaining:    0.0s\n",
      "[Parallel(n_jobs=1)]: Done   3 out of   3 | elapsed:    1.1s remaining:    0.0s\n",
      "[Parallel(n_jobs=1)]: Done   4 out of   4 | elapsed:    1.5s remaining:    0.0s\n",
      "[Parallel(n_jobs=1)]: Done  64 out of  64 | elapsed:   24.9s finished\n"
     ]
    },
    {
     "name": "stdout",
     "output_type": "stream",
     "text": [
      "Not setting metadata\n",
      "Reading F:\\Documents\\Science\\MirRevAdaptEEG\\data\\eeg\\p020\\frn\\p020_rdm_tfr-epo.fif ...\n",
      "    Found the data of interest:\n",
      "        t =   -1500.00 ...    1495.00 ms\n",
      "        0 CTF compensation matrices available\n",
      "Not setting metadata\n",
      "96 matching events found\n",
      "No baseline correction applied\n",
      "0 projection items activated\n"
     ]
    },
    {
     "name": "stderr",
     "output_type": "stream",
     "text": [
      "[Parallel(n_jobs=1)]: Using backend SequentialBackend with 1 concurrent workers.\n",
      "[Parallel(n_jobs=1)]: Done   1 out of   1 | elapsed:    0.3s remaining:    0.0s\n",
      "[Parallel(n_jobs=1)]: Done   2 out of   2 | elapsed:    0.7s remaining:    0.0s\n",
      "[Parallel(n_jobs=1)]: Done   3 out of   3 | elapsed:    1.1s remaining:    0.0s\n",
      "[Parallel(n_jobs=1)]: Done   4 out of   4 | elapsed:    1.5s remaining:    0.0s\n",
      "[Parallel(n_jobs=1)]: Done  64 out of  64 | elapsed:   25.0s finished\n"
     ]
    },
    {
     "name": "stdout",
     "output_type": "stream",
     "text": [
      "Not setting metadata\n",
      "Reading F:\\Documents\\Science\\MirRevAdaptEEG\\data\\eeg\\p021\\frn\\p021_rdm_tfr-epo.fif ...\n",
      "    Found the data of interest:\n",
      "        t =   -1500.00 ...    1495.00 ms\n",
      "        0 CTF compensation matrices available\n",
      "Not setting metadata\n",
      "96 matching events found\n",
      "No baseline correction applied\n",
      "0 projection items activated\n"
     ]
    },
    {
     "name": "stderr",
     "output_type": "stream",
     "text": [
      "[Parallel(n_jobs=1)]: Using backend SequentialBackend with 1 concurrent workers.\n",
      "[Parallel(n_jobs=1)]: Done   1 out of   1 | elapsed:    0.3s remaining:    0.0s\n",
      "[Parallel(n_jobs=1)]: Done   2 out of   2 | elapsed:    0.7s remaining:    0.0s\n",
      "[Parallel(n_jobs=1)]: Done   3 out of   3 | elapsed:    1.1s remaining:    0.0s\n",
      "[Parallel(n_jobs=1)]: Done   4 out of   4 | elapsed:    1.5s remaining:    0.0s\n",
      "[Parallel(n_jobs=1)]: Done  64 out of  64 | elapsed:   24.8s finished\n"
     ]
    },
    {
     "name": "stdout",
     "output_type": "stream",
     "text": [
      "Not setting metadata\n",
      "Reading F:\\Documents\\Science\\MirRevAdaptEEG\\data\\eeg\\p022\\frn\\p022_rdm_tfr-epo.fif ...\n",
      "    Found the data of interest:\n",
      "        t =   -1500.00 ...    1495.00 ms\n",
      "        0 CTF compensation matrices available\n",
      "Not setting metadata\n",
      "96 matching events found\n",
      "No baseline correction applied\n",
      "0 projection items activated\n"
     ]
    },
    {
     "name": "stderr",
     "output_type": "stream",
     "text": [
      "[Parallel(n_jobs=1)]: Using backend SequentialBackend with 1 concurrent workers.\n",
      "[Parallel(n_jobs=1)]: Done   1 out of   1 | elapsed:    0.3s remaining:    0.0s\n",
      "[Parallel(n_jobs=1)]: Done   2 out of   2 | elapsed:    0.7s remaining:    0.0s\n",
      "[Parallel(n_jobs=1)]: Done   3 out of   3 | elapsed:    1.1s remaining:    0.0s\n",
      "[Parallel(n_jobs=1)]: Done   4 out of   4 | elapsed:    1.5s remaining:    0.0s\n",
      "[Parallel(n_jobs=1)]: Done  64 out of  64 | elapsed:   24.9s finished\n"
     ]
    },
    {
     "name": "stdout",
     "output_type": "stream",
     "text": [
      "Not setting metadata\n",
      "Reading F:\\Documents\\Science\\MirRevAdaptEEG\\data\\eeg\\p023\\frn\\p023_rdm_tfr-epo.fif ...\n",
      "    Found the data of interest:\n",
      "        t =   -1500.00 ...    1495.00 ms\n",
      "        0 CTF compensation matrices available\n",
      "Not setting metadata\n",
      "96 matching events found\n",
      "No baseline correction applied\n",
      "0 projection items activated\n"
     ]
    },
    {
     "name": "stderr",
     "output_type": "stream",
     "text": [
      "[Parallel(n_jobs=1)]: Using backend SequentialBackend with 1 concurrent workers.\n",
      "[Parallel(n_jobs=1)]: Done   1 out of   1 | elapsed:    0.3s remaining:    0.0s\n",
      "[Parallel(n_jobs=1)]: Done   2 out of   2 | elapsed:    0.7s remaining:    0.0s\n",
      "[Parallel(n_jobs=1)]: Done   3 out of   3 | elapsed:    1.1s remaining:    0.0s\n",
      "[Parallel(n_jobs=1)]: Done   4 out of   4 | elapsed:    1.5s remaining:    0.0s\n",
      "[Parallel(n_jobs=1)]: Done  64 out of  64 | elapsed:   24.9s finished\n"
     ]
    },
    {
     "name": "stdout",
     "output_type": "stream",
     "text": [
      "Not setting metadata\n",
      "Reading F:\\Documents\\Science\\MirRevAdaptEEG\\data\\eeg\\p024\\frn\\p024_rdm_tfr-epo.fif ...\n",
      "    Found the data of interest:\n",
      "        t =   -1500.00 ...    1495.00 ms\n",
      "        0 CTF compensation matrices available\n",
      "Not setting metadata\n",
      "96 matching events found\n",
      "No baseline correction applied\n",
      "0 projection items activated\n"
     ]
    },
    {
     "name": "stderr",
     "output_type": "stream",
     "text": [
      "[Parallel(n_jobs=1)]: Using backend SequentialBackend with 1 concurrent workers.\n",
      "[Parallel(n_jobs=1)]: Done   1 out of   1 | elapsed:    0.3s remaining:    0.0s\n",
      "[Parallel(n_jobs=1)]: Done   2 out of   2 | elapsed:    0.7s remaining:    0.0s\n",
      "[Parallel(n_jobs=1)]: Done   3 out of   3 | elapsed:    1.1s remaining:    0.0s\n",
      "[Parallel(n_jobs=1)]: Done   4 out of   4 | elapsed:    1.5s remaining:    0.0s\n",
      "[Parallel(n_jobs=1)]: Done  64 out of  64 | elapsed:   25.0s finished\n"
     ]
    },
    {
     "name": "stdout",
     "output_type": "stream",
     "text": [
      "Not setting metadata\n",
      "Reading F:\\Documents\\Science\\MirRevAdaptEEG\\data\\eeg\\p025\\frn\\p025_rdm_tfr-epo.fif ...\n",
      "    Found the data of interest:\n",
      "        t =   -1500.00 ...    1495.00 ms\n",
      "        0 CTF compensation matrices available\n",
      "Not setting metadata\n",
      "96 matching events found\n",
      "No baseline correction applied\n",
      "0 projection items activated\n"
     ]
    },
    {
     "name": "stderr",
     "output_type": "stream",
     "text": [
      "[Parallel(n_jobs=1)]: Using backend SequentialBackend with 1 concurrent workers.\n",
      "[Parallel(n_jobs=1)]: Done   1 out of   1 | elapsed:    0.3s remaining:    0.0s\n",
      "[Parallel(n_jobs=1)]: Done   2 out of   2 | elapsed:    0.7s remaining:    0.0s\n",
      "[Parallel(n_jobs=1)]: Done   3 out of   3 | elapsed:    1.1s remaining:    0.0s\n",
      "[Parallel(n_jobs=1)]: Done   4 out of   4 | elapsed:    1.5s remaining:    0.0s\n",
      "[Parallel(n_jobs=1)]: Done  64 out of  64 | elapsed:   24.8s finished\n"
     ]
    },
    {
     "name": "stdout",
     "output_type": "stream",
     "text": [
      "Not setting metadata\n",
      "Reading F:\\Documents\\Science\\MirRevAdaptEEG\\data\\eeg\\p026\\frn\\p026_rdm_tfr-epo.fif ...\n",
      "    Found the data of interest:\n",
      "        t =   -1500.00 ...    1495.00 ms\n",
      "        0 CTF compensation matrices available\n",
      "Not setting metadata\n",
      "96 matching events found\n",
      "No baseline correction applied\n",
      "0 projection items activated\n"
     ]
    },
    {
     "name": "stderr",
     "output_type": "stream",
     "text": [
      "[Parallel(n_jobs=1)]: Using backend SequentialBackend with 1 concurrent workers.\n",
      "[Parallel(n_jobs=1)]: Done   1 out of   1 | elapsed:    0.3s remaining:    0.0s\n",
      "[Parallel(n_jobs=1)]: Done   2 out of   2 | elapsed:    0.7s remaining:    0.0s\n",
      "[Parallel(n_jobs=1)]: Done   3 out of   3 | elapsed:    1.1s remaining:    0.0s\n",
      "[Parallel(n_jobs=1)]: Done   4 out of   4 | elapsed:    1.5s remaining:    0.0s\n",
      "[Parallel(n_jobs=1)]: Done  64 out of  64 | elapsed:   24.9s finished\n"
     ]
    },
    {
     "name": "stdout",
     "output_type": "stream",
     "text": [
      "Not setting metadata\n",
      "Reading F:\\Documents\\Science\\MirRevAdaptEEG\\data\\eeg\\p027\\frn\\p027_rdm_tfr-epo.fif ...\n",
      "    Found the data of interest:\n",
      "        t =   -1500.00 ...    1495.00 ms\n",
      "        0 CTF compensation matrices available\n",
      "Not setting metadata\n",
      "96 matching events found\n",
      "No baseline correction applied\n",
      "0 projection items activated\n"
     ]
    },
    {
     "name": "stderr",
     "output_type": "stream",
     "text": [
      "[Parallel(n_jobs=1)]: Using backend SequentialBackend with 1 concurrent workers.\n",
      "[Parallel(n_jobs=1)]: Done   1 out of   1 | elapsed:    0.3s remaining:    0.0s\n",
      "[Parallel(n_jobs=1)]: Done   2 out of   2 | elapsed:    0.7s remaining:    0.0s\n",
      "[Parallel(n_jobs=1)]: Done   3 out of   3 | elapsed:    1.1s remaining:    0.0s\n",
      "[Parallel(n_jobs=1)]: Done   4 out of   4 | elapsed:    1.5s remaining:    0.0s\n",
      "[Parallel(n_jobs=1)]: Done  64 out of  64 | elapsed:   25.0s finished\n"
     ]
    },
    {
     "name": "stdout",
     "output_type": "stream",
     "text": [
      "Not setting metadata\n",
      "Reading F:\\Documents\\Science\\MirRevAdaptEEG\\data\\eeg\\p028\\frn\\p028_rdm_tfr-epo.fif ...\n",
      "    Found the data of interest:\n",
      "        t =   -1500.00 ...    1495.00 ms\n",
      "        0 CTF compensation matrices available\n",
      "Not setting metadata\n",
      "96 matching events found\n",
      "No baseline correction applied\n",
      "0 projection items activated\n"
     ]
    },
    {
     "name": "stderr",
     "output_type": "stream",
     "text": [
      "[Parallel(n_jobs=1)]: Using backend SequentialBackend with 1 concurrent workers.\n",
      "[Parallel(n_jobs=1)]: Done   1 out of   1 | elapsed:    0.3s remaining:    0.0s\n",
      "[Parallel(n_jobs=1)]: Done   2 out of   2 | elapsed:    0.7s remaining:    0.0s\n",
      "[Parallel(n_jobs=1)]: Done   3 out of   3 | elapsed:    1.1s remaining:    0.0s\n",
      "[Parallel(n_jobs=1)]: Done   4 out of   4 | elapsed:    1.5s remaining:    0.0s\n",
      "[Parallel(n_jobs=1)]: Done  64 out of  64 | elapsed:   24.9s finished\n"
     ]
    },
    {
     "name": "stdout",
     "output_type": "stream",
     "text": [
      "Not setting metadata\n",
      "Reading F:\\Documents\\Science\\MirRevAdaptEEG\\data\\eeg\\p029\\frn\\p029_rdm_tfr-epo.fif ...\n",
      "    Found the data of interest:\n",
      "        t =   -1500.00 ...    1495.00 ms\n",
      "        0 CTF compensation matrices available\n",
      "Not setting metadata\n",
      "96 matching events found\n",
      "No baseline correction applied\n",
      "0 projection items activated\n"
     ]
    },
    {
     "name": "stderr",
     "output_type": "stream",
     "text": [
      "[Parallel(n_jobs=1)]: Using backend SequentialBackend with 1 concurrent workers.\n",
      "[Parallel(n_jobs=1)]: Done   1 out of   1 | elapsed:    0.3s remaining:    0.0s\n",
      "[Parallel(n_jobs=1)]: Done   2 out of   2 | elapsed:    0.7s remaining:    0.0s\n",
      "[Parallel(n_jobs=1)]: Done   3 out of   3 | elapsed:    1.1s remaining:    0.0s\n",
      "[Parallel(n_jobs=1)]: Done   4 out of   4 | elapsed:    1.5s remaining:    0.0s\n",
      "[Parallel(n_jobs=1)]: Done  64 out of  64 | elapsed:   25.0s finished\n"
     ]
    },
    {
     "name": "stdout",
     "output_type": "stream",
     "text": [
      "Not setting metadata\n",
      "Reading F:\\Documents\\Science\\MirRevAdaptEEG\\data\\eeg\\p030\\frn\\p030_rdm_tfr-epo.fif ...\n",
      "    Found the data of interest:\n",
      "        t =   -1500.00 ...    1495.00 ms\n",
      "        0 CTF compensation matrices available\n",
      "Not setting metadata\n",
      "96 matching events found\n",
      "No baseline correction applied\n",
      "0 projection items activated\n"
     ]
    },
    {
     "name": "stderr",
     "output_type": "stream",
     "text": [
      "[Parallel(n_jobs=1)]: Using backend SequentialBackend with 1 concurrent workers.\n",
      "[Parallel(n_jobs=1)]: Done   1 out of   1 | elapsed:    0.3s remaining:    0.0s\n",
      "[Parallel(n_jobs=1)]: Done   2 out of   2 | elapsed:    0.7s remaining:    0.0s\n",
      "[Parallel(n_jobs=1)]: Done   3 out of   3 | elapsed:    1.1s remaining:    0.0s\n",
      "[Parallel(n_jobs=1)]: Done   4 out of   4 | elapsed:    1.5s remaining:    0.0s\n",
      "[Parallel(n_jobs=1)]: Done  64 out of  64 | elapsed:   24.9s finished\n"
     ]
    },
    {
     "name": "stdout",
     "output_type": "stream",
     "text": [
      "Not setting metadata\n",
      "Reading F:\\Documents\\Science\\MirRevAdaptEEG\\data\\eeg\\p031\\frn\\p031_rdm_tfr-epo.fif ...\n",
      "    Found the data of interest:\n",
      "        t =   -1500.00 ...    1495.00 ms\n",
      "        0 CTF compensation matrices available\n",
      "Not setting metadata\n",
      "96 matching events found\n",
      "No baseline correction applied\n",
      "0 projection items activated\n"
     ]
    },
    {
     "name": "stderr",
     "output_type": "stream",
     "text": [
      "[Parallel(n_jobs=1)]: Using backend SequentialBackend with 1 concurrent workers.\n",
      "[Parallel(n_jobs=1)]: Done   1 out of   1 | elapsed:    0.3s remaining:    0.0s\n",
      "[Parallel(n_jobs=1)]: Done   2 out of   2 | elapsed:    0.7s remaining:    0.0s\n",
      "[Parallel(n_jobs=1)]: Done   3 out of   3 | elapsed:    1.1s remaining:    0.0s\n",
      "[Parallel(n_jobs=1)]: Done   4 out of   4 | elapsed:    1.5s remaining:    0.0s\n",
      "[Parallel(n_jobs=1)]: Done  64 out of  64 | elapsed:   24.9s finished\n"
     ]
    },
    {
     "name": "stdout",
     "output_type": "stream",
     "text": [
      "Not setting metadata\n",
      "Identifying common channels ...\n",
      "Reading F:\\Documents\\Science\\MirRevAdaptEEG\\data\\eeg\\p000\\frn\\p000_rot_tfr-epo.fif ...\n",
      "    Found the data of interest:\n",
      "        t =   -1500.00 ...    1495.00 ms\n",
      "        0 CTF compensation matrices available\n",
      "Not setting metadata\n",
      "90 matching events found\n",
      "No baseline correction applied\n",
      "0 projection items activated\n"
     ]
    },
    {
     "name": "stderr",
     "output_type": "stream",
     "text": [
      "[Parallel(n_jobs=1)]: Using backend SequentialBackend with 1 concurrent workers.\n",
      "[Parallel(n_jobs=1)]: Done   1 out of   1 | elapsed:    0.3s remaining:    0.0s\n",
      "[Parallel(n_jobs=1)]: Done   2 out of   2 | elapsed:    0.6s remaining:    0.0s\n",
      "[Parallel(n_jobs=1)]: Done   3 out of   3 | elapsed:    1.0s remaining:    0.0s\n",
      "[Parallel(n_jobs=1)]: Done   4 out of   4 | elapsed:    1.4s remaining:    0.0s\n",
      "[Parallel(n_jobs=1)]: Done  64 out of  64 | elapsed:   23.3s finished\n"
     ]
    },
    {
     "name": "stdout",
     "output_type": "stream",
     "text": [
      "Not setting metadata\n",
      "Reading F:\\Documents\\Science\\MirRevAdaptEEG\\data\\eeg\\p001\\frn\\p001_rot_tfr-epo.fif ...\n",
      "    Found the data of interest:\n",
      "        t =   -1500.00 ...    1495.00 ms\n",
      "        0 CTF compensation matrices available\n",
      "Not setting metadata\n",
      "90 matching events found\n",
      "No baseline correction applied\n",
      "0 projection items activated\n"
     ]
    },
    {
     "name": "stderr",
     "output_type": "stream",
     "text": [
      "[Parallel(n_jobs=1)]: Using backend SequentialBackend with 1 concurrent workers.\n",
      "[Parallel(n_jobs=1)]: Done   1 out of   1 | elapsed:    0.3s remaining:    0.0s\n",
      "[Parallel(n_jobs=1)]: Done   2 out of   2 | elapsed:    0.6s remaining:    0.0s\n",
      "[Parallel(n_jobs=1)]: Done   3 out of   3 | elapsed:    1.0s remaining:    0.0s\n",
      "[Parallel(n_jobs=1)]: Done   4 out of   4 | elapsed:    1.4s remaining:    0.0s\n",
      "[Parallel(n_jobs=1)]: Done  64 out of  64 | elapsed:   23.5s finished\n"
     ]
    },
    {
     "name": "stdout",
     "output_type": "stream",
     "text": [
      "Not setting metadata\n",
      "Reading F:\\Documents\\Science\\MirRevAdaptEEG\\data\\eeg\\p002\\frn\\p002_rot_tfr-epo.fif ...\n",
      "    Found the data of interest:\n",
      "        t =   -1500.00 ...    1495.00 ms\n",
      "        0 CTF compensation matrices available\n",
      "Not setting metadata\n",
      "90 matching events found\n",
      "No baseline correction applied\n",
      "0 projection items activated\n"
     ]
    },
    {
     "name": "stderr",
     "output_type": "stream",
     "text": [
      "[Parallel(n_jobs=1)]: Using backend SequentialBackend with 1 concurrent workers.\n",
      "[Parallel(n_jobs=1)]: Done   1 out of   1 | elapsed:    0.3s remaining:    0.0s\n",
      "[Parallel(n_jobs=1)]: Done   2 out of   2 | elapsed:    0.6s remaining:    0.0s\n",
      "[Parallel(n_jobs=1)]: Done   3 out of   3 | elapsed:    1.0s remaining:    0.0s\n",
      "[Parallel(n_jobs=1)]: Done   4 out of   4 | elapsed:    1.4s remaining:    0.0s\n",
      "[Parallel(n_jobs=1)]: Done  64 out of  64 | elapsed:   23.3s finished\n"
     ]
    },
    {
     "name": "stdout",
     "output_type": "stream",
     "text": [
      "Not setting metadata\n",
      "Reading F:\\Documents\\Science\\MirRevAdaptEEG\\data\\eeg\\p003\\frn\\p003_rot_tfr-epo.fif ...\n",
      "    Found the data of interest:\n",
      "        t =   -1500.00 ...    1495.00 ms\n",
      "        0 CTF compensation matrices available\n",
      "Not setting metadata\n",
      "90 matching events found\n",
      "No baseline correction applied\n",
      "0 projection items activated\n"
     ]
    },
    {
     "name": "stderr",
     "output_type": "stream",
     "text": [
      "[Parallel(n_jobs=1)]: Using backend SequentialBackend with 1 concurrent workers.\n",
      "[Parallel(n_jobs=1)]: Done   1 out of   1 | elapsed:    0.3s remaining:    0.0s\n",
      "[Parallel(n_jobs=1)]: Done   2 out of   2 | elapsed:    0.6s remaining:    0.0s\n",
      "[Parallel(n_jobs=1)]: Done   3 out of   3 | elapsed:    1.0s remaining:    0.0s\n",
      "[Parallel(n_jobs=1)]: Done   4 out of   4 | elapsed:    1.4s remaining:    0.0s\n",
      "[Parallel(n_jobs=1)]: Done  64 out of  64 | elapsed:   23.4s finished\n"
     ]
    },
    {
     "name": "stdout",
     "output_type": "stream",
     "text": [
      "Not setting metadata\n",
      "Reading F:\\Documents\\Science\\MirRevAdaptEEG\\data\\eeg\\p004\\frn\\p004_rot_tfr-epo.fif ...\n",
      "    Found the data of interest:\n",
      "        t =   -1500.00 ...    1495.00 ms\n",
      "        0 CTF compensation matrices available\n",
      "Not setting metadata\n",
      "90 matching events found\n",
      "No baseline correction applied\n",
      "0 projection items activated\n"
     ]
    },
    {
     "name": "stderr",
     "output_type": "stream",
     "text": [
      "[Parallel(n_jobs=1)]: Using backend SequentialBackend with 1 concurrent workers.\n",
      "[Parallel(n_jobs=1)]: Done   1 out of   1 | elapsed:    0.3s remaining:    0.0s\n",
      "[Parallel(n_jobs=1)]: Done   2 out of   2 | elapsed:    0.6s remaining:    0.0s\n",
      "[Parallel(n_jobs=1)]: Done   3 out of   3 | elapsed:    1.0s remaining:    0.0s\n",
      "[Parallel(n_jobs=1)]: Done   4 out of   4 | elapsed:    1.4s remaining:    0.0s\n",
      "[Parallel(n_jobs=1)]: Done  64 out of  64 | elapsed:   23.3s finished\n"
     ]
    },
    {
     "name": "stdout",
     "output_type": "stream",
     "text": [
      "Not setting metadata\n",
      "Reading F:\\Documents\\Science\\MirRevAdaptEEG\\data\\eeg\\p005\\frn\\p005_rot_tfr-epo.fif ...\n",
      "    Found the data of interest:\n",
      "        t =   -1500.00 ...    1495.00 ms\n",
      "        0 CTF compensation matrices available\n",
      "Not setting metadata\n",
      "90 matching events found\n",
      "No baseline correction applied\n",
      "0 projection items activated\n"
     ]
    },
    {
     "name": "stderr",
     "output_type": "stream",
     "text": [
      "[Parallel(n_jobs=1)]: Using backend SequentialBackend with 1 concurrent workers.\n",
      "[Parallel(n_jobs=1)]: Done   1 out of   1 | elapsed:    0.3s remaining:    0.0s\n",
      "[Parallel(n_jobs=1)]: Done   2 out of   2 | elapsed:    0.6s remaining:    0.0s\n",
      "[Parallel(n_jobs=1)]: Done   3 out of   3 | elapsed:    1.0s remaining:    0.0s\n",
      "[Parallel(n_jobs=1)]: Done   4 out of   4 | elapsed:    1.4s remaining:    0.0s\n",
      "[Parallel(n_jobs=1)]: Done  64 out of  64 | elapsed:   23.4s finished\n"
     ]
    },
    {
     "name": "stdout",
     "output_type": "stream",
     "text": [
      "Not setting metadata\n",
      "Reading F:\\Documents\\Science\\MirRevAdaptEEG\\data\\eeg\\p006\\frn\\p006_rot_tfr-epo.fif ...\n",
      "    Found the data of interest:\n",
      "        t =   -1500.00 ...    1495.00 ms\n",
      "        0 CTF compensation matrices available\n",
      "Not setting metadata\n",
      "90 matching events found\n",
      "No baseline correction applied\n",
      "0 projection items activated\n"
     ]
    },
    {
     "name": "stderr",
     "output_type": "stream",
     "text": [
      "[Parallel(n_jobs=1)]: Using backend SequentialBackend with 1 concurrent workers.\n",
      "[Parallel(n_jobs=1)]: Done   1 out of   1 | elapsed:    0.3s remaining:    0.0s\n",
      "[Parallel(n_jobs=1)]: Done   2 out of   2 | elapsed:    0.6s remaining:    0.0s\n",
      "[Parallel(n_jobs=1)]: Done   3 out of   3 | elapsed:    1.0s remaining:    0.0s\n",
      "[Parallel(n_jobs=1)]: Done   4 out of   4 | elapsed:    1.4s remaining:    0.0s\n",
      "[Parallel(n_jobs=1)]: Done  64 out of  64 | elapsed:   23.3s finished\n"
     ]
    },
    {
     "name": "stdout",
     "output_type": "stream",
     "text": [
      "Not setting metadata\n",
      "Reading F:\\Documents\\Science\\MirRevAdaptEEG\\data\\eeg\\p007\\frn\\p007_rot_tfr-epo.fif ...\n",
      "    Found the data of interest:\n",
      "        t =   -1500.00 ...    1495.00 ms\n",
      "        0 CTF compensation matrices available\n",
      "Not setting metadata\n",
      "90 matching events found\n",
      "No baseline correction applied\n",
      "0 projection items activated\n"
     ]
    },
    {
     "name": "stderr",
     "output_type": "stream",
     "text": [
      "[Parallel(n_jobs=1)]: Using backend SequentialBackend with 1 concurrent workers.\n",
      "[Parallel(n_jobs=1)]: Done   1 out of   1 | elapsed:    0.3s remaining:    0.0s\n",
      "[Parallel(n_jobs=1)]: Done   2 out of   2 | elapsed:    0.6s remaining:    0.0s\n",
      "[Parallel(n_jobs=1)]: Done   3 out of   3 | elapsed:    1.0s remaining:    0.0s\n",
      "[Parallel(n_jobs=1)]: Done   4 out of   4 | elapsed:    1.4s remaining:    0.0s\n",
      "[Parallel(n_jobs=1)]: Done  64 out of  64 | elapsed:   23.3s finished\n"
     ]
    },
    {
     "name": "stdout",
     "output_type": "stream",
     "text": [
      "Not setting metadata\n",
      "Reading F:\\Documents\\Science\\MirRevAdaptEEG\\data\\eeg\\p008\\frn\\p008_rot_tfr-epo.fif ...\n",
      "    Found the data of interest:\n",
      "        t =   -1500.00 ...    1495.00 ms\n",
      "        0 CTF compensation matrices available\n",
      "Not setting metadata\n",
      "90 matching events found\n",
      "No baseline correction applied\n",
      "0 projection items activated\n"
     ]
    },
    {
     "name": "stderr",
     "output_type": "stream",
     "text": [
      "[Parallel(n_jobs=1)]: Using backend SequentialBackend with 1 concurrent workers.\n",
      "[Parallel(n_jobs=1)]: Done   1 out of   1 | elapsed:    0.3s remaining:    0.0s\n",
      "[Parallel(n_jobs=1)]: Done   2 out of   2 | elapsed:    0.6s remaining:    0.0s\n",
      "[Parallel(n_jobs=1)]: Done   3 out of   3 | elapsed:    1.0s remaining:    0.0s\n",
      "[Parallel(n_jobs=1)]: Done   4 out of   4 | elapsed:    1.4s remaining:    0.0s\n",
      "[Parallel(n_jobs=1)]: Done  64 out of  64 | elapsed:   23.4s finished\n"
     ]
    },
    {
     "name": "stdout",
     "output_type": "stream",
     "text": [
      "Not setting metadata\n",
      "Reading F:\\Documents\\Science\\MirRevAdaptEEG\\data\\eeg\\p009\\frn\\p009_rot_tfr-epo.fif ...\n",
      "    Found the data of interest:\n",
      "        t =   -1500.00 ...    1495.00 ms\n",
      "        0 CTF compensation matrices available\n",
      "Not setting metadata\n",
      "90 matching events found\n",
      "No baseline correction applied\n",
      "0 projection items activated\n"
     ]
    },
    {
     "name": "stderr",
     "output_type": "stream",
     "text": [
      "[Parallel(n_jobs=1)]: Using backend SequentialBackend with 1 concurrent workers.\n",
      "[Parallel(n_jobs=1)]: Done   1 out of   1 | elapsed:    0.3s remaining:    0.0s\n",
      "[Parallel(n_jobs=1)]: Done   2 out of   2 | elapsed:    0.6s remaining:    0.0s\n",
      "[Parallel(n_jobs=1)]: Done   3 out of   3 | elapsed:    1.0s remaining:    0.0s\n",
      "[Parallel(n_jobs=1)]: Done   4 out of   4 | elapsed:    1.4s remaining:    0.0s\n",
      "[Parallel(n_jobs=1)]: Done  64 out of  64 | elapsed:   23.3s finished\n"
     ]
    },
    {
     "name": "stdout",
     "output_type": "stream",
     "text": [
      "Not setting metadata\n",
      "Reading F:\\Documents\\Science\\MirRevAdaptEEG\\data\\eeg\\p010\\frn\\p010_rot_tfr-epo.fif ...\n",
      "    Found the data of interest:\n",
      "        t =   -1500.00 ...    1495.00 ms\n",
      "        0 CTF compensation matrices available\n",
      "Not setting metadata\n",
      "90 matching events found\n",
      "No baseline correction applied\n",
      "0 projection items activated\n"
     ]
    },
    {
     "name": "stderr",
     "output_type": "stream",
     "text": [
      "[Parallel(n_jobs=1)]: Using backend SequentialBackend with 1 concurrent workers.\n",
      "[Parallel(n_jobs=1)]: Done   1 out of   1 | elapsed:    0.3s remaining:    0.0s\n",
      "[Parallel(n_jobs=1)]: Done   2 out of   2 | elapsed:    0.6s remaining:    0.0s\n",
      "[Parallel(n_jobs=1)]: Done   3 out of   3 | elapsed:    1.0s remaining:    0.0s\n",
      "[Parallel(n_jobs=1)]: Done   4 out of   4 | elapsed:    1.4s remaining:    0.0s\n",
      "[Parallel(n_jobs=1)]: Done  64 out of  64 | elapsed:   23.3s finished\n"
     ]
    },
    {
     "name": "stdout",
     "output_type": "stream",
     "text": [
      "Not setting metadata\n",
      "Reading F:\\Documents\\Science\\MirRevAdaptEEG\\data\\eeg\\p011\\frn\\p011_rot_tfr-epo.fif ...\n",
      "    Found the data of interest:\n",
      "        t =   -1500.00 ...    1495.00 ms\n",
      "        0 CTF compensation matrices available\n",
      "Not setting metadata\n",
      "90 matching events found\n",
      "No baseline correction applied\n",
      "0 projection items activated\n"
     ]
    },
    {
     "name": "stderr",
     "output_type": "stream",
     "text": [
      "[Parallel(n_jobs=1)]: Using backend SequentialBackend with 1 concurrent workers.\n",
      "[Parallel(n_jobs=1)]: Done   1 out of   1 | elapsed:    0.3s remaining:    0.0s\n",
      "[Parallel(n_jobs=1)]: Done   2 out of   2 | elapsed:    0.6s remaining:    0.0s\n",
      "[Parallel(n_jobs=1)]: Done   3 out of   3 | elapsed:    1.0s remaining:    0.0s\n",
      "[Parallel(n_jobs=1)]: Done   4 out of   4 | elapsed:    1.4s remaining:    0.0s\n",
      "[Parallel(n_jobs=1)]: Done  64 out of  64 | elapsed:   23.4s finished\n"
     ]
    },
    {
     "name": "stdout",
     "output_type": "stream",
     "text": [
      "Not setting metadata\n",
      "Reading F:\\Documents\\Science\\MirRevAdaptEEG\\data\\eeg\\p012\\frn\\p012_rot_tfr-epo.fif ...\n",
      "    Found the data of interest:\n",
      "        t =   -1500.00 ...    1495.00 ms\n",
      "        0 CTF compensation matrices available\n",
      "Not setting metadata\n",
      "89 matching events found\n",
      "No baseline correction applied\n",
      "0 projection items activated\n"
     ]
    },
    {
     "name": "stderr",
     "output_type": "stream",
     "text": [
      "[Parallel(n_jobs=1)]: Using backend SequentialBackend with 1 concurrent workers.\n",
      "[Parallel(n_jobs=1)]: Done   1 out of   1 | elapsed:    0.3s remaining:    0.0s\n",
      "[Parallel(n_jobs=1)]: Done   2 out of   2 | elapsed:    0.6s remaining:    0.0s\n",
      "[Parallel(n_jobs=1)]: Done   3 out of   3 | elapsed:    1.0s remaining:    0.0s\n",
      "[Parallel(n_jobs=1)]: Done   4 out of   4 | elapsed:    1.4s remaining:    0.0s\n",
      "[Parallel(n_jobs=1)]: Done  64 out of  64 | elapsed:   23.0s finished\n"
     ]
    },
    {
     "name": "stdout",
     "output_type": "stream",
     "text": [
      "Not setting metadata\n",
      "Reading F:\\Documents\\Science\\MirRevAdaptEEG\\data\\eeg\\p013\\frn\\p013_rot_tfr-epo.fif ...\n",
      "    Found the data of interest:\n",
      "        t =   -1500.00 ...    1495.00 ms\n",
      "        0 CTF compensation matrices available\n",
      "Not setting metadata\n",
      "90 matching events found\n",
      "No baseline correction applied\n",
      "0 projection items activated\n"
     ]
    },
    {
     "name": "stderr",
     "output_type": "stream",
     "text": [
      "[Parallel(n_jobs=1)]: Using backend SequentialBackend with 1 concurrent workers.\n",
      "[Parallel(n_jobs=1)]: Done   1 out of   1 | elapsed:    0.3s remaining:    0.0s\n",
      "[Parallel(n_jobs=1)]: Done   2 out of   2 | elapsed:    0.6s remaining:    0.0s\n",
      "[Parallel(n_jobs=1)]: Done   3 out of   3 | elapsed:    1.0s remaining:    0.0s\n",
      "[Parallel(n_jobs=1)]: Done   4 out of   4 | elapsed:    1.4s remaining:    0.0s\n",
      "[Parallel(n_jobs=1)]: Done  64 out of  64 | elapsed:   23.3s finished\n"
     ]
    },
    {
     "name": "stdout",
     "output_type": "stream",
     "text": [
      "Not setting metadata\n",
      "Reading F:\\Documents\\Science\\MirRevAdaptEEG\\data\\eeg\\p014\\frn\\p014_rot_tfr-epo.fif ...\n",
      "    Found the data of interest:\n",
      "        t =   -1500.00 ...    1495.00 ms\n",
      "        0 CTF compensation matrices available\n",
      "Not setting metadata\n",
      "90 matching events found\n",
      "No baseline correction applied\n",
      "0 projection items activated\n"
     ]
    },
    {
     "name": "stderr",
     "output_type": "stream",
     "text": [
      "[Parallel(n_jobs=1)]: Using backend SequentialBackend with 1 concurrent workers.\n",
      "[Parallel(n_jobs=1)]: Done   1 out of   1 | elapsed:    0.3s remaining:    0.0s\n",
      "[Parallel(n_jobs=1)]: Done   2 out of   2 | elapsed:    0.6s remaining:    0.0s\n",
      "[Parallel(n_jobs=1)]: Done   3 out of   3 | elapsed:    1.0s remaining:    0.0s\n",
      "[Parallel(n_jobs=1)]: Done   4 out of   4 | elapsed:    1.4s remaining:    0.0s\n",
      "[Parallel(n_jobs=1)]: Done  64 out of  64 | elapsed:   23.3s finished\n"
     ]
    },
    {
     "name": "stdout",
     "output_type": "stream",
     "text": [
      "Not setting metadata\n",
      "Reading F:\\Documents\\Science\\MirRevAdaptEEG\\data\\eeg\\p015\\frn\\p015_rot_tfr-epo.fif ...\n",
      "    Found the data of interest:\n",
      "        t =   -1500.00 ...    1495.00 ms\n",
      "        0 CTF compensation matrices available\n",
      "Not setting metadata\n",
      "90 matching events found\n",
      "No baseline correction applied\n",
      "0 projection items activated\n"
     ]
    },
    {
     "name": "stderr",
     "output_type": "stream",
     "text": [
      "[Parallel(n_jobs=1)]: Using backend SequentialBackend with 1 concurrent workers.\n",
      "[Parallel(n_jobs=1)]: Done   1 out of   1 | elapsed:    0.3s remaining:    0.0s\n",
      "[Parallel(n_jobs=1)]: Done   2 out of   2 | elapsed:    0.6s remaining:    0.0s\n",
      "[Parallel(n_jobs=1)]: Done   3 out of   3 | elapsed:    1.0s remaining:    0.0s\n",
      "[Parallel(n_jobs=1)]: Done   4 out of   4 | elapsed:    1.4s remaining:    0.0s\n",
      "[Parallel(n_jobs=1)]: Done  64 out of  64 | elapsed:   23.4s finished\n"
     ]
    },
    {
     "name": "stdout",
     "output_type": "stream",
     "text": [
      "Not setting metadata\n",
      "Reading F:\\Documents\\Science\\MirRevAdaptEEG\\data\\eeg\\p016\\frn\\p016_rot_tfr-epo.fif ...\n",
      "    Found the data of interest:\n",
      "        t =   -1500.00 ...    1495.00 ms\n",
      "        0 CTF compensation matrices available\n",
      "Not setting metadata\n",
      "90 matching events found\n",
      "No baseline correction applied\n",
      "0 projection items activated\n"
     ]
    },
    {
     "name": "stderr",
     "output_type": "stream",
     "text": [
      "[Parallel(n_jobs=1)]: Using backend SequentialBackend with 1 concurrent workers.\n",
      "[Parallel(n_jobs=1)]: Done   1 out of   1 | elapsed:    0.3s remaining:    0.0s\n",
      "[Parallel(n_jobs=1)]: Done   2 out of   2 | elapsed:    0.6s remaining:    0.0s\n",
      "[Parallel(n_jobs=1)]: Done   3 out of   3 | elapsed:    1.0s remaining:    0.0s\n",
      "[Parallel(n_jobs=1)]: Done   4 out of   4 | elapsed:    1.4s remaining:    0.0s\n",
      "[Parallel(n_jobs=1)]: Done  64 out of  64 | elapsed:   23.3s finished\n"
     ]
    },
    {
     "name": "stdout",
     "output_type": "stream",
     "text": [
      "Not setting metadata\n",
      "Reading F:\\Documents\\Science\\MirRevAdaptEEG\\data\\eeg\\p017\\frn\\p017_rot_tfr-epo.fif ...\n",
      "    Found the data of interest:\n",
      "        t =   -1500.00 ...    1495.00 ms\n",
      "        0 CTF compensation matrices available\n",
      "Not setting metadata\n",
      "90 matching events found\n",
      "No baseline correction applied\n",
      "0 projection items activated\n"
     ]
    },
    {
     "name": "stderr",
     "output_type": "stream",
     "text": [
      "[Parallel(n_jobs=1)]: Using backend SequentialBackend with 1 concurrent workers.\n",
      "[Parallel(n_jobs=1)]: Done   1 out of   1 | elapsed:    0.3s remaining:    0.0s\n",
      "[Parallel(n_jobs=1)]: Done   2 out of   2 | elapsed:    0.6s remaining:    0.0s\n",
      "[Parallel(n_jobs=1)]: Done   3 out of   3 | elapsed:    1.0s remaining:    0.0s\n",
      "[Parallel(n_jobs=1)]: Done   4 out of   4 | elapsed:    1.4s remaining:    0.0s\n",
      "[Parallel(n_jobs=1)]: Done  64 out of  64 | elapsed:   23.4s finished\n"
     ]
    },
    {
     "name": "stdout",
     "output_type": "stream",
     "text": [
      "Not setting metadata\n",
      "Reading F:\\Documents\\Science\\MirRevAdaptEEG\\data\\eeg\\p018\\frn\\p018_rot_tfr-epo.fif ...\n",
      "    Found the data of interest:\n",
      "        t =   -1500.00 ...    1495.00 ms\n",
      "        0 CTF compensation matrices available\n",
      "Not setting metadata\n",
      "90 matching events found\n",
      "No baseline correction applied\n",
      "0 projection items activated\n"
     ]
    },
    {
     "name": "stderr",
     "output_type": "stream",
     "text": [
      "[Parallel(n_jobs=1)]: Using backend SequentialBackend with 1 concurrent workers.\n",
      "[Parallel(n_jobs=1)]: Done   1 out of   1 | elapsed:    0.3s remaining:    0.0s\n",
      "[Parallel(n_jobs=1)]: Done   2 out of   2 | elapsed:    0.6s remaining:    0.0s\n",
      "[Parallel(n_jobs=1)]: Done   3 out of   3 | elapsed:    1.0s remaining:    0.0s\n",
      "[Parallel(n_jobs=1)]: Done   4 out of   4 | elapsed:    1.4s remaining:    0.0s\n",
      "[Parallel(n_jobs=1)]: Done  64 out of  64 | elapsed:   23.3s finished\n"
     ]
    },
    {
     "name": "stdout",
     "output_type": "stream",
     "text": [
      "Not setting metadata\n",
      "Reading F:\\Documents\\Science\\MirRevAdaptEEG\\data\\eeg\\p019\\frn\\p019_rot_tfr-epo.fif ...\n",
      "    Found the data of interest:\n",
      "        t =   -1500.00 ...    1495.00 ms\n",
      "        0 CTF compensation matrices available\n",
      "Not setting metadata\n",
      "90 matching events found\n",
      "No baseline correction applied\n",
      "0 projection items activated\n"
     ]
    },
    {
     "name": "stderr",
     "output_type": "stream",
     "text": [
      "[Parallel(n_jobs=1)]: Using backend SequentialBackend with 1 concurrent workers.\n",
      "[Parallel(n_jobs=1)]: Done   1 out of   1 | elapsed:    0.3s remaining:    0.0s\n",
      "[Parallel(n_jobs=1)]: Done   2 out of   2 | elapsed:    0.6s remaining:    0.0s\n",
      "[Parallel(n_jobs=1)]: Done   3 out of   3 | elapsed:    1.0s remaining:    0.0s\n",
      "[Parallel(n_jobs=1)]: Done   4 out of   4 | elapsed:    1.4s remaining:    0.0s\n",
      "[Parallel(n_jobs=1)]: Done  64 out of  64 | elapsed:   23.3s finished\n"
     ]
    },
    {
     "name": "stdout",
     "output_type": "stream",
     "text": [
      "Not setting metadata\n",
      "Reading F:\\Documents\\Science\\MirRevAdaptEEG\\data\\eeg\\p020\\frn\\p020_rot_tfr-epo.fif ...\n",
      "    Found the data of interest:\n",
      "        t =   -1500.00 ...    1495.00 ms\n",
      "        0 CTF compensation matrices available\n",
      "Not setting metadata\n",
      "90 matching events found\n",
      "No baseline correction applied\n",
      "0 projection items activated\n"
     ]
    },
    {
     "name": "stderr",
     "output_type": "stream",
     "text": [
      "[Parallel(n_jobs=1)]: Using backend SequentialBackend with 1 concurrent workers.\n",
      "[Parallel(n_jobs=1)]: Done   1 out of   1 | elapsed:    0.3s remaining:    0.0s\n",
      "[Parallel(n_jobs=1)]: Done   2 out of   2 | elapsed:    0.6s remaining:    0.0s\n",
      "[Parallel(n_jobs=1)]: Done   3 out of   3 | elapsed:    1.0s remaining:    0.0s\n",
      "[Parallel(n_jobs=1)]: Done   4 out of   4 | elapsed:    1.4s remaining:    0.0s\n",
      "[Parallel(n_jobs=1)]: Done  64 out of  64 | elapsed:   23.4s finished\n"
     ]
    },
    {
     "name": "stdout",
     "output_type": "stream",
     "text": [
      "Not setting metadata\n",
      "Reading F:\\Documents\\Science\\MirRevAdaptEEG\\data\\eeg\\p021\\frn\\p021_rot_tfr-epo.fif ...\n",
      "    Found the data of interest:\n",
      "        t =   -1500.00 ...    1495.00 ms\n",
      "        0 CTF compensation matrices available\n",
      "Not setting metadata\n",
      "90 matching events found\n",
      "No baseline correction applied\n",
      "0 projection items activated\n"
     ]
    },
    {
     "name": "stderr",
     "output_type": "stream",
     "text": [
      "[Parallel(n_jobs=1)]: Using backend SequentialBackend with 1 concurrent workers.\n",
      "[Parallel(n_jobs=1)]: Done   1 out of   1 | elapsed:    0.3s remaining:    0.0s\n",
      "[Parallel(n_jobs=1)]: Done   2 out of   2 | elapsed:    0.6s remaining:    0.0s\n",
      "[Parallel(n_jobs=1)]: Done   3 out of   3 | elapsed:    1.0s remaining:    0.0s\n",
      "[Parallel(n_jobs=1)]: Done   4 out of   4 | elapsed:    1.4s remaining:    0.0s\n",
      "[Parallel(n_jobs=1)]: Done  64 out of  64 | elapsed:   23.3s finished\n"
     ]
    },
    {
     "name": "stdout",
     "output_type": "stream",
     "text": [
      "Not setting metadata\n",
      "Reading F:\\Documents\\Science\\MirRevAdaptEEG\\data\\eeg\\p022\\frn\\p022_rot_tfr-epo.fif ...\n",
      "    Found the data of interest:\n",
      "        t =   -1500.00 ...    1495.00 ms\n",
      "        0 CTF compensation matrices available\n",
      "Not setting metadata\n",
      "90 matching events found\n",
      "No baseline correction applied\n",
      "0 projection items activated\n"
     ]
    },
    {
     "name": "stderr",
     "output_type": "stream",
     "text": [
      "[Parallel(n_jobs=1)]: Using backend SequentialBackend with 1 concurrent workers.\n",
      "[Parallel(n_jobs=1)]: Done   1 out of   1 | elapsed:    0.3s remaining:    0.0s\n",
      "[Parallel(n_jobs=1)]: Done   2 out of   2 | elapsed:    0.6s remaining:    0.0s\n",
      "[Parallel(n_jobs=1)]: Done   3 out of   3 | elapsed:    1.0s remaining:    0.0s\n",
      "[Parallel(n_jobs=1)]: Done   4 out of   4 | elapsed:    1.4s remaining:    0.0s\n",
      "[Parallel(n_jobs=1)]: Done  64 out of  64 | elapsed:   23.4s finished\n"
     ]
    },
    {
     "name": "stdout",
     "output_type": "stream",
     "text": [
      "Not setting metadata\n",
      "Reading F:\\Documents\\Science\\MirRevAdaptEEG\\data\\eeg\\p023\\frn\\p023_rot_tfr-epo.fif ...\n",
      "    Found the data of interest:\n",
      "        t =   -1500.00 ...    1495.00 ms\n",
      "        0 CTF compensation matrices available\n",
      "Not setting metadata\n",
      "90 matching events found\n",
      "No baseline correction applied\n",
      "0 projection items activated\n"
     ]
    },
    {
     "name": "stderr",
     "output_type": "stream",
     "text": [
      "[Parallel(n_jobs=1)]: Using backend SequentialBackend with 1 concurrent workers.\n",
      "[Parallel(n_jobs=1)]: Done   1 out of   1 | elapsed:    0.3s remaining:    0.0s\n",
      "[Parallel(n_jobs=1)]: Done   2 out of   2 | elapsed:    0.6s remaining:    0.0s\n",
      "[Parallel(n_jobs=1)]: Done   3 out of   3 | elapsed:    1.0s remaining:    0.0s\n",
      "[Parallel(n_jobs=1)]: Done   4 out of   4 | elapsed:    1.4s remaining:    0.0s\n",
      "[Parallel(n_jobs=1)]: Done  64 out of  64 | elapsed:   23.3s finished\n"
     ]
    },
    {
     "name": "stdout",
     "output_type": "stream",
     "text": [
      "Not setting metadata\n",
      "Reading F:\\Documents\\Science\\MirRevAdaptEEG\\data\\eeg\\p024\\frn\\p024_rot_tfr-epo.fif ...\n",
      "    Found the data of interest:\n",
      "        t =   -1500.00 ...    1495.00 ms\n",
      "        0 CTF compensation matrices available\n",
      "Not setting metadata\n",
      "90 matching events found\n",
      "No baseline correction applied\n",
      "0 projection items activated\n"
     ]
    },
    {
     "name": "stderr",
     "output_type": "stream",
     "text": [
      "[Parallel(n_jobs=1)]: Using backend SequentialBackend with 1 concurrent workers.\n",
      "[Parallel(n_jobs=1)]: Done   1 out of   1 | elapsed:    0.3s remaining:    0.0s\n",
      "[Parallel(n_jobs=1)]: Done   2 out of   2 | elapsed:    0.6s remaining:    0.0s\n",
      "[Parallel(n_jobs=1)]: Done   3 out of   3 | elapsed:    1.0s remaining:    0.0s\n",
      "[Parallel(n_jobs=1)]: Done   4 out of   4 | elapsed:    1.4s remaining:    0.0s\n",
      "[Parallel(n_jobs=1)]: Done  64 out of  64 | elapsed:   23.2s finished\n"
     ]
    },
    {
     "name": "stdout",
     "output_type": "stream",
     "text": [
      "Not setting metadata\n",
      "Reading F:\\Documents\\Science\\MirRevAdaptEEG\\data\\eeg\\p025\\frn\\p025_rot_tfr-epo.fif ...\n",
      "    Found the data of interest:\n",
      "        t =   -1500.00 ...    1495.00 ms\n",
      "        0 CTF compensation matrices available\n",
      "Not setting metadata\n",
      "90 matching events found\n",
      "No baseline correction applied\n",
      "0 projection items activated\n"
     ]
    },
    {
     "name": "stderr",
     "output_type": "stream",
     "text": [
      "[Parallel(n_jobs=1)]: Using backend SequentialBackend with 1 concurrent workers.\n",
      "[Parallel(n_jobs=1)]: Done   1 out of   1 | elapsed:    0.3s remaining:    0.0s\n",
      "[Parallel(n_jobs=1)]: Done   2 out of   2 | elapsed:    0.6s remaining:    0.0s\n",
      "[Parallel(n_jobs=1)]: Done   3 out of   3 | elapsed:    1.0s remaining:    0.0s\n",
      "[Parallel(n_jobs=1)]: Done   4 out of   4 | elapsed:    1.4s remaining:    0.0s\n",
      "[Parallel(n_jobs=1)]: Done  64 out of  64 | elapsed:   23.4s finished\n"
     ]
    },
    {
     "name": "stdout",
     "output_type": "stream",
     "text": [
      "Not setting metadata\n",
      "Reading F:\\Documents\\Science\\MirRevAdaptEEG\\data\\eeg\\p026\\frn\\p026_rot_tfr-epo.fif ...\n",
      "    Found the data of interest:\n",
      "        t =   -1500.00 ...    1495.00 ms\n",
      "        0 CTF compensation matrices available\n",
      "Not setting metadata\n",
      "90 matching events found\n",
      "No baseline correction applied\n",
      "0 projection items activated\n"
     ]
    },
    {
     "name": "stderr",
     "output_type": "stream",
     "text": [
      "[Parallel(n_jobs=1)]: Using backend SequentialBackend with 1 concurrent workers.\n",
      "[Parallel(n_jobs=1)]: Done   1 out of   1 | elapsed:    0.3s remaining:    0.0s\n",
      "[Parallel(n_jobs=1)]: Done   2 out of   2 | elapsed:    0.6s remaining:    0.0s\n",
      "[Parallel(n_jobs=1)]: Done   3 out of   3 | elapsed:    1.0s remaining:    0.0s\n",
      "[Parallel(n_jobs=1)]: Done   4 out of   4 | elapsed:    1.4s remaining:    0.0s\n",
      "[Parallel(n_jobs=1)]: Done  64 out of  64 | elapsed:   23.2s finished\n"
     ]
    },
    {
     "name": "stdout",
     "output_type": "stream",
     "text": [
      "Not setting metadata\n",
      "Reading F:\\Documents\\Science\\MirRevAdaptEEG\\data\\eeg\\p027\\frn\\p027_rot_tfr-epo.fif ...\n",
      "    Found the data of interest:\n",
      "        t =   -1500.00 ...    1495.00 ms\n",
      "        0 CTF compensation matrices available\n",
      "Not setting metadata\n",
      "90 matching events found\n",
      "No baseline correction applied\n",
      "0 projection items activated\n"
     ]
    },
    {
     "name": "stderr",
     "output_type": "stream",
     "text": [
      "[Parallel(n_jobs=1)]: Using backend SequentialBackend with 1 concurrent workers.\n",
      "[Parallel(n_jobs=1)]: Done   1 out of   1 | elapsed:    0.3s remaining:    0.0s\n",
      "[Parallel(n_jobs=1)]: Done   2 out of   2 | elapsed:    0.6s remaining:    0.0s\n",
      "[Parallel(n_jobs=1)]: Done   3 out of   3 | elapsed:    1.0s remaining:    0.0s\n",
      "[Parallel(n_jobs=1)]: Done   4 out of   4 | elapsed:    1.4s remaining:    0.0s\n",
      "[Parallel(n_jobs=1)]: Done  64 out of  64 | elapsed:   23.4s finished\n"
     ]
    },
    {
     "name": "stdout",
     "output_type": "stream",
     "text": [
      "Not setting metadata\n",
      "Reading F:\\Documents\\Science\\MirRevAdaptEEG\\data\\eeg\\p028\\frn\\p028_rot_tfr-epo.fif ...\n",
      "    Found the data of interest:\n",
      "        t =   -1500.00 ...    1495.00 ms\n",
      "        0 CTF compensation matrices available\n",
      "Not setting metadata\n",
      "90 matching events found\n",
      "No baseline correction applied\n",
      "0 projection items activated\n"
     ]
    },
    {
     "name": "stderr",
     "output_type": "stream",
     "text": [
      "[Parallel(n_jobs=1)]: Using backend SequentialBackend with 1 concurrent workers.\n",
      "[Parallel(n_jobs=1)]: Done   1 out of   1 | elapsed:    0.3s remaining:    0.0s\n",
      "[Parallel(n_jobs=1)]: Done   2 out of   2 | elapsed:    0.6s remaining:    0.0s\n",
      "[Parallel(n_jobs=1)]: Done   3 out of   3 | elapsed:    1.0s remaining:    0.0s\n",
      "[Parallel(n_jobs=1)]: Done   4 out of   4 | elapsed:    1.4s remaining:    0.0s\n",
      "[Parallel(n_jobs=1)]: Done  64 out of  64 | elapsed:   23.3s finished\n"
     ]
    },
    {
     "name": "stdout",
     "output_type": "stream",
     "text": [
      "Not setting metadata\n",
      "Reading F:\\Documents\\Science\\MirRevAdaptEEG\\data\\eeg\\p029\\frn\\p029_rot_tfr-epo.fif ...\n",
      "    Found the data of interest:\n",
      "        t =   -1500.00 ...    1495.00 ms\n",
      "        0 CTF compensation matrices available\n",
      "Not setting metadata\n",
      "90 matching events found\n",
      "No baseline correction applied\n",
      "0 projection items activated\n"
     ]
    },
    {
     "name": "stderr",
     "output_type": "stream",
     "text": [
      "[Parallel(n_jobs=1)]: Using backend SequentialBackend with 1 concurrent workers.\n",
      "[Parallel(n_jobs=1)]: Done   1 out of   1 | elapsed:    0.3s remaining:    0.0s\n",
      "[Parallel(n_jobs=1)]: Done   2 out of   2 | elapsed:    0.6s remaining:    0.0s\n",
      "[Parallel(n_jobs=1)]: Done   3 out of   3 | elapsed:    1.0s remaining:    0.0s\n",
      "[Parallel(n_jobs=1)]: Done   4 out of   4 | elapsed:    1.4s remaining:    0.0s\n",
      "[Parallel(n_jobs=1)]: Done  64 out of  64 | elapsed:   23.3s finished\n"
     ]
    },
    {
     "name": "stdout",
     "output_type": "stream",
     "text": [
      "Not setting metadata\n",
      "Reading F:\\Documents\\Science\\MirRevAdaptEEG\\data\\eeg\\p030\\frn\\p030_rot_tfr-epo.fif ...\n",
      "    Found the data of interest:\n",
      "        t =   -1500.00 ...    1495.00 ms\n",
      "        0 CTF compensation matrices available\n",
      "Not setting metadata\n",
      "90 matching events found\n",
      "No baseline correction applied\n",
      "0 projection items activated\n"
     ]
    },
    {
     "name": "stderr",
     "output_type": "stream",
     "text": [
      "[Parallel(n_jobs=1)]: Using backend SequentialBackend with 1 concurrent workers.\n",
      "[Parallel(n_jobs=1)]: Done   1 out of   1 | elapsed:    0.3s remaining:    0.0s\n",
      "[Parallel(n_jobs=1)]: Done   2 out of   2 | elapsed:    0.7s remaining:    0.0s\n",
      "[Parallel(n_jobs=1)]: Done   3 out of   3 | elapsed:    1.1s remaining:    0.0s\n",
      "[Parallel(n_jobs=1)]: Done   4 out of   4 | elapsed:    1.4s remaining:    0.0s\n",
      "[Parallel(n_jobs=1)]: Done  64 out of  64 | elapsed:   23.4s finished\n"
     ]
    },
    {
     "name": "stdout",
     "output_type": "stream",
     "text": [
      "Not setting metadata\n",
      "Reading F:\\Documents\\Science\\MirRevAdaptEEG\\data\\eeg\\p031\\frn\\p031_rot_tfr-epo.fif ...\n",
      "    Found the data of interest:\n",
      "        t =   -1500.00 ...    1495.00 ms\n",
      "        0 CTF compensation matrices available\n",
      "Not setting metadata\n",
      "90 matching events found\n",
      "No baseline correction applied\n",
      "0 projection items activated\n"
     ]
    },
    {
     "name": "stderr",
     "output_type": "stream",
     "text": [
      "[Parallel(n_jobs=1)]: Using backend SequentialBackend with 1 concurrent workers.\n",
      "[Parallel(n_jobs=1)]: Done   1 out of   1 | elapsed:    0.3s remaining:    0.0s\n",
      "[Parallel(n_jobs=1)]: Done   2 out of   2 | elapsed:    0.6s remaining:    0.0s\n",
      "[Parallel(n_jobs=1)]: Done   3 out of   3 | elapsed:    1.0s remaining:    0.0s\n",
      "[Parallel(n_jobs=1)]: Done   4 out of   4 | elapsed:    1.4s remaining:    0.0s\n",
      "[Parallel(n_jobs=1)]: Done  64 out of  64 | elapsed:   23.3s finished\n"
     ]
    },
    {
     "name": "stdout",
     "output_type": "stream",
     "text": [
      "Not setting metadata\n",
      "Identifying common channels ...\n",
      "Reading F:\\Documents\\Science\\MirRevAdaptEEG\\data\\eeg\\p000\\frn\\p000_mir_tfr-epo.fif ...\n",
      "    Found the data of interest:\n",
      "        t =   -1500.00 ...    1495.00 ms\n",
      "        0 CTF compensation matrices available\n",
      "Not setting metadata\n",
      "90 matching events found\n",
      "No baseline correction applied\n",
      "0 projection items activated\n"
     ]
    },
    {
     "name": "stderr",
     "output_type": "stream",
     "text": [
      "[Parallel(n_jobs=1)]: Using backend SequentialBackend with 1 concurrent workers.\n",
      "[Parallel(n_jobs=1)]: Done   1 out of   1 | elapsed:    0.3s remaining:    0.0s\n",
      "[Parallel(n_jobs=1)]: Done   2 out of   2 | elapsed:    0.7s remaining:    0.0s\n",
      "[Parallel(n_jobs=1)]: Done   3 out of   3 | elapsed:    1.1s remaining:    0.0s\n",
      "[Parallel(n_jobs=1)]: Done   4 out of   4 | elapsed:    1.5s remaining:    0.0s\n",
      "[Parallel(n_jobs=1)]: Done  64 out of  64 | elapsed:   23.4s finished\n"
     ]
    },
    {
     "name": "stdout",
     "output_type": "stream",
     "text": [
      "Not setting metadata\n",
      "Reading F:\\Documents\\Science\\MirRevAdaptEEG\\data\\eeg\\p001\\frn\\p001_mir_tfr-epo.fif ...\n",
      "    Found the data of interest:\n",
      "        t =   -1500.00 ...    1495.00 ms\n",
      "        0 CTF compensation matrices available\n",
      "Not setting metadata\n",
      "90 matching events found\n",
      "No baseline correction applied\n",
      "0 projection items activated\n"
     ]
    },
    {
     "name": "stderr",
     "output_type": "stream",
     "text": [
      "[Parallel(n_jobs=1)]: Using backend SequentialBackend with 1 concurrent workers.\n",
      "[Parallel(n_jobs=1)]: Done   1 out of   1 | elapsed:    0.3s remaining:    0.0s\n",
      "[Parallel(n_jobs=1)]: Done   2 out of   2 | elapsed:    0.6s remaining:    0.0s\n",
      "[Parallel(n_jobs=1)]: Done   3 out of   3 | elapsed:    1.0s remaining:    0.0s\n",
      "[Parallel(n_jobs=1)]: Done   4 out of   4 | elapsed:    1.4s remaining:    0.0s\n",
      "[Parallel(n_jobs=1)]: Done  64 out of  64 | elapsed:   23.3s finished\n"
     ]
    },
    {
     "name": "stdout",
     "output_type": "stream",
     "text": [
      "Not setting metadata\n",
      "Reading F:\\Documents\\Science\\MirRevAdaptEEG\\data\\eeg\\p002\\frn\\p002_mir_tfr-epo.fif ...\n",
      "    Found the data of interest:\n",
      "        t =   -1500.00 ...    1495.00 ms\n",
      "        0 CTF compensation matrices available\n",
      "Not setting metadata\n",
      "90 matching events found\n",
      "No baseline correction applied\n",
      "0 projection items activated\n"
     ]
    },
    {
     "name": "stderr",
     "output_type": "stream",
     "text": [
      "[Parallel(n_jobs=1)]: Using backend SequentialBackend with 1 concurrent workers.\n",
      "[Parallel(n_jobs=1)]: Done   1 out of   1 | elapsed:    0.3s remaining:    0.0s\n",
      "[Parallel(n_jobs=1)]: Done   2 out of   2 | elapsed:    0.7s remaining:    0.0s\n",
      "[Parallel(n_jobs=1)]: Done   3 out of   3 | elapsed:    1.0s remaining:    0.0s\n",
      "[Parallel(n_jobs=1)]: Done   4 out of   4 | elapsed:    1.4s remaining:    0.0s\n",
      "[Parallel(n_jobs=1)]: Done  64 out of  64 | elapsed:   23.3s finished\n"
     ]
    },
    {
     "name": "stdout",
     "output_type": "stream",
     "text": [
      "Not setting metadata\n",
      "Reading F:\\Documents\\Science\\MirRevAdaptEEG\\data\\eeg\\p003\\frn\\p003_mir_tfr-epo.fif ...\n",
      "    Found the data of interest:\n",
      "        t =   -1500.00 ...    1495.00 ms\n",
      "        0 CTF compensation matrices available\n",
      "Not setting metadata\n",
      "90 matching events found\n",
      "No baseline correction applied\n",
      "0 projection items activated\n"
     ]
    },
    {
     "name": "stderr",
     "output_type": "stream",
     "text": [
      "[Parallel(n_jobs=1)]: Using backend SequentialBackend with 1 concurrent workers.\n",
      "[Parallel(n_jobs=1)]: Done   1 out of   1 | elapsed:    0.3s remaining:    0.0s\n",
      "[Parallel(n_jobs=1)]: Done   2 out of   2 | elapsed:    0.6s remaining:    0.0s\n",
      "[Parallel(n_jobs=1)]: Done   3 out of   3 | elapsed:    1.0s remaining:    0.0s\n",
      "[Parallel(n_jobs=1)]: Done   4 out of   4 | elapsed:    1.4s remaining:    0.0s\n",
      "[Parallel(n_jobs=1)]: Done  64 out of  64 | elapsed:   23.3s finished\n"
     ]
    },
    {
     "name": "stdout",
     "output_type": "stream",
     "text": [
      "Not setting metadata\n",
      "Reading F:\\Documents\\Science\\MirRevAdaptEEG\\data\\eeg\\p004\\frn\\p004_mir_tfr-epo.fif ...\n",
      "    Found the data of interest:\n",
      "        t =   -1500.00 ...    1495.00 ms\n",
      "        0 CTF compensation matrices available\n",
      "Not setting metadata\n",
      "90 matching events found\n",
      "No baseline correction applied\n",
      "0 projection items activated\n"
     ]
    },
    {
     "name": "stderr",
     "output_type": "stream",
     "text": [
      "[Parallel(n_jobs=1)]: Using backend SequentialBackend with 1 concurrent workers.\n",
      "[Parallel(n_jobs=1)]: Done   1 out of   1 | elapsed:    0.3s remaining:    0.0s\n",
      "[Parallel(n_jobs=1)]: Done   2 out of   2 | elapsed:    0.6s remaining:    0.0s\n",
      "[Parallel(n_jobs=1)]: Done   3 out of   3 | elapsed:    1.0s remaining:    0.0s\n",
      "[Parallel(n_jobs=1)]: Done   4 out of   4 | elapsed:    1.4s remaining:    0.0s\n",
      "[Parallel(n_jobs=1)]: Done  64 out of  64 | elapsed:   23.3s finished\n"
     ]
    },
    {
     "name": "stdout",
     "output_type": "stream",
     "text": [
      "Not setting metadata\n",
      "Reading F:\\Documents\\Science\\MirRevAdaptEEG\\data\\eeg\\p005\\frn\\p005_mir_tfr-epo.fif ...\n",
      "    Found the data of interest:\n",
      "        t =   -1500.00 ...    1495.00 ms\n",
      "        0 CTF compensation matrices available\n",
      "Not setting metadata\n",
      "90 matching events found\n",
      "No baseline correction applied\n",
      "0 projection items activated\n"
     ]
    },
    {
     "name": "stderr",
     "output_type": "stream",
     "text": [
      "[Parallel(n_jobs=1)]: Using backend SequentialBackend with 1 concurrent workers.\n",
      "[Parallel(n_jobs=1)]: Done   1 out of   1 | elapsed:    0.3s remaining:    0.0s\n",
      "[Parallel(n_jobs=1)]: Done   2 out of   2 | elapsed:    0.6s remaining:    0.0s\n",
      "[Parallel(n_jobs=1)]: Done   3 out of   3 | elapsed:    1.0s remaining:    0.0s\n",
      "[Parallel(n_jobs=1)]: Done   4 out of   4 | elapsed:    1.4s remaining:    0.0s\n",
      "[Parallel(n_jobs=1)]: Done  64 out of  64 | elapsed:   23.4s finished\n"
     ]
    },
    {
     "name": "stdout",
     "output_type": "stream",
     "text": [
      "Not setting metadata\n",
      "Reading F:\\Documents\\Science\\MirRevAdaptEEG\\data\\eeg\\p006\\frn\\p006_mir_tfr-epo.fif ...\n",
      "    Found the data of interest:\n",
      "        t =   -1500.00 ...    1495.00 ms\n",
      "        0 CTF compensation matrices available\n",
      "Not setting metadata\n",
      "90 matching events found\n",
      "No baseline correction applied\n",
      "0 projection items activated\n"
     ]
    },
    {
     "name": "stderr",
     "output_type": "stream",
     "text": [
      "[Parallel(n_jobs=1)]: Using backend SequentialBackend with 1 concurrent workers.\n",
      "[Parallel(n_jobs=1)]: Done   1 out of   1 | elapsed:    0.3s remaining:    0.0s\n",
      "[Parallel(n_jobs=1)]: Done   2 out of   2 | elapsed:    0.6s remaining:    0.0s\n",
      "[Parallel(n_jobs=1)]: Done   3 out of   3 | elapsed:    1.0s remaining:    0.0s\n",
      "[Parallel(n_jobs=1)]: Done   4 out of   4 | elapsed:    1.4s remaining:    0.0s\n",
      "[Parallel(n_jobs=1)]: Done  64 out of  64 | elapsed:   23.3s finished\n"
     ]
    },
    {
     "name": "stdout",
     "output_type": "stream",
     "text": [
      "Not setting metadata\n",
      "Reading F:\\Documents\\Science\\MirRevAdaptEEG\\data\\eeg\\p007\\frn\\p007_mir_tfr-epo.fif ...\n",
      "    Found the data of interest:\n",
      "        t =   -1500.00 ...    1495.00 ms\n",
      "        0 CTF compensation matrices available\n",
      "Not setting metadata\n",
      "90 matching events found\n",
      "No baseline correction applied\n",
      "0 projection items activated\n"
     ]
    },
    {
     "name": "stderr",
     "output_type": "stream",
     "text": [
      "[Parallel(n_jobs=1)]: Using backend SequentialBackend with 1 concurrent workers.\n",
      "[Parallel(n_jobs=1)]: Done   1 out of   1 | elapsed:    0.3s remaining:    0.0s\n",
      "[Parallel(n_jobs=1)]: Done   2 out of   2 | elapsed:    0.7s remaining:    0.0s\n",
      "[Parallel(n_jobs=1)]: Done   3 out of   3 | elapsed:    1.1s remaining:    0.0s\n",
      "[Parallel(n_jobs=1)]: Done   4 out of   4 | elapsed:    1.4s remaining:    0.0s\n",
      "[Parallel(n_jobs=1)]: Done  64 out of  64 | elapsed:   23.4s finished\n"
     ]
    },
    {
     "name": "stdout",
     "output_type": "stream",
     "text": [
      "Not setting metadata\n",
      "Reading F:\\Documents\\Science\\MirRevAdaptEEG\\data\\eeg\\p008\\frn\\p008_mir_tfr-epo.fif ...\n",
      "    Found the data of interest:\n",
      "        t =   -1500.00 ...    1495.00 ms\n",
      "        0 CTF compensation matrices available\n",
      "Not setting metadata\n",
      "90 matching events found\n",
      "No baseline correction applied\n",
      "0 projection items activated\n"
     ]
    },
    {
     "name": "stderr",
     "output_type": "stream",
     "text": [
      "[Parallel(n_jobs=1)]: Using backend SequentialBackend with 1 concurrent workers.\n",
      "[Parallel(n_jobs=1)]: Done   1 out of   1 | elapsed:    0.3s remaining:    0.0s\n",
      "[Parallel(n_jobs=1)]: Done   2 out of   2 | elapsed:    0.6s remaining:    0.0s\n",
      "[Parallel(n_jobs=1)]: Done   3 out of   3 | elapsed:    1.0s remaining:    0.0s\n",
      "[Parallel(n_jobs=1)]: Done   4 out of   4 | elapsed:    1.4s remaining:    0.0s\n",
      "[Parallel(n_jobs=1)]: Done  64 out of  64 | elapsed:   23.3s finished\n"
     ]
    },
    {
     "name": "stdout",
     "output_type": "stream",
     "text": [
      "Not setting metadata\n",
      "Reading F:\\Documents\\Science\\MirRevAdaptEEG\\data\\eeg\\p009\\frn\\p009_mir_tfr-epo.fif ...\n",
      "    Found the data of interest:\n",
      "        t =   -1500.00 ...    1495.00 ms\n",
      "        0 CTF compensation matrices available\n",
      "Not setting metadata\n",
      "90 matching events found\n",
      "No baseline correction applied\n",
      "0 projection items activated\n"
     ]
    },
    {
     "name": "stderr",
     "output_type": "stream",
     "text": [
      "[Parallel(n_jobs=1)]: Using backend SequentialBackend with 1 concurrent workers.\n",
      "[Parallel(n_jobs=1)]: Done   1 out of   1 | elapsed:    0.3s remaining:    0.0s\n",
      "[Parallel(n_jobs=1)]: Done   2 out of   2 | elapsed:    0.6s remaining:    0.0s\n",
      "[Parallel(n_jobs=1)]: Done   3 out of   3 | elapsed:    1.0s remaining:    0.0s\n",
      "[Parallel(n_jobs=1)]: Done   4 out of   4 | elapsed:    1.4s remaining:    0.0s\n",
      "[Parallel(n_jobs=1)]: Done  64 out of  64 | elapsed:   23.3s finished\n"
     ]
    },
    {
     "name": "stdout",
     "output_type": "stream",
     "text": [
      "Not setting metadata\n",
      "Reading F:\\Documents\\Science\\MirRevAdaptEEG\\data\\eeg\\p010\\frn\\p010_mir_tfr-epo.fif ...\n",
      "    Found the data of interest:\n",
      "        t =   -1500.00 ...    1495.00 ms\n",
      "        0 CTF compensation matrices available\n",
      "Not setting metadata\n",
      "90 matching events found\n",
      "No baseline correction applied\n",
      "0 projection items activated\n"
     ]
    },
    {
     "name": "stderr",
     "output_type": "stream",
     "text": [
      "[Parallel(n_jobs=1)]: Using backend SequentialBackend with 1 concurrent workers.\n",
      "[Parallel(n_jobs=1)]: Done   1 out of   1 | elapsed:    0.3s remaining:    0.0s\n",
      "[Parallel(n_jobs=1)]: Done   2 out of   2 | elapsed:    0.6s remaining:    0.0s\n",
      "[Parallel(n_jobs=1)]: Done   3 out of   3 | elapsed:    1.0s remaining:    0.0s\n",
      "[Parallel(n_jobs=1)]: Done   4 out of   4 | elapsed:    1.4s remaining:    0.0s\n",
      "[Parallel(n_jobs=1)]: Done  64 out of  64 | elapsed:   23.4s finished\n"
     ]
    },
    {
     "name": "stdout",
     "output_type": "stream",
     "text": [
      "Not setting metadata\n",
      "Reading F:\\Documents\\Science\\MirRevAdaptEEG\\data\\eeg\\p011\\frn\\p011_mir_tfr-epo.fif ...\n",
      "    Found the data of interest:\n",
      "        t =   -1500.00 ...    1495.00 ms\n",
      "        0 CTF compensation matrices available\n",
      "Not setting metadata\n",
      "90 matching events found\n",
      "No baseline correction applied\n",
      "0 projection items activated\n"
     ]
    },
    {
     "name": "stderr",
     "output_type": "stream",
     "text": [
      "[Parallel(n_jobs=1)]: Using backend SequentialBackend with 1 concurrent workers.\n",
      "[Parallel(n_jobs=1)]: Done   1 out of   1 | elapsed:    0.3s remaining:    0.0s\n",
      "[Parallel(n_jobs=1)]: Done   2 out of   2 | elapsed:    0.6s remaining:    0.0s\n",
      "[Parallel(n_jobs=1)]: Done   3 out of   3 | elapsed:    1.0s remaining:    0.0s\n",
      "[Parallel(n_jobs=1)]: Done   4 out of   4 | elapsed:    1.4s remaining:    0.0s\n",
      "[Parallel(n_jobs=1)]: Done  64 out of  64 | elapsed:   23.3s finished\n"
     ]
    },
    {
     "name": "stdout",
     "output_type": "stream",
     "text": [
      "Not setting metadata\n",
      "Reading F:\\Documents\\Science\\MirRevAdaptEEG\\data\\eeg\\p012\\frn\\p012_mir_tfr-epo.fif ...\n",
      "    Found the data of interest:\n",
      "        t =   -1500.00 ...    1495.00 ms\n",
      "        0 CTF compensation matrices available\n",
      "Not setting metadata\n",
      "90 matching events found\n",
      "No baseline correction applied\n",
      "0 projection items activated\n"
     ]
    },
    {
     "name": "stderr",
     "output_type": "stream",
     "text": [
      "[Parallel(n_jobs=1)]: Using backend SequentialBackend with 1 concurrent workers.\n",
      "[Parallel(n_jobs=1)]: Done   1 out of   1 | elapsed:    0.3s remaining:    0.0s\n",
      "[Parallel(n_jobs=1)]: Done   2 out of   2 | elapsed:    0.6s remaining:    0.0s\n",
      "[Parallel(n_jobs=1)]: Done   3 out of   3 | elapsed:    1.0s remaining:    0.0s\n",
      "[Parallel(n_jobs=1)]: Done   4 out of   4 | elapsed:    1.4s remaining:    0.0s\n",
      "[Parallel(n_jobs=1)]: Done  64 out of  64 | elapsed:   23.5s finished\n"
     ]
    },
    {
     "name": "stdout",
     "output_type": "stream",
     "text": [
      "Not setting metadata\n",
      "Reading F:\\Documents\\Science\\MirRevAdaptEEG\\data\\eeg\\p013\\frn\\p013_mir_tfr-epo.fif ...\n",
      "    Found the data of interest:\n",
      "        t =   -1500.00 ...    1495.00 ms\n",
      "        0 CTF compensation matrices available\n",
      "Not setting metadata\n",
      "90 matching events found\n",
      "No baseline correction applied\n",
      "0 projection items activated\n"
     ]
    },
    {
     "name": "stderr",
     "output_type": "stream",
     "text": [
      "[Parallel(n_jobs=1)]: Using backend SequentialBackend with 1 concurrent workers.\n",
      "[Parallel(n_jobs=1)]: Done   1 out of   1 | elapsed:    0.3s remaining:    0.0s\n",
      "[Parallel(n_jobs=1)]: Done   2 out of   2 | elapsed:    0.6s remaining:    0.0s\n",
      "[Parallel(n_jobs=1)]: Done   3 out of   3 | elapsed:    1.0s remaining:    0.0s\n",
      "[Parallel(n_jobs=1)]: Done   4 out of   4 | elapsed:    1.4s remaining:    0.0s\n",
      "[Parallel(n_jobs=1)]: Done  64 out of  64 | elapsed:   23.3s finished\n"
     ]
    },
    {
     "name": "stdout",
     "output_type": "stream",
     "text": [
      "Not setting metadata\n",
      "Reading F:\\Documents\\Science\\MirRevAdaptEEG\\data\\eeg\\p014\\frn\\p014_mir_tfr-epo.fif ...\n",
      "    Found the data of interest:\n",
      "        t =   -1500.00 ...    1495.00 ms\n",
      "        0 CTF compensation matrices available\n",
      "Not setting metadata\n",
      "90 matching events found\n",
      "No baseline correction applied\n",
      "0 projection items activated\n"
     ]
    },
    {
     "name": "stderr",
     "output_type": "stream",
     "text": [
      "[Parallel(n_jobs=1)]: Using backend SequentialBackend with 1 concurrent workers.\n",
      "[Parallel(n_jobs=1)]: Done   1 out of   1 | elapsed:    0.3s remaining:    0.0s\n",
      "[Parallel(n_jobs=1)]: Done   2 out of   2 | elapsed:    0.6s remaining:    0.0s\n",
      "[Parallel(n_jobs=1)]: Done   3 out of   3 | elapsed:    1.0s remaining:    0.0s\n",
      "[Parallel(n_jobs=1)]: Done   4 out of   4 | elapsed:    1.4s remaining:    0.0s\n",
      "[Parallel(n_jobs=1)]: Done  64 out of  64 | elapsed:   23.3s finished\n"
     ]
    },
    {
     "name": "stdout",
     "output_type": "stream",
     "text": [
      "Not setting metadata\n",
      "Reading F:\\Documents\\Science\\MirRevAdaptEEG\\data\\eeg\\p015\\frn\\p015_mir_tfr-epo.fif ...\n",
      "    Found the data of interest:\n",
      "        t =   -1500.00 ...    1495.00 ms\n",
      "        0 CTF compensation matrices available\n",
      "Not setting metadata\n",
      "90 matching events found\n",
      "No baseline correction applied\n",
      "0 projection items activated\n"
     ]
    },
    {
     "name": "stderr",
     "output_type": "stream",
     "text": [
      "[Parallel(n_jobs=1)]: Using backend SequentialBackend with 1 concurrent workers.\n",
      "[Parallel(n_jobs=1)]: Done   1 out of   1 | elapsed:    0.3s remaining:    0.0s\n",
      "[Parallel(n_jobs=1)]: Done   2 out of   2 | elapsed:    0.6s remaining:    0.0s\n",
      "[Parallel(n_jobs=1)]: Done   3 out of   3 | elapsed:    1.0s remaining:    0.0s\n",
      "[Parallel(n_jobs=1)]: Done   4 out of   4 | elapsed:    1.4s remaining:    0.0s\n",
      "[Parallel(n_jobs=1)]: Done  64 out of  64 | elapsed:   25.5s finished\n"
     ]
    },
    {
     "name": "stdout",
     "output_type": "stream",
     "text": [
      "Not setting metadata\n",
      "Reading F:\\Documents\\Science\\MirRevAdaptEEG\\data\\eeg\\p016\\frn\\p016_mir_tfr-epo.fif ...\n",
      "    Found the data of interest:\n",
      "        t =   -1500.00 ...    1495.00 ms\n",
      "        0 CTF compensation matrices available\n",
      "Not setting metadata\n",
      "90 matching events found\n",
      "No baseline correction applied\n",
      "0 projection items activated\n"
     ]
    },
    {
     "name": "stderr",
     "output_type": "stream",
     "text": [
      "[Parallel(n_jobs=1)]: Using backend SequentialBackend with 1 concurrent workers.\n",
      "[Parallel(n_jobs=1)]: Done   1 out of   1 | elapsed:    0.3s remaining:    0.0s\n",
      "[Parallel(n_jobs=1)]: Done   2 out of   2 | elapsed:    0.7s remaining:    0.0s\n",
      "[Parallel(n_jobs=1)]: Done   3 out of   3 | elapsed:    1.1s remaining:    0.0s\n",
      "[Parallel(n_jobs=1)]: Done   4 out of   4 | elapsed:    1.5s remaining:    0.0s\n",
      "[Parallel(n_jobs=1)]: Done  64 out of  64 | elapsed:   23.9s finished\n"
     ]
    },
    {
     "name": "stdout",
     "output_type": "stream",
     "text": [
      "Not setting metadata\n",
      "Reading F:\\Documents\\Science\\MirRevAdaptEEG\\data\\eeg\\p017\\frn\\p017_mir_tfr-epo.fif ...\n",
      "    Found the data of interest:\n",
      "        t =   -1500.00 ...    1495.00 ms\n",
      "        0 CTF compensation matrices available\n",
      "Not setting metadata\n",
      "90 matching events found\n",
      "No baseline correction applied\n",
      "0 projection items activated\n"
     ]
    },
    {
     "name": "stderr",
     "output_type": "stream",
     "text": [
      "[Parallel(n_jobs=1)]: Using backend SequentialBackend with 1 concurrent workers.\n",
      "[Parallel(n_jobs=1)]: Done   1 out of   1 | elapsed:    0.3s remaining:    0.0s\n",
      "[Parallel(n_jobs=1)]: Done   2 out of   2 | elapsed:    0.7s remaining:    0.0s\n",
      "[Parallel(n_jobs=1)]: Done   3 out of   3 | elapsed:    1.0s remaining:    0.0s\n",
      "[Parallel(n_jobs=1)]: Done   4 out of   4 | elapsed:    1.4s remaining:    0.0s\n",
      "[Parallel(n_jobs=1)]: Done  64 out of  64 | elapsed:   23.3s finished\n"
     ]
    },
    {
     "name": "stdout",
     "output_type": "stream",
     "text": [
      "Not setting metadata\n",
      "Reading F:\\Documents\\Science\\MirRevAdaptEEG\\data\\eeg\\p018\\frn\\p018_mir_tfr-epo.fif ...\n",
      "    Found the data of interest:\n",
      "        t =   -1500.00 ...    1495.00 ms\n",
      "        0 CTF compensation matrices available\n",
      "Not setting metadata\n",
      "90 matching events found\n",
      "No baseline correction applied\n",
      "0 projection items activated\n"
     ]
    },
    {
     "name": "stderr",
     "output_type": "stream",
     "text": [
      "[Parallel(n_jobs=1)]: Using backend SequentialBackend with 1 concurrent workers.\n",
      "[Parallel(n_jobs=1)]: Done   1 out of   1 | elapsed:    0.3s remaining:    0.0s\n",
      "[Parallel(n_jobs=1)]: Done   2 out of   2 | elapsed:    0.6s remaining:    0.0s\n",
      "[Parallel(n_jobs=1)]: Done   3 out of   3 | elapsed:    1.0s remaining:    0.0s\n",
      "[Parallel(n_jobs=1)]: Done   4 out of   4 | elapsed:    1.4s remaining:    0.0s\n",
      "[Parallel(n_jobs=1)]: Done  64 out of  64 | elapsed:   23.8s finished\n"
     ]
    },
    {
     "name": "stdout",
     "output_type": "stream",
     "text": [
      "Not setting metadata\n",
      "Reading F:\\Documents\\Science\\MirRevAdaptEEG\\data\\eeg\\p019\\frn\\p019_mir_tfr-epo.fif ...\n",
      "    Found the data of interest:\n",
      "        t =   -1500.00 ...    1495.00 ms\n",
      "        0 CTF compensation matrices available\n",
      "Not setting metadata\n",
      "90 matching events found\n",
      "No baseline correction applied\n",
      "0 projection items activated\n"
     ]
    },
    {
     "name": "stderr",
     "output_type": "stream",
     "text": [
      "[Parallel(n_jobs=1)]: Using backend SequentialBackend with 1 concurrent workers.\n",
      "[Parallel(n_jobs=1)]: Done   1 out of   1 | elapsed:    0.3s remaining:    0.0s\n",
      "[Parallel(n_jobs=1)]: Done   2 out of   2 | elapsed:    0.6s remaining:    0.0s\n",
      "[Parallel(n_jobs=1)]: Done   3 out of   3 | elapsed:    1.0s remaining:    0.0s\n",
      "[Parallel(n_jobs=1)]: Done   4 out of   4 | elapsed:    1.4s remaining:    0.0s\n",
      "[Parallel(n_jobs=1)]: Done  64 out of  64 | elapsed:   23.6s finished\n"
     ]
    },
    {
     "name": "stdout",
     "output_type": "stream",
     "text": [
      "Not setting metadata\n",
      "Reading F:\\Documents\\Science\\MirRevAdaptEEG\\data\\eeg\\p020\\frn\\p020_mir_tfr-epo.fif ...\n",
      "    Found the data of interest:\n",
      "        t =   -1500.00 ...    1495.00 ms\n",
      "        0 CTF compensation matrices available\n",
      "Not setting metadata\n",
      "90 matching events found\n",
      "No baseline correction applied\n",
      "0 projection items activated\n"
     ]
    },
    {
     "name": "stderr",
     "output_type": "stream",
     "text": [
      "[Parallel(n_jobs=1)]: Using backend SequentialBackend with 1 concurrent workers.\n",
      "[Parallel(n_jobs=1)]: Done   1 out of   1 | elapsed:    0.3s remaining:    0.0s\n",
      "[Parallel(n_jobs=1)]: Done   2 out of   2 | elapsed:    0.6s remaining:    0.0s\n",
      "[Parallel(n_jobs=1)]: Done   3 out of   3 | elapsed:    1.0s remaining:    0.0s\n",
      "[Parallel(n_jobs=1)]: Done   4 out of   4 | elapsed:    1.4s remaining:    0.0s\n",
      "[Parallel(n_jobs=1)]: Done  64 out of  64 | elapsed:   23.3s finished\n"
     ]
    },
    {
     "name": "stdout",
     "output_type": "stream",
     "text": [
      "Not setting metadata\n",
      "Reading F:\\Documents\\Science\\MirRevAdaptEEG\\data\\eeg\\p021\\frn\\p021_mir_tfr-epo.fif ...\n",
      "    Found the data of interest:\n",
      "        t =   -1500.00 ...    1495.00 ms\n",
      "        0 CTF compensation matrices available\n",
      "Not setting metadata\n",
      "90 matching events found\n",
      "No baseline correction applied\n",
      "0 projection items activated\n"
     ]
    },
    {
     "name": "stderr",
     "output_type": "stream",
     "text": [
      "[Parallel(n_jobs=1)]: Using backend SequentialBackend with 1 concurrent workers.\n",
      "[Parallel(n_jobs=1)]: Done   1 out of   1 | elapsed:    0.3s remaining:    0.0s\n",
      "[Parallel(n_jobs=1)]: Done   2 out of   2 | elapsed:    0.6s remaining:    0.0s\n",
      "[Parallel(n_jobs=1)]: Done   3 out of   3 | elapsed:    1.0s remaining:    0.0s\n",
      "[Parallel(n_jobs=1)]: Done   4 out of   4 | elapsed:    1.4s remaining:    0.0s\n",
      "[Parallel(n_jobs=1)]: Done  64 out of  64 | elapsed:   24.2s finished\n"
     ]
    },
    {
     "name": "stdout",
     "output_type": "stream",
     "text": [
      "Not setting metadata\n",
      "Reading F:\\Documents\\Science\\MirRevAdaptEEG\\data\\eeg\\p022\\frn\\p022_mir_tfr-epo.fif ...\n",
      "    Found the data of interest:\n",
      "        t =   -1500.00 ...    1495.00 ms\n",
      "        0 CTF compensation matrices available\n",
      "Not setting metadata\n",
      "90 matching events found\n",
      "No baseline correction applied\n",
      "0 projection items activated\n"
     ]
    },
    {
     "name": "stderr",
     "output_type": "stream",
     "text": [
      "[Parallel(n_jobs=1)]: Using backend SequentialBackend with 1 concurrent workers.\n",
      "[Parallel(n_jobs=1)]: Done   1 out of   1 | elapsed:    0.3s remaining:    0.0s\n",
      "[Parallel(n_jobs=1)]: Done   2 out of   2 | elapsed:    0.7s remaining:    0.0s\n",
      "[Parallel(n_jobs=1)]: Done   3 out of   3 | elapsed:    1.1s remaining:    0.0s\n",
      "[Parallel(n_jobs=1)]: Done   4 out of   4 | elapsed:    1.5s remaining:    0.0s\n",
      "[Parallel(n_jobs=1)]: Done  64 out of  64 | elapsed:   24.0s finished\n"
     ]
    },
    {
     "name": "stdout",
     "output_type": "stream",
     "text": [
      "Not setting metadata\n",
      "Reading F:\\Documents\\Science\\MirRevAdaptEEG\\data\\eeg\\p023\\frn\\p023_mir_tfr-epo.fif ...\n",
      "    Found the data of interest:\n",
      "        t =   -1500.00 ...    1495.00 ms\n",
      "        0 CTF compensation matrices available\n",
      "Not setting metadata\n",
      "90 matching events found\n",
      "No baseline correction applied\n",
      "0 projection items activated\n"
     ]
    },
    {
     "name": "stderr",
     "output_type": "stream",
     "text": [
      "[Parallel(n_jobs=1)]: Using backend SequentialBackend with 1 concurrent workers.\n",
      "[Parallel(n_jobs=1)]: Done   1 out of   1 | elapsed:    0.3s remaining:    0.0s\n",
      "[Parallel(n_jobs=1)]: Done   2 out of   2 | elapsed:    0.7s remaining:    0.0s\n",
      "[Parallel(n_jobs=1)]: Done   3 out of   3 | elapsed:    1.1s remaining:    0.0s\n",
      "[Parallel(n_jobs=1)]: Done   4 out of   4 | elapsed:    1.4s remaining:    0.0s\n",
      "[Parallel(n_jobs=1)]: Done  64 out of  64 | elapsed:   24.3s finished\n"
     ]
    },
    {
     "name": "stdout",
     "output_type": "stream",
     "text": [
      "Not setting metadata\n",
      "Reading F:\\Documents\\Science\\MirRevAdaptEEG\\data\\eeg\\p024\\frn\\p024_mir_tfr-epo.fif ...\n",
      "    Found the data of interest:\n",
      "        t =   -1500.00 ...    1495.00 ms\n",
      "        0 CTF compensation matrices available\n",
      "Not setting metadata\n",
      "90 matching events found\n",
      "No baseline correction applied\n",
      "0 projection items activated\n"
     ]
    },
    {
     "name": "stderr",
     "output_type": "stream",
     "text": [
      "[Parallel(n_jobs=1)]: Using backend SequentialBackend with 1 concurrent workers.\n",
      "[Parallel(n_jobs=1)]: Done   1 out of   1 | elapsed:    0.3s remaining:    0.0s\n",
      "[Parallel(n_jobs=1)]: Done   2 out of   2 | elapsed:    0.7s remaining:    0.0s\n",
      "[Parallel(n_jobs=1)]: Done   3 out of   3 | elapsed:    1.1s remaining:    0.0s\n",
      "[Parallel(n_jobs=1)]: Done   4 out of   4 | elapsed:    1.4s remaining:    0.0s\n",
      "[Parallel(n_jobs=1)]: Done  64 out of  64 | elapsed:   24.1s finished\n"
     ]
    },
    {
     "name": "stdout",
     "output_type": "stream",
     "text": [
      "Not setting metadata\n",
      "Reading F:\\Documents\\Science\\MirRevAdaptEEG\\data\\eeg\\p025\\frn\\p025_mir_tfr-epo.fif ...\n",
      "    Found the data of interest:\n",
      "        t =   -1500.00 ...    1495.00 ms\n",
      "        0 CTF compensation matrices available\n",
      "Not setting metadata\n",
      "90 matching events found\n",
      "No baseline correction applied\n",
      "0 projection items activated\n"
     ]
    },
    {
     "name": "stderr",
     "output_type": "stream",
     "text": [
      "[Parallel(n_jobs=1)]: Using backend SequentialBackend with 1 concurrent workers.\n",
      "[Parallel(n_jobs=1)]: Done   1 out of   1 | elapsed:    0.3s remaining:    0.0s\n",
      "[Parallel(n_jobs=1)]: Done   2 out of   2 | elapsed:    0.7s remaining:    0.0s\n",
      "[Parallel(n_jobs=1)]: Done   3 out of   3 | elapsed:    1.1s remaining:    0.0s\n",
      "[Parallel(n_jobs=1)]: Done   4 out of   4 | elapsed:    1.4s remaining:    0.0s\n",
      "[Parallel(n_jobs=1)]: Done  64 out of  64 | elapsed:   24.2s finished\n"
     ]
    },
    {
     "name": "stdout",
     "output_type": "stream",
     "text": [
      "Not setting metadata\n",
      "Reading F:\\Documents\\Science\\MirRevAdaptEEG\\data\\eeg\\p026\\frn\\p026_mir_tfr-epo.fif ...\n",
      "    Found the data of interest:\n",
      "        t =   -1500.00 ...    1495.00 ms\n",
      "        0 CTF compensation matrices available\n",
      "Not setting metadata\n",
      "89 matching events found\n",
      "No baseline correction applied\n",
      "0 projection items activated\n"
     ]
    },
    {
     "name": "stderr",
     "output_type": "stream",
     "text": [
      "[Parallel(n_jobs=1)]: Using backend SequentialBackend with 1 concurrent workers.\n",
      "[Parallel(n_jobs=1)]: Done   1 out of   1 | elapsed:    0.3s remaining:    0.0s\n",
      "[Parallel(n_jobs=1)]: Done   2 out of   2 | elapsed:    0.7s remaining:    0.0s\n",
      "[Parallel(n_jobs=1)]: Done   3 out of   3 | elapsed:    1.0s remaining:    0.0s\n",
      "[Parallel(n_jobs=1)]: Done   4 out of   4 | elapsed:    1.4s remaining:    0.0s\n",
      "[Parallel(n_jobs=1)]: Done  64 out of  64 | elapsed:   24.2s finished\n"
     ]
    },
    {
     "name": "stdout",
     "output_type": "stream",
     "text": [
      "Not setting metadata\n",
      "Reading F:\\Documents\\Science\\MirRevAdaptEEG\\data\\eeg\\p027\\frn\\p027_mir_tfr-epo.fif ...\n",
      "    Found the data of interest:\n",
      "        t =   -1500.00 ...    1495.00 ms\n",
      "        0 CTF compensation matrices available\n",
      "Not setting metadata\n",
      "90 matching events found\n",
      "No baseline correction applied\n",
      "0 projection items activated\n"
     ]
    },
    {
     "name": "stderr",
     "output_type": "stream",
     "text": [
      "[Parallel(n_jobs=1)]: Using backend SequentialBackend with 1 concurrent workers.\n",
      "[Parallel(n_jobs=1)]: Done   1 out of   1 | elapsed:    0.3s remaining:    0.0s\n",
      "[Parallel(n_jobs=1)]: Done   2 out of   2 | elapsed:    0.7s remaining:    0.0s\n",
      "[Parallel(n_jobs=1)]: Done   3 out of   3 | elapsed:    1.1s remaining:    0.0s\n",
      "[Parallel(n_jobs=1)]: Done   4 out of   4 | elapsed:    1.4s remaining:    0.0s\n",
      "[Parallel(n_jobs=1)]: Done  64 out of  64 | elapsed:   23.9s finished\n"
     ]
    },
    {
     "name": "stdout",
     "output_type": "stream",
     "text": [
      "Not setting metadata\n",
      "Reading F:\\Documents\\Science\\MirRevAdaptEEG\\data\\eeg\\p028\\frn\\p028_mir_tfr-epo.fif ...\n",
      "    Found the data of interest:\n",
      "        t =   -1500.00 ...    1495.00 ms\n",
      "        0 CTF compensation matrices available\n",
      "Not setting metadata\n",
      "90 matching events found\n",
      "No baseline correction applied\n",
      "0 projection items activated\n"
     ]
    },
    {
     "name": "stderr",
     "output_type": "stream",
     "text": [
      "[Parallel(n_jobs=1)]: Using backend SequentialBackend with 1 concurrent workers.\n",
      "[Parallel(n_jobs=1)]: Done   1 out of   1 | elapsed:    0.3s remaining:    0.0s\n",
      "[Parallel(n_jobs=1)]: Done   2 out of   2 | elapsed:    0.6s remaining:    0.0s\n",
      "[Parallel(n_jobs=1)]: Done   3 out of   3 | elapsed:    1.0s remaining:    0.0s\n",
      "[Parallel(n_jobs=1)]: Done   4 out of   4 | elapsed:    1.4s remaining:    0.0s\n",
      "[Parallel(n_jobs=1)]: Done  64 out of  64 | elapsed:   24.6s finished\n"
     ]
    },
    {
     "name": "stdout",
     "output_type": "stream",
     "text": [
      "Not setting metadata\n",
      "Reading F:\\Documents\\Science\\MirRevAdaptEEG\\data\\eeg\\p029\\frn\\p029_mir_tfr-epo.fif ...\n",
      "    Found the data of interest:\n",
      "        t =   -1500.00 ...    1495.00 ms\n",
      "        0 CTF compensation matrices available\n",
      "Not setting metadata\n",
      "90 matching events found\n",
      "No baseline correction applied\n",
      "0 projection items activated\n"
     ]
    },
    {
     "name": "stderr",
     "output_type": "stream",
     "text": [
      "[Parallel(n_jobs=1)]: Using backend SequentialBackend with 1 concurrent workers.\n",
      "[Parallel(n_jobs=1)]: Done   1 out of   1 | elapsed:    0.3s remaining:    0.0s\n",
      "[Parallel(n_jobs=1)]: Done   2 out of   2 | elapsed:    0.6s remaining:    0.0s\n",
      "[Parallel(n_jobs=1)]: Done   3 out of   3 | elapsed:    1.0s remaining:    0.0s\n",
      "[Parallel(n_jobs=1)]: Done   4 out of   4 | elapsed:    1.4s remaining:    0.0s\n",
      "[Parallel(n_jobs=1)]: Done  64 out of  64 | elapsed:   23.9s finished\n"
     ]
    },
    {
     "name": "stdout",
     "output_type": "stream",
     "text": [
      "Not setting metadata\n",
      "Reading F:\\Documents\\Science\\MirRevAdaptEEG\\data\\eeg\\p030\\frn\\p030_mir_tfr-epo.fif ...\n",
      "    Found the data of interest:\n",
      "        t =   -1500.00 ...    1495.00 ms\n",
      "        0 CTF compensation matrices available\n",
      "Not setting metadata\n",
      "90 matching events found\n",
      "No baseline correction applied\n",
      "0 projection items activated\n"
     ]
    },
    {
     "name": "stderr",
     "output_type": "stream",
     "text": [
      "[Parallel(n_jobs=1)]: Using backend SequentialBackend with 1 concurrent workers.\n",
      "[Parallel(n_jobs=1)]: Done   1 out of   1 | elapsed:    0.3s remaining:    0.0s\n",
      "[Parallel(n_jobs=1)]: Done   2 out of   2 | elapsed:    0.7s remaining:    0.0s\n",
      "[Parallel(n_jobs=1)]: Done   3 out of   3 | elapsed:    1.0s remaining:    0.0s\n",
      "[Parallel(n_jobs=1)]: Done   4 out of   4 | elapsed:    1.4s remaining:    0.0s\n",
      "[Parallel(n_jobs=1)]: Done  64 out of  64 | elapsed:   23.8s finished\n"
     ]
    },
    {
     "name": "stdout",
     "output_type": "stream",
     "text": [
      "Not setting metadata\n",
      "Reading F:\\Documents\\Science\\MirRevAdaptEEG\\data\\eeg\\p031\\frn\\p031_mir_tfr-epo.fif ...\n",
      "    Found the data of interest:\n",
      "        t =   -1500.00 ...    1495.00 ms\n",
      "        0 CTF compensation matrices available\n",
      "Not setting metadata\n",
      "90 matching events found\n",
      "No baseline correction applied\n",
      "0 projection items activated\n"
     ]
    },
    {
     "name": "stderr",
     "output_type": "stream",
     "text": [
      "[Parallel(n_jobs=1)]: Using backend SequentialBackend with 1 concurrent workers.\n",
      "[Parallel(n_jobs=1)]: Done   1 out of   1 | elapsed:    0.3s remaining:    0.0s\n",
      "[Parallel(n_jobs=1)]: Done   2 out of   2 | elapsed:    0.7s remaining:    0.0s\n",
      "[Parallel(n_jobs=1)]: Done   3 out of   3 | elapsed:    1.0s remaining:    0.0s\n",
      "[Parallel(n_jobs=1)]: Done   4 out of   4 | elapsed:    1.4s remaining:    0.0s\n",
      "[Parallel(n_jobs=1)]: Done  64 out of  64 | elapsed:   23.9s finished\n"
     ]
    },
    {
     "name": "stdout",
     "output_type": "stream",
     "text": [
      "Not setting metadata\n",
      "Identifying common channels ...\n"
     ]
    }
   ],
   "source": [
    "#morlet convolution for each participant, according to trial types - POWER\n",
    "\n",
    "perturb_conds = ['aligned', 'rdm', 'rot', 'mir']\n",
    "# perturb_conds = ['aligned']\n",
    "\n",
    "for pcond in range(0, len(perturb_conds)):\n",
    "    pp_power = []\n",
    "    for pp in participants:\n",
    "        data, ppdir = load_tfr_epochs(pp_num = pp, root_dir = root, erp_path = erps, task = perturb_conds[pcond])\n",
    "        freqs, n_cycles, sfreq = set_tfr_params()\n",
    "        \n",
    "        power = mne.time_frequency.tfr_morlet(\n",
    "            data,\n",
    "            freqs=freqs,\n",
    "            n_cycles=n_cycles,\n",
    "            use_fft=False,\n",
    "            decim=1,\n",
    "            n_jobs=None,\n",
    "            return_itc = False,\n",
    "            average = False\n",
    "        )\n",
    "        #average epochs within participant first, then across participants\n",
    "        win_power = power.average()\n",
    "        pp_power.append(win_power)\n",
    "        \n",
    "    alldat = mne.grand_average(pp_power, interpolate_bads=True, drop_bads=True)\n",
    "        \n",
    "    \n",
    "    if pcond == 0:\n",
    "        output_tfr_data(root_dir = root, data = alldat, task = \"aligned\", output = \"power\")\n",
    "\n",
    "    elif pcond == 1:\n",
    "        output_tfr_data(root_dir = root, data = alldat, task = \"rdm\", output = \"power\")\n",
    "\n",
    "    elif pcond == 2:\n",
    "        output_tfr_data(root_dir = root, data = alldat, task = \"rot\", output = \"power\")\n",
    "\n",
    "    elif pcond == 3:\n",
    "        output_tfr_data(root_dir = root, data = alldat, task = \"mir\", output = \"power\")\n"
   ]
  },
  {
   "cell_type": "code",
   "execution_count": 12,
   "id": "b99c1c0a",
   "metadata": {},
   "outputs": [],
   "source": [
    "#load tfr'd data\n",
    "def load_tfr_data(root_dir, task, output):\n",
    "    # Save the tfr'd data\n",
    "    root_directory = root_dir\n",
    "    data_directory = os.path.join(root_directory, 'data/eeg/tfr_ana/%s' % (erps))\n",
    "    out_fname = os.path.join(data_directory, '%s_%s-tfr.h5' % (task, output))\n",
    "    dat = mne.time_frequency.read_tfrs(out_fname)\n",
    "    \n",
    "    return dat"
   ]
  },
  {
   "cell_type": "code",
   "execution_count": 13,
   "id": "0cc30206",
   "metadata": {},
   "outputs": [
    {
     "name": "stdout",
     "output_type": "stream",
     "text": [
      "Reading F:/Documents/Science/MirRevAdaptEEG\\data/eeg/tfr_ana/frn\\aligned_power-tfr.h5 ...\n",
      "Applying baseline correction (mode: logratio)\n",
      "Reading F:/Documents/Science/MirRevAdaptEEG\\data/eeg/tfr_ana/frn\\rdm_power-tfr.h5 ...\n",
      "Applying baseline correction (mode: logratio)\n",
      "Reading F:/Documents/Science/MirRevAdaptEEG\\data/eeg/tfr_ana/frn\\rot_power-tfr.h5 ...\n",
      "Applying baseline correction (mode: logratio)\n",
      "Reading F:/Documents/Science/MirRevAdaptEEG\\data/eeg/tfr_ana/frn\\mir_power-tfr.h5 ...\n",
      "Applying baseline correction (mode: logratio)\n"
     ]
    }
   ],
   "source": [
    "#plot average tfr for each of perturbation conditions/ trial types\n",
    "\n",
    "perturb_conds = ['aligned', 'rdm', 'rot', 'mir']\n",
    "#perturb_conds = ['aligned']\n",
    "\n",
    "for pcond in range(0, len(perturb_conds)):\n",
    "    data = load_tfr_data(root_dir=root, task = perturb_conds[pcond], output = \"power\")\n",
    "    data[0].plot(baseline=(-1.3,-1.0), mode=\"logratio\", combine='mean', tmin=-1.3, tmax=1.3, title=\"%s\" % (perturb_conds[pcond]))"
   ]
  },
  {
   "cell_type": "code",
   "execution_count": 14,
   "id": "dcb2a5db",
   "metadata": {},
   "outputs": [],
   "source": [
    "# #TOPO PLOTS of average tfr for each of perturbation conditions/ trial types\n",
    "\n",
    "# perturb_conds = ['aligned', 'rdm', 'rot', 'mir']\n",
    "# #perturb_conds = ['aligned']\n",
    "\n",
    "# for pcond in range(0, len(perturb_conds)):\n",
    "#     data = load_tfr_data(root_dir=root, task = perturb_conds[pcond], output = \"power\")\n",
    "#     data[0].plot_topo(baseline=(-1.3,-1.0), mode=\"logratio\", tmin=-1.3, tmax=1.3, title=\"%s\" % (perturb_conds[pcond]))"
   ]
  },
  {
   "cell_type": "code",
   "execution_count": 15,
   "id": "bb2d5261",
   "metadata": {},
   "outputs": [],
   "source": [
    "# #morlet convolution for each participant, according to trial types - ITC\n",
    "\n",
    "# perturb_conds = ['aligned', 'rdm', 'rot', 'mir']\n",
    "# #perturb_conds = ['aligned']\n",
    "\n",
    "# for pcond in range(0, len(perturb_conds)):\n",
    "#     #pp_power = []\n",
    "#     pp_itc = []\n",
    "#     for pp in participants:\n",
    "#         data, ppdir = load_tfr_epochs(pp_num = pp, root_dir = root, erp_path = erps, task = perturb_conds[pcond])\n",
    "#         freqs, n_cycles, sfreq = set_tfr_params()\n",
    "        \n",
    "#         power, itc = mne.time_frequency.tfr_morlet(\n",
    "#             data,\n",
    "#             freqs=freqs,\n",
    "#             n_cycles=n_cycles,\n",
    "#             use_fft=False,\n",
    "#             decim=1,\n",
    "#             n_jobs=None,\n",
    "#             return_itc = True\n",
    "#         )\n",
    "#         #pp_power.append(power)\n",
    "#         pp_itc.append(itc)\n",
    "    \n",
    "#     if pcond == 0:\n",
    "#         #output_tfr_data(root_dir = root, data = pp_power, output = 'aligned_power')\n",
    "#         output_tfr_data(root_dir = root, data = pp_itc, output = 'aligned_itc')\n",
    "#     elif pcond == 1:\n",
    "#         #output_tfr_data(root_dir = root, data = rdm_power, output = 'rdm_power')\n",
    "#         output_tfr_data(root_dir = root, data = pp_itc, output = 'rdm_itc')\n",
    "#     elif pcond == 2:\n",
    "#         #output_tfr_data(root_dir = root, data = rot_power, output = 'rot_power')\n",
    "#         output_tfr_data(root_dir = root, data = pp_itc, output = 'rot_itc')\n",
    "#     elif pcond == 3:\n",
    "#         #output_tfr_data(root_dir = root, data = mir_power, output = 'mir_power')\n",
    "#         output_tfr_data(root_dir = root, data = pp_itc, output = 'mir_itc')\n",
    "        \n",
    "    \n",
    "                \n",
    "            "
   ]
  },
  {
   "cell_type": "code",
   "execution_count": 16,
   "id": "0ee5ba04",
   "metadata": {},
   "outputs": [],
   "source": [
    "# # ONLY FOR CHECKING DATA\n",
    "# #morlet convolution for each participant, according to trial types - POWER\n",
    "# #modified version of cell above, so that we can procude tfr plots for each participant\n",
    "\n",
    "\n",
    "# # perturb_conds = ['aligned', 'rdm', 'rot', 'mir']\n",
    "# # perturb_conds = ['aligned']\n",
    "# perturb_conds = ['rot']\n",
    "\n",
    "# for pcond in range(0, len(perturb_conds)):\n",
    "#     pp_power = []\n",
    "#     for pp in participants:\n",
    "#         data, ppdir = load_tfr_epochs(pp_num = pp, root_dir = root, erp_path = erps, task = perturb_conds[pcond])\n",
    "#         freqs, n_cycles, sfreq = set_tfr_params()\n",
    "        \n",
    "#         power = mne.time_frequency.tfr_morlet(\n",
    "#             data,\n",
    "#             freqs=freqs,\n",
    "#             n_cycles=n_cycles,\n",
    "#             use_fft=False,\n",
    "#             decim=1,\n",
    "#             n_jobs=None,\n",
    "#             return_itc = False,\n",
    "#             average = False\n",
    "#         )\n",
    "#         #average epochs within participant first, then across participants\n",
    "#         win_power = power.average()\n",
    "#         pp_power.append(win_power)\n",
    "        "
   ]
  },
  {
   "cell_type": "code",
   "execution_count": 17,
   "id": "f93cb381",
   "metadata": {},
   "outputs": [],
   "source": [
    "# # FOR CHECKING DATA\n",
    "# # tfr plot for each participant, cobining all channels\n",
    "# for i in range(0, len(pp_power)):\n",
    "#     pp_power[i].plot(baseline=(-1.3,-1.0), mode=\"logratio\",combine='mean', tmin=-1.3, tmax=1.3)"
   ]
  }
 ],
 "metadata": {
  "kernelspec": {
   "display_name": "Python [conda env:mne]",
   "language": "python",
   "name": "conda-env-mne-py"
  },
  "language_info": {
   "codemirror_mode": {
    "name": "ipython",
    "version": 3
   },
   "file_extension": ".py",
   "mimetype": "text/x-python",
   "name": "python",
   "nbconvert_exporter": "python",
   "pygments_lexer": "ipython3",
   "version": "3.10.6"
  }
 },
 "nbformat": 4,
 "nbformat_minor": 5
}
