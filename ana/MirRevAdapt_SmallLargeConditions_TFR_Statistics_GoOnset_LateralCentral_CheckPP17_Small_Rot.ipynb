{
 "cells": [
  {
   "cell_type": "code",
   "execution_count": 1,
   "id": "507decf5",
   "metadata": {},
   "outputs": [],
   "source": [
    "#clear all\n",
    "%reset -f\n",
    "\n",
    "#import packages\n",
    "import numpy as np\n",
    "import scipy\n",
    "import sys\n",
    "import os\n",
    "import pandas as pd\n",
    "import mne\n",
    "import matplotlib\n",
    "import h5py\n",
    "from sklearn.utils import resample\n",
    "from mne_icalabel import label_components\n",
    "\n",
    "root = 'F:/Documents/Science/MirRevAdaptEEG'\n",
    "participants = [17]\n",
    "#specify which erp we are analyzing\n",
    "erps = 'lrp'\n",
    "roi = 'latcen'\n",
    "\n",
    "#pop up plots as separate window & interactive\n",
    "%matplotlib qt\n",
    "matplotlib.pyplot.close('all')"
   ]
  },
  {
   "cell_type": "code",
   "execution_count": 2,
   "id": "528282bb",
   "metadata": {},
   "outputs": [],
   "source": [
    "#setting up path/ directory\n",
    "#access trial type epoched data for each participant\n",
    "def load_tfr_epochs(pp_num, root_dir, erp_path, task):\n",
    "\n",
    "    root_directory = root_dir\n",
    "    data_directory = os.path.join(root_directory, 'data/eeg/')\n",
    "    id_directory = os.path.join(data_directory, 'p%03d/' % pp_num)\n",
    "    pp_directory = os.path.join(id_directory, erp_path)\n",
    "    filename = os.path.join(pp_directory, 'p%03d_%s-epo.fif' % (pp_num, task))\n",
    "\n",
    "    epochs = mne.read_epochs(filename)\n",
    "\n",
    "    return epochs, pp_directory"
   ]
  },
  {
   "cell_type": "code",
   "execution_count": 3,
   "id": "a861a854",
   "metadata": {},
   "outputs": [],
   "source": [
    "#set up parameters for time-frequency morlet convolution\n",
    "def set_tfr_params(l_freq = 6, h_freq = 35, num_freq = 50, cycle = 6, samp_rate = 200):\n",
    "    freqs = np.logspace(*np.log10([l_freq, h_freq]), num = num_freq)\n",
    "    n_cycles = cycle\n",
    "    sfreq = samp_rate\n",
    "    \n",
    "    return freqs, n_cycles, sfreq"
   ]
  },
  {
   "cell_type": "code",
   "execution_count": 4,
   "id": "882f2e4a",
   "metadata": {},
   "outputs": [],
   "source": [
    "#save tfr'd data\n",
    "def save_tfr_data(pp_num, root_dir, erp_path, data, task, output):\n",
    "    # Save the tfr'd data\n",
    "    root_directory = root_dir\n",
    "    data_directory = os.path.join(root_directory, 'data/eeg/')\n",
    "    id_directory = os.path.join(data_directory, 'p%03d/' % pp_num)\n",
    "    pp_directory = os.path.join(id_directory, erp_path)\n",
    "    out_fname = os.path.join(pp_directory, 'p%03d_%s_%s-tfr.h5' % (pp_num, task, output))\n",
    "    mne.time_frequency.write_tfrs(out_fname, tfr=data, overwrite = True)"
   ]
  },
  {
   "cell_type": "code",
   "execution_count": 5,
   "id": "ac5e19c5",
   "metadata": {},
   "outputs": [],
   "source": [
    "#load tfr'd data\n",
    "def load_tfr_data(pp_num, root_dir, erp_path, task, output):\n",
    "    # Save the tfr'd data\n",
    "    root_directory = root_dir\n",
    "    data_directory = os.path.join(root_directory, 'data/eeg/')\n",
    "    id_directory = os.path.join(data_directory, 'p%03d/' % pp_num)\n",
    "    pp_directory = os.path.join(id_directory, erp_path)\n",
    "    out_fname = os.path.join(pp_directory, 'p%03d_%s_%s-tfr.h5' % (pp_num, task, output))\n",
    "    dat = mne.time_frequency.read_tfrs(out_fname)\n",
    "    \n",
    "    return dat"
   ]
  },
  {
   "cell_type": "code",
   "execution_count": 6,
   "id": "01947705",
   "metadata": {},
   "outputs": [],
   "source": [
    "# After transforming the TFR data into a single signal representative of frequency and channels\n",
    "# we compare the two signals: same as taking their difference (signal1 minus signal2) and using this in permutation test\n",
    "def get_clust_perm_test(conditionA, conditionB, pval, n_permutations):\n",
    "    #take difference of two conditions\n",
    "    data = np.subtract(conditionA, conditionB)\n",
    "    np.shape(data)\n",
    "    #define cluster forming threshold based on p-value\n",
    "    df = len(participants) - 1\n",
    "    thresh = scipy.stats.t.ppf(1 - pval / 2, df)\n",
    "    #run cluster-based permutation test\n",
    "    T_0, clust_idx, clust_pvals, H0 = mne.stats.permutation_cluster_1samp_test(data, threshold = thresh, \n",
    "                                                          n_permutations = n_permutations, tail = 0, \n",
    "                                                          adjacency = None, seed = 999, \n",
    "                                                          out_type = 'mask', verbose = True)\n",
    "\n",
    "    return T_0, clust_idx, clust_pvals, H0"
   ]
  },
  {
   "cell_type": "code",
   "execution_count": 7,
   "id": "60269111",
   "metadata": {},
   "outputs": [
    {
     "name": "stdout",
     "output_type": "stream",
     "text": [
      "Reading F:\\Documents\\Science\\MirRevAdaptEEG\\data\\eeg\\p017\\lrp\\p017_smlerrors_rot-epo.fif ...\n",
      "    Found the data of interest:\n",
      "        t =   -2000.00 ...    1995.00 ms\n",
      "        0 CTF compensation matrices available\n",
      "Not setting metadata\n",
      "36 matching events found\n",
      "No baseline correction applied\n",
      "0 projection items activated\n"
     ]
    },
    {
     "name": "stderr",
     "output_type": "stream",
     "text": [
      "[Parallel(n_jobs=1)]: Using backend SequentialBackend with 1 concurrent workers.\n",
      "[Parallel(n_jobs=1)]: Done   1 out of   1 | elapsed:    0.1s remaining:    0.0s\n",
      "[Parallel(n_jobs=1)]: Done   2 out of   2 | elapsed:    0.3s remaining:    0.0s\n",
      "[Parallel(n_jobs=1)]: Done   3 out of   3 | elapsed:    0.5s remaining:    0.0s\n",
      "[Parallel(n_jobs=1)]: Done   4 out of   4 | elapsed:    0.7s remaining:    0.0s\n"
     ]
    },
    {
     "name": "stdout",
     "output_type": "stream",
     "text": [
      "Not setting metadata\n"
     ]
    },
    {
     "name": "stderr",
     "output_type": "stream",
     "text": [
      "[Parallel(n_jobs=1)]: Done  64 out of  64 | elapsed:   12.3s finished\n"
     ]
    }
   ],
   "source": [
    "# save average tfr per participant for each condition\n",
    "# morlet wavelet convolution for each participant, according to trial types - POWER\n",
    "\n",
    "perturb_conds = ['smlerrors_rot']\n",
    "\n",
    "for pcond in range(0, len(perturb_conds)):\n",
    "    for pp in participants:\n",
    "        data, ppdir = load_tfr_epochs(pp_num = pp, root_dir = root, erp_path = erps, task = perturb_conds[pcond])\n",
    "        \n",
    "        freqs, n_cycles, sfreq = set_tfr_params()\n",
    "        \n",
    "        #average epochs within participant\n",
    "        power = mne.time_frequency.tfr_morlet(\n",
    "            data,\n",
    "            freqs=freqs,\n",
    "            n_cycles=n_cycles,\n",
    "            use_fft=False,\n",
    "            decim=1,\n",
    "            n_jobs=None,\n",
    "            return_itc = False,\n",
    "            average = False\n",
    "        )\n",
    "        \n",
    "        save_tfr_data(pp_num = pp, root_dir = root, erp_path = erps, data = power, task = perturb_conds[pcond], output = \"trialbytrial_power\")"
   ]
  },
  {
   "cell_type": "code",
   "execution_count": 8,
   "id": "3079ab52",
   "metadata": {},
   "outputs": [
    {
     "name": "stdout",
     "output_type": "stream",
     "text": [
      "Reading F:/Documents/Science/MirRevAdaptEEG\\data/eeg/p017/lrp\\p017_smlerrors_rot_trialbytrial_power-tfr.h5 ...\n",
      "Not setting metadata\n",
      "Applying baseline correction (mode: mean)\n"
     ]
    }
   ],
   "source": [
    "# load in tfr object, ensure to baseline correct; (tfr shape is channels, freqs, timepts)\n",
    "# narrow down to channels \n",
    "# narrow down to frequencies and timepts\n",
    "# take mean of theta, alpha, or beta ranges (freqs)\n",
    "# take mean across electrodes (channels)\n",
    "\n",
    "perturb_conds = ['smlerrors_rot']\n",
    "\n",
    "# lateral central CHANNELS\n",
    "channels = ['C5', 'C3',\n",
    "            'CP5', 'CP3', 'CP1',\n",
    "            'P5', 'P3', 'P1']\n",
    "\n",
    "\n",
    "# BASELINE FOR FEEDBACK ONSET\n",
    "baseline_t = (-1.3, -1.0)\n",
    "\n",
    "# BETA\n",
    "freq_lower = 13\n",
    "freq_upper = 25\n",
    "\n",
    "\n",
    "beta_latcen_SmallRot = []\n",
    "\n",
    "\n",
    "for pcond in range(0, len(perturb_conds)):\n",
    "    for pp in participants:\n",
    "        dat = load_tfr_data(pp_num = pp, root_dir = root, erp_path = erps, task = perturb_conds[pcond], output = \"trialbytrial_power\")\n",
    "        dat = dat[0]\n",
    "        # apply baseline correction\n",
    "        dat = dat.apply_baseline(baseline_t, mode='mean')\n",
    "        # narrow down to channels\n",
    "        dat = dat.pick_channels(channels)\n",
    "        #transform to ndarray (channels, freqs, times)\n",
    "        npdat = dat.data\n",
    "\n",
    "        # get needed frequency indices\n",
    "        nfreqs = [] #get indices of frequencies we want\n",
    "        for i in range(0, len(dat.freqs)):\n",
    "            if dat.freqs[i] >= freq_lower and dat.freqs[i] <= freq_upper:\n",
    "                nfreqs.append(i)\n",
    "        npdat = npdat[:,:, nfreqs, :]\n",
    "\n",
    "        # get needed timept indices\n",
    "        ntimes = list(range(200,501))\n",
    "        npdat = npdat[:,:,:,ntimes]\n",
    "        \n",
    "        ppdat = np.mean(npdat, axis = 2) #calculate mean across frequencies\n",
    "        ppdat = np.mean(ppdat, axis = 1) # calculate mean across channels\n",
    "        ppdat = ppdat*1e12 #convert V^2 to uV^2\n",
    "        \n",
    "        beta_latcen_SmallRot.append(ppdat)\n",
    "    "
   ]
  },
  {
   "cell_type": "code",
   "execution_count": 9,
   "id": "403d5523",
   "metadata": {},
   "outputs": [
    {
     "name": "stdout",
     "output_type": "stream",
     "text": [
      "Reading F:/Documents/Science/MirRevAdaptEEG\\data/eeg/p000/lrp\\p000_small_large_aligned_power-tfr.h5 ...\n"
     ]
    }
   ],
   "source": [
    "# Get timepts to use for indices given by cluster-based permutation later and for timepts in saved data frames\n",
    "# But only grab -1.5 to 0 sec time-locked to feedback onset (idx= 100:401)\n",
    "root_directory = root\n",
    "pp = 0 #only need one participant\n",
    "\n",
    "# we can use aligned data\n",
    "dat = load_tfr_data(pp_num = pp, root_dir = root, erp_path = erps, task = 'small_large_aligned', output = \"power\")\n",
    "time = dat[0].times\n",
    "time = time[200:501] #get only timepoints we want"
   ]
  },
  {
   "cell_type": "code",
   "execution_count": 10,
   "id": "29f5d491",
   "metadata": {},
   "outputs": [],
   "source": [
    "# save tfr data across participants in each condition (used for plotting signals)\n",
    "beta_flists = [beta_latcen_SmallRot]\n",
    "\n",
    "beta_conditionnames = ['beta_smallrot']\n",
    "\n",
    "for f in range(0, len(beta_flists)):\n",
    "    df = pd.DataFrame(beta_flists[f][0]).T\n",
    "    df['time'] = time\n",
    "\n",
    "    filename = os.path.join('F:/Documents/Science/MirRevAdaptEEG/data/', 'TFR_trialpower_latcen_%s_%s.csv' % (beta_conditionnames[f], erps))\n",
    "    df.to_csv(filename)\n",
    "            "
   ]
  },
  {
   "cell_type": "code",
   "execution_count": null,
   "id": "957c1d86",
   "metadata": {},
   "outputs": [],
   "source": [
    "# Each epoch/ trial can be investigated from the csv file\n",
    "# quick inspection shows that trial 2 for participant 17, contains extreme power values in this condition\n",
    "# Remove this single trial"
   ]
  }
 ],
 "metadata": {
  "kernelspec": {
   "display_name": "Python [conda env:mne]",
   "language": "python",
   "name": "conda-env-mne-py"
  },
  "language_info": {
   "codemirror_mode": {
    "name": "ipython",
    "version": 3
   },
   "file_extension": ".py",
   "mimetype": "text/x-python",
   "name": "python",
   "nbconvert_exporter": "python",
   "pygments_lexer": "ipython3",
   "version": "3.10.6"
  }
 },
 "nbformat": 4,
 "nbformat_minor": 5
}
